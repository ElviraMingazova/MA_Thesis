{
 "cells": [
  {
   "cell_type": "markdown",
   "metadata": {},
   "source": [
    "# HowTo\n",
    "\n",
    "In this notebook there are examples on how to work with LabData, LabUtils, LabQueue etc."
   ]
  },
  {
   "cell_type": "markdown",
   "metadata": {},
   "source": [
    "## Setup\n",
    "I don't need to do all below if in the file /home/elming/.local/lib/python3.5/site-packages/easy-install.pth there are paths to respective folders:  \n",
    "- /home/elming/LabRepos/LabData\n",
    "- /home/elming/LabRepos/LabQueue\n",
    "etc.\n",
    "\n",
    "This is normally added automatically, but as I changed the name of the folder from SegalLab to LabRepos it crashed for me until I edited the file manually.\n"
   ]
  },
  {
   "cell_type": "code",
   "execution_count": 1,
   "metadata": {},
   "outputs": [],
   "source": [
    "import pandas as pd\n",
    "import numpy as np\n",
    "import os\n",
    "import sys"
   ]
  },
  {
   "cell_type": "code",
   "execution_count": 2,
   "metadata": {},
   "outputs": [],
   "source": [
    "# lab_dir = \"/home/elming/LabRepos/\"\n",
    "# sys.path.append(os.path.join(lab_dir, 'LabData'))\n",
    "# sys.path.append(os.path.join(lab_dir, 'DataUtils'))\n",
    "# sys.path.append(os.path.join(lab_dir, 'LabUtils'))\n",
    "# sys.path.append(os.path.join(lab_dir, 'LabQueue'))"
   ]
  },
  {
   "cell_type": "code",
   "execution_count": 3,
   "metadata": {},
   "outputs": [],
   "source": [
    "# from LabData.DataLoaders.BodyMeasuresLoader import BodyMeasuresLoader\n",
    "# from LabData.DataLoaders.CGMLoader import CGMLoader"
   ]
  },
  {
   "cell_type": "code",
   "execution_count": 4,
   "metadata": {},
   "outputs": [
    {
     "name": "stdout",
     "output_type": "stream",
     "text": [
      "['/usr/wisdom/python3.5.3/lib/python35.zip', '/usr/wisdom/python3.5.3/lib/python3.5', '/usr/wisdom/python3.5.3/lib/python3.5/plat-linux', '/usr/wisdom/python3.5.3/lib/python3.5/lib-dynload', '', '/home/elming/.local/lib/python3.5/site-packages', '/home/elming/LabRepos/LabData', '/home/elming/LabRepos/LabUtils', '/home/elming/LabRepos/LabQueue', '/usr/wisdom/python3.5.3/lib/python3.5/site-packages', '/usr/wisdom/python3.5.3/lib/python3.5/site-packages/IPython/extensions', '/home/elming/.ipython']\n"
     ]
    }
   ],
   "source": [
    "print(sys.path)"
   ]
  },
  {
   "cell_type": "markdown",
   "metadata": {},
   "source": [
    "This is how Erez does his imports\n",
    "```\n",
    "import LabData\n",
    "from LabData.DataLoaders.Loader import Loader\n",
    "CGMLoader = Loader.get_loader(\"CGMLoader\")\n",
    "check = CGMLoader.get_data()\n",
    "check.df\n",
    "```\n"
   ]
  },
  {
   "cell_type": "code",
   "execution_count": 5,
   "metadata": {},
   "outputs": [],
   "source": [
    "import LabData"
   ]
  },
  {
   "cell_type": "code",
   "execution_count": 6,
   "metadata": {},
   "outputs": [],
   "source": [
    "from LabData.DataLoaders.Loader import Loader"
   ]
  },
  {
   "cell_type": "code",
   "execution_count": 7,
   "metadata": {},
   "outputs": [],
   "source": [
    "cgm = Loader.get_loader(\"CGMLoader\")"
   ]
  },
  {
   "cell_type": "code",
   "execution_count": 8,
   "metadata": {},
   "outputs": [],
   "source": [
    "check = cgm.get_data()"
   ]
  },
  {
   "cell_type": "code",
   "execution_count": 9,
   "metadata": {},
   "outputs": [
    {
     "data": {
      "text/plain": [
       "<LabData.DataLoaders.Loader.LoaderData at 0x2afb55c26438>"
      ]
     },
     "execution_count": 9,
     "metadata": {},
     "output_type": "execute_result"
    }
   ],
   "source": [
    "check\n"
   ]
  },
  {
   "cell_type": "code",
   "execution_count": 10,
   "metadata": {},
   "outputs": [
    {
     "data": {
      "text/html": [
       "<div>\n",
       "<style scoped>\n",
       "    .dataframe tbody tr th:only-of-type {\n",
       "        vertical-align: middle;\n",
       "    }\n",
       "\n",
       "    .dataframe tbody tr th {\n",
       "        vertical-align: top;\n",
       "    }\n",
       "\n",
       "    .dataframe thead th {\n",
       "        text-align: right;\n",
       "    }\n",
       "</style>\n",
       "<table border=\"1\" class=\"dataframe\">\n",
       "  <thead>\n",
       "    <tr style=\"text-align: right;\">\n",
       "      <th></th>\n",
       "      <th></th>\n",
       "      <th></th>\n",
       "      <th>GlucoseValue</th>\n",
       "      <th>PPGR</th>\n",
       "    </tr>\n",
       "    <tr>\n",
       "      <th>RegistrationCode</th>\n",
       "      <th>ConnectionID</th>\n",
       "      <th>Date</th>\n",
       "      <th></th>\n",
       "      <th></th>\n",
       "    </tr>\n",
       "  </thead>\n",
       "  <tbody>\n",
       "    <tr>\n",
       "      <td rowspan=\"5\" valign=\"top\">-1</td>\n",
       "      <td rowspan=\"5\" valign=\"top\">1</td>\n",
       "      <td>2013-01-21 14:20:50+02:00</td>\n",
       "      <td>88.0</td>\n",
       "      <td>0.000000</td>\n",
       "    </tr>\n",
       "    <tr>\n",
       "      <td>2013-01-21 14:25:50+02:00</td>\n",
       "      <td>89.0</td>\n",
       "      <td>0.000000</td>\n",
       "    </tr>\n",
       "    <tr>\n",
       "      <td>2013-01-21 14:30:50+02:00</td>\n",
       "      <td>87.0</td>\n",
       "      <td>0.000000</td>\n",
       "    </tr>\n",
       "    <tr>\n",
       "      <td>2013-01-21 14:35:50+02:00</td>\n",
       "      <td>85.0</td>\n",
       "      <td>0.000000</td>\n",
       "    </tr>\n",
       "    <tr>\n",
       "      <td>2013-01-21 14:40:50+02:00</td>\n",
       "      <td>84.0</td>\n",
       "      <td>2.583333</td>\n",
       "    </tr>\n",
       "    <tr>\n",
       "      <td>...</td>\n",
       "      <td>...</td>\n",
       "      <td>...</td>\n",
       "      <td>...</td>\n",
       "      <td>...</td>\n",
       "    </tr>\n",
       "    <tr>\n",
       "      <td rowspan=\"5\" valign=\"top\">9999</td>\n",
       "      <td rowspan=\"5\" valign=\"top\">27</td>\n",
       "      <td>2013-02-09 19:37:29+02:00</td>\n",
       "      <td>75.0</td>\n",
       "      <td>NaN</td>\n",
       "    </tr>\n",
       "    <tr>\n",
       "      <td>2013-02-09 19:42:29+02:00</td>\n",
       "      <td>77.0</td>\n",
       "      <td>NaN</td>\n",
       "    </tr>\n",
       "    <tr>\n",
       "      <td>2013-02-09 19:47:29+02:00</td>\n",
       "      <td>80.0</td>\n",
       "      <td>NaN</td>\n",
       "    </tr>\n",
       "    <tr>\n",
       "      <td>2013-02-09 19:52:29+02:00</td>\n",
       "      <td>84.0</td>\n",
       "      <td>NaN</td>\n",
       "    </tr>\n",
       "    <tr>\n",
       "      <td>2013-02-09 19:57:29+02:00</td>\n",
       "      <td>87.0</td>\n",
       "      <td>NaN</td>\n",
       "    </tr>\n",
       "  </tbody>\n",
       "</table>\n",
       "<p>7749605 rows × 2 columns</p>\n",
       "</div>"
      ],
      "text/plain": [
       "                                                         GlucoseValue  \\\n",
       "RegistrationCode ConnectionID Date                                      \n",
       "-1               1            2013-01-21 14:20:50+02:00          88.0   \n",
       "                              2013-01-21 14:25:50+02:00          89.0   \n",
       "                              2013-01-21 14:30:50+02:00          87.0   \n",
       "                              2013-01-21 14:35:50+02:00          85.0   \n",
       "                              2013-01-21 14:40:50+02:00          84.0   \n",
       "...                                                               ...   \n",
       "9999             27           2013-02-09 19:37:29+02:00          75.0   \n",
       "                              2013-02-09 19:42:29+02:00          77.0   \n",
       "                              2013-02-09 19:47:29+02:00          80.0   \n",
       "                              2013-02-09 19:52:29+02:00          84.0   \n",
       "                              2013-02-09 19:57:29+02:00          87.0   \n",
       "\n",
       "                                                             PPGR  \n",
       "RegistrationCode ConnectionID Date                                 \n",
       "-1               1            2013-01-21 14:20:50+02:00  0.000000  \n",
       "                              2013-01-21 14:25:50+02:00  0.000000  \n",
       "                              2013-01-21 14:30:50+02:00  0.000000  \n",
       "                              2013-01-21 14:35:50+02:00  0.000000  \n",
       "                              2013-01-21 14:40:50+02:00  2.583333  \n",
       "...                                                           ...  \n",
       "9999             27           2013-02-09 19:37:29+02:00       NaN  \n",
       "                              2013-02-09 19:42:29+02:00       NaN  \n",
       "                              2013-02-09 19:47:29+02:00       NaN  \n",
       "                              2013-02-09 19:52:29+02:00       NaN  \n",
       "                              2013-02-09 19:57:29+02:00       NaN  \n",
       "\n",
       "[7749605 rows x 2 columns]"
      ]
     },
     "execution_count": 10,
     "metadata": {},
     "output_type": "execute_result"
    }
   ],
   "source": [
    "check.df"
   ]
  },
  {
   "cell_type": "code",
   "execution_count": null,
   "metadata": {},
   "outputs": [],
   "source": []
  }
 ],
 "metadata": {
  "kernelspec": {
   "display_name": "Python 3",
   "language": "python",
   "name": "python3"
  },
  "language_info": {
   "codemirror_mode": {
    "name": "ipython",
    "version": 3
   },
   "file_extension": ".py",
   "mimetype": "text/x-python",
   "name": "python",
   "nbconvert_exporter": "python",
   "pygments_lexer": "ipython3",
   "version": "3.5.3"
  }
 },
 "nbformat": 4,
 "nbformat_minor": 2
}
