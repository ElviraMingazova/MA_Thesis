{
 "cells": [
  {
   "cell_type": "markdown",
   "metadata": {},
   "source": [
    "# My Worklog\n"
   ]
  },
  {
   "cell_type": "markdown",
   "metadata": {},
   "source": [
    "## 28.11.2019"
   ]
  },
  {
   "cell_type": "markdown",
   "metadata": {},
   "source": [
    "### Discussion with Michal\n",
    "\n",
    "There are two different diabetes pathways: glycose rise in response to a meal and a rise in glucose levels during fasting.  \n",
    "Important can be the amount of total calories, amount of carbs eaten, type of carbs (simple sugars), food composition, the amount of fibers, how much time has passed between the previous meals, fasting time.   \n",
    "  \n",
    "There are two basic recommendations (without the usage of drugs) for people who have high glucose:\n",
    "1. Eat some carbs and fat before going to sleep (bread and butter)\n",
    "2. Do some physical activity before going to sleep\n",
    "  \n",
    "But this doesn't work well for everyone. For some people it is good to have shorter breaks between the meals, for others - larger breaks are ok. During the night the glucose of a healthy person goes down naturally and then rises to some extent in the morning because the body starts to release stored glucose to provide energy for the coming day (Glucagon hormone triggers glycogen breakdown).  In the case of the Dawn Phenomenon a person cannot release enough insulin to take the risen sugar from the blood, so he/she ends up with high fasting glucose (above 140 mg/dL).  There is also a Semogyi Effect also resulting in the high glucose, but it is due to drug management issues.  \n",
    "  \n",
    "There might be a high variance in the fasting glucose for the same person at different days. \n",
    "  \n",
    "We want to look at the CGM at night and see how it is related to the behaviour of the person the day before. I need to look at the data and see exactly how it is structured. I have to start with writing a function that goes through all the CGM data and filters out the night glucose. If bed time and wake up times are available, then I should cut according to them, if not - some default times like between 1 a.m. and 7 a.m."
   ]
  },
  {
   "cell_type": "markdown",
   "metadata": {},
   "source": [
    "### CGM statistics\n",
    "\n",
    "I also need a function that will return some statistics on the CGM:\n",
    "- min and max values\n",
    "- median glucose\n",
    "- variance in glucose levels\n",
    "- metrics: iAUC, MAGE, CV"
   ]
  },
  {
   "cell_type": "markdown",
   "metadata": {},
   "source": [
    "### Done today: \n",
    "- Discussion of the project ideas\n",
    "- Got familiar with DataLoaders, fixed a bug (inside site_packages/easy_install.pth), now I can load dataframes without any problems\n",
    "- Started a new [repository](https://github.com/ElviraMingazova/MA_Thesis.git) on GitHub for my master's thesis"
   ]
  },
  {
   "cell_type": "markdown",
   "metadata": {},
   "source": [
    "### To do:\n",
    "- Ask questions below\n",
    "- Get familiar with the CGM data, try to filter, look at some statistics"
   ]
  },
  {
   "cell_type": "markdown",
   "metadata": {},
   "source": [
    "Questions:\n",
    "- How and when to create and activate virtual environment\n",
    "- How to open two windows side by side"
   ]
  },
  {
   "cell_type": "markdown",
   "metadata": {},
   "source": [
    "## 2.12.2019"
   ]
  },
  {
   "cell_type": "markdown",
   "metadata": {},
   "source": [
    "### Done today: \n",
    "1. Learned about multiindex\n",
    "2. Created a function that filters the cgm data by time (between hours)"
   ]
  },
  {
   "cell_type": "markdown",
   "metadata": {},
   "source": [
    "### To do:\n",
    "1. Discuss the function with Dima, edit and eventually add it to the loader\n",
    "2. Find the data on sleep/wake up time, figure out the intersept of the night time of most of the people\n",
    "3. Read the paper and discuss with Michal"
   ]
  },
  {
   "cell_type": "markdown",
   "metadata": {},
   "source": [
    "The paper to read: https://www.ncbi.nlm.nih.gov/pmc/articles/PMC3836163/"
   ]
  },
  {
   "cell_type": "markdown",
   "metadata": {},
   "source": [
    "## 3.12.2019"
   ]
  },
  {
   "cell_type": "markdown",
   "metadata": {},
   "source": [
    "A paper expressing the CGM - values for people with normal glucose tolerance and with diabetes: https://www.ncbi.nlm.nih.gov/pubmed/18473688"
   ]
  },
  {
   "cell_type": "markdown",
   "metadata": {},
   "source": [
    "RESULTS:\n",
    "Sixty-two subjects completed the study, employing CGM for 28 +/- 4 days averaging 99 +/- 18 (range, 33-125) readings per day. NGT subjects (n = 32) had a mean CGM of 102 +/- 7 mg/dL, ranging between 94 and 117 mg/dL and averaging 105 +/- 8 mg/dL daytime and 97 +/- 6 mg/dL overnight. Glucose variability, as expressed by the interquartile range, was 21 +/- 4 mg/dL (range, 14-29 mg/dL). Stability in glycemic control (hourly change in the median) for NGT subjects averaged 3 +/- 1 mg/dL/h. Subjects with diabetes (n = 30) were significantly higher on all glycemic characteristics with the exception of the percentage of hypoglycemic (CGM <70 mg/dL) episodes for type 2 diabetes (2.9%), compared to 2.7% for subjects with NGT."
   ]
  },
  {
   "cell_type": "markdown",
   "metadata": {},
   "source": [
    "Ambulatory Glucose Profile (AGP)\n",
    "Good article explaining the measures like glucose excursion, glycemic exposure, glucose variability https://diabetes.diabetesjournals.org/content/62/5/1398\n",
    "\n",
    "Glucose exposure = podverganie vozdejstviju gllucosy"
   ]
  },
  {
   "cell_type": "markdown",
   "metadata": {},
   "source": [
    "#### \\*args and \\*kwargs usage\n",
    "\n",
    "\\*args can be really useful, because it allows you to pass a varying number of positional arguments. (\\*) is an unpacking operator \n",
    "\n",
    "```python\n",
    "# sum_integers_args.py\n",
    "def my_sum(*args):\n",
    "    result = 0\n",
    "    # Iterating over the Python args tuple\n",
    "    for x in args:\n",
    "        result += x\n",
    "    return result\n",
    "\n",
    "print(my_sum(1, 2, 3))\n",
    "```"
   ]
  },
  {
   "cell_type": "markdown",
   "metadata": {},
   "source": [
    "\\**kwargs works just like *args, but instead of accepting positional arguments it accepts keyword (or named) arguments. Take the following example:\n",
    "```python\n",
    "# concatenate.py\n",
    "def concatenate(**kwargs):\n",
    "    result = \"\"\n",
    "    # Iterating over the Python kwargs dictionary\n",
    "    for arg in kwargs.values():\n",
    "        result += arg\n",
    "    return result\n",
    "\n",
    "print(concatenate(a=\"Real\", b=\"Python\", c=\"Is\", d=\"Great\", e=\"!\"))\n",
    "```\n",
    "```for arg in kwargs``` would iterate over the keys"
   ]
  },
  {
   "cell_type": "markdown",
   "metadata": {},
   "source": [
    "### Done today: \n",
    "1. Read the paper\n",
    "2. Started creating a loader for sleep data\n",
    "3. Learned some of the Python debugging mode"
   ]
  },
  {
   "cell_type": "markdown",
   "metadata": {},
   "source": [
    "### To do:\n",
    "1. Try to walk through the DietLoggingLoader in Debug mode\n",
    "2. Try to generate some statistics on the night CGM\n",
    "3. Read about testing in Pycharm"
   ]
  },
  {
   "cell_type": "markdown",
   "metadata": {},
   "source": [
    "## 3.12.2019"
   ]
  },
  {
   "cell_type": "markdown",
   "metadata": {},
   "source": [
    "### Done today: \n",
    "1. GitHub ssh connection setup\n",
    "2. Getting familiar with data loaders and functions\n",
    "3. Got two tables: cgm and sleepwakeup"
   ]
  },
  {
   "cell_type": "markdown",
   "metadata": {},
   "source": [
    "### To do:\n",
    "1. Try to summarize some information on cgms in PNP3"
   ]
  },
  {
   "cell_type": "markdown",
   "metadata": {},
   "source": [
    "## 4.12.2019"
   ]
  },
  {
   "cell_type": "markdown",
   "metadata": {},
   "source": [
    "### Heatmap\n",
    "1. Choose some metrics for CGM and write functions to compute them per person per day.\n",
    "    - SD\n",
    "    - CV (Coefficient of variation). The coefficient of variation (CV) is defined as the ratio of the standard deviation to the mean. It shows the extent of variability in relation to the mean of the population.\n",
    "    - Mage (Mean amplitude of glucose excursions)\n",
    "2. Make a heatmap  \n",
    "    y-axis: Person  \n",
    "    x-axis: Day  \n",
    "    colorcode: fluctuation metric  \n"
   ]
  },
  {
   "cell_type": "markdown",
   "metadata": {},
   "source": [
    "[International Consensus on Use of Continuous Glucose Monitoring](https://care.diabetesjournals.org/content/40/12/1631)  \n",
    "- SD, coefficient of variation (CV), and mean amplitude of glucose excursions are widely used to quantify glycemic variability. The CV (which is the SD divided by the mean) has the advantage of being a metric relative to the mean, which makes it more descriptive of hypoglycemic excursions than the SD alone. For example, a population with a mean glucose of 150 mg/dL and an SD of 60 would have a CV of 40%.\n",
    "\n",
    "- Stable glucose levels are defined as a CV <36%, and unstable glucose levels are defined as CV ≥36%"
   ]
  },
  {
   "cell_type": "markdown",
   "metadata": {},
   "source": [
    "**Measures of GV** https://www.liebertpub.com/doi/full/10.1089/dia.2016.0146  \n",
    "  \n",
    "We computed 13 measures of GV using EasyGV (v8.8.2.R2) software. Evaluated GV measures included standard deviation (SD), coefficient of variation (CV), mean amplitude of glycemic excursions (MAGE), continuous overall net glycemic action (CONGA), mean of daily differences (MODD), lability index (LI), and mean absolute glucose change per unit time (MAG), glycemic risk assessment diabetes equation (GRADE), M-value, average daily risk range (ADRR), J-Index, low blood glucose index (LBGI), and high blood glucose index (HBGI). GRADE score is also reported as %GRADEhypoglycemia, %GRADEeuglycemia, and %GRADEhyperglycemia representing percentages of GRADE scores attributable to glucose values <3.9 mmol/L, and between 3.9–7.8 mmol/L and >7.8 mmol/L, respectively. EasyGV is a Microsoft Excel workbook that has a number of options to define the sampling interval, CONGA length, LI interval, reference value of M-value, and whether SMBG or CGM is used for MAGE calculation.16 A description of the GV measures, formulae used for their calculations, and a critical review of their limitations is described elsewhere.6,17"
   ]
  },
  {
   "cell_type": "markdown",
   "metadata": {},
   "source": [
    "**SDBG**:\tStandard deviation of blood glucose  \n",
    "**Mean amplitude of glycemic excursions** is a measure of glycemic variability that calculates changes in blood glucose that exceed multiples of the standard deviation, and that are in hypoglycemic and hyperglycemic values. It is based on the number of glycemic excursions, using glucose values that are above or below the limits of hypoglycemia and hyperglycemia."
   ]
  },
  {
   "cell_type": "markdown",
   "metadata": {},
   "source": [
    "## 9.12.2019"
   ]
  },
  {
   "cell_type": "markdown",
   "metadata": {},
   "source": [
    "### Done today: \n",
    "1. Wrote code for calculating SD and CV\n",
    "2. Researched MAGE"
   ]
  },
  {
   "cell_type": "markdown",
   "metadata": {},
   "source": [
    "## 10.12.2019"
   ]
  },
  {
   "cell_type": "markdown",
   "metadata": {},
   "source": [
    "### Done today: \n",
    "1. Wrote a draft of a function for calculating MAGE\n",
    "2. Implementing calculation through R in Python with Dima"
   ]
  },
  {
   "cell_type": "markdown",
   "metadata": {},
   "source": [
    "### To do:\n",
    "- Review the edited code on mage calculation\n",
    "- Make a heatmap on different statistics"
   ]
  },
  {
   "cell_type": "markdown",
   "metadata": {},
   "source": [
    "## 11.12.2019"
   ]
  },
  {
   "cell_type": "markdown",
   "metadata": {},
   "source": [
    "### Done today: \n",
    "1. Fixed the problem with activating a virtual environment from Dima /net/mraid08/export/jafar/Microbiome/Analyses/dkolobok/opt/miniconda3/envs/labdata (installed anaconda3 in my /home/elming/anaconda3 directory)\n",
    "2. Fixed the issue of not being able to import LabData etc. in python:\n",
    "conda-develop /home/elming/LabRepos/LabData to add the module which creates a .pth file [(thread)](https://stackoverflow.com/questions/37006114/anaconda-permanently-include-external-packages-like-in-pythonpath)\n",
    "2. Scholarship issues"
   ]
  },
  {
   "cell_type": "markdown",
   "metadata": {},
   "source": [
    "### To do:\n",
    "- Make list of lists for the z column in the heatmap\n",
    "- Take a look at the shared code for the MAGE calculation\n",
    "- Look at foodlog data"
   ]
  },
  {
   "cell_type": "markdown",
   "metadata": {},
   "source": [
    "## 12.12.2019"
   ]
  },
  {
   "cell_type": "markdown",
   "metadata": {},
   "source": [
    "Working with environments: \n",
    "```bash\n",
    "conda activate /net/mraid08/export/jafar/Microbiome/Analyses/dkolobok/opt/miniconda3/envs/labdata\n",
    "```\n",
    "```\n",
    "which python\n",
    "```\n",
    "```\n",
    "pip install -e path/to/LabData\n",
    "```"
   ]
  },
  {
   "cell_type": "markdown",
   "metadata": {},
   "source": [
    "### Done today: \n",
    "1. Fixing environment problems\n",
    "2. Created heatmaps, wrote respective functions for stats generations\n",
    "2. Discussion with Michal and with Erez"
   ]
  },
  {
   "cell_type": "markdown",
   "metadata": {},
   "source": [
    "Discussion with Michal: \n",
    "- generate a heatmap separately for main and control arm\n",
    "- age: <55 and >55\n",
    "- A1C >6 and <6\n",
    "- Fasting glucose improved and not improved"
   ]
  },
  {
   "cell_type": "markdown",
   "metadata": {},
   "source": [
    "## 15.12.2019"
   ]
  },
  {
   "cell_type": "markdown",
   "metadata": {},
   "source": [
    "Technical:\n",
    "- my Linux distribution \n",
    "```bash\n",
    "uname -a\n",
    "Linux genie40.mcl2.weizmann.ac.il 3.10.0-514.2.2.el7.x86_64 #1 SMP Tue Dec 6 23:06:41 UTC 2016 x86_64 x86_64 x86_64 GNU/Linux\n",
    "```\n",
    "- open a pdf \n",
    "```bash\n",
    "xdg-open Software\\ instruction\\ manual.pdf\n",
    "```\n",
    "- if Notebook doesn't import installed packages - the problem is in the active kernel. I installed new ipython kernel\n",
    "\n",
    "```bash\n",
    "python3 -m pip install ipykernel\n",
    "python3 -m ipykernel install --user\n",
    "```\n",
    "- Which kernel is active you can see using\n",
    "\n",
    "```python\n",
    "sys.executable\n",
    "sys.path\n",
    "!jupyter kernelspec list\n",
    "```\n",
    "- The git fetch command downloads commits, files, and refs from a remote repository into your local repo. Fetching is what you do when you want to see what everybody else has been working on. \n"
   ]
  },
  {
   "cell_type": "markdown",
   "metadata": {},
   "source": [
    "## 16.12.2019"
   ]
  },
  {
   "cell_type": "markdown",
   "metadata": {},
   "source": [
    "Finally, the MAGE calculation is working. Calculating it for PNP3. ow does it handle 24 hours? "
   ]
  },
  {
   "cell_type": "markdown",
   "metadata": {},
   "source": [
    "To do:\n",
    "- check how does MAGE calculation handle 24 hours\n",
    "- format the DataFrame with MAGE-results appropriately\n",
    "- sort the registration codes according to the number of connection days"
   ]
  },
  {
   "cell_type": "markdown",
   "metadata": {},
   "source": [
    "## 17.12.2019"
   ]
  },
  {
   "cell_type": "markdown",
   "metadata": {},
   "source": [
    "24-hours handling:\n",
    "For each day there is a new value of mage. \n",
    "Paper om MAGE https://pdfs.semanticscholar.org/0bde/86bee9006f67cbced41e18bdfcb986148cc2.pdf"
   ]
  },
  {
   "cell_type": "markdown",
   "metadata": {},
   "source": [
    "### Done:\n",
    "- reformatted mage calculation results\n",
    "- edited the function in PyCharm (group by only RC)"
   ]
  },
  {
   "cell_type": "markdown",
   "metadata": {},
   "source": [
    "### To do:\n",
    "- finish working on the function and commit changes (discuss with Dima)\n",
    "- I should also try to calculate mage on shorter timeframes (for the night as an example)\n",
    "- see how MAGE has improved for the main and control arm (ask Nastya how to check this)\n",
    "- sort the registration codes sorted on the number of connection days"
   ]
  },
  {
   "cell_type": "markdown",
   "metadata": {},
   "source": [
    "## 18.12.2019\n",
    "\n",
    "- Function for the Mage calculation added to LabData\n",
    "- Performed an analysis of how did mage change between the profiling and during intervention for PNP3 participants"
   ]
  },
  {
   "cell_type": "markdown",
   "metadata": {},
   "source": [
    "### To do:\n",
    "- Do the MAGE analysis on the type2 diabetes"
   ]
  },
  {
   "cell_type": "markdown",
   "metadata": {},
   "source": [
    "## 19.12.2019\n",
    "\n",
    "- Sent the mage tables for PNP3to Nastya \n",
    "- Created my new environment called mylabdata following this [link](https://uoa-eresearch.github.io/eresearch-cookbook/recipe/2014/11/20/conda/)\n",
    "- Calculated MAGE for T2D, the difference between main and control arm is significant.\n",
    "\n",
    "Learned today:\n",
    "- A good article about envs, managing packages and channels [here](https://www.freecodecamp.org/news/why-you-need-python-environments-and-how-to-manage-them-with-conda-85f155f4353c/)\n",
    "- Another one https://towardsdatascience.com/a-guide-to-conda-environments-bc6180fc533?#c010\n",
    "- create a softlink ln -s"
   ]
  },
  {
   "cell_type": "markdown",
   "metadata": {},
   "source": [
    "### To do:\n",
    "- Plan what to look at for the study of the night CGM"
   ]
  },
  {
   "cell_type": "markdown",
   "metadata": {},
   "source": [
    "## 22.12.2019\n",
    "\n",
    "- Plotted the graphs with the mean MAGE per day for T2D study. Interestingly there are some people who's MAGE values are constantly higher on the main diet compared to the control. Looking closer at a single participant we saw that the person has increased the number of lows on the main diet. Maybe I could consider looking at the hmage instead of an average between lmage and hmage. Read more about it in the literature. \n",
    "- I could also add to the graph the absolute value of a time above 140"
   ]
  },
  {
   "cell_type": "markdown",
   "metadata": {},
   "source": [
    "### To do:\n",
    "- Look only at the night CGM\n",
    "- How does the night CGM mage correlate with the mage of the day before?\n"
   ]
  },
  {
   "cell_type": "markdown",
   "metadata": {},
   "source": [
    "## 23.12.2019\n",
    "- GDM_mage calculation and visualization with histograms and boxplots"
   ]
  },
  {
   "cell_type": "markdown",
   "metadata": {},
   "source": [
    "## 24.12.2019\n",
    "- Set up env for Michal\n",
    "- CGM meeting\n",
    "- doing a Heatmap for Michal on GDM data"
   ]
  },
  {
   "cell_type": "markdown",
   "metadata": {},
   "source": [
    "## 8 - 11.01.2020"
   ]
  },
  {
   "cell_type": "markdown",
   "metadata": {},
   "source": [
    "I started to work on the night CGM project. First thing I want to do is to see whether there is a correlation between the cgm during the day and during the night. I can look at the correlation between the MAGE values. The tricky question here is how to define the night? I could start with a primitive definition of the night as between the hours 1 a.m. and 6 a.m. But I am not expecting nice results, if I do so, because people sleep differently and we need to take the \"true\" night in order to be correct."
   ]
  },
  {
   "cell_type": "markdown",
   "metadata": {},
   "source": [
    "The night can be defined using the sleep data and using the food log if the sleep data is not available. "
   ]
  },
  {
   "cell_type": "markdown",
   "metadata": {},
   "source": [
    "I want to start developing an analysis pipeline by looking at the relatively small type 2 diabetes dataset. I want to be able to visualize CGM together with food log info and sleep/wake up time as border lines. Then I can manually look at the data and asses amount of mistakes and noise in it. I can decide how to define the night best. "
   ]
  },
  {
   "cell_type": "markdown",
   "metadata": {},
   "source": [
    "### To do:\n",
    "- Check if it is really the case that the logs are not available for all the dates where we have CGM - no, I had a mistake in my filtering\n",
    "- Work in PyCharm to make your visualization of CGM + Log + sleep/wake up times so that you can ask Dima for help"
   ]
  },
  {
   "cell_type": "markdown",
   "metadata": {},
   "source": [
    "## 12.01.2020"
   ]
  },
  {
   "cell_type": "markdown",
   "metadata": {},
   "source": [
    "The function that plots food log and cgm together is now ready to use. I need to figure out how to best query correct cgm and log entries for a specific person, so that the dates are the same. Also I want to add sleep and wake up data to the plot. "
   ]
  },
  {
   "cell_type": "markdown",
   "metadata": {},
   "source": [
    "## 13.01.2020"
   ]
  },
  {
   "cell_type": "markdown",
   "metadata": {},
   "source": [
    "- Added remote disk \n",
    "- Sleep loader is ready to use"
   ]
  },
  {
   "cell_type": "markdown",
   "metadata": {},
   "source": [
    "## 14.01.2020"
   ]
  },
  {
   "cell_type": "markdown",
   "metadata": {},
   "source": [
    "- struggling with PyCharm that was hanging on debug (collecting data), hence reinstalled it into new location. Can be opened through \"sh /home/elming/opt/pycharm-anaconda-2019.3.1/bin/pycharm.sh &\". I also created an alias for it, but not in the .cshrc file, just from the Terminal. \n",
    "- started working on the function that filters the cgm for the night."
   ]
  },
  {
   "cell_type": "markdown",
   "metadata": {},
   "source": [
    "## 15.01.2020"
   ]
  },
  {
   "cell_type": "markdown",
   "metadata": {},
   "source": [
    "- Cool command, if I want to add a column to the index without reseting:\n",
    "```python\n",
    "df.set_index(['d'], append=True)\n",
    "```\n",
    "- started working on the get_night_cgm function"
   ]
  },
  {
   "cell_type": "markdown",
   "metadata": {},
   "source": [
    "## 16.01.2020"
   ]
  },
  {
   "cell_type": "markdown",
   "metadata": {},
   "source": [
    "- finished the first version of the get_night_cgm function"
   ]
  },
  {
   "cell_type": "markdown",
   "metadata": {},
   "source": [
    "## 19 and 20.01.2020"
   ]
  },
  {
   "cell_type": "markdown",
   "metadata": {},
   "source": [
    "- Edited and finished the get_night_cgm function\n",
    "- Learned about merge_asof method\n",
    "- Edited SleepLoader and merged into master"
   ]
  },
  {
   "cell_type": "markdown",
   "metadata": {},
   "source": [
    "ToDo:  \n",
    "- make the mage calculation and other statistics for the night possible\n",
    "- write an email to Eran about the project discussion"
   ]
  },
  {
   "cell_type": "markdown",
   "metadata": {},
   "source": [
    "## 21.01.2020"
   ]
  },
  {
   "cell_type": "markdown",
   "metadata": {},
   "source": [
    "- Found a bug in the get_night_cgm function\n",
    "- Need to make more strict restrictions on the sleep data\n",
    "- Visualized sleep and wake up time distribution plus the duration of sleep histogram"
   ]
  },
  {
   "cell_type": "markdown",
   "metadata": {},
   "source": [
    "## 22.01.2020"
   ]
  },
  {
   "cell_type": "markdown",
   "metadata": {},
   "source": [
    "Updated get_night_cgm, filter_for_night_cgm an calculate_mage functions. Also now I can correctly calculate mage for the night.\n",
    "I should write a function that shifts the night to one day in the SleepLoader."
   ]
  },
  {
   "cell_type": "markdown",
   "metadata": {},
   "source": [
    "Also I need to make a better plot of a distribution of sleep and wakeup times"
   ]
  },
  {
   "cell_type": "markdown",
   "metadata": {},
   "source": [
    "## 23.01.2020"
   ]
  },
  {
   "cell_type": "markdown",
   "metadata": {},
   "source": [
    "A paper about a sofware that calculates glucose variability parameters from cgm\n",
    "\n",
    "https://www.researchgate.net/publication/275357008_Evaluation_of_an_open_access_software_for_calculating_glucose_variability_parameters_of_a_continuous_glucose_monitoring_system_applied_at_pediatric_intensive_care_unit"
   ]
  },
  {
   "cell_type": "markdown",
   "metadata": {},
   "source": [
    "R package that calculates mage Oct 2019\n",
    "https://cran.r-project.org/web/packages/cgmanalysis/cgmanalysis.pdf "
   ]
  },
  {
   "cell_type": "markdown",
   "metadata": {},
   "source": [
    "It should be noted that the answer for MAGE is affected by the length of observation intervals, such that the deviation for 15-, 30-, or 60-min intervals compared with the 5-min values is 0.54 +- 1.49 (P=0.685), 3.78 +- 2.56 (P=0.151),and 4.86 +- 2.37 (P=0.046) (mg/dL, mean +- SE), respectively. "
   ]
  },
  {
   "cell_type": "markdown",
   "metadata": {},
   "source": [
    "I learned how mage value was originally calculated using a graphical method, but I couldn't reproduce the results that my function is calculating for a specific participant '579543' on the day 2018-07-15 (night mage). "
   ]
  },
  {
   "cell_type": "markdown",
   "metadata": {},
   "source": [
    "I want to understand exactly how my function does the calculation. Maybe I should try to apply the python function that Nastya used"
   ]
  },
  {
   "cell_type": "markdown",
   "metadata": {},
   "source": [
    "## 25.01.2020\n",
    "\n",
    "My mage function as well as the function in python do not calculate the original mage that was defined by Service et.al."
   ]
  },
  {
   "cell_type": "markdown",
   "metadata": {},
   "source": [
    "## 26.01.2020\n",
    "Starting on a new direction with the main goal of searching for ways to reduce the fasting glucose. "
   ]
  },
  {
   "cell_type": "markdown",
   "metadata": {},
   "source": [
    "I want to predict fasting glucose from the night cgm glucose values, so I have to:\n",
    "1. Calculate the fasting glucose as an average of 3-4 timestamps values before the first meal\n",
    "    (maybe look at how various is this value within the same person)\n",
    "2. Prepare a matrix with 24 entries per person for the night (within the interval of 6 hours that is 1 hour apart from the fasting glucose timestamps)\n",
    "3. Predict 1 from 2"
   ]
  },
  {
   "cell_type": "markdown",
   "metadata": {},
   "source": [
    "## 27.01.2020\n",
    "- prepared the x values and the target fasting glucose, tomorrow will run predictions"
   ]
  },
  {
   "cell_type": "markdown",
   "metadata": {},
   "source": [
    "## 28-29.01.2020\n",
    "- predictions on the 20 night timepoints are ready, but if I take only the correlation between the fasting glucose and the 20th timepoint from the night I get 0,78 correlation coefficient, need to check this tomorrow and analyse the intrapersonal variability of the fasting glucose levels."
   ]
  },
  {
   "cell_type": "markdown",
   "metadata": {},
   "source": [
    "## 30.01.2020\n",
    "- I have to debug the fasting glucose calculation for 10K cohort and look at the variability, compare it with pnp3 cohort\n",
    "- write an email to Eran"
   ]
  },
  {
   "cell_type": "markdown",
   "metadata": {},
   "source": [
    "## 2.02.2020\n",
    "\n",
    "- I have to debug the fasting glucose calculation for 10K cohort and look at the variability, compare it with pnp3 cohort - **check**\n",
    "- write an email to Eran - **check**\n",
    "\n",
    "Variability on the 10 K cohort was assessed using far less days of connection, so it is less trustable than PNP3 estimates."
   ]
  },
  {
   "cell_type": "markdown",
   "metadata": {},
   "source": [
    "Tomorrow I want to make a predictor for the fasting glucose from the diet. Use two approaches: \n",
    "1. 3 3 hours long windows from the day before\n",
    "2. last meal, time of the last meal, two last meals, number of snacks in between small meals, all meals"
   ]
  },
  {
   "cell_type": "markdown",
   "metadata": {},
   "source": [
    "Today I found an amazing article on the subplot management [here](http://jonathansoma.com/lede/algorithms-2017/classes/fuzziness-matplotlib/how-pandas-uses-matplotlib-plus-figures-axes-and-subplots/)\n",
    "and here on [how to change the title](https://matplotlib.org/gallery/subplots_axes_and_figures/figure_title.html)\n"
   ]
  },
  {
   "cell_type": "markdown",
   "metadata": {},
   "source": [
    "## 3.02.2020"
   ]
  },
  {
   "cell_type": "markdown",
   "metadata": {},
   "source": [
    "#### Thoughts to discuss\n",
    "- I think I need to distinguish between the wake up glucose and the fasting glucose. I could try to predict both using slightly different features.\n",
    "- How can I better estimate the fasting glucose making sure that there is no error in the time log of the breakfast? Glucose peaks before a person has eaten something.\n",
    "- I can try to estimate the wake up glucose for those people who logged their sleep and predict it using night hours and food log separately and all together.\n",
    "- Maybe I could add duration of meals as a feature.\n",
    "- What if the association between the food and FG value is personalized? For example, for one person high levels of caffeine will result in higher fasting glucose the day after and for a different person not.\n",
    "- Maybe it is not correct to make the matrix of diet data. In my approach feature lunch mixes data for someones breakfasts (because a person starts eating late) and lunch. \n",
    "- I could include number of meals per day as feature, but for that I will need to combine the meals that are less than 30(?) min away from one another"
   ]
  },
  {
   "cell_type": "markdown",
   "metadata": {},
   "source": [
    "Good analysis of different [scaling methods](https://towardsdatascience.com/normalization-vs-standardization-quantitative-analysis-a91e8a79cebf)"
   ]
  },
  {
   "cell_type": "markdown",
   "metadata": {},
   "source": [
    "Today I prepared the diet data for predictions. I have a matrix of 30 values: 5 time ranges x 6 features. Tomorrow I can do all the predictions."
   ]
  },
  {
   "cell_type": "markdown",
   "metadata": {},
   "source": [
    "## 4.02.2020"
   ]
  },
  {
   "cell_type": "markdown",
   "metadata": {},
   "source": [
    "today I tested two approaches for FG prediction from the diet data. I only could reach around 4% of r2. Interesting, if I add new features to the night glucose values will I be able to improve the results?"
   ]
  },
  {
   "cell_type": "markdown",
   "metadata": {},
   "source": [
    "## 6.02.2020"
   ]
  },
  {
   "cell_type": "markdown",
   "metadata": {},
   "source": [
    "In the combined dataset I got 65% explained variance which is only 1% better than what I got from the night cgm data. It seems that there is no improvement of the model. Does it make sense to study individual associations between the food and the diet?"
   ]
  },
  {
   "cell_type": "markdown",
   "metadata": {},
   "source": [
    "## 9.02.2020"
   ]
  },
  {
   "cell_type": "markdown",
   "metadata": {},
   "source": [
    "Talked to Eran. Points discussed and things to do further:\n",
    "1. Concentrate on 10K and PNP3 \n",
    "1. Revisit the way fasting glucose was estimated: take values between 6 and 7 unless people reported that they already ate. Don't forget to check for the fasting period of at least 8 hours. \n",
    "    - Also always work with adjusted glucose values (ask Dima or Nastya)\n",
    "2. Instead of predicting absolute value of the estimated fasting glucose we predict the deviation from the mean from the difference in the log for this day minus the mean log value. Elaborate on the exact method.\n",
    "3. Do correlation tests between fg levels and features of the diet log within same person.\n",
    "5. Fourier transform. Concatenate the whole adjusted cgm for one person and do fourier transform. Then also take only the night between midnight and 6 am and do the same\n",
    "4. Night CGM: study the variability of the night (coefficient of variation). I can also predict CV of the night from the same diet and lifestyle features. "
   ]
  },
  {
   "cell_type": "markdown",
   "metadata": {},
   "source": [
    "Talked to Dima. I know now where is the file with adjusted data. I should start with a distribution of the glucose levels at different hours of the day.  "
   ]
  },
  {
   "cell_type": "markdown",
   "metadata": {},
   "source": [
    "## 10.02.2020"
   ]
  },
  {
   "cell_type": "markdown",
   "metadata": {},
   "source": [
    "Talked to Michal, she wants to see if the breakfast is predictive for the daily glucose mean.\n",
    "- Made  heatmaps for median glucose per person per hour of the day and its standard deviation."
   ]
  },
  {
   "cell_type": "markdown",
   "metadata": {},
   "source": [
    "## 11.02.2020"
   ]
  },
  {
   "cell_type": "markdown",
   "metadata": {},
   "source": [
    "Managed t2d data today, tomorrow have to check the file that Nastya calculated for me with adjusted glucose values. Also my minmaxscaler method is wrong, make the scale on the heatmap actually go from 0 to 1 for both median and std."
   ]
  },
  {
   "cell_type": "markdown",
   "metadata": {},
   "source": [
    "## 12.02.2020"
   ]
  },
  {
   "cell_type": "markdown",
   "metadata": {},
   "source": [
    "Finished visualizations of the hourly glucose for PNP3, T2D and 10K. PNP3 I did it with the file from Dima, didn't try the same with the file from Nastya. T2D vis only worked with unadjusted values, too many problems with Nastya's file. Tomorrow I should start doing personalized correlations."
   ]
  },
  {
   "cell_type": "markdown",
   "metadata": {},
   "source": [
    "## 13.02.2020"
   ]
  },
  {
   "cell_type": "markdown",
   "metadata": {},
   "source": [
    "Started working on the personalized correlations. Did the new wakeup glucose estimation. Intrapersonal variability of the values is still high - 12 points on average. Next day I need to do the tables with diet features from the day before. Maybe I should also add something like percentage of carbs in the breakfast from the total carbs or a feature about the size of the meal or something like that."
   ]
  },
  {
   "cell_type": "markdown",
   "metadata": {},
   "source": [
    "## 16.02.2020"
   ]
  },
  {
   "cell_type": "markdown",
   "metadata": {},
   "source": [
    "Started with personalized correlations. Interesting results, there are absolutely different associations for different people. Need to think how to visualize those results and discuss it with Michal. Read about the fdr correction for multiple correlations"
   ]
  },
  {
   "cell_type": "markdown",
   "metadata": {},
   "source": [
    "## 17.02.2020"
   ]
  },
  {
   "cell_type": "markdown",
   "metadata": {},
   "source": [
    "I finished personalized correlations. Different people have different associations between dietary features and wakeup glucose the next day.  \n",
    "  \n",
    "**ToDo:**\n",
    "- clean up the code in the Notebook. \n",
    "- consider the ideas from Nastya:\n",
    "     - I can build a predictor adding some personal features to the diet data. It could be anthropometrics, blood tests or microbiome. I should add it one by one and see how the predictions improve.\n",
    "     - Another thing: I could split the people upon one feature into two groups 'positive association' or 'negative association' with a feature and then do a stat test with bacteria and see whether in one of this groups certain bacteria dominate. Or the same with BMI or so."
   ]
  },
  {
   "cell_type": "markdown",
   "metadata": {},
   "source": [
    "## 18.02.2020"
   ]
  },
  {
   "cell_type": "markdown",
   "metadata": {},
   "source": [
    "Discussed the personalized correlations figure with Michal.\n",
    "- I need to add percentage of lipids, carbs and protein by calories.\n",
    "    - lipids - 9g\n",
    "    - carbs - 4g\n",
    "    - protein - 4g\n",
    "- I can do the comparison between the fluctuations of the night glucose and of the fasting glucose between the main and control in PNP3.\n",
    "- Where the dietary fibers came from? Maybe I could construct a feature like vegetables, fruits, whole wheat products. Need to ask Dima\n",
    "- In the predictor I can include the binary feature about the snack\n",
    "- I should also write the loader for physical activity in PNP3"
   ]
  },
  {
   "cell_type": "markdown",
   "metadata": {},
   "source": [
    "## 19.02.2020"
   ]
  },
  {
   "cell_type": "markdown",
   "metadata": {},
   "source": [
    "Cleaning up the code for correlations, adding splitted log. Tomorrow continue from renaming columns of the splitlog, add function for calculating and visualising correlations, save figures."
   ]
  },
  {
   "cell_type": "markdown",
   "metadata": {},
   "source": [
    "## 22.02.2020"
   ]
  },
  {
   "cell_type": "markdown",
   "metadata": {},
   "source": [
    "Almost finished with packing the code into functions. Something is wrong with FDR corrections, check tomorrow."
   ]
  },
  {
   "cell_type": "markdown",
   "metadata": {},
   "source": [
    "## 23.02.2020 - 25.02.2020"
   ]
  },
  {
   "cell_type": "markdown",
   "metadata": {},
   "source": [
    "Exploring the relation between wakeup glucose and fluctuations in the night. Got an unexpected result: the correlation is negative even though not high -0.11 Spearman and ~-0.15 Pearson. I also looked at individual correlations between this two variables. First of all, all individual correlations are also negative, 50 people out of ~200 show significant negative correlations (after FDR) in the range between -0.2 and -0.53. "
   ]
  },
  {
   "cell_type": "markdown",
   "metadata": {},
   "source": [
    "I also split the night into two parts (0-3 am and 3-6 am) and saw that the correlations with wakeup glucose are still negative and there is higher correlation with the first half of the night than with the second."
   ]
  },
  {
   "cell_type": "markdown",
   "metadata": {},
   "source": [
    "I can also calculate the CV of the day and of the evening and calculate the correlations with wakeup glucose the next day - done, the correlations are very low -0.05 with the evening, -0.04 with the total day, but still negative which is puzzling.\n",
    "\n",
    "Tomorrow correlate food and CV of the night. "
   ]
  },
  {
   "cell_type": "markdown",
   "metadata": {},
   "source": [
    "## 26.02.2020"
   ]
  },
  {
   "cell_type": "markdown",
   "metadata": {},
   "source": [
    "Investigated the nature of the negative correlation between the CV and wakeup glucose on a couple of examples. Usually if a person ate something after 22 then in the night after 00 we still see the peak of the glucose, then CGM goes down lower than \"normal level\" for this person (compensation effect) and the morning value might still be lower than we would otherwise expect. However if a person didn't eat so late (finished with dinner earlier) then we won't see high peaks in the night --> CV will be low, but wakeup glucose will be \"normal\". We need to distinguish between high CV due to the night snack and high CV due to real instability of the night which is unrelated to late food consumption. \n",
    "\n",
    "This question is quit interesting, as next I want to look how related are night snacks after 22 and CV of the night. According to my hypothesis both variables should be posi"
   ]
  }
 ],
 "metadata": {
  "kernelspec": {
   "display_name": "Python 3",
   "language": "python",
   "name": "python3"
  },
  "language_info": {
   "codemirror_mode": {
    "name": "ipython",
    "version": 3
   },
   "file_extension": ".py",
   "mimetype": "text/x-python",
   "name": "python",
   "nbconvert_exporter": "python",
   "pygments_lexer": "ipython3",
   "version": "3.7.5"
  },
  "toc": {
   "base_numbering": 1,
   "nav_menu": {},
   "number_sections": true,
   "sideBar": true,
   "skip_h1_title": false,
   "title_cell": "Table of Contents",
   "title_sidebar": "Contents",
   "toc_cell": false,
   "toc_position": {},
   "toc_section_display": true,
   "toc_window_display": false
  },
  "varInspector": {
   "cols": {
    "lenName": 16,
    "lenType": 16,
    "lenVar": 40
   },
   "kernels_config": {
    "python": {
     "delete_cmd_postfix": "",
     "delete_cmd_prefix": "del ",
     "library": "var_list.py",
     "varRefreshCmd": "print(var_dic_list())"
    },
    "r": {
     "delete_cmd_postfix": ") ",
     "delete_cmd_prefix": "rm(",
     "library": "var_list.r",
     "varRefreshCmd": "cat(var_dic_list()) "
    }
   },
   "types_to_exclude": [
    "module",
    "function",
    "builtin_function_or_method",
    "instance",
    "_Feature"
   ],
   "window_display": false
  }
 },
 "nbformat": 4,
 "nbformat_minor": 2
}
