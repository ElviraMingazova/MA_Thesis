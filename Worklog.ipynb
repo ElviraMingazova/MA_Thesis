{
 "cells": [
  {
   "cell_type": "markdown",
   "metadata": {},
   "source": [
    "# My Worklog\n"
   ]
  },
  {
   "cell_type": "markdown",
   "metadata": {},
   "source": [
    "## 28.11.2019"
   ]
  },
  {
   "cell_type": "markdown",
   "metadata": {},
   "source": [
    "### Discussion with Michal\n",
    "\n",
    "There are two different diabetes pathways: glycose rise in response to a meal and a rise in glucose levels during fasting.  \n",
    "Important can be the amount of total calories, amount of carbs eaten, type of carbs (simple sugars), food composition, the amount of fibers, how much time has passed between the previous meals, fasting time.   \n",
    "  \n",
    "There are two basic recommendations (without the usage of drugs) for people who have high glucose:\n",
    "1. Eat some carbs and fat before going to sleep (bread and butter)\n",
    "2. Do some physical activity before going to sleep\n",
    "  \n",
    "But this doesn't work well for everyone. For some people it is good to have shorter breaks between the meals, for others - larger breaks are ok. During the night the glucose of a healthy person goes down naturally and then rises to some extent in the morning because the body starts to release stored glucose to provide energy for the coming day (Glucagon hormone triggers glycogen breakdown).  In the case of the Dawn Phenomenon a person cannot release enough insulin to take the risen sugar from the blood, so he/she ends up with high fasting glucose (above 140 mg/dL).  There is also a Semogyi Effect also resulting in the high glucose, but it is due to drug management issues.  \n",
    "  \n",
    "There might be a high variance in the fasting glucose for the same person at different days. \n",
    "  \n",
    "We want to look at the CGM at night and see how it is related to the behaviour of the person the day before. I need to look at the data and see exactly how it is structured. I have to start with writing a function that goes through all the CGM data and filters out the night glucose. If bed time and wake up times are available, then I should cut according to them, if not - some default times like between 1 a.m. and 7 a.m."
   ]
  },
  {
   "cell_type": "markdown",
   "metadata": {},
   "source": [
    "### CGM statistics\n",
    "\n",
    "I also need a function that will return some statistics on the CGM:\n",
    "- min and max values\n",
    "- median glucose\n",
    "- variance in glucose levels\n",
    "- metrics: iAUC, MAGE, CV"
   ]
  },
  {
   "cell_type": "markdown",
   "metadata": {},
   "source": [
    "### Done today: \n",
    "- Discussion of the project ideas\n",
    "- Got familiar with DataLoaders, fixed a bug (inside site_packages/easy_install.pth), now I can load dataframes without any problems\n",
    "- Started a new [repository](https://github.com/ElviraMingazova/MA_Thesis.git) on GitHub for my master's thesis"
   ]
  },
  {
   "cell_type": "markdown",
   "metadata": {},
   "source": [
    "### To do:\n",
    "- Ask questions below\n",
    "- Get familiar with the CGM data, try to filter, look at some statistics"
   ]
  },
  {
   "cell_type": "markdown",
   "metadata": {},
   "source": [
    "Questions:\n",
    "- How and when to create and activate virtual environment\n",
    "- How to open two windows side by side"
   ]
  },
  {
   "cell_type": "markdown",
   "metadata": {},
   "source": [
    "## 2.12.2019"
   ]
  },
  {
   "cell_type": "markdown",
   "metadata": {},
   "source": [
    "### Done today: \n",
    "1. Learned about multiindex\n",
    "2. Created a function that filters the cgm data by time (between hours)"
   ]
  },
  {
   "cell_type": "markdown",
   "metadata": {},
   "source": [
    "### To do:\n",
    "1. Discuss the function with Dima, edit and eventually add it to the loader\n",
    "2. Find the data on sleep/wake up time, figure out the intersept of the night time of most of the people\n",
    "3. Read the paper and discuss with Michal"
   ]
  },
  {
   "cell_type": "markdown",
   "metadata": {},
   "source": [
    "The paper to read: https://www.ncbi.nlm.nih.gov/pmc/articles/PMC3836163/"
   ]
  },
  {
   "cell_type": "markdown",
   "metadata": {},
   "source": [
    "## 3.12.2019"
   ]
  },
  {
   "cell_type": "markdown",
   "metadata": {},
   "source": [
    "A paper expressing the CGM - values for people with normal glucose tolerance and with diabetes: https://www.ncbi.nlm.nih.gov/pubmed/18473688"
   ]
  },
  {
   "cell_type": "markdown",
   "metadata": {},
   "source": [
    "RESULTS:\n",
    "Sixty-two subjects completed the study, employing CGM for 28 +/- 4 days averaging 99 +/- 18 (range, 33-125) readings per day. NGT subjects (n = 32) had a mean CGM of 102 +/- 7 mg/dL, ranging between 94 and 117 mg/dL and averaging 105 +/- 8 mg/dL daytime and 97 +/- 6 mg/dL overnight. Glucose variability, as expressed by the interquartile range, was 21 +/- 4 mg/dL (range, 14-29 mg/dL). Stability in glycemic control (hourly change in the median) for NGT subjects averaged 3 +/- 1 mg/dL/h. Subjects with diabetes (n = 30) were significantly higher on all glycemic characteristics with the exception of the percentage of hypoglycemic (CGM <70 mg/dL) episodes for type 2 diabetes (2.9%), compared to 2.7% for subjects with NGT."
   ]
  },
  {
   "cell_type": "markdown",
   "metadata": {},
   "source": [
    "Ambulatory Glucose Profile (AGP)\n",
    "Good article explaining the measures like glucose excursion, glycemic exposure, glucose variability https://diabetes.diabetesjournals.org/content/62/5/1398\n",
    "\n",
    "Glucose exposure = podverganie vozdejstviju gllucosy"
   ]
  },
  {
   "cell_type": "markdown",
   "metadata": {},
   "source": [
    "#### \\*args and \\*kwargs usage\n",
    "\n",
    "\\*args can be really useful, because it allows you to pass a varying number of positional arguments. (\\*) is an unpacking operator \n",
    "\n",
    "```python\n",
    "# sum_integers_args.py\n",
    "def my_sum(*args):\n",
    "    result = 0\n",
    "    # Iterating over the Python args tuple\n",
    "    for x in args:\n",
    "        result += x\n",
    "    return result\n",
    "\n",
    "print(my_sum(1, 2, 3))\n",
    "```"
   ]
  },
  {
   "cell_type": "markdown",
   "metadata": {},
   "source": [
    "\\**kwargs works just like *args, but instead of accepting positional arguments it accepts keyword (or named) arguments. Take the following example:\n",
    "```python\n",
    "# concatenate.py\n",
    "def concatenate(**kwargs):\n",
    "    result = \"\"\n",
    "    # Iterating over the Python kwargs dictionary\n",
    "    for arg in kwargs.values():\n",
    "        result += arg\n",
    "    return result\n",
    "\n",
    "print(concatenate(a=\"Real\", b=\"Python\", c=\"Is\", d=\"Great\", e=\"!\"))\n",
    "```\n",
    "```for arg in kwargs``` would iterate over the keys"
   ]
  },
  {
   "cell_type": "markdown",
   "metadata": {},
   "source": [
    "### Done today: \n",
    "1. Read the paper\n",
    "2. Started creating a loader for sleep data\n",
    "3. Learned some of the Python debugging mode"
   ]
  },
  {
   "cell_type": "markdown",
   "metadata": {},
   "source": [
    "### To do:\n",
    "1. Try to walk through the DietLoggingLoader in Debug mode\n",
    "2. Try to generate some statistics on the night CGM\n",
    "3. Read about testing in Pycharm"
   ]
  },
  {
   "cell_type": "markdown",
   "metadata": {},
   "source": [
    "## 3.12.2019"
   ]
  },
  {
   "cell_type": "markdown",
   "metadata": {},
   "source": [
    "### Done today: \n",
    "1. GitHub ssh connection setup\n",
    "2. Getting familiar with data loaders and functions\n",
    "3. Got two tables: cgm and sleepwakeup"
   ]
  },
  {
   "cell_type": "markdown",
   "metadata": {},
   "source": [
    "### To do:\n",
    "1. Try to summarize some information on cgms in PNP3"
   ]
  },
  {
   "cell_type": "markdown",
   "metadata": {},
   "source": [
    "## 4.12.2019"
   ]
  },
  {
   "cell_type": "markdown",
   "metadata": {},
   "source": [
    "### Heatmap\n",
    "1. Choose some metrics for CGM and write functions to compute them per person per day.\n",
    "    - SD\n",
    "    - CC (Coefficient of variation)\n",
    "    - Mage (Mean amplitude of glucose excursions)\n",
    "2. Make a heatmap  \n",
    "    y-axis: Person  \n",
    "    x-axis: Day  \n",
    "    colorcode: fluctuation metric  \n"
   ]
  },
  {
   "cell_type": "markdown",
   "metadata": {},
   "source": [
    "[International Consensus on Use of Continuous Glucose Monitoring](https://care.diabetesjournals.org/content/40/12/1631)  \n",
    "- SD, coefficient of variation (CV), and mean amplitude of glucose excursions are widely used to quantify glycemic variability. The CV (which is the SD divided by the mean) has the advantage of being a metric relative to the mean, which makes it more descriptive of hypoglycemic excursions than the SD alone. For example, a population with a mean glucose of 150 mg/dL and an SD of 60 would have a CV of 40%.\n",
    "\n",
    "- Stable glucose levels are defined as a CV <36%, and unstable glucose levels are defined as CV ≥36%"
   ]
  },
  {
   "cell_type": "markdown",
   "metadata": {},
   "source": [
    "**Measures of GV** https://www.liebertpub.com/doi/full/10.1089/dia.2016.0146  \n",
    "  \n",
    "We computed 13 measures of GV using EasyGV (v8.8.2.R2) software. Evaluated GV measures included standard deviation (SD), coefficient of variation (CV), mean amplitude of glycemic excursions (MAGE), continuous overall net glycemic action (CONGA), mean of daily differences (MODD), lability index (LI), and mean absolute glucose change per unit time (MAG), glycemic risk assessment diabetes equation (GRADE), M-value, average daily risk range (ADRR), J-Index, low blood glucose index (LBGI), and high blood glucose index (HBGI). GRADE score is also reported as %GRADEhypoglycemia, %GRADEeuglycemia, and %GRADEhyperglycemia representing percentages of GRADE scores attributable to glucose values <3.9 mmol/L, and between 3.9–7.8 mmol/L and >7.8 mmol/L, respectively. EasyGV is a Microsoft Excel workbook that has a number of options to define the sampling interval, CONGA length, LI interval, reference value of M-value, and whether SMBG or CGM is used for MAGE calculation.16 A description of the GV measures, formulae used for their calculations, and a critical review of their limitations is described elsewhere.6,17"
   ]
  },
  {
   "cell_type": "code",
   "execution_count": null,
   "metadata": {},
   "outputs": [],
   "source": []
  }
 ],
 "metadata": {
  "kernelspec": {
   "display_name": "Python 3",
   "language": "python",
   "name": "python3"
  },
  "language_info": {
   "codemirror_mode": {
    "name": "ipython",
    "version": 3
   },
   "file_extension": ".py",
   "mimetype": "text/x-python",
   "name": "python",
   "nbconvert_exporter": "python",
   "pygments_lexer": "ipython3",
   "version": "3.5.3"
  }
 },
 "nbformat": 4,
 "nbformat_minor": 2
}
