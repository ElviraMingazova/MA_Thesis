{
 "cells": [
  {
   "cell_type": "code",
   "execution_count": 1,
   "metadata": {},
   "outputs": [],
   "source": [
    "import pandas as pd\n",
    "import numpy as np"
   ]
  },
  {
   "cell_type": "code",
   "execution_count": 2,
   "metadata": {},
   "outputs": [],
   "source": [
    "import plotly.graph_objects as go"
   ]
  },
  {
   "cell_type": "code",
   "execution_count": 3,
   "metadata": {},
   "outputs": [],
   "source": [
    "import LabData\n",
    "from LabData.DataLoaders.Loader import Loader"
   ]
  },
  {
   "cell_type": "code",
   "execution_count": 4,
   "metadata": {},
   "outputs": [],
   "source": [
    "cgmLoader = Loader.get_loader(\"CGMLoader\")"
   ]
  },
  {
   "cell_type": "code",
   "execution_count": 5,
   "metadata": {},
   "outputs": [],
   "source": [
    "cgm = cgmLoader.get_data()"
   ]
  },
  {
   "cell_type": "code",
   "execution_count": 6,
   "metadata": {},
   "outputs": [],
   "source": [
    "cgm_df = cgm.df"
   ]
  },
  {
   "cell_type": "code",
   "execution_count": 7,
   "metadata": {},
   "outputs": [],
   "source": [
    "gdm_df = pd.read_csv('/home/elming/Downloads/GDM_michal.csv')"
   ]
  },
  {
   "cell_type": "code",
   "execution_count": 12,
   "metadata": {
    "scrolled": true
   },
   "outputs": [
    {
     "data": {
      "text/html": [
       "<div>\n",
       "<style scoped>\n",
       "    .dataframe tbody tr th:only-of-type {\n",
       "        vertical-align: middle;\n",
       "    }\n",
       "\n",
       "    .dataframe tbody tr th {\n",
       "        vertical-align: top;\n",
       "    }\n",
       "\n",
       "    .dataframe thead th {\n",
       "        text-align: right;\n",
       "    }\n",
       "</style>\n",
       "<table border=\"1\" class=\"dataframe\">\n",
       "  <thead>\n",
       "    <tr style=\"text-align: right;\">\n",
       "      <th></th>\n",
       "      <th>clock</th>\n",
       "      <th>RegistrationCode</th>\n",
       "      <th>Name</th>\n",
       "      <th>Round</th>\n",
       "      <th>Due Date</th>\n",
       "      <th>profiling</th>\n",
       "      <th>T=0</th>\n",
       "      <th>2w</th>\n",
       "      <th>1m</th>\n",
       "      <th>2m</th>\n",
       "      <th>3m</th>\n",
       "      <th>labour date</th>\n",
       "      <th>6w al</th>\n",
       "      <th>3m al</th>\n",
       "      <th>6m al</th>\n",
       "      <th>12m al</th>\n",
       "      <th>Dropout reason</th>\n",
       "    </tr>\n",
       "  </thead>\n",
       "  <tbody>\n",
       "    <tr>\n",
       "      <th>0</th>\n",
       "      <td>3/12/2017</td>\n",
       "      <td>859116.0</td>\n",
       "      <td>שי הובר</td>\n",
       "      <td>1.0</td>\n",
       "      <td>NaN</td>\n",
       "      <td>V</td>\n",
       "      <td>10/7/2017</td>\n",
       "      <td>V</td>\n",
       "      <td>V</td>\n",
       "      <td>NaN</td>\n",
       "      <td>NaN</td>\n",
       "      <td>2017-08-29</td>\n",
       "      <td>V</td>\n",
       "      <td>V</td>\n",
       "      <td>V</td>\n",
       "      <td>NaN</td>\n",
       "      <td>NaN</td>\n",
       "    </tr>\n",
       "    <tr>\n",
       "      <th>1</th>\n",
       "      <td>NaN</td>\n",
       "      <td>64229.0</td>\n",
       "      <td>נטע פורה</td>\n",
       "      <td>2.0</td>\n",
       "      <td>NaN</td>\n",
       "      <td>V</td>\n",
       "      <td>28/9/2017</td>\n",
       "      <td>V</td>\n",
       "      <td>V</td>\n",
       "      <td>NaN</td>\n",
       "      <td>NaN</td>\n",
       "      <td>2017-10-11</td>\n",
       "      <td>NaN</td>\n",
       "      <td>V</td>\n",
       "      <td>NaN</td>\n",
       "      <td>29.11</td>\n",
       "      <td>NaN</td>\n",
       "    </tr>\n",
       "    <tr>\n",
       "      <th>2</th>\n",
       "      <td>NaN</td>\n",
       "      <td>637617.0</td>\n",
       "      <td>שרית קול</td>\n",
       "      <td>2.0</td>\n",
       "      <td>NaN</td>\n",
       "      <td>V</td>\n",
       "      <td>28/9/2017</td>\n",
       "      <td>V</td>\n",
       "      <td>V</td>\n",
       "      <td>NaN</td>\n",
       "      <td>NaN</td>\n",
       "      <td>2017-11-16</td>\n",
       "      <td>NaN</td>\n",
       "      <td>V</td>\n",
       "      <td>NaN</td>\n",
       "      <td>NaN</td>\n",
       "      <td>NaN</td>\n",
       "    </tr>\n",
       "    <tr>\n",
       "      <th>3</th>\n",
       "      <td>NaN</td>\n",
       "      <td>757248.0</td>\n",
       "      <td>אטי תל כץ</td>\n",
       "      <td>2.0</td>\n",
       "      <td>NaN</td>\n",
       "      <td>V</td>\n",
       "      <td>28/9/2017</td>\n",
       "      <td>V</td>\n",
       "      <td>V</td>\n",
       "      <td>V</td>\n",
       "      <td>NaN</td>\n",
       "      <td>2017-11-16</td>\n",
       "      <td>NaN</td>\n",
       "      <td>V</td>\n",
       "      <td>V</td>\n",
       "      <td>3.10</td>\n",
       "      <td>NaN</td>\n",
       "    </tr>\n",
       "    <tr>\n",
       "      <th>4</th>\n",
       "      <td>NaN</td>\n",
       "      <td>670055.0</td>\n",
       "      <td>נעמה שחר</td>\n",
       "      <td>3.0</td>\n",
       "      <td>29/12/2017</td>\n",
       "      <td>V</td>\n",
       "      <td>18/10/2017</td>\n",
       "      <td>V</td>\n",
       "      <td>V</td>\n",
       "      <td>V</td>\n",
       "      <td>NaN</td>\n",
       "      <td>2017-12-20</td>\n",
       "      <td>NaN</td>\n",
       "      <td>V</td>\n",
       "      <td>V</td>\n",
       "      <td>NaN</td>\n",
       "      <td>NaN</td>\n",
       "    </tr>\n",
       "    <tr>\n",
       "      <th>6</th>\n",
       "      <td>NaN</td>\n",
       "      <td>675329.0</td>\n",
       "      <td>מירב מונטה</td>\n",
       "      <td>3.0</td>\n",
       "      <td>NaN</td>\n",
       "      <td>V</td>\n",
       "      <td>18/10/2017</td>\n",
       "      <td>V</td>\n",
       "      <td>V</td>\n",
       "      <td>NaN</td>\n",
       "      <td>NaN</td>\n",
       "      <td>2017-03-12</td>\n",
       "      <td>NaN</td>\n",
       "      <td>V</td>\n",
       "      <td>V</td>\n",
       "      <td>NaN</td>\n",
       "      <td>NaN</td>\n",
       "    </tr>\n",
       "    <tr>\n",
       "      <th>7</th>\n",
       "      <td>NaN</td>\n",
       "      <td>999443.0</td>\n",
       "      <td>אסיה רביבו</td>\n",
       "      <td>4.0</td>\n",
       "      <td>23/1/2017</td>\n",
       "      <td>V</td>\n",
       "      <td>28/11/2017</td>\n",
       "      <td>V</td>\n",
       "      <td>V</td>\n",
       "      <td>NaN</td>\n",
       "      <td>NaN</td>\n",
       "      <td>2018-01-13</td>\n",
       "      <td>NaN</td>\n",
       "      <td>V</td>\n",
       "      <td>V</td>\n",
       "      <td>NaN</td>\n",
       "      <td>NaN</td>\n",
       "    </tr>\n",
       "    <tr>\n",
       "      <th>8</th>\n",
       "      <td>NaN</td>\n",
       "      <td>292486.0</td>\n",
       "      <td>קרן קידר</td>\n",
       "      <td>4.0</td>\n",
       "      <td>6/2/2018</td>\n",
       "      <td>V</td>\n",
       "      <td>30/11/2017</td>\n",
       "      <td>V</td>\n",
       "      <td>V</td>\n",
       "      <td>V</td>\n",
       "      <td>NaN</td>\n",
       "      <td>2018-04-02</td>\n",
       "      <td>NaN</td>\n",
       "      <td>NaN</td>\n",
       "      <td>NaN</td>\n",
       "      <td>NaN</td>\n",
       "      <td>NaN</td>\n",
       "    </tr>\n",
       "    <tr>\n",
       "      <th>11</th>\n",
       "      <td>NaN</td>\n",
       "      <td>986640.0</td>\n",
       "      <td>גל גרינברג</td>\n",
       "      <td>5.0</td>\n",
       "      <td>25/2/2018</td>\n",
       "      <td>V</td>\n",
       "      <td>2/1/2017</td>\n",
       "      <td>V</td>\n",
       "      <td>V</td>\n",
       "      <td>NaN</td>\n",
       "      <td>NaN</td>\n",
       "      <td>2018-02-14</td>\n",
       "      <td>NaN</td>\n",
       "      <td>V</td>\n",
       "      <td>NaN</td>\n",
       "      <td>NaN</td>\n",
       "      <td>NaN</td>\n",
       "    </tr>\n",
       "    <tr>\n",
       "      <th>12</th>\n",
       "      <td>NaN</td>\n",
       "      <td>517738.0</td>\n",
       "      <td>ליאת קול</td>\n",
       "      <td>6.0</td>\n",
       "      <td>NaN</td>\n",
       "      <td>V</td>\n",
       "      <td>4/2/2018</td>\n",
       "      <td>V</td>\n",
       "      <td>V</td>\n",
       "      <td>NaN</td>\n",
       "      <td>NaN</td>\n",
       "      <td>2018-03-29</td>\n",
       "      <td>NaN</td>\n",
       "      <td>V</td>\n",
       "      <td>NaN</td>\n",
       "      <td>NaN</td>\n",
       "      <td>NaN</td>\n",
       "    </tr>\n",
       "    <tr>\n",
       "      <th>13</th>\n",
       "      <td>NaN</td>\n",
       "      <td>521161.0</td>\n",
       "      <td>חני נמיר</td>\n",
       "      <td>6.0</td>\n",
       "      <td>NaN</td>\n",
       "      <td>V</td>\n",
       "      <td>7/2/2018</td>\n",
       "      <td>V</td>\n",
       "      <td>NaN</td>\n",
       "      <td>NaN</td>\n",
       "      <td>NaN</td>\n",
       "      <td>2018-03-25</td>\n",
       "      <td>NaN</td>\n",
       "      <td>V</td>\n",
       "      <td>V</td>\n",
       "      <td>NaN</td>\n",
       "      <td>NaN</td>\n",
       "    </tr>\n",
       "    <tr>\n",
       "      <th>15</th>\n",
       "      <td>NaN</td>\n",
       "      <td>30398.0</td>\n",
       "      <td>לימור בר עמי</td>\n",
       "      <td>8.0</td>\n",
       "      <td>2/5/2018</td>\n",
       "      <td>V</td>\n",
       "      <td>6/3/2018</td>\n",
       "      <td>V</td>\n",
       "      <td>V</td>\n",
       "      <td>NaN</td>\n",
       "      <td>NaN</td>\n",
       "      <td>2018-01-04</td>\n",
       "      <td>NaN</td>\n",
       "      <td>V</td>\n",
       "      <td>NaN</td>\n",
       "      <td>NaN</td>\n",
       "      <td>NaN</td>\n",
       "    </tr>\n",
       "    <tr>\n",
       "      <th>16</th>\n",
       "      <td>NaN</td>\n",
       "      <td>394858.0</td>\n",
       "      <td>אנסטסיה יאביץ'</td>\n",
       "      <td>9.0</td>\n",
       "      <td>7/6/2018</td>\n",
       "      <td>V</td>\n",
       "      <td>18/4/2018</td>\n",
       "      <td>V</td>\n",
       "      <td>V</td>\n",
       "      <td>NaN</td>\n",
       "      <td>NaN</td>\n",
       "      <td>2018-08-06</td>\n",
       "      <td>NaN</td>\n",
       "      <td>NaN</td>\n",
       "      <td>NaN</td>\n",
       "      <td>NaN</td>\n",
       "      <td>NaN</td>\n",
       "    </tr>\n",
       "    <tr>\n",
       "      <th>17</th>\n",
       "      <td>NaN</td>\n",
       "      <td>485966.0</td>\n",
       "      <td>דגנית ישראלי</td>\n",
       "      <td>10.0</td>\n",
       "      <td>18/9/1978</td>\n",
       "      <td>V</td>\n",
       "      <td>3/7/2018</td>\n",
       "      <td>V</td>\n",
       "      <td>V</td>\n",
       "      <td>NaN</td>\n",
       "      <td>NaN</td>\n",
       "      <td>2018-08-24</td>\n",
       "      <td>NaN</td>\n",
       "      <td>3.1</td>\n",
       "      <td>NaN</td>\n",
       "      <td>NaN</td>\n",
       "      <td>NaN</td>\n",
       "    </tr>\n",
       "    <tr>\n",
       "      <th>18</th>\n",
       "      <td>NaN</td>\n",
       "      <td>471439.0</td>\n",
       "      <td>מור קוקוי</td>\n",
       "      <td>10.0</td>\n",
       "      <td>2/9/2018</td>\n",
       "      <td>V</td>\n",
       "      <td>1/7/2018</td>\n",
       "      <td>NaN</td>\n",
       "      <td>V</td>\n",
       "      <td>NaN</td>\n",
       "      <td>NaN</td>\n",
       "      <td>2018-08-23</td>\n",
       "      <td>NaN</td>\n",
       "      <td>V</td>\n",
       "      <td>NaN</td>\n",
       "      <td>NaN</td>\n",
       "      <td>NaN</td>\n",
       "    </tr>\n",
       "    <tr>\n",
       "      <th>19</th>\n",
       "      <td>NaN</td>\n",
       "      <td>909576.0</td>\n",
       "      <td>אדוה שרס</td>\n",
       "      <td>11.0</td>\n",
       "      <td>6/9/2018</td>\n",
       "      <td>V</td>\n",
       "      <td>17/7/2018</td>\n",
       "      <td>V</td>\n",
       "      <td>V</td>\n",
       "      <td>NaN</td>\n",
       "      <td>NaN</td>\n",
       "      <td>2018-01-09</td>\n",
       "      <td>NaN</td>\n",
       "      <td>3.1</td>\n",
       "      <td>NaN</td>\n",
       "      <td>NaN</td>\n",
       "      <td>NaN</td>\n",
       "    </tr>\n",
       "    <tr>\n",
       "      <th>20</th>\n",
       "      <td>NaN</td>\n",
       "      <td>405661.0</td>\n",
       "      <td>נעמי הדיה</td>\n",
       "      <td>NaN</td>\n",
       "      <td>20/12/2018</td>\n",
       "      <td>V</td>\n",
       "      <td>28/10/2018</td>\n",
       "      <td>V</td>\n",
       "      <td>V</td>\n",
       "      <td>NaN</td>\n",
       "      <td>NaN</td>\n",
       "      <td>2018-12-22</td>\n",
       "      <td>NaN</td>\n",
       "      <td>NaN</td>\n",
       "      <td>NaN</td>\n",
       "      <td>NaN</td>\n",
       "      <td>NaN</td>\n",
       "    </tr>\n",
       "    <tr>\n",
       "      <th>21</th>\n",
       "      <td>NaN</td>\n",
       "      <td>531067.0</td>\n",
       "      <td>ססקיה פרויד</td>\n",
       "      <td>NaN</td>\n",
       "      <td>1/1/2019</td>\n",
       "      <td>V</td>\n",
       "      <td>13/11/2018</td>\n",
       "      <td>V</td>\n",
       "      <td>V</td>\n",
       "      <td>NaN</td>\n",
       "      <td>NaN</td>\n",
       "      <td>2019-10-01</td>\n",
       "      <td>NaN</td>\n",
       "      <td>NaN</td>\n",
       "      <td>NaN</td>\n",
       "      <td>NaN</td>\n",
       "      <td>NaN</td>\n",
       "    </tr>\n",
       "    <tr>\n",
       "      <th>22</th>\n",
       "      <td>NaN</td>\n",
       "      <td>NaN</td>\n",
       "      <td>אסנת שץ</td>\n",
       "      <td>NaN</td>\n",
       "      <td>NaN</td>\n",
       "      <td>V</td>\n",
       "      <td>3/1/2019</td>\n",
       "      <td>NaN</td>\n",
       "      <td>NaN</td>\n",
       "      <td>NaN</td>\n",
       "      <td>NaN</td>\n",
       "      <td>2019-02-14</td>\n",
       "      <td>NaN</td>\n",
       "      <td>NaN</td>\n",
       "      <td>NaN</td>\n",
       "      <td>NaN</td>\n",
       "      <td>NaN</td>\n",
       "    </tr>\n",
       "  </tbody>\n",
       "</table>\n",
       "</div>"
      ],
      "text/plain": [
       "        clock  RegistrationCode            Name  Round    Due Date profiling  \\\n",
       "0   3/12/2017          859116.0         שי הובר    1.0         NaN         V   \n",
       "1         NaN           64229.0        נטע פורה    2.0         NaN         V   \n",
       "2         NaN          637617.0        שרית קול    2.0         NaN         V   \n",
       "3         NaN          757248.0       אטי תל כץ    2.0         NaN         V   \n",
       "4         NaN          670055.0        נעמה שחר    3.0  29/12/2017         V   \n",
       "6         NaN          675329.0      מירב מונטה    3.0         NaN         V   \n",
       "7         NaN          999443.0      אסיה רביבו    4.0   23/1/2017         V   \n",
       "8         NaN          292486.0        קרן קידר    4.0    6/2/2018         V   \n",
       "11        NaN          986640.0      גל גרינברג    5.0   25/2/2018         V   \n",
       "12        NaN          517738.0        ליאת קול    6.0         NaN         V   \n",
       "13        NaN          521161.0        חני נמיר    6.0         NaN         V   \n",
       "15        NaN           30398.0    לימור בר עמי    8.0    2/5/2018         V   \n",
       "16        NaN          394858.0  אנסטסיה יאביץ'    9.0    7/6/2018         V   \n",
       "17        NaN          485966.0    דגנית ישראלי   10.0   18/9/1978         V   \n",
       "18        NaN          471439.0       מור קוקוי   10.0    2/9/2018         V   \n",
       "19        NaN          909576.0        אדוה שרס   11.0    6/9/2018         V   \n",
       "20        NaN          405661.0       נעמי הדיה    NaN  20/12/2018         V   \n",
       "21        NaN          531067.0     ססקיה פרויד    NaN    1/1/2019         V   \n",
       "22        NaN               NaN         אסנת שץ    NaN         NaN         V   \n",
       "\n",
       "           T=0   2w   1m   2m  3m labour date 6w al 3m al 6m al  12m al  \\\n",
       "0    10/7/2017    V    V  NaN NaN  2017-08-29     V     V     V     NaN   \n",
       "1    28/9/2017    V    V  NaN NaN  2017-10-11   NaN     V   NaN   29.11   \n",
       "2    28/9/2017    V    V  NaN NaN  2017-11-16   NaN     V   NaN     NaN   \n",
       "3    28/9/2017    V    V    V NaN  2017-11-16   NaN     V     V    3.10   \n",
       "4   18/10/2017    V    V    V NaN  2017-12-20   NaN     V     V     NaN   \n",
       "6   18/10/2017    V    V  NaN NaN  2017-03-12   NaN     V     V     NaN   \n",
       "7   28/11/2017    V    V  NaN NaN  2018-01-13   NaN     V     V     NaN   \n",
       "8   30/11/2017    V    V    V NaN  2018-04-02   NaN   NaN   NaN     NaN   \n",
       "11    2/1/2017    V    V  NaN NaN  2018-02-14   NaN     V   NaN     NaN   \n",
       "12    4/2/2018    V    V  NaN NaN  2018-03-29   NaN     V   NaN     NaN   \n",
       "13    7/2/2018    V  NaN  NaN NaN  2018-03-25   NaN     V     V     NaN   \n",
       "15    6/3/2018    V    V  NaN NaN  2018-01-04   NaN     V   NaN     NaN   \n",
       "16   18/4/2018    V    V  NaN NaN  2018-08-06   NaN   NaN   NaN     NaN   \n",
       "17    3/7/2018    V    V  NaN NaN  2018-08-24   NaN   3.1   NaN     NaN   \n",
       "18    1/7/2018  NaN    V  NaN NaN  2018-08-23   NaN     V   NaN     NaN   \n",
       "19   17/7/2018    V    V  NaN NaN  2018-01-09   NaN   3.1   NaN     NaN   \n",
       "20  28/10/2018    V    V  NaN NaN  2018-12-22   NaN   NaN   NaN     NaN   \n",
       "21  13/11/2018    V    V  NaN NaN  2019-10-01   NaN   NaN   NaN     NaN   \n",
       "22    3/1/2019  NaN  NaN  NaN NaN  2019-02-14   NaN   NaN   NaN     NaN   \n",
       "\n",
       "   Dropout reason  \n",
       "0             NaN  \n",
       "1             NaN  \n",
       "2             NaN  \n",
       "3             NaN  \n",
       "4             NaN  \n",
       "6             NaN  \n",
       "7             NaN  \n",
       "8             NaN  \n",
       "11            NaN  \n",
       "12            NaN  \n",
       "13            NaN  \n",
       "15            NaN  \n",
       "16            NaN  \n",
       "17            NaN  \n",
       "18            NaN  \n",
       "19            NaN  \n",
       "20            NaN  \n",
       "21            NaN  \n",
       "22            NaN  "
      ]
     },
     "execution_count": 12,
     "metadata": {},
     "output_type": "execute_result"
    }
   ],
   "source": [
    "gdm_df"
   ]
  },
  {
   "cell_type": "code",
   "execution_count": 9,
   "metadata": {},
   "outputs": [],
   "source": [
    "gdm_df.dropna(subset=['labour date'], inplace=True)"
   ]
  },
  {
   "cell_type": "code",
   "execution_count": 11,
   "metadata": {},
   "outputs": [],
   "source": [
    "gdm_df['labour date'] = pd.to_datetime(gdm_df['labour date'])"
   ]
  },
  {
   "cell_type": "code",
   "execution_count": 19,
   "metadata": {},
   "outputs": [],
   "source": [
    "rc_list = ['859116', '64229', '637617', '757248', '670055', '675329', '999443', '292486', '986640', '517738', '521161', '30398', '394858', '485966', '471439', '909576', '405661', '531067', '511664']"
   ]
  },
  {
   "cell_type": "code",
   "execution_count": 20,
   "metadata": {},
   "outputs": [],
   "source": [
    "gdm_df['RegistrationCode'] = rc_list"
   ]
  },
  {
   "cell_type": "code",
   "execution_count": 23,
   "metadata": {
    "scrolled": true
   },
   "outputs": [
    {
     "data": {
      "text/html": [
       "<div>\n",
       "<style scoped>\n",
       "    .dataframe tbody tr th:only-of-type {\n",
       "        vertical-align: middle;\n",
       "    }\n",
       "\n",
       "    .dataframe tbody tr th {\n",
       "        vertical-align: top;\n",
       "    }\n",
       "\n",
       "    .dataframe thead th {\n",
       "        text-align: right;\n",
       "    }\n",
       "</style>\n",
       "<table border=\"1\" class=\"dataframe\">\n",
       "  <thead>\n",
       "    <tr style=\"text-align: right;\">\n",
       "      <th></th>\n",
       "      <th>clock</th>\n",
       "      <th>RegistrationCode</th>\n",
       "      <th>Name</th>\n",
       "      <th>Round</th>\n",
       "      <th>Due Date</th>\n",
       "      <th>profiling</th>\n",
       "      <th>T=0</th>\n",
       "      <th>2w</th>\n",
       "      <th>1m</th>\n",
       "      <th>2m</th>\n",
       "      <th>3m</th>\n",
       "      <th>labour date</th>\n",
       "      <th>6w al</th>\n",
       "      <th>3m al</th>\n",
       "      <th>6m al</th>\n",
       "      <th>12m al</th>\n",
       "      <th>Dropout reason</th>\n",
       "    </tr>\n",
       "  </thead>\n",
       "  <tbody>\n",
       "    <tr>\n",
       "      <th>0</th>\n",
       "      <td>3/12/2017</td>\n",
       "      <td>859116</td>\n",
       "      <td>שי הובר</td>\n",
       "      <td>1.0</td>\n",
       "      <td>NaN</td>\n",
       "      <td>V</td>\n",
       "      <td>10/7/2017</td>\n",
       "      <td>V</td>\n",
       "      <td>V</td>\n",
       "      <td>NaN</td>\n",
       "      <td>NaN</td>\n",
       "      <td>2017-08-29</td>\n",
       "      <td>V</td>\n",
       "      <td>V</td>\n",
       "      <td>V</td>\n",
       "      <td>NaN</td>\n",
       "      <td>NaN</td>\n",
       "    </tr>\n",
       "    <tr>\n",
       "      <th>1</th>\n",
       "      <td>NaN</td>\n",
       "      <td>64229</td>\n",
       "      <td>נטע פורה</td>\n",
       "      <td>2.0</td>\n",
       "      <td>NaN</td>\n",
       "      <td>V</td>\n",
       "      <td>28/9/2017</td>\n",
       "      <td>V</td>\n",
       "      <td>V</td>\n",
       "      <td>NaN</td>\n",
       "      <td>NaN</td>\n",
       "      <td>2017-10-11</td>\n",
       "      <td>NaN</td>\n",
       "      <td>V</td>\n",
       "      <td>NaN</td>\n",
       "      <td>29.11</td>\n",
       "      <td>NaN</td>\n",
       "    </tr>\n",
       "    <tr>\n",
       "      <th>2</th>\n",
       "      <td>NaN</td>\n",
       "      <td>637617</td>\n",
       "      <td>שרית קול</td>\n",
       "      <td>2.0</td>\n",
       "      <td>NaN</td>\n",
       "      <td>V</td>\n",
       "      <td>28/9/2017</td>\n",
       "      <td>V</td>\n",
       "      <td>V</td>\n",
       "      <td>NaN</td>\n",
       "      <td>NaN</td>\n",
       "      <td>2017-11-16</td>\n",
       "      <td>NaN</td>\n",
       "      <td>V</td>\n",
       "      <td>NaN</td>\n",
       "      <td>NaN</td>\n",
       "      <td>NaN</td>\n",
       "    </tr>\n",
       "    <tr>\n",
       "      <th>3</th>\n",
       "      <td>NaN</td>\n",
       "      <td>757248</td>\n",
       "      <td>אטי תל כץ</td>\n",
       "      <td>2.0</td>\n",
       "      <td>NaN</td>\n",
       "      <td>V</td>\n",
       "      <td>28/9/2017</td>\n",
       "      <td>V</td>\n",
       "      <td>V</td>\n",
       "      <td>V</td>\n",
       "      <td>NaN</td>\n",
       "      <td>2017-11-16</td>\n",
       "      <td>NaN</td>\n",
       "      <td>V</td>\n",
       "      <td>V</td>\n",
       "      <td>3.10</td>\n",
       "      <td>NaN</td>\n",
       "    </tr>\n",
       "    <tr>\n",
       "      <th>4</th>\n",
       "      <td>NaN</td>\n",
       "      <td>670055</td>\n",
       "      <td>נעמה שחר</td>\n",
       "      <td>3.0</td>\n",
       "      <td>29/12/2017</td>\n",
       "      <td>V</td>\n",
       "      <td>18/10/2017</td>\n",
       "      <td>V</td>\n",
       "      <td>V</td>\n",
       "      <td>V</td>\n",
       "      <td>NaN</td>\n",
       "      <td>2017-12-20</td>\n",
       "      <td>NaN</td>\n",
       "      <td>V</td>\n",
       "      <td>V</td>\n",
       "      <td>NaN</td>\n",
       "      <td>NaN</td>\n",
       "    </tr>\n",
       "    <tr>\n",
       "      <th>6</th>\n",
       "      <td>NaN</td>\n",
       "      <td>675329</td>\n",
       "      <td>מירב מונטה</td>\n",
       "      <td>3.0</td>\n",
       "      <td>NaN</td>\n",
       "      <td>V</td>\n",
       "      <td>18/10/2017</td>\n",
       "      <td>V</td>\n",
       "      <td>V</td>\n",
       "      <td>NaN</td>\n",
       "      <td>NaN</td>\n",
       "      <td>2017-03-12</td>\n",
       "      <td>NaN</td>\n",
       "      <td>V</td>\n",
       "      <td>V</td>\n",
       "      <td>NaN</td>\n",
       "      <td>NaN</td>\n",
       "    </tr>\n",
       "    <tr>\n",
       "      <th>7</th>\n",
       "      <td>NaN</td>\n",
       "      <td>999443</td>\n",
       "      <td>אסיה רביבו</td>\n",
       "      <td>4.0</td>\n",
       "      <td>23/1/2017</td>\n",
       "      <td>V</td>\n",
       "      <td>28/11/2017</td>\n",
       "      <td>V</td>\n",
       "      <td>V</td>\n",
       "      <td>NaN</td>\n",
       "      <td>NaN</td>\n",
       "      <td>2018-01-13</td>\n",
       "      <td>NaN</td>\n",
       "      <td>V</td>\n",
       "      <td>V</td>\n",
       "      <td>NaN</td>\n",
       "      <td>NaN</td>\n",
       "    </tr>\n",
       "    <tr>\n",
       "      <th>8</th>\n",
       "      <td>NaN</td>\n",
       "      <td>292486</td>\n",
       "      <td>קרן קידר</td>\n",
       "      <td>4.0</td>\n",
       "      <td>6/2/2018</td>\n",
       "      <td>V</td>\n",
       "      <td>30/11/2017</td>\n",
       "      <td>V</td>\n",
       "      <td>V</td>\n",
       "      <td>V</td>\n",
       "      <td>NaN</td>\n",
       "      <td>2018-04-02</td>\n",
       "      <td>NaN</td>\n",
       "      <td>NaN</td>\n",
       "      <td>NaN</td>\n",
       "      <td>NaN</td>\n",
       "      <td>NaN</td>\n",
       "    </tr>\n",
       "    <tr>\n",
       "      <th>11</th>\n",
       "      <td>NaN</td>\n",
       "      <td>986640</td>\n",
       "      <td>גל גרינברג</td>\n",
       "      <td>5.0</td>\n",
       "      <td>25/2/2018</td>\n",
       "      <td>V</td>\n",
       "      <td>2/1/2017</td>\n",
       "      <td>V</td>\n",
       "      <td>V</td>\n",
       "      <td>NaN</td>\n",
       "      <td>NaN</td>\n",
       "      <td>2018-02-14</td>\n",
       "      <td>NaN</td>\n",
       "      <td>V</td>\n",
       "      <td>NaN</td>\n",
       "      <td>NaN</td>\n",
       "      <td>NaN</td>\n",
       "    </tr>\n",
       "    <tr>\n",
       "      <th>12</th>\n",
       "      <td>NaN</td>\n",
       "      <td>517738</td>\n",
       "      <td>ליאת קול</td>\n",
       "      <td>6.0</td>\n",
       "      <td>NaN</td>\n",
       "      <td>V</td>\n",
       "      <td>4/2/2018</td>\n",
       "      <td>V</td>\n",
       "      <td>V</td>\n",
       "      <td>NaN</td>\n",
       "      <td>NaN</td>\n",
       "      <td>2018-03-29</td>\n",
       "      <td>NaN</td>\n",
       "      <td>V</td>\n",
       "      <td>NaN</td>\n",
       "      <td>NaN</td>\n",
       "      <td>NaN</td>\n",
       "    </tr>\n",
       "    <tr>\n",
       "      <th>13</th>\n",
       "      <td>NaN</td>\n",
       "      <td>521161</td>\n",
       "      <td>חני נמיר</td>\n",
       "      <td>6.0</td>\n",
       "      <td>NaN</td>\n",
       "      <td>V</td>\n",
       "      <td>7/2/2018</td>\n",
       "      <td>V</td>\n",
       "      <td>NaN</td>\n",
       "      <td>NaN</td>\n",
       "      <td>NaN</td>\n",
       "      <td>2018-03-25</td>\n",
       "      <td>NaN</td>\n",
       "      <td>V</td>\n",
       "      <td>V</td>\n",
       "      <td>NaN</td>\n",
       "      <td>NaN</td>\n",
       "    </tr>\n",
       "    <tr>\n",
       "      <th>15</th>\n",
       "      <td>NaN</td>\n",
       "      <td>30398</td>\n",
       "      <td>לימור בר עמי</td>\n",
       "      <td>8.0</td>\n",
       "      <td>2/5/2018</td>\n",
       "      <td>V</td>\n",
       "      <td>6/3/2018</td>\n",
       "      <td>V</td>\n",
       "      <td>V</td>\n",
       "      <td>NaN</td>\n",
       "      <td>NaN</td>\n",
       "      <td>2018-01-04</td>\n",
       "      <td>NaN</td>\n",
       "      <td>V</td>\n",
       "      <td>NaN</td>\n",
       "      <td>NaN</td>\n",
       "      <td>NaN</td>\n",
       "    </tr>\n",
       "    <tr>\n",
       "      <th>16</th>\n",
       "      <td>NaN</td>\n",
       "      <td>394858</td>\n",
       "      <td>אנסטסיה יאביץ'</td>\n",
       "      <td>9.0</td>\n",
       "      <td>7/6/2018</td>\n",
       "      <td>V</td>\n",
       "      <td>18/4/2018</td>\n",
       "      <td>V</td>\n",
       "      <td>V</td>\n",
       "      <td>NaN</td>\n",
       "      <td>NaN</td>\n",
       "      <td>2018-08-06</td>\n",
       "      <td>NaN</td>\n",
       "      <td>NaN</td>\n",
       "      <td>NaN</td>\n",
       "      <td>NaN</td>\n",
       "      <td>NaN</td>\n",
       "    </tr>\n",
       "    <tr>\n",
       "      <th>17</th>\n",
       "      <td>NaN</td>\n",
       "      <td>485966</td>\n",
       "      <td>דגנית ישראלי</td>\n",
       "      <td>10.0</td>\n",
       "      <td>18/9/1978</td>\n",
       "      <td>V</td>\n",
       "      <td>3/7/2018</td>\n",
       "      <td>V</td>\n",
       "      <td>V</td>\n",
       "      <td>NaN</td>\n",
       "      <td>NaN</td>\n",
       "      <td>2018-08-24</td>\n",
       "      <td>NaN</td>\n",
       "      <td>3.1</td>\n",
       "      <td>NaN</td>\n",
       "      <td>NaN</td>\n",
       "      <td>NaN</td>\n",
       "    </tr>\n",
       "    <tr>\n",
       "      <th>18</th>\n",
       "      <td>NaN</td>\n",
       "      <td>471439</td>\n",
       "      <td>מור קוקוי</td>\n",
       "      <td>10.0</td>\n",
       "      <td>2/9/2018</td>\n",
       "      <td>V</td>\n",
       "      <td>1/7/2018</td>\n",
       "      <td>NaN</td>\n",
       "      <td>V</td>\n",
       "      <td>NaN</td>\n",
       "      <td>NaN</td>\n",
       "      <td>2018-08-23</td>\n",
       "      <td>NaN</td>\n",
       "      <td>V</td>\n",
       "      <td>NaN</td>\n",
       "      <td>NaN</td>\n",
       "      <td>NaN</td>\n",
       "    </tr>\n",
       "    <tr>\n",
       "      <th>19</th>\n",
       "      <td>NaN</td>\n",
       "      <td>909576</td>\n",
       "      <td>אדוה שרס</td>\n",
       "      <td>11.0</td>\n",
       "      <td>6/9/2018</td>\n",
       "      <td>V</td>\n",
       "      <td>17/7/2018</td>\n",
       "      <td>V</td>\n",
       "      <td>V</td>\n",
       "      <td>NaN</td>\n",
       "      <td>NaN</td>\n",
       "      <td>2018-01-09</td>\n",
       "      <td>NaN</td>\n",
       "      <td>3.1</td>\n",
       "      <td>NaN</td>\n",
       "      <td>NaN</td>\n",
       "      <td>NaN</td>\n",
       "    </tr>\n",
       "    <tr>\n",
       "      <th>20</th>\n",
       "      <td>NaN</td>\n",
       "      <td>405661</td>\n",
       "      <td>נעמי הדיה</td>\n",
       "      <td>NaN</td>\n",
       "      <td>20/12/2018</td>\n",
       "      <td>V</td>\n",
       "      <td>28/10/2018</td>\n",
       "      <td>V</td>\n",
       "      <td>V</td>\n",
       "      <td>NaN</td>\n",
       "      <td>NaN</td>\n",
       "      <td>2018-12-22</td>\n",
       "      <td>NaN</td>\n",
       "      <td>NaN</td>\n",
       "      <td>NaN</td>\n",
       "      <td>NaN</td>\n",
       "      <td>NaN</td>\n",
       "    </tr>\n",
       "    <tr>\n",
       "      <th>21</th>\n",
       "      <td>NaN</td>\n",
       "      <td>531067</td>\n",
       "      <td>ססקיה פרויד</td>\n",
       "      <td>NaN</td>\n",
       "      <td>1/1/2019</td>\n",
       "      <td>V</td>\n",
       "      <td>13/11/2018</td>\n",
       "      <td>V</td>\n",
       "      <td>V</td>\n",
       "      <td>NaN</td>\n",
       "      <td>NaN</td>\n",
       "      <td>2019-10-01</td>\n",
       "      <td>NaN</td>\n",
       "      <td>NaN</td>\n",
       "      <td>NaN</td>\n",
       "      <td>NaN</td>\n",
       "      <td>NaN</td>\n",
       "    </tr>\n",
       "    <tr>\n",
       "      <th>22</th>\n",
       "      <td>NaN</td>\n",
       "      <td>511664</td>\n",
       "      <td>אסנת שץ</td>\n",
       "      <td>NaN</td>\n",
       "      <td>NaN</td>\n",
       "      <td>V</td>\n",
       "      <td>3/1/2019</td>\n",
       "      <td>NaN</td>\n",
       "      <td>NaN</td>\n",
       "      <td>NaN</td>\n",
       "      <td>NaN</td>\n",
       "      <td>2019-02-14</td>\n",
       "      <td>NaN</td>\n",
       "      <td>NaN</td>\n",
       "      <td>NaN</td>\n",
       "      <td>NaN</td>\n",
       "      <td>NaN</td>\n",
       "    </tr>\n",
       "  </tbody>\n",
       "</table>\n",
       "</div>"
      ],
      "text/plain": [
       "        clock RegistrationCode            Name  Round    Due Date profiling  \\\n",
       "0   3/12/2017           859116         שי הובר    1.0         NaN         V   \n",
       "1         NaN            64229        נטע פורה    2.0         NaN         V   \n",
       "2         NaN           637617        שרית קול    2.0         NaN         V   \n",
       "3         NaN           757248       אטי תל כץ    2.0         NaN         V   \n",
       "4         NaN           670055        נעמה שחר    3.0  29/12/2017         V   \n",
       "6         NaN           675329      מירב מונטה    3.0         NaN         V   \n",
       "7         NaN           999443      אסיה רביבו    4.0   23/1/2017         V   \n",
       "8         NaN           292486        קרן קידר    4.0    6/2/2018         V   \n",
       "11        NaN           986640      גל גרינברג    5.0   25/2/2018         V   \n",
       "12        NaN           517738        ליאת קול    6.0         NaN         V   \n",
       "13        NaN           521161        חני נמיר    6.0         NaN         V   \n",
       "15        NaN            30398    לימור בר עמי    8.0    2/5/2018         V   \n",
       "16        NaN           394858  אנסטסיה יאביץ'    9.0    7/6/2018         V   \n",
       "17        NaN           485966    דגנית ישראלי   10.0   18/9/1978         V   \n",
       "18        NaN           471439       מור קוקוי   10.0    2/9/2018         V   \n",
       "19        NaN           909576        אדוה שרס   11.0    6/9/2018         V   \n",
       "20        NaN           405661       נעמי הדיה    NaN  20/12/2018         V   \n",
       "21        NaN           531067     ססקיה פרויד    NaN    1/1/2019         V   \n",
       "22        NaN           511664         אסנת שץ    NaN         NaN         V   \n",
       "\n",
       "           T=0   2w   1m   2m  3m labour date 6w al 3m al 6m al  12m al  \\\n",
       "0    10/7/2017    V    V  NaN NaN  2017-08-29     V     V     V     NaN   \n",
       "1    28/9/2017    V    V  NaN NaN  2017-10-11   NaN     V   NaN   29.11   \n",
       "2    28/9/2017    V    V  NaN NaN  2017-11-16   NaN     V   NaN     NaN   \n",
       "3    28/9/2017    V    V    V NaN  2017-11-16   NaN     V     V    3.10   \n",
       "4   18/10/2017    V    V    V NaN  2017-12-20   NaN     V     V     NaN   \n",
       "6   18/10/2017    V    V  NaN NaN  2017-03-12   NaN     V     V     NaN   \n",
       "7   28/11/2017    V    V  NaN NaN  2018-01-13   NaN     V     V     NaN   \n",
       "8   30/11/2017    V    V    V NaN  2018-04-02   NaN   NaN   NaN     NaN   \n",
       "11    2/1/2017    V    V  NaN NaN  2018-02-14   NaN     V   NaN     NaN   \n",
       "12    4/2/2018    V    V  NaN NaN  2018-03-29   NaN     V   NaN     NaN   \n",
       "13    7/2/2018    V  NaN  NaN NaN  2018-03-25   NaN     V     V     NaN   \n",
       "15    6/3/2018    V    V  NaN NaN  2018-01-04   NaN     V   NaN     NaN   \n",
       "16   18/4/2018    V    V  NaN NaN  2018-08-06   NaN   NaN   NaN     NaN   \n",
       "17    3/7/2018    V    V  NaN NaN  2018-08-24   NaN   3.1   NaN     NaN   \n",
       "18    1/7/2018  NaN    V  NaN NaN  2018-08-23   NaN     V   NaN     NaN   \n",
       "19   17/7/2018    V    V  NaN NaN  2018-01-09   NaN   3.1   NaN     NaN   \n",
       "20  28/10/2018    V    V  NaN NaN  2018-12-22   NaN   NaN   NaN     NaN   \n",
       "21  13/11/2018    V    V  NaN NaN  2019-10-01   NaN   NaN   NaN     NaN   \n",
       "22    3/1/2019  NaN  NaN  NaN NaN  2019-02-14   NaN   NaN   NaN     NaN   \n",
       "\n",
       "   Dropout reason  \n",
       "0             NaN  \n",
       "1             NaN  \n",
       "2             NaN  \n",
       "3             NaN  \n",
       "4             NaN  \n",
       "6             NaN  \n",
       "7             NaN  \n",
       "8             NaN  \n",
       "11            NaN  \n",
       "12            NaN  \n",
       "13            NaN  \n",
       "15            NaN  \n",
       "16            NaN  \n",
       "17            NaN  \n",
       "18            NaN  \n",
       "19            NaN  \n",
       "20            NaN  \n",
       "21            NaN  \n",
       "22            NaN  "
      ]
     },
     "execution_count": 23,
     "metadata": {},
     "output_type": "execute_result"
    }
   ],
   "source": [
    "gdm_df"
   ]
  },
  {
   "cell_type": "code",
   "execution_count": 49,
   "metadata": {},
   "outputs": [
    {
     "data": {
      "text/html": [
       "<div>\n",
       "<style scoped>\n",
       "    .dataframe tbody tr th:only-of-type {\n",
       "        vertical-align: middle;\n",
       "    }\n",
       "\n",
       "    .dataframe tbody tr th {\n",
       "        vertical-align: top;\n",
       "    }\n",
       "\n",
       "    .dataframe thead th {\n",
       "        text-align: right;\n",
       "    }\n",
       "</style>\n",
       "<table border=\"1\" class=\"dataframe\">\n",
       "  <thead>\n",
       "    <tr style=\"text-align: right;\">\n",
       "      <th></th>\n",
       "      <th>clock</th>\n",
       "      <th>RegistrationCode</th>\n",
       "      <th>Name</th>\n",
       "      <th>Round</th>\n",
       "      <th>Due Date</th>\n",
       "      <th>profiling</th>\n",
       "      <th>T=0</th>\n",
       "      <th>2w</th>\n",
       "      <th>1m</th>\n",
       "      <th>2m</th>\n",
       "      <th>3m</th>\n",
       "      <th>labour date</th>\n",
       "      <th>6w al</th>\n",
       "      <th>3m al</th>\n",
       "      <th>6m al</th>\n",
       "      <th>12m al</th>\n",
       "      <th>Dropout reason</th>\n",
       "    </tr>\n",
       "  </thead>\n",
       "  <tbody>\n",
       "    <tr>\n",
       "      <th>15</th>\n",
       "      <td>NaN</td>\n",
       "      <td>30398</td>\n",
       "      <td>לימור בר עמי</td>\n",
       "      <td>8.0</td>\n",
       "      <td>2/5/2018</td>\n",
       "      <td>V</td>\n",
       "      <td>6/3/2018</td>\n",
       "      <td>V</td>\n",
       "      <td>V</td>\n",
       "      <td>NaN</td>\n",
       "      <td>NaN</td>\n",
       "      <td>2018-01-04</td>\n",
       "      <td>NaN</td>\n",
       "      <td>V</td>\n",
       "      <td>NaN</td>\n",
       "      <td>NaN</td>\n",
       "      <td>NaN</td>\n",
       "    </tr>\n",
       "  </tbody>\n",
       "</table>\n",
       "</div>"
      ],
      "text/plain": [
       "   clock RegistrationCode          Name  Round  Due Date profiling       T=0  \\\n",
       "15   NaN            30398  לימור בר עמי    8.0  2/5/2018         V  6/3/2018   \n",
       "\n",
       "   2w 1m   2m  3m labour date 6w al 3m al 6m al  12m al Dropout reason  \n",
       "15  V  V  NaN NaN  2018-01-04   NaN     V   NaN     NaN            NaN  "
      ]
     },
     "execution_count": 49,
     "metadata": {},
     "output_type": "execute_result"
    }
   ],
   "source": [
    "gdm_df[gdm_df['RegistrationCode'] == '30398']"
   ]
  },
  {
   "cell_type": "code",
   "execution_count": 24,
   "metadata": {},
   "outputs": [],
   "source": [
    "gdm_dict = gdm_df.set_index('RegistrationCode').to_dict()['labour date']"
   ]
  },
  {
   "cell_type": "code",
   "execution_count": 25,
   "metadata": {},
   "outputs": [
    {
     "data": {
      "text/plain": [
       "{'859116': Timestamp('2017-08-29 00:00:00'),\n",
       " '64229': Timestamp('2017-10-11 00:00:00'),\n",
       " '637617': Timestamp('2017-11-16 00:00:00'),\n",
       " '757248': Timestamp('2017-11-16 00:00:00'),\n",
       " '670055': Timestamp('2017-12-20 00:00:00'),\n",
       " '675329': Timestamp('2017-03-12 00:00:00'),\n",
       " '999443': Timestamp('2018-01-13 00:00:00'),\n",
       " '292486': Timestamp('2018-04-02 00:00:00'),\n",
       " '986640': Timestamp('2018-02-14 00:00:00'),\n",
       " '517738': Timestamp('2018-03-29 00:00:00'),\n",
       " '521161': Timestamp('2018-03-25 00:00:00'),\n",
       " '30398': Timestamp('2018-01-04 00:00:00'),\n",
       " '394858': Timestamp('2018-08-06 00:00:00'),\n",
       " '485966': Timestamp('2018-08-24 00:00:00'),\n",
       " '471439': Timestamp('2018-08-23 00:00:00'),\n",
       " '909576': Timestamp('2018-01-09 00:00:00'),\n",
       " '405661': Timestamp('2018-12-22 00:00:00'),\n",
       " '531067': Timestamp('2019-10-01 00:00:00'),\n",
       " '511664': Timestamp('2019-02-14 00:00:00')}"
      ]
     },
     "execution_count": 25,
     "metadata": {},
     "output_type": "execute_result"
    }
   ],
   "source": [
    "gdm_dict"
   ]
  },
  {
   "cell_type": "code",
   "execution_count": 27,
   "metadata": {},
   "outputs": [],
   "source": [
    "cgm_filtered = cgm_df[cgm_df.index.get_level_values('RegistrationCode').isin(gdm_dict.keys())]"
   ]
  },
  {
   "cell_type": "code",
   "execution_count": 108,
   "metadata": {},
   "outputs": [
    {
     "data": {
      "text/plain": [
       "Index(['292486', '30398', '394858', '405661', '471439', '485966', '511664',\n",
       "       '517738', '521161', '531067', '637617', '64229', '670055', '675329',\n",
       "       '757248', '859116', '909576', '986640', '999443'],\n",
       "      dtype='object', name='RegistrationCode')"
      ]
     },
     "execution_count": 108,
     "metadata": {},
     "output_type": "execute_result"
    }
   ],
   "source": [
    "cgm_filtered.index.get_level_values('RegistrationCode').unique()"
   ]
  },
  {
   "cell_type": "code",
   "execution_count": 30,
   "metadata": {},
   "outputs": [
    {
     "name": "stderr",
     "output_type": "stream",
     "text": [
      "/home/elming/LabRepos/LabData/LabData/DataLoaders/CGMLoader.py:403: SettingWithCopyWarning:\n",
      "\n",
      "\n",
      "A value is trying to be set on a copy of a slice from a DataFrame.\n",
      "Try using .loc[row_indexer,col_indexer] = value instead\n",
      "\n",
      "See the caveats in the documentation: http://pandas.pydata.org/pandas-docs/stable/user_guide/indexing.html#returning-a-view-versus-a-copy\n",
      "\n",
      "/home/elming/LabRepos/LabData/LabData/DataLoaders/CGMLoader.py:404: SettingWithCopyWarning:\n",
      "\n",
      "\n",
      "A value is trying to be set on a copy of a slice from a DataFrame.\n",
      "Try using .loc[row_indexer,col_indexer] = value instead\n",
      "\n",
      "See the caveats in the documentation: http://pandas.pydata.org/pandas-docs/stable/user_guide/indexing.html#returning-a-view-versus-a-copy\n",
      "\n"
     ]
    }
   ],
   "source": [
    "mage_df_unfiltered = cgmLoader.calculate_mage(cgm_filtered)"
   ]
  },
  {
   "cell_type": "code",
   "execution_count": 31,
   "metadata": {},
   "outputs": [
    {
     "data": {
      "text/html": [
       "<div>\n",
       "<style scoped>\n",
       "    .dataframe tbody tr th:only-of-type {\n",
       "        vertical-align: middle;\n",
       "    }\n",
       "\n",
       "    .dataframe tbody tr th {\n",
       "        vertical-align: top;\n",
       "    }\n",
       "\n",
       "    .dataframe thead th {\n",
       "        text-align: right;\n",
       "    }\n",
       "</style>\n",
       "<table border=\"1\" class=\"dataframe\">\n",
       "  <thead>\n",
       "    <tr style=\"text-align: right;\">\n",
       "      <th></th>\n",
       "      <th>RegistrationCode</th>\n",
       "      <th>date</th>\n",
       "      <th>mage</th>\n",
       "      <th>hmage</th>\n",
       "      <th>lmage</th>\n",
       "      <th>ge</th>\n",
       "    </tr>\n",
       "  </thead>\n",
       "  <tbody>\n",
       "    <tr>\n",
       "      <th>0</th>\n",
       "      <td>292486</td>\n",
       "      <td>2017-11-08</td>\n",
       "      <td>19.34</td>\n",
       "      <td>23.00</td>\n",
       "      <td>15.67</td>\n",
       "      <td>4.0</td>\n",
       "    </tr>\n",
       "    <tr>\n",
       "      <th>47</th>\n",
       "      <td>292486</td>\n",
       "      <td>2017-11-09</td>\n",
       "      <td>32.67</td>\n",
       "      <td>25.67</td>\n",
       "      <td>39.67</td>\n",
       "      <td>6.0</td>\n",
       "    </tr>\n",
       "    <tr>\n",
       "      <th>143</th>\n",
       "      <td>292486</td>\n",
       "      <td>2017-11-10</td>\n",
       "      <td>32.25</td>\n",
       "      <td>26.00</td>\n",
       "      <td>38.50</td>\n",
       "      <td>6.0</td>\n",
       "    </tr>\n",
       "    <tr>\n",
       "      <th>239</th>\n",
       "      <td>292486</td>\n",
       "      <td>2017-11-11</td>\n",
       "      <td>17.38</td>\n",
       "      <td>15.00</td>\n",
       "      <td>19.75</td>\n",
       "      <td>6.0</td>\n",
       "    </tr>\n",
       "    <tr>\n",
       "      <th>334</th>\n",
       "      <td>292486</td>\n",
       "      <td>2017-11-12</td>\n",
       "      <td>15.44</td>\n",
       "      <td>14.00</td>\n",
       "      <td>16.88</td>\n",
       "      <td>9.0</td>\n",
       "    </tr>\n",
       "    <tr>\n",
       "      <th>...</th>\n",
       "      <td>...</td>\n",
       "      <td>...</td>\n",
       "      <td>...</td>\n",
       "      <td>...</td>\n",
       "      <td>...</td>\n",
       "      <td>...</td>\n",
       "    </tr>\n",
       "    <tr>\n",
       "      <th>5282</th>\n",
       "      <td>999443</td>\n",
       "      <td>2018-07-15</td>\n",
       "      <td>20.00</td>\n",
       "      <td>19.33</td>\n",
       "      <td>20.67</td>\n",
       "      <td>9.0</td>\n",
       "    </tr>\n",
       "    <tr>\n",
       "      <th>5378</th>\n",
       "      <td>999443</td>\n",
       "      <td>2018-07-16</td>\n",
       "      <td>30.34</td>\n",
       "      <td>29.67</td>\n",
       "      <td>31.00</td>\n",
       "      <td>11.0</td>\n",
       "    </tr>\n",
       "    <tr>\n",
       "      <th>5474</th>\n",
       "      <td>999443</td>\n",
       "      <td>2018-07-17</td>\n",
       "      <td>16.83</td>\n",
       "      <td>14.86</td>\n",
       "      <td>18.80</td>\n",
       "      <td>12.0</td>\n",
       "    </tr>\n",
       "    <tr>\n",
       "      <th>5570</th>\n",
       "      <td>999443</td>\n",
       "      <td>2018-07-18</td>\n",
       "      <td>23.23</td>\n",
       "      <td>23.17</td>\n",
       "      <td>23.29</td>\n",
       "      <td>13.0</td>\n",
       "    </tr>\n",
       "    <tr>\n",
       "      <th>5666</th>\n",
       "      <td>999443</td>\n",
       "      <td>2018-07-19</td>\n",
       "      <td>21.62</td>\n",
       "      <td>23.50</td>\n",
       "      <td>19.75</td>\n",
       "      <td>8.0</td>\n",
       "    </tr>\n",
       "  </tbody>\n",
       "</table>\n",
       "<p>1574 rows × 6 columns</p>\n",
       "</div>"
      ],
      "text/plain": [
       "     RegistrationCode       date   mage  hmage  lmage    ge\n",
       "0              292486 2017-11-08  19.34  23.00  15.67   4.0\n",
       "47             292486 2017-11-09  32.67  25.67  39.67   6.0\n",
       "143            292486 2017-11-10  32.25  26.00  38.50   6.0\n",
       "239            292486 2017-11-11  17.38  15.00  19.75   6.0\n",
       "334            292486 2017-11-12  15.44  14.00  16.88   9.0\n",
       "...               ...        ...    ...    ...    ...   ...\n",
       "5282           999443 2018-07-15  20.00  19.33  20.67   9.0\n",
       "5378           999443 2018-07-16  30.34  29.67  31.00  11.0\n",
       "5474           999443 2018-07-17  16.83  14.86  18.80  12.0\n",
       "5570           999443 2018-07-18  23.23  23.17  23.29  13.0\n",
       "5666           999443 2018-07-19  21.62  23.50  19.75   8.0\n",
       "\n",
       "[1574 rows x 6 columns]"
      ]
     },
     "execution_count": 31,
     "metadata": {},
     "output_type": "execute_result"
    }
   ],
   "source": [
    "mage_df_unfiltered"
   ]
  },
  {
   "cell_type": "code",
   "execution_count": 93,
   "metadata": {},
   "outputs": [],
   "source": [
    "mage_df = mage_df_unfiltered.copy()"
   ]
  },
  {
   "cell_type": "markdown",
   "metadata": {},
   "source": [
    "import plotly.graph_objects as go\n",
    "\n",
    "fig = go.Figure(data=go.Heatmap(\n",
    "                   z=[[19, 32, 50, 1], [20, 1, 60, 80, 30], [30, 60, 1, -10, 20]],\n",
    "                   x=['Day 0', 'Day 1', 'Day 2', 'Day 3', 'Day4'],\n",
    "                   y=['rc292486', 'rc999443', 'rc223456'],\n",
    "                   hoverongaps = False))\n",
    "fig.show()"
   ]
  },
  {
   "cell_type": "code",
   "execution_count": 94,
   "metadata": {},
   "outputs": [
    {
     "data": {
      "text/plain": [
       "array(['292486', '30398', '394858', '405661', '471439', '485966',\n",
       "       '511664', '517738', '521161', '531067', '637617', '64229',\n",
       "       '670055', '675329', '757248', '859116', '909576', '986640',\n",
       "       '999443'], dtype=object)"
      ]
     },
     "execution_count": 94,
     "metadata": {},
     "output_type": "execute_result"
    }
   ],
   "source": [
    "mage_df.RegistrationCode.unique()"
   ]
  },
  {
   "cell_type": "markdown",
   "metadata": {},
   "source": [
    "Now I want to have a mage_df with only dates before birth for each participant"
   ]
  },
  {
   "cell_type": "markdown",
   "metadata": {},
   "source": [
    "I am looking at participant #30398, she doesn't have her CGM data in the CGM_loader before her date of birth. See below"
   ]
  },
  {
   "cell_type": "code",
   "execution_count": 95,
   "metadata": {},
   "outputs": [
    {
     "data": {
      "text/html": [
       "<div>\n",
       "<style scoped>\n",
       "    .dataframe tbody tr th:only-of-type {\n",
       "        vertical-align: middle;\n",
       "    }\n",
       "\n",
       "    .dataframe tbody tr th {\n",
       "        vertical-align: top;\n",
       "    }\n",
       "\n",
       "    .dataframe thead th {\n",
       "        text-align: right;\n",
       "    }\n",
       "</style>\n",
       "<table border=\"1\" class=\"dataframe\">\n",
       "  <thead>\n",
       "    <tr style=\"text-align: right;\">\n",
       "      <th></th>\n",
       "      <th>RegistrationCode</th>\n",
       "      <th>date</th>\n",
       "      <th>mage</th>\n",
       "      <th>hmage</th>\n",
       "      <th>lmage</th>\n",
       "      <th>ge</th>\n",
       "    </tr>\n",
       "  </thead>\n",
       "  <tbody>\n",
       "    <tr>\n",
       "      <th>0</th>\n",
       "      <td>30398</td>\n",
       "      <td>2018-02-15</td>\n",
       "      <td>10.34</td>\n",
       "      <td>0.00</td>\n",
       "      <td>20.67</td>\n",
       "      <td>3.0</td>\n",
       "    </tr>\n",
       "    <tr>\n",
       "      <th>43</th>\n",
       "      <td>30398</td>\n",
       "      <td>2018-02-16</td>\n",
       "      <td>20.25</td>\n",
       "      <td>23.00</td>\n",
       "      <td>17.50</td>\n",
       "      <td>4.0</td>\n",
       "    </tr>\n",
       "    <tr>\n",
       "      <th>127</th>\n",
       "      <td>30398</td>\n",
       "      <td>2018-02-17</td>\n",
       "      <td>19.00</td>\n",
       "      <td>19.00</td>\n",
       "      <td>19.00</td>\n",
       "      <td>4.0</td>\n",
       "    </tr>\n",
       "    <tr>\n",
       "      <th>213</th>\n",
       "      <td>30398</td>\n",
       "      <td>2018-02-18</td>\n",
       "      <td>10.34</td>\n",
       "      <td>10.00</td>\n",
       "      <td>10.67</td>\n",
       "      <td>6.0</td>\n",
       "    </tr>\n",
       "    <tr>\n",
       "      <th>294</th>\n",
       "      <td>30398</td>\n",
       "      <td>2018-02-19</td>\n",
       "      <td>24.84</td>\n",
       "      <td>25.00</td>\n",
       "      <td>24.67</td>\n",
       "      <td>4.0</td>\n",
       "    </tr>\n",
       "    <tr>\n",
       "      <th>380</th>\n",
       "      <td>30398</td>\n",
       "      <td>2018-02-20</td>\n",
       "      <td>12.82</td>\n",
       "      <td>12.40</td>\n",
       "      <td>13.25</td>\n",
       "      <td>9.0</td>\n",
       "    </tr>\n",
       "    <tr>\n",
       "      <th>472</th>\n",
       "      <td>30398</td>\n",
       "      <td>2018-02-21</td>\n",
       "      <td>10.25</td>\n",
       "      <td>0.00</td>\n",
       "      <td>20.50</td>\n",
       "      <td>4.0</td>\n",
       "    </tr>\n",
       "    <tr>\n",
       "      <th>562</th>\n",
       "      <td>30398</td>\n",
       "      <td>2018-02-22</td>\n",
       "      <td>12.00</td>\n",
       "      <td>0.00</td>\n",
       "      <td>24.00</td>\n",
       "      <td>2.0</td>\n",
       "    </tr>\n",
       "    <tr>\n",
       "      <th>645</th>\n",
       "      <td>30398</td>\n",
       "      <td>2018-02-23</td>\n",
       "      <td>6.00</td>\n",
       "      <td>12.00</td>\n",
       "      <td>0.00</td>\n",
       "      <td>1.0</td>\n",
       "    </tr>\n",
       "    <tr>\n",
       "      <th>691</th>\n",
       "      <td>30398</td>\n",
       "      <td>2018-02-24</td>\n",
       "      <td>0.00</td>\n",
       "      <td>0.00</td>\n",
       "      <td>0.00</td>\n",
       "      <td>0.0</td>\n",
       "    </tr>\n",
       "    <tr>\n",
       "      <th>722</th>\n",
       "      <td>30398</td>\n",
       "      <td>2018-02-25</td>\n",
       "      <td>19.00</td>\n",
       "      <td>22.00</td>\n",
       "      <td>16.00</td>\n",
       "      <td>3.0</td>\n",
       "    </tr>\n",
       "    <tr>\n",
       "      <th>764</th>\n",
       "      <td>30398</td>\n",
       "      <td>2018-02-26</td>\n",
       "      <td>6.75</td>\n",
       "      <td>0.00</td>\n",
       "      <td>13.50</td>\n",
       "      <td>2.0</td>\n",
       "    </tr>\n",
       "    <tr>\n",
       "      <th>817</th>\n",
       "      <td>30398</td>\n",
       "      <td>2018-02-27</td>\n",
       "      <td>6.25</td>\n",
       "      <td>0.00</td>\n",
       "      <td>12.50</td>\n",
       "      <td>2.0</td>\n",
       "    </tr>\n",
       "    <tr>\n",
       "      <th>873</th>\n",
       "      <td>30398</td>\n",
       "      <td>2018-02-28</td>\n",
       "      <td>5.00</td>\n",
       "      <td>0.00</td>\n",
       "      <td>10.00</td>\n",
       "      <td>1.0</td>\n",
       "    </tr>\n",
       "    <tr>\n",
       "      <th>903</th>\n",
       "      <td>30398</td>\n",
       "      <td>2018-03-07</td>\n",
       "      <td>0.00</td>\n",
       "      <td>0.00</td>\n",
       "      <td>0.00</td>\n",
       "      <td>0.0</td>\n",
       "    </tr>\n",
       "    <tr>\n",
       "      <th>939</th>\n",
       "      <td>30398</td>\n",
       "      <td>2018-03-08</td>\n",
       "      <td>16.84</td>\n",
       "      <td>17.00</td>\n",
       "      <td>16.67</td>\n",
       "      <td>4.0</td>\n",
       "    </tr>\n",
       "    <tr>\n",
       "      <th>972</th>\n",
       "      <td>30398</td>\n",
       "      <td>2018-03-09</td>\n",
       "      <td>7.50</td>\n",
       "      <td>0.00</td>\n",
       "      <td>15.00</td>\n",
       "      <td>1.0</td>\n",
       "    </tr>\n",
       "    <tr>\n",
       "      <th>1042</th>\n",
       "      <td>30398</td>\n",
       "      <td>2018-03-10</td>\n",
       "      <td>4.50</td>\n",
       "      <td>0.00</td>\n",
       "      <td>9.00</td>\n",
       "      <td>1.0</td>\n",
       "    </tr>\n",
       "    <tr>\n",
       "      <th>1073</th>\n",
       "      <td>30398</td>\n",
       "      <td>2018-03-12</td>\n",
       "      <td>9.00</td>\n",
       "      <td>0.00</td>\n",
       "      <td>18.00</td>\n",
       "      <td>1.0</td>\n",
       "    </tr>\n",
       "    <tr>\n",
       "      <th>1159</th>\n",
       "      <td>30398</td>\n",
       "      <td>2018-03-13</td>\n",
       "      <td>10.00</td>\n",
       "      <td>0.00</td>\n",
       "      <td>20.00</td>\n",
       "      <td>2.0</td>\n",
       "    </tr>\n",
       "    <tr>\n",
       "      <th>1220</th>\n",
       "      <td>30398</td>\n",
       "      <td>2018-03-15</td>\n",
       "      <td>9.00</td>\n",
       "      <td>0.00</td>\n",
       "      <td>18.00</td>\n",
       "      <td>1.0</td>\n",
       "    </tr>\n",
       "    <tr>\n",
       "      <th>1274</th>\n",
       "      <td>30398</td>\n",
       "      <td>2018-03-16</td>\n",
       "      <td>0.00</td>\n",
       "      <td>0.00</td>\n",
       "      <td>0.00</td>\n",
       "      <td>0.0</td>\n",
       "    </tr>\n",
       "    <tr>\n",
       "      <th>1303</th>\n",
       "      <td>30398</td>\n",
       "      <td>2018-03-21</td>\n",
       "      <td>8.00</td>\n",
       "      <td>0.00</td>\n",
       "      <td>16.00</td>\n",
       "      <td>2.0</td>\n",
       "    </tr>\n",
       "    <tr>\n",
       "      <th>1365</th>\n",
       "      <td>30398</td>\n",
       "      <td>2018-03-22</td>\n",
       "      <td>8.00</td>\n",
       "      <td>0.00</td>\n",
       "      <td>16.00</td>\n",
       "      <td>3.0</td>\n",
       "    </tr>\n",
       "    <tr>\n",
       "      <th>1453</th>\n",
       "      <td>30398</td>\n",
       "      <td>2018-03-23</td>\n",
       "      <td>12.00</td>\n",
       "      <td>0.00</td>\n",
       "      <td>24.00</td>\n",
       "      <td>1.0</td>\n",
       "    </tr>\n",
       "    <tr>\n",
       "      <th>1484</th>\n",
       "      <td>30398</td>\n",
       "      <td>2018-03-24</td>\n",
       "      <td>8.50</td>\n",
       "      <td>0.00</td>\n",
       "      <td>17.00</td>\n",
       "      <td>1.0</td>\n",
       "    </tr>\n",
       "    <tr>\n",
       "      <th>1532</th>\n",
       "      <td>30398</td>\n",
       "      <td>2018-03-25</td>\n",
       "      <td>9.00</td>\n",
       "      <td>0.00</td>\n",
       "      <td>18.00</td>\n",
       "      <td>3.0</td>\n",
       "    </tr>\n",
       "    <tr>\n",
       "      <th>1593</th>\n",
       "      <td>30398</td>\n",
       "      <td>2018-03-26</td>\n",
       "      <td>27.25</td>\n",
       "      <td>26.00</td>\n",
       "      <td>28.50</td>\n",
       "      <td>3.0</td>\n",
       "    </tr>\n",
       "    <tr>\n",
       "      <th>1659</th>\n",
       "      <td>30398</td>\n",
       "      <td>2018-03-27</td>\n",
       "      <td>21.50</td>\n",
       "      <td>25.00</td>\n",
       "      <td>18.00</td>\n",
       "      <td>3.0</td>\n",
       "    </tr>\n",
       "    <tr>\n",
       "      <th>1744</th>\n",
       "      <td>30398</td>\n",
       "      <td>2018-03-28</td>\n",
       "      <td>17.25</td>\n",
       "      <td>17.00</td>\n",
       "      <td>17.50</td>\n",
       "      <td>3.0</td>\n",
       "    </tr>\n",
       "    <tr>\n",
       "      <th>1830</th>\n",
       "      <td>30398</td>\n",
       "      <td>2018-03-29</td>\n",
       "      <td>13.00</td>\n",
       "      <td>0.00</td>\n",
       "      <td>26.00</td>\n",
       "      <td>1.0</td>\n",
       "    </tr>\n",
       "    <tr>\n",
       "      <th>1861</th>\n",
       "      <td>30398</td>\n",
       "      <td>2018-03-30</td>\n",
       "      <td>18.00</td>\n",
       "      <td>15.00</td>\n",
       "      <td>21.00</td>\n",
       "      <td>3.0</td>\n",
       "    </tr>\n",
       "    <tr>\n",
       "      <th>1892</th>\n",
       "      <td>30398</td>\n",
       "      <td>2018-03-31</td>\n",
       "      <td>8.50</td>\n",
       "      <td>0.00</td>\n",
       "      <td>17.00</td>\n",
       "      <td>1.0</td>\n",
       "    </tr>\n",
       "    <tr>\n",
       "      <th>1957</th>\n",
       "      <td>30398</td>\n",
       "      <td>2018-04-01</td>\n",
       "      <td>4.50</td>\n",
       "      <td>9.00</td>\n",
       "      <td>0.00</td>\n",
       "      <td>3.0</td>\n",
       "    </tr>\n",
       "    <tr>\n",
       "      <th>1987</th>\n",
       "      <td>30398</td>\n",
       "      <td>2018-04-22</td>\n",
       "      <td>15.50</td>\n",
       "      <td>15.00</td>\n",
       "      <td>16.00</td>\n",
       "      <td>11.0</td>\n",
       "    </tr>\n",
       "    <tr>\n",
       "      <th>2037</th>\n",
       "      <td>30398</td>\n",
       "      <td>2018-04-23</td>\n",
       "      <td>25.75</td>\n",
       "      <td>26.50</td>\n",
       "      <td>25.00</td>\n",
       "      <td>10.0</td>\n",
       "    </tr>\n",
       "    <tr>\n",
       "      <th>2129</th>\n",
       "      <td>30398</td>\n",
       "      <td>2018-04-24</td>\n",
       "      <td>30.48</td>\n",
       "      <td>30.83</td>\n",
       "      <td>30.14</td>\n",
       "      <td>13.0</td>\n",
       "    </tr>\n",
       "    <tr>\n",
       "      <th>2221</th>\n",
       "      <td>30398</td>\n",
       "      <td>2018-04-25</td>\n",
       "      <td>29.12</td>\n",
       "      <td>28.25</td>\n",
       "      <td>30.00</td>\n",
       "      <td>7.0</td>\n",
       "    </tr>\n",
       "    <tr>\n",
       "      <th>2316</th>\n",
       "      <td>30398</td>\n",
       "      <td>2018-04-26</td>\n",
       "      <td>22.50</td>\n",
       "      <td>22.00</td>\n",
       "      <td>23.00</td>\n",
       "      <td>9.0</td>\n",
       "    </tr>\n",
       "    <tr>\n",
       "      <th>2409</th>\n",
       "      <td>30398</td>\n",
       "      <td>2018-04-27</td>\n",
       "      <td>25.25</td>\n",
       "      <td>23.00</td>\n",
       "      <td>27.50</td>\n",
       "      <td>4.0</td>\n",
       "    </tr>\n",
       "    <tr>\n",
       "      <th>2502</th>\n",
       "      <td>30398</td>\n",
       "      <td>2018-04-28</td>\n",
       "      <td>12.00</td>\n",
       "      <td>24.00</td>\n",
       "      <td>0.00</td>\n",
       "      <td>1.0</td>\n",
       "    </tr>\n",
       "    <tr>\n",
       "      <th>2597</th>\n",
       "      <td>30398</td>\n",
       "      <td>2018-04-29</td>\n",
       "      <td>22.50</td>\n",
       "      <td>21.00</td>\n",
       "      <td>24.00</td>\n",
       "      <td>3.0</td>\n",
       "    </tr>\n",
       "    <tr>\n",
       "      <th>2693</th>\n",
       "      <td>30398</td>\n",
       "      <td>2018-04-30</td>\n",
       "      <td>26.50</td>\n",
       "      <td>28.00</td>\n",
       "      <td>25.00</td>\n",
       "      <td>2.0</td>\n",
       "    </tr>\n",
       "    <tr>\n",
       "      <th>2789</th>\n",
       "      <td>30398</td>\n",
       "      <td>2018-05-01</td>\n",
       "      <td>5.00</td>\n",
       "      <td>5.00</td>\n",
       "      <td>5.00</td>\n",
       "      <td>3.0</td>\n",
       "    </tr>\n",
       "  </tbody>\n",
       "</table>\n",
       "</div>"
      ],
      "text/plain": [
       "     RegistrationCode       date   mage  hmage  lmage    ge\n",
       "0               30398 2018-02-15  10.34   0.00  20.67   3.0\n",
       "43              30398 2018-02-16  20.25  23.00  17.50   4.0\n",
       "127             30398 2018-02-17  19.00  19.00  19.00   4.0\n",
       "213             30398 2018-02-18  10.34  10.00  10.67   6.0\n",
       "294             30398 2018-02-19  24.84  25.00  24.67   4.0\n",
       "380             30398 2018-02-20  12.82  12.40  13.25   9.0\n",
       "472             30398 2018-02-21  10.25   0.00  20.50   4.0\n",
       "562             30398 2018-02-22  12.00   0.00  24.00   2.0\n",
       "645             30398 2018-02-23   6.00  12.00   0.00   1.0\n",
       "691             30398 2018-02-24   0.00   0.00   0.00   0.0\n",
       "722             30398 2018-02-25  19.00  22.00  16.00   3.0\n",
       "764             30398 2018-02-26   6.75   0.00  13.50   2.0\n",
       "817             30398 2018-02-27   6.25   0.00  12.50   2.0\n",
       "873             30398 2018-02-28   5.00   0.00  10.00   1.0\n",
       "903             30398 2018-03-07   0.00   0.00   0.00   0.0\n",
       "939             30398 2018-03-08  16.84  17.00  16.67   4.0\n",
       "972             30398 2018-03-09   7.50   0.00  15.00   1.0\n",
       "1042            30398 2018-03-10   4.50   0.00   9.00   1.0\n",
       "1073            30398 2018-03-12   9.00   0.00  18.00   1.0\n",
       "1159            30398 2018-03-13  10.00   0.00  20.00   2.0\n",
       "1220            30398 2018-03-15   9.00   0.00  18.00   1.0\n",
       "1274            30398 2018-03-16   0.00   0.00   0.00   0.0\n",
       "1303            30398 2018-03-21   8.00   0.00  16.00   2.0\n",
       "1365            30398 2018-03-22   8.00   0.00  16.00   3.0\n",
       "1453            30398 2018-03-23  12.00   0.00  24.00   1.0\n",
       "1484            30398 2018-03-24   8.50   0.00  17.00   1.0\n",
       "1532            30398 2018-03-25   9.00   0.00  18.00   3.0\n",
       "1593            30398 2018-03-26  27.25  26.00  28.50   3.0\n",
       "1659            30398 2018-03-27  21.50  25.00  18.00   3.0\n",
       "1744            30398 2018-03-28  17.25  17.00  17.50   3.0\n",
       "1830            30398 2018-03-29  13.00   0.00  26.00   1.0\n",
       "1861            30398 2018-03-30  18.00  15.00  21.00   3.0\n",
       "1892            30398 2018-03-31   8.50   0.00  17.00   1.0\n",
       "1957            30398 2018-04-01   4.50   9.00   0.00   3.0\n",
       "1987            30398 2018-04-22  15.50  15.00  16.00  11.0\n",
       "2037            30398 2018-04-23  25.75  26.50  25.00  10.0\n",
       "2129            30398 2018-04-24  30.48  30.83  30.14  13.0\n",
       "2221            30398 2018-04-25  29.12  28.25  30.00   7.0\n",
       "2316            30398 2018-04-26  22.50  22.00  23.00   9.0\n",
       "2409            30398 2018-04-27  25.25  23.00  27.50   4.0\n",
       "2502            30398 2018-04-28  12.00  24.00   0.00   1.0\n",
       "2597            30398 2018-04-29  22.50  21.00  24.00   3.0\n",
       "2693            30398 2018-04-30  26.50  28.00  25.00   2.0\n",
       "2789            30398 2018-05-01   5.00   5.00   5.00   3.0"
      ]
     },
     "execution_count": 95,
     "metadata": {},
     "output_type": "execute_result"
    }
   ],
   "source": [
    "test = mage_df[mage_df['RegistrationCode'] =='30398']\n",
    "test"
   ]
  },
  {
   "cell_type": "code",
   "execution_count": 96,
   "metadata": {
    "scrolled": false
   },
   "outputs": [
    {
     "data": {
      "text/plain": [
       "15   2018-01-04\n",
       "Name: labour date, dtype: datetime64[ns]"
      ]
     },
     "execution_count": 96,
     "metadata": {},
     "output_type": "execute_result"
    }
   ],
   "source": [
    "gdm_df[gdm_df['RegistrationCode'] == '30398']['labour date']"
   ]
  },
  {
   "cell_type": "markdown",
   "metadata": {},
   "source": [
    "Here you see that in our loader we don't find the CGM data before she gave the birth on 2018-01-04"
   ]
  },
  {
   "cell_type": "code",
   "execution_count": 97,
   "metadata": {
    "scrolled": true
   },
   "outputs": [
    {
     "data": {
      "text/html": [
       "<div>\n",
       "<style scoped>\n",
       "    .dataframe tbody tr th:only-of-type {\n",
       "        vertical-align: middle;\n",
       "    }\n",
       "\n",
       "    .dataframe tbody tr th {\n",
       "        vertical-align: top;\n",
       "    }\n",
       "\n",
       "    .dataframe thead th {\n",
       "        text-align: right;\n",
       "    }\n",
       "</style>\n",
       "<table border=\"1\" class=\"dataframe\">\n",
       "  <thead>\n",
       "    <tr style=\"text-align: right;\">\n",
       "      <th></th>\n",
       "      <th></th>\n",
       "      <th></th>\n",
       "      <th>GlucoseValue</th>\n",
       "      <th>PPGR</th>\n",
       "    </tr>\n",
       "    <tr>\n",
       "      <th>RegistrationCode</th>\n",
       "      <th>ConnectionID</th>\n",
       "      <th>Date</th>\n",
       "      <th></th>\n",
       "      <th></th>\n",
       "    </tr>\n",
       "  </thead>\n",
       "  <tbody>\n",
       "    <tr>\n",
       "      <th rowspan=\"11\" valign=\"top\">30398</th>\n",
       "      <th rowspan=\"5\" valign=\"top\">2466</th>\n",
       "      <th>2018-02-15 10:50:00+02:00</th>\n",
       "      <td>77.0</td>\n",
       "      <td>NaN</td>\n",
       "    </tr>\n",
       "    <tr>\n",
       "      <th>2018-02-15 11:05:00+02:00</th>\n",
       "      <td>75.0</td>\n",
       "      <td>NaN</td>\n",
       "    </tr>\n",
       "    <tr>\n",
       "      <th>2018-02-15 11:20:00+02:00</th>\n",
       "      <td>67.0</td>\n",
       "      <td>NaN</td>\n",
       "    </tr>\n",
       "    <tr>\n",
       "      <th>2018-02-15 11:35:00+02:00</th>\n",
       "      <td>61.0</td>\n",
       "      <td>NaN</td>\n",
       "    </tr>\n",
       "    <tr>\n",
       "      <th>2018-02-15 11:50:00+02:00</th>\n",
       "      <td>57.0</td>\n",
       "      <td>NaN</td>\n",
       "    </tr>\n",
       "    <tr>\n",
       "      <th>...</th>\n",
       "      <th>...</th>\n",
       "      <td>...</td>\n",
       "      <td>...</td>\n",
       "    </tr>\n",
       "    <tr>\n",
       "      <th rowspan=\"5\" valign=\"top\">5543</th>\n",
       "      <th>2018-05-01 08:12:00+03:00</th>\n",
       "      <td>83.0</td>\n",
       "      <td>NaN</td>\n",
       "    </tr>\n",
       "    <tr>\n",
       "      <th>2018-05-01 08:27:00+03:00</th>\n",
       "      <td>81.0</td>\n",
       "      <td>NaN</td>\n",
       "    </tr>\n",
       "    <tr>\n",
       "      <th>2018-05-01 08:42:00+03:00</th>\n",
       "      <td>80.0</td>\n",
       "      <td>NaN</td>\n",
       "    </tr>\n",
       "    <tr>\n",
       "      <th>2018-05-01 08:57:00+03:00</th>\n",
       "      <td>80.0</td>\n",
       "      <td>NaN</td>\n",
       "    </tr>\n",
       "    <tr>\n",
       "      <th>2018-05-01 09:12:00+03:00</th>\n",
       "      <td>82.0</td>\n",
       "      <td>NaN</td>\n",
       "    </tr>\n",
       "  </tbody>\n",
       "</table>\n",
       "<p>2826 rows × 2 columns</p>\n",
       "</div>"
      ],
      "text/plain": [
       "                                                         GlucoseValue  PPGR\n",
       "RegistrationCode ConnectionID Date                                         \n",
       "30398            2466         2018-02-15 10:50:00+02:00          77.0   NaN\n",
       "                              2018-02-15 11:05:00+02:00          75.0   NaN\n",
       "                              2018-02-15 11:20:00+02:00          67.0   NaN\n",
       "                              2018-02-15 11:35:00+02:00          61.0   NaN\n",
       "                              2018-02-15 11:50:00+02:00          57.0   NaN\n",
       "...                                                               ...   ...\n",
       "                 5543         2018-05-01 08:12:00+03:00          83.0   NaN\n",
       "                              2018-05-01 08:27:00+03:00          81.0   NaN\n",
       "                              2018-05-01 08:42:00+03:00          80.0   NaN\n",
       "                              2018-05-01 08:57:00+03:00          80.0   NaN\n",
       "                              2018-05-01 09:12:00+03:00          82.0   NaN\n",
       "\n",
       "[2826 rows x 2 columns]"
      ]
     },
     "execution_count": 97,
     "metadata": {},
     "output_type": "execute_result"
    }
   ],
   "source": [
    "cgm_df.loc[('30398', slice(None), slice(None)), :]"
   ]
  },
  {
   "cell_type": "markdown",
   "metadata": {},
   "source": [
    "So it makes sense now that the function below drops all the people that don't have CGM data before giving a birth"
   ]
  },
  {
   "cell_type": "code",
   "execution_count": 98,
   "metadata": {},
   "outputs": [
    {
     "data": {
      "text/plain": [
       "array(['292486', '394858', '405661', '471439', '485966', '511664',\n",
       "       '517738', '521161', '531067', '637617', '64229', '670055',\n",
       "       '757248', '859116', '986640', '999443'], dtype=object)"
      ]
     },
     "execution_count": 98,
     "metadata": {},
     "output_type": "execute_result"
    }
   ],
   "source": [
    "for rc in mage_df[\"RegistrationCode\"].unique():\n",
    "    \n",
    "    indexNames = mage_df[ (mage_df['RegistrationCode'] == rc) & (mage_df['date'] >= gdm_dict[rc]) ].index\n",
    "    mage_df.drop(indexNames, inplace=True)\n",
    "mage_df['RegistrationCode'].unique()"
   ]
  },
  {
   "cell_type": "code",
   "execution_count": 99,
   "metadata": {},
   "outputs": [
    {
     "data": {
      "text/plain": [
       "16"
      ]
     },
     "execution_count": 99,
     "metadata": {},
     "output_type": "execute_result"
    }
   ],
   "source": [
    "len(mage_df['RegistrationCode'].unique())"
   ]
  },
  {
   "cell_type": "markdown",
   "metadata": {},
   "source": [
    "Now I will proceed with a heatmap for these 16 women. First, I need to find out maximum days of connection a person had"
   ]
  },
  {
   "cell_type": "code",
   "execution_count": 100,
   "metadata": {
    "scrolled": false
   },
   "outputs": [
    {
     "name": "stdout",
     "output_type": "stream",
     "text": [
      "292486 48\n",
      "394858 54\n",
      "405661 32\n",
      "471439 53\n",
      "485966 53\n",
      "511664 57\n",
      "517738 34\n",
      "521161 52\n",
      "531067 64\n",
      "637617 48\n",
      "64229 26\n",
      "670055 46\n",
      "757248 54\n",
      "859116 39\n",
      "986640 46\n",
      "999443 47\n"
     ]
    }
   ],
   "source": [
    "for rc in mage_df[\"RegistrationCode\"].unique():\n",
    "    print(rc, len(mage_df[mage_df['RegistrationCode'] == rc]))"
   ]
  },
  {
   "cell_type": "markdown",
   "metadata": {},
   "source": [
    "Ok, the maximum number of connection days befor labour date (at least in the data that is inside the cgm loader) was 64 for the participant 531067. Now I will make the list of day names for the heatmap."
   ]
  },
  {
   "cell_type": "code",
   "execution_count": 101,
   "metadata": {
    "scrolled": true
   },
   "outputs": [
    {
     "name": "stdout",
     "output_type": "stream",
     "text": [
      "['Day 1', 'Day 2', 'Day 3', 'Day 4', 'Day 5', 'Day 6', 'Day 7', 'Day 8', 'Day 9', 'Day 10', 'Day 11', 'Day 12', 'Day 13', 'Day 14', 'Day 15', 'Day 16', 'Day 17', 'Day 18', 'Day 19', 'Day 20', 'Day 21', 'Day 22', 'Day 23', 'Day 24', 'Day 25', 'Day 26', 'Day 27', 'Day 28', 'Day 29', 'Day 30', 'Day 31', 'Day 32', 'Day 33', 'Day 34', 'Day 35', 'Day 36', 'Day 37', 'Day 38', 'Day 39', 'Day 40', 'Day 41', 'Day 42', 'Day 43', 'Day 44', 'Day 45', 'Day 46', 'Day 47', 'Day 48', 'Day 49', 'Day 50', 'Day 51', 'Day 52', 'Day 53', 'Day 54', 'Day 55', 'Day 56', 'Day 57', 'Day 58', 'Day 59', 'Day 60', 'Day 61', 'Day 62', 'Day 63', 'Day 64']\n"
     ]
    }
   ],
   "source": [
    "list_of_days = []\n",
    "for i in range(64):\n",
    "    list_of_days.append('Day {}'.format(i+1))\n",
    "print(list_of_days)"
   ]
  },
  {
   "cell_type": "markdown",
   "metadata": {},
   "source": [
    "Now I want to make a list of lists with mage values for each person per day. If the number of days for a person was smaller than 64, then it should be filled with NaN(None)."
   ]
  },
  {
   "cell_type": "code",
   "execution_count": 102,
   "metadata": {},
   "outputs": [],
   "source": [
    "list_of_mage_values = []\n",
    "for rc in mage_df[\"RegistrationCode\"].unique():\n",
    "    list_of_mage_values.append(list(mage_df[mage_df['RegistrationCode'] == rc]['mage']))"
   ]
  },
  {
   "cell_type": "code",
   "execution_count": 103,
   "metadata": {},
   "outputs": [
    {
     "name": "stdout",
     "output_type": "stream",
     "text": [
      "[[32.67, 32.25, 15.44, 22.0, 21.91, 14.75, 20.12, 25.2, 16.8, 0.0, 28.75, 19.36, 18.83, 19.1, 14.0, 7.12, 9.25, 13.25, 9.12, 15.16, 8.75, 7.0, 8.84, 6.5, 16.75, 19.34, 9.16, 12.96, 8.34, 10.84, 8.0, 7.5, 6.84, 8.8, 20.84, 41.0, 18.75, 16.5, 9.0, 13.4, 12.5, 16.25, 14.66, 14.5, 7.0, 15.12, 13.5, 6.0], [26.25, 14.0, 15.8, 18.75, 21.75, 16.8, 9.84, 8.8, 8.34, 13.12, 24.0, 6.12, 14.38, 9.5, 18.59, 9.62, 52.0, 17.88, 13.5, 17.84, 10.0, 14.25, 14.75, 19.5, 5.5, 12.0, 13.71, 18.5, 0.0, 16.12, 10.75, 10.25, 9.5, 12.66, 0.0, 0.0, 18.09, 20.86, 25.5, 19.0, 15.5, 17.25, 19.64, 10.4, 12.0, 13.25, 5.5, 8.5, 8.34, 18.0, 16.25, 9.5, 17.0, 2.5], [18.34, 16.7, 14.0, 15.84, 19.16, 17.29, 8.16, 20.5, 13.0, 27.5, 21.25, 16.96, 19.0, 18.9, 8.5, 19.88, 11.34, 9.5, 9.5, 15.84, 7.25, 8.12, 13.38, 6.0, 9.75, 11.84, 17.0, 14.62, 17.0, 11.84, 6.5, 8.75], [25.0, 12.25, 28.16, 12.25, 20.75, 21.25, 16.25, 17.09, 16.0, 17.75, 10.5, 14.0, 6.5, 13.75, 11.8, 14.16, 19.25, 19.5, 17.15, 28.84, 13.0, 33.25, 16.5, 12.16, 10.5, 5.25, 13.38, 24.16, 10.84, 18.16, 23.0, 17.5, 11.34, 39.5, 9.5, 13.16, 16.84, 15.66, 32.75, 21.84, 16.2, 14.88, 0.0, 31.0, 22.12, 28.5, 20.75, 18.0, 8.0, 8.75, 14.0, 0.0, 13.66], [11.5, 17.25, 15.0, 8.3, 12.66, 23.09, 13.5, 11.25, 24.75, 10.5, 19.0, 7.75, 13.0, 24.91, 25.66, 16.16, 18.25, 15.0, 22.75, 21.84, 10.75, 18.66, 9.0, 0.0, 18.6, 18.41, 19.5, 11.66, 10.88, 12.84, 14.5, 7.66, 17.5, 19.48, 8.75, 0.0, 13.5, 14.0, 11.5, 36.88, 37.34, 18.75, 9.0, 15.5, 8.5, 8.12, 7.25, 14.38, 0.0, 30.5, 10.13, 13.62, 9.66], [6.5, 16.5, 16.5, 12.0, 12.75, 6.5, 6.38, 24.0, 15.88, 8.0, 17.0, 3.5, 18.25, 16.5, 15.5, 13.46, 14.25, 20.34, 24.25, 12.72, 10.12, 14.75, 15.14, 2.5, 21.5, 11.5, 16.0, 7.5, 19.5, 13.25, 12.0, 7.0, 21.25, 21.25, 9.2, 2.25, 9.5, 11.25, 16.5, 5.0, 18.5, 16.16, 14.34, 14.08, 0.0, 17.25, 7.0, 20.25, 12.0, 18.0, 21.38, 17.8, 20.5, 18.6, 11.75, 10.0, 5.5], [18.25, 9.84, 16.12, 13.25, 24.5, 17.0, 15.14, 16.0, 9.66, 14.75, 19.5, 3.58, 17.98, 20.41, 34.75, 19.0, 10.34, 26.0, 20.0, 10.5, 11.5, 14.75, 10.5, 7.75, 0.0, 10.5, 7.5, 20.16, 13.5, 18.8, 16.0, 0.0, 17.25, 17.0], [14.5, 6.84, 11.25, 23.0, 26.91, 16.84, 19.5, 17.66, 11.5, 15.09, 20.0, 20.3, 0.0, 9.5, 20.0, 11.5, 23.5, 8.0, 14.0, 0.0, 4.5, 17.75, 15.34, 11.0, 15.0, 5.5, 14.0, 15.84, 47.5, 7.34, 8.66, 22.75, 18.5, 16.62, 10.5, 30.5, 25.0, 9.25, 9.5, 0.0, 18.05, 8.25, 14.5, 19.66, 22.0, 21.5, 16.5, 5.1, 11.84, 12.12, 24.0, 9.0], [22.98, 23.12, 24.25, 9.84, 15.23, 7.25, 15.16, 14.43, 8.38, 4.5, 8.0, 12.5, 19.0, 21.59, 13.12, 8.5, 9.62, 8.0, 0.0, 14.5, 5.3, 5.5, 20.91, 0.0, 22.34, 19.5, 19.0, 6.12, 6.5, 17.12, 14.0, 8.5, 6.5, 0.0, 10.75, 7.5, 0.0, 7.17, 6.75, 7.8, 11.0, 0.0, 11.0, 8.25, 0.0, 7.5, 12.5, 8.0, 5.84, 7.34, 8.0, 8.75, 7.58, 7.5, 17.0, 16.38, 18.34, 18.0, 10.66, 15.71, 20.0, 0.0, 23.0, 2.65], [30.25, 25.25, 26.25, 8.5, 11.84, 41.5, 12.75, 13.7, 10.84, 10.12, 10.25, 3.5, 20.0, 10.84, 9.8, 7.6, 4.5, 21.5, 11.62, 33.0, 12.0, 13.0, 11.75, 14.0, 13.88, 17.84, 14.0, 7.66, 16.4, 14.0, 15.0, 22.0, 0.0, 9.0, 41.0, 16.62, 9.25, 10.34, 11.62, 9.16, 22.75, 20.88, 0.0, 12.12, 7.12, 10.25, 8.75, 0.0], [10.5, 11.62, 19.5, 9.0, 17.75, 10.0, 8.84, 19.5, 9.34, 11.66, 10.5, 9.5, 0.0, 10.04, 17.62, 18.75, 17.75, 26.16, 14.65, 12.0, 12.0, 12.25, 0.0, 9.38, 8.75, 7.0], [15.0, 24.14, 16.16, 15.5, 10.0, 11.5, 14.0, 13.25, 22.62, 18.0, 21.62, 19.0, 14.0, 23.16, 0.0, 9.0, 19.38, 11.16, 10.0, 19.0, 16.9, 18.95, 8.64, 23.59, 12.25, 4.5, 12.5, 17.75, 45.16, 27.5, 10.0, 16.75, 19.66, 13.66, 44.0, 13.5, 18.5, 10.5, 0.5, 26.0, 18.0, 27.25, 15.88, 15.5, 0.0, 30.5], [25.75, 15.0, 11.5, 27.34, 24.12, 19.75, 18.41, 22.25, 8.88, 10.75, 22.75, 9.16, 11.4, 14.5, 20.75, 19.0, 22.0, 10.5, 21.14, 11.5, 25.0, 14.0, 20.3, 19.34, 10.5, 22.8, 13.84, 23.88, 18.12, 23.0, 19.0, 24.8, 21.17, 30.0, 10.5, 16.25, 19.4, 16.0, 7.88, 19.5, 15.0, 12.0, 9.25, 15.25, 14.96, 15.09, 15.0, 11.0, 14.66, 13.5, 24.65, 0.0, 16.59, 18.38], [14.0, 14.0, 14.16, 15.9, 9.4, 14.25, 11.54, 12.12, 15.0, 19.09, 15.0, 7.0, 10.21, 17.75, 15.66, 13.7, 10.25, 12.25, 5.5, 6.5, 10.25, 11.75, 17.5, 7.0, 11.0, 6.5, 34.5, 34.84, 25.0, 19.25, 23.6, 36.84, 22.25, 30.94, 27.75, 22.25, 22.7, 24.0, 14.0], [27.5, 21.25, 23.2, 18.0, 19.34, 21.66, 20.66, 11.38, 11.5, 18.8, 12.5, 9.5, 16.88, 36.0, 16.6, 14.75, 13.88, 13.25, 17.75, 16.62, 8.3, 16.84, 15.62, 7.0, 17.84, 18.38, 17.25, 8.5, 16.21, 14.8, 9.75, 12.5, 21.75, 14.44, 12.12, 15.16, 7.0, 11.34, 7.0, 15.66, 14.25, 13.0, 18.0, 10.9, 8.34, 17.38], [17.88, 24.0, 29.5, 19.0, 19.73, 30.12, 20.75, 27.95, 21.25, 22.0, 17.41, 27.0, 21.66, 26.75, 24.25, 14.25, 18.6, 11.3, 18.66, 12.09, 20.75, 6.25, 20.5, 9.88, 18.0, 27.0, 35.0, 20.88, 21.75, 17.71, 16.0, 11.34, 37.66, 20.0, 20.25, 23.38, 23.0, 18.0, 15.5, 21.75, 11.34, 18.2, 15.25, 9.0, 8.0, 11.5, 16.5]]\n"
     ]
    }
   ],
   "source": [
    "print(list_of_mage_values)"
   ]
  },
  {
   "cell_type": "code",
   "execution_count": 104,
   "metadata": {},
   "outputs": [],
   "source": [
    "reg_code_list = ['rc'+i for i in mage_df['RegistrationCode'].unique()]"
   ]
  },
  {
   "cell_type": "code",
   "execution_count": 105,
   "metadata": {},
   "outputs": [],
   "source": [
    "reg_code_list.sort()"
   ]
  },
  {
   "cell_type": "code",
   "execution_count": 106,
   "metadata": {},
   "outputs": [
    {
     "data": {
      "text/plain": [
       "['rc292486',\n",
       " 'rc394858',\n",
       " 'rc405661',\n",
       " 'rc471439',\n",
       " 'rc485966',\n",
       " 'rc511664',\n",
       " 'rc517738',\n",
       " 'rc521161',\n",
       " 'rc531067',\n",
       " 'rc637617',\n",
       " 'rc64229',\n",
       " 'rc670055',\n",
       " 'rc757248',\n",
       " 'rc859116',\n",
       " 'rc986640',\n",
       " 'rc999443']"
      ]
     },
     "execution_count": 106,
     "metadata": {},
     "output_type": "execute_result"
    }
   ],
   "source": [
    "reg_code_list"
   ]
  },
  {
   "cell_type": "code",
   "execution_count": 107,
   "metadata": {},
   "outputs": [
    {
     "data": {
      "application/vnd.plotly.v1+json": {
       "config": {
        "plotlyServerURL": "https://plot.ly"
       },
       "data": [
        {
         "hoverongaps": false,
         "type": "heatmap",
         "x": [
          "Day 1",
          "Day 2",
          "Day 3",
          "Day 4",
          "Day 5",
          "Day 6",
          "Day 7",
          "Day 8",
          "Day 9",
          "Day 10",
          "Day 11",
          "Day 12",
          "Day 13",
          "Day 14",
          "Day 15",
          "Day 16",
          "Day 17",
          "Day 18",
          "Day 19",
          "Day 20",
          "Day 21",
          "Day 22",
          "Day 23",
          "Day 24",
          "Day 25",
          "Day 26",
          "Day 27",
          "Day 28",
          "Day 29",
          "Day 30",
          "Day 31",
          "Day 32",
          "Day 33",
          "Day 34",
          "Day 35",
          "Day 36",
          "Day 37",
          "Day 38",
          "Day 39",
          "Day 40",
          "Day 41",
          "Day 42",
          "Day 43",
          "Day 44",
          "Day 45",
          "Day 46",
          "Day 47",
          "Day 48",
          "Day 49",
          "Day 50",
          "Day 51",
          "Day 52",
          "Day 53",
          "Day 54",
          "Day 55",
          "Day 56",
          "Day 57",
          "Day 58",
          "Day 59",
          "Day 60",
          "Day 61",
          "Day 62",
          "Day 63",
          "Day 64"
         ],
         "y": [
          "rc292486",
          "rc394858",
          "rc405661",
          "rc471439",
          "rc485966",
          "rc511664",
          "rc517738",
          "rc521161",
          "rc531067",
          "rc637617",
          "rc64229",
          "rc670055",
          "rc757248",
          "rc859116",
          "rc986640",
          "rc999443"
         ],
         "z": [
          [
           32.67,
           32.25,
           15.44,
           22,
           21.91,
           14.75,
           20.12,
           25.2,
           16.8,
           0,
           28.75,
           19.36,
           18.83,
           19.1,
           14,
           7.12,
           9.25,
           13.25,
           9.12,
           15.16,
           8.75,
           7,
           8.84,
           6.5,
           16.75,
           19.34,
           9.16,
           12.96,
           8.34,
           10.84,
           8,
           7.5,
           6.84,
           8.8,
           20.84,
           41,
           18.75,
           16.5,
           9,
           13.4,
           12.5,
           16.25,
           14.66,
           14.5,
           7,
           15.12,
           13.5,
           6
          ],
          [
           26.25,
           14,
           15.8,
           18.75,
           21.75,
           16.8,
           9.84,
           8.8,
           8.34,
           13.12,
           24,
           6.12,
           14.38,
           9.5,
           18.59,
           9.62,
           52,
           17.88,
           13.5,
           17.84,
           10,
           14.25,
           14.75,
           19.5,
           5.5,
           12,
           13.71,
           18.5,
           0,
           16.12,
           10.75,
           10.25,
           9.5,
           12.66,
           0,
           0,
           18.09,
           20.86,
           25.5,
           19,
           15.5,
           17.25,
           19.64,
           10.4,
           12,
           13.25,
           5.5,
           8.5,
           8.34,
           18,
           16.25,
           9.5,
           17,
           2.5
          ],
          [
           18.34,
           16.7,
           14,
           15.84,
           19.16,
           17.29,
           8.16,
           20.5,
           13,
           27.5,
           21.25,
           16.96,
           19,
           18.9,
           8.5,
           19.88,
           11.34,
           9.5,
           9.5,
           15.84,
           7.25,
           8.12,
           13.38,
           6,
           9.75,
           11.84,
           17,
           14.62,
           17,
           11.84,
           6.5,
           8.75
          ],
          [
           25,
           12.25,
           28.16,
           12.25,
           20.75,
           21.25,
           16.25,
           17.09,
           16,
           17.75,
           10.5,
           14,
           6.5,
           13.75,
           11.8,
           14.16,
           19.25,
           19.5,
           17.15,
           28.84,
           13,
           33.25,
           16.5,
           12.16,
           10.5,
           5.25,
           13.38,
           24.16,
           10.84,
           18.16,
           23,
           17.5,
           11.34,
           39.5,
           9.5,
           13.16,
           16.84,
           15.66,
           32.75,
           21.84,
           16.2,
           14.88,
           0,
           31,
           22.12,
           28.5,
           20.75,
           18,
           8,
           8.75,
           14,
           0,
           13.66
          ],
          [
           11.5,
           17.25,
           15,
           8.3,
           12.66,
           23.09,
           13.5,
           11.25,
           24.75,
           10.5,
           19,
           7.75,
           13,
           24.91,
           25.66,
           16.16,
           18.25,
           15,
           22.75,
           21.84,
           10.75,
           18.66,
           9,
           0,
           18.6,
           18.41,
           19.5,
           11.66,
           10.88,
           12.84,
           14.5,
           7.66,
           17.5,
           19.48,
           8.75,
           0,
           13.5,
           14,
           11.5,
           36.88,
           37.34,
           18.75,
           9,
           15.5,
           8.5,
           8.12,
           7.25,
           14.38,
           0,
           30.5,
           10.13,
           13.62,
           9.66
          ],
          [
           6.5,
           16.5,
           16.5,
           12,
           12.75,
           6.5,
           6.38,
           24,
           15.88,
           8,
           17,
           3.5,
           18.25,
           16.5,
           15.5,
           13.46,
           14.25,
           20.34,
           24.25,
           12.72,
           10.12,
           14.75,
           15.14,
           2.5,
           21.5,
           11.5,
           16,
           7.5,
           19.5,
           13.25,
           12,
           7,
           21.25,
           21.25,
           9.2,
           2.25,
           9.5,
           11.25,
           16.5,
           5,
           18.5,
           16.16,
           14.34,
           14.08,
           0,
           17.25,
           7,
           20.25,
           12,
           18,
           21.38,
           17.8,
           20.5,
           18.6,
           11.75,
           10,
           5.5
          ],
          [
           18.25,
           9.84,
           16.12,
           13.25,
           24.5,
           17,
           15.14,
           16,
           9.66,
           14.75,
           19.5,
           3.58,
           17.98,
           20.41,
           34.75,
           19,
           10.34,
           26,
           20,
           10.5,
           11.5,
           14.75,
           10.5,
           7.75,
           0,
           10.5,
           7.5,
           20.16,
           13.5,
           18.8,
           16,
           0,
           17.25,
           17
          ],
          [
           14.5,
           6.84,
           11.25,
           23,
           26.91,
           16.84,
           19.5,
           17.66,
           11.5,
           15.09,
           20,
           20.3,
           0,
           9.5,
           20,
           11.5,
           23.5,
           8,
           14,
           0,
           4.5,
           17.75,
           15.34,
           11,
           15,
           5.5,
           14,
           15.84,
           47.5,
           7.34,
           8.66,
           22.75,
           18.5,
           16.62,
           10.5,
           30.5,
           25,
           9.25,
           9.5,
           0,
           18.05,
           8.25,
           14.5,
           19.66,
           22,
           21.5,
           16.5,
           5.1,
           11.84,
           12.12,
           24,
           9
          ],
          [
           22.98,
           23.12,
           24.25,
           9.84,
           15.23,
           7.25,
           15.16,
           14.43,
           8.38,
           4.5,
           8,
           12.5,
           19,
           21.59,
           13.12,
           8.5,
           9.62,
           8,
           0,
           14.5,
           5.3,
           5.5,
           20.91,
           0,
           22.34,
           19.5,
           19,
           6.12,
           6.5,
           17.12,
           14,
           8.5,
           6.5,
           0,
           10.75,
           7.5,
           0,
           7.17,
           6.75,
           7.8,
           11,
           0,
           11,
           8.25,
           0,
           7.5,
           12.5,
           8,
           5.84,
           7.34,
           8,
           8.75,
           7.58,
           7.5,
           17,
           16.38,
           18.34,
           18,
           10.66,
           15.71,
           20,
           0,
           23,
           2.65
          ],
          [
           30.25,
           25.25,
           26.25,
           8.5,
           11.84,
           41.5,
           12.75,
           13.7,
           10.84,
           10.12,
           10.25,
           3.5,
           20,
           10.84,
           9.8,
           7.6,
           4.5,
           21.5,
           11.62,
           33,
           12,
           13,
           11.75,
           14,
           13.88,
           17.84,
           14,
           7.66,
           16.4,
           14,
           15,
           22,
           0,
           9,
           41,
           16.62,
           9.25,
           10.34,
           11.62,
           9.16,
           22.75,
           20.88,
           0,
           12.12,
           7.12,
           10.25,
           8.75,
           0
          ],
          [
           10.5,
           11.62,
           19.5,
           9,
           17.75,
           10,
           8.84,
           19.5,
           9.34,
           11.66,
           10.5,
           9.5,
           0,
           10.04,
           17.62,
           18.75,
           17.75,
           26.16,
           14.65,
           12,
           12,
           12.25,
           0,
           9.38,
           8.75,
           7
          ],
          [
           15,
           24.14,
           16.16,
           15.5,
           10,
           11.5,
           14,
           13.25,
           22.62,
           18,
           21.62,
           19,
           14,
           23.16,
           0,
           9,
           19.38,
           11.16,
           10,
           19,
           16.9,
           18.95,
           8.64,
           23.59,
           12.25,
           4.5,
           12.5,
           17.75,
           45.16,
           27.5,
           10,
           16.75,
           19.66,
           13.66,
           44,
           13.5,
           18.5,
           10.5,
           0.5,
           26,
           18,
           27.25,
           15.88,
           15.5,
           0,
           30.5
          ],
          [
           25.75,
           15,
           11.5,
           27.34,
           24.12,
           19.75,
           18.41,
           22.25,
           8.88,
           10.75,
           22.75,
           9.16,
           11.4,
           14.5,
           20.75,
           19,
           22,
           10.5,
           21.14,
           11.5,
           25,
           14,
           20.3,
           19.34,
           10.5,
           22.8,
           13.84,
           23.88,
           18.12,
           23,
           19,
           24.8,
           21.17,
           30,
           10.5,
           16.25,
           19.4,
           16,
           7.88,
           19.5,
           15,
           12,
           9.25,
           15.25,
           14.96,
           15.09,
           15,
           11,
           14.66,
           13.5,
           24.65,
           0,
           16.59,
           18.38
          ],
          [
           14,
           14,
           14.16,
           15.9,
           9.4,
           14.25,
           11.54,
           12.12,
           15,
           19.09,
           15,
           7,
           10.21,
           17.75,
           15.66,
           13.7,
           10.25,
           12.25,
           5.5,
           6.5,
           10.25,
           11.75,
           17.5,
           7,
           11,
           6.5,
           34.5,
           34.84,
           25,
           19.25,
           23.6,
           36.84,
           22.25,
           30.94,
           27.75,
           22.25,
           22.7,
           24,
           14
          ],
          [
           27.5,
           21.25,
           23.2,
           18,
           19.34,
           21.66,
           20.66,
           11.38,
           11.5,
           18.8,
           12.5,
           9.5,
           16.88,
           36,
           16.6,
           14.75,
           13.88,
           13.25,
           17.75,
           16.62,
           8.3,
           16.84,
           15.62,
           7,
           17.84,
           18.38,
           17.25,
           8.5,
           16.21,
           14.8,
           9.75,
           12.5,
           21.75,
           14.44,
           12.12,
           15.16,
           7,
           11.34,
           7,
           15.66,
           14.25,
           13,
           18,
           10.9,
           8.34,
           17.38
          ],
          [
           17.88,
           24,
           29.5,
           19,
           19.73,
           30.12,
           20.75,
           27.95,
           21.25,
           22,
           17.41,
           27,
           21.66,
           26.75,
           24.25,
           14.25,
           18.6,
           11.3,
           18.66,
           12.09,
           20.75,
           6.25,
           20.5,
           9.88,
           18,
           27,
           35,
           20.88,
           21.75,
           17.71,
           16,
           11.34,
           37.66,
           20,
           20.25,
           23.38,
           23,
           18,
           15.5,
           21.75,
           11.34,
           18.2,
           15.25,
           9,
           8,
           11.5,
           16.5
          ]
         ]
        }
       ],
       "layout": {
        "template": {
         "data": {
          "bar": [
           {
            "error_x": {
             "color": "#2a3f5f"
            },
            "error_y": {
             "color": "#2a3f5f"
            },
            "marker": {
             "line": {
              "color": "#E5ECF6",
              "width": 0.5
             }
            },
            "type": "bar"
           }
          ],
          "barpolar": [
           {
            "marker": {
             "line": {
              "color": "#E5ECF6",
              "width": 0.5
             }
            },
            "type": "barpolar"
           }
          ],
          "carpet": [
           {
            "aaxis": {
             "endlinecolor": "#2a3f5f",
             "gridcolor": "white",
             "linecolor": "white",
             "minorgridcolor": "white",
             "startlinecolor": "#2a3f5f"
            },
            "baxis": {
             "endlinecolor": "#2a3f5f",
             "gridcolor": "white",
             "linecolor": "white",
             "minorgridcolor": "white",
             "startlinecolor": "#2a3f5f"
            },
            "type": "carpet"
           }
          ],
          "choropleth": [
           {
            "colorbar": {
             "outlinewidth": 0,
             "ticks": ""
            },
            "type": "choropleth"
           }
          ],
          "contour": [
           {
            "colorbar": {
             "outlinewidth": 0,
             "ticks": ""
            },
            "colorscale": [
             [
              0,
              "#0d0887"
             ],
             [
              0.1111111111111111,
              "#46039f"
             ],
             [
              0.2222222222222222,
              "#7201a8"
             ],
             [
              0.3333333333333333,
              "#9c179e"
             ],
             [
              0.4444444444444444,
              "#bd3786"
             ],
             [
              0.5555555555555556,
              "#d8576b"
             ],
             [
              0.6666666666666666,
              "#ed7953"
             ],
             [
              0.7777777777777778,
              "#fb9f3a"
             ],
             [
              0.8888888888888888,
              "#fdca26"
             ],
             [
              1,
              "#f0f921"
             ]
            ],
            "type": "contour"
           }
          ],
          "contourcarpet": [
           {
            "colorbar": {
             "outlinewidth": 0,
             "ticks": ""
            },
            "type": "contourcarpet"
           }
          ],
          "heatmap": [
           {
            "colorbar": {
             "outlinewidth": 0,
             "ticks": ""
            },
            "colorscale": [
             [
              0,
              "#0d0887"
             ],
             [
              0.1111111111111111,
              "#46039f"
             ],
             [
              0.2222222222222222,
              "#7201a8"
             ],
             [
              0.3333333333333333,
              "#9c179e"
             ],
             [
              0.4444444444444444,
              "#bd3786"
             ],
             [
              0.5555555555555556,
              "#d8576b"
             ],
             [
              0.6666666666666666,
              "#ed7953"
             ],
             [
              0.7777777777777778,
              "#fb9f3a"
             ],
             [
              0.8888888888888888,
              "#fdca26"
             ],
             [
              1,
              "#f0f921"
             ]
            ],
            "type": "heatmap"
           }
          ],
          "heatmapgl": [
           {
            "colorbar": {
             "outlinewidth": 0,
             "ticks": ""
            },
            "colorscale": [
             [
              0,
              "#0d0887"
             ],
             [
              0.1111111111111111,
              "#46039f"
             ],
             [
              0.2222222222222222,
              "#7201a8"
             ],
             [
              0.3333333333333333,
              "#9c179e"
             ],
             [
              0.4444444444444444,
              "#bd3786"
             ],
             [
              0.5555555555555556,
              "#d8576b"
             ],
             [
              0.6666666666666666,
              "#ed7953"
             ],
             [
              0.7777777777777778,
              "#fb9f3a"
             ],
             [
              0.8888888888888888,
              "#fdca26"
             ],
             [
              1,
              "#f0f921"
             ]
            ],
            "type": "heatmapgl"
           }
          ],
          "histogram": [
           {
            "marker": {
             "colorbar": {
              "outlinewidth": 0,
              "ticks": ""
             }
            },
            "type": "histogram"
           }
          ],
          "histogram2d": [
           {
            "colorbar": {
             "outlinewidth": 0,
             "ticks": ""
            },
            "colorscale": [
             [
              0,
              "#0d0887"
             ],
             [
              0.1111111111111111,
              "#46039f"
             ],
             [
              0.2222222222222222,
              "#7201a8"
             ],
             [
              0.3333333333333333,
              "#9c179e"
             ],
             [
              0.4444444444444444,
              "#bd3786"
             ],
             [
              0.5555555555555556,
              "#d8576b"
             ],
             [
              0.6666666666666666,
              "#ed7953"
             ],
             [
              0.7777777777777778,
              "#fb9f3a"
             ],
             [
              0.8888888888888888,
              "#fdca26"
             ],
             [
              1,
              "#f0f921"
             ]
            ],
            "type": "histogram2d"
           }
          ],
          "histogram2dcontour": [
           {
            "colorbar": {
             "outlinewidth": 0,
             "ticks": ""
            },
            "colorscale": [
             [
              0,
              "#0d0887"
             ],
             [
              0.1111111111111111,
              "#46039f"
             ],
             [
              0.2222222222222222,
              "#7201a8"
             ],
             [
              0.3333333333333333,
              "#9c179e"
             ],
             [
              0.4444444444444444,
              "#bd3786"
             ],
             [
              0.5555555555555556,
              "#d8576b"
             ],
             [
              0.6666666666666666,
              "#ed7953"
             ],
             [
              0.7777777777777778,
              "#fb9f3a"
             ],
             [
              0.8888888888888888,
              "#fdca26"
             ],
             [
              1,
              "#f0f921"
             ]
            ],
            "type": "histogram2dcontour"
           }
          ],
          "mesh3d": [
           {
            "colorbar": {
             "outlinewidth": 0,
             "ticks": ""
            },
            "type": "mesh3d"
           }
          ],
          "parcoords": [
           {
            "line": {
             "colorbar": {
              "outlinewidth": 0,
              "ticks": ""
             }
            },
            "type": "parcoords"
           }
          ],
          "pie": [
           {
            "automargin": true,
            "type": "pie"
           }
          ],
          "scatter": [
           {
            "marker": {
             "colorbar": {
              "outlinewidth": 0,
              "ticks": ""
             }
            },
            "type": "scatter"
           }
          ],
          "scatter3d": [
           {
            "line": {
             "colorbar": {
              "outlinewidth": 0,
              "ticks": ""
             }
            },
            "marker": {
             "colorbar": {
              "outlinewidth": 0,
              "ticks": ""
             }
            },
            "type": "scatter3d"
           }
          ],
          "scattercarpet": [
           {
            "marker": {
             "colorbar": {
              "outlinewidth": 0,
              "ticks": ""
             }
            },
            "type": "scattercarpet"
           }
          ],
          "scattergeo": [
           {
            "marker": {
             "colorbar": {
              "outlinewidth": 0,
              "ticks": ""
             }
            },
            "type": "scattergeo"
           }
          ],
          "scattergl": [
           {
            "marker": {
             "colorbar": {
              "outlinewidth": 0,
              "ticks": ""
             }
            },
            "type": "scattergl"
           }
          ],
          "scattermapbox": [
           {
            "marker": {
             "colorbar": {
              "outlinewidth": 0,
              "ticks": ""
             }
            },
            "type": "scattermapbox"
           }
          ],
          "scatterpolar": [
           {
            "marker": {
             "colorbar": {
              "outlinewidth": 0,
              "ticks": ""
             }
            },
            "type": "scatterpolar"
           }
          ],
          "scatterpolargl": [
           {
            "marker": {
             "colorbar": {
              "outlinewidth": 0,
              "ticks": ""
             }
            },
            "type": "scatterpolargl"
           }
          ],
          "scatterternary": [
           {
            "marker": {
             "colorbar": {
              "outlinewidth": 0,
              "ticks": ""
             }
            },
            "type": "scatterternary"
           }
          ],
          "surface": [
           {
            "colorbar": {
             "outlinewidth": 0,
             "ticks": ""
            },
            "colorscale": [
             [
              0,
              "#0d0887"
             ],
             [
              0.1111111111111111,
              "#46039f"
             ],
             [
              0.2222222222222222,
              "#7201a8"
             ],
             [
              0.3333333333333333,
              "#9c179e"
             ],
             [
              0.4444444444444444,
              "#bd3786"
             ],
             [
              0.5555555555555556,
              "#d8576b"
             ],
             [
              0.6666666666666666,
              "#ed7953"
             ],
             [
              0.7777777777777778,
              "#fb9f3a"
             ],
             [
              0.8888888888888888,
              "#fdca26"
             ],
             [
              1,
              "#f0f921"
             ]
            ],
            "type": "surface"
           }
          ],
          "table": [
           {
            "cells": {
             "fill": {
              "color": "#EBF0F8"
             },
             "line": {
              "color": "white"
             }
            },
            "header": {
             "fill": {
              "color": "#C8D4E3"
             },
             "line": {
              "color": "white"
             }
            },
            "type": "table"
           }
          ]
         },
         "layout": {
          "annotationdefaults": {
           "arrowcolor": "#2a3f5f",
           "arrowhead": 0,
           "arrowwidth": 1
          },
          "coloraxis": {
           "colorbar": {
            "outlinewidth": 0,
            "ticks": ""
           }
          },
          "colorscale": {
           "diverging": [
            [
             0,
             "#8e0152"
            ],
            [
             0.1,
             "#c51b7d"
            ],
            [
             0.2,
             "#de77ae"
            ],
            [
             0.3,
             "#f1b6da"
            ],
            [
             0.4,
             "#fde0ef"
            ],
            [
             0.5,
             "#f7f7f7"
            ],
            [
             0.6,
             "#e6f5d0"
            ],
            [
             0.7,
             "#b8e186"
            ],
            [
             0.8,
             "#7fbc41"
            ],
            [
             0.9,
             "#4d9221"
            ],
            [
             1,
             "#276419"
            ]
           ],
           "sequential": [
            [
             0,
             "#0d0887"
            ],
            [
             0.1111111111111111,
             "#46039f"
            ],
            [
             0.2222222222222222,
             "#7201a8"
            ],
            [
             0.3333333333333333,
             "#9c179e"
            ],
            [
             0.4444444444444444,
             "#bd3786"
            ],
            [
             0.5555555555555556,
             "#d8576b"
            ],
            [
             0.6666666666666666,
             "#ed7953"
            ],
            [
             0.7777777777777778,
             "#fb9f3a"
            ],
            [
             0.8888888888888888,
             "#fdca26"
            ],
            [
             1,
             "#f0f921"
            ]
           ],
           "sequentialminus": [
            [
             0,
             "#0d0887"
            ],
            [
             0.1111111111111111,
             "#46039f"
            ],
            [
             0.2222222222222222,
             "#7201a8"
            ],
            [
             0.3333333333333333,
             "#9c179e"
            ],
            [
             0.4444444444444444,
             "#bd3786"
            ],
            [
             0.5555555555555556,
             "#d8576b"
            ],
            [
             0.6666666666666666,
             "#ed7953"
            ],
            [
             0.7777777777777778,
             "#fb9f3a"
            ],
            [
             0.8888888888888888,
             "#fdca26"
            ],
            [
             1,
             "#f0f921"
            ]
           ]
          },
          "colorway": [
           "#636efa",
           "#EF553B",
           "#00cc96",
           "#ab63fa",
           "#FFA15A",
           "#19d3f3",
           "#FF6692",
           "#B6E880",
           "#FF97FF",
           "#FECB52"
          ],
          "font": {
           "color": "#2a3f5f"
          },
          "geo": {
           "bgcolor": "white",
           "lakecolor": "white",
           "landcolor": "#E5ECF6",
           "showlakes": true,
           "showland": true,
           "subunitcolor": "white"
          },
          "hoverlabel": {
           "align": "left"
          },
          "hovermode": "closest",
          "mapbox": {
           "style": "light"
          },
          "paper_bgcolor": "white",
          "plot_bgcolor": "#E5ECF6",
          "polar": {
           "angularaxis": {
            "gridcolor": "white",
            "linecolor": "white",
            "ticks": ""
           },
           "bgcolor": "#E5ECF6",
           "radialaxis": {
            "gridcolor": "white",
            "linecolor": "white",
            "ticks": ""
           }
          },
          "scene": {
           "xaxis": {
            "backgroundcolor": "#E5ECF6",
            "gridcolor": "white",
            "gridwidth": 2,
            "linecolor": "white",
            "showbackground": true,
            "ticks": "",
            "zerolinecolor": "white"
           },
           "yaxis": {
            "backgroundcolor": "#E5ECF6",
            "gridcolor": "white",
            "gridwidth": 2,
            "linecolor": "white",
            "showbackground": true,
            "ticks": "",
            "zerolinecolor": "white"
           },
           "zaxis": {
            "backgroundcolor": "#E5ECF6",
            "gridcolor": "white",
            "gridwidth": 2,
            "linecolor": "white",
            "showbackground": true,
            "ticks": "",
            "zerolinecolor": "white"
           }
          },
          "shapedefaults": {
           "line": {
            "color": "#2a3f5f"
           }
          },
          "ternary": {
           "aaxis": {
            "gridcolor": "white",
            "linecolor": "white",
            "ticks": ""
           },
           "baxis": {
            "gridcolor": "white",
            "linecolor": "white",
            "ticks": ""
           },
           "bgcolor": "#E5ECF6",
           "caxis": {
            "gridcolor": "white",
            "linecolor": "white",
            "ticks": ""
           }
          },
          "title": {
           "x": 0.05
          },
          "xaxis": {
           "automargin": true,
           "gridcolor": "white",
           "linecolor": "white",
           "ticks": "",
           "title": {
            "standoff": 15
           },
           "zerolinecolor": "white",
           "zerolinewidth": 2
          },
          "yaxis": {
           "automargin": true,
           "gridcolor": "white",
           "linecolor": "white",
           "ticks": "",
           "title": {
            "standoff": 15
           },
           "zerolinecolor": "white",
           "zerolinewidth": 2
          }
         }
        },
        "title": {
         "text": "MAGE before labour date"
        }
       }
      },
      "text/html": [
       "<div>\n",
       "        \n",
       "        \n",
       "            <div id=\"57bbd6bf-2fc0-4584-b625-012063a2f9e4\" class=\"plotly-graph-div\" style=\"height:525px; width:100%;\"></div>\n",
       "            <script type=\"text/javascript\">\n",
       "                require([\"plotly\"], function(Plotly) {\n",
       "                    window.PLOTLYENV=window.PLOTLYENV || {};\n",
       "                    \n",
       "                if (document.getElementById(\"57bbd6bf-2fc0-4584-b625-012063a2f9e4\")) {\n",
       "                    Plotly.newPlot(\n",
       "                        '57bbd6bf-2fc0-4584-b625-012063a2f9e4',\n",
       "                        [{\"hoverongaps\": false, \"type\": \"heatmap\", \"x\": [\"Day 1\", \"Day 2\", \"Day 3\", \"Day 4\", \"Day 5\", \"Day 6\", \"Day 7\", \"Day 8\", \"Day 9\", \"Day 10\", \"Day 11\", \"Day 12\", \"Day 13\", \"Day 14\", \"Day 15\", \"Day 16\", \"Day 17\", \"Day 18\", \"Day 19\", \"Day 20\", \"Day 21\", \"Day 22\", \"Day 23\", \"Day 24\", \"Day 25\", \"Day 26\", \"Day 27\", \"Day 28\", \"Day 29\", \"Day 30\", \"Day 31\", \"Day 32\", \"Day 33\", \"Day 34\", \"Day 35\", \"Day 36\", \"Day 37\", \"Day 38\", \"Day 39\", \"Day 40\", \"Day 41\", \"Day 42\", \"Day 43\", \"Day 44\", \"Day 45\", \"Day 46\", \"Day 47\", \"Day 48\", \"Day 49\", \"Day 50\", \"Day 51\", \"Day 52\", \"Day 53\", \"Day 54\", \"Day 55\", \"Day 56\", \"Day 57\", \"Day 58\", \"Day 59\", \"Day 60\", \"Day 61\", \"Day 62\", \"Day 63\", \"Day 64\"], \"y\": [\"rc292486\", \"rc394858\", \"rc405661\", \"rc471439\", \"rc485966\", \"rc511664\", \"rc517738\", \"rc521161\", \"rc531067\", \"rc637617\", \"rc64229\", \"rc670055\", \"rc757248\", \"rc859116\", \"rc986640\", \"rc999443\"], \"z\": [[32.67, 32.25, 15.44, 22.0, 21.91, 14.75, 20.12, 25.2, 16.8, 0.0, 28.75, 19.36, 18.83, 19.1, 14.0, 7.12, 9.25, 13.25, 9.12, 15.16, 8.75, 7.0, 8.84, 6.5, 16.75, 19.34, 9.16, 12.96, 8.34, 10.84, 8.0, 7.5, 6.84, 8.8, 20.84, 41.0, 18.75, 16.5, 9.0, 13.4, 12.5, 16.25, 14.66, 14.5, 7.0, 15.12, 13.5, 6.0], [26.25, 14.0, 15.8, 18.75, 21.75, 16.8, 9.84, 8.8, 8.34, 13.12, 24.0, 6.12, 14.38, 9.5, 18.59, 9.62, 52.0, 17.88, 13.5, 17.84, 10.0, 14.25, 14.75, 19.5, 5.5, 12.0, 13.71, 18.5, 0.0, 16.12, 10.75, 10.25, 9.5, 12.66, 0.0, 0.0, 18.09, 20.86, 25.5, 19.0, 15.5, 17.25, 19.64, 10.4, 12.0, 13.25, 5.5, 8.5, 8.34, 18.0, 16.25, 9.5, 17.0, 2.5], [18.34, 16.7, 14.0, 15.84, 19.16, 17.29, 8.16, 20.5, 13.0, 27.5, 21.25, 16.96, 19.0, 18.9, 8.5, 19.88, 11.34, 9.5, 9.5, 15.84, 7.25, 8.12, 13.38, 6.0, 9.75, 11.84, 17.0, 14.62, 17.0, 11.84, 6.5, 8.75], [25.0, 12.25, 28.16, 12.25, 20.75, 21.25, 16.25, 17.09, 16.0, 17.75, 10.5, 14.0, 6.5, 13.75, 11.8, 14.16, 19.25, 19.5, 17.15, 28.84, 13.0, 33.25, 16.5, 12.16, 10.5, 5.25, 13.38, 24.16, 10.84, 18.16, 23.0, 17.5, 11.34, 39.5, 9.5, 13.16, 16.84, 15.66, 32.75, 21.84, 16.2, 14.88, 0.0, 31.0, 22.12, 28.5, 20.75, 18.0, 8.0, 8.75, 14.0, 0.0, 13.66], [11.5, 17.25, 15.0, 8.3, 12.66, 23.09, 13.5, 11.25, 24.75, 10.5, 19.0, 7.75, 13.0, 24.91, 25.66, 16.16, 18.25, 15.0, 22.75, 21.84, 10.75, 18.66, 9.0, 0.0, 18.6, 18.41, 19.5, 11.66, 10.88, 12.84, 14.5, 7.66, 17.5, 19.48, 8.75, 0.0, 13.5, 14.0, 11.5, 36.88, 37.34, 18.75, 9.0, 15.5, 8.5, 8.12, 7.25, 14.38, 0.0, 30.5, 10.13, 13.62, 9.66], [6.5, 16.5, 16.5, 12.0, 12.75, 6.5, 6.38, 24.0, 15.88, 8.0, 17.0, 3.5, 18.25, 16.5, 15.5, 13.46, 14.25, 20.34, 24.25, 12.72, 10.12, 14.75, 15.14, 2.5, 21.5, 11.5, 16.0, 7.5, 19.5, 13.25, 12.0, 7.0, 21.25, 21.25, 9.2, 2.25, 9.5, 11.25, 16.5, 5.0, 18.5, 16.16, 14.34, 14.08, 0.0, 17.25, 7.0, 20.25, 12.0, 18.0, 21.38, 17.8, 20.5, 18.6, 11.75, 10.0, 5.5], [18.25, 9.84, 16.12, 13.25, 24.5, 17.0, 15.14, 16.0, 9.66, 14.75, 19.5, 3.58, 17.98, 20.41, 34.75, 19.0, 10.34, 26.0, 20.0, 10.5, 11.5, 14.75, 10.5, 7.75, 0.0, 10.5, 7.5, 20.16, 13.5, 18.8, 16.0, 0.0, 17.25, 17.0], [14.5, 6.84, 11.25, 23.0, 26.91, 16.84, 19.5, 17.66, 11.5, 15.09, 20.0, 20.3, 0.0, 9.5, 20.0, 11.5, 23.5, 8.0, 14.0, 0.0, 4.5, 17.75, 15.34, 11.0, 15.0, 5.5, 14.0, 15.84, 47.5, 7.34, 8.66, 22.75, 18.5, 16.62, 10.5, 30.5, 25.0, 9.25, 9.5, 0.0, 18.05, 8.25, 14.5, 19.66, 22.0, 21.5, 16.5, 5.1, 11.84, 12.12, 24.0, 9.0], [22.98, 23.12, 24.25, 9.84, 15.23, 7.25, 15.16, 14.43, 8.38, 4.5, 8.0, 12.5, 19.0, 21.59, 13.12, 8.5, 9.62, 8.0, 0.0, 14.5, 5.3, 5.5, 20.91, 0.0, 22.34, 19.5, 19.0, 6.12, 6.5, 17.12, 14.0, 8.5, 6.5, 0.0, 10.75, 7.5, 0.0, 7.17, 6.75, 7.8, 11.0, 0.0, 11.0, 8.25, 0.0, 7.5, 12.5, 8.0, 5.84, 7.34, 8.0, 8.75, 7.58, 7.5, 17.0, 16.38, 18.34, 18.0, 10.66, 15.71, 20.0, 0.0, 23.0, 2.65], [30.25, 25.25, 26.25, 8.5, 11.84, 41.5, 12.75, 13.7, 10.84, 10.12, 10.25, 3.5, 20.0, 10.84, 9.8, 7.6, 4.5, 21.5, 11.62, 33.0, 12.0, 13.0, 11.75, 14.0, 13.88, 17.84, 14.0, 7.66, 16.4, 14.0, 15.0, 22.0, 0.0, 9.0, 41.0, 16.62, 9.25, 10.34, 11.62, 9.16, 22.75, 20.88, 0.0, 12.12, 7.12, 10.25, 8.75, 0.0], [10.5, 11.62, 19.5, 9.0, 17.75, 10.0, 8.84, 19.5, 9.34, 11.66, 10.5, 9.5, 0.0, 10.04, 17.62, 18.75, 17.75, 26.16, 14.65, 12.0, 12.0, 12.25, 0.0, 9.38, 8.75, 7.0], [15.0, 24.14, 16.16, 15.5, 10.0, 11.5, 14.0, 13.25, 22.62, 18.0, 21.62, 19.0, 14.0, 23.16, 0.0, 9.0, 19.38, 11.16, 10.0, 19.0, 16.9, 18.95, 8.64, 23.59, 12.25, 4.5, 12.5, 17.75, 45.16, 27.5, 10.0, 16.75, 19.66, 13.66, 44.0, 13.5, 18.5, 10.5, 0.5, 26.0, 18.0, 27.25, 15.88, 15.5, 0.0, 30.5], [25.75, 15.0, 11.5, 27.34, 24.12, 19.75, 18.41, 22.25, 8.88, 10.75, 22.75, 9.16, 11.4, 14.5, 20.75, 19.0, 22.0, 10.5, 21.14, 11.5, 25.0, 14.0, 20.3, 19.34, 10.5, 22.8, 13.84, 23.88, 18.12, 23.0, 19.0, 24.8, 21.17, 30.0, 10.5, 16.25, 19.4, 16.0, 7.88, 19.5, 15.0, 12.0, 9.25, 15.25, 14.96, 15.09, 15.0, 11.0, 14.66, 13.5, 24.65, 0.0, 16.59, 18.38], [14.0, 14.0, 14.16, 15.9, 9.4, 14.25, 11.54, 12.12, 15.0, 19.09, 15.0, 7.0, 10.21, 17.75, 15.66, 13.7, 10.25, 12.25, 5.5, 6.5, 10.25, 11.75, 17.5, 7.0, 11.0, 6.5, 34.5, 34.84, 25.0, 19.25, 23.6, 36.84, 22.25, 30.94, 27.75, 22.25, 22.7, 24.0, 14.0], [27.5, 21.25, 23.2, 18.0, 19.34, 21.66, 20.66, 11.38, 11.5, 18.8, 12.5, 9.5, 16.88, 36.0, 16.6, 14.75, 13.88, 13.25, 17.75, 16.62, 8.3, 16.84, 15.62, 7.0, 17.84, 18.38, 17.25, 8.5, 16.21, 14.8, 9.75, 12.5, 21.75, 14.44, 12.12, 15.16, 7.0, 11.34, 7.0, 15.66, 14.25, 13.0, 18.0, 10.9, 8.34, 17.38], [17.88, 24.0, 29.5, 19.0, 19.73, 30.12, 20.75, 27.95, 21.25, 22.0, 17.41, 27.0, 21.66, 26.75, 24.25, 14.25, 18.6, 11.3, 18.66, 12.09, 20.75, 6.25, 20.5, 9.88, 18.0, 27.0, 35.0, 20.88, 21.75, 17.71, 16.0, 11.34, 37.66, 20.0, 20.25, 23.38, 23.0, 18.0, 15.5, 21.75, 11.34, 18.2, 15.25, 9.0, 8.0, 11.5, 16.5]]}],\n",
       "                        {\"template\": {\"data\": {\"bar\": [{\"error_x\": {\"color\": \"#2a3f5f\"}, \"error_y\": {\"color\": \"#2a3f5f\"}, \"marker\": {\"line\": {\"color\": \"#E5ECF6\", \"width\": 0.5}}, \"type\": \"bar\"}], \"barpolar\": [{\"marker\": {\"line\": {\"color\": \"#E5ECF6\", \"width\": 0.5}}, \"type\": \"barpolar\"}], \"carpet\": [{\"aaxis\": {\"endlinecolor\": \"#2a3f5f\", \"gridcolor\": \"white\", \"linecolor\": \"white\", \"minorgridcolor\": \"white\", \"startlinecolor\": \"#2a3f5f\"}, \"baxis\": {\"endlinecolor\": \"#2a3f5f\", \"gridcolor\": \"white\", \"linecolor\": \"white\", \"minorgridcolor\": \"white\", \"startlinecolor\": \"#2a3f5f\"}, \"type\": \"carpet\"}], \"choropleth\": [{\"colorbar\": {\"outlinewidth\": 0, \"ticks\": \"\"}, \"type\": \"choropleth\"}], \"contour\": [{\"colorbar\": {\"outlinewidth\": 0, \"ticks\": \"\"}, \"colorscale\": [[0.0, \"#0d0887\"], [0.1111111111111111, \"#46039f\"], [0.2222222222222222, \"#7201a8\"], [0.3333333333333333, \"#9c179e\"], [0.4444444444444444, \"#bd3786\"], [0.5555555555555556, \"#d8576b\"], [0.6666666666666666, \"#ed7953\"], [0.7777777777777778, \"#fb9f3a\"], [0.8888888888888888, \"#fdca26\"], [1.0, \"#f0f921\"]], \"type\": \"contour\"}], \"contourcarpet\": [{\"colorbar\": {\"outlinewidth\": 0, \"ticks\": \"\"}, \"type\": \"contourcarpet\"}], \"heatmap\": [{\"colorbar\": {\"outlinewidth\": 0, \"ticks\": \"\"}, \"colorscale\": [[0.0, \"#0d0887\"], [0.1111111111111111, \"#46039f\"], [0.2222222222222222, \"#7201a8\"], [0.3333333333333333, \"#9c179e\"], [0.4444444444444444, \"#bd3786\"], [0.5555555555555556, \"#d8576b\"], [0.6666666666666666, \"#ed7953\"], [0.7777777777777778, \"#fb9f3a\"], [0.8888888888888888, \"#fdca26\"], [1.0, \"#f0f921\"]], \"type\": \"heatmap\"}], \"heatmapgl\": [{\"colorbar\": {\"outlinewidth\": 0, \"ticks\": \"\"}, \"colorscale\": [[0.0, \"#0d0887\"], [0.1111111111111111, \"#46039f\"], [0.2222222222222222, \"#7201a8\"], [0.3333333333333333, \"#9c179e\"], [0.4444444444444444, \"#bd3786\"], [0.5555555555555556, \"#d8576b\"], [0.6666666666666666, \"#ed7953\"], [0.7777777777777778, \"#fb9f3a\"], [0.8888888888888888, \"#fdca26\"], [1.0, \"#f0f921\"]], \"type\": \"heatmapgl\"}], \"histogram\": [{\"marker\": {\"colorbar\": {\"outlinewidth\": 0, \"ticks\": \"\"}}, \"type\": \"histogram\"}], \"histogram2d\": [{\"colorbar\": {\"outlinewidth\": 0, \"ticks\": \"\"}, \"colorscale\": [[0.0, \"#0d0887\"], [0.1111111111111111, \"#46039f\"], [0.2222222222222222, \"#7201a8\"], [0.3333333333333333, \"#9c179e\"], [0.4444444444444444, \"#bd3786\"], [0.5555555555555556, \"#d8576b\"], [0.6666666666666666, \"#ed7953\"], [0.7777777777777778, \"#fb9f3a\"], [0.8888888888888888, \"#fdca26\"], [1.0, \"#f0f921\"]], \"type\": \"histogram2d\"}], \"histogram2dcontour\": [{\"colorbar\": {\"outlinewidth\": 0, \"ticks\": \"\"}, \"colorscale\": [[0.0, \"#0d0887\"], [0.1111111111111111, \"#46039f\"], [0.2222222222222222, \"#7201a8\"], [0.3333333333333333, \"#9c179e\"], [0.4444444444444444, \"#bd3786\"], [0.5555555555555556, \"#d8576b\"], [0.6666666666666666, \"#ed7953\"], [0.7777777777777778, \"#fb9f3a\"], [0.8888888888888888, \"#fdca26\"], [1.0, \"#f0f921\"]], \"type\": \"histogram2dcontour\"}], \"mesh3d\": [{\"colorbar\": {\"outlinewidth\": 0, \"ticks\": \"\"}, \"type\": \"mesh3d\"}], \"parcoords\": [{\"line\": {\"colorbar\": {\"outlinewidth\": 0, \"ticks\": \"\"}}, \"type\": \"parcoords\"}], \"pie\": [{\"automargin\": true, \"type\": \"pie\"}], \"scatter\": [{\"marker\": {\"colorbar\": {\"outlinewidth\": 0, \"ticks\": \"\"}}, \"type\": \"scatter\"}], \"scatter3d\": [{\"line\": {\"colorbar\": {\"outlinewidth\": 0, \"ticks\": \"\"}}, \"marker\": {\"colorbar\": {\"outlinewidth\": 0, \"ticks\": \"\"}}, \"type\": \"scatter3d\"}], \"scattercarpet\": [{\"marker\": {\"colorbar\": {\"outlinewidth\": 0, \"ticks\": \"\"}}, \"type\": \"scattercarpet\"}], \"scattergeo\": [{\"marker\": {\"colorbar\": {\"outlinewidth\": 0, \"ticks\": \"\"}}, \"type\": \"scattergeo\"}], \"scattergl\": [{\"marker\": {\"colorbar\": {\"outlinewidth\": 0, \"ticks\": \"\"}}, \"type\": \"scattergl\"}], \"scattermapbox\": [{\"marker\": {\"colorbar\": {\"outlinewidth\": 0, \"ticks\": \"\"}}, \"type\": \"scattermapbox\"}], \"scatterpolar\": [{\"marker\": {\"colorbar\": {\"outlinewidth\": 0, \"ticks\": \"\"}}, \"type\": \"scatterpolar\"}], \"scatterpolargl\": [{\"marker\": {\"colorbar\": {\"outlinewidth\": 0, \"ticks\": \"\"}}, \"type\": \"scatterpolargl\"}], \"scatterternary\": [{\"marker\": {\"colorbar\": {\"outlinewidth\": 0, \"ticks\": \"\"}}, \"type\": \"scatterternary\"}], \"surface\": [{\"colorbar\": {\"outlinewidth\": 0, \"ticks\": \"\"}, \"colorscale\": [[0.0, \"#0d0887\"], [0.1111111111111111, \"#46039f\"], [0.2222222222222222, \"#7201a8\"], [0.3333333333333333, \"#9c179e\"], [0.4444444444444444, \"#bd3786\"], [0.5555555555555556, \"#d8576b\"], [0.6666666666666666, \"#ed7953\"], [0.7777777777777778, \"#fb9f3a\"], [0.8888888888888888, \"#fdca26\"], [1.0, \"#f0f921\"]], \"type\": \"surface\"}], \"table\": [{\"cells\": {\"fill\": {\"color\": \"#EBF0F8\"}, \"line\": {\"color\": \"white\"}}, \"header\": {\"fill\": {\"color\": \"#C8D4E3\"}, \"line\": {\"color\": \"white\"}}, \"type\": \"table\"}]}, \"layout\": {\"annotationdefaults\": {\"arrowcolor\": \"#2a3f5f\", \"arrowhead\": 0, \"arrowwidth\": 1}, \"coloraxis\": {\"colorbar\": {\"outlinewidth\": 0, \"ticks\": \"\"}}, \"colorscale\": {\"diverging\": [[0, \"#8e0152\"], [0.1, \"#c51b7d\"], [0.2, \"#de77ae\"], [0.3, \"#f1b6da\"], [0.4, \"#fde0ef\"], [0.5, \"#f7f7f7\"], [0.6, \"#e6f5d0\"], [0.7, \"#b8e186\"], [0.8, \"#7fbc41\"], [0.9, \"#4d9221\"], [1, \"#276419\"]], \"sequential\": [[0.0, \"#0d0887\"], [0.1111111111111111, \"#46039f\"], [0.2222222222222222, \"#7201a8\"], [0.3333333333333333, \"#9c179e\"], [0.4444444444444444, \"#bd3786\"], [0.5555555555555556, \"#d8576b\"], [0.6666666666666666, \"#ed7953\"], [0.7777777777777778, \"#fb9f3a\"], [0.8888888888888888, \"#fdca26\"], [1.0, \"#f0f921\"]], \"sequentialminus\": [[0.0, \"#0d0887\"], [0.1111111111111111, \"#46039f\"], [0.2222222222222222, \"#7201a8\"], [0.3333333333333333, \"#9c179e\"], [0.4444444444444444, \"#bd3786\"], [0.5555555555555556, \"#d8576b\"], [0.6666666666666666, \"#ed7953\"], [0.7777777777777778, \"#fb9f3a\"], [0.8888888888888888, \"#fdca26\"], [1.0, \"#f0f921\"]]}, \"colorway\": [\"#636efa\", \"#EF553B\", \"#00cc96\", \"#ab63fa\", \"#FFA15A\", \"#19d3f3\", \"#FF6692\", \"#B6E880\", \"#FF97FF\", \"#FECB52\"], \"font\": {\"color\": \"#2a3f5f\"}, \"geo\": {\"bgcolor\": \"white\", \"lakecolor\": \"white\", \"landcolor\": \"#E5ECF6\", \"showlakes\": true, \"showland\": true, \"subunitcolor\": \"white\"}, \"hoverlabel\": {\"align\": \"left\"}, \"hovermode\": \"closest\", \"mapbox\": {\"style\": \"light\"}, \"paper_bgcolor\": \"white\", \"plot_bgcolor\": \"#E5ECF6\", \"polar\": {\"angularaxis\": {\"gridcolor\": \"white\", \"linecolor\": \"white\", \"ticks\": \"\"}, \"bgcolor\": \"#E5ECF6\", \"radialaxis\": {\"gridcolor\": \"white\", \"linecolor\": \"white\", \"ticks\": \"\"}}, \"scene\": {\"xaxis\": {\"backgroundcolor\": \"#E5ECF6\", \"gridcolor\": \"white\", \"gridwidth\": 2, \"linecolor\": \"white\", \"showbackground\": true, \"ticks\": \"\", \"zerolinecolor\": \"white\"}, \"yaxis\": {\"backgroundcolor\": \"#E5ECF6\", \"gridcolor\": \"white\", \"gridwidth\": 2, \"linecolor\": \"white\", \"showbackground\": true, \"ticks\": \"\", \"zerolinecolor\": \"white\"}, \"zaxis\": {\"backgroundcolor\": \"#E5ECF6\", \"gridcolor\": \"white\", \"gridwidth\": 2, \"linecolor\": \"white\", \"showbackground\": true, \"ticks\": \"\", \"zerolinecolor\": \"white\"}}, \"shapedefaults\": {\"line\": {\"color\": \"#2a3f5f\"}}, \"ternary\": {\"aaxis\": {\"gridcolor\": \"white\", \"linecolor\": \"white\", \"ticks\": \"\"}, \"baxis\": {\"gridcolor\": \"white\", \"linecolor\": \"white\", \"ticks\": \"\"}, \"bgcolor\": \"#E5ECF6\", \"caxis\": {\"gridcolor\": \"white\", \"linecolor\": \"white\", \"ticks\": \"\"}}, \"title\": {\"x\": 0.05}, \"xaxis\": {\"automargin\": true, \"gridcolor\": \"white\", \"linecolor\": \"white\", \"ticks\": \"\", \"title\": {\"standoff\": 15}, \"zerolinecolor\": \"white\", \"zerolinewidth\": 2}, \"yaxis\": {\"automargin\": true, \"gridcolor\": \"white\", \"linecolor\": \"white\", \"ticks\": \"\", \"title\": {\"standoff\": 15}, \"zerolinecolor\": \"white\", \"zerolinewidth\": 2}}}, \"title\": {\"text\": \"MAGE before labour date\"}},\n",
       "                        {\"responsive\": true}\n",
       "                    ).then(function(){\n",
       "                            \n",
       "var gd = document.getElementById('57bbd6bf-2fc0-4584-b625-012063a2f9e4');\n",
       "var x = new MutationObserver(function (mutations, observer) {{\n",
       "        var display = window.getComputedStyle(gd).display;\n",
       "        if (!display || display === 'none') {{\n",
       "            console.log([gd, 'removed!']);\n",
       "            Plotly.purge(gd);\n",
       "            observer.disconnect();\n",
       "        }}\n",
       "}});\n",
       "\n",
       "// Listen for the removal of the full notebook cells\n",
       "var notebookContainer = gd.closest('#notebook-container');\n",
       "if (notebookContainer) {{\n",
       "    x.observe(notebookContainer, {childList: true});\n",
       "}}\n",
       "\n",
       "// Listen for the clearing of the current output cell\n",
       "var outputEl = gd.closest('.output');\n",
       "if (outputEl) {{\n",
       "    x.observe(outputEl, {childList: true});\n",
       "}}\n",
       "\n",
       "                        })\n",
       "                };\n",
       "                });\n",
       "            </script>\n",
       "        </div>"
      ]
     },
     "metadata": {},
     "output_type": "display_data"
    }
   ],
   "source": [
    "fig = go.Figure(data=go.Heatmap(\n",
    "                   z=list_of_mage_values,\n",
    "                   x=list_of_days,\n",
    "                   y=reg_code_list,\n",
    "                   hoverongaps = False))\n",
    "fig.update_layout(\n",
    "    title='MAGE before labour date')\n",
    "fig.show()"
   ]
  },
  {
   "cell_type": "markdown",
   "metadata": {},
   "source": [
    "The problem here is that we don't know which period of pregnancy corresponds to which day, we only kno that all the days shown here are before giving a birth. Maybe let's look on the heatmap also at the days after the labour day"
   ]
  },
  {
   "cell_type": "code",
   "execution_count": 74,
   "metadata": {},
   "outputs": [],
   "source": [
    "mage_df = mage_df_unfiltered.copy()"
   ]
  },
  {
   "cell_type": "code",
   "execution_count": 75,
   "metadata": {
    "scrolled": false
   },
   "outputs": [
    {
     "data": {
      "text/plain": [
       "array(['30398', '394858', '405661', '471439', '485966', '511664',\n",
       "       '521161', '637617', '64229', '670055', '675329', '757248',\n",
       "       '859116', '909576', '986640', '999443'], dtype=object)"
      ]
     },
     "execution_count": 75,
     "metadata": {},
     "output_type": "execute_result"
    }
   ],
   "source": [
    "for rc in mage_df[\"RegistrationCode\"].unique():\n",
    "    \n",
    "    indexNames = mage_df[ (mage_df['RegistrationCode'] == rc) & (mage_df['date'] <= gdm_dict[rc]) ].index\n",
    "    mage_df.drop(indexNames, inplace=True)\n",
    "mage_df['RegistrationCode'].unique()"
   ]
  },
  {
   "cell_type": "code",
   "execution_count": 76,
   "metadata": {},
   "outputs": [
    {
     "data": {
      "text/plain": [
       "16"
      ]
     },
     "execution_count": 76,
     "metadata": {},
     "output_type": "execute_result"
    }
   ],
   "source": [
    "len(mage_df['RegistrationCode'].unique())"
   ]
  },
  {
   "cell_type": "code",
   "execution_count": 77,
   "metadata": {
    "scrolled": false
   },
   "outputs": [
    {
     "name": "stdout",
     "output_type": "stream",
     "text": [
      "30398 37\n",
      "394858 42\n",
      "405661 21\n",
      "471439 28\n",
      "485966 147\n",
      "511664 14\n",
      "521161 36\n",
      "637617 13\n",
      "64229 64\n",
      "670055 24\n",
      "675329 31\n",
      "757248 58\n",
      "859116 68\n",
      "909576 47\n",
      "986640 32\n",
      "999443 23\n"
     ]
    }
   ],
   "source": [
    "for rc in mage_df[\"RegistrationCode\"].unique():\n",
    "    print(rc, len(mage_df[mage_df['RegistrationCode'] == rc]))"
   ]
  },
  {
   "cell_type": "markdown",
   "metadata": {},
   "source": [
    "The max is 147, but let's only take 40 days for each person"
   ]
  },
  {
   "cell_type": "code",
   "execution_count": 85,
   "metadata": {
    "scrolled": true
   },
   "outputs": [
    {
     "name": "stdout",
     "output_type": "stream",
     "text": [
      "['Day 1', 'Day 2', 'Day 3', 'Day 4', 'Day 5', 'Day 6', 'Day 7', 'Day 8', 'Day 9', 'Day 10', 'Day 11', 'Day 12', 'Day 13', 'Day 14', 'Day 15', 'Day 16', 'Day 17', 'Day 18', 'Day 19', 'Day 20', 'Day 21', 'Day 22', 'Day 23', 'Day 24', 'Day 25', 'Day 26', 'Day 27', 'Day 28', 'Day 29', 'Day 30', 'Day 31', 'Day 32', 'Day 33', 'Day 34', 'Day 35', 'Day 36', 'Day 37', 'Day 38', 'Day 39', 'Day 40']\n"
     ]
    }
   ],
   "source": [
    "list_of_days = []\n",
    "for i in range(40):\n",
    "    list_of_days.append('Day {}'.format(i+1))\n",
    "print(list_of_days)"
   ]
  },
  {
   "cell_type": "markdown",
   "metadata": {},
   "source": [
    "Now I want to make a list of lists with mage values for each person per day. If the number of days for a person was smaller than 64, then it should be filled with NaN(None)."
   ]
  },
  {
   "cell_type": "code",
   "execution_count": 86,
   "metadata": {},
   "outputs": [],
   "source": [
    "list_of_mage_values = []\n",
    "for rc in mage_df[\"RegistrationCode\"].unique():\n",
    "    list_of_mage_values.append(list(mage_df[mage_df['RegistrationCode'] == rc]['mage'])[0:41])"
   ]
  },
  {
   "cell_type": "code",
   "execution_count": 87,
   "metadata": {},
   "outputs": [
    {
     "name": "stdout",
     "output_type": "stream",
     "text": [
      "[[20.25, 19.0, 10.34, 24.84, 12.82, 10.25, 12.0, 6.0, 0.0, 19.0, 6.75, 6.25, 5.0, 0.0, 16.84, 4.5, 9.0, 0.0, 8.0, 8.0, 12.0, 8.5, 9.0, 27.25, 17.25, 13.0, 18.0, 8.5, 4.5, 15.5, 30.48, 29.12, 22.5, 25.25, 12.0, 26.5, 5.0], [15.0, 30.25, 16.5, 70.5, 21.5, 16.89, 18.5, 25.25, 28.84, 17.16, 12.25, 23.0, 19.84, 3.25, 30.0, 28.25, 18.0, 13.25, 14.34, 9.46, 25.0, 15.0, 27.75, 42.0, 0.0, 20.02, 15.0, 17.5, 17.5, 15.5, 11.5, 24.34, 17.79, 15.41, 16.96, 12.75, 25.5, 21.75, 30.59, 24.5, 9.4], [26.5, 25.75, 17.41, 27.75, 23.18, 15.41, 27.5, 22.62, 21.0, 22.0, 16.0, 35.75, 3.0, 14.62, 17.11, 13.5, 22.04, 18.75, 15.5, 26.5, 0.0], [16.25, 25.12, 12.5, 35.5, 21.5, 5.25, 20.0, 0.0, 11.66, 15.0, 16.5, 13.5, 14.5, 6.0, 14.5, 10.5, 22.5, 24.66, 17.95, 14.5, 24.25, 8.5, 12.75, 21.91, 11.0, 13.84, 15.25, 2.0], [9.25, 21.75, 32.75, 25.0, 14.69, 23.0, 17.5, 21.66, 19.85, 11.66, 18.75, 28.84, 11.0, 22.0, 22.6, 42.75, 11.0, 20.0, 20.0, 16.5, 18.88, 29.5, 18.0, 16.25, 26.88, 0.0, 16.16, 18.88, 19.84, 9.0, 11.0, 19.34, 23.0, 13.75, 29.41, 11.0, 7.0, 19.66, 8.0, 16.25, 10.34], [22.33, 14.5, 19.75, 14.92, 22.5, 26.41, 40.0, 15.3, 11.0, 14.0, 27.88, 14.91, 22.16, 13.0], [8.75, 12.25, 20.5, 19.5, 12.5, 12.29, 16.62, 5.75, 15.25, 10.5, 9.0, 10.0, 16.7, 0.0, 16.5, 19.5, 51.25, 17.5, 24.07, 9.5, 14.34, 9.5, 11.0, 8.0, 10.84, 20.09, 23.75, 26.5, 14.25, 14.05, 22.5, 27.09, 5.5, 9.0, 8.16, 3.0], [23.38, 17.75, 13.25, 11.25, 24.25, 17.12, 37.0, 5.84, 17.84, 27.25, 15.12, 16.0, 0.0], [7.0, 8.75, 13.25, 7.5, 14.75, 11.38, 8.0, 13.95, 11.25, 16.92, 5.5, 14.1, 17.84, 16.67, 10.0, 17.16, 12.0, 15.75, 35.75, 7.34, 13.8, 13.25, 7.5, 9.0, 30.75, 10.25, 18.16, 0.0, 8.0, 0.0, 20.0, 9.5, 11.5, 9.5, 20.66, 12.67, 0.0, 12.34, 33.75, 20.73, 19.81], [20.09, 19.96, 25.38, 19.5, 30.0, 10.34, 15.43, 12.91, 15.38, 19.66, 15.0, 25.84, 11.09, 22.66, 30.38, 10.25, 15.73, 26.75, 12.8, 22.75, 22.84, 19.83, 9.75, 13.5], [24.0, 17.62, 12.0, 0.0, 9.75, 9.43, 15.2, 14.0, 19.79, 22.25, 21.84, 22.25, 15.25, 13.75, 12.5, 27.25, 11.25, 24.1, 11.5, 12.84, 10.5, 18.16, 6.25, 30.0, 35.75, 22.5, 24.0, 10.5, 19.5, 9.66, 10.0], [20.5, 7.0, 23.84, 22.0, 17.41, 17.75, 19.84, 21.54, 15.84, 21.34, 14.89, 17.4, 13.0, 5.75, 20.0, 22.5, 9.84, 8.5, 8.75, 25.25, 0.0, 11.5, 16.12, 10.0, 6.0, 66.5, 7.0, 3.83, 4.75, 13.5, 9.5, 20.5, 20.73, 36.5, 0.0, 16.0, 10.5, 16.5, 9.5, 16.57, 25.75], [16.6, 8.62, 11.75, 10.65, 7.54, 10.59, 11.11, 10.38, 9.12, 17.5, 20.84, 4.5, 7.31, 3.25, 11.41, 14.91, 27.0, 18.43, 20.0, 13.42, 10.66, 12.0, 9.45, 6.0, 7.0, 10.5, 6.42, 11.66, 14.35, 14.5, 13.0, 6.0, 14.71, 8.71, 7.25, 4.34, 18.5, 14.93, 10.72, 9.96, 15.37], [12.66, 15.4, 18.25, 6.25, 10.7, 7.75, 14.62, 20.5, 16.38, 14.25, 15.59, 11.25, 0.0, 13.8, 15.33, 18.25, 19.5, 36.5, 14.75, 12.25, 0.0, 6.0, 17.5, 9.84, 7.42, 6.75, 5.75, 9.0, 14.41, 12.09, 7.5, 5.5, 11.5, 13.59, 10.25, 22.66, 20.59, 16.58, 5.0, 30.84, 23.25], [11.0, 10.5, 13.5, 11.12, 18.25, 20.5, 12.0, 21.91, 18.5, 18.34, 8.25, 21.44, 26.0, 16.25, 31.5, 14.75, 13.16, 2.5, 18.5, 21.77, 13.86, 19.5, 28.7, 18.25, 14.12, 14.5, 19.41, 21.5, 9.66, 8.5, 18.5, 8.5], [11.5, 25.5, 7.5, 18.09, 33.59, 13.75, 19.5, 21.5, 18.66, 17.5, 15.75, 7.75, 18.0, 16.34, 3.0, 27.0, 20.0, 12.75, 20.0, 30.34, 16.83, 23.23, 21.62]]\n"
     ]
    }
   ],
   "source": [
    "print(list_of_mage_values)"
   ]
  },
  {
   "cell_type": "code",
   "execution_count": 88,
   "metadata": {},
   "outputs": [],
   "source": [
    "reg_code_list = ['rc'+i for i in mage_df['RegistrationCode'].unique()]"
   ]
  },
  {
   "cell_type": "code",
   "execution_count": 89,
   "metadata": {},
   "outputs": [],
   "source": [
    "reg_code_list.sort()"
   ]
  },
  {
   "cell_type": "code",
   "execution_count": 90,
   "metadata": {},
   "outputs": [
    {
     "data": {
      "text/plain": [
       "['rc30398',\n",
       " 'rc394858',\n",
       " 'rc405661',\n",
       " 'rc471439',\n",
       " 'rc485966',\n",
       " 'rc511664',\n",
       " 'rc521161',\n",
       " 'rc637617',\n",
       " 'rc64229',\n",
       " 'rc670055',\n",
       " 'rc675329',\n",
       " 'rc757248',\n",
       " 'rc859116',\n",
       " 'rc909576',\n",
       " 'rc986640',\n",
       " 'rc999443']"
      ]
     },
     "execution_count": 90,
     "metadata": {},
     "output_type": "execute_result"
    }
   ],
   "source": [
    "reg_code_list"
   ]
  },
  {
   "cell_type": "code",
   "execution_count": 92,
   "metadata": {},
   "outputs": [
    {
     "data": {
      "application/vnd.plotly.v1+json": {
       "config": {
        "plotlyServerURL": "https://plot.ly"
       },
       "data": [
        {
         "hoverongaps": false,
         "type": "heatmap",
         "x": [
          "Day 1",
          "Day 2",
          "Day 3",
          "Day 4",
          "Day 5",
          "Day 6",
          "Day 7",
          "Day 8",
          "Day 9",
          "Day 10",
          "Day 11",
          "Day 12",
          "Day 13",
          "Day 14",
          "Day 15",
          "Day 16",
          "Day 17",
          "Day 18",
          "Day 19",
          "Day 20",
          "Day 21",
          "Day 22",
          "Day 23",
          "Day 24",
          "Day 25",
          "Day 26",
          "Day 27",
          "Day 28",
          "Day 29",
          "Day 30",
          "Day 31",
          "Day 32",
          "Day 33",
          "Day 34",
          "Day 35",
          "Day 36",
          "Day 37",
          "Day 38",
          "Day 39",
          "Day 40"
         ],
         "y": [
          "rc30398",
          "rc394858",
          "rc405661",
          "rc471439",
          "rc485966",
          "rc511664",
          "rc521161",
          "rc637617",
          "rc64229",
          "rc670055",
          "rc675329",
          "rc757248",
          "rc859116",
          "rc909576",
          "rc986640",
          "rc999443"
         ],
         "z": [
          [
           20.25,
           19,
           10.34,
           24.84,
           12.82,
           10.25,
           12,
           6,
           0,
           19,
           6.75,
           6.25,
           5,
           0,
           16.84,
           4.5,
           9,
           0,
           8,
           8,
           12,
           8.5,
           9,
           27.25,
           17.25,
           13,
           18,
           8.5,
           4.5,
           15.5,
           30.48,
           29.12,
           22.5,
           25.25,
           12,
           26.5,
           5
          ],
          [
           15,
           30.25,
           16.5,
           70.5,
           21.5,
           16.89,
           18.5,
           25.25,
           28.84,
           17.16,
           12.25,
           23,
           19.84,
           3.25,
           30,
           28.25,
           18,
           13.25,
           14.34,
           9.46,
           25,
           15,
           27.75,
           42,
           0,
           20.02,
           15,
           17.5,
           17.5,
           15.5,
           11.5,
           24.34,
           17.79,
           15.41,
           16.96,
           12.75,
           25.5,
           21.75,
           30.59,
           24.5,
           9.4
          ],
          [
           26.5,
           25.75,
           17.41,
           27.75,
           23.18,
           15.41,
           27.5,
           22.62,
           21,
           22,
           16,
           35.75,
           3,
           14.62,
           17.11,
           13.5,
           22.04,
           18.75,
           15.5,
           26.5,
           0
          ],
          [
           16.25,
           25.12,
           12.5,
           35.5,
           21.5,
           5.25,
           20,
           0,
           11.66,
           15,
           16.5,
           13.5,
           14.5,
           6,
           14.5,
           10.5,
           22.5,
           24.66,
           17.95,
           14.5,
           24.25,
           8.5,
           12.75,
           21.91,
           11,
           13.84,
           15.25,
           2
          ],
          [
           9.25,
           21.75,
           32.75,
           25,
           14.69,
           23,
           17.5,
           21.66,
           19.85,
           11.66,
           18.75,
           28.84,
           11,
           22,
           22.6,
           42.75,
           11,
           20,
           20,
           16.5,
           18.88,
           29.5,
           18,
           16.25,
           26.88,
           0,
           16.16,
           18.88,
           19.84,
           9,
           11,
           19.34,
           23,
           13.75,
           29.41,
           11,
           7,
           19.66,
           8,
           16.25,
           10.34
          ],
          [
           22.33,
           14.5,
           19.75,
           14.92,
           22.5,
           26.41,
           40,
           15.3,
           11,
           14,
           27.88,
           14.91,
           22.16,
           13
          ],
          [
           8.75,
           12.25,
           20.5,
           19.5,
           12.5,
           12.29,
           16.62,
           5.75,
           15.25,
           10.5,
           9,
           10,
           16.7,
           0,
           16.5,
           19.5,
           51.25,
           17.5,
           24.07,
           9.5,
           14.34,
           9.5,
           11,
           8,
           10.84,
           20.09,
           23.75,
           26.5,
           14.25,
           14.05,
           22.5,
           27.09,
           5.5,
           9,
           8.16,
           3
          ],
          [
           23.38,
           17.75,
           13.25,
           11.25,
           24.25,
           17.12,
           37,
           5.84,
           17.84,
           27.25,
           15.12,
           16,
           0
          ],
          [
           7,
           8.75,
           13.25,
           7.5,
           14.75,
           11.38,
           8,
           13.95,
           11.25,
           16.92,
           5.5,
           14.1,
           17.84,
           16.67,
           10,
           17.16,
           12,
           15.75,
           35.75,
           7.34,
           13.8,
           13.25,
           7.5,
           9,
           30.75,
           10.25,
           18.16,
           0,
           8,
           0,
           20,
           9.5,
           11.5,
           9.5,
           20.66,
           12.67,
           0,
           12.34,
           33.75,
           20.73,
           19.81
          ],
          [
           20.09,
           19.96,
           25.38,
           19.5,
           30,
           10.34,
           15.43,
           12.91,
           15.38,
           19.66,
           15,
           25.84,
           11.09,
           22.66,
           30.38,
           10.25,
           15.73,
           26.75,
           12.8,
           22.75,
           22.84,
           19.83,
           9.75,
           13.5
          ],
          [
           24,
           17.62,
           12,
           0,
           9.75,
           9.43,
           15.2,
           14,
           19.79,
           22.25,
           21.84,
           22.25,
           15.25,
           13.75,
           12.5,
           27.25,
           11.25,
           24.1,
           11.5,
           12.84,
           10.5,
           18.16,
           6.25,
           30,
           35.75,
           22.5,
           24,
           10.5,
           19.5,
           9.66,
           10
          ],
          [
           20.5,
           7,
           23.84,
           22,
           17.41,
           17.75,
           19.84,
           21.54,
           15.84,
           21.34,
           14.89,
           17.4,
           13,
           5.75,
           20,
           22.5,
           9.84,
           8.5,
           8.75,
           25.25,
           0,
           11.5,
           16.12,
           10,
           6,
           66.5,
           7,
           3.83,
           4.75,
           13.5,
           9.5,
           20.5,
           20.73,
           36.5,
           0,
           16,
           10.5,
           16.5,
           9.5,
           16.57,
           25.75
          ],
          [
           16.6,
           8.62,
           11.75,
           10.65,
           7.54,
           10.59,
           11.11,
           10.38,
           9.12,
           17.5,
           20.84,
           4.5,
           7.31,
           3.25,
           11.41,
           14.91,
           27,
           18.43,
           20,
           13.42,
           10.66,
           12,
           9.45,
           6,
           7,
           10.5,
           6.42,
           11.66,
           14.35,
           14.5,
           13,
           6,
           14.71,
           8.71,
           7.25,
           4.34,
           18.5,
           14.93,
           10.72,
           9.96,
           15.37
          ],
          [
           12.66,
           15.4,
           18.25,
           6.25,
           10.7,
           7.75,
           14.62,
           20.5,
           16.38,
           14.25,
           15.59,
           11.25,
           0,
           13.8,
           15.33,
           18.25,
           19.5,
           36.5,
           14.75,
           12.25,
           0,
           6,
           17.5,
           9.84,
           7.42,
           6.75,
           5.75,
           9,
           14.41,
           12.09,
           7.5,
           5.5,
           11.5,
           13.59,
           10.25,
           22.66,
           20.59,
           16.58,
           5,
           30.84,
           23.25
          ],
          [
           11,
           10.5,
           13.5,
           11.12,
           18.25,
           20.5,
           12,
           21.91,
           18.5,
           18.34,
           8.25,
           21.44,
           26,
           16.25,
           31.5,
           14.75,
           13.16,
           2.5,
           18.5,
           21.77,
           13.86,
           19.5,
           28.7,
           18.25,
           14.12,
           14.5,
           19.41,
           21.5,
           9.66,
           8.5,
           18.5,
           8.5
          ],
          [
           11.5,
           25.5,
           7.5,
           18.09,
           33.59,
           13.75,
           19.5,
           21.5,
           18.66,
           17.5,
           15.75,
           7.75,
           18,
           16.34,
           3,
           27,
           20,
           12.75,
           20,
           30.34,
           16.83,
           23.23,
           21.62
          ]
         ]
        }
       ],
       "layout": {
        "template": {
         "data": {
          "bar": [
           {
            "error_x": {
             "color": "#2a3f5f"
            },
            "error_y": {
             "color": "#2a3f5f"
            },
            "marker": {
             "line": {
              "color": "#E5ECF6",
              "width": 0.5
             }
            },
            "type": "bar"
           }
          ],
          "barpolar": [
           {
            "marker": {
             "line": {
              "color": "#E5ECF6",
              "width": 0.5
             }
            },
            "type": "barpolar"
           }
          ],
          "carpet": [
           {
            "aaxis": {
             "endlinecolor": "#2a3f5f",
             "gridcolor": "white",
             "linecolor": "white",
             "minorgridcolor": "white",
             "startlinecolor": "#2a3f5f"
            },
            "baxis": {
             "endlinecolor": "#2a3f5f",
             "gridcolor": "white",
             "linecolor": "white",
             "minorgridcolor": "white",
             "startlinecolor": "#2a3f5f"
            },
            "type": "carpet"
           }
          ],
          "choropleth": [
           {
            "colorbar": {
             "outlinewidth": 0,
             "ticks": ""
            },
            "type": "choropleth"
           }
          ],
          "contour": [
           {
            "colorbar": {
             "outlinewidth": 0,
             "ticks": ""
            },
            "colorscale": [
             [
              0,
              "#0d0887"
             ],
             [
              0.1111111111111111,
              "#46039f"
             ],
             [
              0.2222222222222222,
              "#7201a8"
             ],
             [
              0.3333333333333333,
              "#9c179e"
             ],
             [
              0.4444444444444444,
              "#bd3786"
             ],
             [
              0.5555555555555556,
              "#d8576b"
             ],
             [
              0.6666666666666666,
              "#ed7953"
             ],
             [
              0.7777777777777778,
              "#fb9f3a"
             ],
             [
              0.8888888888888888,
              "#fdca26"
             ],
             [
              1,
              "#f0f921"
             ]
            ],
            "type": "contour"
           }
          ],
          "contourcarpet": [
           {
            "colorbar": {
             "outlinewidth": 0,
             "ticks": ""
            },
            "type": "contourcarpet"
           }
          ],
          "heatmap": [
           {
            "colorbar": {
             "outlinewidth": 0,
             "ticks": ""
            },
            "colorscale": [
             [
              0,
              "#0d0887"
             ],
             [
              0.1111111111111111,
              "#46039f"
             ],
             [
              0.2222222222222222,
              "#7201a8"
             ],
             [
              0.3333333333333333,
              "#9c179e"
             ],
             [
              0.4444444444444444,
              "#bd3786"
             ],
             [
              0.5555555555555556,
              "#d8576b"
             ],
             [
              0.6666666666666666,
              "#ed7953"
             ],
             [
              0.7777777777777778,
              "#fb9f3a"
             ],
             [
              0.8888888888888888,
              "#fdca26"
             ],
             [
              1,
              "#f0f921"
             ]
            ],
            "type": "heatmap"
           }
          ],
          "heatmapgl": [
           {
            "colorbar": {
             "outlinewidth": 0,
             "ticks": ""
            },
            "colorscale": [
             [
              0,
              "#0d0887"
             ],
             [
              0.1111111111111111,
              "#46039f"
             ],
             [
              0.2222222222222222,
              "#7201a8"
             ],
             [
              0.3333333333333333,
              "#9c179e"
             ],
             [
              0.4444444444444444,
              "#bd3786"
             ],
             [
              0.5555555555555556,
              "#d8576b"
             ],
             [
              0.6666666666666666,
              "#ed7953"
             ],
             [
              0.7777777777777778,
              "#fb9f3a"
             ],
             [
              0.8888888888888888,
              "#fdca26"
             ],
             [
              1,
              "#f0f921"
             ]
            ],
            "type": "heatmapgl"
           }
          ],
          "histogram": [
           {
            "marker": {
             "colorbar": {
              "outlinewidth": 0,
              "ticks": ""
             }
            },
            "type": "histogram"
           }
          ],
          "histogram2d": [
           {
            "colorbar": {
             "outlinewidth": 0,
             "ticks": ""
            },
            "colorscale": [
             [
              0,
              "#0d0887"
             ],
             [
              0.1111111111111111,
              "#46039f"
             ],
             [
              0.2222222222222222,
              "#7201a8"
             ],
             [
              0.3333333333333333,
              "#9c179e"
             ],
             [
              0.4444444444444444,
              "#bd3786"
             ],
             [
              0.5555555555555556,
              "#d8576b"
             ],
             [
              0.6666666666666666,
              "#ed7953"
             ],
             [
              0.7777777777777778,
              "#fb9f3a"
             ],
             [
              0.8888888888888888,
              "#fdca26"
             ],
             [
              1,
              "#f0f921"
             ]
            ],
            "type": "histogram2d"
           }
          ],
          "histogram2dcontour": [
           {
            "colorbar": {
             "outlinewidth": 0,
             "ticks": ""
            },
            "colorscale": [
             [
              0,
              "#0d0887"
             ],
             [
              0.1111111111111111,
              "#46039f"
             ],
             [
              0.2222222222222222,
              "#7201a8"
             ],
             [
              0.3333333333333333,
              "#9c179e"
             ],
             [
              0.4444444444444444,
              "#bd3786"
             ],
             [
              0.5555555555555556,
              "#d8576b"
             ],
             [
              0.6666666666666666,
              "#ed7953"
             ],
             [
              0.7777777777777778,
              "#fb9f3a"
             ],
             [
              0.8888888888888888,
              "#fdca26"
             ],
             [
              1,
              "#f0f921"
             ]
            ],
            "type": "histogram2dcontour"
           }
          ],
          "mesh3d": [
           {
            "colorbar": {
             "outlinewidth": 0,
             "ticks": ""
            },
            "type": "mesh3d"
           }
          ],
          "parcoords": [
           {
            "line": {
             "colorbar": {
              "outlinewidth": 0,
              "ticks": ""
             }
            },
            "type": "parcoords"
           }
          ],
          "pie": [
           {
            "automargin": true,
            "type": "pie"
           }
          ],
          "scatter": [
           {
            "marker": {
             "colorbar": {
              "outlinewidth": 0,
              "ticks": ""
             }
            },
            "type": "scatter"
           }
          ],
          "scatter3d": [
           {
            "line": {
             "colorbar": {
              "outlinewidth": 0,
              "ticks": ""
             }
            },
            "marker": {
             "colorbar": {
              "outlinewidth": 0,
              "ticks": ""
             }
            },
            "type": "scatter3d"
           }
          ],
          "scattercarpet": [
           {
            "marker": {
             "colorbar": {
              "outlinewidth": 0,
              "ticks": ""
             }
            },
            "type": "scattercarpet"
           }
          ],
          "scattergeo": [
           {
            "marker": {
             "colorbar": {
              "outlinewidth": 0,
              "ticks": ""
             }
            },
            "type": "scattergeo"
           }
          ],
          "scattergl": [
           {
            "marker": {
             "colorbar": {
              "outlinewidth": 0,
              "ticks": ""
             }
            },
            "type": "scattergl"
           }
          ],
          "scattermapbox": [
           {
            "marker": {
             "colorbar": {
              "outlinewidth": 0,
              "ticks": ""
             }
            },
            "type": "scattermapbox"
           }
          ],
          "scatterpolar": [
           {
            "marker": {
             "colorbar": {
              "outlinewidth": 0,
              "ticks": ""
             }
            },
            "type": "scatterpolar"
           }
          ],
          "scatterpolargl": [
           {
            "marker": {
             "colorbar": {
              "outlinewidth": 0,
              "ticks": ""
             }
            },
            "type": "scatterpolargl"
           }
          ],
          "scatterternary": [
           {
            "marker": {
             "colorbar": {
              "outlinewidth": 0,
              "ticks": ""
             }
            },
            "type": "scatterternary"
           }
          ],
          "surface": [
           {
            "colorbar": {
             "outlinewidth": 0,
             "ticks": ""
            },
            "colorscale": [
             [
              0,
              "#0d0887"
             ],
             [
              0.1111111111111111,
              "#46039f"
             ],
             [
              0.2222222222222222,
              "#7201a8"
             ],
             [
              0.3333333333333333,
              "#9c179e"
             ],
             [
              0.4444444444444444,
              "#bd3786"
             ],
             [
              0.5555555555555556,
              "#d8576b"
             ],
             [
              0.6666666666666666,
              "#ed7953"
             ],
             [
              0.7777777777777778,
              "#fb9f3a"
             ],
             [
              0.8888888888888888,
              "#fdca26"
             ],
             [
              1,
              "#f0f921"
             ]
            ],
            "type": "surface"
           }
          ],
          "table": [
           {
            "cells": {
             "fill": {
              "color": "#EBF0F8"
             },
             "line": {
              "color": "white"
             }
            },
            "header": {
             "fill": {
              "color": "#C8D4E3"
             },
             "line": {
              "color": "white"
             }
            },
            "type": "table"
           }
          ]
         },
         "layout": {
          "annotationdefaults": {
           "arrowcolor": "#2a3f5f",
           "arrowhead": 0,
           "arrowwidth": 1
          },
          "coloraxis": {
           "colorbar": {
            "outlinewidth": 0,
            "ticks": ""
           }
          },
          "colorscale": {
           "diverging": [
            [
             0,
             "#8e0152"
            ],
            [
             0.1,
             "#c51b7d"
            ],
            [
             0.2,
             "#de77ae"
            ],
            [
             0.3,
             "#f1b6da"
            ],
            [
             0.4,
             "#fde0ef"
            ],
            [
             0.5,
             "#f7f7f7"
            ],
            [
             0.6,
             "#e6f5d0"
            ],
            [
             0.7,
             "#b8e186"
            ],
            [
             0.8,
             "#7fbc41"
            ],
            [
             0.9,
             "#4d9221"
            ],
            [
             1,
             "#276419"
            ]
           ],
           "sequential": [
            [
             0,
             "#0d0887"
            ],
            [
             0.1111111111111111,
             "#46039f"
            ],
            [
             0.2222222222222222,
             "#7201a8"
            ],
            [
             0.3333333333333333,
             "#9c179e"
            ],
            [
             0.4444444444444444,
             "#bd3786"
            ],
            [
             0.5555555555555556,
             "#d8576b"
            ],
            [
             0.6666666666666666,
             "#ed7953"
            ],
            [
             0.7777777777777778,
             "#fb9f3a"
            ],
            [
             0.8888888888888888,
             "#fdca26"
            ],
            [
             1,
             "#f0f921"
            ]
           ],
           "sequentialminus": [
            [
             0,
             "#0d0887"
            ],
            [
             0.1111111111111111,
             "#46039f"
            ],
            [
             0.2222222222222222,
             "#7201a8"
            ],
            [
             0.3333333333333333,
             "#9c179e"
            ],
            [
             0.4444444444444444,
             "#bd3786"
            ],
            [
             0.5555555555555556,
             "#d8576b"
            ],
            [
             0.6666666666666666,
             "#ed7953"
            ],
            [
             0.7777777777777778,
             "#fb9f3a"
            ],
            [
             0.8888888888888888,
             "#fdca26"
            ],
            [
             1,
             "#f0f921"
            ]
           ]
          },
          "colorway": [
           "#636efa",
           "#EF553B",
           "#00cc96",
           "#ab63fa",
           "#FFA15A",
           "#19d3f3",
           "#FF6692",
           "#B6E880",
           "#FF97FF",
           "#FECB52"
          ],
          "font": {
           "color": "#2a3f5f"
          },
          "geo": {
           "bgcolor": "white",
           "lakecolor": "white",
           "landcolor": "#E5ECF6",
           "showlakes": true,
           "showland": true,
           "subunitcolor": "white"
          },
          "hoverlabel": {
           "align": "left"
          },
          "hovermode": "closest",
          "mapbox": {
           "style": "light"
          },
          "paper_bgcolor": "white",
          "plot_bgcolor": "#E5ECF6",
          "polar": {
           "angularaxis": {
            "gridcolor": "white",
            "linecolor": "white",
            "ticks": ""
           },
           "bgcolor": "#E5ECF6",
           "radialaxis": {
            "gridcolor": "white",
            "linecolor": "white",
            "ticks": ""
           }
          },
          "scene": {
           "xaxis": {
            "backgroundcolor": "#E5ECF6",
            "gridcolor": "white",
            "gridwidth": 2,
            "linecolor": "white",
            "showbackground": true,
            "ticks": "",
            "zerolinecolor": "white"
           },
           "yaxis": {
            "backgroundcolor": "#E5ECF6",
            "gridcolor": "white",
            "gridwidth": 2,
            "linecolor": "white",
            "showbackground": true,
            "ticks": "",
            "zerolinecolor": "white"
           },
           "zaxis": {
            "backgroundcolor": "#E5ECF6",
            "gridcolor": "white",
            "gridwidth": 2,
            "linecolor": "white",
            "showbackground": true,
            "ticks": "",
            "zerolinecolor": "white"
           }
          },
          "shapedefaults": {
           "line": {
            "color": "#2a3f5f"
           }
          },
          "ternary": {
           "aaxis": {
            "gridcolor": "white",
            "linecolor": "white",
            "ticks": ""
           },
           "baxis": {
            "gridcolor": "white",
            "linecolor": "white",
            "ticks": ""
           },
           "bgcolor": "#E5ECF6",
           "caxis": {
            "gridcolor": "white",
            "linecolor": "white",
            "ticks": ""
           }
          },
          "title": {
           "x": 0.05
          },
          "xaxis": {
           "automargin": true,
           "gridcolor": "white",
           "linecolor": "white",
           "ticks": "",
           "title": {
            "standoff": 15
           },
           "zerolinecolor": "white",
           "zerolinewidth": 2
          },
          "yaxis": {
           "automargin": true,
           "gridcolor": "white",
           "linecolor": "white",
           "ticks": "",
           "title": {
            "standoff": 15
           },
           "zerolinecolor": "white",
           "zerolinewidth": 2
          }
         }
        },
        "title": {
         "text": "MAGE after labour date"
        }
       }
      },
      "text/html": [
       "<div>\n",
       "        \n",
       "        \n",
       "            <div id=\"928211c2-dcdb-4dc3-a6c4-4e3acc0671db\" class=\"plotly-graph-div\" style=\"height:525px; width:100%;\"></div>\n",
       "            <script type=\"text/javascript\">\n",
       "                require([\"plotly\"], function(Plotly) {\n",
       "                    window.PLOTLYENV=window.PLOTLYENV || {};\n",
       "                    \n",
       "                if (document.getElementById(\"928211c2-dcdb-4dc3-a6c4-4e3acc0671db\")) {\n",
       "                    Plotly.newPlot(\n",
       "                        '928211c2-dcdb-4dc3-a6c4-4e3acc0671db',\n",
       "                        [{\"hoverongaps\": false, \"type\": \"heatmap\", \"x\": [\"Day 1\", \"Day 2\", \"Day 3\", \"Day 4\", \"Day 5\", \"Day 6\", \"Day 7\", \"Day 8\", \"Day 9\", \"Day 10\", \"Day 11\", \"Day 12\", \"Day 13\", \"Day 14\", \"Day 15\", \"Day 16\", \"Day 17\", \"Day 18\", \"Day 19\", \"Day 20\", \"Day 21\", \"Day 22\", \"Day 23\", \"Day 24\", \"Day 25\", \"Day 26\", \"Day 27\", \"Day 28\", \"Day 29\", \"Day 30\", \"Day 31\", \"Day 32\", \"Day 33\", \"Day 34\", \"Day 35\", \"Day 36\", \"Day 37\", \"Day 38\", \"Day 39\", \"Day 40\"], \"y\": [\"rc30398\", \"rc394858\", \"rc405661\", \"rc471439\", \"rc485966\", \"rc511664\", \"rc521161\", \"rc637617\", \"rc64229\", \"rc670055\", \"rc675329\", \"rc757248\", \"rc859116\", \"rc909576\", \"rc986640\", \"rc999443\"], \"z\": [[20.25, 19.0, 10.34, 24.84, 12.82, 10.25, 12.0, 6.0, 0.0, 19.0, 6.75, 6.25, 5.0, 0.0, 16.84, 4.5, 9.0, 0.0, 8.0, 8.0, 12.0, 8.5, 9.0, 27.25, 17.25, 13.0, 18.0, 8.5, 4.5, 15.5, 30.48, 29.12, 22.5, 25.25, 12.0, 26.5, 5.0], [15.0, 30.25, 16.5, 70.5, 21.5, 16.89, 18.5, 25.25, 28.84, 17.16, 12.25, 23.0, 19.84, 3.25, 30.0, 28.25, 18.0, 13.25, 14.34, 9.46, 25.0, 15.0, 27.75, 42.0, 0.0, 20.02, 15.0, 17.5, 17.5, 15.5, 11.5, 24.34, 17.79, 15.41, 16.96, 12.75, 25.5, 21.75, 30.59, 24.5, 9.4], [26.5, 25.75, 17.41, 27.75, 23.18, 15.41, 27.5, 22.62, 21.0, 22.0, 16.0, 35.75, 3.0, 14.62, 17.11, 13.5, 22.04, 18.75, 15.5, 26.5, 0.0], [16.25, 25.12, 12.5, 35.5, 21.5, 5.25, 20.0, 0.0, 11.66, 15.0, 16.5, 13.5, 14.5, 6.0, 14.5, 10.5, 22.5, 24.66, 17.95, 14.5, 24.25, 8.5, 12.75, 21.91, 11.0, 13.84, 15.25, 2.0], [9.25, 21.75, 32.75, 25.0, 14.69, 23.0, 17.5, 21.66, 19.85, 11.66, 18.75, 28.84, 11.0, 22.0, 22.6, 42.75, 11.0, 20.0, 20.0, 16.5, 18.88, 29.5, 18.0, 16.25, 26.88, 0.0, 16.16, 18.88, 19.84, 9.0, 11.0, 19.34, 23.0, 13.75, 29.41, 11.0, 7.0, 19.66, 8.0, 16.25, 10.34], [22.33, 14.5, 19.75, 14.92, 22.5, 26.41, 40.0, 15.3, 11.0, 14.0, 27.88, 14.91, 22.16, 13.0], [8.75, 12.25, 20.5, 19.5, 12.5, 12.29, 16.62, 5.75, 15.25, 10.5, 9.0, 10.0, 16.7, 0.0, 16.5, 19.5, 51.25, 17.5, 24.07, 9.5, 14.34, 9.5, 11.0, 8.0, 10.84, 20.09, 23.75, 26.5, 14.25, 14.05, 22.5, 27.09, 5.5, 9.0, 8.16, 3.0], [23.38, 17.75, 13.25, 11.25, 24.25, 17.12, 37.0, 5.84, 17.84, 27.25, 15.12, 16.0, 0.0], [7.0, 8.75, 13.25, 7.5, 14.75, 11.38, 8.0, 13.95, 11.25, 16.92, 5.5, 14.1, 17.84, 16.67, 10.0, 17.16, 12.0, 15.75, 35.75, 7.34, 13.8, 13.25, 7.5, 9.0, 30.75, 10.25, 18.16, 0.0, 8.0, 0.0, 20.0, 9.5, 11.5, 9.5, 20.66, 12.67, 0.0, 12.34, 33.75, 20.73, 19.81], [20.09, 19.96, 25.38, 19.5, 30.0, 10.34, 15.43, 12.91, 15.38, 19.66, 15.0, 25.84, 11.09, 22.66, 30.38, 10.25, 15.73, 26.75, 12.8, 22.75, 22.84, 19.83, 9.75, 13.5], [24.0, 17.62, 12.0, 0.0, 9.75, 9.43, 15.2, 14.0, 19.79, 22.25, 21.84, 22.25, 15.25, 13.75, 12.5, 27.25, 11.25, 24.1, 11.5, 12.84, 10.5, 18.16, 6.25, 30.0, 35.75, 22.5, 24.0, 10.5, 19.5, 9.66, 10.0], [20.5, 7.0, 23.84, 22.0, 17.41, 17.75, 19.84, 21.54, 15.84, 21.34, 14.89, 17.4, 13.0, 5.75, 20.0, 22.5, 9.84, 8.5, 8.75, 25.25, 0.0, 11.5, 16.12, 10.0, 6.0, 66.5, 7.0, 3.83, 4.75, 13.5, 9.5, 20.5, 20.73, 36.5, 0.0, 16.0, 10.5, 16.5, 9.5, 16.57, 25.75], [16.6, 8.62, 11.75, 10.65, 7.54, 10.59, 11.11, 10.38, 9.12, 17.5, 20.84, 4.5, 7.31, 3.25, 11.41, 14.91, 27.0, 18.43, 20.0, 13.42, 10.66, 12.0, 9.45, 6.0, 7.0, 10.5, 6.42, 11.66, 14.35, 14.5, 13.0, 6.0, 14.71, 8.71, 7.25, 4.34, 18.5, 14.93, 10.72, 9.96, 15.37], [12.66, 15.4, 18.25, 6.25, 10.7, 7.75, 14.62, 20.5, 16.38, 14.25, 15.59, 11.25, 0.0, 13.8, 15.33, 18.25, 19.5, 36.5, 14.75, 12.25, 0.0, 6.0, 17.5, 9.84, 7.42, 6.75, 5.75, 9.0, 14.41, 12.09, 7.5, 5.5, 11.5, 13.59, 10.25, 22.66, 20.59, 16.58, 5.0, 30.84, 23.25], [11.0, 10.5, 13.5, 11.12, 18.25, 20.5, 12.0, 21.91, 18.5, 18.34, 8.25, 21.44, 26.0, 16.25, 31.5, 14.75, 13.16, 2.5, 18.5, 21.77, 13.86, 19.5, 28.7, 18.25, 14.12, 14.5, 19.41, 21.5, 9.66, 8.5, 18.5, 8.5], [11.5, 25.5, 7.5, 18.09, 33.59, 13.75, 19.5, 21.5, 18.66, 17.5, 15.75, 7.75, 18.0, 16.34, 3.0, 27.0, 20.0, 12.75, 20.0, 30.34, 16.83, 23.23, 21.62]]}],\n",
       "                        {\"template\": {\"data\": {\"bar\": [{\"error_x\": {\"color\": \"#2a3f5f\"}, \"error_y\": {\"color\": \"#2a3f5f\"}, \"marker\": {\"line\": {\"color\": \"#E5ECF6\", \"width\": 0.5}}, \"type\": \"bar\"}], \"barpolar\": [{\"marker\": {\"line\": {\"color\": \"#E5ECF6\", \"width\": 0.5}}, \"type\": \"barpolar\"}], \"carpet\": [{\"aaxis\": {\"endlinecolor\": \"#2a3f5f\", \"gridcolor\": \"white\", \"linecolor\": \"white\", \"minorgridcolor\": \"white\", \"startlinecolor\": \"#2a3f5f\"}, \"baxis\": {\"endlinecolor\": \"#2a3f5f\", \"gridcolor\": \"white\", \"linecolor\": \"white\", \"minorgridcolor\": \"white\", \"startlinecolor\": \"#2a3f5f\"}, \"type\": \"carpet\"}], \"choropleth\": [{\"colorbar\": {\"outlinewidth\": 0, \"ticks\": \"\"}, \"type\": \"choropleth\"}], \"contour\": [{\"colorbar\": {\"outlinewidth\": 0, \"ticks\": \"\"}, \"colorscale\": [[0.0, \"#0d0887\"], [0.1111111111111111, \"#46039f\"], [0.2222222222222222, \"#7201a8\"], [0.3333333333333333, \"#9c179e\"], [0.4444444444444444, \"#bd3786\"], [0.5555555555555556, \"#d8576b\"], [0.6666666666666666, \"#ed7953\"], [0.7777777777777778, \"#fb9f3a\"], [0.8888888888888888, \"#fdca26\"], [1.0, \"#f0f921\"]], \"type\": \"contour\"}], \"contourcarpet\": [{\"colorbar\": {\"outlinewidth\": 0, \"ticks\": \"\"}, \"type\": \"contourcarpet\"}], \"heatmap\": [{\"colorbar\": {\"outlinewidth\": 0, \"ticks\": \"\"}, \"colorscale\": [[0.0, \"#0d0887\"], [0.1111111111111111, \"#46039f\"], [0.2222222222222222, \"#7201a8\"], [0.3333333333333333, \"#9c179e\"], [0.4444444444444444, \"#bd3786\"], [0.5555555555555556, \"#d8576b\"], [0.6666666666666666, \"#ed7953\"], [0.7777777777777778, \"#fb9f3a\"], [0.8888888888888888, \"#fdca26\"], [1.0, \"#f0f921\"]], \"type\": \"heatmap\"}], \"heatmapgl\": [{\"colorbar\": {\"outlinewidth\": 0, \"ticks\": \"\"}, \"colorscale\": [[0.0, \"#0d0887\"], [0.1111111111111111, \"#46039f\"], [0.2222222222222222, \"#7201a8\"], [0.3333333333333333, \"#9c179e\"], [0.4444444444444444, \"#bd3786\"], [0.5555555555555556, \"#d8576b\"], [0.6666666666666666, \"#ed7953\"], [0.7777777777777778, \"#fb9f3a\"], [0.8888888888888888, \"#fdca26\"], [1.0, \"#f0f921\"]], \"type\": \"heatmapgl\"}], \"histogram\": [{\"marker\": {\"colorbar\": {\"outlinewidth\": 0, \"ticks\": \"\"}}, \"type\": \"histogram\"}], \"histogram2d\": [{\"colorbar\": {\"outlinewidth\": 0, \"ticks\": \"\"}, \"colorscale\": [[0.0, \"#0d0887\"], [0.1111111111111111, \"#46039f\"], [0.2222222222222222, \"#7201a8\"], [0.3333333333333333, \"#9c179e\"], [0.4444444444444444, \"#bd3786\"], [0.5555555555555556, \"#d8576b\"], [0.6666666666666666, \"#ed7953\"], [0.7777777777777778, \"#fb9f3a\"], [0.8888888888888888, \"#fdca26\"], [1.0, \"#f0f921\"]], \"type\": \"histogram2d\"}], \"histogram2dcontour\": [{\"colorbar\": {\"outlinewidth\": 0, \"ticks\": \"\"}, \"colorscale\": [[0.0, \"#0d0887\"], [0.1111111111111111, \"#46039f\"], [0.2222222222222222, \"#7201a8\"], [0.3333333333333333, \"#9c179e\"], [0.4444444444444444, \"#bd3786\"], [0.5555555555555556, \"#d8576b\"], [0.6666666666666666, \"#ed7953\"], [0.7777777777777778, \"#fb9f3a\"], [0.8888888888888888, \"#fdca26\"], [1.0, \"#f0f921\"]], \"type\": \"histogram2dcontour\"}], \"mesh3d\": [{\"colorbar\": {\"outlinewidth\": 0, \"ticks\": \"\"}, \"type\": \"mesh3d\"}], \"parcoords\": [{\"line\": {\"colorbar\": {\"outlinewidth\": 0, \"ticks\": \"\"}}, \"type\": \"parcoords\"}], \"pie\": [{\"automargin\": true, \"type\": \"pie\"}], \"scatter\": [{\"marker\": {\"colorbar\": {\"outlinewidth\": 0, \"ticks\": \"\"}}, \"type\": \"scatter\"}], \"scatter3d\": [{\"line\": {\"colorbar\": {\"outlinewidth\": 0, \"ticks\": \"\"}}, \"marker\": {\"colorbar\": {\"outlinewidth\": 0, \"ticks\": \"\"}}, \"type\": \"scatter3d\"}], \"scattercarpet\": [{\"marker\": {\"colorbar\": {\"outlinewidth\": 0, \"ticks\": \"\"}}, \"type\": \"scattercarpet\"}], \"scattergeo\": [{\"marker\": {\"colorbar\": {\"outlinewidth\": 0, \"ticks\": \"\"}}, \"type\": \"scattergeo\"}], \"scattergl\": [{\"marker\": {\"colorbar\": {\"outlinewidth\": 0, \"ticks\": \"\"}}, \"type\": \"scattergl\"}], \"scattermapbox\": [{\"marker\": {\"colorbar\": {\"outlinewidth\": 0, \"ticks\": \"\"}}, \"type\": \"scattermapbox\"}], \"scatterpolar\": [{\"marker\": {\"colorbar\": {\"outlinewidth\": 0, \"ticks\": \"\"}}, \"type\": \"scatterpolar\"}], \"scatterpolargl\": [{\"marker\": {\"colorbar\": {\"outlinewidth\": 0, \"ticks\": \"\"}}, \"type\": \"scatterpolargl\"}], \"scatterternary\": [{\"marker\": {\"colorbar\": {\"outlinewidth\": 0, \"ticks\": \"\"}}, \"type\": \"scatterternary\"}], \"surface\": [{\"colorbar\": {\"outlinewidth\": 0, \"ticks\": \"\"}, \"colorscale\": [[0.0, \"#0d0887\"], [0.1111111111111111, \"#46039f\"], [0.2222222222222222, \"#7201a8\"], [0.3333333333333333, \"#9c179e\"], [0.4444444444444444, \"#bd3786\"], [0.5555555555555556, \"#d8576b\"], [0.6666666666666666, \"#ed7953\"], [0.7777777777777778, \"#fb9f3a\"], [0.8888888888888888, \"#fdca26\"], [1.0, \"#f0f921\"]], \"type\": \"surface\"}], \"table\": [{\"cells\": {\"fill\": {\"color\": \"#EBF0F8\"}, \"line\": {\"color\": \"white\"}}, \"header\": {\"fill\": {\"color\": \"#C8D4E3\"}, \"line\": {\"color\": \"white\"}}, \"type\": \"table\"}]}, \"layout\": {\"annotationdefaults\": {\"arrowcolor\": \"#2a3f5f\", \"arrowhead\": 0, \"arrowwidth\": 1}, \"coloraxis\": {\"colorbar\": {\"outlinewidth\": 0, \"ticks\": \"\"}}, \"colorscale\": {\"diverging\": [[0, \"#8e0152\"], [0.1, \"#c51b7d\"], [0.2, \"#de77ae\"], [0.3, \"#f1b6da\"], [0.4, \"#fde0ef\"], [0.5, \"#f7f7f7\"], [0.6, \"#e6f5d0\"], [0.7, \"#b8e186\"], [0.8, \"#7fbc41\"], [0.9, \"#4d9221\"], [1, \"#276419\"]], \"sequential\": [[0.0, \"#0d0887\"], [0.1111111111111111, \"#46039f\"], [0.2222222222222222, \"#7201a8\"], [0.3333333333333333, \"#9c179e\"], [0.4444444444444444, \"#bd3786\"], [0.5555555555555556, \"#d8576b\"], [0.6666666666666666, \"#ed7953\"], [0.7777777777777778, \"#fb9f3a\"], [0.8888888888888888, \"#fdca26\"], [1.0, \"#f0f921\"]], \"sequentialminus\": [[0.0, \"#0d0887\"], [0.1111111111111111, \"#46039f\"], [0.2222222222222222, \"#7201a8\"], [0.3333333333333333, \"#9c179e\"], [0.4444444444444444, \"#bd3786\"], [0.5555555555555556, \"#d8576b\"], [0.6666666666666666, \"#ed7953\"], [0.7777777777777778, \"#fb9f3a\"], [0.8888888888888888, \"#fdca26\"], [1.0, \"#f0f921\"]]}, \"colorway\": [\"#636efa\", \"#EF553B\", \"#00cc96\", \"#ab63fa\", \"#FFA15A\", \"#19d3f3\", \"#FF6692\", \"#B6E880\", \"#FF97FF\", \"#FECB52\"], \"font\": {\"color\": \"#2a3f5f\"}, \"geo\": {\"bgcolor\": \"white\", \"lakecolor\": \"white\", \"landcolor\": \"#E5ECF6\", \"showlakes\": true, \"showland\": true, \"subunitcolor\": \"white\"}, \"hoverlabel\": {\"align\": \"left\"}, \"hovermode\": \"closest\", \"mapbox\": {\"style\": \"light\"}, \"paper_bgcolor\": \"white\", \"plot_bgcolor\": \"#E5ECF6\", \"polar\": {\"angularaxis\": {\"gridcolor\": \"white\", \"linecolor\": \"white\", \"ticks\": \"\"}, \"bgcolor\": \"#E5ECF6\", \"radialaxis\": {\"gridcolor\": \"white\", \"linecolor\": \"white\", \"ticks\": \"\"}}, \"scene\": {\"xaxis\": {\"backgroundcolor\": \"#E5ECF6\", \"gridcolor\": \"white\", \"gridwidth\": 2, \"linecolor\": \"white\", \"showbackground\": true, \"ticks\": \"\", \"zerolinecolor\": \"white\"}, \"yaxis\": {\"backgroundcolor\": \"#E5ECF6\", \"gridcolor\": \"white\", \"gridwidth\": 2, \"linecolor\": \"white\", \"showbackground\": true, \"ticks\": \"\", \"zerolinecolor\": \"white\"}, \"zaxis\": {\"backgroundcolor\": \"#E5ECF6\", \"gridcolor\": \"white\", \"gridwidth\": 2, \"linecolor\": \"white\", \"showbackground\": true, \"ticks\": \"\", \"zerolinecolor\": \"white\"}}, \"shapedefaults\": {\"line\": {\"color\": \"#2a3f5f\"}}, \"ternary\": {\"aaxis\": {\"gridcolor\": \"white\", \"linecolor\": \"white\", \"ticks\": \"\"}, \"baxis\": {\"gridcolor\": \"white\", \"linecolor\": \"white\", \"ticks\": \"\"}, \"bgcolor\": \"#E5ECF6\", \"caxis\": {\"gridcolor\": \"white\", \"linecolor\": \"white\", \"ticks\": \"\"}}, \"title\": {\"x\": 0.05}, \"xaxis\": {\"automargin\": true, \"gridcolor\": \"white\", \"linecolor\": \"white\", \"ticks\": \"\", \"title\": {\"standoff\": 15}, \"zerolinecolor\": \"white\", \"zerolinewidth\": 2}, \"yaxis\": {\"automargin\": true, \"gridcolor\": \"white\", \"linecolor\": \"white\", \"ticks\": \"\", \"title\": {\"standoff\": 15}, \"zerolinecolor\": \"white\", \"zerolinewidth\": 2}}}, \"title\": {\"text\": \"MAGE after labour date\"}},\n",
       "                        {\"responsive\": true}\n",
       "                    ).then(function(){\n",
       "                            \n",
       "var gd = document.getElementById('928211c2-dcdb-4dc3-a6c4-4e3acc0671db');\n",
       "var x = new MutationObserver(function (mutations, observer) {{\n",
       "        var display = window.getComputedStyle(gd).display;\n",
       "        if (!display || display === 'none') {{\n",
       "            console.log([gd, 'removed!']);\n",
       "            Plotly.purge(gd);\n",
       "            observer.disconnect();\n",
       "        }}\n",
       "}});\n",
       "\n",
       "// Listen for the removal of the full notebook cells\n",
       "var notebookContainer = gd.closest('#notebook-container');\n",
       "if (notebookContainer) {{\n",
       "    x.observe(notebookContainer, {childList: true});\n",
       "}}\n",
       "\n",
       "// Listen for the clearing of the current output cell\n",
       "var outputEl = gd.closest('.output');\n",
       "if (outputEl) {{\n",
       "    x.observe(outputEl, {childList: true});\n",
       "}}\n",
       "\n",
       "                        })\n",
       "                };\n",
       "                });\n",
       "            </script>\n",
       "        </div>"
      ]
     },
     "metadata": {},
     "output_type": "display_data"
    }
   ],
   "source": [
    "fig = go.Figure(data=go.Heatmap(\n",
    "                   z=list_of_mage_values,\n",
    "                   x=list_of_days,\n",
    "                   y=reg_code_list,\n",
    "                   hoverongaps = False))\n",
    "fig.update_layout(\n",
    "    title='MAGE after labour date')\n",
    "fig.show()"
   ]
  },
  {
   "cell_type": "code",
   "execution_count": null,
   "metadata": {},
   "outputs": [],
   "source": []
  }
 ],
 "metadata": {
  "kernelspec": {
   "display_name": "Python 3",
   "language": "python",
   "name": "python3"
  },
  "language_info": {
   "codemirror_mode": {
    "name": "ipython",
    "version": 3
   },
   "file_extension": ".py",
   "mimetype": "text/x-python",
   "name": "python",
   "nbconvert_exporter": "python",
   "pygments_lexer": "ipython3",
   "version": "3.7.5"
  }
 },
 "nbformat": 4,
 "nbformat_minor": 2
}
