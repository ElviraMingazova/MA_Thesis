{
 "cells": [
  {
   "cell_type": "markdown",
   "metadata": {},
   "source": [
    "# Heatmaps hourly glucose per person"
   ]
  },
  {
   "cell_type": "markdown",
   "metadata": {},
   "source": [
    "Here I am exploring the median and the standard deviation of the glucose values in each hour of the day per person. I will look at PNP3, T2D and 10K cohort."
   ]
  },
  {
   "cell_type": "markdown",
   "metadata": {},
   "source": [
    "## PNP3"
   ]
  },
  {
   "cell_type": "code",
   "execution_count": 1,
   "metadata": {
    "ExecuteTime": {
     "end_time": "2020-02-13T08:59:21.055557Z",
     "start_time": "2020-02-13T08:59:17.493550Z"
    }
   },
   "outputs": [],
   "source": [
    "import pandas as pd\n",
    "from LabData.DataLoaders.CGMLoader import CGMLoader\n",
    "from LabData.DataLoaders.DietLoggingLoader import DietLoggingLoader"
   ]
  },
  {
   "cell_type": "code",
   "execution_count": 2,
   "metadata": {
    "ExecuteTime": {
     "end_time": "2020-02-13T08:59:21.415618Z",
     "start_time": "2020-02-13T08:59:21.066856Z"
    }
   },
   "outputs": [],
   "source": [
    "import datetime\n",
    "%matplotlib inline"
   ]
  },
  {
   "cell_type": "code",
   "execution_count": 3,
   "metadata": {
    "ExecuteTime": {
     "end_time": "2020-02-13T08:59:23.567396Z",
     "start_time": "2020-02-13T08:59:21.422421Z"
    }
   },
   "outputs": [],
   "source": [
    "import plotly\n",
    "import plotly.graph_objects as go"
   ]
  },
  {
   "cell_type": "code",
   "execution_count": 4,
   "metadata": {
    "ExecuteTime": {
     "end_time": "2020-02-13T08:59:23.581414Z",
     "start_time": "2020-02-13T08:59:23.575713Z"
    }
   },
   "outputs": [],
   "source": [
    "cgml = CGMLoader()\n",
    "dll = DietLoggingLoader()"
   ]
  },
  {
   "cell_type": "code",
   "execution_count": 5,
   "metadata": {
    "ExecuteTime": {
     "end_time": "2020-02-13T08:59:49.793590Z",
     "start_time": "2020-02-13T08:59:23.591320Z"
    }
   },
   "outputs": [],
   "source": [
    "cgmdf = cgml.get_data(study_ids=[3,49]).df"
   ]
  },
  {
   "cell_type": "code",
   "execution_count": 6,
   "metadata": {
    "ExecuteTime": {
     "end_time": "2020-02-13T09:01:34.022141Z",
     "start_time": "2020-02-13T08:59:51.163978Z"
    }
   },
   "outputs": [],
   "source": [
    "cgmdf = cgml._remove_first_day_of_connections(cgmdf)\n",
    "\n",
    "cgmdf = cgmdf.reset_index()\n",
    "\n",
    "cgmdf['hour'] = cgmdf.Date.dt.hour\n",
    "\n",
    "cgmdf = cgmdf.set_index('Date')\n",
    "\n",
    "cgmdf.index = cgmdf.index.tz_localize(None)"
   ]
  },
  {
   "cell_type": "markdown",
   "metadata": {},
   "source": [
    "Processing of the file from Nastya"
   ]
  },
  {
   "cell_type": "markdown",
   "metadata": {
    "ExecuteTime": {
     "end_time": "2020-02-12T18:13:30.801255Z",
     "start_time": "2020-02-12T18:12:06.680667Z"
    }
   },
   "source": [
    "```python\n",
    "adj_gluc = pd.read_json('/net/mraid08/export/genie/LabData/Data/WIS/adjusted_glucose.json')\n",
    "adj_gluc = adj_gluc.reset_index()\n",
    "adj_gluc['index'] = adj_gluc['index'].str.strip('[]')\n",
    "adj_gluc[['UserID', 'ConnectionID', 'Date']] = adj_gluc['index'].str.split(\",\", n = 2, expand = True)\n",
    "adj_gluc = adj_gluc.drop(columns='index')\n",
    "adj_gluc['Date'] = pd.to_numeric(adj_gluc['Date'])\n",
    "adj_gluc['Date'] = pd.to_datetime(adj_gluc['Date'], unit='ms')\n",
    "adj_gluc['ConnectionID'] = adj_gluc['ConnectionID'].astype(str)\n",
    "adj_gluc['GlucoseAdj50N13_Mm'] = adj_gluc['GlucoseAdj50N13_Mm'].round(1)\n",
    "adj_gluc = adj_gluc.set_index(['UserID', 'ConnectionID', 'Date']).reset_index()\n",
    "adj_gluc.to_csv('/home/elming/Cache/PNP3_cgm.csv', index=False)\n",
    "```"
   ]
  },
  {
   "cell_type": "code",
   "execution_count": 47,
   "metadata": {
    "ExecuteTime": {
     "end_time": "2020-02-13T09:19:57.133645Z",
     "start_time": "2020-02-13T09:18:13.335279Z"
    }
   },
   "outputs": [],
   "source": [
    "adj_gluc = pd.read_json('/home/elming/Cache/adj_gl.json')\n",
    "\n",
    "adj_gluc['ConnectionID'] = adj_gluc['ConnectionID'].astype(str)\n",
    "adj_gluc['GlucoseTimestamp'] = pd.to_datetime(adj_gluc['GlucoseTimestamp'])\n",
    "\n",
    "adj_gluc = adj_gluc.rename(columns={'GlucoseTimestamp':'Date'})"
   ]
  },
  {
   "cell_type": "code",
   "execution_count": 54,
   "metadata": {
    "ExecuteTime": {
     "end_time": "2020-02-13T09:23:42.271247Z",
     "start_time": "2020-02-13T09:23:42.252177Z"
    },
    "scrolled": false
   },
   "outputs": [
    {
     "data": {
      "text/html": [
       "<div>\n",
       "<style scoped>\n",
       "    .dataframe tbody tr th:only-of-type {\n",
       "        vertical-align: middle;\n",
       "    }\n",
       "\n",
       "    .dataframe tbody tr th {\n",
       "        vertical-align: top;\n",
       "    }\n",
       "\n",
       "    .dataframe thead th {\n",
       "        text-align: right;\n",
       "    }\n",
       "</style>\n",
       "<table border=\"1\" class=\"dataframe\">\n",
       "  <thead>\n",
       "    <tr style=\"text-align: right;\">\n",
       "      <th></th>\n",
       "      <th>UserID</th>\n",
       "      <th>ConnectionID</th>\n",
       "      <th>Date</th>\n",
       "      <th>GlucoseAdj50N13_M</th>\n",
       "      <th>GlucoseAdj50N13_Mm</th>\n",
       "      <th>GlucoseValue</th>\n",
       "      <th>PPGR</th>\n",
       "      <th>PPGRMin</th>\n",
       "      <th>PPGRMax</th>\n",
       "      <th>DaysFromT0</th>\n",
       "    </tr>\n",
       "  </thead>\n",
       "  <tbody>\n",
       "    <tr>\n",
       "      <th>0</th>\n",
       "      <td>1181</td>\n",
       "      <td>1407</td>\n",
       "      <td>2017-02-09 11:44:00</td>\n",
       "      <td>102.0</td>\n",
       "      <td>104.285714</td>\n",
       "      <td>97</td>\n",
       "      <td>15.00</td>\n",
       "      <td>96.285714</td>\n",
       "      <td>130.285714</td>\n",
       "      <td>-24</td>\n",
       "    </tr>\n",
       "    <tr>\n",
       "      <th>1</th>\n",
       "      <td>1181</td>\n",
       "      <td>1407</td>\n",
       "      <td>2017-02-09 11:59:00</td>\n",
       "      <td>102.0</td>\n",
       "      <td>104.285714</td>\n",
       "      <td>97</td>\n",
       "      <td>14.25</td>\n",
       "      <td>96.285714</td>\n",
       "      <td>130.285714</td>\n",
       "      <td>-24</td>\n",
       "    </tr>\n",
       "    <tr>\n",
       "      <th>2</th>\n",
       "      <td>1181</td>\n",
       "      <td>1407</td>\n",
       "      <td>2017-02-09 12:14:00</td>\n",
       "      <td>112.0</td>\n",
       "      <td>114.285714</td>\n",
       "      <td>107</td>\n",
       "      <td>0.00</td>\n",
       "      <td>96.285714</td>\n",
       "      <td>130.285714</td>\n",
       "      <td>-24</td>\n",
       "    </tr>\n",
       "    <tr>\n",
       "      <th>3</th>\n",
       "      <td>1181</td>\n",
       "      <td>1407</td>\n",
       "      <td>2017-02-09 12:29:00</td>\n",
       "      <td>124.0</td>\n",
       "      <td>126.285714</td>\n",
       "      <td>119</td>\n",
       "      <td>0.00</td>\n",
       "      <td>96.285714</td>\n",
       "      <td>130.285714</td>\n",
       "      <td>-24</td>\n",
       "    </tr>\n",
       "    <tr>\n",
       "      <th>4</th>\n",
       "      <td>1181</td>\n",
       "      <td>1407</td>\n",
       "      <td>2017-02-09 12:44:00</td>\n",
       "      <td>128.0</td>\n",
       "      <td>130.285714</td>\n",
       "      <td>123</td>\n",
       "      <td>0.00</td>\n",
       "      <td>96.285714</td>\n",
       "      <td>138.285714</td>\n",
       "      <td>-24</td>\n",
       "    </tr>\n",
       "  </tbody>\n",
       "</table>\n",
       "</div>"
      ],
      "text/plain": [
       "   UserID ConnectionID                Date  GlucoseAdj50N13_M  \\\n",
       "0    1181         1407 2017-02-09 11:44:00              102.0   \n",
       "1    1181         1407 2017-02-09 11:59:00              102.0   \n",
       "2    1181         1407 2017-02-09 12:14:00              112.0   \n",
       "3    1181         1407 2017-02-09 12:29:00              124.0   \n",
       "4    1181         1407 2017-02-09 12:44:00              128.0   \n",
       "\n",
       "   GlucoseAdj50N13_Mm  GlucoseValue   PPGR    PPGRMin     PPGRMax  DaysFromT0  \n",
       "0          104.285714            97  15.00  96.285714  130.285714         -24  \n",
       "1          104.285714            97  14.25  96.285714  130.285714         -24  \n",
       "2          114.285714           107   0.00  96.285714  130.285714         -24  \n",
       "3          126.285714           119   0.00  96.285714  130.285714         -24  \n",
       "4          130.285714           123   0.00  96.285714  138.285714         -24  "
      ]
     },
     "execution_count": 54,
     "metadata": {},
     "output_type": "execute_result"
    }
   ],
   "source": [
    "adj_gluc.head()"
   ]
  },
  {
   "cell_type": "code",
   "execution_count": 14,
   "metadata": {
    "ExecuteTime": {
     "end_time": "2020-02-13T09:02:28.190701Z",
     "start_time": "2020-02-13T09:02:28.184616Z"
    },
    "scrolled": true
   },
   "outputs": [
    {
     "data": {
      "text/plain": [
       "(3177730, 5)"
      ]
     },
     "execution_count": 14,
     "metadata": {},
     "output_type": "execute_result"
    }
   ],
   "source": [
    "cgmdf.shape"
   ]
  },
  {
   "cell_type": "code",
   "execution_count": 55,
   "metadata": {
    "ExecuteTime": {
     "end_time": "2020-02-13T09:23:50.771226Z",
     "start_time": "2020-02-13T09:23:46.494918Z"
    }
   },
   "outputs": [],
   "source": [
    "adj_gluc = adj_gluc.set_index(['ConnectionID', 'Date'])\n",
    "\n",
    "cgm_adj = pd.merge(cgmdf, adj_gluc['GlucoseAdj50N13_Mm'], on=['ConnectionID', 'Date'])\n",
    "\n",
    "cgm_adj = cgm_adj.rename(columns={'GlucoseAdj50N13_Mm':'GlucoseAdj'})"
   ]
  },
  {
   "cell_type": "code",
   "execution_count": 57,
   "metadata": {
    "ExecuteTime": {
     "end_time": "2020-02-13T09:23:59.380954Z",
     "start_time": "2020-02-13T09:23:59.375256Z"
    }
   },
   "outputs": [
    {
     "data": {
      "text/plain": [
       "(2965212, 6)"
      ]
     },
     "execution_count": 57,
     "metadata": {},
     "output_type": "execute_result"
    }
   ],
   "source": [
    "cgm_adj.shape"
   ]
  },
  {
   "cell_type": "code",
   "execution_count": 59,
   "metadata": {
    "ExecuteTime": {
     "end_time": "2020-02-13T09:24:17.456092Z",
     "start_time": "2020-02-13T09:24:17.440072Z"
    }
   },
   "outputs": [
    {
     "data": {
      "text/html": [
       "<div>\n",
       "<style scoped>\n",
       "    .dataframe tbody tr th:only-of-type {\n",
       "        vertical-align: middle;\n",
       "    }\n",
       "\n",
       "    .dataframe tbody tr th {\n",
       "        vertical-align: top;\n",
       "    }\n",
       "\n",
       "    .dataframe thead th {\n",
       "        text-align: right;\n",
       "    }\n",
       "</style>\n",
       "<table border=\"1\" class=\"dataframe\">\n",
       "  <thead>\n",
       "    <tr style=\"text-align: right;\">\n",
       "      <th></th>\n",
       "      <th>RegistrationCode</th>\n",
       "      <th>ConnectionID</th>\n",
       "      <th>GlucoseValue</th>\n",
       "      <th>PPGR</th>\n",
       "      <th>hour</th>\n",
       "      <th>GlucoseAdj</th>\n",
       "    </tr>\n",
       "    <tr>\n",
       "      <th>Date</th>\n",
       "      <th></th>\n",
       "      <th></th>\n",
       "      <th></th>\n",
       "      <th></th>\n",
       "      <th></th>\n",
       "      <th></th>\n",
       "    </tr>\n",
       "  </thead>\n",
       "  <tbody>\n",
       "    <tr>\n",
       "      <th>2017-11-07 14:28:00</th>\n",
       "      <td>111527</td>\n",
       "      <td>1926</td>\n",
       "      <td>108.0</td>\n",
       "      <td>16.75</td>\n",
       "      <td>14</td>\n",
       "      <td>106.571429</td>\n",
       "    </tr>\n",
       "    <tr>\n",
       "      <th>2017-11-07 14:43:00</th>\n",
       "      <td>111527</td>\n",
       "      <td>1926</td>\n",
       "      <td>118.0</td>\n",
       "      <td>1.25</td>\n",
       "      <td>14</td>\n",
       "      <td>116.571429</td>\n",
       "    </tr>\n",
       "    <tr>\n",
       "      <th>2017-11-07 14:58:00</th>\n",
       "      <td>111527</td>\n",
       "      <td>1926</td>\n",
       "      <td>119.0</td>\n",
       "      <td>2.75</td>\n",
       "      <td>14</td>\n",
       "      <td>117.571429</td>\n",
       "    </tr>\n",
       "    <tr>\n",
       "      <th>2017-11-07 15:13:00</th>\n",
       "      <td>111527</td>\n",
       "      <td>1926</td>\n",
       "      <td>119.0</td>\n",
       "      <td>5.50</td>\n",
       "      <td>15</td>\n",
       "      <td>117.571429</td>\n",
       "    </tr>\n",
       "    <tr>\n",
       "      <th>2017-11-07 15:28:00</th>\n",
       "      <td>111527</td>\n",
       "      <td>1926</td>\n",
       "      <td>121.0</td>\n",
       "      <td>3.25</td>\n",
       "      <td>15</td>\n",
       "      <td>119.571429</td>\n",
       "    </tr>\n",
       "  </tbody>\n",
       "</table>\n",
       "</div>"
      ],
      "text/plain": [
       "                    RegistrationCode ConnectionID  GlucoseValue   PPGR  hour  \\\n",
       "Date                                                                           \n",
       "2017-11-07 14:28:00           111527         1926         108.0  16.75    14   \n",
       "2017-11-07 14:43:00           111527         1926         118.0   1.25    14   \n",
       "2017-11-07 14:58:00           111527         1926         119.0   2.75    14   \n",
       "2017-11-07 15:13:00           111527         1926         119.0   5.50    15   \n",
       "2017-11-07 15:28:00           111527         1926         121.0   3.25    15   \n",
       "\n",
       "                     GlucoseAdj  \n",
       "Date                             \n",
       "2017-11-07 14:28:00  106.571429  \n",
       "2017-11-07 14:43:00  116.571429  \n",
       "2017-11-07 14:58:00  117.571429  \n",
       "2017-11-07 15:13:00  117.571429  \n",
       "2017-11-07 15:28:00  119.571429  "
      ]
     },
     "execution_count": 59,
     "metadata": {},
     "output_type": "execute_result"
    }
   ],
   "source": [
    "cgm_adj.head()"
   ]
  },
  {
   "cell_type": "code",
   "execution_count": 60,
   "metadata": {
    "ExecuteTime": {
     "end_time": "2020-02-13T09:24:18.825193Z",
     "start_time": "2020-02-13T09:24:18.457908Z"
    }
   },
   "outputs": [],
   "source": [
    "median = pd.DataFrame(cgm_adj.groupby(['RegistrationCode','hour'], as_index=True)['GlucoseAdj'].median().rename('median'))"
   ]
  },
  {
   "cell_type": "code",
   "execution_count": 61,
   "metadata": {
    "ExecuteTime": {
     "end_time": "2020-02-13T09:24:19.827785Z",
     "start_time": "2020-02-13T09:24:19.519292Z"
    }
   },
   "outputs": [],
   "source": [
    "std = pd.DataFrame(cgm_adj.groupby(['RegistrationCode','hour'], as_index=True)['GlucoseAdj'].std().rename('std'))"
   ]
  },
  {
   "cell_type": "code",
   "execution_count": 62,
   "metadata": {
    "ExecuteTime": {
     "end_time": "2020-02-13T09:24:20.498168Z",
     "start_time": "2020-02-13T09:24:20.493114Z"
    },
    "scrolled": true
   },
   "outputs": [],
   "source": [
    "median['median'] = median['median'].round(1)\n",
    "std['std'] = std['std'].round(1)"
   ]
  },
  {
   "cell_type": "code",
   "execution_count": 63,
   "metadata": {
    "ExecuteTime": {
     "end_time": "2020-02-13T09:24:21.423623Z",
     "start_time": "2020-02-13T09:24:21.415081Z"
    }
   },
   "outputs": [],
   "source": [
    "def minmax(df):\n",
    "    from sklearn.preprocessing import MinMaxScaler\n",
    "    scaler = MinMaxScaler()\n",
    "    tmp = df.unstack(level=0)\n",
    "    tmp.columns =tmp.columns.droplevel(0)\n",
    "    tmp.columns.name = None\n",
    "    tmp = pd.DataFrame(scaler.fit_transform(tmp), columns=tmp.columns, index = tmp.index)\n",
    "    tmp = tmp.stack(level=-1).unstack(level=0)\n",
    "    tmp.index.name = 'RegistrationCode'\n",
    "    tmp.columns.name = None\n",
    "    return tmp"
   ]
  },
  {
   "cell_type": "code",
   "execution_count": 64,
   "metadata": {
    "ExecuteTime": {
     "end_time": "2020-02-13T09:24:22.309343Z",
     "start_time": "2020-02-13T09:24:22.281710Z"
    }
   },
   "outputs": [],
   "source": [
    "median_scaled = minmax(median)\n",
    "std_scaled = minmax(std)"
   ]
  },
  {
   "cell_type": "code",
   "execution_count": 65,
   "metadata": {
    "ExecuteTime": {
     "end_time": "2020-02-13T09:24:25.681901Z",
     "start_time": "2020-02-13T09:24:25.666312Z"
    }
   },
   "outputs": [
    {
     "data": {
      "text/plain": [
       "0     0.000000\n",
       "1     0.035477\n",
       "2     0.066519\n",
       "3     0.088692\n",
       "4     0.124169\n",
       "5     0.170732\n",
       "6     0.212860\n",
       "7     0.383592\n",
       "8     0.467849\n",
       "9     0.221729\n",
       "10    0.223947\n",
       "11    0.157428\n",
       "12    0.334812\n",
       "13    1.000000\n",
       "14    0.414634\n",
       "15    0.124169\n",
       "16    0.068736\n",
       "17    0.135255\n",
       "18    0.115299\n",
       "19    0.146341\n",
       "20    0.658537\n",
       "21    0.525499\n",
       "22    0.217295\n",
       "23    0.000000\n",
       "Name: 992638, dtype: float64"
      ]
     },
     "execution_count": 65,
     "metadata": {},
     "output_type": "execute_result"
    }
   ],
   "source": [
    "median_scaled.loc['992638']"
   ]
  },
  {
   "cell_type": "code",
   "execution_count": 66,
   "metadata": {
    "ExecuteTime": {
     "end_time": "2020-02-13T09:24:28.627605Z",
     "start_time": "2020-02-13T09:24:28.617096Z"
    },
    "scrolled": false
   },
   "outputs": [],
   "source": [
    "median = median.unstack(level=-1)\n",
    "std = std.unstack(level=-1)"
   ]
  },
  {
   "cell_type": "code",
   "execution_count": 67,
   "metadata": {
    "ExecuteTime": {
     "end_time": "2020-02-13T09:24:30.067682Z",
     "start_time": "2020-02-13T09:24:30.062796Z"
    }
   },
   "outputs": [],
   "source": [
    "median.columns =median.columns.droplevel(0)\n",
    "std.columns =std.columns.droplevel(0)"
   ]
  },
  {
   "cell_type": "code",
   "execution_count": 68,
   "metadata": {
    "ExecuteTime": {
     "end_time": "2020-02-13T09:24:30.733814Z",
     "start_time": "2020-02-13T09:24:30.730355Z"
    }
   },
   "outputs": [],
   "source": [
    "median.columns.name = None\n",
    "std.columns.name = None"
   ]
  },
  {
   "cell_type": "code",
   "execution_count": 69,
   "metadata": {
    "ExecuteTime": {
     "end_time": "2020-02-13T09:24:31.256590Z",
     "start_time": "2020-02-13T09:24:31.253102Z"
    }
   },
   "outputs": [],
   "source": [
    "rc_list = median.index"
   ]
  },
  {
   "cell_type": "code",
   "execution_count": 70,
   "metadata": {
    "ExecuteTime": {
     "end_time": "2020-02-13T09:24:31.742902Z",
     "start_time": "2020-02-13T09:24:31.738627Z"
    }
   },
   "outputs": [],
   "source": [
    "rc_list = ['rc' + item for item in rc_list]"
   ]
  },
  {
   "cell_type": "code",
   "execution_count": 71,
   "metadata": {
    "ExecuteTime": {
     "end_time": "2020-02-13T09:24:32.203429Z",
     "start_time": "2020-02-13T09:24:32.199934Z"
    }
   },
   "outputs": [],
   "source": [
    "hours_list = median.columns"
   ]
  },
  {
   "cell_type": "code",
   "execution_count": 72,
   "metadata": {
    "ExecuteTime": {
     "end_time": "2020-02-13T09:24:32.789298Z",
     "start_time": "2020-02-13T09:24:32.785170Z"
    }
   },
   "outputs": [],
   "source": [
    "hours_list = ['h' + str(item) for item in hours_list]"
   ]
  },
  {
   "cell_type": "code",
   "execution_count": 45,
   "metadata": {
    "ExecuteTime": {
     "end_time": "2020-02-13T09:13:18.674017Z",
     "start_time": "2020-02-13T09:13:18.666132Z"
    }
   },
   "outputs": [],
   "source": [
    "medians_list = median.values.tolist()\n",
    "std_list = std.values.tolist()\n",
    "medians_scaled_list = median_scaled.values.tolist()\n",
    "std_scaled_list = std_scaled.values.tolist()"
   ]
  },
  {
   "cell_type": "code",
   "execution_count": 71,
   "metadata": {
    "ExecuteTime": {
     "end_time": "2020-02-12T15:11:33.213153Z",
     "start_time": "2020-02-12T15:11:32.920102Z"
    }
   },
   "outputs": [],
   "source": [
    "fig = go.Figure(data=go.Heatmap(\n",
    "                   z=medians_list,\n",
    "                   x=hours_list,\n",
    "                   y=rc_list,\n",
    "                   colorscale = 'Portland'))\n",
    "fig.update_layout(width = 650, height = 800,\n",
    "    autosize = False )\n",
    "fig.update_layout(\n",
    "    title={\n",
    "        'text': \"PNP3 median glucose\",\n",
    "        'y':0.95,\n",
    "        'x':0.5,\n",
    "        'xanchor': 'center',\n",
    "        'yanchor': 'top'},\n",
    "    xaxis_title=\"hour of the day\",\n",
    "    yaxis_title=\"RegistrationCode\"\n",
    "    )\n",
    "fig.write_html(\"/home/elming/Cache/plotly_figures/PNP3_median_glucose_unsc.html\")"
   ]
  },
  {
   "cell_type": "code",
   "execution_count": 46,
   "metadata": {
    "ExecuteTime": {
     "end_time": "2020-02-13T09:13:22.229801Z",
     "start_time": "2020-02-13T09:13:21.872281Z"
    }
   },
   "outputs": [],
   "source": [
    "fig = go.Figure(data=go.Heatmap(\n",
    "                   z=medians_scaled_list,\n",
    "                   x=hours_list,\n",
    "                   y=rc_list,\n",
    "                   colorscale = 'Viridis'))\n",
    "fig.update_layout(width = 650, height = 800,\n",
    "    autosize = False )\n",
    "fig.update_layout(\n",
    "    title={\n",
    "        'text': \"PNP3 median glucose minmax scaled\",\n",
    "        'y':0.95,\n",
    "        'x':0.5,\n",
    "        'xanchor': 'center',\n",
    "        'yanchor': 'top'},\n",
    "    xaxis_title=\"hour of the day\",\n",
    "    yaxis_title=\"RegistrationCode\"\n",
    "    )\n",
    "fig.write_html(\"/home/elming/Cache/plotly_figures/PNP3_median_glucose_sc.html\")"
   ]
  },
  {
   "cell_type": "code",
   "execution_count": 73,
   "metadata": {
    "ExecuteTime": {
     "end_time": "2020-02-12T15:11:34.352563Z",
     "start_time": "2020-02-12T15:11:34.054736Z"
    }
   },
   "outputs": [],
   "source": [
    "fig = go.Figure(data=go.Heatmap(\n",
    "                   z=std_list,\n",
    "                   x=hours_list,\n",
    "                   y=rc_list,\n",
    "                   colorscale = 'Portland'))\n",
    "fig.update_layout(width = 650, height = 800,\n",
    "    autosize = False )\n",
    "fig.update_layout(\n",
    "    title={\n",
    "        'text': \"PNP3 glucose std\",\n",
    "        'y':0.95,\n",
    "        'x':0.5,\n",
    "        'xanchor': 'center',\n",
    "        'yanchor': 'top'},\n",
    "    xaxis_title=\"hour of the day\",\n",
    "    yaxis_title=\"RegistrationCode\"\n",
    "    )\n",
    "fig.write_html(\"/home/elming/Cache/plotly_figures/PNP3_glucose_std_unsc.html\")"
   ]
  },
  {
   "cell_type": "code",
   "execution_count": 74,
   "metadata": {
    "ExecuteTime": {
     "end_time": "2020-02-12T15:11:35.094742Z",
     "start_time": "2020-02-12T15:11:34.678577Z"
    }
   },
   "outputs": [],
   "source": [
    "fig = go.Figure(data=go.Heatmap(\n",
    "                   z=std_scaled_list,\n",
    "                   x=hours_list,\n",
    "                   y=rc_list,\n",
    "                   colorscale = 'Viridis'))\n",
    "fig.update_layout(width = 650, height = 800,\n",
    "    autosize = False )\n",
    "fig.update_layout(\n",
    "    title={\n",
    "        'text': \"PNP3 glucose std minmax scaled\",\n",
    "        'y':0.95,\n",
    "        'x':0.5,\n",
    "        'xanchor': 'center',\n",
    "        'yanchor': 'top'},\n",
    "    xaxis_title=\"hour of the day\",\n",
    "    yaxis_title=\"RegistrationCode\"\n",
    "    )\n",
    "fig.write_html(\"/home/elming/Cache/plotly_figures/PNP3_glucose_std_sc.html\")"
   ]
  },
  {
   "cell_type": "markdown",
   "metadata": {},
   "source": [
    "### PNP3 scaled (divide by mean)"
   ]
  },
  {
   "cell_type": "code",
   "execution_count": 75,
   "metadata": {
    "ExecuteTime": {
     "end_time": "2020-02-12T15:48:16.568984Z",
     "start_time": "2020-02-12T15:48:16.566153Z"
    }
   },
   "outputs": [],
   "source": [
    "# mean_adj = pd.DataFrame(cgm_adj.groupby('RegistrationCode')['GlucoseAdj'].mean().rename('mean'))\n",
    "\n",
    "# cgm_adj = pd.merge(cgm_adj, mean_adj, on='RegistrationCode')\n",
    "\n",
    "# cgm_adj['gluc_scaled'] = cgm_adj['GlucoseAdj'] / cgm_adj['mean']\n"
   ]
  },
  {
   "cell_type": "markdown",
   "metadata": {},
   "source": [
    "## T2D"
   ]
  },
  {
   "cell_type": "markdown",
   "metadata": {},
   "source": [
    "I do this visualization on the unadjusted glucose values because otherwise it is a big gemor"
   ]
  },
  {
   "cell_type": "code",
   "execution_count": 11,
   "metadata": {
    "ExecuteTime": {
     "end_time": "2020-02-12T19:25:31.157497Z",
     "start_time": "2020-02-12T19:25:31.139222Z"
    }
   },
   "outputs": [
    {
     "data": {
      "text/html": [
       "<div>\n",
       "<style scoped>\n",
       "    .dataframe tbody tr th:only-of-type {\n",
       "        vertical-align: middle;\n",
       "    }\n",
       "\n",
       "    .dataframe tbody tr th {\n",
       "        vertical-align: top;\n",
       "    }\n",
       "\n",
       "    .dataframe thead th {\n",
       "        text-align: right;\n",
       "    }\n",
       "</style>\n",
       "<table border=\"1\" class=\"dataframe\">\n",
       "  <thead>\n",
       "    <tr style=\"text-align: right;\">\n",
       "      <th></th>\n",
       "      <th>RegistrationCode</th>\n",
       "      <th>ConnectionID</th>\n",
       "      <th>GlucoseValue</th>\n",
       "      <th>PPGR</th>\n",
       "      <th>hour</th>\n",
       "    </tr>\n",
       "    <tr>\n",
       "      <th>Date</th>\n",
       "      <th></th>\n",
       "      <th></th>\n",
       "      <th></th>\n",
       "      <th></th>\n",
       "      <th></th>\n",
       "    </tr>\n",
       "  </thead>\n",
       "  <tbody>\n",
       "    <tr>\n",
       "      <th>2017-11-07 14:28:00</th>\n",
       "      <td>111527</td>\n",
       "      <td>1926</td>\n",
       "      <td>108.0</td>\n",
       "      <td>16.75</td>\n",
       "      <td>14</td>\n",
       "    </tr>\n",
       "    <tr>\n",
       "      <th>2017-11-07 14:43:00</th>\n",
       "      <td>111527</td>\n",
       "      <td>1926</td>\n",
       "      <td>118.0</td>\n",
       "      <td>1.25</td>\n",
       "      <td>14</td>\n",
       "    </tr>\n",
       "    <tr>\n",
       "      <th>2017-11-07 14:58:00</th>\n",
       "      <td>111527</td>\n",
       "      <td>1926</td>\n",
       "      <td>119.0</td>\n",
       "      <td>2.75</td>\n",
       "      <td>14</td>\n",
       "    </tr>\n",
       "    <tr>\n",
       "      <th>2017-11-07 15:13:00</th>\n",
       "      <td>111527</td>\n",
       "      <td>1926</td>\n",
       "      <td>119.0</td>\n",
       "      <td>5.50</td>\n",
       "      <td>15</td>\n",
       "    </tr>\n",
       "    <tr>\n",
       "      <th>2017-11-07 15:28:00</th>\n",
       "      <td>111527</td>\n",
       "      <td>1926</td>\n",
       "      <td>121.0</td>\n",
       "      <td>3.25</td>\n",
       "      <td>15</td>\n",
       "    </tr>\n",
       "  </tbody>\n",
       "</table>\n",
       "</div>"
      ],
      "text/plain": [
       "                    RegistrationCode ConnectionID  GlucoseValue   PPGR  hour\n",
       "Date                                                                        \n",
       "2017-11-07 14:28:00           111527         1926         108.0  16.75    14\n",
       "2017-11-07 14:43:00           111527         1926         118.0   1.25    14\n",
       "2017-11-07 14:58:00           111527         1926         119.0   2.75    14\n",
       "2017-11-07 15:13:00           111527         1926         119.0   5.50    15\n",
       "2017-11-07 15:28:00           111527         1926         121.0   3.25    15"
      ]
     },
     "execution_count": 11,
     "metadata": {},
     "output_type": "execute_result"
    }
   ],
   "source": [
    "cgmdf.head()"
   ]
  },
  {
   "cell_type": "code",
   "execution_count": 14,
   "metadata": {
    "ExecuteTime": {
     "end_time": "2020-02-12T19:25:41.612542Z",
     "start_time": "2020-02-12T19:25:41.603537Z"
    }
   },
   "outputs": [],
   "source": [
    "t2d_cid = ['1551', '1552', '1608', '1609', '1607', '1553', '1554', '1605', '1606', \n",
    "           '2134', '2135', '2136', '2137', '2227', '2228', '2229', '3132', '2997', \n",
    "           '3133', '3001', '3002', '3346', '3241', '3444', '3445', '3303', '3446', \n",
    "           '3302', '3393', '3510', '3395', '3511', '3394', '3509', '3507', '3508', \n",
    "           '4286', '4042', '4287', '4116', '4452', '4229', '4230', '4449', '4448', \n",
    "           '4451', '4450', '4194', '4195', '4453', '4718', '4541', '4950', '5102']"
   ]
  },
  {
   "cell_type": "code",
   "execution_count": 15,
   "metadata": {
    "ExecuteTime": {
     "end_time": "2020-02-12T19:25:42.530422Z",
     "start_time": "2020-02-12T19:25:42.421682Z"
    }
   },
   "outputs": [],
   "source": [
    "t2d_cgm = cgmdf[cgmdf['ConnectionID'].isin(t2d_cid)]"
   ]
  },
  {
   "cell_type": "code",
   "execution_count": 26,
   "metadata": {
    "ExecuteTime": {
     "end_time": "2020-02-12T19:31:46.347350Z",
     "start_time": "2020-02-12T19:31:46.340716Z"
    }
   },
   "outputs": [],
   "source": [
    "t2d_cgm = t2d_cgm.drop(columns='PPGR')"
   ]
  },
  {
   "cell_type": "code",
   "execution_count": 27,
   "metadata": {
    "ExecuteTime": {
     "end_time": "2020-02-12T19:31:47.477643Z",
     "start_time": "2020-02-12T19:31:47.462568Z"
    }
   },
   "outputs": [
    {
     "data": {
      "text/html": [
       "<div>\n",
       "<style scoped>\n",
       "    .dataframe tbody tr th:only-of-type {\n",
       "        vertical-align: middle;\n",
       "    }\n",
       "\n",
       "    .dataframe tbody tr th {\n",
       "        vertical-align: top;\n",
       "    }\n",
       "\n",
       "    .dataframe thead th {\n",
       "        text-align: right;\n",
       "    }\n",
       "</style>\n",
       "<table border=\"1\" class=\"dataframe\">\n",
       "  <thead>\n",
       "    <tr style=\"text-align: right;\">\n",
       "      <th></th>\n",
       "      <th>RegistrationCode</th>\n",
       "      <th>ConnectionID</th>\n",
       "      <th>GlucoseValue</th>\n",
       "      <th>hour</th>\n",
       "    </tr>\n",
       "    <tr>\n",
       "      <th>Date</th>\n",
       "      <th></th>\n",
       "      <th></th>\n",
       "      <th></th>\n",
       "      <th></th>\n",
       "    </tr>\n",
       "  </thead>\n",
       "  <tbody>\n",
       "  </tbody>\n",
       "</table>\n",
       "</div>"
      ],
      "text/plain": [
       "Empty DataFrame\n",
       "Columns: [RegistrationCode, ConnectionID, GlucoseValue, hour]\n",
       "Index: []"
      ]
     },
     "execution_count": 27,
     "metadata": {},
     "output_type": "execute_result"
    }
   ],
   "source": [
    "t2d_cgm[t2d_cgm.isna().any(axis=1)]"
   ]
  },
  {
   "cell_type": "code",
   "execution_count": 16,
   "metadata": {
    "ExecuteTime": {
     "end_time": "2020-02-12T19:25:46.941918Z",
     "start_time": "2020-02-12T19:25:46.927635Z"
    }
   },
   "outputs": [],
   "source": [
    "median = pd.DataFrame(t2d_cgm.groupby(['RegistrationCode','hour'], as_index=True)['GlucoseValue'].median().rename('median'))"
   ]
  },
  {
   "cell_type": "code",
   "execution_count": 17,
   "metadata": {
    "ExecuteTime": {
     "end_time": "2020-02-12T19:25:48.100214Z",
     "start_time": "2020-02-12T19:25:48.087643Z"
    }
   },
   "outputs": [],
   "source": [
    "std = pd.DataFrame(t2d_cgm.groupby(['RegistrationCode','hour'], as_index=True)['GlucoseValue'].std().rename('std'))"
   ]
  },
  {
   "cell_type": "code",
   "execution_count": 18,
   "metadata": {
    "ExecuteTime": {
     "end_time": "2020-02-12T19:25:49.119249Z",
     "start_time": "2020-02-12T19:25:49.114244Z"
    },
    "scrolled": true
   },
   "outputs": [],
   "source": [
    "median['median'] = median['median'].round(1)\n",
    "std['std'] = std['std'].round(1)"
   ]
  },
  {
   "cell_type": "code",
   "execution_count": 31,
   "metadata": {
    "ExecuteTime": {
     "end_time": "2020-02-12T19:33:40.931108Z",
     "start_time": "2020-02-12T19:33:40.912257Z"
    },
    "scrolled": false
   },
   "outputs": [],
   "source": [
    "median_scaled = minmax(median)\n",
    "std_scaled = minmax(std)"
   ]
  },
  {
   "cell_type": "code",
   "execution_count": 32,
   "metadata": {
    "ExecuteTime": {
     "end_time": "2020-02-12T19:33:49.368921Z",
     "start_time": "2020-02-12T19:33:49.348710Z"
    }
   },
   "outputs": [],
   "source": [
    "median_scaled = minmax(median)\n",
    "std_scaled = minmax(std)"
   ]
  },
  {
   "cell_type": "code",
   "execution_count": 33,
   "metadata": {
    "ExecuteTime": {
     "end_time": "2020-02-12T19:34:05.212600Z",
     "start_time": "2020-02-12T19:34:05.204165Z"
    },
    "scrolled": false
   },
   "outputs": [],
   "source": [
    "median = median.unstack(level=-1)\n",
    "std = std.unstack(level=-1)"
   ]
  },
  {
   "cell_type": "code",
   "execution_count": 34,
   "metadata": {
    "ExecuteTime": {
     "end_time": "2020-02-12T19:34:05.824469Z",
     "start_time": "2020-02-12T19:34:05.819389Z"
    }
   },
   "outputs": [],
   "source": [
    "median.columns =median.columns.droplevel(0)\n",
    "std.columns =std.columns.droplevel(0)"
   ]
  },
  {
   "cell_type": "code",
   "execution_count": 35,
   "metadata": {
    "ExecuteTime": {
     "end_time": "2020-02-12T19:34:06.569460Z",
     "start_time": "2020-02-12T19:34:06.565898Z"
    }
   },
   "outputs": [],
   "source": [
    "median.columns.name = None\n",
    "std.columns.name = None"
   ]
  },
  {
   "cell_type": "code",
   "execution_count": 36,
   "metadata": {
    "ExecuteTime": {
     "end_time": "2020-02-12T19:34:07.691550Z",
     "start_time": "2020-02-12T19:34:07.688215Z"
    }
   },
   "outputs": [],
   "source": [
    "rc_list = median.index"
   ]
  },
  {
   "cell_type": "code",
   "execution_count": 37,
   "metadata": {
    "ExecuteTime": {
     "end_time": "2020-02-12T19:34:14.926620Z",
     "start_time": "2020-02-12T19:34:14.921716Z"
    }
   },
   "outputs": [],
   "source": [
    "rc_list = ['rc' + item for item in rc_list]"
   ]
  },
  {
   "cell_type": "code",
   "execution_count": 38,
   "metadata": {
    "ExecuteTime": {
     "end_time": "2020-02-12T19:34:16.488104Z",
     "start_time": "2020-02-12T19:34:16.483944Z"
    }
   },
   "outputs": [],
   "source": [
    "hours_list = median.columns"
   ]
  },
  {
   "cell_type": "code",
   "execution_count": 39,
   "metadata": {
    "ExecuteTime": {
     "end_time": "2020-02-12T19:34:17.019586Z",
     "start_time": "2020-02-12T19:34:17.015631Z"
    }
   },
   "outputs": [],
   "source": [
    "hours_list = ['h' + str(item) for item in hours_list]"
   ]
  },
  {
   "cell_type": "code",
   "execution_count": 40,
   "metadata": {
    "ExecuteTime": {
     "end_time": "2020-02-12T19:34:20.669016Z",
     "start_time": "2020-02-12T19:34:20.664452Z"
    }
   },
   "outputs": [],
   "source": [
    "medians_list = median.values.tolist()\n",
    "std_list = std.values.tolist()\n",
    "medians_scaled_list = median_scaled.values.tolist()\n",
    "std_scaled_list = std_scaled.values.tolist()"
   ]
  },
  {
   "cell_type": "code",
   "execution_count": 44,
   "metadata": {
    "ExecuteTime": {
     "end_time": "2020-02-12T19:38:07.815310Z",
     "start_time": "2020-02-12T19:38:07.578741Z"
    }
   },
   "outputs": [],
   "source": [
    "fig = go.Figure(data=go.Heatmap(\n",
    "                   z=medians_scaled_list,\n",
    "                   x=hours_list,\n",
    "                   y=rc_list,\n",
    "                   colorscale = 'Viridis'))\n",
    "fig.update_layout(width = 650, height = 650,\n",
    "    autosize = False )\n",
    "fig.update_layout(\n",
    "    title={\n",
    "        'text': \"T2D median glucose minmax scaled\",\n",
    "        'y':0.95,\n",
    "        'x':0.5,\n",
    "        'xanchor': 'center',\n",
    "        'yanchor': 'top'},\n",
    "    xaxis_title=\"hour of the day\",\n",
    "    yaxis_title=\"Registration Code\"\n",
    "    )\n",
    "fig.write_html(\"/home/elming/Cache/plotly_figures/T2D_median_glucose_sc.html\")"
   ]
  },
  {
   "cell_type": "code",
   "execution_count": 45,
   "metadata": {
    "ExecuteTime": {
     "end_time": "2020-02-12T19:38:32.654183Z",
     "start_time": "2020-02-12T19:38:32.418522Z"
    }
   },
   "outputs": [],
   "source": [
    "fig = go.Figure(data=go.Heatmap(\n",
    "                   z=std_scaled_list,\n",
    "                   x=hours_list,\n",
    "                   y=rc_list,\n",
    "                   colorscale = 'Viridis'))\n",
    "fig.update_layout(width = 650, height = 650,\n",
    "    autosize = False )\n",
    "fig.update_layout(\n",
    "    title={\n",
    "        'text': \"T2D glucose std minmax scaled\",\n",
    "        'y':0.95,\n",
    "        'x':0.5,\n",
    "        'xanchor': 'center',\n",
    "        'yanchor': 'top'},\n",
    "    xaxis_title=\"hour of the day\",\n",
    "    yaxis_title=\"Registration Code\"\n",
    "    )\n",
    "fig.write_html(\"/home/elming/Cache/plotly_figures/T2D_glucose_std_sc.html\")"
   ]
  },
  {
   "cell_type": "code",
   "execution_count": 214,
   "metadata": {
    "ExecuteTime": {
     "end_time": "2020-02-12T18:25:38.180361Z",
     "start_time": "2020-02-12T18:25:38.168275Z"
    }
   },
   "outputs": [
    {
     "data": {
      "text/plain": [
       "{'2136', '2137', '4194', '4229', '4230', '4452', '4541', '4718'}"
      ]
     },
     "execution_count": 214,
     "metadata": {},
     "output_type": "execute_result"
    }
   ],
   "source": [
    "set(t2d_cid) - set(t2d_cgm.index.get_level_values('ConnectionID').unique())"
   ]
  },
  {
   "cell_type": "markdown",
   "metadata": {},
   "source": [
    "{'2136', '2137', '4194', '4229', '4230', '4452', '4541', '4718'}\n",
    "4194 is short connection, others are 3 people who only did T2D so they didn't have T0 that's why they don't appear in the Nastya's table. I still have them in cgmdf though and can do the adjustment separately using quantile 10. Here is the code:\n",
    "```python\n",
    "for userid in t2d_conns.keys():\n",
    "    cgm_user = cgm[cgm['ConnectionID'].isin(user_conns[userid])][['UserID', 'ConnectionID', 'GlucoseTimestamp', 'Period_start',\n",
    "                                                                  'GlucoseValue']]\n",
    "for ind in cgm_user.loc[cgm_user['ConnectionID']==4042].loc[cgm_user['GlucoseTimestamp']>'2018-10-13 16:36:00'].index:\n",
    "    cgm_user.loc[ind, 'GlucoseValue'] = cgm_user.loc[ind, 'GlucoseValue']-27\n",
    "\n",
    "reg_code = cgm[cgm.UserID==userid]['RegistrationCode'].values[0]\n",
    "quantile_10 = cgm_user.groupby('ConnectionID')['GlucoseValue'].quantile(0.10)\n",
    "cgm_user['Glucose_adjusted'] = cgm_user['GlucoseValue']+cgm_user['ConnectionID'].apply(lambda x: quantile_10.mean() - quantile_10.loc[x])\n",
    "```\n",
    "In Lab data I don't have short connections: {'1552', '1606', '1609', '4194', '4229'}"
   ]
  },
  {
   "cell_type": "markdown",
   "metadata": {},
   "source": [
    "## 10K "
   ]
  },
  {
   "cell_type": "code",
   "execution_count": 1,
   "metadata": {
    "ExecuteTime": {
     "end_time": "2020-02-11T12:18:33.993554Z",
     "start_time": "2020-02-11T12:18:30.730708Z"
    }
   },
   "outputs": [],
   "source": [
    "import pandas as pd\n",
    "from LabData.DataLoaders.CGMLoader import CGMLoader\n",
    "from LabData.DataLoaders.DietLoggingLoader import DietLoggingLoader"
   ]
  },
  {
   "cell_type": "code",
   "execution_count": 2,
   "metadata": {
    "ExecuteTime": {
     "end_time": "2020-02-11T12:18:34.471728Z",
     "start_time": "2020-02-11T12:18:34.054649Z"
    }
   },
   "outputs": [],
   "source": [
    "import datetime\n",
    "%matplotlib inline"
   ]
  },
  {
   "cell_type": "code",
   "execution_count": 35,
   "metadata": {
    "ExecuteTime": {
     "end_time": "2020-02-11T12:26:36.850433Z",
     "start_time": "2020-02-11T12:26:36.845981Z"
    }
   },
   "outputs": [],
   "source": [
    "import plotly.graph_objects as go"
   ]
  },
  {
   "cell_type": "code",
   "execution_count": 3,
   "metadata": {
    "ExecuteTime": {
     "end_time": "2020-02-11T12:18:34.533273Z",
     "start_time": "2020-02-11T12:18:34.527522Z"
    }
   },
   "outputs": [],
   "source": [
    "cgml = CGMLoader()\n",
    "dll = DietLoggingLoader()"
   ]
  },
  {
   "cell_type": "code",
   "execution_count": 76,
   "metadata": {
    "ExecuteTime": {
     "end_time": "2020-02-12T15:49:18.766918Z",
     "start_time": "2020-02-12T15:49:05.444458Z"
    }
   },
   "outputs": [],
   "source": [
    "cgmdf = cgml.get_data(study_ids=10).df"
   ]
  },
  {
   "cell_type": "code",
   "execution_count": 151,
   "metadata": {
    "ExecuteTime": {
     "end_time": "2020-02-11T15:58:43.358887Z",
     "start_time": "2020-02-11T15:58:43.248363Z"
    }
   },
   "outputs": [
    {
     "data": {
      "text/plain": [
       "1165"
      ]
     },
     "execution_count": 151,
     "metadata": {},
     "output_type": "execute_result"
    }
   ],
   "source": [
    "cgmdf.index.get_level_values('RegistrationCode').nunique()"
   ]
  },
  {
   "cell_type": "code",
   "execution_count": 152,
   "metadata": {
    "ExecuteTime": {
     "end_time": "2020-02-11T15:59:25.258341Z",
     "start_time": "2020-02-11T15:59:25.252127Z"
    }
   },
   "outputs": [
    {
     "data": {
      "text/plain": [
       "(1343966, 2)"
      ]
     },
     "execution_count": 152,
     "metadata": {},
     "output_type": "execute_result"
    }
   ],
   "source": [
    "cgmdf.shape"
   ]
  },
  {
   "cell_type": "code",
   "execution_count": 77,
   "metadata": {
    "ExecuteTime": {
     "end_time": "2020-02-12T15:50:41.551617Z",
     "start_time": "2020-02-12T15:49:18.964349Z"
    }
   },
   "outputs": [],
   "source": [
    "cgmdf = cgml._remove_first_day_of_connections(cgmdf)"
   ]
  },
  {
   "cell_type": "code",
   "execution_count": 154,
   "metadata": {
    "ExecuteTime": {
     "end_time": "2020-02-11T16:01:08.514553Z",
     "start_time": "2020-02-11T16:01:08.508019Z"
    }
   },
   "outputs": [
    {
     "data": {
      "text/plain": [
       "(1231379, 2)"
      ]
     },
     "execution_count": 154,
     "metadata": {},
     "output_type": "execute_result"
    }
   ],
   "source": [
    "cgmdf.shape"
   ]
  },
  {
   "cell_type": "code",
   "execution_count": 78,
   "metadata": {
    "ExecuteTime": {
     "end_time": "2020-02-12T15:50:41.881261Z",
     "start_time": "2020-02-12T15:50:41.784837Z"
    }
   },
   "outputs": [],
   "source": [
    "cgmdf = cgmdf.reset_index()"
   ]
  },
  {
   "cell_type": "code",
   "execution_count": 79,
   "metadata": {
    "ExecuteTime": {
     "end_time": "2020-02-12T15:50:42.214597Z",
     "start_time": "2020-02-12T15:50:42.047525Z"
    }
   },
   "outputs": [],
   "source": [
    "cgmdf['hour'] = cgmdf.Date.dt.hour"
   ]
  },
  {
   "cell_type": "code",
   "execution_count": 80,
   "metadata": {
    "ExecuteTime": {
     "end_time": "2020-02-12T15:50:42.386764Z",
     "start_time": "2020-02-12T15:50:42.372665Z"
    }
   },
   "outputs": [
    {
     "data": {
      "text/html": [
       "<div>\n",
       "<style scoped>\n",
       "    .dataframe tbody tr th:only-of-type {\n",
       "        vertical-align: middle;\n",
       "    }\n",
       "\n",
       "    .dataframe tbody tr th {\n",
       "        vertical-align: top;\n",
       "    }\n",
       "\n",
       "    .dataframe thead th {\n",
       "        text-align: right;\n",
       "    }\n",
       "</style>\n",
       "<table border=\"1\" class=\"dataframe\">\n",
       "  <thead>\n",
       "    <tr style=\"text-align: right;\">\n",
       "      <th></th>\n",
       "      <th>RegistrationCode</th>\n",
       "      <th>ConnectionID</th>\n",
       "      <th>Date</th>\n",
       "      <th>GlucoseValue</th>\n",
       "      <th>PPGR</th>\n",
       "      <th>hour</th>\n",
       "    </tr>\n",
       "  </thead>\n",
       "  <tbody>\n",
       "    <tr>\n",
       "      <th>0</th>\n",
       "      <td>10K_1007599726</td>\n",
       "      <td>1195589702</td>\n",
       "      <td>2019-07-11 12:41:00+03:00</td>\n",
       "      <td>84.6</td>\n",
       "      <td>53.325</td>\n",
       "      <td>12</td>\n",
       "    </tr>\n",
       "    <tr>\n",
       "      <th>1</th>\n",
       "      <td>10K_1007599726</td>\n",
       "      <td>1195589702</td>\n",
       "      <td>2019-07-11 12:56:00+03:00</td>\n",
       "      <td>93.6</td>\n",
       "      <td>33.300</td>\n",
       "      <td>12</td>\n",
       "    </tr>\n",
       "    <tr>\n",
       "      <th>2</th>\n",
       "      <td>10K_1007599726</td>\n",
       "      <td>1195589702</td>\n",
       "      <td>2019-07-11 13:11:00+03:00</td>\n",
       "      <td>109.8</td>\n",
       "      <td>0.000</td>\n",
       "      <td>13</td>\n",
       "    </tr>\n",
       "    <tr>\n",
       "      <th>3</th>\n",
       "      <td>10K_1007599726</td>\n",
       "      <td>1195589702</td>\n",
       "      <td>2019-07-11 13:26:00+03:00</td>\n",
       "      <td>136.8</td>\n",
       "      <td>0.000</td>\n",
       "      <td>13</td>\n",
       "    </tr>\n",
       "    <tr>\n",
       "      <th>4</th>\n",
       "      <td>10K_1007599726</td>\n",
       "      <td>1195589702</td>\n",
       "      <td>2019-07-11 13:41:00+03:00</td>\n",
       "      <td>142.2</td>\n",
       "      <td>0.000</td>\n",
       "      <td>13</td>\n",
       "    </tr>\n",
       "  </tbody>\n",
       "</table>\n",
       "</div>"
      ],
      "text/plain": [
       "  RegistrationCode ConnectionID                      Date  GlucoseValue  \\\n",
       "0   10K_1007599726   1195589702 2019-07-11 12:41:00+03:00          84.6   \n",
       "1   10K_1007599726   1195589702 2019-07-11 12:56:00+03:00          93.6   \n",
       "2   10K_1007599726   1195589702 2019-07-11 13:11:00+03:00         109.8   \n",
       "3   10K_1007599726   1195589702 2019-07-11 13:26:00+03:00         136.8   \n",
       "4   10K_1007599726   1195589702 2019-07-11 13:41:00+03:00         142.2   \n",
       "\n",
       "     PPGR  hour  \n",
       "0  53.325    12  \n",
       "1  33.300    12  \n",
       "2   0.000    13  \n",
       "3   0.000    13  \n",
       "4   0.000    13  "
      ]
     },
     "execution_count": 80,
     "metadata": {},
     "output_type": "execute_result"
    }
   ],
   "source": [
    "cgmdf.head()"
   ]
  },
  {
   "cell_type": "code",
   "execution_count": 32,
   "metadata": {
    "ExecuteTime": {
     "end_time": "2020-02-11T17:00:50.715888Z",
     "start_time": "2020-02-11T17:00:50.582452Z"
    }
   },
   "outputs": [
    {
     "data": {
      "text/plain": [
       "1159"
      ]
     },
     "execution_count": 32,
     "metadata": {},
     "output_type": "execute_result"
    }
   ],
   "source": [
    "cgmdf.ConnectionID.nunique()"
   ]
  },
  {
   "cell_type": "code",
   "execution_count": 68,
   "metadata": {
    "ExecuteTime": {
     "end_time": "2020-02-12T09:12:03.236316Z",
     "start_time": "2020-02-12T09:12:03.233098Z"
    }
   },
   "outputs": [],
   "source": [
    "# mins = pd.DataFrame(cgmdf.groupby('RegistrationCode')['GlucoseValue'].min().rename('min'))\n",
    "# maxs = pd.DataFrame(cgmdf.groupby('RegistrationCode')['GlucoseValue'].max().rename('max'))\n",
    "# cgmdf = pd.merge(cgmdf, mins, on='RegistrationCode')\n",
    "# cgmdf = pd.merge(cgmdf, maxs, on='RegistrationCode')\n",
    "# cgmdf['gluc_minmax_scaled'] = (cgmdf['GlucoseValue'] - cgmdf['min']) / (cgmdf['max'] - cgmdf['min'])"
   ]
  },
  {
   "cell_type": "code",
   "execution_count": 88,
   "metadata": {
    "ExecuteTime": {
     "end_time": "2020-02-12T15:54:05.922837Z",
     "start_time": "2020-02-12T15:54:05.752313Z"
    }
   },
   "outputs": [],
   "source": [
    "median = pd.DataFrame(cgmdf.groupby(['RegistrationCode','hour'], as_index=True)['GlucoseValue'].median().rename('median'))"
   ]
  },
  {
   "cell_type": "code",
   "execution_count": 89,
   "metadata": {
    "ExecuteTime": {
     "end_time": "2020-02-12T15:54:06.496433Z",
     "start_time": "2020-02-12T15:54:06.347769Z"
    }
   },
   "outputs": [],
   "source": [
    "std = pd.DataFrame(cgmdf.groupby(['RegistrationCode','hour'], as_index=True)['GlucoseValue'].std().rename('std'))"
   ]
  },
  {
   "cell_type": "code",
   "execution_count": 90,
   "metadata": {
    "ExecuteTime": {
     "end_time": "2020-02-12T15:54:08.357420Z",
     "start_time": "2020-02-12T15:54:08.351805Z"
    },
    "scrolled": true
   },
   "outputs": [],
   "source": [
    "median['median'] = median['median'].round(1)\n",
    "std['std'] = std['std'].round(1)"
   ]
  },
  {
   "cell_type": "code",
   "execution_count": 84,
   "metadata": {
    "ExecuteTime": {
     "end_time": "2020-02-12T15:53:10.746905Z",
     "start_time": "2020-02-12T15:53:10.695782Z"
    }
   },
   "outputs": [],
   "source": [
    "medians_scaled = minmax(median)\n",
    "std_scaled = minmax(std)"
   ]
  },
  {
   "cell_type": "code",
   "execution_count": 91,
   "metadata": {
    "ExecuteTime": {
     "end_time": "2020-02-12T15:54:11.190122Z",
     "start_time": "2020-02-12T15:54:11.169334Z"
    },
    "scrolled": false
   },
   "outputs": [],
   "source": [
    "median = median.unstack(level=-1)\n",
    "std = std.unstack(level=-1)\n",
    "\n",
    "median.columns =median.columns.droplevel(0)\n",
    "std.columns =std.columns.droplevel(0)\n",
    "\n",
    "median.columns.name = None\n",
    "std.columns.name = None"
   ]
  },
  {
   "cell_type": "code",
   "execution_count": 97,
   "metadata": {
    "ExecuteTime": {
     "end_time": "2020-02-12T15:58:36.597914Z",
     "start_time": "2020-02-12T15:58:36.594837Z"
    }
   },
   "outputs": [],
   "source": [
    "rc_list = median.index"
   ]
  },
  {
   "cell_type": "code",
   "execution_count": 93,
   "metadata": {
    "ExecuteTime": {
     "end_time": "2020-02-12T15:54:13.059664Z",
     "start_time": "2020-02-12T15:54:13.055878Z"
    }
   },
   "outputs": [],
   "source": [
    "hours_list = median.columns\n",
    "\n",
    "hours_list = ['h' + str(item) for item in hours_list]"
   ]
  },
  {
   "cell_type": "code",
   "execution_count": 94,
   "metadata": {
    "ExecuteTime": {
     "end_time": "2020-02-12T15:54:52.418595Z",
     "start_time": "2020-02-12T15:54:52.408580Z"
    }
   },
   "outputs": [],
   "source": [
    "medians_list = median.values.tolist()\n",
    "std_list = std.values.tolist()\n",
    "\n",
    "medians_scaled_list = medians_scaled.values.tolist()\n",
    "std_scaled_list = std_scaled.values.tolist()"
   ]
  },
  {
   "cell_type": "code",
   "execution_count": 95,
   "metadata": {
    "ExecuteTime": {
     "end_time": "2020-02-12T15:56:53.337313Z",
     "start_time": "2020-02-12T15:56:52.808841Z"
    }
   },
   "outputs": [],
   "source": [
    "fig = go.Figure(data=go.Heatmap(\n",
    "                   z=medians_list,\n",
    "                   x=hours_list,\n",
    "                   y=rc_list,\n",
    "                   colorscale = 'Portland'))\n",
    "fig.update_layout(width = 600, height = 900,\n",
    "    autosize = False )\n",
    "fig.update_layout(\n",
    "    title={\n",
    "        'text': \"10K median glucose\",\n",
    "        'y':0.95,\n",
    "        'x':0.5,\n",
    "        'xanchor': 'center',\n",
    "        'yanchor': 'top'},\n",
    "    xaxis_title=\"hour of the day\",\n",
    "    yaxis_title=\"Registration Code\"\n",
    "    )\n",
    "fig.write_html(\"/home/elming/Cache/plotly_figures/10K_median_glucose_unsc.html\")"
   ]
  },
  {
   "cell_type": "code",
   "execution_count": 98,
   "metadata": {
    "ExecuteTime": {
     "end_time": "2020-02-12T15:58:57.286259Z",
     "start_time": "2020-02-12T15:58:56.725989Z"
    }
   },
   "outputs": [],
   "source": [
    "fig = go.Figure(data=go.Heatmap(\n",
    "                   z=medians_scaled_list,\n",
    "                   x=hours_list,\n",
    "                   y=rc_list,\n",
    "                   colorscale = 'Viridis'))\n",
    "fig.update_layout(width = 600, height = 900,\n",
    "    autosize = False )\n",
    "fig.update_layout(\n",
    "    title={\n",
    "        'text': \"10K median glucose minmax scaled\",\n",
    "        'y':0.95,\n",
    "        'x':0.5,\n",
    "        'xanchor': 'center',\n",
    "        'yanchor': 'top'},\n",
    "    xaxis_title=\"hour of the day\",\n",
    "    yaxis_title=\"Registration Code\"\n",
    "    )\n",
    "fig.write_html(\"/home/elming/Cache/plotly_figures/10K_median_glucose_sc.html\")"
   ]
  },
  {
   "cell_type": "code",
   "execution_count": 99,
   "metadata": {
    "ExecuteTime": {
     "end_time": "2020-02-12T16:10:11.916999Z",
     "start_time": "2020-02-12T16:10:11.396714Z"
    }
   },
   "outputs": [],
   "source": [
    "fig = go.Figure(data=go.Heatmap(\n",
    "                   z=std_list,\n",
    "                   x=hours_list,\n",
    "                   y=rc_list,\n",
    "                   colorscale = 'Portland'))\n",
    "fig.update_layout(width = 600, height = 900,\n",
    "    autosize = False )\n",
    "fig.update_layout(\n",
    "    title={\n",
    "        'text': \"10K glucose std\",\n",
    "        'y':0.95,\n",
    "        'x':0.5,\n",
    "        'xanchor': 'center',\n",
    "        'yanchor': 'top'},\n",
    "    xaxis_title=\"hour of the day\",\n",
    "    yaxis_title=\"Registration Code\"\n",
    "    )\n",
    "fig.write_html(\"/home/elming/Cache/plotly_figures/10K_glucose_std_unsc.html\")"
   ]
  },
  {
   "cell_type": "code",
   "execution_count": 100,
   "metadata": {
    "ExecuteTime": {
     "end_time": "2020-02-12T16:10:14.675071Z",
     "start_time": "2020-02-12T16:10:14.110934Z"
    }
   },
   "outputs": [],
   "source": [
    "fig = go.Figure(data=go.Heatmap(\n",
    "                   z=std_scaled_list,\n",
    "                   x=hours_list,\n",
    "                   y=rc_list,\n",
    "                   colorscale = 'Viridis'))\n",
    "fig.update_layout(width = 600, height = 900,\n",
    "    autosize = False )\n",
    "fig.update_layout(\n",
    "    title={\n",
    "        'text': \"10K glucose std minmax scaled\",\n",
    "        'y':0.95,\n",
    "        'x':0.5,\n",
    "        'xanchor': 'center',\n",
    "        'yanchor': 'top'},\n",
    "    xaxis_title=\"hour of the day\",\n",
    "    yaxis_title=\"Registration Code\"\n",
    "    )\n",
    "fig.write_html(\"/home/elming/Cache/plotly_figures/10K_glucose_std_sc.html\")"
   ]
  },
  {
   "cell_type": "code",
   "execution_count": null,
   "metadata": {},
   "outputs": [],
   "source": []
  }
 ],
 "metadata": {
  "kernelspec": {
   "display_name": "Python 3",
   "language": "python",
   "name": "python3"
  },
  "language_info": {
   "codemirror_mode": {
    "name": "ipython",
    "version": 3
   },
   "file_extension": ".py",
   "mimetype": "text/x-python",
   "name": "python",
   "nbconvert_exporter": "python",
   "pygments_lexer": "ipython3",
   "version": "3.7.5"
  },
  "toc": {
   "base_numbering": 1,
   "nav_menu": {},
   "number_sections": true,
   "sideBar": true,
   "skip_h1_title": false,
   "title_cell": "Table of Contents",
   "title_sidebar": "Contents",
   "toc_cell": false,
   "toc_position": {
    "height": "calc(100% - 180px)",
    "left": "10px",
    "top": "150px",
    "width": "384px"
   },
   "toc_section_display": true,
   "toc_window_display": false
  },
  "varInspector": {
   "cols": {
    "lenName": 16,
    "lenType": 16,
    "lenVar": 40
   },
   "kernels_config": {
    "python": {
     "delete_cmd_postfix": "",
     "delete_cmd_prefix": "del ",
     "library": "var_list.py",
     "varRefreshCmd": "print(var_dic_list())"
    },
    "r": {
     "delete_cmd_postfix": ") ",
     "delete_cmd_prefix": "rm(",
     "library": "var_list.r",
     "varRefreshCmd": "cat(var_dic_list()) "
    }
   },
   "types_to_exclude": [
    "module",
    "function",
    "builtin_function_or_method",
    "instance",
    "_Feature"
   ],
   "window_display": false
  }
 },
 "nbformat": 4,
 "nbformat_minor": 2
}
