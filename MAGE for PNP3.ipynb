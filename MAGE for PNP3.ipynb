{
 "cells": [
  {
   "cell_type": "markdown",
   "metadata": {},
   "source": [
    "# MAGE for PNP3"
   ]
  },
  {
   "cell_type": "markdown",
   "metadata": {},
   "source": [
    "Path to T0 and allocation info /net/mraid08/export/genie/LabData/Data/WIS/Combined_RandomizationResults_final.xlsx"
   ]
  },
  {
   "cell_type": "code",
   "execution_count": 1,
   "metadata": {},
   "outputs": [],
   "source": [
    "import pandas as pd\n",
    "import numpy as np"
   ]
  },
  {
   "cell_type": "code",
   "execution_count": 2,
   "metadata": {
    "scrolled": true
   },
   "outputs": [
    {
     "data": {
      "text/html": [
       "<div>\n",
       "<style scoped>\n",
       "    .dataframe tbody tr th:only-of-type {\n",
       "        vertical-align: middle;\n",
       "    }\n",
       "\n",
       "    .dataframe tbody tr th {\n",
       "        vertical-align: top;\n",
       "    }\n",
       "\n",
       "    .dataframe thead th {\n",
       "        text-align: right;\n",
       "    }\n",
       "</style>\n",
       "<table border=\"1\" class=\"dataframe\">\n",
       "  <thead>\n",
       "    <tr style=\"text-align: right;\">\n",
       "      <th></th>\n",
       "      <th>RegistrationCode</th>\n",
       "      <th>date</th>\n",
       "      <th>mage</th>\n",
       "      <th>hmage</th>\n",
       "      <th>lmage</th>\n",
       "      <th>ge</th>\n",
       "    </tr>\n",
       "  </thead>\n",
       "  <tbody>\n",
       "    <tr>\n",
       "      <th>0</th>\n",
       "      <td>111527</td>\n",
       "      <td>2017-11-06</td>\n",
       "      <td>20.50</td>\n",
       "      <td>0.00</td>\n",
       "      <td>41.00</td>\n",
       "      <td>1.0</td>\n",
       "    </tr>\n",
       "    <tr>\n",
       "      <th>1</th>\n",
       "      <td>111527</td>\n",
       "      <td>2017-11-07</td>\n",
       "      <td>31.34</td>\n",
       "      <td>29.00</td>\n",
       "      <td>33.67</td>\n",
       "      <td>4.0</td>\n",
       "    </tr>\n",
       "    <tr>\n",
       "      <th>2</th>\n",
       "      <td>111527</td>\n",
       "      <td>2017-11-08</td>\n",
       "      <td>23.50</td>\n",
       "      <td>22.00</td>\n",
       "      <td>25.00</td>\n",
       "      <td>6.0</td>\n",
       "    </tr>\n",
       "    <tr>\n",
       "      <th>3</th>\n",
       "      <td>111527</td>\n",
       "      <td>2017-11-09</td>\n",
       "      <td>30.59</td>\n",
       "      <td>23.50</td>\n",
       "      <td>37.67</td>\n",
       "      <td>5.0</td>\n",
       "    </tr>\n",
       "    <tr>\n",
       "      <th>4</th>\n",
       "      <td>111527</td>\n",
       "      <td>2017-11-10</td>\n",
       "      <td>26.00</td>\n",
       "      <td>26.25</td>\n",
       "      <td>25.75</td>\n",
       "      <td>8.0</td>\n",
       "    </tr>\n",
       "    <tr>\n",
       "      <th>...</th>\n",
       "      <td>...</td>\n",
       "      <td>...</td>\n",
       "      <td>...</td>\n",
       "      <td>...</td>\n",
       "      <td>...</td>\n",
       "      <td>...</td>\n",
       "    </tr>\n",
       "    <tr>\n",
       "      <th>43786</th>\n",
       "      <td>997735</td>\n",
       "      <td>2019-11-02</td>\n",
       "      <td>5.34</td>\n",
       "      <td>0.00</td>\n",
       "      <td>10.67</td>\n",
       "      <td>3.0</td>\n",
       "    </tr>\n",
       "    <tr>\n",
       "      <th>43787</th>\n",
       "      <td>997735</td>\n",
       "      <td>2019-11-03</td>\n",
       "      <td>12.50</td>\n",
       "      <td>12.00</td>\n",
       "      <td>13.00</td>\n",
       "      <td>3.0</td>\n",
       "    </tr>\n",
       "    <tr>\n",
       "      <th>43788</th>\n",
       "      <td>997735</td>\n",
       "      <td>2019-11-04</td>\n",
       "      <td>6.75</td>\n",
       "      <td>0.00</td>\n",
       "      <td>13.50</td>\n",
       "      <td>4.0</td>\n",
       "    </tr>\n",
       "    <tr>\n",
       "      <th>43789</th>\n",
       "      <td>997735</td>\n",
       "      <td>2019-11-05</td>\n",
       "      <td>0.00</td>\n",
       "      <td>0.00</td>\n",
       "      <td>0.00</td>\n",
       "      <td>0.0</td>\n",
       "    </tr>\n",
       "    <tr>\n",
       "      <th>43790</th>\n",
       "      <td>997735</td>\n",
       "      <td>2019-11-06</td>\n",
       "      <td>0.00</td>\n",
       "      <td>0.00</td>\n",
       "      <td>0.00</td>\n",
       "      <td>0.0</td>\n",
       "    </tr>\n",
       "  </tbody>\n",
       "</table>\n",
       "<p>43791 rows × 6 columns</p>\n",
       "</div>"
      ],
      "text/plain": [
       "       RegistrationCode        date   mage  hmage  lmage   ge\n",
       "0                111527  2017-11-06  20.50   0.00  41.00  1.0\n",
       "1                111527  2017-11-07  31.34  29.00  33.67  4.0\n",
       "2                111527  2017-11-08  23.50  22.00  25.00  6.0\n",
       "3                111527  2017-11-09  30.59  23.50  37.67  5.0\n",
       "4                111527  2017-11-10  26.00  26.25  25.75  8.0\n",
       "...                 ...         ...    ...    ...    ...  ...\n",
       "43786            997735  2019-11-02   5.34   0.00  10.67  3.0\n",
       "43787            997735  2019-11-03  12.50  12.00  13.00  3.0\n",
       "43788            997735  2019-11-04   6.75   0.00  13.50  4.0\n",
       "43789            997735  2019-11-05   0.00   0.00   0.00  0.0\n",
       "43790            997735  2019-11-06   0.00   0.00   0.00  0.0\n",
       "\n",
       "[43791 rows x 6 columns]"
      ]
     },
     "execution_count": 2,
     "metadata": {},
     "output_type": "execute_result"
    }
   ],
   "source": [
    "mage_df = pd.read_csv('/home/elming/Cache/LabData/pnp3_mage.csv')\n",
    "mage_df"
   ]
  },
  {
   "cell_type": "code",
   "execution_count": 3,
   "metadata": {},
   "outputs": [
    {
     "data": {
      "text/plain": [
       "RegistrationCode            object\n",
       "date                datetime64[ns]\n",
       "mage                       float64\n",
       "hmage                      float64\n",
       "lmage                      float64\n",
       "ge                         float64\n",
       "dtype: object"
      ]
     },
     "execution_count": 3,
     "metadata": {},
     "output_type": "execute_result"
    }
   ],
   "source": [
    "mage_df['RegistrationCode'] = mage_df['RegistrationCode'].astype(str)\n",
    "mage_df['date'] = pd.to_datetime(mage_df['date'])\n",
    "mage_df.dtypes"
   ]
  },
  {
   "cell_type": "code",
   "execution_count": 4,
   "metadata": {
    "scrolled": true
   },
   "outputs": [
    {
     "data": {
      "text/html": [
       "<div>\n",
       "<style scoped>\n",
       "    .dataframe tbody tr th:only-of-type {\n",
       "        vertical-align: middle;\n",
       "    }\n",
       "\n",
       "    .dataframe tbody tr th {\n",
       "        vertical-align: top;\n",
       "    }\n",
       "\n",
       "    .dataframe thead th {\n",
       "        text-align: right;\n",
       "    }\n",
       "</style>\n",
       "<table border=\"1\" class=\"dataframe\">\n",
       "  <thead>\n",
       "    <tr style=\"text-align: right;\">\n",
       "      <th></th>\n",
       "      <th>RegistrationCode</th>\n",
       "      <th>Round</th>\n",
       "      <th>Predictor</th>\n",
       "      <th>alloc</th>\n",
       "      <th>FirstConnID</th>\n",
       "      <th>Tech column</th>\n",
       "      <th>Age</th>\n",
       "      <th>HbA1C_one</th>\n",
       "      <th>HbA1C</th>\n",
       "      <th>FastingGlucose</th>\n",
       "      <th>...</th>\n",
       "      <th>Mean Caloric Target</th>\n",
       "      <th>Result</th>\n",
       "      <th>Number of Snacks</th>\n",
       "      <th>Unnamed: 25</th>\n",
       "      <th>Result_OLD</th>\n",
       "      <th>Unnamed: 27</th>\n",
       "      <th>IsActive</th>\n",
       "      <th>IsIntervention</th>\n",
       "      <th>DropoutDate</th>\n",
       "      <th>DropOutReason</th>\n",
       "    </tr>\n",
       "  </thead>\n",
       "  <tbody>\n",
       "    <tr>\n",
       "      <th>0</th>\n",
       "      <td>424661</td>\n",
       "      <td>1</td>\n",
       "      <td>1.0</td>\n",
       "      <td>1</td>\n",
       "      <td>1407.0</td>\n",
       "      <td>NaN</td>\n",
       "      <td>52</td>\n",
       "      <td>5.98</td>\n",
       "      <td>5.98</td>\n",
       "      <td>102</td>\n",
       "      <td>...</td>\n",
       "      <td>2460.342296</td>\n",
       "      <td>2500.0</td>\n",
       "      <td>3.0</td>\n",
       "      <td>NaN</td>\n",
       "      <td>NaN</td>\n",
       "      <td>NaN</td>\n",
       "      <td>1</td>\n",
       "      <td>0</td>\n",
       "      <td>NaT</td>\n",
       "      <td>NaN</td>\n",
       "    </tr>\n",
       "    <tr>\n",
       "      <th>1</th>\n",
       "      <td>309076</td>\n",
       "      <td>1</td>\n",
       "      <td>1.0</td>\n",
       "      <td>1</td>\n",
       "      <td>1406.0</td>\n",
       "      <td>NaN</td>\n",
       "      <td>40</td>\n",
       "      <td>6.11</td>\n",
       "      <td>6.14</td>\n",
       "      <td>121</td>\n",
       "      <td>...</td>\n",
       "      <td>2749.505608</td>\n",
       "      <td>2700.0</td>\n",
       "      <td>3.0</td>\n",
       "      <td>NaN</td>\n",
       "      <td>NaN</td>\n",
       "      <td>NaN</td>\n",
       "      <td>1</td>\n",
       "      <td>0</td>\n",
       "      <td>NaT</td>\n",
       "      <td>NaN</td>\n",
       "    </tr>\n",
       "    <tr>\n",
       "      <th>2</th>\n",
       "      <td>158747</td>\n",
       "      <td>1</td>\n",
       "      <td>1.0</td>\n",
       "      <td>1</td>\n",
       "      <td>1408.0</td>\n",
       "      <td>NaN</td>\n",
       "      <td>43</td>\n",
       "      <td>5.75</td>\n",
       "      <td>5.75</td>\n",
       "      <td>109</td>\n",
       "      <td>...</td>\n",
       "      <td>2170.195190</td>\n",
       "      <td>2200.0</td>\n",
       "      <td>3.0</td>\n",
       "      <td>NaN</td>\n",
       "      <td>NaN</td>\n",
       "      <td>NaN</td>\n",
       "      <td>1</td>\n",
       "      <td>0</td>\n",
       "      <td>NaT</td>\n",
       "      <td>NaN</td>\n",
       "    </tr>\n",
       "    <tr>\n",
       "      <th>3</th>\n",
       "      <td>556849</td>\n",
       "      <td>1</td>\n",
       "      <td>1.0</td>\n",
       "      <td>1</td>\n",
       "      <td>1409.0</td>\n",
       "      <td>NaN</td>\n",
       "      <td>53</td>\n",
       "      <td>5.88</td>\n",
       "      <td>5.88</td>\n",
       "      <td>103</td>\n",
       "      <td>...</td>\n",
       "      <td>2066.674619</td>\n",
       "      <td>2100.0</td>\n",
       "      <td>3.0</td>\n",
       "      <td>NaN</td>\n",
       "      <td>NaN</td>\n",
       "      <td>NaN</td>\n",
       "      <td>0</td>\n",
       "      <td>0</td>\n",
       "      <td>2017-07-06</td>\n",
       "      <td>Health issues unrelated to study</td>\n",
       "    </tr>\n",
       "    <tr>\n",
       "      <th>4</th>\n",
       "      <td>147867</td>\n",
       "      <td>1</td>\n",
       "      <td>1.0</td>\n",
       "      <td>1</td>\n",
       "      <td>1410.0</td>\n",
       "      <td>NaN</td>\n",
       "      <td>50</td>\n",
       "      <td>5.75</td>\n",
       "      <td>5.75</td>\n",
       "      <td>112</td>\n",
       "      <td>...</td>\n",
       "      <td>2851.129684</td>\n",
       "      <td>2800.0</td>\n",
       "      <td>3.0</td>\n",
       "      <td>NaN</td>\n",
       "      <td>NaN</td>\n",
       "      <td>NaN</td>\n",
       "      <td>1</td>\n",
       "      <td>0</td>\n",
       "      <td>NaT</td>\n",
       "      <td>NaN</td>\n",
       "    </tr>\n",
       "    <tr>\n",
       "      <th>...</th>\n",
       "      <td>...</td>\n",
       "      <td>...</td>\n",
       "      <td>...</td>\n",
       "      <td>...</td>\n",
       "      <td>...</td>\n",
       "      <td>...</td>\n",
       "      <td>...</td>\n",
       "      <td>...</td>\n",
       "      <td>...</td>\n",
       "      <td>...</td>\n",
       "      <td>...</td>\n",
       "      <td>...</td>\n",
       "      <td>...</td>\n",
       "      <td>...</td>\n",
       "      <td>...</td>\n",
       "      <td>...</td>\n",
       "      <td>...</td>\n",
       "      <td>...</td>\n",
       "      <td>...</td>\n",
       "      <td>...</td>\n",
       "      <td>...</td>\n",
       "    </tr>\n",
       "    <tr>\n",
       "      <th>240</th>\n",
       "      <td>910720</td>\n",
       "      <td>17</td>\n",
       "      <td>17.0</td>\n",
       "      <td>0</td>\n",
       "      <td>4917.0</td>\n",
       "      <td>NaN</td>\n",
       "      <td>59</td>\n",
       "      <td>6.04</td>\n",
       "      <td>6.04</td>\n",
       "      <td>119</td>\n",
       "      <td>...</td>\n",
       "      <td>2610.657371</td>\n",
       "      <td>2600.0</td>\n",
       "      <td>NaN</td>\n",
       "      <td>NaN</td>\n",
       "      <td>NaN</td>\n",
       "      <td>NaN</td>\n",
       "      <td>1</td>\n",
       "      <td>1</td>\n",
       "      <td>NaT</td>\n",
       "      <td>NaN</td>\n",
       "    </tr>\n",
       "    <tr>\n",
       "      <th>241</th>\n",
       "      <td>702207</td>\n",
       "      <td>17</td>\n",
       "      <td>17.0</td>\n",
       "      <td>1</td>\n",
       "      <td>4844.0</td>\n",
       "      <td>NaN</td>\n",
       "      <td>47</td>\n",
       "      <td>5.75</td>\n",
       "      <td>5.75</td>\n",
       "      <td>115</td>\n",
       "      <td>...</td>\n",
       "      <td>2026.165338</td>\n",
       "      <td>2000.0</td>\n",
       "      <td>NaN</td>\n",
       "      <td>NaN</td>\n",
       "      <td>NaN</td>\n",
       "      <td>NaN</td>\n",
       "      <td>1</td>\n",
       "      <td>1</td>\n",
       "      <td>NaT</td>\n",
       "      <td>NaN</td>\n",
       "    </tr>\n",
       "    <tr>\n",
       "      <th>242</th>\n",
       "      <td>599101</td>\n",
       "      <td>17</td>\n",
       "      <td>17.0</td>\n",
       "      <td>1</td>\n",
       "      <td>4850.0</td>\n",
       "      <td>NaN</td>\n",
       "      <td>51</td>\n",
       "      <td>5.91</td>\n",
       "      <td>5.91</td>\n",
       "      <td>134</td>\n",
       "      <td>...</td>\n",
       "      <td>2526.058362</td>\n",
       "      <td>2500.0</td>\n",
       "      <td>NaN</td>\n",
       "      <td>NaN</td>\n",
       "      <td>NaN</td>\n",
       "      <td>NaN</td>\n",
       "      <td>1</td>\n",
       "      <td>1</td>\n",
       "      <td>NaT</td>\n",
       "      <td>NaN</td>\n",
       "    </tr>\n",
       "    <tr>\n",
       "      <th>243</th>\n",
       "      <td>895129</td>\n",
       "      <td>17</td>\n",
       "      <td>17.0</td>\n",
       "      <td>1</td>\n",
       "      <td>4858.0</td>\n",
       "      <td>NaN</td>\n",
       "      <td>52</td>\n",
       "      <td>5.80</td>\n",
       "      <td>5.80</td>\n",
       "      <td>155</td>\n",
       "      <td>...</td>\n",
       "      <td>2927.856586</td>\n",
       "      <td>2900.0</td>\n",
       "      <td>NaN</td>\n",
       "      <td>NaN</td>\n",
       "      <td>NaN</td>\n",
       "      <td>NaN</td>\n",
       "      <td>1</td>\n",
       "      <td>1</td>\n",
       "      <td>NaT</td>\n",
       "      <td>NaN</td>\n",
       "    </tr>\n",
       "    <tr>\n",
       "      <th>244</th>\n",
       "      <td>548470</td>\n",
       "      <td>17</td>\n",
       "      <td>16.0</td>\n",
       "      <td>1</td>\n",
       "      <td>4845.0</td>\n",
       "      <td>NaN</td>\n",
       "      <td>59</td>\n",
       "      <td>6.06</td>\n",
       "      <td>6.06</td>\n",
       "      <td>124</td>\n",
       "      <td>...</td>\n",
       "      <td>1969.072310</td>\n",
       "      <td>2000.0</td>\n",
       "      <td>NaN</td>\n",
       "      <td>NaN</td>\n",
       "      <td>NaN</td>\n",
       "      <td>NaN</td>\n",
       "      <td>1</td>\n",
       "      <td>1</td>\n",
       "      <td>2019-04-25</td>\n",
       "      <td>Unhappy with diet</td>\n",
       "    </tr>\n",
       "  </tbody>\n",
       "</table>\n",
       "<p>245 rows × 32 columns</p>\n",
       "</div>"
      ],
      "text/plain": [
       "     RegistrationCode  Round  Predictor  alloc  FirstConnID  Tech column  Age  \\\n",
       "0              424661      1        1.0      1       1407.0          NaN   52   \n",
       "1              309076      1        1.0      1       1406.0          NaN   40   \n",
       "2              158747      1        1.0      1       1408.0          NaN   43   \n",
       "3              556849      1        1.0      1       1409.0          NaN   53   \n",
       "4              147867      1        1.0      1       1410.0          NaN   50   \n",
       "..                ...    ...        ...    ...          ...          ...  ...   \n",
       "240            910720     17       17.0      0       4917.0          NaN   59   \n",
       "241            702207     17       17.0      1       4844.0          NaN   47   \n",
       "242            599101     17       17.0      1       4850.0          NaN   51   \n",
       "243            895129     17       17.0      1       4858.0          NaN   52   \n",
       "244            548470     17       16.0      1       4845.0          NaN   59   \n",
       "\n",
       "     HbA1C_one  HbA1C  FastingGlucose  ...  Mean Caloric Target  Result  \\\n",
       "0         5.98   5.98             102  ...          2460.342296  2500.0   \n",
       "1         6.11   6.14             121  ...          2749.505608  2700.0   \n",
       "2         5.75   5.75             109  ...          2170.195190  2200.0   \n",
       "3         5.88   5.88             103  ...          2066.674619  2100.0   \n",
       "4         5.75   5.75             112  ...          2851.129684  2800.0   \n",
       "..         ...    ...             ...  ...                  ...     ...   \n",
       "240       6.04   6.04             119  ...          2610.657371  2600.0   \n",
       "241       5.75   5.75             115  ...          2026.165338  2000.0   \n",
       "242       5.91   5.91             134  ...          2526.058362  2500.0   \n",
       "243       5.80   5.80             155  ...          2927.856586  2900.0   \n",
       "244       6.06   6.06             124  ...          1969.072310  2000.0   \n",
       "\n",
       "    Number of Snacks  Unnamed: 25 Result_OLD  Unnamed: 27  IsActive  \\\n",
       "0                3.0          NaN        NaN          NaN         1   \n",
       "1                3.0          NaN        NaN          NaN         1   \n",
       "2                3.0          NaN        NaN          NaN         1   \n",
       "3                3.0          NaN        NaN          NaN         0   \n",
       "4                3.0          NaN        NaN          NaN         1   \n",
       "..               ...          ...        ...          ...       ...   \n",
       "240              NaN          NaN        NaN          NaN         1   \n",
       "241              NaN          NaN        NaN          NaN         1   \n",
       "242              NaN          NaN        NaN          NaN         1   \n",
       "243              NaN          NaN        NaN          NaN         1   \n",
       "244              NaN          NaN        NaN          NaN         1   \n",
       "\n",
       "     IsIntervention  DropoutDate                     DropOutReason  \n",
       "0                 0          NaT                               NaN  \n",
       "1                 0          NaT                               NaN  \n",
       "2                 0          NaT                               NaN  \n",
       "3                 0   2017-07-06  Health issues unrelated to study  \n",
       "4                 0          NaT                               NaN  \n",
       "..              ...          ...                               ...  \n",
       "240               1          NaT                               NaN  \n",
       "241               1          NaT                               NaN  \n",
       "242               1          NaT                               NaN  \n",
       "243               1          NaT                               NaN  \n",
       "244               1   2019-04-25                 Unhappy with diet  \n",
       "\n",
       "[245 rows x 32 columns]"
      ]
     },
     "execution_count": 4,
     "metadata": {},
     "output_type": "execute_result"
    }
   ],
   "source": [
    "from pandas import ExcelFile\n",
    "\n",
    "pnp3_df = pd.read_excel('/net/mraid08/export/genie/LabData/Data/WIS/Combined_RandomizationResults_final.xlsx')\n",
    "pnp3_df"
   ]
  },
  {
   "cell_type": "code",
   "execution_count": 5,
   "metadata": {},
   "outputs": [],
   "source": [
    "pnp3_df['RegistrationCode'] = pnp3_df[\"RegistrationCode\"].astype(str)"
   ]
  },
  {
   "cell_type": "code",
   "execution_count": 6,
   "metadata": {},
   "outputs": [
    {
     "data": {
      "text/html": [
       "<div>\n",
       "<style scoped>\n",
       "    .dataframe tbody tr th:only-of-type {\n",
       "        vertical-align: middle;\n",
       "    }\n",
       "\n",
       "    .dataframe tbody tr th {\n",
       "        vertical-align: top;\n",
       "    }\n",
       "\n",
       "    .dataframe thead th {\n",
       "        text-align: right;\n",
       "    }\n",
       "</style>\n",
       "<table border=\"1\" class=\"dataframe\">\n",
       "  <thead>\n",
       "    <tr style=\"text-align: right;\">\n",
       "      <th></th>\n",
       "      <th>RegistrationCode</th>\n",
       "      <th>date</th>\n",
       "      <th>mage</th>\n",
       "      <th>hmage</th>\n",
       "      <th>lmage</th>\n",
       "      <th>ge</th>\n",
       "    </tr>\n",
       "  </thead>\n",
       "  <tbody>\n",
       "    <tr>\n",
       "      <th>9624</th>\n",
       "      <td>309076</td>\n",
       "      <td>2017-02-09</td>\n",
       "      <td>0.00</td>\n",
       "      <td>0.00</td>\n",
       "      <td>0.00</td>\n",
       "      <td>0.0</td>\n",
       "    </tr>\n",
       "    <tr>\n",
       "      <th>9625</th>\n",
       "      <td>309076</td>\n",
       "      <td>2017-02-10</td>\n",
       "      <td>22.00</td>\n",
       "      <td>23.00</td>\n",
       "      <td>21.00</td>\n",
       "      <td>5.0</td>\n",
       "    </tr>\n",
       "    <tr>\n",
       "      <th>9626</th>\n",
       "      <td>309076</td>\n",
       "      <td>2017-02-11</td>\n",
       "      <td>18.67</td>\n",
       "      <td>20.67</td>\n",
       "      <td>16.67</td>\n",
       "      <td>6.0</td>\n",
       "    </tr>\n",
       "    <tr>\n",
       "      <th>9627</th>\n",
       "      <td>309076</td>\n",
       "      <td>2017-02-12</td>\n",
       "      <td>22.00</td>\n",
       "      <td>0.00</td>\n",
       "      <td>44.00</td>\n",
       "      <td>2.0</td>\n",
       "    </tr>\n",
       "    <tr>\n",
       "      <th>9628</th>\n",
       "      <td>309076</td>\n",
       "      <td>2017-02-13</td>\n",
       "      <td>22.00</td>\n",
       "      <td>19.00</td>\n",
       "      <td>25.00</td>\n",
       "      <td>5.0</td>\n",
       "    </tr>\n",
       "    <tr>\n",
       "      <th>...</th>\n",
       "      <td>...</td>\n",
       "      <td>...</td>\n",
       "      <td>...</td>\n",
       "      <td>...</td>\n",
       "      <td>...</td>\n",
       "      <td>...</td>\n",
       "    </tr>\n",
       "    <tr>\n",
       "      <th>9793</th>\n",
       "      <td>309076</td>\n",
       "      <td>2018-05-16</td>\n",
       "      <td>12.59</td>\n",
       "      <td>12.50</td>\n",
       "      <td>12.67</td>\n",
       "      <td>5.0</td>\n",
       "    </tr>\n",
       "    <tr>\n",
       "      <th>9794</th>\n",
       "      <td>309076</td>\n",
       "      <td>2018-05-17</td>\n",
       "      <td>15.66</td>\n",
       "      <td>15.00</td>\n",
       "      <td>16.33</td>\n",
       "      <td>4.0</td>\n",
       "    </tr>\n",
       "    <tr>\n",
       "      <th>9795</th>\n",
       "      <td>309076</td>\n",
       "      <td>2018-05-18</td>\n",
       "      <td>0.00</td>\n",
       "      <td>0.00</td>\n",
       "      <td>0.00</td>\n",
       "      <td>0.0</td>\n",
       "    </tr>\n",
       "    <tr>\n",
       "      <th>9796</th>\n",
       "      <td>309076</td>\n",
       "      <td>2018-05-19</td>\n",
       "      <td>20.75</td>\n",
       "      <td>18.17</td>\n",
       "      <td>23.33</td>\n",
       "      <td>9.0</td>\n",
       "    </tr>\n",
       "    <tr>\n",
       "      <th>9797</th>\n",
       "      <td>309076</td>\n",
       "      <td>2018-05-20</td>\n",
       "      <td>14.25</td>\n",
       "      <td>15.00</td>\n",
       "      <td>13.50</td>\n",
       "      <td>10.0</td>\n",
       "    </tr>\n",
       "  </tbody>\n",
       "</table>\n",
       "<p>174 rows × 6 columns</p>\n",
       "</div>"
      ],
      "text/plain": [
       "     RegistrationCode       date   mage  hmage  lmage    ge\n",
       "9624           309076 2017-02-09   0.00   0.00   0.00   0.0\n",
       "9625           309076 2017-02-10  22.00  23.00  21.00   5.0\n",
       "9626           309076 2017-02-11  18.67  20.67  16.67   6.0\n",
       "9627           309076 2017-02-12  22.00   0.00  44.00   2.0\n",
       "9628           309076 2017-02-13  22.00  19.00  25.00   5.0\n",
       "...               ...        ...    ...    ...    ...   ...\n",
       "9793           309076 2018-05-16  12.59  12.50  12.67   5.0\n",
       "9794           309076 2018-05-17  15.66  15.00  16.33   4.0\n",
       "9795           309076 2018-05-18   0.00   0.00   0.00   0.0\n",
       "9796           309076 2018-05-19  20.75  18.17  23.33   9.0\n",
       "9797           309076 2018-05-20  14.25  15.00  13.50  10.0\n",
       "\n",
       "[174 rows x 6 columns]"
      ]
     },
     "execution_count": 6,
     "metadata": {},
     "output_type": "execute_result"
    }
   ],
   "source": [
    "small_df = mage_df[mage_df['RegistrationCode'] == '309076']\n",
    "small_df"
   ]
  },
  {
   "cell_type": "code",
   "execution_count": 7,
   "metadata": {},
   "outputs": [
    {
     "data": {
      "text/plain": [
       "<matplotlib.axes._subplots.AxesSubplot at 0x2b29ad9e9290>"
      ]
     },
     "execution_count": 7,
     "metadata": {},
     "output_type": "execute_result"
    },
    {
     "data": {
      "image/png": "[encoded data removed]",
      "text/plain": [
       "<Figure size 432x288 with 1 Axes>"
      ]
     },
     "metadata": {
      "needs_background": "light"
     },
     "output_type": "display_data"
    }
   ],
   "source": [
    "small_df.mage.plot()"
   ]
  },
  {
   "cell_type": "code",
   "execution_count": 8,
   "metadata": {},
   "outputs": [],
   "source": [
    "alloc0_list = list(pnp3_df['RegistrationCode'][pnp3_df['alloc'] == 0])\n",
    "alloc1_list = list(pnp3_df['RegistrationCode'][pnp3_df['alloc'] == 1])"
   ]
  },
  {
   "cell_type": "code",
   "execution_count": 9,
   "metadata": {},
   "outputs": [],
   "source": [
    "mage_df_0 = mage_df[mage_df[\"RegistrationCode\"].isin(alloc0_list)]\n",
    "mage_df_1 = mage_df[mage_df[\"RegistrationCode\"].isin(alloc1_list)]"
   ]
  },
  {
   "cell_type": "code",
   "execution_count": 10,
   "metadata": {},
   "outputs": [
    {
     "data": {
      "text/plain": [
       "19.203805541561678"
      ]
     },
     "execution_count": 10,
     "metadata": {},
     "output_type": "execute_result"
    }
   ],
   "source": [
    "mage_df_0.mage.mean()"
   ]
  },
  {
   "cell_type": "code",
   "execution_count": 11,
   "metadata": {},
   "outputs": [
    {
     "data": {
      "text/plain": [
       "16.350436157975473"
      ]
     },
     "execution_count": 11,
     "metadata": {},
     "output_type": "execute_result"
    }
   ],
   "source": [
    "mage_df_1.mage.mean()"
   ]
  },
  {
   "cell_type": "code",
   "execution_count": 12,
   "metadata": {},
   "outputs": [],
   "source": [
    "T0_dict = dict(zip(pnp3_df.RegistrationCode, pnp3_df.T0))"
   ]
  },
  {
   "cell_type": "code",
   "execution_count": 13,
   "metadata": {
    "scrolled": false
   },
   "outputs": [
    {
     "name": "stderr",
     "output_type": "stream",
     "text": [
      "/home/elming/anaconda3/envs/mylabdata/lib/python3.7/site-packages/ipykernel_launcher.py:7: UserWarning: Boolean Series key will be reindexed to match DataFrame index.\n",
      "  import sys\n",
      "/home/elming/anaconda3/envs/mylabdata/lib/python3.7/site-packages/ipykernel_launcher.py:9: UserWarning: Boolean Series key will be reindexed to match DataFrame index.\n",
      "  if __name__ == '__main__':\n",
      "/home/elming/anaconda3/envs/mylabdata/lib/python3.7/site-packages/ipykernel_launcher.py:12: UserWarning: Boolean Series key will be reindexed to match DataFrame index.\n",
      "  if sys.path[0] == '':\n",
      "/home/elming/anaconda3/envs/mylabdata/lib/python3.7/site-packages/ipykernel_launcher.py:14: UserWarning: Boolean Series key will be reindexed to match DataFrame index.\n",
      "  \n"
     ]
    }
   ],
   "source": [
    "alloc1_beforeT0 = pd.DataFrame(columns=['RegistrationCode', 'date', 'mage', 'hmage', 'lmage', 'ge'])\n",
    "alloc1_afterT0 = pd.DataFrame(columns=['RegistrationCode', 'date', 'mage', 'hmage', 'lmage', 'ge'])\n",
    "alloc0_beforeT0 = pd.DataFrame(columns=['RegistrationCode', 'date', 'mage', 'hmage', 'lmage', 'ge'])\n",
    "alloc0_afterT0 = pd.DataFrame(columns=['RegistrationCode', 'date', 'mage', 'hmage', 'lmage', 'ge'])\n",
    "for rc in T0_dict.keys():\n",
    "    if rc in set(mage_df_1.RegistrationCode):\n",
    "        temp_before = mage_df_1[mage_df_1[\"RegistrationCode\"] == rc][mage_df_1['date'] <= T0_dict[rc]]\n",
    "        alloc1_beforeT0 = pd.concat([alloc1_beforeT0, temp_before], axis=0)\n",
    "        temp_after = mage_df_1[mage_df_1[\"RegistrationCode\"] == rc][mage_df_1['date'] > T0_dict[rc]]\n",
    "        alloc1_afterT0 = pd.concat([alloc1_afterT0, temp_after], axis=0)\n",
    "    else:\n",
    "        temp_before = mage_df_0[mage_df_0[\"RegistrationCode\"] == rc][mage_df_0['date'] <= T0_dict[rc]]\n",
    "        alloc0_beforeT0 = pd.concat([alloc0_beforeT0, temp_before], axis=0)\n",
    "        temp_after = mage_df_0[mage_df_0[\"RegistrationCode\"] == rc][mage_df_0['date'] > T0_dict[rc]]\n",
    "        alloc0_afterT0 = pd.concat([alloc0_afterT0, temp_after], axis=0)"
   ]
  },
  {
   "cell_type": "code",
   "execution_count": 14,
   "metadata": {},
   "outputs": [
    {
     "data": {
      "text/plain": [
       "220   2019-02-07\n",
       "Name: T0, dtype: datetime64[ns]"
      ]
     },
     "execution_count": 14,
     "metadata": {},
     "output_type": "execute_result"
    }
   ],
   "source": [
    "pnp3_df[pnp3_df.RegistrationCode == '997735'].T0"
   ]
  },
  {
   "cell_type": "code",
   "execution_count": 15,
   "metadata": {
    "scrolled": true
   },
   "outputs": [],
   "source": [
    "alloc1_beforeT0 = alloc1_beforeT0.sort_values([\"RegistrationCode\", \"date\"])\n",
    "alloc1_afterT0 = alloc1_afterT0.sort_values([\"RegistrationCode\", \"date\"])\n",
    "alloc0_beforeT0 = alloc0_beforeT0.sort_values([\"RegistrationCode\", \"date\"])\n",
    "alloc0_afterT0 = alloc0_afterT0.sort_values([\"RegistrationCode\", \"date\"])"
   ]
  },
  {
   "cell_type": "code",
   "execution_count": 16,
   "metadata": {
    "scrolled": true
   },
   "outputs": [],
   "source": [
    "before_1 = alloc1_beforeT0.groupby(\"RegistrationCode\").mean()"
   ]
  },
  {
   "cell_type": "code",
   "execution_count": 17,
   "metadata": {},
   "outputs": [
    {
     "data": {
      "text/plain": [
       "(119, 4)"
      ]
     },
     "execution_count": 17,
     "metadata": {},
     "output_type": "execute_result"
    }
   ],
   "source": [
    "before_1.shape"
   ]
  },
  {
   "cell_type": "code",
   "execution_count": 18,
   "metadata": {
    "scrolled": true
   },
   "outputs": [],
   "source": [
    "after_1 = alloc1_afterT0.groupby(\"RegistrationCode\").mean()"
   ]
  },
  {
   "cell_type": "code",
   "execution_count": 19,
   "metadata": {},
   "outputs": [
    {
     "data": {
      "text/plain": [
       "(116, 4)"
      ]
     },
     "execution_count": 19,
     "metadata": {},
     "output_type": "execute_result"
    }
   ],
   "source": [
    "after_1.shape"
   ]
  },
  {
   "cell_type": "code",
   "execution_count": 20,
   "metadata": {
    "scrolled": true
   },
   "outputs": [],
   "source": [
    "before_0 = alloc0_beforeT0.groupby(\"RegistrationCode\").mean()"
   ]
  },
  {
   "cell_type": "code",
   "execution_count": 21,
   "metadata": {},
   "outputs": [
    {
     "data": {
      "text/plain": [
       "(114, 4)"
      ]
     },
     "execution_count": 21,
     "metadata": {},
     "output_type": "execute_result"
    }
   ],
   "source": [
    "before_0.shape"
   ]
  },
  {
   "cell_type": "code",
   "execution_count": 22,
   "metadata": {},
   "outputs": [],
   "source": [
    "after_0 = alloc0_afterT0.groupby(\"RegistrationCode\").mean()"
   ]
  },
  {
   "cell_type": "code",
   "execution_count": 23,
   "metadata": {},
   "outputs": [
    {
     "data": {
      "text/plain": [
       "(114, 4)"
      ]
     },
     "execution_count": 23,
     "metadata": {},
     "output_type": "execute_result"
    }
   ],
   "source": [
    "after_0.shape"
   ]
  },
  {
   "cell_type": "code",
   "execution_count": 24,
   "metadata": {},
   "outputs": [],
   "source": [
    "alloc1_summary = before_1.join(after_1, lsuffix='_before', rsuffix='_after', how='inner')\n",
    "alloc0_summary = before_0.join(after_0, lsuffix='_before', rsuffix='_after', how='inner')"
   ]
  },
  {
   "cell_type": "code",
   "execution_count": 25,
   "metadata": {
    "scrolled": true
   },
   "outputs": [
    {
     "data": {
      "text/html": [
       "<div>\n",
       "<style scoped>\n",
       "    .dataframe tbody tr th:only-of-type {\n",
       "        vertical-align: middle;\n",
       "    }\n",
       "\n",
       "    .dataframe tbody tr th {\n",
       "        vertical-align: top;\n",
       "    }\n",
       "\n",
       "    .dataframe thead th {\n",
       "        text-align: right;\n",
       "    }\n",
       "</style>\n",
       "<table border=\"1\" class=\"dataframe\">\n",
       "  <thead>\n",
       "    <tr style=\"text-align: right;\">\n",
       "      <th></th>\n",
       "      <th>mage_before</th>\n",
       "      <th>hmage_before</th>\n",
       "      <th>lmage_before</th>\n",
       "      <th>ge_before</th>\n",
       "      <th>mage_after</th>\n",
       "      <th>hmage_after</th>\n",
       "      <th>lmage_after</th>\n",
       "      <th>ge_after</th>\n",
       "    </tr>\n",
       "    <tr>\n",
       "      <th>RegistrationCode</th>\n",
       "      <th></th>\n",
       "      <th></th>\n",
       "      <th></th>\n",
       "      <th></th>\n",
       "      <th></th>\n",
       "      <th></th>\n",
       "      <th></th>\n",
       "      <th></th>\n",
       "    </tr>\n",
       "  </thead>\n",
       "  <tbody>\n",
       "    <tr>\n",
       "      <th>111527</th>\n",
       "      <td>21.766429</td>\n",
       "      <td>17.560714</td>\n",
       "      <td>25.972143</td>\n",
       "      <td>5.642857</td>\n",
       "      <td>19.166150</td>\n",
       "      <td>18.244650</td>\n",
       "      <td>20.087250</td>\n",
       "      <td>6.315000</td>\n",
       "    </tr>\n",
       "    <tr>\n",
       "      <th>126092</th>\n",
       "      <td>14.904643</td>\n",
       "      <td>12.741071</td>\n",
       "      <td>17.070000</td>\n",
       "      <td>3.642857</td>\n",
       "      <td>14.365722</td>\n",
       "      <td>12.619111</td>\n",
       "      <td>16.112000</td>\n",
       "      <td>4.433333</td>\n",
       "    </tr>\n",
       "    <tr>\n",
       "      <th>12752</th>\n",
       "      <td>20.951111</td>\n",
       "      <td>19.000000</td>\n",
       "      <td>22.901481</td>\n",
       "      <td>2.185185</td>\n",
       "      <td>15.422941</td>\n",
       "      <td>11.807731</td>\n",
       "      <td>19.038403</td>\n",
       "      <td>3.235294</td>\n",
       "    </tr>\n",
       "    <tr>\n",
       "      <th>130279</th>\n",
       "      <td>19.775000</td>\n",
       "      <td>20.210000</td>\n",
       "      <td>19.340000</td>\n",
       "      <td>4.961538</td>\n",
       "      <td>14.844811</td>\n",
       "      <td>14.643459</td>\n",
       "      <td>15.045838</td>\n",
       "      <td>4.270270</td>\n",
       "    </tr>\n",
       "    <tr>\n",
       "      <th>132095</th>\n",
       "      <td>21.471154</td>\n",
       "      <td>19.958846</td>\n",
       "      <td>22.981154</td>\n",
       "      <td>6.000000</td>\n",
       "      <td>13.387869</td>\n",
       "      <td>12.831311</td>\n",
       "      <td>13.944426</td>\n",
       "      <td>5.579235</td>\n",
       "    </tr>\n",
       "    <tr>\n",
       "      <th>...</th>\n",
       "      <td>...</td>\n",
       "      <td>...</td>\n",
       "      <td>...</td>\n",
       "      <td>...</td>\n",
       "      <td>...</td>\n",
       "      <td>...</td>\n",
       "      <td>...</td>\n",
       "      <td>...</td>\n",
       "    </tr>\n",
       "    <tr>\n",
       "      <th>963150</th>\n",
       "      <td>11.751923</td>\n",
       "      <td>10.129615</td>\n",
       "      <td>13.373846</td>\n",
       "      <td>5.153846</td>\n",
       "      <td>12.754000</td>\n",
       "      <td>12.537692</td>\n",
       "      <td>12.970923</td>\n",
       "      <td>6.610256</td>\n",
       "    </tr>\n",
       "    <tr>\n",
       "      <th>970940</th>\n",
       "      <td>15.452500</td>\n",
       "      <td>13.759643</td>\n",
       "      <td>17.143929</td>\n",
       "      <td>6.178571</td>\n",
       "      <td>20.328125</td>\n",
       "      <td>20.156875</td>\n",
       "      <td>20.498125</td>\n",
       "      <td>5.250000</td>\n",
       "    </tr>\n",
       "    <tr>\n",
       "      <th>988899</th>\n",
       "      <td>18.772857</td>\n",
       "      <td>12.047143</td>\n",
       "      <td>25.500000</td>\n",
       "      <td>2.714286</td>\n",
       "      <td>14.584172</td>\n",
       "      <td>13.791126</td>\n",
       "      <td>15.376887</td>\n",
       "      <td>2.423841</td>\n",
       "    </tr>\n",
       "    <tr>\n",
       "      <th>997427</th>\n",
       "      <td>17.699286</td>\n",
       "      <td>18.154643</td>\n",
       "      <td>17.245357</td>\n",
       "      <td>8.607143</td>\n",
       "      <td>15.728391</td>\n",
       "      <td>15.341437</td>\n",
       "      <td>16.115575</td>\n",
       "      <td>6.459770</td>\n",
       "    </tr>\n",
       "    <tr>\n",
       "      <th>997735</th>\n",
       "      <td>15.572500</td>\n",
       "      <td>11.392857</td>\n",
       "      <td>19.751786</td>\n",
       "      <td>2.964286</td>\n",
       "      <td>11.931667</td>\n",
       "      <td>8.695494</td>\n",
       "      <td>15.167716</td>\n",
       "      <td>2.598765</td>\n",
       "    </tr>\n",
       "  </tbody>\n",
       "</table>\n",
       "<p>115 rows × 8 columns</p>\n",
       "</div>"
      ],
      "text/plain": [
       "                  mage_before  hmage_before  lmage_before  ge_before  \\\n",
       "RegistrationCode                                                       \n",
       "111527              21.766429     17.560714     25.972143   5.642857   \n",
       "126092              14.904643     12.741071     17.070000   3.642857   \n",
       "12752               20.951111     19.000000     22.901481   2.185185   \n",
       "130279              19.775000     20.210000     19.340000   4.961538   \n",
       "132095              21.471154     19.958846     22.981154   6.000000   \n",
       "...                       ...           ...           ...        ...   \n",
       "963150              11.751923     10.129615     13.373846   5.153846   \n",
       "970940              15.452500     13.759643     17.143929   6.178571   \n",
       "988899              18.772857     12.047143     25.500000   2.714286   \n",
       "997427              17.699286     18.154643     17.245357   8.607143   \n",
       "997735              15.572500     11.392857     19.751786   2.964286   \n",
       "\n",
       "                  mage_after  hmage_after  lmage_after  ge_after  \n",
       "RegistrationCode                                                  \n",
       "111527             19.166150    18.244650    20.087250  6.315000  \n",
       "126092             14.365722    12.619111    16.112000  4.433333  \n",
       "12752              15.422941    11.807731    19.038403  3.235294  \n",
       "130279             14.844811    14.643459    15.045838  4.270270  \n",
       "132095             13.387869    12.831311    13.944426  5.579235  \n",
       "...                      ...          ...          ...       ...  \n",
       "963150             12.754000    12.537692    12.970923  6.610256  \n",
       "970940             20.328125    20.156875    20.498125  5.250000  \n",
       "988899             14.584172    13.791126    15.376887  2.423841  \n",
       "997427             15.728391    15.341437    16.115575  6.459770  \n",
       "997735             11.931667     8.695494    15.167716  2.598765  \n",
       "\n",
       "[115 rows x 8 columns]"
      ]
     },
     "execution_count": 25,
     "metadata": {},
     "output_type": "execute_result"
    }
   ],
   "source": [
    "alloc1_summary"
   ]
  },
  {
   "cell_type": "code",
   "execution_count": 26,
   "metadata": {
    "scrolled": true
   },
   "outputs": [
    {
     "data": {
      "text/plain": [
       "array([ 2.60027857,  0.53892063,  5.52816993,  4.93018919,  8.08328499,\n",
       "        2.73746632,  9.76428571,  2.38898148,  1.61406518, -1.11396907,\n",
       "        0.62679914,  3.71363509, -2.07193054, -8.45073684, 12.51845714,\n",
       "        0.57540056,  2.72859023,  5.71882051,  5.83651961,  0.41196429,\n",
       "        0.99494652,  5.71067734,  0.19690199, -5.54733305,  0.42026591,\n",
       "        3.9699798 ,  4.87216931, -2.29715839,  9.04335484,  1.6101026 ,\n",
       "       -3.66212662,  2.11791408,  3.61062518,  4.44961058,  3.52832727,\n",
       "        7.51357143,  2.84356491,  5.50575655, -2.04327051,  6.63100962,\n",
       "       -5.06598684,  4.81647311,  4.62951351,  2.37374256,  3.09192708,\n",
       "       -0.27245122,  2.87567995, -1.28274444,  4.71081522,  2.63495924,\n",
       "        6.29662072,  6.32318182,  0.96723782,  0.24902564,  1.67923077,\n",
       "        2.8575976 , -0.19873974,  6.08976285,  4.79523539,  4.59952381,\n",
       "        2.90880952,  1.634375  ,  7.49094968,  0.6250463 , 12.56981298,\n",
       "        2.72308108,  4.66672857,  3.32320229,  2.83303211,  0.82938889,\n",
       "        6.09393939,  6.16627954,  2.76312883, -3.60672619,  4.64064935,\n",
       "        5.38248806,  4.35347727, -1.53037594,  1.93530909, -0.61402198,\n",
       "        6.45403013,  2.43770833,  3.67749084,  5.27323741,  0.45157477,\n",
       "        9.24917241, -3.63961905,  2.79085185,  2.64336276,  4.25675852,\n",
       "        6.49116498,  3.84762154,  3.48141914, -6.32173913,  6.34840022,\n",
       "        6.43095142,  4.17492556,  3.13059962,  7.22153678, 11.92502867,\n",
       "        5.44879388, -2.23705301, 11.90127364, -2.12794919,  3.86440668,\n",
       "       10.79350679,  8.19443206,  8.12274829,  3.05351852,  1.50793651,\n",
       "       -1.00207692, -4.875625  ,  4.18868496,  1.97089491,  3.64083333])"
      ]
     },
     "execution_count": 26,
     "metadata": {},
     "output_type": "execute_result"
    }
   ],
   "source": [
    "ser1 = np.array(alloc1_summary['mage_before'] - alloc1_summary['mage_after'])\n",
    "ser1"
   ]
  },
  {
   "cell_type": "code",
   "execution_count": 27,
   "metadata": {},
   "outputs": [
    {
     "data": {
      "text/plain": [
       "array([ 3.10781145e+00,  4.77000000e+00, -2.56980209e+00, -2.44435216e-01,\n",
       "       -1.76261905e-01,  6.79290123e+00,  6.87161804e-01, -2.71497523e+00,\n",
       "       -2.35058608e+00,  6.70285714e+00,  5.43680124e-01, -3.12255672e-01,\n",
       "       -5.83020833e+00,  2.27384771e+00, -1.52896296e+00, -4.36690537e+00,\n",
       "        9.34854839e+00, -2.17334249e+00,  1.06480573e+00,  1.52346154e+00,\n",
       "       -2.01843290e+00, -7.56644377e+00,  3.90313559e+00,  4.06596154e+00,\n",
       "        4.18496377e-01, -7.22147215e+00,  1.24275862e+00,  4.01650794e+00,\n",
       "       -5.78486772e+00, -1.17267150e+00,  6.30650183e+00,  6.26085165e+00,\n",
       "       -2.14185881e+00,  1.34012480e+00, -5.18365079e+00, -1.13401144e+00,\n",
       "       -1.23525820e+00,  6.54744292e+00,  1.98592992e+00,  2.39082744e+00,\n",
       "       -9.28890374e-01,  2.63356250e+00,  5.04367681e+00,  1.64832504e+00,\n",
       "       -1.86366624e+00,  2.14362637e+00,  2.54526678e+00, -1.66124767e+00,\n",
       "       -2.37184012e+00,  1.01188153e-01, -5.93300503e-01,  1.73116562e+01,\n",
       "       -4.06135187e+00,  2.53599114e-02, -2.86319613e-03,  2.02238426e+00,\n",
       "        3.73801429e+00,  6.68198052e+00, -6.68155440e-01, -6.18839885e-01,\n",
       "        5.68529412e+00, -1.28641148e+00,  3.37708244e+00,  5.50250000e+00,\n",
       "        2.69542788e+00,  1.04535714e+00,  1.96154705e+00,  6.59222333e+00,\n",
       "        2.86401203e+00, -5.38714286e-01, -1.99533654e-01,  5.33983607e+00,\n",
       "       -1.15998474e+00, -4.16694617e+00,  2.06216108e+00,  2.01652833e+00,\n",
       "        1.05064798e+00, -1.77616931e+00, -1.83044272e+00,  3.20537267e+00,\n",
       "        1.67812808e+00,  1.24135000e+00,  2.55198805e+00, -5.84712690e-01,\n",
       "        6.20901055e-01,  3.74662093e+00, -1.91647750e+00,  2.01048304e-01,\n",
       "        1.21574163e+00, -6.08521110e+00,  4.18886861e+00,  1.84276507e+00,\n",
       "       -2.71898391e+00,  1.20227964e-01,  6.05671698e+00, -1.50582583e-01,\n",
       "        9.60653707e+00, -4.68646724e-01, -6.22585859e-01, -2.16384146e+00,\n",
       "        5.25603680e+00,  4.11148148e+00,  1.25182025e+01,  3.60180000e+00,\n",
       "        5.94101276e-01,  1.21393593e+00, -3.22414966e+00,  5.55990783e-03,\n",
       "        7.04293828e+00,  6.94537879e+00,  4.37912775e+00])"
      ]
     },
     "execution_count": 27,
     "metadata": {},
     "output_type": "execute_result"
    }
   ],
   "source": [
    "ser0 = np.array(alloc0_summary['mage_before'] - alloc0_summary['mage_after'])\n",
    "ser0"
   ]
  },
  {
   "cell_type": "code",
   "execution_count": 28,
   "metadata": {},
   "outputs": [
    {
     "data": {
      "text/plain": [
       "3.115444020910943"
      ]
     },
     "execution_count": 28,
     "metadata": {},
     "output_type": "execute_result"
    }
   ],
   "source": [
    "ser1.mean()"
   ]
  },
  {
   "cell_type": "code",
   "execution_count": 29,
   "metadata": {},
   "outputs": [
    {
     "data": {
      "text/plain": [
       "1.296722066032692"
      ]
     },
     "execution_count": 29,
     "metadata": {},
     "output_type": "execute_result"
    }
   ],
   "source": [
    "ser0.mean()"
   ]
  },
  {
   "cell_type": "code",
   "execution_count": 30,
   "metadata": {},
   "outputs": [
    {
     "data": {
      "text/plain": [
       "3.887650386037685"
      ]
     },
     "execution_count": 30,
     "metadata": {},
     "output_type": "execute_result"
    }
   ],
   "source": [
    "ser1.std()"
   ]
  },
  {
   "cell_type": "code",
   "execution_count": 31,
   "metadata": {},
   "outputs": [
    {
     "data": {
      "text/plain": [
       "3.9193778076358923"
      ]
     },
     "execution_count": 31,
     "metadata": {},
     "output_type": "execute_result"
    }
   ],
   "source": [
    "ser0.std()"
   ]
  },
  {
   "cell_type": "code",
   "execution_count": 32,
   "metadata": {},
   "outputs": [],
   "source": [
    "from scipy import stats"
   ]
  },
  {
   "cell_type": "code",
   "execution_count": 33,
   "metadata": {},
   "outputs": [
    {
     "data": {
      "text/plain": [
       "Ttest_indResult(statistic=3.4862954612196617, pvalue=0.0005892293589279229)"
      ]
     },
     "execution_count": 33,
     "metadata": {},
     "output_type": "execute_result"
    }
   ],
   "source": [
    "stats.ttest_ind(ser1, ser0)"
   ]
  },
  {
   "cell_type": "code",
   "execution_count": 34,
   "metadata": {},
   "outputs": [],
   "source": [
    "alloc1_summary['alloc'] = 1"
   ]
  },
  {
   "cell_type": "code",
   "execution_count": 35,
   "metadata": {},
   "outputs": [],
   "source": [
    "alloc0_summary['alloc'] = 0"
   ]
  },
  {
   "cell_type": "code",
   "execution_count": 36,
   "metadata": {},
   "outputs": [
    {
     "data": {
      "text/html": [
       "<div>\n",
       "<style scoped>\n",
       "    .dataframe tbody tr th:only-of-type {\n",
       "        vertical-align: middle;\n",
       "    }\n",
       "\n",
       "    .dataframe tbody tr th {\n",
       "        vertical-align: top;\n",
       "    }\n",
       "\n",
       "    .dataframe thead th {\n",
       "        text-align: right;\n",
       "    }\n",
       "</style>\n",
       "<table border=\"1\" class=\"dataframe\">\n",
       "  <thead>\n",
       "    <tr style=\"text-align: right;\">\n",
       "      <th></th>\n",
       "      <th>mage_before</th>\n",
       "      <th>hmage_before</th>\n",
       "      <th>lmage_before</th>\n",
       "      <th>ge_before</th>\n",
       "      <th>mage_after</th>\n",
       "      <th>hmage_after</th>\n",
       "      <th>lmage_after</th>\n",
       "      <th>ge_after</th>\n",
       "      <th>alloc</th>\n",
       "    </tr>\n",
       "    <tr>\n",
       "      <th>RegistrationCode</th>\n",
       "      <th></th>\n",
       "      <th></th>\n",
       "      <th></th>\n",
       "      <th></th>\n",
       "      <th></th>\n",
       "      <th></th>\n",
       "      <th></th>\n",
       "      <th></th>\n",
       "      <th></th>\n",
       "    </tr>\n",
       "  </thead>\n",
       "  <tbody>\n",
       "    <tr>\n",
       "      <th>117111</th>\n",
       "      <td>20.681852</td>\n",
       "      <td>18.974444</td>\n",
       "      <td>22.390741</td>\n",
       "      <td>5.592593</td>\n",
       "      <td>17.574040</td>\n",
       "      <td>15.487576</td>\n",
       "      <td>19.660101</td>\n",
       "      <td>4.212121</td>\n",
       "      <td>0</td>\n",
       "    </tr>\n",
       "    <tr>\n",
       "      <th>128811</th>\n",
       "      <td>21.885000</td>\n",
       "      <td>19.616875</td>\n",
       "      <td>24.153125</td>\n",
       "      <td>6.500000</td>\n",
       "      <td>17.115000</td>\n",
       "      <td>15.751818</td>\n",
       "      <td>18.477273</td>\n",
       "      <td>5.181818</td>\n",
       "      <td>0</td>\n",
       "    </tr>\n",
       "    <tr>\n",
       "      <th>132178</th>\n",
       "      <td>24.814615</td>\n",
       "      <td>16.038462</td>\n",
       "      <td>33.590769</td>\n",
       "      <td>4.384615</td>\n",
       "      <td>27.384417</td>\n",
       "      <td>21.653738</td>\n",
       "      <td>33.115680</td>\n",
       "      <td>5.077670</td>\n",
       "      <td>0</td>\n",
       "    </tr>\n",
       "    <tr>\n",
       "      <th>140050</th>\n",
       "      <td>16.339286</td>\n",
       "      <td>16.422857</td>\n",
       "      <td>16.253571</td>\n",
       "      <td>6.285714</td>\n",
       "      <td>16.583721</td>\n",
       "      <td>16.746744</td>\n",
       "      <td>16.420543</td>\n",
       "      <td>8.410853</td>\n",
       "      <td>0</td>\n",
       "    </tr>\n",
       "    <tr>\n",
       "      <th>148574</th>\n",
       "      <td>18.113143</td>\n",
       "      <td>13.257143</td>\n",
       "      <td>22.969143</td>\n",
       "      <td>2.428571</td>\n",
       "      <td>18.289405</td>\n",
       "      <td>14.744583</td>\n",
       "      <td>21.834464</td>\n",
       "      <td>2.660714</td>\n",
       "      <td>0</td>\n",
       "    </tr>\n",
       "    <tr>\n",
       "      <th>...</th>\n",
       "      <td>...</td>\n",
       "      <td>...</td>\n",
       "      <td>...</td>\n",
       "      <td>...</td>\n",
       "      <td>...</td>\n",
       "      <td>...</td>\n",
       "      <td>...</td>\n",
       "      <td>...</td>\n",
       "      <td>...</td>\n",
       "    </tr>\n",
       "    <tr>\n",
       "      <th>963150</th>\n",
       "      <td>11.751923</td>\n",
       "      <td>10.129615</td>\n",
       "      <td>13.373846</td>\n",
       "      <td>5.153846</td>\n",
       "      <td>12.754000</td>\n",
       "      <td>12.537692</td>\n",
       "      <td>12.970923</td>\n",
       "      <td>6.610256</td>\n",
       "      <td>1</td>\n",
       "    </tr>\n",
       "    <tr>\n",
       "      <th>970940</th>\n",
       "      <td>15.452500</td>\n",
       "      <td>13.759643</td>\n",
       "      <td>17.143929</td>\n",
       "      <td>6.178571</td>\n",
       "      <td>20.328125</td>\n",
       "      <td>20.156875</td>\n",
       "      <td>20.498125</td>\n",
       "      <td>5.250000</td>\n",
       "      <td>1</td>\n",
       "    </tr>\n",
       "    <tr>\n",
       "      <th>988899</th>\n",
       "      <td>18.772857</td>\n",
       "      <td>12.047143</td>\n",
       "      <td>25.500000</td>\n",
       "      <td>2.714286</td>\n",
       "      <td>14.584172</td>\n",
       "      <td>13.791126</td>\n",
       "      <td>15.376887</td>\n",
       "      <td>2.423841</td>\n",
       "      <td>1</td>\n",
       "    </tr>\n",
       "    <tr>\n",
       "      <th>997427</th>\n",
       "      <td>17.699286</td>\n",
       "      <td>18.154643</td>\n",
       "      <td>17.245357</td>\n",
       "      <td>8.607143</td>\n",
       "      <td>15.728391</td>\n",
       "      <td>15.341437</td>\n",
       "      <td>16.115575</td>\n",
       "      <td>6.459770</td>\n",
       "      <td>1</td>\n",
       "    </tr>\n",
       "    <tr>\n",
       "      <th>997735</th>\n",
       "      <td>15.572500</td>\n",
       "      <td>11.392857</td>\n",
       "      <td>19.751786</td>\n",
       "      <td>2.964286</td>\n",
       "      <td>11.931667</td>\n",
       "      <td>8.695494</td>\n",
       "      <td>15.167716</td>\n",
       "      <td>2.598765</td>\n",
       "      <td>1</td>\n",
       "    </tr>\n",
       "  </tbody>\n",
       "</table>\n",
       "<p>226 rows × 9 columns</p>\n",
       "</div>"
      ],
      "text/plain": [
       "                  mage_before  hmage_before  lmage_before  ge_before  \\\n",
       "RegistrationCode                                                       \n",
       "117111              20.681852     18.974444     22.390741   5.592593   \n",
       "128811              21.885000     19.616875     24.153125   6.500000   \n",
       "132178              24.814615     16.038462     33.590769   4.384615   \n",
       "140050              16.339286     16.422857     16.253571   6.285714   \n",
       "148574              18.113143     13.257143     22.969143   2.428571   \n",
       "...                       ...           ...           ...        ...   \n",
       "963150              11.751923     10.129615     13.373846   5.153846   \n",
       "970940              15.452500     13.759643     17.143929   6.178571   \n",
       "988899              18.772857     12.047143     25.500000   2.714286   \n",
       "997427              17.699286     18.154643     17.245357   8.607143   \n",
       "997735              15.572500     11.392857     19.751786   2.964286   \n",
       "\n",
       "                  mage_after  hmage_after  lmage_after  ge_after  alloc  \n",
       "RegistrationCode                                                         \n",
       "117111             17.574040    15.487576    19.660101  4.212121      0  \n",
       "128811             17.115000    15.751818    18.477273  5.181818      0  \n",
       "132178             27.384417    21.653738    33.115680  5.077670      0  \n",
       "140050             16.583721    16.746744    16.420543  8.410853      0  \n",
       "148574             18.289405    14.744583    21.834464  2.660714      0  \n",
       "...                      ...          ...          ...       ...    ...  \n",
       "963150             12.754000    12.537692    12.970923  6.610256      1  \n",
       "970940             20.328125    20.156875    20.498125  5.250000      1  \n",
       "988899             14.584172    13.791126    15.376887  2.423841      1  \n",
       "997427             15.728391    15.341437    16.115575  6.459770      1  \n",
       "997735             11.931667     8.695494    15.167716  2.598765      1  \n",
       "\n",
       "[226 rows x 9 columns]"
      ]
     },
     "execution_count": 36,
     "metadata": {},
     "output_type": "execute_result"
    }
   ],
   "source": [
    "mean_mage_per_person = pd.concat([alloc0_summary,alloc1_summary], axis=0)\n",
    "mean_mage_per_person"
   ]
  },
  {
   "cell_type": "code",
   "execution_count": 37,
   "metadata": {},
   "outputs": [],
   "source": [
    "mean_mage_per_person.to_csv('/home/elming/Cache/LabData/mean_mage_per_person.csv')"
   ]
  },
  {
   "cell_type": "code",
   "execution_count": 38,
   "metadata": {},
   "outputs": [],
   "source": [
    "alloc1_beforeT0['alloc'] = 1\n",
    "alloc1_beforeT0['before_T0'] = 1"
   ]
  },
  {
   "cell_type": "code",
   "execution_count": 39,
   "metadata": {},
   "outputs": [],
   "source": [
    "alloc1_afterT0['alloc'] = 1\n",
    "alloc1_afterT0['before_T0'] = 0"
   ]
  },
  {
   "cell_type": "code",
   "execution_count": 40,
   "metadata": {},
   "outputs": [],
   "source": [
    "alloc0_beforeT0['alloc'] = 0\n",
    "alloc0_beforeT0['before_T0'] = 1"
   ]
  },
  {
   "cell_type": "code",
   "execution_count": 41,
   "metadata": {},
   "outputs": [],
   "source": [
    "alloc0_afterT0['alloc'] = 0\n",
    "alloc0_afterT0['before_T0'] = 0"
   ]
  },
  {
   "cell_type": "code",
   "execution_count": 42,
   "metadata": {},
   "outputs": [
    {
     "data": {
      "text/html": [
       "<div>\n",
       "<style scoped>\n",
       "    .dataframe tbody tr th:only-of-type {\n",
       "        vertical-align: middle;\n",
       "    }\n",
       "\n",
       "    .dataframe tbody tr th {\n",
       "        vertical-align: top;\n",
       "    }\n",
       "\n",
       "    .dataframe thead th {\n",
       "        text-align: right;\n",
       "    }\n",
       "</style>\n",
       "<table border=\"1\" class=\"dataframe\">\n",
       "  <thead>\n",
       "    <tr style=\"text-align: right;\">\n",
       "      <th></th>\n",
       "      <th>RegistrationCode</th>\n",
       "      <th>date</th>\n",
       "      <th>mage</th>\n",
       "      <th>hmage</th>\n",
       "      <th>lmage</th>\n",
       "      <th>ge</th>\n",
       "      <th>alloc</th>\n",
       "      <th>before_T0</th>\n",
       "    </tr>\n",
       "  </thead>\n",
       "  <tbody>\n",
       "    <tr>\n",
       "      <th>241</th>\n",
       "      <td>117111</td>\n",
       "      <td>2018-05-28</td>\n",
       "      <td>23.25</td>\n",
       "      <td>20.00</td>\n",
       "      <td>26.50</td>\n",
       "      <td>4.0</td>\n",
       "      <td>0</td>\n",
       "      <td>0</td>\n",
       "    </tr>\n",
       "    <tr>\n",
       "      <th>242</th>\n",
       "      <td>117111</td>\n",
       "      <td>2018-05-29</td>\n",
       "      <td>29.17</td>\n",
       "      <td>32.67</td>\n",
       "      <td>25.67</td>\n",
       "      <td>6.0</td>\n",
       "      <td>0</td>\n",
       "      <td>0</td>\n",
       "    </tr>\n",
       "    <tr>\n",
       "      <th>243</th>\n",
       "      <td>117111</td>\n",
       "      <td>2018-05-30</td>\n",
       "      <td>23.29</td>\n",
       "      <td>23.33</td>\n",
       "      <td>23.25</td>\n",
       "      <td>7.0</td>\n",
       "      <td>0</td>\n",
       "      <td>0</td>\n",
       "    </tr>\n",
       "    <tr>\n",
       "      <th>244</th>\n",
       "      <td>117111</td>\n",
       "      <td>2018-05-31</td>\n",
       "      <td>20.16</td>\n",
       "      <td>19.33</td>\n",
       "      <td>21.00</td>\n",
       "      <td>4.0</td>\n",
       "      <td>0</td>\n",
       "      <td>0</td>\n",
       "    </tr>\n",
       "    <tr>\n",
       "      <th>245</th>\n",
       "      <td>117111</td>\n",
       "      <td>2018-06-01</td>\n",
       "      <td>24.09</td>\n",
       "      <td>27.50</td>\n",
       "      <td>20.67</td>\n",
       "      <td>5.0</td>\n",
       "      <td>0</td>\n",
       "      <td>0</td>\n",
       "    </tr>\n",
       "    <tr>\n",
       "      <th>...</th>\n",
       "      <td>...</td>\n",
       "      <td>...</td>\n",
       "      <td>...</td>\n",
       "      <td>...</td>\n",
       "      <td>...</td>\n",
       "      <td>...</td>\n",
       "      <td>...</td>\n",
       "      <td>...</td>\n",
       "    </tr>\n",
       "    <tr>\n",
       "      <th>43394</th>\n",
       "      <td>992638</td>\n",
       "      <td>2018-07-27</td>\n",
       "      <td>15.50</td>\n",
       "      <td>0.00</td>\n",
       "      <td>31.00</td>\n",
       "      <td>3.0</td>\n",
       "      <td>0</td>\n",
       "      <td>0</td>\n",
       "    </tr>\n",
       "    <tr>\n",
       "      <th>43395</th>\n",
       "      <td>992638</td>\n",
       "      <td>2018-07-28</td>\n",
       "      <td>18.25</td>\n",
       "      <td>17.00</td>\n",
       "      <td>19.50</td>\n",
       "      <td>5.0</td>\n",
       "      <td>0</td>\n",
       "      <td>0</td>\n",
       "    </tr>\n",
       "    <tr>\n",
       "      <th>43396</th>\n",
       "      <td>992638</td>\n",
       "      <td>2018-07-29</td>\n",
       "      <td>35.00</td>\n",
       "      <td>32.50</td>\n",
       "      <td>37.50</td>\n",
       "      <td>4.0</td>\n",
       "      <td>0</td>\n",
       "      <td>0</td>\n",
       "    </tr>\n",
       "    <tr>\n",
       "      <th>43397</th>\n",
       "      <td>992638</td>\n",
       "      <td>2018-07-30</td>\n",
       "      <td>32.16</td>\n",
       "      <td>31.00</td>\n",
       "      <td>33.33</td>\n",
       "      <td>4.0</td>\n",
       "      <td>0</td>\n",
       "      <td>0</td>\n",
       "    </tr>\n",
       "    <tr>\n",
       "      <th>43398</th>\n",
       "      <td>992638</td>\n",
       "      <td>2018-07-31</td>\n",
       "      <td>0.00</td>\n",
       "      <td>0.00</td>\n",
       "      <td>0.00</td>\n",
       "      <td>0.0</td>\n",
       "      <td>0</td>\n",
       "      <td>0</td>\n",
       "    </tr>\n",
       "  </tbody>\n",
       "</table>\n",
       "<p>17711 rows × 8 columns</p>\n",
       "</div>"
      ],
      "text/plain": [
       "      RegistrationCode       date   mage  hmage  lmage   ge  alloc  before_T0\n",
       "241             117111 2018-05-28  23.25  20.00  26.50  4.0      0          0\n",
       "242             117111 2018-05-29  29.17  32.67  25.67  6.0      0          0\n",
       "243             117111 2018-05-30  23.29  23.33  23.25  7.0      0          0\n",
       "244             117111 2018-05-31  20.16  19.33  21.00  4.0      0          0\n",
       "245             117111 2018-06-01  24.09  27.50  20.67  5.0      0          0\n",
       "...                ...        ...    ...    ...    ...  ...    ...        ...\n",
       "43394           992638 2018-07-27  15.50   0.00  31.00  3.0      0          0\n",
       "43395           992638 2018-07-28  18.25  17.00  19.50  5.0      0          0\n",
       "43396           992638 2018-07-29  35.00  32.50  37.50  4.0      0          0\n",
       "43397           992638 2018-07-30  32.16  31.00  33.33  4.0      0          0\n",
       "43398           992638 2018-07-31   0.00   0.00   0.00  0.0      0          0\n",
       "\n",
       "[17711 rows x 8 columns]"
      ]
     },
     "execution_count": 42,
     "metadata": {},
     "output_type": "execute_result"
    }
   ],
   "source": [
    "alloc0_afterT0"
   ]
  },
  {
   "cell_type": "code",
   "execution_count": 43,
   "metadata": {},
   "outputs": [],
   "source": [
    "pd.concat([alloc0_beforeT0, alloc0_afterT0, alloc1_beforeT0, alloc1_afterT0], axis=0).to_csv('/home/elming/Cache/LabData/mage_per_day.csv')"
   ]
  },
  {
   "cell_type": "code",
   "execution_count": null,
   "metadata": {},
   "outputs": [],
   "source": []
  },
  {
   "cell_type": "code",
   "execution_count": null,
   "metadata": {},
   "outputs": [],
   "source": []
  }
 ],
 "metadata": {
  "kernelspec": {
   "display_name": "Python 3",
   "language": "python",
   "name": "python3"
  },
  "language_info": {
   "codemirror_mode": {
    "name": "ipython",
    "version": 3
   },
   "file_extension": ".py",
   "mimetype": "text/x-python",
   "name": "python",
   "nbconvert_exporter": "python",
   "pygments_lexer": "ipython3",
   "version": "3.7.5"
  }
 },
 "nbformat": 4,
 "nbformat_minor": 2
}
