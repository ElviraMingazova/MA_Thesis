{
 "cells": [
  {
   "cell_type": "markdown",
   "metadata": {},
   "source": [
    "# Personalized correlations PNP3\n",
    "\n",
    " *Wake up glucose vs diet the day before*"
   ]
  },
  {
   "cell_type": "markdown",
   "metadata": {},
   "source": [
    "The idea is that wakeup glucose is not the same on different days for the same person. I want to understand if it is due to the dietal behavior the day before. Also I want to see if associations between the food in the previous day and the wakeup glucose are different for different people. PNP3 cohort is suitable for this purpose because each person had more than 100 days of CGM connections."
   ]
  },
  {
   "cell_type": "markdown",
   "metadata": {},
   "source": [
    "I have to start with computing the wakeup glucose for all the people and each day. The method is to use the time between 6 and 7 unless a person logged the food at this time. Also I have to filter out days and people who logged any food after midnight."
   ]
  },
  {
   "cell_type": "code",
   "execution_count": 1,
   "metadata": {
    "ExecuteTime": {
     "end_time": "2020-02-13T11:00:29.951057Z",
     "start_time": "2020-02-13T11:00:29.719006Z"
    }
   },
   "outputs": [],
   "source": [
    "import pandas as pd\n",
    "from LabData.DataLoaders.CGMLoader import CGMLoader\n",
    "from LabData.DataLoaders.DietLoggingLoader import DietLoggingLoader\n",
    "import datetime\n",
    "%matplotlib inline\n",
    "cgml = CGMLoader()\n",
    "dll = DietLoggingLoader()"
   ]
  },
  {
   "cell_type": "code",
   "execution_count": 121,
   "metadata": {
    "ExecuteTime": {
     "end_time": "2020-02-13T14:40:58.869858Z",
     "start_time": "2020-02-13T14:40:58.865322Z"
    }
   },
   "outputs": [],
   "source": [
    "import matplotlib.pyplot as plt\n",
    "import matplotlib\n",
    "matplotlib.style.use('ggplot')"
   ]
  },
  {
   "cell_type": "code",
   "execution_count": 212,
   "metadata": {
    "ExecuteTime": {
     "end_time": "2020-02-16T15:00:49.426642Z",
     "start_time": "2020-02-16T15:00:48.668814Z"
    }
   },
   "outputs": [],
   "source": [
    "import seaborn as sb"
   ]
  },
  {
   "cell_type": "markdown",
   "metadata": {},
   "source": [
    "## Calculating wakeup glucose"
   ]
  },
  {
   "cell_type": "code",
   "execution_count": 5,
   "metadata": {
    "ExecuteTime": {
     "end_time": "2020-02-13T11:10:08.578363Z",
     "start_time": "2020-02-13T11:08:29.392130Z"
    }
   },
   "outputs": [],
   "source": [
    "cgmdf = cgml.get_data(study_ids=[3,49]).df\n",
    "cgmdf = cgml._remove_first_day_of_connections(cgmdf)"
   ]
  },
  {
   "cell_type": "code",
   "execution_count": 6,
   "metadata": {
    "ExecuteTime": {
     "end_time": "2020-02-13T11:10:10.044853Z",
     "start_time": "2020-02-13T11:10:09.051840Z"
    }
   },
   "outputs": [],
   "source": [
    "cgmdf = cgmdf.reset_index()\n",
    "cgmdf['hour'] = cgmdf.Date.dt.hour\n",
    "cgmdf = cgmdf.set_index('Date')\n",
    "cgmdf.index = cgmdf.index.tz_localize(None)"
   ]
  },
  {
   "cell_type": "code",
   "execution_count": 7,
   "metadata": {
    "ExecuteTime": {
     "end_time": "2020-02-13T11:10:19.225013Z",
     "start_time": "2020-02-13T11:10:19.057373Z"
    }
   },
   "outputs": [
    {
     "data": {
      "text/plain": [
       "263"
      ]
     },
     "execution_count": 7,
     "metadata": {},
     "output_type": "execute_result"
    }
   ],
   "source": [
    "cgmdf['RegistrationCode'].nunique()"
   ]
  },
  {
   "cell_type": "code",
   "execution_count": 3,
   "metadata": {
    "ExecuteTime": {
     "end_time": "2020-02-13T11:03:42.146683Z",
     "start_time": "2020-02-13T11:02:34.387252Z"
    }
   },
   "outputs": [],
   "source": [
    "adj_gluc = pd.read_json('/home/elming/Cache/adj_gl.json')\n",
    "adj_gluc['ConnectionID'] = adj_gluc['ConnectionID'].astype(str)\n",
    "adj_gluc['GlucoseTimestamp'] = pd.to_datetime(adj_gluc['GlucoseTimestamp'])\n",
    "adj_gluc = adj_gluc.rename(columns={'GlucoseTimestamp':'Date'})"
   ]
  },
  {
   "cell_type": "code",
   "execution_count": 8,
   "metadata": {
    "ExecuteTime": {
     "end_time": "2020-02-13T11:11:22.767167Z",
     "start_time": "2020-02-13T11:11:12.164242Z"
    }
   },
   "outputs": [],
   "source": [
    "adj_gluc = adj_gluc.set_index(['ConnectionID', 'Date'])\n",
    "cgm_adj = pd.merge(cgmdf, adj_gluc['GlucoseAdj50N13_Mm'], on=['ConnectionID', 'Date'])\n",
    "cgm_adj = cgm_adj.rename(columns={'GlucoseAdj50N13_Mm':'GlucoseAdj'})"
   ]
  },
  {
   "cell_type": "code",
   "execution_count": 10,
   "metadata": {
    "ExecuteTime": {
     "end_time": "2020-02-13T11:12:01.209566Z",
     "start_time": "2020-02-13T11:12:01.062567Z"
    }
   },
   "outputs": [
    {
     "data": {
      "text/plain": [
       "219"
      ]
     },
     "execution_count": 10,
     "metadata": {},
     "output_type": "execute_result"
    }
   ],
   "source": [
    "cgm_adj['RegistrationCode'].nunique()"
   ]
  },
  {
   "cell_type": "code",
   "execution_count": 11,
   "metadata": {
    "ExecuteTime": {
     "end_time": "2020-02-13T11:13:57.400675Z",
     "start_time": "2020-02-13T11:13:53.130445Z"
    }
   },
   "outputs": [],
   "source": [
    "log = dll.get_data(study_ids=[3,49]).df"
   ]
  },
  {
   "cell_type": "code",
   "execution_count": 12,
   "metadata": {
    "ExecuteTime": {
     "end_time": "2020-02-13T11:34:15.688229Z",
     "start_time": "2020-02-13T11:34:15.573626Z"
    }
   },
   "outputs": [],
   "source": [
    "logdf = dll.add_nutrients(log, ['energy_kcal'])"
   ]
  },
  {
   "cell_type": "code",
   "execution_count": 13,
   "metadata": {
    "ExecuteTime": {
     "end_time": "2020-02-13T11:34:33.982902Z",
     "start_time": "2020-02-13T11:34:33.171342Z"
    }
   },
   "outputs": [],
   "source": [
    "logdf = dll.squeeze_log(logdf)"
   ]
  },
  {
   "cell_type": "code",
   "execution_count": 14,
   "metadata": {
    "ExecuteTime": {
     "end_time": "2020-02-13T11:34:38.487026Z",
     "start_time": "2020-02-13T11:34:38.345264Z"
    }
   },
   "outputs": [],
   "source": [
    "logdf = logdf.reset_index()\n",
    "logdf['Day'] = logdf['Date'].dt.date"
   ]
  },
  {
   "cell_type": "code",
   "execution_count": 15,
   "metadata": {
    "ExecuteTime": {
     "end_time": "2020-02-13T11:34:56.661696Z",
     "start_time": "2020-02-13T11:34:56.596686Z"
    }
   },
   "outputs": [],
   "source": [
    "logdf = logdf[logdf['energy_kcal'] != 0]"
   ]
  },
  {
   "cell_type": "code",
   "execution_count": 16,
   "metadata": {
    "ExecuteTime": {
     "end_time": "2020-02-13T11:35:19.645030Z",
     "start_time": "2020-02-13T11:35:19.619369Z"
    }
   },
   "outputs": [
    {
     "data": {
      "text/html": [
       "<div>\n",
       "<style scoped>\n",
       "    .dataframe tbody tr th:only-of-type {\n",
       "        vertical-align: middle;\n",
       "    }\n",
       "\n",
       "    .dataframe tbody tr th {\n",
       "        vertical-align: top;\n",
       "    }\n",
       "\n",
       "    .dataframe thead th {\n",
       "        text-align: right;\n",
       "    }\n",
       "</style>\n",
       "<table border=\"1\" class=\"dataframe\">\n",
       "  <thead>\n",
       "    <tr style=\"text-align: right;\">\n",
       "      <th></th>\n",
       "      <th>RegistrationCode</th>\n",
       "      <th>Date</th>\n",
       "      <th>energy_kcal</th>\n",
       "      <th>weight</th>\n",
       "      <th>meal_type</th>\n",
       "      <th>Day</th>\n",
       "    </tr>\n",
       "  </thead>\n",
       "  <tbody>\n",
       "    <tr>\n",
       "      <th>0</th>\n",
       "      <td>111527</td>\n",
       "      <td>2017-10-06 09:46:44+03:00</td>\n",
       "      <td>2.500000</td>\n",
       "      <td>490.000000</td>\n",
       "      <td>Beverage</td>\n",
       "      <td>2017-10-06</td>\n",
       "    </tr>\n",
       "    <tr>\n",
       "      <th>1</th>\n",
       "      <td>111527</td>\n",
       "      <td>2017-10-06 11:48:01+03:00</td>\n",
       "      <td>147.000000</td>\n",
       "      <td>560.000000</td>\n",
       "      <td>Meal</td>\n",
       "      <td>2017-10-06</td>\n",
       "    </tr>\n",
       "    <tr>\n",
       "      <th>2</th>\n",
       "      <td>111527</td>\n",
       "      <td>2017-10-06 11:53:29+03:00</td>\n",
       "      <td>78.057000</td>\n",
       "      <td>210.000000</td>\n",
       "      <td>Beverage</td>\n",
       "      <td>2017-10-06</td>\n",
       "    </tr>\n",
       "    <tr>\n",
       "      <th>5</th>\n",
       "      <td>111527</td>\n",
       "      <td>2017-10-06 14:25:24+03:00</td>\n",
       "      <td>740.724492</td>\n",
       "      <td>605.200001</td>\n",
       "      <td>Meal</td>\n",
       "      <td>2017-10-06</td>\n",
       "    </tr>\n",
       "    <tr>\n",
       "      <th>7</th>\n",
       "      <td>111527</td>\n",
       "      <td>2017-10-06 17:11:29+03:00</td>\n",
       "      <td>136.500000</td>\n",
       "      <td>296.000000</td>\n",
       "      <td>Snack</td>\n",
       "      <td>2017-10-06</td>\n",
       "    </tr>\n",
       "  </tbody>\n",
       "</table>\n",
       "</div>"
      ],
      "text/plain": [
       "  RegistrationCode                      Date  ...  meal_type         Day\n",
       "0           111527 2017-10-06 09:46:44+03:00  ...   Beverage  2017-10-06\n",
       "1           111527 2017-10-06 11:48:01+03:00  ...       Meal  2017-10-06\n",
       "2           111527 2017-10-06 11:53:29+03:00  ...   Beverage  2017-10-06\n",
       "5           111527 2017-10-06 14:25:24+03:00  ...       Meal  2017-10-06\n",
       "7           111527 2017-10-06 17:11:29+03:00  ...      Snack  2017-10-06\n",
       "\n",
       "[5 rows x 6 columns]"
      ]
     },
     "execution_count": 16,
     "metadata": {},
     "output_type": "execute_result"
    }
   ],
   "source": [
    "logdf.head()"
   ]
  },
  {
   "cell_type": "code",
   "execution_count": 53,
   "metadata": {
    "ExecuteTime": {
     "end_time": "2020-02-13T12:54:15.689527Z",
     "start_time": "2020-02-13T12:54:15.590655Z"
    },
    "scrolled": true
   },
   "outputs": [
    {
     "data": {
      "text/html": [
       "<div>\n",
       "<style scoped>\n",
       "    .dataframe tbody tr th:only-of-type {\n",
       "        vertical-align: middle;\n",
       "    }\n",
       "\n",
       "    .dataframe tbody tr th {\n",
       "        vertical-align: top;\n",
       "    }\n",
       "\n",
       "    .dataframe thead th {\n",
       "        text-align: right;\n",
       "    }\n",
       "</style>\n",
       "<table border=\"1\" class=\"dataframe\">\n",
       "  <thead>\n",
       "    <tr style=\"text-align: right;\">\n",
       "      <th></th>\n",
       "      <th></th>\n",
       "      <th>breakfast_ts</th>\n",
       "    </tr>\n",
       "    <tr>\n",
       "      <th>RegistrationCode</th>\n",
       "      <th>Day</th>\n",
       "      <th></th>\n",
       "    </tr>\n",
       "  </thead>\n",
       "  <tbody>\n",
       "    <tr>\n",
       "      <th rowspan=\"5\" valign=\"top\">111527</th>\n",
       "      <th>2017-10-06</th>\n",
       "      <td>2017-10-06 09:46:44+03:00</td>\n",
       "    </tr>\n",
       "    <tr>\n",
       "      <th>2017-10-07</th>\n",
       "      <td>2017-10-07 09:34:22+03:00</td>\n",
       "    </tr>\n",
       "    <tr>\n",
       "      <th>2017-10-08</th>\n",
       "      <td>2017-10-08 08:56:41+03:00</td>\n",
       "    </tr>\n",
       "    <tr>\n",
       "      <th>2017-10-09</th>\n",
       "      <td>2017-10-09 01:02:14+03:00</td>\n",
       "    </tr>\n",
       "    <tr>\n",
       "      <th>2017-10-14</th>\n",
       "      <td>2017-10-14 09:03:31+03:00</td>\n",
       "    </tr>\n",
       "    <tr>\n",
       "      <th>...</th>\n",
       "      <th>...</th>\n",
       "      <td>...</td>\n",
       "    </tr>\n",
       "    <tr>\n",
       "      <th rowspan=\"5\" valign=\"top\">997735</th>\n",
       "      <th>2019-10-28</th>\n",
       "      <td>2019-10-28 08:29:46.061000+02:00</td>\n",
       "    </tr>\n",
       "    <tr>\n",
       "      <th>2019-10-29</th>\n",
       "      <td>2019-10-29 07:30:22.533000+02:00</td>\n",
       "    </tr>\n",
       "    <tr>\n",
       "      <th>2019-10-30</th>\n",
       "      <td>2019-10-30 08:00:24.974000+02:00</td>\n",
       "    </tr>\n",
       "    <tr>\n",
       "      <th>2019-11-02</th>\n",
       "      <td>2019-11-02 08:00:34.291000+02:00</td>\n",
       "    </tr>\n",
       "    <tr>\n",
       "      <th>2019-11-03</th>\n",
       "      <td>2019-11-03 06:00:31.647000+02:00</td>\n",
       "    </tr>\n",
       "  </tbody>\n",
       "</table>\n",
       "<p>50492 rows × 1 columns</p>\n",
       "</div>"
      ],
      "text/plain": [
       "                                                breakfast_ts\n",
       "RegistrationCode Day                                        \n",
       "111527           2017-10-06        2017-10-06 09:46:44+03:00\n",
       "                 2017-10-07        2017-10-07 09:34:22+03:00\n",
       "                 2017-10-08        2017-10-08 08:56:41+03:00\n",
       "                 2017-10-09        2017-10-09 01:02:14+03:00\n",
       "                 2017-10-14        2017-10-14 09:03:31+03:00\n",
       "...                                                      ...\n",
       "997735           2019-10-28 2019-10-28 08:29:46.061000+02:00\n",
       "                 2019-10-29 2019-10-29 07:30:22.533000+02:00\n",
       "                 2019-10-30 2019-10-30 08:00:24.974000+02:00\n",
       "                 2019-11-02 2019-11-02 08:00:34.291000+02:00\n",
       "                 2019-11-03 2019-11-03 06:00:31.647000+02:00\n",
       "\n",
       "[50492 rows x 1 columns]"
      ]
     },
     "execution_count": 53,
     "metadata": {},
     "output_type": "execute_result"
    }
   ],
   "source": [
    "firstmeals = pd.DataFrame(logdf.groupby(['RegistrationCode', 'Day'])['Date'].first().rename('breakfast_ts'))\n",
    "firstmeals"
   ]
  },
  {
   "cell_type": "code",
   "execution_count": 54,
   "metadata": {
    "ExecuteTime": {
     "end_time": "2020-02-13T12:54:17.519521Z",
     "start_time": "2020-02-13T12:54:17.478082Z"
    }
   },
   "outputs": [],
   "source": [
    "firstmeals = firstmeals[(firstmeals['breakfast_ts'].dt.time > datetime.time(6, 0, 0))]"
   ]
  },
  {
   "cell_type": "code",
   "execution_count": 55,
   "metadata": {
    "ExecuteTime": {
     "end_time": "2020-02-13T12:54:18.232012Z",
     "start_time": "2020-02-13T12:54:18.221433Z"
    }
   },
   "outputs": [],
   "source": [
    "firstmeals = firstmeals.reset_index('Day')"
   ]
  },
  {
   "cell_type": "code",
   "execution_count": 56,
   "metadata": {
    "ExecuteTime": {
     "end_time": "2020-02-13T12:54:18.828889Z",
     "start_time": "2020-02-13T12:54:18.816877Z"
    }
   },
   "outputs": [],
   "source": [
    "firstmeals['Day'] = pd.to_datetime(firstmeals['Day'])"
   ]
  },
  {
   "cell_type": "code",
   "execution_count": 57,
   "metadata": {
    "ExecuteTime": {
     "end_time": "2020-02-13T12:54:19.616448Z",
     "start_time": "2020-02-13T12:54:19.604052Z"
    }
   },
   "outputs": [],
   "source": [
    "firstmeals = firstmeals.set_index('Day', append=True)"
   ]
  },
  {
   "cell_type": "code",
   "execution_count": 58,
   "metadata": {
    "ExecuteTime": {
     "end_time": "2020-02-13T12:54:22.892086Z",
     "start_time": "2020-02-13T12:54:22.886916Z"
    }
   },
   "outputs": [
    {
     "data": {
      "text/plain": [
       "(44884, 1)"
      ]
     },
     "execution_count": 58,
     "metadata": {},
     "output_type": "execute_result"
    }
   ],
   "source": [
    "firstmeals.shape"
   ]
  },
  {
   "cell_type": "code",
   "execution_count": 59,
   "metadata": {
    "ExecuteTime": {
     "end_time": "2020-02-13T12:54:25.298559Z",
     "start_time": "2020-02-13T12:54:25.293165Z"
    }
   },
   "outputs": [
    {
     "data": {
      "text/plain": [
       "(2965212, 5)"
      ]
     },
     "execution_count": 59,
     "metadata": {},
     "output_type": "execute_result"
    }
   ],
   "source": [
    "cgm_adj.shape"
   ]
  },
  {
   "cell_type": "code",
   "execution_count": 21,
   "metadata": {
    "ExecuteTime": {
     "end_time": "2020-02-13T12:29:35.964401Z",
     "start_time": "2020-02-13T12:29:34.746991Z"
    }
   },
   "outputs": [],
   "source": [
    "cgm_adj['Day'] = cgm_adj.index.date"
   ]
  },
  {
   "cell_type": "code",
   "execution_count": 26,
   "metadata": {
    "ExecuteTime": {
     "end_time": "2020-02-13T12:35:33.505054Z",
     "start_time": "2020-02-13T12:35:31.021067Z"
    }
   },
   "outputs": [],
   "source": [
    "cgm_adj = cgm_adj.set_index(['RegistrationCode', 'Day'])"
   ]
  },
  {
   "cell_type": "code",
   "execution_count": 40,
   "metadata": {
    "ExecuteTime": {
     "end_time": "2020-02-13T12:48:37.452772Z",
     "start_time": "2020-02-13T12:48:37.443897Z"
    },
    "scrolled": true
   },
   "outputs": [
    {
     "data": {
      "text/plain": [
       "dtype('<M8[ns]')"
      ]
     },
     "execution_count": 40,
     "metadata": {},
     "output_type": "execute_result"
    }
   ],
   "source": [
    "firstmeals.index.get_level_values(1).dtype"
   ]
  },
  {
   "cell_type": "code",
   "execution_count": 88,
   "metadata": {
    "ExecuteTime": {
     "end_time": "2020-02-13T13:26:44.317071Z",
     "start_time": "2020-02-13T13:26:40.550712Z"
    }
   },
   "outputs": [],
   "source": [
    "cgm_fm = pd.merge(cgm_adj, firstmeals, on=['RegistrationCode', 'Day'])"
   ]
  },
  {
   "cell_type": "code",
   "execution_count": 89,
   "metadata": {
    "ExecuteTime": {
     "end_time": "2020-02-13T13:26:44.736807Z",
     "start_time": "2020-02-13T13:26:44.731718Z"
    }
   },
   "outputs": [
    {
     "data": {
      "text/plain": [
       "(2349082, 6)"
      ]
     },
     "execution_count": 89,
     "metadata": {},
     "output_type": "execute_result"
    }
   ],
   "source": [
    "cgm_fm.shape"
   ]
  },
  {
   "cell_type": "code",
   "execution_count": 90,
   "metadata": {
    "ExecuteTime": {
     "end_time": "2020-02-13T13:29:11.285937Z",
     "start_time": "2020-02-13T13:29:11.167045Z"
    }
   },
   "outputs": [
    {
     "data": {
      "text/html": [
       "<div>\n",
       "<style scoped>\n",
       "    .dataframe tbody tr th:only-of-type {\n",
       "        vertical-align: middle;\n",
       "    }\n",
       "\n",
       "    .dataframe tbody tr th {\n",
       "        vertical-align: top;\n",
       "    }\n",
       "\n",
       "    .dataframe thead th {\n",
       "        text-align: right;\n",
       "    }\n",
       "</style>\n",
       "<table border=\"1\" class=\"dataframe\">\n",
       "  <thead>\n",
       "    <tr style=\"text-align: right;\">\n",
       "      <th></th>\n",
       "      <th></th>\n",
       "      <th>ConnectionID</th>\n",
       "      <th>GlucoseValue</th>\n",
       "      <th>PPGR</th>\n",
       "      <th>hour</th>\n",
       "      <th>GlucoseAdj</th>\n",
       "      <th>breakfast_ts</th>\n",
       "    </tr>\n",
       "    <tr>\n",
       "      <th>RegistrationCode</th>\n",
       "      <th>Day</th>\n",
       "      <th></th>\n",
       "      <th></th>\n",
       "      <th></th>\n",
       "      <th></th>\n",
       "      <th></th>\n",
       "      <th></th>\n",
       "    </tr>\n",
       "  </thead>\n",
       "  <tbody>\n",
       "    <tr>\n",
       "      <th rowspan=\"5\" valign=\"top\">111527</th>\n",
       "      <th>2017-11-07</th>\n",
       "      <td>1926</td>\n",
       "      <td>108.0</td>\n",
       "      <td>16.750</td>\n",
       "      <td>14</td>\n",
       "      <td>106.571429</td>\n",
       "      <td>2017-11-07 06:47:38+02:00</td>\n",
       "    </tr>\n",
       "    <tr>\n",
       "      <th>2017-11-07</th>\n",
       "      <td>1926</td>\n",
       "      <td>118.0</td>\n",
       "      <td>1.250</td>\n",
       "      <td>14</td>\n",
       "      <td>116.571429</td>\n",
       "      <td>2017-11-07 06:47:38+02:00</td>\n",
       "    </tr>\n",
       "    <tr>\n",
       "      <th>2017-11-07</th>\n",
       "      <td>1926</td>\n",
       "      <td>119.0</td>\n",
       "      <td>2.750</td>\n",
       "      <td>14</td>\n",
       "      <td>117.571429</td>\n",
       "      <td>2017-11-07 06:47:38+02:00</td>\n",
       "    </tr>\n",
       "    <tr>\n",
       "      <th>2017-11-07</th>\n",
       "      <td>1926</td>\n",
       "      <td>119.0</td>\n",
       "      <td>5.500</td>\n",
       "      <td>15</td>\n",
       "      <td>117.571429</td>\n",
       "      <td>2017-11-07 06:47:38+02:00</td>\n",
       "    </tr>\n",
       "    <tr>\n",
       "      <th>2017-11-07</th>\n",
       "      <td>1926</td>\n",
       "      <td>121.0</td>\n",
       "      <td>3.250</td>\n",
       "      <td>15</td>\n",
       "      <td>119.571429</td>\n",
       "      <td>2017-11-07 06:47:38+02:00</td>\n",
       "    </tr>\n",
       "    <tr>\n",
       "      <th>...</th>\n",
       "      <th>...</th>\n",
       "      <td>...</td>\n",
       "      <td>...</td>\n",
       "      <td>...</td>\n",
       "      <td>...</td>\n",
       "      <td>...</td>\n",
       "      <td>...</td>\n",
       "    </tr>\n",
       "    <tr>\n",
       "      <th rowspan=\"5\" valign=\"top\">997735</th>\n",
       "      <th>2019-11-03</th>\n",
       "      <td>6089</td>\n",
       "      <td>94.0</td>\n",
       "      <td>NaN</td>\n",
       "      <td>22</td>\n",
       "      <td>94.714286</td>\n",
       "      <td>2019-11-03 06:00:31.647000+02:00</td>\n",
       "    </tr>\n",
       "    <tr>\n",
       "      <th>2019-11-03</th>\n",
       "      <td>6089</td>\n",
       "      <td>99.0</td>\n",
       "      <td>NaN</td>\n",
       "      <td>23</td>\n",
       "      <td>99.714286</td>\n",
       "      <td>2019-11-03 06:00:31.647000+02:00</td>\n",
       "    </tr>\n",
       "    <tr>\n",
       "      <th>2019-11-03</th>\n",
       "      <td>6089</td>\n",
       "      <td>108.0</td>\n",
       "      <td>6.875</td>\n",
       "      <td>23</td>\n",
       "      <td>108.714286</td>\n",
       "      <td>2019-11-03 06:00:31.647000+02:00</td>\n",
       "    </tr>\n",
       "    <tr>\n",
       "      <th>2019-11-03</th>\n",
       "      <td>6089</td>\n",
       "      <td>113.0</td>\n",
       "      <td>0.000</td>\n",
       "      <td>23</td>\n",
       "      <td>113.714286</td>\n",
       "      <td>2019-11-03 06:00:31.647000+02:00</td>\n",
       "    </tr>\n",
       "    <tr>\n",
       "      <th>2019-11-03</th>\n",
       "      <td>6089</td>\n",
       "      <td>112.0</td>\n",
       "      <td>0.000</td>\n",
       "      <td>23</td>\n",
       "      <td>112.714286</td>\n",
       "      <td>2019-11-03 06:00:31.647000+02:00</td>\n",
       "    </tr>\n",
       "  </tbody>\n",
       "</table>\n",
       "<p>2349082 rows × 6 columns</p>\n",
       "</div>"
      ],
      "text/plain": [
       "                            ConnectionID  ...                     breakfast_ts\n",
       "RegistrationCode Day                      ...                                 \n",
       "111527           2017-11-07         1926  ...        2017-11-07 06:47:38+02:00\n",
       "                 2017-11-07         1926  ...        2017-11-07 06:47:38+02:00\n",
       "                 2017-11-07         1926  ...        2017-11-07 06:47:38+02:00\n",
       "                 2017-11-07         1926  ...        2017-11-07 06:47:38+02:00\n",
       "                 2017-11-07         1926  ...        2017-11-07 06:47:38+02:00\n",
       "...                                  ...  ...                              ...\n",
       "997735           2019-11-03         6089  ... 2019-11-03 06:00:31.647000+02:00\n",
       "                 2019-11-03         6089  ... 2019-11-03 06:00:31.647000+02:00\n",
       "                 2019-11-03         6089  ... 2019-11-03 06:00:31.647000+02:00\n",
       "                 2019-11-03         6089  ... 2019-11-03 06:00:31.647000+02:00\n",
       "                 2019-11-03         6089  ... 2019-11-03 06:00:31.647000+02:00\n",
       "\n",
       "[2349082 rows x 6 columns]"
      ]
     },
     "execution_count": 90,
     "metadata": {},
     "output_type": "execute_result"
    }
   ],
   "source": [
    "cgm_fm"
   ]
  },
  {
   "cell_type": "code",
   "execution_count": 91,
   "metadata": {
    "ExecuteTime": {
     "end_time": "2020-02-13T13:30:36.510041Z",
     "start_time": "2020-02-13T13:30:35.414375Z"
    },
    "scrolled": false
   },
   "outputs": [
    {
     "data": {
      "text/plain": [
       "(200553, 6)"
      ]
     },
     "execution_count": 91,
     "metadata": {},
     "output_type": "execute_result"
    }
   ],
   "source": [
    "cgm_fm = cgm_fm[(cgm_fm['hour'] >= 5) & (cgm_fm['hour'] <= 6)]\n",
    "cgm_fm.shape"
   ]
  },
  {
   "cell_type": "code",
   "execution_count": 93,
   "metadata": {
    "ExecuteTime": {
     "end_time": "2020-02-13T13:32:41.933760Z",
     "start_time": "2020-02-13T13:32:41.856177Z"
    }
   },
   "outputs": [],
   "source": [
    "cgm_fm = cgm_fm[((cgm_fm['hour'] ==5) & (cgm_fm['breakfast_ts'].dt.hour == 6)) | \n",
    "((cgm_fm['hour'] ==6) & (cgm_fm['breakfast_ts'].dt.hour >= 7)) ]"
   ]
  },
  {
   "cell_type": "code",
   "execution_count": 133,
   "metadata": {
    "ExecuteTime": {
     "end_time": "2020-02-13T15:52:26.155413Z",
     "start_time": "2020-02-13T15:52:26.108859Z"
    }
   },
   "outputs": [],
   "source": [
    "wakeup_glucose = pd.DataFrame(cgm_fm.reset_index().groupby(['RegistrationCode', 'Day', 'hour'])['GlucoseAdj'].mean().rename('wakeup_glucose'))"
   ]
  },
  {
   "cell_type": "code",
   "execution_count": 134,
   "metadata": {
    "ExecuteTime": {
     "end_time": "2020-02-13T15:52:26.811537Z",
     "start_time": "2020-02-13T15:52:26.803713Z"
    }
   },
   "outputs": [],
   "source": [
    "wakeup_glucose = wakeup_glucose.reset_index()"
   ]
  },
  {
   "cell_type": "code",
   "execution_count": 135,
   "metadata": {
    "ExecuteTime": {
     "end_time": "2020-02-13T15:52:27.516823Z",
     "start_time": "2020-02-13T15:52:27.510831Z"
    }
   },
   "outputs": [],
   "source": [
    "def q1(x):\n",
    "    return x.quantile(0.25)\n",
    "\n",
    "def q3(x):\n",
    "    return x.quantile(0.75)\n",
    "\n",
    "def interquartile_range(x):\n",
    "    return q3(x) - q1(x)\n",
    "\n",
    "f = {'wakeup_glucose': ['median', 'std', q1,q3, interquartile_range]}"
   ]
  },
  {
   "cell_type": "code",
   "execution_count": 136,
   "metadata": {
    "ExecuteTime": {
     "end_time": "2020-02-13T15:52:29.284411Z",
     "start_time": "2020-02-13T15:52:28.313696Z"
    }
   },
   "outputs": [],
   "source": [
    "morn_gluc_distr = wakeup_glucose.groupby('RegistrationCode').agg(f)"
   ]
  },
  {
   "cell_type": "code",
   "execution_count": 137,
   "metadata": {
    "ExecuteTime": {
     "end_time": "2020-02-13T15:52:31.661969Z",
     "start_time": "2020-02-13T15:52:31.625636Z"
    }
   },
   "outputs": [
    {
     "data": {
      "text/html": [
       "<div>\n",
       "<style scoped>\n",
       "    .dataframe tbody tr th:only-of-type {\n",
       "        vertical-align: middle;\n",
       "    }\n",
       "\n",
       "    .dataframe tbody tr th {\n",
       "        vertical-align: top;\n",
       "    }\n",
       "\n",
       "    .dataframe thead tr th {\n",
       "        text-align: left;\n",
       "    }\n",
       "\n",
       "    .dataframe thead tr:last-of-type th {\n",
       "        text-align: right;\n",
       "    }\n",
       "</style>\n",
       "<table border=\"1\" class=\"dataframe\">\n",
       "  <thead>\n",
       "    <tr>\n",
       "      <th></th>\n",
       "      <th colspan=\"5\" halign=\"left\">wakeup_glucose</th>\n",
       "    </tr>\n",
       "    <tr>\n",
       "      <th></th>\n",
       "      <th>median</th>\n",
       "      <th>std</th>\n",
       "      <th>q1</th>\n",
       "      <th>q3</th>\n",
       "      <th>interquartile_range</th>\n",
       "    </tr>\n",
       "    <tr>\n",
       "      <th>RegistrationCode</th>\n",
       "      <th></th>\n",
       "      <th></th>\n",
       "      <th></th>\n",
       "      <th></th>\n",
       "      <th></th>\n",
       "    </tr>\n",
       "  </thead>\n",
       "  <tbody>\n",
       "    <tr>\n",
       "      <th>173854</th>\n",
       "      <td>87.145833</td>\n",
       "      <td>14.927984</td>\n",
       "      <td>78.687500</td>\n",
       "      <td>91.647321</td>\n",
       "      <td>12.959821</td>\n",
       "    </tr>\n",
       "    <tr>\n",
       "      <th>772380</th>\n",
       "      <td>96.250000</td>\n",
       "      <td>5.252915</td>\n",
       "      <td>93.137500</td>\n",
       "      <td>100.700000</td>\n",
       "      <td>7.562500</td>\n",
       "    </tr>\n",
       "    <tr>\n",
       "      <th>252002</th>\n",
       "      <td>97.649573</td>\n",
       "      <td>9.253903</td>\n",
       "      <td>92.919318</td>\n",
       "      <td>105.050000</td>\n",
       "      <td>12.130682</td>\n",
       "    </tr>\n",
       "    <tr>\n",
       "      <th>794542</th>\n",
       "      <td>126.634615</td>\n",
       "      <td>12.311187</td>\n",
       "      <td>121.875000</td>\n",
       "      <td>132.849359</td>\n",
       "      <td>10.974359</td>\n",
       "    </tr>\n",
       "    <tr>\n",
       "      <th>130279</th>\n",
       "      <td>99.375000</td>\n",
       "      <td>11.034922</td>\n",
       "      <td>94.585227</td>\n",
       "      <td>105.468750</td>\n",
       "      <td>10.883523</td>\n",
       "    </tr>\n",
       "    <tr>\n",
       "      <th>132178</th>\n",
       "      <td>109.375000</td>\n",
       "      <td>8.970829</td>\n",
       "      <td>102.875000</td>\n",
       "      <td>114.669643</td>\n",
       "      <td>11.794643</td>\n",
       "    </tr>\n",
       "    <tr>\n",
       "      <th>439484</th>\n",
       "      <td>95.250000</td>\n",
       "      <td>10.592360</td>\n",
       "      <td>90.465909</td>\n",
       "      <td>98.919643</td>\n",
       "      <td>8.453734</td>\n",
       "    </tr>\n",
       "    <tr>\n",
       "      <th>742096</th>\n",
       "      <td>92.333333</td>\n",
       "      <td>5.377542</td>\n",
       "      <td>88.115385</td>\n",
       "      <td>95.603147</td>\n",
       "      <td>7.487762</td>\n",
       "    </tr>\n",
       "    <tr>\n",
       "      <th>997427</th>\n",
       "      <td>107.766667</td>\n",
       "      <td>7.604173</td>\n",
       "      <td>103.270833</td>\n",
       "      <td>111.968531</td>\n",
       "      <td>8.697698</td>\n",
       "    </tr>\n",
       "    <tr>\n",
       "      <th>64952</th>\n",
       "      <td>89.289773</td>\n",
       "      <td>8.936098</td>\n",
       "      <td>84.923295</td>\n",
       "      <td>94.250000</td>\n",
       "      <td>9.326705</td>\n",
       "    </tr>\n",
       "  </tbody>\n",
       "</table>\n",
       "</div>"
      ],
      "text/plain": [
       "                 wakeup_glucose             ...                                \n",
       "                         median        std  ...          q3 interquartile_range\n",
       "RegistrationCode                            ...                                \n",
       "173854                87.145833  14.927984  ...   91.647321           12.959821\n",
       "772380                96.250000   5.252915  ...  100.700000            7.562500\n",
       "252002                97.649573   9.253903  ...  105.050000           12.130682\n",
       "794542               126.634615  12.311187  ...  132.849359           10.974359\n",
       "130279                99.375000  11.034922  ...  105.468750           10.883523\n",
       "132178               109.375000   8.970829  ...  114.669643           11.794643\n",
       "439484                95.250000  10.592360  ...   98.919643            8.453734\n",
       "742096                92.333333   5.377542  ...   95.603147            7.487762\n",
       "997427               107.766667   7.604173  ...  111.968531            8.697698\n",
       "64952                 89.289773   8.936098  ...   94.250000            9.326705\n",
       "\n",
       "[10 rows x 5 columns]"
      ]
     },
     "execution_count": 137,
     "metadata": {},
     "output_type": "execute_result"
    }
   ],
   "source": [
    "morn_gluc_distr.sample(10)"
   ]
  },
  {
   "cell_type": "code",
   "execution_count": 108,
   "metadata": {
    "ExecuteTime": {
     "end_time": "2020-02-13T14:30:59.293124Z",
     "start_time": "2020-02-13T14:30:59.289203Z"
    }
   },
   "outputs": [],
   "source": [
    "morn_gluc_distr.columns = morn_gluc_distr.columns.droplevel()"
   ]
  },
  {
   "cell_type": "code",
   "execution_count": 122,
   "metadata": {
    "ExecuteTime": {
     "end_time": "2020-02-13T14:41:10.838261Z",
     "start_time": "2020-02-13T14:41:10.485920Z"
    }
   },
   "outputs": [
    {
     "data": {
      "text/plain": [
       "<matplotlib.axes._subplots.AxesSubplot at 0x2af9884cd250>"
      ]
     },
     "execution_count": 122,
     "metadata": {},
     "output_type": "execute_result"
    },
    {
     "data": {
      "image/png": "[encoded data removed]",
      "text/plain": [
       "<Figure size 504x360 with 1 Axes>"
      ]
     },
     "metadata": {},
     "output_type": "display_data"
    }
   ],
   "source": [
    "fig = plt.figure(figsize=(7,5))\n",
    "fig.suptitle('Intrapersonal variability of the morning glucose in PNP3', fontsize=18)\n",
    "ax1 = fig.add_subplot(111)\n",
    "ax1.set_xlabel('Interquartile range')\n",
    "morn_gluc_distr['interquartile_range'].plot.hist()"
   ]
  },
  {
   "cell_type": "code",
   "execution_count": 123,
   "metadata": {
    "ExecuteTime": {
     "end_time": "2020-02-13T14:42:40.526204Z",
     "start_time": "2020-02-13T14:42:40.519498Z"
    }
   },
   "outputs": [
    {
     "data": {
      "text/plain": [
       "11.936180075658099"
      ]
     },
     "execution_count": 123,
     "metadata": {},
     "output_type": "execute_result"
    }
   ],
   "source": [
    "morn_gluc_distr['interquartile_range'].mean()"
   ]
  },
  {
   "cell_type": "markdown",
   "metadata": {},
   "source": [
    "I should look at this values before and after the intervention and compare changes for the two diets. "
   ]
  },
  {
   "cell_type": "code",
   "execution_count": 152,
   "metadata": {
    "ExecuteTime": {
     "end_time": "2020-02-13T16:04:52.257108Z",
     "start_time": "2020-02-13T16:04:52.252033Z"
    },
    "scrolled": false
   },
   "outputs": [
    {
     "data": {
      "text/plain": [
       "(25799, 4)"
      ]
     },
     "execution_count": 152,
     "metadata": {},
     "output_type": "execute_result"
    }
   ],
   "source": [
    "wakeup_glucose.shape"
   ]
  },
  {
   "cell_type": "markdown",
   "metadata": {},
   "source": [
    "For how many days did people wear CGM sensor?"
   ]
  },
  {
   "cell_type": "code",
   "execution_count": 143,
   "metadata": {
    "ExecuteTime": {
     "end_time": "2020-02-13T16:01:09.168894Z",
     "start_time": "2020-02-13T16:01:09.160731Z"
    },
    "scrolled": true
   },
   "outputs": [],
   "source": [
    "count = wakeup_glucose.groupby('RegistrationCode')['Day'].count()"
   ]
  },
  {
   "cell_type": "code",
   "execution_count": 144,
   "metadata": {
    "ExecuteTime": {
     "end_time": "2020-02-13T16:01:19.556413Z",
     "start_time": "2020-02-13T16:01:19.349743Z"
    },
    "scrolled": true
   },
   "outputs": [
    {
     "data": {
      "text/plain": [
       "<matplotlib.axes._subplots.AxesSubplot at 0x2af9bbe836d0>"
      ]
     },
     "execution_count": 144,
     "metadata": {},
     "output_type": "execute_result"
    },
    {
     "data": {
      "image/png": "[encoded data removed]",
      "text/plain": [
       "<Figure size 432x288 with 1 Axes>"
      ]
     },
     "metadata": {},
     "output_type": "display_data"
    }
   ],
   "source": [
    "count.plot.hist()"
   ]
  },
  {
   "cell_type": "code",
   "execution_count": 149,
   "metadata": {
    "ExecuteTime": {
     "end_time": "2020-02-13T16:03:05.576926Z",
     "start_time": "2020-02-13T16:03:05.571945Z"
    }
   },
   "outputs": [],
   "source": [
    "rc_to_keep = count[count >= 50].index"
   ]
  },
  {
   "cell_type": "markdown",
   "metadata": {},
   "source": [
    "Let's take all people with at least 50 days of  connections."
   ]
  },
  {
   "cell_type": "code",
   "execution_count": 153,
   "metadata": {
    "ExecuteTime": {
     "end_time": "2020-02-13T16:05:55.566359Z",
     "start_time": "2020-02-13T16:05:55.549428Z"
    }
   },
   "outputs": [],
   "source": [
    "wakeup_glucose = wakeup_glucose.set_index('RegistrationCode').loc[rc_to_keep]"
   ]
  },
  {
   "cell_type": "code",
   "execution_count": 176,
   "metadata": {
    "ExecuteTime": {
     "end_time": "2020-02-16T08:48:15.390182Z",
     "start_time": "2020-02-16T08:48:15.385198Z"
    }
   },
   "outputs": [
    {
     "data": {
      "text/plain": [
       "(25432, 3)"
      ]
     },
     "execution_count": 176,
     "metadata": {},
     "output_type": "execute_result"
    }
   ],
   "source": [
    "wakeup_glucose.shape"
   ]
  },
  {
   "cell_type": "markdown",
   "metadata": {},
   "source": [
    "## Dietary features from the day before"
   ]
  },
  {
   "cell_type": "markdown",
   "metadata": {
    "ExecuteTime": {
     "end_time": "2020-02-13T15:11:00.538933Z",
     "start_time": "2020-02-13T15:11:00.445472Z"
    }
   },
   "source": [
    "Dietary features to test the correlations on:\n",
    "'alcohol_g', 'caffeine_mg', 'carbohydrate_g', 'carbs/fat', 'energy_kcal', 'protein_g', 'sodium_mg', 'sugarstotal_g', 'totaldietaryfiber_g', 'totallipid_g'"
   ]
  },
  {
   "cell_type": "code",
   "execution_count": 128,
   "metadata": {
    "ExecuteTime": {
     "end_time": "2020-02-13T15:44:37.953721Z",
     "start_time": "2020-02-13T15:44:35.248076Z"
    }
   },
   "outputs": [],
   "source": [
    "logdf = dll.add_nutrients(log,['alcohol_g', 'caffeine_mg', 'carbohydrate_g', 'energy_kcal', \n",
    "                       'protein_g', 'sodium_mg', 'sugarstotal_g', 'totaldietaryfiber_g', 'totallipid_g'])"
   ]
  },
  {
   "cell_type": "code",
   "execution_count": 130,
   "metadata": {
    "ExecuteTime": {
     "end_time": "2020-02-13T15:45:39.440432Z",
     "start_time": "2020-02-13T15:45:36.830107Z"
    }
   },
   "outputs": [
    {
     "data": {
      "text/html": [
       "<div>\n",
       "<style scoped>\n",
       "    .dataframe tbody tr th:only-of-type {\n",
       "        vertical-align: middle;\n",
       "    }\n",
       "\n",
       "    .dataframe tbody tr th {\n",
       "        vertical-align: top;\n",
       "    }\n",
       "\n",
       "    .dataframe thead th {\n",
       "        text-align: right;\n",
       "    }\n",
       "</style>\n",
       "<table border=\"1\" class=\"dataframe\">\n",
       "  <thead>\n",
       "    <tr style=\"text-align: right;\">\n",
       "      <th></th>\n",
       "      <th></th>\n",
       "      <th>sodium_mg</th>\n",
       "      <th>sugarstotal_g</th>\n",
       "      <th>alcohol_g</th>\n",
       "      <th>totallipid_g</th>\n",
       "      <th>protein_g</th>\n",
       "      <th>carbohydrate_g</th>\n",
       "      <th>totaldietaryfiber_g</th>\n",
       "      <th>energy_kcal</th>\n",
       "      <th>weight</th>\n",
       "      <th>caffeine_mg</th>\n",
       "      <th>meal_type</th>\n",
       "    </tr>\n",
       "    <tr>\n",
       "      <th>RegistrationCode</th>\n",
       "      <th>Date</th>\n",
       "      <th></th>\n",
       "      <th></th>\n",
       "      <th></th>\n",
       "      <th></th>\n",
       "      <th></th>\n",
       "      <th></th>\n",
       "      <th></th>\n",
       "      <th></th>\n",
       "      <th></th>\n",
       "      <th></th>\n",
       "      <th></th>\n",
       "    </tr>\n",
       "  </thead>\n",
       "  <tbody>\n",
       "    <tr>\n",
       "      <th rowspan=\"5\" valign=\"top\">111527</th>\n",
       "      <th>2017-10-06 09:46:44+03:00</th>\n",
       "      <td>9.800</td>\n",
       "      <td>0.0</td>\n",
       "      <td>0.0</td>\n",
       "      <td>0.050</td>\n",
       "      <td>0.300</td>\n",
       "      <td>0.000</td>\n",
       "      <td>0.00</td>\n",
       "      <td>2.500</td>\n",
       "      <td>490.0</td>\n",
       "      <td>112.5</td>\n",
       "      <td>Beverage</td>\n",
       "    </tr>\n",
       "    <tr>\n",
       "      <th>2017-10-06 11:48:01+03:00</th>\n",
       "      <td>311.000</td>\n",
       "      <td>0.0</td>\n",
       "      <td>0.0</td>\n",
       "      <td>6.040</td>\n",
       "      <td>6.700</td>\n",
       "      <td>15.220</td>\n",
       "      <td>0.56</td>\n",
       "      <td>147.000</td>\n",
       "      <td>560.0</td>\n",
       "      <td>0.0</td>\n",
       "      <td>Meal</td>\n",
       "    </tr>\n",
       "    <tr>\n",
       "      <th>2017-10-06 11:53:29+03:00</th>\n",
       "      <td>64.995</td>\n",
       "      <td>0.0</td>\n",
       "      <td>0.0</td>\n",
       "      <td>3.906</td>\n",
       "      <td>4.284</td>\n",
       "      <td>6.363</td>\n",
       "      <td>0.00</td>\n",
       "      <td>78.057</td>\n",
       "      <td>210.0</td>\n",
       "      <td>50.4</td>\n",
       "      <td>Beverage</td>\n",
       "    </tr>\n",
       "    <tr>\n",
       "      <th>2017-10-06 13:17:55+03:00</th>\n",
       "      <td>14.400</td>\n",
       "      <td>0.0</td>\n",
       "      <td>0.0</td>\n",
       "      <td>0.000</td>\n",
       "      <td>0.000</td>\n",
       "      <td>0.000</td>\n",
       "      <td>0.00</td>\n",
       "      <td>0.000</td>\n",
       "      <td>720.0</td>\n",
       "      <td>0.0</td>\n",
       "      <td>Beverage</td>\n",
       "    </tr>\n",
       "    <tr>\n",
       "      <th>2017-10-06 14:10:52+03:00</th>\n",
       "      <td>19.200</td>\n",
       "      <td>0.0</td>\n",
       "      <td>0.0</td>\n",
       "      <td>0.000</td>\n",
       "      <td>0.000</td>\n",
       "      <td>0.000</td>\n",
       "      <td>0.00</td>\n",
       "      <td>0.000</td>\n",
       "      <td>960.0</td>\n",
       "      <td>0.0</td>\n",
       "      <td>Beverage</td>\n",
       "    </tr>\n",
       "  </tbody>\n",
       "</table>\n",
       "</div>"
      ],
      "text/plain": [
       "                                            sodium_mg  ...  meal_type\n",
       "RegistrationCode Date                                  ...           \n",
       "111527           2017-10-06 09:46:44+03:00      9.800  ...   Beverage\n",
       "                 2017-10-06 11:48:01+03:00    311.000  ...       Meal\n",
       "                 2017-10-06 11:53:29+03:00     64.995  ...   Beverage\n",
       "                 2017-10-06 13:17:55+03:00     14.400  ...   Beverage\n",
       "                 2017-10-06 14:10:52+03:00     19.200  ...   Beverage\n",
       "\n",
       "[5 rows x 11 columns]"
      ]
     },
     "execution_count": 130,
     "metadata": {},
     "output_type": "execute_result"
    }
   ],
   "source": [
    "logdf = dll.squeeze_log(logdf)\n",
    "logdf.head()"
   ]
  },
  {
   "cell_type": "code",
   "execution_count": 131,
   "metadata": {
    "ExecuteTime": {
     "end_time": "2020-02-13T15:48:07.849211Z",
     "start_time": "2020-02-13T15:48:07.822314Z"
    }
   },
   "outputs": [],
   "source": [
    "logdf = logdf.reset_index()"
   ]
  },
  {
   "cell_type": "code",
   "execution_count": 155,
   "metadata": {
    "ExecuteTime": {
     "end_time": "2020-02-13T16:07:07.611258Z",
     "start_time": "2020-02-13T16:07:07.445672Z"
    },
    "scrolled": true
   },
   "outputs": [
    {
     "data": {
      "text/html": [
       "<div>\n",
       "<style scoped>\n",
       "    .dataframe tbody tr th:only-of-type {\n",
       "        vertical-align: middle;\n",
       "    }\n",
       "\n",
       "    .dataframe tbody tr th {\n",
       "        vertical-align: top;\n",
       "    }\n",
       "\n",
       "    .dataframe thead th {\n",
       "        text-align: right;\n",
       "    }\n",
       "</style>\n",
       "<table border=\"1\" class=\"dataframe\">\n",
       "  <thead>\n",
       "    <tr style=\"text-align: right;\">\n",
       "      <th></th>\n",
       "      <th>RegistrationCode</th>\n",
       "      <th>Date</th>\n",
       "      <th>sodium_mg</th>\n",
       "      <th>sugarstotal_g</th>\n",
       "      <th>alcohol_g</th>\n",
       "      <th>totallipid_g</th>\n",
       "      <th>protein_g</th>\n",
       "      <th>carbohydrate_g</th>\n",
       "      <th>totaldietaryfiber_g</th>\n",
       "      <th>energy_kcal</th>\n",
       "      <th>weight</th>\n",
       "      <th>caffeine_mg</th>\n",
       "      <th>meal_type</th>\n",
       "      <th>Day</th>\n",
       "    </tr>\n",
       "  </thead>\n",
       "  <tbody>\n",
       "    <tr>\n",
       "      <th>0</th>\n",
       "      <td>111527</td>\n",
       "      <td>2017-10-06 09:46:44+03:00</td>\n",
       "      <td>9.800</td>\n",
       "      <td>0.0</td>\n",
       "      <td>0.0</td>\n",
       "      <td>0.050</td>\n",
       "      <td>0.300</td>\n",
       "      <td>0.000</td>\n",
       "      <td>0.00</td>\n",
       "      <td>2.500</td>\n",
       "      <td>490.0</td>\n",
       "      <td>112.5</td>\n",
       "      <td>Beverage</td>\n",
       "      <td>2017-10-06</td>\n",
       "    </tr>\n",
       "    <tr>\n",
       "      <th>1</th>\n",
       "      <td>111527</td>\n",
       "      <td>2017-10-06 11:48:01+03:00</td>\n",
       "      <td>311.000</td>\n",
       "      <td>0.0</td>\n",
       "      <td>0.0</td>\n",
       "      <td>6.040</td>\n",
       "      <td>6.700</td>\n",
       "      <td>15.220</td>\n",
       "      <td>0.56</td>\n",
       "      <td>147.000</td>\n",
       "      <td>560.0</td>\n",
       "      <td>0.0</td>\n",
       "      <td>Meal</td>\n",
       "      <td>2017-10-06</td>\n",
       "    </tr>\n",
       "    <tr>\n",
       "      <th>2</th>\n",
       "      <td>111527</td>\n",
       "      <td>2017-10-06 11:53:29+03:00</td>\n",
       "      <td>64.995</td>\n",
       "      <td>0.0</td>\n",
       "      <td>0.0</td>\n",
       "      <td>3.906</td>\n",
       "      <td>4.284</td>\n",
       "      <td>6.363</td>\n",
       "      <td>0.00</td>\n",
       "      <td>78.057</td>\n",
       "      <td>210.0</td>\n",
       "      <td>50.4</td>\n",
       "      <td>Beverage</td>\n",
       "      <td>2017-10-06</td>\n",
       "    </tr>\n",
       "    <tr>\n",
       "      <th>3</th>\n",
       "      <td>111527</td>\n",
       "      <td>2017-10-06 13:17:55+03:00</td>\n",
       "      <td>14.400</td>\n",
       "      <td>0.0</td>\n",
       "      <td>0.0</td>\n",
       "      <td>0.000</td>\n",
       "      <td>0.000</td>\n",
       "      <td>0.000</td>\n",
       "      <td>0.00</td>\n",
       "      <td>0.000</td>\n",
       "      <td>720.0</td>\n",
       "      <td>0.0</td>\n",
       "      <td>Beverage</td>\n",
       "      <td>2017-10-06</td>\n",
       "    </tr>\n",
       "    <tr>\n",
       "      <th>4</th>\n",
       "      <td>111527</td>\n",
       "      <td>2017-10-06 14:10:52+03:00</td>\n",
       "      <td>19.200</td>\n",
       "      <td>0.0</td>\n",
       "      <td>0.0</td>\n",
       "      <td>0.000</td>\n",
       "      <td>0.000</td>\n",
       "      <td>0.000</td>\n",
       "      <td>0.00</td>\n",
       "      <td>0.000</td>\n",
       "      <td>960.0</td>\n",
       "      <td>0.0</td>\n",
       "      <td>Beverage</td>\n",
       "      <td>2017-10-06</td>\n",
       "    </tr>\n",
       "  </tbody>\n",
       "</table>\n",
       "</div>"
      ],
      "text/plain": [
       "  RegistrationCode                      Date  ...  meal_type         Day\n",
       "0           111527 2017-10-06 09:46:44+03:00  ...   Beverage  2017-10-06\n",
       "1           111527 2017-10-06 11:48:01+03:00  ...       Meal  2017-10-06\n",
       "2           111527 2017-10-06 11:53:29+03:00  ...   Beverage  2017-10-06\n",
       "3           111527 2017-10-06 13:17:55+03:00  ...   Beverage  2017-10-06\n",
       "4           111527 2017-10-06 14:10:52+03:00  ...   Beverage  2017-10-06\n",
       "\n",
       "[5 rows x 14 columns]"
      ]
     },
     "execution_count": 155,
     "metadata": {},
     "output_type": "execute_result"
    }
   ],
   "source": [
    "logdf['Day'] = logdf['Date'].dt.date\n",
    "logdf.head()"
   ]
  },
  {
   "cell_type": "markdown",
   "metadata": {},
   "source": [
    "Let's start with correlating with the total amounts per day."
   ]
  },
  {
   "cell_type": "code",
   "execution_count": 158,
   "metadata": {
    "ExecuteTime": {
     "end_time": "2020-02-16T08:25:43.638861Z",
     "start_time": "2020-02-16T08:25:43.555917Z"
    }
   },
   "outputs": [],
   "source": [
    "totaldaylog = logdf.drop(columns=['weight', 'meal_type']).groupby(['RegistrationCode', 'Day']).sum()"
   ]
  },
  {
   "cell_type": "code",
   "execution_count": 170,
   "metadata": {
    "ExecuteTime": {
     "end_time": "2020-02-16T08:35:23.767435Z",
     "start_time": "2020-02-16T08:35:23.763256Z"
    },
    "scrolled": false
   },
   "outputs": [
    {
     "data": {
      "text/plain": [
       "(50505, 9)"
      ]
     },
     "execution_count": 170,
     "metadata": {},
     "output_type": "execute_result"
    }
   ],
   "source": [
    "totaldaylog.shape"
   ]
  },
  {
   "cell_type": "markdown",
   "metadata": {},
   "source": [
    "On some of the days log is not good enough, people logged too little calories per day which can't be representative. "
   ]
  },
  {
   "cell_type": "code",
   "execution_count": 173,
   "metadata": {
    "ExecuteTime": {
     "end_time": "2020-02-16T08:44:40.439877Z",
     "start_time": "2020-02-16T08:44:40.344708Z"
    }
   },
   "outputs": [
    {
     "data": {
      "text/html": [
       "<div>\n",
       "<style scoped>\n",
       "    .dataframe tbody tr th:only-of-type {\n",
       "        vertical-align: middle;\n",
       "    }\n",
       "\n",
       "    .dataframe tbody tr th {\n",
       "        vertical-align: top;\n",
       "    }\n",
       "\n",
       "    .dataframe thead th {\n",
       "        text-align: right;\n",
       "    }\n",
       "</style>\n",
       "<table border=\"1\" class=\"dataframe\">\n",
       "  <thead>\n",
       "    <tr style=\"text-align: right;\">\n",
       "      <th></th>\n",
       "      <th>RegistrationCode</th>\n",
       "      <th>Date</th>\n",
       "      <th>sodium_mg</th>\n",
       "      <th>sugarstotal_g</th>\n",
       "      <th>alcohol_g</th>\n",
       "      <th>totallipid_g</th>\n",
       "      <th>protein_g</th>\n",
       "      <th>carbohydrate_g</th>\n",
       "      <th>totaldietaryfiber_g</th>\n",
       "      <th>energy_kcal</th>\n",
       "      <th>weight</th>\n",
       "      <th>caffeine_mg</th>\n",
       "      <th>meal_type</th>\n",
       "      <th>Day</th>\n",
       "    </tr>\n",
       "  </thead>\n",
       "  <tbody>\n",
       "    <tr>\n",
       "      <th>23126</th>\n",
       "      <td>168236</td>\n",
       "      <td>2018-09-29 08:18:55+03:00</td>\n",
       "      <td>4.8</td>\n",
       "      <td>0.0</td>\n",
       "      <td>0.0</td>\n",
       "      <td>0.0</td>\n",
       "      <td>0.0</td>\n",
       "      <td>0.0</td>\n",
       "      <td>0.0</td>\n",
       "      <td>0.0</td>\n",
       "      <td>240.0</td>\n",
       "      <td>0.0</td>\n",
       "      <td>Meal</td>\n",
       "      <td>2018-09-29</td>\n",
       "    </tr>\n",
       "  </tbody>\n",
       "</table>\n",
       "</div>"
      ],
      "text/plain": [
       "      RegistrationCode                      Date  ...  meal_type         Day\n",
       "23126           168236 2018-09-29 08:18:55+03:00  ...       Meal  2018-09-29\n",
       "\n",
       "[1 rows x 14 columns]"
      ]
     },
     "execution_count": 173,
     "metadata": {},
     "output_type": "execute_result"
    }
   ],
   "source": [
    "logdf[(logdf['RegistrationCode'] == '168236') & (logdf['Day'] == datetime.date(2018,9,29))]"
   ]
  },
  {
   "cell_type": "code",
   "execution_count": 174,
   "metadata": {
    "ExecuteTime": {
     "end_time": "2020-02-16T08:46:51.990402Z",
     "start_time": "2020-02-16T08:46:51.774394Z"
    },
    "scrolled": true
   },
   "outputs": [
    {
     "data": {
      "text/plain": [
       "<matplotlib.axes._subplots.AxesSubplot at 0x2af9db15c810>"
      ]
     },
     "execution_count": 174,
     "metadata": {},
     "output_type": "execute_result"
    },
    {
     "data": {
      "image/png": "[encoded data removed]",
      "text/plain": [
       "<Figure size 432x288 with 1 Axes>"
      ]
     },
     "metadata": {},
     "output_type": "display_data"
    }
   ],
   "source": [
    "totaldaylog['energy_kcal'].plot.hist()"
   ]
  },
  {
   "cell_type": "markdown",
   "metadata": {},
   "source": [
    "I take the threshold of 1000 kcal per day."
   ]
  },
  {
   "cell_type": "code",
   "execution_count": 172,
   "metadata": {
    "ExecuteTime": {
     "end_time": "2020-02-16T08:44:36.933646Z",
     "start_time": "2020-02-16T08:44:36.927254Z"
    }
   },
   "outputs": [],
   "source": [
    "totaldaylog = totaldaylog[totaldaylog['energy_kcal'] >= 1000]"
   ]
  },
  {
   "cell_type": "code",
   "execution_count": 180,
   "metadata": {
    "ExecuteTime": {
     "end_time": "2020-02-16T09:21:38.208752Z",
     "start_time": "2020-02-16T09:21:38.015102Z"
    },
    "collapsed": true
   },
   "outputs": [
    {
     "data": {
      "text/html": [
       "<div>\n",
       "<style scoped>\n",
       "    .dataframe tbody tr th:only-of-type {\n",
       "        vertical-align: middle;\n",
       "    }\n",
       "\n",
       "    .dataframe tbody tr th {\n",
       "        vertical-align: top;\n",
       "    }\n",
       "\n",
       "    .dataframe thead th {\n",
       "        text-align: right;\n",
       "    }\n",
       "</style>\n",
       "<table border=\"1\" class=\"dataframe\">\n",
       "  <thead>\n",
       "    <tr style=\"text-align: right;\">\n",
       "      <th></th>\n",
       "      <th>Day</th>\n",
       "      <th>sodium_mg</th>\n",
       "      <th>sugarstotal_g</th>\n",
       "      <th>alcohol_g</th>\n",
       "      <th>totallipid_g</th>\n",
       "      <th>protein_g</th>\n",
       "      <th>carbohydrate_g</th>\n",
       "      <th>totaldietaryfiber_g</th>\n",
       "      <th>energy_kcal</th>\n",
       "      <th>caffeine_mg</th>\n",
       "    </tr>\n",
       "    <tr>\n",
       "      <th>RegistrationCode</th>\n",
       "      <th></th>\n",
       "      <th></th>\n",
       "      <th></th>\n",
       "      <th></th>\n",
       "      <th></th>\n",
       "      <th></th>\n",
       "      <th></th>\n",
       "      <th></th>\n",
       "      <th></th>\n",
       "      <th></th>\n",
       "    </tr>\n",
       "  </thead>\n",
       "  <tbody>\n",
       "    <tr>\n",
       "      <th>111527</th>\n",
       "      <td>2017-10-07</td>\n",
       "      <td>3522.806605</td>\n",
       "      <td>2.637400</td>\n",
       "      <td>0.0</td>\n",
       "      <td>79.195531</td>\n",
       "      <td>73.908813</td>\n",
       "      <td>149.287278</td>\n",
       "      <td>11.494648</td>\n",
       "      <td>1628.551492</td>\n",
       "      <td>383.4</td>\n",
       "    </tr>\n",
       "    <tr>\n",
       "      <th>111527</th>\n",
       "      <td>2017-10-08</td>\n",
       "      <td>1823.482200</td>\n",
       "      <td>8.276208</td>\n",
       "      <td>0.0</td>\n",
       "      <td>68.169205</td>\n",
       "      <td>40.689566</td>\n",
       "      <td>97.676125</td>\n",
       "      <td>4.879275</td>\n",
       "      <td>1170.992650</td>\n",
       "      <td>365.5</td>\n",
       "    </tr>\n",
       "    <tr>\n",
       "      <th>111527</th>\n",
       "      <td>2017-10-09</td>\n",
       "      <td>875.554000</td>\n",
       "      <td>1.964900</td>\n",
       "      <td>0.0</td>\n",
       "      <td>53.919700</td>\n",
       "      <td>51.124900</td>\n",
       "      <td>116.313900</td>\n",
       "      <td>8.873000</td>\n",
       "      <td>1169.040000</td>\n",
       "      <td>328.5</td>\n",
       "    </tr>\n",
       "    <tr>\n",
       "      <th>111527</th>\n",
       "      <td>2017-11-06</td>\n",
       "      <td>2046.856887</td>\n",
       "      <td>7.224420</td>\n",
       "      <td>0.0</td>\n",
       "      <td>90.674065</td>\n",
       "      <td>57.076296</td>\n",
       "      <td>156.910187</td>\n",
       "      <td>10.300168</td>\n",
       "      <td>1672.065725</td>\n",
       "      <td>265.8</td>\n",
       "    </tr>\n",
       "    <tr>\n",
       "      <th>111527</th>\n",
       "      <td>2017-11-07</td>\n",
       "      <td>1454.499167</td>\n",
       "      <td>36.356777</td>\n",
       "      <td>0.0</td>\n",
       "      <td>36.157640</td>\n",
       "      <td>34.195410</td>\n",
       "      <td>169.203500</td>\n",
       "      <td>8.200050</td>\n",
       "      <td>1146.560500</td>\n",
       "      <td>488.4</td>\n",
       "    </tr>\n",
       "    <tr>\n",
       "      <th>...</th>\n",
       "      <td>...</td>\n",
       "      <td>...</td>\n",
       "      <td>...</td>\n",
       "      <td>...</td>\n",
       "      <td>...</td>\n",
       "      <td>...</td>\n",
       "      <td>...</td>\n",
       "      <td>...</td>\n",
       "      <td>...</td>\n",
       "      <td>...</td>\n",
       "    </tr>\n",
       "    <tr>\n",
       "      <th>997735</th>\n",
       "      <td>2019-07-21</td>\n",
       "      <td>1779.774261</td>\n",
       "      <td>32.657460</td>\n",
       "      <td>0.0</td>\n",
       "      <td>78.548838</td>\n",
       "      <td>62.383786</td>\n",
       "      <td>144.315955</td>\n",
       "      <td>13.150530</td>\n",
       "      <td>1555.777802</td>\n",
       "      <td>108.0</td>\n",
       "    </tr>\n",
       "    <tr>\n",
       "      <th>997735</th>\n",
       "      <td>2019-10-29</td>\n",
       "      <td>2426.480840</td>\n",
       "      <td>10.161800</td>\n",
       "      <td>0.0</td>\n",
       "      <td>127.763931</td>\n",
       "      <td>93.380938</td>\n",
       "      <td>45.815866</td>\n",
       "      <td>14.380857</td>\n",
       "      <td>1742.416510</td>\n",
       "      <td>126.7</td>\n",
       "    </tr>\n",
       "    <tr>\n",
       "      <th>997735</th>\n",
       "      <td>2019-10-30</td>\n",
       "      <td>2289.286330</td>\n",
       "      <td>15.839225</td>\n",
       "      <td>0.0</td>\n",
       "      <td>104.998046</td>\n",
       "      <td>98.818427</td>\n",
       "      <td>68.775400</td>\n",
       "      <td>21.407009</td>\n",
       "      <td>1676.275800</td>\n",
       "      <td>126.7</td>\n",
       "    </tr>\n",
       "    <tr>\n",
       "      <th>997735</th>\n",
       "      <td>2019-11-03</td>\n",
       "      <td>1820.132979</td>\n",
       "      <td>18.726500</td>\n",
       "      <td>0.0</td>\n",
       "      <td>115.209793</td>\n",
       "      <td>116.783048</td>\n",
       "      <td>51.379774</td>\n",
       "      <td>24.542862</td>\n",
       "      <td>1747.588929</td>\n",
       "      <td>112.5</td>\n",
       "    </tr>\n",
       "    <tr>\n",
       "      <th>997735</th>\n",
       "      <td>2019-11-04</td>\n",
       "      <td>2146.965100</td>\n",
       "      <td>0.563060</td>\n",
       "      <td>0.0</td>\n",
       "      <td>96.427510</td>\n",
       "      <td>89.665743</td>\n",
       "      <td>67.378767</td>\n",
       "      <td>15.548310</td>\n",
       "      <td>1514.263200</td>\n",
       "      <td>225.0</td>\n",
       "    </tr>\n",
       "  </tbody>\n",
       "</table>\n",
       "<p>43613 rows × 10 columns</p>\n",
       "</div>"
      ],
      "text/plain": [
       "                         Day    sodium_mg  ...  energy_kcal  caffeine_mg\n",
       "RegistrationCode                           ...                          \n",
       "111527            2017-10-07  3522.806605  ...  1628.551492        383.4\n",
       "111527            2017-10-08  1823.482200  ...  1170.992650        365.5\n",
       "111527            2017-10-09   875.554000  ...  1169.040000        328.5\n",
       "111527            2017-11-06  2046.856887  ...  1672.065725        265.8\n",
       "111527            2017-11-07  1454.499167  ...  1146.560500        488.4\n",
       "...                      ...          ...  ...          ...          ...\n",
       "997735            2019-07-21  1779.774261  ...  1555.777802        108.0\n",
       "997735            2019-10-29  2426.480840  ...  1742.416510        126.7\n",
       "997735            2019-10-30  2289.286330  ...  1676.275800        126.7\n",
       "997735            2019-11-03  1820.132979  ...  1747.588929        112.5\n",
       "997735            2019-11-04  2146.965100  ...  1514.263200        225.0\n",
       "\n",
       "[43613 rows x 10 columns]"
      ]
     },
     "execution_count": 180,
     "metadata": {},
     "output_type": "execute_result"
    }
   ],
   "source": [
    "totaldaylog = totaldaylog.reset_index('Day')\n",
    "totaldaylog['Day'] = totaldaylog['Day'] + datetime.timedelta(days=1)"
   ]
  },
  {
   "cell_type": "code",
   "execution_count": 198,
   "metadata": {
    "ExecuteTime": {
     "end_time": "2020-02-16T10:17:21.806409Z",
     "start_time": "2020-02-16T10:17:21.773708Z"
    }
   },
   "outputs": [
    {
     "data": {
      "text/html": [
       "<div>\n",
       "<style scoped>\n",
       "    .dataframe tbody tr th:only-of-type {\n",
       "        vertical-align: middle;\n",
       "    }\n",
       "\n",
       "    .dataframe tbody tr th {\n",
       "        vertical-align: top;\n",
       "    }\n",
       "\n",
       "    .dataframe thead th {\n",
       "        text-align: right;\n",
       "    }\n",
       "</style>\n",
       "<table border=\"1\" class=\"dataframe\">\n",
       "  <thead>\n",
       "    <tr style=\"text-align: right;\">\n",
       "      <th></th>\n",
       "      <th>Day</th>\n",
       "      <th>sodium_mg</th>\n",
       "      <th>sugarstotal_g</th>\n",
       "      <th>alcohol_g</th>\n",
       "      <th>totallipid_g</th>\n",
       "      <th>protein_g</th>\n",
       "      <th>carbohydrate_g</th>\n",
       "      <th>totaldietaryfiber_g</th>\n",
       "      <th>energy_kcal</th>\n",
       "      <th>caffeine_mg</th>\n",
       "    </tr>\n",
       "    <tr>\n",
       "      <th>RegistrationCode</th>\n",
       "      <th></th>\n",
       "      <th></th>\n",
       "      <th></th>\n",
       "      <th></th>\n",
       "      <th></th>\n",
       "      <th></th>\n",
       "      <th></th>\n",
       "      <th></th>\n",
       "      <th></th>\n",
       "      <th></th>\n",
       "    </tr>\n",
       "  </thead>\n",
       "  <tbody>\n",
       "    <tr>\n",
       "      <th>981727</th>\n",
       "      <td>2019-08-08</td>\n",
       "      <td>2424.795640</td>\n",
       "      <td>40.098200</td>\n",
       "      <td>0.0</td>\n",
       "      <td>99.814172</td>\n",
       "      <td>81.399348</td>\n",
       "      <td>124.148724</td>\n",
       "      <td>25.930744</td>\n",
       "      <td>1747.410584</td>\n",
       "      <td>0.0</td>\n",
       "    </tr>\n",
       "    <tr>\n",
       "      <th>300747</th>\n",
       "      <td>2019-01-15</td>\n",
       "      <td>3150.326818</td>\n",
       "      <td>9.814900</td>\n",
       "      <td>0.0</td>\n",
       "      <td>85.528895</td>\n",
       "      <td>81.238474</td>\n",
       "      <td>184.052271</td>\n",
       "      <td>17.478592</td>\n",
       "      <td>1832.763047</td>\n",
       "      <td>105.6</td>\n",
       "    </tr>\n",
       "    <tr>\n",
       "      <th>292738</th>\n",
       "      <td>2017-11-23</td>\n",
       "      <td>2868.206501</td>\n",
       "      <td>27.647440</td>\n",
       "      <td>0.0</td>\n",
       "      <td>113.650835</td>\n",
       "      <td>69.300170</td>\n",
       "      <td>56.320150</td>\n",
       "      <td>23.081498</td>\n",
       "      <td>1550.963600</td>\n",
       "      <td>122.5</td>\n",
       "    </tr>\n",
       "    <tr>\n",
       "      <th>572984</th>\n",
       "      <td>2017-12-26</td>\n",
       "      <td>2503.238315</td>\n",
       "      <td>18.803698</td>\n",
       "      <td>0.0</td>\n",
       "      <td>67.202552</td>\n",
       "      <td>104.289861</td>\n",
       "      <td>162.107160</td>\n",
       "      <td>12.860652</td>\n",
       "      <td>1710.389955</td>\n",
       "      <td>84.0</td>\n",
       "    </tr>\n",
       "    <tr>\n",
       "      <th>992638</th>\n",
       "      <td>2017-11-08</td>\n",
       "      <td>5845.353760</td>\n",
       "      <td>21.838830</td>\n",
       "      <td>0.0</td>\n",
       "      <td>91.036144</td>\n",
       "      <td>139.762957</td>\n",
       "      <td>205.031590</td>\n",
       "      <td>42.916298</td>\n",
       "      <td>2209.011860</td>\n",
       "      <td>84.0</td>\n",
       "    </tr>\n",
       "  </tbody>\n",
       "</table>\n",
       "</div>"
      ],
      "text/plain": [
       "                        Day    sodium_mg  ...  energy_kcal  caffeine_mg\n",
       "RegistrationCode                          ...                          \n",
       "981727           2019-08-08  2424.795640  ...  1747.410584          0.0\n",
       "300747           2019-01-15  3150.326818  ...  1832.763047        105.6\n",
       "292738           2017-11-23  2868.206501  ...  1550.963600        122.5\n",
       "572984           2017-12-26  2503.238315  ...  1710.389955         84.0\n",
       "992638           2017-11-08  5845.353760  ...  2209.011860         84.0\n",
       "\n",
       "[5 rows x 10 columns]"
      ]
     },
     "execution_count": 198,
     "metadata": {},
     "output_type": "execute_result"
    }
   ],
   "source": [
    "totaldaylog.sample(5)"
   ]
  },
  {
   "cell_type": "code",
   "execution_count": 182,
   "metadata": {
    "ExecuteTime": {
     "end_time": "2020-02-16T09:23:32.528510Z",
     "start_time": "2020-02-16T09:23:32.517815Z"
    }
   },
   "outputs": [],
   "source": [
    "totaldaylog['Day'] = pd.to_datetime(totaldaylog['Day'])"
   ]
  },
  {
   "cell_type": "code",
   "execution_count": 184,
   "metadata": {
    "ExecuteTime": {
     "end_time": "2020-02-16T10:06:36.715941Z",
     "start_time": "2020-02-16T10:06:36.689882Z"
    }
   },
   "outputs": [],
   "source": [
    "data = pd.merge(wakeup_glucose, totaldaylog, on=['RegistrationCode', 'Day'])"
   ]
  },
  {
   "cell_type": "code",
   "execution_count": 191,
   "metadata": {
    "ExecuteTime": {
     "end_time": "2020-02-16T10:09:37.926537Z",
     "start_time": "2020-02-16T10:09:37.921752Z"
    },
    "scrolled": true
   },
   "outputs": [
    {
     "data": {
      "text/plain": [
       "Index(['Day', 'hour', 'wakeup_glucose', 'sodium_mg', 'sugarstotal_g',\n",
       "       'alcohol_g', 'totallipid_g', 'protein_g', 'carbohydrate_g',\n",
       "       'totaldietaryfiber_g', 'energy_kcal', 'caffeine_mg'],\n",
       "      dtype='object')"
      ]
     },
     "execution_count": 191,
     "metadata": {},
     "output_type": "execute_result"
    }
   ],
   "source": [
    "data.columns"
   ]
  },
  {
   "cell_type": "markdown",
   "metadata": {},
   "source": [
    "Normality testing method"
   ]
  },
  {
   "cell_type": "code",
   "execution_count": 199,
   "metadata": {
    "ExecuteTime": {
     "end_time": "2020-02-16T10:17:32.118792Z",
     "start_time": "2020-02-16T10:17:32.099466Z"
    },
    "scrolled": false
   },
   "outputs": [
    {
     "name": "stdout",
     "output_type": "stream",
     "text": [
      "Statistics=0.878, p=0.000\n",
      "Day : Sample does not look Gaussian (reject H0)\n",
      "Statistics=0.303, p=0.000\n",
      "hour : Sample does not look Gaussian (reject H0)\n",
      "Statistics=0.993, p=0.872\n",
      "wakeup_glucose : Sample looks Gaussian (fail to reject H0)\n",
      "Statistics=0.939, p=0.000\n",
      "sodium_mg : Sample does not look Gaussian (reject H0)\n",
      "Statistics=0.936, p=0.000\n",
      "sugarstotal_g : Sample does not look Gaussian (reject H0)\n",
      "Statistics=0.275, p=0.000\n",
      "alcohol_g : Sample does not look Gaussian (reject H0)\n",
      "Statistics=0.990, p=0.599\n",
      "totallipid_g : Sample looks Gaussian (fail to reject H0)\n",
      "Statistics=0.970, p=0.013\n",
      "protein_g : Sample does not look Gaussian (reject H0)\n",
      "Statistics=0.975, p=0.035\n",
      "carbohydrate_g : Sample does not look Gaussian (reject H0)\n",
      "Statistics=0.970, p=0.013\n",
      "totaldietaryfiber_g : Sample does not look Gaussian (reject H0)\n",
      "Statistics=0.955, p=0.001\n",
      "energy_kcal : Sample does not look Gaussian (reject H0)\n",
      "Statistics=0.983, p=0.157\n",
      "caffeine_mg : Sample looks Gaussian (fail to reject H0)\n"
     ]
    }
   ],
   "source": [
    "from numpy.random import seed\n",
    "from numpy.random import randn\n",
    "from scipy.stats import shapiro\n",
    "# seed the random number generator\n",
    "seed(1)\n",
    "# normality test\n",
    "for column in data.columns:\n",
    "    stat, p = shapiro(data.loc['300747'][column])\n",
    "    print('Statistics=%.3f, p=%.3f' % (stat, p))\n",
    "    # interpret\n",
    "    alpha = 0.05\n",
    "    if p > alpha:\n",
    "        print(column, ': Sample looks Gaussian (fail to reject H0)')\n",
    "    else:\n",
    "        print(column, ': Sample does not look Gaussian (reject H0)')"
   ]
  },
  {
   "cell_type": "code",
   "execution_count": 204,
   "metadata": {
    "ExecuteTime": {
     "end_time": "2020-02-16T14:07:33.448736Z",
     "start_time": "2020-02-16T14:07:33.405052Z"
    }
   },
   "outputs": [
    {
     "data": {
      "text/html": [
       "<div>\n",
       "<style scoped>\n",
       "    .dataframe tbody tr th:only-of-type {\n",
       "        vertical-align: middle;\n",
       "    }\n",
       "\n",
       "    .dataframe tbody tr th {\n",
       "        vertical-align: top;\n",
       "    }\n",
       "\n",
       "    .dataframe thead th {\n",
       "        text-align: right;\n",
       "    }\n",
       "</style>\n",
       "<table border=\"1\" class=\"dataframe\">\n",
       "  <thead>\n",
       "    <tr style=\"text-align: right;\">\n",
       "      <th></th>\n",
       "      <th>Day</th>\n",
       "      <th>hour</th>\n",
       "      <th>wakeup_glucose</th>\n",
       "      <th>sodium_mg</th>\n",
       "      <th>sugarstotal_g</th>\n",
       "      <th>alcohol_g</th>\n",
       "      <th>totallipid_g</th>\n",
       "      <th>protein_g</th>\n",
       "      <th>carbohydrate_g</th>\n",
       "      <th>totaldietaryfiber_g</th>\n",
       "      <th>energy_kcal</th>\n",
       "      <th>caffeine_mg</th>\n",
       "    </tr>\n",
       "    <tr>\n",
       "      <th>RegistrationCode</th>\n",
       "      <th></th>\n",
       "      <th></th>\n",
       "      <th></th>\n",
       "      <th></th>\n",
       "      <th></th>\n",
       "      <th></th>\n",
       "      <th></th>\n",
       "      <th></th>\n",
       "      <th></th>\n",
       "      <th></th>\n",
       "      <th></th>\n",
       "      <th></th>\n",
       "    </tr>\n",
       "  </thead>\n",
       "  <tbody>\n",
       "    <tr>\n",
       "      <th>300747</th>\n",
       "      <td>2018-08-22</td>\n",
       "      <td>6</td>\n",
       "      <td>111.678571</td>\n",
       "      <td>2305.815000</td>\n",
       "      <td>53.993700</td>\n",
       "      <td>0.000000</td>\n",
       "      <td>57.664016</td>\n",
       "      <td>89.605886</td>\n",
       "      <td>169.629203</td>\n",
       "      <td>16.050894</td>\n",
       "      <td>1584.865036</td>\n",
       "      <td>294.0</td>\n",
       "    </tr>\n",
       "    <tr>\n",
       "      <th>300747</th>\n",
       "      <td>2018-08-23</td>\n",
       "      <td>6</td>\n",
       "      <td>110.178571</td>\n",
       "      <td>1816.988360</td>\n",
       "      <td>78.933200</td>\n",
       "      <td>0.000000</td>\n",
       "      <td>55.232780</td>\n",
       "      <td>67.450990</td>\n",
       "      <td>256.274824</td>\n",
       "      <td>39.284406</td>\n",
       "      <td>1862.066560</td>\n",
       "      <td>273.6</td>\n",
       "    </tr>\n",
       "    <tr>\n",
       "      <th>300747</th>\n",
       "      <td>2018-08-24</td>\n",
       "      <td>5</td>\n",
       "      <td>101.678571</td>\n",
       "      <td>2051.087960</td>\n",
       "      <td>16.444537</td>\n",
       "      <td>12.870000</td>\n",
       "      <td>54.576964</td>\n",
       "      <td>43.038302</td>\n",
       "      <td>185.265700</td>\n",
       "      <td>25.555340</td>\n",
       "      <td>1499.187452</td>\n",
       "      <td>297.5</td>\n",
       "    </tr>\n",
       "    <tr>\n",
       "      <th>300747</th>\n",
       "      <td>2018-08-25</td>\n",
       "      <td>6</td>\n",
       "      <td>86.928571</td>\n",
       "      <td>2580.802970</td>\n",
       "      <td>2.384970</td>\n",
       "      <td>0.000000</td>\n",
       "      <td>88.235359</td>\n",
       "      <td>84.283468</td>\n",
       "      <td>291.938547</td>\n",
       "      <td>20.777307</td>\n",
       "      <td>2320.677391</td>\n",
       "      <td>220.8</td>\n",
       "    </tr>\n",
       "    <tr>\n",
       "      <th>300747</th>\n",
       "      <td>2018-08-26</td>\n",
       "      <td>6</td>\n",
       "      <td>102.178571</td>\n",
       "      <td>3147.840300</td>\n",
       "      <td>67.483677</td>\n",
       "      <td>0.000000</td>\n",
       "      <td>93.202396</td>\n",
       "      <td>79.141718</td>\n",
       "      <td>262.754260</td>\n",
       "      <td>41.357317</td>\n",
       "      <td>2243.451261</td>\n",
       "      <td>220.8</td>\n",
       "    </tr>\n",
       "    <tr>\n",
       "      <th>...</th>\n",
       "      <td>...</td>\n",
       "      <td>...</td>\n",
       "      <td>...</td>\n",
       "      <td>...</td>\n",
       "      <td>...</td>\n",
       "      <td>...</td>\n",
       "      <td>...</td>\n",
       "      <td>...</td>\n",
       "      <td>...</td>\n",
       "      <td>...</td>\n",
       "      <td>...</td>\n",
       "      <td>...</td>\n",
       "    </tr>\n",
       "    <tr>\n",
       "      <th>300747</th>\n",
       "      <td>2019-06-17</td>\n",
       "      <td>6</td>\n",
       "      <td>119.000000</td>\n",
       "      <td>1268.445790</td>\n",
       "      <td>37.160850</td>\n",
       "      <td>0.000000</td>\n",
       "      <td>57.303258</td>\n",
       "      <td>46.715409</td>\n",
       "      <td>157.550100</td>\n",
       "      <td>20.020413</td>\n",
       "      <td>1330.808090</td>\n",
       "      <td>160.8</td>\n",
       "    </tr>\n",
       "    <tr>\n",
       "      <th>300747</th>\n",
       "      <td>2019-06-18</td>\n",
       "      <td>6</td>\n",
       "      <td>108.250000</td>\n",
       "      <td>1516.307960</td>\n",
       "      <td>37.369305</td>\n",
       "      <td>0.000000</td>\n",
       "      <td>45.457475</td>\n",
       "      <td>54.206257</td>\n",
       "      <td>165.380166</td>\n",
       "      <td>29.333185</td>\n",
       "      <td>1288.655040</td>\n",
       "      <td>0.0</td>\n",
       "    </tr>\n",
       "    <tr>\n",
       "      <th>300747</th>\n",
       "      <td>2019-09-21</td>\n",
       "      <td>6</td>\n",
       "      <td>113.904762</td>\n",
       "      <td>1997.973050</td>\n",
       "      <td>22.705873</td>\n",
       "      <td>1.915126</td>\n",
       "      <td>65.635501</td>\n",
       "      <td>58.708488</td>\n",
       "      <td>99.060971</td>\n",
       "      <td>12.368849</td>\n",
       "      <td>1262.858607</td>\n",
       "      <td>139.2</td>\n",
       "    </tr>\n",
       "    <tr>\n",
       "      <th>300747</th>\n",
       "      <td>2019-09-23</td>\n",
       "      <td>6</td>\n",
       "      <td>104.321429</td>\n",
       "      <td>2087.167007</td>\n",
       "      <td>33.108940</td>\n",
       "      <td>0.000000</td>\n",
       "      <td>76.125395</td>\n",
       "      <td>49.598927</td>\n",
       "      <td>81.838965</td>\n",
       "      <td>17.157002</td>\n",
       "      <td>1230.643652</td>\n",
       "      <td>0.0</td>\n",
       "    </tr>\n",
       "    <tr>\n",
       "      <th>300747</th>\n",
       "      <td>2019-09-24</td>\n",
       "      <td>6</td>\n",
       "      <td>106.821429</td>\n",
       "      <td>1984.805400</td>\n",
       "      <td>26.522040</td>\n",
       "      <td>0.000000</td>\n",
       "      <td>69.646515</td>\n",
       "      <td>124.718597</td>\n",
       "      <td>57.512478</td>\n",
       "      <td>11.200675</td>\n",
       "      <td>1387.261851</td>\n",
       "      <td>0.0</td>\n",
       "    </tr>\n",
       "  </tbody>\n",
       "</table>\n",
       "<p>111 rows × 12 columns</p>\n",
       "</div>"
      ],
      "text/plain": [
       "                        Day  hour  ...  energy_kcal  caffeine_mg\n",
       "RegistrationCode                   ...                          \n",
       "300747           2018-08-22     6  ...  1584.865036        294.0\n",
       "300747           2018-08-23     6  ...  1862.066560        273.6\n",
       "300747           2018-08-24     5  ...  1499.187452        297.5\n",
       "300747           2018-08-25     6  ...  2320.677391        220.8\n",
       "300747           2018-08-26     6  ...  2243.451261        220.8\n",
       "...                     ...   ...  ...          ...          ...\n",
       "300747           2019-06-17     6  ...  1330.808090        160.8\n",
       "300747           2019-06-18     6  ...  1288.655040          0.0\n",
       "300747           2019-09-21     6  ...  1262.858607        139.2\n",
       "300747           2019-09-23     6  ...  1230.643652          0.0\n",
       "300747           2019-09-24     6  ...  1387.261851          0.0\n",
       "\n",
       "[111 rows x 12 columns]"
      ]
     },
     "execution_count": 204,
     "metadata": {},
     "output_type": "execute_result"
    }
   ],
   "source": [
    "data.loc['300747']"
   ]
  },
  {
   "cell_type": "code",
   "execution_count": 250,
   "metadata": {
    "ExecuteTime": {
     "end_time": "2020-02-16T16:10:16.894641Z",
     "start_time": "2020-02-16T16:10:16.711622Z"
    },
    "scrolled": true
   },
   "outputs": [
    {
     "data": {
      "text/plain": [
       "<matplotlib.axes._subplots.AxesSubplot at 0x2af9db729e90>"
      ]
     },
     "execution_count": 250,
     "metadata": {},
     "output_type": "execute_result"
    },
    {
     "data": {
      "image/png": "[encoded data removed]",
      "text/plain": [
       "<Figure size 432x288 with 1 Axes>"
      ]
     },
     "metadata": {},
     "output_type": "display_data"
    }
   ],
   "source": [
    "data.loc['132178'].plot.scatter(x='sodium_mg', y='wakeup_glucose')"
   ]
  },
  {
   "cell_type": "markdown",
   "metadata": {},
   "source": [
    "In PNP3 patients probably avoided alcohol due to the diet. I should exclude this feature from the correlation analysis."
   ]
  },
  {
   "cell_type": "code",
   "execution_count": 222,
   "metadata": {
    "ExecuteTime": {
     "end_time": "2020-02-16T15:11:28.063378Z",
     "start_time": "2020-02-16T15:11:28.026740Z"
    }
   },
   "outputs": [
    {
     "data": {
      "text/html": [
       "<div>\n",
       "<style scoped>\n",
       "    .dataframe tbody tr th:only-of-type {\n",
       "        vertical-align: middle;\n",
       "    }\n",
       "\n",
       "    .dataframe tbody tr th {\n",
       "        vertical-align: top;\n",
       "    }\n",
       "\n",
       "    .dataframe thead th {\n",
       "        text-align: right;\n",
       "    }\n",
       "</style>\n",
       "<table border=\"1\" class=\"dataframe\">\n",
       "  <thead>\n",
       "    <tr style=\"text-align: right;\">\n",
       "      <th></th>\n",
       "      <th>wakeup_glucose</th>\n",
       "      <th>sodium_mg</th>\n",
       "      <th>sugarstotal_g</th>\n",
       "      <th>totallipid_g</th>\n",
       "      <th>protein_g</th>\n",
       "      <th>carbohydrate_g</th>\n",
       "      <th>totaldietaryfiber_g</th>\n",
       "      <th>energy_kcal</th>\n",
       "      <th>caffeine_mg</th>\n",
       "    </tr>\n",
       "    <tr>\n",
       "      <th>RegistrationCode</th>\n",
       "      <th></th>\n",
       "      <th></th>\n",
       "      <th></th>\n",
       "      <th></th>\n",
       "      <th></th>\n",
       "      <th></th>\n",
       "      <th></th>\n",
       "      <th></th>\n",
       "      <th></th>\n",
       "    </tr>\n",
       "  </thead>\n",
       "  <tbody>\n",
       "    <tr>\n",
       "      <th>111527</th>\n",
       "      <td>103.071429</td>\n",
       "      <td>2000.838539</td>\n",
       "      <td>6.538000</td>\n",
       "      <td>79.052895</td>\n",
       "      <td>73.624292</td>\n",
       "      <td>231.320475</td>\n",
       "      <td>12.664168</td>\n",
       "      <td>1919.714530</td>\n",
       "      <td>558.00</td>\n",
       "    </tr>\n",
       "    <tr>\n",
       "      <th>111527</th>\n",
       "      <td>98.071429</td>\n",
       "      <td>1691.501330</td>\n",
       "      <td>6.313964</td>\n",
       "      <td>58.201139</td>\n",
       "      <td>50.789459</td>\n",
       "      <td>194.751503</td>\n",
       "      <td>11.263018</td>\n",
       "      <td>1517.150220</td>\n",
       "      <td>562.50</td>\n",
       "    </tr>\n",
       "    <tr>\n",
       "      <th>111527</th>\n",
       "      <td>101.321429</td>\n",
       "      <td>2289.811585</td>\n",
       "      <td>5.414400</td>\n",
       "      <td>73.305995</td>\n",
       "      <td>79.098687</td>\n",
       "      <td>265.900131</td>\n",
       "      <td>13.546815</td>\n",
       "      <td>2087.215480</td>\n",
       "      <td>328.50</td>\n",
       "    </tr>\n",
       "    <tr>\n",
       "      <th>111527</th>\n",
       "      <td>107.071429</td>\n",
       "      <td>1862.517280</td>\n",
       "      <td>25.698000</td>\n",
       "      <td>44.786748</td>\n",
       "      <td>48.809778</td>\n",
       "      <td>160.317880</td>\n",
       "      <td>16.807222</td>\n",
       "      <td>1317.762920</td>\n",
       "      <td>328.50</td>\n",
       "    </tr>\n",
       "    <tr>\n",
       "      <th>111527</th>\n",
       "      <td>106.071429</td>\n",
       "      <td>3063.713740</td>\n",
       "      <td>83.697100</td>\n",
       "      <td>70.233976</td>\n",
       "      <td>78.098902</td>\n",
       "      <td>231.655018</td>\n",
       "      <td>12.343034</td>\n",
       "      <td>1871.107020</td>\n",
       "      <td>305.22</td>\n",
       "    </tr>\n",
       "    <tr>\n",
       "      <th>...</th>\n",
       "      <td>...</td>\n",
       "      <td>...</td>\n",
       "      <td>...</td>\n",
       "      <td>...</td>\n",
       "      <td>...</td>\n",
       "      <td>...</td>\n",
       "      <td>...</td>\n",
       "      <td>...</td>\n",
       "      <td>...</td>\n",
       "    </tr>\n",
       "    <tr>\n",
       "      <th>111527</th>\n",
       "      <td>92.750000</td>\n",
       "      <td>2134.218235</td>\n",
       "      <td>5.893680</td>\n",
       "      <td>76.650175</td>\n",
       "      <td>72.475867</td>\n",
       "      <td>80.171469</td>\n",
       "      <td>10.966628</td>\n",
       "      <td>1255.593851</td>\n",
       "      <td>162.00</td>\n",
       "    </tr>\n",
       "    <tr>\n",
       "      <th>111527</th>\n",
       "      <td>101.250000</td>\n",
       "      <td>2309.425627</td>\n",
       "      <td>4.671120</td>\n",
       "      <td>95.310702</td>\n",
       "      <td>58.810990</td>\n",
       "      <td>109.272894</td>\n",
       "      <td>15.051371</td>\n",
       "      <td>1549.925101</td>\n",
       "      <td>324.00</td>\n",
       "    </tr>\n",
       "    <tr>\n",
       "      <th>111527</th>\n",
       "      <td>114.000000</td>\n",
       "      <td>1282.174526</td>\n",
       "      <td>5.145570</td>\n",
       "      <td>109.319287</td>\n",
       "      <td>45.313389</td>\n",
       "      <td>98.072756</td>\n",
       "      <td>11.208888</td>\n",
       "      <td>1555.377740</td>\n",
       "      <td>243.00</td>\n",
       "    </tr>\n",
       "    <tr>\n",
       "      <th>111527</th>\n",
       "      <td>98.250000</td>\n",
       "      <td>2209.087776</td>\n",
       "      <td>2.724300</td>\n",
       "      <td>113.892290</td>\n",
       "      <td>60.641798</td>\n",
       "      <td>113.654540</td>\n",
       "      <td>16.824130</td>\n",
       "      <td>1742.667445</td>\n",
       "      <td>243.00</td>\n",
       "    </tr>\n",
       "    <tr>\n",
       "      <th>111527</th>\n",
       "      <td>93.000000</td>\n",
       "      <td>2757.813000</td>\n",
       "      <td>2.099140</td>\n",
       "      <td>93.359155</td>\n",
       "      <td>103.171117</td>\n",
       "      <td>47.095225</td>\n",
       "      <td>8.023375</td>\n",
       "      <td>1452.432650</td>\n",
       "      <td>243.00</td>\n",
       "    </tr>\n",
       "  </tbody>\n",
       "</table>\n",
       "<p>134 rows × 9 columns</p>\n",
       "</div>"
      ],
      "text/plain": [
       "                  wakeup_glucose    sodium_mg  ...  energy_kcal  caffeine_mg\n",
       "RegistrationCode                               ...                          \n",
       "111527                103.071429  2000.838539  ...  1919.714530       558.00\n",
       "111527                 98.071429  1691.501330  ...  1517.150220       562.50\n",
       "111527                101.321429  2289.811585  ...  2087.215480       328.50\n",
       "111527                107.071429  1862.517280  ...  1317.762920       328.50\n",
       "111527                106.071429  3063.713740  ...  1871.107020       305.22\n",
       "...                          ...          ...  ...          ...          ...\n",
       "111527                 92.750000  2134.218235  ...  1255.593851       162.00\n",
       "111527                101.250000  2309.425627  ...  1549.925101       324.00\n",
       "111527                114.000000  1282.174526  ...  1555.377740       243.00\n",
       "111527                 98.250000  2209.087776  ...  1742.667445       243.00\n",
       "111527                 93.000000  2757.813000  ...  1452.432650       243.00\n",
       "\n",
       "[134 rows x 9 columns]"
      ]
     },
     "execution_count": 222,
     "metadata": {},
     "output_type": "execute_result"
    }
   ],
   "source": [
    "data.loc['111527'].drop(columns=['Day', 'hour','alcohol_g'])"
   ]
  },
  {
   "cell_type": "code",
   "execution_count": 229,
   "metadata": {
    "ExecuteTime": {
     "end_time": "2020-02-16T15:14:47.414924Z",
     "start_time": "2020-02-16T15:14:47.404344Z"
    }
   },
   "outputs": [
    {
     "data": {
      "text/plain": [
       "wakeup_glucose         1.000000\n",
       "sodium_mg              0.004212\n",
       "sugarstotal_g          0.115427\n",
       "totallipid_g          -0.185092\n",
       "protein_g             -0.002361\n",
       "carbohydrate_g         0.070137\n",
       "totaldietaryfiber_g    0.035468\n",
       "energy_kcal           -0.099591\n",
       "caffeine_mg            0.031436\n",
       "Name: wakeup_glucose, dtype: float64"
      ]
     },
     "execution_count": 229,
     "metadata": {},
     "output_type": "execute_result"
    }
   ],
   "source": [
    "pearsoncorr = data.loc['111527'].drop(columns=['Day', 'hour', 'alcohol_g']).corr(method='pearson')['wakeup_glucose']\n",
    "pearsoncorr"
   ]
  },
  {
   "cell_type": "code",
   "execution_count": 227,
   "metadata": {
    "ExecuteTime": {
     "end_time": "2020-02-16T15:12:18.433369Z",
     "start_time": "2020-02-16T15:12:17.848697Z"
    },
    "scrolled": false
   },
   "outputs": [
    {
     "data": {
      "text/plain": [
       "<matplotlib.axes._subplots.AxesSubplot at 0x2af9e3f3cfd0>"
      ]
     },
     "execution_count": 227,
     "metadata": {},
     "output_type": "execute_result"
    },
    {
     "data": {
      "image/png": "[encoded data removed]",
      "text/plain": [
       "<Figure size 432x288 with 2 Axes>"
      ]
     },
     "metadata": {},
     "output_type": "display_data"
    }
   ],
   "source": [
    "sb.heatmap(pearsoncorr, \n",
    "            xticklabels=pearsoncorr.columns,\n",
    "            yticklabels=pearsoncorr.columns,\n",
    "            cmap='RdBu_r',\n",
    "            annot=True,\n",
    "            linewidth=0.5)"
   ]
  },
  {
   "cell_type": "code",
   "execution_count": 236,
   "metadata": {
    "ExecuteTime": {
     "end_time": "2020-02-16T15:36:09.448962Z",
     "start_time": "2020-02-16T15:36:09.441777Z"
    }
   },
   "outputs": [],
   "source": [
    "from scipy.stats import pearsonr, spearmanr\n",
    "\n",
    "def calculate_pvalues(df):\n",
    "    df = df.dropna()._get_numeric_data()\n",
    "    dfcols = pd.DataFrame(columns=df.columns)\n",
    "    pvalues = dfcols.transpose().join(dfcols, how='outer')\n",
    "    for r in df.columns:\n",
    "        for c in df.columns:\n",
    "            pvalues[r][c] = round(spearmanr(df[r], df[c])[1], 4)\n",
    "    return pvalues"
   ]
  },
  {
   "cell_type": "code",
   "execution_count": 235,
   "metadata": {
    "ExecuteTime": {
     "end_time": "2020-02-16T15:30:56.799600Z",
     "start_time": "2020-02-16T15:30:56.677234Z"
    }
   },
   "outputs": [
    {
     "data": {
      "text/html": [
       "<div>\n",
       "<style scoped>\n",
       "    .dataframe tbody tr th:only-of-type {\n",
       "        vertical-align: middle;\n",
       "    }\n",
       "\n",
       "    .dataframe tbody tr th {\n",
       "        vertical-align: top;\n",
       "    }\n",
       "\n",
       "    .dataframe thead th {\n",
       "        text-align: right;\n",
       "    }\n",
       "</style>\n",
       "<table border=\"1\" class=\"dataframe\">\n",
       "  <thead>\n",
       "    <tr style=\"text-align: right;\">\n",
       "      <th></th>\n",
       "      <th>hour</th>\n",
       "      <th>wakeup_glucose</th>\n",
       "      <th>sodium_mg</th>\n",
       "      <th>sugarstotal_g</th>\n",
       "      <th>alcohol_g</th>\n",
       "      <th>totallipid_g</th>\n",
       "      <th>protein_g</th>\n",
       "      <th>carbohydrate_g</th>\n",
       "      <th>totaldietaryfiber_g</th>\n",
       "      <th>energy_kcal</th>\n",
       "      <th>caffeine_mg</th>\n",
       "    </tr>\n",
       "  </thead>\n",
       "  <tbody>\n",
       "    <tr>\n",
       "      <th>hour</th>\n",
       "      <td>0</td>\n",
       "      <td>0.0189</td>\n",
       "      <td>0.7371</td>\n",
       "      <td>0.404</td>\n",
       "      <td>0.1191</td>\n",
       "      <td>0.7549</td>\n",
       "      <td>0.6032</td>\n",
       "      <td>0.6588</td>\n",
       "      <td>0.0208</td>\n",
       "      <td>0.7704</td>\n",
       "      <td>0.0222</td>\n",
       "    </tr>\n",
       "    <tr>\n",
       "      <th>wakeup_glucose</th>\n",
       "      <td>0.0189</td>\n",
       "      <td>0</td>\n",
       "      <td>0.9615</td>\n",
       "      <td>0.1841</td>\n",
       "      <td>0.164</td>\n",
       "      <td>0.0323</td>\n",
       "      <td>0.9784</td>\n",
       "      <td>0.4207</td>\n",
       "      <td>0.6841</td>\n",
       "      <td>0.2523</td>\n",
       "      <td>0.7184</td>\n",
       "    </tr>\n",
       "    <tr>\n",
       "      <th>sodium_mg</th>\n",
       "      <td>0.7371</td>\n",
       "      <td>0.9615</td>\n",
       "      <td>0</td>\n",
       "      <td>0.1948</td>\n",
       "      <td>0.8132</td>\n",
       "      <td>0.0717</td>\n",
       "      <td>0</td>\n",
       "      <td>0.0333</td>\n",
       "      <td>0.161</td>\n",
       "      <td>0</td>\n",
       "      <td>0.2908</td>\n",
       "    </tr>\n",
       "    <tr>\n",
       "      <th>sugarstotal_g</th>\n",
       "      <td>0.404</td>\n",
       "      <td>0.1841</td>\n",
       "      <td>0.1948</td>\n",
       "      <td>0</td>\n",
       "      <td>0.1609</td>\n",
       "      <td>0.0217</td>\n",
       "      <td>0.9274</td>\n",
       "      <td>0</td>\n",
       "      <td>0.0076</td>\n",
       "      <td>0.3416</td>\n",
       "      <td>0.4028</td>\n",
       "    </tr>\n",
       "    <tr>\n",
       "      <th>alcohol_g</th>\n",
       "      <td>0.1191</td>\n",
       "      <td>0.164</td>\n",
       "      <td>0.8132</td>\n",
       "      <td>0.1609</td>\n",
       "      <td>0</td>\n",
       "      <td>0.0507</td>\n",
       "      <td>0.3678</td>\n",
       "      <td>0.0361</td>\n",
       "      <td>0.1513</td>\n",
       "      <td>0.9646</td>\n",
       "      <td>0.245</td>\n",
       "    </tr>\n",
       "    <tr>\n",
       "      <th>totallipid_g</th>\n",
       "      <td>0.7549</td>\n",
       "      <td>0.0323</td>\n",
       "      <td>0.0717</td>\n",
       "      <td>0.0217</td>\n",
       "      <td>0.0507</td>\n",
       "      <td>0</td>\n",
       "      <td>0.0004</td>\n",
       "      <td>0.0156</td>\n",
       "      <td>0.6184</td>\n",
       "      <td>0</td>\n",
       "      <td>0.0227</td>\n",
       "    </tr>\n",
       "    <tr>\n",
       "      <th>protein_g</th>\n",
       "      <td>0.6032</td>\n",
       "      <td>0.9784</td>\n",
       "      <td>0</td>\n",
       "      <td>0.9274</td>\n",
       "      <td>0.3678</td>\n",
       "      <td>0.0004</td>\n",
       "      <td>0</td>\n",
       "      <td>0.1445</td>\n",
       "      <td>0.6505</td>\n",
       "      <td>0</td>\n",
       "      <td>0.0234</td>\n",
       "    </tr>\n",
       "    <tr>\n",
       "      <th>carbohydrate_g</th>\n",
       "      <td>0.6588</td>\n",
       "      <td>0.4207</td>\n",
       "      <td>0.0333</td>\n",
       "      <td>0</td>\n",
       "      <td>0.0361</td>\n",
       "      <td>0.0156</td>\n",
       "      <td>0.1445</td>\n",
       "      <td>0</td>\n",
       "      <td>0</td>\n",
       "      <td>0</td>\n",
       "      <td>0</td>\n",
       "    </tr>\n",
       "    <tr>\n",
       "      <th>totaldietaryfiber_g</th>\n",
       "      <td>0.0208</td>\n",
       "      <td>0.6841</td>\n",
       "      <td>0.161</td>\n",
       "      <td>0.0076</td>\n",
       "      <td>0.1513</td>\n",
       "      <td>0.6184</td>\n",
       "      <td>0.6505</td>\n",
       "      <td>0</td>\n",
       "      <td>0</td>\n",
       "      <td>0.0031</td>\n",
       "      <td>0.0026</td>\n",
       "    </tr>\n",
       "    <tr>\n",
       "      <th>energy_kcal</th>\n",
       "      <td>0.7704</td>\n",
       "      <td>0.2523</td>\n",
       "      <td>0</td>\n",
       "      <td>0.3416</td>\n",
       "      <td>0.9646</td>\n",
       "      <td>0</td>\n",
       "      <td>0</td>\n",
       "      <td>0</td>\n",
       "      <td>0.0031</td>\n",
       "      <td>0</td>\n",
       "      <td>0.3985</td>\n",
       "    </tr>\n",
       "    <tr>\n",
       "      <th>caffeine_mg</th>\n",
       "      <td>0.0222</td>\n",
       "      <td>0.7184</td>\n",
       "      <td>0.2908</td>\n",
       "      <td>0.4028</td>\n",
       "      <td>0.245</td>\n",
       "      <td>0.0227</td>\n",
       "      <td>0.0234</td>\n",
       "      <td>0</td>\n",
       "      <td>0.0026</td>\n",
       "      <td>0.3985</td>\n",
       "      <td>0</td>\n",
       "    </tr>\n",
       "  </tbody>\n",
       "</table>\n",
       "</div>"
      ],
      "text/plain": [
       "                       hour wakeup_glucose  ... energy_kcal caffeine_mg\n",
       "hour                      0         0.0189  ...      0.7704      0.0222\n",
       "wakeup_glucose       0.0189              0  ...      0.2523      0.7184\n",
       "sodium_mg            0.7371         0.9615  ...           0      0.2908\n",
       "sugarstotal_g         0.404         0.1841  ...      0.3416      0.4028\n",
       "alcohol_g            0.1191          0.164  ...      0.9646       0.245\n",
       "totallipid_g         0.7549         0.0323  ...           0      0.0227\n",
       "protein_g            0.6032         0.9784  ...           0      0.0234\n",
       "carbohydrate_g       0.6588         0.4207  ...           0           0\n",
       "totaldietaryfiber_g  0.0208         0.6841  ...      0.0031      0.0026\n",
       "energy_kcal          0.7704         0.2523  ...           0      0.3985\n",
       "caffeine_mg          0.0222         0.7184  ...      0.3985           0\n",
       "\n",
       "[11 rows x 11 columns]"
      ]
     },
     "execution_count": 235,
     "metadata": {},
     "output_type": "execute_result"
    }
   ],
   "source": [
    "calculate_pvalues(data.loc['111527']) "
   ]
  },
  {
   "cell_type": "code",
   "execution_count": 237,
   "metadata": {
    "ExecuteTime": {
     "end_time": "2020-02-16T15:36:15.366614Z",
     "start_time": "2020-02-16T15:36:15.126182Z"
    }
   },
   "outputs": [
    {
     "data": {
      "text/html": [
       "<div>\n",
       "<style scoped>\n",
       "    .dataframe tbody tr th:only-of-type {\n",
       "        vertical-align: middle;\n",
       "    }\n",
       "\n",
       "    .dataframe tbody tr th {\n",
       "        vertical-align: top;\n",
       "    }\n",
       "\n",
       "    .dataframe thead th {\n",
       "        text-align: right;\n",
       "    }\n",
       "</style>\n",
       "<table border=\"1\" class=\"dataframe\">\n",
       "  <thead>\n",
       "    <tr style=\"text-align: right;\">\n",
       "      <th></th>\n",
       "      <th>hour</th>\n",
       "      <th>wakeup_glucose</th>\n",
       "      <th>sodium_mg</th>\n",
       "      <th>sugarstotal_g</th>\n",
       "      <th>alcohol_g</th>\n",
       "      <th>totallipid_g</th>\n",
       "      <th>protein_g</th>\n",
       "      <th>carbohydrate_g</th>\n",
       "      <th>totaldietaryfiber_g</th>\n",
       "      <th>energy_kcal</th>\n",
       "      <th>caffeine_mg</th>\n",
       "    </tr>\n",
       "  </thead>\n",
       "  <tbody>\n",
       "    <tr>\n",
       "      <th>hour</th>\n",
       "      <td>0</td>\n",
       "      <td>0.0115</td>\n",
       "      <td>0.3917</td>\n",
       "      <td>0.485</td>\n",
       "      <td>0.0652</td>\n",
       "      <td>0.6374</td>\n",
       "      <td>0.5703</td>\n",
       "      <td>0.605</td>\n",
       "      <td>0.0705</td>\n",
       "      <td>0.9927</td>\n",
       "      <td>0.064</td>\n",
       "    </tr>\n",
       "    <tr>\n",
       "      <th>wakeup_glucose</th>\n",
       "      <td>0.0115</td>\n",
       "      <td>0</td>\n",
       "      <td>0.923</td>\n",
       "      <td>0.1773</td>\n",
       "      <td>0.0783</td>\n",
       "      <td>0.0278</td>\n",
       "      <td>0.9512</td>\n",
       "      <td>0.1126</td>\n",
       "      <td>0.8684</td>\n",
       "      <td>0.1116</td>\n",
       "      <td>0.9351</td>\n",
       "    </tr>\n",
       "    <tr>\n",
       "      <th>sodium_mg</th>\n",
       "      <td>0.3917</td>\n",
       "      <td>0.923</td>\n",
       "      <td>0</td>\n",
       "      <td>0.794</td>\n",
       "      <td>0.8591</td>\n",
       "      <td>0.1912</td>\n",
       "      <td>0</td>\n",
       "      <td>0.0478</td>\n",
       "      <td>0.098</td>\n",
       "      <td>0</td>\n",
       "      <td>0.7232</td>\n",
       "    </tr>\n",
       "    <tr>\n",
       "      <th>sugarstotal_g</th>\n",
       "      <td>0.485</td>\n",
       "      <td>0.1773</td>\n",
       "      <td>0.794</td>\n",
       "      <td>0</td>\n",
       "      <td>0.5769</td>\n",
       "      <td>0.0393</td>\n",
       "      <td>0.7193</td>\n",
       "      <td>0.0083</td>\n",
       "      <td>0.0034</td>\n",
       "      <td>0.8196</td>\n",
       "      <td>0.7506</td>\n",
       "    </tr>\n",
       "    <tr>\n",
       "      <th>alcohol_g</th>\n",
       "      <td>0.0652</td>\n",
       "      <td>0.0783</td>\n",
       "      <td>0.8591</td>\n",
       "      <td>0.5769</td>\n",
       "      <td>0</td>\n",
       "      <td>0.6556</td>\n",
       "      <td>0.2193</td>\n",
       "      <td>0.0061</td>\n",
       "      <td>0.2389</td>\n",
       "      <td>0.2907</td>\n",
       "      <td>0.4625</td>\n",
       "    </tr>\n",
       "    <tr>\n",
       "      <th>totallipid_g</th>\n",
       "      <td>0.6374</td>\n",
       "      <td>0.0278</td>\n",
       "      <td>0.1912</td>\n",
       "      <td>0.0393</td>\n",
       "      <td>0.6556</td>\n",
       "      <td>0</td>\n",
       "      <td>0.0033</td>\n",
       "      <td>0.9331</td>\n",
       "      <td>0.9188</td>\n",
       "      <td>0</td>\n",
       "      <td>0.1353</td>\n",
       "    </tr>\n",
       "    <tr>\n",
       "      <th>protein_g</th>\n",
       "      <td>0.5703</td>\n",
       "      <td>0.9512</td>\n",
       "      <td>0</td>\n",
       "      <td>0.7193</td>\n",
       "      <td>0.2193</td>\n",
       "      <td>0.0033</td>\n",
       "      <td>0</td>\n",
       "      <td>0.2898</td>\n",
       "      <td>0.7468</td>\n",
       "      <td>0</td>\n",
       "      <td>0.0577</td>\n",
       "    </tr>\n",
       "    <tr>\n",
       "      <th>carbohydrate_g</th>\n",
       "      <td>0.605</td>\n",
       "      <td>0.1126</td>\n",
       "      <td>0.0478</td>\n",
       "      <td>0.0083</td>\n",
       "      <td>0.0061</td>\n",
       "      <td>0.9331</td>\n",
       "      <td>0.2898</td>\n",
       "      <td>0</td>\n",
       "      <td>0</td>\n",
       "      <td>0</td>\n",
       "      <td>0.0099</td>\n",
       "    </tr>\n",
       "    <tr>\n",
       "      <th>totaldietaryfiber_g</th>\n",
       "      <td>0.0705</td>\n",
       "      <td>0.8684</td>\n",
       "      <td>0.098</td>\n",
       "      <td>0.0034</td>\n",
       "      <td>0.2389</td>\n",
       "      <td>0.9188</td>\n",
       "      <td>0.7468</td>\n",
       "      <td>0</td>\n",
       "      <td>0</td>\n",
       "      <td>0.0009</td>\n",
       "      <td>0.021</td>\n",
       "    </tr>\n",
       "    <tr>\n",
       "      <th>energy_kcal</th>\n",
       "      <td>0.9927</td>\n",
       "      <td>0.1116</td>\n",
       "      <td>0</td>\n",
       "      <td>0.8196</td>\n",
       "      <td>0.2907</td>\n",
       "      <td>0</td>\n",
       "      <td>0</td>\n",
       "      <td>0</td>\n",
       "      <td>0.0009</td>\n",
       "      <td>0</td>\n",
       "      <td>0.472</td>\n",
       "    </tr>\n",
       "    <tr>\n",
       "      <th>caffeine_mg</th>\n",
       "      <td>0.064</td>\n",
       "      <td>0.9351</td>\n",
       "      <td>0.7232</td>\n",
       "      <td>0.7506</td>\n",
       "      <td>0.4625</td>\n",
       "      <td>0.1353</td>\n",
       "      <td>0.0577</td>\n",
       "      <td>0.0099</td>\n",
       "      <td>0.021</td>\n",
       "      <td>0.472</td>\n",
       "      <td>0</td>\n",
       "    </tr>\n",
       "  </tbody>\n",
       "</table>\n",
       "</div>"
      ],
      "text/plain": [
       "                       hour wakeup_glucose  ... energy_kcal caffeine_mg\n",
       "hour                      0         0.0115  ...      0.9927       0.064\n",
       "wakeup_glucose       0.0115              0  ...      0.1116      0.9351\n",
       "sodium_mg            0.3917          0.923  ...           0      0.7232\n",
       "sugarstotal_g         0.485         0.1773  ...      0.8196      0.7506\n",
       "alcohol_g            0.0652         0.0783  ...      0.2907      0.4625\n",
       "totallipid_g         0.6374         0.0278  ...           0      0.1353\n",
       "protein_g            0.5703         0.9512  ...           0      0.0577\n",
       "carbohydrate_g        0.605         0.1126  ...           0      0.0099\n",
       "totaldietaryfiber_g  0.0705         0.8684  ...      0.0009       0.021\n",
       "energy_kcal          0.9927         0.1116  ...           0       0.472\n",
       "caffeine_mg           0.064         0.9351  ...       0.472           0\n",
       "\n",
       "[11 rows x 11 columns]"
      ]
     },
     "execution_count": 237,
     "metadata": {},
     "output_type": "execute_result"
    }
   ],
   "source": [
    "calculate_pvalues(data.loc['111527']) "
   ]
  },
  {
   "cell_type": "code",
   "execution_count": 240,
   "metadata": {
    "ExecuteTime": {
     "end_time": "2020-02-16T15:41:10.152186Z",
     "start_time": "2020-02-16T15:41:10.121017Z"
    }
   },
   "outputs": [
    {
     "data": {
      "text/html": [
       "<div>\n",
       "<style scoped>\n",
       "    .dataframe tbody tr th:only-of-type {\n",
       "        vertical-align: middle;\n",
       "    }\n",
       "\n",
       "    .dataframe tbody tr th {\n",
       "        vertical-align: top;\n",
       "    }\n",
       "\n",
       "    .dataframe thead th {\n",
       "        text-align: right;\n",
       "    }\n",
       "</style>\n",
       "<table border=\"1\" class=\"dataframe\">\n",
       "  <thead>\n",
       "    <tr style=\"text-align: right;\">\n",
       "      <th></th>\n",
       "      <th>wakeup_glucose</th>\n",
       "      <th>sodium_mg</th>\n",
       "      <th>sugarstotal_g</th>\n",
       "      <th>totallipid_g</th>\n",
       "      <th>protein_g</th>\n",
       "      <th>carbohydrate_g</th>\n",
       "      <th>totaldietaryfiber_g</th>\n",
       "      <th>energy_kcal</th>\n",
       "      <th>caffeine_mg</th>\n",
       "    </tr>\n",
       "    <tr>\n",
       "      <th>RegistrationCode</th>\n",
       "      <th></th>\n",
       "      <th></th>\n",
       "      <th></th>\n",
       "      <th></th>\n",
       "      <th></th>\n",
       "      <th></th>\n",
       "      <th></th>\n",
       "      <th></th>\n",
       "      <th></th>\n",
       "    </tr>\n",
       "  </thead>\n",
       "  <tbody>\n",
       "    <tr>\n",
       "      <th>111527</th>\n",
       "      <td>103.071429</td>\n",
       "      <td>2000.838539</td>\n",
       "      <td>6.538000</td>\n",
       "      <td>79.052895</td>\n",
       "      <td>73.624292</td>\n",
       "      <td>231.320475</td>\n",
       "      <td>12.664168</td>\n",
       "      <td>1919.71453</td>\n",
       "      <td>558.00</td>\n",
       "    </tr>\n",
       "    <tr>\n",
       "      <th>111527</th>\n",
       "      <td>98.071429</td>\n",
       "      <td>1691.501330</td>\n",
       "      <td>6.313964</td>\n",
       "      <td>58.201139</td>\n",
       "      <td>50.789459</td>\n",
       "      <td>194.751503</td>\n",
       "      <td>11.263018</td>\n",
       "      <td>1517.15022</td>\n",
       "      <td>562.50</td>\n",
       "    </tr>\n",
       "    <tr>\n",
       "      <th>111527</th>\n",
       "      <td>101.321429</td>\n",
       "      <td>2289.811585</td>\n",
       "      <td>5.414400</td>\n",
       "      <td>73.305995</td>\n",
       "      <td>79.098687</td>\n",
       "      <td>265.900131</td>\n",
       "      <td>13.546815</td>\n",
       "      <td>2087.21548</td>\n",
       "      <td>328.50</td>\n",
       "    </tr>\n",
       "    <tr>\n",
       "      <th>111527</th>\n",
       "      <td>107.071429</td>\n",
       "      <td>1862.517280</td>\n",
       "      <td>25.698000</td>\n",
       "      <td>44.786748</td>\n",
       "      <td>48.809778</td>\n",
       "      <td>160.317880</td>\n",
       "      <td>16.807222</td>\n",
       "      <td>1317.76292</td>\n",
       "      <td>328.50</td>\n",
       "    </tr>\n",
       "    <tr>\n",
       "      <th>111527</th>\n",
       "      <td>106.071429</td>\n",
       "      <td>3063.713740</td>\n",
       "      <td>83.697100</td>\n",
       "      <td>70.233976</td>\n",
       "      <td>78.098902</td>\n",
       "      <td>231.655018</td>\n",
       "      <td>12.343034</td>\n",
       "      <td>1871.10702</td>\n",
       "      <td>305.22</td>\n",
       "    </tr>\n",
       "  </tbody>\n",
       "</table>\n",
       "</div>"
      ],
      "text/plain": [
       "                  wakeup_glucose    sodium_mg  ...  energy_kcal  caffeine_mg\n",
       "RegistrationCode                               ...                          \n",
       "111527                103.071429  2000.838539  ...   1919.71453       558.00\n",
       "111527                 98.071429  1691.501330  ...   1517.15022       562.50\n",
       "111527                101.321429  2289.811585  ...   2087.21548       328.50\n",
       "111527                107.071429  1862.517280  ...   1317.76292       328.50\n",
       "111527                106.071429  3063.713740  ...   1871.10702       305.22\n",
       "\n",
       "[5 rows x 9 columns]"
      ]
     },
     "execution_count": 240,
     "metadata": {},
     "output_type": "execute_result"
    }
   ],
   "source": [
    "data.head()"
   ]
  },
  {
   "cell_type": "code",
   "execution_count": 239,
   "metadata": {
    "ExecuteTime": {
     "end_time": "2020-02-16T15:41:06.125717Z",
     "start_time": "2020-02-16T15:41:06.118852Z"
    }
   },
   "outputs": [],
   "source": [
    "data = data.drop(columns=['Day', 'hour', 'alcohol_g'])"
   ]
  },
  {
   "cell_type": "code",
   "execution_count": 249,
   "metadata": {
    "ExecuteTime": {
     "end_time": "2020-02-16T16:05:37.242779Z",
     "start_time": "2020-02-16T16:05:35.371079Z"
    },
    "scrolled": false
   },
   "outputs": [
    {
     "name": "stdout",
     "output_type": "stream",
     "text": [
      "12752 caffeine_mg (0.352731094945485, 0.0016531339040625236)\n",
      "132178 sodium_mg (0.36288815039490574, 7.263639574688936e-06)\n",
      "133828 protein_g (0.3077226925263878, 0.011953992807919549)\n",
      "133828 totaldietaryfiber_g (-0.3004777230455447, 0.014230608586051194)\n",
      "136529 energy_kcal (0.3137708497608197, 0.0005402830670039146)\n",
      "199369 carbohydrate_g (0.30450689032431055, 0.00013662045957123835)\n",
      "207579 totaldietaryfiber_g (0.3795477241358315, 0.0016719441742114344)\n",
      "216303 energy_kcal (0.40696519537433434, 0.000519964121282894)\n",
      "24153 caffeine_mg (-0.32458152654713684, 0.00575146836986471)\n",
      "243235 protein_g (0.31397215971795667, 0.006085372434603522)\n",
      "287239 energy_kcal (0.30030371905268066, 0.0002683584768583598)\n",
      "2893 protein_g (0.3203623008982176, 0.0005110626931836191)\n",
      "300747 sodium_mg (-0.32097171345153597, 0.0005931772716818834)\n",
      "309076 energy_kcal (0.35520884335010827, 0.000550232488611803)\n",
      "313112 totaldietaryfiber_g (-0.31853113091596286, 0.02136743377235356)\n",
      "328155 carbohydrate_g (-0.3078819981822353, 0.003156610559421482)\n",
      "3375786 sodium_mg (-0.3766574536345506, 0.00041337125958117025)\n",
      "3375786 carbohydrate_g (-0.3245924002125963, 0.002592099728274604)\n",
      "351160 totaldietaryfiber_g (-0.36420049159537166, 0.019235385300978902)\n",
      "356171 carbohydrate_g (-0.35228210313139685, 0.01634717642063783)\n",
      "356171 caffeine_mg (-0.3453574252585623, 0.01873798471054533)\n",
      "372475 sugarstotal_g (-0.35444577840142155, 0.00027625258202756785)\n",
      "372475 carbohydrate_g (-0.31036386469161786, 0.0015848563128313619)\n",
      "429763 energy_kcal (0.3173250266360236, 0.02473881587034967)\n",
      "448705 sugarstotal_g (-0.3391627078694704, 0.0004012026935968177)\n",
      "451959 carbohydrate_g (0.4306490370740731, 2.83178112948058e-07)\n",
      "494678 sodium_mg (0.30118644647278436, 0.0028644349336076663)\n",
      "533401 carbohydrate_g (0.3108751302682966, 0.0024217447884527644)\n",
      "533401 energy_kcal (0.31788934354821147, 0.00190203162083224)\n",
      "533401 caffeine_mg (0.41673252275252043, 3.250835167458623e-05)\n",
      "550818 caffeine_mg (-0.3113649817377997, 0.0097500048660102)\n",
      "579543 carbohydrate_g (0.30938674304684655, 0.0012504045352344903)\n",
      "599101 energy_kcal (0.31053325370286666, 0.02817507122066296)\n",
      "630920 carbohydrate_g (0.32279026208685374, 0.004456021291993916)\n",
      "630920 energy_kcal (0.3401333851193178, 0.0026449028438328462)\n",
      "656660 caffeine_mg (0.35119324559842385, 0.004769717278064699)\n",
      "693878 sodium_mg (0.31446285443450217, 0.017203682014549356)\n",
      "693878 protein_g (0.3635399136481397, 0.005441604734756222)\n",
      "721061 totaldietaryfiber_g (-0.3528051086761543, 0.013911789585065216)\n",
      "745073 caffeine_mg (0.37042196530721894, 6.796565334316516e-05)\n",
      "753413 sodium_mg (0.3149263735268527, 0.00022247469565178575)\n",
      "753413 sugarstotal_g (0.31509119998334, 0.0002206990532085633)\n",
      "753413 totallipid_g (-0.3639886670924469, 1.6564643867065854e-05)\n",
      "753413 protein_g (0.3120155118418214, 0.00025610036184892473)\n",
      "753413 carbohydrate_g (0.4105708804387293, 9.180678323155194e-07)\n",
      "753413 caffeine_mg (0.4080965663621885, 1.082727264029682e-06)\n",
      "78283 totallipid_g (0.30539639894259185, 0.0012414383514848908)\n",
      "783563 sodium_mg (0.32643155027119913, 0.0051342614938773784)\n",
      "783563 totallipid_g (0.30796380791600103, 0.008495380645587716)\n",
      "783563 protein_g (0.38857001383866996, 0.0007435126181538809)\n",
      "783563 energy_kcal (0.3459489668157126, 0.0029146976631462132)\n",
      "794434 caffeine_mg (-0.32914393409413545, 8.087007034461871e-05)\n",
      "794542 carbohydrate_g (0.35835660181848694, 0.0001400399633622738)\n",
      "794542 energy_kcal (0.3471372470504158, 0.0002325723058328846)\n",
      "800808 totallipid_g (0.37163047289866236, 0.0021241829835625123)\n",
      "800808 energy_kcal (0.3162805357332317, 0.009676950324678009)\n",
      "804157 carbohydrate_g (0.316480740863554, 0.023660517837902115)\n",
      "81477 protein_g (0.3012847436149241, 0.013959795825133575)\n",
      "820101 energy_kcal (0.31639306989207944, 0.02677263102977726)\n",
      "825349 totaldietaryfiber_g (0.3067958552189317, 0.03809500347606629)\n",
      "832748 totaldietaryfiber_g (-0.4336097030217184, 5.669843472222318e-08)\n",
      "834183 sugarstotal_g (0.30073663387439314, 0.00248933464288104)\n",
      "895129 carbohydrate_g (0.3368343244769538, 0.0035693609549772637)\n",
      "895129 energy_kcal (0.3691754370409096, 0.001308335123253043)\n",
      "904671 totaldietaryfiber_g (-0.335881296502755, 0.029653814318424367)\n",
      "91050 totallipid_g (-0.42681679575610415, 1.3028945132580483e-05)\n",
      "91050 carbohydrate_g (0.3405788376949513, 0.0006413939355672832)\n",
      "91050 totaldietaryfiber_g (0.36076664130857294, 0.0002832800962033769)\n",
      "93282 caffeine_mg (0.3962916059540736, 1.2730264175404144e-05)\n",
      "933765 sodium_mg (0.35905021072879284, 3.607757049514594e-06)\n",
      "933765 carbohydrate_g (0.42137243223069215, 3.519175854115163e-08)\n",
      "933765 energy_kcal (0.3635492703333176, 2.6644386478705207e-06)\n"
     ]
    }
   ],
   "source": [
    "for rc in data.index.unique():\n",
    "    for column in data.columns:\n",
    "        pearson = pearsonr(data.loc[rc]['wakeup_glucose'], data.loc[rc][column])\n",
    "        if abs(pearson[0]) > 0.3 and pearson[1] < 0.05 and column != 'wakeup_glucose':\n",
    "            print(rc, column, pearson)"
   ]
  },
  {
   "cell_type": "code",
   "execution_count": 256,
   "metadata": {
    "ExecuteTime": {
     "end_time": "2020-02-16T16:17:13.480815Z",
     "start_time": "2020-02-16T16:17:10.059855Z"
    }
   },
   "outputs": [
    {
     "name": "stdout",
     "output_type": "stream",
     "text": [
      "12752 caffeine_mg SpearmanrResult(correlation=0.436132981144565, pvalue=7.342704836840676e-05)\n",
      "133828 protein_g SpearmanrResult(correlation=0.30233067876272357, pvalue=0.013615427102934698)\n",
      "136529 energy_kcal SpearmanrResult(correlation=0.37295872996225693, pvalue=3.1917143347781134e-05)\n",
      "154750 totaldietaryfiber_g SpearmanrResult(correlation=-0.31614558858043884, pvalue=0.0021402288222861273)\n",
      "158748 carbohydrate_g SpearmanrResult(correlation=0.31804500047693696, pvalue=0.0008427240786716317)\n",
      "158748 caffeine_mg SpearmanrResult(correlation=0.3254169677165141, pvalue=0.0006257750829450217)\n",
      "199369 carbohydrate_g SpearmanrResult(correlation=0.3099267774610361, pvalue=0.00010207325617196608)\n",
      "207579 totaldietaryfiber_g SpearmanrResult(correlation=0.3868233725685297, pvalue=0.001334704492469256)\n",
      "215130 carbohydrate_g SpearmanrResult(correlation=0.310588864920942, pvalue=3.754044121062535e-05)\n",
      "216303 sodium_mg SpearmanrResult(correlation=0.38299777333931173, pvalue=0.0011617625926831066)\n",
      "216303 energy_kcal SpearmanrResult(correlation=0.3639967866354581, pvalue=0.0021081355305351177)\n",
      "243235 protein_g SpearmanrResult(correlation=0.35547241756683406, pvalue=0.0017500172221305648)\n",
      "243235 energy_kcal SpearmanrResult(correlation=0.33771942316436054, pvalue=0.0030445925859008903)\n",
      "2893 protein_g SpearmanrResult(correlation=0.33379100295542713, pvalue=0.0002841894241302278)\n",
      "300747 sodium_mg SpearmanrResult(correlation=-0.32196879124000477, pvalue=0.0005689716475934142)\n",
      "309076 carbohydrate_g SpearmanrResult(correlation=0.3210489014984852, pvalue=0.0019166571685546772)\n",
      "309076 energy_kcal SpearmanrResult(correlation=0.3661519840216745, pvalue=0.0003578278402943442)\n",
      "309076 caffeine_mg SpearmanrResult(correlation=0.3450580699545461, pvalue=0.000809149257194592)\n",
      "331758 sodium_mg SpearmanrResult(correlation=-0.31536884313516156, pvalue=0.0029266255410272143)\n",
      "3375786 sodium_mg SpearmanrResult(correlation=-0.3376970507113521, pvalue=0.0016808363169553565)\n",
      "351160 totaldietaryfiber_g SpearmanrResult(correlation=-0.4091998118312843, pvalue=0.007894179460978394)\n",
      "356171 carbohydrate_g SpearmanrResult(correlation=-0.3566450817144619, pvalue=0.014977839622445437)\n",
      "356171 caffeine_mg SpearmanrResult(correlation=-0.3241701833248109, pvalue=0.027959705288121604)\n",
      "372475 sugarstotal_g SpearmanrResult(correlation=-0.3881278539405256, pvalue=6.059384483293886e-05)\n",
      "372475 carbohydrate_g SpearmanrResult(correlation=-0.37594825761393713, pvalue=0.0001069158937065552)\n",
      "429763 energy_kcal SpearmanrResult(correlation=0.3342617046818727, pvalue=0.017668514617933933)\n",
      "448705 sugarstotal_g SpearmanrResult(correlation=-0.32259368800837773, pvalue=0.000790123962503831)\n",
      "451959 carbohydrate_g SpearmanrResult(correlation=0.3909687940991059, pvalue=3.891488569885068e-06)\n",
      "533401 carbohydrate_g SpearmanrResult(correlation=0.4209305188270414, pvalue=2.653421395807941e-05)\n",
      "533401 energy_kcal SpearmanrResult(correlation=0.3581449305660773, pvalue=0.0004238103042766163)\n",
      "533401 caffeine_mg SpearmanrResult(correlation=0.3193690348088015, pvalue=0.001806201998976375)\n",
      "599101 totallipid_g SpearmanrResult(correlation=0.35736752393311316, pvalue=0.010840337508581526)\n",
      "599101 carbohydrate_g SpearmanrResult(correlation=0.3156858508917342, pvalue=0.025534172084285663)\n",
      "599101 totaldietaryfiber_g SpearmanrResult(correlation=0.35275756931102514, pvalue=0.011983408993738925)\n",
      "599101 energy_kcal SpearmanrResult(correlation=0.4239237437895086, pvalue=0.0021558684044512486)\n",
      "630920 carbohydrate_g SpearmanrResult(correlation=0.3356368982444929, pvalue=0.003036535135437382)\n",
      "656660 caffeine_mg SpearmanrResult(correlation=0.45518636680975866, pvalue=0.00017806457999904794)\n",
      "693878 protein_g SpearmanrResult(correlation=0.35308225911996155, pvalue=0.0070594798074123406)\n",
      "721061 sodium_mg SpearmanrResult(correlation=-0.32584269710923125, pvalue=0.02381693085689775)\n",
      "721061 totaldietaryfiber_g SpearmanrResult(correlation=-0.3953210666411013, pvalue=0.005420180794471879)\n",
      "745073 caffeine_mg SpearmanrResult(correlation=0.40000757712215174, pvalue=1.4939627345171981e-05)\n",
      "753413 caffeine_mg SpearmanrResult(correlation=0.4261376029263494, pvalue=3.153218439041085e-07)\n",
      "783563 sodium_mg SpearmanrResult(correlation=0.3672160141965131, pvalue=0.0015085182105038645)\n",
      "783563 totallipid_g SpearmanrResult(correlation=0.335139480708968, pvalue=0.004005784178077716)\n",
      "783563 protein_g SpearmanrResult(correlation=0.331955945054565, pvalue=0.004389835112043272)\n",
      "783563 energy_kcal SpearmanrResult(correlation=0.33438379295261983, pvalue=0.0040941410519705415)\n",
      "794434 caffeine_mg SpearmanrResult(correlation=-0.3029886369581094, pvalue=0.000303580076836634)\n",
      "794542 carbohydrate_g SpearmanrResult(correlation=0.3720269993853916, pvalue=7.354763840270823e-05)\n",
      "800808 totallipid_g SpearmanrResult(correlation=0.4177060610399847, pvalue=0.0004837240466038637)\n",
      "800808 energy_kcal SpearmanrResult(correlation=0.3297185024551003, pvalue=0.006860976913955971)\n",
      "81477 protein_g SpearmanrResult(correlation=0.3205719653480848, pvalue=0.00868452483994291)\n",
      "820101 energy_kcal SpearmanrResult(correlation=0.3662431761489573, pvalue=0.00964982642831932)\n",
      "825349 totaldietaryfiber_g SpearmanrResult(correlation=0.3288102165275584, pvalue=0.025669910952959323)\n",
      "834183 caffeine_mg SpearmanrResult(correlation=0.3488328846639351, pvalue=0.00040225823581752193)\n",
      "859286 energy_kcal SpearmanrResult(correlation=0.310953055305944, pvalue=0.0001333917208676184)\n",
      "895129 carbohydrate_g SpearmanrResult(correlation=0.37401559620694996, pvalue=0.0011156785135828034)\n",
      "895129 energy_kcal SpearmanrResult(correlation=0.33296566832463637, pvalue=0.003997257045603565)\n",
      "904671 totaldietaryfiber_g SpearmanrResult(correlation=-0.39309590405427386, pvalue=0.010016192935298514)\n",
      "91050 totallipid_g SpearmanrResult(correlation=-0.5277428942529532, pvalue=2.7826320841271525e-08)\n",
      "91050 carbohydrate_g SpearmanrResult(correlation=0.474880500838634, pvalue=8.898835268373788e-07)\n",
      "91050 totaldietaryfiber_g SpearmanrResult(correlation=0.30213093310631783, pvalue=0.0026324043438572045)\n",
      "93282 caffeine_mg SpearmanrResult(correlation=0.46564978489736714, pvalue=1.784117394169699e-07)\n",
      "933765 sodium_mg SpearmanrResult(correlation=0.3250932523658801, pvalue=3.0770279763921195e-05)\n",
      "933765 carbohydrate_g SpearmanrResult(correlation=0.435327280808238, pvalue=1.0892604096647405e-08)\n",
      "933765 energy_kcal SpearmanrResult(correlation=0.36845331905774387, pvalue=1.9047398729406542e-06)\n",
      "997735 energy_kcal SpearmanrResult(correlation=0.31655990485210683, pvalue=0.00030467392698758537)\n"
     ]
    }
   ],
   "source": [
    "for rc in data.index.unique():\n",
    "    for column in data.columns:\n",
    "        spearman = spearmanr(data.loc[rc]['wakeup_glucose'], data.loc[rc][column])\n",
    "        if abs(spearman[0]) > 0.3 and spearman[1] < 0.05 and column != 'wakeup_glucose':\n",
    "            print(rc, column, spearman)"
   ]
  },
  {
   "cell_type": "code",
   "execution_count": 244,
   "metadata": {
    "ExecuteTime": {
     "end_time": "2020-02-16T15:55:31.063015Z",
     "start_time": "2020-02-16T15:55:31.055793Z"
    }
   },
   "outputs": [
    {
     "data": {
      "text/plain": [
       "(-0.1850918415032243, 0.03226954982586139)"
      ]
     },
     "execution_count": 244,
     "metadata": {},
     "output_type": "execute_result"
    }
   ],
   "source": [
    "pearsonr(data.loc['111527']['wakeup_glucose'], data.loc['111527']['totallipid_g'])"
   ]
  },
  {
   "cell_type": "code",
   "execution_count": 260,
   "metadata": {
    "ExecuteTime": {
     "end_time": "2020-02-16T16:28:24.821476Z",
     "start_time": "2020-02-16T16:28:24.644736Z"
    }
   },
   "outputs": [
    {
     "data": {
      "text/plain": [
       "<matplotlib.axes._subplots.AxesSubplot at 0x2af9e4661490>"
      ]
     },
     "execution_count": 260,
     "metadata": {},
     "output_type": "execute_result"
    },
    {
     "data": {
      "image/png": "[encoded data removed]",
      "text/plain": [
       "<Figure size 432x288 with 1 Axes>"
      ]
     },
     "metadata": {},
     "output_type": "display_data"
    }
   ],
   "source": [
    "data.loc['93282'].plot.scatter(x='caffeine_mg', y='wakeup_glucose')"
   ]
  },
  {
   "cell_type": "code",
   "execution_count": 262,
   "metadata": {
    "ExecuteTime": {
     "end_time": "2020-02-16T16:34:08.389530Z",
     "start_time": "2020-02-16T16:34:08.382716Z"
    }
   },
   "outputs": [
    {
     "data": {
      "text/plain": [
       "(0.10863124248225978, 1.5116768004638453e-60)"
      ]
     },
     "execution_count": 262,
     "metadata": {},
     "output_type": "execute_result"
    }
   ],
   "source": [
    "pearsonr(data['wakeup_glucose'], data['totallipid_g'])"
   ]
  },
  {
   "cell_type": "code",
   "execution_count": null,
   "metadata": {},
   "outputs": [],
   "source": []
  }
 ],
 "metadata": {
  "kernelspec": {
   "display_name": "Python 3",
   "language": "python",
   "name": "python3"
  },
  "language_info": {
   "codemirror_mode": {
    "name": "ipython",
    "version": 3
   },
   "file_extension": ".py",
   "mimetype": "text/x-python",
   "name": "python",
   "nbconvert_exporter": "python",
   "pygments_lexer": "ipython3",
   "version": "3.7.5"
  },
  "toc": {
   "base_numbering": 1,
   "nav_menu": {},
   "number_sections": true,
   "sideBar": true,
   "skip_h1_title": false,
   "title_cell": "Table of Contents",
   "title_sidebar": "Contents",
   "toc_cell": false,
   "toc_position": {},
   "toc_section_display": true,
   "toc_window_display": true
  },
  "varInspector": {
   "cols": {
    "lenName": 16,
    "lenType": 16,
    "lenVar": 40
   },
   "kernels_config": {
    "python": {
     "delete_cmd_postfix": "",
     "delete_cmd_prefix": "del ",
     "library": "var_list.py",
     "varRefreshCmd": "print(var_dic_list())"
    },
    "r": {
     "delete_cmd_postfix": ") ",
     "delete_cmd_prefix": "rm(",
     "library": "var_list.r",
     "varRefreshCmd": "cat(var_dic_list()) "
    }
   },
   "types_to_exclude": [
    "module",
    "function",
    "builtin_function_or_method",
    "instance",
    "_Feature"
   ],
   "window_display": false
  }
 },
 "nbformat": 4,
 "nbformat_minor": 2
}
