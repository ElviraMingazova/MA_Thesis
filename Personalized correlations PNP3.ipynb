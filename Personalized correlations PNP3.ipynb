{
 "cells": [
  {
   "cell_type": "markdown",
   "metadata": {},
   "source": [
    "# Personalized correlations PNP3\n",
    "\n",
    " *Wake up glucose vs diet the day before*"
   ]
  },
  {
   "cell_type": "markdown",
   "metadata": {},
   "source": [
    "The idea is that wakeup glucose is not the same on different days for the same person. I want to understand if it is due to the dietal behavior the day before. Also I want to see if associations between the food in the previous day and the wakeup glucose are different for different people. PNP3 cohort is suitable for this purpose because each person had more than 100 days of CGM connections."
   ]
  },
  {
   "cell_type": "markdown",
   "metadata": {},
   "source": [
    "I have to start with computing the wakeup glucose for all the people and each day. The method is to use the time between 6 and 7 unless a person logged the food at this time. Also I have to filter out days and people who logged any food after midnight."
   ]
  },
  {
   "cell_type": "code",
   "execution_count": 1,
   "metadata": {
    "ExecuteTime": {
     "end_time": "2020-02-13T11:00:29.951057Z",
     "start_time": "2020-02-13T11:00:29.719006Z"
    }
   },
   "outputs": [],
   "source": [
    "import pandas as pd\n",
    "from LabData.DataLoaders.CGMLoader import CGMLoader\n",
    "from LabData.DataLoaders.DietLoggingLoader import DietLoggingLoader\n",
    "import datetime\n",
    "%matplotlib inline\n",
    "cgml = CGMLoader()\n",
    "dll = DietLoggingLoader()"
   ]
  },
  {
   "cell_type": "code",
   "execution_count": 121,
   "metadata": {
    "ExecuteTime": {
     "end_time": "2020-02-13T14:40:58.869858Z",
     "start_time": "2020-02-13T14:40:58.865322Z"
    }
   },
   "outputs": [],
   "source": [
    "import matplotlib.pyplot as plt\n",
    "import matplotlib\n",
    "matplotlib.style.use('ggplot')"
   ]
  },
  {
   "cell_type": "markdown",
   "metadata": {},
   "source": [
    "## Calculating wakeup glucose"
   ]
  },
  {
   "cell_type": "code",
   "execution_count": 5,
   "metadata": {
    "ExecuteTime": {
     "end_time": "2020-02-13T11:10:08.578363Z",
     "start_time": "2020-02-13T11:08:29.392130Z"
    }
   },
   "outputs": [],
   "source": [
    "cgmdf = cgml.get_data(study_ids=[3,49]).df\n",
    "cgmdf = cgml._remove_first_day_of_connections(cgmdf)"
   ]
  },
  {
   "cell_type": "code",
   "execution_count": 6,
   "metadata": {
    "ExecuteTime": {
     "end_time": "2020-02-13T11:10:10.044853Z",
     "start_time": "2020-02-13T11:10:09.051840Z"
    }
   },
   "outputs": [],
   "source": [
    "cgmdf = cgmdf.reset_index()\n",
    "cgmdf['hour'] = cgmdf.Date.dt.hour\n",
    "cgmdf = cgmdf.set_index('Date')\n",
    "cgmdf.index = cgmdf.index.tz_localize(None)"
   ]
  },
  {
   "cell_type": "code",
   "execution_count": 7,
   "metadata": {
    "ExecuteTime": {
     "end_time": "2020-02-13T11:10:19.225013Z",
     "start_time": "2020-02-13T11:10:19.057373Z"
    }
   },
   "outputs": [
    {
     "data": {
      "text/plain": [
       "263"
      ]
     },
     "execution_count": 7,
     "metadata": {},
     "output_type": "execute_result"
    }
   ],
   "source": [
    "cgmdf['RegistrationCode'].nunique()"
   ]
  },
  {
   "cell_type": "code",
   "execution_count": 3,
   "metadata": {
    "ExecuteTime": {
     "end_time": "2020-02-13T11:03:42.146683Z",
     "start_time": "2020-02-13T11:02:34.387252Z"
    }
   },
   "outputs": [],
   "source": [
    "adj_gluc = pd.read_json('/home/elming/Cache/adj_gl.json')\n",
    "adj_gluc['ConnectionID'] = adj_gluc['ConnectionID'].astype(str)\n",
    "adj_gluc['GlucoseTimestamp'] = pd.to_datetime(adj_gluc['GlucoseTimestamp'])\n",
    "adj_gluc = adj_gluc.rename(columns={'GlucoseTimestamp':'Date'})"
   ]
  },
  {
   "cell_type": "code",
   "execution_count": 8,
   "metadata": {
    "ExecuteTime": {
     "end_time": "2020-02-13T11:11:22.767167Z",
     "start_time": "2020-02-13T11:11:12.164242Z"
    }
   },
   "outputs": [],
   "source": [
    "adj_gluc = adj_gluc.set_index(['ConnectionID', 'Date'])\n",
    "cgm_adj = pd.merge(cgmdf, adj_gluc['GlucoseAdj50N13_Mm'], on=['ConnectionID', 'Date'])\n",
    "cgm_adj = cgm_adj.rename(columns={'GlucoseAdj50N13_Mm':'GlucoseAdj'})"
   ]
  },
  {
   "cell_type": "code",
   "execution_count": 10,
   "metadata": {
    "ExecuteTime": {
     "end_time": "2020-02-13T11:12:01.209566Z",
     "start_time": "2020-02-13T11:12:01.062567Z"
    }
   },
   "outputs": [
    {
     "data": {
      "text/plain": [
       "219"
      ]
     },
     "execution_count": 10,
     "metadata": {},
     "output_type": "execute_result"
    }
   ],
   "source": [
    "cgm_adj['RegistrationCode'].nunique()"
   ]
  },
  {
   "cell_type": "code",
   "execution_count": 11,
   "metadata": {
    "ExecuteTime": {
     "end_time": "2020-02-13T11:13:57.400675Z",
     "start_time": "2020-02-13T11:13:53.130445Z"
    }
   },
   "outputs": [],
   "source": [
    "log = dll.get_data(study_ids=[3,49]).df"
   ]
  },
  {
   "cell_type": "code",
   "execution_count": 12,
   "metadata": {
    "ExecuteTime": {
     "end_time": "2020-02-13T11:34:15.688229Z",
     "start_time": "2020-02-13T11:34:15.573626Z"
    }
   },
   "outputs": [],
   "source": [
    "logdf = dll.add_nutrients(log, ['energy_kcal'])"
   ]
  },
  {
   "cell_type": "code",
   "execution_count": 13,
   "metadata": {
    "ExecuteTime": {
     "end_time": "2020-02-13T11:34:33.982902Z",
     "start_time": "2020-02-13T11:34:33.171342Z"
    }
   },
   "outputs": [],
   "source": [
    "logdf = dll.squeeze_log(logdf)"
   ]
  },
  {
   "cell_type": "code",
   "execution_count": 14,
   "metadata": {
    "ExecuteTime": {
     "end_time": "2020-02-13T11:34:38.487026Z",
     "start_time": "2020-02-13T11:34:38.345264Z"
    }
   },
   "outputs": [],
   "source": [
    "logdf = logdf.reset_index()\n",
    "logdf['Day'] = logdf['Date'].dt.date"
   ]
  },
  {
   "cell_type": "code",
   "execution_count": 15,
   "metadata": {
    "ExecuteTime": {
     "end_time": "2020-02-13T11:34:56.661696Z",
     "start_time": "2020-02-13T11:34:56.596686Z"
    }
   },
   "outputs": [],
   "source": [
    "logdf = logdf[logdf['energy_kcal'] != 0]"
   ]
  },
  {
   "cell_type": "code",
   "execution_count": 16,
   "metadata": {
    "ExecuteTime": {
     "end_time": "2020-02-13T11:35:19.645030Z",
     "start_time": "2020-02-13T11:35:19.619369Z"
    }
   },
   "outputs": [
    {
     "data": {
      "text/html": [
       "<div>\n",
       "<style scoped>\n",
       "    .dataframe tbody tr th:only-of-type {\n",
       "        vertical-align: middle;\n",
       "    }\n",
       "\n",
       "    .dataframe tbody tr th {\n",
       "        vertical-align: top;\n",
       "    }\n",
       "\n",
       "    .dataframe thead th {\n",
       "        text-align: right;\n",
       "    }\n",
       "</style>\n",
       "<table border=\"1\" class=\"dataframe\">\n",
       "  <thead>\n",
       "    <tr style=\"text-align: right;\">\n",
       "      <th></th>\n",
       "      <th>RegistrationCode</th>\n",
       "      <th>Date</th>\n",
       "      <th>energy_kcal</th>\n",
       "      <th>weight</th>\n",
       "      <th>meal_type</th>\n",
       "      <th>Day</th>\n",
       "    </tr>\n",
       "  </thead>\n",
       "  <tbody>\n",
       "    <tr>\n",
       "      <th>0</th>\n",
       "      <td>111527</td>\n",
       "      <td>2017-10-06 09:46:44+03:00</td>\n",
       "      <td>2.500000</td>\n",
       "      <td>490.000000</td>\n",
       "      <td>Beverage</td>\n",
       "      <td>2017-10-06</td>\n",
       "    </tr>\n",
       "    <tr>\n",
       "      <th>1</th>\n",
       "      <td>111527</td>\n",
       "      <td>2017-10-06 11:48:01+03:00</td>\n",
       "      <td>147.000000</td>\n",
       "      <td>560.000000</td>\n",
       "      <td>Meal</td>\n",
       "      <td>2017-10-06</td>\n",
       "    </tr>\n",
       "    <tr>\n",
       "      <th>2</th>\n",
       "      <td>111527</td>\n",
       "      <td>2017-10-06 11:53:29+03:00</td>\n",
       "      <td>78.057000</td>\n",
       "      <td>210.000000</td>\n",
       "      <td>Beverage</td>\n",
       "      <td>2017-10-06</td>\n",
       "    </tr>\n",
       "    <tr>\n",
       "      <th>5</th>\n",
       "      <td>111527</td>\n",
       "      <td>2017-10-06 14:25:24+03:00</td>\n",
       "      <td>740.724492</td>\n",
       "      <td>605.200001</td>\n",
       "      <td>Meal</td>\n",
       "      <td>2017-10-06</td>\n",
       "    </tr>\n",
       "    <tr>\n",
       "      <th>7</th>\n",
       "      <td>111527</td>\n",
       "      <td>2017-10-06 17:11:29+03:00</td>\n",
       "      <td>136.500000</td>\n",
       "      <td>296.000000</td>\n",
       "      <td>Snack</td>\n",
       "      <td>2017-10-06</td>\n",
       "    </tr>\n",
       "  </tbody>\n",
       "</table>\n",
       "</div>"
      ],
      "text/plain": [
       "  RegistrationCode                      Date  ...  meal_type         Day\n",
       "0           111527 2017-10-06 09:46:44+03:00  ...   Beverage  2017-10-06\n",
       "1           111527 2017-10-06 11:48:01+03:00  ...       Meal  2017-10-06\n",
       "2           111527 2017-10-06 11:53:29+03:00  ...   Beverage  2017-10-06\n",
       "5           111527 2017-10-06 14:25:24+03:00  ...       Meal  2017-10-06\n",
       "7           111527 2017-10-06 17:11:29+03:00  ...      Snack  2017-10-06\n",
       "\n",
       "[5 rows x 6 columns]"
      ]
     },
     "execution_count": 16,
     "metadata": {},
     "output_type": "execute_result"
    }
   ],
   "source": [
    "logdf.head()"
   ]
  },
  {
   "cell_type": "code",
   "execution_count": 53,
   "metadata": {
    "ExecuteTime": {
     "end_time": "2020-02-13T12:54:15.689527Z",
     "start_time": "2020-02-13T12:54:15.590655Z"
    },
    "scrolled": true
   },
   "outputs": [
    {
     "data": {
      "text/html": [
       "<div>\n",
       "<style scoped>\n",
       "    .dataframe tbody tr th:only-of-type {\n",
       "        vertical-align: middle;\n",
       "    }\n",
       "\n",
       "    .dataframe tbody tr th {\n",
       "        vertical-align: top;\n",
       "    }\n",
       "\n",
       "    .dataframe thead th {\n",
       "        text-align: right;\n",
       "    }\n",
       "</style>\n",
       "<table border=\"1\" class=\"dataframe\">\n",
       "  <thead>\n",
       "    <tr style=\"text-align: right;\">\n",
       "      <th></th>\n",
       "      <th></th>\n",
       "      <th>breakfast_ts</th>\n",
       "    </tr>\n",
       "    <tr>\n",
       "      <th>RegistrationCode</th>\n",
       "      <th>Day</th>\n",
       "      <th></th>\n",
       "    </tr>\n",
       "  </thead>\n",
       "  <tbody>\n",
       "    <tr>\n",
       "      <th rowspan=\"5\" valign=\"top\">111527</th>\n",
       "      <th>2017-10-06</th>\n",
       "      <td>2017-10-06 09:46:44+03:00</td>\n",
       "    </tr>\n",
       "    <tr>\n",
       "      <th>2017-10-07</th>\n",
       "      <td>2017-10-07 09:34:22+03:00</td>\n",
       "    </tr>\n",
       "    <tr>\n",
       "      <th>2017-10-08</th>\n",
       "      <td>2017-10-08 08:56:41+03:00</td>\n",
       "    </tr>\n",
       "    <tr>\n",
       "      <th>2017-10-09</th>\n",
       "      <td>2017-10-09 01:02:14+03:00</td>\n",
       "    </tr>\n",
       "    <tr>\n",
       "      <th>2017-10-14</th>\n",
       "      <td>2017-10-14 09:03:31+03:00</td>\n",
       "    </tr>\n",
       "    <tr>\n",
       "      <th>...</th>\n",
       "      <th>...</th>\n",
       "      <td>...</td>\n",
       "    </tr>\n",
       "    <tr>\n",
       "      <th rowspan=\"5\" valign=\"top\">997735</th>\n",
       "      <th>2019-10-28</th>\n",
       "      <td>2019-10-28 08:29:46.061000+02:00</td>\n",
       "    </tr>\n",
       "    <tr>\n",
       "      <th>2019-10-29</th>\n",
       "      <td>2019-10-29 07:30:22.533000+02:00</td>\n",
       "    </tr>\n",
       "    <tr>\n",
       "      <th>2019-10-30</th>\n",
       "      <td>2019-10-30 08:00:24.974000+02:00</td>\n",
       "    </tr>\n",
       "    <tr>\n",
       "      <th>2019-11-02</th>\n",
       "      <td>2019-11-02 08:00:34.291000+02:00</td>\n",
       "    </tr>\n",
       "    <tr>\n",
       "      <th>2019-11-03</th>\n",
       "      <td>2019-11-03 06:00:31.647000+02:00</td>\n",
       "    </tr>\n",
       "  </tbody>\n",
       "</table>\n",
       "<p>50492 rows × 1 columns</p>\n",
       "</div>"
      ],
      "text/plain": [
       "                                                breakfast_ts\n",
       "RegistrationCode Day                                        \n",
       "111527           2017-10-06        2017-10-06 09:46:44+03:00\n",
       "                 2017-10-07        2017-10-07 09:34:22+03:00\n",
       "                 2017-10-08        2017-10-08 08:56:41+03:00\n",
       "                 2017-10-09        2017-10-09 01:02:14+03:00\n",
       "                 2017-10-14        2017-10-14 09:03:31+03:00\n",
       "...                                                      ...\n",
       "997735           2019-10-28 2019-10-28 08:29:46.061000+02:00\n",
       "                 2019-10-29 2019-10-29 07:30:22.533000+02:00\n",
       "                 2019-10-30 2019-10-30 08:00:24.974000+02:00\n",
       "                 2019-11-02 2019-11-02 08:00:34.291000+02:00\n",
       "                 2019-11-03 2019-11-03 06:00:31.647000+02:00\n",
       "\n",
       "[50492 rows x 1 columns]"
      ]
     },
     "execution_count": 53,
     "metadata": {},
     "output_type": "execute_result"
    }
   ],
   "source": [
    "firstmeals = pd.DataFrame(logdf.groupby(['RegistrationCode', 'Day'])['Date'].first().rename('breakfast_ts'))\n",
    "firstmeals"
   ]
  },
  {
   "cell_type": "code",
   "execution_count": 54,
   "metadata": {
    "ExecuteTime": {
     "end_time": "2020-02-13T12:54:17.519521Z",
     "start_time": "2020-02-13T12:54:17.478082Z"
    }
   },
   "outputs": [],
   "source": [
    "firstmeals = firstmeals[(firstmeals['breakfast_ts'].dt.time > datetime.time(6, 0, 0))]"
   ]
  },
  {
   "cell_type": "code",
   "execution_count": 55,
   "metadata": {
    "ExecuteTime": {
     "end_time": "2020-02-13T12:54:18.232012Z",
     "start_time": "2020-02-13T12:54:18.221433Z"
    }
   },
   "outputs": [],
   "source": [
    "firstmeals = firstmeals.reset_index('Day')"
   ]
  },
  {
   "cell_type": "code",
   "execution_count": 56,
   "metadata": {
    "ExecuteTime": {
     "end_time": "2020-02-13T12:54:18.828889Z",
     "start_time": "2020-02-13T12:54:18.816877Z"
    }
   },
   "outputs": [],
   "source": [
    "firstmeals['Day'] = pd.to_datetime(firstmeals['Day'])"
   ]
  },
  {
   "cell_type": "code",
   "execution_count": 57,
   "metadata": {
    "ExecuteTime": {
     "end_time": "2020-02-13T12:54:19.616448Z",
     "start_time": "2020-02-13T12:54:19.604052Z"
    }
   },
   "outputs": [],
   "source": [
    "firstmeals = firstmeals.set_index('Day', append=True)"
   ]
  },
  {
   "cell_type": "code",
   "execution_count": 58,
   "metadata": {
    "ExecuteTime": {
     "end_time": "2020-02-13T12:54:22.892086Z",
     "start_time": "2020-02-13T12:54:22.886916Z"
    }
   },
   "outputs": [
    {
     "data": {
      "text/plain": [
       "(44884, 1)"
      ]
     },
     "execution_count": 58,
     "metadata": {},
     "output_type": "execute_result"
    }
   ],
   "source": [
    "firstmeals.shape"
   ]
  },
  {
   "cell_type": "code",
   "execution_count": 59,
   "metadata": {
    "ExecuteTime": {
     "end_time": "2020-02-13T12:54:25.298559Z",
     "start_time": "2020-02-13T12:54:25.293165Z"
    }
   },
   "outputs": [
    {
     "data": {
      "text/plain": [
       "(2965212, 5)"
      ]
     },
     "execution_count": 59,
     "metadata": {},
     "output_type": "execute_result"
    }
   ],
   "source": [
    "cgm_adj.shape"
   ]
  },
  {
   "cell_type": "code",
   "execution_count": 21,
   "metadata": {
    "ExecuteTime": {
     "end_time": "2020-02-13T12:29:35.964401Z",
     "start_time": "2020-02-13T12:29:34.746991Z"
    }
   },
   "outputs": [],
   "source": [
    "cgm_adj['Day'] = cgm_adj.index.date"
   ]
  },
  {
   "cell_type": "code",
   "execution_count": 26,
   "metadata": {
    "ExecuteTime": {
     "end_time": "2020-02-13T12:35:33.505054Z",
     "start_time": "2020-02-13T12:35:31.021067Z"
    }
   },
   "outputs": [],
   "source": [
    "cgm_adj = cgm_adj.set_index(['RegistrationCode', 'Day'])"
   ]
  },
  {
   "cell_type": "code",
   "execution_count": 40,
   "metadata": {
    "ExecuteTime": {
     "end_time": "2020-02-13T12:48:37.452772Z",
     "start_time": "2020-02-13T12:48:37.443897Z"
    },
    "scrolled": true
   },
   "outputs": [
    {
     "data": {
      "text/plain": [
       "dtype('<M8[ns]')"
      ]
     },
     "execution_count": 40,
     "metadata": {},
     "output_type": "execute_result"
    }
   ],
   "source": [
    "firstmeals.index.get_level_values(1).dtype"
   ]
  },
  {
   "cell_type": "code",
   "execution_count": 88,
   "metadata": {
    "ExecuteTime": {
     "end_time": "2020-02-13T13:26:44.317071Z",
     "start_time": "2020-02-13T13:26:40.550712Z"
    }
   },
   "outputs": [],
   "source": [
    "cgm_fm = pd.merge(cgm_adj, firstmeals, on=['RegistrationCode', 'Day'])"
   ]
  },
  {
   "cell_type": "code",
   "execution_count": 89,
   "metadata": {
    "ExecuteTime": {
     "end_time": "2020-02-13T13:26:44.736807Z",
     "start_time": "2020-02-13T13:26:44.731718Z"
    }
   },
   "outputs": [
    {
     "data": {
      "text/plain": [
       "(2349082, 6)"
      ]
     },
     "execution_count": 89,
     "metadata": {},
     "output_type": "execute_result"
    }
   ],
   "source": [
    "cgm_fm.shape"
   ]
  },
  {
   "cell_type": "code",
   "execution_count": 90,
   "metadata": {
    "ExecuteTime": {
     "end_time": "2020-02-13T13:29:11.285937Z",
     "start_time": "2020-02-13T13:29:11.167045Z"
    }
   },
   "outputs": [
    {
     "data": {
      "text/html": [
       "<div>\n",
       "<style scoped>\n",
       "    .dataframe tbody tr th:only-of-type {\n",
       "        vertical-align: middle;\n",
       "    }\n",
       "\n",
       "    .dataframe tbody tr th {\n",
       "        vertical-align: top;\n",
       "    }\n",
       "\n",
       "    .dataframe thead th {\n",
       "        text-align: right;\n",
       "    }\n",
       "</style>\n",
       "<table border=\"1\" class=\"dataframe\">\n",
       "  <thead>\n",
       "    <tr style=\"text-align: right;\">\n",
       "      <th></th>\n",
       "      <th></th>\n",
       "      <th>ConnectionID</th>\n",
       "      <th>GlucoseValue</th>\n",
       "      <th>PPGR</th>\n",
       "      <th>hour</th>\n",
       "      <th>GlucoseAdj</th>\n",
       "      <th>breakfast_ts</th>\n",
       "    </tr>\n",
       "    <tr>\n",
       "      <th>RegistrationCode</th>\n",
       "      <th>Day</th>\n",
       "      <th></th>\n",
       "      <th></th>\n",
       "      <th></th>\n",
       "      <th></th>\n",
       "      <th></th>\n",
       "      <th></th>\n",
       "    </tr>\n",
       "  </thead>\n",
       "  <tbody>\n",
       "    <tr>\n",
       "      <th rowspan=\"5\" valign=\"top\">111527</th>\n",
       "      <th>2017-11-07</th>\n",
       "      <td>1926</td>\n",
       "      <td>108.0</td>\n",
       "      <td>16.750</td>\n",
       "      <td>14</td>\n",
       "      <td>106.571429</td>\n",
       "      <td>2017-11-07 06:47:38+02:00</td>\n",
       "    </tr>\n",
       "    <tr>\n",
       "      <th>2017-11-07</th>\n",
       "      <td>1926</td>\n",
       "      <td>118.0</td>\n",
       "      <td>1.250</td>\n",
       "      <td>14</td>\n",
       "      <td>116.571429</td>\n",
       "      <td>2017-11-07 06:47:38+02:00</td>\n",
       "    </tr>\n",
       "    <tr>\n",
       "      <th>2017-11-07</th>\n",
       "      <td>1926</td>\n",
       "      <td>119.0</td>\n",
       "      <td>2.750</td>\n",
       "      <td>14</td>\n",
       "      <td>117.571429</td>\n",
       "      <td>2017-11-07 06:47:38+02:00</td>\n",
       "    </tr>\n",
       "    <tr>\n",
       "      <th>2017-11-07</th>\n",
       "      <td>1926</td>\n",
       "      <td>119.0</td>\n",
       "      <td>5.500</td>\n",
       "      <td>15</td>\n",
       "      <td>117.571429</td>\n",
       "      <td>2017-11-07 06:47:38+02:00</td>\n",
       "    </tr>\n",
       "    <tr>\n",
       "      <th>2017-11-07</th>\n",
       "      <td>1926</td>\n",
       "      <td>121.0</td>\n",
       "      <td>3.250</td>\n",
       "      <td>15</td>\n",
       "      <td>119.571429</td>\n",
       "      <td>2017-11-07 06:47:38+02:00</td>\n",
       "    </tr>\n",
       "    <tr>\n",
       "      <th>...</th>\n",
       "      <th>...</th>\n",
       "      <td>...</td>\n",
       "      <td>...</td>\n",
       "      <td>...</td>\n",
       "      <td>...</td>\n",
       "      <td>...</td>\n",
       "      <td>...</td>\n",
       "    </tr>\n",
       "    <tr>\n",
       "      <th rowspan=\"5\" valign=\"top\">997735</th>\n",
       "      <th>2019-11-03</th>\n",
       "      <td>6089</td>\n",
       "      <td>94.0</td>\n",
       "      <td>NaN</td>\n",
       "      <td>22</td>\n",
       "      <td>94.714286</td>\n",
       "      <td>2019-11-03 06:00:31.647000+02:00</td>\n",
       "    </tr>\n",
       "    <tr>\n",
       "      <th>2019-11-03</th>\n",
       "      <td>6089</td>\n",
       "      <td>99.0</td>\n",
       "      <td>NaN</td>\n",
       "      <td>23</td>\n",
       "      <td>99.714286</td>\n",
       "      <td>2019-11-03 06:00:31.647000+02:00</td>\n",
       "    </tr>\n",
       "    <tr>\n",
       "      <th>2019-11-03</th>\n",
       "      <td>6089</td>\n",
       "      <td>108.0</td>\n",
       "      <td>6.875</td>\n",
       "      <td>23</td>\n",
       "      <td>108.714286</td>\n",
       "      <td>2019-11-03 06:00:31.647000+02:00</td>\n",
       "    </tr>\n",
       "    <tr>\n",
       "      <th>2019-11-03</th>\n",
       "      <td>6089</td>\n",
       "      <td>113.0</td>\n",
       "      <td>0.000</td>\n",
       "      <td>23</td>\n",
       "      <td>113.714286</td>\n",
       "      <td>2019-11-03 06:00:31.647000+02:00</td>\n",
       "    </tr>\n",
       "    <tr>\n",
       "      <th>2019-11-03</th>\n",
       "      <td>6089</td>\n",
       "      <td>112.0</td>\n",
       "      <td>0.000</td>\n",
       "      <td>23</td>\n",
       "      <td>112.714286</td>\n",
       "      <td>2019-11-03 06:00:31.647000+02:00</td>\n",
       "    </tr>\n",
       "  </tbody>\n",
       "</table>\n",
       "<p>2349082 rows × 6 columns</p>\n",
       "</div>"
      ],
      "text/plain": [
       "                            ConnectionID  ...                     breakfast_ts\n",
       "RegistrationCode Day                      ...                                 \n",
       "111527           2017-11-07         1926  ...        2017-11-07 06:47:38+02:00\n",
       "                 2017-11-07         1926  ...        2017-11-07 06:47:38+02:00\n",
       "                 2017-11-07         1926  ...        2017-11-07 06:47:38+02:00\n",
       "                 2017-11-07         1926  ...        2017-11-07 06:47:38+02:00\n",
       "                 2017-11-07         1926  ...        2017-11-07 06:47:38+02:00\n",
       "...                                  ...  ...                              ...\n",
       "997735           2019-11-03         6089  ... 2019-11-03 06:00:31.647000+02:00\n",
       "                 2019-11-03         6089  ... 2019-11-03 06:00:31.647000+02:00\n",
       "                 2019-11-03         6089  ... 2019-11-03 06:00:31.647000+02:00\n",
       "                 2019-11-03         6089  ... 2019-11-03 06:00:31.647000+02:00\n",
       "                 2019-11-03         6089  ... 2019-11-03 06:00:31.647000+02:00\n",
       "\n",
       "[2349082 rows x 6 columns]"
      ]
     },
     "execution_count": 90,
     "metadata": {},
     "output_type": "execute_result"
    }
   ],
   "source": [
    "cgm_fm"
   ]
  },
  {
   "cell_type": "code",
   "execution_count": 91,
   "metadata": {
    "ExecuteTime": {
     "end_time": "2020-02-13T13:30:36.510041Z",
     "start_time": "2020-02-13T13:30:35.414375Z"
    },
    "scrolled": false
   },
   "outputs": [
    {
     "data": {
      "text/plain": [
       "(200553, 6)"
      ]
     },
     "execution_count": 91,
     "metadata": {},
     "output_type": "execute_result"
    }
   ],
   "source": [
    "cgm_fm = cgm_fm[(cgm_fm['hour'] >= 5) & (cgm_fm['hour'] <= 6)]\n",
    "cgm_fm.shape"
   ]
  },
  {
   "cell_type": "code",
   "execution_count": 93,
   "metadata": {
    "ExecuteTime": {
     "end_time": "2020-02-13T13:32:41.933760Z",
     "start_time": "2020-02-13T13:32:41.856177Z"
    }
   },
   "outputs": [],
   "source": [
    "cgm_fm = cgm_fm[((cgm_fm['hour'] ==5) & (cgm_fm['breakfast_ts'].dt.hour == 6)) | \n",
    "((cgm_fm['hour'] ==6) & (cgm_fm['breakfast_ts'].dt.hour >= 7)) ]"
   ]
  },
  {
   "cell_type": "code",
   "execution_count": 133,
   "metadata": {
    "ExecuteTime": {
     "end_time": "2020-02-13T15:52:26.155413Z",
     "start_time": "2020-02-13T15:52:26.108859Z"
    }
   },
   "outputs": [],
   "source": [
    "wakeup_glucose = pd.DataFrame(cgm_fm.reset_index().groupby(['RegistrationCode', 'Day', 'hour'])['GlucoseAdj'].mean().rename('wakeup_glucose'))"
   ]
  },
  {
   "cell_type": "code",
   "execution_count": 134,
   "metadata": {
    "ExecuteTime": {
     "end_time": "2020-02-13T15:52:26.811537Z",
     "start_time": "2020-02-13T15:52:26.803713Z"
    }
   },
   "outputs": [],
   "source": [
    "wakeup_glucose = wakeup_glucose.reset_index()"
   ]
  },
  {
   "cell_type": "code",
   "execution_count": 135,
   "metadata": {
    "ExecuteTime": {
     "end_time": "2020-02-13T15:52:27.516823Z",
     "start_time": "2020-02-13T15:52:27.510831Z"
    }
   },
   "outputs": [],
   "source": [
    "def q1(x):\n",
    "    return x.quantile(0.25)\n",
    "\n",
    "def q3(x):\n",
    "    return x.quantile(0.75)\n",
    "\n",
    "def interquartile_range(x):\n",
    "    return q3(x) - q1(x)\n",
    "\n",
    "f = {'wakeup_glucose': ['median', 'std', q1,q3, interquartile_range]}"
   ]
  },
  {
   "cell_type": "code",
   "execution_count": 136,
   "metadata": {
    "ExecuteTime": {
     "end_time": "2020-02-13T15:52:29.284411Z",
     "start_time": "2020-02-13T15:52:28.313696Z"
    }
   },
   "outputs": [],
   "source": [
    "morn_gluc_distr = wakeup_glucose.groupby('RegistrationCode').agg(f)"
   ]
  },
  {
   "cell_type": "code",
   "execution_count": 137,
   "metadata": {
    "ExecuteTime": {
     "end_time": "2020-02-13T15:52:31.661969Z",
     "start_time": "2020-02-13T15:52:31.625636Z"
    }
   },
   "outputs": [
    {
     "data": {
      "text/html": [
       "<div>\n",
       "<style scoped>\n",
       "    .dataframe tbody tr th:only-of-type {\n",
       "        vertical-align: middle;\n",
       "    }\n",
       "\n",
       "    .dataframe tbody tr th {\n",
       "        vertical-align: top;\n",
       "    }\n",
       "\n",
       "    .dataframe thead tr th {\n",
       "        text-align: left;\n",
       "    }\n",
       "\n",
       "    .dataframe thead tr:last-of-type th {\n",
       "        text-align: right;\n",
       "    }\n",
       "</style>\n",
       "<table border=\"1\" class=\"dataframe\">\n",
       "  <thead>\n",
       "    <tr>\n",
       "      <th></th>\n",
       "      <th colspan=\"5\" halign=\"left\">wakeup_glucose</th>\n",
       "    </tr>\n",
       "    <tr>\n",
       "      <th></th>\n",
       "      <th>median</th>\n",
       "      <th>std</th>\n",
       "      <th>q1</th>\n",
       "      <th>q3</th>\n",
       "      <th>interquartile_range</th>\n",
       "    </tr>\n",
       "    <tr>\n",
       "      <th>RegistrationCode</th>\n",
       "      <th></th>\n",
       "      <th></th>\n",
       "      <th></th>\n",
       "      <th></th>\n",
       "      <th></th>\n",
       "    </tr>\n",
       "  </thead>\n",
       "  <tbody>\n",
       "    <tr>\n",
       "      <th>173854</th>\n",
       "      <td>87.145833</td>\n",
       "      <td>14.927984</td>\n",
       "      <td>78.687500</td>\n",
       "      <td>91.647321</td>\n",
       "      <td>12.959821</td>\n",
       "    </tr>\n",
       "    <tr>\n",
       "      <th>772380</th>\n",
       "      <td>96.250000</td>\n",
       "      <td>5.252915</td>\n",
       "      <td>93.137500</td>\n",
       "      <td>100.700000</td>\n",
       "      <td>7.562500</td>\n",
       "    </tr>\n",
       "    <tr>\n",
       "      <th>252002</th>\n",
       "      <td>97.649573</td>\n",
       "      <td>9.253903</td>\n",
       "      <td>92.919318</td>\n",
       "      <td>105.050000</td>\n",
       "      <td>12.130682</td>\n",
       "    </tr>\n",
       "    <tr>\n",
       "      <th>794542</th>\n",
       "      <td>126.634615</td>\n",
       "      <td>12.311187</td>\n",
       "      <td>121.875000</td>\n",
       "      <td>132.849359</td>\n",
       "      <td>10.974359</td>\n",
       "    </tr>\n",
       "    <tr>\n",
       "      <th>130279</th>\n",
       "      <td>99.375000</td>\n",
       "      <td>11.034922</td>\n",
       "      <td>94.585227</td>\n",
       "      <td>105.468750</td>\n",
       "      <td>10.883523</td>\n",
       "    </tr>\n",
       "    <tr>\n",
       "      <th>132178</th>\n",
       "      <td>109.375000</td>\n",
       "      <td>8.970829</td>\n",
       "      <td>102.875000</td>\n",
       "      <td>114.669643</td>\n",
       "      <td>11.794643</td>\n",
       "    </tr>\n",
       "    <tr>\n",
       "      <th>439484</th>\n",
       "      <td>95.250000</td>\n",
       "      <td>10.592360</td>\n",
       "      <td>90.465909</td>\n",
       "      <td>98.919643</td>\n",
       "      <td>8.453734</td>\n",
       "    </tr>\n",
       "    <tr>\n",
       "      <th>742096</th>\n",
       "      <td>92.333333</td>\n",
       "      <td>5.377542</td>\n",
       "      <td>88.115385</td>\n",
       "      <td>95.603147</td>\n",
       "      <td>7.487762</td>\n",
       "    </tr>\n",
       "    <tr>\n",
       "      <th>997427</th>\n",
       "      <td>107.766667</td>\n",
       "      <td>7.604173</td>\n",
       "      <td>103.270833</td>\n",
       "      <td>111.968531</td>\n",
       "      <td>8.697698</td>\n",
       "    </tr>\n",
       "    <tr>\n",
       "      <th>64952</th>\n",
       "      <td>89.289773</td>\n",
       "      <td>8.936098</td>\n",
       "      <td>84.923295</td>\n",
       "      <td>94.250000</td>\n",
       "      <td>9.326705</td>\n",
       "    </tr>\n",
       "  </tbody>\n",
       "</table>\n",
       "</div>"
      ],
      "text/plain": [
       "                 wakeup_glucose             ...                                \n",
       "                         median        std  ...          q3 interquartile_range\n",
       "RegistrationCode                            ...                                \n",
       "173854                87.145833  14.927984  ...   91.647321           12.959821\n",
       "772380                96.250000   5.252915  ...  100.700000            7.562500\n",
       "252002                97.649573   9.253903  ...  105.050000           12.130682\n",
       "794542               126.634615  12.311187  ...  132.849359           10.974359\n",
       "130279                99.375000  11.034922  ...  105.468750           10.883523\n",
       "132178               109.375000   8.970829  ...  114.669643           11.794643\n",
       "439484                95.250000  10.592360  ...   98.919643            8.453734\n",
       "742096                92.333333   5.377542  ...   95.603147            7.487762\n",
       "997427               107.766667   7.604173  ...  111.968531            8.697698\n",
       "64952                 89.289773   8.936098  ...   94.250000            9.326705\n",
       "\n",
       "[10 rows x 5 columns]"
      ]
     },
     "execution_count": 137,
     "metadata": {},
     "output_type": "execute_result"
    }
   ],
   "source": [
    "morn_gluc_distr.sample(10)"
   ]
  },
  {
   "cell_type": "code",
   "execution_count": 108,
   "metadata": {
    "ExecuteTime": {
     "end_time": "2020-02-13T14:30:59.293124Z",
     "start_time": "2020-02-13T14:30:59.289203Z"
    }
   },
   "outputs": [],
   "source": [
    "morn_gluc_distr.columns = morn_gluc_distr.columns.droplevel()"
   ]
  },
  {
   "cell_type": "code",
   "execution_count": 122,
   "metadata": {
    "ExecuteTime": {
     "end_time": "2020-02-13T14:41:10.838261Z",
     "start_time": "2020-02-13T14:41:10.485920Z"
    }
   },
   "outputs": [
    {
     "data": {
      "text/plain": [
       "<matplotlib.axes._subplots.AxesSubplot at 0x2af9884cd250>"
      ]
     },
     "execution_count": 122,
     "metadata": {},
     "output_type": "execute_result"
    },
    {
     "data": {
      "image/png": "[encoded data removed]",
      "text/plain": [
       "<Figure size 504x360 with 1 Axes>"
      ]
     },
     "metadata": {},
     "output_type": "display_data"
    }
   ],
   "source": [
    "fig = plt.figure(figsize=(7,5))\n",
    "fig.suptitle('Intrapersonal variability of the morning glucose in PNP3', fontsize=18)\n",
    "ax1 = fig.add_subplot(111)\n",
    "ax1.set_xlabel('Interquartile range')\n",
    "morn_gluc_distr['interquartile_range'].plot.hist()"
   ]
  },
  {
   "cell_type": "code",
   "execution_count": 123,
   "metadata": {
    "ExecuteTime": {
     "end_time": "2020-02-13T14:42:40.526204Z",
     "start_time": "2020-02-13T14:42:40.519498Z"
    }
   },
   "outputs": [
    {
     "data": {
      "text/plain": [
       "11.936180075658099"
      ]
     },
     "execution_count": 123,
     "metadata": {},
     "output_type": "execute_result"
    }
   ],
   "source": [
    "morn_gluc_distr['interquartile_range'].mean()"
   ]
  },
  {
   "cell_type": "code",
   "execution_count": 152,
   "metadata": {
    "ExecuteTime": {
     "end_time": "2020-02-13T16:04:52.257108Z",
     "start_time": "2020-02-13T16:04:52.252033Z"
    },
    "scrolled": false
   },
   "outputs": [
    {
     "data": {
      "text/plain": [
       "(25799, 4)"
      ]
     },
     "execution_count": 152,
     "metadata": {},
     "output_type": "execute_result"
    }
   ],
   "source": [
    "wakeup_glucose.shape"
   ]
  },
  {
   "cell_type": "markdown",
   "metadata": {},
   "source": [
    "For how many days did people wear CGM sensor?"
   ]
  },
  {
   "cell_type": "code",
   "execution_count": 143,
   "metadata": {
    "ExecuteTime": {
     "end_time": "2020-02-13T16:01:09.168894Z",
     "start_time": "2020-02-13T16:01:09.160731Z"
    },
    "scrolled": true
   },
   "outputs": [],
   "source": [
    "count = wakeup_glucose.groupby('RegistrationCode')['Day'].count()"
   ]
  },
  {
   "cell_type": "code",
   "execution_count": 144,
   "metadata": {
    "ExecuteTime": {
     "end_time": "2020-02-13T16:01:19.556413Z",
     "start_time": "2020-02-13T16:01:19.349743Z"
    },
    "scrolled": true
   },
   "outputs": [
    {
     "data": {
      "text/plain": [
       "<matplotlib.axes._subplots.AxesSubplot at 0x2af9bbe836d0>"
      ]
     },
     "execution_count": 144,
     "metadata": {},
     "output_type": "execute_result"
    },
    {
     "data": {
      "image/png": "[encoded data removed]",
      "text/plain": [
       "<Figure size 432x288 with 1 Axes>"
      ]
     },
     "metadata": {},
     "output_type": "display_data"
    }
   ],
   "source": [
    "count.plot.hist()"
   ]
  },
  {
   "cell_type": "code",
   "execution_count": 149,
   "metadata": {
    "ExecuteTime": {
     "end_time": "2020-02-13T16:03:05.576926Z",
     "start_time": "2020-02-13T16:03:05.571945Z"
    }
   },
   "outputs": [],
   "source": [
    "rc_to_keep = count[count >= 50].index"
   ]
  },
  {
   "cell_type": "markdown",
   "metadata": {},
   "source": [
    "Let's take all people with at least 50 days of  connections."
   ]
  },
  {
   "cell_type": "code",
   "execution_count": 153,
   "metadata": {
    "ExecuteTime": {
     "end_time": "2020-02-13T16:05:55.566359Z",
     "start_time": "2020-02-13T16:05:55.549428Z"
    }
   },
   "outputs": [],
   "source": [
    "wakeup_glucose = wakeup_glucose.set_index('RegistrationCode').loc[rc_to_keep]"
   ]
  },
  {
   "cell_type": "markdown",
   "metadata": {},
   "source": [
    "## Dietary features from the day before"
   ]
  },
  {
   "cell_type": "markdown",
   "metadata": {
    "ExecuteTime": {
     "end_time": "2020-02-13T15:11:00.538933Z",
     "start_time": "2020-02-13T15:11:00.445472Z"
    }
   },
   "source": [
    "Dietary features to test the correlations on:\n",
    "'alcohol_g', 'caffeine_mg', 'carbohydrate_g', 'carbs/fat', 'energy_kcal', 'protein_g', 'sodium_mg', 'sugarstotal_g', 'totaldietaryfiber_g', 'totallipid_g'"
   ]
  },
  {
   "cell_type": "code",
   "execution_count": 128,
   "metadata": {
    "ExecuteTime": {
     "end_time": "2020-02-13T15:44:37.953721Z",
     "start_time": "2020-02-13T15:44:35.248076Z"
    }
   },
   "outputs": [],
   "source": [
    "logdf = dll.add_nutrients(log,['alcohol_g', 'caffeine_mg', 'carbohydrate_g', 'energy_kcal', \n",
    "                       'protein_g', 'sodium_mg', 'sugarstotal_g', 'totaldietaryfiber_g', 'totallipid_g'])"
   ]
  },
  {
   "cell_type": "code",
   "execution_count": 130,
   "metadata": {
    "ExecuteTime": {
     "end_time": "2020-02-13T15:45:39.440432Z",
     "start_time": "2020-02-13T15:45:36.830107Z"
    }
   },
   "outputs": [
    {
     "data": {
      "text/html": [
       "<div>\n",
       "<style scoped>\n",
       "    .dataframe tbody tr th:only-of-type {\n",
       "        vertical-align: middle;\n",
       "    }\n",
       "\n",
       "    .dataframe tbody tr th {\n",
       "        vertical-align: top;\n",
       "    }\n",
       "\n",
       "    .dataframe thead th {\n",
       "        text-align: right;\n",
       "    }\n",
       "</style>\n",
       "<table border=\"1\" class=\"dataframe\">\n",
       "  <thead>\n",
       "    <tr style=\"text-align: right;\">\n",
       "      <th></th>\n",
       "      <th></th>\n",
       "      <th>sodium_mg</th>\n",
       "      <th>sugarstotal_g</th>\n",
       "      <th>alcohol_g</th>\n",
       "      <th>totallipid_g</th>\n",
       "      <th>protein_g</th>\n",
       "      <th>carbohydrate_g</th>\n",
       "      <th>totaldietaryfiber_g</th>\n",
       "      <th>energy_kcal</th>\n",
       "      <th>weight</th>\n",
       "      <th>caffeine_mg</th>\n",
       "      <th>meal_type</th>\n",
       "    </tr>\n",
       "    <tr>\n",
       "      <th>RegistrationCode</th>\n",
       "      <th>Date</th>\n",
       "      <th></th>\n",
       "      <th></th>\n",
       "      <th></th>\n",
       "      <th></th>\n",
       "      <th></th>\n",
       "      <th></th>\n",
       "      <th></th>\n",
       "      <th></th>\n",
       "      <th></th>\n",
       "      <th></th>\n",
       "      <th></th>\n",
       "    </tr>\n",
       "  </thead>\n",
       "  <tbody>\n",
       "    <tr>\n",
       "      <th rowspan=\"5\" valign=\"top\">111527</th>\n",
       "      <th>2017-10-06 09:46:44+03:00</th>\n",
       "      <td>9.800</td>\n",
       "      <td>0.0</td>\n",
       "      <td>0.0</td>\n",
       "      <td>0.050</td>\n",
       "      <td>0.300</td>\n",
       "      <td>0.000</td>\n",
       "      <td>0.00</td>\n",
       "      <td>2.500</td>\n",
       "      <td>490.0</td>\n",
       "      <td>112.5</td>\n",
       "      <td>Beverage</td>\n",
       "    </tr>\n",
       "    <tr>\n",
       "      <th>2017-10-06 11:48:01+03:00</th>\n",
       "      <td>311.000</td>\n",
       "      <td>0.0</td>\n",
       "      <td>0.0</td>\n",
       "      <td>6.040</td>\n",
       "      <td>6.700</td>\n",
       "      <td>15.220</td>\n",
       "      <td>0.56</td>\n",
       "      <td>147.000</td>\n",
       "      <td>560.0</td>\n",
       "      <td>0.0</td>\n",
       "      <td>Meal</td>\n",
       "    </tr>\n",
       "    <tr>\n",
       "      <th>2017-10-06 11:53:29+03:00</th>\n",
       "      <td>64.995</td>\n",
       "      <td>0.0</td>\n",
       "      <td>0.0</td>\n",
       "      <td>3.906</td>\n",
       "      <td>4.284</td>\n",
       "      <td>6.363</td>\n",
       "      <td>0.00</td>\n",
       "      <td>78.057</td>\n",
       "      <td>210.0</td>\n",
       "      <td>50.4</td>\n",
       "      <td>Beverage</td>\n",
       "    </tr>\n",
       "    <tr>\n",
       "      <th>2017-10-06 13:17:55+03:00</th>\n",
       "      <td>14.400</td>\n",
       "      <td>0.0</td>\n",
       "      <td>0.0</td>\n",
       "      <td>0.000</td>\n",
       "      <td>0.000</td>\n",
       "      <td>0.000</td>\n",
       "      <td>0.00</td>\n",
       "      <td>0.000</td>\n",
       "      <td>720.0</td>\n",
       "      <td>0.0</td>\n",
       "      <td>Beverage</td>\n",
       "    </tr>\n",
       "    <tr>\n",
       "      <th>2017-10-06 14:10:52+03:00</th>\n",
       "      <td>19.200</td>\n",
       "      <td>0.0</td>\n",
       "      <td>0.0</td>\n",
       "      <td>0.000</td>\n",
       "      <td>0.000</td>\n",
       "      <td>0.000</td>\n",
       "      <td>0.00</td>\n",
       "      <td>0.000</td>\n",
       "      <td>960.0</td>\n",
       "      <td>0.0</td>\n",
       "      <td>Beverage</td>\n",
       "    </tr>\n",
       "  </tbody>\n",
       "</table>\n",
       "</div>"
      ],
      "text/plain": [
       "                                            sodium_mg  ...  meal_type\n",
       "RegistrationCode Date                                  ...           \n",
       "111527           2017-10-06 09:46:44+03:00      9.800  ...   Beverage\n",
       "                 2017-10-06 11:48:01+03:00    311.000  ...       Meal\n",
       "                 2017-10-06 11:53:29+03:00     64.995  ...   Beverage\n",
       "                 2017-10-06 13:17:55+03:00     14.400  ...   Beverage\n",
       "                 2017-10-06 14:10:52+03:00     19.200  ...   Beverage\n",
       "\n",
       "[5 rows x 11 columns]"
      ]
     },
     "execution_count": 130,
     "metadata": {},
     "output_type": "execute_result"
    }
   ],
   "source": [
    "logdf = dll.squeeze_log(logdf)\n",
    "logdf.head()"
   ]
  },
  {
   "cell_type": "code",
   "execution_count": 131,
   "metadata": {
    "ExecuteTime": {
     "end_time": "2020-02-13T15:48:07.849211Z",
     "start_time": "2020-02-13T15:48:07.822314Z"
    }
   },
   "outputs": [],
   "source": [
    "logdf = logdf.reset_index()"
   ]
  },
  {
   "cell_type": "code",
   "execution_count": 155,
   "metadata": {
    "ExecuteTime": {
     "end_time": "2020-02-13T16:07:07.611258Z",
     "start_time": "2020-02-13T16:07:07.445672Z"
    }
   },
   "outputs": [
    {
     "data": {
      "text/html": [
       "<div>\n",
       "<style scoped>\n",
       "    .dataframe tbody tr th:only-of-type {\n",
       "        vertical-align: middle;\n",
       "    }\n",
       "\n",
       "    .dataframe tbody tr th {\n",
       "        vertical-align: top;\n",
       "    }\n",
       "\n",
       "    .dataframe thead th {\n",
       "        text-align: right;\n",
       "    }\n",
       "</style>\n",
       "<table border=\"1\" class=\"dataframe\">\n",
       "  <thead>\n",
       "    <tr style=\"text-align: right;\">\n",
       "      <th></th>\n",
       "      <th>RegistrationCode</th>\n",
       "      <th>Date</th>\n",
       "      <th>sodium_mg</th>\n",
       "      <th>sugarstotal_g</th>\n",
       "      <th>alcohol_g</th>\n",
       "      <th>totallipid_g</th>\n",
       "      <th>protein_g</th>\n",
       "      <th>carbohydrate_g</th>\n",
       "      <th>totaldietaryfiber_g</th>\n",
       "      <th>energy_kcal</th>\n",
       "      <th>weight</th>\n",
       "      <th>caffeine_mg</th>\n",
       "      <th>meal_type</th>\n",
       "      <th>Day</th>\n",
       "    </tr>\n",
       "  </thead>\n",
       "  <tbody>\n",
       "    <tr>\n",
       "      <th>0</th>\n",
       "      <td>111527</td>\n",
       "      <td>2017-10-06 09:46:44+03:00</td>\n",
       "      <td>9.800</td>\n",
       "      <td>0.0</td>\n",
       "      <td>0.0</td>\n",
       "      <td>0.050</td>\n",
       "      <td>0.300</td>\n",
       "      <td>0.000</td>\n",
       "      <td>0.00</td>\n",
       "      <td>2.500</td>\n",
       "      <td>490.0</td>\n",
       "      <td>112.5</td>\n",
       "      <td>Beverage</td>\n",
       "      <td>2017-10-06</td>\n",
       "    </tr>\n",
       "    <tr>\n",
       "      <th>1</th>\n",
       "      <td>111527</td>\n",
       "      <td>2017-10-06 11:48:01+03:00</td>\n",
       "      <td>311.000</td>\n",
       "      <td>0.0</td>\n",
       "      <td>0.0</td>\n",
       "      <td>6.040</td>\n",
       "      <td>6.700</td>\n",
       "      <td>15.220</td>\n",
       "      <td>0.56</td>\n",
       "      <td>147.000</td>\n",
       "      <td>560.0</td>\n",
       "      <td>0.0</td>\n",
       "      <td>Meal</td>\n",
       "      <td>2017-10-06</td>\n",
       "    </tr>\n",
       "    <tr>\n",
       "      <th>2</th>\n",
       "      <td>111527</td>\n",
       "      <td>2017-10-06 11:53:29+03:00</td>\n",
       "      <td>64.995</td>\n",
       "      <td>0.0</td>\n",
       "      <td>0.0</td>\n",
       "      <td>3.906</td>\n",
       "      <td>4.284</td>\n",
       "      <td>6.363</td>\n",
       "      <td>0.00</td>\n",
       "      <td>78.057</td>\n",
       "      <td>210.0</td>\n",
       "      <td>50.4</td>\n",
       "      <td>Beverage</td>\n",
       "      <td>2017-10-06</td>\n",
       "    </tr>\n",
       "    <tr>\n",
       "      <th>3</th>\n",
       "      <td>111527</td>\n",
       "      <td>2017-10-06 13:17:55+03:00</td>\n",
       "      <td>14.400</td>\n",
       "      <td>0.0</td>\n",
       "      <td>0.0</td>\n",
       "      <td>0.000</td>\n",
       "      <td>0.000</td>\n",
       "      <td>0.000</td>\n",
       "      <td>0.00</td>\n",
       "      <td>0.000</td>\n",
       "      <td>720.0</td>\n",
       "      <td>0.0</td>\n",
       "      <td>Beverage</td>\n",
       "      <td>2017-10-06</td>\n",
       "    </tr>\n",
       "    <tr>\n",
       "      <th>4</th>\n",
       "      <td>111527</td>\n",
       "      <td>2017-10-06 14:10:52+03:00</td>\n",
       "      <td>19.200</td>\n",
       "      <td>0.0</td>\n",
       "      <td>0.0</td>\n",
       "      <td>0.000</td>\n",
       "      <td>0.000</td>\n",
       "      <td>0.000</td>\n",
       "      <td>0.00</td>\n",
       "      <td>0.000</td>\n",
       "      <td>960.0</td>\n",
       "      <td>0.0</td>\n",
       "      <td>Beverage</td>\n",
       "      <td>2017-10-06</td>\n",
       "    </tr>\n",
       "  </tbody>\n",
       "</table>\n",
       "</div>"
      ],
      "text/plain": [
       "  RegistrationCode                      Date  ...  meal_type         Day\n",
       "0           111527 2017-10-06 09:46:44+03:00  ...   Beverage  2017-10-06\n",
       "1           111527 2017-10-06 11:48:01+03:00  ...       Meal  2017-10-06\n",
       "2           111527 2017-10-06 11:53:29+03:00  ...   Beverage  2017-10-06\n",
       "3           111527 2017-10-06 13:17:55+03:00  ...   Beverage  2017-10-06\n",
       "4           111527 2017-10-06 14:10:52+03:00  ...   Beverage  2017-10-06\n",
       "\n",
       "[5 rows x 14 columns]"
      ]
     },
     "execution_count": 155,
     "metadata": {},
     "output_type": "execute_result"
    }
   ],
   "source": [
    "logdf['Day'] = logdf['Date'].dt.date\n",
    "logdf.head()"
   ]
  },
  {
   "cell_type": "code",
   "execution_count": null,
   "metadata": {},
   "outputs": [],
   "source": []
  }
 ],
 "metadata": {
  "kernelspec": {
   "display_name": "Python 3",
   "language": "python",
   "name": "python3"
  },
  "language_info": {
   "codemirror_mode": {
    "name": "ipython",
    "version": 3
   },
   "file_extension": ".py",
   "mimetype": "text/x-python",
   "name": "python",
   "nbconvert_exporter": "python",
   "pygments_lexer": "ipython3",
   "version": "3.7.5"
  },
  "toc": {
   "base_numbering": 1,
   "nav_menu": {},
   "number_sections": true,
   "sideBar": true,
   "skip_h1_title": false,
   "title_cell": "Table of Contents",
   "title_sidebar": "Contents",
   "toc_cell": false,
   "toc_position": {},
   "toc_section_display": true,
   "toc_window_display": true
  },
  "varInspector": {
   "cols": {
    "lenName": 16,
    "lenType": 16,
    "lenVar": 40
   },
   "kernels_config": {
    "python": {
     "delete_cmd_postfix": "",
     "delete_cmd_prefix": "del ",
     "library": "var_list.py",
     "varRefreshCmd": "print(var_dic_list())"
    },
    "r": {
     "delete_cmd_postfix": ") ",
     "delete_cmd_prefix": "rm(",
     "library": "var_list.r",
     "varRefreshCmd": "cat(var_dic_list()) "
    }
   },
   "types_to_exclude": [
    "module",
    "function",
    "builtin_function_or_method",
    "instance",
    "_Feature"
   ],
   "window_display": false
  }
 },
 "nbformat": 4,
 "nbformat_minor": 2
}
