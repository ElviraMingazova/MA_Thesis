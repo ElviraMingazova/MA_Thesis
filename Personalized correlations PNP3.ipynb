{
 "cells": [
  {
   "cell_type": "markdown",
   "metadata": {},
   "source": [
    "# Personalized correlations PNP3\n",
    "\n",
    " *Wake up glucose vs diet the day before*"
   ]
  },
  {
   "cell_type": "markdown",
   "metadata": {},
   "source": [
    "The idea is that wakeup glucose is not the same on different days for the same person. I want to understand if it is due to the dietal behavior the day before. Also I want to see if associations between the food in the previous day and the wakeup glucose are different for different people. PNP3 cohort is suitable for this purpose because each person had more than 100 days of CGM connections."
   ]
  },
  {
   "cell_type": "markdown",
   "metadata": {},
   "source": [
    "I have to start with computing the wakeup glucose for all the people and each day. The method is to use the time between 6 and 7 unless a person logged the food at this time. Also I have to filter out days and people who logged any food after midnight."
   ]
  },
  {
   "cell_type": "code",
   "execution_count": 575,
   "metadata": {
    "ExecuteTime": {
     "end_time": "2020-02-19T15:35:01.547358Z",
     "start_time": "2020-02-19T15:35:01.515999Z"
    }
   },
   "outputs": [],
   "source": [
    "import pandas as pd\n",
    "from LabData.DataLoaders.CGMLoader import CGMLoader\n",
    "from LabData.DataLoaders.DietLoggingLoader import DietLoggingLoader\n",
    "import datetime\n",
    "%matplotlib inline\n",
    "cgml = CGMLoader()\n",
    "dll = DietLoggingLoader()"
   ]
  },
  {
   "cell_type": "code",
   "execution_count": 264,
   "metadata": {
    "ExecuteTime": {
     "end_time": "2020-02-17T07:54:32.532174Z",
     "start_time": "2020-02-17T07:54:32.527885Z"
    }
   },
   "outputs": [],
   "source": [
    "import matplotlib.pyplot as plt\n",
    "import matplotlib\n",
    "matplotlib.style.use('ggplot')"
   ]
  },
  {
   "cell_type": "code",
   "execution_count": 479,
   "metadata": {
    "ExecuteTime": {
     "end_time": "2020-02-17T15:31:19.517685Z",
     "start_time": "2020-02-17T15:31:19.514016Z"
    }
   },
   "outputs": [],
   "source": [
    "import seaborn as sns\n",
    "from scipy.stats import pearsonr, spearmanr\n",
    "from statsmodels.stats.multitest import fdrcorrection"
   ]
  },
  {
   "cell_type": "markdown",
   "metadata": {},
   "source": [
    "## Calculating wakeup glucose"
   ]
  },
  {
   "cell_type": "markdown",
   "metadata": {},
   "source": [
    "This function will only suit for pnp3 because it involves adding adjusted glucose from a file outside LabData. "
   ]
  },
  {
   "cell_type": "code",
   "execution_count": 531,
   "metadata": {
    "ExecuteTime": {
     "end_time": "2020-02-19T10:46:41.091580Z",
     "start_time": "2020-02-19T10:46:41.064781Z"
    }
   },
   "outputs": [],
   "source": [
    "def calculate_wakeup_glucose_pnp3(time_between = [5,7], study_ids=[3,49]):    \n",
    "\n",
    "    \"\"\"Calculates wakeup glucose in the interval given in time_between \n",
    "    depending on the breakfast time\"\"\"\n",
    "    \n",
    "    # Get the cgm df and combine it with adjusted glucose \n",
    "    cgmdf = cgml.get_data(study_ids=study_ids).df\n",
    "    cgmdf = cgml._remove_first_day_of_connections(cgmdf)\n",
    "    cgmdf = cgmdf.reset_index()\n",
    "    cgmdf['hour'] = cgmdf.Date.dt.hour\n",
    "    cgmdf = cgmdf.set_index('Date')\n",
    "    cgmdf.index = cgmdf.index.tz_localize(None)\n",
    "    adj_gluc = pd.read_json('/home/elming/Cache/adj_gl.json')\n",
    "    adj_gluc['ConnectionID'] = adj_gluc['ConnectionID'].astype(str)\n",
    "    adj_gluc['GlucoseTimestamp'] = pd.to_datetime(adj_gluc['GlucoseTimestamp'])\n",
    "    adj_gluc = adj_gluc.rename(columns={'GlucoseTimestamp':'Date'})\n",
    "    adj_gluc = adj_gluc.set_index(['ConnectionID', 'Date'])\n",
    "    cgm_adj = pd.merge(cgmdf, adj_gluc['GlucoseAdj50N13_Mm'], on=['ConnectionID', 'Date'])\n",
    "    cgm_adj = cgm_adj.rename(columns={'GlucoseAdj50N13_Mm':'GlucoseAdj'})\n",
    "\n",
    "    #  Get the log df \n",
    "    log = dll.get_data(study_ids=study_ids).df\n",
    "    logdf = dll.add_nutrients(log, ['energy_kcal'])\n",
    "    logdf = dll.squeeze_log(logdf)\n",
    "    logdf = logdf.reset_index()\n",
    "    logdf['Day'] = logdf['Date'].dt.date\n",
    "    \n",
    "    # Filter out beverages with 0 kcal\n",
    "    logdf = logdf[logdf['energy_kcal'] != 0]\n",
    "    \n",
    "    # Filter out days with first meals earlier than 6 am \n",
    "    firstmeals = pd.DataFrame(logdf.groupby(['RegistrationCode', 'Day'])['Date'].first().rename('breakfast_ts'))\n",
    "    firstmeals = firstmeals[(firstmeals['breakfast_ts'].dt.time > datetime.time(6, 0, 0))]\n",
    "    \n",
    "    # Dtype handling. After groupby 'Day' is an object, but I need it to be datetime\n",
    "    firstmeals = firstmeals.reset_index('Day')\n",
    "    firstmeals['Day'] = pd.to_datetime(firstmeals['Day'])\n",
    "    firstmeals = firstmeals.set_index('Day', append=True)\n",
    "    cgm_adj['Day'] = cgm_adj.index.date\n",
    "    cgm_adj = cgm_adj.set_index(['RegistrationCode', 'Day'])\n",
    "    \n",
    "    # Get cgm and firstmeals ts in one df\n",
    "    cgm_fm = pd.merge(cgm_adj, firstmeals, on=['RegistrationCode', 'Day'])\n",
    "    \n",
    "    # Leave cgm timestamps between 5 and 7 only\n",
    "    cgm_fm = cgm_fm[(cgm_fm['hour'] >= time_between[0]) & (cgm_fm['hour'] < time_between[1])]\n",
    "    \n",
    "    # If breakfast was between 6 and 7 then wakeup glucose is a mean value between 5 and 6, otherwise between 6 and 7\n",
    "    cgm_fm = cgm_fm[((cgm_fm['hour'] == time_between[0]) & (cgm_fm['breakfast_ts'].dt.hour == time_between[0] + 1)) | \n",
    "                    ((cgm_fm['hour'] == time_between[0] + 1) & (cgm_fm['breakfast_ts'].dt.hour >= time_between[1]))]\n",
    "    wakeup_glucose = pd.DataFrame(cgm_fm.reset_index().groupby(['RegistrationCode', 'Day', 'hour'])['GlucoseAdj'].mean().rename(\n",
    "                                'wakeup_glucose'))\n",
    "    \n",
    "    return wakeup_glucose"
   ]
  },
  {
   "cell_type": "code",
   "execution_count": 532,
   "metadata": {
    "ExecuteTime": {
     "end_time": "2020-02-19T10:52:23.740354Z",
     "start_time": "2020-02-19T10:47:15.947270Z"
    }
   },
   "outputs": [],
   "source": [
    "wakeup_glucose_test = calculate_wakeup_glucose_pnp3()"
   ]
  },
  {
   "cell_type": "code",
   "execution_count": 535,
   "metadata": {
    "ExecuteTime": {
     "end_time": "2020-02-19T13:03:46.363060Z",
     "start_time": "2020-02-19T13:03:46.343617Z"
    },
    "scrolled": true
   },
   "outputs": [
    {
     "data": {
      "text/html": [
       "<div>\n",
       "<style scoped>\n",
       "    .dataframe tbody tr th:only-of-type {\n",
       "        vertical-align: middle;\n",
       "    }\n",
       "\n",
       "    .dataframe tbody tr th {\n",
       "        vertical-align: top;\n",
       "    }\n",
       "\n",
       "    .dataframe thead th {\n",
       "        text-align: right;\n",
       "    }\n",
       "</style>\n",
       "<table border=\"1\" class=\"dataframe\">\n",
       "  <thead>\n",
       "    <tr style=\"text-align: right;\">\n",
       "      <th></th>\n",
       "      <th></th>\n",
       "      <th></th>\n",
       "      <th>wakeup_glucose</th>\n",
       "    </tr>\n",
       "    <tr>\n",
       "      <th>RegistrationCode</th>\n",
       "      <th>Day</th>\n",
       "      <th>hour</th>\n",
       "      <th></th>\n",
       "    </tr>\n",
       "  </thead>\n",
       "  <tbody>\n",
       "    <tr>\n",
       "      <th rowspan=\"5\" valign=\"top\">111527</th>\n",
       "      <th>2017-11-08</th>\n",
       "      <th>5</th>\n",
       "      <td>103.071429</td>\n",
       "    </tr>\n",
       "    <tr>\n",
       "      <th>2017-11-10</th>\n",
       "      <th>5</th>\n",
       "      <td>98.071429</td>\n",
       "    </tr>\n",
       "    <tr>\n",
       "      <th>2017-11-11</th>\n",
       "      <th>6</th>\n",
       "      <td>101.321429</td>\n",
       "    </tr>\n",
       "    <tr>\n",
       "      <th>2017-11-12</th>\n",
       "      <th>6</th>\n",
       "      <td>107.071429</td>\n",
       "    </tr>\n",
       "    <tr>\n",
       "      <th>2017-11-13</th>\n",
       "      <th>6</th>\n",
       "      <td>106.071429</td>\n",
       "    </tr>\n",
       "  </tbody>\n",
       "</table>\n",
       "</div>"
      ],
      "text/plain": [
       "                                  wakeup_glucose\n",
       "RegistrationCode Day        hour                \n",
       "111527           2017-11-08 5         103.071429\n",
       "                 2017-11-10 5          98.071429\n",
       "                 2017-11-11 6         101.321429\n",
       "                 2017-11-12 6         107.071429\n",
       "                 2017-11-13 6         106.071429"
      ]
     },
     "execution_count": 535,
     "metadata": {},
     "output_type": "execute_result"
    }
   ],
   "source": [
    "wakeup_glucose_test.head()"
   ]
  },
  {
   "cell_type": "markdown",
   "metadata": {},
   "source": [
    "## Wakeup glucose variability distribution"
   ]
  },
  {
   "cell_type": "code",
   "execution_count": 135,
   "metadata": {
    "ExecuteTime": {
     "end_time": "2020-02-13T15:52:27.516823Z",
     "start_time": "2020-02-13T15:52:27.510831Z"
    }
   },
   "outputs": [],
   "source": [
    "def q1(x):\n",
    "    return x.quantile(0.25)\n",
    "\n",
    "def q3(x):\n",
    "    return x.quantile(0.75)\n",
    "\n",
    "def interquartile_range(x):\n",
    "    return q3(x) - q1(x)\n",
    "\n",
    "f = {'wakeup_glucose': ['median', 'std', q1,q3, interquartile_range]}"
   ]
  },
  {
   "cell_type": "code",
   "execution_count": 136,
   "metadata": {
    "ExecuteTime": {
     "end_time": "2020-02-13T15:52:29.284411Z",
     "start_time": "2020-02-13T15:52:28.313696Z"
    }
   },
   "outputs": [],
   "source": [
    "morn_gluc_distr = wakeup_glucose.groupby('RegistrationCode').agg(f)"
   ]
  },
  {
   "cell_type": "code",
   "execution_count": 108,
   "metadata": {
    "ExecuteTime": {
     "end_time": "2020-02-13T14:30:59.293124Z",
     "start_time": "2020-02-13T14:30:59.289203Z"
    }
   },
   "outputs": [],
   "source": [
    "morn_gluc_distr.columns = morn_gluc_distr.columns.droplevel()"
   ]
  },
  {
   "cell_type": "code",
   "execution_count": 137,
   "metadata": {
    "ExecuteTime": {
     "end_time": "2020-02-13T15:52:31.661969Z",
     "start_time": "2020-02-13T15:52:31.625636Z"
    }
   },
   "outputs": [
    {
     "data": {
      "text/html": [
       "<div>\n",
       "<style scoped>\n",
       "    .dataframe tbody tr th:only-of-type {\n",
       "        vertical-align: middle;\n",
       "    }\n",
       "\n",
       "    .dataframe tbody tr th {\n",
       "        vertical-align: top;\n",
       "    }\n",
       "\n",
       "    .dataframe thead tr th {\n",
       "        text-align: left;\n",
       "    }\n",
       "\n",
       "    .dataframe thead tr:last-of-type th {\n",
       "        text-align: right;\n",
       "    }\n",
       "</style>\n",
       "<table border=\"1\" class=\"dataframe\">\n",
       "  <thead>\n",
       "    <tr>\n",
       "      <th></th>\n",
       "      <th colspan=\"5\" halign=\"left\">wakeup_glucose</th>\n",
       "    </tr>\n",
       "    <tr>\n",
       "      <th></th>\n",
       "      <th>median</th>\n",
       "      <th>std</th>\n",
       "      <th>q1</th>\n",
       "      <th>q3</th>\n",
       "      <th>interquartile_range</th>\n",
       "    </tr>\n",
       "    <tr>\n",
       "      <th>RegistrationCode</th>\n",
       "      <th></th>\n",
       "      <th></th>\n",
       "      <th></th>\n",
       "      <th></th>\n",
       "      <th></th>\n",
       "    </tr>\n",
       "  </thead>\n",
       "  <tbody>\n",
       "    <tr>\n",
       "      <th>173854</th>\n",
       "      <td>87.145833</td>\n",
       "      <td>14.927984</td>\n",
       "      <td>78.687500</td>\n",
       "      <td>91.647321</td>\n",
       "      <td>12.959821</td>\n",
       "    </tr>\n",
       "    <tr>\n",
       "      <th>772380</th>\n",
       "      <td>96.250000</td>\n",
       "      <td>5.252915</td>\n",
       "      <td>93.137500</td>\n",
       "      <td>100.700000</td>\n",
       "      <td>7.562500</td>\n",
       "    </tr>\n",
       "    <tr>\n",
       "      <th>252002</th>\n",
       "      <td>97.649573</td>\n",
       "      <td>9.253903</td>\n",
       "      <td>92.919318</td>\n",
       "      <td>105.050000</td>\n",
       "      <td>12.130682</td>\n",
       "    </tr>\n",
       "    <tr>\n",
       "      <th>794542</th>\n",
       "      <td>126.634615</td>\n",
       "      <td>12.311187</td>\n",
       "      <td>121.875000</td>\n",
       "      <td>132.849359</td>\n",
       "      <td>10.974359</td>\n",
       "    </tr>\n",
       "    <tr>\n",
       "      <th>130279</th>\n",
       "      <td>99.375000</td>\n",
       "      <td>11.034922</td>\n",
       "      <td>94.585227</td>\n",
       "      <td>105.468750</td>\n",
       "      <td>10.883523</td>\n",
       "    </tr>\n",
       "    <tr>\n",
       "      <th>132178</th>\n",
       "      <td>109.375000</td>\n",
       "      <td>8.970829</td>\n",
       "      <td>102.875000</td>\n",
       "      <td>114.669643</td>\n",
       "      <td>11.794643</td>\n",
       "    </tr>\n",
       "    <tr>\n",
       "      <th>439484</th>\n",
       "      <td>95.250000</td>\n",
       "      <td>10.592360</td>\n",
       "      <td>90.465909</td>\n",
       "      <td>98.919643</td>\n",
       "      <td>8.453734</td>\n",
       "    </tr>\n",
       "    <tr>\n",
       "      <th>742096</th>\n",
       "      <td>92.333333</td>\n",
       "      <td>5.377542</td>\n",
       "      <td>88.115385</td>\n",
       "      <td>95.603147</td>\n",
       "      <td>7.487762</td>\n",
       "    </tr>\n",
       "    <tr>\n",
       "      <th>997427</th>\n",
       "      <td>107.766667</td>\n",
       "      <td>7.604173</td>\n",
       "      <td>103.270833</td>\n",
       "      <td>111.968531</td>\n",
       "      <td>8.697698</td>\n",
       "    </tr>\n",
       "    <tr>\n",
       "      <th>64952</th>\n",
       "      <td>89.289773</td>\n",
       "      <td>8.936098</td>\n",
       "      <td>84.923295</td>\n",
       "      <td>94.250000</td>\n",
       "      <td>9.326705</td>\n",
       "    </tr>\n",
       "  </tbody>\n",
       "</table>\n",
       "</div>"
      ],
      "text/plain": [
       "                 wakeup_glucose             ...                                \n",
       "                         median        std  ...          q3 interquartile_range\n",
       "RegistrationCode                            ...                                \n",
       "173854                87.145833  14.927984  ...   91.647321           12.959821\n",
       "772380                96.250000   5.252915  ...  100.700000            7.562500\n",
       "252002                97.649573   9.253903  ...  105.050000           12.130682\n",
       "794542               126.634615  12.311187  ...  132.849359           10.974359\n",
       "130279                99.375000  11.034922  ...  105.468750           10.883523\n",
       "132178               109.375000   8.970829  ...  114.669643           11.794643\n",
       "439484                95.250000  10.592360  ...   98.919643            8.453734\n",
       "742096                92.333333   5.377542  ...   95.603147            7.487762\n",
       "997427               107.766667   7.604173  ...  111.968531            8.697698\n",
       "64952                 89.289773   8.936098  ...   94.250000            9.326705\n",
       "\n",
       "[10 rows x 5 columns]"
      ]
     },
     "execution_count": 137,
     "metadata": {},
     "output_type": "execute_result"
    }
   ],
   "source": [
    "morn_gluc_distr.sample(10)"
   ]
  },
  {
   "cell_type": "code",
   "execution_count": 122,
   "metadata": {
    "ExecuteTime": {
     "end_time": "2020-02-13T14:41:10.838261Z",
     "start_time": "2020-02-13T14:41:10.485920Z"
    }
   },
   "outputs": [
    {
     "data": {
      "text/plain": [
       "<matplotlib.axes._subplots.AxesSubplot at 0x2af9884cd250>"
      ]
     },
     "execution_count": 122,
     "metadata": {},
     "output_type": "execute_result"
    },
    {
     "data": {
      "image/png": "[encoded data removed]",
      "text/plain": [
       "<Figure size 504x360 with 1 Axes>"
      ]
     },
     "metadata": {},
     "output_type": "display_data"
    }
   ],
   "source": [
    "fig = plt.figure(figsize=(7,5))\n",
    "fig.suptitle('Intrapersonal variability of the morning glucose in PNP3', fontsize=18)\n",
    "ax1 = fig.add_subplot(111)\n",
    "ax1.set_xlabel('Interquartile range')\n",
    "morn_gluc_distr['interquartile_range'].plot.hist()"
   ]
  },
  {
   "cell_type": "code",
   "execution_count": 123,
   "metadata": {
    "ExecuteTime": {
     "end_time": "2020-02-13T14:42:40.526204Z",
     "start_time": "2020-02-13T14:42:40.519498Z"
    }
   },
   "outputs": [
    {
     "data": {
      "text/plain": [
       "11.936180075658099"
      ]
     },
     "execution_count": 123,
     "metadata": {},
     "output_type": "execute_result"
    }
   ],
   "source": [
    "morn_gluc_distr['interquartile_range'].mean()"
   ]
  },
  {
   "cell_type": "markdown",
   "metadata": {},
   "source": [
    "### Todo: I should look at this values before and after the intervention and compare changes for the two diets. "
   ]
  },
  {
   "cell_type": "code",
   "execution_count": 152,
   "metadata": {
    "ExecuteTime": {
     "end_time": "2020-02-13T16:04:52.257108Z",
     "start_time": "2020-02-13T16:04:52.252033Z"
    },
    "scrolled": false
   },
   "outputs": [
    {
     "data": {
      "text/plain": [
       "(25799, 4)"
      ]
     },
     "execution_count": 152,
     "metadata": {},
     "output_type": "execute_result"
    }
   ],
   "source": [
    "wakeup_glucose.shape"
   ]
  },
  {
   "cell_type": "markdown",
   "metadata": {},
   "source": [
    "For how many days did people wear CGM sensor?"
   ]
  },
  {
   "cell_type": "code",
   "execution_count": 143,
   "metadata": {
    "ExecuteTime": {
     "end_time": "2020-02-13T16:01:09.168894Z",
     "start_time": "2020-02-13T16:01:09.160731Z"
    },
    "scrolled": true
   },
   "outputs": [],
   "source": [
    "count = wakeup_glucose.groupby('RegistrationCode')['Day'].count()"
   ]
  },
  {
   "cell_type": "code",
   "execution_count": 144,
   "metadata": {
    "ExecuteTime": {
     "end_time": "2020-02-13T16:01:19.556413Z",
     "start_time": "2020-02-13T16:01:19.349743Z"
    },
    "scrolled": true
   },
   "outputs": [
    {
     "data": {
      "text/plain": [
       "<matplotlib.axes._subplots.AxesSubplot at 0x2af9bbe836d0>"
      ]
     },
     "execution_count": 144,
     "metadata": {},
     "output_type": "execute_result"
    },
    {
     "data": {
      "image/png": "[encoded data removed]",
      "text/plain": [
       "<Figure size 432x288 with 1 Axes>"
      ]
     },
     "metadata": {},
     "output_type": "display_data"
    }
   ],
   "source": [
    "count.plot.hist()"
   ]
  },
  {
   "cell_type": "markdown",
   "metadata": {},
   "source": [
    "Let's take all people with at least 50 days of  connections."
   ]
  },
  {
   "cell_type": "code",
   "execution_count": 149,
   "metadata": {
    "ExecuteTime": {
     "end_time": "2020-02-13T16:03:05.576926Z",
     "start_time": "2020-02-13T16:03:05.571945Z"
    }
   },
   "outputs": [],
   "source": [
    "rc_to_keep = count[count >= 50].index"
   ]
  },
  {
   "cell_type": "code",
   "execution_count": 536,
   "metadata": {
    "ExecuteTime": {
     "end_time": "2020-02-19T13:11:01.590965Z",
     "start_time": "2020-02-19T13:11:01.585877Z"
    }
   },
   "outputs": [
    {
     "data": {
      "text/plain": [
       "207"
      ]
     },
     "execution_count": 536,
     "metadata": {},
     "output_type": "execute_result"
    }
   ],
   "source": [
    "len(rc_to_keep)"
   ]
  },
  {
   "cell_type": "markdown",
   "metadata": {},
   "source": [
    "We have 207 people in total."
   ]
  },
  {
   "cell_type": "markdown",
   "metadata": {},
   "source": [
    "## Leave only those people with more than 50 days of connections"
   ]
  },
  {
   "cell_type": "code",
   "execution_count": 543,
   "metadata": {
    "ExecuteTime": {
     "end_time": "2020-02-19T13:22:45.715806Z",
     "start_time": "2020-02-19T13:22:45.710175Z"
    }
   },
   "outputs": [],
   "source": [
    "def more_than_x_connection_days(wakeup_glucose_df, x=50):\n",
    "    wakeup_glucose_df = wakeup_glucose_df.reset_index()\n",
    "    count = wakeup_glucose_df.groupby('RegistrationCode')['Day'].count()\n",
    "    rc_to_keep = count[count >= 50].index\n",
    "    # wakeup_glucose = wakeup_glucose.set_index('RegistrationCode').loc[rc_to_keep]\n",
    "    wakeup_glucose_df = wakeup_glucose_df[wakeup_glucose_df['RegistrationCode'].isin(rc_to_keep)]\n",
    "    return wakeup_glucose_df"
   ]
  },
  {
   "cell_type": "code",
   "execution_count": 544,
   "metadata": {
    "ExecuteTime": {
     "end_time": "2020-02-19T13:22:49.047981Z",
     "start_time": "2020-02-19T13:22:49.027589Z"
    }
   },
   "outputs": [],
   "source": [
    "wakeup_glucose_test = more_than_x_connection_days(wakeup_glucose_test)"
   ]
  },
  {
   "cell_type": "code",
   "execution_count": 547,
   "metadata": {
    "ExecuteTime": {
     "end_time": "2020-02-19T13:53:42.525223Z",
     "start_time": "2020-02-19T13:53:42.504836Z"
    }
   },
   "outputs": [
    {
     "data": {
      "text/html": [
       "<div>\n",
       "<style scoped>\n",
       "    .dataframe tbody tr th:only-of-type {\n",
       "        vertical-align: middle;\n",
       "    }\n",
       "\n",
       "    .dataframe tbody tr th {\n",
       "        vertical-align: top;\n",
       "    }\n",
       "\n",
       "    .dataframe thead th {\n",
       "        text-align: right;\n",
       "    }\n",
       "</style>\n",
       "<table border=\"1\" class=\"dataframe\">\n",
       "  <thead>\n",
       "    <tr style=\"text-align: right;\">\n",
       "      <th></th>\n",
       "      <th>RegistrationCode</th>\n",
       "      <th>Day</th>\n",
       "      <th>hour</th>\n",
       "      <th>wakeup_glucose</th>\n",
       "    </tr>\n",
       "  </thead>\n",
       "  <tbody>\n",
       "    <tr>\n",
       "      <th>0</th>\n",
       "      <td>111527</td>\n",
       "      <td>2017-11-08</td>\n",
       "      <td>5</td>\n",
       "      <td>103.071429</td>\n",
       "    </tr>\n",
       "    <tr>\n",
       "      <th>1</th>\n",
       "      <td>111527</td>\n",
       "      <td>2017-11-10</td>\n",
       "      <td>5</td>\n",
       "      <td>98.071429</td>\n",
       "    </tr>\n",
       "    <tr>\n",
       "      <th>2</th>\n",
       "      <td>111527</td>\n",
       "      <td>2017-11-11</td>\n",
       "      <td>6</td>\n",
       "      <td>101.321429</td>\n",
       "    </tr>\n",
       "    <tr>\n",
       "      <th>3</th>\n",
       "      <td>111527</td>\n",
       "      <td>2017-11-12</td>\n",
       "      <td>6</td>\n",
       "      <td>107.071429</td>\n",
       "    </tr>\n",
       "    <tr>\n",
       "      <th>4</th>\n",
       "      <td>111527</td>\n",
       "      <td>2017-11-13</td>\n",
       "      <td>6</td>\n",
       "      <td>106.071429</td>\n",
       "    </tr>\n",
       "  </tbody>\n",
       "</table>\n",
       "</div>"
      ],
      "text/plain": [
       "  RegistrationCode        Day  hour  wakeup_glucose\n",
       "0           111527 2017-11-08     5      103.071429\n",
       "1           111527 2017-11-10     5       98.071429\n",
       "2           111527 2017-11-11     6      101.321429\n",
       "3           111527 2017-11-12     6      107.071429\n",
       "4           111527 2017-11-13     6      106.071429"
      ]
     },
     "execution_count": 547,
     "metadata": {},
     "output_type": "execute_result"
    }
   ],
   "source": [
    "wakeup_glucose_test.head()"
   ]
  },
  {
   "cell_type": "markdown",
   "metadata": {},
   "source": [
    "## Dietary features from the day before"
   ]
  },
  {
   "cell_type": "code",
   "execution_count": null,
   "metadata": {},
   "outputs": [],
   "source": [
    "def prepare_data_for_corr(wg_df, nutrient_list, study_ids=[3,49], min_cal_per_day=1000, how='total_diet', daysplithours=[6,12,18]):\n",
    "    \n",
    "    \"\"\"Prepare joint df with wg and dietary features from the day before.\n",
    "    One can choose to correlate with total diet from the perevious day or with diet split into breakfast, lunch and dinner.\n",
    "    :param wg_df : wakeup_glucose DataFrame\n",
    "    :param nutrient_list: list of nutrients to select (for the full list see LabData/DataLoaders/Lists/meal_features.txt)\n",
    "                                e.g. ['energy_kcal', 'carbohydrate_g', 'protein_g', 'totallipid_g']\n",
    "                                if None, all nutrients are selected\n",
    "    :param min_cal_per_day:\n",
    "    :param how: string, can be 'total_diet' or 'split_diet'. If split_diet is passed, then the day will be split into breakfast,\n",
    "                        lunch and dinner and the nutrients will be calculated accordingly.\n",
    "    :param daysplithours: list telling how to split the day \n",
    "        \n",
    "    :return data_df with wg and dietary features to perform the correlations with\n",
    "    \"\"\" \n",
    "    carbs_cal_per_gram = 4\n",
    "    fat_cal_per_gram = 9\n",
    "    prot_cal_per_gram = 4\n",
    "    \n",
    "    log = dll.get_data(study_ids=study_ids).df\n",
    "    logdf = dll.add_nutrients(log, nutrient_list)\n",
    "    logdf = dll.squeeze_log(logdf)\n",
    "    logdf = logdf.reset_index()\n",
    "    logdf['Day'] = logdf['Date'].dt.date\n",
    "    #Identify days with good log more than min_cal_per_day\n",
    "    totaldaylog = logdf.drop(columns=['meal_type']).groupby(['RegistrationCode', 'Day']).sum()\n",
    "    totaldaylog = totaldaylog[totaldaylog['energy_kcal'] >= min_cal_per_day]\n",
    "    days_to_keep = totaldaylog.index\n",
    "    logdf = logdf.set_index(['RegistrationCode', 'Day'])\n",
    "    logdf = logdf.loc[days_to_keep]\n",
    "    \n",
    "    if how == 'total_diet':\n",
    "        # Add derived  features\n",
    "        totaldaylog['carbs/lipids'] = totaldaylog['carbohydrate_g'] / totaldaylog['totallipid_g']\n",
    "        totaldaylog['caloric%carbs'] = totaldaylog['carbohydrate_g'] * carbs_cal_per_gram / totaldaylog['energy_kcal']\n",
    "        totaldaylog['caloric%protein'] = totaldaylog['protein_g'] * prot_cal_per_gram / totaldaylog['energy_kcal']\n",
    "        totaldaylog['caloric%fat'] = totaldaylog['totallipid_g'] * fat_cal_per_gram / totaldaylog['energy_kcal']\n",
    "        # Change dtype to datetime for merge with wg_df\n",
    "        totaldaylog = totaldaylog.reset_index('Day')\n",
    "        totaldaylog['Day'] = pd.to_datetime(totaldaylog['Day'])\n",
    "        # Add day to the current day for merge with correct wg\n",
    "        totaldaylog['Day'] = totaldaylog['Day'] + datetime.timedelta(days=1)\n",
    "        data_for_corr = pd.merge(wakeup_glucose, totaldaylog, on=['RegistrationCode', 'Day'])\n",
    "        \n",
    "    elif how == 'split_diet':\n",
    "        \n",
    "\n",
    "        pass\n",
    "    \n",
    "    return data_for_corr\n",
    "        \n",
    "    \n",
    "    "
   ]
  },
  {
   "cell_type": "markdown",
   "metadata": {
    "ExecuteTime": {
     "end_time": "2020-02-13T15:11:00.538933Z",
     "start_time": "2020-02-13T15:11:00.445472Z"
    }
   },
   "source": [
    "Dietary features to test the correlations on:\n",
    "'alcohol_g', 'caffeine_mg', 'carbohydrate_g', 'carbs/fat', 'energy_kcal', 'protein_g', 'sodium_mg', 'sugarstotal_g', 'totaldietaryfiber_g', 'totallipid_g'"
   ]
  },
  {
   "cell_type": "code",
   "execution_count": 577,
   "metadata": {
    "ExecuteTime": {
     "end_time": "2020-02-19T15:35:42.817437Z",
     "start_time": "2020-02-19T15:35:39.743916Z"
    }
   },
   "outputs": [],
   "source": [
    " log = dll.get_data(study_ids=[3,49]).df"
   ]
  },
  {
   "cell_type": "code",
   "execution_count": 578,
   "metadata": {
    "ExecuteTime": {
     "end_time": "2020-02-19T15:35:53.921173Z",
     "start_time": "2020-02-19T15:35:49.313618Z"
    }
   },
   "outputs": [],
   "source": [
    "logdf = dll.add_nutrients(log,['caffeine_mg', 'carbohydrate_g', 'energy_kcal', \n",
    "                       'protein_g', 'sodium_mg', 'sugarstotal_g', 'totaldietaryfiber_g', 'totallipid_g'])"
   ]
  },
  {
   "cell_type": "code",
   "execution_count": 579,
   "metadata": {
    "ExecuteTime": {
     "end_time": "2020-02-19T15:35:58.789101Z",
     "start_time": "2020-02-19T15:35:55.342784Z"
    },
    "collapsed": true
   },
   "outputs": [
    {
     "data": {
      "text/html": [
       "<div>\n",
       "<style scoped>\n",
       "    .dataframe tbody tr th:only-of-type {\n",
       "        vertical-align: middle;\n",
       "    }\n",
       "\n",
       "    .dataframe tbody tr th {\n",
       "        vertical-align: top;\n",
       "    }\n",
       "\n",
       "    .dataframe thead th {\n",
       "        text-align: right;\n",
       "    }\n",
       "</style>\n",
       "<table border=\"1\" class=\"dataframe\">\n",
       "  <thead>\n",
       "    <tr style=\"text-align: right;\">\n",
       "      <th></th>\n",
       "      <th></th>\n",
       "      <th>sodium_mg</th>\n",
       "      <th>sugarstotal_g</th>\n",
       "      <th>totallipid_g</th>\n",
       "      <th>protein_g</th>\n",
       "      <th>carbohydrate_g</th>\n",
       "      <th>totaldietaryfiber_g</th>\n",
       "      <th>energy_kcal</th>\n",
       "      <th>weight</th>\n",
       "      <th>caffeine_mg</th>\n",
       "      <th>meal_type</th>\n",
       "    </tr>\n",
       "    <tr>\n",
       "      <th>RegistrationCode</th>\n",
       "      <th>Date</th>\n",
       "      <th></th>\n",
       "      <th></th>\n",
       "      <th></th>\n",
       "      <th></th>\n",
       "      <th></th>\n",
       "      <th></th>\n",
       "      <th></th>\n",
       "      <th></th>\n",
       "      <th></th>\n",
       "      <th></th>\n",
       "    </tr>\n",
       "  </thead>\n",
       "  <tbody>\n",
       "    <tr>\n",
       "      <th rowspan=\"5\" valign=\"top\">111527</th>\n",
       "      <th>2017-10-06 09:46:44+03:00</th>\n",
       "      <td>9.800</td>\n",
       "      <td>0.0</td>\n",
       "      <td>0.050</td>\n",
       "      <td>0.300</td>\n",
       "      <td>0.000</td>\n",
       "      <td>0.00</td>\n",
       "      <td>2.500</td>\n",
       "      <td>490.0</td>\n",
       "      <td>112.5</td>\n",
       "      <td>Beverage</td>\n",
       "    </tr>\n",
       "    <tr>\n",
       "      <th>2017-10-06 11:48:01+03:00</th>\n",
       "      <td>311.000</td>\n",
       "      <td>0.0</td>\n",
       "      <td>6.040</td>\n",
       "      <td>6.700</td>\n",
       "      <td>15.220</td>\n",
       "      <td>0.56</td>\n",
       "      <td>147.000</td>\n",
       "      <td>560.0</td>\n",
       "      <td>0.0</td>\n",
       "      <td>Meal</td>\n",
       "    </tr>\n",
       "    <tr>\n",
       "      <th>2017-10-06 11:53:29+03:00</th>\n",
       "      <td>64.995</td>\n",
       "      <td>0.0</td>\n",
       "      <td>3.906</td>\n",
       "      <td>4.284</td>\n",
       "      <td>6.363</td>\n",
       "      <td>0.00</td>\n",
       "      <td>78.057</td>\n",
       "      <td>210.0</td>\n",
       "      <td>50.4</td>\n",
       "      <td>Beverage</td>\n",
       "    </tr>\n",
       "    <tr>\n",
       "      <th>2017-10-06 13:17:55+03:00</th>\n",
       "      <td>14.400</td>\n",
       "      <td>0.0</td>\n",
       "      <td>0.000</td>\n",
       "      <td>0.000</td>\n",
       "      <td>0.000</td>\n",
       "      <td>0.00</td>\n",
       "      <td>0.000</td>\n",
       "      <td>720.0</td>\n",
       "      <td>0.0</td>\n",
       "      <td>Beverage</td>\n",
       "    </tr>\n",
       "    <tr>\n",
       "      <th>2017-10-06 14:10:52+03:00</th>\n",
       "      <td>19.200</td>\n",
       "      <td>0.0</td>\n",
       "      <td>0.000</td>\n",
       "      <td>0.000</td>\n",
       "      <td>0.000</td>\n",
       "      <td>0.00</td>\n",
       "      <td>0.000</td>\n",
       "      <td>960.0</td>\n",
       "      <td>0.0</td>\n",
       "      <td>Beverage</td>\n",
       "    </tr>\n",
       "  </tbody>\n",
       "</table>\n",
       "</div>"
      ],
      "text/plain": [
       "                                            sodium_mg  ...  meal_type\n",
       "RegistrationCode Date                                  ...           \n",
       "111527           2017-10-06 09:46:44+03:00      9.800  ...   Beverage\n",
       "                 2017-10-06 11:48:01+03:00    311.000  ...       Meal\n",
       "                 2017-10-06 11:53:29+03:00     64.995  ...   Beverage\n",
       "                 2017-10-06 13:17:55+03:00     14.400  ...   Beverage\n",
       "                 2017-10-06 14:10:52+03:00     19.200  ...   Beverage\n",
       "\n",
       "[5 rows x 10 columns]"
      ]
     },
     "execution_count": 579,
     "metadata": {},
     "output_type": "execute_result"
    }
   ],
   "source": [
    "logdf = dll.squeeze_log(logdf)"
   ]
  },
  {
   "cell_type": "code",
   "execution_count": 587,
   "metadata": {
    "ExecuteTime": {
     "end_time": "2020-02-19T15:37:21.021233Z",
     "start_time": "2020-02-19T15:37:20.987075Z"
    }
   },
   "outputs": [],
   "source": [
    "logdf = logdf.reset_index()"
   ]
  },
  {
   "cell_type": "code",
   "execution_count": 589,
   "metadata": {
    "ExecuteTime": {
     "end_time": "2020-02-19T15:37:40.636506Z",
     "start_time": "2020-02-19T15:37:40.510993Z"
    }
   },
   "outputs": [],
   "source": [
    "logdf['Day'] = logdf['Date'].dt.date"
   ]
  },
  {
   "cell_type": "code",
   "execution_count": 582,
   "metadata": {
    "ExecuteTime": {
     "end_time": "2020-02-19T15:36:14.263793Z",
     "start_time": "2020-02-19T15:36:14.259214Z"
    }
   },
   "outputs": [],
   "source": [
    "daysplithours=[6, 12, 18]"
   ]
  },
  {
   "cell_type": "code",
   "execution_count": 583,
   "metadata": {
    "ExecuteTime": {
     "end_time": "2020-02-19T15:36:16.850573Z",
     "start_time": "2020-02-19T15:36:16.078316Z"
    }
   },
   "outputs": [],
   "source": [
    "logdf['alloc'] = ''\n",
    "logdf.loc[(logdf['Date'].dt.time >= datetime.time(daysplithours[0], 0, 0)) & \n",
    "              (logdf['Date'].dt.time < datetime.time(daysplithours[1], 0, 0)),'alloc'] = 'b'\n",
    "logdf.loc[(logdf['Date'].dt.time >= datetime.time(daysplithours[1], 0, 0)) & \n",
    "              (logdf['Date'].dt.time < datetime.time(daysplithours[2], 0, 0)),'alloc'] = 'l'\n",
    "logdf.loc[(logdf['Date'].dt.time > datetime.time(daysplithours[2], 0, 0)),'alloc'] = 'd'"
   ]
  },
  {
   "cell_type": "code",
   "execution_count": 606,
   "metadata": {
    "ExecuteTime": {
     "end_time": "2020-02-19T16:00:53.239250Z",
     "start_time": "2020-02-19T16:00:53.173806Z"
    },
    "scrolled": false
   },
   "outputs": [],
   "source": [
    "# We are only interested in  food between 6 and 24, days where people logged food during the night will be out after merge with wg_df\n",
    "logdf = logdf[logdf['alloc'] != '']"
   ]
  },
  {
   "cell_type": "code",
   "execution_count": 607,
   "metadata": {
    "ExecuteTime": {
     "end_time": "2020-02-19T16:01:03.632183Z",
     "start_time": "2020-02-19T16:01:03.626756Z"
    }
   },
   "outputs": [
    {
     "data": {
      "text/plain": [
       "(232563, 12)"
      ]
     },
     "execution_count": 607,
     "metadata": {},
     "output_type": "execute_result"
    }
   ],
   "source": [
    "logdf.shape"
   ]
  },
  {
   "cell_type": "code",
   "execution_count": 590,
   "metadata": {
    "ExecuteTime": {
     "end_time": "2020-02-19T15:37:50.568573Z",
     "start_time": "2020-02-19T15:37:50.439660Z"
    }
   },
   "outputs": [],
   "source": [
    "logdf = logdf.set_index(['RegistrationCode', 'Day'])"
   ]
  },
  {
   "cell_type": "code",
   "execution_count": 603,
   "metadata": {
    "ExecuteTime": {
     "end_time": "2020-02-19T15:55:29.536859Z",
     "start_time": "2020-02-19T15:55:29.512423Z"
    }
   },
   "outputs": [],
   "source": [
    "logdf = logdf.drop(columns='index')"
   ]
  },
  {
   "cell_type": "code",
   "execution_count": 609,
   "metadata": {
    "ExecuteTime": {
     "end_time": "2020-02-19T16:04:57.029990Z",
     "start_time": "2020-02-19T16:04:56.678769Z"
    },
    "scrolled": true
   },
   "outputs": [
    {
     "data": {
      "text/html": [
       "<div>\n",
       "<style scoped>\n",
       "    .dataframe tbody tr th:only-of-type {\n",
       "        vertical-align: middle;\n",
       "    }\n",
       "\n",
       "    .dataframe tbody tr th {\n",
       "        vertical-align: top;\n",
       "    }\n",
       "\n",
       "    .dataframe thead tr th {\n",
       "        text-align: left;\n",
       "    }\n",
       "\n",
       "    .dataframe thead tr:last-of-type th {\n",
       "        text-align: right;\n",
       "    }\n",
       "</style>\n",
       "<table border=\"1\" class=\"dataframe\">\n",
       "  <thead>\n",
       "    <tr>\n",
       "      <th></th>\n",
       "      <th></th>\n",
       "      <th colspan=\"3\" halign=\"left\">sodium_mg</th>\n",
       "      <th colspan=\"3\" halign=\"left\">sugarstotal_g</th>\n",
       "      <th colspan=\"3\" halign=\"left\">totallipid_g</th>\n",
       "      <th colspan=\"3\" halign=\"left\">protein_g</th>\n",
       "      <th colspan=\"3\" halign=\"left\">carbohydrate_g</th>\n",
       "      <th colspan=\"3\" halign=\"left\">totaldietaryfiber_g</th>\n",
       "      <th colspan=\"3\" halign=\"left\">energy_kcal</th>\n",
       "      <th colspan=\"3\" halign=\"left\">weight</th>\n",
       "      <th colspan=\"3\" halign=\"left\">caffeine_mg</th>\n",
       "    </tr>\n",
       "    <tr>\n",
       "      <th></th>\n",
       "      <th>alloc</th>\n",
       "      <th>b</th>\n",
       "      <th>d</th>\n",
       "      <th>l</th>\n",
       "      <th>b</th>\n",
       "      <th>d</th>\n",
       "      <th>l</th>\n",
       "      <th>b</th>\n",
       "      <th>d</th>\n",
       "      <th>l</th>\n",
       "      <th>b</th>\n",
       "      <th>d</th>\n",
       "      <th>l</th>\n",
       "      <th>b</th>\n",
       "      <th>d</th>\n",
       "      <th>l</th>\n",
       "      <th>b</th>\n",
       "      <th>d</th>\n",
       "      <th>l</th>\n",
       "      <th>b</th>\n",
       "      <th>d</th>\n",
       "      <th>l</th>\n",
       "      <th>b</th>\n",
       "      <th>d</th>\n",
       "      <th>l</th>\n",
       "      <th>b</th>\n",
       "      <th>d</th>\n",
       "      <th>l</th>\n",
       "    </tr>\n",
       "    <tr>\n",
       "      <th>RegistrationCode</th>\n",
       "      <th>Day</th>\n",
       "      <th></th>\n",
       "      <th></th>\n",
       "      <th></th>\n",
       "      <th></th>\n",
       "      <th></th>\n",
       "      <th></th>\n",
       "      <th></th>\n",
       "      <th></th>\n",
       "      <th></th>\n",
       "      <th></th>\n",
       "      <th></th>\n",
       "      <th></th>\n",
       "      <th></th>\n",
       "      <th></th>\n",
       "      <th></th>\n",
       "      <th></th>\n",
       "      <th></th>\n",
       "      <th></th>\n",
       "      <th></th>\n",
       "      <th></th>\n",
       "      <th></th>\n",
       "      <th></th>\n",
       "      <th></th>\n",
       "      <th></th>\n",
       "      <th></th>\n",
       "      <th></th>\n",
       "      <th></th>\n",
       "    </tr>\n",
       "  </thead>\n",
       "  <tbody>\n",
       "    <tr>\n",
       "      <th rowspan=\"5\" valign=\"top\">111527</th>\n",
       "      <th>2017-10-06</th>\n",
       "      <td>385.795000</td>\n",
       "      <td>822.96000</td>\n",
       "      <td>2314.051605</td>\n",
       "      <td>0.000000</td>\n",
       "      <td>0.079000</td>\n",
       "      <td>2.55840</td>\n",
       "      <td>9.996000</td>\n",
       "      <td>20.930400</td>\n",
       "      <td>48.269131</td>\n",
       "      <td>11.284000</td>\n",
       "      <td>23.039200</td>\n",
       "      <td>39.585613</td>\n",
       "      <td>21.583000</td>\n",
       "      <td>58.398600</td>\n",
       "      <td>69.305678</td>\n",
       "      <td>0.560000</td>\n",
       "      <td>1.196100</td>\n",
       "      <td>9.738548</td>\n",
       "      <td>227.557000</td>\n",
       "      <td>523.77000</td>\n",
       "      <td>877.224492</td>\n",
       "      <td>1260.000000</td>\n",
       "      <td>1029.00</td>\n",
       "      <td>2821.200001</td>\n",
       "      <td>162.9</td>\n",
       "      <td>112.5</td>\n",
       "      <td>108.0</td>\n",
       "    </tr>\n",
       "    <tr>\n",
       "      <th>2017-10-07</th>\n",
       "      <td>736.940200</td>\n",
       "      <td>964.82000</td>\n",
       "      <td>121.722000</td>\n",
       "      <td>8.199408</td>\n",
       "      <td>0.076800</td>\n",
       "      <td>0.00000</td>\n",
       "      <td>17.098205</td>\n",
       "      <td>47.637000</td>\n",
       "      <td>3.434000</td>\n",
       "      <td>19.635566</td>\n",
       "      <td>19.898000</td>\n",
       "      <td>1.156000</td>\n",
       "      <td>44.400125</td>\n",
       "      <td>42.549000</td>\n",
       "      <td>10.727000</td>\n",
       "      <td>0.879275</td>\n",
       "      <td>4.000000</td>\n",
       "      <td>0.000000</td>\n",
       "      <td>413.902650</td>\n",
       "      <td>678.72000</td>\n",
       "      <td>78.370000</td>\n",
       "      <td>1393.500000</td>\n",
       "      <td>1690.00</td>\n",
       "      <td>1457.000000</td>\n",
       "      <td>220.5</td>\n",
       "      <td>145.0</td>\n",
       "      <td>0.0</td>\n",
       "    </tr>\n",
       "    <tr>\n",
       "      <th>2017-10-08</th>\n",
       "      <td>563.974000</td>\n",
       "      <td>181.77000</td>\n",
       "      <td>129.810000</td>\n",
       "      <td>0.868400</td>\n",
       "      <td>0.088500</td>\n",
       "      <td>1.00800</td>\n",
       "      <td>9.221700</td>\n",
       "      <td>27.495600</td>\n",
       "      <td>17.202400</td>\n",
       "      <td>13.571000</td>\n",
       "      <td>22.761300</td>\n",
       "      <td>14.792600</td>\n",
       "      <td>20.213600</td>\n",
       "      <td>64.152900</td>\n",
       "      <td>31.947400</td>\n",
       "      <td>5.057000</td>\n",
       "      <td>1.338000</td>\n",
       "      <td>2.478000</td>\n",
       "      <td>219.360000</td>\n",
       "      <td>605.10000</td>\n",
       "      <td>344.580000</td>\n",
       "      <td>1588.000000</td>\n",
       "      <td>327.00</td>\n",
       "      <td>1141.000000</td>\n",
       "      <td>220.5</td>\n",
       "      <td>0.0</td>\n",
       "      <td>108.0</td>\n",
       "    </tr>\n",
       "    <tr>\n",
       "      <th>2017-11-05</th>\n",
       "      <td>425.400000</td>\n",
       "      <td>178.85000</td>\n",
       "      <td>1442.606887</td>\n",
       "      <td>6.408000</td>\n",
       "      <td>0.000000</td>\n",
       "      <td>0.81642</td>\n",
       "      <td>38.085000</td>\n",
       "      <td>2.770000</td>\n",
       "      <td>49.819064</td>\n",
       "      <td>17.806000</td>\n",
       "      <td>4.737000</td>\n",
       "      <td>34.533296</td>\n",
       "      <td>75.568000</td>\n",
       "      <td>10.620000</td>\n",
       "      <td>70.722187</td>\n",
       "      <td>3.490000</td>\n",
       "      <td>0.000000</td>\n",
       "      <td>6.810168</td>\n",
       "      <td>716.900000</td>\n",
       "      <td>84.20000</td>\n",
       "      <td>870.965725</td>\n",
       "      <td>365.010000</td>\n",
       "      <td>283.01</td>\n",
       "      <td>972.610000</td>\n",
       "      <td>2.4</td>\n",
       "      <td>108.0</td>\n",
       "      <td>155.4</td>\n",
       "    </tr>\n",
       "    <tr>\n",
       "      <th>2017-11-06</th>\n",
       "      <td>693.500000</td>\n",
       "      <td>20.18750</td>\n",
       "      <td>740.811667</td>\n",
       "      <td>1.578000</td>\n",
       "      <td>5.177777</td>\n",
       "      <td>29.60100</td>\n",
       "      <td>14.638000</td>\n",
       "      <td>2.412500</td>\n",
       "      <td>19.107140</td>\n",
       "      <td>21.516000</td>\n",
       "      <td>1.042500</td>\n",
       "      <td>11.636910</td>\n",
       "      <td>45.430000</td>\n",
       "      <td>9.315000</td>\n",
       "      <td>114.458500</td>\n",
       "      <td>5.220000</td>\n",
       "      <td>0.204930</td>\n",
       "      <td>2.775120</td>\n",
       "      <td>392.110000</td>\n",
       "      <td>63.99250</td>\n",
       "      <td>690.458000</td>\n",
       "      <td>719.020000</td>\n",
       "      <td>263.51</td>\n",
       "      <td>882.610000</td>\n",
       "      <td>220.5</td>\n",
       "      <td>112.5</td>\n",
       "      <td>155.4</td>\n",
       "    </tr>\n",
       "    <tr>\n",
       "      <th>...</th>\n",
       "      <th>...</th>\n",
       "      <td>...</td>\n",
       "      <td>...</td>\n",
       "      <td>...</td>\n",
       "      <td>...</td>\n",
       "      <td>...</td>\n",
       "      <td>...</td>\n",
       "      <td>...</td>\n",
       "      <td>...</td>\n",
       "      <td>...</td>\n",
       "      <td>...</td>\n",
       "      <td>...</td>\n",
       "      <td>...</td>\n",
       "      <td>...</td>\n",
       "      <td>...</td>\n",
       "      <td>...</td>\n",
       "      <td>...</td>\n",
       "      <td>...</td>\n",
       "      <td>...</td>\n",
       "      <td>...</td>\n",
       "      <td>...</td>\n",
       "      <td>...</td>\n",
       "      <td>...</td>\n",
       "      <td>...</td>\n",
       "      <td>...</td>\n",
       "      <td>...</td>\n",
       "      <td>...</td>\n",
       "      <td>...</td>\n",
       "    </tr>\n",
       "    <tr>\n",
       "      <th rowspan=\"5\" valign=\"top\">997735</th>\n",
       "      <th>2019-07-20</th>\n",
       "      <td>974.514601</td>\n",
       "      <td>46.90000</td>\n",
       "      <td>NaN</td>\n",
       "      <td>0.316260</td>\n",
       "      <td>26.398000</td>\n",
       "      <td>NaN</td>\n",
       "      <td>31.074870</td>\n",
       "      <td>17.889000</td>\n",
       "      <td>NaN</td>\n",
       "      <td>23.740893</td>\n",
       "      <td>3.685000</td>\n",
       "      <td>NaN</td>\n",
       "      <td>90.522147</td>\n",
       "      <td>29.212000</td>\n",
       "      <td>NaN</td>\n",
       "      <td>5.274550</td>\n",
       "      <td>0.000000</td>\n",
       "      <td>NaN</td>\n",
       "      <td>739.280902</td>\n",
       "      <td>292.79000</td>\n",
       "      <td>NaN</td>\n",
       "      <td>637.000003</td>\n",
       "      <td>67.00</td>\n",
       "      <td>NaN</td>\n",
       "      <td>108.0</td>\n",
       "      <td>0.0</td>\n",
       "      <td>NaN</td>\n",
       "    </tr>\n",
       "    <tr>\n",
       "      <th>2019-10-28</th>\n",
       "      <td>1643.188640</td>\n",
       "      <td>766.49220</td>\n",
       "      <td>16.800000</td>\n",
       "      <td>0.000000</td>\n",
       "      <td>10.161800</td>\n",
       "      <td>0.00000</td>\n",
       "      <td>55.019656</td>\n",
       "      <td>69.384275</td>\n",
       "      <td>3.360000</td>\n",
       "      <td>63.507701</td>\n",
       "      <td>28.781236</td>\n",
       "      <td>1.092000</td>\n",
       "      <td>15.160148</td>\n",
       "      <td>16.543718</td>\n",
       "      <td>14.112000</td>\n",
       "      <td>2.492382</td>\n",
       "      <td>11.863275</td>\n",
       "      <td>0.025200</td>\n",
       "      <td>815.202660</td>\n",
       "      <td>836.07385</td>\n",
       "      <td>91.140000</td>\n",
       "      <td>824.000000</td>\n",
       "      <td>312.00</td>\n",
       "      <td>21.000000</td>\n",
       "      <td>112.5</td>\n",
       "      <td>14.2</td>\n",
       "      <td>0.0</td>\n",
       "    </tr>\n",
       "    <tr>\n",
       "      <th>2019-10-29</th>\n",
       "      <td>1676.700580</td>\n",
       "      <td>605.33575</td>\n",
       "      <td>7.250000</td>\n",
       "      <td>2.420500</td>\n",
       "      <td>13.418725</td>\n",
       "      <td>0.00000</td>\n",
       "      <td>35.447246</td>\n",
       "      <td>65.763300</td>\n",
       "      <td>3.787500</td>\n",
       "      <td>73.167727</td>\n",
       "      <td>24.550700</td>\n",
       "      <td>1.100000</td>\n",
       "      <td>33.274300</td>\n",
       "      <td>28.788600</td>\n",
       "      <td>6.712500</td>\n",
       "      <td>3.972709</td>\n",
       "      <td>17.021800</td>\n",
       "      <td>0.412500</td>\n",
       "      <td>767.384800</td>\n",
       "      <td>841.51600</td>\n",
       "      <td>67.375000</td>\n",
       "      <td>842.000000</td>\n",
       "      <td>228.60</td>\n",
       "      <td>12.500000</td>\n",
       "      <td>112.5</td>\n",
       "      <td>14.2</td>\n",
       "      <td>0.0</td>\n",
       "    </tr>\n",
       "    <tr>\n",
       "      <th>2019-11-02</th>\n",
       "      <td>205.802160</td>\n",
       "      <td>132.00000</td>\n",
       "      <td>1482.330819</td>\n",
       "      <td>0.860500</td>\n",
       "      <td>0.000000</td>\n",
       "      <td>17.86600</td>\n",
       "      <td>38.942036</td>\n",
       "      <td>13.710000</td>\n",
       "      <td>62.557757</td>\n",
       "      <td>18.696536</td>\n",
       "      <td>5.160000</td>\n",
       "      <td>92.926512</td>\n",
       "      <td>6.079830</td>\n",
       "      <td>8.790000</td>\n",
       "      <td>36.509944</td>\n",
       "      <td>15.667800</td>\n",
       "      <td>0.900000</td>\n",
       "      <td>7.975062</td>\n",
       "      <td>485.274560</td>\n",
       "      <td>179.10000</td>\n",
       "      <td>1083.214369</td>\n",
       "      <td>436.000000</td>\n",
       "      <td>30.00</td>\n",
       "      <td>656.100000</td>\n",
       "      <td>112.5</td>\n",
       "      <td>0.0</td>\n",
       "      <td>0.0</td>\n",
       "    </tr>\n",
       "    <tr>\n",
       "      <th>2019-11-03</th>\n",
       "      <td>1505.654500</td>\n",
       "      <td>333.91660</td>\n",
       "      <td>307.394000</td>\n",
       "      <td>0.041060</td>\n",
       "      <td>0.522000</td>\n",
       "      <td>0.00000</td>\n",
       "      <td>33.405510</td>\n",
       "      <td>37.877160</td>\n",
       "      <td>25.144840</td>\n",
       "      <td>20.667283</td>\n",
       "      <td>16.490460</td>\n",
       "      <td>52.508000</td>\n",
       "      <td>31.036400</td>\n",
       "      <td>3.926097</td>\n",
       "      <td>32.416270</td>\n",
       "      <td>2.394550</td>\n",
       "      <td>9.535200</td>\n",
       "      <td>3.618560</td>\n",
       "      <td>506.191800</td>\n",
       "      <td>443.85560</td>\n",
       "      <td>564.215800</td>\n",
       "      <td>998.500000</td>\n",
       "      <td>142.00</td>\n",
       "      <td>408.000000</td>\n",
       "      <td>225.0</td>\n",
       "      <td>0.0</td>\n",
       "      <td>0.0</td>\n",
       "    </tr>\n",
       "  </tbody>\n",
       "</table>\n",
       "<p>43597 rows × 27 columns</p>\n",
       "</div>"
      ],
      "text/plain": [
       "                               sodium_mg             ... caffeine_mg       \n",
       "alloc                                  b          d  ...           d      l\n",
       "RegistrationCode Day                                 ...                   \n",
       "111527           2017-10-06   385.795000  822.96000  ...       112.5  108.0\n",
       "                 2017-10-07   736.940200  964.82000  ...       145.0    0.0\n",
       "                 2017-10-08   563.974000  181.77000  ...         0.0  108.0\n",
       "                 2017-11-05   425.400000  178.85000  ...       108.0  155.4\n",
       "                 2017-11-06   693.500000   20.18750  ...       112.5  155.4\n",
       "...                                  ...        ...  ...         ...    ...\n",
       "997735           2019-07-20   974.514601   46.90000  ...         0.0    NaN\n",
       "                 2019-10-28  1643.188640  766.49220  ...        14.2    0.0\n",
       "                 2019-10-29  1676.700580  605.33575  ...        14.2    0.0\n",
       "                 2019-11-02   205.802160  132.00000  ...         0.0    0.0\n",
       "                 2019-11-03  1505.654500  333.91660  ...         0.0    0.0\n",
       "\n",
       "[43597 rows x 27 columns]"
      ]
     },
     "execution_count": 609,
     "metadata": {},
     "output_type": "execute_result"
    }
   ],
   "source": [
    "splitlog = logdf.reset_index().groupby(['RegistrationCode', 'Day', 'alloc']).sum()\n",
    "splitlog = splitlog.unstack(level=-1)\n",
    "splitlog"
   ]
  },
  {
   "cell_type": "code",
   "execution_count": 611,
   "metadata": {
    "ExecuteTime": {
     "end_time": "2020-02-19T16:06:07.800921Z",
     "start_time": "2020-02-19T16:06:07.792595Z"
    }
   },
   "outputs": [
    {
     "name": "stdout",
     "output_type": "stream",
     "text": [
      "MultiIndex([(          'sodium_mg', 'b'),\n",
      "            (          'sodium_mg', 'd'),\n",
      "            (          'sodium_mg', 'l'),\n",
      "            (      'sugarstotal_g', 'b'),\n",
      "            (      'sugarstotal_g', 'd'),\n",
      "            (      'sugarstotal_g', 'l'),\n",
      "            (       'totallipid_g', 'b'),\n",
      "            (       'totallipid_g', 'd'),\n",
      "            (       'totallipid_g', 'l'),\n",
      "            (          'protein_g', 'b'),\n",
      "            (          'protein_g', 'd'),\n",
      "            (          'protein_g', 'l'),\n",
      "            (     'carbohydrate_g', 'b'),\n",
      "            (     'carbohydrate_g', 'd'),\n",
      "            (     'carbohydrate_g', 'l'),\n",
      "            ('totaldietaryfiber_g', 'b'),\n",
      "            ('totaldietaryfiber_g', 'd'),\n",
      "            ('totaldietaryfiber_g', 'l'),\n",
      "            (        'energy_kcal', 'b'),\n",
      "            (        'energy_kcal', 'd'),\n",
      "            (        'energy_kcal', 'l'),\n",
      "            (             'weight', 'b'),\n",
      "            (             'weight', 'd'),\n",
      "            (             'weight', 'l'),\n",
      "            (        'caffeine_mg', 'b'),\n",
      "            (        'caffeine_mg', 'd'),\n",
      "            (        'caffeine_mg', 'l')],\n",
      "           names=[None, 'alloc'])\n"
     ]
    }
   ],
   "source": [
    "print(splitlog.columns)"
   ]
  },
  {
   "cell_type": "code",
   "execution_count": null,
   "metadata": {},
   "outputs": [],
   "source": [
    "splitlogitlog.columns = ['b_caffeine','l_caffeine','d_caffeine','n_caffeine',\n",
    "                             'a_totallipid', 'b_totallipid', 'l_totallipid', 'd_totallipid', 'n_totallipid',\n",
    "                             'a_energy', 'b_energy', 'l_energy', 'd_energy', 'n_energy',\n",
    "                             'a_carbohydrate', 'b_carbohydrate', 'l_carbohydrate', 'd_carbohydrate', 'n_carbohydrate',\n",
    "                             'a_alcohol', 'b_alcohol', 'l_alcohol', 'd_alcohol', 'n_alcohol',\n",
    "                             'a_protein', 'b_protein', 'l_protein', 'd_protein', 'n_protein']"
   ]
  },
  {
   "cell_type": "markdown",
   "metadata": {},
   "source": [
    "Let's start with correlating with the total amounts per day."
   ]
  },
  {
   "cell_type": "markdown",
   "metadata": {},
   "source": [
    "On some of the days log is not good enough, people logged too little calories per day which can't be representative. "
   ]
  },
  {
   "cell_type": "code",
   "execution_count": 302,
   "metadata": {
    "ExecuteTime": {
     "end_time": "2020-02-17T08:04:29.800794Z",
     "start_time": "2020-02-17T08:04:29.596370Z"
    },
    "scrolled": true
   },
   "outputs": [
    {
     "data": {
      "text/plain": [
       "<matplotlib.axes._subplots.AxesSubplot at 0x2afaba2264d0>"
      ]
     },
     "execution_count": 302,
     "metadata": {},
     "output_type": "execute_result"
    },
    {
     "data": {
      "image/png": "[encoded data removed]",
      "text/plain": [
       "<Figure size 432x288 with 1 Axes>"
      ]
     },
     "metadata": {},
     "output_type": "display_data"
    }
   ],
   "source": [
    "totaldaylog['energy_kcal'].plot.hist()"
   ]
  },
  {
   "cell_type": "markdown",
   "metadata": {},
   "source": [
    "I take the threshold of 1000 kcal per day."
   ]
  },
  {
   "cell_type": "code",
   "execution_count": 596,
   "metadata": {
    "ExecuteTime": {
     "end_time": "2020-02-19T15:39:42.162449Z",
     "start_time": "2020-02-19T15:39:42.152971Z"
    }
   },
   "outputs": [],
   "source": [
    "totaldaylog = totaldaylog[totaldaylog['energy_kcal'] >= 1000]"
   ]
  },
  {
   "cell_type": "code",
   "execution_count": 307,
   "metadata": {
    "ExecuteTime": {
     "end_time": "2020-02-17T08:05:06.202447Z",
     "start_time": "2020-02-17T08:05:06.194754Z"
    }
   },
   "outputs": [],
   "source": [
    "\n",
    "\n",
    "totaldaylog = totaldaylog.reset_index('Day')\n",
    "totaldaylog['Day'] = totaldaylog['Day'] + datetime.timedelta(days=1)\n",
    "\n",
    "totaldaylog.sample(5)\n",
    "\n",
    "totaldaylog['Day'] = pd.to_datetime(totaldaylog['Day'])\n",
    "\n",
    "data = pd.merge(wakeup_glucose, totaldaylog, on=['RegistrationCode', 'Day'])"
   ]
  },
  {
   "cell_type": "code",
   "execution_count": 556,
   "metadata": {
    "ExecuteTime": {
     "end_time": "2020-02-19T14:44:21.270442Z",
     "start_time": "2020-02-19T14:44:21.221498Z"
    },
    "scrolled": false
   },
   "outputs": [
    {
     "data": {
      "text/html": [
       "<div>\n",
       "<style scoped>\n",
       "    .dataframe tbody tr th:only-of-type {\n",
       "        vertical-align: middle;\n",
       "    }\n",
       "\n",
       "    .dataframe tbody tr th {\n",
       "        vertical-align: top;\n",
       "    }\n",
       "\n",
       "    .dataframe thead th {\n",
       "        text-align: right;\n",
       "    }\n",
       "</style>\n",
       "<table border=\"1\" class=\"dataframe\">\n",
       "  <thead>\n",
       "    <tr style=\"text-align: right;\">\n",
       "      <th></th>\n",
       "      <th>Day</th>\n",
       "      <th>sodium_mg</th>\n",
       "      <th>sugarstotal_g</th>\n",
       "      <th>alcohol_g</th>\n",
       "      <th>totallipid_g</th>\n",
       "      <th>protein_g</th>\n",
       "      <th>carbohydrate_g</th>\n",
       "      <th>totaldietaryfiber_g</th>\n",
       "      <th>energy_kcal</th>\n",
       "      <th>weight</th>\n",
       "      <th>caffeine_mg</th>\n",
       "      <th>carbs/lipids</th>\n",
       "      <th>caloric%carbs</th>\n",
       "      <th>caloric%protein</th>\n",
       "      <th>caloric%fat</th>\n",
       "    </tr>\n",
       "    <tr>\n",
       "      <th>RegistrationCode</th>\n",
       "      <th></th>\n",
       "      <th></th>\n",
       "      <th></th>\n",
       "      <th></th>\n",
       "      <th></th>\n",
       "      <th></th>\n",
       "      <th></th>\n",
       "      <th></th>\n",
       "      <th></th>\n",
       "      <th></th>\n",
       "      <th></th>\n",
       "      <th></th>\n",
       "      <th></th>\n",
       "      <th></th>\n",
       "      <th></th>\n",
       "    </tr>\n",
       "  </thead>\n",
       "  <tbody>\n",
       "    <tr>\n",
       "      <th>111527</th>\n",
       "      <td>2017-10-07</td>\n",
       "      <td>3522.806605</td>\n",
       "      <td>2.637400</td>\n",
       "      <td>0.0</td>\n",
       "      <td>79.195531</td>\n",
       "      <td>73.908813</td>\n",
       "      <td>149.287278</td>\n",
       "      <td>11.494648</td>\n",
       "      <td>1628.551492</td>\n",
       "      <td>5110.200001</td>\n",
       "      <td>383.4</td>\n",
       "      <td>1.885047</td>\n",
       "      <td>0.366675</td>\n",
       "      <td>0.181533</td>\n",
       "      <td>0.437665</td>\n",
       "    </tr>\n",
       "    <tr>\n",
       "      <th>111527</th>\n",
       "      <td>2017-10-08</td>\n",
       "      <td>1823.482200</td>\n",
       "      <td>8.276208</td>\n",
       "      <td>0.0</td>\n",
       "      <td>68.169205</td>\n",
       "      <td>40.689566</td>\n",
       "      <td>97.676125</td>\n",
       "      <td>4.879275</td>\n",
       "      <td>1170.992650</td>\n",
       "      <td>4540.500000</td>\n",
       "      <td>365.5</td>\n",
       "      <td>1.432848</td>\n",
       "      <td>0.333652</td>\n",
       "      <td>0.138992</td>\n",
       "      <td>0.523934</td>\n",
       "    </tr>\n",
       "    <tr>\n",
       "      <th>111527</th>\n",
       "      <td>2017-10-09</td>\n",
       "      <td>875.554000</td>\n",
       "      <td>1.964900</td>\n",
       "      <td>0.0</td>\n",
       "      <td>53.919700</td>\n",
       "      <td>51.124900</td>\n",
       "      <td>116.313900</td>\n",
       "      <td>8.873000</td>\n",
       "      <td>1169.040000</td>\n",
       "      <td>3056.000000</td>\n",
       "      <td>328.5</td>\n",
       "      <td>2.157169</td>\n",
       "      <td>0.397981</td>\n",
       "      <td>0.174930</td>\n",
       "      <td>0.415108</td>\n",
       "    </tr>\n",
       "    <tr>\n",
       "      <th>111527</th>\n",
       "      <td>2017-11-06</td>\n",
       "      <td>2046.856887</td>\n",
       "      <td>7.224420</td>\n",
       "      <td>0.0</td>\n",
       "      <td>90.674065</td>\n",
       "      <td>57.076296</td>\n",
       "      <td>156.910187</td>\n",
       "      <td>10.300168</td>\n",
       "      <td>1672.065725</td>\n",
       "      <td>1620.630000</td>\n",
       "      <td>265.8</td>\n",
       "      <td>1.730486</td>\n",
       "      <td>0.375368</td>\n",
       "      <td>0.136541</td>\n",
       "      <td>0.488059</td>\n",
       "    </tr>\n",
       "    <tr>\n",
       "      <th>111527</th>\n",
       "      <td>2017-11-07</td>\n",
       "      <td>1454.499167</td>\n",
       "      <td>36.356777</td>\n",
       "      <td>0.0</td>\n",
       "      <td>36.157640</td>\n",
       "      <td>34.195410</td>\n",
       "      <td>169.203500</td>\n",
       "      <td>8.200050</td>\n",
       "      <td>1146.560500</td>\n",
       "      <td>1865.140000</td>\n",
       "      <td>488.4</td>\n",
       "      <td>4.679606</td>\n",
       "      <td>0.590299</td>\n",
       "      <td>0.119297</td>\n",
       "      <td>0.283822</td>\n",
       "    </tr>\n",
       "  </tbody>\n",
       "</table>\n",
       "</div>"
      ],
      "text/plain": [
       "                        Day    sodium_mg  ...  caloric%protein  caloric%fat\n",
       "RegistrationCode                          ...                              \n",
       "111527           2017-10-07  3522.806605  ...         0.181533     0.437665\n",
       "111527           2017-10-08  1823.482200  ...         0.138992     0.523934\n",
       "111527           2017-10-09   875.554000  ...         0.174930     0.415108\n",
       "111527           2017-11-06  2046.856887  ...         0.136541     0.488059\n",
       "111527           2017-11-07  1454.499167  ...         0.119297     0.283822\n",
       "\n",
       "[5 rows x 15 columns]"
      ]
     },
     "execution_count": 556,
     "metadata": {},
     "output_type": "execute_result"
    }
   ],
   "source": [
    "totaldaylog.head()"
   ]
  },
  {
   "cell_type": "code",
   "execution_count": 555,
   "metadata": {
    "ExecuteTime": {
     "end_time": "2020-02-19T14:44:11.126090Z",
     "start_time": "2020-02-19T14:44:11.107275Z"
    }
   },
   "outputs": [],
   "source": [
    "carbs_cal_per_gram = 4\n",
    "fat_cal_per_gram = 9\n",
    "prot_cal_per_gram = 4\n",
    "totaldaylog['carbs/lipids'] = totaldaylog['carbohydrate_g'] / totaldaylog['totallipid_g']\n",
    "totaldaylog['caloric%carbs'] = totaldaylog['carbohydrate_g'] * carbs_cal_per_gram / totaldaylog['energy_kcal']\n",
    "totaldaylog['caloric%protein'] = totaldaylog['protein_g'] * prot_cal_per_gram / totaldaylog['energy_kcal']\n",
    "totaldaylog['caloric%fat'] = totaldaylog['totallipid_g'] * fat_cal_per_gram / totaldaylog['energy_kcal']"
   ]
  },
  {
   "cell_type": "code",
   "execution_count": 553,
   "metadata": {
    "ExecuteTime": {
     "end_time": "2020-02-19T14:32:48.839243Z",
     "start_time": "2020-02-19T14:32:48.786060Z"
    }
   },
   "outputs": [
    {
     "data": {
      "text/html": [
       "<div>\n",
       "<style scoped>\n",
       "    .dataframe tbody tr th:only-of-type {\n",
       "        vertical-align: middle;\n",
       "    }\n",
       "\n",
       "    .dataframe tbody tr th {\n",
       "        vertical-align: top;\n",
       "    }\n",
       "\n",
       "    .dataframe thead th {\n",
       "        text-align: right;\n",
       "    }\n",
       "</style>\n",
       "<table border=\"1\" class=\"dataframe\">\n",
       "  <thead>\n",
       "    <tr style=\"text-align: right;\">\n",
       "      <th></th>\n",
       "      <th>RegistrationCode</th>\n",
       "      <th>Date</th>\n",
       "      <th>sodium_mg</th>\n",
       "      <th>sugarstotal_g</th>\n",
       "      <th>alcohol_g</th>\n",
       "      <th>totallipid_g</th>\n",
       "      <th>protein_g</th>\n",
       "      <th>carbohydrate_g</th>\n",
       "      <th>totaldietaryfiber_g</th>\n",
       "      <th>energy_kcal</th>\n",
       "      <th>weight</th>\n",
       "      <th>caffeine_mg</th>\n",
       "      <th>meal_type</th>\n",
       "      <th>Day</th>\n",
       "    </tr>\n",
       "  </thead>\n",
       "  <tbody>\n",
       "    <tr>\n",
       "      <th>0</th>\n",
       "      <td>111527</td>\n",
       "      <td>2017-10-06 09:46:44+03:00</td>\n",
       "      <td>9.800</td>\n",
       "      <td>0.0</td>\n",
       "      <td>0.0</td>\n",
       "      <td>0.050</td>\n",
       "      <td>0.300</td>\n",
       "      <td>0.000</td>\n",
       "      <td>0.00</td>\n",
       "      <td>2.500</td>\n",
       "      <td>490.0</td>\n",
       "      <td>112.5</td>\n",
       "      <td>Beverage</td>\n",
       "      <td>2017-10-06</td>\n",
       "    </tr>\n",
       "    <tr>\n",
       "      <th>1</th>\n",
       "      <td>111527</td>\n",
       "      <td>2017-10-06 11:48:01+03:00</td>\n",
       "      <td>311.000</td>\n",
       "      <td>0.0</td>\n",
       "      <td>0.0</td>\n",
       "      <td>6.040</td>\n",
       "      <td>6.700</td>\n",
       "      <td>15.220</td>\n",
       "      <td>0.56</td>\n",
       "      <td>147.000</td>\n",
       "      <td>560.0</td>\n",
       "      <td>0.0</td>\n",
       "      <td>Meal</td>\n",
       "      <td>2017-10-06</td>\n",
       "    </tr>\n",
       "    <tr>\n",
       "      <th>2</th>\n",
       "      <td>111527</td>\n",
       "      <td>2017-10-06 11:53:29+03:00</td>\n",
       "      <td>64.995</td>\n",
       "      <td>0.0</td>\n",
       "      <td>0.0</td>\n",
       "      <td>3.906</td>\n",
       "      <td>4.284</td>\n",
       "      <td>6.363</td>\n",
       "      <td>0.00</td>\n",
       "      <td>78.057</td>\n",
       "      <td>210.0</td>\n",
       "      <td>50.4</td>\n",
       "      <td>Beverage</td>\n",
       "      <td>2017-10-06</td>\n",
       "    </tr>\n",
       "    <tr>\n",
       "      <th>3</th>\n",
       "      <td>111527</td>\n",
       "      <td>2017-10-06 13:17:55+03:00</td>\n",
       "      <td>14.400</td>\n",
       "      <td>0.0</td>\n",
       "      <td>0.0</td>\n",
       "      <td>0.000</td>\n",
       "      <td>0.000</td>\n",
       "      <td>0.000</td>\n",
       "      <td>0.00</td>\n",
       "      <td>0.000</td>\n",
       "      <td>720.0</td>\n",
       "      <td>0.0</td>\n",
       "      <td>Beverage</td>\n",
       "      <td>2017-10-06</td>\n",
       "    </tr>\n",
       "    <tr>\n",
       "      <th>4</th>\n",
       "      <td>111527</td>\n",
       "      <td>2017-10-06 14:10:52+03:00</td>\n",
       "      <td>19.200</td>\n",
       "      <td>0.0</td>\n",
       "      <td>0.0</td>\n",
       "      <td>0.000</td>\n",
       "      <td>0.000</td>\n",
       "      <td>0.000</td>\n",
       "      <td>0.00</td>\n",
       "      <td>0.000</td>\n",
       "      <td>960.0</td>\n",
       "      <td>0.0</td>\n",
       "      <td>Beverage</td>\n",
       "      <td>2017-10-06</td>\n",
       "    </tr>\n",
       "  </tbody>\n",
       "</table>\n",
       "</div>"
      ],
      "text/plain": [
       "  RegistrationCode                      Date  ...  meal_type         Day\n",
       "0           111527 2017-10-06 09:46:44+03:00  ...   Beverage  2017-10-06\n",
       "1           111527 2017-10-06 11:48:01+03:00  ...       Meal  2017-10-06\n",
       "2           111527 2017-10-06 11:53:29+03:00  ...   Beverage  2017-10-06\n",
       "3           111527 2017-10-06 13:17:55+03:00  ...   Beverage  2017-10-06\n",
       "4           111527 2017-10-06 14:10:52+03:00  ...   Beverage  2017-10-06\n",
       "\n",
       "[5 rows x 14 columns]"
      ]
     },
     "execution_count": 553,
     "metadata": {},
     "output_type": "execute_result"
    }
   ],
   "source": [
    "logdf.head()"
   ]
  },
  {
   "cell_type": "code",
   "execution_count": 331,
   "metadata": {
    "ExecuteTime": {
     "end_time": "2020-02-17T08:29:33.054871Z",
     "start_time": "2020-02-17T08:29:33.050457Z"
    },
    "scrolled": false
   },
   "outputs": [
    {
     "data": {
      "text/plain": [
       "Index(['RegistrationCode', 'Day', 'hour', 'wakeup_glucose', 'sodium_mg',\n",
       "       'sugarstotal_g', 'alcohol_g', 'totallipid_g', 'protein_g',\n",
       "       'carbohydrate_g', 'totaldietaryfiber_g', 'energy_kcal', 'weight',\n",
       "       'caffeine_mg'],\n",
       "      dtype='object')"
      ]
     },
     "execution_count": 331,
     "metadata": {},
     "output_type": "execute_result"
    }
   ],
   "source": [
    "data.columns"
   ]
  },
  {
   "cell_type": "code",
   "execution_count": null,
   "metadata": {},
   "outputs": [],
   "source": [
    "def corr_wg_dietdaybefore(wg_df, method='Spearman'):\n",
    "    \"\"\"Calculate correlations between the wakeup glucose (WG) and the diet the day before\"\"\"\n",
    "    "
   ]
  },
  {
   "cell_type": "markdown",
   "metadata": {},
   "source": [
    "Normality testing method"
   ]
  },
  {
   "cell_type": "code",
   "execution_count": 471,
   "metadata": {
    "ExecuteTime": {
     "end_time": "2020-02-17T14:47:59.646891Z",
     "start_time": "2020-02-17T14:47:59.643878Z"
    }
   },
   "outputs": [],
   "source": [
    "# from numpy.random import seed\n",
    "# from numpy.random import randn\n",
    "# from scipy.stats import shapiro\n",
    "# # seed the random number generator\n",
    "# seed(1)\n",
    "# # normality test\n",
    "# for column in data.columns:\n",
    "#     stat, p = shapiro(data.loc['300747'][column])\n",
    "#     print('Statistics=%.3f, p=%.3f' % (stat, p))\n",
    "#     # interpret\n",
    "#     alpha = 0.05\n",
    "#     if p > alpha:\n",
    "#         print(column, ': Sample looks Gaussian (fail to reject H0)')\n",
    "#     else:\n",
    "#         print(column, ': Sample does not look Gaussian (reject H0)')"
   ]
  },
  {
   "cell_type": "code",
   "execution_count": 332,
   "metadata": {
    "ExecuteTime": {
     "end_time": "2020-02-17T08:29:41.009391Z",
     "start_time": "2020-02-17T08:29:41.004113Z"
    }
   },
   "outputs": [],
   "source": [
    "data['carbs/lipids'] = data['carbohydrate_g'] / data['totallipid_g']"
   ]
  },
  {
   "cell_type": "code",
   "execution_count": 333,
   "metadata": {
    "ExecuteTime": {
     "end_time": "2020-02-17T08:29:48.895130Z",
     "start_time": "2020-02-17T08:29:48.887499Z"
    },
    "scrolled": true
   },
   "outputs": [],
   "source": [
    "data = data.drop(columns=['hour', 'Day'])"
   ]
  },
  {
   "cell_type": "code",
   "execution_count": 336,
   "metadata": {
    "ExecuteTime": {
     "end_time": "2020-02-17T08:30:21.474782Z",
     "start_time": "2020-02-17T08:30:21.466409Z"
    }
   },
   "outputs": [],
   "source": [
    "means = data.groupby('RegistrationCode').mean()"
   ]
  },
  {
   "cell_type": "code",
   "execution_count": 335,
   "metadata": {
    "ExecuteTime": {
     "end_time": "2020-02-17T08:30:15.271112Z",
     "start_time": "2020-02-17T08:30:15.255447Z"
    }
   },
   "outputs": [],
   "source": [
    "std = data.groupby('RegistrationCode').std()"
   ]
  },
  {
   "cell_type": "code",
   "execution_count": 338,
   "metadata": {
    "ExecuteTime": {
     "end_time": "2020-02-17T08:30:55.068846Z",
     "start_time": "2020-02-17T08:30:55.061861Z"
    }
   },
   "outputs": [],
   "source": [
    "data = data.set_index('RegistrationCode')"
   ]
  },
  {
   "cell_type": "code",
   "execution_count": 357,
   "metadata": {
    "ExecuteTime": {
     "end_time": "2020-02-17T09:01:47.766053Z",
     "start_time": "2020-02-17T09:01:47.725517Z"
    },
    "scrolled": true
   },
   "outputs": [
    {
     "data": {
      "text/html": [
       "<div>\n",
       "<style scoped>\n",
       "    .dataframe tbody tr th:only-of-type {\n",
       "        vertical-align: middle;\n",
       "    }\n",
       "\n",
       "    .dataframe tbody tr th {\n",
       "        vertical-align: top;\n",
       "    }\n",
       "\n",
       "    .dataframe thead th {\n",
       "        text-align: right;\n",
       "    }\n",
       "</style>\n",
       "<table border=\"1\" class=\"dataframe\">\n",
       "  <thead>\n",
       "    <tr style=\"text-align: right;\">\n",
       "      <th></th>\n",
       "      <th>wakeup_glucose</th>\n",
       "      <th>sodium_mg</th>\n",
       "      <th>sugarstotal_g</th>\n",
       "      <th>alcohol_g</th>\n",
       "      <th>totallipid_g</th>\n",
       "      <th>protein_g</th>\n",
       "      <th>carbohydrate_g</th>\n",
       "      <th>totaldietaryfiber_g</th>\n",
       "      <th>energy_kcal</th>\n",
       "      <th>weight</th>\n",
       "      <th>caffeine_mg</th>\n",
       "      <th>carbs/lipids</th>\n",
       "    </tr>\n",
       "    <tr>\n",
       "      <th>RegistrationCode</th>\n",
       "      <th></th>\n",
       "      <th></th>\n",
       "      <th></th>\n",
       "      <th></th>\n",
       "      <th></th>\n",
       "      <th></th>\n",
       "      <th></th>\n",
       "      <th></th>\n",
       "      <th></th>\n",
       "      <th></th>\n",
       "      <th></th>\n",
       "      <th></th>\n",
       "    </tr>\n",
       "  </thead>\n",
       "  <tbody>\n",
       "    <tr>\n",
       "      <th>111527</th>\n",
       "      <td>0.349300</td>\n",
       "      <td>-0.094478</td>\n",
       "      <td>-0.165274</td>\n",
       "      <td>-0.206434</td>\n",
       "      <td>-0.697373</td>\n",
       "      <td>-0.272886</td>\n",
       "      <td>3.553935</td>\n",
       "      <td>0.627075</td>\n",
       "      <td>1.522302</td>\n",
       "      <td>3.041030</td>\n",
       "      <td>3.242574</td>\n",
       "      <td>2.656941</td>\n",
       "    </tr>\n",
       "    <tr>\n",
       "      <th>111527</th>\n",
       "      <td>-0.291937</td>\n",
       "      <td>-0.619724</td>\n",
       "      <td>-0.189381</td>\n",
       "      <td>-0.206434</td>\n",
       "      <td>-1.628582</td>\n",
       "      <td>-1.456848</td>\n",
       "      <td>2.648198</td>\n",
       "      <td>0.218174</td>\n",
       "      <td>-0.041475</td>\n",
       "      <td>2.321464</td>\n",
       "      <td>3.292399</td>\n",
       "      <td>3.243500</td>\n",
       "    </tr>\n",
       "    <tr>\n",
       "      <th>111527</th>\n",
       "      <td>0.124867</td>\n",
       "      <td>0.396189</td>\n",
       "      <td>-0.286179</td>\n",
       "      <td>0.908220</td>\n",
       "      <td>-0.954021</td>\n",
       "      <td>0.010956</td>\n",
       "      <td>4.410401</td>\n",
       "      <td>0.884660</td>\n",
       "      <td>2.172966</td>\n",
       "      <td>1.995568</td>\n",
       "      <td>0.701493</td>\n",
       "      <td>3.636022</td>\n",
       "    </tr>\n",
       "    <tr>\n",
       "      <th>111527</th>\n",
       "      <td>0.862289</td>\n",
       "      <td>-0.329344</td>\n",
       "      <td>1.896439</td>\n",
       "      <td>5.358297</td>\n",
       "      <td>-2.227648</td>\n",
       "      <td>-1.559492</td>\n",
       "      <td>1.795348</td>\n",
       "      <td>1.836151</td>\n",
       "      <td>-0.816003</td>\n",
       "      <td>0.157043</td>\n",
       "      <td>0.701493</td>\n",
       "      <td>3.569438</td>\n",
       "    </tr>\n",
       "    <tr>\n",
       "      <th>111527</th>\n",
       "      <td>0.734042</td>\n",
       "      <td>1.710252</td>\n",
       "      <td>8.137434</td>\n",
       "      <td>-0.206434</td>\n",
       "      <td>-1.091213</td>\n",
       "      <td>-0.040882</td>\n",
       "      <td>3.562221</td>\n",
       "      <td>0.533358</td>\n",
       "      <td>1.333484</td>\n",
       "      <td>1.702489</td>\n",
       "      <td>0.443731</td>\n",
       "      <td>3.176683</td>\n",
       "    </tr>\n",
       "  </tbody>\n",
       "</table>\n",
       "</div>"
      ],
      "text/plain": [
       "                  wakeup_glucose  sodium_mg  ...  caffeine_mg  carbs/lipids\n",
       "RegistrationCode                             ...                           \n",
       "111527                  0.349300  -0.094478  ...     3.242574      2.656941\n",
       "111527                 -0.291937  -0.619724  ...     3.292399      3.243500\n",
       "111527                  0.124867   0.396189  ...     0.701493      3.636022\n",
       "111527                  0.862289  -0.329344  ...     0.701493      3.569438\n",
       "111527                  0.734042   1.710252  ...     0.443731      3.176683\n",
       "\n",
       "[5 rows x 12 columns]"
      ]
     },
     "execution_count": 357,
     "metadata": {},
     "output_type": "execute_result"
    }
   ],
   "source": [
    "data.head()"
   ]
  },
  {
   "cell_type": "code",
   "execution_count": 356,
   "metadata": {
    "ExecuteTime": {
     "end_time": "2020-02-17T09:01:38.692905Z",
     "start_time": "2020-02-17T09:01:36.132869Z"
    }
   },
   "outputs": [],
   "source": [
    "# standartization of the values into z scores\n",
    "for rc in data.index.unique():\n",
    "    data.loc[rc] = (data.loc[rc] - means.loc[rc])/std.loc[rc]"
   ]
  },
  {
   "cell_type": "code",
   "execution_count": 318,
   "metadata": {
    "ExecuteTime": {
     "end_time": "2020-02-17T08:13:14.549818Z",
     "start_time": "2020-02-17T08:13:14.334927Z"
    },
    "scrolled": false
   },
   "outputs": [
    {
     "data": {
      "text/plain": [
       "<matplotlib.axes._subplots.AxesSubplot at 0x2afa894fb150>"
      ]
     },
     "execution_count": 318,
     "metadata": {},
     "output_type": "execute_result"
    },
    {
     "data": {
      "image/png": "[encoded data removed]",
      "text/plain": [
       "<Figure size 432x288 with 1 Axes>"
      ]
     },
     "metadata": {},
     "output_type": "display_data"
    }
   ],
   "source": [
    "data.loc['132178'].plot.scatter(x='sodium_mg', y='wakeup_glucose')"
   ]
  },
  {
   "cell_type": "markdown",
   "metadata": {},
   "source": [
    "In PNP3 patients probably avoided alcohol due to the diet. I should exclude this feature from the correlation analysis."
   ]
  },
  {
   "cell_type": "code",
   "execution_count": 470,
   "metadata": {
    "ExecuteTime": {
     "end_time": "2020-02-17T14:47:17.737586Z",
     "start_time": "2020-02-17T14:47:17.734522Z"
    }
   },
   "outputs": [],
   "source": [
    "# spearmancorr = data.corr(method='spearman')\n",
    "# spearmancorr"
   ]
  },
  {
   "cell_type": "code",
   "execution_count": 469,
   "metadata": {
    "ExecuteTime": {
     "end_time": "2020-02-17T14:47:09.673659Z",
     "start_time": "2020-02-17T14:47:09.671099Z"
    },
    "scrolled": false
   },
   "outputs": [],
   "source": [
    "# sb.heatmap(pearsoncorr, \n",
    "#             xticklabels=pearsoncorr.columns,\n",
    "#             yticklabels=pearsoncorr.columns,\n",
    "#             cmap='RdBu_r',\n",
    "#             annot=True,\n",
    "#             linewidth=0.5)"
   ]
  },
  {
   "cell_type": "code",
   "execution_count": 362,
   "metadata": {
    "ExecuteTime": {
     "end_time": "2020-02-17T09:07:39.494118Z",
     "start_time": "2020-02-17T09:07:39.487134Z"
    }
   },
   "outputs": [],
   "source": [
    "# def calculate_pvalues(df):\n",
    "#     df = df.dropna()._get_numeric_data()\n",
    "#     dfcols = pd.DataFrame(columns=df.columns)\n",
    "#     pvalues = dfcols.transpose().join(dfcols, how='outer')\n",
    "#     for r in df.columns:\n",
    "#         for c in df.columns:\n",
    "#             pvalues[r][c] = round(spearmanr(df[r], df[c])[1], 4)\n",
    "#     return pvalues\n",
    "\n",
    "# calculate_pvalues(data.loc['111527']) "
   ]
  },
  {
   "cell_type": "code",
   "execution_count": 365,
   "metadata": {
    "ExecuteTime": {
     "end_time": "2020-02-17T09:08:26.018773Z",
     "start_time": "2020-02-17T09:08:26.013053Z"
    }
   },
   "outputs": [],
   "source": [
    "data = data.drop(columns='alcohol_g')"
   ]
  },
  {
   "cell_type": "code",
   "execution_count": 374,
   "metadata": {
    "ExecuteTime": {
     "end_time": "2020-02-17T09:14:55.009004Z",
     "start_time": "2020-02-17T09:14:54.997939Z"
    }
   },
   "outputs": [],
   "source": [
    "data = round(data, 4)"
   ]
  },
  {
   "cell_type": "code",
   "execution_count": 396,
   "metadata": {
    "ExecuteTime": {
     "end_time": "2020-02-17T09:36:53.015917Z",
     "start_time": "2020-02-17T09:36:53.011358Z"
    }
   },
   "outputs": [],
   "source": [
    "data = data.fillna(0)"
   ]
  },
  {
   "cell_type": "code",
   "execution_count": 412,
   "metadata": {
    "ExecuteTime": {
     "end_time": "2020-02-17T11:43:14.588987Z",
     "start_time": "2020-02-17T11:43:14.583987Z"
    }
   },
   "outputs": [],
   "source": [
    "statistics_df = pd.DataFrame(means.stack(level=-1))"
   ]
  },
  {
   "cell_type": "code",
   "execution_count": 413,
   "metadata": {
    "ExecuteTime": {
     "end_time": "2020-02-17T11:43:28.723491Z",
     "start_time": "2020-02-17T11:43:28.710777Z"
    }
   },
   "outputs": [],
   "source": [
    "statistics_df['rho'] = 0\n",
    "statistics_df['pvalue'] = 0\n",
    "statistics_df = statistics_df.drop(columns=0)"
   ]
  },
  {
   "cell_type": "code",
   "execution_count": 415,
   "metadata": {
    "ExecuteTime": {
     "end_time": "2020-02-17T11:43:33.924197Z",
     "start_time": "2020-02-17T11:43:33.909512Z"
    },
    "scrolled": false
   },
   "outputs": [
    {
     "data": {
      "text/html": [
       "<div>\n",
       "<style scoped>\n",
       "    .dataframe tbody tr th:only-of-type {\n",
       "        vertical-align: middle;\n",
       "    }\n",
       "\n",
       "    .dataframe tbody tr th {\n",
       "        vertical-align: top;\n",
       "    }\n",
       "\n",
       "    .dataframe thead th {\n",
       "        text-align: right;\n",
       "    }\n",
       "</style>\n",
       "<table border=\"1\" class=\"dataframe\">\n",
       "  <thead>\n",
       "    <tr style=\"text-align: right;\">\n",
       "      <th></th>\n",
       "      <th></th>\n",
       "      <th>rho</th>\n",
       "      <th>pvalue</th>\n",
       "    </tr>\n",
       "    <tr>\n",
       "      <th>RegistrationCode</th>\n",
       "      <th></th>\n",
       "      <th></th>\n",
       "      <th></th>\n",
       "    </tr>\n",
       "  </thead>\n",
       "  <tbody>\n",
       "    <tr>\n",
       "      <th rowspan=\"5\" valign=\"top\">111527</th>\n",
       "      <th>wakeup_glucose</th>\n",
       "      <td>0</td>\n",
       "      <td>0</td>\n",
       "    </tr>\n",
       "    <tr>\n",
       "      <th>sodium_mg</th>\n",
       "      <td>0</td>\n",
       "      <td>0</td>\n",
       "    </tr>\n",
       "    <tr>\n",
       "      <th>sugarstotal_g</th>\n",
       "      <td>0</td>\n",
       "      <td>0</td>\n",
       "    </tr>\n",
       "    <tr>\n",
       "      <th>alcohol_g</th>\n",
       "      <td>0</td>\n",
       "      <td>0</td>\n",
       "    </tr>\n",
       "    <tr>\n",
       "      <th>totallipid_g</th>\n",
       "      <td>0</td>\n",
       "      <td>0</td>\n",
       "    </tr>\n",
       "  </tbody>\n",
       "</table>\n",
       "</div>"
      ],
      "text/plain": [
       "                                 rho  pvalue\n",
       "RegistrationCode                            \n",
       "111527           wakeup_glucose    0       0\n",
       "                 sodium_mg         0       0\n",
       "                 sugarstotal_g     0       0\n",
       "                 alcohol_g         0       0\n",
       "                 totallipid_g      0       0"
      ]
     },
     "execution_count": 415,
     "metadata": {},
     "output_type": "execute_result"
    }
   ],
   "source": [
    "statistics_df.head()"
   ]
  },
  {
   "cell_type": "code",
   "execution_count": 417,
   "metadata": {
    "ExecuteTime": {
     "end_time": "2020-02-17T11:51:36.169624Z",
     "start_time": "2020-02-17T11:51:29.980528Z"
    },
    "scrolled": true
   },
   "outputs": [
    {
     "name": "stderr",
     "output_type": "stream",
     "text": [
      "/home/elming/anaconda3/envs/mylabdata/lib/python3.7/site-packages/numpy/lib/function_base.py:2534: RuntimeWarning: invalid value encountered in true_divide\n",
      "  c /= stddev[:, None]\n",
      "/home/elming/anaconda3/envs/mylabdata/lib/python3.7/site-packages/numpy/lib/function_base.py:2535: RuntimeWarning: invalid value encountered in true_divide\n",
      "  c /= stddev[None, :]\n",
      "/home/elming/anaconda3/envs/mylabdata/lib/python3.7/site-packages/scipy/stats/_distn_infrastructure.py:903: RuntimeWarning: invalid value encountered in greater\n",
      "  return (a < x) & (x < b)\n",
      "/home/elming/anaconda3/envs/mylabdata/lib/python3.7/site-packages/scipy/stats/_distn_infrastructure.py:903: RuntimeWarning: invalid value encountered in less\n",
      "  return (a < x) & (x < b)\n",
      "/home/elming/anaconda3/envs/mylabdata/lib/python3.7/site-packages/scipy/stats/_distn_infrastructure.py:1912: RuntimeWarning: invalid value encountered in less_equal\n",
      "  cond2 = cond0 & (x <= _a)\n"
     ]
    }
   ],
   "source": [
    "for rc in data.index.unique():\n",
    "    for column in data.columns:\n",
    "        spearman = spearmanr(data.loc[rc]['wakeup_glucose'], data.loc[rc][column])\n",
    "        statistics_df.loc[(rc, column), 'rho'] = spearman[0]\n",
    "        statistics_df.loc[(rc, column), 'pvalue'] = spearman[1]"
   ]
  },
  {
   "cell_type": "code",
   "execution_count": 454,
   "metadata": {
    "ExecuteTime": {
     "end_time": "2020-02-17T14:03:25.154787Z",
     "start_time": "2020-02-17T14:03:25.151216Z"
    }
   },
   "outputs": [],
   "source": [
    "pvalues = statistics_df['pvalue']"
   ]
  },
  {
   "cell_type": "code",
   "execution_count": 455,
   "metadata": {
    "ExecuteTime": {
     "end_time": "2020-02-17T14:03:33.278224Z",
     "start_time": "2020-02-17T14:03:33.274374Z"
    }
   },
   "outputs": [],
   "source": [
    "pvalues = pvalues.fillna(1)"
   ]
  },
  {
   "cell_type": "code",
   "execution_count": 458,
   "metadata": {
    "ExecuteTime": {
     "end_time": "2020-02-17T14:04:02.667284Z",
     "start_time": "2020-02-17T14:04:02.659235Z"
    }
   },
   "outputs": [
    {
     "data": {
      "text/plain": [
       "(array([ True, False, False, ...,  True, False, False]),\n",
       " array([0.        , 1.        , 1.        , ..., 0.00164012, 0.87594188,\n",
       "        1.        ]),\n",
       " 1.9607336209315207e-05,\n",
       " 1.9113149847094803e-05)"
      ]
     },
     "execution_count": 458,
     "metadata": {},
     "output_type": "execute_result"
    }
   ],
   "source": [
    "# from statsmodels.stats.multitest import multipletests\n",
    "# multipletests(pvalues, alpha=0.05, method='fdr_by', is_sorted=False, returnsorted=False)"
   ]
  },
  {
   "cell_type": "code",
   "execution_count": 456,
   "metadata": {
    "ExecuteTime": {
     "end_time": "2020-02-17T14:03:36.216320Z",
     "start_time": "2020-02-17T14:03:36.212311Z"
    },
    "scrolled": true
   },
   "outputs": [],
   "source": [
    "pvalues_corrected = pd.Series(fdrcorrection(pvalues[1])"
   ]
  },
  {
   "cell_type": "code",
   "execution_count": 462,
   "metadata": {
    "ExecuteTime": {
     "end_time": "2020-02-17T14:06:36.510408Z",
     "start_time": "2020-02-17T14:06:36.506179Z"
    }
   },
   "outputs": [],
   "source": [
    "pvalues_corrected.index = statistics_df.index"
   ]
  },
  {
   "cell_type": "code",
   "execution_count": 463,
   "metadata": {
    "ExecuteTime": {
     "end_time": "2020-02-17T14:06:39.312309Z",
     "start_time": "2020-02-17T14:06:39.294479Z"
    },
    "scrolled": false
   },
   "outputs": [
    {
     "data": {
      "text/html": [
       "<div>\n",
       "<style scoped>\n",
       "    .dataframe tbody tr th:only-of-type {\n",
       "        vertical-align: middle;\n",
       "    }\n",
       "\n",
       "    .dataframe tbody tr th {\n",
       "        vertical-align: top;\n",
       "    }\n",
       "\n",
       "    .dataframe thead th {\n",
       "        text-align: right;\n",
       "    }\n",
       "</style>\n",
       "<table border=\"1\" class=\"dataframe\">\n",
       "  <thead>\n",
       "    <tr style=\"text-align: right;\">\n",
       "      <th></th>\n",
       "      <th></th>\n",
       "      <th>rho</th>\n",
       "      <th>pvalue</th>\n",
       "      <th>pvalues_corrected</th>\n",
       "    </tr>\n",
       "    <tr>\n",
       "      <th>RegistrationCode</th>\n",
       "      <th></th>\n",
       "      <th></th>\n",
       "      <th></th>\n",
       "      <th></th>\n",
       "    </tr>\n",
       "  </thead>\n",
       "  <tbody>\n",
       "    <tr>\n",
       "      <th rowspan=\"5\" valign=\"top\">111527</th>\n",
       "      <th>wakeup_glucose</th>\n",
       "      <td>1.000000</td>\n",
       "      <td>0.000000</td>\n",
       "      <td>0.000000</td>\n",
       "    </tr>\n",
       "    <tr>\n",
       "      <th>sodium_mg</th>\n",
       "      <td>0.008531</td>\n",
       "      <td>0.922064</td>\n",
       "      <td>0.975776</td>\n",
       "    </tr>\n",
       "    <tr>\n",
       "      <th>sugarstotal_g</th>\n",
       "      <td>0.116687</td>\n",
       "      <td>0.179374</td>\n",
       "      <td>0.407329</td>\n",
       "    </tr>\n",
       "    <tr>\n",
       "      <th>alcohol_g</th>\n",
       "      <td>0.000000</td>\n",
       "      <td>0.000000</td>\n",
       "      <td>0.000000</td>\n",
       "    </tr>\n",
       "    <tr>\n",
       "      <th>totallipid_g</th>\n",
       "      <td>-0.190140</td>\n",
       "      <td>0.027770</td>\n",
       "      <td>0.105132</td>\n",
       "    </tr>\n",
       "  </tbody>\n",
       "</table>\n",
       "</div>"
      ],
      "text/plain": [
       "                                      rho    pvalue  pvalues_corrected\n",
       "RegistrationCode                                                      \n",
       "111527           wakeup_glucose  1.000000  0.000000           0.000000\n",
       "                 sodium_mg       0.008531  0.922064           0.975776\n",
       "                 sugarstotal_g   0.116687  0.179374           0.407329\n",
       "                 alcohol_g       0.000000  0.000000           0.000000\n",
       "                 totallipid_g   -0.190140  0.027770           0.105132"
      ]
     },
     "execution_count": 463,
     "metadata": {},
     "output_type": "execute_result"
    }
   ],
   "source": [
    "statistics_df['pvalues_corrected'] = pvalues_corrected\n",
    "statistics_df.head()"
   ]
  },
  {
   "cell_type": "code",
   "execution_count": 465,
   "metadata": {
    "ExecuteTime": {
     "end_time": "2020-02-17T14:18:17.725467Z",
     "start_time": "2020-02-17T14:18:17.688794Z"
    },
    "scrolled": false
   },
   "outputs": [
    {
     "data": {
      "text/html": [
       "<div>\n",
       "<style scoped>\n",
       "    .dataframe tbody tr th:only-of-type {\n",
       "        vertical-align: middle;\n",
       "    }\n",
       "\n",
       "    .dataframe tbody tr th {\n",
       "        vertical-align: top;\n",
       "    }\n",
       "\n",
       "    .dataframe thead th {\n",
       "        text-align: right;\n",
       "    }\n",
       "</style>\n",
       "<table border=\"1\" class=\"dataframe\">\n",
       "  <thead>\n",
       "    <tr style=\"text-align: right;\">\n",
       "      <th></th>\n",
       "      <th></th>\n",
       "      <th>rho</th>\n",
       "      <th>pvalue</th>\n",
       "      <th>pvalues_corrected</th>\n",
       "    </tr>\n",
       "    <tr>\n",
       "      <th>RegistrationCode</th>\n",
       "      <th></th>\n",
       "      <th></th>\n",
       "      <th></th>\n",
       "      <th></th>\n",
       "    </tr>\n",
       "  </thead>\n",
       "  <tbody>\n",
       "    <tr>\n",
       "      <th>126092</th>\n",
       "      <th>weight</th>\n",
       "      <td>0.316931</td>\n",
       "      <td>1.906980e-04</td>\n",
       "      <td>1.065953e-03</td>\n",
       "    </tr>\n",
       "    <tr>\n",
       "      <th>12752</th>\n",
       "      <th>caffeine_mg</th>\n",
       "      <td>0.436133</td>\n",
       "      <td>7.342705e-05</td>\n",
       "      <td>4.203176e-04</td>\n",
       "    </tr>\n",
       "    <tr>\n",
       "      <th>136529</th>\n",
       "      <th>energy_kcal</th>\n",
       "      <td>0.372959</td>\n",
       "      <td>3.191714e-05</td>\n",
       "      <td>1.847240e-04</td>\n",
       "    </tr>\n",
       "    <tr>\n",
       "      <th rowspan=\"2\" valign=\"top\">158748</th>\n",
       "      <th>carbohydrate_g</th>\n",
       "      <td>0.318045</td>\n",
       "      <td>8.427241e-04</td>\n",
       "      <td>4.508315e-03</td>\n",
       "    </tr>\n",
       "    <tr>\n",
       "      <th>caffeine_mg</th>\n",
       "      <td>0.325417</td>\n",
       "      <td>6.257751e-04</td>\n",
       "      <td>3.382288e-03</td>\n",
       "    </tr>\n",
       "    <tr>\n",
       "      <th>...</th>\n",
       "      <th>...</th>\n",
       "      <td>...</td>\n",
       "      <td>...</td>\n",
       "      <td>...</td>\n",
       "    </tr>\n",
       "    <tr>\n",
       "      <th rowspan=\"3\" valign=\"top\">933765</th>\n",
       "      <th>carbohydrate_g</th>\n",
       "      <td>0.435482</td>\n",
       "      <td>1.074835e-08</td>\n",
       "      <td>6.434253e-08</td>\n",
       "    </tr>\n",
       "    <tr>\n",
       "      <th>energy_kcal</th>\n",
       "      <td>0.368453</td>\n",
       "      <td>1.904740e-06</td>\n",
       "      <td>1.122252e-05</td>\n",
       "    </tr>\n",
       "    <tr>\n",
       "      <th>carbs/lipids</th>\n",
       "      <td>0.355952</td>\n",
       "      <td>4.433299e-06</td>\n",
       "      <td>2.600339e-05</td>\n",
       "    </tr>\n",
       "    <tr>\n",
       "      <th rowspan=\"2\" valign=\"top\">997735</th>\n",
       "      <th>energy_kcal</th>\n",
       "      <td>0.316560</td>\n",
       "      <td>3.046739e-04</td>\n",
       "      <td>1.685046e-03</td>\n",
       "    </tr>\n",
       "    <tr>\n",
       "      <th>weight</th>\n",
       "      <td>0.360568</td>\n",
       "      <td>3.362357e-05</td>\n",
       "      <td>1.941706e-04</td>\n",
       "    </tr>\n",
       "  </tbody>\n",
       "</table>\n",
       "<p>62 rows × 3 columns</p>\n",
       "</div>"
      ],
      "text/plain": [
       "                                      rho        pvalue  pvalues_corrected\n",
       "RegistrationCode                                                          \n",
       "126092           weight          0.316931  1.906980e-04       1.065953e-03\n",
       "12752            caffeine_mg     0.436133  7.342705e-05       4.203176e-04\n",
       "136529           energy_kcal     0.372959  3.191714e-05       1.847240e-04\n",
       "158748           carbohydrate_g  0.318045  8.427241e-04       4.508315e-03\n",
       "                 caffeine_mg     0.325417  6.257751e-04       3.382288e-03\n",
       "...                                   ...           ...                ...\n",
       "933765           carbohydrate_g  0.435482  1.074835e-08       6.434253e-08\n",
       "                 energy_kcal     0.368453  1.904740e-06       1.122252e-05\n",
       "                 carbs/lipids    0.355952  4.433299e-06       2.600339e-05\n",
       "997735           energy_kcal     0.316560  3.046739e-04       1.685046e-03\n",
       "                 weight          0.360568  3.362357e-05       1.941706e-04\n",
       "\n",
       "[62 rows x 3 columns]"
      ]
     },
     "execution_count": 465,
     "metadata": {},
     "output_type": "execute_result"
    }
   ],
   "source": [
    "statistics_df[(statistics_df['rho'] > 0.3) & (statistics_df['pvalues_corrected'] < 0.05) & \n",
    "              (statistics_df.index.get_level_values(-1) != 'wakeup_glucose')]"
   ]
  },
  {
   "cell_type": "code",
   "execution_count": 472,
   "metadata": {
    "ExecuteTime": {
     "end_time": "2020-02-17T15:25:40.469857Z",
     "start_time": "2020-02-17T15:25:40.465330Z"
    }
   },
   "outputs": [],
   "source": [
    "statistics_df['significant'] = 0"
   ]
  },
  {
   "cell_type": "code",
   "execution_count": 476,
   "metadata": {
    "ExecuteTime": {
     "end_time": "2020-02-17T15:29:20.105358Z",
     "start_time": "2020-02-17T15:29:20.083944Z"
    }
   },
   "outputs": [],
   "source": [
    "\n",
    "statistics_df.loc[(statistics_df['pvalues_corrected'] < 0.05),'significant'] = 1"
   ]
  },
  {
   "cell_type": "code",
   "execution_count": 477,
   "metadata": {
    "ExecuteTime": {
     "end_time": "2020-02-17T15:29:22.962272Z",
     "start_time": "2020-02-17T15:29:22.940771Z"
    }
   },
   "outputs": [
    {
     "data": {
      "text/html": [
       "<div>\n",
       "<style scoped>\n",
       "    .dataframe tbody tr th:only-of-type {\n",
       "        vertical-align: middle;\n",
       "    }\n",
       "\n",
       "    .dataframe tbody tr th {\n",
       "        vertical-align: top;\n",
       "    }\n",
       "\n",
       "    .dataframe thead th {\n",
       "        text-align: right;\n",
       "    }\n",
       "</style>\n",
       "<table border=\"1\" class=\"dataframe\">\n",
       "  <thead>\n",
       "    <tr style=\"text-align: right;\">\n",
       "      <th></th>\n",
       "      <th></th>\n",
       "      <th>rho</th>\n",
       "      <th>pvalue</th>\n",
       "      <th>pvalues_corrected</th>\n",
       "      <th>significant</th>\n",
       "    </tr>\n",
       "    <tr>\n",
       "      <th>RegistrationCode</th>\n",
       "      <th></th>\n",
       "      <th></th>\n",
       "      <th></th>\n",
       "      <th></th>\n",
       "      <th></th>\n",
       "    </tr>\n",
       "  </thead>\n",
       "  <tbody>\n",
       "    <tr>\n",
       "      <th rowspan=\"5\" valign=\"top\">111527</th>\n",
       "      <th>wakeup_glucose</th>\n",
       "      <td>1.000000</td>\n",
       "      <td>0.000000</td>\n",
       "      <td>0.000000</td>\n",
       "      <td>1</td>\n",
       "    </tr>\n",
       "    <tr>\n",
       "      <th>sodium_mg</th>\n",
       "      <td>0.008531</td>\n",
       "      <td>0.922064</td>\n",
       "      <td>0.975776</td>\n",
       "      <td>0</td>\n",
       "    </tr>\n",
       "    <tr>\n",
       "      <th>sugarstotal_g</th>\n",
       "      <td>0.116687</td>\n",
       "      <td>0.179374</td>\n",
       "      <td>0.407329</td>\n",
       "      <td>0</td>\n",
       "    </tr>\n",
       "    <tr>\n",
       "      <th>alcohol_g</th>\n",
       "      <td>0.000000</td>\n",
       "      <td>0.000000</td>\n",
       "      <td>0.000000</td>\n",
       "      <td>1</td>\n",
       "    </tr>\n",
       "    <tr>\n",
       "      <th>totallipid_g</th>\n",
       "      <td>-0.190140</td>\n",
       "      <td>0.027770</td>\n",
       "      <td>0.105132</td>\n",
       "      <td>0</td>\n",
       "    </tr>\n",
       "  </tbody>\n",
       "</table>\n",
       "</div>"
      ],
      "text/plain": [
       "                                      rho  ...  significant\n",
       "RegistrationCode                           ...             \n",
       "111527           wakeup_glucose  1.000000  ...            1\n",
       "                 sodium_mg       0.008531  ...            0\n",
       "                 sugarstotal_g   0.116687  ...            0\n",
       "                 alcohol_g       0.000000  ...            1\n",
       "                 totallipid_g   -0.190140  ...            0\n",
       "\n",
       "[5 rows x 4 columns]"
      ]
     },
     "execution_count": 477,
     "metadata": {},
     "output_type": "execute_result"
    }
   ],
   "source": [
    "statistics_df.head()"
   ]
  },
  {
   "cell_type": "code",
   "execution_count": 468,
   "metadata": {
    "ExecuteTime": {
     "end_time": "2020-02-17T14:45:00.240202Z",
     "start_time": "2020-02-17T14:45:00.236911Z"
    },
    "scrolled": false
   },
   "outputs": [],
   "source": [
    "# for rc in data.index.unique():\n",
    "#     for column in data.columns:\n",
    "#         pearson = pearsonr(data.loc[rc]['wakeup_glucose'], data.loc[rc][column])\n",
    "#         if abs(pearson[0]) > 0.3 and pearson[1] < 0.05 and column != 'wakeup_glucose':\n",
    "#             print(rc, column, pearson)"
   ]
  },
  {
   "cell_type": "code",
   "execution_count": 494,
   "metadata": {
    "ExecuteTime": {
     "end_time": "2020-02-17T15:48:28.948642Z",
     "start_time": "2020-02-17T15:48:28.943295Z"
    }
   },
   "outputs": [],
   "source": [
    "statistics_df = statistics_df.fillna(0)"
   ]
  },
  {
   "cell_type": "code",
   "execution_count": 498,
   "metadata": {
    "ExecuteTime": {
     "end_time": "2020-02-17T15:49:20.675352Z",
     "start_time": "2020-02-17T15:49:20.668755Z"
    }
   },
   "outputs": [
    {
     "data": {
      "text/plain": [
       "RegistrationCode      object\n",
       "level_1               object\n",
       "rho                  float64\n",
       "pvalue               float64\n",
       "pvalues_corrected    float64\n",
       "significant            int64\n",
       "dtype: object"
      ]
     },
     "execution_count": 498,
     "metadata": {},
     "output_type": "execute_result"
    }
   ],
   "source": [
    "statistics_df.dtypes"
   ]
  },
  {
   "cell_type": "code",
   "execution_count": 503,
   "metadata": {
    "ExecuteTime": {
     "end_time": "2020-02-17T15:57:52.531958Z",
     "start_time": "2020-02-17T15:57:52.526615Z"
    }
   },
   "outputs": [],
   "source": [
    "statistics_df = statistics_df.reset_index('RegistrationCode')"
   ]
  },
  {
   "cell_type": "code",
   "execution_count": 499,
   "metadata": {
    "ExecuteTime": {
     "end_time": "2020-02-17T15:55:13.667673Z",
     "start_time": "2020-02-17T15:55:13.660770Z"
    }
   },
   "outputs": [
    {
     "name": "stdout",
     "output_type": "stream",
     "text": [
      "0            wakeup_glucose\n",
      "1                 sodium_mg\n",
      "2             sugarstotal_g\n",
      "3                 alcohol_g\n",
      "4              totallipid_g\n",
      "               ...         \n",
      "2611    totaldietaryfiber_g\n",
      "2612            energy_kcal\n",
      "2613                 weight\n",
      "2614            caffeine_mg\n",
      "2615           carbs/lipids\n",
      "Name: level_1, Length: 2616, dtype: object 0       1.000000\n",
      "1       0.008531\n",
      "2       0.116687\n",
      "3       0.000000\n",
      "4      -0.190140\n",
      "          ...   \n",
      "2611    0.292845\n",
      "2612    0.316560\n",
      "2613    0.360568\n",
      "2614    0.196802\n",
      "2615    0.137503\n",
      "Name: rho, Length: 2616, dtype: float64\n"
     ]
    }
   ],
   "source": [
    "print(statistics_df['level_1'], statistics_df['rho'])"
   ]
  },
  {
   "cell_type": "code",
   "execution_count": 506,
   "metadata": {
    "ExecuteTime": {
     "end_time": "2020-02-17T16:01:47.828122Z",
     "start_time": "2020-02-17T16:01:47.544486Z"
    }
   },
   "outputs": [
    {
     "data": {
      "image/png": "[encoded data removed]",
      "text/plain": [
       "<Figure size 360x360 with 1 Axes>"
      ]
     },
     "metadata": {},
     "output_type": "display_data"
    }
   ],
   "source": [
    "sns.catplot(x='level_1', y='rho', data=statistics_df[(statistics_df['RegistrationCode'] =='158748') | (statistics_df['RegistrationCode'] =='111527')]);"
   ]
  },
  {
   "cell_type": "code",
   "execution_count": 510,
   "metadata": {
    "ExecuteTime": {
     "end_time": "2020-02-17T16:15:56.509299Z",
     "start_time": "2020-02-17T16:15:56.503162Z"
    }
   },
   "outputs": [],
   "source": [
    "statistics_df.loc[(statistics_df['significant'] == 0), 'rho'] = None"
   ]
  },
  {
   "cell_type": "code",
   "execution_count": 515,
   "metadata": {
    "ExecuteTime": {
     "end_time": "2020-02-17T16:24:34.588437Z",
     "start_time": "2020-02-17T16:24:34.580621Z"
    }
   },
   "outputs": [],
   "source": [
    "statistics_df = statistics_df[(statistics_df['level_1'] != 'wakeup_glucose') & (statistics_df['level_1'] != 'alcohol_g')]"
   ]
  },
  {
   "cell_type": "code",
   "execution_count": 512,
   "metadata": {
    "ExecuteTime": {
     "end_time": "2020-02-17T16:16:01.318405Z",
     "start_time": "2020-02-17T16:16:01.297167Z"
    }
   },
   "outputs": [
    {
     "data": {
      "text/html": [
       "<div>\n",
       "<style scoped>\n",
       "    .dataframe tbody tr th:only-of-type {\n",
       "        vertical-align: middle;\n",
       "    }\n",
       "\n",
       "    .dataframe tbody tr th {\n",
       "        vertical-align: top;\n",
       "    }\n",
       "\n",
       "    .dataframe thead th {\n",
       "        text-align: right;\n",
       "    }\n",
       "</style>\n",
       "<table border=\"1\" class=\"dataframe\">\n",
       "  <thead>\n",
       "    <tr style=\"text-align: right;\">\n",
       "      <th></th>\n",
       "      <th>RegistrationCode</th>\n",
       "      <th>level_1</th>\n",
       "      <th>rho</th>\n",
       "      <th>pvalue</th>\n",
       "      <th>pvalues_corrected</th>\n",
       "      <th>significant</th>\n",
       "    </tr>\n",
       "  </thead>\n",
       "  <tbody>\n",
       "    <tr>\n",
       "      <th>1</th>\n",
       "      <td>111527</td>\n",
       "      <td>sodium_mg</td>\n",
       "      <td>NaN</td>\n",
       "      <td>0.922064</td>\n",
       "      <td>0.975776</td>\n",
       "      <td>0</td>\n",
       "    </tr>\n",
       "    <tr>\n",
       "      <th>2</th>\n",
       "      <td>111527</td>\n",
       "      <td>sugarstotal_g</td>\n",
       "      <td>NaN</td>\n",
       "      <td>0.179374</td>\n",
       "      <td>0.407329</td>\n",
       "      <td>0</td>\n",
       "    </tr>\n",
       "    <tr>\n",
       "      <th>3</th>\n",
       "      <td>111527</td>\n",
       "      <td>alcohol_g</td>\n",
       "      <td>0.0</td>\n",
       "      <td>0.000000</td>\n",
       "      <td>0.000000</td>\n",
       "      <td>1</td>\n",
       "    </tr>\n",
       "    <tr>\n",
       "      <th>4</th>\n",
       "      <td>111527</td>\n",
       "      <td>totallipid_g</td>\n",
       "      <td>NaN</td>\n",
       "      <td>0.027770</td>\n",
       "      <td>0.105132</td>\n",
       "      <td>0</td>\n",
       "    </tr>\n",
       "    <tr>\n",
       "      <th>5</th>\n",
       "      <td>111527</td>\n",
       "      <td>protein_g</td>\n",
       "      <td>NaN</td>\n",
       "      <td>0.953182</td>\n",
       "      <td>0.983639</td>\n",
       "      <td>0</td>\n",
       "    </tr>\n",
       "  </tbody>\n",
       "</table>\n",
       "</div>"
      ],
      "text/plain": [
       "  RegistrationCode        level_1  ...  pvalues_corrected  significant\n",
       "1           111527      sodium_mg  ...           0.975776            0\n",
       "2           111527  sugarstotal_g  ...           0.407329            0\n",
       "3           111527      alcohol_g  ...           0.000000            1\n",
       "4           111527   totallipid_g  ...           0.105132            0\n",
       "5           111527      protein_g  ...           0.983639            0\n",
       "\n",
       "[5 rows x 6 columns]"
      ]
     },
     "execution_count": 512,
     "metadata": {},
     "output_type": "execute_result"
    }
   ],
   "source": [
    "statistics_df.head()"
   ]
  },
  {
   "cell_type": "code",
   "execution_count": 517,
   "metadata": {
    "ExecuteTime": {
     "end_time": "2020-02-17T16:25:30.801899Z",
     "start_time": "2020-02-17T16:25:30.782659Z"
    },
    "scrolled": true
   },
   "outputs": [],
   "source": [
    "signif_corr = statistics_df.set_index(['RegistrationCode', 'level_1']).unstack(level=-1)['rho']"
   ]
  },
  {
   "cell_type": "code",
   "execution_count": 518,
   "metadata": {
    "ExecuteTime": {
     "end_time": "2020-02-17T16:25:53.834155Z",
     "start_time": "2020-02-17T16:25:53.830369Z"
    }
   },
   "outputs": [],
   "source": [
    "signif_corr.columns.name = None"
   ]
  },
  {
   "cell_type": "code",
   "execution_count": 521,
   "metadata": {
    "ExecuteTime": {
     "end_time": "2020-02-17T16:27:45.612354Z",
     "start_time": "2020-02-17T16:27:45.607417Z"
    }
   },
   "outputs": [
    {
     "data": {
      "text/plain": [
       "Index(['caffeine_mg', 'carbohydrate_g', 'carbs/lipids', 'energy_kcal',\n",
       "       'protein_g', 'sodium_mg', 'sugarstotal_g', 'totaldietaryfiber_g',\n",
       "       'totallipid_g', 'weight'],\n",
       "      dtype='object')"
      ]
     },
     "execution_count": 521,
     "metadata": {},
     "output_type": "execute_result"
    }
   ],
   "source": [
    "signif_corr.columns"
   ]
  },
  {
   "cell_type": "code",
   "execution_count": 522,
   "metadata": {
    "ExecuteTime": {
     "end_time": "2020-02-17T16:28:48.195011Z",
     "start_time": "2020-02-17T16:28:48.190471Z"
    }
   },
   "outputs": [],
   "source": [
    "rc_list = signif_corr.index\n",
    "rc_list = ['rc' + item for item in rc_list]\n",
    "diet_feat_list = signif_corr.columns"
   ]
  },
  {
   "cell_type": "code",
   "execution_count": 523,
   "metadata": {
    "ExecuteTime": {
     "end_time": "2020-02-17T16:31:52.488467Z",
     "start_time": "2020-02-17T16:31:52.483384Z"
    }
   },
   "outputs": [],
   "source": [
    "sign_corr_list = signif_corr.values.tolist()"
   ]
  },
  {
   "cell_type": "code",
   "execution_count": 526,
   "metadata": {
    "ExecuteTime": {
     "end_time": "2020-02-17T16:55:48.422851Z",
     "start_time": "2020-02-17T16:55:48.160631Z"
    }
   },
   "outputs": [
    {
     "data": {
      "application/vnd.plotly.v1+json": {
       "config": {
        "plotlyServerURL": "https://plot.ly"
       },
       "data": [
        {
         "hoverongaps": false,
         "type": "heatmap",
         "x": [
          "caffeine_mg",
          "carbohydrate_g",
          "carbs/lipids",
          "energy_kcal",
          "protein_g",
          "sodium_mg",
          "sugarstotal_g",
          "totaldietaryfiber_g",
          "totallipid_g",
          "weight"
         ],
         "y": [
          "rc111527",
          "rc117111",
          "rc126092",
          "rc12752",
          "rc130279",
          "rc132095",
          "rc132178",
          "rc133828",
          "rc136529",
          "rc139531",
          "rc140050",
          "rc142162",
          "rc143892",
          "rc147121",
          "rc147867",
          "rc148574",
          "rc154750",
          "rc155314",
          "rc158747",
          "rc158748",
          "rc168236",
          "rc17298",
          "rc173854",
          "rc187022",
          "rc190009",
          "rc199369",
          "rc203977",
          "rc207579",
          "rc211261",
          "rc215130",
          "rc216303",
          "rc225207",
          "rc228851",
          "rc24153",
          "rc242185",
          "rc243235",
          "rc246043",
          "rc249651",
          "rc251582",
          "rc252002",
          "rc258029",
          "rc280392",
          "rc287239",
          "rc2893",
          "rc292372",
          "rc292738",
          "rc299260",
          "rc300747",
          "rc302974",
          "rc309076",
          "rc313112",
          "rc322846",
          "rc326754",
          "rc32708",
          "rc328155",
          "rc331758",
          "rc336079",
          "rc3375786",
          "rc339142",
          "rc343518",
          "rc347571",
          "rc351160",
          "rc356171",
          "rc356392",
          "rc3579890",
          "rc358113",
          "rc363101",
          "rc368667",
          "rc371755",
          "rc372475",
          "rc376789",
          "rc381034",
          "rc381094",
          "rc388245",
          "rc393528",
          "rc394693",
          "rc403032",
          "rc406329",
          "rc407703",
          "rc41275",
          "rc424661",
          "rc429455",
          "rc429763",
          "rc433346",
          "rc43647",
          "rc439484",
          "rc439864",
          "rc445179",
          "rc448705",
          "rc451959",
          "rc456910",
          "rc462007",
          "rc463455",
          "rc469047",
          "rc470856",
          "rc473811",
          "rc476133",
          "rc479878",
          "rc491836",
          "rc492806",
          "rc494678",
          "rc494901",
          "rc495288",
          "rc496680",
          "rc49674",
          "rc501757",
          "rc509553",
          "rc518788",
          "rc525994",
          "rc533401",
          "rc536037",
          "rc54400",
          "rc549830",
          "rc550818",
          "rc56031",
          "rc563437",
          "rc573718",
          "rc579543",
          "rc583231",
          "rc585490",
          "rc590916",
          "rc596834",
          "rc599101",
          "rc602810",
          "rc605764",
          "rc613617",
          "rc621142",
          "rc624435",
          "rc625103",
          "rc626391",
          "rc628781",
          "rc630920",
          "rc631485",
          "rc64952",
          "rc656660",
          "rc657584",
          "rc672766",
          "rc67951",
          "rc679548",
          "rc682027",
          "rc683035",
          "rc693878",
          "rc69789",
          "rc702207",
          "rc704171",
          "rc705938",
          "rc721061",
          "rc723796",
          "rc724901",
          "rc740203",
          "rc742096",
          "rc745073",
          "rc753413",
          "rc76307",
          "rc766836",
          "rc772380",
          "rc78283",
          "rc783563",
          "rc784057",
          "rc794434",
          "rc794542",
          "rc800808",
          "rc804157",
          "rc805227",
          "rc81477",
          "rc818980",
          "rc820101",
          "rc824245",
          "rc825349",
          "rc828334",
          "rc831208",
          "rc831919",
          "rc832748",
          "rc834183",
          "rc834851",
          "rc838820",
          "rc840825",
          "rc847993",
          "rc848164",
          "rc848368",
          "rc856766",
          "rc85854",
          "rc859286",
          "rc865727",
          "rc867514",
          "rc868780",
          "rc869485",
          "rc885039",
          "rc895129",
          "rc895596",
          "rc900460",
          "rc903238",
          "rc904671",
          "rc908190",
          "rc91050",
          "rc910720",
          "rc922039",
          "rc927011",
          "rc928786",
          "rc932700",
          "rc93282",
          "rc933765",
          "rc93928",
          "rc941542",
          "rc946729",
          "rc948714",
          "rc953534",
          "rc954295",
          "rc954766",
          "rc963150",
          "rc967551",
          "rc972181",
          "rc979162",
          "rc981727",
          "rc988899",
          "rc992638",
          "rc997427",
          "rc997735"
         ],
         "z": [
          [
           null,
           null,
           0.24124322459590464,
           null,
           null,
           null,
           null,
           null,
           null,
           null
          ],
          [
           null,
           null,
           null,
           null,
           null,
           null,
           null,
           null,
           null,
           null
          ],
          [
           null,
           0.23908736221005175,
           null,
           null,
           null,
           0.21843605164532548,
           null,
           null,
           null,
           0.31693144850680977
          ],
          [
           0.436132981144565,
           null,
           null,
           null,
           null,
           null,
           null,
           null,
           null,
           null
          ],
          [
           null,
           null,
           null,
           null,
           null,
           null,
           null,
           0.26210594852386937,
           null,
           null
          ],
          [
           null,
           null,
           null,
           null,
           null,
           -0.21667159143249037,
           null,
           null,
           null,
           null
          ],
          [
           null,
           null,
           -0.21610392167557294,
           null,
           null,
           0.2968892388078616,
           null,
           null,
           null,
           null
          ],
          [
           null,
           null,
           null,
           null,
           null,
           null,
           null,
           null,
           null,
           null
          ],
          [
           null,
           0.23645955258723547,
           null,
           0.37295872996225693,
           0.26565042172140035,
           null,
           null,
           null,
           null,
           null
          ],
          [
           null,
           null,
           null,
           null,
           null,
           null,
           null,
           null,
           null,
           null
          ],
          [
           null,
           null,
           null,
           null,
           null,
           null,
           null,
           null,
           null,
           null
          ],
          [
           null,
           null,
           null,
           null,
           null,
           null,
           null,
           null,
           null,
           null
          ],
          [
           null,
           null,
           null,
           null,
           null,
           null,
           null,
           null,
           null,
           null
          ],
          [
           null,
           0.238617696605045,
           0.269411107603549,
           null,
           null,
           null,
           null,
           null,
           null,
           null
          ],
          [
           null,
           null,
           null,
           null,
           null,
           null,
           null,
           null,
           null,
           null
          ],
          [
           null,
           null,
           null,
           null,
           null,
           null,
           null,
           null,
           null,
           null
          ],
          [
           null,
           null,
           null,
           null,
           null,
           null,
           null,
           -0.31621616420472215,
           null,
           null
          ],
          [
           null,
           null,
           null,
           null,
           null,
           null,
           null,
           null,
           null,
           null
          ],
          [
           null,
           null,
           null,
           null,
           null,
           null,
           null,
           null,
           null,
           null
          ],
          [
           0.3254169677165141,
           0.31804500047693696,
           null,
           null,
           null,
           null,
           null,
           null,
           null,
           null
          ],
          [
           null,
           null,
           null,
           null,
           null,
           null,
           null,
           null,
           null,
           null
          ],
          [
           null,
           null,
           null,
           null,
           null,
           null,
           null,
           null,
           null,
           null
          ],
          [
           null,
           null,
           null,
           null,
           null,
           null,
           null,
           null,
           null,
           null
          ],
          [
           null,
           null,
           null,
           null,
           null,
           null,
           null,
           null,
           null,
           null
          ],
          [
           null,
           null,
           null,
           null,
           null,
           null,
           null,
           null,
           null,
           null
          ],
          [
           null,
           0.3099267774610361,
           null,
           0.2534947515833294,
           null,
           null,
           null,
           null,
           null,
           0.2579882344312623
          ],
          [
           null,
           null,
           null,
           null,
           null,
           null,
           null,
           null,
           null,
           null
          ],
          [
           null,
           null,
           null,
           null,
           null,
           null,
           null,
           0.3868233725685297,
           null,
           null
          ],
          [
           null,
           null,
           null,
           null,
           null,
           null,
           null,
           null,
           null,
           null
          ],
          [
           0.28430200822076224,
           0.310580505171477,
           null,
           0.28346038383898026,
           null,
           null,
           0.29248122668390053,
           0.23419993779725662,
           null,
           0.34000493451280034
          ],
          [
           null,
           null,
           null,
           0.3639967866354581,
           null,
           0.38299777333931173,
           null,
           null,
           null,
           0.35886614411957407
          ],
          [
           null,
           null,
           null,
           null,
           null,
           null,
           null,
           null,
           null,
           null
          ],
          [
           null,
           null,
           null,
           null,
           null,
           null,
           null,
           null,
           null,
           null
          ],
          [
           null,
           null,
           null,
           null,
           null,
           null,
           null,
           null,
           null,
           null
          ],
          [
           null,
           null,
           null,
           null,
           null,
           null,
           null,
           null,
           null,
           null
          ],
          [
           null,
           null,
           null,
           0.33771942316436054,
           0.3554251574478184,
           null,
           null,
           null,
           null,
           null
          ],
          [
           0.2306322197318702,
           null,
           null,
           null,
           null,
           null,
           null,
           null,
           null,
           null
          ],
          [
           null,
           null,
           null,
           null,
           null,
           null,
           null,
           null,
           null,
           null
          ],
          [
           null,
           null,
           null,
           null,
           0.26436124659261767,
           null,
           null,
           null,
           null,
           null
          ],
          [
           null,
           null,
           null,
           null,
           null,
           null,
           null,
           null,
           null,
           null
          ],
          [
           null,
           null,
           null,
           null,
           null,
           null,
           null,
           null,
           null,
           null
          ],
          [
           null,
           null,
           null,
           null,
           null,
           null,
           null,
           null,
           null,
           null
          ],
          [
           null,
           null,
           null,
           0.22328240360022633,
           null,
           null,
           null,
           null,
           0.2415695061870738,
           null
          ],
          [
           null,
           null,
           null,
           0.2836336537113665,
           0.33379100295542713,
           null,
           null,
           null,
           null,
           null
          ],
          [
           null,
           null,
           null,
           null,
           null,
           null,
           null,
           null,
           null,
           null
          ],
          [
           null,
           null,
           null,
           0.20615819393924842,
           null,
           null,
           null,
           null,
           null,
           null
          ],
          [
           null,
           null,
           null,
           null,
           null,
           null,
           null,
           null,
           null,
           null
          ],
          [
           null,
           null,
           null,
           null,
           null,
           -0.32196879124000477,
           null,
           null,
           null,
           null
          ],
          [
           null,
           null,
           null,
           null,
           null,
           null,
           null,
           null,
           null,
           null
          ],
          [
           0.34451698744345116,
           0.3210489014984852,
           null,
           0.3661519840216745,
           null,
           null,
           null,
           null,
           null,
           null
          ],
          [
           null,
           null,
           null,
           null,
           null,
           null,
           null,
           null,
           null,
           null
          ],
          [
           null,
           null,
           0.2357762541524853,
           null,
           null,
           null,
           null,
           null,
           -0.24309506865610328,
           0.25096125171783273
          ],
          [
           null,
           null,
           null,
           null,
           null,
           null,
           null,
           null,
           null,
           null
          ],
          [
           null,
           null,
           null,
           null,
           null,
           null,
           null,
           null,
           null,
           null
          ],
          [
           null,
           null,
           null,
           null,
           null,
           null,
           null,
           null,
           null,
           null
          ],
          [
           null,
           null,
           null,
           null,
           null,
           -0.31536884313516156,
           null,
           null,
           null,
           null
          ],
          [
           null,
           null,
           null,
           null,
           null,
           null,
           null,
           null,
           null,
           null
          ],
          [
           null,
           null,
           null,
           null,
           null,
           -0.3376970507113521,
           null,
           null,
           null,
           null
          ],
          [
           null,
           null,
           null,
           null,
           null,
           null,
           null,
           null,
           null,
           null
          ],
          [
           null,
           null,
           null,
           null,
           null,
           null,
           null,
           null,
           null,
           null
          ],
          [
           null,
           null,
           null,
           null,
           null,
           null,
           null,
           null,
           null,
           null
          ],
          [
           null,
           null,
           null,
           null,
           null,
           null,
           null,
           -0.4091998118312843,
           null,
           null
          ],
          [
           null,
           null,
           null,
           null,
           null,
           null,
           null,
           null,
           null,
           null
          ],
          [
           null,
           null,
           null,
           null,
           null,
           null,
           null,
           null,
           null,
           null
          ],
          [
           null,
           null,
           null,
           null,
           null,
           null,
           null,
           null,
           null,
           null
          ],
          [
           null,
           null,
           null,
           null,
           null,
           null,
           null,
           null,
           null,
           null
          ],
          [
           null,
           null,
           null,
           null,
           null,
           null,
           null,
           null,
           null,
           null
          ],
          [
           null,
           null,
           null,
           null,
           null,
           null,
           null,
           null,
           null,
           null
          ],
          [
           null,
           null,
           null,
           null,
           null,
           null,
           null,
           null,
           null,
           null
          ],
          [
           null,
           -0.37594825761393713,
           -0.3632281380980834,
           null,
           null,
           null,
           -0.3881278539405256,
           null,
           null,
           null
          ],
          [
           null,
           0.21810263280582853,
           null,
           null,
           null,
           null,
           null,
           null,
           null,
           null
          ],
          [
           null,
           null,
           null,
           null,
           null,
           null,
           null,
           null,
           null,
           null
          ],
          [
           null,
           null,
           null,
           null,
           null,
           null,
           null,
           null,
           null,
           0.28147207990005885
          ],
          [
           null,
           null,
           null,
           null,
           null,
           null,
           null,
           null,
           null,
           null
          ],
          [
           null,
           null,
           null,
           null,
           null,
           null,
           null,
           null,
           null,
           null
          ],
          [
           null,
           null,
           null,
           null,
           null,
           null,
           null,
           null,
           null,
           null
          ],
          [
           null,
           null,
           null,
           null,
           null,
           null,
           null,
           null,
           null,
           null
          ],
          [
           null,
           null,
           null,
           null,
           null,
           null,
           null,
           null,
           null,
           null
          ],
          [
           null,
           null,
           null,
           null,
           null,
           null,
           null,
           null,
           null,
           null
          ],
          [
           null,
           null,
           null,
           null,
           null,
           null,
           null,
           null,
           null,
           0.2809480121641949
          ],
          [
           null,
           null,
           null,
           null,
           null,
           null,
           null,
           null,
           null,
           null
          ],
          [
           null,
           null,
           null,
           null,
           null,
           null,
           null,
           null,
           null,
           null
          ],
          [
           null,
           null,
           null,
           null,
           null,
           null,
           null,
           null,
           null,
           null
          ],
          [
           null,
           null,
           null,
           null,
           null,
           null,
           null,
           null,
           null,
           null
          ],
          [
           null,
           null,
           null,
           null,
           null,
           null,
           null,
           null,
           null,
           null
          ],
          [
           null,
           null,
           null,
           null,
           null,
           null,
           null,
           null,
           null,
           null
          ],
          [
           null,
           null,
           null,
           null,
           null,
           null,
           null,
           null,
           null,
           null
          ],
          [
           null,
           null,
           null,
           null,
           null,
           null,
           null,
           null,
           null,
           null
          ],
          [
           null,
           null,
           null,
           null,
           null,
           null,
           -0.32256860580829316,
           null,
           null,
           null
          ],
          [
           null,
           0.3909687940991059,
           0.3568762319773829,
           null,
           null,
           null,
           null,
           null,
           null,
           0.3225011310446516
          ],
          [
           null,
           null,
           null,
           null,
           null,
           null,
           null,
           null,
           null,
           null
          ],
          [
           null,
           null,
           null,
           null,
           null,
           null,
           null,
           null,
           null,
           null
          ],
          [
           null,
           null,
           null,
           null,
           null,
           null,
           null,
           null,
           null,
           null
          ],
          [
           null,
           null,
           null,
           null,
           null,
           null,
           null,
           null,
           null,
           null
          ],
          [
           null,
           null,
           null,
           null,
           null,
           null,
           null,
           null,
           null,
           null
          ],
          [
           null,
           null,
           null,
           null,
           null,
           null,
           null,
           null,
           null,
           null
          ],
          [
           null,
           null,
           null,
           null,
           null,
           null,
           null,
           null,
           null,
           null
          ],
          [
           null,
           null,
           null,
           null,
           null,
           null,
           null,
           null,
           null,
           null
          ],
          [
           null,
           null,
           null,
           null,
           null,
           null,
           null,
           null,
           null,
           null
          ],
          [
           null,
           null,
           null,
           null,
           null,
           null,
           null,
           null,
           null,
           null
          ],
          [
           null,
           null,
           null,
           null,
           null,
           0.2910375887081209,
           null,
           null,
           null,
           null
          ],
          [
           null,
           null,
           null,
           null,
           null,
           null,
           null,
           null,
           null,
           null
          ],
          [
           null,
           null,
           null,
           null,
           null,
           null,
           null,
           null,
           null,
           null
          ],
          [
           null,
           null,
           null,
           null,
           null,
           null,
           null,
           null,
           null,
           null
          ],
          [
           null,
           null,
           null,
           null,
           null,
           null,
           null,
           null,
           null,
           null
          ],
          [
           null,
           null,
           null,
           null,
           null,
           null,
           null,
           null,
           null,
           null
          ],
          [
           null,
           null,
           null,
           null,
           null,
           null,
           null,
           null,
           null,
           null
          ],
          [
           0.2103454190074789,
           null,
           null,
           null,
           null,
           null,
           null,
           null,
           null,
           0.21437726912666805
          ],
          [
           null,
           null,
           null,
           null,
           null,
           null,
           null,
           null,
           null,
           null
          ],
          [
           0.31969592702449146,
           0.4209305188270414,
           0.30207358059347666,
           0.3581449305660773,
           null,
           0.284281909536492,
           null,
           null,
           null,
           0.5371838246576741
          ],
          [
           null,
           null,
           null,
           null,
           null,
           null,
           null,
           null,
           null,
           null
          ],
          [
           null,
           null,
           null,
           null,
           null,
           null,
           null,
           null,
           null,
           null
          ],
          [
           null,
           null,
           null,
           null,
           null,
           null,
           null,
           null,
           null,
           null
          ],
          [
           null,
           null,
           null,
           null,
           null,
           null,
           null,
           null,
           null,
           null
          ],
          [
           null,
           null,
           null,
           null,
           null,
           null,
           null,
           null,
           null,
           null
          ],
          [
           0.25146664994720036,
           null,
           null,
           null,
           0.2862526577044263,
           null,
           null,
           null,
           null,
           0.24746698643181395
          ],
          [
           null,
           null,
           null,
           null,
           0.22278751435037958,
           null,
           null,
           null,
           null,
           null
          ],
          [
           null,
           0.25926084536734534,
           0.2594422206453963,
           null,
           null,
           null,
           null,
           null,
           null,
           null
          ],
          [
           null,
           null,
           null,
           null,
           null,
           null,
           null,
           null,
           null,
           null
          ],
          [
           null,
           null,
           null,
           null,
           null,
           null,
           null,
           null,
           null,
           null
          ],
          [
           null,
           null,
           null,
           null,
           null,
           null,
           null,
           null,
           null,
           null
          ],
          [
           null,
           -0.2908284218596439,
           -0.3146010997439566,
           null,
           null,
           null,
           null,
           null,
           null,
           null
          ],
          [
           null,
           null,
           null,
           0.4239237437895086,
           null,
           null,
           null,
           null,
           0.35736752393311316,
           null
          ],
          [
           null,
           null,
           null,
           null,
           null,
           null,
           null,
           null,
           null,
           null
          ],
          [
           null,
           null,
           null,
           null,
           null,
           null,
           null,
           null,
           null,
           null
          ],
          [
           null,
           null,
           null,
           null,
           null,
           null,
           null,
           null,
           null,
           null
          ],
          [
           null,
           null,
           null,
           null,
           null,
           null,
           null,
           null,
           null,
           null
          ],
          [
           null,
           null,
           null,
           null,
           null,
           null,
           null,
           null,
           null,
           null
          ],
          [
           null,
           null,
           null,
           null,
           null,
           null,
           null,
           null,
           null,
           null
          ],
          [
           null,
           null,
           null,
           null,
           null,
           null,
           null,
           null,
           null,
           null
          ],
          [
           null,
           null,
           null,
           null,
           null,
           null,
           null,
           null,
           null,
           null
          ],
          [
           null,
           0.3356368982444929,
           null,
           null,
           null,
           null,
           null,
           null,
           null,
           0.33251534593478477
          ],
          [
           null,
           null,
           null,
           null,
           null,
           null,
           null,
           -0.2436039191236973,
           null,
           null
          ],
          [
           null,
           null,
           null,
           null,
           null,
           0.2146138727428277,
           null,
           null,
           null,
           0.2162372261522765
          ],
          [
           0.4562453156718086,
           null,
           null,
           null,
           null,
           null,
           null,
           null,
           null,
           0.42523162606459974
          ],
          [
           null,
           null,
           null,
           null,
           null,
           null,
           null,
           null,
           null,
           null
          ],
          [
           null,
           null,
           null,
           null,
           null,
           null,
           null,
           null,
           null,
           null
          ],
          [
           null,
           null,
           null,
           null,
           null,
           null,
           null,
           null,
           null,
           null
          ],
          [
           null,
           null,
           null,
           null,
           null,
           null,
           null,
           null,
           null,
           null
          ],
          [
           null,
           null,
           null,
           null,
           null,
           null,
           null,
           null,
           null,
           null
          ],
          [
           null,
           null,
           null,
           null,
           null,
           null,
           null,
           null,
           null,
           null
          ],
          [
           null,
           null,
           null,
           null,
           0.35308225911996155,
           null,
           null,
           null,
           null,
           null
          ],
          [
           null,
           null,
           null,
           null,
           null,
           null,
           null,
           null,
           null,
           null
          ],
          [
           null,
           null,
           null,
           null,
           null,
           null,
           null,
           null,
           null,
           null
          ],
          [
           null,
           null,
           -0.3168878829838058,
           null,
           null,
           null,
           null,
           null,
           null,
           null
          ],
          [
           null,
           null,
           null,
           null,
           null,
           null,
           null,
           null,
           null,
           null
          ],
          [
           null,
           null,
           null,
           null,
           null,
           null,
           null,
           -0.3953210666411013,
           null,
           null
          ],
          [
           null,
           null,
           null,
           null,
           null,
           null,
           null,
           null,
           null,
           null
          ],
          [
           null,
           null,
           null,
           null,
           null,
           null,
           null,
           null,
           null,
           null
          ],
          [
           null,
           null,
           null,
           null,
           null,
           null,
           null,
           null,
           null,
           null
          ],
          [
           null,
           null,
           null,
           null,
           0.2508785616023824,
           null,
           null,
           null,
           null,
           null
          ],
          [
           0.40000757712215174,
           null,
           null,
           null,
           null,
           null,
           0.252063144352194,
           null,
           null,
           0.3198615022174573
          ],
          [
           0.4260723738814654,
           0.25391438971528923,
           0.2578919044510469,
           null,
           0.2968989707640085,
           0.2584807418053608,
           null,
           null,
           -0.2269182653157329,
           0.33893387744691705
          ],
          [
           null,
           null,
           null,
           null,
           null,
           null,
           null,
           null,
           null,
           null
          ],
          [
           null,
           null,
           null,
           null,
           null,
           null,
           null,
           null,
           null,
           null
          ],
          [
           null,
           null,
           null,
           null,
           null,
           null,
           null,
           null,
           null,
           null
          ],
          [
           null,
           null,
           null,
           null,
           null,
           null,
           null,
           null,
           0.26092355597039174,
           null
          ],
          [
           null,
           null,
           null,
           0.33438379295261983,
           0.331955945054565,
           0.3672160141965131,
           null,
           null,
           0.335139480708968,
           null
          ],
          [
           null,
           null,
           null,
           null,
           null,
           null,
           null,
           null,
           null,
           -0.30662833037562764
          ],
          [
           -0.3029886369581094,
           null,
           null,
           -0.2193423769946448,
           null,
           null,
           null,
           null,
           null,
           -0.22400450244258402
          ],
          [
           null,
           0.3720001905565857,
           null,
           null,
           null,
           null,
           null,
           null,
           null,
           null
          ],
          [
           null,
           null,
           -0.31631683872758065,
           0.3297185024551003,
           null,
           null,
           null,
           null,
           0.4177060610399847,
           null
          ],
          [
           null,
           null,
           null,
           null,
           null,
           null,
           null,
           null,
           null,
           null
          ],
          [
           null,
           null,
           null,
           null,
           null,
           null,
           null,
           null,
           null,
           null
          ],
          [
           null,
           null,
           null,
           null,
           0.3205719653480848,
           null,
           null,
           null,
           null,
           null
          ],
          [
           null,
           null,
           null,
           null,
           null,
           null,
           null,
           0.23875658166094665,
           null,
           null
          ],
          [
           null,
           null,
           null,
           0.3662431761489573,
           null,
           null,
           null,
           null,
           null,
           null
          ],
          [
           null,
           null,
           null,
           null,
           null,
           null,
           null,
           null,
           null,
           null
          ],
          [
           null,
           null,
           null,
           null,
           null,
           null,
           null,
           null,
           null,
           null
          ],
          [
           null,
           null,
           null,
           0.22000276776513247,
           null,
           null,
           null,
           null,
           0.21125363842998923,
           null
          ],
          [
           null,
           null,
           null,
           null,
           null,
           null,
           null,
           null,
           null,
           null
          ],
          [
           null,
           null,
           null,
           null,
           null,
           null,
           null,
           null,
           null,
           null
          ],
          [
           null,
           null,
           null,
           null,
           null,
           null,
           null,
           null,
           null,
           null
          ],
          [
           0.3488328846639351,
           null,
           null,
           null,
           null,
           null,
           0.2621739291816268,
           null,
           null,
           0.3463421120320203
          ],
          [
           null,
           null,
           null,
           null,
           null,
           null,
           null,
           null,
           null,
           null
          ],
          [
           null,
           null,
           null,
           null,
           null,
           null,
           null,
           null,
           null,
           null
          ],
          [
           null,
           null,
           null,
           null,
           null,
           null,
           null,
           null,
           null,
           null
          ],
          [
           null,
           0.24147367893381014,
           null,
           null,
           null,
           null,
           null,
           null,
           null,
           null
          ],
          [
           null,
           null,
           null,
           null,
           null,
           null,
           null,
           null,
           null,
           null
          ],
          [
           null,
           null,
           null,
           null,
           0.25171493766164765,
           null,
           null,
           null,
           null,
           null
          ],
          [
           null,
           null,
           null,
           null,
           null,
           null,
           null,
           null,
           null,
           null
          ],
          [
           null,
           null,
           null,
           null,
           null,
           null,
           null,
           null,
           null,
           null
          ],
          [
           null,
           0.24365315855179417,
           null,
           0.310953055305944,
           null,
           null,
           null,
           0.2648152414823376,
           null,
           0.29523080541855773
          ],
          [
           null,
           null,
           null,
           null,
           null,
           null,
           null,
           null,
           null,
           null
          ],
          [
           null,
           null,
           null,
           null,
           null,
           null,
           null,
           null,
           null,
           null
          ],
          [
           null,
           0.22643679641439202,
           null,
           null,
           null,
           null,
           null,
           null,
           null,
           null
          ],
          [
           null,
           null,
           null,
           null,
           null,
           null,
           null,
           null,
           null,
           null
          ],
          [
           null,
           null,
           null,
           null,
           null,
           null,
           null,
           null,
           null,
           null
          ],
          [
           null,
           0.37401559620694996,
           null,
           0.33296566832463637,
           null,
           null,
           null,
           null,
           null,
           null
          ],
          [
           null,
           null,
           null,
           null,
           null,
           null,
           null,
           null,
           null,
           null
          ],
          [
           null,
           null,
           null,
           null,
           null,
           null,
           null,
           null,
           null,
           null
          ],
          [
           null,
           null,
           null,
           null,
           null,
           null,
           null,
           null,
           null,
           null
          ],
          [
           null,
           null,
           null,
           null,
           null,
           null,
           null,
           -0.39309590405427386,
           null,
           null
          ],
          [
           null,
           null,
           null,
           null,
           null,
           null,
           null,
           null,
           null,
           null
          ],
          [
           null,
           0.474880500838634,
           0.5368623146093786,
           null,
           null,
           null,
           null,
           0.30213093310631783,
           -0.5275802555079313,
           null
          ],
          [
           null,
           null,
           null,
           null,
           null,
           null,
           null,
           null,
           null,
           0.49589490968801314
          ],
          [
           null,
           0.2095583201783975,
           null,
           null,
           null,
           null,
           null,
           null,
           null,
           null
          ],
          [
           null,
           null,
           null,
           null,
           null,
           null,
           null,
           null,
           null,
           null
          ],
          [
           null,
           null,
           null,
           null,
           null,
           null,
           null,
           null,
           null,
           null
          ],
          [
           null,
           null,
           null,
           null,
           null,
           null,
           null,
           null,
           null,
           null
          ],
          [
           0.46564978489736714,
           0.24197761874890183,
           null,
           null,
           null,
           null,
           0.2507543448319024,
           null,
           null,
           null
          ],
          [
           null,
           0.43548234972172567,
           0.3559519924936996,
           0.36845331905774387,
           0.25170835894359084,
           0.32526260544300967,
           null,
           null,
           null,
           0.2553671491319598
          ],
          [
           null,
           null,
           null,
           null,
           null,
           null,
           null,
           null,
           null,
           null
          ],
          [
           null,
           null,
           null,
           null,
           null,
           null,
           null,
           null,
           null,
           null
          ],
          [
           null,
           null,
           null,
           null,
           null,
           null,
           null,
           null,
           null,
           null
          ],
          [
           null,
           null,
           null,
           null,
           null,
           null,
           null,
           null,
           null,
           null
          ],
          [
           null,
           null,
           null,
           null,
           null,
           null,
           null,
           null,
           null,
           null
          ],
          [
           null,
           null,
           null,
           null,
           null,
           null,
           null,
           null,
           null,
           null
          ],
          [
           null,
           null,
           -0.25695751358110663,
           null,
           null,
           null,
           null,
           null,
           0.21066051562912794,
           null
          ],
          [
           null,
           null,
           null,
           null,
           null,
           null,
           null,
           null,
           null,
           null
          ],
          [
           null,
           null,
           null,
           null,
           null,
           null,
           null,
           null,
           null,
           null
          ],
          [
           null,
           null,
           null,
           null,
           null,
           null,
           null,
           null,
           null,
           null
          ],
          [
           null,
           null,
           null,
           null,
           null,
           null,
           null,
           null,
           null,
           null
          ],
          [
           null,
           null,
           null,
           null,
           null,
           null,
           null,
           null,
           null,
           null
          ],
          [
           null,
           null,
           null,
           null,
           null,
           null,
           null,
           null,
           null,
           null
          ],
          [
           null,
           null,
           null,
           null,
           null,
           null,
           null,
           null,
           null,
           null
          ],
          [
           null,
           null,
           null,
           null,
           null,
           null,
           null,
           null,
           null,
           null
          ],
          [
           null,
           0.29305824689387894,
           null,
           0.31655990485210683,
           0.22961864209795918,
           0.26050582753059304,
           null,
           0.29284483366337194,
           null,
           0.36056801070269423
          ]
         ]
        }
       ],
       "layout": {
        "template": {
         "data": {
          "bar": [
           {
            "error_x": {
             "color": "#2a3f5f"
            },
            "error_y": {
             "color": "#2a3f5f"
            },
            "marker": {
             "line": {
              "color": "#E5ECF6",
              "width": 0.5
             }
            },
            "type": "bar"
           }
          ],
          "barpolar": [
           {
            "marker": {
             "line": {
              "color": "#E5ECF6",
              "width": 0.5
             }
            },
            "type": "barpolar"
           }
          ],
          "carpet": [
           {
            "aaxis": {
             "endlinecolor": "#2a3f5f",
             "gridcolor": "white",
             "linecolor": "white",
             "minorgridcolor": "white",
             "startlinecolor": "#2a3f5f"
            },
            "baxis": {
             "endlinecolor": "#2a3f5f",
             "gridcolor": "white",
             "linecolor": "white",
             "minorgridcolor": "white",
             "startlinecolor": "#2a3f5f"
            },
            "type": "carpet"
           }
          ],
          "choropleth": [
           {
            "colorbar": {
             "outlinewidth": 0,
             "ticks": ""
            },
            "type": "choropleth"
           }
          ],
          "contour": [
           {
            "colorbar": {
             "outlinewidth": 0,
             "ticks": ""
            },
            "colorscale": [
             [
              0,
              "#0d0887"
             ],
             [
              0.1111111111111111,
              "#46039f"
             ],
             [
              0.2222222222222222,
              "#7201a8"
             ],
             [
              0.3333333333333333,
              "#9c179e"
             ],
             [
              0.4444444444444444,
              "#bd3786"
             ],
             [
              0.5555555555555556,
              "#d8576b"
             ],
             [
              0.6666666666666666,
              "#ed7953"
             ],
             [
              0.7777777777777778,
              "#fb9f3a"
             ],
             [
              0.8888888888888888,
              "#fdca26"
             ],
             [
              1,
              "#f0f921"
             ]
            ],
            "type": "contour"
           }
          ],
          "contourcarpet": [
           {
            "colorbar": {
             "outlinewidth": 0,
             "ticks": ""
            },
            "type": "contourcarpet"
           }
          ],
          "heatmap": [
           {
            "colorbar": {
             "outlinewidth": 0,
             "ticks": ""
            },
            "colorscale": [
             [
              0,
              "#0d0887"
             ],
             [
              0.1111111111111111,
              "#46039f"
             ],
             [
              0.2222222222222222,
              "#7201a8"
             ],
             [
              0.3333333333333333,
              "#9c179e"
             ],
             [
              0.4444444444444444,
              "#bd3786"
             ],
             [
              0.5555555555555556,
              "#d8576b"
             ],
             [
              0.6666666666666666,
              "#ed7953"
             ],
             [
              0.7777777777777778,
              "#fb9f3a"
             ],
             [
              0.8888888888888888,
              "#fdca26"
             ],
             [
              1,
              "#f0f921"
             ]
            ],
            "type": "heatmap"
           }
          ],
          "heatmapgl": [
           {
            "colorbar": {
             "outlinewidth": 0,
             "ticks": ""
            },
            "colorscale": [
             [
              0,
              "#0d0887"
             ],
             [
              0.1111111111111111,
              "#46039f"
             ],
             [
              0.2222222222222222,
              "#7201a8"
             ],
             [
              0.3333333333333333,
              "#9c179e"
             ],
             [
              0.4444444444444444,
              "#bd3786"
             ],
             [
              0.5555555555555556,
              "#d8576b"
             ],
             [
              0.6666666666666666,
              "#ed7953"
             ],
             [
              0.7777777777777778,
              "#fb9f3a"
             ],
             [
              0.8888888888888888,
              "#fdca26"
             ],
             [
              1,
              "#f0f921"
             ]
            ],
            "type": "heatmapgl"
           }
          ],
          "histogram": [
           {
            "marker": {
             "colorbar": {
              "outlinewidth": 0,
              "ticks": ""
             }
            },
            "type": "histogram"
           }
          ],
          "histogram2d": [
           {
            "colorbar": {
             "outlinewidth": 0,
             "ticks": ""
            },
            "colorscale": [
             [
              0,
              "#0d0887"
             ],
             [
              0.1111111111111111,
              "#46039f"
             ],
             [
              0.2222222222222222,
              "#7201a8"
             ],
             [
              0.3333333333333333,
              "#9c179e"
             ],
             [
              0.4444444444444444,
              "#bd3786"
             ],
             [
              0.5555555555555556,
              "#d8576b"
             ],
             [
              0.6666666666666666,
              "#ed7953"
             ],
             [
              0.7777777777777778,
              "#fb9f3a"
             ],
             [
              0.8888888888888888,
              "#fdca26"
             ],
             [
              1,
              "#f0f921"
             ]
            ],
            "type": "histogram2d"
           }
          ],
          "histogram2dcontour": [
           {
            "colorbar": {
             "outlinewidth": 0,
             "ticks": ""
            },
            "colorscale": [
             [
              0,
              "#0d0887"
             ],
             [
              0.1111111111111111,
              "#46039f"
             ],
             [
              0.2222222222222222,
              "#7201a8"
             ],
             [
              0.3333333333333333,
              "#9c179e"
             ],
             [
              0.4444444444444444,
              "#bd3786"
             ],
             [
              0.5555555555555556,
              "#d8576b"
             ],
             [
              0.6666666666666666,
              "#ed7953"
             ],
             [
              0.7777777777777778,
              "#fb9f3a"
             ],
             [
              0.8888888888888888,
              "#fdca26"
             ],
             [
              1,
              "#f0f921"
             ]
            ],
            "type": "histogram2dcontour"
           }
          ],
          "mesh3d": [
           {
            "colorbar": {
             "outlinewidth": 0,
             "ticks": ""
            },
            "type": "mesh3d"
           }
          ],
          "parcoords": [
           {
            "line": {
             "colorbar": {
              "outlinewidth": 0,
              "ticks": ""
             }
            },
            "type": "parcoords"
           }
          ],
          "pie": [
           {
            "automargin": true,
            "type": "pie"
           }
          ],
          "scatter": [
           {
            "marker": {
             "colorbar": {
              "outlinewidth": 0,
              "ticks": ""
             }
            },
            "type": "scatter"
           }
          ],
          "scatter3d": [
           {
            "line": {
             "colorbar": {
              "outlinewidth": 0,
              "ticks": ""
             }
            },
            "marker": {
             "colorbar": {
              "outlinewidth": 0,
              "ticks": ""
             }
            },
            "type": "scatter3d"
           }
          ],
          "scattercarpet": [
           {
            "marker": {
             "colorbar": {
              "outlinewidth": 0,
              "ticks": ""
             }
            },
            "type": "scattercarpet"
           }
          ],
          "scattergeo": [
           {
            "marker": {
             "colorbar": {
              "outlinewidth": 0,
              "ticks": ""
             }
            },
            "type": "scattergeo"
           }
          ],
          "scattergl": [
           {
            "marker": {
             "colorbar": {
              "outlinewidth": 0,
              "ticks": ""
             }
            },
            "type": "scattergl"
           }
          ],
          "scattermapbox": [
           {
            "marker": {
             "colorbar": {
              "outlinewidth": 0,
              "ticks": ""
             }
            },
            "type": "scattermapbox"
           }
          ],
          "scatterpolar": [
           {
            "marker": {
             "colorbar": {
              "outlinewidth": 0,
              "ticks": ""
             }
            },
            "type": "scatterpolar"
           }
          ],
          "scatterpolargl": [
           {
            "marker": {
             "colorbar": {
              "outlinewidth": 0,
              "ticks": ""
             }
            },
            "type": "scatterpolargl"
           }
          ],
          "scatterternary": [
           {
            "marker": {
             "colorbar": {
              "outlinewidth": 0,
              "ticks": ""
             }
            },
            "type": "scatterternary"
           }
          ],
          "surface": [
           {
            "colorbar": {
             "outlinewidth": 0,
             "ticks": ""
            },
            "colorscale": [
             [
              0,
              "#0d0887"
             ],
             [
              0.1111111111111111,
              "#46039f"
             ],
             [
              0.2222222222222222,
              "#7201a8"
             ],
             [
              0.3333333333333333,
              "#9c179e"
             ],
             [
              0.4444444444444444,
              "#bd3786"
             ],
             [
              0.5555555555555556,
              "#d8576b"
             ],
             [
              0.6666666666666666,
              "#ed7953"
             ],
             [
              0.7777777777777778,
              "#fb9f3a"
             ],
             [
              0.8888888888888888,
              "#fdca26"
             ],
             [
              1,
              "#f0f921"
             ]
            ],
            "type": "surface"
           }
          ],
          "table": [
           {
            "cells": {
             "fill": {
              "color": "#EBF0F8"
             },
             "line": {
              "color": "white"
             }
            },
            "header": {
             "fill": {
              "color": "#C8D4E3"
             },
             "line": {
              "color": "white"
             }
            },
            "type": "table"
           }
          ]
         },
         "layout": {
          "annotationdefaults": {
           "arrowcolor": "#2a3f5f",
           "arrowhead": 0,
           "arrowwidth": 1
          },
          "coloraxis": {
           "colorbar": {
            "outlinewidth": 0,
            "ticks": ""
           }
          },
          "colorscale": {
           "diverging": [
            [
             0,
             "#8e0152"
            ],
            [
             0.1,
             "#c51b7d"
            ],
            [
             0.2,
             "#de77ae"
            ],
            [
             0.3,
             "#f1b6da"
            ],
            [
             0.4,
             "#fde0ef"
            ],
            [
             0.5,
             "#f7f7f7"
            ],
            [
             0.6,
             "#e6f5d0"
            ],
            [
             0.7,
             "#b8e186"
            ],
            [
             0.8,
             "#7fbc41"
            ],
            [
             0.9,
             "#4d9221"
            ],
            [
             1,
             "#276419"
            ]
           ],
           "sequential": [
            [
             0,
             "#0d0887"
            ],
            [
             0.1111111111111111,
             "#46039f"
            ],
            [
             0.2222222222222222,
             "#7201a8"
            ],
            [
             0.3333333333333333,
             "#9c179e"
            ],
            [
             0.4444444444444444,
             "#bd3786"
            ],
            [
             0.5555555555555556,
             "#d8576b"
            ],
            [
             0.6666666666666666,
             "#ed7953"
            ],
            [
             0.7777777777777778,
             "#fb9f3a"
            ],
            [
             0.8888888888888888,
             "#fdca26"
            ],
            [
             1,
             "#f0f921"
            ]
           ],
           "sequentialminus": [
            [
             0,
             "#0d0887"
            ],
            [
             0.1111111111111111,
             "#46039f"
            ],
            [
             0.2222222222222222,
             "#7201a8"
            ],
            [
             0.3333333333333333,
             "#9c179e"
            ],
            [
             0.4444444444444444,
             "#bd3786"
            ],
            [
             0.5555555555555556,
             "#d8576b"
            ],
            [
             0.6666666666666666,
             "#ed7953"
            ],
            [
             0.7777777777777778,
             "#fb9f3a"
            ],
            [
             0.8888888888888888,
             "#fdca26"
            ],
            [
             1,
             "#f0f921"
            ]
           ]
          },
          "colorway": [
           "#636efa",
           "#EF553B",
           "#00cc96",
           "#ab63fa",
           "#FFA15A",
           "#19d3f3",
           "#FF6692",
           "#B6E880",
           "#FF97FF",
           "#FECB52"
          ],
          "font": {
           "color": "#2a3f5f"
          },
          "geo": {
           "bgcolor": "white",
           "lakecolor": "white",
           "landcolor": "#E5ECF6",
           "showlakes": true,
           "showland": true,
           "subunitcolor": "white"
          },
          "hoverlabel": {
           "align": "left"
          },
          "hovermode": "closest",
          "mapbox": {
           "style": "light"
          },
          "paper_bgcolor": "white",
          "plot_bgcolor": "#E5ECF6",
          "polar": {
           "angularaxis": {
            "gridcolor": "white",
            "linecolor": "white",
            "ticks": ""
           },
           "bgcolor": "#E5ECF6",
           "radialaxis": {
            "gridcolor": "white",
            "linecolor": "white",
            "ticks": ""
           }
          },
          "scene": {
           "xaxis": {
            "backgroundcolor": "#E5ECF6",
            "gridcolor": "white",
            "gridwidth": 2,
            "linecolor": "white",
            "showbackground": true,
            "ticks": "",
            "zerolinecolor": "white"
           },
           "yaxis": {
            "backgroundcolor": "#E5ECF6",
            "gridcolor": "white",
            "gridwidth": 2,
            "linecolor": "white",
            "showbackground": true,
            "ticks": "",
            "zerolinecolor": "white"
           },
           "zaxis": {
            "backgroundcolor": "#E5ECF6",
            "gridcolor": "white",
            "gridwidth": 2,
            "linecolor": "white",
            "showbackground": true,
            "ticks": "",
            "zerolinecolor": "white"
           }
          },
          "shapedefaults": {
           "line": {
            "color": "#2a3f5f"
           }
          },
          "ternary": {
           "aaxis": {
            "gridcolor": "white",
            "linecolor": "white",
            "ticks": ""
           },
           "baxis": {
            "gridcolor": "white",
            "linecolor": "white",
            "ticks": ""
           },
           "bgcolor": "#E5ECF6",
           "caxis": {
            "gridcolor": "white",
            "linecolor": "white",
            "ticks": ""
           }
          },
          "title": {
           "x": 0.05
          },
          "xaxis": {
           "automargin": true,
           "gridcolor": "white",
           "linecolor": "white",
           "ticks": "",
           "title": {
            "standoff": 15
           },
           "zerolinecolor": "white",
           "zerolinewidth": 2
          },
          "yaxis": {
           "automargin": true,
           "gridcolor": "white",
           "linecolor": "white",
           "ticks": "",
           "title": {
            "standoff": 15
           },
           "zerolinecolor": "white",
           "zerolinewidth": 2
          }
         }
        },
        "title": {
         "text": "Personalized correlations between the wakeup glucose and dietary features from the day before",
         "x": 0.5,
         "xanchor": "center",
         "y": 0.95,
         "yanchor": "top"
        },
        "xaxis": {
         "title": {
          "text": "Dietary features"
         }
        },
        "yaxis": {
         "title": {
          "text": "RegistrationCode"
         }
        }
       }
      },
      "text/html": [
       "<div>\n",
       "        \n",
       "        \n",
       "            <div id=\"5feed639-5670-4e6d-b551-8d92980ff401\" class=\"plotly-graph-div\" style=\"height:525px; width:100%;\"></div>\n",
       "            <script type=\"text/javascript\">\n",
       "                require([\"plotly\"], function(Plotly) {\n",
       "                    window.PLOTLYENV=window.PLOTLYENV || {};\n",
       "                    \n",
       "                if (document.getElementById(\"5feed639-5670-4e6d-b551-8d92980ff401\")) {\n",
       "                    Plotly.newPlot(\n",
       "                        '5feed639-5670-4e6d-b551-8d92980ff401',\n",
       "                        [{\"hoverongaps\": false, \"type\": \"heatmap\", \"x\": [\"caffeine_mg\", \"carbohydrate_g\", \"carbs/lipids\", \"energy_kcal\", \"protein_g\", \"sodium_mg\", \"sugarstotal_g\", \"totaldietaryfiber_g\", \"totallipid_g\", \"weight\"], \"y\": [\"rc111527\", \"rc117111\", \"rc126092\", \"rc12752\", \"rc130279\", \"rc132095\", \"rc132178\", \"rc133828\", \"rc136529\", \"rc139531\", \"rc140050\", \"rc142162\", \"rc143892\", \"rc147121\", \"rc147867\", \"rc148574\", \"rc154750\", \"rc155314\", \"rc158747\", \"rc158748\", \"rc168236\", \"rc17298\", \"rc173854\", \"rc187022\", \"rc190009\", \"rc199369\", \"rc203977\", \"rc207579\", \"rc211261\", \"rc215130\", \"rc216303\", \"rc225207\", \"rc228851\", \"rc24153\", \"rc242185\", \"rc243235\", \"rc246043\", \"rc249651\", \"rc251582\", \"rc252002\", \"rc258029\", \"rc280392\", \"rc287239\", \"rc2893\", \"rc292372\", \"rc292738\", \"rc299260\", \"rc300747\", \"rc302974\", \"rc309076\", \"rc313112\", \"rc322846\", \"rc326754\", \"rc32708\", \"rc328155\", \"rc331758\", \"rc336079\", \"rc3375786\", \"rc339142\", \"rc343518\", \"rc347571\", \"rc351160\", \"rc356171\", \"rc356392\", \"rc3579890\", \"rc358113\", \"rc363101\", \"rc368667\", \"rc371755\", \"rc372475\", \"rc376789\", \"rc381034\", \"rc381094\", \"rc388245\", \"rc393528\", \"rc394693\", \"rc403032\", \"rc406329\", \"rc407703\", \"rc41275\", \"rc424661\", \"rc429455\", \"rc429763\", \"rc433346\", \"rc43647\", \"rc439484\", \"rc439864\", \"rc445179\", \"rc448705\", \"rc451959\", \"rc456910\", \"rc462007\", \"rc463455\", \"rc469047\", \"rc470856\", \"rc473811\", \"rc476133\", \"rc479878\", \"rc491836\", \"rc492806\", \"rc494678\", \"rc494901\", \"rc495288\", \"rc496680\", \"rc49674\", \"rc501757\", \"rc509553\", \"rc518788\", \"rc525994\", \"rc533401\", \"rc536037\", \"rc54400\", \"rc549830\", \"rc550818\", \"rc56031\", \"rc563437\", \"rc573718\", \"rc579543\", \"rc583231\", \"rc585490\", \"rc590916\", \"rc596834\", \"rc599101\", \"rc602810\", \"rc605764\", \"rc613617\", \"rc621142\", \"rc624435\", \"rc625103\", \"rc626391\", \"rc628781\", \"rc630920\", \"rc631485\", \"rc64952\", \"rc656660\", \"rc657584\", \"rc672766\", \"rc67951\", \"rc679548\", \"rc682027\", \"rc683035\", \"rc693878\", \"rc69789\", \"rc702207\", \"rc704171\", \"rc705938\", \"rc721061\", \"rc723796\", \"rc724901\", \"rc740203\", \"rc742096\", \"rc745073\", \"rc753413\", \"rc76307\", \"rc766836\", \"rc772380\", \"rc78283\", \"rc783563\", \"rc784057\", \"rc794434\", \"rc794542\", \"rc800808\", \"rc804157\", \"rc805227\", \"rc81477\", \"rc818980\", \"rc820101\", \"rc824245\", \"rc825349\", \"rc828334\", \"rc831208\", \"rc831919\", \"rc832748\", \"rc834183\", \"rc834851\", \"rc838820\", \"rc840825\", \"rc847993\", \"rc848164\", \"rc848368\", \"rc856766\", \"rc85854\", \"rc859286\", \"rc865727\", \"rc867514\", \"rc868780\", \"rc869485\", \"rc885039\", \"rc895129\", \"rc895596\", \"rc900460\", \"rc903238\", \"rc904671\", \"rc908190\", \"rc91050\", \"rc910720\", \"rc922039\", \"rc927011\", \"rc928786\", \"rc932700\", \"rc93282\", \"rc933765\", \"rc93928\", \"rc941542\", \"rc946729\", \"rc948714\", \"rc953534\", \"rc954295\", \"rc954766\", \"rc963150\", \"rc967551\", \"rc972181\", \"rc979162\", \"rc981727\", \"rc988899\", \"rc992638\", \"rc997427\", \"rc997735\"], \"z\": [[null, null, 0.24124322459590464, null, null, null, null, null, null, null], [null, null, null, null, null, null, null, null, null, null], [null, 0.23908736221005175, null, null, null, 0.21843605164532548, null, null, null, 0.31693144850680977], [0.436132981144565, null, null, null, null, null, null, null, null, null], [null, null, null, null, null, null, null, 0.26210594852386937, null, null], [null, null, null, null, null, -0.21667159143249037, null, null, null, null], [null, null, -0.21610392167557294, null, null, 0.2968892388078616, null, null, null, null], [null, null, null, null, null, null, null, null, null, null], [null, 0.23645955258723547, null, 0.37295872996225693, 0.26565042172140035, null, null, null, null, null], [null, null, null, null, null, null, null, null, null, null], [null, null, null, null, null, null, null, null, null, null], [null, null, null, null, null, null, null, null, null, null], [null, null, null, null, null, null, null, null, null, null], [null, 0.238617696605045, 0.269411107603549, null, null, null, null, null, null, null], [null, null, null, null, null, null, null, null, null, null], [null, null, null, null, null, null, null, null, null, null], [null, null, null, null, null, null, null, -0.31621616420472215, null, null], [null, null, null, null, null, null, null, null, null, null], [null, null, null, null, null, null, null, null, null, null], [0.3254169677165141, 0.31804500047693696, null, null, null, null, null, null, null, null], [null, null, null, null, null, null, null, null, null, null], [null, null, null, null, null, null, null, null, null, null], [null, null, null, null, null, null, null, null, null, null], [null, null, null, null, null, null, null, null, null, null], [null, null, null, null, null, null, null, null, null, null], [null, 0.3099267774610361, null, 0.2534947515833294, null, null, null, null, null, 0.2579882344312623], [null, null, null, null, null, null, null, null, null, null], [null, null, null, null, null, null, null, 0.3868233725685297, null, null], [null, null, null, null, null, null, null, null, null, null], [0.28430200822076224, 0.310580505171477, null, 0.28346038383898026, null, null, 0.29248122668390053, 0.23419993779725662, null, 0.34000493451280034], [null, null, null, 0.3639967866354581, null, 0.38299777333931173, null, null, null, 0.35886614411957407], [null, null, null, null, null, null, null, null, null, null], [null, null, null, null, null, null, null, null, null, null], [null, null, null, null, null, null, null, null, null, null], [null, null, null, null, null, null, null, null, null, null], [null, null, null, 0.33771942316436054, 0.3554251574478184, null, null, null, null, null], [0.2306322197318702, null, null, null, null, null, null, null, null, null], [null, null, null, null, null, null, null, null, null, null], [null, null, null, null, 0.26436124659261767, null, null, null, null, null], [null, null, null, null, null, null, null, null, null, null], [null, null, null, null, null, null, null, null, null, null], [null, null, null, null, null, null, null, null, null, null], [null, null, null, 0.22328240360022633, null, null, null, null, 0.2415695061870738, null], [null, null, null, 0.2836336537113665, 0.33379100295542713, null, null, null, null, null], [null, null, null, null, null, null, null, null, null, null], [null, null, null, 0.20615819393924842, null, null, null, null, null, null], [null, null, null, null, null, null, null, null, null, null], [null, null, null, null, null, -0.32196879124000477, null, null, null, null], [null, null, null, null, null, null, null, null, null, null], [0.34451698744345116, 0.3210489014984852, null, 0.3661519840216745, null, null, null, null, null, null], [null, null, null, null, null, null, null, null, null, null], [null, null, 0.2357762541524853, null, null, null, null, null, -0.24309506865610328, 0.25096125171783273], [null, null, null, null, null, null, null, null, null, null], [null, null, null, null, null, null, null, null, null, null], [null, null, null, null, null, null, null, null, null, null], [null, null, null, null, null, -0.31536884313516156, null, null, null, null], [null, null, null, null, null, null, null, null, null, null], [null, null, null, null, null, -0.3376970507113521, null, null, null, null], [null, null, null, null, null, null, null, null, null, null], [null, null, null, null, null, null, null, null, null, null], [null, null, null, null, null, null, null, null, null, null], [null, null, null, null, null, null, null, -0.4091998118312843, null, null], [null, null, null, null, null, null, null, null, null, null], [null, null, null, null, null, null, null, null, null, null], [null, null, null, null, null, null, null, null, null, null], [null, null, null, null, null, null, null, null, null, null], [null, null, null, null, null, null, null, null, null, null], [null, null, null, null, null, null, null, null, null, null], [null, null, null, null, null, null, null, null, null, null], [null, -0.37594825761393713, -0.3632281380980834, null, null, null, -0.3881278539405256, null, null, null], [null, 0.21810263280582853, null, null, null, null, null, null, null, null], [null, null, null, null, null, null, null, null, null, null], [null, null, null, null, null, null, null, null, null, 0.28147207990005885], [null, null, null, null, null, null, null, null, null, null], [null, null, null, null, null, null, null, null, null, null], [null, null, null, null, null, null, null, null, null, null], [null, null, null, null, null, null, null, null, null, null], [null, null, null, null, null, null, null, null, null, null], [null, null, null, null, null, null, null, null, null, null], [null, null, null, null, null, null, null, null, null, 0.2809480121641949], [null, null, null, null, null, null, null, null, null, null], [null, null, null, null, null, null, null, null, null, null], [null, null, null, null, null, null, null, null, null, null], [null, null, null, null, null, null, null, null, null, null], [null, null, null, null, null, null, null, null, null, null], [null, null, null, null, null, null, null, null, null, null], [null, null, null, null, null, null, null, null, null, null], [null, null, null, null, null, null, null, null, null, null], [null, null, null, null, null, null, -0.32256860580829316, null, null, null], [null, 0.3909687940991059, 0.3568762319773829, null, null, null, null, null, null, 0.3225011310446516], [null, null, null, null, null, null, null, null, null, null], [null, null, null, null, null, null, null, null, null, null], [null, null, null, null, null, null, null, null, null, null], [null, null, null, null, null, null, null, null, null, null], [null, null, null, null, null, null, null, null, null, null], [null, null, null, null, null, null, null, null, null, null], [null, null, null, null, null, null, null, null, null, null], [null, null, null, null, null, null, null, null, null, null], [null, null, null, null, null, null, null, null, null, null], [null, null, null, null, null, null, null, null, null, null], [null, null, null, null, null, 0.2910375887081209, null, null, null, null], [null, null, null, null, null, null, null, null, null, null], [null, null, null, null, null, null, null, null, null, null], [null, null, null, null, null, null, null, null, null, null], [null, null, null, null, null, null, null, null, null, null], [null, null, null, null, null, null, null, null, null, null], [null, null, null, null, null, null, null, null, null, null], [0.2103454190074789, null, null, null, null, null, null, null, null, 0.21437726912666805], [null, null, null, null, null, null, null, null, null, null], [0.31969592702449146, 0.4209305188270414, 0.30207358059347666, 0.3581449305660773, null, 0.284281909536492, null, null, null, 0.5371838246576741], [null, null, null, null, null, null, null, null, null, null], [null, null, null, null, null, null, null, null, null, null], [null, null, null, null, null, null, null, null, null, null], [null, null, null, null, null, null, null, null, null, null], [null, null, null, null, null, null, null, null, null, null], [0.25146664994720036, null, null, null, 0.2862526577044263, null, null, null, null, 0.24746698643181395], [null, null, null, null, 0.22278751435037958, null, null, null, null, null], [null, 0.25926084536734534, 0.2594422206453963, null, null, null, null, null, null, null], [null, null, null, null, null, null, null, null, null, null], [null, null, null, null, null, null, null, null, null, null], [null, null, null, null, null, null, null, null, null, null], [null, -0.2908284218596439, -0.3146010997439566, null, null, null, null, null, null, null], [null, null, null, 0.4239237437895086, null, null, null, null, 0.35736752393311316, null], [null, null, null, null, null, null, null, null, null, null], [null, null, null, null, null, null, null, null, null, null], [null, null, null, null, null, null, null, null, null, null], [null, null, null, null, null, null, null, null, null, null], [null, null, null, null, null, null, null, null, null, null], [null, null, null, null, null, null, null, null, null, null], [null, null, null, null, null, null, null, null, null, null], [null, null, null, null, null, null, null, null, null, null], [null, 0.3356368982444929, null, null, null, null, null, null, null, 0.33251534593478477], [null, null, null, null, null, null, null, -0.2436039191236973, null, null], [null, null, null, null, null, 0.2146138727428277, null, null, null, 0.2162372261522765], [0.4562453156718086, null, null, null, null, null, null, null, null, 0.42523162606459974], [null, null, null, null, null, null, null, null, null, null], [null, null, null, null, null, null, null, null, null, null], [null, null, null, null, null, null, null, null, null, null], [null, null, null, null, null, null, null, null, null, null], [null, null, null, null, null, null, null, null, null, null], [null, null, null, null, null, null, null, null, null, null], [null, null, null, null, 0.35308225911996155, null, null, null, null, null], [null, null, null, null, null, null, null, null, null, null], [null, null, null, null, null, null, null, null, null, null], [null, null, -0.3168878829838058, null, null, null, null, null, null, null], [null, null, null, null, null, null, null, null, null, null], [null, null, null, null, null, null, null, -0.3953210666411013, null, null], [null, null, null, null, null, null, null, null, null, null], [null, null, null, null, null, null, null, null, null, null], [null, null, null, null, null, null, null, null, null, null], [null, null, null, null, 0.2508785616023824, null, null, null, null, null], [0.40000757712215174, null, null, null, null, null, 0.252063144352194, null, null, 0.3198615022174573], [0.4260723738814654, 0.25391438971528923, 0.2578919044510469, null, 0.2968989707640085, 0.2584807418053608, null, null, -0.2269182653157329, 0.33893387744691705], [null, null, null, null, null, null, null, null, null, null], [null, null, null, null, null, null, null, null, null, null], [null, null, null, null, null, null, null, null, null, null], [null, null, null, null, null, null, null, null, 0.26092355597039174, null], [null, null, null, 0.33438379295261983, 0.331955945054565, 0.3672160141965131, null, null, 0.335139480708968, null], [null, null, null, null, null, null, null, null, null, -0.30662833037562764], [-0.3029886369581094, null, null, -0.2193423769946448, null, null, null, null, null, -0.22400450244258402], [null, 0.3720001905565857, null, null, null, null, null, null, null, null], [null, null, -0.31631683872758065, 0.3297185024551003, null, null, null, null, 0.4177060610399847, null], [null, null, null, null, null, null, null, null, null, null], [null, null, null, null, null, null, null, null, null, null], [null, null, null, null, 0.3205719653480848, null, null, null, null, null], [null, null, null, null, null, null, null, 0.23875658166094665, null, null], [null, null, null, 0.3662431761489573, null, null, null, null, null, null], [null, null, null, null, null, null, null, null, null, null], [null, null, null, null, null, null, null, null, null, null], [null, null, null, 0.22000276776513247, null, null, null, null, 0.21125363842998923, null], [null, null, null, null, null, null, null, null, null, null], [null, null, null, null, null, null, null, null, null, null], [null, null, null, null, null, null, null, null, null, null], [0.3488328846639351, null, null, null, null, null, 0.2621739291816268, null, null, 0.3463421120320203], [null, null, null, null, null, null, null, null, null, null], [null, null, null, null, null, null, null, null, null, null], [null, null, null, null, null, null, null, null, null, null], [null, 0.24147367893381014, null, null, null, null, null, null, null, null], [null, null, null, null, null, null, null, null, null, null], [null, null, null, null, 0.25171493766164765, null, null, null, null, null], [null, null, null, null, null, null, null, null, null, null], [null, null, null, null, null, null, null, null, null, null], [null, 0.24365315855179417, null, 0.310953055305944, null, null, null, 0.2648152414823376, null, 0.29523080541855773], [null, null, null, null, null, null, null, null, null, null], [null, null, null, null, null, null, null, null, null, null], [null, 0.22643679641439202, null, null, null, null, null, null, null, null], [null, null, null, null, null, null, null, null, null, null], [null, null, null, null, null, null, null, null, null, null], [null, 0.37401559620694996, null, 0.33296566832463637, null, null, null, null, null, null], [null, null, null, null, null, null, null, null, null, null], [null, null, null, null, null, null, null, null, null, null], [null, null, null, null, null, null, null, null, null, null], [null, null, null, null, null, null, null, -0.39309590405427386, null, null], [null, null, null, null, null, null, null, null, null, null], [null, 0.474880500838634, 0.5368623146093786, null, null, null, null, 0.30213093310631783, -0.5275802555079313, null], [null, null, null, null, null, null, null, null, null, 0.49589490968801314], [null, 0.2095583201783975, null, null, null, null, null, null, null, null], [null, null, null, null, null, null, null, null, null, null], [null, null, null, null, null, null, null, null, null, null], [null, null, null, null, null, null, null, null, null, null], [0.46564978489736714, 0.24197761874890183, null, null, null, null, 0.2507543448319024, null, null, null], [null, 0.43548234972172567, 0.3559519924936996, 0.36845331905774387, 0.25170835894359084, 0.32526260544300967, null, null, null, 0.2553671491319598], [null, null, null, null, null, null, null, null, null, null], [null, null, null, null, null, null, null, null, null, null], [null, null, null, null, null, null, null, null, null, null], [null, null, null, null, null, null, null, null, null, null], [null, null, null, null, null, null, null, null, null, null], [null, null, null, null, null, null, null, null, null, null], [null, null, -0.25695751358110663, null, null, null, null, null, 0.21066051562912794, null], [null, null, null, null, null, null, null, null, null, null], [null, null, null, null, null, null, null, null, null, null], [null, null, null, null, null, null, null, null, null, null], [null, null, null, null, null, null, null, null, null, null], [null, null, null, null, null, null, null, null, null, null], [null, null, null, null, null, null, null, null, null, null], [null, null, null, null, null, null, null, null, null, null], [null, null, null, null, null, null, null, null, null, null], [null, 0.29305824689387894, null, 0.31655990485210683, 0.22961864209795918, 0.26050582753059304, null, 0.29284483366337194, null, 0.36056801070269423]]}],\n",
       "                        {\"template\": {\"data\": {\"bar\": [{\"error_x\": {\"color\": \"#2a3f5f\"}, \"error_y\": {\"color\": \"#2a3f5f\"}, \"marker\": {\"line\": {\"color\": \"#E5ECF6\", \"width\": 0.5}}, \"type\": \"bar\"}], \"barpolar\": [{\"marker\": {\"line\": {\"color\": \"#E5ECF6\", \"width\": 0.5}}, \"type\": \"barpolar\"}], \"carpet\": [{\"aaxis\": {\"endlinecolor\": \"#2a3f5f\", \"gridcolor\": \"white\", \"linecolor\": \"white\", \"minorgridcolor\": \"white\", \"startlinecolor\": \"#2a3f5f\"}, \"baxis\": {\"endlinecolor\": \"#2a3f5f\", \"gridcolor\": \"white\", \"linecolor\": \"white\", \"minorgridcolor\": \"white\", \"startlinecolor\": \"#2a3f5f\"}, \"type\": \"carpet\"}], \"choropleth\": [{\"colorbar\": {\"outlinewidth\": 0, \"ticks\": \"\"}, \"type\": \"choropleth\"}], \"contour\": [{\"colorbar\": {\"outlinewidth\": 0, \"ticks\": \"\"}, \"colorscale\": [[0.0, \"#0d0887\"], [0.1111111111111111, \"#46039f\"], [0.2222222222222222, \"#7201a8\"], [0.3333333333333333, \"#9c179e\"], [0.4444444444444444, \"#bd3786\"], [0.5555555555555556, \"#d8576b\"], [0.6666666666666666, \"#ed7953\"], [0.7777777777777778, \"#fb9f3a\"], [0.8888888888888888, \"#fdca26\"], [1.0, \"#f0f921\"]], \"type\": \"contour\"}], \"contourcarpet\": [{\"colorbar\": {\"outlinewidth\": 0, \"ticks\": \"\"}, \"type\": \"contourcarpet\"}], \"heatmap\": [{\"colorbar\": {\"outlinewidth\": 0, \"ticks\": \"\"}, \"colorscale\": [[0.0, \"#0d0887\"], [0.1111111111111111, \"#46039f\"], [0.2222222222222222, \"#7201a8\"], [0.3333333333333333, \"#9c179e\"], [0.4444444444444444, \"#bd3786\"], [0.5555555555555556, \"#d8576b\"], [0.6666666666666666, \"#ed7953\"], [0.7777777777777778, \"#fb9f3a\"], [0.8888888888888888, \"#fdca26\"], [1.0, \"#f0f921\"]], \"type\": \"heatmap\"}], \"heatmapgl\": [{\"colorbar\": {\"outlinewidth\": 0, \"ticks\": \"\"}, \"colorscale\": [[0.0, \"#0d0887\"], [0.1111111111111111, \"#46039f\"], [0.2222222222222222, \"#7201a8\"], [0.3333333333333333, \"#9c179e\"], [0.4444444444444444, \"#bd3786\"], [0.5555555555555556, \"#d8576b\"], [0.6666666666666666, \"#ed7953\"], [0.7777777777777778, \"#fb9f3a\"], [0.8888888888888888, \"#fdca26\"], [1.0, \"#f0f921\"]], \"type\": \"heatmapgl\"}], \"histogram\": [{\"marker\": {\"colorbar\": {\"outlinewidth\": 0, \"ticks\": \"\"}}, \"type\": \"histogram\"}], \"histogram2d\": [{\"colorbar\": {\"outlinewidth\": 0, \"ticks\": \"\"}, \"colorscale\": [[0.0, \"#0d0887\"], [0.1111111111111111, \"#46039f\"], [0.2222222222222222, \"#7201a8\"], [0.3333333333333333, \"#9c179e\"], [0.4444444444444444, \"#bd3786\"], [0.5555555555555556, \"#d8576b\"], [0.6666666666666666, \"#ed7953\"], [0.7777777777777778, \"#fb9f3a\"], [0.8888888888888888, \"#fdca26\"], [1.0, \"#f0f921\"]], \"type\": \"histogram2d\"}], \"histogram2dcontour\": [{\"colorbar\": {\"outlinewidth\": 0, \"ticks\": \"\"}, \"colorscale\": [[0.0, \"#0d0887\"], [0.1111111111111111, \"#46039f\"], [0.2222222222222222, \"#7201a8\"], [0.3333333333333333, \"#9c179e\"], [0.4444444444444444, \"#bd3786\"], [0.5555555555555556, \"#d8576b\"], [0.6666666666666666, \"#ed7953\"], [0.7777777777777778, \"#fb9f3a\"], [0.8888888888888888, \"#fdca26\"], [1.0, \"#f0f921\"]], \"type\": \"histogram2dcontour\"}], \"mesh3d\": [{\"colorbar\": {\"outlinewidth\": 0, \"ticks\": \"\"}, \"type\": \"mesh3d\"}], \"parcoords\": [{\"line\": {\"colorbar\": {\"outlinewidth\": 0, \"ticks\": \"\"}}, \"type\": \"parcoords\"}], \"pie\": [{\"automargin\": true, \"type\": \"pie\"}], \"scatter\": [{\"marker\": {\"colorbar\": {\"outlinewidth\": 0, \"ticks\": \"\"}}, \"type\": \"scatter\"}], \"scatter3d\": [{\"line\": {\"colorbar\": {\"outlinewidth\": 0, \"ticks\": \"\"}}, \"marker\": {\"colorbar\": {\"outlinewidth\": 0, \"ticks\": \"\"}}, \"type\": \"scatter3d\"}], \"scattercarpet\": [{\"marker\": {\"colorbar\": {\"outlinewidth\": 0, \"ticks\": \"\"}}, \"type\": \"scattercarpet\"}], \"scattergeo\": [{\"marker\": {\"colorbar\": {\"outlinewidth\": 0, \"ticks\": \"\"}}, \"type\": \"scattergeo\"}], \"scattergl\": [{\"marker\": {\"colorbar\": {\"outlinewidth\": 0, \"ticks\": \"\"}}, \"type\": \"scattergl\"}], \"scattermapbox\": [{\"marker\": {\"colorbar\": {\"outlinewidth\": 0, \"ticks\": \"\"}}, \"type\": \"scattermapbox\"}], \"scatterpolar\": [{\"marker\": {\"colorbar\": {\"outlinewidth\": 0, \"ticks\": \"\"}}, \"type\": \"scatterpolar\"}], \"scatterpolargl\": [{\"marker\": {\"colorbar\": {\"outlinewidth\": 0, \"ticks\": \"\"}}, \"type\": \"scatterpolargl\"}], \"scatterternary\": [{\"marker\": {\"colorbar\": {\"outlinewidth\": 0, \"ticks\": \"\"}}, \"type\": \"scatterternary\"}], \"surface\": [{\"colorbar\": {\"outlinewidth\": 0, \"ticks\": \"\"}, \"colorscale\": [[0.0, \"#0d0887\"], [0.1111111111111111, \"#46039f\"], [0.2222222222222222, \"#7201a8\"], [0.3333333333333333, \"#9c179e\"], [0.4444444444444444, \"#bd3786\"], [0.5555555555555556, \"#d8576b\"], [0.6666666666666666, \"#ed7953\"], [0.7777777777777778, \"#fb9f3a\"], [0.8888888888888888, \"#fdca26\"], [1.0, \"#f0f921\"]], \"type\": \"surface\"}], \"table\": [{\"cells\": {\"fill\": {\"color\": \"#EBF0F8\"}, \"line\": {\"color\": \"white\"}}, \"header\": {\"fill\": {\"color\": \"#C8D4E3\"}, \"line\": {\"color\": \"white\"}}, \"type\": \"table\"}]}, \"layout\": {\"annotationdefaults\": {\"arrowcolor\": \"#2a3f5f\", \"arrowhead\": 0, \"arrowwidth\": 1}, \"coloraxis\": {\"colorbar\": {\"outlinewidth\": 0, \"ticks\": \"\"}}, \"colorscale\": {\"diverging\": [[0, \"#8e0152\"], [0.1, \"#c51b7d\"], [0.2, \"#de77ae\"], [0.3, \"#f1b6da\"], [0.4, \"#fde0ef\"], [0.5, \"#f7f7f7\"], [0.6, \"#e6f5d0\"], [0.7, \"#b8e186\"], [0.8, \"#7fbc41\"], [0.9, \"#4d9221\"], [1, \"#276419\"]], \"sequential\": [[0.0, \"#0d0887\"], [0.1111111111111111, \"#46039f\"], [0.2222222222222222, \"#7201a8\"], [0.3333333333333333, \"#9c179e\"], [0.4444444444444444, \"#bd3786\"], [0.5555555555555556, \"#d8576b\"], [0.6666666666666666, \"#ed7953\"], [0.7777777777777778, \"#fb9f3a\"], [0.8888888888888888, \"#fdca26\"], [1.0, \"#f0f921\"]], \"sequentialminus\": [[0.0, \"#0d0887\"], [0.1111111111111111, \"#46039f\"], [0.2222222222222222, \"#7201a8\"], [0.3333333333333333, \"#9c179e\"], [0.4444444444444444, \"#bd3786\"], [0.5555555555555556, \"#d8576b\"], [0.6666666666666666, \"#ed7953\"], [0.7777777777777778, \"#fb9f3a\"], [0.8888888888888888, \"#fdca26\"], [1.0, \"#f0f921\"]]}, \"colorway\": [\"#636efa\", \"#EF553B\", \"#00cc96\", \"#ab63fa\", \"#FFA15A\", \"#19d3f3\", \"#FF6692\", \"#B6E880\", \"#FF97FF\", \"#FECB52\"], \"font\": {\"color\": \"#2a3f5f\"}, \"geo\": {\"bgcolor\": \"white\", \"lakecolor\": \"white\", \"landcolor\": \"#E5ECF6\", \"showlakes\": true, \"showland\": true, \"subunitcolor\": \"white\"}, \"hoverlabel\": {\"align\": \"left\"}, \"hovermode\": \"closest\", \"mapbox\": {\"style\": \"light\"}, \"paper_bgcolor\": \"white\", \"plot_bgcolor\": \"#E5ECF6\", \"polar\": {\"angularaxis\": {\"gridcolor\": \"white\", \"linecolor\": \"white\", \"ticks\": \"\"}, \"bgcolor\": \"#E5ECF6\", \"radialaxis\": {\"gridcolor\": \"white\", \"linecolor\": \"white\", \"ticks\": \"\"}}, \"scene\": {\"xaxis\": {\"backgroundcolor\": \"#E5ECF6\", \"gridcolor\": \"white\", \"gridwidth\": 2, \"linecolor\": \"white\", \"showbackground\": true, \"ticks\": \"\", \"zerolinecolor\": \"white\"}, \"yaxis\": {\"backgroundcolor\": \"#E5ECF6\", \"gridcolor\": \"white\", \"gridwidth\": 2, \"linecolor\": \"white\", \"showbackground\": true, \"ticks\": \"\", \"zerolinecolor\": \"white\"}, \"zaxis\": {\"backgroundcolor\": \"#E5ECF6\", \"gridcolor\": \"white\", \"gridwidth\": 2, \"linecolor\": \"white\", \"showbackground\": true, \"ticks\": \"\", \"zerolinecolor\": \"white\"}}, \"shapedefaults\": {\"line\": {\"color\": \"#2a3f5f\"}}, \"ternary\": {\"aaxis\": {\"gridcolor\": \"white\", \"linecolor\": \"white\", \"ticks\": \"\"}, \"baxis\": {\"gridcolor\": \"white\", \"linecolor\": \"white\", \"ticks\": \"\"}, \"bgcolor\": \"#E5ECF6\", \"caxis\": {\"gridcolor\": \"white\", \"linecolor\": \"white\", \"ticks\": \"\"}}, \"title\": {\"x\": 0.05}, \"xaxis\": {\"automargin\": true, \"gridcolor\": \"white\", \"linecolor\": \"white\", \"ticks\": \"\", \"title\": {\"standoff\": 15}, \"zerolinecolor\": \"white\", \"zerolinewidth\": 2}, \"yaxis\": {\"automargin\": true, \"gridcolor\": \"white\", \"linecolor\": \"white\", \"ticks\": \"\", \"title\": {\"standoff\": 15}, \"zerolinecolor\": \"white\", \"zerolinewidth\": 2}}}, \"title\": {\"text\": \"Personalized correlations between the wakeup glucose and dietary features from the day before\", \"x\": 0.5, \"xanchor\": \"center\", \"y\": 0.95, \"yanchor\": \"top\"}, \"xaxis\": {\"title\": {\"text\": \"Dietary features\"}}, \"yaxis\": {\"title\": {\"text\": \"RegistrationCode\"}}},\n",
       "                        {\"responsive\": true}\n",
       "                    ).then(function(){\n",
       "                            \n",
       "var gd = document.getElementById('5feed639-5670-4e6d-b551-8d92980ff401');\n",
       "var x = new MutationObserver(function (mutations, observer) {{\n",
       "        var display = window.getComputedStyle(gd).display;\n",
       "        if (!display || display === 'none') {{\n",
       "            console.log([gd, 'removed!']);\n",
       "            Plotly.purge(gd);\n",
       "            observer.disconnect();\n",
       "        }}\n",
       "}});\n",
       "\n",
       "// Listen for the removal of the full notebook cells\n",
       "var notebookContainer = gd.closest('#notebook-container');\n",
       "if (notebookContainer) {{\n",
       "    x.observe(notebookContainer, {childList: true});\n",
       "}}\n",
       "\n",
       "// Listen for the clearing of the current output cell\n",
       "var outputEl = gd.closest('.output');\n",
       "if (outputEl) {{\n",
       "    x.observe(outputEl, {childList: true});\n",
       "}}\n",
       "\n",
       "                        })\n",
       "                };\n",
       "                });\n",
       "            </script>\n",
       "        </div>"
      ]
     },
     "metadata": {},
     "output_type": "display_data"
    }
   ],
   "source": [
    "import plotly.graph_objects as go\n",
    "\n",
    "fig = go.Figure(data=go.Heatmap(\n",
    "                   z=sign_corr_list,\n",
    "                   x=diet_feat_list,\n",
    "                   y=rc_list,\n",
    "                   hoverongaps = False))\n",
    "fig.update_layout(\n",
    "    title={\n",
    "        'text': \"Personalized correlations between the wakeup glucose and dietary features from the day before\",\n",
    "        'y':0.95,\n",
    "        'x':0.5,\n",
    "        'xanchor': 'center',\n",
    "        'yanchor': 'top'},\n",
    "    xaxis_title=\"Dietary features\",\n",
    "    yaxis_title=\"RegistrationCode\"\n",
    "    )\n",
    "#fig.write_html(\"/home/elming/Cache/plotly_figures/personalized_corr_pnp3.html\")\n",
    "fig.show()"
   ]
  },
  {
   "cell_type": "code",
   "execution_count": null,
   "metadata": {},
   "outputs": [],
   "source": []
  }
 ],
 "metadata": {
  "kernelspec": {
   "display_name": "Python 3",
   "language": "python",
   "name": "python3"
  },
  "language_info": {
   "codemirror_mode": {
    "name": "ipython",
    "version": 3
   },
   "file_extension": ".py",
   "mimetype": "text/x-python",
   "name": "python",
   "nbconvert_exporter": "python",
   "pygments_lexer": "ipython3",
   "version": "3.7.5"
  },
  "toc": {
   "base_numbering": 1,
   "nav_menu": {},
   "number_sections": true,
   "sideBar": true,
   "skip_h1_title": false,
   "title_cell": "Table of Contents",
   "title_sidebar": "Contents",
   "toc_cell": false,
   "toc_position": {},
   "toc_section_display": true,
   "toc_window_display": true
  },
  "varInspector": {
   "cols": {
    "lenName": 16,
    "lenType": 16,
    "lenVar": 40
   },
   "kernels_config": {
    "python": {
     "delete_cmd_postfix": "",
     "delete_cmd_prefix": "del ",
     "library": "var_list.py",
     "varRefreshCmd": "print(var_dic_list())"
    },
    "r": {
     "delete_cmd_postfix": ") ",
     "delete_cmd_prefix": "rm(",
     "library": "var_list.r",
     "varRefreshCmd": "cat(var_dic_list()) "
    }
   },
   "types_to_exclude": [
    "module",
    "function",
    "builtin_function_or_method",
    "instance",
    "_Feature"
   ],
   "window_display": false
  }
 },
 "nbformat": 4,
 "nbformat_minor": 2
}
