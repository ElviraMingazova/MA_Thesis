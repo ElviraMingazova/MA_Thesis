{
 "cells": [
  {
   "cell_type": "markdown",
   "metadata": {},
   "source": [
    "# Personalized correlations PNP3\n",
    "\n",
    " *Wake up glucose vs diet the day before*"
   ]
  },
  {
   "cell_type": "markdown",
   "metadata": {},
   "source": [
    "The idea is that wakeup glucose is not the same on different days for the same person. I want to understand if it is due to the dietal behavior the day before. Also I want to see if associations between the food in the previous day and the wakeup glucose are different for different people. PNP3 cohort is suitable for this purpose because each person had more than 100 days of CGM connections."
   ]
  },
  {
   "cell_type": "markdown",
   "metadata": {},
   "source": [
    "I have to start with computing the wakeup glucose for all the people and each day. The method is to use the time between 6 and 7 unless a person logged the food at this time. Also I have to filter out days and people who logged any food after midnight."
   ]
  },
  {
   "cell_type": "code",
   "execution_count": 1,
   "metadata": {
    "ExecuteTime": {
     "end_time": "2020-02-24T11:10:39.332183Z",
     "start_time": "2020-02-24T11:10:37.233348Z"
    }
   },
   "outputs": [],
   "source": [
    "import pandas as pd\n",
    "from LabData.DataLoaders.CGMLoader import CGMLoader\n",
    "from LabData.DataLoaders.DietLoggingLoader import DietLoggingLoader\n",
    "import datetime\n",
    "%matplotlib inline\n",
    "cgml = CGMLoader()\n",
    "dll = DietLoggingLoader()"
   ]
  },
  {
   "cell_type": "code",
   "execution_count": 2,
   "metadata": {
    "ExecuteTime": {
     "end_time": "2020-02-24T11:10:39.349690Z",
     "start_time": "2020-02-24T11:10:39.343885Z"
    }
   },
   "outputs": [],
   "source": [
    "import matplotlib.pyplot as plt\n",
    "import matplotlib\n",
    "matplotlib.style.use('ggplot')"
   ]
  },
  {
   "cell_type": "code",
   "execution_count": 3,
   "metadata": {
    "ExecuteTime": {
     "end_time": "2020-02-24T11:10:39.458769Z",
     "start_time": "2020-02-24T11:10:39.357813Z"
    }
   },
   "outputs": [],
   "source": [
    "import seaborn as sns\n",
    "from scipy.stats import pearsonr, spearmanr\n",
    "from statsmodels.stats.multitest import fdrcorrection"
   ]
  },
  {
   "cell_type": "markdown",
   "metadata": {},
   "source": [
    "## Calculating wakeup glucose"
   ]
  },
  {
   "cell_type": "markdown",
   "metadata": {},
   "source": [
    "This function will only suit for pnp3 because it involves adding adjusted glucose from a file outside LabData. "
   ]
  },
  {
   "cell_type": "code",
   "execution_count": 37,
   "metadata": {
    "ExecuteTime": {
     "end_time": "2020-02-24T12:33:02.285766Z",
     "start_time": "2020-02-24T12:33:02.252703Z"
    }
   },
   "outputs": [],
   "source": [
    "def calculate_wakeup_glucose_pnp3(time_between = [5,7], study_ids=[3,49]):    \n",
    "\n",
    "    \"\"\"Calculates wakeup glucose in the interval given in time_between \n",
    "    depending on the breakfast time\"\"\"\n",
    "    \n",
    "    # Get the cgm df and combine it with adjusted glucose \n",
    "    cgmdf = cgml.get_data(study_ids=study_ids).df\n",
    "    cgmdf = cgml._remove_first_day_of_connections(cgmdf)\n",
    "    cgmdf = cgmdf.reset_index()\n",
    "    cgmdf['hour'] = cgmdf.Date.dt.hour\n",
    "    cgmdf = cgmdf.set_index('Date')\n",
    "    cgmdf.index = cgmdf.index.tz_localize(None)\n",
    "    adj_gluc = pd.read_json('/home/elming/Cache/adj_gl.json')\n",
    "    adj_gluc['ConnectionID'] = adj_gluc['ConnectionID'].astype(str)\n",
    "    adj_gluc['GlucoseTimestamp'] = pd.to_datetime(adj_gluc['GlucoseTimestamp'])\n",
    "    adj_gluc = adj_gluc.rename(columns={'GlucoseTimestamp':'Date'})\n",
    "    adj_gluc = adj_gluc.set_index(['ConnectionID', 'Date'])\n",
    "    cgm_adj = pd.merge(cgmdf, adj_gluc['GlucoseAdj50N13_Mm'], on=['ConnectionID', 'Date'])\n",
    "    cgm_adj = cgm_adj.rename(columns={'GlucoseAdj50N13_Mm':'GlucoseAdj'})\n",
    "\n",
    "    #  Get the log df \n",
    "    log = dll.get_data(study_ids=study_ids).df\n",
    "    logdf = dll.add_nutrients(log, ['energy_kcal'])\n",
    "    logdf = dll.squeeze_log(logdf)\n",
    "    logdf = logdf.reset_index()\n",
    "    logdf['Day'] = logdf['Date'].dt.date\n",
    "    \n",
    "    # Filter out beverages with 0 kcal\n",
    "    logdf = logdf[logdf['energy_kcal'] != 0]\n",
    "    \n",
    "    # Filter out days with first meals earlier than 6 am \n",
    "    firstmeals = pd.DataFrame(logdf.groupby(['RegistrationCode', 'Day'])['Date'].first().rename('breakfast_ts'))\n",
    "    firstmeals = firstmeals[(firstmeals['breakfast_ts'].dt.time > datetime.time(6, 0, 0))]\n",
    "    \n",
    "    # Dtype handling. After groupby 'Day' is an object, but I need it to be datetime\n",
    "    firstmeals = firstmeals.reset_index('Day')\n",
    "    firstmeals['Day'] = pd.to_datetime(firstmeals['Day'])\n",
    "    firstmeals = firstmeals.set_index('Day', append=True)\n",
    "    cgm_adj['Day'] = cgm_adj.index.date\n",
    "    cgm_adj = cgm_adj.set_index(['RegistrationCode', 'Day'])\n",
    "    \n",
    "    # Get cgm and firstmeals ts in one df\n",
    "    cgm_fm = pd.merge(cgm_adj, firstmeals, on=['RegistrationCode', 'Day'])\n",
    "    \n",
    "    # Leave cgm timestamps between 5 and 7 only\n",
    "    cgm_fm = cgm_fm[(cgm_fm['hour'] >= time_between[0]) & (cgm_fm['hour'] < time_between[1])]\n",
    "    \n",
    "    # If breakfast was between 6 and 7 then wakeup glucose is a mean value between 5 and 6, otherwise between 6 and 7\n",
    "    cgm_fm = cgm_fm[((cgm_fm['hour'] == time_between[0]) & (cgm_fm['breakfast_ts'].dt.hour == time_between[0] + 1)) | \n",
    "                    ((cgm_fm['hour'] == time_between[0] + 1) & (cgm_fm['breakfast_ts'].dt.hour >= time_between[1]))]\n",
    "    wakeup_glucose = pd.DataFrame(cgm_fm.reset_index().groupby(['RegistrationCode', 'Day', 'hour'])['GlucoseAdj'].mean().rename(\n",
    "                                'wakeup_glucose'))\n",
    "    \n",
    "    return wakeup_glucose"
   ]
  },
  {
   "cell_type": "code",
   "execution_count": 38,
   "metadata": {
    "ExecuteTime": {
     "end_time": "2020-02-24T12:35:31.577371Z",
     "start_time": "2020-02-24T12:33:03.163372Z"
    }
   },
   "outputs": [],
   "source": [
    "wakeup_glucose = calculate_wakeup_glucose_pnp3()"
   ]
  },
  {
   "cell_type": "code",
   "execution_count": null,
   "metadata": {
    "ExecuteTime": {
     "end_time": "2020-02-24T12:32:50.957191Z",
     "start_time": "2020-02-24T12:30:27.322Z"
    },
    "scrolled": true
   },
   "outputs": [],
   "source": [
    "wakeup_glucose.head()"
   ]
  },
  {
   "cell_type": "markdown",
   "metadata": {},
   "source": [
    "## Wakeup glucose variability distribution"
   ]
  },
  {
   "cell_type": "code",
   "execution_count": null,
   "metadata": {
    "ExecuteTime": {
     "end_time": "2020-02-13T15:52:27.516823Z",
     "start_time": "2020-02-13T15:52:27.510831Z"
    }
   },
   "outputs": [],
   "source": [
    "def q1(x):\n",
    "    return x.quantile(0.25)\n",
    "\n",
    "def q3(x):\n",
    "    return x.quantile(0.75)\n",
    "\n",
    "def interquartile_range(x):\n",
    "    return q3(x) - q1(x)\n",
    "\n",
    "f = {'wakeup_glucose': ['median', 'std', q1,q3, interquartile_range]}"
   ]
  },
  {
   "cell_type": "code",
   "execution_count": null,
   "metadata": {
    "ExecuteTime": {
     "end_time": "2020-02-13T15:52:29.284411Z",
     "start_time": "2020-02-13T15:52:28.313696Z"
    }
   },
   "outputs": [],
   "source": [
    "morn_gluc_distr = wakeup_glucose.groupby('RegistrationCode').agg(f)"
   ]
  },
  {
   "cell_type": "code",
   "execution_count": null,
   "metadata": {
    "ExecuteTime": {
     "end_time": "2020-02-13T14:30:59.293124Z",
     "start_time": "2020-02-13T14:30:59.289203Z"
    }
   },
   "outputs": [],
   "source": [
    "morn_gluc_distr.columns = morn_gluc_distr.columns.droplevel()"
   ]
  },
  {
   "cell_type": "code",
   "execution_count": null,
   "metadata": {
    "ExecuteTime": {
     "end_time": "2020-02-13T15:52:31.661969Z",
     "start_time": "2020-02-13T15:52:31.625636Z"
    }
   },
   "outputs": [],
   "source": [
    "morn_gluc_distr.sample(10)"
   ]
  },
  {
   "cell_type": "code",
   "execution_count": null,
   "metadata": {
    "ExecuteTime": {
     "end_time": "2020-02-13T14:41:10.838261Z",
     "start_time": "2020-02-13T14:41:10.485920Z"
    }
   },
   "outputs": [],
   "source": [
    "fig = plt.figure(figsize=(7,5))\n",
    "fig.suptitle('Intrapersonal variability of the morning glucose in PNP3', fontsize=18)\n",
    "ax1 = fig.add_subplot(111)\n",
    "ax1.set_xlabel('Interquartile range')\n",
    "morn_gluc_distr['interquartile_range'].plot.hist()"
   ]
  },
  {
   "cell_type": "code",
   "execution_count": null,
   "metadata": {
    "ExecuteTime": {
     "end_time": "2020-02-13T14:42:40.526204Z",
     "start_time": "2020-02-13T14:42:40.519498Z"
    }
   },
   "outputs": [],
   "source": [
    "morn_gluc_distr['interquartile_range'].mean()"
   ]
  },
  {
   "cell_type": "markdown",
   "metadata": {},
   "source": [
    "### Todo: I should look at this values before and after the intervention and compare changes for the two diets. "
   ]
  },
  {
   "cell_type": "code",
   "execution_count": null,
   "metadata": {
    "ExecuteTime": {
     "end_time": "2020-02-13T16:04:52.257108Z",
     "start_time": "2020-02-13T16:04:52.252033Z"
    },
    "scrolled": false
   },
   "outputs": [],
   "source": [
    "wakeup_glucose.shape"
   ]
  },
  {
   "cell_type": "markdown",
   "metadata": {},
   "source": [
    "For how many days did people wear CGM sensor?"
   ]
  },
  {
   "cell_type": "code",
   "execution_count": null,
   "metadata": {
    "ExecuteTime": {
     "end_time": "2020-02-13T16:01:09.168894Z",
     "start_time": "2020-02-13T16:01:09.160731Z"
    },
    "scrolled": true
   },
   "outputs": [],
   "source": [
    "count = wakeup_glucose.groupby('RegistrationCode')['Day'].count()"
   ]
  },
  {
   "cell_type": "code",
   "execution_count": null,
   "metadata": {
    "ExecuteTime": {
     "end_time": "2020-02-13T16:01:19.556413Z",
     "start_time": "2020-02-13T16:01:19.349743Z"
    },
    "scrolled": true
   },
   "outputs": [],
   "source": [
    "count.plot.hist()"
   ]
  },
  {
   "cell_type": "markdown",
   "metadata": {},
   "source": [
    "Let's take all people with at least 50 days of  connections."
   ]
  },
  {
   "cell_type": "code",
   "execution_count": null,
   "metadata": {
    "ExecuteTime": {
     "end_time": "2020-02-13T16:03:05.576926Z",
     "start_time": "2020-02-13T16:03:05.571945Z"
    }
   },
   "outputs": [],
   "source": [
    "rc_to_keep = count[count >= 50].index"
   ]
  },
  {
   "cell_type": "code",
   "execution_count": null,
   "metadata": {
    "ExecuteTime": {
     "end_time": "2020-02-19T13:11:01.590965Z",
     "start_time": "2020-02-19T13:11:01.585877Z"
    }
   },
   "outputs": [],
   "source": [
    "len(rc_to_keep)"
   ]
  },
  {
   "cell_type": "markdown",
   "metadata": {},
   "source": [
    "We have 207 people in total."
   ]
  },
  {
   "cell_type": "markdown",
   "metadata": {},
   "source": [
    "## Leave only those people with more than 50 days of connections"
   ]
  },
  {
   "cell_type": "code",
   "execution_count": 39,
   "metadata": {
    "ExecuteTime": {
     "end_time": "2020-02-24T12:35:31.633648Z",
     "start_time": "2020-02-24T12:35:31.628508Z"
    }
   },
   "outputs": [],
   "source": [
    "def more_than_x_connection_days(wakeup_glucose_df, x=50):\n",
    "    wakeup_glucose_df = wakeup_glucose_df.reset_index()\n",
    "    count = wakeup_glucose_df.groupby('RegistrationCode')['Day'].count()\n",
    "    rc_to_keep = count[count >= 50].index\n",
    "    # wakeup_glucose = wakeup_glucose.set_index('RegistrationCode').loc[rc_to_keep]\n",
    "    wakeup_glucose_df = wakeup_glucose_df[wakeup_glucose_df['RegistrationCode'].isin(rc_to_keep)].drop(columns='hour')\n",
    "    return wakeup_glucose_df"
   ]
  },
  {
   "cell_type": "code",
   "execution_count": 40,
   "metadata": {
    "ExecuteTime": {
     "end_time": "2020-02-24T12:35:31.714331Z",
     "start_time": "2020-02-24T12:35:31.681286Z"
    }
   },
   "outputs": [],
   "source": [
    "wakeup_glucose = more_than_x_connection_days(wakeup_glucose)"
   ]
  },
  {
   "cell_type": "code",
   "execution_count": 9,
   "metadata": {
    "ExecuteTime": {
     "end_time": "2020-02-22T18:11:24.943432Z",
     "start_time": "2020-02-22T18:11:24.932485Z"
    },
    "scrolled": true
   },
   "outputs": [
    {
     "data": {
      "text/html": [
       "<div>\n",
       "<style scoped>\n",
       "    .dataframe tbody tr th:only-of-type {\n",
       "        vertical-align: middle;\n",
       "    }\n",
       "\n",
       "    .dataframe tbody tr th {\n",
       "        vertical-align: top;\n",
       "    }\n",
       "\n",
       "    .dataframe thead th {\n",
       "        text-align: right;\n",
       "    }\n",
       "</style>\n",
       "<table border=\"1\" class=\"dataframe\">\n",
       "  <thead>\n",
       "    <tr style=\"text-align: right;\">\n",
       "      <th></th>\n",
       "      <th>RegistrationCode</th>\n",
       "      <th>Day</th>\n",
       "      <th>wakeup_glucose</th>\n",
       "    </tr>\n",
       "  </thead>\n",
       "  <tbody>\n",
       "    <tr>\n",
       "      <th>0</th>\n",
       "      <td>111527</td>\n",
       "      <td>2017-11-08</td>\n",
       "      <td>103.071429</td>\n",
       "    </tr>\n",
       "    <tr>\n",
       "      <th>1</th>\n",
       "      <td>111527</td>\n",
       "      <td>2017-11-10</td>\n",
       "      <td>98.071429</td>\n",
       "    </tr>\n",
       "    <tr>\n",
       "      <th>2</th>\n",
       "      <td>111527</td>\n",
       "      <td>2017-11-11</td>\n",
       "      <td>101.321429</td>\n",
       "    </tr>\n",
       "    <tr>\n",
       "      <th>3</th>\n",
       "      <td>111527</td>\n",
       "      <td>2017-11-12</td>\n",
       "      <td>107.071429</td>\n",
       "    </tr>\n",
       "    <tr>\n",
       "      <th>4</th>\n",
       "      <td>111527</td>\n",
       "      <td>2017-11-13</td>\n",
       "      <td>106.071429</td>\n",
       "    </tr>\n",
       "  </tbody>\n",
       "</table>\n",
       "</div>"
      ],
      "text/plain": [
       "  RegistrationCode        Day  wakeup_glucose\n",
       "0           111527 2017-11-08      103.071429\n",
       "1           111527 2017-11-10       98.071429\n",
       "2           111527 2017-11-11      101.321429\n",
       "3           111527 2017-11-12      107.071429\n",
       "4           111527 2017-11-13      106.071429"
      ]
     },
     "execution_count": 9,
     "metadata": {},
     "output_type": "execute_result"
    }
   ],
   "source": [
    "wakeup_glucose.head()"
   ]
  },
  {
   "cell_type": "code",
   "execution_count": 10,
   "metadata": {
    "ExecuteTime": {
     "end_time": "2020-02-22T18:12:48.302863Z",
     "start_time": "2020-02-22T18:12:48.294901Z"
    }
   },
   "outputs": [
    {
     "data": {
      "text/plain": [
       "(25432, 3)"
      ]
     },
     "execution_count": 10,
     "metadata": {},
     "output_type": "execute_result"
    }
   ],
   "source": [
    "wakeup_glucose.shape"
   ]
  },
  {
   "cell_type": "markdown",
   "metadata": {},
   "source": [
    "## Dietary features from the day before"
   ]
  },
  {
   "cell_type": "code",
   "execution_count": 34,
   "metadata": {
    "ExecuteTime": {
     "end_time": "2020-02-23T13:04:15.532043Z",
     "start_time": "2020-02-23T13:04:15.456163Z"
    }
   },
   "outputs": [],
   "source": [
    "def prepare_data_for_corr(wg_df, nutrient_list, study_ids=[3,49], min_cal_per_day=1000, how='total_diet', daysplithours=[6,12,18]):\n",
    "    \n",
    "    \"\"\"Prepare joint df with wg and dietary features from the day before.\n",
    "    One can choose to correlate with total diet from the perevious day or with diet split into breakfast, lunch and dinner.\n",
    "    :param wg_df : wakeup_glucose DataFrame\n",
    "    :param nutrient_list: list of nutrients to select (for the full list see LabData/DataLoaders/Lists/meal_features.txt)\n",
    "                                e.g. ['energy_kcal', 'carbohydrate_g', 'protein_g', 'totallipid_g']\n",
    "                                if None, all nutrients are selected\n",
    "    :param min_cal_per_day:\n",
    "    :param how: string, can be 'total_diet' or 'split_diet'. If split_diet is passed, then the day will be split into breakfast,\n",
    "                        lunch and dinner and the nutrients will be calculated accordingly.\n",
    "    :param daysplithours: list telling how to split the day \n",
    "        \n",
    "    :return data_df with wg and dietary features to perform the correlations with\n",
    "    \"\"\" \n",
    "    carbs_cal_per_gram = 4\n",
    "    fat_cal_per_gram = 9\n",
    "    prot_cal_per_gram = 4\n",
    "    \n",
    "    log = dll.get_data(study_ids=study_ids).df\n",
    "    logdf = dll.add_nutrients(log, nutrient_list)\n",
    "    logdf = dll.squeeze_log(logdf)\n",
    "    logdf = logdf.reset_index()\n",
    "    logdf['Day'] = logdf['Date'].dt.date\n",
    "    #Identify days with good log more than min_cal_per_day\n",
    "    totaldaylog = logdf.drop(columns=['meal_type']).groupby(['RegistrationCode', 'Day']).sum()\n",
    "    totaldaylog = totaldaylog[totaldaylog['energy_kcal'] >= min_cal_per_day]\n",
    "    days_to_keep = totaldaylog.index\n",
    "    logdf = logdf.set_index(['RegistrationCode', 'Day'])\n",
    "    logdf = logdf.loc[days_to_keep]\n",
    "    \n",
    "    if how == 'total_diet':\n",
    "        # Add derived  features\n",
    "        totaldaylog['carbs/lipids'] = totaldaylog['carbohydrate_g'] / totaldaylog['totallipid_g']\n",
    "        totaldaylog['caloric%carbs'] = totaldaylog['carbohydrate_g'] * carbs_cal_per_gram / totaldaylog['energy_kcal']\n",
    "        totaldaylog['caloric%fat'] = totaldaylog['totallipid_g'] * fat_cal_per_gram / totaldaylog['energy_kcal']\n",
    "        # Change dtype to datetime for merge with wg_df\n",
    "        totaldaylog = totaldaylog.reset_index('Day')\n",
    "        totaldaylog['Day'] = pd.to_datetime(totaldaylog['Day'])\n",
    "        # Add day to the current day for merge with correct wg\n",
    "        totaldaylog['Day'] = totaldaylog['Day'] + datetime.timedelta(days=1)\n",
    "        data_for_corr = pd.merge(wg_df, totaldaylog, on=['RegistrationCode', 'Day'])\n",
    "        \n",
    "    elif how == 'split_diet':\n",
    "        logdf['alloc'] = ''\n",
    "        logdf.loc[(logdf['Date'].dt.time >= datetime.time(daysplithours[0], 0, 0)) & \n",
    "              (logdf['Date'].dt.time < datetime.time(daysplithours[1], 0, 0)),'alloc'] = 'b'\n",
    "        logdf.loc[(logdf['Date'].dt.time >= datetime.time(daysplithours[1], 0, 0)) & \n",
    "              (logdf['Date'].dt.time < datetime.time(daysplithours[2], 0, 0)),'alloc'] = 'l'\n",
    "        logdf.loc[(logdf['Date'].dt.time > datetime.time(daysplithours[2], 0, 0)),'alloc'] = 'd' \n",
    "        # We are only interested in  food between 6 and 24. Days where people logged food during the night will be out after merge with wg_df\n",
    "        logdf = logdf[logdf['alloc'] != '']\n",
    "        splitlog = logdf.reset_index().groupby(['RegistrationCode', 'Day', 'alloc']).sum()\n",
    "        splitlog = splitlog.unstack(level=-1)\n",
    "        splitlog.columns = ['_'.join(splitlog.columns[i]) for i in range(len(splitlog.columns))]\n",
    "        # Add carbs/lipids ration\n",
    "        splitlog['carbs/lipids_b'] = splitlog['carbohydrate_g_b'] / splitlog['totallipid_g_b']\n",
    "        splitlog['carbs/lipids_d'] = splitlog['carbohydrate_g_d'] / splitlog['totallipid_g_d']\n",
    "        splitlog['carbs/lipids_l'] = splitlog['carbohydrate_g_l'] / splitlog['totallipid_g_l']\n",
    "        # Change dtype to datetime for merge with wg_df        \n",
    "        splitlog = splitlog.reset_index('Day')\n",
    "        splitlog['Day'] = pd.to_datetime(splitlog['Day'])\n",
    "        # Add day to the current day for merge with correct wg\n",
    "        splitlog['Day'] = splitlog['Day'] + datetime.timedelta(days=1)\n",
    "        data_for_corr = pd.merge(wg_df, splitlog, on=['RegistrationCode', 'Day'])\n",
    "        data_for_corr = data_for_corr.fillna(0)\n",
    "        \n",
    "    data_for_corr = data_for_corr.drop(columns='Day')\n",
    "    return data_for_corr"
   ]
  },
  {
   "cell_type": "markdown",
   "metadata": {
    "ExecuteTime": {
     "end_time": "2020-02-13T15:11:00.538933Z",
     "start_time": "2020-02-13T15:11:00.445472Z"
    }
   },
   "source": [
    "Dietary features to test the correlations on:\n",
    "'alcohol_g', 'caffeine_mg', 'carbohydrate_g', 'carbs/fat', 'energy_kcal', 'protein_g', 'sodium_mg', 'sugarstotal_g', 'totaldietaryfiber_g', 'totallipid_g'"
   ]
  },
  {
   "cell_type": "code",
   "execution_count": 35,
   "metadata": {
    "ExecuteTime": {
     "end_time": "2020-02-23T13:04:19.330818Z",
     "start_time": "2020-02-23T13:04:19.321776Z"
    }
   },
   "outputs": [],
   "source": [
    "nutrient_list = ['caffeine_mg', 'carbohydrate_g', 'energy_kcal', 'protein_g', 'sodium_mg', 'sugarstotal_g', 'totaldietaryfiber_g', 'totallipid_g']"
   ]
  },
  {
   "cell_type": "code",
   "execution_count": 55,
   "metadata": {
    "ExecuteTime": {
     "end_time": "2020-02-23T14:21:35.342894Z",
     "start_time": "2020-02-23T14:21:29.700581Z"
    }
   },
   "outputs": [],
   "source": [
    "data_corr_total = prepare_data_for_corr(wakeup_glucose, nutrient_list, study_ids=[3,49], \n",
    "                                        min_cal_per_day=1000, how='total_diet', daysplithours=[6,12,18])"
   ]
  },
  {
   "cell_type": "code",
   "execution_count": 38,
   "metadata": {
    "ExecuteTime": {
     "end_time": "2020-02-23T13:05:15.278236Z",
     "start_time": "2020-02-23T13:05:03.313256Z"
    }
   },
   "outputs": [],
   "source": [
    "\n",
    "data_corr_split = prepare_data_for_corr(wakeup_glucose, nutrient_list, study_ids=[3,49], \n",
    "                                        min_cal_per_day=1000, how='split_diet', daysplithours=[6,12,18])"
   ]
  },
  {
   "cell_type": "code",
   "execution_count": 39,
   "metadata": {
    "ExecuteTime": {
     "end_time": "2020-02-23T13:05:27.575618Z",
     "start_time": "2020-02-23T13:05:27.539079Z"
    },
    "scrolled": true
   },
   "outputs": [
    {
     "data": {
      "text/html": [
       "<div>\n",
       "<style scoped>\n",
       "    .dataframe tbody tr th:only-of-type {\n",
       "        vertical-align: middle;\n",
       "    }\n",
       "\n",
       "    .dataframe tbody tr th {\n",
       "        vertical-align: top;\n",
       "    }\n",
       "\n",
       "    .dataframe thead th {\n",
       "        text-align: right;\n",
       "    }\n",
       "</style>\n",
       "<table border=\"1\" class=\"dataframe\">\n",
       "  <thead>\n",
       "    <tr style=\"text-align: right;\">\n",
       "      <th></th>\n",
       "      <th>RegistrationCode</th>\n",
       "      <th>wakeup_glucose</th>\n",
       "      <th>totaldietaryfiber_g</th>\n",
       "      <th>energy_kcal</th>\n",
       "      <th>carbohydrate_g</th>\n",
       "      <th>protein_g</th>\n",
       "      <th>totallipid_g</th>\n",
       "      <th>weight</th>\n",
       "      <th>sugarstotal_g</th>\n",
       "      <th>sodium_mg</th>\n",
       "      <th>caffeine_mg</th>\n",
       "      <th>carbs/lipids</th>\n",
       "      <th>caloric%carbs</th>\n",
       "      <th>caloric%fat</th>\n",
       "    </tr>\n",
       "  </thead>\n",
       "  <tbody>\n",
       "    <tr>\n",
       "      <th>0</th>\n",
       "      <td>111527</td>\n",
       "      <td>103.071429</td>\n",
       "      <td>12.664168</td>\n",
       "      <td>1919.71453</td>\n",
       "      <td>231.320475</td>\n",
       "      <td>73.624292</td>\n",
       "      <td>79.052895</td>\n",
       "      <td>2350.14</td>\n",
       "      <td>6.538000</td>\n",
       "      <td>2000.838539</td>\n",
       "      <td>558.00</td>\n",
       "      <td>2.926148</td>\n",
       "      <td>0.481989</td>\n",
       "      <td>0.370616</td>\n",
       "    </tr>\n",
       "    <tr>\n",
       "      <th>1</th>\n",
       "      <td>111527</td>\n",
       "      <td>98.071429</td>\n",
       "      <td>11.263018</td>\n",
       "      <td>1517.15022</td>\n",
       "      <td>194.751503</td>\n",
       "      <td>50.789459</td>\n",
       "      <td>58.201139</td>\n",
       "      <td>2135.04</td>\n",
       "      <td>6.313964</td>\n",
       "      <td>1691.501330</td>\n",
       "      <td>562.50</td>\n",
       "      <td>3.346180</td>\n",
       "      <td>0.513467</td>\n",
       "      <td>0.345259</td>\n",
       "    </tr>\n",
       "    <tr>\n",
       "      <th>2</th>\n",
       "      <td>111527</td>\n",
       "      <td>101.321429</td>\n",
       "      <td>13.546815</td>\n",
       "      <td>2087.21548</td>\n",
       "      <td>265.900131</td>\n",
       "      <td>79.098687</td>\n",
       "      <td>73.305995</td>\n",
       "      <td>2037.62</td>\n",
       "      <td>5.414400</td>\n",
       "      <td>2289.811585</td>\n",
       "      <td>328.50</td>\n",
       "      <td>3.627263</td>\n",
       "      <td>0.509579</td>\n",
       "      <td>0.316093</td>\n",
       "    </tr>\n",
       "    <tr>\n",
       "      <th>3</th>\n",
       "      <td>111527</td>\n",
       "      <td>107.071429</td>\n",
       "      <td>16.807222</td>\n",
       "      <td>1317.76292</td>\n",
       "      <td>160.317880</td>\n",
       "      <td>48.809778</td>\n",
       "      <td>44.786748</td>\n",
       "      <td>1488.03</td>\n",
       "      <td>25.698000</td>\n",
       "      <td>1862.517280</td>\n",
       "      <td>328.50</td>\n",
       "      <td>3.579583</td>\n",
       "      <td>0.486636</td>\n",
       "      <td>0.305883</td>\n",
       "    </tr>\n",
       "    <tr>\n",
       "      <th>4</th>\n",
       "      <td>111527</td>\n",
       "      <td>106.071429</td>\n",
       "      <td>12.343034</td>\n",
       "      <td>1871.10702</td>\n",
       "      <td>231.655018</td>\n",
       "      <td>78.098902</td>\n",
       "      <td>70.233976</td>\n",
       "      <td>1950.01</td>\n",
       "      <td>83.697100</td>\n",
       "      <td>3063.713740</td>\n",
       "      <td>305.22</td>\n",
       "      <td>3.298333</td>\n",
       "      <td>0.495226</td>\n",
       "      <td>0.337824</td>\n",
       "    </tr>\n",
       "  </tbody>\n",
       "</table>\n",
       "</div>"
      ],
      "text/plain": [
       "  RegistrationCode  wakeup_glucose  totaldietaryfiber_g  energy_kcal  \\\n",
       "0           111527      103.071429            12.664168   1919.71453   \n",
       "1           111527       98.071429            11.263018   1517.15022   \n",
       "2           111527      101.321429            13.546815   2087.21548   \n",
       "3           111527      107.071429            16.807222   1317.76292   \n",
       "4           111527      106.071429            12.343034   1871.10702   \n",
       "\n",
       "   carbohydrate_g  protein_g  totallipid_g   weight  sugarstotal_g  \\\n",
       "0      231.320475  73.624292     79.052895  2350.14       6.538000   \n",
       "1      194.751503  50.789459     58.201139  2135.04       6.313964   \n",
       "2      265.900131  79.098687     73.305995  2037.62       5.414400   \n",
       "3      160.317880  48.809778     44.786748  1488.03      25.698000   \n",
       "4      231.655018  78.098902     70.233976  1950.01      83.697100   \n",
       "\n",
       "     sodium_mg  caffeine_mg  carbs/lipids  caloric%carbs  caloric%fat  \n",
       "0  2000.838539       558.00      2.926148       0.481989     0.370616  \n",
       "1  1691.501330       562.50      3.346180       0.513467     0.345259  \n",
       "2  2289.811585       328.50      3.627263       0.509579     0.316093  \n",
       "3  1862.517280       328.50      3.579583       0.486636     0.305883  \n",
       "4  3063.713740       305.22      3.298333       0.495226     0.337824  "
      ]
     },
     "execution_count": 39,
     "metadata": {},
     "output_type": "execute_result"
    }
   ],
   "source": [
    "data_corr_total.head()"
   ]
  },
  {
   "cell_type": "code",
   "execution_count": null,
   "metadata": {
    "ExecuteTime": {
     "end_time": "2020-02-22T16:49:27.549776Z",
     "start_time": "2020-02-22T16:49:27.343192Z"
    },
    "scrolled": true
   },
   "outputs": [],
   "source": [
    "data_corr_total.loc['132178'].plot.scatter(x='sodium_mg', y='wakeup_glucose')"
   ]
  },
  {
   "cell_type": "markdown",
   "metadata": {},
   "source": [
    "## Correlation table"
   ]
  },
  {
   "cell_type": "markdown",
   "metadata": {},
   "source": [
    "I could also do the same for the night CV. Make function calculate_night_stats(). "
   ]
  },
  {
   "cell_type": "code",
   "execution_count": 40,
   "metadata": {
    "ExecuteTime": {
     "end_time": "2020-02-23T13:05:58.763714Z",
     "start_time": "2020-02-23T13:05:58.706723Z"
    }
   },
   "outputs": [],
   "source": [
    "def corr_wg_dietdaybefore(data_corr, method='spearman'):\n",
    "    \n",
    "    \"\"\"Calculate correlations between the wakeup glucose (WG) and the diet the day before.\n",
    "    :param method: String 'spearman' or 'pearson'\n",
    "    \n",
    "    \"\"\"\n",
    "    from scipy.stats import pearsonr, spearmanr\n",
    "    from statsmodels.stats.multitest import fdrcorrection\n",
    "    \n",
    "    means = data_corr.groupby('RegistrationCode').mean()\n",
    "    std = data_corr.groupby('RegistrationCode').std()\n",
    "    data_corr = data_corr.set_index('RegistrationCode')\n",
    "    # standartization of the values into z scores\n",
    "    for rc in data_corr.index.unique():\n",
    "        data_corr.loc[rc] = (data_corr.loc[rc] - means.loc[rc])/std.loc[rc]\n",
    "    data_corr = round(data_corr, 4)\n",
    "    statistics_df = pd.DataFrame(means.stack(level=-1))\n",
    "    # I don't want to calculate correlation between wg and itself\n",
    "#     slice_column_names = statistics_df.index.levels[-1][statistics_df.index.levels[-1] != 'wakeup_glucose']\n",
    "#     statistics_df = statistics_df.loc[(slice(None), slice_column_names), :]\n",
    "    \n",
    "    if method == 'spearman':\n",
    "        \n",
    "        statistics_df['rho'] = 0\n",
    "        statistics_df['pvalue'] = 0\n",
    "        statistics_df = statistics_df.drop(columns=0)\n",
    "\n",
    "        for rc in data_corr.index.unique():\n",
    "#             for column in data_corr.drop(columns='wakeup_glucose').columns:\n",
    "            for column in data_corr.columns:\n",
    "                spearman = spearmanr(data_corr.loc[rc]['wakeup_glucose'], data_corr.loc[rc][column])\n",
    "                statistics_df.loc[(rc, column), 'rho'] = spearman[0]\n",
    "                statistics_df.loc[(rc, column), 'pvalue'] = spearman[1]\n",
    "                \n",
    "    elif method == 'pearson':\n",
    "\n",
    "        statistics_df['rho'] = 0\n",
    "        statistics_df['pvalue'] = 0\n",
    "        statistics_df = statistics_df.drop(columns=0)\n",
    "\n",
    "        for rc in data_corr.index.unique():\n",
    "            for column in data_corr.drop(columns='wakeup_glucose').columns:\n",
    "                pearson = pearsonr(data_corr.loc[rc]['wakeup_glucose'], data_corr.loc[rc][column])\n",
    "                statistics_df.loc[(rc, column), 'rho'] = pearson[0]\n",
    "                statistics_df.loc[(rc, column), 'pvalue'] = pearson[1]\n",
    "    \n",
    "    values = {'rho': 0, 'pvalue': 1}\n",
    "    statistics_df = statistics_df.fillna(value=values)\n",
    "    # Add FDR corrected pvalues\n",
    "    pvalues = statistics_df['pvalue']\n",
    "    pvalues_corrected = pd.Series(fdrcorrection(pvalues)[1])\n",
    "    pvalues_corrected.index = statistics_df.index\n",
    "    statistics_df['pvalue_corrected'] = pvalues_corrected\n",
    "    \n",
    "    return statistics_df\n",
    "    "
   ]
  },
  {
   "cell_type": "code",
   "execution_count": 64,
   "metadata": {
    "ExecuteTime": {
     "end_time": "2020-02-23T14:24:56.798816Z",
     "start_time": "2020-02-23T14:24:46.752920Z"
    },
    "scrolled": true
   },
   "outputs": [],
   "source": [
    "corr_table_total = corr_wg_dietdaybefore(data_corr_total)"
   ]
  },
  {
   "cell_type": "code",
   "execution_count": 42,
   "metadata": {
    "ExecuteTime": {
     "end_time": "2020-02-23T13:06:56.376129Z",
     "start_time": "2020-02-23T13:06:18.055250Z"
    }
   },
   "outputs": [],
   "source": [
    "corr_table_split = corr_wg_dietdaybefore(data_corr_split)"
   ]
  },
  {
   "cell_type": "code",
   "execution_count": null,
   "metadata": {
    "ExecuteTime": {
     "end_time": "2020-02-22T17:17:15.715792Z",
     "start_time": "2020-02-22T17:17:15.709519Z"
    },
    "scrolled": false
   },
   "outputs": [],
   "source": [
    "corr_table_split.isnull().sum()"
   ]
  },
  {
   "cell_type": "code",
   "execution_count": 57,
   "metadata": {
    "ExecuteTime": {
     "end_time": "2020-02-23T14:22:09.760115Z",
     "start_time": "2020-02-23T14:22:09.740590Z"
    },
    "scrolled": true
   },
   "outputs": [
    {
     "data": {
      "text/html": [
       "<div>\n",
       "<style scoped>\n",
       "    .dataframe tbody tr th:only-of-type {\n",
       "        vertical-align: middle;\n",
       "    }\n",
       "\n",
       "    .dataframe tbody tr th {\n",
       "        vertical-align: top;\n",
       "    }\n",
       "\n",
       "    .dataframe thead th {\n",
       "        text-align: right;\n",
       "    }\n",
       "</style>\n",
       "<table border=\"1\" class=\"dataframe\">\n",
       "  <thead>\n",
       "    <tr style=\"text-align: right;\">\n",
       "      <th></th>\n",
       "      <th></th>\n",
       "      <th>rho</th>\n",
       "      <th>pvalue</th>\n",
       "      <th>pvalue_corrected</th>\n",
       "    </tr>\n",
       "    <tr>\n",
       "      <th>RegistrationCode</th>\n",
       "      <th></th>\n",
       "      <th></th>\n",
       "      <th></th>\n",
       "      <th></th>\n",
       "    </tr>\n",
       "  </thead>\n",
       "  <tbody>\n",
       "    <tr>\n",
       "      <th rowspan=\"5\" valign=\"top\">111527</th>\n",
       "      <th>wakeup_glucose</th>\n",
       "      <td>1.000000</td>\n",
       "      <td>0.000000</td>\n",
       "      <td>0.000000</td>\n",
       "    </tr>\n",
       "    <tr>\n",
       "      <th>totaldietaryfiber_g</th>\n",
       "      <td>0.014553</td>\n",
       "      <td>0.867456</td>\n",
       "      <td>0.960239</td>\n",
       "    </tr>\n",
       "    <tr>\n",
       "      <th>energy_kcal</th>\n",
       "      <td>-0.138335</td>\n",
       "      <td>0.110932</td>\n",
       "      <td>0.355152</td>\n",
       "    </tr>\n",
       "    <tr>\n",
       "      <th>carbohydrate_g</th>\n",
       "      <td>0.137657</td>\n",
       "      <td>0.112711</td>\n",
       "      <td>0.357249</td>\n",
       "    </tr>\n",
       "    <tr>\n",
       "      <th>protein_g</th>\n",
       "      <td>0.005120</td>\n",
       "      <td>0.953182</td>\n",
       "      <td>0.984650</td>\n",
       "    </tr>\n",
       "  </tbody>\n",
       "</table>\n",
       "</div>"
      ],
      "text/plain": [
       "                                           rho    pvalue  pvalue_corrected\n",
       "RegistrationCode                                                          \n",
       "111527           wakeup_glucose       1.000000  0.000000          0.000000\n",
       "                 totaldietaryfiber_g  0.014553  0.867456          0.960239\n",
       "                 energy_kcal         -0.138335  0.110932          0.355152\n",
       "                 carbohydrate_g       0.137657  0.112711          0.357249\n",
       "                 protein_g            0.005120  0.953182          0.984650"
      ]
     },
     "execution_count": 57,
     "metadata": {},
     "output_type": "execute_result"
    }
   ],
   "source": [
    "corr_table_total.head()"
   ]
  },
  {
   "cell_type": "code",
   "execution_count": 29,
   "metadata": {
    "ExecuteTime": {
     "end_time": "2020-02-23T09:53:44.961226Z",
     "start_time": "2020-02-23T09:53:44.950203Z"
    }
   },
   "outputs": [],
   "source": [
    "slice_column_names = corr_table_total.index.levels[-1][corr_table_total.index.levels[-1] != 'wakeup_glucose']\n",
    "corr_table_total = corr_table_total.loc[(slice(None), slice_column_names), :]"
   ]
  },
  {
   "cell_type": "markdown",
   "metadata": {},
   "source": [
    "Normality testing method"
   ]
  },
  {
   "cell_type": "code",
   "execution_count": null,
   "metadata": {
    "ExecuteTime": {
     "end_time": "2020-02-17T14:47:59.646891Z",
     "start_time": "2020-02-17T14:47:59.643878Z"
    }
   },
   "outputs": [],
   "source": [
    "# from numpy.random import seed\n",
    "# from numpy.random import randn\n",
    "# from scipy.stats import shapiro\n",
    "# # seed the random number generator\n",
    "# seed(1)\n",
    "# # normality test\n",
    "# for column in data.columns:\n",
    "#     stat, p = shapiro(data.loc['300747'][column])\n",
    "#     print('Statistics=%.3f, p=%.3f' % (stat, p))\n",
    "#     # interpret\n",
    "#     alpha = 0.05\n",
    "#     if p > alpha:\n",
    "#         print(column, ': Sample looks Gaussian (fail to reject H0)')\n",
    "#     else:\n",
    "#         print(column, ': Sample does not look Gaussian (reject H0)')"
   ]
  },
  {
   "cell_type": "markdown",
   "metadata": {},
   "source": [
    "In PNP3 patients probably avoided alcohol due to the diet. I should exclude this feature from the correlation analysis."
   ]
  },
  {
   "cell_type": "code",
   "execution_count": null,
   "metadata": {
    "ExecuteTime": {
     "end_time": "2020-02-20T12:50:13.538782Z",
     "start_time": "2020-02-20T12:50:12.553729Z"
    }
   },
   "outputs": [],
   "source": [
    "# spearmancorr = data_corr_total.corr(method='spearman')\n",
    "# spearmancorr"
   ]
  },
  {
   "cell_type": "code",
   "execution_count": null,
   "metadata": {
    "ExecuteTime": {
     "end_time": "2020-02-17T14:47:09.673659Z",
     "start_time": "2020-02-17T14:47:09.671099Z"
    },
    "scrolled": false
   },
   "outputs": [],
   "source": [
    "# sb.heatmap(pearsoncorr, \n",
    "#             xticklabels=pearsoncorr.columns,\n",
    "#             yticklabels=pearsoncorr.columns,\n",
    "#             cmap='RdBu_r',\n",
    "#             annot=True,\n",
    "#             linewidth=0.5)"
   ]
  },
  {
   "cell_type": "code",
   "execution_count": null,
   "metadata": {
    "ExecuteTime": {
     "end_time": "2020-02-17T09:07:39.494118Z",
     "start_time": "2020-02-17T09:07:39.487134Z"
    }
   },
   "outputs": [],
   "source": [
    "# def calculate_pvalues(df):\n",
    "#     df = df.dropna()._get_numeric_data()\n",
    "#     dfcols = pd.DataFrame(columns=df.columns)\n",
    "#     pvalues = dfcols.transpose().join(dfcols, how='outer')\n",
    "#     for r in df.columns:\n",
    "#         for c in df.columns:\n",
    "#             pvalues[r][c] = round(spearmanr(df[r], df[c])[1], 4)\n",
    "#     return pvalues\n",
    "\n",
    "# calculate_pvalues(data.loc['111527']) "
   ]
  },
  {
   "cell_type": "code",
   "execution_count": null,
   "metadata": {
    "ExecuteTime": {
     "end_time": "2020-02-22T17:21:20.356399Z",
     "start_time": "2020-02-22T17:21:20.327390Z"
    }
   },
   "outputs": [],
   "source": [
    "corr_table_split[(corr_table_split['pvalue_corrected'] < 0.05)]"
   ]
  },
  {
   "cell_type": "code",
   "execution_count": 59,
   "metadata": {
    "ExecuteTime": {
     "end_time": "2020-02-23T14:22:54.240274Z",
     "start_time": "2020-02-23T14:22:54.229494Z"
    },
    "scrolled": true
   },
   "outputs": [
    {
     "data": {
      "text/plain": [
       "(347, 3)"
      ]
     },
     "execution_count": 59,
     "metadata": {},
     "output_type": "execute_result"
    }
   ],
   "source": [
    "corr_table_total[(corr_table_total['pvalue_corrected'] < 0.05)].shape"
   ]
  },
  {
   "cell_type": "code",
   "execution_count": 60,
   "metadata": {
    "ExecuteTime": {
     "end_time": "2020-02-23T14:23:12.453832Z",
     "start_time": "2020-02-23T14:23:12.447554Z"
    }
   },
   "outputs": [
    {
     "data": {
      "text/plain": [
       "(614, 3)"
      ]
     },
     "execution_count": 60,
     "metadata": {},
     "output_type": "execute_result"
    }
   ],
   "source": [
    "corr_table_total[(corr_table_total['pvalue'] < 0.05)].shape"
   ]
  },
  {
   "cell_type": "code",
   "execution_count": 72,
   "metadata": {
    "ExecuteTime": {
     "end_time": "2020-02-23T14:32:47.244070Z",
     "start_time": "2020-02-23T14:32:47.230229Z"
    }
   },
   "outputs": [
    {
     "data": {
      "text/html": [
       "<div>\n",
       "<style scoped>\n",
       "    .dataframe tbody tr th:only-of-type {\n",
       "        vertical-align: middle;\n",
       "    }\n",
       "\n",
       "    .dataframe tbody tr th {\n",
       "        vertical-align: top;\n",
       "    }\n",
       "\n",
       "    .dataframe thead th {\n",
       "        text-align: right;\n",
       "    }\n",
       "</style>\n",
       "<table border=\"1\" class=\"dataframe\">\n",
       "  <thead>\n",
       "    <tr style=\"text-align: right;\">\n",
       "      <th></th>\n",
       "      <th></th>\n",
       "      <th>rho</th>\n",
       "      <th>pvalue</th>\n",
       "      <th>pvalue_corrected</th>\n",
       "      <th>significant</th>\n",
       "    </tr>\n",
       "    <tr>\n",
       "      <th>RegistrationCode</th>\n",
       "      <th></th>\n",
       "      <th></th>\n",
       "      <th></th>\n",
       "      <th></th>\n",
       "      <th></th>\n",
       "    </tr>\n",
       "  </thead>\n",
       "  <tbody>\n",
       "    <tr>\n",
       "      <th rowspan=\"5\" valign=\"top\">111527</th>\n",
       "      <th>wakeup_glucose</th>\n",
       "      <td>1.0</td>\n",
       "      <td>0.000000</td>\n",
       "      <td>0.000000</td>\n",
       "      <td>1</td>\n",
       "    </tr>\n",
       "    <tr>\n",
       "      <th>totaldietaryfiber_g</th>\n",
       "      <td>NaN</td>\n",
       "      <td>0.867456</td>\n",
       "      <td>0.960239</td>\n",
       "      <td>0</td>\n",
       "    </tr>\n",
       "    <tr>\n",
       "      <th>energy_kcal</th>\n",
       "      <td>NaN</td>\n",
       "      <td>0.110932</td>\n",
       "      <td>0.355152</td>\n",
       "      <td>0</td>\n",
       "    </tr>\n",
       "    <tr>\n",
       "      <th>carbohydrate_g</th>\n",
       "      <td>NaN</td>\n",
       "      <td>0.112711</td>\n",
       "      <td>0.357249</td>\n",
       "      <td>0</td>\n",
       "    </tr>\n",
       "    <tr>\n",
       "      <th>protein_g</th>\n",
       "      <td>NaN</td>\n",
       "      <td>0.953182</td>\n",
       "      <td>0.984650</td>\n",
       "      <td>0</td>\n",
       "    </tr>\n",
       "  </tbody>\n",
       "</table>\n",
       "</div>"
      ],
      "text/plain": [
       "                                      rho    pvalue  pvalue_corrected  \\\n",
       "RegistrationCode                                                        \n",
       "111527           wakeup_glucose       1.0  0.000000          0.000000   \n",
       "                 totaldietaryfiber_g  NaN  0.867456          0.960239   \n",
       "                 energy_kcal          NaN  0.110932          0.355152   \n",
       "                 carbohydrate_g       NaN  0.112711          0.357249   \n",
       "                 protein_g            NaN  0.953182          0.984650   \n",
       "\n",
       "                                      significant  \n",
       "RegistrationCode                                   \n",
       "111527           wakeup_glucose                 1  \n",
       "                 totaldietaryfiber_g            0  \n",
       "                 energy_kcal                    0  \n",
       "                 carbohydrate_g                 0  \n",
       "                 protein_g                      0  "
      ]
     },
     "execution_count": 72,
     "metadata": {},
     "output_type": "execute_result"
    }
   ],
   "source": [
    "corr_table_total.head()"
   ]
  },
  {
   "cell_type": "markdown",
   "metadata": {},
   "source": [
    "## Visualize correlations"
   ]
  },
  {
   "cell_type": "code",
   "execution_count": 76,
   "metadata": {
    "ExecuteTime": {
     "end_time": "2020-02-23T14:34:48.876102Z",
     "start_time": "2020-02-23T14:34:48.855129Z"
    }
   },
   "outputs": [],
   "source": [
    "def plot_corr_heatmap(corr_table, savefig=False, filename=None):\n",
    "    \"\"\"Handles the table with correlations and pvalues and draws a heatmap with significant coefficients\"\"\"\n",
    "        \n",
    "    import plotly.graph_objects as go\n",
    "    # Unsignificant correlations replace with None for not having them in the graph\n",
    "    corr_table['significant'] = 0\n",
    "    corr_table.loc[(corr_table['pvalue_corrected'] < 0.05),'significant'] = 1\n",
    "    corr_table.loc[(corr_table['significant'] == 0), 'rho'] = None\n",
    "    # Delete rows with wg correlations to itself\n",
    "    slice_column_names = corr_table.index.levels[-1][corr_table.index.levels[-1] != 'wakeup_glucose']\n",
    "    corr_table = corr_table.loc[(slice(None), slice_column_names), :]\n",
    "    # Prepare data for visualization\n",
    "    signif_corr = corr_table.unstack(level=-1)['rho']\n",
    "    signif_corr.columns.name = None\n",
    "    rc_list = signif_corr.index\n",
    "    rc_list = ['rc' + item for item in rc_list]\n",
    "    diet_feat_list = signif_corr.columns\n",
    "    sign_corr_list = signif_corr.values.tolist()\n",
    "\n",
    "    # Build the heatmap\n",
    "    fig = go.Figure(data=go.Heatmap(\n",
    "                       z=sign_corr_list,\n",
    "                       x=diet_feat_list,\n",
    "                       y=rc_list,\n",
    "                       hoverongaps = False))\n",
    "    fig.update_layout(\n",
    "        title={\n",
    "            'text': \"Personalized correlations between the wakeup glucose and dietary features from the day before\",\n",
    "            'y':0.95,\n",
    "            'x':0.5,\n",
    "            'xanchor': 'center',\n",
    "            'yanchor': 'top'},\n",
    "        xaxis_title=\"Dietary features\",\n",
    "        yaxis_title=\"Registration Code\"\n",
    "        )\n",
    "    fig.show()\n",
    "    \n",
    "    if savefig:\n",
    "        path = '/home/elming/Cache/plotly_figures/' + filename + '.html'\n",
    "        fig.write_html(path)\n"
   ]
  },
  {
   "cell_type": "code",
   "execution_count": 77,
   "metadata": {
    "ExecuteTime": {
     "end_time": "2020-02-23T14:35:01.250919Z",
     "start_time": "2020-02-23T14:34:51.779989Z"
    },
    "scrolled": true
   },
   "outputs": [],
   "source": [
    "corr_table_total = corr_wg_dietdaybefore(data_corr_total)"
   ]
  },
  {
   "cell_type": "code",
   "execution_count": 73,
   "metadata": {
    "ExecuteTime": {
     "end_time": "2020-02-23T14:34:02.304895Z",
     "start_time": "2020-02-23T14:33:40.714248Z"
    }
   },
   "outputs": [],
   "source": [
    "corr_table_split = corr_wg_dietdaybefore(data_corr_split)"
   ]
  },
  {
   "cell_type": "code",
   "execution_count": 78,
   "metadata": {
    "ExecuteTime": {
     "end_time": "2020-02-23T14:35:10.628533Z",
     "start_time": "2020-02-23T14:35:10.297266Z"
    },
    "collapsed": true
   },
   "outputs": [
    {
     "data": {
      "application/vnd.plotly.v1+json": {
       "config": {
        "plotlyServerURL": "https://plot.ly"
       },
       "data": [
        {
         "hoverongaps": false,
         "type": "heatmap",
         "x": [
          "totaldietaryfiber_g",
          "energy_kcal",
          "carbohydrate_g",
          "protein_g",
          "totallipid_g",
          "weight",
          "sugarstotal_g",
          "sodium_mg",
          "caffeine_mg",
          "carbs/lipids",
          "caloric%carbs",
          "caloric%fat"
         ],
         "y": [
          "rc111527",
          "rc126092",
          "rc12752",
          "rc130279",
          "rc132095",
          "rc132178",
          "rc133828",
          "rc136529",
          "rc139531",
          "rc140050",
          "rc142162",
          "rc143892",
          "rc147121",
          "rc147867",
          "rc148574",
          "rc154750",
          "rc155314",
          "rc158748",
          "rc168236",
          "rc17298",
          "rc173854",
          "rc187022",
          "rc190009",
          "rc199369",
          "rc203977",
          "rc207579",
          "rc211261",
          "rc215130",
          "rc216303",
          "rc225207",
          "rc228851",
          "rc24153",
          "rc242185",
          "rc243235",
          "rc246043",
          "rc249651",
          "rc251582",
          "rc252002",
          "rc280392",
          "rc287239",
          "rc2893",
          "rc292372",
          "rc292738",
          "rc299260",
          "rc300747",
          "rc302974",
          "rc309076",
          "rc313112",
          "rc322846",
          "rc326754",
          "rc32708",
          "rc328155",
          "rc331758",
          "rc336079",
          "rc3375786",
          "rc339142",
          "rc347571",
          "rc351160",
          "rc356171",
          "rc356392",
          "rc3579890",
          "rc358113",
          "rc363101",
          "rc368667",
          "rc371755",
          "rc372475",
          "rc376789",
          "rc381034",
          "rc381094",
          "rc388245",
          "rc393528",
          "rc394693",
          "rc403032",
          "rc406329",
          "rc407703",
          "rc41275",
          "rc424661",
          "rc429455",
          "rc429763",
          "rc433346",
          "rc43647",
          "rc439484",
          "rc439864",
          "rc445179",
          "rc448705",
          "rc451959",
          "rc456910",
          "rc462007",
          "rc463455",
          "rc469047",
          "rc470856",
          "rc476133",
          "rc479878",
          "rc491836",
          "rc492806",
          "rc494678",
          "rc494901",
          "rc495288",
          "rc496680",
          "rc49674",
          "rc501757",
          "rc509553",
          "rc518788",
          "rc525994",
          "rc533401",
          "rc536037",
          "rc54400",
          "rc549830",
          "rc550818",
          "rc56031",
          "rc563437",
          "rc573718",
          "rc579543",
          "rc583231",
          "rc585490",
          "rc590916",
          "rc596834",
          "rc599101",
          "rc602810",
          "rc605764",
          "rc613617",
          "rc621142",
          "rc624435",
          "rc625103",
          "rc626391",
          "rc628781",
          "rc630920",
          "rc631485",
          "rc64952",
          "rc656660",
          "rc657584",
          "rc67951",
          "rc679548",
          "rc682027",
          "rc683035",
          "rc693878",
          "rc69789",
          "rc702207",
          "rc704171",
          "rc705938",
          "rc721061",
          "rc723796",
          "rc724901",
          "rc740203",
          "rc742096",
          "rc745073",
          "rc753413",
          "rc76307",
          "rc766836",
          "rc772380",
          "rc78283",
          "rc783563",
          "rc784057",
          "rc794434",
          "rc794542",
          "rc800808",
          "rc804157",
          "rc805227",
          "rc81477",
          "rc818980",
          "rc820101",
          "rc824245",
          "rc825349",
          "rc828334",
          "rc831208",
          "rc831919",
          "rc832748",
          "rc834183",
          "rc834851",
          "rc838820",
          "rc840825",
          "rc847993",
          "rc848164",
          "rc848368",
          "rc85854",
          "rc859286",
          "rc865727",
          "rc867514",
          "rc868780",
          "rc869485",
          "rc885039",
          "rc895129",
          "rc895596",
          "rc900460",
          "rc903238",
          "rc904671",
          "rc908190",
          "rc91050",
          "rc922039",
          "rc927011",
          "rc932700",
          "rc93282",
          "rc933765",
          "rc93928",
          "rc941542",
          "rc946729",
          "rc948714",
          "rc954295",
          "rc954766",
          "rc963150",
          "rc967551",
          "rc972181",
          "rc979162",
          "rc981727",
          "rc988899",
          "rc992638",
          "rc997735"
         ],
         "z": [
          [
           null,
           null,
           null,
           null,
           null,
           null,
           null,
           null,
           null,
           0.24124322459590464,
           null,
           null
          ],
          [
           null,
           null,
           0.23908736221005175,
           null,
           null,
           0.31693144850680977,
           null,
           null,
           null,
           null,
           null,
           null
          ],
          [
           null,
           null,
           null,
           null,
           null,
           null,
           null,
           null,
           0.436132981144565,
           null,
           null,
           null
          ],
          [
           0.26210594852386937,
           null,
           null,
           null,
           null,
           null,
           null,
           null,
           null,
           null,
           null,
           null
          ],
          [
           null,
           null,
           null,
           null,
           null,
           null,
           null,
           null,
           null,
           null,
           null,
           null
          ],
          [
           null,
           null,
           null,
           null,
           null,
           null,
           null,
           0.2968892388078616,
           null,
           null,
           null,
           null
          ],
          [
           null,
           null,
           null,
           null,
           null,
           null,
           null,
           null,
           null,
           null,
           null,
           null
          ],
          [
           null,
           0.37295872996225693,
           null,
           0.26565042172140035,
           null,
           null,
           null,
           null,
           null,
           null,
           null,
           null
          ],
          [
           null,
           null,
           null,
           null,
           null,
           null,
           null,
           null,
           null,
           null,
           null,
           null
          ],
          [
           null,
           null,
           null,
           null,
           null,
           null,
           null,
           null,
           null,
           null,
           null,
           null
          ],
          [
           null,
           null,
           null,
           null,
           null,
           null,
           null,
           null,
           null,
           null,
           null,
           null
          ],
          [
           null,
           null,
           null,
           null,
           null,
           null,
           null,
           null,
           null,
           null,
           null,
           null
          ],
          [
           null,
           null,
           0.238617696605045,
           null,
           null,
           null,
           null,
           null,
           null,
           0.269411107603549,
           0.2739407179079278,
           -0.22446438353038722
          ],
          [
           null,
           null,
           null,
           null,
           null,
           null,
           null,
           null,
           null,
           null,
           null,
           null
          ],
          [
           null,
           null,
           null,
           null,
           null,
           null,
           null,
           null,
           null,
           null,
           null,
           null
          ],
          [
           -0.31621616420472215,
           null,
           null,
           null,
           null,
           null,
           null,
           null,
           null,
           null,
           null,
           null
          ],
          [
           null,
           null,
           null,
           null,
           null,
           null,
           null,
           null,
           null,
           null,
           null,
           null
          ],
          [
           null,
           null,
           0.31804500047693696,
           null,
           null,
           null,
           null,
           null,
           0.3254169677165141,
           null,
           0.28847482036916466,
           null
          ],
          [
           null,
           null,
           null,
           null,
           null,
           null,
           null,
           null,
           null,
           null,
           null,
           null
          ],
          [
           null,
           null,
           null,
           null,
           null,
           null,
           null,
           null,
           null,
           null,
           null,
           null
          ],
          [
           null,
           null,
           null,
           null,
           null,
           null,
           null,
           null,
           null,
           null,
           null,
           null
          ],
          [
           null,
           null,
           null,
           null,
           null,
           null,
           null,
           null,
           null,
           null,
           null,
           null
          ],
          [
           null,
           null,
           null,
           null,
           null,
           null,
           null,
           null,
           null,
           null,
           null,
           null
          ],
          [
           null,
           0.2534947515833294,
           0.3099267774610361,
           null,
           null,
           0.2579882344312623,
           null,
           null,
           null,
           null,
           null,
           null
          ],
          [
           null,
           null,
           null,
           null,
           null,
           null,
           null,
           null,
           null,
           null,
           null,
           null
          ],
          [
           0.3868233725685297,
           null,
           null,
           null,
           null,
           null,
           null,
           null,
           null,
           null,
           null,
           null
          ],
          [
           null,
           null,
           null,
           null,
           null,
           null,
           null,
           null,
           null,
           null,
           null,
           null
          ],
          [
           0.23419993779725662,
           0.28346038383898026,
           0.310580505171477,
           null,
           null,
           0.34000493451280034,
           0.29248122668390053,
           null,
           0.28430200822076224,
           null,
           null,
           null
          ],
          [
           null,
           0.3639967866354581,
           null,
           null,
           null,
           0.35886614411957407,
           null,
           0.38299777333931173,
           null,
           null,
           null,
           null
          ],
          [
           null,
           null,
           null,
           null,
           null,
           null,
           null,
           null,
           null,
           null,
           null,
           null
          ],
          [
           null,
           null,
           null,
           null,
           null,
           null,
           null,
           null,
           null,
           null,
           null,
           null
          ],
          [
           null,
           null,
           null,
           null,
           null,
           null,
           null,
           null,
           null,
           null,
           null,
           null
          ],
          [
           null,
           null,
           null,
           null,
           null,
           null,
           null,
           null,
           null,
           null,
           null,
           null
          ],
          [
           null,
           0.33771942316436054,
           null,
           0.3554251574478184,
           null,
           null,
           null,
           null,
           null,
           null,
           null,
           null
          ],
          [
           null,
           null,
           null,
           null,
           null,
           null,
           null,
           null,
           0.2306322197318702,
           null,
           null,
           null
          ],
          [
           null,
           null,
           null,
           null,
           null,
           null,
           null,
           null,
           null,
           null,
           null,
           null
          ],
          [
           null,
           null,
           null,
           0.26436124659261767,
           null,
           null,
           null,
           null,
           null,
           null,
           null,
           null
          ],
          [
           null,
           null,
           null,
           null,
           null,
           null,
           null,
           null,
           null,
           null,
           null,
           null
          ],
          [
           null,
           null,
           null,
           null,
           null,
           null,
           null,
           null,
           null,
           null,
           null,
           null
          ],
          [
           null,
           null,
           null,
           null,
           0.2415695061870738,
           null,
           null,
           null,
           null,
           null,
           null,
           null
          ],
          [
           null,
           0.2836336537113665,
           null,
           0.33379100295542713,
           null,
           null,
           null,
           null,
           null,
           null,
           null,
           null
          ],
          [
           null,
           null,
           null,
           null,
           null,
           null,
           null,
           null,
           null,
           null,
           null,
           null
          ],
          [
           null,
           null,
           null,
           null,
           null,
           null,
           null,
           null,
           null,
           null,
           null,
           null
          ],
          [
           null,
           null,
           null,
           null,
           null,
           null,
           null,
           null,
           null,
           null,
           null,
           null
          ],
          [
           null,
           null,
           null,
           null,
           null,
           null,
           null,
           -0.32196879124000477,
           null,
           null,
           null,
           null
          ],
          [
           null,
           null,
           null,
           null,
           null,
           null,
           null,
           null,
           null,
           null,
           null,
           null
          ],
          [
           null,
           0.3661519840216745,
           0.3210489014984852,
           null,
           null,
           null,
           null,
           null,
           0.34451698744345116,
           null,
           null,
           null
          ],
          [
           null,
           null,
           null,
           null,
           null,
           null,
           null,
           null,
           null,
           null,
           null,
           null
          ],
          [
           null,
           null,
           null,
           null,
           -0.24309506865610328,
           0.25096125171783273,
           null,
           null,
           null,
           0.2357762541524853,
           null,
           -0.26404836370792273
          ],
          [
           null,
           null,
           null,
           null,
           null,
           null,
           null,
           null,
           null,
           null,
           null,
           null
          ],
          [
           null,
           null,
           null,
           null,
           null,
           null,
           null,
           null,
           null,
           null,
           null,
           null
          ],
          [
           null,
           null,
           null,
           null,
           null,
           null,
           null,
           null,
           null,
           null,
           null,
           null
          ],
          [
           null,
           null,
           null,
           null,
           null,
           null,
           null,
           -0.31536884313516156,
           null,
           null,
           null,
           null
          ],
          [
           null,
           null,
           null,
           null,
           null,
           null,
           null,
           null,
           null,
           null,
           null,
           null
          ],
          [
           null,
           null,
           null,
           null,
           null,
           null,
           null,
           -0.3376970507113521,
           null,
           null,
           null,
           null
          ],
          [
           null,
           null,
           null,
           null,
           null,
           null,
           null,
           null,
           null,
           null,
           null,
           null
          ],
          [
           null,
           null,
           null,
           null,
           null,
           null,
           null,
           null,
           null,
           null,
           null,
           null
          ],
          [
           null,
           null,
           null,
           null,
           null,
           null,
           null,
           null,
           null,
           null,
           null,
           null
          ],
          [
           null,
           null,
           null,
           null,
           null,
           null,
           null,
           null,
           null,
           null,
           null,
           null
          ],
          [
           null,
           null,
           null,
           null,
           null,
           null,
           null,
           null,
           null,
           null,
           null,
           -0.26907857547791925
          ],
          [
           null,
           null,
           null,
           null,
           null,
           null,
           null,
           null,
           null,
           null,
           null,
           null
          ],
          [
           null,
           null,
           null,
           null,
           null,
           null,
           null,
           null,
           null,
           null,
           null,
           null
          ],
          [
           null,
           null,
           null,
           null,
           null,
           null,
           null,
           null,
           null,
           null,
           null,
           null
          ],
          [
           null,
           null,
           null,
           null,
           null,
           null,
           null,
           null,
           null,
           null,
           null,
           null
          ],
          [
           null,
           null,
           null,
           null,
           null,
           null,
           null,
           null,
           null,
           null,
           null,
           null
          ],
          [
           null,
           null,
           -0.37594825761393713,
           null,
           null,
           null,
           -0.3881278539405256,
           null,
           null,
           -0.3632281380980834,
           -0.3750804472623519,
           0.294596263207769
          ],
          [
           null,
           null,
           null,
           null,
           null,
           null,
           null,
           null,
           null,
           null,
           null,
           null
          ],
          [
           null,
           null,
           null,
           null,
           null,
           null,
           null,
           null,
           null,
           null,
           null,
           null
          ],
          [
           null,
           null,
           null,
           null,
           null,
           0.28147207990005885,
           null,
           null,
           null,
           null,
           null,
           null
          ],
          [
           null,
           null,
           null,
           null,
           null,
           null,
           null,
           null,
           null,
           null,
           null,
           null
          ],
          [
           null,
           null,
           null,
           null,
           null,
           null,
           null,
           null,
           null,
           null,
           null,
           null
          ],
          [
           null,
           null,
           null,
           null,
           null,
           null,
           null,
           null,
           null,
           null,
           null,
           null
          ],
          [
           null,
           null,
           null,
           null,
           null,
           null,
           null,
           null,
           null,
           null,
           null,
           null
          ],
          [
           null,
           null,
           null,
           null,
           null,
           null,
           null,
           null,
           null,
           null,
           null,
           null
          ],
          [
           null,
           null,
           null,
           null,
           null,
           null,
           null,
           null,
           null,
           null,
           null,
           null
          ],
          [
           null,
           null,
           null,
           null,
           null,
           0.2809480121641949,
           null,
           null,
           null,
           null,
           null,
           null
          ],
          [
           null,
           null,
           null,
           null,
           null,
           null,
           null,
           null,
           null,
           null,
           null,
           null
          ],
          [
           null,
           null,
           null,
           null,
           null,
           null,
           null,
           null,
           null,
           null,
           null,
           null
          ],
          [
           null,
           null,
           null,
           null,
           null,
           null,
           null,
           null,
           null,
           null,
           null,
           null
          ],
          [
           null,
           null,
           null,
           null,
           null,
           null,
           null,
           null,
           null,
           null,
           null,
           null
          ],
          [
           null,
           null,
           null,
           null,
           null,
           null,
           null,
           null,
           null,
           null,
           null,
           null
          ],
          [
           null,
           null,
           null,
           null,
           null,
           null,
           null,
           null,
           null,
           null,
           null,
           null
          ],
          [
           null,
           null,
           null,
           null,
           null,
           null,
           null,
           null,
           null,
           null,
           null,
           null
          ],
          [
           null,
           null,
           null,
           null,
           null,
           null,
           null,
           null,
           null,
           null,
           null,
           null
          ],
          [
           null,
           null,
           null,
           null,
           null,
           null,
           -0.32256860580829316,
           null,
           null,
           null,
           null,
           null
          ],
          [
           null,
           null,
           0.3909687940991059,
           null,
           null,
           0.3225011310446516,
           null,
           null,
           null,
           0.3568762319773829,
           0.33286801760547835,
           -0.32590653039605083
          ],
          [
           null,
           null,
           null,
           null,
           null,
           null,
           null,
           null,
           null,
           null,
           null,
           null
          ],
          [
           null,
           null,
           null,
           null,
           null,
           null,
           null,
           null,
           null,
           null,
           null,
           null
          ],
          [
           null,
           null,
           null,
           null,
           null,
           null,
           null,
           null,
           null,
           null,
           null,
           null
          ],
          [
           null,
           null,
           null,
           null,
           null,
           null,
           null,
           null,
           null,
           null,
           null,
           null
          ],
          [
           null,
           null,
           null,
           null,
           null,
           null,
           null,
           null,
           null,
           null,
           null,
           null
          ],
          [
           null,
           null,
           null,
           null,
           null,
           null,
           null,
           null,
           null,
           null,
           null,
           null
          ],
          [
           null,
           null,
           null,
           null,
           null,
           null,
           null,
           null,
           null,
           null,
           null,
           null
          ],
          [
           null,
           null,
           null,
           null,
           null,
           null,
           null,
           null,
           null,
           null,
           null,
           null
          ],
          [
           null,
           null,
           null,
           null,
           null,
           null,
           null,
           null,
           null,
           null,
           null,
           null
          ],
          [
           null,
           null,
           null,
           null,
           null,
           null,
           null,
           0.2910375887081209,
           null,
           null,
           null,
           null
          ],
          [
           null,
           null,
           null,
           null,
           null,
           null,
           null,
           null,
           null,
           null,
           null,
           null
          ],
          [
           null,
           null,
           null,
           null,
           null,
           null,
           null,
           null,
           null,
           null,
           null,
           null
          ],
          [
           null,
           null,
           null,
           null,
           null,
           null,
           null,
           null,
           null,
           null,
           null,
           null
          ],
          [
           null,
           null,
           null,
           null,
           null,
           null,
           null,
           null,
           null,
           null,
           null,
           null
          ],
          [
           null,
           null,
           null,
           null,
           null,
           null,
           null,
           null,
           null,
           null,
           null,
           null
          ],
          [
           null,
           null,
           null,
           null,
           null,
           null,
           null,
           null,
           null,
           null,
           null,
           null
          ],
          [
           null,
           null,
           null,
           null,
           null,
           null,
           null,
           null,
           null,
           null,
           null,
           null
          ],
          [
           null,
           null,
           null,
           null,
           null,
           null,
           null,
           null,
           null,
           null,
           null,
           null
          ],
          [
           null,
           0.3581449305660773,
           0.4209305188270414,
           null,
           null,
           0.5371838246576741,
           null,
           0.284281909536492,
           0.31969592702449146,
           0.30207358059347666,
           0.2928303125498295,
           -0.30516959047088876
          ],
          [
           null,
           null,
           null,
           null,
           null,
           null,
           null,
           null,
           null,
           null,
           null,
           null
          ],
          [
           null,
           null,
           null,
           null,
           null,
           null,
           null,
           null,
           null,
           null,
           null,
           null
          ],
          [
           null,
           null,
           null,
           null,
           null,
           null,
           null,
           null,
           null,
           null,
           null,
           null
          ],
          [
           null,
           null,
           null,
           null,
           null,
           null,
           null,
           null,
           null,
           null,
           null,
           null
          ],
          [
           null,
           null,
           null,
           null,
           null,
           null,
           null,
           null,
           null,
           null,
           null,
           null
          ],
          [
           null,
           null,
           null,
           0.2862526577044263,
           null,
           null,
           null,
           null,
           null,
           null,
           null,
           null
          ],
          [
           null,
           null,
           null,
           0.22278751435037958,
           null,
           null,
           null,
           null,
           null,
           null,
           null,
           null
          ],
          [
           null,
           null,
           null,
           null,
           null,
           null,
           null,
           null,
           null,
           null,
           0.3073907906790352,
           null
          ],
          [
           null,
           null,
           null,
           null,
           null,
           null,
           null,
           null,
           null,
           null,
           null,
           null
          ],
          [
           null,
           null,
           null,
           null,
           null,
           null,
           null,
           null,
           null,
           null,
           null,
           null
          ],
          [
           null,
           null,
           null,
           null,
           null,
           null,
           null,
           null,
           null,
           null,
           null,
           null
          ],
          [
           null,
           null,
           -0.2908284218596439,
           null,
           null,
           null,
           null,
           null,
           null,
           -0.3146010997439566,
           -0.30012182675278415,
           null
          ],
          [
           null,
           0.4239237437895086,
           null,
           null,
           null,
           null,
           null,
           null,
           null,
           null,
           null,
           null
          ],
          [
           null,
           null,
           null,
           null,
           null,
           null,
           null,
           null,
           null,
           null,
           null,
           null
          ],
          [
           null,
           null,
           null,
           null,
           null,
           null,
           null,
           null,
           null,
           null,
           null,
           null
          ],
          [
           null,
           null,
           null,
           null,
           null,
           null,
           null,
           null,
           null,
           null,
           null,
           null
          ],
          [
           null,
           null,
           null,
           null,
           null,
           null,
           null,
           null,
           null,
           null,
           null,
           null
          ],
          [
           null,
           null,
           null,
           null,
           null,
           null,
           null,
           null,
           null,
           null,
           null,
           null
          ],
          [
           null,
           null,
           null,
           null,
           null,
           null,
           null,
           null,
           null,
           null,
           null,
           null
          ],
          [
           null,
           null,
           null,
           null,
           null,
           null,
           null,
           null,
           null,
           null,
           null,
           null
          ],
          [
           null,
           null,
           null,
           null,
           null,
           null,
           null,
           null,
           null,
           null,
           null,
           null
          ],
          [
           null,
           null,
           0.3356368982444929,
           null,
           null,
           0.33251534593478477,
           null,
           null,
           null,
           null,
           null,
           null
          ],
          [
           null,
           null,
           null,
           null,
           null,
           null,
           null,
           null,
           null,
           null,
           null,
           null
          ],
          [
           null,
           null,
           null,
           null,
           null,
           0.2162372261522765,
           null,
           null,
           null,
           null,
           null,
           null
          ],
          [
           null,
           null,
           null,
           null,
           null,
           0.42523162606459974,
           null,
           null,
           0.4562453156718086,
           null,
           null,
           null
          ],
          [
           null,
           null,
           null,
           null,
           null,
           null,
           null,
           null,
           null,
           null,
           null,
           null
          ],
          [
           null,
           null,
           null,
           null,
           null,
           null,
           null,
           null,
           null,
           null,
           null,
           null
          ],
          [
           null,
           null,
           null,
           null,
           null,
           null,
           null,
           null,
           null,
           null,
           null,
           null
          ],
          [
           null,
           null,
           null,
           null,
           null,
           null,
           null,
           null,
           null,
           null,
           null,
           null
          ],
          [
           null,
           null,
           null,
           null,
           null,
           null,
           null,
           null,
           null,
           null,
           null,
           null
          ],
          [
           null,
           null,
           null,
           null,
           null,
           null,
           null,
           null,
           null,
           null,
           null,
           null
          ],
          [
           null,
           null,
           null,
           null,
           null,
           null,
           null,
           null,
           null,
           null,
           null,
           null
          ],
          [
           null,
           null,
           null,
           null,
           null,
           null,
           null,
           null,
           null,
           null,
           null,
           null
          ],
          [
           null,
           null,
           null,
           null,
           null,
           null,
           null,
           null,
           null,
           -0.3168878829838058,
           -0.3341534841083259,
           null
          ],
          [
           null,
           null,
           null,
           null,
           null,
           null,
           null,
           null,
           null,
           null,
           null,
           null
          ],
          [
           -0.3953210666411013,
           null,
           null,
           null,
           null,
           null,
           null,
           null,
           null,
           null,
           null,
           null
          ],
          [
           null,
           null,
           null,
           null,
           null,
           null,
           null,
           null,
           null,
           null,
           null,
           null
          ],
          [
           null,
           null,
           null,
           null,
           null,
           null,
           null,
           null,
           null,
           null,
           null,
           null
          ],
          [
           null,
           null,
           null,
           null,
           null,
           null,
           null,
           null,
           null,
           null,
           null,
           null
          ],
          [
           null,
           null,
           null,
           0.2508785616023824,
           null,
           null,
           null,
           null,
           null,
           null,
           null,
           null
          ],
          [
           null,
           null,
           null,
           null,
           null,
           0.3198615022174573,
           null,
           null,
           0.40000757712215174,
           null,
           null,
           null
          ],
          [
           null,
           null,
           0.25391438971528923,
           0.2968989707640085,
           null,
           0.33893387744691705,
           null,
           0.2584807418053608,
           0.4260723738814654,
           0.2578919044510469,
           null,
           -0.3142121868460469
          ],
          [
           null,
           null,
           null,
           null,
           null,
           null,
           null,
           null,
           null,
           null,
           null,
           null
          ],
          [
           null,
           null,
           null,
           null,
           null,
           null,
           null,
           null,
           null,
           null,
           null,
           null
          ],
          [
           null,
           null,
           null,
           null,
           null,
           null,
           null,
           null,
           null,
           null,
           null,
           null
          ],
          [
           null,
           null,
           null,
           null,
           0.26092355597039174,
           null,
           null,
           null,
           null,
           null,
           null,
           null
          ],
          [
           null,
           0.33438379295261983,
           null,
           0.331955945054565,
           0.335139480708968,
           null,
           null,
           0.3672160141965131,
           null,
           null,
           null,
           null
          ],
          [
           null,
           null,
           null,
           null,
           null,
           -0.30662833037562764,
           null,
           null,
           null,
           null,
           null,
           null
          ],
          [
           null,
           null,
           null,
           null,
           null,
           null,
           null,
           null,
           -0.3029886369581094,
           null,
           null,
           null
          ],
          [
           null,
           null,
           0.3720001905565857,
           null,
           null,
           null,
           null,
           null,
           null,
           null,
           0.2622433085424323,
           null
          ],
          [
           null,
           null,
           null,
           null,
           0.4177060610399847,
           null,
           null,
           null,
           null,
           null,
           null,
           0.3567723282975702
          ],
          [
           null,
           null,
           null,
           null,
           null,
           null,
           null,
           null,
           null,
           null,
           null,
           null
          ],
          [
           null,
           null,
           null,
           null,
           null,
           null,
           null,
           null,
           null,
           null,
           null,
           null
          ],
          [
           null,
           null,
           null,
           null,
           null,
           null,
           null,
           null,
           null,
           null,
           null,
           null
          ],
          [
           null,
           null,
           null,
           null,
           null,
           null,
           null,
           null,
           null,
           null,
           null,
           null
          ],
          [
           null,
           null,
           null,
           null,
           null,
           null,
           null,
           null,
           null,
           null,
           null,
           null
          ],
          [
           null,
           null,
           null,
           null,
           null,
           null,
           null,
           null,
           null,
           null,
           null,
           null
          ],
          [
           null,
           null,
           null,
           null,
           null,
           null,
           null,
           null,
           null,
           null,
           null,
           null
          ],
          [
           null,
           0.22000276776513247,
           null,
           null,
           0.21125363842998923,
           null,
           null,
           null,
           null,
           null,
           null,
           null
          ],
          [
           null,
           null,
           null,
           null,
           null,
           null,
           null,
           null,
           null,
           null,
           null,
           null
          ],
          [
           null,
           null,
           null,
           null,
           null,
           null,
           null,
           null,
           null,
           null,
           null,
           null
          ],
          [
           null,
           null,
           null,
           null,
           null,
           null,
           null,
           null,
           null,
           null,
           null,
           null
          ],
          [
           null,
           null,
           null,
           null,
           null,
           0.3463421120320203,
           null,
           null,
           0.3488328846639351,
           null,
           null,
           null
          ],
          [
           null,
           null,
           null,
           null,
           null,
           null,
           null,
           null,
           null,
           null,
           null,
           null
          ],
          [
           null,
           null,
           null,
           null,
           null,
           null,
           null,
           null,
           null,
           null,
           null,
           null
          ],
          [
           null,
           null,
           null,
           null,
           null,
           null,
           null,
           null,
           null,
           null,
           null,
           null
          ],
          [
           null,
           null,
           0.24147367893381014,
           null,
           null,
           null,
           null,
           null,
           null,
           null,
           null,
           null
          ],
          [
           null,
           null,
           null,
           null,
           null,
           null,
           null,
           null,
           null,
           null,
           null,
           null
          ],
          [
           null,
           null,
           null,
           0.25171493766164765,
           null,
           null,
           null,
           null,
           null,
           null,
           null,
           null
          ],
          [
           null,
           null,
           null,
           null,
           null,
           null,
           null,
           null,
           null,
           null,
           null,
           null
          ],
          [
           0.2648152414823376,
           0.310953055305944,
           0.24365315855179417,
           null,
           null,
           0.29523080541855773,
           null,
           null,
           null,
           null,
           null,
           null
          ],
          [
           null,
           null,
           null,
           null,
           null,
           null,
           null,
           null,
           null,
           null,
           null,
           null
          ],
          [
           null,
           null,
           null,
           null,
           null,
           null,
           null,
           null,
           null,
           null,
           null,
           null
          ],
          [
           null,
           null,
           null,
           null,
           null,
           null,
           null,
           null,
           null,
           null,
           null,
           null
          ],
          [
           null,
           null,
           null,
           null,
           null,
           null,
           null,
           null,
           null,
           null,
           null,
           null
          ],
          [
           null,
           null,
           null,
           null,
           null,
           null,
           null,
           null,
           null,
           null,
           null,
           null
          ],
          [
           null,
           0.33296566832463637,
           0.37401559620694996,
           null,
           null,
           null,
           null,
           null,
           null,
           null,
           null,
           null
          ],
          [
           null,
           null,
           null,
           null,
           null,
           null,
           null,
           null,
           null,
           null,
           null,
           null
          ],
          [
           null,
           null,
           null,
           null,
           null,
           null,
           null,
           null,
           null,
           null,
           null,
           null
          ],
          [
           null,
           null,
           null,
           null,
           null,
           null,
           null,
           null,
           null,
           null,
           null,
           null
          ],
          [
           null,
           null,
           null,
           null,
           null,
           null,
           null,
           null,
           null,
           null,
           null,
           null
          ],
          [
           null,
           null,
           null,
           null,
           null,
           null,
           null,
           null,
           null,
           null,
           null,
           null
          ],
          [
           0.30213093310631783,
           null,
           0.474880500838634,
           null,
           -0.5275802555079313,
           null,
           null,
           null,
           null,
           0.5368623146093786,
           0.5208786730185565,
           -0.5750757761173417
          ],
          [
           null,
           null,
           null,
           null,
           null,
           null,
           null,
           null,
           null,
           null,
           null,
           null
          ],
          [
           null,
           null,
           null,
           null,
           null,
           null,
           null,
           null,
           null,
           null,
           null,
           null
          ],
          [
           null,
           null,
           null,
           null,
           null,
           null,
           null,
           null,
           null,
           null,
           null,
           null
          ],
          [
           null,
           null,
           null,
           null,
           null,
           null,
           null,
           null,
           0.46564978489736714,
           null,
           null,
           null
          ],
          [
           null,
           0.36845331905774387,
           0.43548234972172567,
           0.25170835894359084,
           null,
           0.2553671491319598,
           null,
           0.32526260544300967,
           null,
           0.3559519924936996,
           0.31566609265323653,
           -0.30668161544444633
          ],
          [
           null,
           null,
           null,
           null,
           null,
           null,
           null,
           null,
           null,
           null,
           null,
           null
          ],
          [
           null,
           null,
           null,
           null,
           null,
           null,
           null,
           null,
           null,
           null,
           null,
           null
          ],
          [
           null,
           null,
           null,
           null,
           null,
           null,
           null,
           null,
           null,
           null,
           null,
           null
          ],
          [
           null,
           null,
           null,
           null,
           null,
           null,
           null,
           null,
           null,
           null,
           null,
           null
          ],
          [
           null,
           null,
           null,
           null,
           null,
           null,
           null,
           null,
           null,
           null,
           null,
           null
          ],
          [
           null,
           null,
           null,
           null,
           null,
           null,
           null,
           null,
           null,
           -0.25695751358110663,
           -0.27282637002774424,
           0.2295685803766449
          ],
          [
           null,
           null,
           null,
           null,
           null,
           null,
           null,
           null,
           null,
           null,
           null,
           null
          ],
          [
           null,
           null,
           null,
           null,
           null,
           null,
           null,
           null,
           null,
           null,
           null,
           null
          ],
          [
           null,
           null,
           null,
           null,
           null,
           null,
           null,
           null,
           null,
           null,
           null,
           null
          ],
          [
           null,
           null,
           null,
           null,
           null,
           null,
           null,
           null,
           null,
           null,
           null,
           null
          ],
          [
           null,
           null,
           null,
           null,
           null,
           null,
           null,
           null,
           null,
           null,
           null,
           null
          ],
          [
           null,
           null,
           null,
           null,
           null,
           null,
           null,
           null,
           null,
           null,
           null,
           null
          ],
          [
           null,
           null,
           null,
           null,
           null,
           null,
           null,
           null,
           null,
           null,
           null,
           null
          ],
          [
           0.29284483366337194,
           0.31655990485210683,
           0.29305824689387894,
           null,
           null,
           0.36056801070269423,
           null,
           0.26050582753059304,
           null,
           null,
           null,
           null
          ]
         ]
        }
       ],
       "layout": {
        "template": {
         "data": {
          "bar": [
           {
            "error_x": {
             "color": "#2a3f5f"
            },
            "error_y": {
             "color": "#2a3f5f"
            },
            "marker": {
             "line": {
              "color": "#E5ECF6",
              "width": 0.5
             }
            },
            "type": "bar"
           }
          ],
          "barpolar": [
           {
            "marker": {
             "line": {
              "color": "#E5ECF6",
              "width": 0.5
             }
            },
            "type": "barpolar"
           }
          ],
          "carpet": [
           {
            "aaxis": {
             "endlinecolor": "#2a3f5f",
             "gridcolor": "white",
             "linecolor": "white",
             "minorgridcolor": "white",
             "startlinecolor": "#2a3f5f"
            },
            "baxis": {
             "endlinecolor": "#2a3f5f",
             "gridcolor": "white",
             "linecolor": "white",
             "minorgridcolor": "white",
             "startlinecolor": "#2a3f5f"
            },
            "type": "carpet"
           }
          ],
          "choropleth": [
           {
            "colorbar": {
             "outlinewidth": 0,
             "ticks": ""
            },
            "type": "choropleth"
           }
          ],
          "contour": [
           {
            "colorbar": {
             "outlinewidth": 0,
             "ticks": ""
            },
            "colorscale": [
             [
              0,
              "#0d0887"
             ],
             [
              0.1111111111111111,
              "#46039f"
             ],
             [
              0.2222222222222222,
              "#7201a8"
             ],
             [
              0.3333333333333333,
              "#9c179e"
             ],
             [
              0.4444444444444444,
              "#bd3786"
             ],
             [
              0.5555555555555556,
              "#d8576b"
             ],
             [
              0.6666666666666666,
              "#ed7953"
             ],
             [
              0.7777777777777778,
              "#fb9f3a"
             ],
             [
              0.8888888888888888,
              "#fdca26"
             ],
             [
              1,
              "#f0f921"
             ]
            ],
            "type": "contour"
           }
          ],
          "contourcarpet": [
           {
            "colorbar": {
             "outlinewidth": 0,
             "ticks": ""
            },
            "type": "contourcarpet"
           }
          ],
          "heatmap": [
           {
            "colorbar": {
             "outlinewidth": 0,
             "ticks": ""
            },
            "colorscale": [
             [
              0,
              "#0d0887"
             ],
             [
              0.1111111111111111,
              "#46039f"
             ],
             [
              0.2222222222222222,
              "#7201a8"
             ],
             [
              0.3333333333333333,
              "#9c179e"
             ],
             [
              0.4444444444444444,
              "#bd3786"
             ],
             [
              0.5555555555555556,
              "#d8576b"
             ],
             [
              0.6666666666666666,
              "#ed7953"
             ],
             [
              0.7777777777777778,
              "#fb9f3a"
             ],
             [
              0.8888888888888888,
              "#fdca26"
             ],
             [
              1,
              "#f0f921"
             ]
            ],
            "type": "heatmap"
           }
          ],
          "heatmapgl": [
           {
            "colorbar": {
             "outlinewidth": 0,
             "ticks": ""
            },
            "colorscale": [
             [
              0,
              "#0d0887"
             ],
             [
              0.1111111111111111,
              "#46039f"
             ],
             [
              0.2222222222222222,
              "#7201a8"
             ],
             [
              0.3333333333333333,
              "#9c179e"
             ],
             [
              0.4444444444444444,
              "#bd3786"
             ],
             [
              0.5555555555555556,
              "#d8576b"
             ],
             [
              0.6666666666666666,
              "#ed7953"
             ],
             [
              0.7777777777777778,
              "#fb9f3a"
             ],
             [
              0.8888888888888888,
              "#fdca26"
             ],
             [
              1,
              "#f0f921"
             ]
            ],
            "type": "heatmapgl"
           }
          ],
          "histogram": [
           {
            "marker": {
             "colorbar": {
              "outlinewidth": 0,
              "ticks": ""
             }
            },
            "type": "histogram"
           }
          ],
          "histogram2d": [
           {
            "colorbar": {
             "outlinewidth": 0,
             "ticks": ""
            },
            "colorscale": [
             [
              0,
              "#0d0887"
             ],
             [
              0.1111111111111111,
              "#46039f"
             ],
             [
              0.2222222222222222,
              "#7201a8"
             ],
             [
              0.3333333333333333,
              "#9c179e"
             ],
             [
              0.4444444444444444,
              "#bd3786"
             ],
             [
              0.5555555555555556,
              "#d8576b"
             ],
             [
              0.6666666666666666,
              "#ed7953"
             ],
             [
              0.7777777777777778,
              "#fb9f3a"
             ],
             [
              0.8888888888888888,
              "#fdca26"
             ],
             [
              1,
              "#f0f921"
             ]
            ],
            "type": "histogram2d"
           }
          ],
          "histogram2dcontour": [
           {
            "colorbar": {
             "outlinewidth": 0,
             "ticks": ""
            },
            "colorscale": [
             [
              0,
              "#0d0887"
             ],
             [
              0.1111111111111111,
              "#46039f"
             ],
             [
              0.2222222222222222,
              "#7201a8"
             ],
             [
              0.3333333333333333,
              "#9c179e"
             ],
             [
              0.4444444444444444,
              "#bd3786"
             ],
             [
              0.5555555555555556,
              "#d8576b"
             ],
             [
              0.6666666666666666,
              "#ed7953"
             ],
             [
              0.7777777777777778,
              "#fb9f3a"
             ],
             [
              0.8888888888888888,
              "#fdca26"
             ],
             [
              1,
              "#f0f921"
             ]
            ],
            "type": "histogram2dcontour"
           }
          ],
          "mesh3d": [
           {
            "colorbar": {
             "outlinewidth": 0,
             "ticks": ""
            },
            "type": "mesh3d"
           }
          ],
          "parcoords": [
           {
            "line": {
             "colorbar": {
              "outlinewidth": 0,
              "ticks": ""
             }
            },
            "type": "parcoords"
           }
          ],
          "pie": [
           {
            "automargin": true,
            "type": "pie"
           }
          ],
          "scatter": [
           {
            "marker": {
             "colorbar": {
              "outlinewidth": 0,
              "ticks": ""
             }
            },
            "type": "scatter"
           }
          ],
          "scatter3d": [
           {
            "line": {
             "colorbar": {
              "outlinewidth": 0,
              "ticks": ""
             }
            },
            "marker": {
             "colorbar": {
              "outlinewidth": 0,
              "ticks": ""
             }
            },
            "type": "scatter3d"
           }
          ],
          "scattercarpet": [
           {
            "marker": {
             "colorbar": {
              "outlinewidth": 0,
              "ticks": ""
             }
            },
            "type": "scattercarpet"
           }
          ],
          "scattergeo": [
           {
            "marker": {
             "colorbar": {
              "outlinewidth": 0,
              "ticks": ""
             }
            },
            "type": "scattergeo"
           }
          ],
          "scattergl": [
           {
            "marker": {
             "colorbar": {
              "outlinewidth": 0,
              "ticks": ""
             }
            },
            "type": "scattergl"
           }
          ],
          "scattermapbox": [
           {
            "marker": {
             "colorbar": {
              "outlinewidth": 0,
              "ticks": ""
             }
            },
            "type": "scattermapbox"
           }
          ],
          "scatterpolar": [
           {
            "marker": {
             "colorbar": {
              "outlinewidth": 0,
              "ticks": ""
             }
            },
            "type": "scatterpolar"
           }
          ],
          "scatterpolargl": [
           {
            "marker": {
             "colorbar": {
              "outlinewidth": 0,
              "ticks": ""
             }
            },
            "type": "scatterpolargl"
           }
          ],
          "scatterternary": [
           {
            "marker": {
             "colorbar": {
              "outlinewidth": 0,
              "ticks": ""
             }
            },
            "type": "scatterternary"
           }
          ],
          "surface": [
           {
            "colorbar": {
             "outlinewidth": 0,
             "ticks": ""
            },
            "colorscale": [
             [
              0,
              "#0d0887"
             ],
             [
              0.1111111111111111,
              "#46039f"
             ],
             [
              0.2222222222222222,
              "#7201a8"
             ],
             [
              0.3333333333333333,
              "#9c179e"
             ],
             [
              0.4444444444444444,
              "#bd3786"
             ],
             [
              0.5555555555555556,
              "#d8576b"
             ],
             [
              0.6666666666666666,
              "#ed7953"
             ],
             [
              0.7777777777777778,
              "#fb9f3a"
             ],
             [
              0.8888888888888888,
              "#fdca26"
             ],
             [
              1,
              "#f0f921"
             ]
            ],
            "type": "surface"
           }
          ],
          "table": [
           {
            "cells": {
             "fill": {
              "color": "#EBF0F8"
             },
             "line": {
              "color": "white"
             }
            },
            "header": {
             "fill": {
              "color": "#C8D4E3"
             },
             "line": {
              "color": "white"
             }
            },
            "type": "table"
           }
          ]
         },
         "layout": {
          "annotationdefaults": {
           "arrowcolor": "#2a3f5f",
           "arrowhead": 0,
           "arrowwidth": 1
          },
          "coloraxis": {
           "colorbar": {
            "outlinewidth": 0,
            "ticks": ""
           }
          },
          "colorscale": {
           "diverging": [
            [
             0,
             "#8e0152"
            ],
            [
             0.1,
             "#c51b7d"
            ],
            [
             0.2,
             "#de77ae"
            ],
            [
             0.3,
             "#f1b6da"
            ],
            [
             0.4,
             "#fde0ef"
            ],
            [
             0.5,
             "#f7f7f7"
            ],
            [
             0.6,
             "#e6f5d0"
            ],
            [
             0.7,
             "#b8e186"
            ],
            [
             0.8,
             "#7fbc41"
            ],
            [
             0.9,
             "#4d9221"
            ],
            [
             1,
             "#276419"
            ]
           ],
           "sequential": [
            [
             0,
             "#0d0887"
            ],
            [
             0.1111111111111111,
             "#46039f"
            ],
            [
             0.2222222222222222,
             "#7201a8"
            ],
            [
             0.3333333333333333,
             "#9c179e"
            ],
            [
             0.4444444444444444,
             "#bd3786"
            ],
            [
             0.5555555555555556,
             "#d8576b"
            ],
            [
             0.6666666666666666,
             "#ed7953"
            ],
            [
             0.7777777777777778,
             "#fb9f3a"
            ],
            [
             0.8888888888888888,
             "#fdca26"
            ],
            [
             1,
             "#f0f921"
            ]
           ],
           "sequentialminus": [
            [
             0,
             "#0d0887"
            ],
            [
             0.1111111111111111,
             "#46039f"
            ],
            [
             0.2222222222222222,
             "#7201a8"
            ],
            [
             0.3333333333333333,
             "#9c179e"
            ],
            [
             0.4444444444444444,
             "#bd3786"
            ],
            [
             0.5555555555555556,
             "#d8576b"
            ],
            [
             0.6666666666666666,
             "#ed7953"
            ],
            [
             0.7777777777777778,
             "#fb9f3a"
            ],
            [
             0.8888888888888888,
             "#fdca26"
            ],
            [
             1,
             "#f0f921"
            ]
           ]
          },
          "colorway": [
           "#636efa",
           "#EF553B",
           "#00cc96",
           "#ab63fa",
           "#FFA15A",
           "#19d3f3",
           "#FF6692",
           "#B6E880",
           "#FF97FF",
           "#FECB52"
          ],
          "font": {
           "color": "#2a3f5f"
          },
          "geo": {
           "bgcolor": "white",
           "lakecolor": "white",
           "landcolor": "#E5ECF6",
           "showlakes": true,
           "showland": true,
           "subunitcolor": "white"
          },
          "hoverlabel": {
           "align": "left"
          },
          "hovermode": "closest",
          "mapbox": {
           "style": "light"
          },
          "paper_bgcolor": "white",
          "plot_bgcolor": "#E5ECF6",
          "polar": {
           "angularaxis": {
            "gridcolor": "white",
            "linecolor": "white",
            "ticks": ""
           },
           "bgcolor": "#E5ECF6",
           "radialaxis": {
            "gridcolor": "white",
            "linecolor": "white",
            "ticks": ""
           }
          },
          "scene": {
           "xaxis": {
            "backgroundcolor": "#E5ECF6",
            "gridcolor": "white",
            "gridwidth": 2,
            "linecolor": "white",
            "showbackground": true,
            "ticks": "",
            "zerolinecolor": "white"
           },
           "yaxis": {
            "backgroundcolor": "#E5ECF6",
            "gridcolor": "white",
            "gridwidth": 2,
            "linecolor": "white",
            "showbackground": true,
            "ticks": "",
            "zerolinecolor": "white"
           },
           "zaxis": {
            "backgroundcolor": "#E5ECF6",
            "gridcolor": "white",
            "gridwidth": 2,
            "linecolor": "white",
            "showbackground": true,
            "ticks": "",
            "zerolinecolor": "white"
           }
          },
          "shapedefaults": {
           "line": {
            "color": "#2a3f5f"
           }
          },
          "ternary": {
           "aaxis": {
            "gridcolor": "white",
            "linecolor": "white",
            "ticks": ""
           },
           "baxis": {
            "gridcolor": "white",
            "linecolor": "white",
            "ticks": ""
           },
           "bgcolor": "#E5ECF6",
           "caxis": {
            "gridcolor": "white",
            "linecolor": "white",
            "ticks": ""
           }
          },
          "title": {
           "x": 0.05
          },
          "xaxis": {
           "automargin": true,
           "gridcolor": "white",
           "linecolor": "white",
           "ticks": "",
           "title": {
            "standoff": 15
           },
           "zerolinecolor": "white",
           "zerolinewidth": 2
          },
          "yaxis": {
           "automargin": true,
           "gridcolor": "white",
           "linecolor": "white",
           "ticks": "",
           "title": {
            "standoff": 15
           },
           "zerolinecolor": "white",
           "zerolinewidth": 2
          }
         }
        },
        "title": {
         "text": "Personalized correlations between the wakeup glucose and dietary features from the day before",
         "x": 0.5,
         "xanchor": "center",
         "y": 0.95,
         "yanchor": "top"
        },
        "xaxis": {
         "title": {
          "text": "Dietary features"
         }
        },
        "yaxis": {
         "title": {
          "text": "Registration Code"
         }
        }
       }
      },
      "text/html": [
       "<div>\n",
       "        \n",
       "        \n",
       "            <div id=\"18de8d08-ce16-4274-b54b-e98e7187d78e\" class=\"plotly-graph-div\" style=\"height:525px; width:100%;\"></div>\n",
       "            <script type=\"text/javascript\">\n",
       "                require([\"plotly\"], function(Plotly) {\n",
       "                    window.PLOTLYENV=window.PLOTLYENV || {};\n",
       "                    \n",
       "                if (document.getElementById(\"18de8d08-ce16-4274-b54b-e98e7187d78e\")) {\n",
       "                    Plotly.newPlot(\n",
       "                        '18de8d08-ce16-4274-b54b-e98e7187d78e',\n",
       "                        [{\"hoverongaps\": false, \"type\": \"heatmap\", \"x\": [\"totaldietaryfiber_g\", \"energy_kcal\", \"carbohydrate_g\", \"protein_g\", \"totallipid_g\", \"weight\", \"sugarstotal_g\", \"sodium_mg\", \"caffeine_mg\", \"carbs/lipids\", \"caloric%carbs\", \"caloric%fat\"], \"y\": [\"rc111527\", \"rc126092\", \"rc12752\", \"rc130279\", \"rc132095\", \"rc132178\", \"rc133828\", \"rc136529\", \"rc139531\", \"rc140050\", \"rc142162\", \"rc143892\", \"rc147121\", \"rc147867\", \"rc148574\", \"rc154750\", \"rc155314\", \"rc158748\", \"rc168236\", \"rc17298\", \"rc173854\", \"rc187022\", \"rc190009\", \"rc199369\", \"rc203977\", \"rc207579\", \"rc211261\", \"rc215130\", \"rc216303\", \"rc225207\", \"rc228851\", \"rc24153\", \"rc242185\", \"rc243235\", \"rc246043\", \"rc249651\", \"rc251582\", \"rc252002\", \"rc280392\", \"rc287239\", \"rc2893\", \"rc292372\", \"rc292738\", \"rc299260\", \"rc300747\", \"rc302974\", \"rc309076\", \"rc313112\", \"rc322846\", \"rc326754\", \"rc32708\", \"rc328155\", \"rc331758\", \"rc336079\", \"rc3375786\", \"rc339142\", \"rc347571\", \"rc351160\", \"rc356171\", \"rc356392\", \"rc3579890\", \"rc358113\", \"rc363101\", \"rc368667\", \"rc371755\", \"rc372475\", \"rc376789\", \"rc381034\", \"rc381094\", \"rc388245\", \"rc393528\", \"rc394693\", \"rc403032\", \"rc406329\", \"rc407703\", \"rc41275\", \"rc424661\", \"rc429455\", \"rc429763\", \"rc433346\", \"rc43647\", \"rc439484\", \"rc439864\", \"rc445179\", \"rc448705\", \"rc451959\", \"rc456910\", \"rc462007\", \"rc463455\", \"rc469047\", \"rc470856\", \"rc476133\", \"rc479878\", \"rc491836\", \"rc492806\", \"rc494678\", \"rc494901\", \"rc495288\", \"rc496680\", \"rc49674\", \"rc501757\", \"rc509553\", \"rc518788\", \"rc525994\", \"rc533401\", \"rc536037\", \"rc54400\", \"rc549830\", \"rc550818\", \"rc56031\", \"rc563437\", \"rc573718\", \"rc579543\", \"rc583231\", \"rc585490\", \"rc590916\", \"rc596834\", \"rc599101\", \"rc602810\", \"rc605764\", \"rc613617\", \"rc621142\", \"rc624435\", \"rc625103\", \"rc626391\", \"rc628781\", \"rc630920\", \"rc631485\", \"rc64952\", \"rc656660\", \"rc657584\", \"rc67951\", \"rc679548\", \"rc682027\", \"rc683035\", \"rc693878\", \"rc69789\", \"rc702207\", \"rc704171\", \"rc705938\", \"rc721061\", \"rc723796\", \"rc724901\", \"rc740203\", \"rc742096\", \"rc745073\", \"rc753413\", \"rc76307\", \"rc766836\", \"rc772380\", \"rc78283\", \"rc783563\", \"rc784057\", \"rc794434\", \"rc794542\", \"rc800808\", \"rc804157\", \"rc805227\", \"rc81477\", \"rc818980\", \"rc820101\", \"rc824245\", \"rc825349\", \"rc828334\", \"rc831208\", \"rc831919\", \"rc832748\", \"rc834183\", \"rc834851\", \"rc838820\", \"rc840825\", \"rc847993\", \"rc848164\", \"rc848368\", \"rc85854\", \"rc859286\", \"rc865727\", \"rc867514\", \"rc868780\", \"rc869485\", \"rc885039\", \"rc895129\", \"rc895596\", \"rc900460\", \"rc903238\", \"rc904671\", \"rc908190\", \"rc91050\", \"rc922039\", \"rc927011\", \"rc932700\", \"rc93282\", \"rc933765\", \"rc93928\", \"rc941542\", \"rc946729\", \"rc948714\", \"rc954295\", \"rc954766\", \"rc963150\", \"rc967551\", \"rc972181\", \"rc979162\", \"rc981727\", \"rc988899\", \"rc992638\", \"rc997735\"], \"z\": [[null, null, null, null, null, null, null, null, null, 0.24124322459590464, null, null], [null, null, 0.23908736221005175, null, null, 0.31693144850680977, null, null, null, null, null, null], [null, null, null, null, null, null, null, null, 0.436132981144565, null, null, null], [0.26210594852386937, null, null, null, null, null, null, null, null, null, null, null], [null, null, null, null, null, null, null, null, null, null, null, null], [null, null, null, null, null, null, null, 0.2968892388078616, null, null, null, null], [null, null, null, null, null, null, null, null, null, null, null, null], [null, 0.37295872996225693, null, 0.26565042172140035, null, null, null, null, null, null, null, null], [null, null, null, null, null, null, null, null, null, null, null, null], [null, null, null, null, null, null, null, null, null, null, null, null], [null, null, null, null, null, null, null, null, null, null, null, null], [null, null, null, null, null, null, null, null, null, null, null, null], [null, null, 0.238617696605045, null, null, null, null, null, null, 0.269411107603549, 0.2739407179079278, -0.22446438353038722], [null, null, null, null, null, null, null, null, null, null, null, null], [null, null, null, null, null, null, null, null, null, null, null, null], [-0.31621616420472215, null, null, null, null, null, null, null, null, null, null, null], [null, null, null, null, null, null, null, null, null, null, null, null], [null, null, 0.31804500047693696, null, null, null, null, null, 0.3254169677165141, null, 0.28847482036916466, null], [null, null, null, null, null, null, null, null, null, null, null, null], [null, null, null, null, null, null, null, null, null, null, null, null], [null, null, null, null, null, null, null, null, null, null, null, null], [null, null, null, null, null, null, null, null, null, null, null, null], [null, null, null, null, null, null, null, null, null, null, null, null], [null, 0.2534947515833294, 0.3099267774610361, null, null, 0.2579882344312623, null, null, null, null, null, null], [null, null, null, null, null, null, null, null, null, null, null, null], [0.3868233725685297, null, null, null, null, null, null, null, null, null, null, null], [null, null, null, null, null, null, null, null, null, null, null, null], [0.23419993779725662, 0.28346038383898026, 0.310580505171477, null, null, 0.34000493451280034, 0.29248122668390053, null, 0.28430200822076224, null, null, null], [null, 0.3639967866354581, null, null, null, 0.35886614411957407, null, 0.38299777333931173, null, null, null, null], [null, null, null, null, null, null, null, null, null, null, null, null], [null, null, null, null, null, null, null, null, null, null, null, null], [null, null, null, null, null, null, null, null, null, null, null, null], [null, null, null, null, null, null, null, null, null, null, null, null], [null, 0.33771942316436054, null, 0.3554251574478184, null, null, null, null, null, null, null, null], [null, null, null, null, null, null, null, null, 0.2306322197318702, null, null, null], [null, null, null, null, null, null, null, null, null, null, null, null], [null, null, null, 0.26436124659261767, null, null, null, null, null, null, null, null], [null, null, null, null, null, null, null, null, null, null, null, null], [null, null, null, null, null, null, null, null, null, null, null, null], [null, null, null, null, 0.2415695061870738, null, null, null, null, null, null, null], [null, 0.2836336537113665, null, 0.33379100295542713, null, null, null, null, null, null, null, null], [null, null, null, null, null, null, null, null, null, null, null, null], [null, null, null, null, null, null, null, null, null, null, null, null], [null, null, null, null, null, null, null, null, null, null, null, null], [null, null, null, null, null, null, null, -0.32196879124000477, null, null, null, null], [null, null, null, null, null, null, null, null, null, null, null, null], [null, 0.3661519840216745, 0.3210489014984852, null, null, null, null, null, 0.34451698744345116, null, null, null], [null, null, null, null, null, null, null, null, null, null, null, null], [null, null, null, null, -0.24309506865610328, 0.25096125171783273, null, null, null, 0.2357762541524853, null, -0.26404836370792273], [null, null, null, null, null, null, null, null, null, null, null, null], [null, null, null, null, null, null, null, null, null, null, null, null], [null, null, null, null, null, null, null, null, null, null, null, null], [null, null, null, null, null, null, null, -0.31536884313516156, null, null, null, null], [null, null, null, null, null, null, null, null, null, null, null, null], [null, null, null, null, null, null, null, -0.3376970507113521, null, null, null, null], [null, null, null, null, null, null, null, null, null, null, null, null], [null, null, null, null, null, null, null, null, null, null, null, null], [null, null, null, null, null, null, null, null, null, null, null, null], [null, null, null, null, null, null, null, null, null, null, null, null], [null, null, null, null, null, null, null, null, null, null, null, -0.26907857547791925], [null, null, null, null, null, null, null, null, null, null, null, null], [null, null, null, null, null, null, null, null, null, null, null, null], [null, null, null, null, null, null, null, null, null, null, null, null], [null, null, null, null, null, null, null, null, null, null, null, null], [null, null, null, null, null, null, null, null, null, null, null, null], [null, null, -0.37594825761393713, null, null, null, -0.3881278539405256, null, null, -0.3632281380980834, -0.3750804472623519, 0.294596263207769], [null, null, null, null, null, null, null, null, null, null, null, null], [null, null, null, null, null, null, null, null, null, null, null, null], [null, null, null, null, null, 0.28147207990005885, null, null, null, null, null, null], [null, null, null, null, null, null, null, null, null, null, null, null], [null, null, null, null, null, null, null, null, null, null, null, null], [null, null, null, null, null, null, null, null, null, null, null, null], [null, null, null, null, null, null, null, null, null, null, null, null], [null, null, null, null, null, null, null, null, null, null, null, null], [null, null, null, null, null, null, null, null, null, null, null, null], [null, null, null, null, null, 0.2809480121641949, null, null, null, null, null, null], [null, null, null, null, null, null, null, null, null, null, null, null], [null, null, null, null, null, null, null, null, null, null, null, null], [null, null, null, null, null, null, null, null, null, null, null, null], [null, null, null, null, null, null, null, null, null, null, null, null], [null, null, null, null, null, null, null, null, null, null, null, null], [null, null, null, null, null, null, null, null, null, null, null, null], [null, null, null, null, null, null, null, null, null, null, null, null], [null, null, null, null, null, null, null, null, null, null, null, null], [null, null, null, null, null, null, -0.32256860580829316, null, null, null, null, null], [null, null, 0.3909687940991059, null, null, 0.3225011310446516, null, null, null, 0.3568762319773829, 0.33286801760547835, -0.32590653039605083], [null, null, null, null, null, null, null, null, null, null, null, null], [null, null, null, null, null, null, null, null, null, null, null, null], [null, null, null, null, null, null, null, null, null, null, null, null], [null, null, null, null, null, null, null, null, null, null, null, null], [null, null, null, null, null, null, null, null, null, null, null, null], [null, null, null, null, null, null, null, null, null, null, null, null], [null, null, null, null, null, null, null, null, null, null, null, null], [null, null, null, null, null, null, null, null, null, null, null, null], [null, null, null, null, null, null, null, null, null, null, null, null], [null, null, null, null, null, null, null, 0.2910375887081209, null, null, null, null], [null, null, null, null, null, null, null, null, null, null, null, null], [null, null, null, null, null, null, null, null, null, null, null, null], [null, null, null, null, null, null, null, null, null, null, null, null], [null, null, null, null, null, null, null, null, null, null, null, null], [null, null, null, null, null, null, null, null, null, null, null, null], [null, null, null, null, null, null, null, null, null, null, null, null], [null, null, null, null, null, null, null, null, null, null, null, null], [null, null, null, null, null, null, null, null, null, null, null, null], [null, 0.3581449305660773, 0.4209305188270414, null, null, 0.5371838246576741, null, 0.284281909536492, 0.31969592702449146, 0.30207358059347666, 0.2928303125498295, -0.30516959047088876], [null, null, null, null, null, null, null, null, null, null, null, null], [null, null, null, null, null, null, null, null, null, null, null, null], [null, null, null, null, null, null, null, null, null, null, null, null], [null, null, null, null, null, null, null, null, null, null, null, null], [null, null, null, null, null, null, null, null, null, null, null, null], [null, null, null, 0.2862526577044263, null, null, null, null, null, null, null, null], [null, null, null, 0.22278751435037958, null, null, null, null, null, null, null, null], [null, null, null, null, null, null, null, null, null, null, 0.3073907906790352, null], [null, null, null, null, null, null, null, null, null, null, null, null], [null, null, null, null, null, null, null, null, null, null, null, null], [null, null, null, null, null, null, null, null, null, null, null, null], [null, null, -0.2908284218596439, null, null, null, null, null, null, -0.3146010997439566, -0.30012182675278415, null], [null, 0.4239237437895086, null, null, null, null, null, null, null, null, null, null], [null, null, null, null, null, null, null, null, null, null, null, null], [null, null, null, null, null, null, null, null, null, null, null, null], [null, null, null, null, null, null, null, null, null, null, null, null], [null, null, null, null, null, null, null, null, null, null, null, null], [null, null, null, null, null, null, null, null, null, null, null, null], [null, null, null, null, null, null, null, null, null, null, null, null], [null, null, null, null, null, null, null, null, null, null, null, null], [null, null, null, null, null, null, null, null, null, null, null, null], [null, null, 0.3356368982444929, null, null, 0.33251534593478477, null, null, null, null, null, null], [null, null, null, null, null, null, null, null, null, null, null, null], [null, null, null, null, null, 0.2162372261522765, null, null, null, null, null, null], [null, null, null, null, null, 0.42523162606459974, null, null, 0.4562453156718086, null, null, null], [null, null, null, null, null, null, null, null, null, null, null, null], [null, null, null, null, null, null, null, null, null, null, null, null], [null, null, null, null, null, null, null, null, null, null, null, null], [null, null, null, null, null, null, null, null, null, null, null, null], [null, null, null, null, null, null, null, null, null, null, null, null], [null, null, null, null, null, null, null, null, null, null, null, null], [null, null, null, null, null, null, null, null, null, null, null, null], [null, null, null, null, null, null, null, null, null, null, null, null], [null, null, null, null, null, null, null, null, null, -0.3168878829838058, -0.3341534841083259, null], [null, null, null, null, null, null, null, null, null, null, null, null], [-0.3953210666411013, null, null, null, null, null, null, null, null, null, null, null], [null, null, null, null, null, null, null, null, null, null, null, null], [null, null, null, null, null, null, null, null, null, null, null, null], [null, null, null, null, null, null, null, null, null, null, null, null], [null, null, null, 0.2508785616023824, null, null, null, null, null, null, null, null], [null, null, null, null, null, 0.3198615022174573, null, null, 0.40000757712215174, null, null, null], [null, null, 0.25391438971528923, 0.2968989707640085, null, 0.33893387744691705, null, 0.2584807418053608, 0.4260723738814654, 0.2578919044510469, null, -0.3142121868460469], [null, null, null, null, null, null, null, null, null, null, null, null], [null, null, null, null, null, null, null, null, null, null, null, null], [null, null, null, null, null, null, null, null, null, null, null, null], [null, null, null, null, 0.26092355597039174, null, null, null, null, null, null, null], [null, 0.33438379295261983, null, 0.331955945054565, 0.335139480708968, null, null, 0.3672160141965131, null, null, null, null], [null, null, null, null, null, -0.30662833037562764, null, null, null, null, null, null], [null, null, null, null, null, null, null, null, -0.3029886369581094, null, null, null], [null, null, 0.3720001905565857, null, null, null, null, null, null, null, 0.2622433085424323, null], [null, null, null, null, 0.4177060610399847, null, null, null, null, null, null, 0.3567723282975702], [null, null, null, null, null, null, null, null, null, null, null, null], [null, null, null, null, null, null, null, null, null, null, null, null], [null, null, null, null, null, null, null, null, null, null, null, null], [null, null, null, null, null, null, null, null, null, null, null, null], [null, null, null, null, null, null, null, null, null, null, null, null], [null, null, null, null, null, null, null, null, null, null, null, null], [null, null, null, null, null, null, null, null, null, null, null, null], [null, 0.22000276776513247, null, null, 0.21125363842998923, null, null, null, null, null, null, null], [null, null, null, null, null, null, null, null, null, null, null, null], [null, null, null, null, null, null, null, null, null, null, null, null], [null, null, null, null, null, null, null, null, null, null, null, null], [null, null, null, null, null, 0.3463421120320203, null, null, 0.3488328846639351, null, null, null], [null, null, null, null, null, null, null, null, null, null, null, null], [null, null, null, null, null, null, null, null, null, null, null, null], [null, null, null, null, null, null, null, null, null, null, null, null], [null, null, 0.24147367893381014, null, null, null, null, null, null, null, null, null], [null, null, null, null, null, null, null, null, null, null, null, null], [null, null, null, 0.25171493766164765, null, null, null, null, null, null, null, null], [null, null, null, null, null, null, null, null, null, null, null, null], [0.2648152414823376, 0.310953055305944, 0.24365315855179417, null, null, 0.29523080541855773, null, null, null, null, null, null], [null, null, null, null, null, null, null, null, null, null, null, null], [null, null, null, null, null, null, null, null, null, null, null, null], [null, null, null, null, null, null, null, null, null, null, null, null], [null, null, null, null, null, null, null, null, null, null, null, null], [null, null, null, null, null, null, null, null, null, null, null, null], [null, 0.33296566832463637, 0.37401559620694996, null, null, null, null, null, null, null, null, null], [null, null, null, null, null, null, null, null, null, null, null, null], [null, null, null, null, null, null, null, null, null, null, null, null], [null, null, null, null, null, null, null, null, null, null, null, null], [null, null, null, null, null, null, null, null, null, null, null, null], [null, null, null, null, null, null, null, null, null, null, null, null], [0.30213093310631783, null, 0.474880500838634, null, -0.5275802555079313, null, null, null, null, 0.5368623146093786, 0.5208786730185565, -0.5750757761173417], [null, null, null, null, null, null, null, null, null, null, null, null], [null, null, null, null, null, null, null, null, null, null, null, null], [null, null, null, null, null, null, null, null, null, null, null, null], [null, null, null, null, null, null, null, null, 0.46564978489736714, null, null, null], [null, 0.36845331905774387, 0.43548234972172567, 0.25170835894359084, null, 0.2553671491319598, null, 0.32526260544300967, null, 0.3559519924936996, 0.31566609265323653, -0.30668161544444633], [null, null, null, null, null, null, null, null, null, null, null, null], [null, null, null, null, null, null, null, null, null, null, null, null], [null, null, null, null, null, null, null, null, null, null, null, null], [null, null, null, null, null, null, null, null, null, null, null, null], [null, null, null, null, null, null, null, null, null, null, null, null], [null, null, null, null, null, null, null, null, null, -0.25695751358110663, -0.27282637002774424, 0.2295685803766449], [null, null, null, null, null, null, null, null, null, null, null, null], [null, null, null, null, null, null, null, null, null, null, null, null], [null, null, null, null, null, null, null, null, null, null, null, null], [null, null, null, null, null, null, null, null, null, null, null, null], [null, null, null, null, null, null, null, null, null, null, null, null], [null, null, null, null, null, null, null, null, null, null, null, null], [null, null, null, null, null, null, null, null, null, null, null, null], [0.29284483366337194, 0.31655990485210683, 0.29305824689387894, null, null, 0.36056801070269423, null, 0.26050582753059304, null, null, null, null]]}],\n",
       "                        {\"template\": {\"data\": {\"bar\": [{\"error_x\": {\"color\": \"#2a3f5f\"}, \"error_y\": {\"color\": \"#2a3f5f\"}, \"marker\": {\"line\": {\"color\": \"#E5ECF6\", \"width\": 0.5}}, \"type\": \"bar\"}], \"barpolar\": [{\"marker\": {\"line\": {\"color\": \"#E5ECF6\", \"width\": 0.5}}, \"type\": \"barpolar\"}], \"carpet\": [{\"aaxis\": {\"endlinecolor\": \"#2a3f5f\", \"gridcolor\": \"white\", \"linecolor\": \"white\", \"minorgridcolor\": \"white\", \"startlinecolor\": \"#2a3f5f\"}, \"baxis\": {\"endlinecolor\": \"#2a3f5f\", \"gridcolor\": \"white\", \"linecolor\": \"white\", \"minorgridcolor\": \"white\", \"startlinecolor\": \"#2a3f5f\"}, \"type\": \"carpet\"}], \"choropleth\": [{\"colorbar\": {\"outlinewidth\": 0, \"ticks\": \"\"}, \"type\": \"choropleth\"}], \"contour\": [{\"colorbar\": {\"outlinewidth\": 0, \"ticks\": \"\"}, \"colorscale\": [[0.0, \"#0d0887\"], [0.1111111111111111, \"#46039f\"], [0.2222222222222222, \"#7201a8\"], [0.3333333333333333, \"#9c179e\"], [0.4444444444444444, \"#bd3786\"], [0.5555555555555556, \"#d8576b\"], [0.6666666666666666, \"#ed7953\"], [0.7777777777777778, \"#fb9f3a\"], [0.8888888888888888, \"#fdca26\"], [1.0, \"#f0f921\"]], \"type\": \"contour\"}], \"contourcarpet\": [{\"colorbar\": {\"outlinewidth\": 0, \"ticks\": \"\"}, \"type\": \"contourcarpet\"}], \"heatmap\": [{\"colorbar\": {\"outlinewidth\": 0, \"ticks\": \"\"}, \"colorscale\": [[0.0, \"#0d0887\"], [0.1111111111111111, \"#46039f\"], [0.2222222222222222, \"#7201a8\"], [0.3333333333333333, \"#9c179e\"], [0.4444444444444444, \"#bd3786\"], [0.5555555555555556, \"#d8576b\"], [0.6666666666666666, \"#ed7953\"], [0.7777777777777778, \"#fb9f3a\"], [0.8888888888888888, \"#fdca26\"], [1.0, \"#f0f921\"]], \"type\": \"heatmap\"}], \"heatmapgl\": [{\"colorbar\": {\"outlinewidth\": 0, \"ticks\": \"\"}, \"colorscale\": [[0.0, \"#0d0887\"], [0.1111111111111111, \"#46039f\"], [0.2222222222222222, \"#7201a8\"], [0.3333333333333333, \"#9c179e\"], [0.4444444444444444, \"#bd3786\"], [0.5555555555555556, \"#d8576b\"], [0.6666666666666666, \"#ed7953\"], [0.7777777777777778, \"#fb9f3a\"], [0.8888888888888888, \"#fdca26\"], [1.0, \"#f0f921\"]], \"type\": \"heatmapgl\"}], \"histogram\": [{\"marker\": {\"colorbar\": {\"outlinewidth\": 0, \"ticks\": \"\"}}, \"type\": \"histogram\"}], \"histogram2d\": [{\"colorbar\": {\"outlinewidth\": 0, \"ticks\": \"\"}, \"colorscale\": [[0.0, \"#0d0887\"], [0.1111111111111111, \"#46039f\"], [0.2222222222222222, \"#7201a8\"], [0.3333333333333333, \"#9c179e\"], [0.4444444444444444, \"#bd3786\"], [0.5555555555555556, \"#d8576b\"], [0.6666666666666666, \"#ed7953\"], [0.7777777777777778, \"#fb9f3a\"], [0.8888888888888888, \"#fdca26\"], [1.0, \"#f0f921\"]], \"type\": \"histogram2d\"}], \"histogram2dcontour\": [{\"colorbar\": {\"outlinewidth\": 0, \"ticks\": \"\"}, \"colorscale\": [[0.0, \"#0d0887\"], [0.1111111111111111, \"#46039f\"], [0.2222222222222222, \"#7201a8\"], [0.3333333333333333, \"#9c179e\"], [0.4444444444444444, \"#bd3786\"], [0.5555555555555556, \"#d8576b\"], [0.6666666666666666, \"#ed7953\"], [0.7777777777777778, \"#fb9f3a\"], [0.8888888888888888, \"#fdca26\"], [1.0, \"#f0f921\"]], \"type\": \"histogram2dcontour\"}], \"mesh3d\": [{\"colorbar\": {\"outlinewidth\": 0, \"ticks\": \"\"}, \"type\": \"mesh3d\"}], \"parcoords\": [{\"line\": {\"colorbar\": {\"outlinewidth\": 0, \"ticks\": \"\"}}, \"type\": \"parcoords\"}], \"pie\": [{\"automargin\": true, \"type\": \"pie\"}], \"scatter\": [{\"marker\": {\"colorbar\": {\"outlinewidth\": 0, \"ticks\": \"\"}}, \"type\": \"scatter\"}], \"scatter3d\": [{\"line\": {\"colorbar\": {\"outlinewidth\": 0, \"ticks\": \"\"}}, \"marker\": {\"colorbar\": {\"outlinewidth\": 0, \"ticks\": \"\"}}, \"type\": \"scatter3d\"}], \"scattercarpet\": [{\"marker\": {\"colorbar\": {\"outlinewidth\": 0, \"ticks\": \"\"}}, \"type\": \"scattercarpet\"}], \"scattergeo\": [{\"marker\": {\"colorbar\": {\"outlinewidth\": 0, \"ticks\": \"\"}}, \"type\": \"scattergeo\"}], \"scattergl\": [{\"marker\": {\"colorbar\": {\"outlinewidth\": 0, \"ticks\": \"\"}}, \"type\": \"scattergl\"}], \"scattermapbox\": [{\"marker\": {\"colorbar\": {\"outlinewidth\": 0, \"ticks\": \"\"}}, \"type\": \"scattermapbox\"}], \"scatterpolar\": [{\"marker\": {\"colorbar\": {\"outlinewidth\": 0, \"ticks\": \"\"}}, \"type\": \"scatterpolar\"}], \"scatterpolargl\": [{\"marker\": {\"colorbar\": {\"outlinewidth\": 0, \"ticks\": \"\"}}, \"type\": \"scatterpolargl\"}], \"scatterternary\": [{\"marker\": {\"colorbar\": {\"outlinewidth\": 0, \"ticks\": \"\"}}, \"type\": \"scatterternary\"}], \"surface\": [{\"colorbar\": {\"outlinewidth\": 0, \"ticks\": \"\"}, \"colorscale\": [[0.0, \"#0d0887\"], [0.1111111111111111, \"#46039f\"], [0.2222222222222222, \"#7201a8\"], [0.3333333333333333, \"#9c179e\"], [0.4444444444444444, \"#bd3786\"], [0.5555555555555556, \"#d8576b\"], [0.6666666666666666, \"#ed7953\"], [0.7777777777777778, \"#fb9f3a\"], [0.8888888888888888, \"#fdca26\"], [1.0, \"#f0f921\"]], \"type\": \"surface\"}], \"table\": [{\"cells\": {\"fill\": {\"color\": \"#EBF0F8\"}, \"line\": {\"color\": \"white\"}}, \"header\": {\"fill\": {\"color\": \"#C8D4E3\"}, \"line\": {\"color\": \"white\"}}, \"type\": \"table\"}]}, \"layout\": {\"annotationdefaults\": {\"arrowcolor\": \"#2a3f5f\", \"arrowhead\": 0, \"arrowwidth\": 1}, \"coloraxis\": {\"colorbar\": {\"outlinewidth\": 0, \"ticks\": \"\"}}, \"colorscale\": {\"diverging\": [[0, \"#8e0152\"], [0.1, \"#c51b7d\"], [0.2, \"#de77ae\"], [0.3, \"#f1b6da\"], [0.4, \"#fde0ef\"], [0.5, \"#f7f7f7\"], [0.6, \"#e6f5d0\"], [0.7, \"#b8e186\"], [0.8, \"#7fbc41\"], [0.9, \"#4d9221\"], [1, \"#276419\"]], \"sequential\": [[0.0, \"#0d0887\"], [0.1111111111111111, \"#46039f\"], [0.2222222222222222, \"#7201a8\"], [0.3333333333333333, \"#9c179e\"], [0.4444444444444444, \"#bd3786\"], [0.5555555555555556, \"#d8576b\"], [0.6666666666666666, \"#ed7953\"], [0.7777777777777778, \"#fb9f3a\"], [0.8888888888888888, \"#fdca26\"], [1.0, \"#f0f921\"]], \"sequentialminus\": [[0.0, \"#0d0887\"], [0.1111111111111111, \"#46039f\"], [0.2222222222222222, \"#7201a8\"], [0.3333333333333333, \"#9c179e\"], [0.4444444444444444, \"#bd3786\"], [0.5555555555555556, \"#d8576b\"], [0.6666666666666666, \"#ed7953\"], [0.7777777777777778, \"#fb9f3a\"], [0.8888888888888888, \"#fdca26\"], [1.0, \"#f0f921\"]]}, \"colorway\": [\"#636efa\", \"#EF553B\", \"#00cc96\", \"#ab63fa\", \"#FFA15A\", \"#19d3f3\", \"#FF6692\", \"#B6E880\", \"#FF97FF\", \"#FECB52\"], \"font\": {\"color\": \"#2a3f5f\"}, \"geo\": {\"bgcolor\": \"white\", \"lakecolor\": \"white\", \"landcolor\": \"#E5ECF6\", \"showlakes\": true, \"showland\": true, \"subunitcolor\": \"white\"}, \"hoverlabel\": {\"align\": \"left\"}, \"hovermode\": \"closest\", \"mapbox\": {\"style\": \"light\"}, \"paper_bgcolor\": \"white\", \"plot_bgcolor\": \"#E5ECF6\", \"polar\": {\"angularaxis\": {\"gridcolor\": \"white\", \"linecolor\": \"white\", \"ticks\": \"\"}, \"bgcolor\": \"#E5ECF6\", \"radialaxis\": {\"gridcolor\": \"white\", \"linecolor\": \"white\", \"ticks\": \"\"}}, \"scene\": {\"xaxis\": {\"backgroundcolor\": \"#E5ECF6\", \"gridcolor\": \"white\", \"gridwidth\": 2, \"linecolor\": \"white\", \"showbackground\": true, \"ticks\": \"\", \"zerolinecolor\": \"white\"}, \"yaxis\": {\"backgroundcolor\": \"#E5ECF6\", \"gridcolor\": \"white\", \"gridwidth\": 2, \"linecolor\": \"white\", \"showbackground\": true, \"ticks\": \"\", \"zerolinecolor\": \"white\"}, \"zaxis\": {\"backgroundcolor\": \"#E5ECF6\", \"gridcolor\": \"white\", \"gridwidth\": 2, \"linecolor\": \"white\", \"showbackground\": true, \"ticks\": \"\", \"zerolinecolor\": \"white\"}}, \"shapedefaults\": {\"line\": {\"color\": \"#2a3f5f\"}}, \"ternary\": {\"aaxis\": {\"gridcolor\": \"white\", \"linecolor\": \"white\", \"ticks\": \"\"}, \"baxis\": {\"gridcolor\": \"white\", \"linecolor\": \"white\", \"ticks\": \"\"}, \"bgcolor\": \"#E5ECF6\", \"caxis\": {\"gridcolor\": \"white\", \"linecolor\": \"white\", \"ticks\": \"\"}}, \"title\": {\"x\": 0.05}, \"xaxis\": {\"automargin\": true, \"gridcolor\": \"white\", \"linecolor\": \"white\", \"ticks\": \"\", \"title\": {\"standoff\": 15}, \"zerolinecolor\": \"white\", \"zerolinewidth\": 2}, \"yaxis\": {\"automargin\": true, \"gridcolor\": \"white\", \"linecolor\": \"white\", \"ticks\": \"\", \"title\": {\"standoff\": 15}, \"zerolinecolor\": \"white\", \"zerolinewidth\": 2}}}, \"title\": {\"text\": \"Personalized correlations between the wakeup glucose and dietary features from the day before\", \"x\": 0.5, \"xanchor\": \"center\", \"y\": 0.95, \"yanchor\": \"top\"}, \"xaxis\": {\"title\": {\"text\": \"Dietary features\"}}, \"yaxis\": {\"title\": {\"text\": \"Registration Code\"}}},\n",
       "                        {\"responsive\": true}\n",
       "                    ).then(function(){\n",
       "                            \n",
       "var gd = document.getElementById('18de8d08-ce16-4274-b54b-e98e7187d78e');\n",
       "var x = new MutationObserver(function (mutations, observer) {{\n",
       "        var display = window.getComputedStyle(gd).display;\n",
       "        if (!display || display === 'none') {{\n",
       "            console.log([gd, 'removed!']);\n",
       "            Plotly.purge(gd);\n",
       "            observer.disconnect();\n",
       "        }}\n",
       "}});\n",
       "\n",
       "// Listen for the removal of the full notebook cells\n",
       "var notebookContainer = gd.closest('#notebook-container');\n",
       "if (notebookContainer) {{\n",
       "    x.observe(notebookContainer, {childList: true});\n",
       "}}\n",
       "\n",
       "// Listen for the clearing of the current output cell\n",
       "var outputEl = gd.closest('.output');\n",
       "if (outputEl) {{\n",
       "    x.observe(outputEl, {childList: true});\n",
       "}}\n",
       "\n",
       "                        })\n",
       "                };\n",
       "                });\n",
       "            </script>\n",
       "        </div>"
      ]
     },
     "metadata": {},
     "output_type": "display_data"
    }
   ],
   "source": [
    "plot_corr_heatmap(corr_table_total, savefig=True, filename='corr_total_diet_pnp3_fdr')"
   ]
  },
  {
   "cell_type": "code",
   "execution_count": 67,
   "metadata": {
    "ExecuteTime": {
     "end_time": "2020-02-23T14:25:45.610152Z",
     "start_time": "2020-02-23T14:25:45.256835Z"
    },
    "collapsed": true
   },
   "outputs": [
    {
     "data": {
      "application/vnd.plotly.v1+json": {
       "config": {
        "plotlyServerURL": "https://plot.ly"
       },
       "data": [
        {
         "hoverongaps": false,
         "type": "heatmap",
         "x": [
          "totaldietaryfiber_g",
          "energy_kcal",
          "carbohydrate_g",
          "protein_g",
          "totallipid_g",
          "weight",
          "sugarstotal_g",
          "sodium_mg",
          "caffeine_mg",
          "carbs/lipids",
          "caloric%carbs",
          "caloric%fat"
         ],
         "y": [
          "rc111527",
          "rc126092",
          "rc12752",
          "rc130279",
          "rc132095",
          "rc132178",
          "rc133828",
          "rc136529",
          "rc139531",
          "rc140050",
          "rc142162",
          "rc143892",
          "rc147121",
          "rc147867",
          "rc148574",
          "rc154750",
          "rc155314",
          "rc158748",
          "rc168236",
          "rc17298",
          "rc173854",
          "rc187022",
          "rc190009",
          "rc199369",
          "rc203977",
          "rc207579",
          "rc211261",
          "rc215130",
          "rc216303",
          "rc225207",
          "rc228851",
          "rc24153",
          "rc242185",
          "rc243235",
          "rc246043",
          "rc249651",
          "rc251582",
          "rc252002",
          "rc280392",
          "rc287239",
          "rc2893",
          "rc292372",
          "rc292738",
          "rc299260",
          "rc300747",
          "rc302974",
          "rc309076",
          "rc313112",
          "rc322846",
          "rc326754",
          "rc32708",
          "rc328155",
          "rc331758",
          "rc336079",
          "rc3375786",
          "rc339142",
          "rc347571",
          "rc351160",
          "rc356171",
          "rc356392",
          "rc3579890",
          "rc358113",
          "rc363101",
          "rc368667",
          "rc371755",
          "rc372475",
          "rc376789",
          "rc381034",
          "rc381094",
          "rc388245",
          "rc393528",
          "rc394693",
          "rc403032",
          "rc406329",
          "rc407703",
          "rc41275",
          "rc424661",
          "rc429455",
          "rc429763",
          "rc433346",
          "rc43647",
          "rc439484",
          "rc439864",
          "rc445179",
          "rc448705",
          "rc451959",
          "rc456910",
          "rc462007",
          "rc463455",
          "rc469047",
          "rc470856",
          "rc476133",
          "rc479878",
          "rc491836",
          "rc492806",
          "rc494678",
          "rc494901",
          "rc495288",
          "rc496680",
          "rc49674",
          "rc501757",
          "rc509553",
          "rc518788",
          "rc525994",
          "rc533401",
          "rc536037",
          "rc54400",
          "rc549830",
          "rc550818",
          "rc56031",
          "rc563437",
          "rc573718",
          "rc579543",
          "rc583231",
          "rc585490",
          "rc590916",
          "rc596834",
          "rc599101",
          "rc602810",
          "rc605764",
          "rc613617",
          "rc621142",
          "rc624435",
          "rc625103",
          "rc626391",
          "rc628781",
          "rc630920",
          "rc631485",
          "rc64952",
          "rc656660",
          "rc657584",
          "rc67951",
          "rc679548",
          "rc682027",
          "rc683035",
          "rc693878",
          "rc69789",
          "rc702207",
          "rc704171",
          "rc705938",
          "rc721061",
          "rc723796",
          "rc724901",
          "rc740203",
          "rc742096",
          "rc745073",
          "rc753413",
          "rc76307",
          "rc766836",
          "rc772380",
          "rc78283",
          "rc783563",
          "rc784057",
          "rc794434",
          "rc794542",
          "rc800808",
          "rc804157",
          "rc805227",
          "rc81477",
          "rc818980",
          "rc820101",
          "rc824245",
          "rc825349",
          "rc828334",
          "rc831208",
          "rc831919",
          "rc832748",
          "rc834183",
          "rc834851",
          "rc838820",
          "rc840825",
          "rc847993",
          "rc848164",
          "rc848368",
          "rc85854",
          "rc859286",
          "rc865727",
          "rc867514",
          "rc868780",
          "rc869485",
          "rc885039",
          "rc895129",
          "rc895596",
          "rc900460",
          "rc903238",
          "rc904671",
          "rc908190",
          "rc91050",
          "rc922039",
          "rc927011",
          "rc932700",
          "rc93282",
          "rc933765",
          "rc93928",
          "rc941542",
          "rc946729",
          "rc948714",
          "rc954295",
          "rc954766",
          "rc963150",
          "rc967551",
          "rc972181",
          "rc979162",
          "rc981727",
          "rc988899",
          "rc992638",
          "rc997735"
         ],
         "z": [
          [
           null,
           null,
           null,
           null,
           -0.19013964207833847,
           null,
           null,
           null,
           null,
           0.24124322459590464,
           0.21390335659180168,
           -0.2305845913887956
          ],
          [
           null,
           null,
           0.23908736221005175,
           null,
           null,
           0.31693144850680977,
           null,
           0.21843605164532548,
           null,
           0.20905732181093875,
           0.18512634947437104,
           -0.18574957325239377
          ],
          [
           null,
           null,
           null,
           null,
           null,
           0.25117159540988965,
           null,
           null,
           0.436132981144565,
           null,
           null,
           -0.28395467491142173
          ],
          [
           0.26210594852386937,
           null,
           null,
           null,
           null,
           null,
           null,
           null,
           null,
           null,
           null,
           null
          ],
          [
           null,
           null,
           null,
           null,
           null,
           null,
           null,
           -0.21667159143249037,
           null,
           null,
           null,
           null
          ],
          [
           null,
           null,
           null,
           null,
           0.16787892327472745,
           0.19732007015083988,
           null,
           0.2968892388078616,
           null,
           -0.21610392167557294,
           -0.19194429164192478,
           0.1879736022763609
          ],
          [
           null,
           null,
           null,
           0.30233067876272357,
           null,
           null,
           null,
           null,
           null,
           null,
           null,
           null
          ],
          [
           0.23222682178196874,
           0.37295872996225693,
           0.23645955258723547,
           0.26565042172140035,
           0.20435471736701016,
           null,
           null,
           null,
           null,
           null,
           null,
           null
          ],
          [
           null,
           null,
           null,
           null,
           null,
           null,
           null,
           null,
           null,
           null,
           null,
           null
          ],
          [
           null,
           null,
           null,
           null,
           null,
           null,
           null,
           null,
           null,
           null,
           null,
           null
          ],
          [
           null,
           null,
           null,
           null,
           null,
           null,
           null,
           null,
           null,
           -0.2030121371874359,
           -0.20016587186398507,
           null
          ],
          [
           null,
           null,
           0.1709689816042127,
           null,
           null,
           null,
           0.17298486179391387,
           null,
           null,
           null,
           0.16678764871763765,
           null
          ],
          [
           null,
           null,
           0.238617696605045,
           null,
           null,
           null,
           null,
           null,
           null,
           0.269411107603549,
           0.2739407179079278,
           -0.22446438353038722
          ],
          [
           null,
           null,
           null,
           null,
           null,
           null,
           null,
           null,
           -0.2810898812677129,
           null,
           null,
           null
          ],
          [
           null,
           null,
           null,
           null,
           null,
           null,
           null,
           null,
           null,
           null,
           null,
           null
          ],
          [
           -0.31621616420472215,
           null,
           null,
           null,
           null,
           null,
           null,
           null,
           null,
           null,
           null,
           null
          ],
          [
           null,
           null,
           null,
           null,
           null,
           null,
           null,
           null,
           null,
           null,
           0.18360903601912779,
           null
          ],
          [
           null,
           null,
           0.31804500047693696,
           null,
           null,
           null,
           null,
           null,
           0.3254169677165141,
           null,
           0.28847482036916466,
           null
          ],
          [
           null,
           null,
           null,
           null,
           null,
           null,
           null,
           null,
           null,
           null,
           null,
           null
          ],
          [
           null,
           null,
           null,
           null,
           null,
           null,
           null,
           null,
           null,
           null,
           0.207501372642316,
           null
          ],
          [
           null,
           null,
           null,
           null,
           null,
           null,
           null,
           null,
           null,
           null,
           null,
           null
          ],
          [
           -0.18312723192971317,
           null,
           null,
           null,
           null,
           null,
           null,
           null,
           null,
           null,
           null,
           null
          ],
          [
           null,
           null,
           null,
           null,
           null,
           null,
           null,
           null,
           null,
           null,
           null,
           null
          ],
          [
           null,
           0.2534947515833294,
           0.3099267774610361,
           null,
           null,
           0.2579882344312623,
           null,
           null,
           null,
           null,
           null,
           null
          ],
          [
           null,
           null,
           null,
           null,
           null,
           null,
           null,
           -0.23634598064251874,
           null,
           null,
           null,
           null
          ],
          [
           0.3868233725685297,
           null,
           null,
           null,
           null,
           null,
           null,
           null,
           null,
           null,
           null,
           null
          ],
          [
           null,
           null,
           null,
           null,
           null,
           null,
           null,
           null,
           null,
           null,
           null,
           null
          ],
          [
           0.23419993779725662,
           0.28346038383898026,
           0.310580505171477,
           0.1586317534831822,
           null,
           0.34000493451280034,
           0.29248122668390053,
           null,
           0.28430200822076224,
           null,
           0.15964546856052902,
           null
          ],
          [
           null,
           0.3639967866354581,
           0.26338290800264835,
           0.2624717964780471,
           0.29422565853281846,
           0.35886614411957407,
           null,
           0.38299777333931173,
           null,
           null,
           null,
           null
          ],
          [
           null,
           null,
           null,
           null,
           null,
           null,
           null,
           null,
           null,
           null,
           null,
           null
          ],
          [
           null,
           null,
           null,
           null,
           null,
           0.2048460090855623,
           null,
           null,
           0.22604992376797475,
           null,
           null,
           -0.18483917211853798
          ],
          [
           null,
           -0.25166628947319847,
           -0.265885292303052,
           null,
           null,
           null,
           null,
           null,
           null,
           -0.23429496054427357,
           null,
           null
          ],
          [
           null,
           null,
           null,
           null,
           null,
           null,
           null,
           null,
           null,
           null,
           null,
           null
          ],
          [
           null,
           0.33771942316436054,
           null,
           0.3554251574478184,
           null,
           0.2882158810805404,
           null,
           0.2416871155285439,
           null,
           null,
           null,
           null
          ],
          [
           null,
           null,
           0.17603300585240078,
           null,
           null,
           null,
           null,
           0.17703806260207589,
           0.2306322197318702,
           0.16635262500378023,
           0.18435480170238125,
           null
          ],
          [
           null,
           null,
           null,
           null,
           null,
           null,
           null,
           null,
           null,
           null,
           null,
           null
          ],
          [
           null,
           null,
           null,
           0.26436124659261767,
           null,
           null,
           null,
           null,
           null,
           null,
           null,
           null
          ],
          [
           null,
           null,
           -0.26086321485856867,
           null,
           null,
           null,
           null,
           null,
           null,
           null,
           null,
           null
          ],
          [
           null,
           null,
           null,
           null,
           null,
           null,
           -0.24665224129310184,
           null,
           -0.2581793131835892,
           null,
           null,
           null
          ],
          [
           null,
           0.22328240360022633,
           0.17863969295580845,
           null,
           0.2415695061870738,
           null,
           null,
           null,
           null,
           null,
           null,
           0.1746814585866321
          ],
          [
           null,
           0.2836336537113665,
           null,
           0.33379100295542713,
           0.21993252411587358,
           null,
           null,
           null,
           null,
           null,
           null,
           null
          ],
          [
           null,
           null,
           null,
           null,
           null,
           -0.15599810440879897,
           null,
           null,
           null,
           null,
           null,
           null
          ],
          [
           0.2005624764140861,
           0.20615819393924842,
           null,
           null,
           null,
           0.19275939164154157,
           null,
           null,
           null,
           null,
           null,
           null
          ],
          [
           null,
           null,
           null,
           null,
           null,
           null,
           null,
           null,
           -0.2578335311139312,
           -0.22637381779217944,
           -0.22031149669451874,
           0.2242949967335561
          ],
          [
           null,
           null,
           null,
           null,
           null,
           null,
           null,
           -0.32196879124000477,
           null,
           null,
           null,
           null
          ],
          [
           null,
           null,
           null,
           null,
           null,
           null,
           null,
           null,
           null,
           null,
           null,
           null
          ],
          [
           0.23563653159316603,
           0.3661519840216745,
           0.3210489014984852,
           null,
           0.2420557659172624,
           null,
           null,
           null,
           0.34451698744345116,
           null,
           null,
           null
          ],
          [
           -0.29653347102624544,
           null,
           null,
           null,
           null,
           null,
           null,
           null,
           null,
           null,
           null,
           null
          ],
          [
           null,
           null,
           null,
           null,
           -0.24309506865610328,
           0.25096125171783273,
           0.1800908912572974,
           null,
           null,
           0.2357762541524853,
           0.18865953152965667,
           -0.26404836370792273
          ],
          [
           null,
           null,
           null,
           null,
           null,
           null,
           null,
           null,
           null,
           null,
           null,
           null
          ],
          [
           null,
           null,
           null,
           null,
           null,
           null,
           null,
           null,
           null,
           null,
           null,
           null
          ],
          [
           null,
           null,
           -0.24188569597377585,
           null,
           null,
           null,
           null,
           null,
           null,
           null,
           null,
           null
          ],
          [
           null,
           null,
           -0.2618034355601484,
           null,
           null,
           null,
           null,
           -0.31536884313516156,
           null,
           null,
           null,
           null
          ],
          [
           null,
           0.1823425706131321,
           null,
           null,
           null,
           null,
           null,
           null,
           null,
           null,
           null,
           null
          ],
          [
           null,
           null,
           -0.27095546174783247,
           null,
           null,
           null,
           -0.2199374297716226,
           -0.3376970507113521,
           -0.22420341299489546,
           null,
           null,
           null
          ],
          [
           null,
           null,
           null,
           null,
           null,
           null,
           null,
           null,
           null,
           null,
           null,
           null
          ],
          [
           null,
           null,
           null,
           null,
           null,
           null,
           null,
           null,
           null,
           null,
           null,
           null
          ],
          [
           -0.4091998118312843,
           null,
           null,
           null,
           null,
           null,
           null,
           null,
           null,
           null,
           null,
           null
          ],
          [
           null,
           null,
           -0.3566450817144619,
           null,
           null,
           -0.3487511563367252,
           null,
           null,
           -0.3241701833248109,
           -0.300277520814061,
           -0.33999383287079865,
           null
          ],
          [
           0.23954498593139428,
           null,
           0.19031776775692338,
           null,
           null,
           0.18943276279900417,
           null,
           0.19862569388021703,
           null,
           0.21592267559703535,
           null,
           -0.26907857547791925
          ],
          [
           null,
           null,
           0.17937618341093314,
           0.17848397830950266,
           null,
           null,
           null,
           null,
           null,
           null,
           null,
           -0.1809226722534127
          ],
          [
           null,
           null,
           null,
           null,
           null,
           null,
           null,
           null,
           null,
           null,
           null,
           null
          ],
          [
           null,
           null,
           null,
           null,
           null,
           null,
           null,
           null,
           null,
           null,
           null,
           null
          ],
          [
           null,
           null,
           null,
           null,
           0.2662227187210155,
           null,
           null,
           null,
           null,
           null,
           null,
           null
          ],
          [
           null,
           null,
           -0.18651983146489132,
           null,
           null,
           null,
           null,
           null,
           null,
           -0.1898368952288073,
           -0.15941559772465602,
           0.18071173028412874
          ],
          [
           -0.22251472806922598,
           null,
           -0.37594825761393713,
           null,
           null,
           null,
           -0.3881278539405256,
           null,
           null,
           -0.3632281380980834,
           -0.3750804472623519,
           0.294596263207769
          ],
          [
           0.17162665032301563,
           null,
           0.21810263280582853,
           null,
           null,
           null,
           null,
           null,
           null,
           null,
           0.20952284211252958,
           null
          ],
          [
           null,
           null,
           null,
           -0.22216677419822603,
           null,
           0.26552334816731055,
           null,
           null,
           null,
           null,
           null,
           null
          ],
          [
           null,
           null,
           0.22014681781160825,
           0.18116440260658098,
           null,
           0.28147207990005885,
           null,
           0.18919317790584264,
           null,
           0.22489026865519166,
           0.20142998029556541,
           -0.24144373144535416
          ],
          [
           null,
           null,
           0.23431334959553093,
           null,
           null,
           null,
           null,
           null,
           null,
           null,
           null,
           null
          ],
          [
           null,
           null,
           null,
           null,
           null,
           null,
           null,
           null,
           null,
           null,
           null,
           null
          ],
          [
           null,
           null,
           null,
           null,
           null,
           null,
           null,
           null,
           null,
           null,
           null,
           null
          ],
          [
           null,
           null,
           null,
           null,
           null,
           null,
           null,
           null,
           null,
           null,
           null,
           -0.20297383828420798
          ],
          [
           null,
           0.17490962307675276,
           0.2001376377192313,
           null,
           null,
           null,
           null,
           null,
           null,
           null,
           null,
           null
          ],
          [
           null,
           null,
           null,
           null,
           null,
           null,
           null,
           null,
           null,
           null,
           null,
           null
          ],
          [
           null,
           null,
           null,
           null,
           null,
           0.2809480121641949,
           null,
           null,
           null,
           null,
           null,
           null
          ],
          [
           null,
           null,
           null,
           null,
           null,
           0.2257423874958663,
           null,
           null,
           null,
           null,
           null,
           null
          ],
          [
           null,
           null,
           null,
           null,
           null,
           null,
           null,
           -0.19591519710656183,
           null,
           null,
           null,
           null
          ],
          [
           null,
           0.3342617046818727,
           null,
           null,
           0.2790396158463385,
           null,
           null,
           null,
           null,
           null,
           null,
           null
          ],
          [
           null,
           null,
           null,
           null,
           null,
           null,
           null,
           null,
           null,
           null,
           null,
           null
          ],
          [
           null,
           null,
           null,
           null,
           null,
           0.1692819990542671,
           null,
           null,
           null,
           null,
           null,
           null
          ],
          [
           null,
           null,
           null,
           null,
           null,
           null,
           null,
           -0.1995269570019057,
           null,
           null,
           null,
           null
          ],
          [
           null,
           null,
           null,
           null,
           null,
           null,
           null,
           null,
           null,
           null,
           null,
           null
          ],
          [
           null,
           null,
           null,
           null,
           0.1598382690743337,
           null,
           null,
           null,
           null,
           null,
           null,
           null
          ],
          [
           null,
           null,
           null,
           null,
           null,
           null,
           -0.32256860580829316,
           null,
           null,
           null,
           null,
           null
          ],
          [
           0.20929838399553105,
           null,
           0.3909687940991059,
           null,
           null,
           0.3225011310446516,
           null,
           null,
           -0.19398347918105735,
           0.3568762319773829,
           0.33286801760547835,
           -0.32590653039605083
          ],
          [
           null,
           null,
           null,
           null,
           null,
           null,
           null,
           null,
           null,
           null,
           null,
           null
          ],
          [
           null,
           null,
           null,
           null,
           null,
           null,
           null,
           null,
           null,
           null,
           null,
           null
          ],
          [
           null,
           null,
           null,
           null,
           null,
           null,
           null,
           null,
           null,
           null,
           null,
           null
          ],
          [
           null,
           null,
           null,
           null,
           null,
           null,
           null,
           null,
           null,
           null,
           null,
           null
          ],
          [
           null,
           null,
           null,
           null,
           null,
           null,
           null,
           null,
           null,
           null,
           null,
           null
          ],
          [
           null,
           null,
           null,
           null,
           0.17414727246324335,
           null,
           null,
           null,
           null,
           null,
           null,
           null
          ],
          [
           0.1810179285249469,
           null,
           null,
           null,
           null,
           0.1887812950637574,
           null,
           null,
           null,
           null,
           null,
           null
          ],
          [
           null,
           null,
           null,
           null,
           null,
           null,
           null,
           null,
           null,
           -0.16145750427637365,
           null,
           null
          ],
          [
           null,
           null,
           null,
           null,
           null,
           null,
           null,
           null,
           null,
           null,
           null,
           null
          ],
          [
           null,
           null,
           null,
           null,
           null,
           0.21710968074999004,
           null,
           0.2910375887081209,
           0.2068159174027118,
           null,
           null,
           null
          ],
          [
           null,
           null,
           null,
           0.21691587551957658,
           null,
           null,
           null,
           null,
           null,
           null,
           null,
           null
          ],
          [
           null,
           null,
           null,
           null,
           null,
           null,
           null,
           null,
           null,
           null,
           null,
           null
          ],
          [
           null,
           null,
           null,
           null,
           null,
           null,
           null,
           null,
           null,
           null,
           null,
           null
          ],
          [
           null,
           null,
           null,
           null,
           null,
           null,
           null,
           null,
           null,
           null,
           null,
           null
          ],
          [
           0.22779494465716876,
           null,
           null,
           null,
           null,
           null,
           null,
           null,
           null,
           null,
           null,
           null
          ],
          [
           null,
           null,
           null,
           null,
           null,
           null,
           null,
           null,
           null,
           null,
           null,
           null
          ],
          [
           null,
           null,
           null,
           null,
           null,
           0.21437726912666805,
           null,
           null,
           0.2103454190074789,
           null,
           null,
           null
          ],
          [
           null,
           null,
           null,
           -0.20831697325784904,
           null,
           null,
           null,
           null,
           null,
           null,
           null,
           null
          ],
          [
           null,
           0.3581449305660773,
           0.4209305188270414,
           0.25517835628163965,
           null,
           0.5371838246576741,
           0.21058992483873687,
           0.284281909536492,
           0.31969592702449146,
           0.30207358059347666,
           0.2928303125498295,
           -0.30516959047088876
          ],
          [
           null,
           null,
           null,
           null,
           null,
           null,
           null,
           null,
           null,
           null,
           null,
           null
          ],
          [
           null,
           null,
           null,
           null,
           null,
           null,
           null,
           null,
           null,
           null,
           null,
           null
          ],
          [
           null,
           null,
           null,
           null,
           null,
           null,
           null,
           null,
           null,
           null,
           null,
           null
          ],
          [
           null,
           null,
           null,
           null,
           null,
           null,
           -0.2492028755900798,
           null,
           -0.27571842107248284,
           null,
           null,
           null
          ],
          [
           null,
           null,
           null,
           null,
           null,
           null,
           null,
           null,
           null,
           null,
           null,
           null
          ],
          [
           null,
           null,
           0.20452232446588078,
           0.2862526577044263,
           null,
           0.24746698643181395,
           null,
           null,
           0.25146664994720036,
           null,
           null,
           null
          ],
          [
           0.17297415490018223,
           null,
           null,
           0.22278751435037958,
           null,
           0.17680644664785056,
           null,
           0.16730397229953062,
           null,
           null,
           null,
           null
          ],
          [
           null,
           null,
           0.25926084536734534,
           -0.23835230636980395,
           -0.24080591082566,
           null,
           null,
           null,
           null,
           0.2594422206453963,
           0.3073907906790352,
           null
          ],
          [
           0.18585580534696053,
           null,
           null,
           null,
           null,
           null,
           null,
           null,
           null,
           null,
           null,
           null
          ],
          [
           null,
           null,
           null,
           null,
           null,
           null,
           null,
           null,
           null,
           null,
           null,
           null
          ],
          [
           null,
           null,
           null,
           null,
           null,
           null,
           null,
           null,
           null,
           -0.1909633353430818,
           null,
           0.17477533313370672
          ],
          [
           0.24692963683296817,
           null,
           -0.2908284218596439,
           null,
           null,
           null,
           null,
           null,
           null,
           -0.3146010997439566,
           -0.30012182675278415,
           0.27488506669862856
          ],
          [
           0.35275756931102514,
           0.4239237437895086,
           0.3156858508917342,
           0.28788206207726597,
           0.35736752393311316,
           0.34647522089896277,
           null,
           null,
           null,
           null,
           null,
           null
          ],
          [
           null,
           null,
           null,
           null,
           null,
           null,
           null,
           null,
           null,
           null,
           null,
           null
          ],
          [
           -0.1758257136062094,
           null,
           null,
           null,
           null,
           null,
           null,
           null,
           -0.1959592626436961,
           null,
           null,
           null
          ],
          [
           null,
           null,
           null,
           null,
           null,
           null,
           null,
           null,
           null,
           null,
           null,
           null
          ],
          [
           null,
           0.23019280691360475,
           null,
           null,
           0.22483796714994075,
           null,
           null,
           null,
           null,
           null,
           null,
           null
          ],
          [
           null,
           null,
           null,
           null,
           null,
           null,
           null,
           null,
           null,
           null,
           null,
           null
          ],
          [
           null,
           null,
           null,
           null,
           null,
           null,
           null,
           null,
           null,
           null,
           null,
           null
          ],
          [
           null,
           null,
           null,
           null,
           0.251358700531671,
           null,
           null,
           null,
           null,
           -0.2177357831124527,
           null,
           0.23484082307073081
          ],
          [
           null,
           null,
           null,
           null,
           null,
           null,
           null,
           null,
           null,
           null,
           null,
           null
          ],
          [
           null,
           0.27459585100968936,
           0.3356368982444929,
           null,
           0.2619228273172677,
           0.33251534593478477,
           null,
           null,
           null,
           null,
           null,
           null
          ],
          [
           -0.2436039191236973,
           -0.21600738885595383,
           null,
           null,
           null,
           null,
           null,
           null,
           null,
           null,
           null,
           null
          ],
          [
           null,
           0.18456281911101352,
           null,
           null,
           null,
           0.2162372261522765,
           null,
           0.2146138727428277,
           null,
           null,
           null,
           null
          ],
          [
           null,
           null,
           0.2915331535042829,
           null,
           null,
           0.42523162606459974,
           null,
           null,
           0.4562453156718086,
           null,
           null,
           null
          ],
          [
           null,
           null,
           null,
           null,
           null,
           null,
           null,
           0.23108066246150874,
           null,
           null,
           null,
           null
          ],
          [
           null,
           null,
           null,
           null,
           null,
           null,
           null,
           null,
           null,
           null,
           null,
           null
          ],
          [
           null,
           null,
           -0.19391179051196775,
           null,
           null,
           null,
           null,
           null,
           null,
           null,
           null,
           null
          ],
          [
           null,
           null,
           null,
           null,
           null,
           null,
           null,
           null,
           null,
           0.1871507392012538,
           0.17734299067251802,
           null
          ],
          [
           null,
           null,
           null,
           null,
           null,
           null,
           null,
           null,
           null,
           null,
           -0.1863828796298384,
           null
          ],
          [
           null,
           null,
           null,
           0.35308225911996155,
           null,
           null,
           null,
           null,
           null,
           null,
           null,
           null
          ],
          [
           null,
           null,
           null,
           null,
           null,
           null,
           null,
           null,
           null,
           null,
           null,
           null
          ],
          [
           null,
           null,
           null,
           null,
           null,
           null,
           null,
           null,
           -0.24572375401498187,
           null,
           null,
           null
          ],
          [
           null,
           null,
           null,
           null,
           0.22123217220761313,
           null,
           null,
           null,
           null,
           -0.3168878829838058,
           -0.3341534841083259,
           0.22019836487090644
          ],
          [
           null,
           null,
           null,
           null,
           null,
           null,
           null,
           0.16391166912720007,
           null,
           null,
           null,
           null
          ],
          [
           -0.3953210666411013,
           null,
           null,
           null,
           null,
           null,
           null,
           -0.32584269710923125,
           null,
           null,
           null,
           null
          ],
          [
           null,
           null,
           null,
           null,
           null,
           null,
           null,
           null,
           null,
           null,
           null,
           null
          ],
          [
           null,
           null,
           null,
           null,
           null,
           null,
           null,
           null,
           null,
           null,
           null,
           null
          ],
          [
           -0.256370348250181,
           null,
           null,
           null,
           null,
           null,
           null,
           null,
           null,
           null,
           null,
           null
          ],
          [
           null,
           null,
           -0.1745489458329281,
           0.2508785616023824,
           null,
           null,
           null,
           null,
           null,
           -0.17585625734336283,
           -0.2217497137296419,
           null
          ],
          [
           null,
           null,
           null,
           null,
           null,
           0.3198615022174573,
           0.252063144352194,
           -0.19872458128957893,
           0.40000757712215174,
           null,
           null,
           null
          ],
          [
           null,
           null,
           0.25391438971528923,
           0.2968989707640085,
           -0.2269182653157329,
           0.33893387744691705,
           0.18625559358448945,
           0.2584807418053608,
           0.4260723738814654,
           0.2578919044510469,
           0.22971616727202557,
           -0.3142121868460469
          ],
          [
           null,
           null,
           null,
           0.21370800499673412,
           null,
           null,
           null,
           null,
           null,
           null,
           null,
           null
          ],
          [
           null,
           null,
           null,
           null,
           null,
           null,
           null,
           null,
           -0.19295336823217166,
           null,
           0.18784215247141356,
           null
          ],
          [
           null,
           null,
           null,
           null,
           null,
           null,
           null,
           null,
           null,
           null,
           null,
           null
          ],
          [
           null,
           null,
           null,
           null,
           0.26092355597039174,
           null,
           null,
           null,
           null,
           -0.20638222947999035,
           null,
           0.20446905371930377
          ],
          [
           null,
           0.33438379295261983,
           null,
           0.331955945054565,
           0.335139480708968,
           null,
           null,
           0.3672160141965131,
           null,
           null,
           null,
           null
          ],
          [
           -0.2068573486449557,
           null,
           null,
           null,
           null,
           -0.30662833037562764,
           -0.18332485920011063,
           null,
           null,
           null,
           null,
           null
          ],
          [
           0.16820381450387198,
           -0.2193423769946448,
           null,
           null,
           -0.19649235764436107,
           -0.22400450244258402,
           null,
           null,
           -0.3029886369581094,
           null,
           null,
           null
          ],
          [
           null,
           0.19148196314076785,
           0.3720001905565857,
           null,
           null,
           null,
           null,
           null,
           null,
           0.22011994419460876,
           0.2622433085424323,
           null
          ],
          [
           null,
           0.3297185024551003,
           null,
           null,
           0.4177060610399847,
           0.2576611556446226,
           null,
           null,
           null,
           -0.31631683872758065,
           null,
           0.3567723282975702
          ],
          [
           null,
           0.2926696832579186,
           0.2882352941176471,
           null,
           null,
           null,
           null,
           null,
           null,
           null,
           null,
           null
          ],
          [
           null,
           null,
           -0.20825958358578786,
           null,
           null,
           null,
           null,
           -0.17592131285845167,
           null,
           null,
           -0.1878387286907872,
           null
          ],
          [
           null,
           null,
           null,
           0.3205719653480848,
           null,
           null,
           null,
           null,
           null,
           null,
           null,
           null
          ],
          [
           0.23875658166094665,
           null,
           null,
           null,
           null,
           null,
           0.19108950996222945,
           null,
           null,
           null,
           null,
           null
          ],
          [
           null,
           0.3662431761489573,
           null,
           null,
           null,
           null,
           null,
           null,
           null,
           null,
           null,
           null
          ],
          [
           null,
           null,
           null,
           null,
           null,
           null,
           null,
           null,
           null,
           null,
           null,
           null
          ],
          [
           0.32993061302050597,
           null,
           null,
           null,
           null,
           0.2944641515348468,
           null,
           null,
           null,
           null,
           null,
           null
          ],
          [
           null,
           0.22000276776513247,
           null,
           null,
           0.21125363842998923,
           -0.18066241705689437,
           null,
           null,
           -0.15426958898626286,
           null,
           null,
           null
          ],
          [
           null,
           null,
           null,
           null,
           null,
           null,
           null,
           null,
           null,
           null,
           null,
           null
          ],
          [
           null,
           null,
           null,
           null,
           null,
           null,
           null,
           null,
           null,
           null,
           null,
           null
          ],
          [
           null,
           null,
           null,
           0.18143345027445854,
           null,
           null,
           null,
           null,
           null,
           null,
           null,
           -0.1808484985122126
          ],
          [
           null,
           null,
           null,
           null,
           null,
           0.3463421120320203,
           0.2621739291816268,
           null,
           0.3488328846639351,
           null,
           null,
           null
          ],
          [
           null,
           null,
           null,
           null,
           null,
           null,
           null,
           null,
           null,
           null,
           null,
           null
          ],
          [
           null,
           null,
           null,
           null,
           null,
           null,
           null,
           -0.18281667617939776,
           null,
           null,
           null,
           null
          ],
          [
           null,
           null,
           null,
           null,
           null,
           null,
           0.2132497098074974,
           null,
           null,
           null,
           null,
           null
          ],
          [
           null,
           null,
           0.24147367893381014,
           null,
           null,
           0.1969645945979923,
           null,
           null,
           null,
           0.19673127723653733,
           0.20229409508695134,
           null
          ],
          [
           null,
           null,
           null,
           -0.19018813616302419,
           null,
           null,
           0.18214959888898555,
           null,
           -0.16109565908531312,
           null,
           0.18392228441722303,
           null
          ],
          [
           null,
           0.21261078246958473,
           null,
           0.25171493766164765,
           null,
           0.20544888026796312,
           null,
           null,
           null,
           null,
           null,
           null
          ],
          [
           null,
           null,
           null,
           null,
           null,
           null,
           null,
           null,
           null,
           null,
           null,
           null
          ],
          [
           0.2648152414823376,
           0.310953055305944,
           0.24365315855179417,
           0.19020617413874807,
           null,
           0.29523080541855773,
           null,
           null,
           null,
           null,
           null,
           null
          ],
          [
           null,
           null,
           null,
           null,
           null,
           null,
           null,
           null,
           null,
           null,
           null,
           null
          ],
          [
           null,
           0.2553443275642742,
           0.24515193177123173,
           null,
           null,
           null,
           null,
           null,
           null,
           null,
           null,
           null
          ],
          [
           null,
           null,
           0.22643679641439202,
           null,
           null,
           null,
           null,
           null,
           null,
           0.2085318905142374,
           0.2189375439074155,
           null
          ],
          [
           null,
           null,
           0.22145509586490095,
           null,
           null,
           null,
           0.19516626533226195,
           null,
           null,
           null,
           0.21018486038296577,
           null
          ],
          [
           0.22275273232579723,
           null,
           null,
           null,
           null,
           null,
           null,
           null,
           null,
           null,
           null,
           null
          ],
          [
           0.28940122024509723,
           0.33296566832463637,
           0.37401559620694996,
           null,
           0.26829776239353575,
           0.24097742331815905,
           null,
           null,
           null,
           null,
           null,
           null
          ],
          [
           null,
           null,
           null,
           null,
           null,
           null,
           null,
           null,
           null,
           null,
           null,
           null
          ],
          [
           0.253459577680907,
           null,
           null,
           null,
           null,
           null,
           null,
           null,
           null,
           null,
           null,
           null
          ],
          [
           null,
           null,
           null,
           null,
           null,
           -0.15022309315917506,
           null,
           null,
           -0.15517980674216697,
           null,
           null,
           null
          ],
          [
           -0.39309590405427386,
           null,
           null,
           null,
           null,
           null,
           null,
           null,
           null,
           null,
           null,
           null
          ],
          [
           null,
           null,
           null,
           null,
           null,
           null,
           null,
           null,
           null,
           null,
           null,
           null
          ],
          [
           0.30213093310631783,
           null,
           0.474880500838634,
           null,
           -0.5275802555079313,
           0.20023275236811897,
           0.20563076542696926,
           null,
           null,
           0.5368623146093786,
           0.5208786730185565,
           -0.5750757761173417
          ],
          [
           null,
           0.18577204976658063,
           0.2095583201783975,
           null,
           null,
           null,
           null,
           null,
           null,
           0.17547457270423006,
           0.1619780498992475,
           -0.17632038725332494
          ],
          [
           null,
           null,
           null,
           null,
           null,
           null,
           null,
           null,
           null,
           null,
           null,
           null
          ],
          [
           null,
           null,
           null,
           null,
           null,
           null,
           null,
           null,
           null,
           null,
           null,
           null
          ],
          [
           null,
           0.19363474725527235,
           0.24197761874890183,
           null,
           null,
           0.21804532595158935,
           0.2507543448319024,
           null,
           0.46564978489736714,
           0.1855659038122245,
           0.1980615869454983,
           null
          ],
          [
           null,
           0.36845331905774387,
           0.43548234972172567,
           0.25170835894359084,
           null,
           0.2553671491319598,
           null,
           0.32526260544300967,
           null,
           0.3559519924936996,
           0.31566609265323653,
           -0.30668161544444633
          ],
          [
           null,
           null,
           null,
           null,
           null,
           null,
           null,
           null,
           -0.17540165542237326,
           null,
           null,
           null
          ],
          [
           null,
           null,
           null,
           null,
           null,
           null,
           null,
           null,
           null,
           null,
           null,
           null
          ],
          [
           null,
           null,
           null,
           null,
           null,
           null,
           null,
           null,
           null,
           null,
           null,
           null
          ],
          [
           null,
           null,
           null,
           null,
           null,
           null,
           null,
           null,
           null,
           null,
           null,
           null
          ],
          [
           null,
           null,
           null,
           0.1857771169333334,
           null,
           null,
           null,
           null,
           null,
           null,
           null,
           null
          ],
          [
           null,
           null,
           null,
           null,
           0.21066051562912794,
           null,
           null,
           null,
           null,
           -0.25695751358110663,
           -0.27282637002774424,
           0.2295685803766449
          ],
          [
           null,
           null,
           null,
           null,
           null,
           null,
           null,
           null,
           null,
           null,
           null,
           null
          ],
          [
           null,
           null,
           null,
           null,
           null,
           null,
           null,
           null,
           null,
           null,
           null,
           null
          ],
          [
           null,
           null,
           null,
           0.20476982033195362,
           null,
           null,
           null,
           null,
           null,
           null,
           null,
           -0.2455250127232776
          ],
          [
           null,
           null,
           null,
           null,
           null,
           null,
           null,
           null,
           null,
           null,
           null,
           null
          ],
          [
           null,
           null,
           null,
           null,
           null,
           null,
           null,
           null,
           null,
           null,
           null,
           null
          ],
          [
           null,
           null,
           null,
           null,
           null,
           null,
           null,
           null,
           null,
           null,
           null,
           null
          ],
          [
           null,
           null,
           -0.19378714887234058,
           null,
           null,
           null,
           null,
           null,
           null,
           null,
           null,
           null
          ],
          [
           0.29284483366337194,
           0.31655990485210683,
           0.29305824689387894,
           0.22961864209795918,
           0.22134299615446915,
           0.36056801070269423,
           null,
           0.26050582753059304,
           0.1968017419520372,
           null,
           null,
           null
          ]
         ]
        }
       ],
       "layout": {
        "template": {
         "data": {
          "bar": [
           {
            "error_x": {
             "color": "#2a3f5f"
            },
            "error_y": {
             "color": "#2a3f5f"
            },
            "marker": {
             "line": {
              "color": "#E5ECF6",
              "width": 0.5
             }
            },
            "type": "bar"
           }
          ],
          "barpolar": [
           {
            "marker": {
             "line": {
              "color": "#E5ECF6",
              "width": 0.5
             }
            },
            "type": "barpolar"
           }
          ],
          "carpet": [
           {
            "aaxis": {
             "endlinecolor": "#2a3f5f",
             "gridcolor": "white",
             "linecolor": "white",
             "minorgridcolor": "white",
             "startlinecolor": "#2a3f5f"
            },
            "baxis": {
             "endlinecolor": "#2a3f5f",
             "gridcolor": "white",
             "linecolor": "white",
             "minorgridcolor": "white",
             "startlinecolor": "#2a3f5f"
            },
            "type": "carpet"
           }
          ],
          "choropleth": [
           {
            "colorbar": {
             "outlinewidth": 0,
             "ticks": ""
            },
            "type": "choropleth"
           }
          ],
          "contour": [
           {
            "colorbar": {
             "outlinewidth": 0,
             "ticks": ""
            },
            "colorscale": [
             [
              0,
              "#0d0887"
             ],
             [
              0.1111111111111111,
              "#46039f"
             ],
             [
              0.2222222222222222,
              "#7201a8"
             ],
             [
              0.3333333333333333,
              "#9c179e"
             ],
             [
              0.4444444444444444,
              "#bd3786"
             ],
             [
              0.5555555555555556,
              "#d8576b"
             ],
             [
              0.6666666666666666,
              "#ed7953"
             ],
             [
              0.7777777777777778,
              "#fb9f3a"
             ],
             [
              0.8888888888888888,
              "#fdca26"
             ],
             [
              1,
              "#f0f921"
             ]
            ],
            "type": "contour"
           }
          ],
          "contourcarpet": [
           {
            "colorbar": {
             "outlinewidth": 0,
             "ticks": ""
            },
            "type": "contourcarpet"
           }
          ],
          "heatmap": [
           {
            "colorbar": {
             "outlinewidth": 0,
             "ticks": ""
            },
            "colorscale": [
             [
              0,
              "#0d0887"
             ],
             [
              0.1111111111111111,
              "#46039f"
             ],
             [
              0.2222222222222222,
              "#7201a8"
             ],
             [
              0.3333333333333333,
              "#9c179e"
             ],
             [
              0.4444444444444444,
              "#bd3786"
             ],
             [
              0.5555555555555556,
              "#d8576b"
             ],
             [
              0.6666666666666666,
              "#ed7953"
             ],
             [
              0.7777777777777778,
              "#fb9f3a"
             ],
             [
              0.8888888888888888,
              "#fdca26"
             ],
             [
              1,
              "#f0f921"
             ]
            ],
            "type": "heatmap"
           }
          ],
          "heatmapgl": [
           {
            "colorbar": {
             "outlinewidth": 0,
             "ticks": ""
            },
            "colorscale": [
             [
              0,
              "#0d0887"
             ],
             [
              0.1111111111111111,
              "#46039f"
             ],
             [
              0.2222222222222222,
              "#7201a8"
             ],
             [
              0.3333333333333333,
              "#9c179e"
             ],
             [
              0.4444444444444444,
              "#bd3786"
             ],
             [
              0.5555555555555556,
              "#d8576b"
             ],
             [
              0.6666666666666666,
              "#ed7953"
             ],
             [
              0.7777777777777778,
              "#fb9f3a"
             ],
             [
              0.8888888888888888,
              "#fdca26"
             ],
             [
              1,
              "#f0f921"
             ]
            ],
            "type": "heatmapgl"
           }
          ],
          "histogram": [
           {
            "marker": {
             "colorbar": {
              "outlinewidth": 0,
              "ticks": ""
             }
            },
            "type": "histogram"
           }
          ],
          "histogram2d": [
           {
            "colorbar": {
             "outlinewidth": 0,
             "ticks": ""
            },
            "colorscale": [
             [
              0,
              "#0d0887"
             ],
             [
              0.1111111111111111,
              "#46039f"
             ],
             [
              0.2222222222222222,
              "#7201a8"
             ],
             [
              0.3333333333333333,
              "#9c179e"
             ],
             [
              0.4444444444444444,
              "#bd3786"
             ],
             [
              0.5555555555555556,
              "#d8576b"
             ],
             [
              0.6666666666666666,
              "#ed7953"
             ],
             [
              0.7777777777777778,
              "#fb9f3a"
             ],
             [
              0.8888888888888888,
              "#fdca26"
             ],
             [
              1,
              "#f0f921"
             ]
            ],
            "type": "histogram2d"
           }
          ],
          "histogram2dcontour": [
           {
            "colorbar": {
             "outlinewidth": 0,
             "ticks": ""
            },
            "colorscale": [
             [
              0,
              "#0d0887"
             ],
             [
              0.1111111111111111,
              "#46039f"
             ],
             [
              0.2222222222222222,
              "#7201a8"
             ],
             [
              0.3333333333333333,
              "#9c179e"
             ],
             [
              0.4444444444444444,
              "#bd3786"
             ],
             [
              0.5555555555555556,
              "#d8576b"
             ],
             [
              0.6666666666666666,
              "#ed7953"
             ],
             [
              0.7777777777777778,
              "#fb9f3a"
             ],
             [
              0.8888888888888888,
              "#fdca26"
             ],
             [
              1,
              "#f0f921"
             ]
            ],
            "type": "histogram2dcontour"
           }
          ],
          "mesh3d": [
           {
            "colorbar": {
             "outlinewidth": 0,
             "ticks": ""
            },
            "type": "mesh3d"
           }
          ],
          "parcoords": [
           {
            "line": {
             "colorbar": {
              "outlinewidth": 0,
              "ticks": ""
             }
            },
            "type": "parcoords"
           }
          ],
          "pie": [
           {
            "automargin": true,
            "type": "pie"
           }
          ],
          "scatter": [
           {
            "marker": {
             "colorbar": {
              "outlinewidth": 0,
              "ticks": ""
             }
            },
            "type": "scatter"
           }
          ],
          "scatter3d": [
           {
            "line": {
             "colorbar": {
              "outlinewidth": 0,
              "ticks": ""
             }
            },
            "marker": {
             "colorbar": {
              "outlinewidth": 0,
              "ticks": ""
             }
            },
            "type": "scatter3d"
           }
          ],
          "scattercarpet": [
           {
            "marker": {
             "colorbar": {
              "outlinewidth": 0,
              "ticks": ""
             }
            },
            "type": "scattercarpet"
           }
          ],
          "scattergeo": [
           {
            "marker": {
             "colorbar": {
              "outlinewidth": 0,
              "ticks": ""
             }
            },
            "type": "scattergeo"
           }
          ],
          "scattergl": [
           {
            "marker": {
             "colorbar": {
              "outlinewidth": 0,
              "ticks": ""
             }
            },
            "type": "scattergl"
           }
          ],
          "scattermapbox": [
           {
            "marker": {
             "colorbar": {
              "outlinewidth": 0,
              "ticks": ""
             }
            },
            "type": "scattermapbox"
           }
          ],
          "scatterpolar": [
           {
            "marker": {
             "colorbar": {
              "outlinewidth": 0,
              "ticks": ""
             }
            },
            "type": "scatterpolar"
           }
          ],
          "scatterpolargl": [
           {
            "marker": {
             "colorbar": {
              "outlinewidth": 0,
              "ticks": ""
             }
            },
            "type": "scatterpolargl"
           }
          ],
          "scatterternary": [
           {
            "marker": {
             "colorbar": {
              "outlinewidth": 0,
              "ticks": ""
             }
            },
            "type": "scatterternary"
           }
          ],
          "surface": [
           {
            "colorbar": {
             "outlinewidth": 0,
             "ticks": ""
            },
            "colorscale": [
             [
              0,
              "#0d0887"
             ],
             [
              0.1111111111111111,
              "#46039f"
             ],
             [
              0.2222222222222222,
              "#7201a8"
             ],
             [
              0.3333333333333333,
              "#9c179e"
             ],
             [
              0.4444444444444444,
              "#bd3786"
             ],
             [
              0.5555555555555556,
              "#d8576b"
             ],
             [
              0.6666666666666666,
              "#ed7953"
             ],
             [
              0.7777777777777778,
              "#fb9f3a"
             ],
             [
              0.8888888888888888,
              "#fdca26"
             ],
             [
              1,
              "#f0f921"
             ]
            ],
            "type": "surface"
           }
          ],
          "table": [
           {
            "cells": {
             "fill": {
              "color": "#EBF0F8"
             },
             "line": {
              "color": "white"
             }
            },
            "header": {
             "fill": {
              "color": "#C8D4E3"
             },
             "line": {
              "color": "white"
             }
            },
            "type": "table"
           }
          ]
         },
         "layout": {
          "annotationdefaults": {
           "arrowcolor": "#2a3f5f",
           "arrowhead": 0,
           "arrowwidth": 1
          },
          "coloraxis": {
           "colorbar": {
            "outlinewidth": 0,
            "ticks": ""
           }
          },
          "colorscale": {
           "diverging": [
            [
             0,
             "#8e0152"
            ],
            [
             0.1,
             "#c51b7d"
            ],
            [
             0.2,
             "#de77ae"
            ],
            [
             0.3,
             "#f1b6da"
            ],
            [
             0.4,
             "#fde0ef"
            ],
            [
             0.5,
             "#f7f7f7"
            ],
            [
             0.6,
             "#e6f5d0"
            ],
            [
             0.7,
             "#b8e186"
            ],
            [
             0.8,
             "#7fbc41"
            ],
            [
             0.9,
             "#4d9221"
            ],
            [
             1,
             "#276419"
            ]
           ],
           "sequential": [
            [
             0,
             "#0d0887"
            ],
            [
             0.1111111111111111,
             "#46039f"
            ],
            [
             0.2222222222222222,
             "#7201a8"
            ],
            [
             0.3333333333333333,
             "#9c179e"
            ],
            [
             0.4444444444444444,
             "#bd3786"
            ],
            [
             0.5555555555555556,
             "#d8576b"
            ],
            [
             0.6666666666666666,
             "#ed7953"
            ],
            [
             0.7777777777777778,
             "#fb9f3a"
            ],
            [
             0.8888888888888888,
             "#fdca26"
            ],
            [
             1,
             "#f0f921"
            ]
           ],
           "sequentialminus": [
            [
             0,
             "#0d0887"
            ],
            [
             0.1111111111111111,
             "#46039f"
            ],
            [
             0.2222222222222222,
             "#7201a8"
            ],
            [
             0.3333333333333333,
             "#9c179e"
            ],
            [
             0.4444444444444444,
             "#bd3786"
            ],
            [
             0.5555555555555556,
             "#d8576b"
            ],
            [
             0.6666666666666666,
             "#ed7953"
            ],
            [
             0.7777777777777778,
             "#fb9f3a"
            ],
            [
             0.8888888888888888,
             "#fdca26"
            ],
            [
             1,
             "#f0f921"
            ]
           ]
          },
          "colorway": [
           "#636efa",
           "#EF553B",
           "#00cc96",
           "#ab63fa",
           "#FFA15A",
           "#19d3f3",
           "#FF6692",
           "#B6E880",
           "#FF97FF",
           "#FECB52"
          ],
          "font": {
           "color": "#2a3f5f"
          },
          "geo": {
           "bgcolor": "white",
           "lakecolor": "white",
           "landcolor": "#E5ECF6",
           "showlakes": true,
           "showland": true,
           "subunitcolor": "white"
          },
          "hoverlabel": {
           "align": "left"
          },
          "hovermode": "closest",
          "mapbox": {
           "style": "light"
          },
          "paper_bgcolor": "white",
          "plot_bgcolor": "#E5ECF6",
          "polar": {
           "angularaxis": {
            "gridcolor": "white",
            "linecolor": "white",
            "ticks": ""
           },
           "bgcolor": "#E5ECF6",
           "radialaxis": {
            "gridcolor": "white",
            "linecolor": "white",
            "ticks": ""
           }
          },
          "scene": {
           "xaxis": {
            "backgroundcolor": "#E5ECF6",
            "gridcolor": "white",
            "gridwidth": 2,
            "linecolor": "white",
            "showbackground": true,
            "ticks": "",
            "zerolinecolor": "white"
           },
           "yaxis": {
            "backgroundcolor": "#E5ECF6",
            "gridcolor": "white",
            "gridwidth": 2,
            "linecolor": "white",
            "showbackground": true,
            "ticks": "",
            "zerolinecolor": "white"
           },
           "zaxis": {
            "backgroundcolor": "#E5ECF6",
            "gridcolor": "white",
            "gridwidth": 2,
            "linecolor": "white",
            "showbackground": true,
            "ticks": "",
            "zerolinecolor": "white"
           }
          },
          "shapedefaults": {
           "line": {
            "color": "#2a3f5f"
           }
          },
          "ternary": {
           "aaxis": {
            "gridcolor": "white",
            "linecolor": "white",
            "ticks": ""
           },
           "baxis": {
            "gridcolor": "white",
            "linecolor": "white",
            "ticks": ""
           },
           "bgcolor": "#E5ECF6",
           "caxis": {
            "gridcolor": "white",
            "linecolor": "white",
            "ticks": ""
           }
          },
          "title": {
           "x": 0.05
          },
          "xaxis": {
           "automargin": true,
           "gridcolor": "white",
           "linecolor": "white",
           "ticks": "",
           "title": {
            "standoff": 15
           },
           "zerolinecolor": "white",
           "zerolinewidth": 2
          },
          "yaxis": {
           "automargin": true,
           "gridcolor": "white",
           "linecolor": "white",
           "ticks": "",
           "title": {
            "standoff": 15
           },
           "zerolinecolor": "white",
           "zerolinewidth": 2
          }
         }
        },
        "title": {
         "text": "Personalized correlations between the wakeup glucose and dietary features from the day before",
         "x": 0.5,
         "xanchor": "center",
         "y": 0.95,
         "yanchor": "top"
        },
        "xaxis": {
         "title": {
          "text": "Dietary features"
         }
        },
        "yaxis": {
         "title": {
          "text": "Registration Code"
         }
        }
       }
      },
      "text/html": [
       "<div>\n",
       "        \n",
       "        \n",
       "            <div id=\"4d0078a5-8421-4bcb-a8bb-a3e35001755b\" class=\"plotly-graph-div\" style=\"height:525px; width:100%;\"></div>\n",
       "            <script type=\"text/javascript\">\n",
       "                require([\"plotly\"], function(Plotly) {\n",
       "                    window.PLOTLYENV=window.PLOTLYENV || {};\n",
       "                    \n",
       "                if (document.getElementById(\"4d0078a5-8421-4bcb-a8bb-a3e35001755b\")) {\n",
       "                    Plotly.newPlot(\n",
       "                        '4d0078a5-8421-4bcb-a8bb-a3e35001755b',\n",
       "                        [{\"hoverongaps\": false, \"type\": \"heatmap\", \"x\": [\"totaldietaryfiber_g\", \"energy_kcal\", \"carbohydrate_g\", \"protein_g\", \"totallipid_g\", \"weight\", \"sugarstotal_g\", \"sodium_mg\", \"caffeine_mg\", \"carbs/lipids\", \"caloric%carbs\", \"caloric%fat\"], \"y\": [\"rc111527\", \"rc126092\", \"rc12752\", \"rc130279\", \"rc132095\", \"rc132178\", \"rc133828\", \"rc136529\", \"rc139531\", \"rc140050\", \"rc142162\", \"rc143892\", \"rc147121\", \"rc147867\", \"rc148574\", \"rc154750\", \"rc155314\", \"rc158748\", \"rc168236\", \"rc17298\", \"rc173854\", \"rc187022\", \"rc190009\", \"rc199369\", \"rc203977\", \"rc207579\", \"rc211261\", \"rc215130\", \"rc216303\", \"rc225207\", \"rc228851\", \"rc24153\", \"rc242185\", \"rc243235\", \"rc246043\", \"rc249651\", \"rc251582\", \"rc252002\", \"rc280392\", \"rc287239\", \"rc2893\", \"rc292372\", \"rc292738\", \"rc299260\", \"rc300747\", \"rc302974\", \"rc309076\", \"rc313112\", \"rc322846\", \"rc326754\", \"rc32708\", \"rc328155\", \"rc331758\", \"rc336079\", \"rc3375786\", \"rc339142\", \"rc347571\", \"rc351160\", \"rc356171\", \"rc356392\", \"rc3579890\", \"rc358113\", \"rc363101\", \"rc368667\", \"rc371755\", \"rc372475\", \"rc376789\", \"rc381034\", \"rc381094\", \"rc388245\", \"rc393528\", \"rc394693\", \"rc403032\", \"rc406329\", \"rc407703\", \"rc41275\", \"rc424661\", \"rc429455\", \"rc429763\", \"rc433346\", \"rc43647\", \"rc439484\", \"rc439864\", \"rc445179\", \"rc448705\", \"rc451959\", \"rc456910\", \"rc462007\", \"rc463455\", \"rc469047\", \"rc470856\", \"rc476133\", \"rc479878\", \"rc491836\", \"rc492806\", \"rc494678\", \"rc494901\", \"rc495288\", \"rc496680\", \"rc49674\", \"rc501757\", \"rc509553\", \"rc518788\", \"rc525994\", \"rc533401\", \"rc536037\", \"rc54400\", \"rc549830\", \"rc550818\", \"rc56031\", \"rc563437\", \"rc573718\", \"rc579543\", \"rc583231\", \"rc585490\", \"rc590916\", \"rc596834\", \"rc599101\", \"rc602810\", \"rc605764\", \"rc613617\", \"rc621142\", \"rc624435\", \"rc625103\", \"rc626391\", \"rc628781\", \"rc630920\", \"rc631485\", \"rc64952\", \"rc656660\", \"rc657584\", \"rc67951\", \"rc679548\", \"rc682027\", \"rc683035\", \"rc693878\", \"rc69789\", \"rc702207\", \"rc704171\", \"rc705938\", \"rc721061\", \"rc723796\", \"rc724901\", \"rc740203\", \"rc742096\", \"rc745073\", \"rc753413\", \"rc76307\", \"rc766836\", \"rc772380\", \"rc78283\", \"rc783563\", \"rc784057\", \"rc794434\", \"rc794542\", \"rc800808\", \"rc804157\", \"rc805227\", \"rc81477\", \"rc818980\", \"rc820101\", \"rc824245\", \"rc825349\", \"rc828334\", \"rc831208\", \"rc831919\", \"rc832748\", \"rc834183\", \"rc834851\", \"rc838820\", \"rc840825\", \"rc847993\", \"rc848164\", \"rc848368\", \"rc85854\", \"rc859286\", \"rc865727\", \"rc867514\", \"rc868780\", \"rc869485\", \"rc885039\", \"rc895129\", \"rc895596\", \"rc900460\", \"rc903238\", \"rc904671\", \"rc908190\", \"rc91050\", \"rc922039\", \"rc927011\", \"rc932700\", \"rc93282\", \"rc933765\", \"rc93928\", \"rc941542\", \"rc946729\", \"rc948714\", \"rc954295\", \"rc954766\", \"rc963150\", \"rc967551\", \"rc972181\", \"rc979162\", \"rc981727\", \"rc988899\", \"rc992638\", \"rc997735\"], \"z\": [[null, null, null, null, -0.19013964207833847, null, null, null, null, 0.24124322459590464, 0.21390335659180168, -0.2305845913887956], [null, null, 0.23908736221005175, null, null, 0.31693144850680977, null, 0.21843605164532548, null, 0.20905732181093875, 0.18512634947437104, -0.18574957325239377], [null, null, null, null, null, 0.25117159540988965, null, null, 0.436132981144565, null, null, -0.28395467491142173], [0.26210594852386937, null, null, null, null, null, null, null, null, null, null, null], [null, null, null, null, null, null, null, -0.21667159143249037, null, null, null, null], [null, null, null, null, 0.16787892327472745, 0.19732007015083988, null, 0.2968892388078616, null, -0.21610392167557294, -0.19194429164192478, 0.1879736022763609], [null, null, null, 0.30233067876272357, null, null, null, null, null, null, null, null], [0.23222682178196874, 0.37295872996225693, 0.23645955258723547, 0.26565042172140035, 0.20435471736701016, null, null, null, null, null, null, null], [null, null, null, null, null, null, null, null, null, null, null, null], [null, null, null, null, null, null, null, null, null, null, null, null], [null, null, null, null, null, null, null, null, null, -0.2030121371874359, -0.20016587186398507, null], [null, null, 0.1709689816042127, null, null, null, 0.17298486179391387, null, null, null, 0.16678764871763765, null], [null, null, 0.238617696605045, null, null, null, null, null, null, 0.269411107603549, 0.2739407179079278, -0.22446438353038722], [null, null, null, null, null, null, null, null, -0.2810898812677129, null, null, null], [null, null, null, null, null, null, null, null, null, null, null, null], [-0.31621616420472215, null, null, null, null, null, null, null, null, null, null, null], [null, null, null, null, null, null, null, null, null, null, 0.18360903601912779, null], [null, null, 0.31804500047693696, null, null, null, null, null, 0.3254169677165141, null, 0.28847482036916466, null], [null, null, null, null, null, null, null, null, null, null, null, null], [null, null, null, null, null, null, null, null, null, null, 0.207501372642316, null], [null, null, null, null, null, null, null, null, null, null, null, null], [-0.18312723192971317, null, null, null, null, null, null, null, null, null, null, null], [null, null, null, null, null, null, null, null, null, null, null, null], [null, 0.2534947515833294, 0.3099267774610361, null, null, 0.2579882344312623, null, null, null, null, null, null], [null, null, null, null, null, null, null, -0.23634598064251874, null, null, null, null], [0.3868233725685297, null, null, null, null, null, null, null, null, null, null, null], [null, null, null, null, null, null, null, null, null, null, null, null], [0.23419993779725662, 0.28346038383898026, 0.310580505171477, 0.1586317534831822, null, 0.34000493451280034, 0.29248122668390053, null, 0.28430200822076224, null, 0.15964546856052902, null], [null, 0.3639967866354581, 0.26338290800264835, 0.2624717964780471, 0.29422565853281846, 0.35886614411957407, null, 0.38299777333931173, null, null, null, null], [null, null, null, null, null, null, null, null, null, null, null, null], [null, null, null, null, null, 0.2048460090855623, null, null, 0.22604992376797475, null, null, -0.18483917211853798], [null, -0.25166628947319847, -0.265885292303052, null, null, null, null, null, null, -0.23429496054427357, null, null], [null, null, null, null, null, null, null, null, null, null, null, null], [null, 0.33771942316436054, null, 0.3554251574478184, null, 0.2882158810805404, null, 0.2416871155285439, null, null, null, null], [null, null, 0.17603300585240078, null, null, null, null, 0.17703806260207589, 0.2306322197318702, 0.16635262500378023, 0.18435480170238125, null], [null, null, null, null, null, null, null, null, null, null, null, null], [null, null, null, 0.26436124659261767, null, null, null, null, null, null, null, null], [null, null, -0.26086321485856867, null, null, null, null, null, null, null, null, null], [null, null, null, null, null, null, -0.24665224129310184, null, -0.2581793131835892, null, null, null], [null, 0.22328240360022633, 0.17863969295580845, null, 0.2415695061870738, null, null, null, null, null, null, 0.1746814585866321], [null, 0.2836336537113665, null, 0.33379100295542713, 0.21993252411587358, null, null, null, null, null, null, null], [null, null, null, null, null, -0.15599810440879897, null, null, null, null, null, null], [0.2005624764140861, 0.20615819393924842, null, null, null, 0.19275939164154157, null, null, null, null, null, null], [null, null, null, null, null, null, null, null, -0.2578335311139312, -0.22637381779217944, -0.22031149669451874, 0.2242949967335561], [null, null, null, null, null, null, null, -0.32196879124000477, null, null, null, null], [null, null, null, null, null, null, null, null, null, null, null, null], [0.23563653159316603, 0.3661519840216745, 0.3210489014984852, null, 0.2420557659172624, null, null, null, 0.34451698744345116, null, null, null], [-0.29653347102624544, null, null, null, null, null, null, null, null, null, null, null], [null, null, null, null, -0.24309506865610328, 0.25096125171783273, 0.1800908912572974, null, null, 0.2357762541524853, 0.18865953152965667, -0.26404836370792273], [null, null, null, null, null, null, null, null, null, null, null, null], [null, null, null, null, null, null, null, null, null, null, null, null], [null, null, -0.24188569597377585, null, null, null, null, null, null, null, null, null], [null, null, -0.2618034355601484, null, null, null, null, -0.31536884313516156, null, null, null, null], [null, 0.1823425706131321, null, null, null, null, null, null, null, null, null, null], [null, null, -0.27095546174783247, null, null, null, -0.2199374297716226, -0.3376970507113521, -0.22420341299489546, null, null, null], [null, null, null, null, null, null, null, null, null, null, null, null], [null, null, null, null, null, null, null, null, null, null, null, null], [-0.4091998118312843, null, null, null, null, null, null, null, null, null, null, null], [null, null, -0.3566450817144619, null, null, -0.3487511563367252, null, null, -0.3241701833248109, -0.300277520814061, -0.33999383287079865, null], [0.23954498593139428, null, 0.19031776775692338, null, null, 0.18943276279900417, null, 0.19862569388021703, null, 0.21592267559703535, null, -0.26907857547791925], [null, null, 0.17937618341093314, 0.17848397830950266, null, null, null, null, null, null, null, -0.1809226722534127], [null, null, null, null, null, null, null, null, null, null, null, null], [null, null, null, null, null, null, null, null, null, null, null, null], [null, null, null, null, 0.2662227187210155, null, null, null, null, null, null, null], [null, null, -0.18651983146489132, null, null, null, null, null, null, -0.1898368952288073, -0.15941559772465602, 0.18071173028412874], [-0.22251472806922598, null, -0.37594825761393713, null, null, null, -0.3881278539405256, null, null, -0.3632281380980834, -0.3750804472623519, 0.294596263207769], [0.17162665032301563, null, 0.21810263280582853, null, null, null, null, null, null, null, 0.20952284211252958, null], [null, null, null, -0.22216677419822603, null, 0.26552334816731055, null, null, null, null, null, null], [null, null, 0.22014681781160825, 0.18116440260658098, null, 0.28147207990005885, null, 0.18919317790584264, null, 0.22489026865519166, 0.20142998029556541, -0.24144373144535416], [null, null, 0.23431334959553093, null, null, null, null, null, null, null, null, null], [null, null, null, null, null, null, null, null, null, null, null, null], [null, null, null, null, null, null, null, null, null, null, null, null], [null, null, null, null, null, null, null, null, null, null, null, -0.20297383828420798], [null, 0.17490962307675276, 0.2001376377192313, null, null, null, null, null, null, null, null, null], [null, null, null, null, null, null, null, null, null, null, null, null], [null, null, null, null, null, 0.2809480121641949, null, null, null, null, null, null], [null, null, null, null, null, 0.2257423874958663, null, null, null, null, null, null], [null, null, null, null, null, null, null, -0.19591519710656183, null, null, null, null], [null, 0.3342617046818727, null, null, 0.2790396158463385, null, null, null, null, null, null, null], [null, null, null, null, null, null, null, null, null, null, null, null], [null, null, null, null, null, 0.1692819990542671, null, null, null, null, null, null], [null, null, null, null, null, null, null, -0.1995269570019057, null, null, null, null], [null, null, null, null, null, null, null, null, null, null, null, null], [null, null, null, null, 0.1598382690743337, null, null, null, null, null, null, null], [null, null, null, null, null, null, -0.32256860580829316, null, null, null, null, null], [0.20929838399553105, null, 0.3909687940991059, null, null, 0.3225011310446516, null, null, -0.19398347918105735, 0.3568762319773829, 0.33286801760547835, -0.32590653039605083], [null, null, null, null, null, null, null, null, null, null, null, null], [null, null, null, null, null, null, null, null, null, null, null, null], [null, null, null, null, null, null, null, null, null, null, null, null], [null, null, null, null, null, null, null, null, null, null, null, null], [null, null, null, null, null, null, null, null, null, null, null, null], [null, null, null, null, 0.17414727246324335, null, null, null, null, null, null, null], [0.1810179285249469, null, null, null, null, 0.1887812950637574, null, null, null, null, null, null], [null, null, null, null, null, null, null, null, null, -0.16145750427637365, null, null], [null, null, null, null, null, null, null, null, null, null, null, null], [null, null, null, null, null, 0.21710968074999004, null, 0.2910375887081209, 0.2068159174027118, null, null, null], [null, null, null, 0.21691587551957658, null, null, null, null, null, null, null, null], [null, null, null, null, null, null, null, null, null, null, null, null], [null, null, null, null, null, null, null, null, null, null, null, null], [null, null, null, null, null, null, null, null, null, null, null, null], [0.22779494465716876, null, null, null, null, null, null, null, null, null, null, null], [null, null, null, null, null, null, null, null, null, null, null, null], [null, null, null, null, null, 0.21437726912666805, null, null, 0.2103454190074789, null, null, null], [null, null, null, -0.20831697325784904, null, null, null, null, null, null, null, null], [null, 0.3581449305660773, 0.4209305188270414, 0.25517835628163965, null, 0.5371838246576741, 0.21058992483873687, 0.284281909536492, 0.31969592702449146, 0.30207358059347666, 0.2928303125498295, -0.30516959047088876], [null, null, null, null, null, null, null, null, null, null, null, null], [null, null, null, null, null, null, null, null, null, null, null, null], [null, null, null, null, null, null, null, null, null, null, null, null], [null, null, null, null, null, null, -0.2492028755900798, null, -0.27571842107248284, null, null, null], [null, null, null, null, null, null, null, null, null, null, null, null], [null, null, 0.20452232446588078, 0.2862526577044263, null, 0.24746698643181395, null, null, 0.25146664994720036, null, null, null], [0.17297415490018223, null, null, 0.22278751435037958, null, 0.17680644664785056, null, 0.16730397229953062, null, null, null, null], [null, null, 0.25926084536734534, -0.23835230636980395, -0.24080591082566, null, null, null, null, 0.2594422206453963, 0.3073907906790352, null], [0.18585580534696053, null, null, null, null, null, null, null, null, null, null, null], [null, null, null, null, null, null, null, null, null, null, null, null], [null, null, null, null, null, null, null, null, null, -0.1909633353430818, null, 0.17477533313370672], [0.24692963683296817, null, -0.2908284218596439, null, null, null, null, null, null, -0.3146010997439566, -0.30012182675278415, 0.27488506669862856], [0.35275756931102514, 0.4239237437895086, 0.3156858508917342, 0.28788206207726597, 0.35736752393311316, 0.34647522089896277, null, null, null, null, null, null], [null, null, null, null, null, null, null, null, null, null, null, null], [-0.1758257136062094, null, null, null, null, null, null, null, -0.1959592626436961, null, null, null], [null, null, null, null, null, null, null, null, null, null, null, null], [null, 0.23019280691360475, null, null, 0.22483796714994075, null, null, null, null, null, null, null], [null, null, null, null, null, null, null, null, null, null, null, null], [null, null, null, null, null, null, null, null, null, null, null, null], [null, null, null, null, 0.251358700531671, null, null, null, null, -0.2177357831124527, null, 0.23484082307073081], [null, null, null, null, null, null, null, null, null, null, null, null], [null, 0.27459585100968936, 0.3356368982444929, null, 0.2619228273172677, 0.33251534593478477, null, null, null, null, null, null], [-0.2436039191236973, -0.21600738885595383, null, null, null, null, null, null, null, null, null, null], [null, 0.18456281911101352, null, null, null, 0.2162372261522765, null, 0.2146138727428277, null, null, null, null], [null, null, 0.2915331535042829, null, null, 0.42523162606459974, null, null, 0.4562453156718086, null, null, null], [null, null, null, null, null, null, null, 0.23108066246150874, null, null, null, null], [null, null, null, null, null, null, null, null, null, null, null, null], [null, null, -0.19391179051196775, null, null, null, null, null, null, null, null, null], [null, null, null, null, null, null, null, null, null, 0.1871507392012538, 0.17734299067251802, null], [null, null, null, null, null, null, null, null, null, null, -0.1863828796298384, null], [null, null, null, 0.35308225911996155, null, null, null, null, null, null, null, null], [null, null, null, null, null, null, null, null, null, null, null, null], [null, null, null, null, null, null, null, null, -0.24572375401498187, null, null, null], [null, null, null, null, 0.22123217220761313, null, null, null, null, -0.3168878829838058, -0.3341534841083259, 0.22019836487090644], [null, null, null, null, null, null, null, 0.16391166912720007, null, null, null, null], [-0.3953210666411013, null, null, null, null, null, null, -0.32584269710923125, null, null, null, null], [null, null, null, null, null, null, null, null, null, null, null, null], [null, null, null, null, null, null, null, null, null, null, null, null], [-0.256370348250181, null, null, null, null, null, null, null, null, null, null, null], [null, null, -0.1745489458329281, 0.2508785616023824, null, null, null, null, null, -0.17585625734336283, -0.2217497137296419, null], [null, null, null, null, null, 0.3198615022174573, 0.252063144352194, -0.19872458128957893, 0.40000757712215174, null, null, null], [null, null, 0.25391438971528923, 0.2968989707640085, -0.2269182653157329, 0.33893387744691705, 0.18625559358448945, 0.2584807418053608, 0.4260723738814654, 0.2578919044510469, 0.22971616727202557, -0.3142121868460469], [null, null, null, 0.21370800499673412, null, null, null, null, null, null, null, null], [null, null, null, null, null, null, null, null, -0.19295336823217166, null, 0.18784215247141356, null], [null, null, null, null, null, null, null, null, null, null, null, null], [null, null, null, null, 0.26092355597039174, null, null, null, null, -0.20638222947999035, null, 0.20446905371930377], [null, 0.33438379295261983, null, 0.331955945054565, 0.335139480708968, null, null, 0.3672160141965131, null, null, null, null], [-0.2068573486449557, null, null, null, null, -0.30662833037562764, -0.18332485920011063, null, null, null, null, null], [0.16820381450387198, -0.2193423769946448, null, null, -0.19649235764436107, -0.22400450244258402, null, null, -0.3029886369581094, null, null, null], [null, 0.19148196314076785, 0.3720001905565857, null, null, null, null, null, null, 0.22011994419460876, 0.2622433085424323, null], [null, 0.3297185024551003, null, null, 0.4177060610399847, 0.2576611556446226, null, null, null, -0.31631683872758065, null, 0.3567723282975702], [null, 0.2926696832579186, 0.2882352941176471, null, null, null, null, null, null, null, null, null], [null, null, -0.20825958358578786, null, null, null, null, -0.17592131285845167, null, null, -0.1878387286907872, null], [null, null, null, 0.3205719653480848, null, null, null, null, null, null, null, null], [0.23875658166094665, null, null, null, null, null, 0.19108950996222945, null, null, null, null, null], [null, 0.3662431761489573, null, null, null, null, null, null, null, null, null, null], [null, null, null, null, null, null, null, null, null, null, null, null], [0.32993061302050597, null, null, null, null, 0.2944641515348468, null, null, null, null, null, null], [null, 0.22000276776513247, null, null, 0.21125363842998923, -0.18066241705689437, null, null, -0.15426958898626286, null, null, null], [null, null, null, null, null, null, null, null, null, null, null, null], [null, null, null, null, null, null, null, null, null, null, null, null], [null, null, null, 0.18143345027445854, null, null, null, null, null, null, null, -0.1808484985122126], [null, null, null, null, null, 0.3463421120320203, 0.2621739291816268, null, 0.3488328846639351, null, null, null], [null, null, null, null, null, null, null, null, null, null, null, null], [null, null, null, null, null, null, null, -0.18281667617939776, null, null, null, null], [null, null, null, null, null, null, 0.2132497098074974, null, null, null, null, null], [null, null, 0.24147367893381014, null, null, 0.1969645945979923, null, null, null, 0.19673127723653733, 0.20229409508695134, null], [null, null, null, -0.19018813616302419, null, null, 0.18214959888898555, null, -0.16109565908531312, null, 0.18392228441722303, null], [null, 0.21261078246958473, null, 0.25171493766164765, null, 0.20544888026796312, null, null, null, null, null, null], [null, null, null, null, null, null, null, null, null, null, null, null], [0.2648152414823376, 0.310953055305944, 0.24365315855179417, 0.19020617413874807, null, 0.29523080541855773, null, null, null, null, null, null], [null, null, null, null, null, null, null, null, null, null, null, null], [null, 0.2553443275642742, 0.24515193177123173, null, null, null, null, null, null, null, null, null], [null, null, 0.22643679641439202, null, null, null, null, null, null, 0.2085318905142374, 0.2189375439074155, null], [null, null, 0.22145509586490095, null, null, null, 0.19516626533226195, null, null, null, 0.21018486038296577, null], [0.22275273232579723, null, null, null, null, null, null, null, null, null, null, null], [0.28940122024509723, 0.33296566832463637, 0.37401559620694996, null, 0.26829776239353575, 0.24097742331815905, null, null, null, null, null, null], [null, null, null, null, null, null, null, null, null, null, null, null], [0.253459577680907, null, null, null, null, null, null, null, null, null, null, null], [null, null, null, null, null, -0.15022309315917506, null, null, -0.15517980674216697, null, null, null], [-0.39309590405427386, null, null, null, null, null, null, null, null, null, null, null], [null, null, null, null, null, null, null, null, null, null, null, null], [0.30213093310631783, null, 0.474880500838634, null, -0.5275802555079313, 0.20023275236811897, 0.20563076542696926, null, null, 0.5368623146093786, 0.5208786730185565, -0.5750757761173417], [null, 0.18577204976658063, 0.2095583201783975, null, null, null, null, null, null, 0.17547457270423006, 0.1619780498992475, -0.17632038725332494], [null, null, null, null, null, null, null, null, null, null, null, null], [null, null, null, null, null, null, null, null, null, null, null, null], [null, 0.19363474725527235, 0.24197761874890183, null, null, 0.21804532595158935, 0.2507543448319024, null, 0.46564978489736714, 0.1855659038122245, 0.1980615869454983, null], [null, 0.36845331905774387, 0.43548234972172567, 0.25170835894359084, null, 0.2553671491319598, null, 0.32526260544300967, null, 0.3559519924936996, 0.31566609265323653, -0.30668161544444633], [null, null, null, null, null, null, null, null, -0.17540165542237326, null, null, null], [null, null, null, null, null, null, null, null, null, null, null, null], [null, null, null, null, null, null, null, null, null, null, null, null], [null, null, null, null, null, null, null, null, null, null, null, null], [null, null, null, 0.1857771169333334, null, null, null, null, null, null, null, null], [null, null, null, null, 0.21066051562912794, null, null, null, null, -0.25695751358110663, -0.27282637002774424, 0.2295685803766449], [null, null, null, null, null, null, null, null, null, null, null, null], [null, null, null, null, null, null, null, null, null, null, null, null], [null, null, null, 0.20476982033195362, null, null, null, null, null, null, null, -0.2455250127232776], [null, null, null, null, null, null, null, null, null, null, null, null], [null, null, null, null, null, null, null, null, null, null, null, null], [null, null, null, null, null, null, null, null, null, null, null, null], [null, null, -0.19378714887234058, null, null, null, null, null, null, null, null, null], [0.29284483366337194, 0.31655990485210683, 0.29305824689387894, 0.22961864209795918, 0.22134299615446915, 0.36056801070269423, null, 0.26050582753059304, 0.1968017419520372, null, null, null]]}],\n",
       "                        {\"template\": {\"data\": {\"bar\": [{\"error_x\": {\"color\": \"#2a3f5f\"}, \"error_y\": {\"color\": \"#2a3f5f\"}, \"marker\": {\"line\": {\"color\": \"#E5ECF6\", \"width\": 0.5}}, \"type\": \"bar\"}], \"barpolar\": [{\"marker\": {\"line\": {\"color\": \"#E5ECF6\", \"width\": 0.5}}, \"type\": \"barpolar\"}], \"carpet\": [{\"aaxis\": {\"endlinecolor\": \"#2a3f5f\", \"gridcolor\": \"white\", \"linecolor\": \"white\", \"minorgridcolor\": \"white\", \"startlinecolor\": \"#2a3f5f\"}, \"baxis\": {\"endlinecolor\": \"#2a3f5f\", \"gridcolor\": \"white\", \"linecolor\": \"white\", \"minorgridcolor\": \"white\", \"startlinecolor\": \"#2a3f5f\"}, \"type\": \"carpet\"}], \"choropleth\": [{\"colorbar\": {\"outlinewidth\": 0, \"ticks\": \"\"}, \"type\": \"choropleth\"}], \"contour\": [{\"colorbar\": {\"outlinewidth\": 0, \"ticks\": \"\"}, \"colorscale\": [[0.0, \"#0d0887\"], [0.1111111111111111, \"#46039f\"], [0.2222222222222222, \"#7201a8\"], [0.3333333333333333, \"#9c179e\"], [0.4444444444444444, \"#bd3786\"], [0.5555555555555556, \"#d8576b\"], [0.6666666666666666, \"#ed7953\"], [0.7777777777777778, \"#fb9f3a\"], [0.8888888888888888, \"#fdca26\"], [1.0, \"#f0f921\"]], \"type\": \"contour\"}], \"contourcarpet\": [{\"colorbar\": {\"outlinewidth\": 0, \"ticks\": \"\"}, \"type\": \"contourcarpet\"}], \"heatmap\": [{\"colorbar\": {\"outlinewidth\": 0, \"ticks\": \"\"}, \"colorscale\": [[0.0, \"#0d0887\"], [0.1111111111111111, \"#46039f\"], [0.2222222222222222, \"#7201a8\"], [0.3333333333333333, \"#9c179e\"], [0.4444444444444444, \"#bd3786\"], [0.5555555555555556, \"#d8576b\"], [0.6666666666666666, \"#ed7953\"], [0.7777777777777778, \"#fb9f3a\"], [0.8888888888888888, \"#fdca26\"], [1.0, \"#f0f921\"]], \"type\": \"heatmap\"}], \"heatmapgl\": [{\"colorbar\": {\"outlinewidth\": 0, \"ticks\": \"\"}, \"colorscale\": [[0.0, \"#0d0887\"], [0.1111111111111111, \"#46039f\"], [0.2222222222222222, \"#7201a8\"], [0.3333333333333333, \"#9c179e\"], [0.4444444444444444, \"#bd3786\"], [0.5555555555555556, \"#d8576b\"], [0.6666666666666666, \"#ed7953\"], [0.7777777777777778, \"#fb9f3a\"], [0.8888888888888888, \"#fdca26\"], [1.0, \"#f0f921\"]], \"type\": \"heatmapgl\"}], \"histogram\": [{\"marker\": {\"colorbar\": {\"outlinewidth\": 0, \"ticks\": \"\"}}, \"type\": \"histogram\"}], \"histogram2d\": [{\"colorbar\": {\"outlinewidth\": 0, \"ticks\": \"\"}, \"colorscale\": [[0.0, \"#0d0887\"], [0.1111111111111111, \"#46039f\"], [0.2222222222222222, \"#7201a8\"], [0.3333333333333333, \"#9c179e\"], [0.4444444444444444, \"#bd3786\"], [0.5555555555555556, \"#d8576b\"], [0.6666666666666666, \"#ed7953\"], [0.7777777777777778, \"#fb9f3a\"], [0.8888888888888888, \"#fdca26\"], [1.0, \"#f0f921\"]], \"type\": \"histogram2d\"}], \"histogram2dcontour\": [{\"colorbar\": {\"outlinewidth\": 0, \"ticks\": \"\"}, \"colorscale\": [[0.0, \"#0d0887\"], [0.1111111111111111, \"#46039f\"], [0.2222222222222222, \"#7201a8\"], [0.3333333333333333, \"#9c179e\"], [0.4444444444444444, \"#bd3786\"], [0.5555555555555556, \"#d8576b\"], [0.6666666666666666, \"#ed7953\"], [0.7777777777777778, \"#fb9f3a\"], [0.8888888888888888, \"#fdca26\"], [1.0, \"#f0f921\"]], \"type\": \"histogram2dcontour\"}], \"mesh3d\": [{\"colorbar\": {\"outlinewidth\": 0, \"ticks\": \"\"}, \"type\": \"mesh3d\"}], \"parcoords\": [{\"line\": {\"colorbar\": {\"outlinewidth\": 0, \"ticks\": \"\"}}, \"type\": \"parcoords\"}], \"pie\": [{\"automargin\": true, \"type\": \"pie\"}], \"scatter\": [{\"marker\": {\"colorbar\": {\"outlinewidth\": 0, \"ticks\": \"\"}}, \"type\": \"scatter\"}], \"scatter3d\": [{\"line\": {\"colorbar\": {\"outlinewidth\": 0, \"ticks\": \"\"}}, \"marker\": {\"colorbar\": {\"outlinewidth\": 0, \"ticks\": \"\"}}, \"type\": \"scatter3d\"}], \"scattercarpet\": [{\"marker\": {\"colorbar\": {\"outlinewidth\": 0, \"ticks\": \"\"}}, \"type\": \"scattercarpet\"}], \"scattergeo\": [{\"marker\": {\"colorbar\": {\"outlinewidth\": 0, \"ticks\": \"\"}}, \"type\": \"scattergeo\"}], \"scattergl\": [{\"marker\": {\"colorbar\": {\"outlinewidth\": 0, \"ticks\": \"\"}}, \"type\": \"scattergl\"}], \"scattermapbox\": [{\"marker\": {\"colorbar\": {\"outlinewidth\": 0, \"ticks\": \"\"}}, \"type\": \"scattermapbox\"}], \"scatterpolar\": [{\"marker\": {\"colorbar\": {\"outlinewidth\": 0, \"ticks\": \"\"}}, \"type\": \"scatterpolar\"}], \"scatterpolargl\": [{\"marker\": {\"colorbar\": {\"outlinewidth\": 0, \"ticks\": \"\"}}, \"type\": \"scatterpolargl\"}], \"scatterternary\": [{\"marker\": {\"colorbar\": {\"outlinewidth\": 0, \"ticks\": \"\"}}, \"type\": \"scatterternary\"}], \"surface\": [{\"colorbar\": {\"outlinewidth\": 0, \"ticks\": \"\"}, \"colorscale\": [[0.0, \"#0d0887\"], [0.1111111111111111, \"#46039f\"], [0.2222222222222222, \"#7201a8\"], [0.3333333333333333, \"#9c179e\"], [0.4444444444444444, \"#bd3786\"], [0.5555555555555556, \"#d8576b\"], [0.6666666666666666, \"#ed7953\"], [0.7777777777777778, \"#fb9f3a\"], [0.8888888888888888, \"#fdca26\"], [1.0, \"#f0f921\"]], \"type\": \"surface\"}], \"table\": [{\"cells\": {\"fill\": {\"color\": \"#EBF0F8\"}, \"line\": {\"color\": \"white\"}}, \"header\": {\"fill\": {\"color\": \"#C8D4E3\"}, \"line\": {\"color\": \"white\"}}, \"type\": \"table\"}]}, \"layout\": {\"annotationdefaults\": {\"arrowcolor\": \"#2a3f5f\", \"arrowhead\": 0, \"arrowwidth\": 1}, \"coloraxis\": {\"colorbar\": {\"outlinewidth\": 0, \"ticks\": \"\"}}, \"colorscale\": {\"diverging\": [[0, \"#8e0152\"], [0.1, \"#c51b7d\"], [0.2, \"#de77ae\"], [0.3, \"#f1b6da\"], [0.4, \"#fde0ef\"], [0.5, \"#f7f7f7\"], [0.6, \"#e6f5d0\"], [0.7, \"#b8e186\"], [0.8, \"#7fbc41\"], [0.9, \"#4d9221\"], [1, \"#276419\"]], \"sequential\": [[0.0, \"#0d0887\"], [0.1111111111111111, \"#46039f\"], [0.2222222222222222, \"#7201a8\"], [0.3333333333333333, \"#9c179e\"], [0.4444444444444444, \"#bd3786\"], [0.5555555555555556, \"#d8576b\"], [0.6666666666666666, \"#ed7953\"], [0.7777777777777778, \"#fb9f3a\"], [0.8888888888888888, \"#fdca26\"], [1.0, \"#f0f921\"]], \"sequentialminus\": [[0.0, \"#0d0887\"], [0.1111111111111111, \"#46039f\"], [0.2222222222222222, \"#7201a8\"], [0.3333333333333333, \"#9c179e\"], [0.4444444444444444, \"#bd3786\"], [0.5555555555555556, \"#d8576b\"], [0.6666666666666666, \"#ed7953\"], [0.7777777777777778, \"#fb9f3a\"], [0.8888888888888888, \"#fdca26\"], [1.0, \"#f0f921\"]]}, \"colorway\": [\"#636efa\", \"#EF553B\", \"#00cc96\", \"#ab63fa\", \"#FFA15A\", \"#19d3f3\", \"#FF6692\", \"#B6E880\", \"#FF97FF\", \"#FECB52\"], \"font\": {\"color\": \"#2a3f5f\"}, \"geo\": {\"bgcolor\": \"white\", \"lakecolor\": \"white\", \"landcolor\": \"#E5ECF6\", \"showlakes\": true, \"showland\": true, \"subunitcolor\": \"white\"}, \"hoverlabel\": {\"align\": \"left\"}, \"hovermode\": \"closest\", \"mapbox\": {\"style\": \"light\"}, \"paper_bgcolor\": \"white\", \"plot_bgcolor\": \"#E5ECF6\", \"polar\": {\"angularaxis\": {\"gridcolor\": \"white\", \"linecolor\": \"white\", \"ticks\": \"\"}, \"bgcolor\": \"#E5ECF6\", \"radialaxis\": {\"gridcolor\": \"white\", \"linecolor\": \"white\", \"ticks\": \"\"}}, \"scene\": {\"xaxis\": {\"backgroundcolor\": \"#E5ECF6\", \"gridcolor\": \"white\", \"gridwidth\": 2, \"linecolor\": \"white\", \"showbackground\": true, \"ticks\": \"\", \"zerolinecolor\": \"white\"}, \"yaxis\": {\"backgroundcolor\": \"#E5ECF6\", \"gridcolor\": \"white\", \"gridwidth\": 2, \"linecolor\": \"white\", \"showbackground\": true, \"ticks\": \"\", \"zerolinecolor\": \"white\"}, \"zaxis\": {\"backgroundcolor\": \"#E5ECF6\", \"gridcolor\": \"white\", \"gridwidth\": 2, \"linecolor\": \"white\", \"showbackground\": true, \"ticks\": \"\", \"zerolinecolor\": \"white\"}}, \"shapedefaults\": {\"line\": {\"color\": \"#2a3f5f\"}}, \"ternary\": {\"aaxis\": {\"gridcolor\": \"white\", \"linecolor\": \"white\", \"ticks\": \"\"}, \"baxis\": {\"gridcolor\": \"white\", \"linecolor\": \"white\", \"ticks\": \"\"}, \"bgcolor\": \"#E5ECF6\", \"caxis\": {\"gridcolor\": \"white\", \"linecolor\": \"white\", \"ticks\": \"\"}}, \"title\": {\"x\": 0.05}, \"xaxis\": {\"automargin\": true, \"gridcolor\": \"white\", \"linecolor\": \"white\", \"ticks\": \"\", \"title\": {\"standoff\": 15}, \"zerolinecolor\": \"white\", \"zerolinewidth\": 2}, \"yaxis\": {\"automargin\": true, \"gridcolor\": \"white\", \"linecolor\": \"white\", \"ticks\": \"\", \"title\": {\"standoff\": 15}, \"zerolinecolor\": \"white\", \"zerolinewidth\": 2}}}, \"title\": {\"text\": \"Personalized correlations between the wakeup glucose and dietary features from the day before\", \"x\": 0.5, \"xanchor\": \"center\", \"y\": 0.95, \"yanchor\": \"top\"}, \"xaxis\": {\"title\": {\"text\": \"Dietary features\"}}, \"yaxis\": {\"title\": {\"text\": \"Registration Code\"}}},\n",
       "                        {\"responsive\": true}\n",
       "                    ).then(function(){\n",
       "                            \n",
       "var gd = document.getElementById('4d0078a5-8421-4bcb-a8bb-a3e35001755b');\n",
       "var x = new MutationObserver(function (mutations, observer) {{\n",
       "        var display = window.getComputedStyle(gd).display;\n",
       "        if (!display || display === 'none') {{\n",
       "            console.log([gd, 'removed!']);\n",
       "            Plotly.purge(gd);\n",
       "            observer.disconnect();\n",
       "        }}\n",
       "}});\n",
       "\n",
       "// Listen for the removal of the full notebook cells\n",
       "var notebookContainer = gd.closest('#notebook-container');\n",
       "if (notebookContainer) {{\n",
       "    x.observe(notebookContainer, {childList: true});\n",
       "}}\n",
       "\n",
       "// Listen for the clearing of the current output cell\n",
       "var outputEl = gd.closest('.output');\n",
       "if (outputEl) {{\n",
       "    x.observe(outputEl, {childList: true});\n",
       "}}\n",
       "\n",
       "                        })\n",
       "                };\n",
       "                });\n",
       "            </script>\n",
       "        </div>"
      ]
     },
     "metadata": {},
     "output_type": "display_data"
    }
   ],
   "source": [
    "plot_corr_heatmap(corr_table_total, savefig=True, filename='corr_total_diet_pnp3_nonfdr')"
   ]
  },
  {
   "cell_type": "code",
   "execution_count": 75,
   "metadata": {
    "ExecuteTime": {
     "end_time": "2020-02-23T14:34:06.749072Z",
     "start_time": "2020-02-23T14:34:06.365357Z"
    },
    "collapsed": true
   },
   "outputs": [
    {
     "data": {
      "application/vnd.plotly.v1+json": {
       "config": {
        "plotlyServerURL": "https://plot.ly"
       },
       "data": [
        {
         "hoverongaps": false,
         "type": "heatmap",
         "x": [
          "totaldietaryfiber_g_b",
          "totaldietaryfiber_g_d",
          "totaldietaryfiber_g_l",
          "energy_kcal_b",
          "energy_kcal_d",
          "energy_kcal_l",
          "carbohydrate_g_b",
          "carbohydrate_g_d",
          "carbohydrate_g_l",
          "protein_g_b",
          "protein_g_d",
          "protein_g_l",
          "totallipid_g_b",
          "totallipid_g_d",
          "totallipid_g_l",
          "weight_b",
          "weight_d",
          "weight_l",
          "sugarstotal_g_b",
          "sugarstotal_g_d",
          "sugarstotal_g_l",
          "sodium_mg_b",
          "sodium_mg_d",
          "sodium_mg_l",
          "caffeine_mg_b",
          "caffeine_mg_d",
          "caffeine_mg_l",
          "carbs/lipids_b",
          "carbs/lipids_d",
          "carbs/lipids_l"
         ],
         "y": [
          "rc111527",
          "rc126092",
          "rc12752",
          "rc130279",
          "rc132095",
          "rc132178",
          "rc133828",
          "rc136529",
          "rc139531",
          "rc140050",
          "rc142162",
          "rc143892",
          "rc147121",
          "rc147867",
          "rc148574",
          "rc154750",
          "rc155314",
          "rc158748",
          "rc168236",
          "rc17298",
          "rc173854",
          "rc187022",
          "rc190009",
          "rc199369",
          "rc203977",
          "rc207579",
          "rc211261",
          "rc215130",
          "rc216303",
          "rc225207",
          "rc228851",
          "rc24153",
          "rc242185",
          "rc243235",
          "rc246043",
          "rc249651",
          "rc251582",
          "rc252002",
          "rc280392",
          "rc287239",
          "rc2893",
          "rc292372",
          "rc292738",
          "rc299260",
          "rc300747",
          "rc302974",
          "rc309076",
          "rc313112",
          "rc322846",
          "rc326754",
          "rc32708",
          "rc328155",
          "rc331758",
          "rc336079",
          "rc3375786",
          "rc339142",
          "rc347571",
          "rc351160",
          "rc356171",
          "rc356392",
          "rc3579890",
          "rc358113",
          "rc363101",
          "rc368667",
          "rc371755",
          "rc372475",
          "rc376789",
          "rc381034",
          "rc381094",
          "rc388245",
          "rc393528",
          "rc394693",
          "rc403032",
          "rc406329",
          "rc407703",
          "rc41275",
          "rc424661",
          "rc429455",
          "rc429763",
          "rc433346",
          "rc43647",
          "rc439484",
          "rc439864",
          "rc445179",
          "rc448705",
          "rc451959",
          "rc456910",
          "rc462007",
          "rc463455",
          "rc469047",
          "rc470856",
          "rc476133",
          "rc479878",
          "rc491836",
          "rc492806",
          "rc494678",
          "rc494901",
          "rc495288",
          "rc496680",
          "rc49674",
          "rc501757",
          "rc509553",
          "rc518788",
          "rc525994",
          "rc533401",
          "rc536037",
          "rc54400",
          "rc549830",
          "rc550818",
          "rc56031",
          "rc563437",
          "rc573718",
          "rc579543",
          "rc583231",
          "rc585490",
          "rc590916",
          "rc596834",
          "rc599101",
          "rc602810",
          "rc605764",
          "rc613617",
          "rc621142",
          "rc624435",
          "rc625103",
          "rc626391",
          "rc628781",
          "rc630920",
          "rc631485",
          "rc64952",
          "rc656660",
          "rc657584",
          "rc67951",
          "rc679548",
          "rc682027",
          "rc683035",
          "rc693878",
          "rc69789",
          "rc702207",
          "rc704171",
          "rc705938",
          "rc721061",
          "rc723796",
          "rc724901",
          "rc740203",
          "rc742096",
          "rc745073",
          "rc753413",
          "rc76307",
          "rc766836",
          "rc772380",
          "rc78283",
          "rc783563",
          "rc784057",
          "rc794434",
          "rc794542",
          "rc800808",
          "rc804157",
          "rc805227",
          "rc81477",
          "rc818980",
          "rc820101",
          "rc824245",
          "rc825349",
          "rc828334",
          "rc831208",
          "rc831919",
          "rc832748",
          "rc834183",
          "rc834851",
          "rc838820",
          "rc840825",
          "rc847993",
          "rc848164",
          "rc848368",
          "rc85854",
          "rc859286",
          "rc865727",
          "rc867514",
          "rc868780",
          "rc869485",
          "rc885039",
          "rc895129",
          "rc895596",
          "rc900460",
          "rc903238",
          "rc904671",
          "rc908190",
          "rc91050",
          "rc922039",
          "rc927011",
          "rc932700",
          "rc93282",
          "rc933765",
          "rc93928",
          "rc941542",
          "rc946729",
          "rc948714",
          "rc954295",
          "rc954766",
          "rc963150",
          "rc967551",
          "rc972181",
          "rc979162",
          "rc981727",
          "rc988899",
          "rc992638",
          "rc997735"
         ],
         "z": [
          [
           null,
           null,
           null,
           null,
           null,
           null,
           null,
           null,
           null,
           null,
           null,
           null,
           -0.19273442780479894,
           null,
           null,
           null,
           null,
           null,
           null,
           null,
           null,
           null,
           null,
           null,
           null,
           null,
           null,
           0.18488698469276002,
           null,
           0.2116491973759822
          ],
          [
           null,
           null,
           null,
           null,
           null,
           null,
           null,
           null,
           0.1919858450549232,
           null,
           null,
           null,
           null,
           null,
           null,
           0.21591624655843966,
           0.19400839205858583,
           0.1890330882719682,
           null,
           null,
           null,
           null,
           null,
           0.18768477636774547,
           null,
           null,
           null,
           0.1796496933295197,
           null,
           null
          ],
          [
           null,
           null,
           null,
           null,
           null,
           null,
           null,
           null,
           null,
           null,
           null,
           null,
           null,
           null,
           null,
           null,
           null,
           null,
           null,
           null,
           null,
           null,
           null,
           null,
           0.4063162516277845,
           null,
           0.24217399207656407,
           null,
           null,
           0.25891941641655575
          ],
          [
           null,
           null,
           null,
           -0.1740336159979019,
           null,
           null,
           null,
           null,
           null,
           -0.1724650306019606,
           null,
           null,
           null,
           null,
           null,
           null,
           null,
           null,
           null,
           null,
           null,
           -0.2290294422469891,
           null,
           null,
           null,
           null,
           null,
           null,
           null,
           null
          ],
          [
           null,
           null,
           null,
           null,
           null,
           null,
           null,
           null,
           null,
           null,
           null,
           null,
           null,
           null,
           null,
           null,
           null,
           null,
           null,
           null,
           null,
           null,
           null,
           null,
           null,
           null,
           null,
           null,
           null,
           null
          ],
          [
           null,
           null,
           0.2030287105546268,
           null,
           null,
           null,
           null,
           null,
           null,
           -0.16910340598795945,
           null,
           null,
           null,
           null,
           null,
           null,
           null,
           0.16798915894288263,
           null,
           null,
           null,
           null,
           null,
           0.23518991802321687,
           null,
           null,
           null,
           null,
           null,
           -0.2933273499620501
          ],
          [
           null,
           null,
           null,
           null,
           null,
           null,
           null,
           null,
           null,
           null,
           null,
           null,
           null,
           null,
           null,
           null,
           null,
           null,
           null,
           null,
           null,
           null,
           null,
           null,
           null,
           null,
           null,
           null,
           null,
           null
          ],
          [
           null,
           null,
           0.1971583314464352,
           null,
           null,
           0.3183313034004106,
           null,
           null,
           0.2445305923453369,
           null,
           null,
           0.2524555499358708,
           null,
           null,
           0.19598383600848543,
           null,
           null,
           0.24501445311369718,
           null,
           null,
           0.18806996018664454,
           null,
           null,
           null,
           null,
           null,
           0.18629350349683713,
           null,
           null,
           null
          ],
          [
           null,
           null,
           null,
           null,
           null,
           null,
           null,
           null,
           null,
           null,
           null,
           null,
           null,
           null,
           null,
           null,
           null,
           null,
           null,
           null,
           null,
           null,
           null,
           null,
           null,
           null,
           null,
           null,
           null,
           null
          ],
          [
           null,
           null,
           null,
           null,
           null,
           null,
           null,
           0.26438014566275314,
           null,
           null,
           null,
           null,
           null,
           null,
           null,
           0.21345683971765406,
           null,
           null,
           null,
           null,
           null,
           null,
           null,
           null,
           0.2197097881148812,
           null,
           null,
           null,
           0.21913493607401205,
           null
          ],
          [
           null,
           null,
           null,
           null,
           null,
           0.27485640876783757,
           null,
           null,
           null,
           null,
           -0.23030852022083587,
           0.34176306444324245,
           null,
           null,
           0.2265353053292064,
           null,
           null,
           null,
           null,
           null,
           null,
           null,
           null,
           0.26536864575123376,
           null,
           null,
           -0.20010136399547582,
           null,
           null,
           -0.2241010638557511
          ],
          [
           null,
           null,
           null,
           null,
           null,
           null,
           null,
           null,
           null,
           null,
           null,
           null,
           null,
           null,
           null,
           null,
           null,
           null,
           null,
           null,
           0.17784254765152213,
           null,
           null,
           null,
           null,
           null,
           null,
           null,
           null,
           null
          ],
          [
           null,
           null,
           null,
           null,
           null,
           null,
           null,
           0.14963918063890522,
           null,
           null,
           null,
           null,
           null,
           null,
           -0.1646730180905578,
           null,
           0.15453053326874416,
           null,
           null,
           null,
           null,
           null,
           null,
           null,
           null,
           null,
           null,
           null,
           null,
           0.24363633628161976
          ],
          [
           null,
           null,
           null,
           null,
           null,
           null,
           null,
           null,
           null,
           null,
           null,
           null,
           null,
           null,
           null,
           null,
           null,
           null,
           null,
           null,
           null,
           null,
           null,
           null,
           null,
           null,
           -0.4441733554730224,
           null,
           null,
           null
          ],
          [
           null,
           null,
           null,
           -0.24280688749187,
           null,
           null,
           null,
           null,
           null,
           null,
           null,
           null,
           -0.3193136108126855,
           null,
           null,
           null,
           null,
           null,
           null,
           null,
           null,
           null,
           null,
           null,
           null,
           null,
           null,
           null,
           null,
           null
          ],
          [
           -0.23303687078020038,
           null,
           null,
           null,
           null,
           null,
           null,
           null,
           null,
           null,
           -0.20617931077282264,
           null,
           null,
           null,
           null,
           null,
           null,
           null,
           null,
           null,
           null,
           null,
           -0.2440965584519101,
           null,
           null,
           null,
           null,
           null,
           null,
           null
          ],
          [
           null,
           null,
           null,
           null,
           null,
           null,
           null,
           null,
           null,
           null,
           null,
           null,
           null,
           null,
           null,
           null,
           null,
           null,
           null,
           null,
           null,
           null,
           null,
           null,
           null,
           null,
           null,
           null,
           null,
           0.2292034541763085
          ],
          [
           null,
           null,
           null,
           null,
           null,
           null,
           null,
           null,
           0.2012387919702534,
           null,
           null,
           null,
           null,
           null,
           null,
           null,
           null,
           null,
           null,
           null,
           null,
           null,
           null,
           null,
           0.21454905059144974,
           null,
           0.3448496615135297,
           null,
           null,
           null
          ],
          [
           null,
           null,
           null,
           null,
           null,
           null,
           null,
           null,
           null,
           null,
           null,
           null,
           null,
           null,
           null,
           null,
           null,
           null,
           null,
           null,
           null,
           null,
           null,
           null,
           null,
           null,
           null,
           null,
           null,
           null
          ],
          [
           -0.1992003507693376,
           null,
           null,
           null,
           null,
           null,
           null,
           null,
           null,
           -0.22772556355850276,
           null,
           null,
           -0.23069412035599857,
           null,
           null,
           null,
           null,
           null,
           null,
           null,
           null,
           null,
           null,
           null,
           null,
           null,
           null,
           null,
           null,
           null
          ],
          [
           null,
           null,
           null,
           null,
           null,
           0.2076875315750134,
           null,
           null,
           null,
           null,
           null,
           0.24712372057015955,
           null,
           null,
           0.21797402429845653,
           null,
           null,
           null,
           null,
           null,
           null,
           null,
           null,
           null,
           null,
           null,
           null,
           null,
           null,
           null
          ],
          [
           null,
           null,
           null,
           null,
           null,
           null,
           null,
           null,
           null,
           null,
           0.24123034029906998,
           null,
           null,
           null,
           null,
           null,
           null,
           null,
           null,
           null,
           null,
           null,
           null,
           -0.18683886421181928,
           null,
           null,
           null,
           null,
           null,
           null
          ],
          [
           null,
           null,
           null,
           null,
           null,
           null,
           null,
           null,
           null,
           null,
           null,
           null,
           null,
           null,
           null,
           null,
           null,
           null,
           null,
           null,
           null,
           null,
           null,
           null,
           null,
           null,
           null,
           null,
           null,
           null
          ],
          [
           null,
           null,
           null,
           null,
           null,
           null,
           null,
           null,
           null,
           null,
           null,
           null,
           null,
           null,
           null,
           null,
           null,
           null,
           null,
           null,
           null,
           null,
           null,
           null,
           null,
           null,
           null,
           null,
           null,
           null
          ],
          [
           null,
           null,
           null,
           null,
           null,
           null,
           null,
           null,
           null,
           null,
           null,
           null,
           null,
           null,
           null,
           null,
           null,
           null,
           null,
           null,
           null,
           null,
           null,
           null,
           null,
           null,
           null,
           null,
           null,
           null
          ],
          [
           null,
           null,
           null,
           null,
           null,
           null,
           null,
           null,
           null,
           0.2632908486765796,
           null,
           -0.30158862727995406,
           null,
           null,
           null,
           null,
           null,
           null,
           null,
           null,
           null,
           0.25038883507929727,
           null,
           null,
           null,
           -0.24350362022691896,
           null,
           null,
           null,
           null
          ],
          [
           null,
           null,
           null,
           null,
           null,
           null,
           null,
           null,
           null,
           null,
           null,
           null,
           null,
           null,
           null,
           null,
           null,
           null,
           null,
           null,
           null,
           null,
           null,
           null,
           null,
           null,
           null,
           null,
           null,
           null
          ],
          [
           null,
           null,
           0.27723156234374957,
           0.1636969538182693,
           null,
           0.27503989244506505,
           0.2443182791350388,
           null,
           0.2545999046730193,
           null,
           null,
           null,
           null,
           null,
           0.203141669630709,
           0.27422765792944415,
           0.15721834295823123,
           0.22664228010817009,
           null,
           0.16219796841221792,
           0.17394835625842994,
           null,
           null,
           null,
           0.17756441683379776,
           null,
           null,
           0.2504042690102515,
           null,
           null
          ],
          [
           null,
           null,
           null,
           -0.27446523356012487,
           0.33357998469275957,
           null,
           -0.28815280055623466,
           0.2579955616084159,
           null,
           -0.2864078823404522,
           0.25116933488110454,
           null,
           null,
           0.2559220929198036,
           null,
           -0.3054088435880468,
           0.3324258906773065,
           null,
           null,
           null,
           -0.3624958854556117,
           null,
           0.25912392176376925,
           null,
           null,
           null,
           null,
           null,
           null,
           null
          ],
          [
           null,
           null,
           null,
           null,
           0.21280974662577212,
           null,
           null,
           null,
           null,
           null,
           0.2926386737722549,
           null,
           null,
           0.2008512233514781,
           null,
           null,
           0.20455211199293663,
           null,
           null,
           null,
           null,
           null,
           0.286884396927486,
           null,
           null,
           null,
           null,
           null,
           null,
           null
          ],
          [
           null,
           null,
           null,
           null,
           null,
           null,
           null,
           null,
           0.18668005281230482,
           null,
           null,
           null,
           null,
           null,
           null,
           null,
           null,
           null,
           null,
           null,
           null,
           null,
           null,
           null,
           null,
           null,
           0.19205499199679435,
           null,
           null,
           null
          ],
          [
           null,
           null,
           null,
           null,
           null,
           null,
           null,
           null,
           null,
           null,
           null,
           null,
           null,
           null,
           null,
           null,
           null,
           null,
           null,
           null,
           null,
           null,
           null,
           null,
           null,
           null,
           null,
           null,
           null,
           null
          ],
          [
           null,
           null,
           null,
           null,
           null,
           null,
           null,
           null,
           null,
           null,
           null,
           null,
           null,
           null,
           null,
           null,
           -0.1859679478119794,
           null,
           null,
           null,
           null,
           null,
           -0.1905775839877966,
           null,
           0.19697171175291972,
           null,
           null,
           null,
           null,
           null
          ],
          [
           null,
           null,
           null,
           null,
           0.4148339926001046,
           null,
           null,
           0.32907052845546325,
           null,
           null,
           0.32256963226801905,
           null,
           null,
           0.2925545535907603,
           null,
           0.2711049468948199,
           null,
           null,
           null,
           null,
           null,
           null,
           null,
           null,
           0.25296501074243916,
           -0.354865619896802,
           null,
           null,
           null,
           null
          ],
          [
           null,
           0.17156480758330628,
           null,
           null,
           -0.2679735537753033,
           null,
           null,
           null,
           0.2528080997044565,
           null,
           null,
           null,
           null,
           -0.23602817871843684,
           null,
           null,
           null,
           null,
           null,
           null,
           null,
           null,
           null,
           null,
           0.16940959401363254,
           null,
           0.19179651269971407,
           null,
           null,
           0.19062223806787662
          ],
          [
           null,
           null,
           null,
           null,
           null,
           null,
           null,
           null,
           null,
           null,
           null,
           null,
           null,
           null,
           null,
           null,
           null,
           null,
           0.31597256864751544,
           null,
           null,
           null,
           null,
           null,
           null,
           null,
           null,
           null,
           null,
           null
          ],
          [
           null,
           null,
           null,
           null,
           0.18318020622697082,
           null,
           null,
           null,
           null,
           null,
           0.2094996002028357,
           null,
           null,
           0.2002691999858215,
           null,
           null,
           null,
           null,
           null,
           null,
           null,
           null,
           null,
           null,
           null,
           null,
           null,
           null,
           null,
           null
          ],
          [
           null,
           null,
           null,
           null,
           null,
           null,
           null,
           null,
           -0.2441758563492789,
           null,
           null,
           null,
           null,
           null,
           null,
           null,
           null,
           null,
           null,
           null,
           -0.2330051288613188,
           null,
           null,
           null,
           null,
           null,
           null,
           null,
           null,
           null
          ],
          [
           null,
           null,
           null,
           null,
           null,
           null,
           null,
           null,
           null,
           null,
           null,
           null,
           null,
           null,
           null,
           null,
           null,
           null,
           null,
           null,
           null,
           null,
           null,
           null,
           null,
           -0.34962553103261784,
           null,
           null,
           null,
           null
          ],
          [
           null,
           null,
           0.16439411661765888,
           null,
           null,
           0.2874449689669934,
           null,
           null,
           0.26145892435774026,
           null,
           null,
           null,
           null,
           null,
           0.22321445977883472,
           null,
           null,
           null,
           null,
           null,
           null,
           null,
           null,
           null,
           null,
           null,
           null,
           null,
           null,
           null
          ],
          [
           null,
           null,
           null,
           null,
           null,
           null,
           null,
           null,
           null,
           null,
           null,
           0.2977930604424095,
           null,
           null,
           null,
           null,
           null,
           0.19106366088726262,
           null,
           null,
           null,
           null,
           null,
           0.2232050643443297,
           null,
           null,
           null,
           null,
           null,
           null
          ],
          [
           null,
           null,
           -0.21879433637134932,
           null,
           null,
           null,
           null,
           null,
           null,
           null,
           null,
           null,
           null,
           null,
           null,
           null,
           null,
           -0.2038319104180695,
           null,
           null,
           -0.16968265292765503,
           null,
           null,
           null,
           null,
           null,
           null,
           null,
           null,
           null
          ],
          [
           0.2236041032557347,
           null,
           null,
           null,
           0.24978983988135744,
           null,
           null,
           0.24823926817737277,
           null,
           null,
           null,
           null,
           null,
           null,
           null,
           null,
           0.2318208263122704,
           null,
           null,
           null,
           null,
           null,
           null,
           null,
           null,
           null,
           null,
           null,
           null,
           null
          ],
          [
           null,
           null,
           null,
           null,
           null,
           null,
           null,
           null,
           null,
           null,
           null,
           null,
           null,
           null,
           null,
           null,
           null,
           null,
           null,
           null,
           null,
           null,
           null,
           null,
           null,
           null,
           -0.2986770277994144,
           null,
           null,
           null
          ],
          [
           null,
           null,
           null,
           null,
           null,
           null,
           null,
           null,
           null,
           null,
           null,
           null,
           null,
           null,
           null,
           null,
           null,
           null,
           null,
           0.190292171734312,
           null,
           null,
           null,
           null,
           null,
           0.2052026758278607,
           null,
           null,
           null,
           null
          ],
          [
           null,
           null,
           null,
           null,
           null,
           null,
           null,
           null,
           null,
           null,
           null,
           null,
           null,
           null,
           null,
           null,
           null,
           null,
           null,
           null,
           null,
           -0.18454466098678063,
           null,
           null,
           null,
           null,
           null,
           null,
           null,
           null
          ],
          [
           null,
           0.2672625181312297,
           null,
           null,
           0.4263150577170444,
           null,
           null,
           0.2634170398981745,
           null,
           null,
           0.3500589723771173,
           -0.2586977122053052,
           null,
           0.29367298844177137,
           null,
           null,
           0.38878532015764916,
           null,
           null,
           0.21103785776212045,
           null,
           null,
           0.2672518142264265,
           -0.30031295042320544,
           0.2723762216562127,
           null,
           null,
           null,
           null,
           null
          ],
          [
           -0.29641979069581015,
           null,
           null,
           null,
           null,
           null,
           null,
           null,
           null,
           null,
           null,
           null,
           null,
           null,
           null,
           null,
           null,
           null,
           null,
           null,
           null,
           null,
           null,
           null,
           null,
           null,
           null,
           null,
           null,
           null
          ],
          [
           null,
           null,
           null,
           null,
           null,
           null,
           null,
           null,
           null,
           null,
           null,
           null,
           null,
           null,
           -0.2281466499100223,
           null,
           0.20817862545105031,
           null,
           0.1875660347730711,
           null,
           null,
           null,
           null,
           null,
           null,
           null,
           null,
           0.19803117374165594,
           null,
           0.3406331990266508
          ],
          [
           null,
           null,
           null,
           null,
           null,
           null,
           null,
           null,
           null,
           null,
           null,
           0.1993300229659781,
           null,
           null,
           null,
           null,
           null,
           null,
           null,
           null,
           0.2550055610593705,
           null,
           null,
           null,
           null,
           null,
           null,
           null,
           null,
           null
          ],
          [
           null,
           0.258107560071988,
           null,
           null,
           null,
           null,
           null,
           null,
           0.2384223314273187,
           null,
           null,
           null,
           null,
           null,
           null,
           null,
           null,
           null,
           null,
           null,
           null,
           null,
           null,
           null,
           null,
           null,
           null,
           null,
           null,
           null
          ],
          [
           null,
           null,
           null,
           null,
           null,
           null,
           null,
           null,
           -0.3154186182856268,
           null,
           null,
           null,
           null,
           null,
           null,
           null,
           null,
           null,
           null,
           null,
           null,
           null,
           null,
           null,
           null,
           null,
           null,
           null,
           null,
           null
          ],
          [
           null,
           null,
           null,
           null,
           null,
           null,
           null,
           null,
           null,
           null,
           null,
           null,
           null,
           null,
           null,
           null,
           null,
           null,
           null,
           null,
           null,
           null,
           null,
           null,
           null,
           null,
           null,
           null,
           null,
           null
          ],
          [
           null,
           null,
           null,
           null,
           null,
           null,
           null,
           null,
           null,
           null,
           null,
           null,
           null,
           null,
           null,
           null,
           null,
           null,
           null,
           null,
           null,
           null,
           null,
           null,
           null,
           null,
           null,
           null,
           null,
           null
          ],
          [
           null,
           null,
           null,
           null,
           null,
           null,
           -0.22470909581134665,
           null,
           null,
           null,
           null,
           null,
           null,
           null,
           null,
           null,
           null,
           null,
           null,
           null,
           null,
           null,
           null,
           -0.28694093822002437,
           null,
           null,
           null,
           null,
           null,
           null
          ],
          [
           null,
           0.22261388044197372,
           null,
           null,
           0.25031943378572374,
           null,
           null,
           0.2861625919500745,
           null,
           null,
           null,
           null,
           null,
           0.24508485180834694,
           null,
           null,
           null,
           null,
           null,
           null,
           null,
           null,
           null,
           null,
           null,
           null,
           null,
           null,
           null,
           null
          ],
          [
           null,
           null,
           null,
           null,
           null,
           null,
           null,
           null,
           null,
           null,
           null,
           null,
           null,
           null,
           null,
           null,
           null,
           null,
           null,
           null,
           null,
           null,
           null,
           null,
           null,
           null,
           null,
           null,
           null,
           null
          ],
          [
           null,
           null,
           null,
           null,
           null,
           null,
           null,
           null,
           null,
           null,
           null,
           null,
           null,
           null,
           null,
           null,
           null,
           null,
           null,
           null,
           null,
           null,
           null,
           null,
           null,
           null,
           null,
           null,
           null,
           null
          ],
          [
           null,
           null,
           null,
           null,
           null,
           null,
           null,
           -0.42362010484119644,
           null,
           null,
           null,
           null,
           null,
           null,
           null,
           null,
           null,
           null,
           null,
           null,
           null,
           null,
           null,
           null,
           null,
           null,
           null,
           null,
           null,
           null
          ],
          [
           null,
           0.2554745202085438,
           null,
           null,
           0.20833758074827255,
           null,
           null,
           0.27594083905215117,
           null,
           null,
           null,
           null,
           null,
           null,
           null,
           null,
           0.21641896510305295,
           0.1984778806215187,
           null,
           null,
           null,
           null,
           null,
           null,
           null,
           null,
           null,
           null,
           0.2240370313762078,
           null
          ],
          [
           null,
           null,
           null,
           null,
           null,
           null,
           null,
           null,
           null,
           null,
           null,
           null,
           null,
           null,
           null,
           null,
           null,
           null,
           null,
           null,
           0.1944445248657733,
           null,
           null,
           null,
           null,
           null,
           null,
           null,
           null,
           null
          ],
          [
           null,
           null,
           null,
           null,
           null,
           null,
           null,
           null,
           null,
           null,
           null,
           null,
           null,
           null,
           null,
           null,
           -0.2201923556278514,
           null,
           null,
           null,
           null,
           null,
           null,
           null,
           null,
           null,
           null,
           null,
           null,
           null
          ],
          [
           null,
           null,
           null,
           null,
           null,
           null,
           null,
           null,
           null,
           null,
           null,
           null,
           null,
           null,
           null,
           null,
           null,
           null,
           null,
           null,
           null,
           null,
           null,
           null,
           null,
           null,
           null,
           null,
           null,
           null
          ],
          [
           null,
           null,
           null,
           null,
           null,
           null,
           null,
           null,
           null,
           0.26430482200415145,
           null,
           null,
           0.24569813007465283,
           null,
           null,
           null,
           null,
           null,
           null,
           null,
           null,
           null,
           null,
           null,
           null,
           null,
           null,
           null,
           null,
           null
          ],
          [
           null,
           0.18133457946310164,
           null,
           null,
           null,
           null,
           null,
           null,
           null,
           -0.25822153519035346,
           null,
           null,
           null,
           null,
           0.1945069446109006,
           -0.23769937628514376,
           null,
           null,
           null,
           null,
           null,
           null,
           null,
           null,
           null,
           null,
           0.18123437650414304,
           null,
           null,
           -0.20647468173571631
          ],
          [
           null,
           null,
           null,
           null,
           null,
           null,
           -0.20431779168118688,
           null,
           null,
           null,
           null,
           null,
           null,
           null,
           null,
           null,
           null,
           null,
           -0.21178366508548796,
           -0.20880092162665095,
           null,
           null,
           null,
           null,
           null,
           null,
           null,
           null,
           -0.20376723300798327,
           null
          ],
          [
           null,
           null,
           null,
           null,
           null,
           null,
           null,
           null,
           null,
           null,
           null,
           null,
           null,
           null,
           null,
           null,
           null,
           null,
           null,
           0.21677680754469436,
           null,
           null,
           null,
           null,
           null,
           null,
           null,
           null,
           null,
           null
          ],
          [
           null,
           null,
           null,
           null,
           null,
           null,
           null,
           null,
           null,
           null,
           null,
           null,
           null,
           null,
           null,
           null,
           null,
           0.3360435253842559,
           null,
           null,
           null,
           null,
           null,
           null,
           null,
           null,
           null,
           null,
           null,
           null
          ],
          [
           null,
           null,
           null,
           null,
           null,
           null,
           null,
           0.22765190056878978,
           null,
           null,
           null,
           null,
           null,
           null,
           null,
           null,
           null,
           null,
           null,
           null,
           null,
           null,
           null,
           null,
           null,
           -0.18690378699840937,
           null,
           null,
           0.2538490890442864,
           null
          ],
          [
           null,
           null,
           null,
           -0.21574698121574246,
           0.35711127260770625,
           null,
           null,
           0.30805671084675573,
           null,
           null,
           0.2004867143083183,
           null,
           -0.2166176580753362,
           0.26974526429577617,
           null,
           null,
           0.2360176999371192,
           null,
           null,
           null,
           null,
           null,
           null,
           null,
           null,
           null,
           null,
           null,
           null,
           null
          ],
          [
           null,
           null,
           null,
           null,
           null,
           null,
           null,
           null,
           0.21273498080147488,
           null,
           null,
           null,
           null,
           null,
           null,
           null,
           null,
           null,
           null,
           null,
           null,
           null,
           null,
           null,
           null,
           null,
           null,
           null,
           null,
           0.37408561572020965
          ],
          [
           -0.2862640947858906,
           null,
           null,
           null,
           null,
           null,
           -0.34281951451960635,
           null,
           null,
           null,
           null,
           null,
           null,
           null,
           null,
           null,
           null,
           null,
           null,
           null,
           null,
           null,
           0.2525274558555134,
           null,
           0.300553133233685,
           null,
           null,
           null,
           null,
           null
          ],
          [
           null,
           null,
           null,
           null,
           null,
           null,
           0.1802302278435342,
           null,
           null,
           null,
           null,
           null,
           null,
           -0.2287997278358186,
           null,
           null,
           null,
           null,
           null,
           null,
           null,
           null,
           null,
           null,
           null,
           0.21624083543400965,
           null,
           null,
           null,
           0.22223128946245463
          ],
          [
           -0.17605350450575777,
           null,
           null,
           null,
           null,
           null,
           null,
           null,
           null,
           0.19334583448723444,
           null,
           null,
           0.2436805600631705,
           null,
           null,
           null,
           null,
           null,
           -0.1765000934671894,
           null,
           -0.20421641788524897,
           0.2955629571861143,
           null,
           null,
           null,
           null,
           null,
           -0.2114620683605646,
           null,
           null
          ],
          [
           null,
           null,
           null,
           null,
           null,
           null,
           null,
           null,
           null,
           null,
           null,
           null,
           null,
           null,
           null,
           null,
           0.20929534839842162,
           null,
           null,
           null,
           -0.17691458513136288,
           null,
           null,
           null,
           null,
           null,
           null,
           null,
           null,
           null
          ],
          [
           null,
           null,
           null,
           null,
           null,
           null,
           null,
           null,
           null,
           null,
           null,
           null,
           null,
           null,
           null,
           null,
           null,
           0.20377868091109747,
           null,
           null,
           null,
           null,
           -0.20559765925969592,
           null,
           null,
           null,
           null,
           null,
           null,
           null
          ],
          [
           null,
           null,
           0.3408983697489672,
           -0.3010397641959694,
           null,
           null,
           -0.29553815831115315,
           null,
           null,
           -0.2278978276363948,
           null,
           null,
           -0.2497579854064756,
           null,
           null,
           null,
           null,
           0.3558681592748211,
           null,
           null,
           null,
           null,
           null,
           0.2553199519544086,
           null,
           0.24095814174084562,
           null,
           null,
           null,
           null
          ],
          [
           null,
           null,
           null,
           null,
           null,
           null,
           null,
           null,
           null,
           null,
           null,
           null,
           null,
           null,
           null,
           null,
           null,
           null,
           null,
           null,
           null,
           -0.18923294684985603,
           null,
           null,
           null,
           -0.17253288393773908,
           null,
           null,
           null,
           null
          ],
          [
           0.3940056334800623,
           null,
           null,
           0.38660264105642256,
           null,
           null,
           0.40024009603841537,
           null,
           null,
           null,
           null,
           null,
           0.3848739495798319,
           null,
           null,
           null,
           -0.29946215939254295,
           null,
           0.3783302194296205,
           null,
           null,
           null,
           null,
           null,
           null,
           null,
           null,
           null,
           null,
           null
          ],
          [
           null,
           null,
           0.1779499694162919,
           null,
           null,
           null,
           null,
           null,
           null,
           null,
           null,
           null,
           null,
           null,
           null,
           null,
           null,
           null,
           -0.1811303208218301,
           null,
           null,
           null,
           null,
           null,
           null,
           null,
           null,
           null,
           null,
           null
          ],
          [
           null,
           null,
           0.21752688149939403,
           null,
           null,
           null,
           null,
           null,
           null,
           null,
           null,
           null,
           null,
           null,
           null,
           null,
           null,
           null,
           null,
           null,
           null,
           null,
           null,
           null,
           null,
           null,
           null,
           null,
           null,
           null
          ],
          [
           null,
           null,
           null,
           null,
           null,
           null,
           null,
           null,
           null,
           null,
           null,
           null,
           null,
           null,
           null,
           null,
           null,
           null,
           null,
           null,
           null,
           null,
           null,
           null,
           -0.18374849621733208,
           null,
           null,
           null,
           null,
           -0.23089187020551058
          ],
          [
           null,
           null,
           null,
           null,
           null,
           null,
           null,
           null,
           null,
           null,
           null,
           null,
           null,
           null,
           null,
           null,
           null,
           null,
           null,
           -0.1924875293163373,
           null,
           null,
           null,
           null,
           null,
           null,
           null,
           null,
           null,
           null
          ],
          [
           null,
           0.17283827355471282,
           null,
           null,
           0.1650869449676473,
           -0.16323553632258264,
           null,
           0.19674545385101486,
           -0.1851773426100314,
           null,
           0.1715494772904652,
           null,
           null,
           null,
           null,
           null,
           null,
           -0.21741058902190868,
           null,
           null,
           null,
           null,
           0.19787285960044107,
           -0.1759493891560206,
           0.1884957310438284,
           null,
           null,
           null,
           null,
           null
          ],
          [
           null,
           null,
           null,
           null,
           null,
           null,
           null,
           null,
           null,
           null,
           null,
           null,
           null,
           null,
           null,
           null,
           null,
           null,
           null,
           -0.32532578530688055,
           null,
           null,
           null,
           null,
           null,
           null,
           null,
           null,
           null,
           null
          ],
          [
           null,
           null,
           null,
           null,
           null,
           null,
           0.2538976273955104,
           0.22055249507422406,
           null,
           null,
           null,
           null,
           -0.21081191454093476,
           null,
           null,
           null,
           0.2070993323757152,
           null,
           null,
           null,
           null,
           null,
           null,
           null,
           null,
           null,
           null,
           0.2935171666472714,
           null,
           0.2442119620349709
          ],
          [
           null,
           null,
           null,
           null,
           null,
           null,
           null,
           null,
           null,
           null,
           null,
           null,
           null,
           null,
           null,
           null,
           null,
           null,
           null,
           null,
           null,
           null,
           null,
           null,
           null,
           null,
           null,
           null,
           null,
           null
          ],
          [
           null,
           null,
           null,
           null,
           null,
           null,
           null,
           null,
           null,
           null,
           null,
           null,
           -0.2075046635274844,
           null,
           null,
           null,
           0.17519901334814073,
           null,
           null,
           null,
           null,
           null,
           null,
           null,
           -0.17318254829863414,
           null,
           null,
           null,
           null,
           null
          ],
          [
           null,
           null,
           null,
           null,
           null,
           null,
           null,
           null,
           null,
           null,
           null,
           null,
           null,
           null,
           0.19611532720635944,
           null,
           null,
           null,
           null,
           null,
           null,
           null,
           null,
           null,
           null,
           null,
           null,
           null,
           null,
           null
          ],
          [
           null,
           null,
           null,
           null,
           null,
           null,
           null,
           null,
           null,
           null,
           null,
           null,
           null,
           null,
           null,
           null,
           null,
           0.23307668159212205,
           null,
           null,
           0.24664677134169058,
           null,
           null,
           null,
           null,
           null,
           null,
           null,
           null,
           null
          ],
          [
           null,
           null,
           0.22870594008112766,
           null,
           null,
           0.2468441610012305,
           null,
           null,
           null,
           null,
           null,
           null,
           0.22850350020829394,
           null,
           null,
           null,
           null,
           null,
           null,
           null,
           null,
           null,
           null,
           null,
           null,
           0.2899512603587196,
           null,
           null,
           null,
           null
          ],
          [
           null,
           null,
           null,
           null,
           null,
           0.22572526480891536,
           null,
           null,
           0.2147320292190239,
           null,
           null,
           null,
           null,
           null,
           null,
           null,
           null,
           null,
           null,
           null,
           null,
           null,
           null,
           null,
           null,
           null,
           null,
           null,
           -0.20711355342752175,
           null
          ],
          [
           null,
           0.1904727528227999,
           null,
           null,
           null,
           null,
           null,
           null,
           null,
           null,
           0.1970562930750858,
           null,
           null,
           null,
           null,
           null,
           0.19833704613820732,
           null,
           null,
           null,
           null,
           null,
           null,
           null,
           null,
           null,
           0.20710820620967135,
           null,
           null,
           null
          ],
          [
           null,
           null,
           null,
           null,
           null,
           null,
           null,
           null,
           null,
           0.17756850229509835,
           null,
           null,
           null,
           null,
           null,
           null,
           null,
           null,
           null,
           null,
           null,
           null,
           null,
           null,
           null,
           null,
           null,
           null,
           null,
           -0.18896489305038108
          ],
          [
           0.19641078107164142,
           null,
           null,
           null,
           null,
           null,
           null,
           null,
           null,
           null,
           -0.19553648948827668,
           null,
           null,
           null,
           null,
           null,
           -0.2066974933810567,
           null,
           null,
           null,
           null,
           null,
           null,
           null,
           null,
           null,
           null,
           null,
           0.17454119770730678,
           null
          ],
          [
           null,
           null,
           null,
           null,
           null,
           null,
           null,
           null,
           null,
           null,
           0.2769464773427528,
           null,
           null,
           null,
           -0.2446165913107393,
           0.29660823994848895,
           null,
           null,
           null,
           null,
           null,
           null,
           0.26578638007964106,
           null,
           0.31761419691641884,
           null,
           null,
           null,
           null,
           null
          ],
          [
           null,
           null,
           null,
           null,
           null,
           null,
           null,
           -0.18209410330198073,
           null,
           null,
           null,
           null,
           null,
           null,
           null,
           null,
           null,
           0.23822562218510504,
           null,
           null,
           null,
           null,
           null,
           null,
           null,
           null,
           null,
           null,
           -0.18384781300843245,
           null
          ],
          [
           null,
           null,
           null,
           null,
           null,
           null,
           null,
           null,
           null,
           null,
           null,
           null,
           null,
           null,
           null,
           null,
           null,
           null,
           null,
           null,
           null,
           null,
           null,
           null,
           null,
           null,
           null,
           null,
           null,
           null
          ],
          [
           null,
           null,
           null,
           null,
           null,
           0.27858359876269084,
           null,
           null,
           0.23836119335829964,
           null,
           null,
           0.27602696924070497,
           null,
           null,
           0.21876669111868582,
           null,
           null,
           0.2158939171120614,
           null,
           null,
           null,
           null,
           null,
           0.2261121605510134,
           null,
           null,
           null,
           null,
           null,
           null
          ],
          [
           null,
           null,
           null,
           null,
           null,
           null,
           null,
           null,
           null,
           null,
           null,
           null,
           null,
           null,
           null,
           null,
           null,
           null,
           null,
           null,
           null,
           -0.20080116346568244,
           null,
           null,
           null,
           null,
           0.21051415196277537,
           null,
           null,
           null
          ],
          [
           null,
           null,
           null,
           null,
           null,
           null,
           null,
           null,
           0.21463616067267485,
           null,
           null,
           null,
           null,
           null,
           null,
           null,
           0.21604672568057823,
           null,
           null,
           null,
           null,
           null,
           null,
           null,
           null,
           0.22783340806820457,
           null,
           null,
           null,
           null
          ],
          [
           null,
           null,
           null,
           null,
           null,
           null,
           null,
           null,
           0.1611152561200799,
           null,
           null,
           null,
           null,
           null,
           null,
           null,
           0.1918235694163463,
           null,
           -0.17808559627861179,
           null,
           null,
           null,
           null,
           null,
           null,
           null,
           null,
           null,
           null,
           null
          ],
          [
           null,
           null,
           null,
           null,
           null,
           null,
           null,
           0.22031264606844408,
           null,
           null,
           null,
           null,
           null,
           null,
           null,
           0.20033378288190115,
           null,
           null,
           null,
           null,
           null,
           null,
           null,
           null,
           0.21241808114069316,
           null,
           null,
           null,
           0.18413281026469666,
           null
          ],
          [
           null,
           null,
           null,
           null,
           null,
           null,
           null,
           null,
           null,
           null,
           null,
           null,
           null,
           null,
           null,
           null,
           null,
           null,
           null,
           null,
           null,
           null,
           null,
           null,
           null,
           null,
           null,
           -0.1767960125462303,
           null,
           0.23952548857049683
          ],
          [
           null,
           null,
           null,
           null,
           0.33793852915143585,
           null,
           null,
           0.34721616729699556,
           0.26568929259152013,
           null,
           null,
           null,
           -0.2068749596354989,
           0.205789633144195,
           null,
           0.341176764945809,
           0.4572473330408489,
           0.22093895205168865,
           0.3689755359897104,
           null,
           null,
           null,
           0.23378639530225076,
           null,
           0.27508733930276547,
           0.2774955451791787,
           null,
           null,
           null,
           null
          ],
          [
           null,
           null,
           null,
           null,
           null,
           null,
           null,
           null,
           null,
           null,
           null,
           null,
           null,
           null,
           null,
           null,
           null,
           null,
           null,
           null,
           null,
           null,
           null,
           null,
           null,
           null,
           null,
           null,
           null,
           null
          ],
          [
           null,
           null,
           null,
           null,
           null,
           null,
           null,
           null,
           null,
           -0.2093606040917172,
           null,
           null,
           null,
           null,
           null,
           null,
           null,
           null,
           -0.21413190657440476,
           null,
           null,
           -0.22977391216606943,
           null,
           null,
           null,
           null,
           0.2923130299364283,
           null,
           null,
           null
          ],
          [
           null,
           null,
           null,
           null,
           null,
           null,
           null,
           null,
           null,
           null,
           null,
           null,
           null,
           null,
           null,
           null,
           null,
           null,
           null,
           null,
           null,
           null,
           null,
           null,
           null,
           null,
           null,
           null,
           null,
           null
          ],
          [
           null,
           null,
           null,
           -0.36113576792599345,
           null,
           null,
           null,
           null,
           null,
           null,
           null,
           null,
           -0.36705321007711444,
           null,
           null,
           -0.3578948392844043,
           null,
           null,
           null,
           null,
           null,
           null,
           null,
           null,
           null,
           null,
           null,
           0.3279408263105115,
           null,
           null
          ],
          [
           null,
           null,
           null,
           null,
           null,
           null,
           0.27729028490930013,
           null,
           null,
           0.1897489820633399,
           null,
           null,
           null,
           null,
           null,
           0.207112813979223,
           null,
           null,
           null,
           null,
           null,
           null,
           null,
           null,
           null,
           null,
           null,
           0.20719213564179978,
           null,
           null
          ],
          [
           null,
           null,
           null,
           null,
           null,
           0.23830745649039026,
           null,
           null,
           0.23704670468996644,
           null,
           null,
           null,
           null,
           null,
           0.20778402854741748,
           0.26508650551901153,
           null,
           0.2488852055520099,
           null,
           null,
           0.24654708061146818,
           null,
           null,
           0.2090638157209921,
           0.24631186375360556,
           null,
           null,
           null,
           null,
           null
          ],
          [
           null,
           0.1692877304595671,
           null,
           null,
           null,
           null,
           null,
           null,
           null,
           null,
           null,
           null,
           null,
           null,
           null,
           null,
           null,
           null,
           null,
           null,
           null,
           null,
           null,
           null,
           0.1533751658565806,
           null,
           null,
           null,
           null,
           null
          ],
          [
           null,
           null,
           null,
           null,
           null,
           null,
           null,
           null,
           0.20794728012234726,
           null,
           null,
           null,
           -0.25531218117547283,
           null,
           null,
           null,
           null,
           null,
           null,
           null,
           null,
           null,
           null,
           null,
           null,
           null,
           null,
           null,
           null,
           null
          ],
          [
           null,
           null,
           null,
           null,
           null,
           null,
           null,
           null,
           null,
           null,
           null,
           null,
           null,
           null,
           null,
           null,
           null,
           null,
           null,
           null,
           null,
           null,
           null,
           null,
           null,
           null,
           null,
           null,
           null,
           null
          ],
          [
           null,
           null,
           null,
           null,
           null,
           null,
           null,
           null,
           null,
           null,
           null,
           null,
           null,
           null,
           null,
           null,
           null,
           null,
           null,
           null,
           null,
           null,
           null,
           null,
           null,
           null,
           null,
           null,
           null,
           null
          ],
          [
           null,
           null,
           null,
           -0.17479037679131748,
           null,
           null,
           null,
           null,
           null,
           -0.24771566484871307,
           null,
           null,
           -0.19042876220031962,
           null,
           0.19238293206031432,
           null,
           null,
           null,
           null,
           null,
           null,
           null,
           null,
           null,
           null,
           null,
           null,
           null,
           null,
           -0.22522600646500293
          ],
          [
           null,
           null,
           0.22138259166717025,
           null,
           null,
           null,
           null,
           null,
           null,
           null,
           null,
           null,
           null,
           null,
           null,
           null,
           null,
           null,
           null,
           null,
           null,
           null,
           null,
           null,
           null,
           null,
           null,
           null,
           -0.21218868718253403,
           null
          ],
          [
           null,
           null,
           null,
           null,
           null,
           null,
           null,
           null,
           null,
           null,
           null,
           null,
           null,
           null,
           null,
           null,
           null,
           null,
           null,
           null,
           null,
           null,
           null,
           null,
           null,
           0.3126370483543899,
           null,
           null,
           null,
           null
          ],
          [
           null,
           null,
           null,
           null,
           null,
           null,
           null,
           null,
           null,
           null,
           null,
           null,
           null,
           null,
           null,
           null,
           null,
           null,
           null,
           null,
           null,
           null,
           null,
           null,
           null,
           null,
           null,
           null,
           null,
           null
          ],
          [
           null,
           null,
           null,
           null,
           null,
           null,
           null,
           null,
           null,
           null,
           null,
           -0.21949210488261012,
           null,
           null,
           null,
           null,
           null,
           null,
           null,
           null,
           null,
           null,
           null,
           null,
           null,
           -0.18374082669055103,
           null,
           null,
           null,
           null
          ],
          [
           null,
           0.35107418833385406,
           null,
           -0.3815550877702909,
           0.2808724293977666,
           null,
           -0.2570613816758368,
           0.2730986015335381,
           null,
           -0.38253808904571657,
           0.2516497002766698,
           null,
           -0.3980013871211984,
           0.2386833731864308,
           null,
           -0.21943120880550385,
           0.3122736208378218,
           null,
           null,
           0.3114442208964579,
           null,
           -0.39511352549526496,
           null,
           null,
           null,
           null,
           null,
           null,
           null,
           null
          ],
          [
           null,
           null,
           null,
           null,
           null,
           null,
           null,
           null,
           null,
           null,
           null,
           null,
           null,
           null,
           null,
           null,
           null,
           null,
           null,
           null,
           null,
           null,
           null,
           null,
           null,
           null,
           null,
           null,
           null,
           null
          ],
          [
           -0.22835614473313412,
           null,
           null,
           null,
           null,
           null,
           -0.1958976263537465,
           null,
           null,
           null,
           null,
           null,
           null,
           null,
           null,
           null,
           null,
           null,
           -0.18216413462985165,
           null,
           -0.1714342556238951,
           null,
           null,
           null,
           null,
           null,
           null,
           null,
           null,
           null
          ],
          [
           -0.3126021530542095,
           null,
           null,
           null,
           null,
           null,
           null,
           null,
           null,
           null,
           null,
           null,
           null,
           null,
           null,
           null,
           null,
           null,
           null,
           null,
           null,
           null,
           null,
           null,
           0.2098557021730144,
           null,
           null,
           null,
           null,
           null
          ],
          [
           null,
           null,
           null,
           null,
           null,
           null,
           null,
           null,
           null,
           null,
           null,
           null,
           null,
           null,
           null,
           null,
           null,
           null,
           0.24308349012749675,
           null,
           null,
           null,
           null,
           null,
           null,
           null,
           null,
           null,
           null,
           null
          ],
          [
           null,
           null,
           null,
           null,
           null,
           null,
           null,
           null,
           null,
           null,
           null,
           null,
           null,
           null,
           null,
           null,
           null,
           null,
           null,
           null,
           null,
           null,
           null,
           null,
           null,
           null,
           null,
           null,
           null,
           null
          ],
          [
           null,
           null,
           0.24162833154854393,
           null,
           null,
           0.25661726526193107,
           0.32352659724726823,
           null,
           0.32864154685706426,
           null,
           null,
           null,
           null,
           null,
           null,
           null,
           null,
           0.3269119030530982,
           null,
           null,
           null,
           null,
           null,
           null,
           null,
           null,
           null,
           null,
           null,
           null
          ],
          [
           -0.22687932604290964,
           null,
           null,
           null,
           null,
           null,
           null,
           null,
           null,
           null,
           null,
           null,
           null,
           null,
           null,
           null,
           null,
           null,
           null,
           null,
           null,
           null,
           null,
           null,
           null,
           null,
           null,
           null,
           null,
           null
          ],
          [
           -0.22101900057911675,
           null,
           null,
           null,
           null,
           null,
           null,
           null,
           null,
           null,
           null,
           null,
           null,
           null,
           null,
           null,
           null,
           null,
           -0.1880918846708672,
           null,
           null,
           null,
           null,
           null,
           null,
           null,
           null,
           null,
           null,
           -0.1703241284514354
          ],
          [
           null,
           null,
           null,
           null,
           null,
           null,
           null,
           null,
           0.30648664886350957,
           null,
           null,
           null,
           null,
           null,
           null,
           null,
           0.3121947121667895,
           null,
           null,
           null,
           null,
           null,
           null,
           null,
           null,
           0.39425188650407367,
           0.2672549176143971,
           null,
           null,
           null
          ],
          [
           null,
           null,
           null,
           null,
           null,
           0.18194718185824832,
           null,
           null,
           null,
           null,
           null,
           null,
           null,
           null,
           0.21136302131347307,
           null,
           null,
           null,
           null,
           null,
           null,
           null,
           null,
           0.21975950034741434,
           null,
           0.18386764506779826,
           null,
           null,
           null,
           null
          ],
          [
           null,
           null,
           null,
           null,
           null,
           null,
           null,
           null,
           null,
           null,
           null,
           null,
           null,
           null,
           null,
           null,
           null,
           null,
           null,
           null,
           null,
           null,
           null,
           0.191650381551033,
           null,
           null,
           null,
           null,
           null,
           null
          ],
          [
           null,
           null,
           null,
           -0.1953316979117598,
           null,
           null,
           null,
           null,
           null,
           null,
           null,
           null,
           null,
           0.2115663172806081,
           null,
           null,
           0.2443847680882297,
           null,
           null,
           0.19131232162503972,
           null,
           null,
           null,
           null,
           null,
           null,
           null,
           null,
           null,
           null
          ],
          [
           null,
           null,
           -0.1573191443386544,
           null,
           null,
           null,
           0.15892319082045575,
           null,
           null,
           null,
           null,
           -0.21174945434931233,
           null,
           null,
           null,
           null,
           null,
           -0.24001850032247118,
           null,
           null,
           null,
           null,
           null,
           -0.15777610308446366,
           null,
           null,
           null,
           null,
           null,
           0.15541684861260321
          ],
          [
           null,
           null,
           null,
           null,
           null,
           null,
           null,
           null,
           null,
           null,
           null,
           null,
           null,
           null,
           null,
           null,
           null,
           null,
           null,
           null,
           null,
           null,
           null,
           null,
           null,
           null,
           null,
           -0.2181769062614437,
           -0.2234040120440769,
           null
          ],
          [
           null,
           null,
           null,
           -0.3569440395494102,
           0.29765919818490305,
           null,
           -0.3502864535146882,
           null,
           null,
           null,
           0.2975343378177822,
           null,
           null,
           null,
           null,
           null,
           0.3008138117238653,
           null,
           null,
           null,
           null,
           null,
           0.33734276844721883,
           null,
           null,
           null,
           null,
           null,
           null,
           null
          ],
          [
           -0.3557230631618761,
           null,
           null,
           null,
           null,
           null,
           null,
           null,
           null,
           null,
           null,
           null,
           null,
           null,
           null,
           null,
           null,
           null,
           -0.2673272061582939,
           null,
           null,
           null,
           null,
           null,
           null,
           null,
           null,
           null,
           null,
           null
          ],
          [
           null,
           null,
           null,
           null,
           null,
           null,
           null,
           null,
           null,
           null,
           null,
           null,
           null,
           0.23805688688012291,
           null,
           null,
           null,
           null,
           null,
           null,
           null,
           null,
           null,
           null,
           null,
           -0.25405649547142595,
           null,
           null,
           null,
           null
          ],
          [
           null,
           null,
           -0.1956726726596841,
           null,
           null,
           null,
           null,
           null,
           -0.2568699363665905,
           null,
           null,
           null,
           0.2800405119630601,
           null,
           null,
           0.26596837417388325,
           null,
           null,
           null,
           null,
           null,
           0.220945380396783,
           null,
           null,
           null,
           null,
           null,
           -0.2966324841730075,
           null,
           null
          ],
          [
           -0.16347027906702527,
           null,
           null,
           null,
           null,
           null,
           null,
           null,
           null,
           null,
           null,
           null,
           null,
           null,
           null,
           null,
           null,
           null,
           null,
           null,
           null,
           null,
           0.2108846291838799,
           null,
           null,
           -0.1652014390727006,
           null,
           null,
           null,
           null
          ],
          [
           -0.3047761376060204,
           -0.31043288344144854,
           null,
           null,
           null,
           null,
           null,
           null,
           null,
           null,
           null,
           null,
           null,
           null,
           null,
           null,
           null,
           null,
           null,
           null,
           -0.3030409464151433,
           null,
           null,
           null,
           null,
           null,
           null,
           null,
           null,
           null
          ],
          [
           null,
           null,
           null,
           null,
           null,
           null,
           null,
           null,
           null,
           null,
           null,
           null,
           -0.18967083216398084,
           null,
           null,
           null,
           null,
           null,
           -0.21409905587422162,
           null,
           null,
           null,
           null,
           null,
           null,
           null,
           null,
           null,
           null,
           null
          ],
          [
           null,
           null,
           null,
           null,
           null,
           null,
           null,
           null,
           null,
           null,
           null,
           null,
           null,
           null,
           null,
           null,
           null,
           null,
           null,
           null,
           null,
           null,
           null,
           null,
           null,
           null,
           null,
           null,
           null,
           null
          ],
          [
           null,
           null,
           null,
           null,
           null,
           null,
           null,
           null,
           null,
           null,
           null,
           null,
           null,
           null,
           null,
           null,
           null,
           null,
           null,
           null,
           null,
           null,
           null,
           null,
           null,
           0.2525610270983638,
           null,
           null,
           null,
           null
          ],
          [
           null,
           null,
           null,
           null,
           0.26098759189187704,
           -0.24495397172446517,
           null,
           null,
           -0.26969982774541046,
           null,
           0.3164016844068689,
           null,
           null,
           0.22260834633496634,
           null,
           null,
           null,
           null,
           null,
           null,
           null,
           null,
           null,
           null,
           0.22804233226456036,
           null,
           -0.24156608402486965,
           null,
           null,
           -0.22201118722484686
          ],
          [
           -0.22266016692637777,
           null,
           null,
           null,
           null,
           null,
           null,
           null,
           null,
           null,
           null,
           null,
           null,
           null,
           null,
           0.25451200766106474,
           0.19836115463534498,
           0.2412476274550537,
           null,
           0.34910387589398856,
           null,
           null,
           null,
           null,
           0.33921911908610713,
           0.27501321926317746,
           0.33881064837003516,
           null,
           null,
           null
          ],
          [
           null,
           null,
           null,
           null,
           null,
           null,
           null,
           0.2257937813670386,
           0.21818534252781488,
           null,
           null,
           null,
           null,
           -0.18216481883425764,
           null,
           null,
           0.23190205955493212,
           null,
           null,
           0.2152037402018219,
           null,
           null,
           null,
           null,
           0.21395671843390215,
           0.26563607774167153,
           null,
           0.17800557041064669,
           0.26068343370932645,
           0.22256129832030278
          ],
          [
           null,
           null,
           0.1914057657186243,
           null,
           null,
           null,
           null,
           null,
           null,
           null,
           null,
           null,
           null,
           null,
           null,
           null,
           null,
           null,
           null,
           null,
           null,
           null,
           null,
           null,
           null,
           null,
           0.19827850232043967,
           null,
           null,
           null
          ],
          [
           -0.22142273613028135,
           null,
           null,
           null,
           null,
           0.17211856077889834,
           null,
           null,
           0.2517452544972316,
           -0.1682359547666799,
           null,
           null,
           null,
           null,
           null,
           -0.16627686170458617,
           null,
           null,
           null,
           -0.17824578842670552,
           null,
           null,
           null,
           null,
           -0.16976079766136085,
           -0.2836062095620973,
           null,
           null,
           null,
           null
          ],
          [
           null,
           null,
           null,
           null,
           null,
           null,
           null,
           null,
           null,
           null,
           null,
           null,
           null,
           null,
           null,
           null,
           null,
           null,
           null,
           null,
           -0.1949529046457035,
           null,
           null,
           null,
           null,
           null,
           null,
           null,
           null,
           null
          ],
          [
           null,
           null,
           null,
           null,
           0.2117138720232085,
           null,
           -0.21290624508601239,
           null,
           null,
           null,
           0.2014322651542405,
           null,
           0.256702406668484,
           null,
           null,
           null,
           null,
           null,
           null,
           null,
           null,
           null,
           null,
           null,
           null,
           null,
           null,
           -0.33108529197922254,
           null,
           null
          ],
          [
           null,
           null,
           null,
           null,
           0.4273333869834461,
           null,
           null,
           0.29648685589490353,
           null,
           null,
           0.34496342154149434,
           null,
           null,
           0.4145831659029332,
           null,
           null,
           0.3440954440687786,
           null,
           -0.2454029532997099,
           null,
           null,
           null,
           0.4194549401619438,
           null,
           null,
           null,
           null,
           null,
           null,
           null
          ],
          [
           null,
           null,
           null,
           null,
           null,
           null,
           null,
           null,
           null,
           null,
           -0.18120053540729894,
           null,
           null,
           null,
           null,
           -0.2141211550431981,
           -0.34114452905204595,
           null,
           null,
           -0.22131382384233375,
           null,
           null,
           null,
           null,
           null,
           -0.2857806071235712,
           null,
           null,
           null,
           null
          ],
          [
           null,
           null,
           0.20774369723173242,
           null,
           -0.20717171498091624,
           null,
           null,
           null,
           null,
           -0.17508938723691733,
           null,
           null,
           -0.19241886653076762,
           null,
           null,
           null,
           -0.2248265910494647,
           null,
           null,
           null,
           null,
           null,
           null,
           null,
           null,
           -0.3550694116010258,
           -0.1959237836394347,
           0.24377936793633206,
           null,
           null
          ],
          [
           0.20497329903396416,
           null,
           null,
           0.2974540957384013,
           null,
           null,
           0.3326883027341542,
           null,
           null,
           0.22103188657536496,
           null,
           null,
           0.1997321521468987,
           null,
           null,
           null,
           null,
           null,
           null,
           null,
           null,
           null,
           null,
           null,
           null,
           null,
           null,
           null,
           null,
           null
          ],
          [
           null,
           null,
           null,
           null,
           0.3144277350594554,
           null,
           null,
           0.26998978459080153,
           null,
           null,
           null,
           null,
           null,
           0.44483891958800015,
           null,
           null,
           null,
           null,
           null,
           null,
           null,
           null,
           null,
           null,
           0.245048967163822,
           null,
           null,
           null,
           null,
           null
          ],
          [
           null,
           null,
           null,
           null,
           null,
           null,
           null,
           null,
           null,
           null,
           null,
           null,
           null,
           null,
           null,
           null,
           null,
           null,
           null,
           null,
           null,
           null,
           null,
           null,
           null,
           null,
           null,
           null,
           null,
           null
          ],
          [
           null,
           -0.1713736950910488,
           null,
           null,
           -0.17598450472036473,
           null,
           null,
           null,
           null,
           null,
           -0.20494965181352187,
           null,
           null,
           null,
           null,
           null,
           -0.21671637346013356,
           null,
           null,
           null,
           null,
           null,
           -0.23060390106400638,
           null,
           null,
           null,
           null,
           null,
           null,
           null
          ],
          [
           null,
           null,
           null,
           null,
           null,
           0.4347980377831125,
           null,
           null,
           null,
           null,
           null,
           0.5005949274605992,
           null,
           null,
           0.4558814320008351,
           null,
           -0.3236878401095557,
           0.4257384406638139,
           0.27856601410907794,
           null,
           null,
           null,
           -0.2930271414711579,
           0.3740528128587831,
           -0.3429869224441104,
           null,
           null,
           null,
           null,
           -0.2657968896774867
          ],
          [
           null,
           0.21428789533693787,
           null,
           null,
           0.19121698740752202,
           null,
           null,
           0.21352698634085307,
           null,
           null,
           null,
           null,
           null,
           null,
           null,
           null,
           null,
           null,
           null,
           null,
           null,
           null,
           null,
           null,
           null,
           null,
           null,
           null,
           null,
           null
          ],
          [
           null,
           null,
           null,
           null,
           null,
           null,
           null,
           null,
           null,
           null,
           null,
           null,
           null,
           null,
           null,
           null,
           null,
           0.29204510664353506,
           null,
           null,
           null,
           null,
           null,
           null,
           null,
           null,
           null,
           null,
           null,
           null
          ],
          [
           null,
           null,
           null,
           -0.2645893651912269,
           null,
           null,
           null,
           null,
           null,
           null,
           null,
           null,
           -0.26141109575757515,
           null,
           null,
           null,
           null,
           null,
           null,
           null,
           null,
           null,
           null,
           null,
           null,
           null,
           null,
           null,
           null,
           null
          ],
          [
           0.42732263168499324,
           null,
           null,
           null,
           0.359284392350401,
           null,
           0.2987343053525608,
           null,
           null,
           null,
           0.3783466995681678,
           null,
           null,
           0.388463911165947,
           null,
           0.3357210455150626,
           null,
           null,
           0.37897407697959745,
           null,
           null,
           null,
           null,
           null,
           null,
           null,
           null,
           null,
           -0.372547809993831,
           null
          ],
          [
           null,
           null,
           null,
           null,
           null,
           null,
           null,
           null,
           null,
           null,
           null,
           null,
           null,
           null,
           null,
           null,
           null,
           null,
           null,
           null,
           null,
           null,
           null,
           null,
           null,
           null,
           null,
           null,
           null,
           null
          ],
          [
           null,
           null,
           null,
           null,
           null,
           null,
           null,
           null,
           null,
           null,
           null,
           null,
           null,
           -0.18827316363678648,
           null,
           null,
           null,
           null,
           null,
           null,
           null,
           null,
           null,
           null,
           null,
           null,
           null,
           null,
           null,
           null
          ],
          [
           null,
           null,
           null,
           null,
           null,
           null,
           null,
           null,
           null,
           null,
           null,
           null,
           null,
           null,
           null,
           null,
           null,
           null,
           null,
           null,
           null,
           null,
           null,
           null,
           null,
           null,
           null,
           null,
           null,
           null
          ],
          [
           null,
           null,
           null,
           null,
           null,
           null,
           null,
           null,
           null,
           null,
           null,
           0.17085717962467625,
           null,
           null,
           null,
           null,
           null,
           null,
           null,
           null,
           null,
           null,
           0.18098085125108318,
           null,
           null,
           null,
           null,
           null,
           null,
           null
          ],
          [
           null,
           null,
           null,
           null,
           null,
           null,
           null,
           null,
           null,
           null,
           null,
           null,
           null,
           null,
           null,
           0.30548519987366707,
           null,
           null,
           null,
           0.19798897848874336,
           null,
           null,
           null,
           null,
           0.3702488286821334,
           null,
           0.26110056217652017,
           null,
           null,
           null
          ],
          [
           null,
           null,
           null,
           null,
           0.17669850444600257,
           null,
           null,
           null,
           null,
           null,
           0.2450389524582673,
           null,
           null,
           null,
           null,
           null,
           null,
           null,
           null,
           null,
           null,
           null,
           null,
           null,
           null,
           null,
           0.18109257019890906,
           null,
           null,
           null
          ],
          [
           null,
           null,
           null,
           null,
           null,
           null,
           0.1615773667757609,
           null,
           null,
           null,
           null,
           null,
           null,
           null,
           null,
           null,
           null,
           null,
           null,
           null,
           null,
           null,
           null,
           -0.21596763789396423,
           null,
           null,
           null,
           null,
           null,
           null
          ],
          [
           null,
           null,
           null,
           null,
           null,
           null,
           null,
           null,
           null,
           null,
           null,
           null,
           0.22573842385471193,
           null,
           null,
           0.21178604540024337,
           null,
           null,
           null,
           null,
           0.24347084202572747,
           null,
           null,
           null,
           null,
           null,
           null,
           null,
           null,
           null
          ],
          [
           null,
           null,
           null,
           null,
           null,
           null,
           0.2272028455493597,
           null,
           0.20354949881383902,
           null,
           null,
           null,
           null,
           null,
           null,
           0.16927878151374548,
           null,
           null,
           null,
           null,
           0.2404094589301733,
           null,
           null,
           null,
           null,
           null,
           null,
           null,
           null,
           0.18194898799261194
          ],
          [
           null,
           null,
           null,
           null,
           null,
           -0.2936299966684861,
           null,
           0.2511153224085365,
           null,
           null,
           null,
           -0.2259046808589931,
           null,
           null,
           -0.17323017046146985,
           -0.18842228691218627,
           0.19224317659474222,
           null,
           null,
           null,
           null,
           null,
           null,
           -0.21844958069319048,
           -0.28705797232876806,
           null,
           null,
           null,
           0.16993932762612082,
           null
          ],
          [
           null,
           null,
           null,
           null,
           null,
           null,
           null,
           null,
           null,
           null,
           null,
           null,
           null,
           null,
           null,
           null,
           null,
           null,
           null,
           null,
           null,
           null,
           null,
           null,
           null,
           0.18608222222282095,
           null,
           null,
           null,
           null
          ],
          [
           null,
           null,
           null,
           null,
           null,
           null,
           null,
           null,
           null,
           null,
           null,
           null,
           null,
           null,
           null,
           null,
           0.29080540214171446,
           null,
           null,
           0.31349406640093525,
           null,
           null,
           null,
           null,
           null,
           0.21818293365791322,
           null,
           null,
           null,
           null
          ],
          [
           null,
           0.2963427119348897,
           null,
           null,
           null,
           null,
           -0.16285382007994126,
           0.2236131904413652,
           0.2164218034582828,
           null,
           null,
           0.18668353248817063,
           null,
           null,
           null,
           null,
           0.17162319402427614,
           0.27538311091652534,
           -0.16728903400794015,
           null,
           null,
           null,
           null,
           null,
           null,
           null,
           null,
           null,
           0.22979853970732736,
           null
          ],
          [
           null,
           null,
           null,
           null,
           null,
           null,
           null,
           null,
           null,
           null,
           null,
           null,
           null,
           0.19893608222277467,
           null,
           null,
           null,
           null,
           null,
           null,
           null,
           null,
           null,
           null,
           null,
           null,
           null,
           -0.18070573476288532,
           -0.21617394277992907,
           null
          ],
          [
           null,
           null,
           null,
           null,
           null,
           null,
           null,
           0.2736923622704711,
           null,
           null,
           null,
           null,
           null,
           0.24913842750610363,
           null,
           null,
           null,
           null,
           null,
           null,
           null,
           null,
           null,
           null,
           null,
           null,
           null,
           null,
           null,
           null
          ],
          [
           -0.1743511830465933,
           null,
           null,
           -0.22431091140382983,
           null,
           0.2793697299910406,
           null,
           0.1758535740985185,
           0.22513240305832688,
           -0.24918920234170114,
           null,
           null,
           -0.2399989699676422,
           null,
           0.18786212343047667,
           -0.20836111119058995,
           0.3633792419713674,
           null,
           null,
           null,
           0.20284377275755805,
           -0.18563868825072238,
           0.25853754143651353,
           null,
           null,
           -0.201076835243008,
           null,
           null,
           null,
           null
          ],
          [
           null,
           null,
           null,
           null,
           null,
           null,
           null,
           null,
           null,
           null,
           null,
           null,
           null,
           null,
           null,
           null,
           null,
           null,
           null,
           null,
           null,
           null,
           null,
           null,
           null,
           null,
           null,
           null,
           null,
           0.2027300692048107
          ],
          [
           null,
           null,
           null,
           null,
           null,
           null,
           null,
           null,
           null,
           0.24057087938491112,
           null,
           null,
           null,
           null,
           null,
           null,
           null,
           null,
           null,
           null,
           null,
           null,
           null,
           null,
           null,
           null,
           null,
           null,
           null,
           null
          ],
          [
           0.29096603008614896,
           null,
           null,
           null,
           0.24748526717465757,
           null,
           0.33708974508311196,
           null,
           null,
           null,
           null,
           null,
           null,
           0.2366685442731459,
           null,
           null,
           null,
           null,
           null,
           null,
           null,
           null,
           null,
           null,
           null,
           0.2368304038891423,
           null,
           0.256284469134856,
           null,
           null
          ],
          [
           null,
           null,
           null,
           0.33997096933694804,
           null,
           null,
           0.338485028112383,
           null,
           null,
           0.35656397967792464,
           null,
           null,
           0.34817826018895176,
           null,
           null,
           0.4358896389500569,
           null,
           null,
           null,
           null,
           null,
           0.3130480134277681,
           null,
           null,
           null,
           null,
           null,
           null,
           null,
           null
          ],
          [
           null,
           null,
           null,
           -0.26061361936942024,
           null,
           null,
           null,
           null,
           0.3297578311559098,
           -0.32662509355579405,
           null,
           null,
           -0.31644799203371105,
           null,
           null,
           -0.33430119477649894,
           null,
           0.38148454976860147,
           null,
           null,
           null,
           -0.24183586930612588,
           null,
           null,
           null,
           null,
           null,
           null,
           null,
           null
          ],
          [
           null,
           null,
           null,
           -0.15984646050049128,
           null,
           null,
           null,
           null,
           0.15871044100117804,
           null,
           null,
           null,
           -0.15252312381279745,
           null,
           0.18449886034953283,
           null,
           null,
           null,
           null,
           null,
           0.15104376654931992,
           null,
           null,
           null,
           -0.14992596950339068,
           null,
           null,
           null,
           null,
           null
          ],
          [
           null,
           -0.4529173419773095,
           null,
           null,
           null,
           null,
           null,
           -0.35202593192868714,
           null,
           null,
           null,
           null,
           null,
           null,
           null,
           null,
           null,
           null,
           null,
           null,
           null,
           null,
           null,
           null,
           null,
           null,
           null,
           null,
           null,
           null
          ],
          [
           null,
           null,
           null,
           null,
           null,
           null,
           null,
           null,
           null,
           null,
           null,
           null,
           null,
           null,
           null,
           null,
           null,
           null,
           null,
           null,
           null,
           null,
           null,
           null,
           null,
           null,
           null,
           null,
           null,
           null
          ],
          [
           null,
           null,
           0.24362067950009564,
           -0.28768596027289456,
           -0.3146895218829774,
           0.3947058708269166,
           null,
           0.2851286266514911,
           0.5077419737596249,
           null,
           -0.243316369491345,
           null,
           -0.41753516216318287,
           -0.4083524012766947,
           null,
           null,
           null,
           0.2735204581526796,
           null,
           null,
           0.2395817307040653,
           null,
           null,
           0.2667907136284614,
           null,
           null,
           null,
           0.32916187601645064,
           0.39866195452086106,
           0.48232772368435345
          ],
          [
           null,
           null,
           null,
           null,
           0.1723352387049859,
           null,
           null,
           0.27963861066955115,
           null,
           null,
           null,
           null,
           null,
           null,
           null,
           null,
           0.24861090088171725,
           null,
           null,
           null,
           null,
           null,
           null,
           null,
           null,
           null,
           null,
           null,
           0.24854130108876216,
           null
          ],
          [
           null,
           null,
           null,
           null,
           null,
           null,
           null,
           null,
           null,
           null,
           null,
           null,
           null,
           null,
           null,
           null,
           null,
           null,
           null,
           0.2665151827996917,
           null,
           null,
           null,
           null,
           null,
           null,
           null,
           null,
           null,
           null
          ],
          [
           null,
           null,
           null,
           null,
           null,
           null,
           null,
           null,
           0.2384776186249491,
           null,
           null,
           null,
           null,
           null,
           null,
           null,
           null,
           null,
           null,
           null,
           null,
           null,
           null,
           null,
           null,
           null,
           null,
           null,
           null,
           null
          ],
          [
           0.2528721949857291,
           null,
           null,
           0.29062961996471576,
           null,
           null,
           0.27443650142776455,
           null,
           null,
           0.2204090065844316,
           null,
           null,
           0.28962008761518193,
           null,
           null,
           0.36541226725155124,
           null,
           null,
           0.23791271632309888,
           null,
           0.20023602371620283,
           0.2692564737253663,
           null,
           -0.1861342027757844,
           0.4468661594444032,
           null,
           null,
           null,
           0.2442416788122225,
           null
          ],
          [
           0.2635543818231335,
           null,
           null,
           0.29958157977413524,
           null,
           0.2920061580057061,
           0.4271674220949326,
           null,
           0.28664398487783654,
           null,
           null,
           0.3019779236852896,
           null,
           -0.1627654023504874,
           null,
           0.25205102889923686,
           null,
           0.2748825403683897,
           null,
           null,
           null,
           0.18518898830371142,
           null,
           0.2787491376425918,
           null,
           null,
           null,
           0.2923054338343914,
           0.2569299026945617,
           0.2192574788366516
          ],
          [
           null,
           null,
           null,
           null,
           null,
           null,
           null,
           null,
           null,
           null,
           null,
           null,
           null,
           null,
           null,
           null,
           null,
           null,
           null,
           null,
           null,
           null,
           null,
           null,
           -0.1741601816538378,
           null,
           null,
           null,
           null,
           null
          ],
          [
           null,
           null,
           null,
           null,
           null,
           null,
           null,
           null,
           null,
           null,
           null,
           null,
           null,
           null,
           null,
           null,
           null,
           null,
           null,
           null,
           null,
           null,
           null,
           null,
           null,
           null,
           null,
           null,
           null,
           null
          ],
          [
           null,
           null,
           null,
           0.25239211945753004,
           null,
           null,
           0.2094265850380773,
           null,
           null,
           null,
           null,
           null,
           null,
           null,
           null,
           0.1950628758027805,
           null,
           null,
           null,
           null,
           null,
           null,
           null,
           null,
           null,
           null,
           0.2057017033705703,
           null,
           null,
           null
          ],
          [
           null,
           null,
           null,
           null,
           null,
           null,
           null,
           null,
           null,
           null,
           null,
           null,
           null,
           null,
           null,
           null,
           null,
           0.16754285114936968,
           null,
           null,
           null,
           null,
           null,
           null,
           null,
           null,
           null,
           null,
           null,
           null
          ],
          [
           null,
           null,
           null,
           null,
           null,
           null,
           null,
           null,
           null,
           null,
           null,
           0.20054634722049752,
           null,
           null,
           null,
           null,
           null,
           null,
           null,
           null,
           null,
           null,
           null,
           null,
           null,
           null,
           null,
           null,
           null,
           null
          ],
          [
           null,
           null,
           null,
           null,
           null,
           null,
           null,
           null,
           null,
           null,
           null,
           null,
           null,
           0.21587822104650398,
           null,
           null,
           null,
           null,
           null,
           null,
           null,
           null,
           null,
           null,
           null,
           null,
           null,
           null,
           -0.23462912506062994,
           null
          ],
          [
           null,
           null,
           null,
           0.16349239085265582,
           null,
           null,
           0.2545122302887531,
           null,
           null,
           null,
           null,
           null,
           null,
           null,
           null,
           null,
           null,
           null,
           0.1724638389087603,
           null,
           null,
           null,
           null,
           null,
           null,
           null,
           null,
           null,
           null,
           null
          ],
          [
           null,
           null,
           null,
           null,
           null,
           null,
           null,
           null,
           null,
           null,
           null,
           null,
           null,
           null,
           null,
           null,
           null,
           null,
           null,
           null,
           null,
           null,
           null,
           null,
           null,
           null,
           null,
           null,
           null,
           null
          ],
          [
           null,
           null,
           null,
           null,
           null,
           null,
           null,
           null,
           null,
           null,
           null,
           null,
           null,
           null,
           null,
           null,
           null,
           null,
           null,
           null,
           null,
           null,
           null,
           null,
           null,
           null,
           null,
           null,
           null,
           null
          ],
          [
           null,
           null,
           null,
           null,
           null,
           null,
           null,
           null,
           null,
           null,
           null,
           null,
           null,
           null,
           null,
           null,
           null,
           null,
           null,
           null,
           null,
           null,
           null,
           null,
           null,
           null,
           null,
           null,
           null,
           null
          ],
          [
           null,
           null,
           null,
           null,
           null,
           null,
           null,
           -0.18262815259031015,
           0.1961668502322697,
           null,
           null,
           null,
           null,
           null,
           null,
           null,
           -0.18560210729066953,
           null,
           null,
           null,
           null,
           null,
           null,
           null,
           null,
           null,
           null,
           null,
           null,
           null
          ],
          [
           null,
           null,
           null,
           null,
           null,
           null,
           null,
           null,
           null,
           null,
           null,
           null,
           null,
           null,
           null,
           null,
           null,
           null,
           null,
           null,
           0.2628886607568352,
           null,
           null,
           null,
           null,
           null,
           null,
           null,
           null,
           null
          ],
          [
           null,
           0.15816461147377936,
           null,
           null,
           null,
           null,
           null,
           -0.18818765365019482,
           null,
           null,
           null,
           null,
           null,
           null,
           null,
           null,
           null,
           null,
           null,
           null,
           null,
           null,
           null,
           null,
           null,
           null,
           null,
           null,
           -0.16286713995494378,
           null
          ],
          [
           null,
           0.19500050243967534,
           null,
           null,
           null,
           0.2271866240120621,
           0.17755998698474906,
           null,
           0.2527769195477112,
           0.19155443425170499,
           null,
           0.18976613318116511,
           null,
           null,
           null,
           0.24362246479741476,
           null,
           0.21909758468411988,
           0.18316575869235982,
           null,
           null,
           null,
           null,
           null,
           0.19585930538869226,
           null,
           0.1907234055826303,
           null,
           null,
           null
          ]
         ]
        }
       ],
       "layout": {
        "template": {
         "data": {
          "bar": [
           {
            "error_x": {
             "color": "#2a3f5f"
            },
            "error_y": {
             "color": "#2a3f5f"
            },
            "marker": {
             "line": {
              "color": "#E5ECF6",
              "width": 0.5
             }
            },
            "type": "bar"
           }
          ],
          "barpolar": [
           {
            "marker": {
             "line": {
              "color": "#E5ECF6",
              "width": 0.5
             }
            },
            "type": "barpolar"
           }
          ],
          "carpet": [
           {
            "aaxis": {
             "endlinecolor": "#2a3f5f",
             "gridcolor": "white",
             "linecolor": "white",
             "minorgridcolor": "white",
             "startlinecolor": "#2a3f5f"
            },
            "baxis": {
             "endlinecolor": "#2a3f5f",
             "gridcolor": "white",
             "linecolor": "white",
             "minorgridcolor": "white",
             "startlinecolor": "#2a3f5f"
            },
            "type": "carpet"
           }
          ],
          "choropleth": [
           {
            "colorbar": {
             "outlinewidth": 0,
             "ticks": ""
            },
            "type": "choropleth"
           }
          ],
          "contour": [
           {
            "colorbar": {
             "outlinewidth": 0,
             "ticks": ""
            },
            "colorscale": [
             [
              0,
              "#0d0887"
             ],
             [
              0.1111111111111111,
              "#46039f"
             ],
             [
              0.2222222222222222,
              "#7201a8"
             ],
             [
              0.3333333333333333,
              "#9c179e"
             ],
             [
              0.4444444444444444,
              "#bd3786"
             ],
             [
              0.5555555555555556,
              "#d8576b"
             ],
             [
              0.6666666666666666,
              "#ed7953"
             ],
             [
              0.7777777777777778,
              "#fb9f3a"
             ],
             [
              0.8888888888888888,
              "#fdca26"
             ],
             [
              1,
              "#f0f921"
             ]
            ],
            "type": "contour"
           }
          ],
          "contourcarpet": [
           {
            "colorbar": {
             "outlinewidth": 0,
             "ticks": ""
            },
            "type": "contourcarpet"
           }
          ],
          "heatmap": [
           {
            "colorbar": {
             "outlinewidth": 0,
             "ticks": ""
            },
            "colorscale": [
             [
              0,
              "#0d0887"
             ],
             [
              0.1111111111111111,
              "#46039f"
             ],
             [
              0.2222222222222222,
              "#7201a8"
             ],
             [
              0.3333333333333333,
              "#9c179e"
             ],
             [
              0.4444444444444444,
              "#bd3786"
             ],
             [
              0.5555555555555556,
              "#d8576b"
             ],
             [
              0.6666666666666666,
              "#ed7953"
             ],
             [
              0.7777777777777778,
              "#fb9f3a"
             ],
             [
              0.8888888888888888,
              "#fdca26"
             ],
             [
              1,
              "#f0f921"
             ]
            ],
            "type": "heatmap"
           }
          ],
          "heatmapgl": [
           {
            "colorbar": {
             "outlinewidth": 0,
             "ticks": ""
            },
            "colorscale": [
             [
              0,
              "#0d0887"
             ],
             [
              0.1111111111111111,
              "#46039f"
             ],
             [
              0.2222222222222222,
              "#7201a8"
             ],
             [
              0.3333333333333333,
              "#9c179e"
             ],
             [
              0.4444444444444444,
              "#bd3786"
             ],
             [
              0.5555555555555556,
              "#d8576b"
             ],
             [
              0.6666666666666666,
              "#ed7953"
             ],
             [
              0.7777777777777778,
              "#fb9f3a"
             ],
             [
              0.8888888888888888,
              "#fdca26"
             ],
             [
              1,
              "#f0f921"
             ]
            ],
            "type": "heatmapgl"
           }
          ],
          "histogram": [
           {
            "marker": {
             "colorbar": {
              "outlinewidth": 0,
              "ticks": ""
             }
            },
            "type": "histogram"
           }
          ],
          "histogram2d": [
           {
            "colorbar": {
             "outlinewidth": 0,
             "ticks": ""
            },
            "colorscale": [
             [
              0,
              "#0d0887"
             ],
             [
              0.1111111111111111,
              "#46039f"
             ],
             [
              0.2222222222222222,
              "#7201a8"
             ],
             [
              0.3333333333333333,
              "#9c179e"
             ],
             [
              0.4444444444444444,
              "#bd3786"
             ],
             [
              0.5555555555555556,
              "#d8576b"
             ],
             [
              0.6666666666666666,
              "#ed7953"
             ],
             [
              0.7777777777777778,
              "#fb9f3a"
             ],
             [
              0.8888888888888888,
              "#fdca26"
             ],
             [
              1,
              "#f0f921"
             ]
            ],
            "type": "histogram2d"
           }
          ],
          "histogram2dcontour": [
           {
            "colorbar": {
             "outlinewidth": 0,
             "ticks": ""
            },
            "colorscale": [
             [
              0,
              "#0d0887"
             ],
             [
              0.1111111111111111,
              "#46039f"
             ],
             [
              0.2222222222222222,
              "#7201a8"
             ],
             [
              0.3333333333333333,
              "#9c179e"
             ],
             [
              0.4444444444444444,
              "#bd3786"
             ],
             [
              0.5555555555555556,
              "#d8576b"
             ],
             [
              0.6666666666666666,
              "#ed7953"
             ],
             [
              0.7777777777777778,
              "#fb9f3a"
             ],
             [
              0.8888888888888888,
              "#fdca26"
             ],
             [
              1,
              "#f0f921"
             ]
            ],
            "type": "histogram2dcontour"
           }
          ],
          "mesh3d": [
           {
            "colorbar": {
             "outlinewidth": 0,
             "ticks": ""
            },
            "type": "mesh3d"
           }
          ],
          "parcoords": [
           {
            "line": {
             "colorbar": {
              "outlinewidth": 0,
              "ticks": ""
             }
            },
            "type": "parcoords"
           }
          ],
          "pie": [
           {
            "automargin": true,
            "type": "pie"
           }
          ],
          "scatter": [
           {
            "marker": {
             "colorbar": {
              "outlinewidth": 0,
              "ticks": ""
             }
            },
            "type": "scatter"
           }
          ],
          "scatter3d": [
           {
            "line": {
             "colorbar": {
              "outlinewidth": 0,
              "ticks": ""
             }
            },
            "marker": {
             "colorbar": {
              "outlinewidth": 0,
              "ticks": ""
             }
            },
            "type": "scatter3d"
           }
          ],
          "scattercarpet": [
           {
            "marker": {
             "colorbar": {
              "outlinewidth": 0,
              "ticks": ""
             }
            },
            "type": "scattercarpet"
           }
          ],
          "scattergeo": [
           {
            "marker": {
             "colorbar": {
              "outlinewidth": 0,
              "ticks": ""
             }
            },
            "type": "scattergeo"
           }
          ],
          "scattergl": [
           {
            "marker": {
             "colorbar": {
              "outlinewidth": 0,
              "ticks": ""
             }
            },
            "type": "scattergl"
           }
          ],
          "scattermapbox": [
           {
            "marker": {
             "colorbar": {
              "outlinewidth": 0,
              "ticks": ""
             }
            },
            "type": "scattermapbox"
           }
          ],
          "scatterpolar": [
           {
            "marker": {
             "colorbar": {
              "outlinewidth": 0,
              "ticks": ""
             }
            },
            "type": "scatterpolar"
           }
          ],
          "scatterpolargl": [
           {
            "marker": {
             "colorbar": {
              "outlinewidth": 0,
              "ticks": ""
             }
            },
            "type": "scatterpolargl"
           }
          ],
          "scatterternary": [
           {
            "marker": {
             "colorbar": {
              "outlinewidth": 0,
              "ticks": ""
             }
            },
            "type": "scatterternary"
           }
          ],
          "surface": [
           {
            "colorbar": {
             "outlinewidth": 0,
             "ticks": ""
            },
            "colorscale": [
             [
              0,
              "#0d0887"
             ],
             [
              0.1111111111111111,
              "#46039f"
             ],
             [
              0.2222222222222222,
              "#7201a8"
             ],
             [
              0.3333333333333333,
              "#9c179e"
             ],
             [
              0.4444444444444444,
              "#bd3786"
             ],
             [
              0.5555555555555556,
              "#d8576b"
             ],
             [
              0.6666666666666666,
              "#ed7953"
             ],
             [
              0.7777777777777778,
              "#fb9f3a"
             ],
             [
              0.8888888888888888,
              "#fdca26"
             ],
             [
              1,
              "#f0f921"
             ]
            ],
            "type": "surface"
           }
          ],
          "table": [
           {
            "cells": {
             "fill": {
              "color": "#EBF0F8"
             },
             "line": {
              "color": "white"
             }
            },
            "header": {
             "fill": {
              "color": "#C8D4E3"
             },
             "line": {
              "color": "white"
             }
            },
            "type": "table"
           }
          ]
         },
         "layout": {
          "annotationdefaults": {
           "arrowcolor": "#2a3f5f",
           "arrowhead": 0,
           "arrowwidth": 1
          },
          "coloraxis": {
           "colorbar": {
            "outlinewidth": 0,
            "ticks": ""
           }
          },
          "colorscale": {
           "diverging": [
            [
             0,
             "#8e0152"
            ],
            [
             0.1,
             "#c51b7d"
            ],
            [
             0.2,
             "#de77ae"
            ],
            [
             0.3,
             "#f1b6da"
            ],
            [
             0.4,
             "#fde0ef"
            ],
            [
             0.5,
             "#f7f7f7"
            ],
            [
             0.6,
             "#e6f5d0"
            ],
            [
             0.7,
             "#b8e186"
            ],
            [
             0.8,
             "#7fbc41"
            ],
            [
             0.9,
             "#4d9221"
            ],
            [
             1,
             "#276419"
            ]
           ],
           "sequential": [
            [
             0,
             "#0d0887"
            ],
            [
             0.1111111111111111,
             "#46039f"
            ],
            [
             0.2222222222222222,
             "#7201a8"
            ],
            [
             0.3333333333333333,
             "#9c179e"
            ],
            [
             0.4444444444444444,
             "#bd3786"
            ],
            [
             0.5555555555555556,
             "#d8576b"
            ],
            [
             0.6666666666666666,
             "#ed7953"
            ],
            [
             0.7777777777777778,
             "#fb9f3a"
            ],
            [
             0.8888888888888888,
             "#fdca26"
            ],
            [
             1,
             "#f0f921"
            ]
           ],
           "sequentialminus": [
            [
             0,
             "#0d0887"
            ],
            [
             0.1111111111111111,
             "#46039f"
            ],
            [
             0.2222222222222222,
             "#7201a8"
            ],
            [
             0.3333333333333333,
             "#9c179e"
            ],
            [
             0.4444444444444444,
             "#bd3786"
            ],
            [
             0.5555555555555556,
             "#d8576b"
            ],
            [
             0.6666666666666666,
             "#ed7953"
            ],
            [
             0.7777777777777778,
             "#fb9f3a"
            ],
            [
             0.8888888888888888,
             "#fdca26"
            ],
            [
             1,
             "#f0f921"
            ]
           ]
          },
          "colorway": [
           "#636efa",
           "#EF553B",
           "#00cc96",
           "#ab63fa",
           "#FFA15A",
           "#19d3f3",
           "#FF6692",
           "#B6E880",
           "#FF97FF",
           "#FECB52"
          ],
          "font": {
           "color": "#2a3f5f"
          },
          "geo": {
           "bgcolor": "white",
           "lakecolor": "white",
           "landcolor": "#E5ECF6",
           "showlakes": true,
           "showland": true,
           "subunitcolor": "white"
          },
          "hoverlabel": {
           "align": "left"
          },
          "hovermode": "closest",
          "mapbox": {
           "style": "light"
          },
          "paper_bgcolor": "white",
          "plot_bgcolor": "#E5ECF6",
          "polar": {
           "angularaxis": {
            "gridcolor": "white",
            "linecolor": "white",
            "ticks": ""
           },
           "bgcolor": "#E5ECF6",
           "radialaxis": {
            "gridcolor": "white",
            "linecolor": "white",
            "ticks": ""
           }
          },
          "scene": {
           "xaxis": {
            "backgroundcolor": "#E5ECF6",
            "gridcolor": "white",
            "gridwidth": 2,
            "linecolor": "white",
            "showbackground": true,
            "ticks": "",
            "zerolinecolor": "white"
           },
           "yaxis": {
            "backgroundcolor": "#E5ECF6",
            "gridcolor": "white",
            "gridwidth": 2,
            "linecolor": "white",
            "showbackground": true,
            "ticks": "",
            "zerolinecolor": "white"
           },
           "zaxis": {
            "backgroundcolor": "#E5ECF6",
            "gridcolor": "white",
            "gridwidth": 2,
            "linecolor": "white",
            "showbackground": true,
            "ticks": "",
            "zerolinecolor": "white"
           }
          },
          "shapedefaults": {
           "line": {
            "color": "#2a3f5f"
           }
          },
          "ternary": {
           "aaxis": {
            "gridcolor": "white",
            "linecolor": "white",
            "ticks": ""
           },
           "baxis": {
            "gridcolor": "white",
            "linecolor": "white",
            "ticks": ""
           },
           "bgcolor": "#E5ECF6",
           "caxis": {
            "gridcolor": "white",
            "linecolor": "white",
            "ticks": ""
           }
          },
          "title": {
           "x": 0.05
          },
          "xaxis": {
           "automargin": true,
           "gridcolor": "white",
           "linecolor": "white",
           "ticks": "",
           "title": {
            "standoff": 15
           },
           "zerolinecolor": "white",
           "zerolinewidth": 2
          },
          "yaxis": {
           "automargin": true,
           "gridcolor": "white",
           "linecolor": "white",
           "ticks": "",
           "title": {
            "standoff": 15
           },
           "zerolinecolor": "white",
           "zerolinewidth": 2
          }
         }
        },
        "title": {
         "text": "Personalized correlations between the wakeup glucose and dietary features from the day before",
         "x": 0.5,
         "xanchor": "center",
         "y": 0.95,
         "yanchor": "top"
        },
        "xaxis": {
         "title": {
          "text": "Dietary features"
         }
        },
        "yaxis": {
         "title": {
          "text": "Registration Code"
         }
        }
       }
      },
      "text/html": [
       "<div>\n",
       "        \n",
       "        \n",
       "            <div id=\"c7e58acd-efbc-4174-86dd-a1c3468ce886\" class=\"plotly-graph-div\" style=\"height:525px; width:100%;\"></div>\n",
       "            <script type=\"text/javascript\">\n",
       "                require([\"plotly\"], function(Plotly) {\n",
       "                    window.PLOTLYENV=window.PLOTLYENV || {};\n",
       "                    \n",
       "                if (document.getElementById(\"c7e58acd-efbc-4174-86dd-a1c3468ce886\")) {\n",
       "                    Plotly.newPlot(\n",
       "                        'c7e58acd-efbc-4174-86dd-a1c3468ce886',\n",
       "                        [{\"hoverongaps\": false, \"type\": \"heatmap\", \"x\": [\"totaldietaryfiber_g_b\", \"totaldietaryfiber_g_d\", \"totaldietaryfiber_g_l\", \"energy_kcal_b\", \"energy_kcal_d\", \"energy_kcal_l\", \"carbohydrate_g_b\", \"carbohydrate_g_d\", \"carbohydrate_g_l\", \"protein_g_b\", \"protein_g_d\", \"protein_g_l\", \"totallipid_g_b\", \"totallipid_g_d\", \"totallipid_g_l\", \"weight_b\", \"weight_d\", \"weight_l\", \"sugarstotal_g_b\", \"sugarstotal_g_d\", \"sugarstotal_g_l\", \"sodium_mg_b\", \"sodium_mg_d\", \"sodium_mg_l\", \"caffeine_mg_b\", \"caffeine_mg_d\", \"caffeine_mg_l\", \"carbs/lipids_b\", \"carbs/lipids_d\", \"carbs/lipids_l\"], \"y\": [\"rc111527\", \"rc126092\", \"rc12752\", \"rc130279\", \"rc132095\", \"rc132178\", \"rc133828\", \"rc136529\", \"rc139531\", \"rc140050\", \"rc142162\", \"rc143892\", \"rc147121\", \"rc147867\", \"rc148574\", \"rc154750\", \"rc155314\", \"rc158748\", \"rc168236\", \"rc17298\", \"rc173854\", \"rc187022\", \"rc190009\", \"rc199369\", \"rc203977\", \"rc207579\", \"rc211261\", \"rc215130\", \"rc216303\", \"rc225207\", \"rc228851\", \"rc24153\", \"rc242185\", \"rc243235\", \"rc246043\", \"rc249651\", \"rc251582\", \"rc252002\", \"rc280392\", \"rc287239\", \"rc2893\", \"rc292372\", \"rc292738\", \"rc299260\", \"rc300747\", \"rc302974\", \"rc309076\", \"rc313112\", \"rc322846\", \"rc326754\", \"rc32708\", \"rc328155\", \"rc331758\", \"rc336079\", \"rc3375786\", \"rc339142\", \"rc347571\", \"rc351160\", \"rc356171\", \"rc356392\", \"rc3579890\", \"rc358113\", \"rc363101\", \"rc368667\", \"rc371755\", \"rc372475\", \"rc376789\", \"rc381034\", \"rc381094\", \"rc388245\", \"rc393528\", \"rc394693\", \"rc403032\", \"rc406329\", \"rc407703\", \"rc41275\", \"rc424661\", \"rc429455\", \"rc429763\", \"rc433346\", \"rc43647\", \"rc439484\", \"rc439864\", \"rc445179\", \"rc448705\", \"rc451959\", \"rc456910\", \"rc462007\", \"rc463455\", \"rc469047\", \"rc470856\", \"rc476133\", \"rc479878\", \"rc491836\", \"rc492806\", \"rc494678\", \"rc494901\", \"rc495288\", \"rc496680\", \"rc49674\", \"rc501757\", \"rc509553\", \"rc518788\", \"rc525994\", \"rc533401\", \"rc536037\", \"rc54400\", \"rc549830\", \"rc550818\", \"rc56031\", \"rc563437\", \"rc573718\", \"rc579543\", \"rc583231\", \"rc585490\", \"rc590916\", \"rc596834\", \"rc599101\", \"rc602810\", \"rc605764\", \"rc613617\", \"rc621142\", \"rc624435\", \"rc625103\", \"rc626391\", \"rc628781\", \"rc630920\", \"rc631485\", \"rc64952\", \"rc656660\", \"rc657584\", \"rc67951\", \"rc679548\", \"rc682027\", \"rc683035\", \"rc693878\", \"rc69789\", \"rc702207\", \"rc704171\", \"rc705938\", \"rc721061\", \"rc723796\", \"rc724901\", \"rc740203\", \"rc742096\", \"rc745073\", \"rc753413\", \"rc76307\", \"rc766836\", \"rc772380\", \"rc78283\", \"rc783563\", \"rc784057\", \"rc794434\", \"rc794542\", \"rc800808\", \"rc804157\", \"rc805227\", \"rc81477\", \"rc818980\", \"rc820101\", \"rc824245\", \"rc825349\", \"rc828334\", \"rc831208\", \"rc831919\", \"rc832748\", \"rc834183\", \"rc834851\", \"rc838820\", \"rc840825\", \"rc847993\", \"rc848164\", \"rc848368\", \"rc85854\", \"rc859286\", \"rc865727\", \"rc867514\", \"rc868780\", \"rc869485\", \"rc885039\", \"rc895129\", \"rc895596\", \"rc900460\", \"rc903238\", \"rc904671\", \"rc908190\", \"rc91050\", \"rc922039\", \"rc927011\", \"rc932700\", \"rc93282\", \"rc933765\", \"rc93928\", \"rc941542\", \"rc946729\", \"rc948714\", \"rc954295\", \"rc954766\", \"rc963150\", \"rc967551\", \"rc972181\", \"rc979162\", \"rc981727\", \"rc988899\", \"rc992638\", \"rc997735\"], \"z\": [[null, null, null, null, null, null, null, null, null, null, null, null, -0.19273442780479894, null, null, null, null, null, null, null, null, null, null, null, null, null, null, 0.18488698469276002, null, 0.2116491973759822], [null, null, null, null, null, null, null, null, 0.1919858450549232, null, null, null, null, null, null, 0.21591624655843966, 0.19400839205858583, 0.1890330882719682, null, null, null, null, null, 0.18768477636774547, null, null, null, 0.1796496933295197, null, null], [null, null, null, null, null, null, null, null, null, null, null, null, null, null, null, null, null, null, null, null, null, null, null, null, 0.4063162516277845, null, 0.24217399207656407, null, null, 0.25891941641655575], [null, null, null, -0.1740336159979019, null, null, null, null, null, -0.1724650306019606, null, null, null, null, null, null, null, null, null, null, null, -0.2290294422469891, null, null, null, null, null, null, null, null], [null, null, null, null, null, null, null, null, null, null, null, null, null, null, null, null, null, null, null, null, null, null, null, null, null, null, null, null, null, null], [null, null, 0.2030287105546268, null, null, null, null, null, null, -0.16910340598795945, null, null, null, null, null, null, null, 0.16798915894288263, null, null, null, null, null, 0.23518991802321687, null, null, null, null, null, -0.2933273499620501], [null, null, null, null, null, null, null, null, null, null, null, null, null, null, null, null, null, null, null, null, null, null, null, null, null, null, null, null, null, null], [null, null, 0.1971583314464352, null, null, 0.3183313034004106, null, null, 0.2445305923453369, null, null, 0.2524555499358708, null, null, 0.19598383600848543, null, null, 0.24501445311369718, null, null, 0.18806996018664454, null, null, null, null, null, 0.18629350349683713, null, null, null], [null, null, null, null, null, null, null, null, null, null, null, null, null, null, null, null, null, null, null, null, null, null, null, null, null, null, null, null, null, null], [null, null, null, null, null, null, null, 0.26438014566275314, null, null, null, null, null, null, null, 0.21345683971765406, null, null, null, null, null, null, null, null, 0.2197097881148812, null, null, null, 0.21913493607401205, null], [null, null, null, null, null, 0.27485640876783757, null, null, null, null, -0.23030852022083587, 0.34176306444324245, null, null, 0.2265353053292064, null, null, null, null, null, null, null, null, 0.26536864575123376, null, null, -0.20010136399547582, null, null, -0.2241010638557511], [null, null, null, null, null, null, null, null, null, null, null, null, null, null, null, null, null, null, null, null, 0.17784254765152213, null, null, null, null, null, null, null, null, null], [null, null, null, null, null, null, null, 0.14963918063890522, null, null, null, null, null, null, -0.1646730180905578, null, 0.15453053326874416, null, null, null, null, null, null, null, null, null, null, null, null, 0.24363633628161976], [null, null, null, null, null, null, null, null, null, null, null, null, null, null, null, null, null, null, null, null, null, null, null, null, null, null, -0.4441733554730224, null, null, null], [null, null, null, -0.24280688749187, null, null, null, null, null, null, null, null, -0.3193136108126855, null, null, null, null, null, null, null, null, null, null, null, null, null, null, null, null, null], [-0.23303687078020038, null, null, null, null, null, null, null, null, null, -0.20617931077282264, null, null, null, null, null, null, null, null, null, null, null, -0.2440965584519101, null, null, null, null, null, null, null], [null, null, null, null, null, null, null, null, null, null, null, null, null, null, null, null, null, null, null, null, null, null, null, null, null, null, null, null, null, 0.2292034541763085], [null, null, null, null, null, null, null, null, 0.2012387919702534, null, null, null, null, null, null, null, null, null, null, null, null, null, null, null, 0.21454905059144974, null, 0.3448496615135297, null, null, null], [null, null, null, null, null, null, null, null, null, null, null, null, null, null, null, null, null, null, null, null, null, null, null, null, null, null, null, null, null, null], [-0.1992003507693376, null, null, null, null, null, null, null, null, -0.22772556355850276, null, null, -0.23069412035599857, null, null, null, null, null, null, null, null, null, null, null, null, null, null, null, null, null], [null, null, null, null, null, 0.2076875315750134, null, null, null, null, null, 0.24712372057015955, null, null, 0.21797402429845653, null, null, null, null, null, null, null, null, null, null, null, null, null, null, null], [null, null, null, null, null, null, null, null, null, null, 0.24123034029906998, null, null, null, null, null, null, null, null, null, null, null, null, -0.18683886421181928, null, null, null, null, null, null], [null, null, null, null, null, null, null, null, null, null, null, null, null, null, null, null, null, null, null, null, null, null, null, null, null, null, null, null, null, null], [null, null, null, null, null, null, null, null, null, null, null, null, null, null, null, null, null, null, null, null, null, null, null, null, null, null, null, null, null, null], [null, null, null, null, null, null, null, null, null, null, null, null, null, null, null, null, null, null, null, null, null, null, null, null, null, null, null, null, null, null], [null, null, null, null, null, null, null, null, null, 0.2632908486765796, null, -0.30158862727995406, null, null, null, null, null, null, null, null, null, 0.25038883507929727, null, null, null, -0.24350362022691896, null, null, null, null], [null, null, null, null, null, null, null, null, null, null, null, null, null, null, null, null, null, null, null, null, null, null, null, null, null, null, null, null, null, null], [null, null, 0.27723156234374957, 0.1636969538182693, null, 0.27503989244506505, 0.2443182791350388, null, 0.2545999046730193, null, null, null, null, null, 0.203141669630709, 0.27422765792944415, 0.15721834295823123, 0.22664228010817009, null, 0.16219796841221792, 0.17394835625842994, null, null, null, 0.17756441683379776, null, null, 0.2504042690102515, null, null], [null, null, null, -0.27446523356012487, 0.33357998469275957, null, -0.28815280055623466, 0.2579955616084159, null, -0.2864078823404522, 0.25116933488110454, null, null, 0.2559220929198036, null, -0.3054088435880468, 0.3324258906773065, null, null, null, -0.3624958854556117, null, 0.25912392176376925, null, null, null, null, null, null, null], [null, null, null, null, 0.21280974662577212, null, null, null, null, null, 0.2926386737722549, null, null, 0.2008512233514781, null, null, 0.20455211199293663, null, null, null, null, null, 0.286884396927486, null, null, null, null, null, null, null], [null, null, null, null, null, null, null, null, 0.18668005281230482, null, null, null, null, null, null, null, null, null, null, null, null, null, null, null, null, null, 0.19205499199679435, null, null, null], [null, null, null, null, null, null, null, null, null, null, null, null, null, null, null, null, null, null, null, null, null, null, null, null, null, null, null, null, null, null], [null, null, null, null, null, null, null, null, null, null, null, null, null, null, null, null, -0.1859679478119794, null, null, null, null, null, -0.1905775839877966, null, 0.19697171175291972, null, null, null, null, null], [null, null, null, null, 0.4148339926001046, null, null, 0.32907052845546325, null, null, 0.32256963226801905, null, null, 0.2925545535907603, null, 0.2711049468948199, null, null, null, null, null, null, null, null, 0.25296501074243916, -0.354865619896802, null, null, null, null], [null, 0.17156480758330628, null, null, -0.2679735537753033, null, null, null, 0.2528080997044565, null, null, null, null, -0.23602817871843684, null, null, null, null, null, null, null, null, null, null, 0.16940959401363254, null, 0.19179651269971407, null, null, 0.19062223806787662], [null, null, null, null, null, null, null, null, null, null, null, null, null, null, null, null, null, null, 0.31597256864751544, null, null, null, null, null, null, null, null, null, null, null], [null, null, null, null, 0.18318020622697082, null, null, null, null, null, 0.2094996002028357, null, null, 0.2002691999858215, null, null, null, null, null, null, null, null, null, null, null, null, null, null, null, null], [null, null, null, null, null, null, null, null, -0.2441758563492789, null, null, null, null, null, null, null, null, null, null, null, -0.2330051288613188, null, null, null, null, null, null, null, null, null], [null, null, null, null, null, null, null, null, null, null, null, null, null, null, null, null, null, null, null, null, null, null, null, null, null, -0.34962553103261784, null, null, null, null], [null, null, 0.16439411661765888, null, null, 0.2874449689669934, null, null, 0.26145892435774026, null, null, null, null, null, 0.22321445977883472, null, null, null, null, null, null, null, null, null, null, null, null, null, null, null], [null, null, null, null, null, null, null, null, null, null, null, 0.2977930604424095, null, null, null, null, null, 0.19106366088726262, null, null, null, null, null, 0.2232050643443297, null, null, null, null, null, null], [null, null, -0.21879433637134932, null, null, null, null, null, null, null, null, null, null, null, null, null, null, -0.2038319104180695, null, null, -0.16968265292765503, null, null, null, null, null, null, null, null, null], [0.2236041032557347, null, null, null, 0.24978983988135744, null, null, 0.24823926817737277, null, null, null, null, null, null, null, null, 0.2318208263122704, null, null, null, null, null, null, null, null, null, null, null, null, null], [null, null, null, null, null, null, null, null, null, null, null, null, null, null, null, null, null, null, null, null, null, null, null, null, null, null, -0.2986770277994144, null, null, null], [null, null, null, null, null, null, null, null, null, null, null, null, null, null, null, null, null, null, null, 0.190292171734312, null, null, null, null, null, 0.2052026758278607, null, null, null, null], [null, null, null, null, null, null, null, null, null, null, null, null, null, null, null, null, null, null, null, null, null, -0.18454466098678063, null, null, null, null, null, null, null, null], [null, 0.2672625181312297, null, null, 0.4263150577170444, null, null, 0.2634170398981745, null, null, 0.3500589723771173, -0.2586977122053052, null, 0.29367298844177137, null, null, 0.38878532015764916, null, null, 0.21103785776212045, null, null, 0.2672518142264265, -0.30031295042320544, 0.2723762216562127, null, null, null, null, null], [-0.29641979069581015, null, null, null, null, null, null, null, null, null, null, null, null, null, null, null, null, null, null, null, null, null, null, null, null, null, null, null, null, null], [null, null, null, null, null, null, null, null, null, null, null, null, null, null, -0.2281466499100223, null, 0.20817862545105031, null, 0.1875660347730711, null, null, null, null, null, null, null, null, 0.19803117374165594, null, 0.3406331990266508], [null, null, null, null, null, null, null, null, null, null, null, 0.1993300229659781, null, null, null, null, null, null, null, null, 0.2550055610593705, null, null, null, null, null, null, null, null, null], [null, 0.258107560071988, null, null, null, null, null, null, 0.2384223314273187, null, null, null, null, null, null, null, null, null, null, null, null, null, null, null, null, null, null, null, null, null], [null, null, null, null, null, null, null, null, -0.3154186182856268, null, null, null, null, null, null, null, null, null, null, null, null, null, null, null, null, null, null, null, null, null], [null, null, null, null, null, null, null, null, null, null, null, null, null, null, null, null, null, null, null, null, null, null, null, null, null, null, null, null, null, null], [null, null, null, null, null, null, null, null, null, null, null, null, null, null, null, null, null, null, null, null, null, null, null, null, null, null, null, null, null, null], [null, null, null, null, null, null, -0.22470909581134665, null, null, null, null, null, null, null, null, null, null, null, null, null, null, null, null, -0.28694093822002437, null, null, null, null, null, null], [null, 0.22261388044197372, null, null, 0.25031943378572374, null, null, 0.2861625919500745, null, null, null, null, null, 0.24508485180834694, null, null, null, null, null, null, null, null, null, null, null, null, null, null, null, null], [null, null, null, null, null, null, null, null, null, null, null, null, null, null, null, null, null, null, null, null, null, null, null, null, null, null, null, null, null, null], [null, null, null, null, null, null, null, null, null, null, null, null, null, null, null, null, null, null, null, null, null, null, null, null, null, null, null, null, null, null], [null, null, null, null, null, null, null, -0.42362010484119644, null, null, null, null, null, null, null, null, null, null, null, null, null, null, null, null, null, null, null, null, null, null], [null, 0.2554745202085438, null, null, 0.20833758074827255, null, null, 0.27594083905215117, null, null, null, null, null, null, null, null, 0.21641896510305295, 0.1984778806215187, null, null, null, null, null, null, null, null, null, null, 0.2240370313762078, null], [null, null, null, null, null, null, null, null, null, null, null, null, null, null, null, null, null, null, null, null, 0.1944445248657733, null, null, null, null, null, null, null, null, null], [null, null, null, null, null, null, null, null, null, null, null, null, null, null, null, null, -0.2201923556278514, null, null, null, null, null, null, null, null, null, null, null, null, null], [null, null, null, null, null, null, null, null, null, null, null, null, null, null, null, null, null, null, null, null, null, null, null, null, null, null, null, null, null, null], [null, null, null, null, null, null, null, null, null, 0.26430482200415145, null, null, 0.24569813007465283, null, null, null, null, null, null, null, null, null, null, null, null, null, null, null, null, null], [null, 0.18133457946310164, null, null, null, null, null, null, null, -0.25822153519035346, null, null, null, null, 0.1945069446109006, -0.23769937628514376, null, null, null, null, null, null, null, null, null, null, 0.18123437650414304, null, null, -0.20647468173571631], [null, null, null, null, null, null, -0.20431779168118688, null, null, null, null, null, null, null, null, null, null, null, -0.21178366508548796, -0.20880092162665095, null, null, null, null, null, null, null, null, -0.20376723300798327, null], [null, null, null, null, null, null, null, null, null, null, null, null, null, null, null, null, null, null, null, 0.21677680754469436, null, null, null, null, null, null, null, null, null, null], [null, null, null, null, null, null, null, null, null, null, null, null, null, null, null, null, null, 0.3360435253842559, null, null, null, null, null, null, null, null, null, null, null, null], [null, null, null, null, null, null, null, 0.22765190056878978, null, null, null, null, null, null, null, null, null, null, null, null, null, null, null, null, null, -0.18690378699840937, null, null, 0.2538490890442864, null], [null, null, null, -0.21574698121574246, 0.35711127260770625, null, null, 0.30805671084675573, null, null, 0.2004867143083183, null, -0.2166176580753362, 0.26974526429577617, null, null, 0.2360176999371192, null, null, null, null, null, null, null, null, null, null, null, null, null], [null, null, null, null, null, null, null, null, 0.21273498080147488, null, null, null, null, null, null, null, null, null, null, null, null, null, null, null, null, null, null, null, null, 0.37408561572020965], [-0.2862640947858906, null, null, null, null, null, -0.34281951451960635, null, null, null, null, null, null, null, null, null, null, null, null, null, null, null, 0.2525274558555134, null, 0.300553133233685, null, null, null, null, null], [null, null, null, null, null, null, 0.1802302278435342, null, null, null, null, null, null, -0.2287997278358186, null, null, null, null, null, null, null, null, null, null, null, 0.21624083543400965, null, null, null, 0.22223128946245463], [-0.17605350450575777, null, null, null, null, null, null, null, null, 0.19334583448723444, null, null, 0.2436805600631705, null, null, null, null, null, -0.1765000934671894, null, -0.20421641788524897, 0.2955629571861143, null, null, null, null, null, -0.2114620683605646, null, null], [null, null, null, null, null, null, null, null, null, null, null, null, null, null, null, null, 0.20929534839842162, null, null, null, -0.17691458513136288, null, null, null, null, null, null, null, null, null], [null, null, null, null, null, null, null, null, null, null, null, null, null, null, null, null, null, 0.20377868091109747, null, null, null, null, -0.20559765925969592, null, null, null, null, null, null, null], [null, null, 0.3408983697489672, -0.3010397641959694, null, null, -0.29553815831115315, null, null, -0.2278978276363948, null, null, -0.2497579854064756, null, null, null, null, 0.3558681592748211, null, null, null, null, null, 0.2553199519544086, null, 0.24095814174084562, null, null, null, null], [null, null, null, null, null, null, null, null, null, null, null, null, null, null, null, null, null, null, null, null, null, -0.18923294684985603, null, null, null, -0.17253288393773908, null, null, null, null], [0.3940056334800623, null, null, 0.38660264105642256, null, null, 0.40024009603841537, null, null, null, null, null, 0.3848739495798319, null, null, null, -0.29946215939254295, null, 0.3783302194296205, null, null, null, null, null, null, null, null, null, null, null], [null, null, 0.1779499694162919, null, null, null, null, null, null, null, null, null, null, null, null, null, null, null, -0.1811303208218301, null, null, null, null, null, null, null, null, null, null, null], [null, null, 0.21752688149939403, null, null, null, null, null, null, null, null, null, null, null, null, null, null, null, null, null, null, null, null, null, null, null, null, null, null, null], [null, null, null, null, null, null, null, null, null, null, null, null, null, null, null, null, null, null, null, null, null, null, null, null, -0.18374849621733208, null, null, null, null, -0.23089187020551058], [null, null, null, null, null, null, null, null, null, null, null, null, null, null, null, null, null, null, null, -0.1924875293163373, null, null, null, null, null, null, null, null, null, null], [null, 0.17283827355471282, null, null, 0.1650869449676473, -0.16323553632258264, null, 0.19674545385101486, -0.1851773426100314, null, 0.1715494772904652, null, null, null, null, null, null, -0.21741058902190868, null, null, null, null, 0.19787285960044107, -0.1759493891560206, 0.1884957310438284, null, null, null, null, null], [null, null, null, null, null, null, null, null, null, null, null, null, null, null, null, null, null, null, null, -0.32532578530688055, null, null, null, null, null, null, null, null, null, null], [null, null, null, null, null, null, 0.2538976273955104, 0.22055249507422406, null, null, null, null, -0.21081191454093476, null, null, null, 0.2070993323757152, null, null, null, null, null, null, null, null, null, null, 0.2935171666472714, null, 0.2442119620349709], [null, null, null, null, null, null, null, null, null, null, null, null, null, null, null, null, null, null, null, null, null, null, null, null, null, null, null, null, null, null], [null, null, null, null, null, null, null, null, null, null, null, null, -0.2075046635274844, null, null, null, 0.17519901334814073, null, null, null, null, null, null, null, -0.17318254829863414, null, null, null, null, null], [null, null, null, null, null, null, null, null, null, null, null, null, null, null, 0.19611532720635944, null, null, null, null, null, null, null, null, null, null, null, null, null, null, null], [null, null, null, null, null, null, null, null, null, null, null, null, null, null, null, null, null, 0.23307668159212205, null, null, 0.24664677134169058, null, null, null, null, null, null, null, null, null], [null, null, 0.22870594008112766, null, null, 0.2468441610012305, null, null, null, null, null, null, 0.22850350020829394, null, null, null, null, null, null, null, null, null, null, null, null, 0.2899512603587196, null, null, null, null], [null, null, null, null, null, 0.22572526480891536, null, null, 0.2147320292190239, null, null, null, null, null, null, null, null, null, null, null, null, null, null, null, null, null, null, null, -0.20711355342752175, null], [null, 0.1904727528227999, null, null, null, null, null, null, null, null, 0.1970562930750858, null, null, null, null, null, 0.19833704613820732, null, null, null, null, null, null, null, null, null, 0.20710820620967135, null, null, null], [null, null, null, null, null, null, null, null, null, 0.17756850229509835, null, null, null, null, null, null, null, null, null, null, null, null, null, null, null, null, null, null, null, -0.18896489305038108], [0.19641078107164142, null, null, null, null, null, null, null, null, null, -0.19553648948827668, null, null, null, null, null, -0.2066974933810567, null, null, null, null, null, null, null, null, null, null, null, 0.17454119770730678, null], [null, null, null, null, null, null, null, null, null, null, 0.2769464773427528, null, null, null, -0.2446165913107393, 0.29660823994848895, null, null, null, null, null, null, 0.26578638007964106, null, 0.31761419691641884, null, null, null, null, null], [null, null, null, null, null, null, null, -0.18209410330198073, null, null, null, null, null, null, null, null, null, 0.23822562218510504, null, null, null, null, null, null, null, null, null, null, -0.18384781300843245, null], [null, null, null, null, null, null, null, null, null, null, null, null, null, null, null, null, null, null, null, null, null, null, null, null, null, null, null, null, null, null], [null, null, null, null, null, 0.27858359876269084, null, null, 0.23836119335829964, null, null, 0.27602696924070497, null, null, 0.21876669111868582, null, null, 0.2158939171120614, null, null, null, null, null, 0.2261121605510134, null, null, null, null, null, null], [null, null, null, null, null, null, null, null, null, null, null, null, null, null, null, null, null, null, null, null, null, -0.20080116346568244, null, null, null, null, 0.21051415196277537, null, null, null], [null, null, null, null, null, null, null, null, 0.21463616067267485, null, null, null, null, null, null, null, 0.21604672568057823, null, null, null, null, null, null, null, null, 0.22783340806820457, null, null, null, null], [null, null, null, null, null, null, null, null, 0.1611152561200799, null, null, null, null, null, null, null, 0.1918235694163463, null, -0.17808559627861179, null, null, null, null, null, null, null, null, null, null, null], [null, null, null, null, null, null, null, 0.22031264606844408, null, null, null, null, null, null, null, 0.20033378288190115, null, null, null, null, null, null, null, null, 0.21241808114069316, null, null, null, 0.18413281026469666, null], [null, null, null, null, null, null, null, null, null, null, null, null, null, null, null, null, null, null, null, null, null, null, null, null, null, null, null, -0.1767960125462303, null, 0.23952548857049683], [null, null, null, null, 0.33793852915143585, null, null, 0.34721616729699556, 0.26568929259152013, null, null, null, -0.2068749596354989, 0.205789633144195, null, 0.341176764945809, 0.4572473330408489, 0.22093895205168865, 0.3689755359897104, null, null, null, 0.23378639530225076, null, 0.27508733930276547, 0.2774955451791787, null, null, null, null], [null, null, null, null, null, null, null, null, null, null, null, null, null, null, null, null, null, null, null, null, null, null, null, null, null, null, null, null, null, null], [null, null, null, null, null, null, null, null, null, -0.2093606040917172, null, null, null, null, null, null, null, null, -0.21413190657440476, null, null, -0.22977391216606943, null, null, null, null, 0.2923130299364283, null, null, null], [null, null, null, null, null, null, null, null, null, null, null, null, null, null, null, null, null, null, null, null, null, null, null, null, null, null, null, null, null, null], [null, null, null, -0.36113576792599345, null, null, null, null, null, null, null, null, -0.36705321007711444, null, null, -0.3578948392844043, null, null, null, null, null, null, null, null, null, null, null, 0.3279408263105115, null, null], [null, null, null, null, null, null, 0.27729028490930013, null, null, 0.1897489820633399, null, null, null, null, null, 0.207112813979223, null, null, null, null, null, null, null, null, null, null, null, 0.20719213564179978, null, null], [null, null, null, null, null, 0.23830745649039026, null, null, 0.23704670468996644, null, null, null, null, null, 0.20778402854741748, 0.26508650551901153, null, 0.2488852055520099, null, null, 0.24654708061146818, null, null, 0.2090638157209921, 0.24631186375360556, null, null, null, null, null], [null, 0.1692877304595671, null, null, null, null, null, null, null, null, null, null, null, null, null, null, null, null, null, null, null, null, null, null, 0.1533751658565806, null, null, null, null, null], [null, null, null, null, null, null, null, null, 0.20794728012234726, null, null, null, -0.25531218117547283, null, null, null, null, null, null, null, null, null, null, null, null, null, null, null, null, null], [null, null, null, null, null, null, null, null, null, null, null, null, null, null, null, null, null, null, null, null, null, null, null, null, null, null, null, null, null, null], [null, null, null, null, null, null, null, null, null, null, null, null, null, null, null, null, null, null, null, null, null, null, null, null, null, null, null, null, null, null], [null, null, null, -0.17479037679131748, null, null, null, null, null, -0.24771566484871307, null, null, -0.19042876220031962, null, 0.19238293206031432, null, null, null, null, null, null, null, null, null, null, null, null, null, null, -0.22522600646500293], [null, null, 0.22138259166717025, null, null, null, null, null, null, null, null, null, null, null, null, null, null, null, null, null, null, null, null, null, null, null, null, null, -0.21218868718253403, null], [null, null, null, null, null, null, null, null, null, null, null, null, null, null, null, null, null, null, null, null, null, null, null, null, null, 0.3126370483543899, null, null, null, null], [null, null, null, null, null, null, null, null, null, null, null, null, null, null, null, null, null, null, null, null, null, null, null, null, null, null, null, null, null, null], [null, null, null, null, null, null, null, null, null, null, null, -0.21949210488261012, null, null, null, null, null, null, null, null, null, null, null, null, null, -0.18374082669055103, null, null, null, null], [null, 0.35107418833385406, null, -0.3815550877702909, 0.2808724293977666, null, -0.2570613816758368, 0.2730986015335381, null, -0.38253808904571657, 0.2516497002766698, null, -0.3980013871211984, 0.2386833731864308, null, -0.21943120880550385, 0.3122736208378218, null, null, 0.3114442208964579, null, -0.39511352549526496, null, null, null, null, null, null, null, null], [null, null, null, null, null, null, null, null, null, null, null, null, null, null, null, null, null, null, null, null, null, null, null, null, null, null, null, null, null, null], [-0.22835614473313412, null, null, null, null, null, -0.1958976263537465, null, null, null, null, null, null, null, null, null, null, null, -0.18216413462985165, null, -0.1714342556238951, null, null, null, null, null, null, null, null, null], [-0.3126021530542095, null, null, null, null, null, null, null, null, null, null, null, null, null, null, null, null, null, null, null, null, null, null, null, 0.2098557021730144, null, null, null, null, null], [null, null, null, null, null, null, null, null, null, null, null, null, null, null, null, null, null, null, 0.24308349012749675, null, null, null, null, null, null, null, null, null, null, null], [null, null, null, null, null, null, null, null, null, null, null, null, null, null, null, null, null, null, null, null, null, null, null, null, null, null, null, null, null, null], [null, null, 0.24162833154854393, null, null, 0.25661726526193107, 0.32352659724726823, null, 0.32864154685706426, null, null, null, null, null, null, null, null, 0.3269119030530982, null, null, null, null, null, null, null, null, null, null, null, null], [-0.22687932604290964, null, null, null, null, null, null, null, null, null, null, null, null, null, null, null, null, null, null, null, null, null, null, null, null, null, null, null, null, null], [-0.22101900057911675, null, null, null, null, null, null, null, null, null, null, null, null, null, null, null, null, null, -0.1880918846708672, null, null, null, null, null, null, null, null, null, null, -0.1703241284514354], [null, null, null, null, null, null, null, null, 0.30648664886350957, null, null, null, null, null, null, null, 0.3121947121667895, null, null, null, null, null, null, null, null, 0.39425188650407367, 0.2672549176143971, null, null, null], [null, null, null, null, null, 0.18194718185824832, null, null, null, null, null, null, null, null, 0.21136302131347307, null, null, null, null, null, null, null, null, 0.21975950034741434, null, 0.18386764506779826, null, null, null, null], [null, null, null, null, null, null, null, null, null, null, null, null, null, null, null, null, null, null, null, null, null, null, null, 0.191650381551033, null, null, null, null, null, null], [null, null, null, -0.1953316979117598, null, null, null, null, null, null, null, null, null, 0.2115663172806081, null, null, 0.2443847680882297, null, null, 0.19131232162503972, null, null, null, null, null, null, null, null, null, null], [null, null, -0.1573191443386544, null, null, null, 0.15892319082045575, null, null, null, null, -0.21174945434931233, null, null, null, null, null, -0.24001850032247118, null, null, null, null, null, -0.15777610308446366, null, null, null, null, null, 0.15541684861260321], [null, null, null, null, null, null, null, null, null, null, null, null, null, null, null, null, null, null, null, null, null, null, null, null, null, null, null, -0.2181769062614437, -0.2234040120440769, null], [null, null, null, -0.3569440395494102, 0.29765919818490305, null, -0.3502864535146882, null, null, null, 0.2975343378177822, null, null, null, null, null, 0.3008138117238653, null, null, null, null, null, 0.33734276844721883, null, null, null, null, null, null, null], [-0.3557230631618761, null, null, null, null, null, null, null, null, null, null, null, null, null, null, null, null, null, -0.2673272061582939, null, null, null, null, null, null, null, null, null, null, null], [null, null, null, null, null, null, null, null, null, null, null, null, null, 0.23805688688012291, null, null, null, null, null, null, null, null, null, null, null, -0.25405649547142595, null, null, null, null], [null, null, -0.1956726726596841, null, null, null, null, null, -0.2568699363665905, null, null, null, 0.2800405119630601, null, null, 0.26596837417388325, null, null, null, null, null, 0.220945380396783, null, null, null, null, null, -0.2966324841730075, null, null], [-0.16347027906702527, null, null, null, null, null, null, null, null, null, null, null, null, null, null, null, null, null, null, null, null, null, 0.2108846291838799, null, null, -0.1652014390727006, null, null, null, null], [-0.3047761376060204, -0.31043288344144854, null, null, null, null, null, null, null, null, null, null, null, null, null, null, null, null, null, null, -0.3030409464151433, null, null, null, null, null, null, null, null, null], [null, null, null, null, null, null, null, null, null, null, null, null, -0.18967083216398084, null, null, null, null, null, -0.21409905587422162, null, null, null, null, null, null, null, null, null, null, null], [null, null, null, null, null, null, null, null, null, null, null, null, null, null, null, null, null, null, null, null, null, null, null, null, null, null, null, null, null, null], [null, null, null, null, null, null, null, null, null, null, null, null, null, null, null, null, null, null, null, null, null, null, null, null, null, 0.2525610270983638, null, null, null, null], [null, null, null, null, 0.26098759189187704, -0.24495397172446517, null, null, -0.26969982774541046, null, 0.3164016844068689, null, null, 0.22260834633496634, null, null, null, null, null, null, null, null, null, null, 0.22804233226456036, null, -0.24156608402486965, null, null, -0.22201118722484686], [-0.22266016692637777, null, null, null, null, null, null, null, null, null, null, null, null, null, null, 0.25451200766106474, 0.19836115463534498, 0.2412476274550537, null, 0.34910387589398856, null, null, null, null, 0.33921911908610713, 0.27501321926317746, 0.33881064837003516, null, null, null], [null, null, null, null, null, null, null, 0.2257937813670386, 0.21818534252781488, null, null, null, null, -0.18216481883425764, null, null, 0.23190205955493212, null, null, 0.2152037402018219, null, null, null, null, 0.21395671843390215, 0.26563607774167153, null, 0.17800557041064669, 0.26068343370932645, 0.22256129832030278], [null, null, 0.1914057657186243, null, null, null, null, null, null, null, null, null, null, null, null, null, null, null, null, null, null, null, null, null, null, null, 0.19827850232043967, null, null, null], [-0.22142273613028135, null, null, null, null, 0.17211856077889834, null, null, 0.2517452544972316, -0.1682359547666799, null, null, null, null, null, -0.16627686170458617, null, null, null, -0.17824578842670552, null, null, null, null, -0.16976079766136085, -0.2836062095620973, null, null, null, null], [null, null, null, null, null, null, null, null, null, null, null, null, null, null, null, null, null, null, null, null, -0.1949529046457035, null, null, null, null, null, null, null, null, null], [null, null, null, null, 0.2117138720232085, null, -0.21290624508601239, null, null, null, 0.2014322651542405, null, 0.256702406668484, null, null, null, null, null, null, null, null, null, null, null, null, null, null, -0.33108529197922254, null, null], [null, null, null, null, 0.4273333869834461, null, null, 0.29648685589490353, null, null, 0.34496342154149434, null, null, 0.4145831659029332, null, null, 0.3440954440687786, null, -0.2454029532997099, null, null, null, 0.4194549401619438, null, null, null, null, null, null, null], [null, null, null, null, null, null, null, null, null, null, -0.18120053540729894, null, null, null, null, -0.2141211550431981, -0.34114452905204595, null, null, -0.22131382384233375, null, null, null, null, null, -0.2857806071235712, null, null, null, null], [null, null, 0.20774369723173242, null, -0.20717171498091624, null, null, null, null, -0.17508938723691733, null, null, -0.19241886653076762, null, null, null, -0.2248265910494647, null, null, null, null, null, null, null, null, -0.3550694116010258, -0.1959237836394347, 0.24377936793633206, null, null], [0.20497329903396416, null, null, 0.2974540957384013, null, null, 0.3326883027341542, null, null, 0.22103188657536496, null, null, 0.1997321521468987, null, null, null, null, null, null, null, null, null, null, null, null, null, null, null, null, null], [null, null, null, null, 0.3144277350594554, null, null, 0.26998978459080153, null, null, null, null, null, 0.44483891958800015, null, null, null, null, null, null, null, null, null, null, 0.245048967163822, null, null, null, null, null], [null, null, null, null, null, null, null, null, null, null, null, null, null, null, null, null, null, null, null, null, null, null, null, null, null, null, null, null, null, null], [null, -0.1713736950910488, null, null, -0.17598450472036473, null, null, null, null, null, -0.20494965181352187, null, null, null, null, null, -0.21671637346013356, null, null, null, null, null, -0.23060390106400638, null, null, null, null, null, null, null], [null, null, null, null, null, 0.4347980377831125, null, null, null, null, null, 0.5005949274605992, null, null, 0.4558814320008351, null, -0.3236878401095557, 0.4257384406638139, 0.27856601410907794, null, null, null, -0.2930271414711579, 0.3740528128587831, -0.3429869224441104, null, null, null, null, -0.2657968896774867], [null, 0.21428789533693787, null, null, 0.19121698740752202, null, null, 0.21352698634085307, null, null, null, null, null, null, null, null, null, null, null, null, null, null, null, null, null, null, null, null, null, null], [null, null, null, null, null, null, null, null, null, null, null, null, null, null, null, null, null, 0.29204510664353506, null, null, null, null, null, null, null, null, null, null, null, null], [null, null, null, -0.2645893651912269, null, null, null, null, null, null, null, null, -0.26141109575757515, null, null, null, null, null, null, null, null, null, null, null, null, null, null, null, null, null], [0.42732263168499324, null, null, null, 0.359284392350401, null, 0.2987343053525608, null, null, null, 0.3783466995681678, null, null, 0.388463911165947, null, 0.3357210455150626, null, null, 0.37897407697959745, null, null, null, null, null, null, null, null, null, -0.372547809993831, null], [null, null, null, null, null, null, null, null, null, null, null, null, null, null, null, null, null, null, null, null, null, null, null, null, null, null, null, null, null, null], [null, null, null, null, null, null, null, null, null, null, null, null, null, -0.18827316363678648, null, null, null, null, null, null, null, null, null, null, null, null, null, null, null, null], [null, null, null, null, null, null, null, null, null, null, null, null, null, null, null, null, null, null, null, null, null, null, null, null, null, null, null, null, null, null], [null, null, null, null, null, null, null, null, null, null, null, 0.17085717962467625, null, null, null, null, null, null, null, null, null, null, 0.18098085125108318, null, null, null, null, null, null, null], [null, null, null, null, null, null, null, null, null, null, null, null, null, null, null, 0.30548519987366707, null, null, null, 0.19798897848874336, null, null, null, null, 0.3702488286821334, null, 0.26110056217652017, null, null, null], [null, null, null, null, 0.17669850444600257, null, null, null, null, null, 0.2450389524582673, null, null, null, null, null, null, null, null, null, null, null, null, null, null, null, 0.18109257019890906, null, null, null], [null, null, null, null, null, null, 0.1615773667757609, null, null, null, null, null, null, null, null, null, null, null, null, null, null, null, null, -0.21596763789396423, null, null, null, null, null, null], [null, null, null, null, null, null, null, null, null, null, null, null, 0.22573842385471193, null, null, 0.21178604540024337, null, null, null, null, 0.24347084202572747, null, null, null, null, null, null, null, null, null], [null, null, null, null, null, null, 0.2272028455493597, null, 0.20354949881383902, null, null, null, null, null, null, 0.16927878151374548, null, null, null, null, 0.2404094589301733, null, null, null, null, null, null, null, null, 0.18194898799261194], [null, null, null, null, null, -0.2936299966684861, null, 0.2511153224085365, null, null, null, -0.2259046808589931, null, null, -0.17323017046146985, -0.18842228691218627, 0.19224317659474222, null, null, null, null, null, null, -0.21844958069319048, -0.28705797232876806, null, null, null, 0.16993932762612082, null], [null, null, null, null, null, null, null, null, null, null, null, null, null, null, null, null, null, null, null, null, null, null, null, null, null, 0.18608222222282095, null, null, null, null], [null, null, null, null, null, null, null, null, null, null, null, null, null, null, null, null, 0.29080540214171446, null, null, 0.31349406640093525, null, null, null, null, null, 0.21818293365791322, null, null, null, null], [null, 0.2963427119348897, null, null, null, null, -0.16285382007994126, 0.2236131904413652, 0.2164218034582828, null, null, 0.18668353248817063, null, null, null, null, 0.17162319402427614, 0.27538311091652534, -0.16728903400794015, null, null, null, null, null, null, null, null, null, 0.22979853970732736, null], [null, null, null, null, null, null, null, null, null, null, null, null, null, 0.19893608222277467, null, null, null, null, null, null, null, null, null, null, null, null, null, -0.18070573476288532, -0.21617394277992907, null], [null, null, null, null, null, null, null, 0.2736923622704711, null, null, null, null, null, 0.24913842750610363, null, null, null, null, null, null, null, null, null, null, null, null, null, null, null, null], [-0.1743511830465933, null, null, -0.22431091140382983, null, 0.2793697299910406, null, 0.1758535740985185, 0.22513240305832688, -0.24918920234170114, null, null, -0.2399989699676422, null, 0.18786212343047667, -0.20836111119058995, 0.3633792419713674, null, null, null, 0.20284377275755805, -0.18563868825072238, 0.25853754143651353, null, null, -0.201076835243008, null, null, null, null], [null, null, null, null, null, null, null, null, null, null, null, null, null, null, null, null, null, null, null, null, null, null, null, null, null, null, null, null, null, 0.2027300692048107], [null, null, null, null, null, null, null, null, null, 0.24057087938491112, null, null, null, null, null, null, null, null, null, null, null, null, null, null, null, null, null, null, null, null], [0.29096603008614896, null, null, null, 0.24748526717465757, null, 0.33708974508311196, null, null, null, null, null, null, 0.2366685442731459, null, null, null, null, null, null, null, null, null, null, null, 0.2368304038891423, null, 0.256284469134856, null, null], [null, null, null, 0.33997096933694804, null, null, 0.338485028112383, null, null, 0.35656397967792464, null, null, 0.34817826018895176, null, null, 0.4358896389500569, null, null, null, null, null, 0.3130480134277681, null, null, null, null, null, null, null, null], [null, null, null, -0.26061361936942024, null, null, null, null, 0.3297578311559098, -0.32662509355579405, null, null, -0.31644799203371105, null, null, -0.33430119477649894, null, 0.38148454976860147, null, null, null, -0.24183586930612588, null, null, null, null, null, null, null, null], [null, null, null, -0.15984646050049128, null, null, null, null, 0.15871044100117804, null, null, null, -0.15252312381279745, null, 0.18449886034953283, null, null, null, null, null, 0.15104376654931992, null, null, null, -0.14992596950339068, null, null, null, null, null], [null, -0.4529173419773095, null, null, null, null, null, -0.35202593192868714, null, null, null, null, null, null, null, null, null, null, null, null, null, null, null, null, null, null, null, null, null, null], [null, null, null, null, null, null, null, null, null, null, null, null, null, null, null, null, null, null, null, null, null, null, null, null, null, null, null, null, null, null], [null, null, 0.24362067950009564, -0.28768596027289456, -0.3146895218829774, 0.3947058708269166, null, 0.2851286266514911, 0.5077419737596249, null, -0.243316369491345, null, -0.41753516216318287, -0.4083524012766947, null, null, null, 0.2735204581526796, null, null, 0.2395817307040653, null, null, 0.2667907136284614, null, null, null, 0.32916187601645064, 0.39866195452086106, 0.48232772368435345], [null, null, null, null, 0.1723352387049859, null, null, 0.27963861066955115, null, null, null, null, null, null, null, null, 0.24861090088171725, null, null, null, null, null, null, null, null, null, null, null, 0.24854130108876216, null], [null, null, null, null, null, null, null, null, null, null, null, null, null, null, null, null, null, null, null, 0.2665151827996917, null, null, null, null, null, null, null, null, null, null], [null, null, null, null, null, null, null, null, 0.2384776186249491, null, null, null, null, null, null, null, null, null, null, null, null, null, null, null, null, null, null, null, null, null], [0.2528721949857291, null, null, 0.29062961996471576, null, null, 0.27443650142776455, null, null, 0.2204090065844316, null, null, 0.28962008761518193, null, null, 0.36541226725155124, null, null, 0.23791271632309888, null, 0.20023602371620283, 0.2692564737253663, null, -0.1861342027757844, 0.4468661594444032, null, null, null, 0.2442416788122225, null], [0.2635543818231335, null, null, 0.29958157977413524, null, 0.2920061580057061, 0.4271674220949326, null, 0.28664398487783654, null, null, 0.3019779236852896, null, -0.1627654023504874, null, 0.25205102889923686, null, 0.2748825403683897, null, null, null, 0.18518898830371142, null, 0.2787491376425918, null, null, null, 0.2923054338343914, 0.2569299026945617, 0.2192574788366516], [null, null, null, null, null, null, null, null, null, null, null, null, null, null, null, null, null, null, null, null, null, null, null, null, -0.1741601816538378, null, null, null, null, null], [null, null, null, null, null, null, null, null, null, null, null, null, null, null, null, null, null, null, null, null, null, null, null, null, null, null, null, null, null, null], [null, null, null, 0.25239211945753004, null, null, 0.2094265850380773, null, null, null, null, null, null, null, null, 0.1950628758027805, null, null, null, null, null, null, null, null, null, null, 0.2057017033705703, null, null, null], [null, null, null, null, null, null, null, null, null, null, null, null, null, null, null, null, null, 0.16754285114936968, null, null, null, null, null, null, null, null, null, null, null, null], [null, null, null, null, null, null, null, null, null, null, null, 0.20054634722049752, null, null, null, null, null, null, null, null, null, null, null, null, null, null, null, null, null, null], [null, null, null, null, null, null, null, null, null, null, null, null, null, 0.21587822104650398, null, null, null, null, null, null, null, null, null, null, null, null, null, null, -0.23462912506062994, null], [null, null, null, 0.16349239085265582, null, null, 0.2545122302887531, null, null, null, null, null, null, null, null, null, null, null, 0.1724638389087603, null, null, null, null, null, null, null, null, null, null, null], [null, null, null, null, null, null, null, null, null, null, null, null, null, null, null, null, null, null, null, null, null, null, null, null, null, null, null, null, null, null], [null, null, null, null, null, null, null, null, null, null, null, null, null, null, null, null, null, null, null, null, null, null, null, null, null, null, null, null, null, null], [null, null, null, null, null, null, null, null, null, null, null, null, null, null, null, null, null, null, null, null, null, null, null, null, null, null, null, null, null, null], [null, null, null, null, null, null, null, -0.18262815259031015, 0.1961668502322697, null, null, null, null, null, null, null, -0.18560210729066953, null, null, null, null, null, null, null, null, null, null, null, null, null], [null, null, null, null, null, null, null, null, null, null, null, null, null, null, null, null, null, null, null, null, 0.2628886607568352, null, null, null, null, null, null, null, null, null], [null, 0.15816461147377936, null, null, null, null, null, -0.18818765365019482, null, null, null, null, null, null, null, null, null, null, null, null, null, null, null, null, null, null, null, null, -0.16286713995494378, null], [null, 0.19500050243967534, null, null, null, 0.2271866240120621, 0.17755998698474906, null, 0.2527769195477112, 0.19155443425170499, null, 0.18976613318116511, null, null, null, 0.24362246479741476, null, 0.21909758468411988, 0.18316575869235982, null, null, null, null, null, 0.19585930538869226, null, 0.1907234055826303, null, null, null]]}],\n",
       "                        {\"template\": {\"data\": {\"bar\": [{\"error_x\": {\"color\": \"#2a3f5f\"}, \"error_y\": {\"color\": \"#2a3f5f\"}, \"marker\": {\"line\": {\"color\": \"#E5ECF6\", \"width\": 0.5}}, \"type\": \"bar\"}], \"barpolar\": [{\"marker\": {\"line\": {\"color\": \"#E5ECF6\", \"width\": 0.5}}, \"type\": \"barpolar\"}], \"carpet\": [{\"aaxis\": {\"endlinecolor\": \"#2a3f5f\", \"gridcolor\": \"white\", \"linecolor\": \"white\", \"minorgridcolor\": \"white\", \"startlinecolor\": \"#2a3f5f\"}, \"baxis\": {\"endlinecolor\": \"#2a3f5f\", \"gridcolor\": \"white\", \"linecolor\": \"white\", \"minorgridcolor\": \"white\", \"startlinecolor\": \"#2a3f5f\"}, \"type\": \"carpet\"}], \"choropleth\": [{\"colorbar\": {\"outlinewidth\": 0, \"ticks\": \"\"}, \"type\": \"choropleth\"}], \"contour\": [{\"colorbar\": {\"outlinewidth\": 0, \"ticks\": \"\"}, \"colorscale\": [[0.0, \"#0d0887\"], [0.1111111111111111, \"#46039f\"], [0.2222222222222222, \"#7201a8\"], [0.3333333333333333, \"#9c179e\"], [0.4444444444444444, \"#bd3786\"], [0.5555555555555556, \"#d8576b\"], [0.6666666666666666, \"#ed7953\"], [0.7777777777777778, \"#fb9f3a\"], [0.8888888888888888, \"#fdca26\"], [1.0, \"#f0f921\"]], \"type\": \"contour\"}], \"contourcarpet\": [{\"colorbar\": {\"outlinewidth\": 0, \"ticks\": \"\"}, \"type\": \"contourcarpet\"}], \"heatmap\": [{\"colorbar\": {\"outlinewidth\": 0, \"ticks\": \"\"}, \"colorscale\": [[0.0, \"#0d0887\"], [0.1111111111111111, \"#46039f\"], [0.2222222222222222, \"#7201a8\"], [0.3333333333333333, \"#9c179e\"], [0.4444444444444444, \"#bd3786\"], [0.5555555555555556, \"#d8576b\"], [0.6666666666666666, \"#ed7953\"], [0.7777777777777778, \"#fb9f3a\"], [0.8888888888888888, \"#fdca26\"], [1.0, \"#f0f921\"]], \"type\": \"heatmap\"}], \"heatmapgl\": [{\"colorbar\": {\"outlinewidth\": 0, \"ticks\": \"\"}, \"colorscale\": [[0.0, \"#0d0887\"], [0.1111111111111111, \"#46039f\"], [0.2222222222222222, \"#7201a8\"], [0.3333333333333333, \"#9c179e\"], [0.4444444444444444, \"#bd3786\"], [0.5555555555555556, \"#d8576b\"], [0.6666666666666666, \"#ed7953\"], [0.7777777777777778, \"#fb9f3a\"], [0.8888888888888888, \"#fdca26\"], [1.0, \"#f0f921\"]], \"type\": \"heatmapgl\"}], \"histogram\": [{\"marker\": {\"colorbar\": {\"outlinewidth\": 0, \"ticks\": \"\"}}, \"type\": \"histogram\"}], \"histogram2d\": [{\"colorbar\": {\"outlinewidth\": 0, \"ticks\": \"\"}, \"colorscale\": [[0.0, \"#0d0887\"], [0.1111111111111111, \"#46039f\"], [0.2222222222222222, \"#7201a8\"], [0.3333333333333333, \"#9c179e\"], [0.4444444444444444, \"#bd3786\"], [0.5555555555555556, \"#d8576b\"], [0.6666666666666666, \"#ed7953\"], [0.7777777777777778, \"#fb9f3a\"], [0.8888888888888888, \"#fdca26\"], [1.0, \"#f0f921\"]], \"type\": \"histogram2d\"}], \"histogram2dcontour\": [{\"colorbar\": {\"outlinewidth\": 0, \"ticks\": \"\"}, \"colorscale\": [[0.0, \"#0d0887\"], [0.1111111111111111, \"#46039f\"], [0.2222222222222222, \"#7201a8\"], [0.3333333333333333, \"#9c179e\"], [0.4444444444444444, \"#bd3786\"], [0.5555555555555556, \"#d8576b\"], [0.6666666666666666, \"#ed7953\"], [0.7777777777777778, \"#fb9f3a\"], [0.8888888888888888, \"#fdca26\"], [1.0, \"#f0f921\"]], \"type\": \"histogram2dcontour\"}], \"mesh3d\": [{\"colorbar\": {\"outlinewidth\": 0, \"ticks\": \"\"}, \"type\": \"mesh3d\"}], \"parcoords\": [{\"line\": {\"colorbar\": {\"outlinewidth\": 0, \"ticks\": \"\"}}, \"type\": \"parcoords\"}], \"pie\": [{\"automargin\": true, \"type\": \"pie\"}], \"scatter\": [{\"marker\": {\"colorbar\": {\"outlinewidth\": 0, \"ticks\": \"\"}}, \"type\": \"scatter\"}], \"scatter3d\": [{\"line\": {\"colorbar\": {\"outlinewidth\": 0, \"ticks\": \"\"}}, \"marker\": {\"colorbar\": {\"outlinewidth\": 0, \"ticks\": \"\"}}, \"type\": \"scatter3d\"}], \"scattercarpet\": [{\"marker\": {\"colorbar\": {\"outlinewidth\": 0, \"ticks\": \"\"}}, \"type\": \"scattercarpet\"}], \"scattergeo\": [{\"marker\": {\"colorbar\": {\"outlinewidth\": 0, \"ticks\": \"\"}}, \"type\": \"scattergeo\"}], \"scattergl\": [{\"marker\": {\"colorbar\": {\"outlinewidth\": 0, \"ticks\": \"\"}}, \"type\": \"scattergl\"}], \"scattermapbox\": [{\"marker\": {\"colorbar\": {\"outlinewidth\": 0, \"ticks\": \"\"}}, \"type\": \"scattermapbox\"}], \"scatterpolar\": [{\"marker\": {\"colorbar\": {\"outlinewidth\": 0, \"ticks\": \"\"}}, \"type\": \"scatterpolar\"}], \"scatterpolargl\": [{\"marker\": {\"colorbar\": {\"outlinewidth\": 0, \"ticks\": \"\"}}, \"type\": \"scatterpolargl\"}], \"scatterternary\": [{\"marker\": {\"colorbar\": {\"outlinewidth\": 0, \"ticks\": \"\"}}, \"type\": \"scatterternary\"}], \"surface\": [{\"colorbar\": {\"outlinewidth\": 0, \"ticks\": \"\"}, \"colorscale\": [[0.0, \"#0d0887\"], [0.1111111111111111, \"#46039f\"], [0.2222222222222222, \"#7201a8\"], [0.3333333333333333, \"#9c179e\"], [0.4444444444444444, \"#bd3786\"], [0.5555555555555556, \"#d8576b\"], [0.6666666666666666, \"#ed7953\"], [0.7777777777777778, \"#fb9f3a\"], [0.8888888888888888, \"#fdca26\"], [1.0, \"#f0f921\"]], \"type\": \"surface\"}], \"table\": [{\"cells\": {\"fill\": {\"color\": \"#EBF0F8\"}, \"line\": {\"color\": \"white\"}}, \"header\": {\"fill\": {\"color\": \"#C8D4E3\"}, \"line\": {\"color\": \"white\"}}, \"type\": \"table\"}]}, \"layout\": {\"annotationdefaults\": {\"arrowcolor\": \"#2a3f5f\", \"arrowhead\": 0, \"arrowwidth\": 1}, \"coloraxis\": {\"colorbar\": {\"outlinewidth\": 0, \"ticks\": \"\"}}, \"colorscale\": {\"diverging\": [[0, \"#8e0152\"], [0.1, \"#c51b7d\"], [0.2, \"#de77ae\"], [0.3, \"#f1b6da\"], [0.4, \"#fde0ef\"], [0.5, \"#f7f7f7\"], [0.6, \"#e6f5d0\"], [0.7, \"#b8e186\"], [0.8, \"#7fbc41\"], [0.9, \"#4d9221\"], [1, \"#276419\"]], \"sequential\": [[0.0, \"#0d0887\"], [0.1111111111111111, \"#46039f\"], [0.2222222222222222, \"#7201a8\"], [0.3333333333333333, \"#9c179e\"], [0.4444444444444444, \"#bd3786\"], [0.5555555555555556, \"#d8576b\"], [0.6666666666666666, \"#ed7953\"], [0.7777777777777778, \"#fb9f3a\"], [0.8888888888888888, \"#fdca26\"], [1.0, \"#f0f921\"]], \"sequentialminus\": [[0.0, \"#0d0887\"], [0.1111111111111111, \"#46039f\"], [0.2222222222222222, \"#7201a8\"], [0.3333333333333333, \"#9c179e\"], [0.4444444444444444, \"#bd3786\"], [0.5555555555555556, \"#d8576b\"], [0.6666666666666666, \"#ed7953\"], [0.7777777777777778, \"#fb9f3a\"], [0.8888888888888888, \"#fdca26\"], [1.0, \"#f0f921\"]]}, \"colorway\": [\"#636efa\", \"#EF553B\", \"#00cc96\", \"#ab63fa\", \"#FFA15A\", \"#19d3f3\", \"#FF6692\", \"#B6E880\", \"#FF97FF\", \"#FECB52\"], \"font\": {\"color\": \"#2a3f5f\"}, \"geo\": {\"bgcolor\": \"white\", \"lakecolor\": \"white\", \"landcolor\": \"#E5ECF6\", \"showlakes\": true, \"showland\": true, \"subunitcolor\": \"white\"}, \"hoverlabel\": {\"align\": \"left\"}, \"hovermode\": \"closest\", \"mapbox\": {\"style\": \"light\"}, \"paper_bgcolor\": \"white\", \"plot_bgcolor\": \"#E5ECF6\", \"polar\": {\"angularaxis\": {\"gridcolor\": \"white\", \"linecolor\": \"white\", \"ticks\": \"\"}, \"bgcolor\": \"#E5ECF6\", \"radialaxis\": {\"gridcolor\": \"white\", \"linecolor\": \"white\", \"ticks\": \"\"}}, \"scene\": {\"xaxis\": {\"backgroundcolor\": \"#E5ECF6\", \"gridcolor\": \"white\", \"gridwidth\": 2, \"linecolor\": \"white\", \"showbackground\": true, \"ticks\": \"\", \"zerolinecolor\": \"white\"}, \"yaxis\": {\"backgroundcolor\": \"#E5ECF6\", \"gridcolor\": \"white\", \"gridwidth\": 2, \"linecolor\": \"white\", \"showbackground\": true, \"ticks\": \"\", \"zerolinecolor\": \"white\"}, \"zaxis\": {\"backgroundcolor\": \"#E5ECF6\", \"gridcolor\": \"white\", \"gridwidth\": 2, \"linecolor\": \"white\", \"showbackground\": true, \"ticks\": \"\", \"zerolinecolor\": \"white\"}}, \"shapedefaults\": {\"line\": {\"color\": \"#2a3f5f\"}}, \"ternary\": {\"aaxis\": {\"gridcolor\": \"white\", \"linecolor\": \"white\", \"ticks\": \"\"}, \"baxis\": {\"gridcolor\": \"white\", \"linecolor\": \"white\", \"ticks\": \"\"}, \"bgcolor\": \"#E5ECF6\", \"caxis\": {\"gridcolor\": \"white\", \"linecolor\": \"white\", \"ticks\": \"\"}}, \"title\": {\"x\": 0.05}, \"xaxis\": {\"automargin\": true, \"gridcolor\": \"white\", \"linecolor\": \"white\", \"ticks\": \"\", \"title\": {\"standoff\": 15}, \"zerolinecolor\": \"white\", \"zerolinewidth\": 2}, \"yaxis\": {\"automargin\": true, \"gridcolor\": \"white\", \"linecolor\": \"white\", \"ticks\": \"\", \"title\": {\"standoff\": 15}, \"zerolinecolor\": \"white\", \"zerolinewidth\": 2}}}, \"title\": {\"text\": \"Personalized correlations between the wakeup glucose and dietary features from the day before\", \"x\": 0.5, \"xanchor\": \"center\", \"y\": 0.95, \"yanchor\": \"top\"}, \"xaxis\": {\"title\": {\"text\": \"Dietary features\"}}, \"yaxis\": {\"title\": {\"text\": \"Registration Code\"}}},\n",
       "                        {\"responsive\": true}\n",
       "                    ).then(function(){\n",
       "                            \n",
       "var gd = document.getElementById('c7e58acd-efbc-4174-86dd-a1c3468ce886');\n",
       "var x = new MutationObserver(function (mutations, observer) {{\n",
       "        var display = window.getComputedStyle(gd).display;\n",
       "        if (!display || display === 'none') {{\n",
       "            console.log([gd, 'removed!']);\n",
       "            Plotly.purge(gd);\n",
       "            observer.disconnect();\n",
       "        }}\n",
       "}});\n",
       "\n",
       "// Listen for the removal of the full notebook cells\n",
       "var notebookContainer = gd.closest('#notebook-container');\n",
       "if (notebookContainer) {{\n",
       "    x.observe(notebookContainer, {childList: true});\n",
       "}}\n",
       "\n",
       "// Listen for the clearing of the current output cell\n",
       "var outputEl = gd.closest('.output');\n",
       "if (outputEl) {{\n",
       "    x.observe(outputEl, {childList: true});\n",
       "}}\n",
       "\n",
       "                        })\n",
       "                };\n",
       "                });\n",
       "            </script>\n",
       "        </div>"
      ]
     },
     "metadata": {},
     "output_type": "display_data"
    }
   ],
   "source": [
    "plot_corr_heatmap(corr_table_split, savefig=True, filename='corr_split_diet_pnp3_nonfdr')"
   ]
  },
  {
   "cell_type": "markdown",
   "metadata": {},
   "source": [
    "## Correlations for the total cohort (not personalized)"
   ]
  },
  {
   "cell_type": "code",
   "execution_count": 84,
   "metadata": {
    "ExecuteTime": {
     "end_time": "2020-02-23T14:50:42.638003Z",
     "start_time": "2020-02-23T14:50:42.610647Z"
    }
   },
   "outputs": [
    {
     "data": {
      "text/html": [
       "<div>\n",
       "<style scoped>\n",
       "    .dataframe tbody tr th:only-of-type {\n",
       "        vertical-align: middle;\n",
       "    }\n",
       "\n",
       "    .dataframe tbody tr th {\n",
       "        vertical-align: top;\n",
       "    }\n",
       "\n",
       "    .dataframe thead th {\n",
       "        text-align: right;\n",
       "    }\n",
       "</style>\n",
       "<table border=\"1\" class=\"dataframe\">\n",
       "  <thead>\n",
       "    <tr style=\"text-align: right;\">\n",
       "      <th></th>\n",
       "      <th>wakeup_glucose</th>\n",
       "      <th>totaldietaryfiber_g</th>\n",
       "      <th>energy_kcal</th>\n",
       "      <th>carbohydrate_g</th>\n",
       "      <th>protein_g</th>\n",
       "      <th>totallipid_g</th>\n",
       "      <th>weight</th>\n",
       "      <th>sugarstotal_g</th>\n",
       "      <th>sodium_mg</th>\n",
       "      <th>caffeine_mg</th>\n",
       "      <th>carbs/lipids</th>\n",
       "      <th>caloric%carbs</th>\n",
       "      <th>caloric%fat</th>\n",
       "    </tr>\n",
       "    <tr>\n",
       "      <th>RegistrationCode</th>\n",
       "      <th></th>\n",
       "      <th></th>\n",
       "      <th></th>\n",
       "      <th></th>\n",
       "      <th></th>\n",
       "      <th></th>\n",
       "      <th></th>\n",
       "      <th></th>\n",
       "      <th></th>\n",
       "      <th></th>\n",
       "      <th></th>\n",
       "      <th></th>\n",
       "      <th></th>\n",
       "    </tr>\n",
       "  </thead>\n",
       "  <tbody>\n",
       "    <tr>\n",
       "      <th>111527</th>\n",
       "      <td>0.349300</td>\n",
       "      <td>0.627075</td>\n",
       "      <td>1.522302</td>\n",
       "      <td>3.553935</td>\n",
       "      <td>-0.272886</td>\n",
       "      <td>-0.697373</td>\n",
       "      <td>3.041030</td>\n",
       "      <td>-0.165274</td>\n",
       "      <td>-0.094478</td>\n",
       "      <td>3.242574</td>\n",
       "      <td>2.656941</td>\n",
       "      <td>2.846758</td>\n",
       "      <td>-2.157391</td>\n",
       "    </tr>\n",
       "    <tr>\n",
       "      <th>111527</th>\n",
       "      <td>-0.291937</td>\n",
       "      <td>0.218174</td>\n",
       "      <td>-0.041475</td>\n",
       "      <td>2.648198</td>\n",
       "      <td>-1.456848</td>\n",
       "      <td>-1.628582</td>\n",
       "      <td>2.321464</td>\n",
       "      <td>-0.189381</td>\n",
       "      <td>-0.619724</td>\n",
       "      <td>3.292399</td>\n",
       "      <td>3.243500</td>\n",
       "      <td>3.201142</td>\n",
       "      <td>-2.451168</td>\n",
       "    </tr>\n",
       "    <tr>\n",
       "      <th>111527</th>\n",
       "      <td>0.124867</td>\n",
       "      <td>0.884660</td>\n",
       "      <td>2.172966</td>\n",
       "      <td>4.410401</td>\n",
       "      <td>0.010956</td>\n",
       "      <td>-0.954021</td>\n",
       "      <td>1.995568</td>\n",
       "      <td>-0.286179</td>\n",
       "      <td>0.396189</td>\n",
       "      <td>0.701493</td>\n",
       "      <td>3.636022</td>\n",
       "      <td>3.157370</td>\n",
       "      <td>-2.789091</td>\n",
       "    </tr>\n",
       "    <tr>\n",
       "      <th>111527</th>\n",
       "      <td>0.862289</td>\n",
       "      <td>1.836151</td>\n",
       "      <td>-0.816003</td>\n",
       "      <td>1.795348</td>\n",
       "      <td>-1.559492</td>\n",
       "      <td>-2.227648</td>\n",
       "      <td>0.157043</td>\n",
       "      <td>1.896439</td>\n",
       "      <td>-0.329344</td>\n",
       "      <td>0.701493</td>\n",
       "      <td>3.569438</td>\n",
       "      <td>2.899077</td>\n",
       "      <td>-2.907388</td>\n",
       "    </tr>\n",
       "    <tr>\n",
       "      <th>111527</th>\n",
       "      <td>0.734042</td>\n",
       "      <td>0.533358</td>\n",
       "      <td>1.333484</td>\n",
       "      <td>3.562221</td>\n",
       "      <td>-0.040882</td>\n",
       "      <td>-1.091213</td>\n",
       "      <td>1.702489</td>\n",
       "      <td>8.137434</td>\n",
       "      <td>1.710252</td>\n",
       "      <td>0.443731</td>\n",
       "      <td>3.176683</td>\n",
       "      <td>2.995777</td>\n",
       "      <td>-2.537308</td>\n",
       "    </tr>\n",
       "    <tr>\n",
       "      <th>...</th>\n",
       "      <td>...</td>\n",
       "      <td>...</td>\n",
       "      <td>...</td>\n",
       "      <td>...</td>\n",
       "      <td>...</td>\n",
       "      <td>...</td>\n",
       "      <td>...</td>\n",
       "      <td>...</td>\n",
       "      <td>...</td>\n",
       "      <td>...</td>\n",
       "      <td>...</td>\n",
       "      <td>...</td>\n",
       "      <td>...</td>\n",
       "    </tr>\n",
       "    <tr>\n",
       "      <th>997735</th>\n",
       "      <td>-0.025140</td>\n",
       "      <td>-0.677929</td>\n",
       "      <td>0.919645</td>\n",
       "      <td>-0.058501</td>\n",
       "      <td>0.891051</td>\n",
       "      <td>1.026852</td>\n",
       "      <td>0.167137</td>\n",
       "      <td>-1.020914</td>\n",
       "      <td>-0.644736</td>\n",
       "      <td>0.023433</td>\n",
       "      <td>-0.360759</td>\n",
       "      <td>-0.353348</td>\n",
       "      <td>0.392124</td>\n",
       "    </tr>\n",
       "    <tr>\n",
       "      <th>997735</th>\n",
       "      <td>-0.305759</td>\n",
       "      <td>-0.455263</td>\n",
       "      <td>-1.870747</td>\n",
       "      <td>-1.331291</td>\n",
       "      <td>-1.542364</td>\n",
       "      <td>-0.907916</td>\n",
       "      <td>-0.772911</td>\n",
       "      <td>-0.913752</td>\n",
       "      <td>-0.572964</td>\n",
       "      <td>-0.249895</td>\n",
       "      <td>-0.871495</td>\n",
       "      <td>-1.235918</td>\n",
       "      <td>1.423999</td>\n",
       "    </tr>\n",
       "    <tr>\n",
       "      <th>997735</th>\n",
       "      <td>-0.084218</td>\n",
       "      <td>-0.060993</td>\n",
       "      <td>-0.326095</td>\n",
       "      <td>-0.795384</td>\n",
       "      <td>-0.090174</td>\n",
       "      <td>0.218678</td>\n",
       "      <td>-1.042250</td>\n",
       "      <td>-0.698685</td>\n",
       "      <td>-0.871065</td>\n",
       "      <td>-2.055397</td>\n",
       "      <td>-0.649366</td>\n",
       "      <td>-0.846629</td>\n",
       "      <td>0.814102</td>\n",
       "    </tr>\n",
       "    <tr>\n",
       "      <th>997735</th>\n",
       "      <td>-0.158065</td>\n",
       "      <td>-0.791466</td>\n",
       "      <td>-0.609157</td>\n",
       "      <td>1.331500</td>\n",
       "      <td>-1.415085</td>\n",
       "      <td>-1.355259</td>\n",
       "      <td>-0.527337</td>\n",
       "      <td>2.647626</td>\n",
       "      <td>-1.017592</td>\n",
       "      <td>-0.249895</td>\n",
       "      <td>1.626842</td>\n",
       "      <td>2.073396</td>\n",
       "      <td>-1.564616</td>\n",
       "    </tr>\n",
       "    <tr>\n",
       "      <th>997735</th>\n",
       "      <td>-0.482992</td>\n",
       "      <td>1.126791</td>\n",
       "      <td>0.013253</td>\n",
       "      <td>-0.743654</td>\n",
       "      <td>1.184147</td>\n",
       "      <td>0.134251</td>\n",
       "      <td>-0.498026</td>\n",
       "      <td>0.988757</td>\n",
       "      <td>-0.974149</td>\n",
       "      <td>-0.163277</td>\n",
       "      <td>-0.605006</td>\n",
       "      <td>-0.868045</td>\n",
       "      <td>0.192497</td>\n",
       "    </tr>\n",
       "  </tbody>\n",
       "</table>\n",
       "<p>22699 rows × 13 columns</p>\n",
       "</div>"
      ],
      "text/plain": [
       "                  wakeup_glucose  totaldietaryfiber_g  energy_kcal  \\\n",
       "RegistrationCode                                                     \n",
       "111527                  0.349300             0.627075     1.522302   \n",
       "111527                 -0.291937             0.218174    -0.041475   \n",
       "111527                  0.124867             0.884660     2.172966   \n",
       "111527                  0.862289             1.836151    -0.816003   \n",
       "111527                  0.734042             0.533358     1.333484   \n",
       "...                          ...                  ...          ...   \n",
       "997735                 -0.025140            -0.677929     0.919645   \n",
       "997735                 -0.305759            -0.455263    -1.870747   \n",
       "997735                 -0.084218            -0.060993    -0.326095   \n",
       "997735                 -0.158065            -0.791466    -0.609157   \n",
       "997735                 -0.482992             1.126791     0.013253   \n",
       "\n",
       "                  carbohydrate_g  protein_g  totallipid_g    weight  \\\n",
       "RegistrationCode                                                      \n",
       "111527                  3.553935  -0.272886     -0.697373  3.041030   \n",
       "111527                  2.648198  -1.456848     -1.628582  2.321464   \n",
       "111527                  4.410401   0.010956     -0.954021  1.995568   \n",
       "111527                  1.795348  -1.559492     -2.227648  0.157043   \n",
       "111527                  3.562221  -0.040882     -1.091213  1.702489   \n",
       "...                          ...        ...           ...       ...   \n",
       "997735                 -0.058501   0.891051      1.026852  0.167137   \n",
       "997735                 -1.331291  -1.542364     -0.907916 -0.772911   \n",
       "997735                 -0.795384  -0.090174      0.218678 -1.042250   \n",
       "997735                  1.331500  -1.415085     -1.355259 -0.527337   \n",
       "997735                 -0.743654   1.184147      0.134251 -0.498026   \n",
       "\n",
       "                  sugarstotal_g  sodium_mg  caffeine_mg  carbs/lipids  \\\n",
       "RegistrationCode                                                        \n",
       "111527                -0.165274  -0.094478     3.242574      2.656941   \n",
       "111527                -0.189381  -0.619724     3.292399      3.243500   \n",
       "111527                -0.286179   0.396189     0.701493      3.636022   \n",
       "111527                 1.896439  -0.329344     0.701493      3.569438   \n",
       "111527                 8.137434   1.710252     0.443731      3.176683   \n",
       "...                         ...        ...          ...           ...   \n",
       "997735                -1.020914  -0.644736     0.023433     -0.360759   \n",
       "997735                -0.913752  -0.572964    -0.249895     -0.871495   \n",
       "997735                -0.698685  -0.871065    -2.055397     -0.649366   \n",
       "997735                 2.647626  -1.017592    -0.249895      1.626842   \n",
       "997735                 0.988757  -0.974149    -0.163277     -0.605006   \n",
       "\n",
       "                  caloric%carbs  caloric%fat  \n",
       "RegistrationCode                              \n",
       "111527                 2.846758    -2.157391  \n",
       "111527                 3.201142    -2.451168  \n",
       "111527                 3.157370    -2.789091  \n",
       "111527                 2.899077    -2.907388  \n",
       "111527                 2.995777    -2.537308  \n",
       "...                         ...          ...  \n",
       "997735                -0.353348     0.392124  \n",
       "997735                -1.235918     1.423999  \n",
       "997735                -0.846629     0.814102  \n",
       "997735                 2.073396    -1.564616  \n",
       "997735                -0.868045     0.192497  \n",
       "\n",
       "[22699 rows x 13 columns]"
      ]
     },
     "execution_count": 84,
     "metadata": {},
     "output_type": "execute_result"
    }
   ],
   "source": [
    "data_corr_total"
   ]
  },
  {
   "cell_type": "code",
   "execution_count": 81,
   "metadata": {
    "ExecuteTime": {
     "end_time": "2020-02-23T14:41:48.073931Z",
     "start_time": "2020-02-23T14:41:45.493613Z"
    }
   },
   "outputs": [],
   "source": [
    "means = data_corr_total.groupby('RegistrationCode').mean()\n",
    "std = data_corr_total.groupby('RegistrationCode').std()\n",
    "data_corr_total = data_corr_total.set_index('RegistrationCode')\n",
    "# standartization of the values into z scores\n",
    "for rc in data_corr_total.index.unique():\n",
    "    data_corr_total.loc[rc] = (data_corr_total.loc[rc] - means.loc[rc])/std.loc[rc]"
   ]
  },
  {
   "cell_type": "code",
   "execution_count": 85,
   "metadata": {
    "ExecuteTime": {
     "end_time": "2020-02-23T14:51:08.007245Z",
     "start_time": "2020-02-23T14:51:07.886197Z"
    },
    "scrolled": true
   },
   "outputs": [
    {
     "name": "stdout",
     "output_type": "stream",
     "text": [
      "wakeup_glucose 1.0 0.0\n",
      "totaldietaryfiber_g 0.025153543602175196 0.0001506042885098631\n",
      "energy_kcal 0.05064626782846472 2.259237872194263e-14\n",
      "carbohydrate_g 0.053649393368153254 6.050425997442778e-16\n",
      "protein_g 0.04164994011957497 3.442014093475484e-10\n",
      "totallipid_g 0.029579569468083954 8.302042163818213e-06\n",
      "weight 0.06738938069037735 2.87034514782844e-24\n",
      "sugarstotal_g 0.021271354499279763 0.0013507739747861227\n",
      "sodium_mg 0.02383681065476446 0.00032864009826438784\n",
      "caffeine_mg 0.022523303644745578 0.0006896860617502874\n",
      "carbs/lipids 0.015132034076714807 0.02261803613276978\n",
      "caloric%carbs 0.019710298147534444 0.0029807579071119174\n",
      "caloric%fat -0.011348531130609359 0.08731177016512383\n"
     ]
    }
   ],
   "source": [
    "pvalues = []\n",
    "for column in data_corr_total.columns:\n",
    "    spearman = spearmanr(data_corr_total['wakeup_glucose'], data_corr_total[column])\n",
    "    print(column, spearman[0], spearman[1])\n",
    "    pvalues.append(spearman[1])"
   ]
  },
  {
   "cell_type": "markdown",
   "metadata": {},
   "source": [
    "## Calculating stats of the night"
   ]
  },
  {
   "cell_type": "markdown",
   "metadata": {},
   "source": [
    "### Explore sleep logging in pnp3"
   ]
  },
  {
   "cell_type": "markdown",
   "metadata": {},
   "source": [
    "I can take the nights from midnight to 6 am unless a person logged food during that time. Also let's check how many people and days do we have sleep log for in PNP3."
   ]
  },
  {
   "cell_type": "code",
   "execution_count": 8,
   "metadata": {
    "ExecuteTime": {
     "end_time": "2020-02-24T11:21:43.134641Z",
     "start_time": "2020-02-24T11:21:39.891030Z"
    }
   },
   "outputs": [
    {
     "name": "stderr",
     "output_type": "stream",
     "text": [
      "/home/elming/anaconda3/envs/mylabdata/lib/python3.7/site-packages/pandas/core/indexes/base.py:183: FutureWarning: the 'labels' keyword is deprecated, use 'codes' instead\n",
      "  return cls.__new__(cls, **d)\n"
     ]
    }
   ],
   "source": [
    "from LabData.DataLoaders.SleepLoader import SleepLoader\n",
    "sl = SleepLoader()\n",
    "sleep = sl.get_data(study_ids=[3,49]).df\n",
    "sleep_filtered = sl.filter_for_night_sleep(sleep)"
   ]
  },
  {
   "cell_type": "code",
   "execution_count": 10,
   "metadata": {
    "ExecuteTime": {
     "end_time": "2020-02-24T11:26:52.325506Z",
     "start_time": "2020-02-24T11:26:52.312601Z"
    }
   },
   "outputs": [],
   "source": [
    "sleep_filtered['Duration'] = (sleep_filtered.wakeup_time - sleep_filtered.sleep_time) / pd.Timedelta(hours=1)"
   ]
  },
  {
   "cell_type": "code",
   "execution_count": 12,
   "metadata": {
    "ExecuteTime": {
     "end_time": "2020-02-24T11:27:28.657780Z",
     "start_time": "2020-02-24T11:27:28.372492Z"
    }
   },
   "outputs": [
    {
     "data": {
      "image/png": "[encoded data removed]",
      "text/plain": [
       "<Figure size 432x288 with 1 Axes>"
      ]
     },
     "metadata": {},
     "output_type": "display_data"
    }
   ],
   "source": [
    "sleep_filtered.hist(bins=20)\n",
    "plt.xlabel('Duration of sleep')\n",
    "plt.ylabel('# of days');"
   ]
  },
  {
   "cell_type": "code",
   "execution_count": 13,
   "metadata": {
    "ExecuteTime": {
     "end_time": "2020-02-24T11:30:06.339369Z",
     "start_time": "2020-02-24T11:30:06.296904Z"
    }
   },
   "outputs": [],
   "source": [
    "sleep_filtered['sleep_time_plot'] = (sleep_filtered['sleep_time'] - sleep_filtered['sleep_time'].dt.normalize()) / pd.Timedelta(hours=1)\n",
    "\n",
    "sleep_filtered['wakeup_time_plot'] = (sleep_filtered['wakeup_time'] - sleep_filtered['wakeup_time'].dt.normalize()) / pd.Timedelta(hours=1)"
   ]
  },
  {
   "cell_type": "code",
   "execution_count": 14,
   "metadata": {
    "ExecuteTime": {
     "end_time": "2020-02-24T11:30:58.947776Z",
     "start_time": "2020-02-24T11:30:58.923416Z"
    }
   },
   "outputs": [],
   "source": [
    "mask = sleep_filtered['sleep_time_plot'] >= 21\n",
    "\n",
    "sleep_filtered.loc[mask, 'sleep_time_plot'] = sleep_filtered[mask]['sleep_time_plot'] - 24"
   ]
  },
  {
   "cell_type": "code",
   "execution_count": 16,
   "metadata": {
    "ExecuteTime": {
     "end_time": "2020-02-24T11:48:32.812998Z",
     "start_time": "2020-02-24T11:48:32.575952Z"
    },
    "scrolled": true
   },
   "outputs": [
    {
     "data": {
      "text/plain": [
       "<matplotlib.axes._subplots.AxesSubplot at 0x2ade1ff06190>"
      ]
     },
     "execution_count": 16,
     "metadata": {},
     "output_type": "execute_result"
    },
    {
     "data": {
      "image/png": "[encoded data removed]",
      "text/plain": [
       "<Figure size 432x288 with 1 Axes>"
      ]
     },
     "metadata": {},
     "output_type": "display_data"
    }
   ],
   "source": [
    "sleep_filtered['sleep_time_plot'].hist()"
   ]
  },
  {
   "cell_type": "code",
   "execution_count": 17,
   "metadata": {
    "ExecuteTime": {
     "end_time": "2020-02-24T11:49:51.967695Z",
     "start_time": "2020-02-24T11:49:51.742146Z"
    },
    "scrolled": true
   },
   "outputs": [
    {
     "data": {
      "text/plain": [
       "<matplotlib.axes._subplots.AxesSubplot at 0x2ade1ff0b490>"
      ]
     },
     "execution_count": 17,
     "metadata": {},
     "output_type": "execute_result"
    },
    {
     "data": {
      "image/png": "[encoded data removed]",
      "text/plain": [
       "<Figure size 432x288 with 1 Axes>"
      ]
     },
     "metadata": {},
     "output_type": "display_data"
    }
   ],
   "source": [
    "sleep_filtered['wakeup_time_plot'].hist()"
   ]
  },
  {
   "cell_type": "code",
   "execution_count": 24,
   "metadata": {
    "ExecuteTime": {
     "end_time": "2020-02-24T12:04:19.367661Z",
     "start_time": "2020-02-24T12:04:19.342037Z"
    }
   },
   "outputs": [],
   "source": [
    "sleep_filtered['Day'] = sleep_filtered['wakeup_time'].dt.date\n",
    "sleep_filtered = sleep_filtered.set_index('Day', append=True)"
   ]
  },
  {
   "cell_type": "code",
   "execution_count": 33,
   "metadata": {
    "ExecuteTime": {
     "end_time": "2020-02-24T12:16:06.118573Z",
     "start_time": "2020-02-24T12:16:06.109716Z"
    }
   },
   "outputs": [
    {
     "data": {
      "text/plain": [
       "(21066, 5)"
      ]
     },
     "execution_count": 33,
     "metadata": {},
     "output_type": "execute_result"
    }
   ],
   "source": [
    "sleep_filtered.shape"
   ]
  },
  {
   "cell_type": "code",
   "execution_count": 22,
   "metadata": {
    "ExecuteTime": {
     "end_time": "2020-02-24T12:03:10.396635Z",
     "start_time": "2020-02-24T12:03:10.374002Z"
    },
    "collapsed": true
   },
   "outputs": [
    {
     "data": {
      "text/html": [
       "<div>\n",
       "<style scoped>\n",
       "    .dataframe tbody tr th:only-of-type {\n",
       "        vertical-align: middle;\n",
       "    }\n",
       "\n",
       "    .dataframe tbody tr th {\n",
       "        vertical-align: top;\n",
       "    }\n",
       "\n",
       "    .dataframe thead th {\n",
       "        text-align: right;\n",
       "    }\n",
       "</style>\n",
       "<table border=\"1\" class=\"dataframe\">\n",
       "  <thead>\n",
       "    <tr style=\"text-align: right;\">\n",
       "      <th></th>\n",
       "      <th></th>\n",
       "      <th>wakeup_glucose</th>\n",
       "    </tr>\n",
       "    <tr>\n",
       "      <th>RegistrationCode</th>\n",
       "      <th>Day</th>\n",
       "      <th></th>\n",
       "    </tr>\n",
       "  </thead>\n",
       "  <tbody>\n",
       "    <tr>\n",
       "      <th rowspan=\"5\" valign=\"top\">111527</th>\n",
       "      <th>2017-11-08</th>\n",
       "      <td>103.071429</td>\n",
       "    </tr>\n",
       "    <tr>\n",
       "      <th>2017-11-10</th>\n",
       "      <td>98.071429</td>\n",
       "    </tr>\n",
       "    <tr>\n",
       "      <th>2017-11-11</th>\n",
       "      <td>101.321429</td>\n",
       "    </tr>\n",
       "    <tr>\n",
       "      <th>2017-11-12</th>\n",
       "      <td>107.071429</td>\n",
       "    </tr>\n",
       "    <tr>\n",
       "      <th>2017-11-13</th>\n",
       "      <td>106.071429</td>\n",
       "    </tr>\n",
       "  </tbody>\n",
       "</table>\n",
       "</div>"
      ],
      "text/plain": [
       "                             wakeup_glucose\n",
       "RegistrationCode Day                       \n",
       "111527           2017-11-08      103.071429\n",
       "                 2017-11-10       98.071429\n",
       "                 2017-11-11      101.321429\n",
       "                 2017-11-12      107.071429\n",
       "                 2017-11-13      106.071429"
      ]
     },
     "execution_count": 22,
     "metadata": {},
     "output_type": "execute_result"
    }
   ],
   "source": [
    "wakeup_glucose = wakeup_glucose.reset_index('hour').drop(columns='hour')"
   ]
  },
  {
   "cell_type": "code",
   "execution_count": 32,
   "metadata": {
    "ExecuteTime": {
     "end_time": "2020-02-24T12:15:32.292721Z",
     "start_time": "2020-02-24T12:15:32.286555Z"
    }
   },
   "outputs": [
    {
     "data": {
      "text/plain": [
       "(25432, 3)"
      ]
     },
     "execution_count": 32,
     "metadata": {},
     "output_type": "execute_result"
    }
   ],
   "source": [
    "wakeup_glucose.shape"
   ]
  },
  {
   "cell_type": "code",
   "execution_count": 34,
   "metadata": {
    "ExecuteTime": {
     "end_time": "2020-02-24T12:16:17.593692Z",
     "start_time": "2020-02-24T12:16:17.545465Z"
    },
    "scrolled": false
   },
   "outputs": [
    {
     "data": {
      "text/html": [
       "<div>\n",
       "<style scoped>\n",
       "    .dataframe tbody tr th:only-of-type {\n",
       "        vertical-align: middle;\n",
       "    }\n",
       "\n",
       "    .dataframe tbody tr th {\n",
       "        vertical-align: top;\n",
       "    }\n",
       "\n",
       "    .dataframe thead th {\n",
       "        text-align: right;\n",
       "    }\n",
       "</style>\n",
       "<table border=\"1\" class=\"dataframe\">\n",
       "  <thead>\n",
       "    <tr style=\"text-align: right;\">\n",
       "      <th></th>\n",
       "      <th>RegistrationCode</th>\n",
       "      <th>Day</th>\n",
       "      <th>wakeup_glucose</th>\n",
       "      <th>sleep_time</th>\n",
       "      <th>wakeup_time</th>\n",
       "      <th>Duration</th>\n",
       "      <th>sleep_time_plot</th>\n",
       "      <th>wakeup_time_plot</th>\n",
       "    </tr>\n",
       "  </thead>\n",
       "  <tbody>\n",
       "    <tr>\n",
       "      <th>0</th>\n",
       "      <td>111527</td>\n",
       "      <td>2017-11-08</td>\n",
       "      <td>103.071429</td>\n",
       "      <td>2017-11-07 22:55:06+02:00</td>\n",
       "      <td>2017-11-08 05:50:40+02:00</td>\n",
       "      <td>6.926111</td>\n",
       "      <td>-1.081667</td>\n",
       "      <td>5.844444</td>\n",
       "    </tr>\n",
       "    <tr>\n",
       "      <th>1</th>\n",
       "      <td>111527</td>\n",
       "      <td>2017-11-10</td>\n",
       "      <td>98.071429</td>\n",
       "      <td>2017-11-09 23:15:47+02:00</td>\n",
       "      <td>2017-11-10 06:02:34+02:00</td>\n",
       "      <td>6.779722</td>\n",
       "      <td>-0.736944</td>\n",
       "      <td>6.042778</td>\n",
       "    </tr>\n",
       "    <tr>\n",
       "      <th>2</th>\n",
       "      <td>111527</td>\n",
       "      <td>2017-11-11</td>\n",
       "      <td>101.321429</td>\n",
       "      <td>2017-11-11 01:18:50+02:00</td>\n",
       "      <td>2017-11-11 09:12:20+02:00</td>\n",
       "      <td>7.891667</td>\n",
       "      <td>1.313889</td>\n",
       "      <td>9.205556</td>\n",
       "    </tr>\n",
       "    <tr>\n",
       "      <th>3</th>\n",
       "      <td>111527</td>\n",
       "      <td>2017-11-12</td>\n",
       "      <td>107.071429</td>\n",
       "      <td>2017-11-11 23:07:37+02:00</td>\n",
       "      <td>2017-11-12 05:30:30+02:00</td>\n",
       "      <td>6.381389</td>\n",
       "      <td>-0.873056</td>\n",
       "      <td>5.508333</td>\n",
       "    </tr>\n",
       "    <tr>\n",
       "      <th>4</th>\n",
       "      <td>111527</td>\n",
       "      <td>2017-11-13</td>\n",
       "      <td>106.071429</td>\n",
       "      <td>2017-11-12 23:40:48+02:00</td>\n",
       "      <td>2017-11-13 05:30:43+02:00</td>\n",
       "      <td>5.831944</td>\n",
       "      <td>-0.320000</td>\n",
       "      <td>5.511944</td>\n",
       "    </tr>\n",
       "    <tr>\n",
       "      <th>...</th>\n",
       "      <td>...</td>\n",
       "      <td>...</td>\n",
       "      <td>...</td>\n",
       "      <td>...</td>\n",
       "      <td>...</td>\n",
       "      <td>...</td>\n",
       "      <td>...</td>\n",
       "      <td>...</td>\n",
       "    </tr>\n",
       "    <tr>\n",
       "      <th>12889</th>\n",
       "      <td>997735</td>\n",
       "      <td>2019-07-04</td>\n",
       "      <td>110.722222</td>\n",
       "      <td>2019-07-04 00:02:54+03:00</td>\n",
       "      <td>2019-07-04 07:00:02+03:00</td>\n",
       "      <td>6.952222</td>\n",
       "      <td>0.048333</td>\n",
       "      <td>7.000556</td>\n",
       "    </tr>\n",
       "    <tr>\n",
       "      <th>12890</th>\n",
       "      <td>997735</td>\n",
       "      <td>2019-07-05</td>\n",
       "      <td>92.972222</td>\n",
       "      <td>2019-07-04 23:57:26+03:00</td>\n",
       "      <td>2019-07-05 08:05:01+03:00</td>\n",
       "      <td>8.126389</td>\n",
       "      <td>-0.042778</td>\n",
       "      <td>8.083611</td>\n",
       "    </tr>\n",
       "    <tr>\n",
       "      <th>12891</th>\n",
       "      <td>997735</td>\n",
       "      <td>2019-07-06</td>\n",
       "      <td>105.972222</td>\n",
       "      <td>2019-07-06 00:37:11+03:00</td>\n",
       "      <td>2019-07-06 09:34:01+03:00</td>\n",
       "      <td>8.947222</td>\n",
       "      <td>0.619722</td>\n",
       "      <td>9.566944</td>\n",
       "    </tr>\n",
       "    <tr>\n",
       "      <th>12892</th>\n",
       "      <td>997735</td>\n",
       "      <td>2019-07-07</td>\n",
       "      <td>101.472222</td>\n",
       "      <td>2019-07-06 23:43:39+03:00</td>\n",
       "      <td>2019-07-07 07:17:01+03:00</td>\n",
       "      <td>7.556111</td>\n",
       "      <td>-0.272500</td>\n",
       "      <td>7.283611</td>\n",
       "    </tr>\n",
       "    <tr>\n",
       "      <th>12893</th>\n",
       "      <td>997735</td>\n",
       "      <td>2019-07-08</td>\n",
       "      <td>109.972222</td>\n",
       "      <td>2019-07-07 23:10:59+03:00</td>\n",
       "      <td>2019-07-08 07:27:33+03:00</td>\n",
       "      <td>8.276111</td>\n",
       "      <td>-0.816944</td>\n",
       "      <td>7.459167</td>\n",
       "    </tr>\n",
       "  </tbody>\n",
       "</table>\n",
       "<p>12894 rows × 8 columns</p>\n",
       "</div>"
      ],
      "text/plain": [
       "      RegistrationCode        Day  wakeup_glucose                sleep_time  \\\n",
       "0               111527 2017-11-08      103.071429 2017-11-07 22:55:06+02:00   \n",
       "1               111527 2017-11-10       98.071429 2017-11-09 23:15:47+02:00   \n",
       "2               111527 2017-11-11      101.321429 2017-11-11 01:18:50+02:00   \n",
       "3               111527 2017-11-12      107.071429 2017-11-11 23:07:37+02:00   \n",
       "4               111527 2017-11-13      106.071429 2017-11-12 23:40:48+02:00   \n",
       "...                ...        ...             ...                       ...   \n",
       "12889           997735 2019-07-04      110.722222 2019-07-04 00:02:54+03:00   \n",
       "12890           997735 2019-07-05       92.972222 2019-07-04 23:57:26+03:00   \n",
       "12891           997735 2019-07-06      105.972222 2019-07-06 00:37:11+03:00   \n",
       "12892           997735 2019-07-07      101.472222 2019-07-06 23:43:39+03:00   \n",
       "12893           997735 2019-07-08      109.972222 2019-07-07 23:10:59+03:00   \n",
       "\n",
       "                    wakeup_time  Duration  sleep_time_plot  wakeup_time_plot  \n",
       "0     2017-11-08 05:50:40+02:00  6.926111        -1.081667          5.844444  \n",
       "1     2017-11-10 06:02:34+02:00  6.779722        -0.736944          6.042778  \n",
       "2     2017-11-11 09:12:20+02:00  7.891667         1.313889          9.205556  \n",
       "3     2017-11-12 05:30:30+02:00  6.381389        -0.873056          5.508333  \n",
       "4     2017-11-13 05:30:43+02:00  5.831944        -0.320000          5.511944  \n",
       "...                         ...       ...              ...               ...  \n",
       "12889 2019-07-04 07:00:02+03:00  6.952222         0.048333          7.000556  \n",
       "12890 2019-07-05 08:05:01+03:00  8.126389        -0.042778          8.083611  \n",
       "12891 2019-07-06 09:34:01+03:00  8.947222         0.619722          9.566944  \n",
       "12892 2019-07-07 07:17:01+03:00  7.556111        -0.272500          7.283611  \n",
       "12893 2019-07-08 07:27:33+03:00  8.276111        -0.816944          7.459167  \n",
       "\n",
       "[12894 rows x 8 columns]"
      ]
     },
     "execution_count": 34,
     "metadata": {},
     "output_type": "execute_result"
    }
   ],
   "source": [
    "pd.merge(wakeup_glucose, sleep_filtered, on=['RegistrationCode', 'Day'])"
   ]
  },
  {
   "cell_type": "markdown",
   "metadata": {},
   "source": [
    "More than a half of the people actually have their sleep time logged, but I will anyway first try to take midnight till 6 am as a sleep time for everyone to generate stats."
   ]
  },
  {
   "cell_type": "markdown",
   "metadata": {},
   "source": [
    "### Stats of the night"
   ]
  },
  {
   "cell_type": "code",
   "execution_count": 53,
   "metadata": {
    "ExecuteTime": {
     "end_time": "2020-02-24T15:33:40.320320Z",
     "start_time": "2020-02-24T15:33:40.302505Z"
    }
   },
   "outputs": [],
   "source": [
    "def add_gluc_adj_pnp3(study_ids=[3,49]):    \n",
    "\n",
    "    \"\"\"\"\"\"\n",
    "    # Get the cgm df and combine it with adjusted glucose \n",
    "    cgmdf = cgml.get_data(study_ids=study_ids).df\n",
    "    cgmdf = cgml._remove_first_day_of_connections(cgmdf)\n",
    "    cgmdf = cgmdf.reset_index()\n",
    "    cgmdf['hour'] = cgmdf.Date.dt.hour\n",
    "    cgmdf = cgmdf.set_index('Date')\n",
    "    cgmdf.index = cgmdf.index.tz_localize(None)\n",
    "    adj_gluc = pd.read_json('/home/elming/Cache/adj_gl.json')\n",
    "    adj_gluc['ConnectionID'] = adj_gluc['ConnectionID'].astype(str)\n",
    "    adj_gluc['GlucoseTimestamp'] = pd.to_datetime(adj_gluc['GlucoseTimestamp'])\n",
    "    adj_gluc = adj_gluc.rename(columns={'GlucoseTimestamp':'Date'})\n",
    "    # adj_gluc = adj_gluc.set_index(['ConnectionID', 'Date'])\n",
    "    cgm_adj = pd.merge(cgmdf, adj_gluc[['GlucoseAdj50N13_Mm', 'Date', 'ConnectionID']], on=['ConnectionID', 'Date'])\n",
    "    cgm_adj = cgm_adj.rename(columns={'GlucoseAdj50N13_Mm':'GlucoseAdj'})\n",
    "\n",
    "    return cgm_adj"
   ]
  },
  {
   "cell_type": "code",
   "execution_count": 54,
   "metadata": {
    "ExecuteTime": {
     "end_time": "2020-02-24T15:36:09.907403Z",
     "start_time": "2020-02-24T15:33:43.965171Z"
    }
   },
   "outputs": [],
   "source": [
    "cgm_adj = add_gluc_adj_pnp3()"
   ]
  },
  {
   "cell_type": "code",
   "execution_count": 259,
   "metadata": {
    "ExecuteTime": {
     "end_time": "2020-02-25T13:29:45.358066Z",
     "start_time": "2020-02-25T13:29:45.352731Z"
    }
   },
   "outputs": [],
   "source": [
    "def filter_by_time(df, start, end):\n",
    "    \n",
    "    \"\"\"\n",
    "    The function filters the cgm entries between certain hours of the day. \n",
    "    The output is a dataframe containing the entries between start and end hour of each day.\n",
    "    :param df: CGM DataFrame\n",
    "    :param start: string of a type 'hh:mm'\n",
    "    :param end: string of a type 'hh:mm'\n",
    "    :return: filtered DataFrame with an index set to 'RegistrationCode', 'Day' and 'Time'\n",
    "    \"\"\"\n",
    "\n",
    "    df = df.set_index('Date')\n",
    "    filtered_df = df.between_time(start, end)\n",
    "    pd.options.mode.chained_assignment = None  # to avoid the warning message about chained assignments\n",
    "    filtered_df['Day'] = filtered_df.index.date\n",
    "    # Make it a separate function\n",
    "    # From the night cgm adjusted I need to remove nights with less than 20 observations\n",
    "#     count = filtered_df.groupby(['RegistrationCode', 'Day'])['GlucoseAdj'].count()\n",
    "#     rc_days_to_keep = count[count >= 20].index\n",
    "#     filtered_df = filtered_df.set_index(['RegistrationCode', 'Day'])\n",
    "#     filtered_df = filtered_df.loc[rc_days_to_keep]\n",
    "    \n",
    "    return filtered_df"
   ]
  },
  {
   "cell_type": "code",
   "execution_count": 142,
   "metadata": {
    "ExecuteTime": {
     "end_time": "2020-02-24T18:42:46.843965Z",
     "start_time": "2020-02-24T18:42:39.902358Z"
    },
    "scrolled": true
   },
   "outputs": [],
   "source": [
    "night_cgm_adj = filter_by_time(cgm_adj, '00:00', '06:00')"
   ]
  },
  {
   "cell_type": "code",
   "execution_count": 256,
   "metadata": {
    "ExecuteTime": {
     "end_time": "2020-02-25T13:27:13.612957Z",
     "start_time": "2020-02-25T13:27:13.590564Z"
    },
    "scrolled": false
   },
   "outputs": [
    {
     "data": {
      "text/html": [
       "<div>\n",
       "<style scoped>\n",
       "    .dataframe tbody tr th:only-of-type {\n",
       "        vertical-align: middle;\n",
       "    }\n",
       "\n",
       "    .dataframe tbody tr th {\n",
       "        vertical-align: top;\n",
       "    }\n",
       "\n",
       "    .dataframe thead th {\n",
       "        text-align: right;\n",
       "    }\n",
       "</style>\n",
       "<table border=\"1\" class=\"dataframe\">\n",
       "  <thead>\n",
       "    <tr style=\"text-align: right;\">\n",
       "      <th></th>\n",
       "      <th></th>\n",
       "      <th>ConnectionID</th>\n",
       "      <th>GlucoseValue</th>\n",
       "      <th>PPGR</th>\n",
       "      <th>hour</th>\n",
       "      <th>GlucoseAdj</th>\n",
       "    </tr>\n",
       "    <tr>\n",
       "      <th>RegistrationCode</th>\n",
       "      <th>Day</th>\n",
       "      <th></th>\n",
       "      <th></th>\n",
       "      <th></th>\n",
       "      <th></th>\n",
       "      <th></th>\n",
       "    </tr>\n",
       "  </thead>\n",
       "  <tbody>\n",
       "    <tr>\n",
       "      <th rowspan=\"5\" valign=\"top\">111527</th>\n",
       "      <th>2017-11-08</th>\n",
       "      <td>1926</td>\n",
       "      <td>100.0</td>\n",
       "      <td>0.00</td>\n",
       "      <td>0</td>\n",
       "      <td>98.571429</td>\n",
       "    </tr>\n",
       "    <tr>\n",
       "      <th>2017-11-08</th>\n",
       "      <td>1926</td>\n",
       "      <td>97.0</td>\n",
       "      <td>0.00</td>\n",
       "      <td>0</td>\n",
       "      <td>95.571429</td>\n",
       "    </tr>\n",
       "    <tr>\n",
       "      <th>2017-11-08</th>\n",
       "      <td>1926</td>\n",
       "      <td>96.0</td>\n",
       "      <td>0.00</td>\n",
       "      <td>0</td>\n",
       "      <td>94.571429</td>\n",
       "    </tr>\n",
       "    <tr>\n",
       "      <th>2017-11-08</th>\n",
       "      <td>1926</td>\n",
       "      <td>93.0</td>\n",
       "      <td>1.75</td>\n",
       "      <td>0</td>\n",
       "      <td>91.571429</td>\n",
       "    </tr>\n",
       "    <tr>\n",
       "      <th>2017-11-08</th>\n",
       "      <td>1926</td>\n",
       "      <td>90.0</td>\n",
       "      <td>9.25</td>\n",
       "      <td>1</td>\n",
       "      <td>88.571429</td>\n",
       "    </tr>\n",
       "  </tbody>\n",
       "</table>\n",
       "</div>"
      ],
      "text/plain": [
       "                            ConnectionID  GlucoseValue  PPGR  hour  GlucoseAdj\n",
       "RegistrationCode Day                                                          \n",
       "111527           2017-11-08         1926         100.0  0.00     0   98.571429\n",
       "                 2017-11-08         1926          97.0  0.00     0   95.571429\n",
       "                 2017-11-08         1926          96.0  0.00     0   94.571429\n",
       "                 2017-11-08         1926          93.0  1.75     0   91.571429\n",
       "                 2017-11-08         1926          90.0  9.25     1   88.571429"
      ]
     },
     "execution_count": 256,
     "metadata": {},
     "output_type": "execute_result"
    }
   ],
   "source": [
    "night_cgm_adj.head()"
   ]
  },
  {
   "cell_type": "code",
   "execution_count": 100,
   "metadata": {
    "ExecuteTime": {
     "end_time": "2020-02-24T17:39:00.188130Z",
     "start_time": "2020-02-24T17:39:00.174203Z"
    }
   },
   "outputs": [],
   "source": [
    "def count_stats(cgm_df):\n",
    "    \n",
    "    def q50(x):\n",
    "        return x.quantile(0.5)\n",
    "\n",
    "    def q75(x):\n",
    "        return x.quantile(0.75)\n",
    "\n",
    "    def q90(x):\n",
    "        return x.quantile(0.9)\n",
    "\n",
    "    def q95(x):\n",
    "        return x.quantile(0.95)\n",
    "\n",
    "    f = {'GlucoseAdj': ['mean', 'std', q50, q75, q90, q95]}\n",
    "    \n",
    "    stats = cgm_df.groupby(['RegistrationCode', 'Day'])['GlucoseAdj'].agg(f)\n",
    "    stats.columns = stats.columns.droplevel()\n",
    "    stats['CV'] = stats['std'] / stats['mean']\n",
    "    return stats"
   ]
  },
  {
   "cell_type": "code",
   "execution_count": 168,
   "metadata": {
    "ExecuteTime": {
     "end_time": "2020-02-25T10:13:08.432588Z",
     "start_time": "2020-02-25T10:10:44.554862Z"
    },
    "scrolled": false
   },
   "outputs": [
    {
     "name": "stderr",
     "output_type": "stream",
     "text": [
      "/home/elming/anaconda3/envs/mylabdata/lib/python3.7/site-packages/ipykernel_launcher.py:17: FutureWarning: using a dict on a Series for aggregation\n",
      "is deprecated and will be removed in a future version. Use                 named aggregation instead.\n",
      "\n",
      "    >>> grouper.agg(name_1=func_1, name_2=func_2)\n",
      "\n"
     ]
    }
   ],
   "source": [
    "night_cgm_stats = count_stats(night_cgm_adj)"
   ]
  },
  {
   "cell_type": "code",
   "execution_count": 169,
   "metadata": {
    "ExecuteTime": {
     "end_time": "2020-02-25T10:13:08.538968Z",
     "start_time": "2020-02-25T10:13:08.520778Z"
    }
   },
   "outputs": [
    {
     "data": {
      "text/html": [
       "<div>\n",
       "<style scoped>\n",
       "    .dataframe tbody tr th:only-of-type {\n",
       "        vertical-align: middle;\n",
       "    }\n",
       "\n",
       "    .dataframe tbody tr th {\n",
       "        vertical-align: top;\n",
       "    }\n",
       "\n",
       "    .dataframe thead th {\n",
       "        text-align: right;\n",
       "    }\n",
       "</style>\n",
       "<table border=\"1\" class=\"dataframe\">\n",
       "  <thead>\n",
       "    <tr style=\"text-align: right;\">\n",
       "      <th></th>\n",
       "      <th></th>\n",
       "      <th>mean</th>\n",
       "      <th>std</th>\n",
       "      <th>q50</th>\n",
       "      <th>q75</th>\n",
       "      <th>q90</th>\n",
       "      <th>q95</th>\n",
       "      <th>CV</th>\n",
       "    </tr>\n",
       "    <tr>\n",
       "      <th>RegistrationCode</th>\n",
       "      <th>Day</th>\n",
       "      <th></th>\n",
       "      <th></th>\n",
       "      <th></th>\n",
       "      <th></th>\n",
       "      <th></th>\n",
       "      <th></th>\n",
       "      <th></th>\n",
       "    </tr>\n",
       "  </thead>\n",
       "  <tbody>\n",
       "    <tr>\n",
       "      <th rowspan=\"5\" valign=\"top\">111527</th>\n",
       "      <th>2017-11-08</th>\n",
       "      <td>96.529762</td>\n",
       "      <td>6.188904</td>\n",
       "      <td>95.571429</td>\n",
       "      <td>100.571429</td>\n",
       "      <td>102.571429</td>\n",
       "      <td>105.121429</td>\n",
       "      <td>0.064114</td>\n",
       "    </tr>\n",
       "    <tr>\n",
       "      <th>2017-11-09</th>\n",
       "      <td>99.696429</td>\n",
       "      <td>6.641847</td>\n",
       "      <td>99.071429</td>\n",
       "      <td>103.571429</td>\n",
       "      <td>108.071429</td>\n",
       "      <td>110.421429</td>\n",
       "      <td>0.066621</td>\n",
       "    </tr>\n",
       "    <tr>\n",
       "      <th>2017-11-10</th>\n",
       "      <td>92.321429</td>\n",
       "      <td>5.350742</td>\n",
       "      <td>93.071429</td>\n",
       "      <td>96.821429</td>\n",
       "      <td>99.271429</td>\n",
       "      <td>99.571429</td>\n",
       "      <td>0.057958</td>\n",
       "    </tr>\n",
       "    <tr>\n",
       "      <th>2017-11-11</th>\n",
       "      <td>111.196429</td>\n",
       "      <td>11.293755</td>\n",
       "      <td>109.571429</td>\n",
       "      <td>118.321429</td>\n",
       "      <td>125.771429</td>\n",
       "      <td>133.521429</td>\n",
       "      <td>0.101566</td>\n",
       "    </tr>\n",
       "    <tr>\n",
       "      <th>2017-11-12</th>\n",
       "      <td>93.071429</td>\n",
       "      <td>2.570738</td>\n",
       "      <td>93.071429</td>\n",
       "      <td>94.571429</td>\n",
       "      <td>95.571429</td>\n",
       "      <td>97.271429</td>\n",
       "      <td>0.027621</td>\n",
       "    </tr>\n",
       "  </tbody>\n",
       "</table>\n",
       "</div>"
      ],
      "text/plain": [
       "                                   mean        std         q50         q75  \\\n",
       "RegistrationCode Day                                                         \n",
       "111527           2017-11-08   96.529762   6.188904   95.571429  100.571429   \n",
       "                 2017-11-09   99.696429   6.641847   99.071429  103.571429   \n",
       "                 2017-11-10   92.321429   5.350742   93.071429   96.821429   \n",
       "                 2017-11-11  111.196429  11.293755  109.571429  118.321429   \n",
       "                 2017-11-12   93.071429   2.570738   93.071429   94.571429   \n",
       "\n",
       "                                    q90         q95        CV  \n",
       "RegistrationCode Day                                           \n",
       "111527           2017-11-08  102.571429  105.121429  0.064114  \n",
       "                 2017-11-09  108.071429  110.421429  0.066621  \n",
       "                 2017-11-10   99.271429   99.571429  0.057958  \n",
       "                 2017-11-11  125.771429  133.521429  0.101566  \n",
       "                 2017-11-12   95.571429   97.271429  0.027621  "
      ]
     },
     "execution_count": 169,
     "metadata": {},
     "output_type": "execute_result"
    }
   ],
   "source": [
    "night_cgm_stats.head()"
   ]
  },
  {
   "cell_type": "code",
   "execution_count": 170,
   "metadata": {
    "ExecuteTime": {
     "end_time": "2020-02-25T10:13:43.669732Z",
     "start_time": "2020-02-25T10:13:43.636230Z"
    },
    "scrolled": false
   },
   "outputs": [
    {
     "data": {
      "text/html": [
       "<div>\n",
       "<style scoped>\n",
       "    .dataframe tbody tr th:only-of-type {\n",
       "        vertical-align: middle;\n",
       "    }\n",
       "\n",
       "    .dataframe tbody tr th {\n",
       "        vertical-align: top;\n",
       "    }\n",
       "\n",
       "    .dataframe thead th {\n",
       "        text-align: right;\n",
       "    }\n",
       "</style>\n",
       "<table border=\"1\" class=\"dataframe\">\n",
       "  <thead>\n",
       "    <tr style=\"text-align: right;\">\n",
       "      <th></th>\n",
       "      <th>Day</th>\n",
       "      <th>mean</th>\n",
       "      <th>std</th>\n",
       "      <th>q50</th>\n",
       "      <th>q75</th>\n",
       "      <th>q90</th>\n",
       "      <th>q95</th>\n",
       "      <th>CV</th>\n",
       "    </tr>\n",
       "    <tr>\n",
       "      <th>RegistrationCode</th>\n",
       "      <th></th>\n",
       "      <th></th>\n",
       "      <th></th>\n",
       "      <th></th>\n",
       "      <th></th>\n",
       "      <th></th>\n",
       "      <th></th>\n",
       "      <th></th>\n",
       "    </tr>\n",
       "  </thead>\n",
       "  <tbody>\n",
       "    <tr>\n",
       "      <th>111527</th>\n",
       "      <td>2017-11-08</td>\n",
       "      <td>96.529762</td>\n",
       "      <td>6.188904</td>\n",
       "      <td>95.571429</td>\n",
       "      <td>100.571429</td>\n",
       "      <td>102.571429</td>\n",
       "      <td>105.121429</td>\n",
       "      <td>0.064114</td>\n",
       "    </tr>\n",
       "    <tr>\n",
       "      <th>111527</th>\n",
       "      <td>2017-11-09</td>\n",
       "      <td>99.696429</td>\n",
       "      <td>6.641847</td>\n",
       "      <td>99.071429</td>\n",
       "      <td>103.571429</td>\n",
       "      <td>108.071429</td>\n",
       "      <td>110.421429</td>\n",
       "      <td>0.066621</td>\n",
       "    </tr>\n",
       "    <tr>\n",
       "      <th>111527</th>\n",
       "      <td>2017-11-10</td>\n",
       "      <td>92.321429</td>\n",
       "      <td>5.350742</td>\n",
       "      <td>93.071429</td>\n",
       "      <td>96.821429</td>\n",
       "      <td>99.271429</td>\n",
       "      <td>99.571429</td>\n",
       "      <td>0.057958</td>\n",
       "    </tr>\n",
       "    <tr>\n",
       "      <th>111527</th>\n",
       "      <td>2017-11-11</td>\n",
       "      <td>111.196429</td>\n",
       "      <td>11.293755</td>\n",
       "      <td>109.571429</td>\n",
       "      <td>118.321429</td>\n",
       "      <td>125.771429</td>\n",
       "      <td>133.521429</td>\n",
       "      <td>0.101566</td>\n",
       "    </tr>\n",
       "    <tr>\n",
       "      <th>111527</th>\n",
       "      <td>2017-11-12</td>\n",
       "      <td>93.071429</td>\n",
       "      <td>2.570738</td>\n",
       "      <td>93.071429</td>\n",
       "      <td>94.571429</td>\n",
       "      <td>95.571429</td>\n",
       "      <td>97.271429</td>\n",
       "      <td>0.027621</td>\n",
       "    </tr>\n",
       "  </tbody>\n",
       "</table>\n",
       "</div>"
      ],
      "text/plain": [
       "                        Day        mean        std         q50         q75  \\\n",
       "RegistrationCode                                                             \n",
       "111527           2017-11-08   96.529762   6.188904   95.571429  100.571429   \n",
       "111527           2017-11-09   99.696429   6.641847   99.071429  103.571429   \n",
       "111527           2017-11-10   92.321429   5.350742   93.071429   96.821429   \n",
       "111527           2017-11-11  111.196429  11.293755  109.571429  118.321429   \n",
       "111527           2017-11-12   93.071429   2.570738   93.071429   94.571429   \n",
       "\n",
       "                         q90         q95        CV  \n",
       "RegistrationCode                                    \n",
       "111527            102.571429  105.121429  0.064114  \n",
       "111527            108.071429  110.421429  0.066621  \n",
       "111527             99.271429   99.571429  0.057958  \n",
       "111527            125.771429  133.521429  0.101566  \n",
       "111527             95.571429   97.271429  0.027621  "
      ]
     },
     "execution_count": 170,
     "metadata": {},
     "output_type": "execute_result"
    }
   ],
   "source": [
    "night_cgm_stats = night_cgm_stats.reset_index('Day')\n",
    "night_cgm_stats['Day'] = pd.to_datetime(night_cgm_stats['Day'])\n",
    "night_cgm_stats.head()\n",
    "\n",
    "night_cgm_stats_wakeup = pd.merge(wakeup_glucose, night_cgm_stats, on=['RegistrationCode', 'Day'])"
   ]
  },
  {
   "cell_type": "code",
   "execution_count": 191,
   "metadata": {
    "ExecuteTime": {
     "end_time": "2020-02-25T10:30:40.310097Z",
     "start_time": "2020-02-25T10:30:40.284934Z"
    },
    "scrolled": false
   },
   "outputs": [
    {
     "data": {
      "text/html": [
       "<div>\n",
       "<style scoped>\n",
       "    .dataframe tbody tr th:only-of-type {\n",
       "        vertical-align: middle;\n",
       "    }\n",
       "\n",
       "    .dataframe tbody tr th {\n",
       "        vertical-align: top;\n",
       "    }\n",
       "\n",
       "    .dataframe thead th {\n",
       "        text-align: right;\n",
       "    }\n",
       "</style>\n",
       "<table border=\"1\" class=\"dataframe\">\n",
       "  <thead>\n",
       "    <tr style=\"text-align: right;\">\n",
       "      <th></th>\n",
       "      <th>wakeup_glucose</th>\n",
       "      <th>mean</th>\n",
       "      <th>std</th>\n",
       "      <th>q50</th>\n",
       "      <th>q75</th>\n",
       "      <th>q90</th>\n",
       "      <th>q95</th>\n",
       "      <th>CV</th>\n",
       "    </tr>\n",
       "    <tr>\n",
       "      <th>RegistrationCode</th>\n",
       "      <th></th>\n",
       "      <th></th>\n",
       "      <th></th>\n",
       "      <th></th>\n",
       "      <th></th>\n",
       "      <th></th>\n",
       "      <th></th>\n",
       "      <th></th>\n",
       "    </tr>\n",
       "  </thead>\n",
       "  <tbody>\n",
       "    <tr>\n",
       "      <th>111527</th>\n",
       "      <td>0.297220</td>\n",
       "      <td>-0.172687</td>\n",
       "      <td>-0.069862</td>\n",
       "      <td>-0.177058</td>\n",
       "      <td>-0.119000</td>\n",
       "      <td>-0.263344</td>\n",
       "      <td>-0.247947</td>\n",
       "      <td>-0.023088</td>\n",
       "    </tr>\n",
       "    <tr>\n",
       "      <th>111527</th>\n",
       "      <td>-0.337392</td>\n",
       "      <td>-0.717476</td>\n",
       "      <td>-0.263594</td>\n",
       "      <td>-0.516275</td>\n",
       "      <td>-0.498079</td>\n",
       "      <td>-0.535849</td>\n",
       "      <td>-0.651463</td>\n",
       "      <td>-0.174821</td>\n",
       "    </tr>\n",
       "    <tr>\n",
       "      <th>111527</th>\n",
       "      <td>0.075106</td>\n",
       "      <td>1.725981</td>\n",
       "      <td>1.110068</td>\n",
       "      <td>1.722559</td>\n",
       "      <td>1.675304</td>\n",
       "      <td>1.652444</td>\n",
       "      <td>1.816890</td>\n",
       "      <td>0.899994</td>\n",
       "    </tr>\n",
       "    <tr>\n",
       "      <th>111527</th>\n",
       "      <td>0.804910</td>\n",
       "      <td>-0.620385</td>\n",
       "      <td>-0.906161</td>\n",
       "      <td>-0.516275</td>\n",
       "      <td>-0.725526</td>\n",
       "      <td>-0.841384</td>\n",
       "      <td>-0.818686</td>\n",
       "      <td>-0.922532</td>\n",
       "    </tr>\n",
       "    <tr>\n",
       "      <th>111527</th>\n",
       "      <td>0.677987</td>\n",
       "      <td>-1.057294</td>\n",
       "      <td>-0.912795</td>\n",
       "      <td>-0.991179</td>\n",
       "      <td>-1.129876</td>\n",
       "      <td>-1.089115</td>\n",
       "      <td>-1.098602</td>\n",
       "      <td>-0.904803</td>\n",
       "    </tr>\n",
       "  </tbody>\n",
       "</table>\n",
       "</div>"
      ],
      "text/plain": [
       "                  wakeup_glucose      mean       std       q50       q75  \\\n",
       "RegistrationCode                                                           \n",
       "111527                  0.297220 -0.172687 -0.069862 -0.177058 -0.119000   \n",
       "111527                 -0.337392 -0.717476 -0.263594 -0.516275 -0.498079   \n",
       "111527                  0.075106  1.725981  1.110068  1.722559  1.675304   \n",
       "111527                  0.804910 -0.620385 -0.906161 -0.516275 -0.725526   \n",
       "111527                  0.677987 -1.057294 -0.912795 -0.991179 -1.129876   \n",
       "\n",
       "                       q90       q95        CV  \n",
       "RegistrationCode                                \n",
       "111527           -0.263344 -0.247947 -0.023088  \n",
       "111527           -0.535849 -0.651463 -0.174821  \n",
       "111527            1.652444  1.816890  0.899994  \n",
       "111527           -0.841384 -0.818686 -0.922532  \n",
       "111527           -1.089115 -1.098602 -0.904803  "
      ]
     },
     "execution_count": 191,
     "metadata": {},
     "output_type": "execute_result"
    }
   ],
   "source": [
    "night_cgm_stats_wakeup.head()"
   ]
  },
  {
   "cell_type": "code",
   "execution_count": 186,
   "metadata": {
    "ExecuteTime": {
     "end_time": "2020-02-25T10:26:19.587819Z",
     "start_time": "2020-02-25T10:26:19.548803Z"
    }
   },
   "outputs": [],
   "source": [
    "# Transforming all the table into Z-scores\n",
    "means = night_cgm_stats_wakeup.drop(columns='Day').groupby('RegistrationCode').mean()\n",
    "std = night_cgm_stats_wakeup.drop(columns='Day').groupby('RegistrationCode').std()\n",
    "night_cgm_stats_wakeup = night_cgm_stats_wakeup.set_index('RegistrationCode')\n",
    "\n",
    "night_cgm_stats_wakeup = night_cgm_stats_wakeup.drop(columns='Day')\n",
    "# standartization of the values into z scores\n",
    "for rc in night_cgm_stats_wakeup.index.unique():\n",
    "    night_cgm_stats_wakeup.loc[rc] = (night_cgm_stats_wakeup.loc[rc] - means.loc[rc])/std.loc[rc]"
   ]
  },
  {
   "cell_type": "markdown",
   "metadata": {},
   "source": [
    "### Correlation between the wakeup glucose and CV of the night"
   ]
  },
  {
   "cell_type": "code",
   "execution_count": 209,
   "metadata": {
    "ExecuteTime": {
     "end_time": "2020-02-25T10:39:17.830289Z",
     "start_time": "2020-02-25T10:39:17.808212Z"
    }
   },
   "outputs": [
    {
     "name": "stdout",
     "output_type": "stream",
     "text": [
      "SpearmanrResult(correlation=-0.1172923918251988, pvalue=2.7636586106814287e-73)\n"
     ]
    }
   ],
   "source": [
    "spearman = spearmanr(night_cgm_stats_wakeup['CV'], night_cgm_stats_wakeup['wakeup_glucose'])\n",
    "print(spearman)"
   ]
  },
  {
   "cell_type": "code",
   "execution_count": 193,
   "metadata": {
    "ExecuteTime": {
     "end_time": "2020-02-25T10:32:27.335257Z",
     "start_time": "2020-02-25T10:32:27.322751Z"
    }
   },
   "outputs": [
    {
     "name": "stdout",
     "output_type": "stream",
     "text": [
      "(-0.15788244125999729, 5.901224284518917e-132)\n"
     ]
    }
   ],
   "source": [
    "pearson = pearsonr(night_cgm_stats_wakeup['CV'], night_cgm_stats_wakeup['wakeup_glucose'])\n",
    "print(pearson)"
   ]
  },
  {
   "cell_type": "code",
   "execution_count": 195,
   "metadata": {
    "ExecuteTime": {
     "end_time": "2020-02-25T10:32:51.452094Z",
     "start_time": "2020-02-25T10:32:50.973477Z"
    },
    "scrolled": false
   },
   "outputs": [
    {
     "data": {
      "text/plain": [
       "<matplotlib.axes._subplots.AxesSubplot at 0x2add98927490>"
      ]
     },
     "execution_count": 195,
     "metadata": {},
     "output_type": "execute_result"
    },
    {
     "data": {
      "image/png": "[encoded data removed]",
      "text/plain": [
       "<Figure size 432x288 with 1 Axes>"
      ]
     },
     "metadata": {},
     "output_type": "display_data"
    }
   ],
   "source": [
    "night_cgm_stats_wakeup.plot.scatter(x='CV', y='wakeup_glucose')"
   ]
  },
  {
   "cell_type": "code",
   "execution_count": 210,
   "metadata": {
    "ExecuteTime": {
     "end_time": "2020-02-25T10:39:34.304205Z",
     "start_time": "2020-02-25T10:39:33.843580Z"
    }
   },
   "outputs": [
    {
     "data": {
      "text/plain": [
       "<matplotlib.axes._subplots.AxesSubplot at 0x2add6e551b10>"
      ]
     },
     "execution_count": 210,
     "metadata": {},
     "output_type": "execute_result"
    },
    {
     "data": {
      "image/png": "[encoded data removed]",
      "text/plain": [
       "<Figure size 432x288 with 1 Axes>"
      ]
     },
     "metadata": {},
     "output_type": "display_data"
    }
   ],
   "source": [
    "night_cgm_stats_wakeup.plot.scatter(x='q50', y='wakeup_glucose')"
   ]
  },
  {
   "cell_type": "markdown",
   "metadata": {},
   "source": [
    "Study individual correlations"
   ]
  },
  {
   "cell_type": "code",
   "execution_count": 250,
   "metadata": {
    "ExecuteTime": {
     "end_time": "2020-02-25T11:56:50.011057Z",
     "start_time": "2020-02-25T11:56:49.981811Z"
    },
    "scrolled": false
   },
   "outputs": [
    {
     "data": {
      "text/html": [
       "<div>\n",
       "<style scoped>\n",
       "    .dataframe tbody tr th:only-of-type {\n",
       "        vertical-align: middle;\n",
       "    }\n",
       "\n",
       "    .dataframe tbody tr th {\n",
       "        vertical-align: top;\n",
       "    }\n",
       "\n",
       "    .dataframe thead th {\n",
       "        text-align: right;\n",
       "    }\n",
       "</style>\n",
       "<table border=\"1\" class=\"dataframe\">\n",
       "  <thead>\n",
       "    <tr style=\"text-align: right;\">\n",
       "      <th></th>\n",
       "      <th>wakeup_glucose</th>\n",
       "      <th>mean</th>\n",
       "      <th>std</th>\n",
       "      <th>q50</th>\n",
       "      <th>q75</th>\n",
       "      <th>q90</th>\n",
       "      <th>q95</th>\n",
       "      <th>CV</th>\n",
       "    </tr>\n",
       "    <tr>\n",
       "      <th>RegistrationCode</th>\n",
       "      <th></th>\n",
       "      <th></th>\n",
       "      <th></th>\n",
       "      <th></th>\n",
       "      <th></th>\n",
       "      <th></th>\n",
       "      <th></th>\n",
       "      <th></th>\n",
       "    </tr>\n",
       "  </thead>\n",
       "  <tbody>\n",
       "    <tr>\n",
       "      <th>111527</th>\n",
       "      <td>0.297220</td>\n",
       "      <td>-0.172687</td>\n",
       "      <td>-0.069862</td>\n",
       "      <td>-0.177058</td>\n",
       "      <td>-0.119000</td>\n",
       "      <td>-0.263344</td>\n",
       "      <td>-0.247947</td>\n",
       "      <td>-0.023088</td>\n",
       "    </tr>\n",
       "    <tr>\n",
       "      <th>111527</th>\n",
       "      <td>-0.337392</td>\n",
       "      <td>-0.717476</td>\n",
       "      <td>-0.263594</td>\n",
       "      <td>-0.516275</td>\n",
       "      <td>-0.498079</td>\n",
       "      <td>-0.535849</td>\n",
       "      <td>-0.651463</td>\n",
       "      <td>-0.174821</td>\n",
       "    </tr>\n",
       "    <tr>\n",
       "      <th>111527</th>\n",
       "      <td>0.075106</td>\n",
       "      <td>1.725981</td>\n",
       "      <td>1.110068</td>\n",
       "      <td>1.722559</td>\n",
       "      <td>1.675304</td>\n",
       "      <td>1.652444</td>\n",
       "      <td>1.816890</td>\n",
       "      <td>0.899994</td>\n",
       "    </tr>\n",
       "    <tr>\n",
       "      <th>111527</th>\n",
       "      <td>0.804910</td>\n",
       "      <td>-0.620385</td>\n",
       "      <td>-0.906161</td>\n",
       "      <td>-0.516275</td>\n",
       "      <td>-0.725526</td>\n",
       "      <td>-0.841384</td>\n",
       "      <td>-0.818686</td>\n",
       "      <td>-0.922532</td>\n",
       "    </tr>\n",
       "    <tr>\n",
       "      <th>111527</th>\n",
       "      <td>0.677987</td>\n",
       "      <td>-1.057294</td>\n",
       "      <td>-0.912795</td>\n",
       "      <td>-0.991179</td>\n",
       "      <td>-1.129876</td>\n",
       "      <td>-1.089115</td>\n",
       "      <td>-1.098602</td>\n",
       "      <td>-0.904803</td>\n",
       "    </tr>\n",
       "  </tbody>\n",
       "</table>\n",
       "</div>"
      ],
      "text/plain": [
       "                  wakeup_glucose      mean       std       q50       q75  \\\n",
       "RegistrationCode                                                           \n",
       "111527                  0.297220 -0.172687 -0.069862 -0.177058 -0.119000   \n",
       "111527                 -0.337392 -0.717476 -0.263594 -0.516275 -0.498079   \n",
       "111527                  0.075106  1.725981  1.110068  1.722559  1.675304   \n",
       "111527                  0.804910 -0.620385 -0.906161 -0.516275 -0.725526   \n",
       "111527                  0.677987 -1.057294 -0.912795 -0.991179 -1.129876   \n",
       "\n",
       "                       q90       q95        CV  \n",
       "RegistrationCode                                \n",
       "111527           -0.263344 -0.247947 -0.023088  \n",
       "111527           -0.535849 -0.651463 -0.174821  \n",
       "111527            1.652444  1.816890  0.899994  \n",
       "111527           -0.841384 -0.818686 -0.922532  \n",
       "111527           -1.089115 -1.098602 -0.904803  "
      ]
     },
     "execution_count": 250,
     "metadata": {},
     "output_type": "execute_result"
    }
   ],
   "source": [
    "night_cgm_stats_wakeup.head()"
   ]
  },
  {
   "cell_type": "markdown",
   "metadata": {},
   "source": [
    "I need to create a table with unique registration codes as index and two columns with 0: rho and pvalue"
   ]
  },
  {
   "cell_type": "code",
   "execution_count": 213,
   "metadata": {
    "ExecuteTime": {
     "end_time": "2020-02-25T10:55:03.326594Z",
     "start_time": "2020-02-25T10:55:03.318074Z"
    }
   },
   "outputs": [],
   "source": [
    "unique_rc_list = night_cgm_stats_wakeup.index.unique()\n",
    "\n",
    "ind_corr_df = pd.DataFrame(index=unique_rc_list, columns=['rho','pvalue'])"
   ]
  },
  {
   "cell_type": "code",
   "execution_count": 218,
   "metadata": {
    "ExecuteTime": {
     "end_time": "2020-02-25T11:00:38.518894Z",
     "start_time": "2020-02-25T11:00:37.836274Z"
    }
   },
   "outputs": [],
   "source": [
    "for rc in night_cgm_stats_wakeup.index.unique():\n",
    "    spearman = spearmanr(night_cgm_stats_wakeup.loc[rc]['wakeup_glucose'], night_cgm_stats_wakeup.loc[rc]['CV'])\n",
    "    ind_corr_df.loc[rc, 'rho'] = spearman[0]\n",
    "    ind_corr_df.loc[rc, 'pvalue'] = spearman[1]"
   ]
  },
  {
   "cell_type": "code",
   "execution_count": 222,
   "metadata": {
    "ExecuteTime": {
     "end_time": "2020-02-25T11:22:37.719351Z",
     "start_time": "2020-02-25T11:22:37.709748Z"
    }
   },
   "outputs": [],
   "source": [
    "pvalues = ind_corr_df['pvalue']\n",
    "pvalues_corrected = pd.Series(fdrcorrection(pvalues)[1])\n",
    "pvalues_corrected.index = ind_corr_df.index"
   ]
  },
  {
   "cell_type": "code",
   "execution_count": 224,
   "metadata": {
    "ExecuteTime": {
     "end_time": "2020-02-25T11:24:16.851904Z",
     "start_time": "2020-02-25T11:24:16.844831Z"
    }
   },
   "outputs": [],
   "source": [
    "ind_corr_df['pvalues_corrected'] = pvalues_corrected"
   ]
  },
  {
   "cell_type": "code",
   "execution_count": 227,
   "metadata": {
    "ExecuteTime": {
     "end_time": "2020-02-25T11:31:25.545156Z",
     "start_time": "2020-02-25T11:31:25.537333Z"
    }
   },
   "outputs": [],
   "source": [
    "sign_corr = ind_corr_df[ind_corr_df['pvalues_corrected'] < 0.05]"
   ]
  },
  {
   "cell_type": "code",
   "execution_count": 229,
   "metadata": {
    "ExecuteTime": {
     "end_time": "2020-02-25T11:34:57.275316Z",
     "start_time": "2020-02-25T11:34:57.262514Z"
    },
    "scrolled": true
   },
   "outputs": [
    {
     "data": {
      "text/html": [
       "<div>\n",
       "<style scoped>\n",
       "    .dataframe tbody tr th:only-of-type {\n",
       "        vertical-align: middle;\n",
       "    }\n",
       "\n",
       "    .dataframe tbody tr th {\n",
       "        vertical-align: top;\n",
       "    }\n",
       "\n",
       "    .dataframe thead th {\n",
       "        text-align: right;\n",
       "    }\n",
       "</style>\n",
       "<table border=\"1\" class=\"dataframe\">\n",
       "  <thead>\n",
       "    <tr style=\"text-align: right;\">\n",
       "      <th></th>\n",
       "      <th>rho</th>\n",
       "      <th>pvalue</th>\n",
       "      <th>pvalues_corrected</th>\n",
       "    </tr>\n",
       "    <tr>\n",
       "      <th>RegistrationCode</th>\n",
       "      <th></th>\n",
       "      <th></th>\n",
       "      <th></th>\n",
       "    </tr>\n",
       "  </thead>\n",
       "  <tbody>\n",
       "    <tr>\n",
       "      <th>12752</th>\n",
       "      <td>-0.325173</td>\n",
       "      <td>0.00470038</td>\n",
       "      <td>0.0270272</td>\n",
       "    </tr>\n",
       "    <tr>\n",
       "      <th>136529</th>\n",
       "      <td>-0.303164</td>\n",
       "      <td>0.00084674</td>\n",
       "      <td>0.00834643</td>\n",
       "    </tr>\n",
       "    <tr>\n",
       "      <th>148574</th>\n",
       "      <td>-0.259643</td>\n",
       "      <td>0.00615898</td>\n",
       "      <td>0.03269</td>\n",
       "    </tr>\n",
       "    <tr>\n",
       "      <th>215130</th>\n",
       "      <td>-0.222153</td>\n",
       "      <td>0.00436999</td>\n",
       "      <td>0.0258454</td>\n",
       "    </tr>\n",
       "    <tr>\n",
       "      <th>242185</th>\n",
       "      <td>-0.436184</td>\n",
       "      <td>1.53682e-07</td>\n",
       "      <td>3.18122e-05</td>\n",
       "    </tr>\n",
       "  </tbody>\n",
       "</table>\n",
       "</div>"
      ],
      "text/plain": [
       "                       rho       pvalue pvalues_corrected\n",
       "RegistrationCode                                         \n",
       "12752            -0.325173   0.00470038         0.0270272\n",
       "136529           -0.303164   0.00084674        0.00834643\n",
       "148574           -0.259643   0.00615898           0.03269\n",
       "215130           -0.222153   0.00436999         0.0258454\n",
       "242185           -0.436184  1.53682e-07       3.18122e-05"
      ]
     },
     "execution_count": 229,
     "metadata": {},
     "output_type": "execute_result"
    }
   ],
   "source": [
    "sign_corr.head()"
   ]
  },
  {
   "cell_type": "code",
   "execution_count": 238,
   "metadata": {
    "ExecuteTime": {
     "end_time": "2020-02-25T11:39:51.394424Z",
     "start_time": "2020-02-25T11:39:51.389818Z"
    }
   },
   "outputs": [],
   "source": [
    "sign_corr = sign_corr.reset_index()"
   ]
  },
  {
   "cell_type": "code",
   "execution_count": 285,
   "metadata": {
    "ExecuteTime": {
     "end_time": "2020-02-25T15:11:10.316616Z",
     "start_time": "2020-02-25T15:11:10.307598Z"
    }
   },
   "outputs": [
    {
     "data": {
      "text/plain": [
       "(50, 4)"
      ]
     },
     "execution_count": 285,
     "metadata": {},
     "output_type": "execute_result"
    }
   ],
   "source": [
    "sign_corr.shape"
   ]
  },
  {
   "cell_type": "code",
   "execution_count": 249,
   "metadata": {
    "ExecuteTime": {
     "end_time": "2020-02-25T11:54:52.241678Z",
     "start_time": "2020-02-25T11:54:51.499145Z"
    },
    "scrolled": true
   },
   "outputs": [
    {
     "data": {
      "image/png": "[encoded data removed]",
      "text/plain": [
       "<Figure size 1008x288 with 1 Axes>"
      ]
     },
     "metadata": {},
     "output_type": "display_data"
    }
   ],
   "source": [
    "import seaborn as sns\n",
    "sns.set(style=\"ticks\")\n",
    "g = sns.catplot(x='RegistrationCode', y=\"rho\", data=sign_corr)\n",
    "g.fig.set_figheight(4)\n",
    "g.fig.set_figwidth(14)\n",
    "g.set_xticklabels(rotation=45)\n",
    "plt.title('Individual Spearman correlations between wakeup glucose and CV of the night')\n",
    "plt.show()"
   ]
  },
  {
   "cell_type": "markdown",
   "metadata": {},
   "source": [
    "Let's see how does the scatterplot look for the person with the highest negative correlation"
   ]
  },
  {
   "cell_type": "code",
   "execution_count": 284,
   "metadata": {
    "ExecuteTime": {
     "end_time": "2020-02-25T14:50:13.068336Z",
     "start_time": "2020-02-25T14:50:12.891549Z"
    }
   },
   "outputs": [
    {
     "data": {
      "text/plain": [
       "<matplotlib.axes._subplots.AxesSubplot at 0x2add7ad2d710>"
      ]
     },
     "execution_count": 284,
     "metadata": {},
     "output_type": "execute_result"
    },
    {
     "data": {
      "image/png": "[encoded data removed]",
      "text/plain": [
       "<Figure size 432x288 with 1 Axes>"
      ]
     },
     "metadata": {},
     "output_type": "display_data"
    }
   ],
   "source": [
    "night_cgm_stats_wakeup.loc['12752'].plot.scatter(x='CV', y='wakeup_glucose')"
   ]
  },
  {
   "cell_type": "markdown",
   "metadata": {},
   "source": [
    "Do correlations between CV and the diet day before"
   ]
  },
  {
   "cell_type": "markdown",
   "metadata": {},
   "source": [
    "## CV of the night split into 0-3 am and 3-6 am"
   ]
  },
  {
   "cell_type": "code",
   "execution_count": 260,
   "metadata": {
    "ExecuteTime": {
     "end_time": "2020-02-25T13:29:52.813167Z",
     "start_time": "2020-02-25T13:29:52.044008Z"
    },
    "scrolled": true
   },
   "outputs": [],
   "source": [
    "night_cgm_1 = filter_by_time(cgm_adj, '00:00', '03:00')\n",
    "night_cgm_2 = filter_by_time(cgm_adj, '03:00', '06:00')"
   ]
  },
  {
   "cell_type": "code",
   "execution_count": 261,
   "metadata": {
    "ExecuteTime": {
     "end_time": "2020-02-25T13:30:07.589231Z",
     "start_time": "2020-02-25T13:30:07.573376Z"
    }
   },
   "outputs": [
    {
     "data": {
      "text/html": [
       "<div>\n",
       "<style scoped>\n",
       "    .dataframe tbody tr th:only-of-type {\n",
       "        vertical-align: middle;\n",
       "    }\n",
       "\n",
       "    .dataframe tbody tr th {\n",
       "        vertical-align: top;\n",
       "    }\n",
       "\n",
       "    .dataframe thead th {\n",
       "        text-align: right;\n",
       "    }\n",
       "</style>\n",
       "<table border=\"1\" class=\"dataframe\">\n",
       "  <thead>\n",
       "    <tr style=\"text-align: right;\">\n",
       "      <th></th>\n",
       "      <th>RegistrationCode</th>\n",
       "      <th>ConnectionID</th>\n",
       "      <th>GlucoseValue</th>\n",
       "      <th>PPGR</th>\n",
       "      <th>hour</th>\n",
       "      <th>GlucoseAdj</th>\n",
       "      <th>Day</th>\n",
       "    </tr>\n",
       "    <tr>\n",
       "      <th>Date</th>\n",
       "      <th></th>\n",
       "      <th></th>\n",
       "      <th></th>\n",
       "      <th></th>\n",
       "      <th></th>\n",
       "      <th></th>\n",
       "      <th></th>\n",
       "    </tr>\n",
       "  </thead>\n",
       "  <tbody>\n",
       "    <tr>\n",
       "      <th>2017-11-08 00:12:00</th>\n",
       "      <td>111527</td>\n",
       "      <td>1926</td>\n",
       "      <td>100.0</td>\n",
       "      <td>0.00</td>\n",
       "      <td>0</td>\n",
       "      <td>98.571429</td>\n",
       "      <td>2017-11-08</td>\n",
       "    </tr>\n",
       "    <tr>\n",
       "      <th>2017-11-08 00:27:00</th>\n",
       "      <td>111527</td>\n",
       "      <td>1926</td>\n",
       "      <td>97.0</td>\n",
       "      <td>0.00</td>\n",
       "      <td>0</td>\n",
       "      <td>95.571429</td>\n",
       "      <td>2017-11-08</td>\n",
       "    </tr>\n",
       "    <tr>\n",
       "      <th>2017-11-08 00:42:00</th>\n",
       "      <td>111527</td>\n",
       "      <td>1926</td>\n",
       "      <td>96.0</td>\n",
       "      <td>0.00</td>\n",
       "      <td>0</td>\n",
       "      <td>94.571429</td>\n",
       "      <td>2017-11-08</td>\n",
       "    </tr>\n",
       "    <tr>\n",
       "      <th>2017-11-08 00:57:00</th>\n",
       "      <td>111527</td>\n",
       "      <td>1926</td>\n",
       "      <td>93.0</td>\n",
       "      <td>1.75</td>\n",
       "      <td>0</td>\n",
       "      <td>91.571429</td>\n",
       "      <td>2017-11-08</td>\n",
       "    </tr>\n",
       "    <tr>\n",
       "      <th>2017-11-08 01:12:00</th>\n",
       "      <td>111527</td>\n",
       "      <td>1926</td>\n",
       "      <td>90.0</td>\n",
       "      <td>9.25</td>\n",
       "      <td>1</td>\n",
       "      <td>88.571429</td>\n",
       "      <td>2017-11-08</td>\n",
       "    </tr>\n",
       "  </tbody>\n",
       "</table>\n",
       "</div>"
      ],
      "text/plain": [
       "                    RegistrationCode ConnectionID  GlucoseValue  PPGR  hour  \\\n",
       "Date                                                                          \n",
       "2017-11-08 00:12:00           111527         1926         100.0  0.00     0   \n",
       "2017-11-08 00:27:00           111527         1926          97.0  0.00     0   \n",
       "2017-11-08 00:42:00           111527         1926          96.0  0.00     0   \n",
       "2017-11-08 00:57:00           111527         1926          93.0  1.75     0   \n",
       "2017-11-08 01:12:00           111527         1926          90.0  9.25     1   \n",
       "\n",
       "                     GlucoseAdj         Day  \n",
       "Date                                         \n",
       "2017-11-08 00:12:00   98.571429  2017-11-08  \n",
       "2017-11-08 00:27:00   95.571429  2017-11-08  \n",
       "2017-11-08 00:42:00   94.571429  2017-11-08  \n",
       "2017-11-08 00:57:00   91.571429  2017-11-08  \n",
       "2017-11-08 01:12:00   88.571429  2017-11-08  "
      ]
     },
     "execution_count": 261,
     "metadata": {},
     "output_type": "execute_result"
    }
   ],
   "source": [
    "night_cgm_1.head()"
   ]
  },
  {
   "cell_type": "code",
   "execution_count": 266,
   "metadata": {
    "ExecuteTime": {
     "end_time": "2020-02-25T13:38:53.764158Z",
     "start_time": "2020-02-25T13:38:53.757185Z"
    }
   },
   "outputs": [],
   "source": [
    "def check_for_complete_data(df):\n",
    "    \"\"\"Leaves only those RCs and days where there is complete cgm data for desired period\"\"\"\n",
    "    \n",
    "    count = df.groupby(['RegistrationCode', 'Day'])['GlucoseAdj'].count()\n",
    "    rc_days_to_keep = count[count >= 12].index\n",
    "    df = df.set_index(['RegistrationCode', 'Day'])\n",
    "    df = df.loc[rc_days_to_keep]\n",
    "    return df"
   ]
  },
  {
   "cell_type": "code",
   "execution_count": 268,
   "metadata": {
    "ExecuteTime": {
     "end_time": "2020-02-25T13:39:29.471372Z",
     "start_time": "2020-02-25T13:39:22.395352Z"
    }
   },
   "outputs": [],
   "source": [
    "night_cgm_1 = check_for_complete_data(night_cgm_1)\n",
    "night_cgm_2 = check_for_complete_data(night_cgm_2)"
   ]
  },
  {
   "cell_type": "code",
   "execution_count": 269,
   "metadata": {
    "ExecuteTime": {
     "end_time": "2020-02-25T13:46:32.482721Z",
     "start_time": "2020-02-25T13:42:04.903068Z"
    },
    "scrolled": false
   },
   "outputs": [
    {
     "name": "stderr",
     "output_type": "stream",
     "text": [
      "/home/elming/anaconda3/envs/mylabdata/lib/python3.7/site-packages/ipykernel_launcher.py:17: FutureWarning: using a dict on a Series for aggregation\n",
      "is deprecated and will be removed in a future version. Use                 named aggregation instead.\n",
      "\n",
      "    >>> grouper.agg(name_1=func_1, name_2=func_2)\n",
      "\n"
     ]
    }
   ],
   "source": [
    "night_stats_1 = count_stats(night_cgm_1)\n",
    "night_stats_2 = count_stats(night_cgm_2)"
   ]
  },
  {
   "cell_type": "code",
   "execution_count": 270,
   "metadata": {
    "ExecuteTime": {
     "end_time": "2020-02-25T13:46:32.787605Z",
     "start_time": "2020-02-25T13:46:32.769363Z"
    }
   },
   "outputs": [
    {
     "data": {
      "text/html": [
       "<div>\n",
       "<style scoped>\n",
       "    .dataframe tbody tr th:only-of-type {\n",
       "        vertical-align: middle;\n",
       "    }\n",
       "\n",
       "    .dataframe tbody tr th {\n",
       "        vertical-align: top;\n",
       "    }\n",
       "\n",
       "    .dataframe thead th {\n",
       "        text-align: right;\n",
       "    }\n",
       "</style>\n",
       "<table border=\"1\" class=\"dataframe\">\n",
       "  <thead>\n",
       "    <tr style=\"text-align: right;\">\n",
       "      <th></th>\n",
       "      <th></th>\n",
       "      <th>mean</th>\n",
       "      <th>std</th>\n",
       "      <th>q50</th>\n",
       "      <th>q75</th>\n",
       "      <th>q90</th>\n",
       "      <th>q95</th>\n",
       "      <th>CV</th>\n",
       "    </tr>\n",
       "    <tr>\n",
       "      <th>RegistrationCode</th>\n",
       "      <th>Day</th>\n",
       "      <th></th>\n",
       "      <th></th>\n",
       "      <th></th>\n",
       "      <th></th>\n",
       "      <th></th>\n",
       "      <th></th>\n",
       "      <th></th>\n",
       "    </tr>\n",
       "  </thead>\n",
       "  <tbody>\n",
       "    <tr>\n",
       "      <th rowspan=\"5\" valign=\"top\">111527</th>\n",
       "      <th>2017-11-08</th>\n",
       "      <td>93.321429</td>\n",
       "      <td>4.223850</td>\n",
       "      <td>94.071429</td>\n",
       "      <td>96.071429</td>\n",
       "      <td>98.471429</td>\n",
       "      <td>98.571429</td>\n",
       "      <td>0.045261</td>\n",
       "    </tr>\n",
       "    <tr>\n",
       "      <th>2017-11-09</th>\n",
       "      <td>102.321429</td>\n",
       "      <td>7.098335</td>\n",
       "      <td>102.571429</td>\n",
       "      <td>105.821429</td>\n",
       "      <td>110.471429</td>\n",
       "      <td>112.371429</td>\n",
       "      <td>0.069373</td>\n",
       "    </tr>\n",
       "    <tr>\n",
       "      <th>2017-11-10</th>\n",
       "      <td>90.404762</td>\n",
       "      <td>4.152400</td>\n",
       "      <td>90.071429</td>\n",
       "      <td>93.821429</td>\n",
       "      <td>94.571429</td>\n",
       "      <td>95.921429</td>\n",
       "      <td>0.045931</td>\n",
       "    </tr>\n",
       "    <tr>\n",
       "      <th>2017-11-11</th>\n",
       "      <td>118.988095</td>\n",
       "      <td>10.672465</td>\n",
       "      <td>119.071429</td>\n",
       "      <td>123.071429</td>\n",
       "      <td>133.871429</td>\n",
       "      <td>135.471429</td>\n",
       "      <td>0.089694</td>\n",
       "    </tr>\n",
       "    <tr>\n",
       "      <th>2017-11-12</th>\n",
       "      <td>92.071429</td>\n",
       "      <td>2.576114</td>\n",
       "      <td>91.571429</td>\n",
       "      <td>92.821429</td>\n",
       "      <td>95.371429</td>\n",
       "      <td>96.471429</td>\n",
       "      <td>0.027980</td>\n",
       "    </tr>\n",
       "  </tbody>\n",
       "</table>\n",
       "</div>"
      ],
      "text/plain": [
       "                                   mean        std         q50         q75  \\\n",
       "RegistrationCode Day                                                         \n",
       "111527           2017-11-08   93.321429   4.223850   94.071429   96.071429   \n",
       "                 2017-11-09  102.321429   7.098335  102.571429  105.821429   \n",
       "                 2017-11-10   90.404762   4.152400   90.071429   93.821429   \n",
       "                 2017-11-11  118.988095  10.672465  119.071429  123.071429   \n",
       "                 2017-11-12   92.071429   2.576114   91.571429   92.821429   \n",
       "\n",
       "                                    q90         q95        CV  \n",
       "RegistrationCode Day                                           \n",
       "111527           2017-11-08   98.471429   98.571429  0.045261  \n",
       "                 2017-11-09  110.471429  112.371429  0.069373  \n",
       "                 2017-11-10   94.571429   95.921429  0.045931  \n",
       "                 2017-11-11  133.871429  135.471429  0.089694  \n",
       "                 2017-11-12   95.371429   96.471429  0.027980  "
      ]
     },
     "execution_count": 270,
     "metadata": {},
     "output_type": "execute_result"
    }
   ],
   "source": [
    "night_stats_1.head()"
   ]
  },
  {
   "cell_type": "code",
   "execution_count": 271,
   "metadata": {
    "ExecuteTime": {
     "end_time": "2020-02-25T13:46:38.958292Z",
     "start_time": "2020-02-25T13:46:38.925560Z"
    }
   },
   "outputs": [],
   "source": [
    "night_stats_1 = night_stats_1.reset_index('Day')\n",
    "night_stats_1['Day'] = pd.to_datetime(night_stats_1['Day'])\n",
    "night_stats_1_wakeup = pd.merge(wakeup_glucose, night_stats_1, on=['RegistrationCode', 'Day'])"
   ]
  },
  {
   "cell_type": "code",
   "execution_count": 272,
   "metadata": {
    "ExecuteTime": {
     "end_time": "2020-02-25T13:46:40.065658Z",
     "start_time": "2020-02-25T13:46:40.030220Z"
    }
   },
   "outputs": [],
   "source": [
    "night_stats_2 = night_stats_2.reset_index('Day')\n",
    "night_stats_2['Day'] = pd.to_datetime(night_stats_2['Day'])\n",
    "night_stats_2_wakeup = pd.merge(wakeup_glucose, night_stats_2, on=['RegistrationCode', 'Day'])"
   ]
  },
  {
   "cell_type": "code",
   "execution_count": 273,
   "metadata": {
    "ExecuteTime": {
     "end_time": "2020-02-25T13:46:57.344987Z",
     "start_time": "2020-02-25T13:46:57.311072Z"
    }
   },
   "outputs": [
    {
     "data": {
      "text/html": [
       "<div>\n",
       "<style scoped>\n",
       "    .dataframe tbody tr th:only-of-type {\n",
       "        vertical-align: middle;\n",
       "    }\n",
       "\n",
       "    .dataframe tbody tr th {\n",
       "        vertical-align: top;\n",
       "    }\n",
       "\n",
       "    .dataframe thead th {\n",
       "        text-align: right;\n",
       "    }\n",
       "</style>\n",
       "<table border=\"1\" class=\"dataframe\">\n",
       "  <thead>\n",
       "    <tr style=\"text-align: right;\">\n",
       "      <th></th>\n",
       "      <th>RegistrationCode</th>\n",
       "      <th>Day</th>\n",
       "      <th>wakeup_glucose</th>\n",
       "      <th>mean</th>\n",
       "      <th>std</th>\n",
       "      <th>q50</th>\n",
       "      <th>q75</th>\n",
       "      <th>q90</th>\n",
       "      <th>q95</th>\n",
       "      <th>CV</th>\n",
       "    </tr>\n",
       "  </thead>\n",
       "  <tbody>\n",
       "    <tr>\n",
       "      <th>0</th>\n",
       "      <td>111527</td>\n",
       "      <td>2017-11-08</td>\n",
       "      <td>103.071429</td>\n",
       "      <td>93.321429</td>\n",
       "      <td>4.223850</td>\n",
       "      <td>94.071429</td>\n",
       "      <td>96.071429</td>\n",
       "      <td>98.471429</td>\n",
       "      <td>98.571429</td>\n",
       "      <td>0.045261</td>\n",
       "    </tr>\n",
       "    <tr>\n",
       "      <th>1</th>\n",
       "      <td>111527</td>\n",
       "      <td>2017-11-10</td>\n",
       "      <td>98.071429</td>\n",
       "      <td>90.404762</td>\n",
       "      <td>4.152400</td>\n",
       "      <td>90.071429</td>\n",
       "      <td>93.821429</td>\n",
       "      <td>94.571429</td>\n",
       "      <td>95.921429</td>\n",
       "      <td>0.045931</td>\n",
       "    </tr>\n",
       "    <tr>\n",
       "      <th>2</th>\n",
       "      <td>111527</td>\n",
       "      <td>2017-11-11</td>\n",
       "      <td>101.321429</td>\n",
       "      <td>118.988095</td>\n",
       "      <td>10.672465</td>\n",
       "      <td>119.071429</td>\n",
       "      <td>123.071429</td>\n",
       "      <td>133.871429</td>\n",
       "      <td>135.471429</td>\n",
       "      <td>0.089694</td>\n",
       "    </tr>\n",
       "    <tr>\n",
       "      <th>3</th>\n",
       "      <td>111527</td>\n",
       "      <td>2017-11-12</td>\n",
       "      <td>107.071429</td>\n",
       "      <td>92.071429</td>\n",
       "      <td>2.576114</td>\n",
       "      <td>91.571429</td>\n",
       "      <td>92.821429</td>\n",
       "      <td>95.371429</td>\n",
       "      <td>96.471429</td>\n",
       "      <td>0.027980</td>\n",
       "    </tr>\n",
       "    <tr>\n",
       "      <th>4</th>\n",
       "      <td>111527</td>\n",
       "      <td>2017-11-13</td>\n",
       "      <td>106.071429</td>\n",
       "      <td>88.404762</td>\n",
       "      <td>0.834847</td>\n",
       "      <td>88.571429</td>\n",
       "      <td>88.821429</td>\n",
       "      <td>89.571429</td>\n",
       "      <td>89.571429</td>\n",
       "      <td>0.009443</td>\n",
       "    </tr>\n",
       "  </tbody>\n",
       "</table>\n",
       "</div>"
      ],
      "text/plain": [
       "  RegistrationCode        Day  wakeup_glucose        mean        std  \\\n",
       "0           111527 2017-11-08      103.071429   93.321429   4.223850   \n",
       "1           111527 2017-11-10       98.071429   90.404762   4.152400   \n",
       "2           111527 2017-11-11      101.321429  118.988095  10.672465   \n",
       "3           111527 2017-11-12      107.071429   92.071429   2.576114   \n",
       "4           111527 2017-11-13      106.071429   88.404762   0.834847   \n",
       "\n",
       "          q50         q75         q90         q95        CV  \n",
       "0   94.071429   96.071429   98.471429   98.571429  0.045261  \n",
       "1   90.071429   93.821429   94.571429   95.921429  0.045931  \n",
       "2  119.071429  123.071429  133.871429  135.471429  0.089694  \n",
       "3   91.571429   92.821429   95.371429   96.471429  0.027980  \n",
       "4   88.571429   88.821429   89.571429   89.571429  0.009443  "
      ]
     },
     "execution_count": 273,
     "metadata": {},
     "output_type": "execute_result"
    }
   ],
   "source": [
    "night_stats_1_wakeup.head()"
   ]
  },
  {
   "cell_type": "code",
   "execution_count": 274,
   "metadata": {
    "ExecuteTime": {
     "end_time": "2020-02-25T13:51:00.036614Z",
     "start_time": "2020-02-25T13:51:00.022088Z"
    }
   },
   "outputs": [],
   "source": [
    "def standardize_df(df):\n",
    "    '''Turn numerical values to Z-scores'''\n",
    "    # Transforming all the table into Z-scores\n",
    "    means = df.drop(columns='Day').groupby('RegistrationCode').mean()\n",
    "    std = df.drop(columns='Day').groupby('RegistrationCode').std()\n",
    "    df = df.set_index('RegistrationCode')\n",
    "\n",
    "    df = df.drop(columns='Day')\n",
    "    # standartization of the values into z scores\n",
    "    for rc in df.index.unique():\n",
    "        df.loc[rc] = (df.loc[rc] - means.loc[rc])/std.loc[rc]\n",
    "    return df"
   ]
  },
  {
   "cell_type": "code",
   "execution_count": 277,
   "metadata": {
    "ExecuteTime": {
     "end_time": "2020-02-25T13:55:29.033769Z",
     "start_time": "2020-02-25T13:55:25.546367Z"
    }
   },
   "outputs": [],
   "source": [
    "night_stats_1_wakeup = standardize_df(night_stats_1_wakeup)\n",
    "night_stats_2_wakeup = standardize_df(night_stats_2_wakeup)"
   ]
  },
  {
   "cell_type": "code",
   "execution_count": 278,
   "metadata": {
    "ExecuteTime": {
     "end_time": "2020-02-25T13:57:05.393371Z",
     "start_time": "2020-02-25T13:57:05.368779Z"
    }
   },
   "outputs": [
    {
     "name": "stdout",
     "output_type": "stream",
     "text": [
      "SpearmanrResult(correlation=-0.09644704371715299, pvalue=6.917380887365568e-45)\n"
     ]
    }
   ],
   "source": [
    "spearman = spearmanr(night_stats_1_wakeup['CV'], night_stats_1_wakeup['wakeup_glucose'])\n",
    "print(spearman)"
   ]
  },
  {
   "cell_type": "code",
   "execution_count": 279,
   "metadata": {
    "ExecuteTime": {
     "end_time": "2020-02-25T13:57:26.999697Z",
     "start_time": "2020-02-25T13:57:26.982715Z"
    }
   },
   "outputs": [
    {
     "name": "stdout",
     "output_type": "stream",
     "text": [
      "SpearmanrResult(correlation=-0.04428602302841213, pvalue=6.2901844517916465e-12)\n"
     ]
    }
   ],
   "source": [
    "spearman = spearmanr(night_stats_2_wakeup['CV'], night_stats_2_wakeup['wakeup_glucose'])\n",
    "print(spearman)"
   ]
  },
  {
   "cell_type": "code",
   "execution_count": 280,
   "metadata": {
    "ExecuteTime": {
     "end_time": "2020-02-25T13:57:51.398149Z",
     "start_time": "2020-02-25T13:57:51.384314Z"
    }
   },
   "outputs": [
    {
     "name": "stdout",
     "output_type": "stream",
     "text": [
      "(-0.11976540818600545, 2.0848586648101754e-68)\n"
     ]
    }
   ],
   "source": [
    "pearson = pearsonr(night_stats_1_wakeup['CV'], night_stats_1_wakeup['wakeup_glucose'])\n",
    "print(pearson)"
   ]
  },
  {
   "cell_type": "code",
   "execution_count": 281,
   "metadata": {
    "ExecuteTime": {
     "end_time": "2020-02-25T13:58:29.967889Z",
     "start_time": "2020-02-25T13:58:29.958565Z"
    }
   },
   "outputs": [
    {
     "name": "stdout",
     "output_type": "stream",
     "text": [
      "(-0.08362098187264952, 1.3257621922369289e-38)\n"
     ]
    }
   ],
   "source": [
    "pearson = pearsonr(night_stats_2_wakeup['CV'], night_stats_2_wakeup['wakeup_glucose'])\n",
    "print(pearson)"
   ]
  },
  {
   "cell_type": "markdown",
   "metadata": {},
   "source": [
    "## Relation between wakeup glucose and CV of the day before (7 am to midnight) and evening only (6 pm to midnight)"
   ]
  },
  {
   "cell_type": "code",
   "execution_count": 293,
   "metadata": {
    "ExecuteTime": {
     "end_time": "2020-02-25T15:41:53.848519Z",
     "start_time": "2020-02-25T15:41:52.340021Z"
    },
    "scrolled": true
   },
   "outputs": [],
   "source": [
    "day_cgm_total = filter_by_time(cgm_adj, '07:00', '23:59')\n",
    "evening_cgm = filter_by_time(cgm_adj, '18:00', '23:59')"
   ]
  },
  {
   "cell_type": "code",
   "execution_count": 294,
   "metadata": {
    "ExecuteTime": {
     "end_time": "2020-02-25T15:42:00.228255Z",
     "start_time": "2020-02-25T15:42:00.165586Z"
    }
   },
   "outputs": [
    {
     "data": {
      "text/html": [
       "<div>\n",
       "<style scoped>\n",
       "    .dataframe tbody tr th:only-of-type {\n",
       "        vertical-align: middle;\n",
       "    }\n",
       "\n",
       "    .dataframe tbody tr th {\n",
       "        vertical-align: top;\n",
       "    }\n",
       "\n",
       "    .dataframe thead th {\n",
       "        text-align: right;\n",
       "    }\n",
       "</style>\n",
       "<table border=\"1\" class=\"dataframe\">\n",
       "  <thead>\n",
       "    <tr style=\"text-align: right;\">\n",
       "      <th></th>\n",
       "      <th>RegistrationCode</th>\n",
       "      <th>ConnectionID</th>\n",
       "      <th>GlucoseValue</th>\n",
       "      <th>PPGR</th>\n",
       "      <th>hour</th>\n",
       "      <th>GlucoseAdj</th>\n",
       "      <th>Day</th>\n",
       "    </tr>\n",
       "    <tr>\n",
       "      <th>Date</th>\n",
       "      <th></th>\n",
       "      <th></th>\n",
       "      <th></th>\n",
       "      <th></th>\n",
       "      <th></th>\n",
       "      <th></th>\n",
       "      <th></th>\n",
       "    </tr>\n",
       "  </thead>\n",
       "  <tbody>\n",
       "    <tr>\n",
       "      <th>2019-02-03 20:11:00</th>\n",
       "      <td>590916</td>\n",
       "      <td>4875</td>\n",
       "      <td>131.0</td>\n",
       "      <td>28.750</td>\n",
       "      <td>20</td>\n",
       "      <td>138.818182</td>\n",
       "      <td>2019-02-03</td>\n",
       "    </tr>\n",
       "    <tr>\n",
       "      <th>2019-11-07 19:55:00</th>\n",
       "      <td>868780</td>\n",
       "      <td>6081</td>\n",
       "      <td>91.0</td>\n",
       "      <td>0.000</td>\n",
       "      <td>19</td>\n",
       "      <td>89.000000</td>\n",
       "      <td>2019-11-07</td>\n",
       "    </tr>\n",
       "    <tr>\n",
       "      <th>2019-06-02 19:51:00</th>\n",
       "      <td>246043</td>\n",
       "      <td>5681</td>\n",
       "      <td>83.0</td>\n",
       "      <td>3.875</td>\n",
       "      <td>19</td>\n",
       "      <td>76.125000</td>\n",
       "      <td>2019-06-02</td>\n",
       "    </tr>\n",
       "    <tr>\n",
       "      <th>2018-04-08 18:59:00</th>\n",
       "      <td>631485</td>\n",
       "      <td>2857</td>\n",
       "      <td>91.0</td>\n",
       "      <td>25.125</td>\n",
       "      <td>18</td>\n",
       "      <td>92.333333</td>\n",
       "      <td>2018-04-08</td>\n",
       "    </tr>\n",
       "    <tr>\n",
       "      <th>2018-02-25 21:55:00</th>\n",
       "      <td>225207</td>\n",
       "      <td>2484</td>\n",
       "      <td>111.0</td>\n",
       "      <td>20.000</td>\n",
       "      <td>21</td>\n",
       "      <td>105.375000</td>\n",
       "      <td>2018-02-25</td>\n",
       "    </tr>\n",
       "  </tbody>\n",
       "</table>\n",
       "</div>"
      ],
      "text/plain": [
       "                    RegistrationCode ConnectionID  GlucoseValue    PPGR  hour  \\\n",
       "Date                                                                            \n",
       "2019-02-03 20:11:00           590916         4875         131.0  28.750    20   \n",
       "2019-11-07 19:55:00           868780         6081          91.0   0.000    19   \n",
       "2019-06-02 19:51:00           246043         5681          83.0   3.875    19   \n",
       "2018-04-08 18:59:00           631485         2857          91.0  25.125    18   \n",
       "2018-02-25 21:55:00           225207         2484         111.0  20.000    21   \n",
       "\n",
       "                     GlucoseAdj         Day  \n",
       "Date                                         \n",
       "2019-02-03 20:11:00  138.818182  2019-02-03  \n",
       "2019-11-07 19:55:00   89.000000  2019-11-07  \n",
       "2019-06-02 19:51:00   76.125000  2019-06-02  \n",
       "2018-04-08 18:59:00   92.333333  2018-04-08  \n",
       "2018-02-25 21:55:00  105.375000  2018-02-25  "
      ]
     },
     "execution_count": 294,
     "metadata": {},
     "output_type": "execute_result"
    }
   ],
   "source": [
    "evening_cgm.sample(5)"
   ]
  },
  {
   "cell_type": "code",
   "execution_count": 295,
   "metadata": {
    "ExecuteTime": {
     "end_time": "2020-02-25T15:42:01.313665Z",
     "start_time": "2020-02-25T15:42:01.308506Z"
    }
   },
   "outputs": [],
   "source": [
    "def check_for_complete_data(df, numb_ts=1):\n",
    "    \"\"\"Leaves only those RCs and days where there is complete cgm data for desired period\"\"\"\n",
    "    \n",
    "    count = df.groupby(['RegistrationCode', 'Day'])['GlucoseAdj'].count()\n",
    "    rc_days_to_keep = count[count >= numb_ts].index\n",
    "    df = df.set_index(['RegistrationCode', 'Day'])\n",
    "    df = df.loc[rc_days_to_keep]\n",
    "    return df"
   ]
  },
  {
   "cell_type": "code",
   "execution_count": 296,
   "metadata": {
    "ExecuteTime": {
     "end_time": "2020-02-25T15:42:19.226611Z",
     "start_time": "2020-02-25T15:42:02.274146Z"
    }
   },
   "outputs": [],
   "source": [
    "day_cgm_total = check_for_complete_data(day_cgm_total, numb_ts=64)\n",
    "evening_cgm = check_for_complete_data(evening_cgm, numb_ts=20)"
   ]
  },
  {
   "cell_type": "code",
   "execution_count": 297,
   "metadata": {
    "ExecuteTime": {
     "end_time": "2020-02-25T15:51:12.417401Z",
     "start_time": "2020-02-25T15:47:45.981189Z"
    },
    "scrolled": false
   },
   "outputs": [
    {
     "name": "stderr",
     "output_type": "stream",
     "text": [
      "/home/elming/anaconda3/envs/mylabdata/lib/python3.7/site-packages/ipykernel_launcher.py:17: FutureWarning: using a dict on a Series for aggregation\n",
      "is deprecated and will be removed in a future version. Use                 named aggregation instead.\n",
      "\n",
      "    >>> grouper.agg(name_1=func_1, name_2=func_2)\n",
      "\n"
     ]
    }
   ],
   "source": [
    "day_cgm_stats = count_stats(day_cgm_total )\n",
    "evening_stats = count_stats(evening_cgm)"
   ]
  },
  {
   "cell_type": "code",
   "execution_count": 298,
   "metadata": {
    "ExecuteTime": {
     "end_time": "2020-02-25T15:51:12.838762Z",
     "start_time": "2020-02-25T15:51:12.821455Z"
    }
   },
   "outputs": [
    {
     "data": {
      "text/html": [
       "<div>\n",
       "<style scoped>\n",
       "    .dataframe tbody tr th:only-of-type {\n",
       "        vertical-align: middle;\n",
       "    }\n",
       "\n",
       "    .dataframe tbody tr th {\n",
       "        vertical-align: top;\n",
       "    }\n",
       "\n",
       "    .dataframe thead th {\n",
       "        text-align: right;\n",
       "    }\n",
       "</style>\n",
       "<table border=\"1\" class=\"dataframe\">\n",
       "  <thead>\n",
       "    <tr style=\"text-align: right;\">\n",
       "      <th></th>\n",
       "      <th></th>\n",
       "      <th>mean</th>\n",
       "      <th>std</th>\n",
       "      <th>q50</th>\n",
       "      <th>q75</th>\n",
       "      <th>q90</th>\n",
       "      <th>q95</th>\n",
       "      <th>CV</th>\n",
       "    </tr>\n",
       "    <tr>\n",
       "      <th>RegistrationCode</th>\n",
       "      <th>Day</th>\n",
       "      <th></th>\n",
       "      <th></th>\n",
       "      <th></th>\n",
       "      <th></th>\n",
       "      <th></th>\n",
       "      <th></th>\n",
       "      <th></th>\n",
       "    </tr>\n",
       "  </thead>\n",
       "  <tbody>\n",
       "    <tr>\n",
       "      <th rowspan=\"5\" valign=\"top\">111527</th>\n",
       "      <th>2017-11-08</th>\n",
       "      <td>116.527311</td>\n",
       "      <td>20.315007</td>\n",
       "      <td>113.571429</td>\n",
       "      <td>128.571429</td>\n",
       "      <td>146.571429</td>\n",
       "      <td>153.171429</td>\n",
       "      <td>0.174337</td>\n",
       "    </tr>\n",
       "    <tr>\n",
       "      <th>2017-11-09</th>\n",
       "      <td>112.347548</td>\n",
       "      <td>25.847936</td>\n",
       "      <td>103.571429</td>\n",
       "      <td>119.571429</td>\n",
       "      <td>133.971429</td>\n",
       "      <td>174.571429</td>\n",
       "      <td>0.230071</td>\n",
       "    </tr>\n",
       "    <tr>\n",
       "      <th>2017-11-10</th>\n",
       "      <td>114.424370</td>\n",
       "      <td>23.704817</td>\n",
       "      <td>112.071429</td>\n",
       "      <td>123.571429</td>\n",
       "      <td>141.371429</td>\n",
       "      <td>163.871429</td>\n",
       "      <td>0.207166</td>\n",
       "    </tr>\n",
       "    <tr>\n",
       "      <th>2017-11-11</th>\n",
       "      <td>111.889610</td>\n",
       "      <td>14.878130</td>\n",
       "      <td>109.071429</td>\n",
       "      <td>117.571429</td>\n",
       "      <td>130.071429</td>\n",
       "      <td>142.821429</td>\n",
       "      <td>0.132972</td>\n",
       "    </tr>\n",
       "    <tr>\n",
       "      <th>2017-11-12</th>\n",
       "      <td>112.439076</td>\n",
       "      <td>27.327699</td>\n",
       "      <td>104.071429</td>\n",
       "      <td>130.571429</td>\n",
       "      <td>151.371429</td>\n",
       "      <td>159.171429</td>\n",
       "      <td>0.243044</td>\n",
       "    </tr>\n",
       "  </tbody>\n",
       "</table>\n",
       "</div>"
      ],
      "text/plain": [
       "                                   mean        std         q50         q75  \\\n",
       "RegistrationCode Day                                                         \n",
       "111527           2017-11-08  116.527311  20.315007  113.571429  128.571429   \n",
       "                 2017-11-09  112.347548  25.847936  103.571429  119.571429   \n",
       "                 2017-11-10  114.424370  23.704817  112.071429  123.571429   \n",
       "                 2017-11-11  111.889610  14.878130  109.071429  117.571429   \n",
       "                 2017-11-12  112.439076  27.327699  104.071429  130.571429   \n",
       "\n",
       "                                    q90         q95        CV  \n",
       "RegistrationCode Day                                           \n",
       "111527           2017-11-08  146.571429  153.171429  0.174337  \n",
       "                 2017-11-09  133.971429  174.571429  0.230071  \n",
       "                 2017-11-10  141.371429  163.871429  0.207166  \n",
       "                 2017-11-11  130.071429  142.821429  0.132972  \n",
       "                 2017-11-12  151.371429  159.171429  0.243044  "
      ]
     },
     "execution_count": 298,
     "metadata": {},
     "output_type": "execute_result"
    }
   ],
   "source": [
    "day_cgm_stats.head()"
   ]
  },
  {
   "cell_type": "code",
   "execution_count": 271,
   "metadata": {
    "ExecuteTime": {
     "end_time": "2020-02-25T13:46:38.958292Z",
     "start_time": "2020-02-25T13:46:38.925560Z"
    }
   },
   "outputs": [],
   "source": [
    "night_stats_1 = night_stats_1.reset_index('Day')\n",
    "night_stats_1['Day'] = pd.to_datetime(night_stats_1['Day'])\n",
    "night_stats_1_wakeup = pd.merge(wakeup_glucose, night_stats_1, on=['RegistrationCode', 'Day'])"
   ]
  },
  {
   "cell_type": "code",
   "execution_count": 272,
   "metadata": {
    "ExecuteTime": {
     "end_time": "2020-02-25T13:46:40.065658Z",
     "start_time": "2020-02-25T13:46:40.030220Z"
    }
   },
   "outputs": [],
   "source": [
    "night_stats_2 = night_stats_2.reset_index('Day')\n",
    "night_stats_2['Day'] = pd.to_datetime(night_stats_2['Day'])\n",
    "night_stats_2_wakeup = pd.merge(wakeup_glucose, night_stats_2, on=['RegistrationCode', 'Day'])"
   ]
  },
  {
   "cell_type": "code",
   "execution_count": 273,
   "metadata": {
    "ExecuteTime": {
     "end_time": "2020-02-25T13:46:57.344987Z",
     "start_time": "2020-02-25T13:46:57.311072Z"
    }
   },
   "outputs": [
    {
     "data": {
      "text/html": [
       "<div>\n",
       "<style scoped>\n",
       "    .dataframe tbody tr th:only-of-type {\n",
       "        vertical-align: middle;\n",
       "    }\n",
       "\n",
       "    .dataframe tbody tr th {\n",
       "        vertical-align: top;\n",
       "    }\n",
       "\n",
       "    .dataframe thead th {\n",
       "        text-align: right;\n",
       "    }\n",
       "</style>\n",
       "<table border=\"1\" class=\"dataframe\">\n",
       "  <thead>\n",
       "    <tr style=\"text-align: right;\">\n",
       "      <th></th>\n",
       "      <th>RegistrationCode</th>\n",
       "      <th>Day</th>\n",
       "      <th>wakeup_glucose</th>\n",
       "      <th>mean</th>\n",
       "      <th>std</th>\n",
       "      <th>q50</th>\n",
       "      <th>q75</th>\n",
       "      <th>q90</th>\n",
       "      <th>q95</th>\n",
       "      <th>CV</th>\n",
       "    </tr>\n",
       "  </thead>\n",
       "  <tbody>\n",
       "    <tr>\n",
       "      <th>0</th>\n",
       "      <td>111527</td>\n",
       "      <td>2017-11-08</td>\n",
       "      <td>103.071429</td>\n",
       "      <td>93.321429</td>\n",
       "      <td>4.223850</td>\n",
       "      <td>94.071429</td>\n",
       "      <td>96.071429</td>\n",
       "      <td>98.471429</td>\n",
       "      <td>98.571429</td>\n",
       "      <td>0.045261</td>\n",
       "    </tr>\n",
       "    <tr>\n",
       "      <th>1</th>\n",
       "      <td>111527</td>\n",
       "      <td>2017-11-10</td>\n",
       "      <td>98.071429</td>\n",
       "      <td>90.404762</td>\n",
       "      <td>4.152400</td>\n",
       "      <td>90.071429</td>\n",
       "      <td>93.821429</td>\n",
       "      <td>94.571429</td>\n",
       "      <td>95.921429</td>\n",
       "      <td>0.045931</td>\n",
       "    </tr>\n",
       "    <tr>\n",
       "      <th>2</th>\n",
       "      <td>111527</td>\n",
       "      <td>2017-11-11</td>\n",
       "      <td>101.321429</td>\n",
       "      <td>118.988095</td>\n",
       "      <td>10.672465</td>\n",
       "      <td>119.071429</td>\n",
       "      <td>123.071429</td>\n",
       "      <td>133.871429</td>\n",
       "      <td>135.471429</td>\n",
       "      <td>0.089694</td>\n",
       "    </tr>\n",
       "    <tr>\n",
       "      <th>3</th>\n",
       "      <td>111527</td>\n",
       "      <td>2017-11-12</td>\n",
       "      <td>107.071429</td>\n",
       "      <td>92.071429</td>\n",
       "      <td>2.576114</td>\n",
       "      <td>91.571429</td>\n",
       "      <td>92.821429</td>\n",
       "      <td>95.371429</td>\n",
       "      <td>96.471429</td>\n",
       "      <td>0.027980</td>\n",
       "    </tr>\n",
       "    <tr>\n",
       "      <th>4</th>\n",
       "      <td>111527</td>\n",
       "      <td>2017-11-13</td>\n",
       "      <td>106.071429</td>\n",
       "      <td>88.404762</td>\n",
       "      <td>0.834847</td>\n",
       "      <td>88.571429</td>\n",
       "      <td>88.821429</td>\n",
       "      <td>89.571429</td>\n",
       "      <td>89.571429</td>\n",
       "      <td>0.009443</td>\n",
       "    </tr>\n",
       "  </tbody>\n",
       "</table>\n",
       "</div>"
      ],
      "text/plain": [
       "  RegistrationCode        Day  wakeup_glucose        mean        std  \\\n",
       "0           111527 2017-11-08      103.071429   93.321429   4.223850   \n",
       "1           111527 2017-11-10       98.071429   90.404762   4.152400   \n",
       "2           111527 2017-11-11      101.321429  118.988095  10.672465   \n",
       "3           111527 2017-11-12      107.071429   92.071429   2.576114   \n",
       "4           111527 2017-11-13      106.071429   88.404762   0.834847   \n",
       "\n",
       "          q50         q75         q90         q95        CV  \n",
       "0   94.071429   96.071429   98.471429   98.571429  0.045261  \n",
       "1   90.071429   93.821429   94.571429   95.921429  0.045931  \n",
       "2  119.071429  123.071429  133.871429  135.471429  0.089694  \n",
       "3   91.571429   92.821429   95.371429   96.471429  0.027980  \n",
       "4   88.571429   88.821429   89.571429   89.571429  0.009443  "
      ]
     },
     "execution_count": 273,
     "metadata": {},
     "output_type": "execute_result"
    }
   ],
   "source": [
    "night_stats_1_wakeup.head()"
   ]
  },
  {
   "cell_type": "code",
   "execution_count": 274,
   "metadata": {
    "ExecuteTime": {
     "end_time": "2020-02-25T13:51:00.036614Z",
     "start_time": "2020-02-25T13:51:00.022088Z"
    }
   },
   "outputs": [],
   "source": [
    "def standardize_df(df):\n",
    "    '''Turn numerical values to Z-scores'''\n",
    "    # Transforming all the table into Z-scores\n",
    "    means = df.drop(columns='Day').groupby('RegistrationCode').mean()\n",
    "    std = df.drop(columns='Day').groupby('RegistrationCode').std()\n",
    "    df = df.set_index('RegistrationCode')\n",
    "\n",
    "    df = df.drop(columns='Day')\n",
    "    # standartization of the values into z scores\n",
    "    for rc in df.index.unique():\n",
    "        df.loc[rc] = (df.loc[rc] - means.loc[rc])/std.loc[rc]\n",
    "    return df"
   ]
  },
  {
   "cell_type": "code",
   "execution_count": 277,
   "metadata": {
    "ExecuteTime": {
     "end_time": "2020-02-25T13:55:29.033769Z",
     "start_time": "2020-02-25T13:55:25.546367Z"
    }
   },
   "outputs": [],
   "source": [
    "night_stats_1_wakeup = standardize_df(night_stats_1_wakeup)\n",
    "night_stats_2_wakeup = standardize_df(night_stats_2_wakeup)"
   ]
  },
  {
   "cell_type": "code",
   "execution_count": 278,
   "metadata": {
    "ExecuteTime": {
     "end_time": "2020-02-25T13:57:05.393371Z",
     "start_time": "2020-02-25T13:57:05.368779Z"
    }
   },
   "outputs": [
    {
     "name": "stdout",
     "output_type": "stream",
     "text": [
      "SpearmanrResult(correlation=-0.09644704371715299, pvalue=6.917380887365568e-45)\n"
     ]
    }
   ],
   "source": [
    "spearman = spearmanr(night_stats_1_wakeup['CV'], night_stats_1_wakeup['wakeup_glucose'])\n",
    "print(spearman)"
   ]
  },
  {
   "cell_type": "code",
   "execution_count": null,
   "metadata": {},
   "outputs": [],
   "source": []
  }
 ],
 "metadata": {
  "kernelspec": {
   "display_name": "Python 3",
   "language": "python",
   "name": "python3"
  },
  "language_info": {
   "codemirror_mode": {
    "name": "ipython",
    "version": 3
   },
   "file_extension": ".py",
   "mimetype": "text/x-python",
   "name": "python",
   "nbconvert_exporter": "python",
   "pygments_lexer": "ipython3",
   "version": "3.7.5"
  },
  "toc": {
   "base_numbering": 1,
   "nav_menu": {},
   "number_sections": true,
   "sideBar": true,
   "skip_h1_title": false,
   "title_cell": "Table of Contents",
   "title_sidebar": "Contents",
   "toc_cell": false,
   "toc_position": {
    "height": "calc(100% - 180px)",
    "left": "10px",
    "top": "150px",
    "width": "370.6px"
   },
   "toc_section_display": true,
   "toc_window_display": true
  },
  "varInspector": {
   "cols": {
    "lenName": 16,
    "lenType": 16,
    "lenVar": 40
   },
   "kernels_config": {
    "python": {
     "delete_cmd_postfix": "",
     "delete_cmd_prefix": "del ",
     "library": "var_list.py",
     "varRefreshCmd": "print(var_dic_list())"
    },
    "r": {
     "delete_cmd_postfix": ") ",
     "delete_cmd_prefix": "rm(",
     "library": "var_list.r",
     "varRefreshCmd": "cat(var_dic_list()) "
    }
   },
   "types_to_exclude": [
    "module",
    "function",
    "builtin_function_or_method",
    "instance",
    "_Feature"
   ],
   "window_display": false
  }
 },
 "nbformat": 4,
 "nbformat_minor": 2
}
