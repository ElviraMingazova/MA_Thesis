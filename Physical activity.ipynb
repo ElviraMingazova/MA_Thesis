{
 "cells": [
  {
   "cell_type": "markdown",
   "metadata": {},
   "source": [
    "# Exploring physical activity data"
   ]
  },
  {
   "cell_type": "code",
   "execution_count": 2,
   "metadata": {
    "ExecuteTime": {
     "end_time": "2020-06-01T11:12:19.321143Z",
     "start_time": "2020-06-01T11:12:18.080638Z"
    }
   },
   "outputs": [],
   "source": [
    "import pandas as pd\n",
    "import os"
   ]
  },
  {
   "cell_type": "code",
   "execution_count": 3,
   "metadata": {
    "ExecuteTime": {
     "end_time": "2020-06-01T11:12:19.332033Z",
     "start_time": "2020-06-01T11:12:19.329144Z"
    }
   },
   "outputs": [],
   "source": [
    "wis_base_data_dir = '/net/mraid08/export/genie/LabData/Data/WIS'\n",
    "# os.path.join(data_dir, 'WIS'))"
   ]
  },
  {
   "cell_type": "code",
   "execution_count": 4,
   "metadata": {
    "ExecuteTime": {
     "end_time": "2020-06-01T11:12:19.392560Z",
     "start_time": "2020-06-01T11:12:19.339287Z"
    },
    "scrolled": true
   },
   "outputs": [],
   "source": [
    "physical_activity = pd.read_csv(os.path.join(wis_base_data_dir, 'exercise.csv'))"
   ]
  },
  {
   "cell_type": "code",
   "execution_count": 5,
   "metadata": {
    "ExecuteTime": {
     "end_time": "2020-06-01T11:12:19.570424Z",
     "start_time": "2020-06-01T11:12:19.509593Z"
    }
   },
   "outputs": [
    {
     "data": {
      "text/html": [
       "<div>\n",
       "<style scoped>\n",
       "    .dataframe tbody tr th:only-of-type {\n",
       "        vertical-align: middle;\n",
       "    }\n",
       "\n",
       "    .dataframe tbody tr th {\n",
       "        vertical-align: top;\n",
       "    }\n",
       "\n",
       "    .dataframe thead th {\n",
       "        text-align: right;\n",
       "    }\n",
       "</style>\n",
       "<table border=\"1\" class=\"dataframe\">\n",
       "  <thead>\n",
       "    <tr style=\"text-align: right;\">\n",
       "      <th></th>\n",
       "      <th>UserID</th>\n",
       "      <th>RegistrationCode</th>\n",
       "    </tr>\n",
       "  </thead>\n",
       "  <tbody>\n",
       "    <tr>\n",
       "      <th>0</th>\n",
       "      <td>-1</td>\n",
       "      <td>-1</td>\n",
       "    </tr>\n",
       "    <tr>\n",
       "      <th>1</th>\n",
       "      <td>0</td>\n",
       "      <td>0</td>\n",
       "    </tr>\n",
       "    <tr>\n",
       "      <th>2</th>\n",
       "      <td>12</td>\n",
       "      <td>1</td>\n",
       "    </tr>\n",
       "    <tr>\n",
       "      <th>3</th>\n",
       "      <td>13</td>\n",
       "      <td>-1</td>\n",
       "    </tr>\n",
       "    <tr>\n",
       "      <th>4</th>\n",
       "      <td>14</td>\n",
       "      <td>2000</td>\n",
       "    </tr>\n",
       "  </tbody>\n",
       "</table>\n",
       "</div>"
      ],
      "text/plain": [
       "   UserID  RegistrationCode\n",
       "0      -1                -1\n",
       "1       0                 0\n",
       "2      12                 1\n",
       "3      13                -1\n",
       "4      14              2000"
      ]
     },
     "execution_count": 5,
     "metadata": {},
     "output_type": "execute_result"
    }
   ],
   "source": [
    "id_rc = pd.read_csv(os.path.join(wis_base_data_dir, 'users.csv'))\n",
    "id_rc = id_rc.drop(columns='Unnamed: 0')\n",
    "id_rc.head()"
   ]
  },
  {
   "cell_type": "code",
   "execution_count": 6,
   "metadata": {
    "ExecuteTime": {
     "end_time": "2020-06-01T11:12:20.025435Z",
     "start_time": "2020-06-01T11:12:20.020822Z"
    }
   },
   "outputs": [
    {
     "data": {
      "text/plain": [
       "(18821, 2)"
      ]
     },
     "execution_count": 6,
     "metadata": {},
     "output_type": "execute_result"
    }
   ],
   "source": [
    "id_rc.shape"
   ]
  },
  {
   "cell_type": "code",
   "execution_count": 7,
   "metadata": {
    "ExecuteTime": {
     "end_time": "2020-06-01T11:12:20.603781Z",
     "start_time": "2020-06-01T11:12:20.599091Z"
    }
   },
   "outputs": [
    {
     "data": {
      "text/plain": [
       "(3532, 6)"
      ]
     },
     "execution_count": 7,
     "metadata": {},
     "output_type": "execute_result"
    }
   ],
   "source": [
    "physical_activity.shape"
   ]
  },
  {
   "cell_type": "code",
   "execution_count": 8,
   "metadata": {
    "ExecuteTime": {
     "end_time": "2020-06-01T11:12:21.072422Z",
     "start_time": "2020-06-01T11:12:21.062552Z"
    }
   },
   "outputs": [
    {
     "data": {
      "text/plain": [
       "829"
      ]
     },
     "execution_count": 8,
     "metadata": {},
     "output_type": "execute_result"
    }
   ],
   "source": [
    "physical_activity['UserID'].nunique()"
   ]
  },
  {
   "cell_type": "code",
   "execution_count": 37,
   "metadata": {
    "ExecuteTime": {
     "end_time": "2020-06-01T11:31:41.435471Z",
     "start_time": "2020-06-01T11:31:41.423737Z"
    }
   },
   "outputs": [],
   "source": [
    "phys_act = pd.merge(physical_activity, id_rc, on='UserID')"
   ]
  },
  {
   "cell_type": "code",
   "execution_count": 38,
   "metadata": {
    "ExecuteTime": {
     "end_time": "2020-06-01T11:31:42.158903Z",
     "start_time": "2020-06-01T11:31:42.150555Z"
    }
   },
   "outputs": [],
   "source": [
    "phys_act['RegistrationCode'] = phys_act['RegistrationCode'].astype(str)"
   ]
  },
  {
   "cell_type": "code",
   "execution_count": 39,
   "metadata": {
    "ExecuteTime": {
     "end_time": "2020-06-01T11:31:43.053521Z",
     "start_time": "2020-06-01T11:31:43.044232Z"
    }
   },
   "outputs": [],
   "source": [
    "phys_act = phys_act.set_index('RegistrationCode').sort_index()"
   ]
  },
  {
   "cell_type": "code",
   "execution_count": 48,
   "metadata": {
    "ExecuteTime": {
     "end_time": "2020-06-01T11:33:53.442044Z",
     "start_time": "2020-06-01T11:33:53.436642Z"
    }
   },
   "outputs": [
    {
     "data": {
      "text/plain": [
       "816"
      ]
     },
     "execution_count": 48,
     "metadata": {},
     "output_type": "execute_result"
    }
   ],
   "source": [
    "phys_act.index.nunique()"
   ]
  },
  {
   "cell_type": "code",
   "execution_count": 35,
   "metadata": {
    "ExecuteTime": {
     "end_time": "2020-06-01T11:30:52.916007Z",
     "start_time": "2020-06-01T11:30:52.907266Z"
    }
   },
   "outputs": [
    {
     "data": {
      "text/html": [
       "<div>\n",
       "<style scoped>\n",
       "    .dataframe tbody tr th:only-of-type {\n",
       "        vertical-align: middle;\n",
       "    }\n",
       "\n",
       "    .dataframe tbody tr th {\n",
       "        vertical-align: top;\n",
       "    }\n",
       "\n",
       "    .dataframe thead th {\n",
       "        text-align: right;\n",
       "    }\n",
       "</style>\n",
       "<table border=\"1\" class=\"dataframe\">\n",
       "  <thead>\n",
       "    <tr style=\"text-align: right;\">\n",
       "      <th></th>\n",
       "      <th>UserID</th>\n",
       "      <th>RegistrationCode</th>\n",
       "    </tr>\n",
       "  </thead>\n",
       "  <tbody>\n",
       "    <tr>\n",
       "      <th>9973</th>\n",
       "      <td>10054</td>\n",
       "      <td>91050</td>\n",
       "    </tr>\n",
       "  </tbody>\n",
       "</table>\n",
       "</div>"
      ],
      "text/plain": [
       "      UserID  RegistrationCode\n",
       "9973   10054             91050"
      ]
     },
     "execution_count": 35,
     "metadata": {},
     "output_type": "execute_result"
    }
   ],
   "source": [
    "id_rc[id_rc['RegistrationCode'] == 91050]"
   ]
  },
  {
   "cell_type": "code",
   "execution_count": 24,
   "metadata": {
    "ExecuteTime": {
     "end_time": "2020-06-01T11:18:36.390087Z",
     "start_time": "2020-06-01T11:18:36.384141Z"
    }
   },
   "outputs": [
    {
     "data": {
      "text/plain": [
       "UserID              int64\n",
       "RegistrationCode    int64\n",
       "dtype: object"
      ]
     },
     "execution_count": 24,
     "metadata": {},
     "output_type": "execute_result"
    }
   ],
   "source": [
    "id_rc.dtypes"
   ]
  },
  {
   "cell_type": "code",
   "execution_count": 51,
   "metadata": {
    "ExecuteTime": {
     "end_time": "2020-06-01T11:37:59.751872Z",
     "start_time": "2020-06-01T11:37:48.664693Z"
    }
   },
   "outputs": [],
   "source": [
    "from LabData.DataLoaders.CGMLoader import CGMLoader\n",
    "import datetime\n",
    "cgml = CGMLoader()\n",
    "cgm = cgml.get_data(study_ids=3).df"
   ]
  },
  {
   "cell_type": "code",
   "execution_count": 52,
   "metadata": {
    "ExecuteTime": {
     "end_time": "2020-06-01T11:37:59.918825Z",
     "start_time": "2020-06-01T11:37:59.906121Z"
    }
   },
   "outputs": [
    {
     "data": {
      "text/html": [
       "<div>\n",
       "<style scoped>\n",
       "    .dataframe tbody tr th:only-of-type {\n",
       "        vertical-align: middle;\n",
       "    }\n",
       "\n",
       "    .dataframe tbody tr th {\n",
       "        vertical-align: top;\n",
       "    }\n",
       "\n",
       "    .dataframe thead th {\n",
       "        text-align: right;\n",
       "    }\n",
       "</style>\n",
       "<table border=\"1\" class=\"dataframe\">\n",
       "  <thead>\n",
       "    <tr style=\"text-align: right;\">\n",
       "      <th></th>\n",
       "      <th></th>\n",
       "      <th></th>\n",
       "      <th>GlucoseValue</th>\n",
       "      <th>PPGR</th>\n",
       "    </tr>\n",
       "    <tr>\n",
       "      <th>RegistrationCode</th>\n",
       "      <th>ConnectionID</th>\n",
       "      <th>Date</th>\n",
       "      <th></th>\n",
       "      <th></th>\n",
       "    </tr>\n",
       "  </thead>\n",
       "  <tbody>\n",
       "    <tr>\n",
       "      <th rowspan=\"5\" valign=\"top\">111527</th>\n",
       "      <th rowspan=\"5\" valign=\"top\">1926</th>\n",
       "      <th>2017-11-06 14:16:00</th>\n",
       "      <td>79.0</td>\n",
       "      <td>109.750</td>\n",
       "    </tr>\n",
       "    <tr>\n",
       "      <th>2017-11-06 14:31:00</th>\n",
       "      <td>83.0</td>\n",
       "      <td>132.500</td>\n",
       "    </tr>\n",
       "    <tr>\n",
       "      <th>2017-11-06 14:46:00</th>\n",
       "      <td>86.0</td>\n",
       "      <td>153.500</td>\n",
       "    </tr>\n",
       "    <tr>\n",
       "      <th>2017-11-06 15:01:00</th>\n",
       "      <td>89.0</td>\n",
       "      <td>170.750</td>\n",
       "    </tr>\n",
       "    <tr>\n",
       "      <th>2017-11-06 15:16:00</th>\n",
       "      <td>118.0</td>\n",
       "      <td>127.375</td>\n",
       "    </tr>\n",
       "  </tbody>\n",
       "</table>\n",
       "</div>"
      ],
      "text/plain": [
       "                                                   GlucoseValue     PPGR\n",
       "RegistrationCode ConnectionID Date                                      \n",
       "111527           1926         2017-11-06 14:16:00          79.0  109.750\n",
       "                              2017-11-06 14:31:00          83.0  132.500\n",
       "                              2017-11-06 14:46:00          86.0  153.500\n",
       "                              2017-11-06 15:01:00          89.0  170.750\n",
       "                              2017-11-06 15:16:00         118.0  127.375"
      ]
     },
     "execution_count": 52,
     "metadata": {},
     "output_type": "execute_result"
    }
   ],
   "source": [
    "cgm.head()"
   ]
  },
  {
   "cell_type": "code",
   "execution_count": 56,
   "metadata": {
    "ExecuteTime": {
     "end_time": "2020-06-01T11:39:20.404566Z",
     "start_time": "2020-06-01T11:39:20.212834Z"
    }
   },
   "outputs": [],
   "source": [
    "pnp3_rc_list = cgm.index.get_level_values(0).unique()"
   ]
  },
  {
   "cell_type": "code",
   "execution_count": 57,
   "metadata": {
    "ExecuteTime": {
     "end_time": "2020-06-01T11:39:26.485020Z",
     "start_time": "2020-06-01T11:39:26.479856Z"
    }
   },
   "outputs": [
    {
     "data": {
      "text/plain": [
       "Index(['111527', '117111', '126092', '12752', '128811', '130279', '132095',\n",
       "       '132178', '133828', '139531',\n",
       "       ...\n",
       "       '967551', '970940', '972181', '979162', '981727', '988899', '991569',\n",
       "       '992638', '997427', '997735'],\n",
       "      dtype='object', name='RegistrationCode', length=241)"
      ]
     },
     "execution_count": 57,
     "metadata": {},
     "output_type": "execute_result"
    }
   ],
   "source": [
    "pnp3_rc_list"
   ]
  },
  {
   "cell_type": "code",
   "execution_count": 59,
   "metadata": {
    "ExecuteTime": {
     "end_time": "2020-06-01T11:40:17.393189Z",
     "start_time": "2020-06-01T11:40:17.379137Z"
    }
   },
   "outputs": [
    {
     "data": {
      "text/html": [
       "<div>\n",
       "<style scoped>\n",
       "    .dataframe tbody tr th:only-of-type {\n",
       "        vertical-align: middle;\n",
       "    }\n",
       "\n",
       "    .dataframe tbody tr th {\n",
       "        vertical-align: top;\n",
       "    }\n",
       "\n",
       "    .dataframe thead th {\n",
       "        text-align: right;\n",
       "    }\n",
       "</style>\n",
       "<table border=\"1\" class=\"dataframe\">\n",
       "  <thead>\n",
       "    <tr style=\"text-align: right;\">\n",
       "      <th></th>\n",
       "      <th>UserID</th>\n",
       "      <th>Timestamp</th>\n",
       "      <th>EventID</th>\n",
       "      <th>EventTypeID</th>\n",
       "      <th>AdditionalInfo</th>\n",
       "      <th>Duration</th>\n",
       "    </tr>\n",
       "    <tr>\n",
       "      <th>RegistrationCode</th>\n",
       "      <th></th>\n",
       "      <th></th>\n",
       "      <th></th>\n",
       "      <th></th>\n",
       "      <th></th>\n",
       "      <th></th>\n",
       "    </tr>\n",
       "  </thead>\n",
       "  <tbody>\n",
       "    <tr>\n",
       "      <th>794868</th>\n",
       "      <td>2289</td>\n",
       "      <td>2015-01-29 08:30:00</td>\n",
       "      <td>92553</td>\n",
       "      <td>23</td>\n",
       "      <td>1|הליכה עם הכלבים</td>\n",
       "      <td>45</td>\n",
       "    </tr>\n",
       "    <tr>\n",
       "      <th>831208</th>\n",
       "      <td>2678</td>\n",
       "      <td>2015-06-13 18:55:00</td>\n",
       "      <td>110451</td>\n",
       "      <td>31</td>\n",
       "      <td>3|משקולות ועוד</td>\n",
       "      <td>60</td>\n",
       "    </tr>\n",
       "    <tr>\n",
       "      <th>831208</th>\n",
       "      <td>2678</td>\n",
       "      <td>2015-06-12 16:30:00</td>\n",
       "      <td>110291</td>\n",
       "      <td>23</td>\n",
       "      <td>3|הליכה בפארק הלאומי</td>\n",
       "      <td>120</td>\n",
       "    </tr>\n",
       "    <tr>\n",
       "      <th>831208</th>\n",
       "      <td>2678</td>\n",
       "      <td>2015-06-08 15:30:00</td>\n",
       "      <td>109256</td>\n",
       "      <td>31</td>\n",
       "      <td>4|אימון כושר בחדר כוח   חימום קרוס טריינר 10 דקות</td>\n",
       "      <td>105</td>\n",
       "    </tr>\n",
       "    <tr>\n",
       "      <th>831208</th>\n",
       "      <td>2678</td>\n",
       "      <td>2015-06-09 14:10:00</td>\n",
       "      <td>109637</td>\n",
       "      <td>30</td>\n",
       "      <td>5|קרוס טריינר 50 דקות  4 סטים בני דקה של בטן ס...</td>\n",
       "      <td>50</td>\n",
       "    </tr>\n",
       "    <tr>\n",
       "      <th>831208</th>\n",
       "      <td>2678</td>\n",
       "      <td>2015-06-10 12:20:00</td>\n",
       "      <td>109813</td>\n",
       "      <td>31</td>\n",
       "      <td>4|</td>\n",
       "      <td>140</td>\n",
       "    </tr>\n",
       "    <tr>\n",
       "      <th>831208</th>\n",
       "      <td>2678</td>\n",
       "      <td>2015-06-11 13:00:00</td>\n",
       "      <td>110017</td>\n",
       "      <td>30</td>\n",
       "      <td>4|קרוס טריינר</td>\n",
       "      <td>60</td>\n",
       "    </tr>\n",
       "    <tr>\n",
       "      <th>831208</th>\n",
       "      <td>2678</td>\n",
       "      <td>2015-06-07 19:00:00</td>\n",
       "      <td>108987</td>\n",
       "      <td>23</td>\n",
       "      <td>4|הליכה הררית</td>\n",
       "      <td>60</td>\n",
       "    </tr>\n",
       "    <tr>\n",
       "      <th>831208</th>\n",
       "      <td>2678</td>\n",
       "      <td>2014-08-05 09:30:00</td>\n",
       "      <td>62268</td>\n",
       "      <td>28</td>\n",
       "      <td>3|</td>\n",
       "      <td>45</td>\n",
       "    </tr>\n",
       "    <tr>\n",
       "      <th>831208</th>\n",
       "      <td>2678</td>\n",
       "      <td>2014-08-05 08:15:00</td>\n",
       "      <td>62267</td>\n",
       "      <td>32</td>\n",
       "      <td>4|עבודת אינטרוולים על קרוס טריינר בעומס גבוה</td>\n",
       "      <td>40</td>\n",
       "    </tr>\n",
       "    <tr>\n",
       "      <th>831208</th>\n",
       "      <td>2678</td>\n",
       "      <td>2015-06-07 17:00:00</td>\n",
       "      <td>108983</td>\n",
       "      <td>23</td>\n",
       "      <td>4|הליכה הררית</td>\n",
       "      <td>90</td>\n",
       "    </tr>\n",
       "  </tbody>\n",
       "</table>\n",
       "</div>"
      ],
      "text/plain": [
       "                  UserID            Timestamp  EventID  EventTypeID  \\\n",
       "RegistrationCode                                                      \n",
       "794868              2289  2015-01-29 08:30:00    92553           23   \n",
       "831208              2678  2015-06-13 18:55:00   110451           31   \n",
       "831208              2678  2015-06-12 16:30:00   110291           23   \n",
       "831208              2678  2015-06-08 15:30:00   109256           31   \n",
       "831208              2678  2015-06-09 14:10:00   109637           30   \n",
       "831208              2678  2015-06-10 12:20:00   109813           31   \n",
       "831208              2678  2015-06-11 13:00:00   110017           30   \n",
       "831208              2678  2015-06-07 19:00:00   108987           23   \n",
       "831208              2678  2014-08-05 09:30:00    62268           28   \n",
       "831208              2678  2014-08-05 08:15:00    62267           32   \n",
       "831208              2678  2015-06-07 17:00:00   108983           23   \n",
       "\n",
       "                                                     AdditionalInfo  Duration  \n",
       "RegistrationCode                                                               \n",
       "794868                                            1|הליכה עם הכלבים        45  \n",
       "831208                                               3|משקולות ועוד        60  \n",
       "831208                                         3|הליכה בפארק הלאומי       120  \n",
       "831208            4|אימון כושר בחדר כוח   חימום קרוס טריינר 10 דקות       105  \n",
       "831208            5|קרוס טריינר 50 דקות  4 סטים בני דקה של בטן ס...        50  \n",
       "831208                                                           4|       140  \n",
       "831208                                                4|קרוס טריינר        60  \n",
       "831208                                                4|הליכה הררית        60  \n",
       "831208                                                           3|        45  \n",
       "831208                4|עבודת אינטרוולים על קרוס טריינר בעומס גבוה         40  \n",
       "831208                                                4|הליכה הררית        90  "
      ]
     },
     "execution_count": 59,
     "metadata": {},
     "output_type": "execute_result"
    }
   ],
   "source": [
    "phys_act[phys_act.index.isin(pnp3_rc_list)]"
   ]
  },
  {
   "cell_type": "code",
   "execution_count": null,
   "metadata": {},
   "outputs": [],
   "source": []
  }
 ],
 "metadata": {
  "kernelspec": {
   "display_name": "Python 3",
   "language": "python",
   "name": "python3"
  },
  "language_info": {
   "codemirror_mode": {
    "name": "ipython",
    "version": 3
   },
   "file_extension": ".py",
   "mimetype": "text/x-python",
   "name": "python",
   "nbconvert_exporter": "python",
   "pygments_lexer": "ipython3",
   "version": "3.7.5"
  },
  "toc": {
   "base_numbering": 1,
   "nav_menu": {},
   "number_sections": true,
   "sideBar": true,
   "skip_h1_title": false,
   "title_cell": "Table of Contents",
   "title_sidebar": "Contents",
   "toc_cell": false,
   "toc_position": {},
   "toc_section_display": true,
   "toc_window_display": true
  },
  "varInspector": {
   "cols": {
    "lenName": 16,
    "lenType": 16,
    "lenVar": 40
   },
   "kernels_config": {
    "python": {
     "delete_cmd_postfix": "",
     "delete_cmd_prefix": "del ",
     "library": "var_list.py",
     "varRefreshCmd": "print(var_dic_list())"
    },
    "r": {
     "delete_cmd_postfix": ") ",
     "delete_cmd_prefix": "rm(",
     "library": "var_list.r",
     "varRefreshCmd": "cat(var_dic_list()) "
    }
   },
   "types_to_exclude": [
    "module",
    "function",
    "builtin_function_or_method",
    "instance",
    "_Feature"
   ],
   "window_display": false
  }
 },
 "nbformat": 4,
 "nbformat_minor": 2
}
