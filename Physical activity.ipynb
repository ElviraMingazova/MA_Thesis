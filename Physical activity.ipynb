{
 "cells": [
  {
   "cell_type": "markdown",
   "metadata": {},
   "source": [
    "# Exploring physical activity data"
   ]
  },
  {
   "cell_type": "code",
   "execution_count": 5,
   "metadata": {
    "ExecuteTime": {
     "end_time": "2020-03-04T16:03:13.888881Z",
     "start_time": "2020-03-04T16:03:13.885413Z"
    }
   },
   "outputs": [],
   "source": [
    "import pandas as pd\n",
    "import os"
   ]
  },
  {
   "cell_type": "code",
   "execution_count": 2,
   "metadata": {
    "ExecuteTime": {
     "end_time": "2020-03-04T16:02:30.338119Z",
     "start_time": "2020-03-04T16:02:30.333367Z"
    }
   },
   "outputs": [],
   "source": [
    "wis_base_data_dir = '/net/mraid08/export/genie/LabData/Data/WIS'\n",
    "# os.path.join(data_dir, 'WIS'))"
   ]
  },
  {
   "cell_type": "code",
   "execution_count": 7,
   "metadata": {
    "ExecuteTime": {
     "end_time": "2020-03-04T16:06:06.746911Z",
     "start_time": "2020-03-04T16:06:06.472768Z"
    },
    "scrolled": true
   },
   "outputs": [],
   "source": [
    "physical_activity = pd.read_csv(os.path.join(wis_base_data_dir, 'exercise.csv'))"
   ]
  },
  {
   "cell_type": "code",
   "execution_count": 16,
   "metadata": {
    "ExecuteTime": {
     "end_time": "2020-03-04T16:12:54.689016Z",
     "start_time": "2020-03-04T16:12:54.666416Z"
    }
   },
   "outputs": [
    {
     "data": {
      "text/html": [
       "<div>\n",
       "<style scoped>\n",
       "    .dataframe tbody tr th:only-of-type {\n",
       "        vertical-align: middle;\n",
       "    }\n",
       "\n",
       "    .dataframe tbody tr th {\n",
       "        vertical-align: top;\n",
       "    }\n",
       "\n",
       "    .dataframe thead th {\n",
       "        text-align: right;\n",
       "    }\n",
       "</style>\n",
       "<table border=\"1\" class=\"dataframe\">\n",
       "  <thead>\n",
       "    <tr style=\"text-align: right;\">\n",
       "      <th></th>\n",
       "      <th>UserID</th>\n",
       "      <th>RegistrationCode</th>\n",
       "    </tr>\n",
       "  </thead>\n",
       "  <tbody>\n",
       "    <tr>\n",
       "      <th>0</th>\n",
       "      <td>-1</td>\n",
       "      <td>-1</td>\n",
       "    </tr>\n",
       "    <tr>\n",
       "      <th>1</th>\n",
       "      <td>0</td>\n",
       "      <td>0</td>\n",
       "    </tr>\n",
       "    <tr>\n",
       "      <th>2</th>\n",
       "      <td>12</td>\n",
       "      <td>1</td>\n",
       "    </tr>\n",
       "    <tr>\n",
       "      <th>3</th>\n",
       "      <td>13</td>\n",
       "      <td>-1</td>\n",
       "    </tr>\n",
       "    <tr>\n",
       "      <th>4</th>\n",
       "      <td>14</td>\n",
       "      <td>2000</td>\n",
       "    </tr>\n",
       "  </tbody>\n",
       "</table>\n",
       "</div>"
      ],
      "text/plain": [
       "   UserID  RegistrationCode\n",
       "0      -1                -1\n",
       "1       0                 0\n",
       "2      12                 1\n",
       "3      13                -1\n",
       "4      14              2000"
      ]
     },
     "execution_count": 16,
     "metadata": {},
     "output_type": "execute_result"
    }
   ],
   "source": [
    "id_rc = pd.read_csv(os.path.join(wis_base_data_dir, 'users.csv'))\n",
    "id_rc = id_rc.drop(columns='Unnamed: 0')\n",
    "id_rc.head()"
   ]
  },
  {
   "cell_type": "code",
   "execution_count": 17,
   "metadata": {
    "ExecuteTime": {
     "end_time": "2020-03-04T16:13:27.591896Z",
     "start_time": "2020-03-04T16:13:27.587019Z"
    }
   },
   "outputs": [
    {
     "data": {
      "text/plain": [
       "(18522, 2)"
      ]
     },
     "execution_count": 17,
     "metadata": {},
     "output_type": "execute_result"
    }
   ],
   "source": [
    "id_rc.shape"
   ]
  },
  {
   "cell_type": "code",
   "execution_count": 21,
   "metadata": {
    "ExecuteTime": {
     "end_time": "2020-03-04T16:16:48.123996Z",
     "start_time": "2020-03-04T16:16:48.117005Z"
    }
   },
   "outputs": [
    {
     "data": {
      "text/plain": [
       "(3532, 6)"
      ]
     },
     "execution_count": 21,
     "metadata": {},
     "output_type": "execute_result"
    }
   ],
   "source": [
    "physical_activity.shape"
   ]
  },
  {
   "cell_type": "code",
   "execution_count": 19,
   "metadata": {
    "ExecuteTime": {
     "end_time": "2020-03-04T16:14:02.239662Z",
     "start_time": "2020-03-04T16:14:02.232712Z"
    }
   },
   "outputs": [
    {
     "data": {
      "text/plain": [
       "829"
      ]
     },
     "execution_count": 19,
     "metadata": {},
     "output_type": "execute_result"
    }
   ],
   "source": [
    "physical_activity['UserID'].nunique()"
   ]
  },
  {
   "cell_type": "code",
   "execution_count": 20,
   "metadata": {
    "ExecuteTime": {
     "end_time": "2020-03-04T16:15:58.693283Z",
     "start_time": "2020-03-04T16:15:58.654160Z"
    }
   },
   "outputs": [
    {
     "data": {
      "text/html": [
       "<div>\n",
       "<style scoped>\n",
       "    .dataframe tbody tr th:only-of-type {\n",
       "        vertical-align: middle;\n",
       "    }\n",
       "\n",
       "    .dataframe tbody tr th {\n",
       "        vertical-align: top;\n",
       "    }\n",
       "\n",
       "    .dataframe thead th {\n",
       "        text-align: right;\n",
       "    }\n",
       "</style>\n",
       "<table border=\"1\" class=\"dataframe\">\n",
       "  <thead>\n",
       "    <tr style=\"text-align: right;\">\n",
       "      <th></th>\n",
       "      <th>UserID</th>\n",
       "      <th>Timestamp</th>\n",
       "      <th>EventID</th>\n",
       "      <th>EventTypeID</th>\n",
       "      <th>AdditionalInfo</th>\n",
       "      <th>Duration</th>\n",
       "      <th>RegistrationCode</th>\n",
       "    </tr>\n",
       "  </thead>\n",
       "  <tbody>\n",
       "    <tr>\n",
       "      <th>0</th>\n",
       "      <td>76</td>\n",
       "      <td>1899-12-31 08:40:00</td>\n",
       "      <td>7773</td>\n",
       "      <td>24</td>\n",
       "      <td>4|</td>\n",
       "      <td>60</td>\n",
       "      <td>497132</td>\n",
       "    </tr>\n",
       "    <tr>\n",
       "      <th>1</th>\n",
       "      <td>76</td>\n",
       "      <td>2013-10-19 08:15:00</td>\n",
       "      <td>11566</td>\n",
       "      <td>24</td>\n",
       "      <td>3|ריצה</td>\n",
       "      <td>60</td>\n",
       "      <td>497132</td>\n",
       "    </tr>\n",
       "    <tr>\n",
       "      <th>2</th>\n",
       "      <td>76</td>\n",
       "      <td>2013-10-21 16:50:00</td>\n",
       "      <td>8214</td>\n",
       "      <td>24</td>\n",
       "      <td>4|ריצה</td>\n",
       "      <td>60</td>\n",
       "      <td>497132</td>\n",
       "    </tr>\n",
       "    <tr>\n",
       "      <th>3</th>\n",
       "      <td>75</td>\n",
       "      <td>1899-12-31 09:00:00</td>\n",
       "      <td>5476</td>\n",
       "      <td>23</td>\n",
       "      <td>3|</td>\n",
       "      <td>-1</td>\n",
       "      <td>282260</td>\n",
       "    </tr>\n",
       "    <tr>\n",
       "      <th>4</th>\n",
       "      <td>75</td>\n",
       "      <td>2013-09-30 08:15:00</td>\n",
       "      <td>5184</td>\n",
       "      <td>28</td>\n",
       "      <td>3|</td>\n",
       "      <td>90</td>\n",
       "      <td>282260</td>\n",
       "    </tr>\n",
       "    <tr>\n",
       "      <th>...</th>\n",
       "      <td>...</td>\n",
       "      <td>...</td>\n",
       "      <td>...</td>\n",
       "      <td>...</td>\n",
       "      <td>...</td>\n",
       "      <td>...</td>\n",
       "      <td>...</td>\n",
       "    </tr>\n",
       "    <tr>\n",
       "      <th>3527</th>\n",
       "      <td>5132</td>\n",
       "      <td>2015-07-12 19:01:50</td>\n",
       "      <td>116411</td>\n",
       "      <td>23</td>\n",
       "      <td>2|</td>\n",
       "      <td>30</td>\n",
       "      <td>76795</td>\n",
       "    </tr>\n",
       "    <tr>\n",
       "      <th>3528</th>\n",
       "      <td>4419</td>\n",
       "      <td>2015-07-11 15:30:00</td>\n",
       "      <td>116146</td>\n",
       "      <td>32</td>\n",
       "      <td>1|שחיית תינוקות</td>\n",
       "      <td>30</td>\n",
       "      <td>285502</td>\n",
       "    </tr>\n",
       "    <tr>\n",
       "      <th>3529</th>\n",
       "      <td>6097</td>\n",
       "      <td>2015-07-11 16:11:59</td>\n",
       "      <td>116004</td>\n",
       "      <td>23</td>\n",
       "      <td>2|lake rotoroa</td>\n",
       "      <td>60</td>\n",
       "      <td>0</td>\n",
       "    </tr>\n",
       "    <tr>\n",
       "      <th>3530</th>\n",
       "      <td>6090</td>\n",
       "      <td>2015-07-11 18:45:11</td>\n",
       "      <td>116175</td>\n",
       "      <td>24</td>\n",
       "      <td>2|</td>\n",
       "      <td>30</td>\n",
       "      <td>0</td>\n",
       "    </tr>\n",
       "    <tr>\n",
       "      <th>3531</th>\n",
       "      <td>6090</td>\n",
       "      <td>2015-07-12 22:30:59</td>\n",
       "      <td>116453</td>\n",
       "      <td>30</td>\n",
       "      <td>2|</td>\n",
       "      <td>60</td>\n",
       "      <td>0</td>\n",
       "    </tr>\n",
       "  </tbody>\n",
       "</table>\n",
       "<p>3532 rows × 7 columns</p>\n",
       "</div>"
      ],
      "text/plain": [
       "      UserID            Timestamp  EventID  EventTypeID   AdditionalInfo  \\\n",
       "0         76  1899-12-31 08:40:00     7773           24               4|   \n",
       "1         76  2013-10-19 08:15:00    11566           24           3|ריצה   \n",
       "2         76  2013-10-21 16:50:00     8214           24           4|ריצה   \n",
       "3         75  1899-12-31 09:00:00     5476           23               3|   \n",
       "4         75  2013-09-30 08:15:00     5184           28               3|   \n",
       "...      ...                  ...      ...          ...              ...   \n",
       "3527    5132  2015-07-12 19:01:50   116411           23               2|   \n",
       "3528    4419  2015-07-11 15:30:00   116146           32  1|שחיית תינוקות   \n",
       "3529    6097  2015-07-11 16:11:59   116004           23   2|lake rotoroa   \n",
       "3530    6090  2015-07-11 18:45:11   116175           24               2|   \n",
       "3531    6090  2015-07-12 22:30:59   116453           30               2|   \n",
       "\n",
       "      Duration  RegistrationCode  \n",
       "0           60            497132  \n",
       "1           60            497132  \n",
       "2           60            497132  \n",
       "3           -1            282260  \n",
       "4           90            282260  \n",
       "...        ...               ...  \n",
       "3527        30             76795  \n",
       "3528        30            285502  \n",
       "3529        60                 0  \n",
       "3530        30                 0  \n",
       "3531        60                 0  \n",
       "\n",
       "[3532 rows x 7 columns]"
      ]
     },
     "execution_count": 20,
     "metadata": {},
     "output_type": "execute_result"
    }
   ],
   "source": [
    "pd.merge(physical_activity, id_rc, on='UserID')"
   ]
  },
  {
   "cell_type": "code",
   "execution_count": null,
   "metadata": {},
   "outputs": [],
   "source": []
  }
 ],
 "metadata": {
  "kernelspec": {
   "display_name": "Python 3",
   "language": "python",
   "name": "python3"
  },
  "language_info": {
   "codemirror_mode": {
    "name": "ipython",
    "version": 3
   },
   "file_extension": ".py",
   "mimetype": "text/x-python",
   "name": "python",
   "nbconvert_exporter": "python",
   "pygments_lexer": "ipython3",
   "version": "3.7.5"
  },
  "toc": {
   "base_numbering": 1,
   "nav_menu": {},
   "number_sections": true,
   "sideBar": true,
   "skip_h1_title": false,
   "title_cell": "Table of Contents",
   "title_sidebar": "Contents",
   "toc_cell": false,
   "toc_position": {},
   "toc_section_display": true,
   "toc_window_display": true
  },
  "varInspector": {
   "cols": {
    "lenName": 16,
    "lenType": 16,
    "lenVar": 40
   },
   "kernels_config": {
    "python": {
     "delete_cmd_postfix": "",
     "delete_cmd_prefix": "del ",
     "library": "var_list.py",
     "varRefreshCmd": "print(var_dic_list())"
    },
    "r": {
     "delete_cmd_postfix": ") ",
     "delete_cmd_prefix": "rm(",
     "library": "var_list.r",
     "varRefreshCmd": "cat(var_dic_list()) "
    }
   },
   "types_to_exclude": [
    "module",
    "function",
    "builtin_function_or_method",
    "instance",
    "_Feature"
   ],
   "window_display": false
  }
 },
 "nbformat": 4,
 "nbformat_minor": 2
}
