{
 "cells": [
  {
   "cell_type": "markdown",
   "metadata": {},
   "source": [
    " # Night glucose, nutrition and lifestyle\n",
    " \n",
    "      \n",
    " ## Project Worklog\n",
    "   \n",
    " Looking for associations between lifestyle data, nutrition and night glucose levels\n"
   ]
  },
  {
   "cell_type": "markdown",
   "metadata": {},
   "source": [
    "## 28.11.2019"
   ]
  },
  {
   "cell_type": "markdown",
   "metadata": {},
   "source": [
    "### Discussion with Michal\n",
    "\n",
    "There are two different diabetes pathways: glycose rise in response to a meal and a rise in glucose levels during fasting.  \n",
    "Important can be the amount of total calories, amount of carbs eaten, type of carbs (simple sugars), food composition, the amount of fibers, how much time has passed between the previous meals, fasting time.   \n",
    "  \n",
    "There are two basic recommendations (without the usage of drugs) for people who have high glucose:\n",
    "1. Eat some carbs and fat before going to sleep (bread and butter)\n",
    "2. Do some physical activity before going to sleep\n",
    "  \n",
    "But this doesn't work well for everyone. For some people it is good to have shorter breaks between the meals, for others - larger breaks are ok. During the night the glucose of a healthy person goes down naturally and then rises to some extent in the morning because the body starts to release stored glucose to provide energy for the coming day (Glucagon hormone triggers glycogen breakdown).  In the case of the Dawn Phenomenon a person cannot release enough insulin to take the risen sugar from the blood, so he/she ends up with high fasting glucose (above 140 mg/dL).  There is also a Semogyi Effect also resulting in the high glucose, but it is due to drug management issues.  \n",
    "  \n",
    "There might be a high variance in the fasting glucose for the same person at different days. \n",
    "  \n",
    "We want to look at the CGM at night and see how it is related to the behaviour of the person the day before. I need to look at the data and see exactly how it is structured. I have to start with writing a function that goes through all the CGM data and filters out the night glucose. If bed time and wake up times are available, then I should cut according to them, if not - some default times like between 1 a.m. and 7 a.m."
   ]
  },
  {
   "cell_type": "markdown",
   "metadata": {},
   "source": [
    "### CGM statistics\n",
    "\n",
    "I also need a function that will return some statistics on the CGM:\n",
    "- min and max values\n",
    "- median glucose\n",
    "- variance in glucose levels\n",
    "- metrics: iAUC, MAGE, CV"
   ]
  },
  {
   "cell_type": "markdown",
   "metadata": {},
   "source": [
    "### Done today: \n",
    "- Discussion of the project ideas\n",
    "- Got familiar with DataLoaders, fixed a bug (inside site_packages/easy_install.pth), now I can load dataframes without any problems\n",
    "- Started a new [repository](https://github.com/ElviraMingazova/MA_Thesis.git) on GitHub for my master's thesis"
   ]
  },
  {
   "cell_type": "markdown",
   "metadata": {},
   "source": [
    "### To do:\n",
    "- Ask questions below\n",
    "- Get familiar with the CGM data, try to filter, look at some statistics"
   ]
  },
  {
   "cell_type": "markdown",
   "metadata": {},
   "source": [
    "Questions:\n",
    "- How and when to create and activate virtual environment\n",
    "- How to open two windows side by side"
   ]
  },
  {
   "cell_type": "markdown",
   "metadata": {},
   "source": [
    "## 2.12.2019"
   ]
  },
  {
   "cell_type": "markdown",
   "metadata": {},
   "source": [
    "### Done today: \n",
    "1. Learned about multiindex\n",
    "2. Created a function that filters the cgm data by time (between hours)"
   ]
  },
  {
   "cell_type": "markdown",
   "metadata": {},
   "source": [
    "### To do:\n",
    "1. Discuss the function with Dima, edit and eventually add it to the loader\n",
    "2. Find the data on sleep/wake up time, figure out the intersept of the night time of most of the people\n",
    "3. Read the paper and discuss with Michal"
   ]
  },
  {
   "cell_type": "markdown",
   "metadata": {},
   "source": [
    "The paper to read: https://www.ncbi.nlm.nih.gov/pmc/articles/PMC3836163/"
   ]
  }
 ],
 "metadata": {
  "kernelspec": {
   "display_name": "Python 3",
   "language": "python",
   "name": "python3"
  },
  "language_info": {
   "codemirror_mode": {
    "name": "ipython",
    "version": 3
   },
   "file_extension": ".py",
   "mimetype": "text/x-python",
   "name": "python",
   "nbconvert_exporter": "python",
   "pygments_lexer": "ipython3",
   "version": "3.5.3"
  }
 },
 "nbformat": 4,
 "nbformat_minor": 2
}
