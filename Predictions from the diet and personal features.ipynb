{
 "cells": [
  {
   "cell_type": "markdown",
   "metadata": {},
   "source": [
    "# Predictions of WG, CV and night PPGR from dietary and personal features"
   ]
  },
  {
   "cell_type": "markdown",
   "metadata": {},
   "source": [
    "In this notebook I will build a predictive model for three measurements: Wakeup glucose (WG), CV of the night and PPGR of the night.\n",
    "Predictive features I want to use will be daily nutritional data, personal data (age, gender, BMI, waist circumference) and blood tests:\n",
    "- CRP\n",
    "- lipid profile including triglycerides, HDL, LDL, cholesterol, cholesterol/HDL, Triglycerides/HDL \n",
    "- creatinine for kidney function\n",
    "- AST, ALL, GGT, Alkaline Phosphatase for liver function"
   ]
  },
  {
   "cell_type": "markdown",
   "metadata": {},
   "source": [
    "## Imports"
   ]
  },
  {
   "cell_type": "code",
   "execution_count": 2,
   "metadata": {
    "ExecuteTime": {
     "end_time": "2020-03-09T17:55:19.688260Z",
     "start_time": "2020-03-09T17:55:17.635084Z"
    }
   },
   "outputs": [],
   "source": [
    "import pandas as pd\n",
    "from LabData.DataLoaders.CGMLoader import CGMLoader\n",
    "from LabData.DataLoaders.DietLoggingLoader import DietLoggingLoader\n",
    "from LabData.DataLoaders.SubjectLoader import SubjectLoader\n",
    "from LabData.DataLoaders.BodyMeasuresLoader import BodyMeasuresLoader\n",
    "from LabData.DataLoaders.BloodTestsLoader import BloodTestsLoader\n",
    "import datetime\n",
    "%matplotlib inline\n",
    "cgml = CGMLoader()\n",
    "dll = DietLoggingLoader()\n",
    "\n",
    "import matplotlib.pyplot as plt\n",
    "import matplotlib\n",
    "matplotlib.style.use('ggplot')\n",
    "\n",
    "import seaborn as sns\n",
    "from scipy.stats import pearsonr, spearmanr\n",
    "from statsmodels.stats.multitest import fdrcorrection"
   ]
  },
  {
   "cell_type": "markdown",
   "metadata": {
    "ExecuteTime": {
     "end_time": "2020-03-09T11:05:04.230507Z",
     "start_time": "2020-03-09T11:05:04.227572Z"
    }
   },
   "source": [
    "## Preparing predictive features"
   ]
  },
  {
   "cell_type": "markdown",
   "metadata": {},
   "source": [
    "### Personal features of PNP3 participants"
   ]
  },
  {
   "cell_type": "markdown",
   "metadata": {},
   "source": [
    "Age and gender are in the SubjectLoader. Gender map: 1 - male, 0 - female. "
   ]
  },
  {
   "cell_type": "markdown",
   "metadata": {},
   "source": [
    "In the body measurments we have systolic and diastolic blood pressure, weight, BMI, hips, waist, height.\n",
    "IIn the blood tests I can take all besides A1C, Fructosamine and fasting glucose."
   ]
  },
  {
   "cell_type": "markdown",
   "metadata": {},
   "source": [
    "Columns to exclude from the blood tests: 'bt__hba1c', 'bt__glucose', 'bt__fructosamine',  'bt__insulin'"
   ]
  },
  {
   "cell_type": "markdown",
   "metadata": {},
   "source": [
    "Since the measurements were conducted several times I will take the average over all non zero and non NaN values per person. I can first look if the predictions will work at all. If they don't work a more sofisticated approach will also not help. But! If predictions will work good, then I could think about improving this method."
   ]
  },
  {
   "cell_type": "code",
   "execution_count": 3,
   "metadata": {
    "ExecuteTime": {
     "end_time": "2020-03-09T17:55:25.374074Z",
     "start_time": "2020-03-09T17:55:25.218335Z"
    }
   },
   "outputs": [],
   "source": [
    "sl = SubjectLoader()\n",
    "participants = sl.get_data(study_ids=3).df"
   ]
  },
  {
   "cell_type": "code",
   "execution_count": 6,
   "metadata": {
    "ExecuteTime": {
     "end_time": "2020-03-10T09:50:47.337182Z",
     "start_time": "2020-03-10T09:50:46.086681Z"
    }
   },
   "outputs": [],
   "source": [
    "bml = BodyMeasuresLoader()\n",
    "body_meas = bml.get_data(study_ids=3).df"
   ]
  },
  {
   "cell_type": "code",
   "execution_count": 79,
   "metadata": {
    "ExecuteTime": {
     "end_time": "2020-03-10T15:54:26.587954Z",
     "start_time": "2020-03-10T15:54:24.562260Z"
    }
   },
   "outputs": [],
   "source": [
    "btl = BloodTestsLoader()\n",
    "blood_tests = btl.get_data(study_ids=3).df"
   ]
  },
  {
   "cell_type": "code",
   "execution_count": 5,
   "metadata": {
    "ExecuteTime": {
     "end_time": "2020-03-09T11:19:11.784074Z",
     "start_time": "2020-03-09T11:19:11.741236Z"
    }
   },
   "outputs": [
    {
     "data": {
      "text/html": [
       "<div>\n",
       "<style scoped>\n",
       "    .dataframe tbody tr th:only-of-type {\n",
       "        vertical-align: middle;\n",
       "    }\n",
       "\n",
       "    .dataframe tbody tr th {\n",
       "        vertical-align: top;\n",
       "    }\n",
       "\n",
       "    .dataframe thead th {\n",
       "        text-align: right;\n",
       "    }\n",
       "</style>\n",
       "<table border=\"1\" class=\"dataframe\">\n",
       "  <thead>\n",
       "    <tr style=\"text-align: right;\">\n",
       "      <th></th>\n",
       "      <th></th>\n",
       "      <th>StudyTypeID</th>\n",
       "      <th>city</th>\n",
       "      <th>country</th>\n",
       "      <th>gender</th>\n",
       "      <th>us_state</th>\n",
       "      <th>yob</th>\n",
       "      <th>StudyTypeID2</th>\n",
       "      <th>StudyTypeID3</th>\n",
       "      <th>age</th>\n",
       "    </tr>\n",
       "    <tr>\n",
       "      <th>RegistrationCode</th>\n",
       "      <th>Date</th>\n",
       "      <th></th>\n",
       "      <th></th>\n",
       "      <th></th>\n",
       "      <th></th>\n",
       "      <th></th>\n",
       "      <th></th>\n",
       "      <th></th>\n",
       "      <th></th>\n",
       "      <th></th>\n",
       "    </tr>\n",
       "  </thead>\n",
       "  <tbody>\n",
       "    <tr>\n",
       "      <th>111527</th>\n",
       "      <th>2017-10-05 09:04:27+03:00</th>\n",
       "      <td>3</td>\n",
       "      <td>None</td>\n",
       "      <td>IL</td>\n",
       "      <td>0.0</td>\n",
       "      <td>None</td>\n",
       "      <td>1971.0</td>\n",
       "      <td>NaN</td>\n",
       "      <td>NaN</td>\n",
       "      <td>48.0</td>\n",
       "    </tr>\n",
       "    <tr>\n",
       "      <th>117111</th>\n",
       "      <th>2018-02-13 22:55:37+02:00</th>\n",
       "      <td>3</td>\n",
       "      <td>None</td>\n",
       "      <td>IL</td>\n",
       "      <td>1.0</td>\n",
       "      <td>None</td>\n",
       "      <td>1971.0</td>\n",
       "      <td>NaN</td>\n",
       "      <td>NaN</td>\n",
       "      <td>48.0</td>\n",
       "    </tr>\n",
       "    <tr>\n",
       "      <th>126092</th>\n",
       "      <th>2018-07-08 12:17:18+03:00</th>\n",
       "      <td>3</td>\n",
       "      <td>None</td>\n",
       "      <td>IL</td>\n",
       "      <td>0.0</td>\n",
       "      <td>None</td>\n",
       "      <td>1962.0</td>\n",
       "      <td>NaN</td>\n",
       "      <td>NaN</td>\n",
       "      <td>57.0</td>\n",
       "    </tr>\n",
       "    <tr>\n",
       "      <th>12752</th>\n",
       "      <th>2018-07-11 18:27:38+03:00</th>\n",
       "      <td>3</td>\n",
       "      <td>None</td>\n",
       "      <td>IL</td>\n",
       "      <td>1.0</td>\n",
       "      <td>None</td>\n",
       "      <td>1962.0</td>\n",
       "      <td>NaN</td>\n",
       "      <td>NaN</td>\n",
       "      <td>57.0</td>\n",
       "    </tr>\n",
       "    <tr>\n",
       "      <th>128811</th>\n",
       "      <th>2017-10-22 09:03:50+03:00</th>\n",
       "      <td>3</td>\n",
       "      <td>None</td>\n",
       "      <td>IL</td>\n",
       "      <td>1.0</td>\n",
       "      <td>None</td>\n",
       "      <td>1971.0</td>\n",
       "      <td>NaN</td>\n",
       "      <td>NaN</td>\n",
       "      <td>48.0</td>\n",
       "    </tr>\n",
       "  </tbody>\n",
       "</table>\n",
       "</div>"
      ],
      "text/plain": [
       "                                           StudyTypeID  city  ... StudyTypeID3   age\n",
       "RegistrationCode Date                                         ...                   \n",
       "111527           2017-10-05 09:04:27+03:00           3  None  ...          NaN  48.0\n",
       "117111           2018-02-13 22:55:37+02:00           3  None  ...          NaN  48.0\n",
       "126092           2018-07-08 12:17:18+03:00           3  None  ...          NaN  57.0\n",
       "12752            2018-07-11 18:27:38+03:00           3  None  ...          NaN  57.0\n",
       "128811           2017-10-22 09:03:50+03:00           3  None  ...          NaN  48.0\n",
       "\n",
       "[5 rows x 9 columns]"
      ]
     },
     "execution_count": 5,
     "metadata": {},
     "output_type": "execute_result"
    }
   ],
   "source": [
    "participants.head()"
   ]
  },
  {
   "cell_type": "code",
   "execution_count": 6,
   "metadata": {
    "ExecuteTime": {
     "end_time": "2020-03-09T12:45:44.146523Z",
     "start_time": "2020-03-09T12:45:44.134715Z"
    }
   },
   "outputs": [
    {
     "data": {
      "text/plain": [
       "248"
      ]
     },
     "execution_count": 6,
     "metadata": {},
     "output_type": "execute_result"
    }
   ],
   "source": [
    "participants.reset_index('Date').index.nunique()"
   ]
  },
  {
   "cell_type": "code",
   "execution_count": 131,
   "metadata": {
    "ExecuteTime": {
     "end_time": "2020-03-10T16:40:35.644172Z",
     "start_time": "2020-03-10T16:40:35.634429Z"
    }
   },
   "outputs": [],
   "source": [
    "def calc_mean_per_person(df):\n",
    "    \"\"\"\"\"\"\n",
    "    df = df.dropna(axis=1, how='all')\n",
    "    # Zeros disturb the correct calculation of the mean, NaNs do not\n",
    "    df = df.replace(0, np.NaN)\n",
    "    df = df.reset_index()\n",
    "    df_means = df.drop(columns='Date').groupby('RegistrationCode').mean()\n",
    "    sum_nans = df_means.isnull().sum().rename('sum').to_frame()\n",
    "    too_many_nans = sum_nans[sum_nans['sum'] > 30].index\n",
    "    df_means = df_means.drop(columns=too_many_nans)\n",
    "    df_means = df_means.dropna(axis=0, how='any')\n",
    "    \n",
    "    return df_means"
   ]
  },
  {
   "cell_type": "code",
   "execution_count": 132,
   "metadata": {
    "ExecuteTime": {
     "end_time": "2020-03-10T16:40:39.863590Z",
     "start_time": "2020-03-10T16:40:39.823942Z"
    },
    "scrolled": true
   },
   "outputs": [],
   "source": [
    "body_meas_means = calc_mean_per_person(body_meas)"
   ]
  },
  {
   "cell_type": "code",
   "execution_count": 133,
   "metadata": {
    "ExecuteTime": {
     "end_time": "2020-03-10T16:40:41.220639Z",
     "start_time": "2020-03-10T16:40:41.176975Z"
    }
   },
   "outputs": [],
   "source": [
    "blood_tests_means = calc_mean_per_person(blood_tests)"
   ]
  },
  {
   "cell_type": "code",
   "execution_count": 134,
   "metadata": {
    "ExecuteTime": {
     "end_time": "2020-03-10T16:40:42.451051Z",
     "start_time": "2020-03-10T16:40:42.445875Z"
    }
   },
   "outputs": [],
   "source": [
    "blood_tests_means = blood_tests_means.drop(columns=['bt__hba1c', 'bt__glucose', 'bt__fructosamine',  'bt__insulin'])"
   ]
  },
  {
   "cell_type": "code",
   "execution_count": 135,
   "metadata": {
    "ExecuteTime": {
     "end_time": "2020-03-10T16:40:50.635856Z",
     "start_time": "2020-03-10T16:40:50.627269Z"
    }
   },
   "outputs": [
    {
     "data": {
      "text/plain": [
       "Index(['bt__creatinine', 'bt__mchc', 'bt__crp_hs', 'bt__hdl_cholesterol',\n",
       "       'bt__rdw', 'bt__lymphocytes_%', 'bt__monocytes_%', 'bt__rbc',\n",
       "       'bt__hemoglobin', 'bt__triglycerides', 'bt__ast_got', 'bt__mch',\n",
       "       'bt__alt_gpt', 'bt__mean_platelet_volume', 'bt__eosinophils_%',\n",
       "       'bt__wbc', 'bt__basophils_%', 'bt__total_cholesterol', 'bt__mcv',\n",
       "       'bt__neutrophils_%', 'bt__crp_synthetic', 'bt__platelets', 'bt__hct',\n",
       "       'bt__ldl_cholesterol', 'bt__tsh', 'bt__albumin'],\n",
       "      dtype='object')"
      ]
     },
     "execution_count": 135,
     "metadata": {},
     "output_type": "execute_result"
    }
   ],
   "source": [
    "blood_tests_means.columns"
   ]
  },
  {
   "cell_type": "code",
   "execution_count": 137,
   "metadata": {
    "ExecuteTime": {
     "end_time": "2020-03-10T16:41:44.674877Z",
     "start_time": "2020-03-10T16:41:44.665943Z"
    }
   },
   "outputs": [
    {
     "data": {
      "text/plain": [
       "(229, 26)"
      ]
     },
     "execution_count": 137,
     "metadata": {},
     "output_type": "execute_result"
    }
   ],
   "source": [
    "blood_tests_means.shape"
   ]
  },
  {
   "cell_type": "code",
   "execution_count": 139,
   "metadata": {
    "ExecuteTime": {
     "end_time": "2020-03-10T16:42:14.251416Z",
     "start_time": "2020-03-10T16:42:14.233281Z"
    }
   },
   "outputs": [
    {
     "data": {
      "text/plain": [
       "(239, 12)"
      ]
     },
     "execution_count": 139,
     "metadata": {},
     "output_type": "execute_result"
    }
   ],
   "source": [
    "body_meas_means.shape"
   ]
  },
  {
   "cell_type": "code",
   "execution_count": 140,
   "metadata": {
    "ExecuteTime": {
     "end_time": "2020-03-10T16:42:16.521175Z",
     "start_time": "2020-03-10T16:42:16.496288Z"
    }
   },
   "outputs": [],
   "source": [
    "bm_bt = pd.merge(body_meas_means, blood_tests_means, on='RegistrationCode')"
   ]
  },
  {
   "cell_type": "code",
   "execution_count": 141,
   "metadata": {
    "ExecuteTime": {
     "end_time": "2020-03-10T16:42:17.855134Z",
     "start_time": "2020-03-10T16:42:17.846556Z"
    }
   },
   "outputs": [
    {
     "data": {
      "text/plain": [
       "(226, 38)"
      ]
     },
     "execution_count": 141,
     "metadata": {},
     "output_type": "execute_result"
    }
   ],
   "source": [
    "bm_bt.shape"
   ]
  },
  {
   "cell_type": "code",
   "execution_count": 142,
   "metadata": {
    "ExecuteTime": {
     "end_time": "2020-03-10T16:42:53.845090Z",
     "start_time": "2020-03-10T16:42:53.797876Z"
    }
   },
   "outputs": [
    {
     "data": {
      "text/html": [
       "<div>\n",
       "<style scoped>\n",
       "    .dataframe tbody tr th:only-of-type {\n",
       "        vertical-align: middle;\n",
       "    }\n",
       "\n",
       "    .dataframe tbody tr th {\n",
       "        vertical-align: top;\n",
       "    }\n",
       "\n",
       "    .dataframe thead th {\n",
       "        text-align: right;\n",
       "    }\n",
       "</style>\n",
       "<table border=\"1\" class=\"dataframe\">\n",
       "  <thead>\n",
       "    <tr style=\"text-align: right;\">\n",
       "      <th></th>\n",
       "      <th>weight</th>\n",
       "      <th>body_fat</th>\n",
       "      <th>hips</th>\n",
       "      <th>sitting_blood_pressure_diastolic</th>\n",
       "      <th>bmi</th>\n",
       "      <th>height</th>\n",
       "      <th>trunk_fat</th>\n",
       "      <th>bmr</th>\n",
       "      <th>waist</th>\n",
       "      <th>sitting_blood_pressure_pulse_rate</th>\n",
       "      <th>...</th>\n",
       "      <th>bt__basophils_%</th>\n",
       "      <th>bt__total_cholesterol</th>\n",
       "      <th>bt__mcv</th>\n",
       "      <th>bt__neutrophils_%</th>\n",
       "      <th>bt__crp_synthetic</th>\n",
       "      <th>bt__platelets</th>\n",
       "      <th>bt__hct</th>\n",
       "      <th>bt__ldl_cholesterol</th>\n",
       "      <th>bt__tsh</th>\n",
       "      <th>bt__albumin</th>\n",
       "    </tr>\n",
       "    <tr>\n",
       "      <th>RegistrationCode</th>\n",
       "      <th></th>\n",
       "      <th></th>\n",
       "      <th></th>\n",
       "      <th></th>\n",
       "      <th></th>\n",
       "      <th></th>\n",
       "      <th></th>\n",
       "      <th></th>\n",
       "      <th></th>\n",
       "      <th></th>\n",
       "      <th></th>\n",
       "      <th></th>\n",
       "      <th></th>\n",
       "      <th></th>\n",
       "      <th></th>\n",
       "      <th></th>\n",
       "      <th></th>\n",
       "      <th></th>\n",
       "      <th></th>\n",
       "      <th></th>\n",
       "      <th></th>\n",
       "    </tr>\n",
       "  </thead>\n",
       "  <tbody>\n",
       "    <tr>\n",
       "      <th>111527</th>\n",
       "      <td>72.500000</td>\n",
       "      <td>40.722223</td>\n",
       "      <td>111.000000</td>\n",
       "      <td>88.60</td>\n",
       "      <td>31.204312</td>\n",
       "      <td>152.444444</td>\n",
       "      <td>37.477779</td>\n",
       "      <td>1335.555556</td>\n",
       "      <td>90.500000</td>\n",
       "      <td>66.200000</td>\n",
       "      <td>...</td>\n",
       "      <td>0.350000</td>\n",
       "      <td>168.750000</td>\n",
       "      <td>82.000000</td>\n",
       "      <td>60.333333</td>\n",
       "      <td>1.766526</td>\n",
       "      <td>336.500000</td>\n",
       "      <td>38.000000</td>\n",
       "      <td>91.500000</td>\n",
       "      <td>1.210000</td>\n",
       "      <td>4.766667</td>\n",
       "    </tr>\n",
       "    <tr>\n",
       "      <th>117111</th>\n",
       "      <td>108.637498</td>\n",
       "      <td>32.628571</td>\n",
       "      <td>118.333333</td>\n",
       "      <td>89.25</td>\n",
       "      <td>34.287811</td>\n",
       "      <td>178.000000</td>\n",
       "      <td>35.085715</td>\n",
       "      <td>2189.857143</td>\n",
       "      <td>116.166667</td>\n",
       "      <td>85.250000</td>\n",
       "      <td>...</td>\n",
       "      <td>0.650000</td>\n",
       "      <td>291.666667</td>\n",
       "      <td>92.000000</td>\n",
       "      <td>50.825000</td>\n",
       "      <td>0.672996</td>\n",
       "      <td>347.000000</td>\n",
       "      <td>46.425000</td>\n",
       "      <td>201.000000</td>\n",
       "      <td>1.840000</td>\n",
       "      <td>5.000000</td>\n",
       "    </tr>\n",
       "    <tr>\n",
       "      <th>126092</th>\n",
       "      <td>59.944444</td>\n",
       "      <td>33.275000</td>\n",
       "      <td>98.000000</td>\n",
       "      <td>94.50</td>\n",
       "      <td>23.415799</td>\n",
       "      <td>160.000000</td>\n",
       "      <td>30.125000</td>\n",
       "      <td>1200.375000</td>\n",
       "      <td>80.666667</td>\n",
       "      <td>70.000000</td>\n",
       "      <td>...</td>\n",
       "      <td>0.350000</td>\n",
       "      <td>179.000000</td>\n",
       "      <td>88.833333</td>\n",
       "      <td>53.050000</td>\n",
       "      <td>0.451477</td>\n",
       "      <td>244.333333</td>\n",
       "      <td>39.116667</td>\n",
       "      <td>96.000000</td>\n",
       "      <td>1.600000</td>\n",
       "      <td>4.866667</td>\n",
       "    </tr>\n",
       "    <tr>\n",
       "      <th>12752</th>\n",
       "      <td>95.355555</td>\n",
       "      <td>26.412500</td>\n",
       "      <td>113.000000</td>\n",
       "      <td>97.75</td>\n",
       "      <td>27.268596</td>\n",
       "      <td>187.000000</td>\n",
       "      <td>29.037500</td>\n",
       "      <td>2049.625000</td>\n",
       "      <td>100.333333</td>\n",
       "      <td>60.750000</td>\n",
       "      <td>...</td>\n",
       "      <td>0.366667</td>\n",
       "      <td>213.750000</td>\n",
       "      <td>93.666667</td>\n",
       "      <td>57.466667</td>\n",
       "      <td>0.437412</td>\n",
       "      <td>232.000000</td>\n",
       "      <td>44.616667</td>\n",
       "      <td>148.500000</td>\n",
       "      <td>0.590000</td>\n",
       "      <td>4.833333</td>\n",
       "    </tr>\n",
       "    <tr>\n",
       "      <th>130279</th>\n",
       "      <td>86.320000</td>\n",
       "      <td>26.522222</td>\n",
       "      <td>104.875000</td>\n",
       "      <td>77.00</td>\n",
       "      <td>31.145671</td>\n",
       "      <td>166.500000</td>\n",
       "      <td>28.711111</td>\n",
       "      <td>1839.333333</td>\n",
       "      <td>101.750000</td>\n",
       "      <td>68.200000</td>\n",
       "      <td>...</td>\n",
       "      <td>0.333333</td>\n",
       "      <td>173.000000</td>\n",
       "      <td>95.666667</td>\n",
       "      <td>53.483333</td>\n",
       "      <td>-0.540084</td>\n",
       "      <td>209.500000</td>\n",
       "      <td>46.166667</td>\n",
       "      <td>99.750000</td>\n",
       "      <td>1.030000</td>\n",
       "      <td>4.633333</td>\n",
       "    </tr>\n",
       "    <tr>\n",
       "      <th>...</th>\n",
       "      <td>...</td>\n",
       "      <td>...</td>\n",
       "      <td>...</td>\n",
       "      <td>...</td>\n",
       "      <td>...</td>\n",
       "      <td>...</td>\n",
       "      <td>...</td>\n",
       "      <td>...</td>\n",
       "      <td>...</td>\n",
       "      <td>...</td>\n",
       "      <td>...</td>\n",
       "      <td>...</td>\n",
       "      <td>...</td>\n",
       "      <td>...</td>\n",
       "      <td>...</td>\n",
       "      <td>...</td>\n",
       "      <td>...</td>\n",
       "      <td>...</td>\n",
       "      <td>...</td>\n",
       "      <td>...</td>\n",
       "      <td>...</td>\n",
       "    </tr>\n",
       "    <tr>\n",
       "      <th>988899</th>\n",
       "      <td>128.533335</td>\n",
       "      <td>39.388888</td>\n",
       "      <td>114.500000</td>\n",
       "      <td>105.40</td>\n",
       "      <td>41.442556</td>\n",
       "      <td>176.111111</td>\n",
       "      <td>38.622223</td>\n",
       "      <td>2413.777778</td>\n",
       "      <td>129.250000</td>\n",
       "      <td>77.400000</td>\n",
       "      <td>...</td>\n",
       "      <td>0.366667</td>\n",
       "      <td>215.750000</td>\n",
       "      <td>85.200000</td>\n",
       "      <td>58.460000</td>\n",
       "      <td>0.957806</td>\n",
       "      <td>177.600000</td>\n",
       "      <td>45.740000</td>\n",
       "      <td>136.250000</td>\n",
       "      <td>1.510000</td>\n",
       "      <td>5.133333</td>\n",
       "    </tr>\n",
       "    <tr>\n",
       "      <th>991569</th>\n",
       "      <td>110.900002</td>\n",
       "      <td>31.100000</td>\n",
       "      <td>121.000000</td>\n",
       "      <td>89.50</td>\n",
       "      <td>35.398514</td>\n",
       "      <td>177.000000</td>\n",
       "      <td>33.549999</td>\n",
       "      <td>2291.000000</td>\n",
       "      <td>114.000000</td>\n",
       "      <td>73.500000</td>\n",
       "      <td>...</td>\n",
       "      <td>0.550000</td>\n",
       "      <td>237.000000</td>\n",
       "      <td>87.000000</td>\n",
       "      <td>52.050000</td>\n",
       "      <td>-0.350211</td>\n",
       "      <td>256.500000</td>\n",
       "      <td>42.150000</td>\n",
       "      <td>159.000000</td>\n",
       "      <td>1.500000</td>\n",
       "      <td>5.100000</td>\n",
       "    </tr>\n",
       "    <tr>\n",
       "      <th>992638</th>\n",
       "      <td>74.580000</td>\n",
       "      <td>26.450000</td>\n",
       "      <td>94.500000</td>\n",
       "      <td>93.00</td>\n",
       "      <td>26.424319</td>\n",
       "      <td>168.000000</td>\n",
       "      <td>29.410000</td>\n",
       "      <td>1598.100000</td>\n",
       "      <td>93.500000</td>\n",
       "      <td>82.200000</td>\n",
       "      <td>...</td>\n",
       "      <td>0.316667</td>\n",
       "      <td>205.250000</td>\n",
       "      <td>91.333333</td>\n",
       "      <td>62.583333</td>\n",
       "      <td>-0.387131</td>\n",
       "      <td>148.833333</td>\n",
       "      <td>50.400000</td>\n",
       "      <td>115.500000</td>\n",
       "      <td>1.626667</td>\n",
       "      <td>5.200000</td>\n",
       "    </tr>\n",
       "    <tr>\n",
       "      <th>997427</th>\n",
       "      <td>96.324999</td>\n",
       "      <td>45.787500</td>\n",
       "      <td>120.000000</td>\n",
       "      <td>84.50</td>\n",
       "      <td>34.538706</td>\n",
       "      <td>167.000000</td>\n",
       "      <td>44.212500</td>\n",
       "      <td>1617.500000</td>\n",
       "      <td>102.333333</td>\n",
       "      <td>72.666667</td>\n",
       "      <td>...</td>\n",
       "      <td>0.500000</td>\n",
       "      <td>239.000000</td>\n",
       "      <td>86.000000</td>\n",
       "      <td>46.475000</td>\n",
       "      <td>0.556962</td>\n",
       "      <td>305.750000</td>\n",
       "      <td>44.025000</td>\n",
       "      <td>148.666667</td>\n",
       "      <td>1.160000</td>\n",
       "      <td>5.050000</td>\n",
       "    </tr>\n",
       "    <tr>\n",
       "      <th>997735</th>\n",
       "      <td>98.081818</td>\n",
       "      <td>41.990000</td>\n",
       "      <td>122.333333</td>\n",
       "      <td>82.40</td>\n",
       "      <td>35.593634</td>\n",
       "      <td>166.000000</td>\n",
       "      <td>39.710000</td>\n",
       "      <td>1737.600000</td>\n",
       "      <td>98.333333</td>\n",
       "      <td>85.000000</td>\n",
       "      <td>...</td>\n",
       "      <td>0.483333</td>\n",
       "      <td>194.750000</td>\n",
       "      <td>91.333333</td>\n",
       "      <td>63.933333</td>\n",
       "      <td>0.936709</td>\n",
       "      <td>222.666667</td>\n",
       "      <td>43.133333</td>\n",
       "      <td>117.000000</td>\n",
       "      <td>1.025000</td>\n",
       "      <td>4.750000</td>\n",
       "    </tr>\n",
       "  </tbody>\n",
       "</table>\n",
       "<p>226 rows × 38 columns</p>\n",
       "</div>"
      ],
      "text/plain": [
       "                      weight   body_fat        hips  \\\n",
       "RegistrationCode                                      \n",
       "111527             72.500000  40.722223  111.000000   \n",
       "117111            108.637498  32.628571  118.333333   \n",
       "126092             59.944444  33.275000   98.000000   \n",
       "12752              95.355555  26.412500  113.000000   \n",
       "130279             86.320000  26.522222  104.875000   \n",
       "...                      ...        ...         ...   \n",
       "988899            128.533335  39.388888  114.500000   \n",
       "991569            110.900002  31.100000  121.000000   \n",
       "992638             74.580000  26.450000   94.500000   \n",
       "997427             96.324999  45.787500  120.000000   \n",
       "997735             98.081818  41.990000  122.333333   \n",
       "\n",
       "                  sitting_blood_pressure_diastolic        bmi      height  \\\n",
       "RegistrationCode                                                            \n",
       "111527                                       88.60  31.204312  152.444444   \n",
       "117111                                       89.25  34.287811  178.000000   \n",
       "126092                                       94.50  23.415799  160.000000   \n",
       "12752                                        97.75  27.268596  187.000000   \n",
       "130279                                       77.00  31.145671  166.500000   \n",
       "...                                            ...        ...         ...   \n",
       "988899                                      105.40  41.442556  176.111111   \n",
       "991569                                       89.50  35.398514  177.000000   \n",
       "992638                                       93.00  26.424319  168.000000   \n",
       "997427                                       84.50  34.538706  167.000000   \n",
       "997735                                       82.40  35.593634  166.000000   \n",
       "\n",
       "                  trunk_fat          bmr       waist  \\\n",
       "RegistrationCode                                       \n",
       "111527            37.477779  1335.555556   90.500000   \n",
       "117111            35.085715  2189.857143  116.166667   \n",
       "126092            30.125000  1200.375000   80.666667   \n",
       "12752             29.037500  2049.625000  100.333333   \n",
       "130279            28.711111  1839.333333  101.750000   \n",
       "...                     ...          ...         ...   \n",
       "988899            38.622223  2413.777778  129.250000   \n",
       "991569            33.549999  2291.000000  114.000000   \n",
       "992638            29.410000  1598.100000   93.500000   \n",
       "997427            44.212500  1617.500000  102.333333   \n",
       "997735            39.710000  1737.600000   98.333333   \n",
       "\n",
       "                  sitting_blood_pressure_pulse_rate  ...  bt__basophils_%  \\\n",
       "RegistrationCode                                     ...                    \n",
       "111527                                    66.200000  ...         0.350000   \n",
       "117111                                    85.250000  ...         0.650000   \n",
       "126092                                    70.000000  ...         0.350000   \n",
       "12752                                     60.750000  ...         0.366667   \n",
       "130279                                    68.200000  ...         0.333333   \n",
       "...                                             ...  ...              ...   \n",
       "988899                                    77.400000  ...         0.366667   \n",
       "991569                                    73.500000  ...         0.550000   \n",
       "992638                                    82.200000  ...         0.316667   \n",
       "997427                                    72.666667  ...         0.500000   \n",
       "997735                                    85.000000  ...         0.483333   \n",
       "\n",
       "                  bt__total_cholesterol    bt__mcv  bt__neutrophils_%  \\\n",
       "RegistrationCode                                                        \n",
       "111527                       168.750000  82.000000          60.333333   \n",
       "117111                       291.666667  92.000000          50.825000   \n",
       "126092                       179.000000  88.833333          53.050000   \n",
       "12752                        213.750000  93.666667          57.466667   \n",
       "130279                       173.000000  95.666667          53.483333   \n",
       "...                                 ...        ...                ...   \n",
       "988899                       215.750000  85.200000          58.460000   \n",
       "991569                       237.000000  87.000000          52.050000   \n",
       "992638                       205.250000  91.333333          62.583333   \n",
       "997427                       239.000000  86.000000          46.475000   \n",
       "997735                       194.750000  91.333333          63.933333   \n",
       "\n",
       "                  bt__crp_synthetic  bt__platelets    bt__hct  \\\n",
       "RegistrationCode                                                \n",
       "111527                     1.766526     336.500000  38.000000   \n",
       "117111                     0.672996     347.000000  46.425000   \n",
       "126092                     0.451477     244.333333  39.116667   \n",
       "12752                      0.437412     232.000000  44.616667   \n",
       "130279                    -0.540084     209.500000  46.166667   \n",
       "...                             ...            ...        ...   \n",
       "988899                     0.957806     177.600000  45.740000   \n",
       "991569                    -0.350211     256.500000  42.150000   \n",
       "992638                    -0.387131     148.833333  50.400000   \n",
       "997427                     0.556962     305.750000  44.025000   \n",
       "997735                     0.936709     222.666667  43.133333   \n",
       "\n",
       "                  bt__ldl_cholesterol   bt__tsh  bt__albumin  \n",
       "RegistrationCode                                              \n",
       "111527                      91.500000  1.210000     4.766667  \n",
       "117111                     201.000000  1.840000     5.000000  \n",
       "126092                      96.000000  1.600000     4.866667  \n",
       "12752                      148.500000  0.590000     4.833333  \n",
       "130279                      99.750000  1.030000     4.633333  \n",
       "...                               ...       ...          ...  \n",
       "988899                     136.250000  1.510000     5.133333  \n",
       "991569                     159.000000  1.500000     5.100000  \n",
       "992638                     115.500000  1.626667     5.200000  \n",
       "997427                     148.666667  1.160000     5.050000  \n",
       "997735                     117.000000  1.025000     4.750000  \n",
       "\n",
       "[226 rows x 38 columns]"
      ]
     },
     "execution_count": 142,
     "metadata": {},
     "output_type": "execute_result"
    }
   ],
   "source": [
    "bm_bt"
   ]
  },
  {
   "cell_type": "code",
   "execution_count": null,
   "metadata": {},
   "outputs": [],
   "source": []
  }
 ],
 "metadata": {
  "kernelspec": {
   "display_name": "Python 3",
   "language": "python",
   "name": "python3"
  },
  "language_info": {
   "codemirror_mode": {
    "name": "ipython",
    "version": 3
   },
   "file_extension": ".py",
   "mimetype": "text/x-python",
   "name": "python",
   "nbconvert_exporter": "python",
   "pygments_lexer": "ipython3",
   "version": "3.7.5"
  },
  "toc": {
   "base_numbering": 1,
   "nav_menu": {},
   "number_sections": true,
   "sideBar": true,
   "skip_h1_title": false,
   "title_cell": "Table of Contents",
   "title_sidebar": "Contents",
   "toc_cell": false,
   "toc_position": {},
   "toc_section_display": true,
   "toc_window_display": true
  },
  "varInspector": {
   "cols": {
    "lenName": 16,
    "lenType": 16,
    "lenVar": 40
   },
   "kernels_config": {
    "python": {
     "delete_cmd_postfix": "",
     "delete_cmd_prefix": "del ",
     "library": "var_list.py",
     "varRefreshCmd": "print(var_dic_list())"
    },
    "r": {
     "delete_cmd_postfix": ") ",
     "delete_cmd_prefix": "rm(",
     "library": "var_list.r",
     "varRefreshCmd": "cat(var_dic_list()) "
    }
   },
   "types_to_exclude": [
    "module",
    "function",
    "builtin_function_or_method",
    "instance",
    "_Feature"
   ],
   "window_display": false
  }
 },
 "nbformat": 4,
 "nbformat_minor": 2
}
