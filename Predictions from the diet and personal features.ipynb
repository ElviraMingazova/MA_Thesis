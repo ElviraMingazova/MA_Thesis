{
 "cells": [
  {
   "cell_type": "markdown",
   "metadata": {},
   "source": [
    "# Predictions of WG, CV and night PPGR from dietary and personal features"
   ]
  },
  {
   "cell_type": "markdown",
   "metadata": {},
   "source": [
    "In this notebook I will build a predictive model for three measurements: Wakeup glucose (WG), CV of the night and PPGR of the night.\n",
    "Predictive features I want to use will be daily nutritional data, personal data (age, gender, BMI, waist circumference) and blood tests:\n",
    "- CRP\n",
    "- lipid profile including triglycerides, HDL, LDL, cholesterol, cholesterol/HDL, Triglycerides/HDL \n",
    "- creatinine for kidney function\n",
    "- AST, ALL, GGT, Alkaline Phosphatase for liver function"
   ]
  },
  {
   "cell_type": "markdown",
   "metadata": {},
   "source": [
    "## Imports"
   ]
  },
  {
   "cell_type": "code",
   "execution_count": 2,
   "metadata": {
    "ExecuteTime": {
     "end_time": "2020-03-09T17:55:19.688260Z",
     "start_time": "2020-03-09T17:55:17.635084Z"
    }
   },
   "outputs": [],
   "source": [
    "import pandas as pd\n",
    "from LabData.DataLoaders.CGMLoader import CGMLoader\n",
    "from LabData.DataLoaders.DietLoggingLoader import DietLoggingLoader\n",
    "from LabData.DataLoaders.SubjectLoader import SubjectLoader\n",
    "from LabData.DataLoaders.BodyMeasuresLoader import BodyMeasuresLoader\n",
    "from LabData.DataLoaders.BloodTestsLoader import BloodTestsLoader\n",
    "import datetime\n",
    "%matplotlib inline\n",
    "cgml = CGMLoader()\n",
    "dll = DietLoggingLoader()\n",
    "\n",
    "import matplotlib.pyplot as plt\n",
    "import matplotlib\n",
    "matplotlib.style.use('ggplot')\n",
    "\n",
    "import seaborn as sns\n",
    "from scipy.stats import pearsonr, spearmanr\n",
    "from statsmodels.stats.multitest import fdrcorrection"
   ]
  },
  {
   "cell_type": "markdown",
   "metadata": {
    "ExecuteTime": {
     "end_time": "2020-03-09T11:05:04.230507Z",
     "start_time": "2020-03-09T11:05:04.227572Z"
    }
   },
   "source": [
    "## Preparing predictive features"
   ]
  },
  {
   "cell_type": "markdown",
   "metadata": {},
   "source": [
    "### Personal features of PNP3 participants"
   ]
  },
  {
   "cell_type": "markdown",
   "metadata": {},
   "source": [
    "Age and gender are in the SubjectLoader. Gender map: 1 - male, 0 - female"
   ]
  },
  {
   "cell_type": "code",
   "execution_count": 3,
   "metadata": {
    "ExecuteTime": {
     "end_time": "2020-03-09T17:55:25.374074Z",
     "start_time": "2020-03-09T17:55:25.218335Z"
    }
   },
   "outputs": [],
   "source": [
    "sl = SubjectLoader()\n",
    "participants = sl.get_data(study_ids=3).df"
   ]
  },
  {
   "cell_type": "code",
   "execution_count": 4,
   "metadata": {
    "ExecuteTime": {
     "end_time": "2020-03-09T17:55:30.942921Z",
     "start_time": "2020-03-09T17:55:28.639500Z"
    }
   },
   "outputs": [],
   "source": [
    "bml = BodyMeasuresLoader()\n",
    "body_meas = bml.get_data().df"
   ]
  },
  {
   "cell_type": "code",
   "execution_count": 5,
   "metadata": {
    "ExecuteTime": {
     "end_time": "2020-03-09T17:55:41.895877Z",
     "start_time": "2020-03-09T17:55:38.608832Z"
    }
   },
   "outputs": [],
   "source": [
    "btl = BloodTestsLoader()\n",
    "blood_tests = btl.get_data().df"
   ]
  },
  {
   "cell_type": "code",
   "execution_count": 5,
   "metadata": {
    "ExecuteTime": {
     "end_time": "2020-03-09T11:19:11.784074Z",
     "start_time": "2020-03-09T11:19:11.741236Z"
    }
   },
   "outputs": [
    {
     "data": {
      "text/html": [
       "<div>\n",
       "<style scoped>\n",
       "    .dataframe tbody tr th:only-of-type {\n",
       "        vertical-align: middle;\n",
       "    }\n",
       "\n",
       "    .dataframe tbody tr th {\n",
       "        vertical-align: top;\n",
       "    }\n",
       "\n",
       "    .dataframe thead th {\n",
       "        text-align: right;\n",
       "    }\n",
       "</style>\n",
       "<table border=\"1\" class=\"dataframe\">\n",
       "  <thead>\n",
       "    <tr style=\"text-align: right;\">\n",
       "      <th></th>\n",
       "      <th></th>\n",
       "      <th>StudyTypeID</th>\n",
       "      <th>city</th>\n",
       "      <th>country</th>\n",
       "      <th>gender</th>\n",
       "      <th>us_state</th>\n",
       "      <th>yob</th>\n",
       "      <th>StudyTypeID2</th>\n",
       "      <th>StudyTypeID3</th>\n",
       "      <th>age</th>\n",
       "    </tr>\n",
       "    <tr>\n",
       "      <th>RegistrationCode</th>\n",
       "      <th>Date</th>\n",
       "      <th></th>\n",
       "      <th></th>\n",
       "      <th></th>\n",
       "      <th></th>\n",
       "      <th></th>\n",
       "      <th></th>\n",
       "      <th></th>\n",
       "      <th></th>\n",
       "      <th></th>\n",
       "    </tr>\n",
       "  </thead>\n",
       "  <tbody>\n",
       "    <tr>\n",
       "      <th>111527</th>\n",
       "      <th>2017-10-05 09:04:27+03:00</th>\n",
       "      <td>3</td>\n",
       "      <td>None</td>\n",
       "      <td>IL</td>\n",
       "      <td>0.0</td>\n",
       "      <td>None</td>\n",
       "      <td>1971.0</td>\n",
       "      <td>NaN</td>\n",
       "      <td>NaN</td>\n",
       "      <td>48.0</td>\n",
       "    </tr>\n",
       "    <tr>\n",
       "      <th>117111</th>\n",
       "      <th>2018-02-13 22:55:37+02:00</th>\n",
       "      <td>3</td>\n",
       "      <td>None</td>\n",
       "      <td>IL</td>\n",
       "      <td>1.0</td>\n",
       "      <td>None</td>\n",
       "      <td>1971.0</td>\n",
       "      <td>NaN</td>\n",
       "      <td>NaN</td>\n",
       "      <td>48.0</td>\n",
       "    </tr>\n",
       "    <tr>\n",
       "      <th>126092</th>\n",
       "      <th>2018-07-08 12:17:18+03:00</th>\n",
       "      <td>3</td>\n",
       "      <td>None</td>\n",
       "      <td>IL</td>\n",
       "      <td>0.0</td>\n",
       "      <td>None</td>\n",
       "      <td>1962.0</td>\n",
       "      <td>NaN</td>\n",
       "      <td>NaN</td>\n",
       "      <td>57.0</td>\n",
       "    </tr>\n",
       "    <tr>\n",
       "      <th>12752</th>\n",
       "      <th>2018-07-11 18:27:38+03:00</th>\n",
       "      <td>3</td>\n",
       "      <td>None</td>\n",
       "      <td>IL</td>\n",
       "      <td>1.0</td>\n",
       "      <td>None</td>\n",
       "      <td>1962.0</td>\n",
       "      <td>NaN</td>\n",
       "      <td>NaN</td>\n",
       "      <td>57.0</td>\n",
       "    </tr>\n",
       "    <tr>\n",
       "      <th>128811</th>\n",
       "      <th>2017-10-22 09:03:50+03:00</th>\n",
       "      <td>3</td>\n",
       "      <td>None</td>\n",
       "      <td>IL</td>\n",
       "      <td>1.0</td>\n",
       "      <td>None</td>\n",
       "      <td>1971.0</td>\n",
       "      <td>NaN</td>\n",
       "      <td>NaN</td>\n",
       "      <td>48.0</td>\n",
       "    </tr>\n",
       "  </tbody>\n",
       "</table>\n",
       "</div>"
      ],
      "text/plain": [
       "                                           StudyTypeID  city  ... StudyTypeID3   age\n",
       "RegistrationCode Date                                         ...                   \n",
       "111527           2017-10-05 09:04:27+03:00           3  None  ...          NaN  48.0\n",
       "117111           2018-02-13 22:55:37+02:00           3  None  ...          NaN  48.0\n",
       "126092           2018-07-08 12:17:18+03:00           3  None  ...          NaN  57.0\n",
       "12752            2018-07-11 18:27:38+03:00           3  None  ...          NaN  57.0\n",
       "128811           2017-10-22 09:03:50+03:00           3  None  ...          NaN  48.0\n",
       "\n",
       "[5 rows x 9 columns]"
      ]
     },
     "execution_count": 5,
     "metadata": {},
     "output_type": "execute_result"
    }
   ],
   "source": [
    "participants.head()"
   ]
  },
  {
   "cell_type": "code",
   "execution_count": 6,
   "metadata": {
    "ExecuteTime": {
     "end_time": "2020-03-09T12:45:44.146523Z",
     "start_time": "2020-03-09T12:45:44.134715Z"
    }
   },
   "outputs": [
    {
     "data": {
      "text/plain": [
       "248"
      ]
     },
     "execution_count": 6,
     "metadata": {},
     "output_type": "execute_result"
    }
   ],
   "source": [
    "participants.reset_index('Date').index.nunique()"
   ]
  },
  {
   "cell_type": "code",
   "execution_count": null,
   "metadata": {},
   "outputs": [],
   "source": []
  }
 ],
 "metadata": {
  "kernelspec": {
   "display_name": "Python 3",
   "language": "python",
   "name": "python3"
  },
  "language_info": {
   "codemirror_mode": {
    "name": "ipython",
    "version": 3
   },
   "file_extension": ".py",
   "mimetype": "text/x-python",
   "name": "python",
   "nbconvert_exporter": "python",
   "pygments_lexer": "ipython3",
   "version": "3.7.5"
  },
  "toc": {
   "base_numbering": 1,
   "nav_menu": {},
   "number_sections": true,
   "sideBar": true,
   "skip_h1_title": false,
   "title_cell": "Table of Contents",
   "title_sidebar": "Contents",
   "toc_cell": false,
   "toc_position": {},
   "toc_section_display": true,
   "toc_window_display": true
  },
  "varInspector": {
   "cols": {
    "lenName": 16,
    "lenType": 16,
    "lenVar": 40
   },
   "kernels_config": {
    "python": {
     "delete_cmd_postfix": "",
     "delete_cmd_prefix": "del ",
     "library": "var_list.py",
     "varRefreshCmd": "print(var_dic_list())"
    },
    "r": {
     "delete_cmd_postfix": ") ",
     "delete_cmd_prefix": "rm(",
     "library": "var_list.r",
     "varRefreshCmd": "cat(var_dic_list()) "
    }
   },
   "types_to_exclude": [
    "module",
    "function",
    "builtin_function_or_method",
    "instance",
    "_Feature"
   ],
   "window_display": false
  }
 },
 "nbformat": 4,
 "nbformat_minor": 2
}
