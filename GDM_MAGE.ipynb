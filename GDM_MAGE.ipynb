{
 "cells": [
  {
   "cell_type": "code",
   "execution_count": 2,
   "metadata": {},
   "outputs": [],
   "source": [
    "import pandas as pd\n",
    "import numpy as np"
   ]
  },
  {
   "cell_type": "code",
   "execution_count": 3,
   "metadata": {},
   "outputs": [],
   "source": [
    "import LabData\n",
    "from LabData.DataLoaders.Loader import Loader"
   ]
  },
  {
   "cell_type": "code",
   "execution_count": 4,
   "metadata": {},
   "outputs": [],
   "source": [
    "cgmLoader = Loader.get_loader(\"CGMLoader\")"
   ]
  },
  {
   "cell_type": "code",
   "execution_count": 5,
   "metadata": {},
   "outputs": [],
   "source": [
    "cgm = cgmLoader.get_data()"
   ]
  },
  {
   "cell_type": "code",
   "execution_count": 6,
   "metadata": {},
   "outputs": [],
   "source": [
    "cgm_df = cgm.df"
   ]
  },
  {
   "cell_type": "code",
   "execution_count": 7,
   "metadata": {},
   "outputs": [],
   "source": [
    "cgm_df.reset_index(inplace=True)"
   ]
  },
  {
   "cell_type": "code",
   "execution_count": 31,
   "metadata": {
    "scrolled": true
   },
   "outputs": [],
   "source": [
    "gdm_df = pd.read_csv('/home/elming/Downloads/GDM_michal.csv')"
   ]
  },
  {
   "cell_type": "code",
   "execution_count": 10,
   "metadata": {
    "scrolled": true
   },
   "outputs": [
    {
     "data": {
      "text/html": [
       "<div>\n",
       "<style scoped>\n",
       "    .dataframe tbody tr th:only-of-type {\n",
       "        vertical-align: middle;\n",
       "    }\n",
       "\n",
       "    .dataframe tbody tr th {\n",
       "        vertical-align: top;\n",
       "    }\n",
       "\n",
       "    .dataframe thead th {\n",
       "        text-align: right;\n",
       "    }\n",
       "</style>\n",
       "<table border=\"1\" class=\"dataframe\">\n",
       "  <thead>\n",
       "    <tr style=\"text-align: right;\">\n",
       "      <th></th>\n",
       "      <th>clock</th>\n",
       "      <th>RegistrationCode</th>\n",
       "      <th>Name</th>\n",
       "      <th>Round</th>\n",
       "      <th>Due Date</th>\n",
       "      <th>profiling</th>\n",
       "      <th>T=0</th>\n",
       "      <th>2w</th>\n",
       "      <th>1m</th>\n",
       "      <th>2m</th>\n",
       "      <th>3m</th>\n",
       "      <th>labour date</th>\n",
       "      <th>6w al</th>\n",
       "      <th>3m al</th>\n",
       "      <th>6m al</th>\n",
       "      <th>12m al</th>\n",
       "      <th>Dropout reason</th>\n",
       "    </tr>\n",
       "  </thead>\n",
       "  <tbody>\n",
       "    <tr>\n",
       "      <th>0</th>\n",
       "      <td>3/12/2017</td>\n",
       "      <td>859116.0</td>\n",
       "      <td>שי הובר</td>\n",
       "      <td>1.0</td>\n",
       "      <td>NaN</td>\n",
       "      <td>V</td>\n",
       "      <td>10/7/2017</td>\n",
       "      <td>V</td>\n",
       "      <td>V</td>\n",
       "      <td>NaN</td>\n",
       "      <td>NaN</td>\n",
       "      <td>29/8/2017</td>\n",
       "      <td>V</td>\n",
       "      <td>V</td>\n",
       "      <td>V</td>\n",
       "      <td>NaN</td>\n",
       "      <td>NaN</td>\n",
       "    </tr>\n",
       "    <tr>\n",
       "      <th>1</th>\n",
       "      <td>NaN</td>\n",
       "      <td>64229.0</td>\n",
       "      <td>נטע פורה</td>\n",
       "      <td>2.0</td>\n",
       "      <td>NaN</td>\n",
       "      <td>V</td>\n",
       "      <td>28/9/2017</td>\n",
       "      <td>V</td>\n",
       "      <td>V</td>\n",
       "      <td>NaN</td>\n",
       "      <td>NaN</td>\n",
       "      <td>10/11/2017</td>\n",
       "      <td>NaN</td>\n",
       "      <td>V</td>\n",
       "      <td>NaN</td>\n",
       "      <td>29.11</td>\n",
       "      <td>NaN</td>\n",
       "    </tr>\n",
       "    <tr>\n",
       "      <th>2</th>\n",
       "      <td>NaN</td>\n",
       "      <td>637617.0</td>\n",
       "      <td>שרית קול</td>\n",
       "      <td>2.0</td>\n",
       "      <td>NaN</td>\n",
       "      <td>V</td>\n",
       "      <td>28/9/2017</td>\n",
       "      <td>V</td>\n",
       "      <td>V</td>\n",
       "      <td>NaN</td>\n",
       "      <td>NaN</td>\n",
       "      <td>16/11/2017</td>\n",
       "      <td>NaN</td>\n",
       "      <td>V</td>\n",
       "      <td>NaN</td>\n",
       "      <td>NaN</td>\n",
       "      <td>NaN</td>\n",
       "    </tr>\n",
       "    <tr>\n",
       "      <th>3</th>\n",
       "      <td>NaN</td>\n",
       "      <td>757248.0</td>\n",
       "      <td>אטי תל כץ</td>\n",
       "      <td>2.0</td>\n",
       "      <td>NaN</td>\n",
       "      <td>V</td>\n",
       "      <td>28/9/2017</td>\n",
       "      <td>V</td>\n",
       "      <td>V</td>\n",
       "      <td>V</td>\n",
       "      <td>NaN</td>\n",
       "      <td>16/11/2017</td>\n",
       "      <td>NaN</td>\n",
       "      <td>V</td>\n",
       "      <td>V</td>\n",
       "      <td>3.10</td>\n",
       "      <td>NaN</td>\n",
       "    </tr>\n",
       "    <tr>\n",
       "      <th>4</th>\n",
       "      <td>NaN</td>\n",
       "      <td>670055.0</td>\n",
       "      <td>נעמה שחר</td>\n",
       "      <td>3.0</td>\n",
       "      <td>29/12/2017</td>\n",
       "      <td>V</td>\n",
       "      <td>18/10/2017</td>\n",
       "      <td>V</td>\n",
       "      <td>V</td>\n",
       "      <td>V</td>\n",
       "      <td>NaN</td>\n",
       "      <td>20/12/2017</td>\n",
       "      <td>NaN</td>\n",
       "      <td>V</td>\n",
       "      <td>V</td>\n",
       "      <td>NaN</td>\n",
       "      <td>NaN</td>\n",
       "    </tr>\n",
       "  </tbody>\n",
       "</table>\n",
       "</div>"
      ],
      "text/plain": [
       "       clock  RegistrationCode       Name  Round    Due Date profiling  \\\n",
       "0  3/12/2017          859116.0    שי הובר    1.0         NaN         V   \n",
       "1        NaN           64229.0   נטע פורה    2.0         NaN         V   \n",
       "2        NaN          637617.0   שרית קול    2.0         NaN         V   \n",
       "3        NaN          757248.0  אטי תל כץ    2.0         NaN         V   \n",
       "4        NaN          670055.0   נעמה שחר    3.0  29/12/2017         V   \n",
       "\n",
       "          T=0 2w 1m   2m  3m labour date 6w al 3m al 6m al  12m al  \\\n",
       "0   10/7/2017  V  V  NaN NaN   29/8/2017     V     V     V     NaN   \n",
       "1   28/9/2017  V  V  NaN NaN  10/11/2017   NaN     V   NaN   29.11   \n",
       "2   28/9/2017  V  V  NaN NaN  16/11/2017   NaN     V   NaN     NaN   \n",
       "3   28/9/2017  V  V    V NaN  16/11/2017   NaN     V     V    3.10   \n",
       "4  18/10/2017  V  V    V NaN  20/12/2017   NaN     V     V     NaN   \n",
       "\n",
       "  Dropout reason  \n",
       "0            NaN  \n",
       "1            NaN  \n",
       "2            NaN  \n",
       "3            NaN  \n",
       "4            NaN  "
      ]
     },
     "execution_count": 10,
     "metadata": {},
     "output_type": "execute_result"
    }
   ],
   "source": [
    "gdm_df"
   ]
  },
  {
   "cell_type": "code",
   "execution_count": 9,
   "metadata": {},
   "outputs": [],
   "source": [
    "gdm_df['RegistrationCode'] = gdm_df['RegistrationCode'].astype(str)"
   ]
  },
  {
   "cell_type": "code",
   "execution_count": 10,
   "metadata": {},
   "outputs": [],
   "source": [
    "gdm_dict = gdm_df.set_index('RegistrationCode').to_dict()['alloc']"
   ]
  },
  {
   "cell_type": "code",
   "execution_count": 11,
   "metadata": {},
   "outputs": [
    {
     "data": {
      "text/plain": [
       "dict_keys(['2972055', '859116', '64229', '637617', '757248', '670055', '162064', '675329', '813087', '260199', '292486', '999443', '986640', '517738', '521161', '262895', '30398', '394858', '485966', '471439', '909576', '405661', '531067', '511664'])"
      ]
     },
     "execution_count": 11,
     "metadata": {},
     "output_type": "execute_result"
    }
   ],
   "source": [
    "gdm_dict.keys()"
   ]
  },
  {
   "cell_type": "code",
   "execution_count": 25,
   "metadata": {},
   "outputs": [],
   "source": [
    "alloc1_rc_list = []\n",
    "for rc in gdm_dict.keys():\n",
    "    if gdm_dict[rc] == 1:\n",
    "        alloc1_rc_list.append(rc)"
   ]
  },
  {
   "cell_type": "code",
   "execution_count": 26,
   "metadata": {},
   "outputs": [
    {
     "data": {
      "text/plain": [
       "['2972055',\n",
       " '859116',\n",
       " '64229',\n",
       " '637617',\n",
       " '757248',\n",
       " '292486',\n",
       " '999443',\n",
       " '986640',\n",
       " '394858',\n",
       " '909576',\n",
       " '511664']"
      ]
     },
     "execution_count": 26,
     "metadata": {},
     "output_type": "execute_result"
    }
   ],
   "source": [
    "alloc1_rc_list"
   ]
  },
  {
   "cell_type": "code",
   "execution_count": 12,
   "metadata": {
    "scrolled": true
   },
   "outputs": [],
   "source": [
    "cgm_filtered = cgm_df[cgm_df['RegistrationCode'].isin(gdm_dict.keys())]"
   ]
  },
  {
   "cell_type": "code",
   "execution_count": 13,
   "metadata": {},
   "outputs": [],
   "source": [
    "cgm_filtered = cgm_filtered.set_index(['RegistrationCode', 'ConnectionID', 'Date'])"
   ]
  },
  {
   "cell_type": "code",
   "execution_count": 16,
   "metadata": {},
   "outputs": [],
   "source": [
    "mage_df = cgmLoader.calculate_mage(cgm_filtered)"
   ]
  },
  {
   "cell_type": "code",
   "execution_count": 86,
   "metadata": {
    "scrolled": true
   },
   "outputs": [
    {
     "data": {
      "text/plain": [
       "1632"
      ]
     },
     "execution_count": 86,
     "metadata": {},
     "output_type": "execute_result"
    }
   ],
   "source": [
    "len(mage_df.date)"
   ]
  },
  {
   "cell_type": "code",
   "execution_count": 29,
   "metadata": {},
   "outputs": [],
   "source": [
    "mage_df['alloc'] = 0"
   ]
  },
  {
   "cell_type": "code",
   "execution_count": 30,
   "metadata": {},
   "outputs": [],
   "source": [
    "mage_df.loc[mage_df['RegistrationCode'].isin(alloc1_rc_list), 'alloc'] = 1"
   ]
  },
  {
   "cell_type": "code",
   "execution_count": 31,
   "metadata": {},
   "outputs": [],
   "source": [
    "mean_mage = mage_df.groupby(['RegistrationCode'], as_index=False)['mage','hmage','lmage'].agg('mean')"
   ]
  },
  {
   "cell_type": "code",
   "execution_count": 33,
   "metadata": {},
   "outputs": [],
   "source": [
    "mean_mage['alloc'] = 0"
   ]
  },
  {
   "cell_type": "code",
   "execution_count": 34,
   "metadata": {},
   "outputs": [],
   "source": [
    "mean_mage.loc[mean_mage['RegistrationCode'].isin(alloc1_rc_list), 'alloc'] = 1"
   ]
  },
  {
   "cell_type": "code",
   "execution_count": 35,
   "metadata": {},
   "outputs": [
    {
     "data": {
      "text/html": [
       "<div>\n",
       "<style scoped>\n",
       "    .dataframe tbody tr th:only-of-type {\n",
       "        vertical-align: middle;\n",
       "    }\n",
       "\n",
       "    .dataframe tbody tr th {\n",
       "        vertical-align: top;\n",
       "    }\n",
       "\n",
       "    .dataframe thead th {\n",
       "        text-align: right;\n",
       "    }\n",
       "</style>\n",
       "<table border=\"1\" class=\"dataframe\">\n",
       "  <thead>\n",
       "    <tr style=\"text-align: right;\">\n",
       "      <th></th>\n",
       "      <th>RegistrationCode</th>\n",
       "      <th>mage</th>\n",
       "      <th>hmage</th>\n",
       "      <th>lmage</th>\n",
       "      <th>alloc</th>\n",
       "    </tr>\n",
       "  </thead>\n",
       "  <tbody>\n",
       "    <tr>\n",
       "      <th>0</th>\n",
       "      <td>162064</td>\n",
       "      <td>26.888333</td>\n",
       "      <td>23.583333</td>\n",
       "      <td>30.191667</td>\n",
       "      <td>0</td>\n",
       "    </tr>\n",
       "    <tr>\n",
       "      <th>1</th>\n",
       "      <td>260199</td>\n",
       "      <td>17.099231</td>\n",
       "      <td>16.550000</td>\n",
       "      <td>17.646923</td>\n",
       "      <td>0</td>\n",
       "    </tr>\n",
       "    <tr>\n",
       "      <th>2</th>\n",
       "      <td>262895</td>\n",
       "      <td>21.210909</td>\n",
       "      <td>11.379091</td>\n",
       "      <td>31.043636</td>\n",
       "      <td>0</td>\n",
       "    </tr>\n",
       "    <tr>\n",
       "      <th>3</th>\n",
       "      <td>292486</td>\n",
       "      <td>15.357308</td>\n",
       "      <td>11.615962</td>\n",
       "      <td>19.099231</td>\n",
       "      <td>1</td>\n",
       "    </tr>\n",
       "    <tr>\n",
       "      <th>4</th>\n",
       "      <td>2972055</td>\n",
       "      <td>25.645357</td>\n",
       "      <td>21.384643</td>\n",
       "      <td>29.905000</td>\n",
       "      <td>1</td>\n",
       "    </tr>\n",
       "    <tr>\n",
       "      <th>5</th>\n",
       "      <td>30398</td>\n",
       "      <td>13.404091</td>\n",
       "      <td>10.363182</td>\n",
       "      <td>16.444773</td>\n",
       "      <td>0</td>\n",
       "    </tr>\n",
       "    <tr>\n",
       "      <th>6</th>\n",
       "      <td>394858</td>\n",
       "      <td>16.268738</td>\n",
       "      <td>12.639709</td>\n",
       "      <td>19.897184</td>\n",
       "      <td>1</td>\n",
       "    </tr>\n",
       "    <tr>\n",
       "      <th>7</th>\n",
       "      <td>405661</td>\n",
       "      <td>16.512759</td>\n",
       "      <td>13.879655</td>\n",
       "      <td>19.145000</td>\n",
       "      <td>0</td>\n",
       "    </tr>\n",
       "    <tr>\n",
       "      <th>8</th>\n",
       "      <td>471439</td>\n",
       "      <td>15.981818</td>\n",
       "      <td>9.373068</td>\n",
       "      <td>22.591136</td>\n",
       "      <td>0</td>\n",
       "    </tr>\n",
       "    <tr>\n",
       "      <th>9</th>\n",
       "      <td>485966</td>\n",
       "      <td>17.236114</td>\n",
       "      <td>13.786493</td>\n",
       "      <td>20.685972</td>\n",
       "      <td>0</td>\n",
       "    </tr>\n",
       "    <tr>\n",
       "      <th>10</th>\n",
       "      <td>511664</td>\n",
       "      <td>14.686053</td>\n",
       "      <td>13.240921</td>\n",
       "      <td>16.131316</td>\n",
       "      <td>1</td>\n",
       "    </tr>\n",
       "    <tr>\n",
       "      <th>11</th>\n",
       "      <td>517738</td>\n",
       "      <td>15.219231</td>\n",
       "      <td>14.489744</td>\n",
       "      <td>15.948974</td>\n",
       "      <td>0</td>\n",
       "    </tr>\n",
       "    <tr>\n",
       "      <th>12</th>\n",
       "      <td>521161</td>\n",
       "      <td>15.007474</td>\n",
       "      <td>11.291474</td>\n",
       "      <td>18.722947</td>\n",
       "      <td>0</td>\n",
       "    </tr>\n",
       "    <tr>\n",
       "      <th>13</th>\n",
       "      <td>531067</td>\n",
       "      <td>10.780933</td>\n",
       "      <td>8.527867</td>\n",
       "      <td>13.033867</td>\n",
       "      <td>0</td>\n",
       "    </tr>\n",
       "    <tr>\n",
       "      <th>14</th>\n",
       "      <td>637617</td>\n",
       "      <td>15.136769</td>\n",
       "      <td>9.637385</td>\n",
       "      <td>20.635846</td>\n",
       "      <td>1</td>\n",
       "    </tr>\n",
       "    <tr>\n",
       "      <th>15</th>\n",
       "      <td>64229</td>\n",
       "      <td>14.138750</td>\n",
       "      <td>12.182500</td>\n",
       "      <td>16.094896</td>\n",
       "      <td>1</td>\n",
       "    </tr>\n",
       "    <tr>\n",
       "      <th>16</th>\n",
       "      <td>670055</td>\n",
       "      <td>17.283784</td>\n",
       "      <td>13.843243</td>\n",
       "      <td>20.724595</td>\n",
       "      <td>0</td>\n",
       "    </tr>\n",
       "    <tr>\n",
       "      <th>17</th>\n",
       "      <td>675329</td>\n",
       "      <td>15.926250</td>\n",
       "      <td>11.585000</td>\n",
       "      <td>20.268250</td>\n",
       "      <td>0</td>\n",
       "    </tr>\n",
       "    <tr>\n",
       "      <th>18</th>\n",
       "      <td>757248</td>\n",
       "      <td>16.198729</td>\n",
       "      <td>12.726695</td>\n",
       "      <td>19.670254</td>\n",
       "      <td>1</td>\n",
       "    </tr>\n",
       "    <tr>\n",
       "      <th>19</th>\n",
       "      <td>813087</td>\n",
       "      <td>14.905000</td>\n",
       "      <td>12.327857</td>\n",
       "      <td>17.480714</td>\n",
       "      <td>0</td>\n",
       "    </tr>\n",
       "    <tr>\n",
       "      <th>20</th>\n",
       "      <td>859116</td>\n",
       "      <td>11.117374</td>\n",
       "      <td>9.981111</td>\n",
       "      <td>12.254343</td>\n",
       "      <td>1</td>\n",
       "    </tr>\n",
       "    <tr>\n",
       "      <th>21</th>\n",
       "      <td>909576</td>\n",
       "      <td>13.178462</td>\n",
       "      <td>8.786923</td>\n",
       "      <td>17.569077</td>\n",
       "      <td>1</td>\n",
       "    </tr>\n",
       "    <tr>\n",
       "      <th>22</th>\n",
       "      <td>986640</td>\n",
       "      <td>15.332841</td>\n",
       "      <td>11.780795</td>\n",
       "      <td>18.884886</td>\n",
       "      <td>1</td>\n",
       "    </tr>\n",
       "    <tr>\n",
       "      <th>23</th>\n",
       "      <td>999443</td>\n",
       "      <td>18.977973</td>\n",
       "      <td>15.151622</td>\n",
       "      <td>22.804189</td>\n",
       "      <td>1</td>\n",
       "    </tr>\n",
       "  </tbody>\n",
       "</table>\n",
       "</div>"
      ],
      "text/plain": [
       "   RegistrationCode       mage      hmage      lmage  alloc\n",
       "0            162064  26.888333  23.583333  30.191667      0\n",
       "1            260199  17.099231  16.550000  17.646923      0\n",
       "2            262895  21.210909  11.379091  31.043636      0\n",
       "3            292486  15.357308  11.615962  19.099231      1\n",
       "4           2972055  25.645357  21.384643  29.905000      1\n",
       "5             30398  13.404091  10.363182  16.444773      0\n",
       "6            394858  16.268738  12.639709  19.897184      1\n",
       "7            405661  16.512759  13.879655  19.145000      0\n",
       "8            471439  15.981818   9.373068  22.591136      0\n",
       "9            485966  17.236114  13.786493  20.685972      0\n",
       "10           511664  14.686053  13.240921  16.131316      1\n",
       "11           517738  15.219231  14.489744  15.948974      0\n",
       "12           521161  15.007474  11.291474  18.722947      0\n",
       "13           531067  10.780933   8.527867  13.033867      0\n",
       "14           637617  15.136769   9.637385  20.635846      1\n",
       "15            64229  14.138750  12.182500  16.094896      1\n",
       "16           670055  17.283784  13.843243  20.724595      0\n",
       "17           675329  15.926250  11.585000  20.268250      0\n",
       "18           757248  16.198729  12.726695  19.670254      1\n",
       "19           813087  14.905000  12.327857  17.480714      0\n",
       "20           859116  11.117374   9.981111  12.254343      1\n",
       "21           909576  13.178462   8.786923  17.569077      1\n",
       "22           986640  15.332841  11.780795  18.884886      1\n",
       "23           999443  18.977973  15.151622  22.804189      1"
      ]
     },
     "execution_count": 35,
     "metadata": {},
     "output_type": "execute_result"
    }
   ],
   "source": [
    "mean_mage"
   ]
  },
  {
   "cell_type": "code",
   "execution_count": 38,
   "metadata": {},
   "outputs": [],
   "source": [
    "import matplotlib.pyplot as plt\n",
    "%matplotlib inline"
   ]
  },
  {
   "cell_type": "code",
   "execution_count": 61,
   "metadata": {},
   "outputs": [
    {
     "data": {
      "image/png": "[encoded data removed]",
      "text/plain": [
       "<Figure size 432x432 with 2 Axes>"
      ]
     },
     "metadata": {
      "needs_background": "light"
     },
     "output_type": "display_data"
    }
   ],
   "source": [
    "hist = mage_df.hist(column='mage', by = 'alloc', bins=15, sharey=True, layout = (2, 1), figsize=(6,6))\n",
    "\n",
    "for ax in hist.flatten():\n",
    "    ax.set_xlabel(\"mage\")\n",
    "    ax.set_ylabel(\"#days\")\n"
   ]
  },
  {
   "cell_type": "code",
   "execution_count": 64,
   "metadata": {},
   "outputs": [
    {
     "data": {
      "image/png": "[encoded data removed]",
      "text/plain": [
       "<Figure size 432x432 with 2 Axes>"
      ]
     },
     "metadata": {
      "needs_background": "light"
     },
     "output_type": "display_data"
    }
   ],
   "source": [
    "hist = mage_df.hist(column='hmage', by = 'alloc', bins=15, sharey=True, layout = (2, 1), figsize=(6,6))\n",
    "\n",
    "for ax in hist.flatten():\n",
    "    ax.set_xlabel(\"mage\")\n",
    "    ax.set_ylabel(\"#days\")"
   ]
  },
  {
   "cell_type": "code",
   "execution_count": 85,
   "metadata": {},
   "outputs": [
    {
     "data": {
      "text/plain": [
       "Text(0, 0.5, 'mage')"
      ]
     },
     "execution_count": 85,
     "metadata": {},
     "output_type": "execute_result"
    },
    {
     "data": {
      "image/png": "[encoded data removed]",
      "text/plain": [
       "<Figure size 576x576 with 1 Axes>"
      ]
     },
     "metadata": {
      "needs_background": "light"
     },
     "output_type": "display_data"
    }
   ],
   "source": [
    "boxplot = mage_df.boxplot(column='mage', by='alloc', figsize=(8,8))\n",
    "boxplot.set_ylabel('mage')"
   ]
  },
  {
   "cell_type": "code",
   "execution_count": 69,
   "metadata": {},
   "outputs": [],
   "source": [
    "from scipy import stats"
   ]
  },
  {
   "cell_type": "code",
   "execution_count": 83,
   "metadata": {},
   "outputs": [],
   "source": [
    "control = np.array(mage_df.loc[mage_df['alloc'] == 0]['mage'])\n",
    "main = np.array(mage_df.loc[mage_df['alloc'] == 1]['mage'])"
   ]
  },
  {
   "cell_type": "code",
   "execution_count": 84,
   "metadata": {},
   "outputs": [
    {
     "data": {
      "text/plain": [
       "Ttest_indResult(statistic=1.166132877018877, pvalue=0.24373132047888377)"
      ]
     },
     "execution_count": 84,
     "metadata": {},
     "output_type": "execute_result"
    }
   ],
   "source": [
    "stats.ttest_ind(control, main)"
   ]
  },
  {
   "cell_type": "markdown",
   "metadata": {},
   "source": [
    "## Heatmap on GDM mage for the time before labour date"
   ]
  },
  {
   "cell_type": "code",
   "execution_count": 38,
   "metadata": {},
   "outputs": [],
   "source": [
    "gdm_df.dropna(subset=['labour date'], inplace=True)"
   ]
  },
  {
   "cell_type": "code",
   "execution_count": 39,
   "metadata": {},
   "outputs": [],
   "source": [
    "gdm_df['labour date'] = pd.to_datetime(gdm_df['labour date'])"
   ]
  },
  {
   "cell_type": "code",
   "execution_count": 20,
   "metadata": {},
   "outputs": [
    {
     "data": {
      "text/html": [
       "<div>\n",
       "<style scoped>\n",
       "    .dataframe tbody tr th:only-of-type {\n",
       "        vertical-align: middle;\n",
       "    }\n",
       "\n",
       "    .dataframe tbody tr th {\n",
       "        vertical-align: top;\n",
       "    }\n",
       "\n",
       "    .dataframe thead th {\n",
       "        text-align: right;\n",
       "    }\n",
       "</style>\n",
       "<table border=\"1\" class=\"dataframe\">\n",
       "  <thead>\n",
       "    <tr style=\"text-align: right;\">\n",
       "      <th></th>\n",
       "      <th>RegistrationCode</th>\n",
       "      <th>ConnectionID</th>\n",
       "      <th>Date</th>\n",
       "      <th>GlucoseValue</th>\n",
       "      <th>PPGR</th>\n",
       "    </tr>\n",
       "  </thead>\n",
       "  <tbody>\n",
       "    <tr>\n",
       "      <th>0</th>\n",
       "      <td>-1</td>\n",
       "      <td>1</td>\n",
       "      <td>2013-01-21 14:20:50+02:00</td>\n",
       "      <td>88.0</td>\n",
       "      <td>0.000000</td>\n",
       "    </tr>\n",
       "    <tr>\n",
       "      <th>1</th>\n",
       "      <td>-1</td>\n",
       "      <td>1</td>\n",
       "      <td>2013-01-21 14:25:50+02:00</td>\n",
       "      <td>89.0</td>\n",
       "      <td>0.000000</td>\n",
       "    </tr>\n",
       "    <tr>\n",
       "      <th>2</th>\n",
       "      <td>-1</td>\n",
       "      <td>1</td>\n",
       "      <td>2013-01-21 14:30:50+02:00</td>\n",
       "      <td>87.0</td>\n",
       "      <td>0.000000</td>\n",
       "    </tr>\n",
       "    <tr>\n",
       "      <th>3</th>\n",
       "      <td>-1</td>\n",
       "      <td>1</td>\n",
       "      <td>2013-01-21 14:35:50+02:00</td>\n",
       "      <td>85.0</td>\n",
       "      <td>0.000000</td>\n",
       "    </tr>\n",
       "    <tr>\n",
       "      <th>4</th>\n",
       "      <td>-1</td>\n",
       "      <td>1</td>\n",
       "      <td>2013-01-21 14:40:50+02:00</td>\n",
       "      <td>84.0</td>\n",
       "      <td>2.583333</td>\n",
       "    </tr>\n",
       "    <tr>\n",
       "      <th>...</th>\n",
       "      <td>...</td>\n",
       "      <td>...</td>\n",
       "      <td>...</td>\n",
       "      <td>...</td>\n",
       "      <td>...</td>\n",
       "    </tr>\n",
       "    <tr>\n",
       "      <th>7974197</th>\n",
       "      <td>9999</td>\n",
       "      <td>27</td>\n",
       "      <td>2013-02-09 19:37:29+02:00</td>\n",
       "      <td>75.0</td>\n",
       "      <td>NaN</td>\n",
       "    </tr>\n",
       "    <tr>\n",
       "      <th>7974198</th>\n",
       "      <td>9999</td>\n",
       "      <td>27</td>\n",
       "      <td>2013-02-09 19:42:29+02:00</td>\n",
       "      <td>77.0</td>\n",
       "      <td>NaN</td>\n",
       "    </tr>\n",
       "    <tr>\n",
       "      <th>7974199</th>\n",
       "      <td>9999</td>\n",
       "      <td>27</td>\n",
       "      <td>2013-02-09 19:47:29+02:00</td>\n",
       "      <td>80.0</td>\n",
       "      <td>NaN</td>\n",
       "    </tr>\n",
       "    <tr>\n",
       "      <th>7974200</th>\n",
       "      <td>9999</td>\n",
       "      <td>27</td>\n",
       "      <td>2013-02-09 19:52:29+02:00</td>\n",
       "      <td>84.0</td>\n",
       "      <td>NaN</td>\n",
       "    </tr>\n",
       "    <tr>\n",
       "      <th>7974201</th>\n",
       "      <td>9999</td>\n",
       "      <td>27</td>\n",
       "      <td>2013-02-09 19:57:29+02:00</td>\n",
       "      <td>87.0</td>\n",
       "      <td>NaN</td>\n",
       "    </tr>\n",
       "  </tbody>\n",
       "</table>\n",
       "<p>7974202 rows × 5 columns</p>\n",
       "</div>"
      ],
      "text/plain": [
       "        RegistrationCode ConnectionID                      Date  GlucoseValue  \\\n",
       "0                     -1            1 2013-01-21 14:20:50+02:00          88.0   \n",
       "1                     -1            1 2013-01-21 14:25:50+02:00          89.0   \n",
       "2                     -1            1 2013-01-21 14:30:50+02:00          87.0   \n",
       "3                     -1            1 2013-01-21 14:35:50+02:00          85.0   \n",
       "4                     -1            1 2013-01-21 14:40:50+02:00          84.0   \n",
       "...                  ...          ...                       ...           ...   \n",
       "7974197             9999           27 2013-02-09 19:37:29+02:00          75.0   \n",
       "7974198             9999           27 2013-02-09 19:42:29+02:00          77.0   \n",
       "7974199             9999           27 2013-02-09 19:47:29+02:00          80.0   \n",
       "7974200             9999           27 2013-02-09 19:52:29+02:00          84.0   \n",
       "7974201             9999           27 2013-02-09 19:57:29+02:00          87.0   \n",
       "\n",
       "             PPGR  \n",
       "0        0.000000  \n",
       "1        0.000000  \n",
       "2        0.000000  \n",
       "3        0.000000  \n",
       "4        2.583333  \n",
       "...           ...  \n",
       "7974197       NaN  \n",
       "7974198       NaN  \n",
       "7974199       NaN  \n",
       "7974200       NaN  \n",
       "7974201       NaN  \n",
       "\n",
       "[7974202 rows x 5 columns]"
      ]
     },
     "execution_count": 20,
     "metadata": {},
     "output_type": "execute_result"
    }
   ],
   "source": [
    "cgm_df"
   ]
  },
  {
   "cell_type": "code",
   "execution_count": 40,
   "metadata": {},
   "outputs": [
    {
     "data": {
      "text/plain": [
       "0     859116.0\n",
       "1      64229.0\n",
       "2     637617.0\n",
       "3     757248.0\n",
       "4     670055.0\n",
       "6     675329.0\n",
       "7     999443.0\n",
       "8     292486.0\n",
       "11    986640.0\n",
       "12    517738.0\n",
       "13    521161.0\n",
       "15     30398.0\n",
       "16    394858.0\n",
       "17    485966.0\n",
       "18    471439.0\n",
       "19    909576.0\n",
       "20    405661.0\n",
       "21    531067.0\n",
       "22         NaN\n",
       "Name: RegistrationCode, dtype: float64"
      ]
     },
     "execution_count": 40,
     "metadata": {},
     "output_type": "execute_result"
    }
   ],
   "source": [
    "gdm_df['RegistrationCode']"
   ]
  },
  {
   "cell_type": "code",
   "execution_count": 41,
   "metadata": {},
   "outputs": [],
   "source": [
    "gdm_dict = gdm_df.set_index('RegistrationCode').to_dict()['labour date']"
   ]
  },
  {
   "cell_type": "code",
   "execution_count": 42,
   "metadata": {
    "scrolled": true
   },
   "outputs": [
    {
     "data": {
      "text/plain": [
       "dict_keys([859116.0, 64229.0, 637617.0, 757248.0, 670055.0, 675329.0, 999443.0, 292486.0, 986640.0, 517738.0, 521161.0, 30398.0, 394858.0, 485966.0, 471439.0, 909576.0, 405661.0, 531067.0, nan])"
      ]
     },
     "execution_count": 42,
     "metadata": {},
     "output_type": "execute_result"
    }
   ],
   "source": [
    "gdm_dict.keys()"
   ]
  },
  {
   "cell_type": "code",
   "execution_count": 49,
   "metadata": {},
   "outputs": [],
   "source": [
    "rc_list = ['859116', '64229', '637617', '757248', '670055', '675329', '999443', '292486', '986640', '517738', '521161', '30398', '394858', '485966', '471439', '909576', '405661', '531067', '511664']"
   ]
  },
  {
   "cell_type": "code",
   "execution_count": 50,
   "metadata": {},
   "outputs": [],
   "source": [
    "gdm_df['RegistrationCode'] = rc_list"
   ]
  },
  {
   "cell_type": "code",
   "execution_count": 52,
   "metadata": {
    "scrolled": true
   },
   "outputs": [
    {
     "data": {
      "text/plain": [
       "0     859116\n",
       "1      64229\n",
       "2     637617\n",
       "3     757248\n",
       "4     670055\n",
       "6     675329\n",
       "7     999443\n",
       "8     292486\n",
       "11    986640\n",
       "12    517738\n",
       "13    521161\n",
       "15     30398\n",
       "16    394858\n",
       "17    485966\n",
       "18    471439\n",
       "19    909576\n",
       "20    405661\n",
       "21    531067\n",
       "22    511664\n",
       "Name: RegistrationCode, dtype: object"
      ]
     },
     "execution_count": 52,
     "metadata": {},
     "output_type": "execute_result"
    }
   ],
   "source": [
    "gdm_df['RegistrationCode']"
   ]
  },
  {
   "cell_type": "code",
   "execution_count": null,
   "metadata": {},
   "outputs": [],
   "source": []
  },
  {
   "cell_type": "code",
   "execution_count": null,
   "metadata": {},
   "outputs": [],
   "source": []
  }
 ],
 "metadata": {
  "kernelspec": {
   "display_name": "Python 3",
   "language": "python",
   "name": "python3"
  },
  "language_info": {
   "codemirror_mode": {
    "name": "ipython",
    "version": 3
   },
   "file_extension": ".py",
   "mimetype": "text/x-python",
   "name": "python",
   "nbconvert_exporter": "python",
   "pygments_lexer": "ipython3",
   "version": "3.7.5"
  }
 },
 "nbformat": 4,
 "nbformat_minor": 2
}
