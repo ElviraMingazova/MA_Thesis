{
 "cells": [
  {
   "cell_type": "markdown",
   "metadata": {},
   "source": [
    "# Get Night CGM function\n",
    "Creating a function to give me night CGM for available data"
   ]
  },
  {
   "cell_type": "code",
   "execution_count": 5,
   "metadata": {},
   "outputs": [],
   "source": [
    "from LabData.DataLoaders.CGMLoader import CGMLoader\n",
    "from LabData.DataLoaders.SleepLoader import SleepLoader"
   ]
  },
  {
   "cell_type": "code",
   "execution_count": 54,
   "metadata": {},
   "outputs": [],
   "source": [
    "import pandas as pd"
   ]
  },
  {
   "cell_type": "code",
   "execution_count": 6,
   "metadata": {},
   "outputs": [],
   "source": [
    "cgml = CGMLoader()\n",
    "sll = SleepLoader()"
   ]
  },
  {
   "cell_type": "code",
   "execution_count": 34,
   "metadata": {},
   "outputs": [],
   "source": [
    "cgmdf = cgml.get_data().df"
   ]
  },
  {
   "cell_type": "code",
   "execution_count": 9,
   "metadata": {},
   "outputs": [
    {
     "name": "stderr",
     "output_type": "stream",
     "text": [
      "/home/elming/anaconda3/envs/mylabdata/lib/python3.7/site-packages/pandas/core/indexes/base.py:183: FutureWarning: the 'labels' keyword is deprecated, use 'codes' instead\n",
      "  return cls.__new__(cls, **d)\n"
     ]
    }
   ],
   "source": [
    "sleepdf = sll.get_data().df"
   ]
  },
  {
   "cell_type": "code",
   "execution_count": 11,
   "metadata": {},
   "outputs": [],
   "source": [
    "sleepdf.reset_index('sleep_time', inplace=True)"
   ]
  },
  {
   "cell_type": "code",
   "execution_count": 46,
   "metadata": {
    "scrolled": false
   },
   "outputs": [
    {
     "data": {
      "text/html": [
       "<div>\n",
       "<style scoped>\n",
       "    .dataframe tbody tr th:only-of-type {\n",
       "        vertical-align: middle;\n",
       "    }\n",
       "\n",
       "    .dataframe tbody tr th {\n",
       "        vertical-align: top;\n",
       "    }\n",
       "\n",
       "    .dataframe thead th {\n",
       "        text-align: right;\n",
       "    }\n",
       "</style>\n",
       "<table border=\"1\" class=\"dataframe\">\n",
       "  <thead>\n",
       "    <tr style=\"text-align: right;\">\n",
       "      <th></th>\n",
       "      <th>sleep_time</th>\n",
       "      <th>wakeup_time</th>\n",
       "      <th>Quality</th>\n",
       "      <th>Day</th>\n",
       "    </tr>\n",
       "    <tr>\n",
       "      <th>RegistrationCode</th>\n",
       "      <th></th>\n",
       "      <th></th>\n",
       "      <th></th>\n",
       "      <th></th>\n",
       "    </tr>\n",
       "  </thead>\n",
       "  <tbody>\n",
       "    <tr>\n",
       "      <th>0</th>\n",
       "      <td>2015-06-11 09:23:15</td>\n",
       "      <td>2015-06-11 09:23:21</td>\n",
       "      <td>NaT</td>\n",
       "      <td>2015-06-11</td>\n",
       "    </tr>\n",
       "    <tr>\n",
       "      <th>0</th>\n",
       "      <td>2015-06-11 09:56:54</td>\n",
       "      <td>2015-06-11 19:56:37</td>\n",
       "      <td>NaT</td>\n",
       "      <td>2015-06-11</td>\n",
       "    </tr>\n",
       "    <tr>\n",
       "      <th>0</th>\n",
       "      <td>2015-06-12 01:50:00</td>\n",
       "      <td>2015-06-12 02:29:19</td>\n",
       "      <td>NaT</td>\n",
       "      <td>2015-06-12</td>\n",
       "    </tr>\n",
       "    <tr>\n",
       "      <th>0</th>\n",
       "      <td>2015-06-12 02:29:09</td>\n",
       "      <td>2015-06-12 02:29:19</td>\n",
       "      <td>NaT</td>\n",
       "      <td>2015-06-12</td>\n",
       "    </tr>\n",
       "    <tr>\n",
       "      <th>0</th>\n",
       "      <td>2015-06-14 01:45:40</td>\n",
       "      <td>2015-06-14 11:08:19</td>\n",
       "      <td>NaT</td>\n",
       "      <td>2015-06-14</td>\n",
       "    </tr>\n",
       "    <tr>\n",
       "      <th>...</th>\n",
       "      <td>...</td>\n",
       "      <td>...</td>\n",
       "      <td>...</td>\n",
       "      <td>...</td>\n",
       "    </tr>\n",
       "    <tr>\n",
       "      <th>2147483647</th>\n",
       "      <td>2015-05-22 13:32:28</td>\n",
       "      <td>2015-05-23 07:10:41</td>\n",
       "      <td>NaT</td>\n",
       "      <td>2015-05-22</td>\n",
       "    </tr>\n",
       "    <tr>\n",
       "      <th>2147483647</th>\n",
       "      <td>2015-05-23 01:30:34</td>\n",
       "      <td>2015-05-23 07:10:41</td>\n",
       "      <td>NaT</td>\n",
       "      <td>2015-05-23</td>\n",
       "    </tr>\n",
       "    <tr>\n",
       "      <th>2147483647</th>\n",
       "      <td>2015-05-24 00:24:00</td>\n",
       "      <td>2015-05-25 11:00:43</td>\n",
       "      <td>NaT</td>\n",
       "      <td>2015-05-24</td>\n",
       "    </tr>\n",
       "    <tr>\n",
       "      <th>2147483647</th>\n",
       "      <td>2015-05-25 00:19:00</td>\n",
       "      <td>2015-05-25 11:00:43</td>\n",
       "      <td>NaT</td>\n",
       "      <td>2015-05-25</td>\n",
       "    </tr>\n",
       "    <tr>\n",
       "      <th>2147483647</th>\n",
       "      <td>2015-05-27 01:40:48</td>\n",
       "      <td>2015-05-27 07:30:47</td>\n",
       "      <td>NaT</td>\n",
       "      <td>2015-05-27</td>\n",
       "    </tr>\n",
       "  </tbody>\n",
       "</table>\n",
       "<p>49846 rows × 4 columns</p>\n",
       "</div>"
      ],
      "text/plain": [
       "                          sleep_time         wakeup_time Quality         Day\n",
       "RegistrationCode                                                            \n",
       "0                2015-06-11 09:23:15 2015-06-11 09:23:21     NaT  2015-06-11\n",
       "0                2015-06-11 09:56:54 2015-06-11 19:56:37     NaT  2015-06-11\n",
       "0                2015-06-12 01:50:00 2015-06-12 02:29:19     NaT  2015-06-12\n",
       "0                2015-06-12 02:29:09 2015-06-12 02:29:19     NaT  2015-06-12\n",
       "0                2015-06-14 01:45:40 2015-06-14 11:08:19     NaT  2015-06-14\n",
       "...                              ...                 ...     ...         ...\n",
       "2147483647       2015-05-22 13:32:28 2015-05-23 07:10:41     NaT  2015-05-22\n",
       "2147483647       2015-05-23 01:30:34 2015-05-23 07:10:41     NaT  2015-05-23\n",
       "2147483647       2015-05-24 00:24:00 2015-05-25 11:00:43     NaT  2015-05-24\n",
       "2147483647       2015-05-25 00:19:00 2015-05-25 11:00:43     NaT  2015-05-25\n",
       "2147483647       2015-05-27 01:40:48 2015-05-27 07:30:47     NaT  2015-05-27\n",
       "\n",
       "[49846 rows x 4 columns]"
      ]
     },
     "execution_count": 46,
     "metadata": {},
     "output_type": "execute_result"
    }
   ],
   "source": [
    "sleepdf"
   ]
  },
  {
   "cell_type": "code",
   "execution_count": 45,
   "metadata": {},
   "outputs": [],
   "source": [
    "sleepdf['Day'] = sleepdf.sleep_time.dt.date"
   ]
  },
  {
   "cell_type": "code",
   "execution_count": 48,
   "metadata": {},
   "outputs": [
    {
     "data": {
      "text/plain": [
       "array([datetime.date(2013, 7, 17), datetime.date(2013, 10, 28),\n",
       "       datetime.date(2015, 11, 24), datetime.date(2016, 2, 13),\n",
       "       datetime.date(2016, 2, 22), datetime.date(2016, 2, 24),\n",
       "       datetime.date(2016, 2, 25), datetime.date(2016, 2, 26),\n",
       "       datetime.date(2016, 2, 27), datetime.date(2016, 3, 1),\n",
       "       datetime.date(2016, 3, 25), datetime.date(2016, 3, 26),\n",
       "       datetime.date(2016, 3, 27), datetime.date(2016, 3, 28),\n",
       "       datetime.date(2016, 3, 29), datetime.date(2016, 3, 30),\n",
       "       datetime.date(2016, 3, 31), datetime.date(2016, 4, 2),\n",
       "       datetime.date(2016, 4, 3), datetime.date(2016, 4, 5),\n",
       "       datetime.date(2016, 11, 21), datetime.date(2016, 11, 23),\n",
       "       datetime.date(2016, 11, 24), datetime.date(2016, 12, 4),\n",
       "       datetime.date(2016, 12, 5), datetime.date(2016, 12, 7),\n",
       "       datetime.date(2016, 12, 8), datetime.date(2016, 12, 9),\n",
       "       datetime.date(2016, 12, 10), datetime.date(2017, 1, 1),\n",
       "       datetime.date(2017, 1, 2), datetime.date(2017, 1, 3),\n",
       "       datetime.date(2017, 1, 5), datetime.date(2017, 2, 1),\n",
       "       datetime.date(2017, 2, 2), datetime.date(2017, 2, 3),\n",
       "       datetime.date(2017, 2, 4), datetime.date(2017, 2, 5),\n",
       "       datetime.date(2017, 2, 7), datetime.date(2017, 3, 5),\n",
       "       datetime.date(2017, 3, 7), datetime.date(2017, 3, 8),\n",
       "       datetime.date(2017, 3, 10), datetime.date(2017, 3, 12),\n",
       "       datetime.date(2017, 3, 30), datetime.date(2017, 4, 2),\n",
       "       datetime.date(2017, 4, 3), datetime.date(2017, 4, 4),\n",
       "       datetime.date(2017, 4, 6), datetime.date(2017, 4, 7),\n",
       "       datetime.date(2017, 5, 7), datetime.date(2017, 5, 9),\n",
       "       datetime.date(2017, 5, 11), datetime.date(2017, 5, 12)],\n",
       "      dtype=object)"
      ]
     },
     "execution_count": 48,
     "metadata": {},
     "output_type": "execute_result"
    }
   ],
   "source": [
    "sleepdf.loc['1'].Day.unique()"
   ]
  },
  {
   "cell_type": "markdown",
   "metadata": {},
   "source": [
    "## Night CGM for those dates with sleep data available\n"
   ]
  },
  {
   "cell_type": "code",
   "execution_count": 32,
   "metadata": {},
   "outputs": [],
   "source": [
    "rc_sleep = sleepdf.index.unique()"
   ]
  },
  {
   "cell_type": "markdown",
   "metadata": {},
   "source": [
    "1. Retain only those reg codes that are in the list"
   ]
  },
  {
   "cell_type": "code",
   "execution_count": 37,
   "metadata": {},
   "outputs": [],
   "source": [
    "cgm_filtered = cgmdf[cgmdf.index.get_level_values('RegistrationCode').isin(rc_sleep)]"
   ]
  },
  {
   "cell_type": "code",
   "execution_count": 39,
   "metadata": {},
   "outputs": [
    {
     "data": {
      "text/plain": [
       "(7974202, 4)"
      ]
     },
     "execution_count": 39,
     "metadata": {},
     "output_type": "execute_result"
    }
   ],
   "source": [
    "cgmdf.shape"
   ]
  },
  {
   "cell_type": "code",
   "execution_count": 41,
   "metadata": {
    "scrolled": true
   },
   "outputs": [
    {
     "data": {
      "text/html": [
       "<div>\n",
       "<style scoped>\n",
       "    .dataframe tbody tr th:only-of-type {\n",
       "        vertical-align: middle;\n",
       "    }\n",
       "\n",
       "    .dataframe tbody tr th {\n",
       "        vertical-align: top;\n",
       "    }\n",
       "\n",
       "    .dataframe thead th {\n",
       "        text-align: right;\n",
       "    }\n",
       "</style>\n",
       "<table border=\"1\" class=\"dataframe\">\n",
       "  <thead>\n",
       "    <tr style=\"text-align: right;\">\n",
       "      <th></th>\n",
       "      <th>ConnectionID</th>\n",
       "      <th>Date</th>\n",
       "      <th>GlucoseValue</th>\n",
       "      <th>PPGR</th>\n",
       "      <th>Day</th>\n",
       "    </tr>\n",
       "    <tr>\n",
       "      <th>RegistrationCode</th>\n",
       "      <th></th>\n",
       "      <th></th>\n",
       "      <th></th>\n",
       "      <th></th>\n",
       "      <th></th>\n",
       "    </tr>\n",
       "  </thead>\n",
       "  <tbody>\n",
       "    <tr>\n",
       "      <th>1</th>\n",
       "      <td>1319</td>\n",
       "      <td>2016-02-22 09:20:30+02:00</td>\n",
       "      <td>107.0</td>\n",
       "      <td>1.833333</td>\n",
       "      <td>2016-02-22</td>\n",
       "    </tr>\n",
       "    <tr>\n",
       "      <th>1</th>\n",
       "      <td>1319</td>\n",
       "      <td>2016-02-22 09:25:30+02:00</td>\n",
       "      <td>106.0</td>\n",
       "      <td>3.708333</td>\n",
       "      <td>2016-02-22</td>\n",
       "    </tr>\n",
       "    <tr>\n",
       "      <th>1</th>\n",
       "      <td>1319</td>\n",
       "      <td>2016-02-22 09:30:30+02:00</td>\n",
       "      <td>106.0</td>\n",
       "      <td>3.625000</td>\n",
       "      <td>2016-02-22</td>\n",
       "    </tr>\n",
       "    <tr>\n",
       "      <th>1</th>\n",
       "      <td>1319</td>\n",
       "      <td>2016-02-22 09:35:30+02:00</td>\n",
       "      <td>106.0</td>\n",
       "      <td>3.666667</td>\n",
       "      <td>2016-02-22</td>\n",
       "    </tr>\n",
       "    <tr>\n",
       "      <th>1</th>\n",
       "      <td>1319</td>\n",
       "      <td>2016-02-22 09:40:30+02:00</td>\n",
       "      <td>106.0</td>\n",
       "      <td>4.000000</td>\n",
       "      <td>2016-02-22</td>\n",
       "    </tr>\n",
       "    <tr>\n",
       "      <th>...</th>\n",
       "      <td>...</td>\n",
       "      <td>...</td>\n",
       "      <td>...</td>\n",
       "      <td>...</td>\n",
       "      <td>...</td>\n",
       "    </tr>\n",
       "    <tr>\n",
       "      <th>999443</th>\n",
       "      <td>3755</td>\n",
       "      <td>2018-07-19 12:33:00+03:00</td>\n",
       "      <td>79.0</td>\n",
       "      <td>NaN</td>\n",
       "      <td>2018-07-19</td>\n",
       "    </tr>\n",
       "    <tr>\n",
       "      <th>999443</th>\n",
       "      <td>3755</td>\n",
       "      <td>2018-07-19 12:48:00+03:00</td>\n",
       "      <td>77.0</td>\n",
       "      <td>NaN</td>\n",
       "      <td>2018-07-19</td>\n",
       "    </tr>\n",
       "    <tr>\n",
       "      <th>999443</th>\n",
       "      <td>3755</td>\n",
       "      <td>2018-07-19 13:03:00+03:00</td>\n",
       "      <td>86.0</td>\n",
       "      <td>NaN</td>\n",
       "      <td>2018-07-19</td>\n",
       "    </tr>\n",
       "    <tr>\n",
       "      <th>999443</th>\n",
       "      <td>3755</td>\n",
       "      <td>2018-07-19 13:17:00+03:00</td>\n",
       "      <td>108.0</td>\n",
       "      <td>NaN</td>\n",
       "      <td>2018-07-19</td>\n",
       "    </tr>\n",
       "    <tr>\n",
       "      <th>999443</th>\n",
       "      <td>3755</td>\n",
       "      <td>2018-07-19 13:32:00+03:00</td>\n",
       "      <td>110.0</td>\n",
       "      <td>NaN</td>\n",
       "      <td>2018-07-19</td>\n",
       "    </tr>\n",
       "  </tbody>\n",
       "</table>\n",
       "<p>6309633 rows × 5 columns</p>\n",
       "</div>"
      ],
      "text/plain": [
       "                 ConnectionID                      Date  GlucoseValue  \\\n",
       "RegistrationCode                                                        \n",
       "1                        1319 2016-02-22 09:20:30+02:00         107.0   \n",
       "1                        1319 2016-02-22 09:25:30+02:00         106.0   \n",
       "1                        1319 2016-02-22 09:30:30+02:00         106.0   \n",
       "1                        1319 2016-02-22 09:35:30+02:00         106.0   \n",
       "1                        1319 2016-02-22 09:40:30+02:00         106.0   \n",
       "...                       ...                       ...           ...   \n",
       "999443                   3755 2018-07-19 12:33:00+03:00          79.0   \n",
       "999443                   3755 2018-07-19 12:48:00+03:00          77.0   \n",
       "999443                   3755 2018-07-19 13:03:00+03:00          86.0   \n",
       "999443                   3755 2018-07-19 13:17:00+03:00         108.0   \n",
       "999443                   3755 2018-07-19 13:32:00+03:00         110.0   \n",
       "\n",
       "                      PPGR         Day  \n",
       "RegistrationCode                        \n",
       "1                 1.833333  2016-02-22  \n",
       "1                 3.708333  2016-02-22  \n",
       "1                 3.625000  2016-02-22  \n",
       "1                 3.666667  2016-02-22  \n",
       "1                 4.000000  2016-02-22  \n",
       "...                    ...         ...  \n",
       "999443                 NaN  2018-07-19  \n",
       "999443                 NaN  2018-07-19  \n",
       "999443                 NaN  2018-07-19  \n",
       "999443                 NaN  2018-07-19  \n",
       "999443                 NaN  2018-07-19  \n",
       "\n",
       "[6309633 rows x 5 columns]"
      ]
     },
     "execution_count": 41,
     "metadata": {},
     "output_type": "execute_result"
    }
   ],
   "source": [
    "cgm_filtered"
   ]
  },
  {
   "cell_type": "markdown",
   "metadata": {},
   "source": [
    "I want to retain only those days with available sleep data"
   ]
  },
  {
   "cell_type": "code",
   "execution_count": 40,
   "metadata": {
    "collapsed": true
   },
   "outputs": [
    {
     "name": "stderr",
     "output_type": "stream",
     "text": [
      "/home/elming/anaconda3/envs/mylabdata/lib/python3.7/site-packages/ipykernel_launcher.py:1: SettingWithCopyWarning: \n",
      "A value is trying to be set on a copy of a slice from a DataFrame.\n",
      "Try using .loc[row_indexer,col_indexer] = value instead\n",
      "\n",
      "See the caveats in the documentation: http://pandas.pydata.org/pandas-docs/stable/user_guide/indexing.html#returning-a-view-versus-a-copy\n",
      "  \"\"\"Entry point for launching an IPython kernel.\n"
     ]
    }
   ],
   "source": [
    "cgm_filtered['Day'] = cgm_filtered.Date.dt.date"
   ]
  },
  {
   "cell_type": "code",
   "execution_count": 59,
   "metadata": {},
   "outputs": [],
   "source": [
    "grp = cgm_filtered.reset_index().groupby(['RegistrationCode', 'Day'], as_index=False) \n"
   ]
  },
  {
   "cell_type": "code",
   "execution_count": 63,
   "metadata": {},
   "outputs": [
    {
     "ename": "AttributeError",
     "evalue": "'DataFrameGroupBy' object has no attribute 'applly'",
     "output_type": "error",
     "traceback": [
      "\u001b[0;31m---------------------------------------------------------------------------\u001b[0m",
      "\u001b[0;31mAttributeError\u001b[0m                            Traceback (most recent call last)",
      "\u001b[0;32m<ipython-input-63-4a3a559a7f8e>\u001b[0m in \u001b[0;36m<module>\u001b[0;34m\u001b[0m\n\u001b[0;32m----> 1\u001b[0;31m \u001b[0mgrp\u001b[0m\u001b[0;34m.\u001b[0m\u001b[0mapplly\u001b[0m\u001b[0;34m(\u001b[0m\u001b[0;32mlambda\u001b[0m \u001b[0mx\u001b[0m\u001b[0;34m:\u001b[0m \u001b[0mprint\u001b[0m\u001b[0;34m(\u001b[0m\u001b[0mx\u001b[0m\u001b[0;34m[\u001b[0m\u001b[0;34m\"Day\"\u001b[0m\u001b[0;34m]\u001b[0m\u001b[0;34m)\u001b[0m\u001b[0;34m)\u001b[0m\u001b[0;34m\u001b[0m\u001b[0;34m\u001b[0m\u001b[0m\n\u001b[0m",
      "\u001b[0;32m~/anaconda3/envs/mylabdata/lib/python3.7/site-packages/pandas/core/groupby/groupby.py\u001b[0m in \u001b[0;36m__getattr__\u001b[0;34m(self, attr)\u001b[0m\n\u001b[1;32m    564\u001b[0m \u001b[0;34m\u001b[0m\u001b[0m\n\u001b[1;32m    565\u001b[0m         raise AttributeError(\n\u001b[0;32m--> 566\u001b[0;31m             \u001b[0;34m\"%r object has no attribute %r\"\u001b[0m \u001b[0;34m%\u001b[0m \u001b[0;34m(\u001b[0m\u001b[0mtype\u001b[0m\u001b[0;34m(\u001b[0m\u001b[0mself\u001b[0m\u001b[0;34m)\u001b[0m\u001b[0;34m.\u001b[0m\u001b[0m__name__\u001b[0m\u001b[0;34m,\u001b[0m \u001b[0mattr\u001b[0m\u001b[0;34m)\u001b[0m\u001b[0;34m\u001b[0m\u001b[0;34m\u001b[0m\u001b[0m\n\u001b[0m\u001b[1;32m    567\u001b[0m         )\n\u001b[1;32m    568\u001b[0m \u001b[0;34m\u001b[0m\u001b[0m\n",
      "\u001b[0;31mAttributeError\u001b[0m: 'DataFrameGroupBy' object has no attribute 'applly'"
     ]
    }
   ],
   "source": [
    "grp.applly(lambda x: print(x[\"Day\"]))"
   ]
  },
  {
   "cell_type": "code",
   "execution_count": null,
   "metadata": {},
   "outputs": [],
   "source": []
  }
 ],
 "metadata": {
  "kernelspec": {
   "display_name": "Python 3",
   "language": "python",
   "name": "python3"
  },
  "language_info": {
   "codemirror_mode": {
    "name": "ipython",
    "version": 3
   },
   "file_extension": ".py",
   "mimetype": "text/x-python",
   "name": "python",
   "nbconvert_exporter": "python",
   "pygments_lexer": "ipython3",
   "version": "3.7.5"
  },
  "toc": {
   "base_numbering": 1,
   "nav_menu": {},
   "number_sections": true,
   "sideBar": true,
   "skip_h1_title": false,
   "title_cell": "Table of Contents",
   "title_sidebar": "Contents",
   "toc_cell": false,
   "toc_position": {},
   "toc_section_display": true,
   "toc_window_display": false
  },
  "varInspector": {
   "cols": {
    "lenName": 16,
    "lenType": 16,
    "lenVar": 40
   },
   "kernels_config": {
    "python": {
     "delete_cmd_postfix": "",
     "delete_cmd_prefix": "del ",
     "library": "var_list.py",
     "varRefreshCmd": "print(var_dic_list())"
    },
    "r": {
     "delete_cmd_postfix": ") ",
     "delete_cmd_prefix": "rm(",
     "library": "var_list.r",
     "varRefreshCmd": "cat(var_dic_list()) "
    }
   },
   "types_to_exclude": [
    "module",
    "function",
    "builtin_function_or_method",
    "instance",
    "_Feature"
   ],
   "window_display": false
  }
 },
 "nbformat": 4,
 "nbformat_minor": 2
}
