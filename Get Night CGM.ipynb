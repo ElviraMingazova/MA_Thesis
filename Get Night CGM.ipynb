{
 "cells": [
  {
   "cell_type": "markdown",
   "metadata": {},
   "source": [
    "# Get Night CGM function\n",
    "Creating a function to give me night CGM for available data"
   ]
  },
  {
   "cell_type": "code",
   "execution_count": 366,
   "metadata": {},
   "outputs": [],
   "source": [
    "from LabData.DataLoaders.CGMLoader import CGMLoader\n",
    "from LabData.DataLoaders.SleepLoader import SleepLoader"
   ]
  },
  {
   "cell_type": "code",
   "execution_count": 367,
   "metadata": {},
   "outputs": [],
   "source": [
    "import pandas as pd\n",
    "import datetime"
   ]
  },
  {
   "cell_type": "code",
   "execution_count": 368,
   "metadata": {},
   "outputs": [],
   "source": [
    "cgml = CGMLoader()\n",
    "sll = SleepLoader()"
   ]
  },
  {
   "cell_type": "code",
   "execution_count": 305,
   "metadata": {},
   "outputs": [],
   "source": [
    "cgmdf = cgml.get_data().df"
   ]
  },
  {
   "cell_type": "code",
   "execution_count": 259,
   "metadata": {},
   "outputs": [
    {
     "name": "stderr",
     "output_type": "stream",
     "text": [
      "/home/elming/anaconda3/envs/mylabdata/lib/python3.7/site-packages/pandas/core/indexes/base.py:183: FutureWarning: the 'labels' keyword is deprecated, use 'codes' instead\n",
      "  return cls.__new__(cls, **d)\n"
     ]
    }
   ],
   "source": [
    "sleepdf = sll.get_data().df"
   ]
  },
  {
   "cell_type": "code",
   "execution_count": 260,
   "metadata": {
    "collapsed": true
   },
   "outputs": [
    {
     "data": {
      "text/html": [
       "<div>\n",
       "<style scoped>\n",
       "    .dataframe tbody tr th:only-of-type {\n",
       "        vertical-align: middle;\n",
       "    }\n",
       "\n",
       "    .dataframe tbody tr th {\n",
       "        vertical-align: top;\n",
       "    }\n",
       "\n",
       "    .dataframe thead th {\n",
       "        text-align: right;\n",
       "    }\n",
       "</style>\n",
       "<table border=\"1\" class=\"dataframe\">\n",
       "  <thead>\n",
       "    <tr style=\"text-align: right;\">\n",
       "      <th></th>\n",
       "      <th>RegistrationCode</th>\n",
       "      <th>sleep_time</th>\n",
       "      <th>wakeup_time</th>\n",
       "      <th>Quality</th>\n",
       "    </tr>\n",
       "  </thead>\n",
       "  <tbody>\n",
       "    <tr>\n",
       "      <th>0</th>\n",
       "      <td>0</td>\n",
       "      <td>2015-06-11 09:23:15</td>\n",
       "      <td>2015-06-11 09:23:21</td>\n",
       "      <td>NaT</td>\n",
       "    </tr>\n",
       "    <tr>\n",
       "      <th>1</th>\n",
       "      <td>0</td>\n",
       "      <td>2015-06-11 09:56:54</td>\n",
       "      <td>2015-06-11 19:56:37</td>\n",
       "      <td>NaT</td>\n",
       "    </tr>\n",
       "    <tr>\n",
       "      <th>2</th>\n",
       "      <td>0</td>\n",
       "      <td>2015-06-12 01:50:00</td>\n",
       "      <td>2015-06-12 02:29:19</td>\n",
       "      <td>NaT</td>\n",
       "    </tr>\n",
       "    <tr>\n",
       "      <th>3</th>\n",
       "      <td>0</td>\n",
       "      <td>2015-06-12 02:29:09</td>\n",
       "      <td>2015-06-12 02:29:19</td>\n",
       "      <td>NaT</td>\n",
       "    </tr>\n",
       "    <tr>\n",
       "      <th>4</th>\n",
       "      <td>0</td>\n",
       "      <td>2015-06-14 01:45:40</td>\n",
       "      <td>2015-06-14 11:08:19</td>\n",
       "      <td>NaT</td>\n",
       "    </tr>\n",
       "    <tr>\n",
       "      <th>...</th>\n",
       "      <td>...</td>\n",
       "      <td>...</td>\n",
       "      <td>...</td>\n",
       "      <td>...</td>\n",
       "    </tr>\n",
       "    <tr>\n",
       "      <th>49841</th>\n",
       "      <td>2147483647</td>\n",
       "      <td>2015-05-22 13:32:28</td>\n",
       "      <td>2015-05-23 07:10:41</td>\n",
       "      <td>NaT</td>\n",
       "    </tr>\n",
       "    <tr>\n",
       "      <th>49842</th>\n",
       "      <td>2147483647</td>\n",
       "      <td>2015-05-23 01:30:34</td>\n",
       "      <td>2015-05-23 07:10:41</td>\n",
       "      <td>NaT</td>\n",
       "    </tr>\n",
       "    <tr>\n",
       "      <th>49843</th>\n",
       "      <td>2147483647</td>\n",
       "      <td>2015-05-24 00:24:00</td>\n",
       "      <td>2015-05-25 11:00:43</td>\n",
       "      <td>NaT</td>\n",
       "    </tr>\n",
       "    <tr>\n",
       "      <th>49844</th>\n",
       "      <td>2147483647</td>\n",
       "      <td>2015-05-25 00:19:00</td>\n",
       "      <td>2015-05-25 11:00:43</td>\n",
       "      <td>NaT</td>\n",
       "    </tr>\n",
       "    <tr>\n",
       "      <th>49845</th>\n",
       "      <td>2147483647</td>\n",
       "      <td>2015-05-27 01:40:48</td>\n",
       "      <td>2015-05-27 07:30:47</td>\n",
       "      <td>NaT</td>\n",
       "    </tr>\n",
       "  </tbody>\n",
       "</table>\n",
       "<p>49846 rows × 4 columns</p>\n",
       "</div>"
      ],
      "text/plain": [
       "      RegistrationCode          sleep_time         wakeup_time Quality\n",
       "0                    0 2015-06-11 09:23:15 2015-06-11 09:23:21     NaT\n",
       "1                    0 2015-06-11 09:56:54 2015-06-11 19:56:37     NaT\n",
       "2                    0 2015-06-12 01:50:00 2015-06-12 02:29:19     NaT\n",
       "3                    0 2015-06-12 02:29:09 2015-06-12 02:29:19     NaT\n",
       "4                    0 2015-06-14 01:45:40 2015-06-14 11:08:19     NaT\n",
       "...                ...                 ...                 ...     ...\n",
       "49841       2147483647 2015-05-22 13:32:28 2015-05-23 07:10:41     NaT\n",
       "49842       2147483647 2015-05-23 01:30:34 2015-05-23 07:10:41     NaT\n",
       "49843       2147483647 2015-05-24 00:24:00 2015-05-25 11:00:43     NaT\n",
       "49844       2147483647 2015-05-25 00:19:00 2015-05-25 11:00:43     NaT\n",
       "49845       2147483647 2015-05-27 01:40:48 2015-05-27 07:30:47     NaT\n",
       "\n",
       "[49846 rows x 4 columns]"
      ]
     },
     "execution_count": 260,
     "metadata": {},
     "output_type": "execute_result"
    }
   ],
   "source": [
    "sleepdf =sleepdf.reset_index()"
   ]
  },
  {
   "cell_type": "code",
   "execution_count": 275,
   "metadata": {},
   "outputs": [],
   "source": [
    "sleepdf.drop(columns='Quality', inplace=True)"
   ]
  },
  {
   "cell_type": "code",
   "execution_count": 277,
   "metadata": {},
   "outputs": [
    {
     "data": {
      "text/plain": [
       "(49846, 3)"
      ]
     },
     "execution_count": 277,
     "metadata": {},
     "output_type": "execute_result"
    }
   ],
   "source": [
    "sleepdf.shape"
   ]
  },
  {
   "cell_type": "code",
   "execution_count": 278,
   "metadata": {},
   "outputs": [],
   "source": [
    "sleepdf.dropna(how='any', inplace=True)"
   ]
  },
  {
   "cell_type": "code",
   "execution_count": 279,
   "metadata": {},
   "outputs": [
    {
     "data": {
      "text/html": [
       "<div>\n",
       "<style scoped>\n",
       "    .dataframe tbody tr th:only-of-type {\n",
       "        vertical-align: middle;\n",
       "    }\n",
       "\n",
       "    .dataframe tbody tr th {\n",
       "        vertical-align: top;\n",
       "    }\n",
       "\n",
       "    .dataframe thead th {\n",
       "        text-align: right;\n",
       "    }\n",
       "</style>\n",
       "<table border=\"1\" class=\"dataframe\">\n",
       "  <thead>\n",
       "    <tr style=\"text-align: right;\">\n",
       "      <th></th>\n",
       "      <th>RegistrationCode</th>\n",
       "      <th>sleep_time</th>\n",
       "      <th>wakeup_time</th>\n",
       "    </tr>\n",
       "  </thead>\n",
       "  <tbody>\n",
       "    <tr>\n",
       "      <th>0</th>\n",
       "      <td>0</td>\n",
       "      <td>2015-06-11 09:23:15</td>\n",
       "      <td>2015-06-11 09:23:21</td>\n",
       "    </tr>\n",
       "    <tr>\n",
       "      <th>1</th>\n",
       "      <td>0</td>\n",
       "      <td>2015-06-11 09:56:54</td>\n",
       "      <td>2015-06-11 19:56:37</td>\n",
       "    </tr>\n",
       "    <tr>\n",
       "      <th>2</th>\n",
       "      <td>0</td>\n",
       "      <td>2015-06-12 01:50:00</td>\n",
       "      <td>2015-06-12 02:29:19</td>\n",
       "    </tr>\n",
       "    <tr>\n",
       "      <th>3</th>\n",
       "      <td>0</td>\n",
       "      <td>2015-06-12 02:29:09</td>\n",
       "      <td>2015-06-12 02:29:19</td>\n",
       "    </tr>\n",
       "    <tr>\n",
       "      <th>4</th>\n",
       "      <td>0</td>\n",
       "      <td>2015-06-14 01:45:40</td>\n",
       "      <td>2015-06-14 11:08:19</td>\n",
       "    </tr>\n",
       "    <tr>\n",
       "      <th>5</th>\n",
       "      <td>0</td>\n",
       "      <td>2015-06-14 09:01:00</td>\n",
       "      <td>2015-06-14 11:08:19</td>\n",
       "    </tr>\n",
       "    <tr>\n",
       "      <th>6</th>\n",
       "      <td>0</td>\n",
       "      <td>2015-06-15 00:09:00</td>\n",
       "      <td>2015-06-15 07:52:42</td>\n",
       "    </tr>\n",
       "    <tr>\n",
       "      <th>7</th>\n",
       "      <td>0</td>\n",
       "      <td>2015-06-15 23:15:00</td>\n",
       "      <td>2015-06-16 06:50:48</td>\n",
       "    </tr>\n",
       "    <tr>\n",
       "      <th>8</th>\n",
       "      <td>0</td>\n",
       "      <td>2015-06-17 00:30:00</td>\n",
       "      <td>2015-06-17 07:30:21</td>\n",
       "    </tr>\n",
       "    <tr>\n",
       "      <th>9</th>\n",
       "      <td>0</td>\n",
       "      <td>2015-06-17 15:03:56</td>\n",
       "      <td>2015-06-17 15:04:26</td>\n",
       "    </tr>\n",
       "    <tr>\n",
       "      <th>10</th>\n",
       "      <td>0</td>\n",
       "      <td>2015-06-17 23:20:00</td>\n",
       "      <td>2015-06-18 07:15:56</td>\n",
       "    </tr>\n",
       "    <tr>\n",
       "      <th>11</th>\n",
       "      <td>0</td>\n",
       "      <td>2015-06-19 01:09:36</td>\n",
       "      <td>2015-06-19 08:33:51</td>\n",
       "    </tr>\n",
       "    <tr>\n",
       "      <th>12</th>\n",
       "      <td>0</td>\n",
       "      <td>2015-07-10 14:09:21</td>\n",
       "      <td>2015-07-11 10:44:25</td>\n",
       "    </tr>\n",
       "    <tr>\n",
       "      <th>13</th>\n",
       "      <td>0</td>\n",
       "      <td>2015-07-12 18:42:48</td>\n",
       "      <td>2015-07-12 18:43:06</td>\n",
       "    </tr>\n",
       "    <tr>\n",
       "      <th>14</th>\n",
       "      <td>0</td>\n",
       "      <td>2015-07-14 11:19:09</td>\n",
       "      <td>2015-07-14 11:19:53</td>\n",
       "    </tr>\n",
       "    <tr>\n",
       "      <th>15</th>\n",
       "      <td>0</td>\n",
       "      <td>2015-07-22 22:25:16</td>\n",
       "      <td>2015-07-22 22:25:37</td>\n",
       "    </tr>\n",
       "    <tr>\n",
       "      <th>16</th>\n",
       "      <td>0</td>\n",
       "      <td>2015-08-09 10:56:25</td>\n",
       "      <td>2015-08-09 10:56:32</td>\n",
       "    </tr>\n",
       "    <tr>\n",
       "      <th>17</th>\n",
       "      <td>0</td>\n",
       "      <td>2015-08-16 18:39:17</td>\n",
       "      <td>2015-08-16 18:39:26</td>\n",
       "    </tr>\n",
       "    <tr>\n",
       "      <th>18</th>\n",
       "      <td>0</td>\n",
       "      <td>2015-08-22 06:32:25</td>\n",
       "      <td>2015-08-22 06:33:37</td>\n",
       "    </tr>\n",
       "    <tr>\n",
       "      <th>19</th>\n",
       "      <td>0</td>\n",
       "      <td>2015-08-25 21:08:10</td>\n",
       "      <td>2015-08-25 21:08:17</td>\n",
       "    </tr>\n",
       "    <tr>\n",
       "      <th>20</th>\n",
       "      <td>0</td>\n",
       "      <td>2015-09-04 19:12:46</td>\n",
       "      <td>2015-09-04 19:13:01</td>\n",
       "    </tr>\n",
       "    <tr>\n",
       "      <th>21</th>\n",
       "      <td>0</td>\n",
       "      <td>2015-10-28 11:50:00</td>\n",
       "      <td>2015-10-29 07:32:50</td>\n",
       "    </tr>\n",
       "    <tr>\n",
       "      <th>22</th>\n",
       "      <td>0</td>\n",
       "      <td>2015-10-30 00:14:40</td>\n",
       "      <td>2015-10-30 07:14:47</td>\n",
       "    </tr>\n",
       "    <tr>\n",
       "      <th>23</th>\n",
       "      <td>0</td>\n",
       "      <td>2015-10-31 00:00:00</td>\n",
       "      <td>2015-10-31 07:11:09</td>\n",
       "    </tr>\n",
       "    <tr>\n",
       "      <th>24</th>\n",
       "      <td>0</td>\n",
       "      <td>2015-10-31 22:30:00</td>\n",
       "      <td>2015-11-01 08:00:03</td>\n",
       "    </tr>\n",
       "    <tr>\n",
       "      <th>25</th>\n",
       "      <td>0</td>\n",
       "      <td>2015-11-01 10:36:57</td>\n",
       "      <td>2015-11-01 10:37:12</td>\n",
       "    </tr>\n",
       "    <tr>\n",
       "      <th>26</th>\n",
       "      <td>0</td>\n",
       "      <td>2015-11-01 23:40:16</td>\n",
       "      <td>2015-11-02 07:55:24</td>\n",
       "    </tr>\n",
       "    <tr>\n",
       "      <th>28</th>\n",
       "      <td>0</td>\n",
       "      <td>2015-11-12 21:08:31</td>\n",
       "      <td>2015-11-12 21:08:37</td>\n",
       "    </tr>\n",
       "    <tr>\n",
       "      <th>29</th>\n",
       "      <td>0</td>\n",
       "      <td>2015-11-13 20:02:47</td>\n",
       "      <td>2015-11-13 20:03:02</td>\n",
       "    </tr>\n",
       "    <tr>\n",
       "      <th>30</th>\n",
       "      <td>0</td>\n",
       "      <td>2015-11-16 21:14:41</td>\n",
       "      <td>2015-11-16 21:15:16</td>\n",
       "    </tr>\n",
       "  </tbody>\n",
       "</table>\n",
       "</div>"
      ],
      "text/plain": [
       "   RegistrationCode          sleep_time         wakeup_time\n",
       "0                 0 2015-06-11 09:23:15 2015-06-11 09:23:21\n",
       "1                 0 2015-06-11 09:56:54 2015-06-11 19:56:37\n",
       "2                 0 2015-06-12 01:50:00 2015-06-12 02:29:19\n",
       "3                 0 2015-06-12 02:29:09 2015-06-12 02:29:19\n",
       "4                 0 2015-06-14 01:45:40 2015-06-14 11:08:19\n",
       "5                 0 2015-06-14 09:01:00 2015-06-14 11:08:19\n",
       "6                 0 2015-06-15 00:09:00 2015-06-15 07:52:42\n",
       "7                 0 2015-06-15 23:15:00 2015-06-16 06:50:48\n",
       "8                 0 2015-06-17 00:30:00 2015-06-17 07:30:21\n",
       "9                 0 2015-06-17 15:03:56 2015-06-17 15:04:26\n",
       "10                0 2015-06-17 23:20:00 2015-06-18 07:15:56\n",
       "11                0 2015-06-19 01:09:36 2015-06-19 08:33:51\n",
       "12                0 2015-07-10 14:09:21 2015-07-11 10:44:25\n",
       "13                0 2015-07-12 18:42:48 2015-07-12 18:43:06\n",
       "14                0 2015-07-14 11:19:09 2015-07-14 11:19:53\n",
       "15                0 2015-07-22 22:25:16 2015-07-22 22:25:37\n",
       "16                0 2015-08-09 10:56:25 2015-08-09 10:56:32\n",
       "17                0 2015-08-16 18:39:17 2015-08-16 18:39:26\n",
       "18                0 2015-08-22 06:32:25 2015-08-22 06:33:37\n",
       "19                0 2015-08-25 21:08:10 2015-08-25 21:08:17\n",
       "20                0 2015-09-04 19:12:46 2015-09-04 19:13:01\n",
       "21                0 2015-10-28 11:50:00 2015-10-29 07:32:50\n",
       "22                0 2015-10-30 00:14:40 2015-10-30 07:14:47\n",
       "23                0 2015-10-31 00:00:00 2015-10-31 07:11:09\n",
       "24                0 2015-10-31 22:30:00 2015-11-01 08:00:03\n",
       "25                0 2015-11-01 10:36:57 2015-11-01 10:37:12\n",
       "26                0 2015-11-01 23:40:16 2015-11-02 07:55:24\n",
       "28                0 2015-11-12 21:08:31 2015-11-12 21:08:37\n",
       "29                0 2015-11-13 20:02:47 2015-11-13 20:03:02\n",
       "30                0 2015-11-16 21:14:41 2015-11-16 21:15:16"
      ]
     },
     "execution_count": 279,
     "metadata": {},
     "output_type": "execute_result"
    }
   ],
   "source": [
    "test = sleepdf.head(30)\n",
    "test"
   ]
  },
  {
   "cell_type": "code",
   "execution_count": 282,
   "metadata": {},
   "outputs": [
    {
     "data": {
      "text/plain": [
       "Index(['RegistrationCode', 'sleep_time', 'wakeup_time'], dtype='object')"
      ]
     },
     "execution_count": 282,
     "metadata": {},
     "output_type": "execute_result"
    }
   ],
   "source": [
    "test.columns"
   ]
  },
  {
   "cell_type": "code",
   "execution_count": 281,
   "metadata": {
    "collapsed": true
   },
   "outputs": [
    {
     "name": "stdout",
     "output_type": "stream",
     "text": [
      "RegistrationCode                      0\n",
      "sleep_time          2015-06-16 00:00:00\n",
      "wakeup_time         2015-06-16 06:50:48\n",
      "dtype: object\n",
      "RegistrationCode                      0\n",
      "sleep_time          2015-06-18 00:00:00\n",
      "wakeup_time         2015-06-18 07:15:56\n",
      "dtype: object\n",
      "RegistrationCode                      0\n",
      "sleep_time          2015-07-11 00:00:00\n",
      "wakeup_time         2015-07-11 10:44:25\n",
      "dtype: object\n",
      "RegistrationCode                      0\n",
      "sleep_time          2015-10-29 00:00:00\n",
      "wakeup_time         2015-10-29 07:32:50\n",
      "dtype: object\n",
      "RegistrationCode                      0\n",
      "sleep_time          2015-11-01 00:00:00\n",
      "wakeup_time         2015-11-01 08:00:03\n",
      "dtype: object\n",
      "RegistrationCode                      0\n",
      "sleep_time          2015-11-02 00:00:00\n",
      "wakeup_time         2015-11-02 07:55:24\n",
      "dtype: object\n"
     ]
    }
   ],
   "source": [
    "for index, row in test.iterrows():\n",
    "    if row['sleep_time'].date() != row['wakeup_time'].date():\n",
    "        s = pd.Series([row['RegistrationCode'], row['wakeup_time'].replace(hour=0, minute=0, second=0), row['wakeup_time']],index=['RegistrationCode', 'sleep_time', 'wakeup_time'])\n",
    "        test = test.append(s, ignore_index=True)"
   ]
  },
  {
   "cell_type": "code",
   "execution_count": 286,
   "metadata": {
    "collapsed": true
   },
   "outputs": [
    {
     "data": {
      "text/html": [
       "<div>\n",
       "<style scoped>\n",
       "    .dataframe tbody tr th:only-of-type {\n",
       "        vertical-align: middle;\n",
       "    }\n",
       "\n",
       "    .dataframe tbody tr th {\n",
       "        vertical-align: top;\n",
       "    }\n",
       "\n",
       "    .dataframe thead th {\n",
       "        text-align: right;\n",
       "    }\n",
       "</style>\n",
       "<table border=\"1\" class=\"dataframe\">\n",
       "  <thead>\n",
       "    <tr style=\"text-align: right;\">\n",
       "      <th></th>\n",
       "      <th>RegistrationCode</th>\n",
       "      <th>sleep_time</th>\n",
       "      <th>wakeup_time</th>\n",
       "    </tr>\n",
       "  </thead>\n",
       "  <tbody>\n",
       "    <tr>\n",
       "      <th>0</th>\n",
       "      <td>0</td>\n",
       "      <td>2015-06-11 09:23:15</td>\n",
       "      <td>2015-06-11 09:23:21</td>\n",
       "    </tr>\n",
       "    <tr>\n",
       "      <th>1</th>\n",
       "      <td>0</td>\n",
       "      <td>2015-06-11 09:56:54</td>\n",
       "      <td>2015-06-11 19:56:37</td>\n",
       "    </tr>\n",
       "    <tr>\n",
       "      <th>2</th>\n",
       "      <td>0</td>\n",
       "      <td>2015-06-12 01:50:00</td>\n",
       "      <td>2015-06-12 02:29:19</td>\n",
       "    </tr>\n",
       "    <tr>\n",
       "      <th>3</th>\n",
       "      <td>0</td>\n",
       "      <td>2015-06-12 02:29:09</td>\n",
       "      <td>2015-06-12 02:29:19</td>\n",
       "    </tr>\n",
       "    <tr>\n",
       "      <th>4</th>\n",
       "      <td>0</td>\n",
       "      <td>2015-06-14 01:45:40</td>\n",
       "      <td>2015-06-14 11:08:19</td>\n",
       "    </tr>\n",
       "    <tr>\n",
       "      <th>5</th>\n",
       "      <td>0</td>\n",
       "      <td>2015-06-14 09:01:00</td>\n",
       "      <td>2015-06-14 11:08:19</td>\n",
       "    </tr>\n",
       "    <tr>\n",
       "      <th>6</th>\n",
       "      <td>0</td>\n",
       "      <td>2015-06-15 00:09:00</td>\n",
       "      <td>2015-06-15 07:52:42</td>\n",
       "    </tr>\n",
       "    <tr>\n",
       "      <th>7</th>\n",
       "      <td>0</td>\n",
       "      <td>2015-06-15 23:15:00</td>\n",
       "      <td>2015-06-16 06:50:48</td>\n",
       "    </tr>\n",
       "    <tr>\n",
       "      <th>30</th>\n",
       "      <td>0</td>\n",
       "      <td>2015-06-16 00:00:00</td>\n",
       "      <td>2015-06-16 06:50:48</td>\n",
       "    </tr>\n",
       "    <tr>\n",
       "      <th>8</th>\n",
       "      <td>0</td>\n",
       "      <td>2015-06-17 00:30:00</td>\n",
       "      <td>2015-06-17 07:30:21</td>\n",
       "    </tr>\n",
       "    <tr>\n",
       "      <th>9</th>\n",
       "      <td>0</td>\n",
       "      <td>2015-06-17 15:03:56</td>\n",
       "      <td>2015-06-17 15:04:26</td>\n",
       "    </tr>\n",
       "    <tr>\n",
       "      <th>10</th>\n",
       "      <td>0</td>\n",
       "      <td>2015-06-17 23:20:00</td>\n",
       "      <td>2015-06-18 07:15:56</td>\n",
       "    </tr>\n",
       "    <tr>\n",
       "      <th>31</th>\n",
       "      <td>0</td>\n",
       "      <td>2015-06-18 00:00:00</td>\n",
       "      <td>2015-06-18 07:15:56</td>\n",
       "    </tr>\n",
       "    <tr>\n",
       "      <th>11</th>\n",
       "      <td>0</td>\n",
       "      <td>2015-06-19 01:09:36</td>\n",
       "      <td>2015-06-19 08:33:51</td>\n",
       "    </tr>\n",
       "    <tr>\n",
       "      <th>12</th>\n",
       "      <td>0</td>\n",
       "      <td>2015-07-10 14:09:21</td>\n",
       "      <td>2015-07-11 10:44:25</td>\n",
       "    </tr>\n",
       "    <tr>\n",
       "      <th>32</th>\n",
       "      <td>0</td>\n",
       "      <td>2015-07-11 00:00:00</td>\n",
       "      <td>2015-07-11 10:44:25</td>\n",
       "    </tr>\n",
       "    <tr>\n",
       "      <th>13</th>\n",
       "      <td>0</td>\n",
       "      <td>2015-07-12 18:42:48</td>\n",
       "      <td>2015-07-12 18:43:06</td>\n",
       "    </tr>\n",
       "    <tr>\n",
       "      <th>14</th>\n",
       "      <td>0</td>\n",
       "      <td>2015-07-14 11:19:09</td>\n",
       "      <td>2015-07-14 11:19:53</td>\n",
       "    </tr>\n",
       "    <tr>\n",
       "      <th>15</th>\n",
       "      <td>0</td>\n",
       "      <td>2015-07-22 22:25:16</td>\n",
       "      <td>2015-07-22 22:25:37</td>\n",
       "    </tr>\n",
       "    <tr>\n",
       "      <th>16</th>\n",
       "      <td>0</td>\n",
       "      <td>2015-08-09 10:56:25</td>\n",
       "      <td>2015-08-09 10:56:32</td>\n",
       "    </tr>\n",
       "    <tr>\n",
       "      <th>17</th>\n",
       "      <td>0</td>\n",
       "      <td>2015-08-16 18:39:17</td>\n",
       "      <td>2015-08-16 18:39:26</td>\n",
       "    </tr>\n",
       "    <tr>\n",
       "      <th>18</th>\n",
       "      <td>0</td>\n",
       "      <td>2015-08-22 06:32:25</td>\n",
       "      <td>2015-08-22 06:33:37</td>\n",
       "    </tr>\n",
       "    <tr>\n",
       "      <th>19</th>\n",
       "      <td>0</td>\n",
       "      <td>2015-08-25 21:08:10</td>\n",
       "      <td>2015-08-25 21:08:17</td>\n",
       "    </tr>\n",
       "    <tr>\n",
       "      <th>20</th>\n",
       "      <td>0</td>\n",
       "      <td>2015-09-04 19:12:46</td>\n",
       "      <td>2015-09-04 19:13:01</td>\n",
       "    </tr>\n",
       "    <tr>\n",
       "      <th>21</th>\n",
       "      <td>0</td>\n",
       "      <td>2015-10-28 11:50:00</td>\n",
       "      <td>2015-10-29 07:32:50</td>\n",
       "    </tr>\n",
       "    <tr>\n",
       "      <th>33</th>\n",
       "      <td>0</td>\n",
       "      <td>2015-10-29 00:00:00</td>\n",
       "      <td>2015-10-29 07:32:50</td>\n",
       "    </tr>\n",
       "    <tr>\n",
       "      <th>22</th>\n",
       "      <td>0</td>\n",
       "      <td>2015-10-30 00:14:40</td>\n",
       "      <td>2015-10-30 07:14:47</td>\n",
       "    </tr>\n",
       "    <tr>\n",
       "      <th>23</th>\n",
       "      <td>0</td>\n",
       "      <td>2015-10-31 00:00:00</td>\n",
       "      <td>2015-10-31 07:11:09</td>\n",
       "    </tr>\n",
       "    <tr>\n",
       "      <th>24</th>\n",
       "      <td>0</td>\n",
       "      <td>2015-10-31 22:30:00</td>\n",
       "      <td>2015-11-01 08:00:03</td>\n",
       "    </tr>\n",
       "    <tr>\n",
       "      <th>34</th>\n",
       "      <td>0</td>\n",
       "      <td>2015-11-01 00:00:00</td>\n",
       "      <td>2015-11-01 08:00:03</td>\n",
       "    </tr>\n",
       "    <tr>\n",
       "      <th>25</th>\n",
       "      <td>0</td>\n",
       "      <td>2015-11-01 10:36:57</td>\n",
       "      <td>2015-11-01 10:37:12</td>\n",
       "    </tr>\n",
       "    <tr>\n",
       "      <th>26</th>\n",
       "      <td>0</td>\n",
       "      <td>2015-11-01 23:40:16</td>\n",
       "      <td>2015-11-02 07:55:24</td>\n",
       "    </tr>\n",
       "    <tr>\n",
       "      <th>35</th>\n",
       "      <td>0</td>\n",
       "      <td>2015-11-02 00:00:00</td>\n",
       "      <td>2015-11-02 07:55:24</td>\n",
       "    </tr>\n",
       "    <tr>\n",
       "      <th>27</th>\n",
       "      <td>0</td>\n",
       "      <td>2015-11-12 21:08:31</td>\n",
       "      <td>2015-11-12 21:08:37</td>\n",
       "    </tr>\n",
       "    <tr>\n",
       "      <th>28</th>\n",
       "      <td>0</td>\n",
       "      <td>2015-11-13 20:02:47</td>\n",
       "      <td>2015-11-13 20:03:02</td>\n",
       "    </tr>\n",
       "    <tr>\n",
       "      <th>29</th>\n",
       "      <td>0</td>\n",
       "      <td>2015-11-16 21:14:41</td>\n",
       "      <td>2015-11-16 21:15:16</td>\n",
       "    </tr>\n",
       "  </tbody>\n",
       "</table>\n",
       "</div>"
      ],
      "text/plain": [
       "   RegistrationCode          sleep_time         wakeup_time\n",
       "0                 0 2015-06-11 09:23:15 2015-06-11 09:23:21\n",
       "1                 0 2015-06-11 09:56:54 2015-06-11 19:56:37\n",
       "2                 0 2015-06-12 01:50:00 2015-06-12 02:29:19\n",
       "3                 0 2015-06-12 02:29:09 2015-06-12 02:29:19\n",
       "4                 0 2015-06-14 01:45:40 2015-06-14 11:08:19\n",
       "5                 0 2015-06-14 09:01:00 2015-06-14 11:08:19\n",
       "6                 0 2015-06-15 00:09:00 2015-06-15 07:52:42\n",
       "7                 0 2015-06-15 23:15:00 2015-06-16 06:50:48\n",
       "30                0 2015-06-16 00:00:00 2015-06-16 06:50:48\n",
       "8                 0 2015-06-17 00:30:00 2015-06-17 07:30:21\n",
       "9                 0 2015-06-17 15:03:56 2015-06-17 15:04:26\n",
       "10                0 2015-06-17 23:20:00 2015-06-18 07:15:56\n",
       "31                0 2015-06-18 00:00:00 2015-06-18 07:15:56\n",
       "11                0 2015-06-19 01:09:36 2015-06-19 08:33:51\n",
       "12                0 2015-07-10 14:09:21 2015-07-11 10:44:25\n",
       "32                0 2015-07-11 00:00:00 2015-07-11 10:44:25\n",
       "13                0 2015-07-12 18:42:48 2015-07-12 18:43:06\n",
       "14                0 2015-07-14 11:19:09 2015-07-14 11:19:53\n",
       "15                0 2015-07-22 22:25:16 2015-07-22 22:25:37\n",
       "16                0 2015-08-09 10:56:25 2015-08-09 10:56:32\n",
       "17                0 2015-08-16 18:39:17 2015-08-16 18:39:26\n",
       "18                0 2015-08-22 06:32:25 2015-08-22 06:33:37\n",
       "19                0 2015-08-25 21:08:10 2015-08-25 21:08:17\n",
       "20                0 2015-09-04 19:12:46 2015-09-04 19:13:01\n",
       "21                0 2015-10-28 11:50:00 2015-10-29 07:32:50\n",
       "33                0 2015-10-29 00:00:00 2015-10-29 07:32:50\n",
       "22                0 2015-10-30 00:14:40 2015-10-30 07:14:47\n",
       "23                0 2015-10-31 00:00:00 2015-10-31 07:11:09\n",
       "24                0 2015-10-31 22:30:00 2015-11-01 08:00:03\n",
       "34                0 2015-11-01 00:00:00 2015-11-01 08:00:03\n",
       "25                0 2015-11-01 10:36:57 2015-11-01 10:37:12\n",
       "26                0 2015-11-01 23:40:16 2015-11-02 07:55:24\n",
       "35                0 2015-11-02 00:00:00 2015-11-02 07:55:24\n",
       "27                0 2015-11-12 21:08:31 2015-11-12 21:08:37\n",
       "28                0 2015-11-13 20:02:47 2015-11-13 20:03:02\n",
       "29                0 2015-11-16 21:14:41 2015-11-16 21:15:16"
      ]
     },
     "execution_count": 286,
     "metadata": {},
     "output_type": "execute_result"
    }
   ],
   "source": [
    "test.sort_values(by='sleep_time')"
   ]
  },
  {
   "cell_type": "code",
   "execution_count": 287,
   "metadata": {},
   "outputs": [],
   "source": [
    "for index, row in sleepdf.iterrows():\n",
    "    if row['sleep_time'].date() != row['wakeup_time'].date():\n",
    "        s = pd.Series([row['RegistrationCode'], row['wakeup_time'].replace(hour=0, minute=0, second=0), row['wakeup_time']],index=['RegistrationCode', 'sleep_time', 'wakeup_time'])\n",
    "        sleepdf = sleepdf.append(s, ignore_index=True)"
   ]
  },
  {
   "cell_type": "code",
   "execution_count": 288,
   "metadata": {
    "scrolled": true
   },
   "outputs": [
    {
     "data": {
      "text/html": [
       "<div>\n",
       "<style scoped>\n",
       "    .dataframe tbody tr th:only-of-type {\n",
       "        vertical-align: middle;\n",
       "    }\n",
       "\n",
       "    .dataframe tbody tr th {\n",
       "        vertical-align: top;\n",
       "    }\n",
       "\n",
       "    .dataframe thead th {\n",
       "        text-align: right;\n",
       "    }\n",
       "</style>\n",
       "<table border=\"1\" class=\"dataframe\">\n",
       "  <thead>\n",
       "    <tr style=\"text-align: right;\">\n",
       "      <th></th>\n",
       "      <th>RegistrationCode</th>\n",
       "      <th>sleep_time</th>\n",
       "      <th>wakeup_time</th>\n",
       "    </tr>\n",
       "  </thead>\n",
       "  <tbody>\n",
       "    <tr>\n",
       "      <th>0</th>\n",
       "      <td>0</td>\n",
       "      <td>2015-06-11 09:23:15</td>\n",
       "      <td>2015-06-11 09:23:21</td>\n",
       "    </tr>\n",
       "    <tr>\n",
       "      <th>1</th>\n",
       "      <td>0</td>\n",
       "      <td>2015-06-11 09:56:54</td>\n",
       "      <td>2015-06-11 19:56:37</td>\n",
       "    </tr>\n",
       "    <tr>\n",
       "      <th>2</th>\n",
       "      <td>0</td>\n",
       "      <td>2015-06-12 01:50:00</td>\n",
       "      <td>2015-06-12 02:29:19</td>\n",
       "    </tr>\n",
       "    <tr>\n",
       "      <th>3</th>\n",
       "      <td>0</td>\n",
       "      <td>2015-06-12 02:29:09</td>\n",
       "      <td>2015-06-12 02:29:19</td>\n",
       "    </tr>\n",
       "    <tr>\n",
       "      <th>4</th>\n",
       "      <td>0</td>\n",
       "      <td>2015-06-14 01:45:40</td>\n",
       "      <td>2015-06-14 11:08:19</td>\n",
       "    </tr>\n",
       "    <tr>\n",
       "      <th>...</th>\n",
       "      <td>...</td>\n",
       "      <td>...</td>\n",
       "      <td>...</td>\n",
       "    </tr>\n",
       "    <tr>\n",
       "      <th>72557</th>\n",
       "      <td>3998965</td>\n",
       "      <td>2018-02-08 00:00:00</td>\n",
       "      <td>2018-02-08 10:45:00</td>\n",
       "    </tr>\n",
       "    <tr>\n",
       "      <th>72558</th>\n",
       "      <td>3998965</td>\n",
       "      <td>2018-02-10 00:00:00</td>\n",
       "      <td>2018-02-10 09:45:00</td>\n",
       "    </tr>\n",
       "    <tr>\n",
       "      <th>72559</th>\n",
       "      <td>2147483647</td>\n",
       "      <td>2015-05-20 00:00:00</td>\n",
       "      <td>2015-05-20 07:15:53</td>\n",
       "    </tr>\n",
       "    <tr>\n",
       "      <th>72560</th>\n",
       "      <td>2147483647</td>\n",
       "      <td>2015-05-23 00:00:00</td>\n",
       "      <td>2015-05-23 07:10:41</td>\n",
       "    </tr>\n",
       "    <tr>\n",
       "      <th>72561</th>\n",
       "      <td>2147483647</td>\n",
       "      <td>2015-05-25 00:00:00</td>\n",
       "      <td>2015-05-25 11:00:43</td>\n",
       "    </tr>\n",
       "  </tbody>\n",
       "</table>\n",
       "<p>72562 rows × 3 columns</p>\n",
       "</div>"
      ],
      "text/plain": [
       "      RegistrationCode          sleep_time         wakeup_time\n",
       "0                    0 2015-06-11 09:23:15 2015-06-11 09:23:21\n",
       "1                    0 2015-06-11 09:56:54 2015-06-11 19:56:37\n",
       "2                    0 2015-06-12 01:50:00 2015-06-12 02:29:19\n",
       "3                    0 2015-06-12 02:29:09 2015-06-12 02:29:19\n",
       "4                    0 2015-06-14 01:45:40 2015-06-14 11:08:19\n",
       "...                ...                 ...                 ...\n",
       "72557          3998965 2018-02-08 00:00:00 2018-02-08 10:45:00\n",
       "72558          3998965 2018-02-10 00:00:00 2018-02-10 09:45:00\n",
       "72559       2147483647 2015-05-20 00:00:00 2015-05-20 07:15:53\n",
       "72560       2147483647 2015-05-23 00:00:00 2015-05-23 07:10:41\n",
       "72561       2147483647 2015-05-25 00:00:00 2015-05-25 11:00:43\n",
       "\n",
       "[72562 rows x 3 columns]"
      ]
     },
     "execution_count": 288,
     "metadata": {},
     "output_type": "execute_result"
    }
   ],
   "source": [
    "sleepdf"
   ]
  },
  {
   "cell_type": "code",
   "execution_count": 267,
   "metadata": {},
   "outputs": [
    {
     "data": {
      "text/plain": [
       "Timestamp('2015-06-11 00:00:00')"
      ]
     },
     "execution_count": 267,
     "metadata": {},
     "output_type": "execute_result"
    }
   ],
   "source": [
    "sleepdf.loc[0].sleep_time.replace(hour=0, minute=0, second=0)"
   ]
  },
  {
   "cell_type": "code",
   "execution_count": 297,
   "metadata": {
    "scrolled": false
   },
   "outputs": [],
   "source": [
    "sleepdf['day'] = sleepdf.sleep_time.dt.date"
   ]
  },
  {
   "cell_type": "code",
   "execution_count": 298,
   "metadata": {},
   "outputs": [],
   "source": [
    "sleepdf.reset_index(inplace=True)\n",
    "sleepdf.set_index(['RegistrationCode', 'day'], inplace=True)"
   ]
  },
  {
   "cell_type": "code",
   "execution_count": 299,
   "metadata": {},
   "outputs": [
    {
     "data": {
      "text/html": [
       "<div>\n",
       "<style scoped>\n",
       "    .dataframe tbody tr th:only-of-type {\n",
       "        vertical-align: middle;\n",
       "    }\n",
       "\n",
       "    .dataframe tbody tr th {\n",
       "        vertical-align: top;\n",
       "    }\n",
       "\n",
       "    .dataframe thead th {\n",
       "        text-align: right;\n",
       "    }\n",
       "</style>\n",
       "<table border=\"1\" class=\"dataframe\">\n",
       "  <thead>\n",
       "    <tr style=\"text-align: right;\">\n",
       "      <th></th>\n",
       "      <th></th>\n",
       "      <th>sleep_time</th>\n",
       "      <th>wakeup_time</th>\n",
       "    </tr>\n",
       "    <tr>\n",
       "      <th>RegistrationCode</th>\n",
       "      <th>day</th>\n",
       "      <th></th>\n",
       "      <th></th>\n",
       "    </tr>\n",
       "  </thead>\n",
       "  <tbody>\n",
       "    <tr>\n",
       "      <th rowspan=\"5\" valign=\"top\">0</th>\n",
       "      <th>2015-06-11</th>\n",
       "      <td>2015-06-11 09:23:15</td>\n",
       "      <td>2015-06-11 09:23:21</td>\n",
       "    </tr>\n",
       "    <tr>\n",
       "      <th>2015-06-11</th>\n",
       "      <td>2015-06-11 09:56:54</td>\n",
       "      <td>2015-06-11 19:56:37</td>\n",
       "    </tr>\n",
       "    <tr>\n",
       "      <th>2015-06-12</th>\n",
       "      <td>2015-06-12 01:50:00</td>\n",
       "      <td>2015-06-12 02:29:19</td>\n",
       "    </tr>\n",
       "    <tr>\n",
       "      <th>2015-06-12</th>\n",
       "      <td>2015-06-12 02:29:09</td>\n",
       "      <td>2015-06-12 02:29:19</td>\n",
       "    </tr>\n",
       "    <tr>\n",
       "      <th>2015-06-14</th>\n",
       "      <td>2015-06-14 01:45:40</td>\n",
       "      <td>2015-06-14 11:08:19</td>\n",
       "    </tr>\n",
       "    <tr>\n",
       "      <th>...</th>\n",
       "      <th>...</th>\n",
       "      <td>...</td>\n",
       "      <td>...</td>\n",
       "    </tr>\n",
       "    <tr>\n",
       "      <th rowspan=\"2\" valign=\"top\">3998965</th>\n",
       "      <th>2018-02-08</th>\n",
       "      <td>2018-02-08 00:00:00</td>\n",
       "      <td>2018-02-08 10:45:00</td>\n",
       "    </tr>\n",
       "    <tr>\n",
       "      <th>2018-02-10</th>\n",
       "      <td>2018-02-10 00:00:00</td>\n",
       "      <td>2018-02-10 09:45:00</td>\n",
       "    </tr>\n",
       "    <tr>\n",
       "      <th rowspan=\"3\" valign=\"top\">2147483647</th>\n",
       "      <th>2015-05-20</th>\n",
       "      <td>2015-05-20 00:00:00</td>\n",
       "      <td>2015-05-20 07:15:53</td>\n",
       "    </tr>\n",
       "    <tr>\n",
       "      <th>2015-05-23</th>\n",
       "      <td>2015-05-23 00:00:00</td>\n",
       "      <td>2015-05-23 07:10:41</td>\n",
       "    </tr>\n",
       "    <tr>\n",
       "      <th>2015-05-25</th>\n",
       "      <td>2015-05-25 00:00:00</td>\n",
       "      <td>2015-05-25 11:00:43</td>\n",
       "    </tr>\n",
       "  </tbody>\n",
       "</table>\n",
       "<p>72562 rows × 2 columns</p>\n",
       "</div>"
      ],
      "text/plain": [
       "                                     sleep_time         wakeup_time\n",
       "RegistrationCode day                                               \n",
       "0                2015-06-11 2015-06-11 09:23:15 2015-06-11 09:23:21\n",
       "                 2015-06-11 2015-06-11 09:56:54 2015-06-11 19:56:37\n",
       "                 2015-06-12 2015-06-12 01:50:00 2015-06-12 02:29:19\n",
       "                 2015-06-12 2015-06-12 02:29:09 2015-06-12 02:29:19\n",
       "                 2015-06-14 2015-06-14 01:45:40 2015-06-14 11:08:19\n",
       "...                                         ...                 ...\n",
       "3998965          2018-02-08 2018-02-08 00:00:00 2018-02-08 10:45:00\n",
       "                 2018-02-10 2018-02-10 00:00:00 2018-02-10 09:45:00\n",
       "2147483647       2015-05-20 2015-05-20 00:00:00 2015-05-20 07:15:53\n",
       "                 2015-05-23 2015-05-23 00:00:00 2015-05-23 07:10:41\n",
       "                 2015-05-25 2015-05-25 00:00:00 2015-05-25 11:00:43\n",
       "\n",
       "[72562 rows x 2 columns]"
      ]
     },
     "execution_count": 299,
     "metadata": {},
     "output_type": "execute_result"
    }
   ],
   "source": [
    "sleepdf"
   ]
  },
  {
   "cell_type": "markdown",
   "metadata": {},
   "source": [
    "## Night CGM for those dates with sleep data available\n"
   ]
  },
  {
   "cell_type": "code",
   "execution_count": 307,
   "metadata": {
    "scrolled": true
   },
   "outputs": [],
   "source": [
    "cgmdf.reset_index(inplace=True)"
   ]
  },
  {
   "cell_type": "code",
   "execution_count": 308,
   "metadata": {},
   "outputs": [],
   "source": [
    "cgmdf['day'] = cgmdf.Date.dt.date"
   ]
  },
  {
   "cell_type": "code",
   "execution_count": 310,
   "metadata": {},
   "outputs": [],
   "source": [
    "cgmdf.set_index(['RegistrationCode','day'], inplace=True)"
   ]
  },
  {
   "cell_type": "code",
   "execution_count": 311,
   "metadata": {},
   "outputs": [
    {
     "data": {
      "text/html": [
       "<div>\n",
       "<style scoped>\n",
       "    .dataframe tbody tr th:only-of-type {\n",
       "        vertical-align: middle;\n",
       "    }\n",
       "\n",
       "    .dataframe tbody tr th {\n",
       "        vertical-align: top;\n",
       "    }\n",
       "\n",
       "    .dataframe thead th {\n",
       "        text-align: right;\n",
       "    }\n",
       "</style>\n",
       "<table border=\"1\" class=\"dataframe\">\n",
       "  <thead>\n",
       "    <tr style=\"text-align: right;\">\n",
       "      <th></th>\n",
       "      <th></th>\n",
       "      <th>ConnectionID</th>\n",
       "      <th>Date</th>\n",
       "      <th>GlucoseValue</th>\n",
       "      <th>PPGR</th>\n",
       "    </tr>\n",
       "    <tr>\n",
       "      <th>RegistrationCode</th>\n",
       "      <th>day</th>\n",
       "      <th></th>\n",
       "      <th></th>\n",
       "      <th></th>\n",
       "      <th></th>\n",
       "    </tr>\n",
       "  </thead>\n",
       "  <tbody>\n",
       "    <tr>\n",
       "      <th rowspan=\"5\" valign=\"top\">-1</th>\n",
       "      <th>2013-01-21</th>\n",
       "      <td>1</td>\n",
       "      <td>2013-01-21 14:20:50+02:00</td>\n",
       "      <td>88.0</td>\n",
       "      <td>0.000000</td>\n",
       "    </tr>\n",
       "    <tr>\n",
       "      <th>2013-01-21</th>\n",
       "      <td>1</td>\n",
       "      <td>2013-01-21 14:25:50+02:00</td>\n",
       "      <td>89.0</td>\n",
       "      <td>0.000000</td>\n",
       "    </tr>\n",
       "    <tr>\n",
       "      <th>2013-01-21</th>\n",
       "      <td>1</td>\n",
       "      <td>2013-01-21 14:30:50+02:00</td>\n",
       "      <td>87.0</td>\n",
       "      <td>0.000000</td>\n",
       "    </tr>\n",
       "    <tr>\n",
       "      <th>2013-01-21</th>\n",
       "      <td>1</td>\n",
       "      <td>2013-01-21 14:35:50+02:00</td>\n",
       "      <td>85.0</td>\n",
       "      <td>0.000000</td>\n",
       "    </tr>\n",
       "    <tr>\n",
       "      <th>2013-01-21</th>\n",
       "      <td>1</td>\n",
       "      <td>2013-01-21 14:40:50+02:00</td>\n",
       "      <td>84.0</td>\n",
       "      <td>2.583333</td>\n",
       "    </tr>\n",
       "    <tr>\n",
       "      <th>...</th>\n",
       "      <th>...</th>\n",
       "      <td>...</td>\n",
       "      <td>...</td>\n",
       "      <td>...</td>\n",
       "      <td>...</td>\n",
       "    </tr>\n",
       "    <tr>\n",
       "      <th rowspan=\"5\" valign=\"top\">9999</th>\n",
       "      <th>2013-02-09</th>\n",
       "      <td>27</td>\n",
       "      <td>2013-02-09 19:37:29+02:00</td>\n",
       "      <td>75.0</td>\n",
       "      <td>NaN</td>\n",
       "    </tr>\n",
       "    <tr>\n",
       "      <th>2013-02-09</th>\n",
       "      <td>27</td>\n",
       "      <td>2013-02-09 19:42:29+02:00</td>\n",
       "      <td>77.0</td>\n",
       "      <td>NaN</td>\n",
       "    </tr>\n",
       "    <tr>\n",
       "      <th>2013-02-09</th>\n",
       "      <td>27</td>\n",
       "      <td>2013-02-09 19:47:29+02:00</td>\n",
       "      <td>80.0</td>\n",
       "      <td>NaN</td>\n",
       "    </tr>\n",
       "    <tr>\n",
       "      <th>2013-02-09</th>\n",
       "      <td>27</td>\n",
       "      <td>2013-02-09 19:52:29+02:00</td>\n",
       "      <td>84.0</td>\n",
       "      <td>NaN</td>\n",
       "    </tr>\n",
       "    <tr>\n",
       "      <th>2013-02-09</th>\n",
       "      <td>27</td>\n",
       "      <td>2013-02-09 19:57:29+02:00</td>\n",
       "      <td>87.0</td>\n",
       "      <td>NaN</td>\n",
       "    </tr>\n",
       "  </tbody>\n",
       "</table>\n",
       "<p>7974202 rows × 4 columns</p>\n",
       "</div>"
      ],
      "text/plain": [
       "                            ConnectionID                      Date  \\\n",
       "RegistrationCode day                                                 \n",
       "-1               2013-01-21            1 2013-01-21 14:20:50+02:00   \n",
       "                 2013-01-21            1 2013-01-21 14:25:50+02:00   \n",
       "                 2013-01-21            1 2013-01-21 14:30:50+02:00   \n",
       "                 2013-01-21            1 2013-01-21 14:35:50+02:00   \n",
       "                 2013-01-21            1 2013-01-21 14:40:50+02:00   \n",
       "...                                  ...                       ...   \n",
       "9999             2013-02-09           27 2013-02-09 19:37:29+02:00   \n",
       "                 2013-02-09           27 2013-02-09 19:42:29+02:00   \n",
       "                 2013-02-09           27 2013-02-09 19:47:29+02:00   \n",
       "                 2013-02-09           27 2013-02-09 19:52:29+02:00   \n",
       "                 2013-02-09           27 2013-02-09 19:57:29+02:00   \n",
       "\n",
       "                             GlucoseValue      PPGR  \n",
       "RegistrationCode day                                 \n",
       "-1               2013-01-21          88.0  0.000000  \n",
       "                 2013-01-21          89.0  0.000000  \n",
       "                 2013-01-21          87.0  0.000000  \n",
       "                 2013-01-21          85.0  0.000000  \n",
       "                 2013-01-21          84.0  2.583333  \n",
       "...                                   ...       ...  \n",
       "9999             2013-02-09          75.0       NaN  \n",
       "                 2013-02-09          77.0       NaN  \n",
       "                 2013-02-09          80.0       NaN  \n",
       "                 2013-02-09          84.0       NaN  \n",
       "                 2013-02-09          87.0       NaN  \n",
       "\n",
       "[7974202 rows x 4 columns]"
      ]
     },
     "execution_count": 311,
     "metadata": {},
     "output_type": "execute_result"
    }
   ],
   "source": [
    "cgmdf"
   ]
  },
  {
   "cell_type": "markdown",
   "metadata": {},
   "source": [
    "I want to retain only those days with available sleep data"
   ]
  },
  {
   "cell_type": "code",
   "execution_count": 302,
   "metadata": {},
   "outputs": [
    {
     "data": {
      "text/plain": [
       "79441"
      ]
     },
     "execution_count": 302,
     "metadata": {},
     "output_type": "execute_result"
    }
   ],
   "source": [
    "len(cgmdf.index.unique())"
   ]
  },
  {
   "cell_type": "code",
   "execution_count": 312,
   "metadata": {
    "collapsed": true
   },
   "outputs": [
    {
     "data": {
      "text/html": [
       "<div>\n",
       "<style scoped>\n",
       "    .dataframe tbody tr th:only-of-type {\n",
       "        vertical-align: middle;\n",
       "    }\n",
       "\n",
       "    .dataframe tbody tr th {\n",
       "        vertical-align: top;\n",
       "    }\n",
       "\n",
       "    .dataframe thead th {\n",
       "        text-align: right;\n",
       "    }\n",
       "</style>\n",
       "<table border=\"1\" class=\"dataframe\">\n",
       "  <thead>\n",
       "    <tr style=\"text-align: right;\">\n",
       "      <th></th>\n",
       "      <th></th>\n",
       "      <th>ConnectionID</th>\n",
       "      <th>Date</th>\n",
       "      <th>GlucoseValue</th>\n",
       "      <th>PPGR</th>\n",
       "      <th>sleep_time</th>\n",
       "      <th>wakeup_time</th>\n",
       "    </tr>\n",
       "    <tr>\n",
       "      <th>RegistrationCode</th>\n",
       "      <th>day</th>\n",
       "      <th></th>\n",
       "      <th></th>\n",
       "      <th></th>\n",
       "      <th></th>\n",
       "      <th></th>\n",
       "      <th></th>\n",
       "    </tr>\n",
       "  </thead>\n",
       "  <tbody>\n",
       "    <tr>\n",
       "      <th rowspan=\"5\" valign=\"top\">1</th>\n",
       "      <th>2016-02-22</th>\n",
       "      <td>1319</td>\n",
       "      <td>2016-02-22 09:20:30+02:00</td>\n",
       "      <td>107.0</td>\n",
       "      <td>1.833333</td>\n",
       "      <td>2016-02-22 00:30:43</td>\n",
       "      <td>2016-02-22 04:59:00</td>\n",
       "    </tr>\n",
       "    <tr>\n",
       "      <th>2016-02-22</th>\n",
       "      <td>1319</td>\n",
       "      <td>2016-02-22 09:20:30+02:00</td>\n",
       "      <td>107.0</td>\n",
       "      <td>1.833333</td>\n",
       "      <td>2016-02-22 23:15:00</td>\n",
       "      <td>2016-02-23 07:20:00</td>\n",
       "    </tr>\n",
       "    <tr>\n",
       "      <th>2016-02-22</th>\n",
       "      <td>1319</td>\n",
       "      <td>2016-02-22 09:25:30+02:00</td>\n",
       "      <td>106.0</td>\n",
       "      <td>3.708333</td>\n",
       "      <td>2016-02-22 00:30:43</td>\n",
       "      <td>2016-02-22 04:59:00</td>\n",
       "    </tr>\n",
       "    <tr>\n",
       "      <th>2016-02-22</th>\n",
       "      <td>1319</td>\n",
       "      <td>2016-02-22 09:25:30+02:00</td>\n",
       "      <td>106.0</td>\n",
       "      <td>3.708333</td>\n",
       "      <td>2016-02-22 23:15:00</td>\n",
       "      <td>2016-02-23 07:20:00</td>\n",
       "    </tr>\n",
       "    <tr>\n",
       "      <th>2016-02-22</th>\n",
       "      <td>1319</td>\n",
       "      <td>2016-02-22 09:30:30+02:00</td>\n",
       "      <td>106.0</td>\n",
       "      <td>3.625000</td>\n",
       "      <td>2016-02-22 00:30:43</td>\n",
       "      <td>2016-02-22 04:59:00</td>\n",
       "    </tr>\n",
       "    <tr>\n",
       "      <th>...</th>\n",
       "      <th>...</th>\n",
       "      <td>...</td>\n",
       "      <td>...</td>\n",
       "      <td>...</td>\n",
       "      <td>...</td>\n",
       "      <td>...</td>\n",
       "      <td>...</td>\n",
       "    </tr>\n",
       "    <tr>\n",
       "      <th rowspan=\"5\" valign=\"top\">999443</th>\n",
       "      <th>2017-12-27</th>\n",
       "      <td>2158</td>\n",
       "      <td>2017-12-27 06:31:00+02:00</td>\n",
       "      <td>49.0</td>\n",
       "      <td>NaN</td>\n",
       "      <td>2017-12-27 23:54:30</td>\n",
       "      <td>2017-12-28 07:00:03</td>\n",
       "    </tr>\n",
       "    <tr>\n",
       "      <th>2017-12-27</th>\n",
       "      <td>2158</td>\n",
       "      <td>2017-12-27 06:46:00+02:00</td>\n",
       "      <td>47.0</td>\n",
       "      <td>NaN</td>\n",
       "      <td>2017-12-27 23:54:30</td>\n",
       "      <td>2017-12-28 07:00:03</td>\n",
       "    </tr>\n",
       "    <tr>\n",
       "      <th>2017-12-27</th>\n",
       "      <td>2158</td>\n",
       "      <td>2017-12-27 07:01:00+02:00</td>\n",
       "      <td>44.0</td>\n",
       "      <td>NaN</td>\n",
       "      <td>2017-12-27 23:54:30</td>\n",
       "      <td>2017-12-28 07:00:03</td>\n",
       "    </tr>\n",
       "    <tr>\n",
       "      <th>2017-12-27</th>\n",
       "      <td>2158</td>\n",
       "      <td>2017-12-27 07:16:00+02:00</td>\n",
       "      <td>47.0</td>\n",
       "      <td>NaN</td>\n",
       "      <td>2017-12-27 23:54:30</td>\n",
       "      <td>2017-12-28 07:00:03</td>\n",
       "    </tr>\n",
       "    <tr>\n",
       "      <th>2017-12-27</th>\n",
       "      <td>2158</td>\n",
       "      <td>2017-12-27 07:31:00+02:00</td>\n",
       "      <td>50.0</td>\n",
       "      <td>NaN</td>\n",
       "      <td>2017-12-27 23:54:30</td>\n",
       "      <td>2017-12-28 07:00:03</td>\n",
       "    </tr>\n",
       "  </tbody>\n",
       "</table>\n",
       "<p>6636339 rows × 6 columns</p>\n",
       "</div>"
      ],
      "text/plain": [
       "                            ConnectionID                      Date  \\\n",
       "RegistrationCode day                                                 \n",
       "1                2016-02-22         1319 2016-02-22 09:20:30+02:00   \n",
       "                 2016-02-22         1319 2016-02-22 09:20:30+02:00   \n",
       "                 2016-02-22         1319 2016-02-22 09:25:30+02:00   \n",
       "                 2016-02-22         1319 2016-02-22 09:25:30+02:00   \n",
       "                 2016-02-22         1319 2016-02-22 09:30:30+02:00   \n",
       "...                                  ...                       ...   \n",
       "999443           2017-12-27         2158 2017-12-27 06:31:00+02:00   \n",
       "                 2017-12-27         2158 2017-12-27 06:46:00+02:00   \n",
       "                 2017-12-27         2158 2017-12-27 07:01:00+02:00   \n",
       "                 2017-12-27         2158 2017-12-27 07:16:00+02:00   \n",
       "                 2017-12-27         2158 2017-12-27 07:31:00+02:00   \n",
       "\n",
       "                             GlucoseValue      PPGR          sleep_time  \\\n",
       "RegistrationCode day                                                      \n",
       "1                2016-02-22         107.0  1.833333 2016-02-22 00:30:43   \n",
       "                 2016-02-22         107.0  1.833333 2016-02-22 23:15:00   \n",
       "                 2016-02-22         106.0  3.708333 2016-02-22 00:30:43   \n",
       "                 2016-02-22         106.0  3.708333 2016-02-22 23:15:00   \n",
       "                 2016-02-22         106.0  3.625000 2016-02-22 00:30:43   \n",
       "...                                   ...       ...                 ...   \n",
       "999443           2017-12-27          49.0       NaN 2017-12-27 23:54:30   \n",
       "                 2017-12-27          47.0       NaN 2017-12-27 23:54:30   \n",
       "                 2017-12-27          44.0       NaN 2017-12-27 23:54:30   \n",
       "                 2017-12-27          47.0       NaN 2017-12-27 23:54:30   \n",
       "                 2017-12-27          50.0       NaN 2017-12-27 23:54:30   \n",
       "\n",
       "                                    wakeup_time  \n",
       "RegistrationCode day                             \n",
       "1                2016-02-22 2016-02-22 04:59:00  \n",
       "                 2016-02-22 2016-02-23 07:20:00  \n",
       "                 2016-02-22 2016-02-22 04:59:00  \n",
       "                 2016-02-22 2016-02-23 07:20:00  \n",
       "                 2016-02-22 2016-02-22 04:59:00  \n",
       "...                                         ...  \n",
       "999443           2017-12-27 2017-12-28 07:00:03  \n",
       "                 2017-12-27 2017-12-28 07:00:03  \n",
       "                 2017-12-27 2017-12-28 07:00:03  \n",
       "                 2017-12-27 2017-12-28 07:00:03  \n",
       "                 2017-12-27 2017-12-28 07:00:03  \n",
       "\n",
       "[6636339 rows x 6 columns]"
      ]
     },
     "execution_count": 312,
     "metadata": {},
     "output_type": "execute_result"
    }
   ],
   "source": [
    "merged_df = pd.merge(cgmdf, sleepdf, on=['RegistrationCode','day'], how='inner')"
   ]
  },
  {
   "cell_type": "code",
   "execution_count": 314,
   "metadata": {},
   "outputs": [
    {
     "data": {
      "text/html": [
       "<div>\n",
       "<style scoped>\n",
       "    .dataframe tbody tr th:only-of-type {\n",
       "        vertical-align: middle;\n",
       "    }\n",
       "\n",
       "    .dataframe tbody tr th {\n",
       "        vertical-align: top;\n",
       "    }\n",
       "\n",
       "    .dataframe thead th {\n",
       "        text-align: right;\n",
       "    }\n",
       "</style>\n",
       "<table border=\"1\" class=\"dataframe\">\n",
       "  <thead>\n",
       "    <tr style=\"text-align: right;\">\n",
       "      <th></th>\n",
       "      <th></th>\n",
       "      <th>ConnectionID</th>\n",
       "      <th>Date</th>\n",
       "      <th>GlucoseValue</th>\n",
       "      <th>PPGR</th>\n",
       "      <th>sleep_time</th>\n",
       "      <th>wakeup_time</th>\n",
       "    </tr>\n",
       "    <tr>\n",
       "      <th>RegistrationCode</th>\n",
       "      <th>day</th>\n",
       "      <th></th>\n",
       "      <th></th>\n",
       "      <th></th>\n",
       "      <th></th>\n",
       "      <th></th>\n",
       "      <th></th>\n",
       "    </tr>\n",
       "  </thead>\n",
       "  <tbody>\n",
       "    <tr>\n",
       "      <th rowspan=\"5\" valign=\"top\">1</th>\n",
       "      <th>2016-02-22</th>\n",
       "      <td>1319</td>\n",
       "      <td>2016-02-22 09:20:30+02:00</td>\n",
       "      <td>107.0</td>\n",
       "      <td>1.833333</td>\n",
       "      <td>2016-02-22 00:30:43</td>\n",
       "      <td>2016-02-22 04:59:00</td>\n",
       "    </tr>\n",
       "    <tr>\n",
       "      <th>2016-02-22</th>\n",
       "      <td>1319</td>\n",
       "      <td>2016-02-22 09:20:30+02:00</td>\n",
       "      <td>107.0</td>\n",
       "      <td>1.833333</td>\n",
       "      <td>2016-02-22 23:15:00</td>\n",
       "      <td>2016-02-23 07:20:00</td>\n",
       "    </tr>\n",
       "    <tr>\n",
       "      <th>2016-02-22</th>\n",
       "      <td>1319</td>\n",
       "      <td>2016-02-22 09:25:30+02:00</td>\n",
       "      <td>106.0</td>\n",
       "      <td>3.708333</td>\n",
       "      <td>2016-02-22 00:30:43</td>\n",
       "      <td>2016-02-22 04:59:00</td>\n",
       "    </tr>\n",
       "    <tr>\n",
       "      <th>2016-02-22</th>\n",
       "      <td>1319</td>\n",
       "      <td>2016-02-22 09:25:30+02:00</td>\n",
       "      <td>106.0</td>\n",
       "      <td>3.708333</td>\n",
       "      <td>2016-02-22 23:15:00</td>\n",
       "      <td>2016-02-23 07:20:00</td>\n",
       "    </tr>\n",
       "    <tr>\n",
       "      <th>2016-02-22</th>\n",
       "      <td>1319</td>\n",
       "      <td>2016-02-22 09:30:30+02:00</td>\n",
       "      <td>106.0</td>\n",
       "      <td>3.625000</td>\n",
       "      <td>2016-02-22 00:30:43</td>\n",
       "      <td>2016-02-22 04:59:00</td>\n",
       "    </tr>\n",
       "    <tr>\n",
       "      <th>...</th>\n",
       "      <th>...</th>\n",
       "      <td>...</td>\n",
       "      <td>...</td>\n",
       "      <td>...</td>\n",
       "      <td>...</td>\n",
       "      <td>...</td>\n",
       "      <td>...</td>\n",
       "    </tr>\n",
       "    <tr>\n",
       "      <th rowspan=\"5\" valign=\"top\">999443</th>\n",
       "      <th>2017-12-27</th>\n",
       "      <td>2158</td>\n",
       "      <td>2017-12-27 06:31:00+02:00</td>\n",
       "      <td>49.0</td>\n",
       "      <td>NaN</td>\n",
       "      <td>2017-12-27 23:54:30</td>\n",
       "      <td>2017-12-28 07:00:03</td>\n",
       "    </tr>\n",
       "    <tr>\n",
       "      <th>2017-12-27</th>\n",
       "      <td>2158</td>\n",
       "      <td>2017-12-27 06:46:00+02:00</td>\n",
       "      <td>47.0</td>\n",
       "      <td>NaN</td>\n",
       "      <td>2017-12-27 23:54:30</td>\n",
       "      <td>2017-12-28 07:00:03</td>\n",
       "    </tr>\n",
       "    <tr>\n",
       "      <th>2017-12-27</th>\n",
       "      <td>2158</td>\n",
       "      <td>2017-12-27 07:01:00+02:00</td>\n",
       "      <td>44.0</td>\n",
       "      <td>NaN</td>\n",
       "      <td>2017-12-27 23:54:30</td>\n",
       "      <td>2017-12-28 07:00:03</td>\n",
       "    </tr>\n",
       "    <tr>\n",
       "      <th>2017-12-27</th>\n",
       "      <td>2158</td>\n",
       "      <td>2017-12-27 07:16:00+02:00</td>\n",
       "      <td>47.0</td>\n",
       "      <td>NaN</td>\n",
       "      <td>2017-12-27 23:54:30</td>\n",
       "      <td>2017-12-28 07:00:03</td>\n",
       "    </tr>\n",
       "    <tr>\n",
       "      <th>2017-12-27</th>\n",
       "      <td>2158</td>\n",
       "      <td>2017-12-27 07:31:00+02:00</td>\n",
       "      <td>50.0</td>\n",
       "      <td>NaN</td>\n",
       "      <td>2017-12-27 23:54:30</td>\n",
       "      <td>2017-12-28 07:00:03</td>\n",
       "    </tr>\n",
       "  </tbody>\n",
       "</table>\n",
       "<p>6636339 rows × 6 columns</p>\n",
       "</div>"
      ],
      "text/plain": [
       "                            ConnectionID                      Date  \\\n",
       "RegistrationCode day                                                 \n",
       "1                2016-02-22         1319 2016-02-22 09:20:30+02:00   \n",
       "                 2016-02-22         1319 2016-02-22 09:20:30+02:00   \n",
       "                 2016-02-22         1319 2016-02-22 09:25:30+02:00   \n",
       "                 2016-02-22         1319 2016-02-22 09:25:30+02:00   \n",
       "                 2016-02-22         1319 2016-02-22 09:30:30+02:00   \n",
       "...                                  ...                       ...   \n",
       "999443           2017-12-27         2158 2017-12-27 06:31:00+02:00   \n",
       "                 2017-12-27         2158 2017-12-27 06:46:00+02:00   \n",
       "                 2017-12-27         2158 2017-12-27 07:01:00+02:00   \n",
       "                 2017-12-27         2158 2017-12-27 07:16:00+02:00   \n",
       "                 2017-12-27         2158 2017-12-27 07:31:00+02:00   \n",
       "\n",
       "                             GlucoseValue      PPGR          sleep_time  \\\n",
       "RegistrationCode day                                                      \n",
       "1                2016-02-22         107.0  1.833333 2016-02-22 00:30:43   \n",
       "                 2016-02-22         107.0  1.833333 2016-02-22 23:15:00   \n",
       "                 2016-02-22         106.0  3.708333 2016-02-22 00:30:43   \n",
       "                 2016-02-22         106.0  3.708333 2016-02-22 23:15:00   \n",
       "                 2016-02-22         106.0  3.625000 2016-02-22 00:30:43   \n",
       "...                                   ...       ...                 ...   \n",
       "999443           2017-12-27          49.0       NaN 2017-12-27 23:54:30   \n",
       "                 2017-12-27          47.0       NaN 2017-12-27 23:54:30   \n",
       "                 2017-12-27          44.0       NaN 2017-12-27 23:54:30   \n",
       "                 2017-12-27          47.0       NaN 2017-12-27 23:54:30   \n",
       "                 2017-12-27          50.0       NaN 2017-12-27 23:54:30   \n",
       "\n",
       "                                    wakeup_time  \n",
       "RegistrationCode day                             \n",
       "1                2016-02-22 2016-02-22 04:59:00  \n",
       "                 2016-02-22 2016-02-23 07:20:00  \n",
       "                 2016-02-22 2016-02-22 04:59:00  \n",
       "                 2016-02-22 2016-02-23 07:20:00  \n",
       "                 2016-02-22 2016-02-22 04:59:00  \n",
       "...                                         ...  \n",
       "999443           2017-12-27 2017-12-28 07:00:03  \n",
       "                 2017-12-27 2017-12-28 07:00:03  \n",
       "                 2017-12-27 2017-12-28 07:00:03  \n",
       "                 2017-12-27 2017-12-28 07:00:03  \n",
       "                 2017-12-27 2017-12-28 07:00:03  \n",
       "\n",
       "[6636339 rows x 6 columns]"
      ]
     },
     "execution_count": 314,
     "metadata": {},
     "output_type": "execute_result"
    }
   ],
   "source": [
    "merged_df"
   ]
  },
  {
   "cell_type": "code",
   "execution_count": 315,
   "metadata": {
    "scrolled": true
   },
   "outputs": [
    {
     "data": {
      "text/plain": [
       "34573"
      ]
     },
     "execution_count": 315,
     "metadata": {},
     "output_type": "execute_result"
    }
   ],
   "source": [
    "len(merged_df.index.unique())"
   ]
  },
  {
   "cell_type": "code",
   "execution_count": 94,
   "metadata": {},
   "outputs": [
    {
     "data": {
      "text/plain": [
       "0.3641192834934102"
      ]
     },
     "execution_count": 94,
     "metadata": {},
     "output_type": "execute_result"
    }
   ],
   "source": [
    "28926/79441"
   ]
  },
  {
   "cell_type": "markdown",
   "metadata": {},
   "source": [
    "After filtering of the original cgm df with 79441 unique day-RC pairs to the cgm df containing only those rows with sleep data available we are left with 28926 unique RC-Day pairs. We lost ~1/3 and left with 36% of the original data "
   ]
  },
  {
   "cell_type": "markdown",
   "metadata": {},
   "source": [
    "## Sleep df retain night sleep only"
   ]
  },
  {
   "cell_type": "code",
   "execution_count": 316,
   "metadata": {},
   "outputs": [
    {
     "data": {
      "text/html": [
       "<div>\n",
       "<style scoped>\n",
       "    .dataframe tbody tr th:only-of-type {\n",
       "        vertical-align: middle;\n",
       "    }\n",
       "\n",
       "    .dataframe tbody tr th {\n",
       "        vertical-align: top;\n",
       "    }\n",
       "\n",
       "    .dataframe thead th {\n",
       "        text-align: right;\n",
       "    }\n",
       "</style>\n",
       "<table border=\"1\" class=\"dataframe\">\n",
       "  <thead>\n",
       "    <tr style=\"text-align: right;\">\n",
       "      <th></th>\n",
       "      <th></th>\n",
       "      <th>sleep_time</th>\n",
       "      <th>wakeup_time</th>\n",
       "    </tr>\n",
       "    <tr>\n",
       "      <th>RegistrationCode</th>\n",
       "      <th>day</th>\n",
       "      <th></th>\n",
       "      <th></th>\n",
       "    </tr>\n",
       "  </thead>\n",
       "  <tbody>\n",
       "    <tr>\n",
       "      <th rowspan=\"5\" valign=\"top\">0</th>\n",
       "      <th>2015-06-11</th>\n",
       "      <td>2015-06-11 09:23:15</td>\n",
       "      <td>2015-06-11 09:23:21</td>\n",
       "    </tr>\n",
       "    <tr>\n",
       "      <th>2015-06-11</th>\n",
       "      <td>2015-06-11 09:56:54</td>\n",
       "      <td>2015-06-11 19:56:37</td>\n",
       "    </tr>\n",
       "    <tr>\n",
       "      <th>2015-06-12</th>\n",
       "      <td>2015-06-12 01:50:00</td>\n",
       "      <td>2015-06-12 02:29:19</td>\n",
       "    </tr>\n",
       "    <tr>\n",
       "      <th>2015-06-12</th>\n",
       "      <td>2015-06-12 02:29:09</td>\n",
       "      <td>2015-06-12 02:29:19</td>\n",
       "    </tr>\n",
       "    <tr>\n",
       "      <th>2015-06-14</th>\n",
       "      <td>2015-06-14 01:45:40</td>\n",
       "      <td>2015-06-14 11:08:19</td>\n",
       "    </tr>\n",
       "    <tr>\n",
       "      <th>...</th>\n",
       "      <th>...</th>\n",
       "      <td>...</td>\n",
       "      <td>...</td>\n",
       "    </tr>\n",
       "    <tr>\n",
       "      <th rowspan=\"2\" valign=\"top\">3998965</th>\n",
       "      <th>2018-02-08</th>\n",
       "      <td>2018-02-08 00:00:00</td>\n",
       "      <td>2018-02-08 10:45:00</td>\n",
       "    </tr>\n",
       "    <tr>\n",
       "      <th>2018-02-10</th>\n",
       "      <td>2018-02-10 00:00:00</td>\n",
       "      <td>2018-02-10 09:45:00</td>\n",
       "    </tr>\n",
       "    <tr>\n",
       "      <th rowspan=\"3\" valign=\"top\">2147483647</th>\n",
       "      <th>2015-05-20</th>\n",
       "      <td>2015-05-20 00:00:00</td>\n",
       "      <td>2015-05-20 07:15:53</td>\n",
       "    </tr>\n",
       "    <tr>\n",
       "      <th>2015-05-23</th>\n",
       "      <td>2015-05-23 00:00:00</td>\n",
       "      <td>2015-05-23 07:10:41</td>\n",
       "    </tr>\n",
       "    <tr>\n",
       "      <th>2015-05-25</th>\n",
       "      <td>2015-05-25 00:00:00</td>\n",
       "      <td>2015-05-25 11:00:43</td>\n",
       "    </tr>\n",
       "  </tbody>\n",
       "</table>\n",
       "<p>72562 rows × 2 columns</p>\n",
       "</div>"
      ],
      "text/plain": [
       "                                     sleep_time         wakeup_time\n",
       "RegistrationCode day                                               \n",
       "0                2015-06-11 2015-06-11 09:23:15 2015-06-11 09:23:21\n",
       "                 2015-06-11 2015-06-11 09:56:54 2015-06-11 19:56:37\n",
       "                 2015-06-12 2015-06-12 01:50:00 2015-06-12 02:29:19\n",
       "                 2015-06-12 2015-06-12 02:29:09 2015-06-12 02:29:19\n",
       "                 2015-06-14 2015-06-14 01:45:40 2015-06-14 11:08:19\n",
       "...                                         ...                 ...\n",
       "3998965          2018-02-08 2018-02-08 00:00:00 2018-02-08 10:45:00\n",
       "                 2018-02-10 2018-02-10 00:00:00 2018-02-10 09:45:00\n",
       "2147483647       2015-05-20 2015-05-20 00:00:00 2015-05-20 07:15:53\n",
       "                 2015-05-23 2015-05-23 00:00:00 2015-05-23 07:10:41\n",
       "                 2015-05-25 2015-05-25 00:00:00 2015-05-25 11:00:43\n",
       "\n",
       "[72562 rows x 2 columns]"
      ]
     },
     "execution_count": 316,
     "metadata": {},
     "output_type": "execute_result"
    }
   ],
   "source": [
    "sleepdf"
   ]
  },
  {
   "cell_type": "code",
   "execution_count": 317,
   "metadata": {},
   "outputs": [],
   "source": [
    "sleepdf['Duration'] = sleepdf.wakeup_time - sleepdf.sleep_time"
   ]
  },
  {
   "cell_type": "code",
   "execution_count": 318,
   "metadata": {},
   "outputs": [],
   "source": [
    "sleepdf = sleepdf[(sleepdf.Duration > datetime.timedelta(hours=3)) & (\n",
    "    sleepdf.Duration < datetime.timedelta(hours=14))]"
   ]
  },
  {
   "cell_type": "code",
   "execution_count": 321,
   "metadata": {},
   "outputs": [
    {
     "data": {
      "text/plain": [
       "(42580, 6)"
      ]
     },
     "execution_count": 321,
     "metadata": {},
     "output_type": "execute_result"
    }
   ],
   "source": [
    "sleep_df.shape"
   ]
  },
  {
   "cell_type": "code",
   "execution_count": 322,
   "metadata": {},
   "outputs": [],
   "source": [
    "merged_df = pd.merge(cgmdf, sleepdf, on=['RegistrationCode','day'], how='inner')"
   ]
  },
  {
   "cell_type": "code",
   "execution_count": 323,
   "metadata": {},
   "outputs": [
    {
     "data": {
      "text/html": [
       "<div>\n",
       "<style scoped>\n",
       "    .dataframe tbody tr th:only-of-type {\n",
       "        vertical-align: middle;\n",
       "    }\n",
       "\n",
       "    .dataframe tbody tr th {\n",
       "        vertical-align: top;\n",
       "    }\n",
       "\n",
       "    .dataframe thead th {\n",
       "        text-align: right;\n",
       "    }\n",
       "</style>\n",
       "<table border=\"1\" class=\"dataframe\">\n",
       "  <thead>\n",
       "    <tr style=\"text-align: right;\">\n",
       "      <th></th>\n",
       "      <th></th>\n",
       "      <th>ConnectionID</th>\n",
       "      <th>Date</th>\n",
       "      <th>GlucoseValue</th>\n",
       "      <th>PPGR</th>\n",
       "      <th>sleep_time</th>\n",
       "      <th>wakeup_time</th>\n",
       "      <th>Duration</th>\n",
       "    </tr>\n",
       "    <tr>\n",
       "      <th>RegistrationCode</th>\n",
       "      <th>day</th>\n",
       "      <th></th>\n",
       "      <th></th>\n",
       "      <th></th>\n",
       "      <th></th>\n",
       "      <th></th>\n",
       "      <th></th>\n",
       "      <th></th>\n",
       "    </tr>\n",
       "  </thead>\n",
       "  <tbody>\n",
       "    <tr>\n",
       "      <th rowspan=\"5\" valign=\"top\">1</th>\n",
       "      <th>2016-02-22</th>\n",
       "      <td>1319</td>\n",
       "      <td>2016-02-22 09:20:30+02:00</td>\n",
       "      <td>107.0</td>\n",
       "      <td>1.833333</td>\n",
       "      <td>2016-02-22 00:30:43</td>\n",
       "      <td>2016-02-22 04:59:00</td>\n",
       "      <td>04:28:17</td>\n",
       "    </tr>\n",
       "    <tr>\n",
       "      <th>2016-02-22</th>\n",
       "      <td>1319</td>\n",
       "      <td>2016-02-22 09:20:30+02:00</td>\n",
       "      <td>107.0</td>\n",
       "      <td>1.833333</td>\n",
       "      <td>2016-02-22 23:15:00</td>\n",
       "      <td>2016-02-23 07:20:00</td>\n",
       "      <td>08:05:00</td>\n",
       "    </tr>\n",
       "    <tr>\n",
       "      <th>2016-02-22</th>\n",
       "      <td>1319</td>\n",
       "      <td>2016-02-22 09:25:30+02:00</td>\n",
       "      <td>106.0</td>\n",
       "      <td>3.708333</td>\n",
       "      <td>2016-02-22 00:30:43</td>\n",
       "      <td>2016-02-22 04:59:00</td>\n",
       "      <td>04:28:17</td>\n",
       "    </tr>\n",
       "    <tr>\n",
       "      <th>2016-02-22</th>\n",
       "      <td>1319</td>\n",
       "      <td>2016-02-22 09:25:30+02:00</td>\n",
       "      <td>106.0</td>\n",
       "      <td>3.708333</td>\n",
       "      <td>2016-02-22 23:15:00</td>\n",
       "      <td>2016-02-23 07:20:00</td>\n",
       "      <td>08:05:00</td>\n",
       "    </tr>\n",
       "    <tr>\n",
       "      <th>2016-02-22</th>\n",
       "      <td>1319</td>\n",
       "      <td>2016-02-22 09:30:30+02:00</td>\n",
       "      <td>106.0</td>\n",
       "      <td>3.625000</td>\n",
       "      <td>2016-02-22 00:30:43</td>\n",
       "      <td>2016-02-22 04:59:00</td>\n",
       "      <td>04:28:17</td>\n",
       "    </tr>\n",
       "    <tr>\n",
       "      <th>...</th>\n",
       "      <th>...</th>\n",
       "      <td>...</td>\n",
       "      <td>...</td>\n",
       "      <td>...</td>\n",
       "      <td>...</td>\n",
       "      <td>...</td>\n",
       "      <td>...</td>\n",
       "      <td>...</td>\n",
       "    </tr>\n",
       "    <tr>\n",
       "      <th rowspan=\"5\" valign=\"top\">999443</th>\n",
       "      <th>2017-12-27</th>\n",
       "      <td>2158</td>\n",
       "      <td>2017-12-27 06:31:00+02:00</td>\n",
       "      <td>49.0</td>\n",
       "      <td>NaN</td>\n",
       "      <td>2017-12-27 23:54:30</td>\n",
       "      <td>2017-12-28 07:00:03</td>\n",
       "      <td>07:05:33</td>\n",
       "    </tr>\n",
       "    <tr>\n",
       "      <th>2017-12-27</th>\n",
       "      <td>2158</td>\n",
       "      <td>2017-12-27 06:46:00+02:00</td>\n",
       "      <td>47.0</td>\n",
       "      <td>NaN</td>\n",
       "      <td>2017-12-27 23:54:30</td>\n",
       "      <td>2017-12-28 07:00:03</td>\n",
       "      <td>07:05:33</td>\n",
       "    </tr>\n",
       "    <tr>\n",
       "      <th>2017-12-27</th>\n",
       "      <td>2158</td>\n",
       "      <td>2017-12-27 07:01:00+02:00</td>\n",
       "      <td>44.0</td>\n",
       "      <td>NaN</td>\n",
       "      <td>2017-12-27 23:54:30</td>\n",
       "      <td>2017-12-28 07:00:03</td>\n",
       "      <td>07:05:33</td>\n",
       "    </tr>\n",
       "    <tr>\n",
       "      <th>2017-12-27</th>\n",
       "      <td>2158</td>\n",
       "      <td>2017-12-27 07:16:00+02:00</td>\n",
       "      <td>47.0</td>\n",
       "      <td>NaN</td>\n",
       "      <td>2017-12-27 23:54:30</td>\n",
       "      <td>2017-12-28 07:00:03</td>\n",
       "      <td>07:05:33</td>\n",
       "    </tr>\n",
       "    <tr>\n",
       "      <th>2017-12-27</th>\n",
       "      <td>2158</td>\n",
       "      <td>2017-12-27 07:31:00+02:00</td>\n",
       "      <td>50.0</td>\n",
       "      <td>NaN</td>\n",
       "      <td>2017-12-27 23:54:30</td>\n",
       "      <td>2017-12-28 07:00:03</td>\n",
       "      <td>07:05:33</td>\n",
       "    </tr>\n",
       "  </tbody>\n",
       "</table>\n",
       "<p>5897792 rows × 7 columns</p>\n",
       "</div>"
      ],
      "text/plain": [
       "                            ConnectionID                      Date  \\\n",
       "RegistrationCode day                                                 \n",
       "1                2016-02-22         1319 2016-02-22 09:20:30+02:00   \n",
       "                 2016-02-22         1319 2016-02-22 09:20:30+02:00   \n",
       "                 2016-02-22         1319 2016-02-22 09:25:30+02:00   \n",
       "                 2016-02-22         1319 2016-02-22 09:25:30+02:00   \n",
       "                 2016-02-22         1319 2016-02-22 09:30:30+02:00   \n",
       "...                                  ...                       ...   \n",
       "999443           2017-12-27         2158 2017-12-27 06:31:00+02:00   \n",
       "                 2017-12-27         2158 2017-12-27 06:46:00+02:00   \n",
       "                 2017-12-27         2158 2017-12-27 07:01:00+02:00   \n",
       "                 2017-12-27         2158 2017-12-27 07:16:00+02:00   \n",
       "                 2017-12-27         2158 2017-12-27 07:31:00+02:00   \n",
       "\n",
       "                             GlucoseValue      PPGR          sleep_time  \\\n",
       "RegistrationCode day                                                      \n",
       "1                2016-02-22         107.0  1.833333 2016-02-22 00:30:43   \n",
       "                 2016-02-22         107.0  1.833333 2016-02-22 23:15:00   \n",
       "                 2016-02-22         106.0  3.708333 2016-02-22 00:30:43   \n",
       "                 2016-02-22         106.0  3.708333 2016-02-22 23:15:00   \n",
       "                 2016-02-22         106.0  3.625000 2016-02-22 00:30:43   \n",
       "...                                   ...       ...                 ...   \n",
       "999443           2017-12-27          49.0       NaN 2017-12-27 23:54:30   \n",
       "                 2017-12-27          47.0       NaN 2017-12-27 23:54:30   \n",
       "                 2017-12-27          44.0       NaN 2017-12-27 23:54:30   \n",
       "                 2017-12-27          47.0       NaN 2017-12-27 23:54:30   \n",
       "                 2017-12-27          50.0       NaN 2017-12-27 23:54:30   \n",
       "\n",
       "                                    wakeup_time Duration  \n",
       "RegistrationCode day                                      \n",
       "1                2016-02-22 2016-02-22 04:59:00 04:28:17  \n",
       "                 2016-02-22 2016-02-23 07:20:00 08:05:00  \n",
       "                 2016-02-22 2016-02-22 04:59:00 04:28:17  \n",
       "                 2016-02-22 2016-02-23 07:20:00 08:05:00  \n",
       "                 2016-02-22 2016-02-22 04:59:00 04:28:17  \n",
       "...                                         ...      ...  \n",
       "999443           2017-12-27 2017-12-28 07:00:03 07:05:33  \n",
       "                 2017-12-27 2017-12-28 07:00:03 07:05:33  \n",
       "                 2017-12-27 2017-12-28 07:00:03 07:05:33  \n",
       "                 2017-12-27 2017-12-28 07:00:03 07:05:33  \n",
       "                 2017-12-27 2017-12-28 07:00:03 07:05:33  \n",
       "\n",
       "[5897792 rows x 7 columns]"
      ]
     },
     "execution_count": 323,
     "metadata": {},
     "output_type": "execute_result"
    }
   ],
   "source": [
    "merged_df"
   ]
  },
  {
   "cell_type": "code",
   "execution_count": 324,
   "metadata": {},
   "outputs": [
    {
     "data": {
      "text/plain": [
       "33870"
      ]
     },
     "execution_count": 324,
     "metadata": {},
     "output_type": "execute_result"
    }
   ],
   "source": [
    "len(merged_df.index.unique())"
   ]
  },
  {
   "cell_type": "code",
   "execution_count": 144,
   "metadata": {},
   "outputs": [],
   "source": [
    "slicedf = merged_df.loc[('1', slice(None)), :]"
   ]
  },
  {
   "cell_type": "code",
   "execution_count": 230,
   "metadata": {
    "scrolled": true
   },
   "outputs": [
    {
     "data": {
      "text/html": [
       "<div>\n",
       "<style scoped>\n",
       "    .dataframe tbody tr th:only-of-type {\n",
       "        vertical-align: middle;\n",
       "    }\n",
       "\n",
       "    .dataframe tbody tr th {\n",
       "        vertical-align: top;\n",
       "    }\n",
       "\n",
       "    .dataframe thead th {\n",
       "        text-align: right;\n",
       "    }\n",
       "</style>\n",
       "<table border=\"1\" class=\"dataframe\">\n",
       "  <thead>\n",
       "    <tr style=\"text-align: right;\">\n",
       "      <th></th>\n",
       "      <th></th>\n",
       "      <th>ConnectionID</th>\n",
       "      <th>Date</th>\n",
       "      <th>GlucoseValue</th>\n",
       "      <th>PPGR</th>\n",
       "      <th>sleep_time</th>\n",
       "      <th>wakeup_time</th>\n",
       "      <th>Quality</th>\n",
       "      <th>Duration</th>\n",
       "    </tr>\n",
       "    <tr>\n",
       "      <th>RegistrationCode</th>\n",
       "      <th>Day</th>\n",
       "      <th></th>\n",
       "      <th></th>\n",
       "      <th></th>\n",
       "      <th></th>\n",
       "      <th></th>\n",
       "      <th></th>\n",
       "      <th></th>\n",
       "      <th></th>\n",
       "    </tr>\n",
       "  </thead>\n",
       "  <tbody>\n",
       "    <tr>\n",
       "      <th rowspan=\"11\" valign=\"top\">1</th>\n",
       "      <th>2016-02-27</th>\n",
       "      <td>1319</td>\n",
       "      <td>2016-02-27 00:00:32</td>\n",
       "      <td>94.0</td>\n",
       "      <td>0.0</td>\n",
       "      <td>2016-02-27 23:00:00</td>\n",
       "      <td>2016-02-28 06:30:00</td>\n",
       "      <td>NaT</td>\n",
       "      <td>07:30:00</td>\n",
       "    </tr>\n",
       "    <tr>\n",
       "      <th>2016-02-27</th>\n",
       "      <td>1319</td>\n",
       "      <td>2016-02-27 00:05:32</td>\n",
       "      <td>94.0</td>\n",
       "      <td>0.0</td>\n",
       "      <td>2016-02-27 23:00:00</td>\n",
       "      <td>2016-02-28 06:30:00</td>\n",
       "      <td>NaT</td>\n",
       "      <td>07:30:00</td>\n",
       "    </tr>\n",
       "    <tr>\n",
       "      <th>2016-02-27</th>\n",
       "      <td>1319</td>\n",
       "      <td>2016-02-27 00:10:32</td>\n",
       "      <td>94.0</td>\n",
       "      <td>0.0</td>\n",
       "      <td>2016-02-27 23:00:00</td>\n",
       "      <td>2016-02-28 06:30:00</td>\n",
       "      <td>NaT</td>\n",
       "      <td>07:30:00</td>\n",
       "    </tr>\n",
       "    <tr>\n",
       "      <th>2016-02-27</th>\n",
       "      <td>1319</td>\n",
       "      <td>2016-02-27 00:15:32</td>\n",
       "      <td>94.0</td>\n",
       "      <td>0.0</td>\n",
       "      <td>2016-02-27 23:00:00</td>\n",
       "      <td>2016-02-28 06:30:00</td>\n",
       "      <td>NaT</td>\n",
       "      <td>07:30:00</td>\n",
       "    </tr>\n",
       "    <tr>\n",
       "      <th>2016-02-27</th>\n",
       "      <td>1319</td>\n",
       "      <td>2016-02-27 00:20:32</td>\n",
       "      <td>94.0</td>\n",
       "      <td>0.0</td>\n",
       "      <td>2016-02-27 23:00:00</td>\n",
       "      <td>2016-02-28 06:30:00</td>\n",
       "      <td>NaT</td>\n",
       "      <td>07:30:00</td>\n",
       "    </tr>\n",
       "    <tr>\n",
       "      <th>...</th>\n",
       "      <td>...</td>\n",
       "      <td>...</td>\n",
       "      <td>...</td>\n",
       "      <td>...</td>\n",
       "      <td>...</td>\n",
       "      <td>...</td>\n",
       "      <td>...</td>\n",
       "      <td>...</td>\n",
       "    </tr>\n",
       "    <tr>\n",
       "      <th>2016-02-27</th>\n",
       "      <td>1319</td>\n",
       "      <td>2016-02-27 21:40:34</td>\n",
       "      <td>111.0</td>\n",
       "      <td>NaN</td>\n",
       "      <td>2016-02-27 23:00:00</td>\n",
       "      <td>2016-02-28 06:30:00</td>\n",
       "      <td>NaT</td>\n",
       "      <td>07:30:00</td>\n",
       "    </tr>\n",
       "    <tr>\n",
       "      <th>2016-02-27</th>\n",
       "      <td>1319</td>\n",
       "      <td>2016-02-27 21:45:34</td>\n",
       "      <td>110.0</td>\n",
       "      <td>NaN</td>\n",
       "      <td>2016-02-27 23:00:00</td>\n",
       "      <td>2016-02-28 06:30:00</td>\n",
       "      <td>NaT</td>\n",
       "      <td>07:30:00</td>\n",
       "    </tr>\n",
       "    <tr>\n",
       "      <th>2016-02-27</th>\n",
       "      <td>1319</td>\n",
       "      <td>2016-02-27 21:50:34</td>\n",
       "      <td>108.0</td>\n",
       "      <td>NaN</td>\n",
       "      <td>2016-02-27 23:00:00</td>\n",
       "      <td>2016-02-28 06:30:00</td>\n",
       "      <td>NaT</td>\n",
       "      <td>07:30:00</td>\n",
       "    </tr>\n",
       "    <tr>\n",
       "      <th>2016-02-27</th>\n",
       "      <td>1319</td>\n",
       "      <td>2016-02-27 21:55:34</td>\n",
       "      <td>107.0</td>\n",
       "      <td>NaN</td>\n",
       "      <td>2016-02-27 23:00:00</td>\n",
       "      <td>2016-02-28 06:30:00</td>\n",
       "      <td>NaT</td>\n",
       "      <td>07:30:00</td>\n",
       "    </tr>\n",
       "    <tr>\n",
       "      <th>2016-02-27</th>\n",
       "      <td>1319</td>\n",
       "      <td>2016-02-27 22:00:34</td>\n",
       "      <td>105.0</td>\n",
       "      <td>NaN</td>\n",
       "      <td>2016-02-27 23:00:00</td>\n",
       "      <td>2016-02-28 06:30:00</td>\n",
       "      <td>NaT</td>\n",
       "      <td>07:30:00</td>\n",
       "    </tr>\n",
       "  </tbody>\n",
       "</table>\n",
       "<p>265 rows × 8 columns</p>\n",
       "</div>"
      ],
      "text/plain": [
       "                            ConnectionID                Date  GlucoseValue  \\\n",
       "RegistrationCode Day                                                         \n",
       "1                2016-02-27         1319 2016-02-27 00:00:32          94.0   \n",
       "                 2016-02-27         1319 2016-02-27 00:05:32          94.0   \n",
       "                 2016-02-27         1319 2016-02-27 00:10:32          94.0   \n",
       "                 2016-02-27         1319 2016-02-27 00:15:32          94.0   \n",
       "                 2016-02-27         1319 2016-02-27 00:20:32          94.0   \n",
       "...                                  ...                 ...           ...   \n",
       "                 2016-02-27         1319 2016-02-27 21:40:34         111.0   \n",
       "                 2016-02-27         1319 2016-02-27 21:45:34         110.0   \n",
       "                 2016-02-27         1319 2016-02-27 21:50:34         108.0   \n",
       "                 2016-02-27         1319 2016-02-27 21:55:34         107.0   \n",
       "                 2016-02-27         1319 2016-02-27 22:00:34         105.0   \n",
       "\n",
       "                             PPGR          sleep_time         wakeup_time  \\\n",
       "RegistrationCode Day                                                        \n",
       "1                2016-02-27   0.0 2016-02-27 23:00:00 2016-02-28 06:30:00   \n",
       "                 2016-02-27   0.0 2016-02-27 23:00:00 2016-02-28 06:30:00   \n",
       "                 2016-02-27   0.0 2016-02-27 23:00:00 2016-02-28 06:30:00   \n",
       "                 2016-02-27   0.0 2016-02-27 23:00:00 2016-02-28 06:30:00   \n",
       "                 2016-02-27   0.0 2016-02-27 23:00:00 2016-02-28 06:30:00   \n",
       "...                           ...                 ...                 ...   \n",
       "                 2016-02-27   NaN 2016-02-27 23:00:00 2016-02-28 06:30:00   \n",
       "                 2016-02-27   NaN 2016-02-27 23:00:00 2016-02-28 06:30:00   \n",
       "                 2016-02-27   NaN 2016-02-27 23:00:00 2016-02-28 06:30:00   \n",
       "                 2016-02-27   NaN 2016-02-27 23:00:00 2016-02-28 06:30:00   \n",
       "                 2016-02-27   NaN 2016-02-27 23:00:00 2016-02-28 06:30:00   \n",
       "\n",
       "                            Quality Duration  \n",
       "RegistrationCode Day                          \n",
       "1                2016-02-27     NaT 07:30:00  \n",
       "                 2016-02-27     NaT 07:30:00  \n",
       "                 2016-02-27     NaT 07:30:00  \n",
       "                 2016-02-27     NaT 07:30:00  \n",
       "                 2016-02-27     NaT 07:30:00  \n",
       "...                             ...      ...  \n",
       "                 2016-02-27     NaT 07:30:00  \n",
       "                 2016-02-27     NaT 07:30:00  \n",
       "                 2016-02-27     NaT 07:30:00  \n",
       "                 2016-02-27     NaT 07:30:00  \n",
       "                 2016-02-27     NaT 07:30:00  \n",
       "\n",
       "[265 rows x 8 columns]"
      ]
     },
     "execution_count": 230,
     "metadata": {},
     "output_type": "execute_result"
    }
   ],
   "source": [
    "slicedf.loc[('1', pd.to_datetime('2016-02-27')), :]"
   ]
  },
  {
   "cell_type": "code",
   "execution_count": 325,
   "metadata": {},
   "outputs": [],
   "source": [
    "merged_df['Date'] = merged_df['Date'].dt.tz_localize(None)"
   ]
  },
  {
   "cell_type": "code",
   "execution_count": 328,
   "metadata": {},
   "outputs": [
    {
     "data": {
      "text/html": [
       "<div>\n",
       "<style scoped>\n",
       "    .dataframe tbody tr th:only-of-type {\n",
       "        vertical-align: middle;\n",
       "    }\n",
       "\n",
       "    .dataframe tbody tr th {\n",
       "        vertical-align: top;\n",
       "    }\n",
       "\n",
       "    .dataframe thead th {\n",
       "        text-align: right;\n",
       "    }\n",
       "</style>\n",
       "<table border=\"1\" class=\"dataframe\">\n",
       "  <thead>\n",
       "    <tr style=\"text-align: right;\">\n",
       "      <th></th>\n",
       "      <th></th>\n",
       "      <th>ConnectionID</th>\n",
       "      <th>Date</th>\n",
       "      <th>GlucoseValue</th>\n",
       "      <th>PPGR</th>\n",
       "      <th>sleep_time</th>\n",
       "      <th>wakeup_time</th>\n",
       "      <th>Duration</th>\n",
       "    </tr>\n",
       "    <tr>\n",
       "      <th>RegistrationCode</th>\n",
       "      <th>day</th>\n",
       "      <th></th>\n",
       "      <th></th>\n",
       "      <th></th>\n",
       "      <th></th>\n",
       "      <th></th>\n",
       "      <th></th>\n",
       "      <th></th>\n",
       "    </tr>\n",
       "  </thead>\n",
       "  <tbody>\n",
       "    <tr>\n",
       "      <th rowspan=\"5\" valign=\"top\">1</th>\n",
       "      <th>2016-02-22</th>\n",
       "      <td>1319</td>\n",
       "      <td>2016-02-22 23:15:31</td>\n",
       "      <td>106.0</td>\n",
       "      <td>0.0</td>\n",
       "      <td>2016-02-22 23:15:00</td>\n",
       "      <td>2016-02-23 07:20:00</td>\n",
       "      <td>08:05:00</td>\n",
       "    </tr>\n",
       "    <tr>\n",
       "      <th>2016-02-22</th>\n",
       "      <td>1319</td>\n",
       "      <td>2016-02-22 23:20:31</td>\n",
       "      <td>106.0</td>\n",
       "      <td>0.0</td>\n",
       "      <td>2016-02-22 23:15:00</td>\n",
       "      <td>2016-02-23 07:20:00</td>\n",
       "      <td>08:05:00</td>\n",
       "    </tr>\n",
       "    <tr>\n",
       "      <th>2016-02-22</th>\n",
       "      <td>1319</td>\n",
       "      <td>2016-02-22 23:25:31</td>\n",
       "      <td>105.0</td>\n",
       "      <td>0.0</td>\n",
       "      <td>2016-02-22 23:15:00</td>\n",
       "      <td>2016-02-23 07:20:00</td>\n",
       "      <td>08:05:00</td>\n",
       "    </tr>\n",
       "    <tr>\n",
       "      <th>2016-02-22</th>\n",
       "      <td>1319</td>\n",
       "      <td>2016-02-22 23:30:31</td>\n",
       "      <td>105.0</td>\n",
       "      <td>0.0</td>\n",
       "      <td>2016-02-22 23:15:00</td>\n",
       "      <td>2016-02-23 07:20:00</td>\n",
       "      <td>08:05:00</td>\n",
       "    </tr>\n",
       "    <tr>\n",
       "      <th>2016-02-22</th>\n",
       "      <td>1319</td>\n",
       "      <td>2016-02-22 23:35:31</td>\n",
       "      <td>104.0</td>\n",
       "      <td>0.0</td>\n",
       "      <td>2016-02-22 23:15:00</td>\n",
       "      <td>2016-02-23 07:20:00</td>\n",
       "      <td>08:05:00</td>\n",
       "    </tr>\n",
       "    <tr>\n",
       "      <th>...</th>\n",
       "      <th>...</th>\n",
       "      <td>...</td>\n",
       "      <td>...</td>\n",
       "      <td>...</td>\n",
       "      <td>...</td>\n",
       "      <td>...</td>\n",
       "      <td>...</td>\n",
       "      <td>...</td>\n",
       "    </tr>\n",
       "    <tr>\n",
       "      <th rowspan=\"5\" valign=\"top\">999443</th>\n",
       "      <th>2017-12-06</th>\n",
       "      <td>2157</td>\n",
       "      <td>2017-12-06 05:52:00</td>\n",
       "      <td>68.0</td>\n",
       "      <td>NaN</td>\n",
       "      <td>2017-12-06 00:37:27</td>\n",
       "      <td>2017-12-06 07:10:48</td>\n",
       "      <td>06:33:21</td>\n",
       "    </tr>\n",
       "    <tr>\n",
       "      <th>2017-12-06</th>\n",
       "      <td>2157</td>\n",
       "      <td>2017-12-06 06:07:00</td>\n",
       "      <td>65.0</td>\n",
       "      <td>NaN</td>\n",
       "      <td>2017-12-06 00:37:27</td>\n",
       "      <td>2017-12-06 07:10:48</td>\n",
       "      <td>06:33:21</td>\n",
       "    </tr>\n",
       "    <tr>\n",
       "      <th>2017-12-06</th>\n",
       "      <td>2157</td>\n",
       "      <td>2017-12-06 06:22:00</td>\n",
       "      <td>64.0</td>\n",
       "      <td>NaN</td>\n",
       "      <td>2017-12-06 00:37:27</td>\n",
       "      <td>2017-12-06 07:10:48</td>\n",
       "      <td>06:33:21</td>\n",
       "    </tr>\n",
       "    <tr>\n",
       "      <th>2017-12-06</th>\n",
       "      <td>2157</td>\n",
       "      <td>2017-12-06 06:37:00</td>\n",
       "      <td>65.0</td>\n",
       "      <td>NaN</td>\n",
       "      <td>2017-12-06 00:37:27</td>\n",
       "      <td>2017-12-06 07:10:48</td>\n",
       "      <td>06:33:21</td>\n",
       "    </tr>\n",
       "    <tr>\n",
       "      <th>2017-12-06</th>\n",
       "      <td>2157</td>\n",
       "      <td>2017-12-06 06:52:00</td>\n",
       "      <td>64.0</td>\n",
       "      <td>NaN</td>\n",
       "      <td>2017-12-06 00:37:27</td>\n",
       "      <td>2017-12-06 07:10:48</td>\n",
       "      <td>06:33:21</td>\n",
       "    </tr>\n",
       "  </tbody>\n",
       "</table>\n",
       "<p>1194981 rows × 7 columns</p>\n",
       "</div>"
      ],
      "text/plain": [
       "                            ConnectionID                Date  GlucoseValue  \\\n",
       "RegistrationCode day                                                         \n",
       "1                2016-02-22         1319 2016-02-22 23:15:31         106.0   \n",
       "                 2016-02-22         1319 2016-02-22 23:20:31         106.0   \n",
       "                 2016-02-22         1319 2016-02-22 23:25:31         105.0   \n",
       "                 2016-02-22         1319 2016-02-22 23:30:31         105.0   \n",
       "                 2016-02-22         1319 2016-02-22 23:35:31         104.0   \n",
       "...                                  ...                 ...           ...   \n",
       "999443           2017-12-06         2157 2017-12-06 05:52:00          68.0   \n",
       "                 2017-12-06         2157 2017-12-06 06:07:00          65.0   \n",
       "                 2017-12-06         2157 2017-12-06 06:22:00          64.0   \n",
       "                 2017-12-06         2157 2017-12-06 06:37:00          65.0   \n",
       "                 2017-12-06         2157 2017-12-06 06:52:00          64.0   \n",
       "\n",
       "                             PPGR          sleep_time         wakeup_time  \\\n",
       "RegistrationCode day                                                        \n",
       "1                2016-02-22   0.0 2016-02-22 23:15:00 2016-02-23 07:20:00   \n",
       "                 2016-02-22   0.0 2016-02-22 23:15:00 2016-02-23 07:20:00   \n",
       "                 2016-02-22   0.0 2016-02-22 23:15:00 2016-02-23 07:20:00   \n",
       "                 2016-02-22   0.0 2016-02-22 23:15:00 2016-02-23 07:20:00   \n",
       "                 2016-02-22   0.0 2016-02-22 23:15:00 2016-02-23 07:20:00   \n",
       "...                           ...                 ...                 ...   \n",
       "999443           2017-12-06   NaN 2017-12-06 00:37:27 2017-12-06 07:10:48   \n",
       "                 2017-12-06   NaN 2017-12-06 00:37:27 2017-12-06 07:10:48   \n",
       "                 2017-12-06   NaN 2017-12-06 00:37:27 2017-12-06 07:10:48   \n",
       "                 2017-12-06   NaN 2017-12-06 00:37:27 2017-12-06 07:10:48   \n",
       "                 2017-12-06   NaN 2017-12-06 00:37:27 2017-12-06 07:10:48   \n",
       "\n",
       "                            Duration  \n",
       "RegistrationCode day                  \n",
       "1                2016-02-22 08:05:00  \n",
       "                 2016-02-22 08:05:00  \n",
       "                 2016-02-22 08:05:00  \n",
       "                 2016-02-22 08:05:00  \n",
       "                 2016-02-22 08:05:00  \n",
       "...                              ...  \n",
       "999443           2017-12-06 06:33:21  \n",
       "                 2017-12-06 06:33:21  \n",
       "                 2017-12-06 06:33:21  \n",
       "                 2017-12-06 06:33:21  \n",
       "                 2017-12-06 06:33:21  \n",
       "\n",
       "[1194981 rows x 7 columns]"
      ]
     },
     "execution_count": 328,
     "metadata": {},
     "output_type": "execute_result"
    }
   ],
   "source": [
    "cgm_night = merged_df[(merged_df['Date'] >= merged_df['sleep_time']) & (merged_df['Date'] <= merged_df['wakeup_time'])]\n",
    "cgm_night"
   ]
  },
  {
   "cell_type": "code",
   "execution_count": 330,
   "metadata": {
    "scrolled": true
   },
   "outputs": [
    {
     "data": {
      "text/html": [
       "<div>\n",
       "<style scoped>\n",
       "    .dataframe tbody tr th:only-of-type {\n",
       "        vertical-align: middle;\n",
       "    }\n",
       "\n",
       "    .dataframe tbody tr th {\n",
       "        vertical-align: top;\n",
       "    }\n",
       "\n",
       "    .dataframe thead th {\n",
       "        text-align: right;\n",
       "    }\n",
       "</style>\n",
       "<table border=\"1\" class=\"dataframe\">\n",
       "  <thead>\n",
       "    <tr style=\"text-align: right;\">\n",
       "      <th></th>\n",
       "      <th></th>\n",
       "      <th>ConnectionID</th>\n",
       "      <th>Date</th>\n",
       "      <th>GlucoseValue</th>\n",
       "      <th>PPGR</th>\n",
       "      <th>sleep_time</th>\n",
       "      <th>wakeup_time</th>\n",
       "      <th>Duration</th>\n",
       "    </tr>\n",
       "    <tr>\n",
       "      <th>RegistrationCode</th>\n",
       "      <th>day</th>\n",
       "      <th></th>\n",
       "      <th></th>\n",
       "      <th></th>\n",
       "      <th></th>\n",
       "      <th></th>\n",
       "      <th></th>\n",
       "      <th></th>\n",
       "    </tr>\n",
       "  </thead>\n",
       "  <tbody>\n",
       "    <tr>\n",
       "      <th rowspan=\"11\" valign=\"top\">1</th>\n",
       "      <th>2016-02-27</th>\n",
       "      <td>1319</td>\n",
       "      <td>2016-02-27 00:00:32</td>\n",
       "      <td>94.0</td>\n",
       "      <td>0.000000</td>\n",
       "      <td>2016-02-27</td>\n",
       "      <td>2016-02-27 07:00:00</td>\n",
       "      <td>07:00:00</td>\n",
       "    </tr>\n",
       "    <tr>\n",
       "      <th>2016-02-27</th>\n",
       "      <td>1319</td>\n",
       "      <td>2016-02-27 00:05:32</td>\n",
       "      <td>94.0</td>\n",
       "      <td>0.000000</td>\n",
       "      <td>2016-02-27</td>\n",
       "      <td>2016-02-27 07:00:00</td>\n",
       "      <td>07:00:00</td>\n",
       "    </tr>\n",
       "    <tr>\n",
       "      <th>2016-02-27</th>\n",
       "      <td>1319</td>\n",
       "      <td>2016-02-27 00:10:32</td>\n",
       "      <td>94.0</td>\n",
       "      <td>0.000000</td>\n",
       "      <td>2016-02-27</td>\n",
       "      <td>2016-02-27 07:00:00</td>\n",
       "      <td>07:00:00</td>\n",
       "    </tr>\n",
       "    <tr>\n",
       "      <th>2016-02-27</th>\n",
       "      <td>1319</td>\n",
       "      <td>2016-02-27 00:15:32</td>\n",
       "      <td>94.0</td>\n",
       "      <td>0.000000</td>\n",
       "      <td>2016-02-27</td>\n",
       "      <td>2016-02-27 07:00:00</td>\n",
       "      <td>07:00:00</td>\n",
       "    </tr>\n",
       "    <tr>\n",
       "      <th>2016-02-27</th>\n",
       "      <td>1319</td>\n",
       "      <td>2016-02-27 00:20:32</td>\n",
       "      <td>94.0</td>\n",
       "      <td>0.000000</td>\n",
       "      <td>2016-02-27</td>\n",
       "      <td>2016-02-27 07:00:00</td>\n",
       "      <td>07:00:00</td>\n",
       "    </tr>\n",
       "    <tr>\n",
       "      <th>...</th>\n",
       "      <td>...</td>\n",
       "      <td>...</td>\n",
       "      <td>...</td>\n",
       "      <td>...</td>\n",
       "      <td>...</td>\n",
       "      <td>...</td>\n",
       "      <td>...</td>\n",
       "    </tr>\n",
       "    <tr>\n",
       "      <th>2016-02-27</th>\n",
       "      <td>1319</td>\n",
       "      <td>2016-02-27 06:35:32</td>\n",
       "      <td>98.0</td>\n",
       "      <td>18.041667</td>\n",
       "      <td>2016-02-27</td>\n",
       "      <td>2016-02-27 07:00:00</td>\n",
       "      <td>07:00:00</td>\n",
       "    </tr>\n",
       "    <tr>\n",
       "      <th>2016-02-27</th>\n",
       "      <td>1319</td>\n",
       "      <td>2016-02-27 06:40:32</td>\n",
       "      <td>98.0</td>\n",
       "      <td>21.083333</td>\n",
       "      <td>2016-02-27</td>\n",
       "      <td>2016-02-27 07:00:00</td>\n",
       "      <td>07:00:00</td>\n",
       "    </tr>\n",
       "    <tr>\n",
       "      <th>2016-02-27</th>\n",
       "      <td>1319</td>\n",
       "      <td>2016-02-27 06:45:32</td>\n",
       "      <td>98.0</td>\n",
       "      <td>24.041667</td>\n",
       "      <td>2016-02-27</td>\n",
       "      <td>2016-02-27 07:00:00</td>\n",
       "      <td>07:00:00</td>\n",
       "    </tr>\n",
       "    <tr>\n",
       "      <th>2016-02-27</th>\n",
       "      <td>1319</td>\n",
       "      <td>2016-02-27 06:50:32</td>\n",
       "      <td>98.0</td>\n",
       "      <td>26.875000</td>\n",
       "      <td>2016-02-27</td>\n",
       "      <td>2016-02-27 07:00:00</td>\n",
       "      <td>07:00:00</td>\n",
       "    </tr>\n",
       "    <tr>\n",
       "      <th>2016-02-27</th>\n",
       "      <td>1319</td>\n",
       "      <td>2016-02-27 06:55:32</td>\n",
       "      <td>98.0</td>\n",
       "      <td>29.541667</td>\n",
       "      <td>2016-02-27</td>\n",
       "      <td>2016-02-27 07:00:00</td>\n",
       "      <td>07:00:00</td>\n",
       "    </tr>\n",
       "  </tbody>\n",
       "</table>\n",
       "<p>84 rows × 7 columns</p>\n",
       "</div>"
      ],
      "text/plain": [
       "                            ConnectionID                Date  GlucoseValue  \\\n",
       "RegistrationCode day                                                         \n",
       "1                2016-02-27         1319 2016-02-27 00:00:32          94.0   \n",
       "                 2016-02-27         1319 2016-02-27 00:05:32          94.0   \n",
       "                 2016-02-27         1319 2016-02-27 00:10:32          94.0   \n",
       "                 2016-02-27         1319 2016-02-27 00:15:32          94.0   \n",
       "                 2016-02-27         1319 2016-02-27 00:20:32          94.0   \n",
       "...                                  ...                 ...           ...   \n",
       "                 2016-02-27         1319 2016-02-27 06:35:32          98.0   \n",
       "                 2016-02-27         1319 2016-02-27 06:40:32          98.0   \n",
       "                 2016-02-27         1319 2016-02-27 06:45:32          98.0   \n",
       "                 2016-02-27         1319 2016-02-27 06:50:32          98.0   \n",
       "                 2016-02-27         1319 2016-02-27 06:55:32          98.0   \n",
       "\n",
       "                                  PPGR sleep_time         wakeup_time Duration  \n",
       "RegistrationCode day                                                            \n",
       "1                2016-02-27   0.000000 2016-02-27 2016-02-27 07:00:00 07:00:00  \n",
       "                 2016-02-27   0.000000 2016-02-27 2016-02-27 07:00:00 07:00:00  \n",
       "                 2016-02-27   0.000000 2016-02-27 2016-02-27 07:00:00 07:00:00  \n",
       "                 2016-02-27   0.000000 2016-02-27 2016-02-27 07:00:00 07:00:00  \n",
       "                 2016-02-27   0.000000 2016-02-27 2016-02-27 07:00:00 07:00:00  \n",
       "...                                ...        ...                 ...      ...  \n",
       "                 2016-02-27  18.041667 2016-02-27 2016-02-27 07:00:00 07:00:00  \n",
       "                 2016-02-27  21.083333 2016-02-27 2016-02-27 07:00:00 07:00:00  \n",
       "                 2016-02-27  24.041667 2016-02-27 2016-02-27 07:00:00 07:00:00  \n",
       "                 2016-02-27  26.875000 2016-02-27 2016-02-27 07:00:00 07:00:00  \n",
       "                 2016-02-27  29.541667 2016-02-27 2016-02-27 07:00:00 07:00:00  \n",
       "\n",
       "[84 rows x 7 columns]"
      ]
     },
     "execution_count": 330,
     "metadata": {},
     "output_type": "execute_result"
    }
   ],
   "source": [
    "cgm_night.loc[('1', pd.to_datetime('2016-02-27')), :]"
   ]
  },
  {
   "cell_type": "code",
   "execution_count": 333,
   "metadata": {},
   "outputs": [
    {
     "name": "stderr",
     "output_type": "stream",
     "text": [
      "/home/elming/anaconda3/envs/mylabdata/lib/python3.7/site-packages/ipykernel_launcher.py:1: UserWarning: Boolean Series key will be reindexed to match DataFrame index.\n",
      "  \"\"\"Entry point for launching an IPython kernel.\n"
     ]
    },
    {
     "data": {
      "text/html": [
       "<div>\n",
       "<style scoped>\n",
       "    .dataframe tbody tr th:only-of-type {\n",
       "        vertical-align: middle;\n",
       "    }\n",
       "\n",
       "    .dataframe tbody tr th {\n",
       "        vertical-align: top;\n",
       "    }\n",
       "\n",
       "    .dataframe thead th {\n",
       "        text-align: right;\n",
       "    }\n",
       "</style>\n",
       "<table border=\"1\" class=\"dataframe\">\n",
       "  <thead>\n",
       "    <tr style=\"text-align: right;\">\n",
       "      <th></th>\n",
       "      <th></th>\n",
       "      <th>ConnectionID</th>\n",
       "      <th>Date</th>\n",
       "      <th>GlucoseValue</th>\n",
       "      <th>PPGR</th>\n",
       "      <th>sleep_time</th>\n",
       "      <th>wakeup_time</th>\n",
       "      <th>Duration</th>\n",
       "    </tr>\n",
       "    <tr>\n",
       "      <th>RegistrationCode</th>\n",
       "      <th>day</th>\n",
       "      <th></th>\n",
       "      <th></th>\n",
       "      <th></th>\n",
       "      <th></th>\n",
       "      <th></th>\n",
       "      <th></th>\n",
       "      <th></th>\n",
       "    </tr>\n",
       "  </thead>\n",
       "  <tbody>\n",
       "    <tr>\n",
       "      <th>113175</th>\n",
       "      <th>2016-03-07</th>\n",
       "      <td>1322</td>\n",
       "      <td>2016-03-07 23:56:05</td>\n",
       "      <td>77.0</td>\n",
       "      <td>0.000</td>\n",
       "      <td>2016-03-07 23:55:00</td>\n",
       "      <td>2016-03-08 07:13:00</td>\n",
       "      <td>07:18:00</td>\n",
       "    </tr>\n",
       "    <tr>\n",
       "      <th>126092</th>\n",
       "      <th>2018-12-28</th>\n",
       "      <td>4711</td>\n",
       "      <td>2018-12-28 23:50:00</td>\n",
       "      <td>77.0</td>\n",
       "      <td>NaN</td>\n",
       "      <td>2018-12-28 23:00:00</td>\n",
       "      <td>2018-12-29 08:45:54</td>\n",
       "      <td>09:45:54</td>\n",
       "    </tr>\n",
       "    <tr>\n",
       "      <th rowspan=\"3\" valign=\"top\">132095</th>\n",
       "      <th>2018-05-20</th>\n",
       "      <td>2994</td>\n",
       "      <td>2018-05-20 23:54:00</td>\n",
       "      <td>95.0</td>\n",
       "      <td>0.000</td>\n",
       "      <td>2018-05-20 23:39:14</td>\n",
       "      <td>2018-05-21 06:45:07</td>\n",
       "      <td>07:05:53</td>\n",
       "    </tr>\n",
       "    <tr>\n",
       "      <th>2018-06-16</th>\n",
       "      <td>3161</td>\n",
       "      <td>2018-06-16 23:49:00</td>\n",
       "      <td>73.0</td>\n",
       "      <td>4.625</td>\n",
       "      <td>2018-06-16 23:44:05</td>\n",
       "      <td>2018-06-17 07:06:59</td>\n",
       "      <td>07:22:54</td>\n",
       "    </tr>\n",
       "    <tr>\n",
       "      <th>2018-07-12</th>\n",
       "      <td>3345</td>\n",
       "      <td>2018-07-12 23:50:00</td>\n",
       "      <td>81.0</td>\n",
       "      <td>0.000</td>\n",
       "      <td>2018-07-12 23:23:40</td>\n",
       "      <td>2018-07-13 07:48:46</td>\n",
       "      <td>08:25:06</td>\n",
       "    </tr>\n",
       "    <tr>\n",
       "      <th>...</th>\n",
       "      <th>...</th>\n",
       "      <td>...</td>\n",
       "      <td>...</td>\n",
       "      <td>...</td>\n",
       "      <td>...</td>\n",
       "      <td>...</td>\n",
       "      <td>...</td>\n",
       "      <td>...</td>\n",
       "    </tr>\n",
       "    <tr>\n",
       "      <th>972181</th>\n",
       "      <th>2019-06-11</th>\n",
       "      <td>5737</td>\n",
       "      <td>2019-06-11 23:51:00</td>\n",
       "      <td>87.0</td>\n",
       "      <td>6.000</td>\n",
       "      <td>2019-06-11 23:45:00</td>\n",
       "      <td>2019-06-12 06:10:06</td>\n",
       "      <td>06:25:06</td>\n",
       "    </tr>\n",
       "    <tr>\n",
       "      <th>992638</th>\n",
       "      <th>2017-07-11</th>\n",
       "      <td>1591</td>\n",
       "      <td>2017-07-11 23:45:00</td>\n",
       "      <td>74.0</td>\n",
       "      <td>17.250</td>\n",
       "      <td>2017-07-11 23:40:00</td>\n",
       "      <td>2017-07-12 05:45:04</td>\n",
       "      <td>06:05:04</td>\n",
       "    </tr>\n",
       "    <tr>\n",
       "      <th>997427</th>\n",
       "      <th>2019-05-08</th>\n",
       "      <td>5629</td>\n",
       "      <td>2019-05-08 23:56:00</td>\n",
       "      <td>130.0</td>\n",
       "      <td>0.000</td>\n",
       "      <td>2019-05-08 23:51:00</td>\n",
       "      <td>2019-05-09 06:08:51</td>\n",
       "      <td>06:17:51</td>\n",
       "    </tr>\n",
       "    <tr>\n",
       "      <th>997735</th>\n",
       "      <th>2019-06-18</th>\n",
       "      <td>5829</td>\n",
       "      <td>2019-06-18 23:48:00</td>\n",
       "      <td>98.0</td>\n",
       "      <td>3.750</td>\n",
       "      <td>2019-06-18 23:47:16</td>\n",
       "      <td>2019-06-19 06:30:29</td>\n",
       "      <td>06:43:13</td>\n",
       "    </tr>\n",
       "    <tr>\n",
       "      <th>999443</th>\n",
       "      <th>2017-11-10</th>\n",
       "      <td>1944</td>\n",
       "      <td>2017-11-10 23:51:00</td>\n",
       "      <td>103.0</td>\n",
       "      <td>0.000</td>\n",
       "      <td>2017-11-10 23:47:43</td>\n",
       "      <td>2017-11-11 07:29:37</td>\n",
       "      <td>07:41:54</td>\n",
       "    </tr>\n",
       "  </tbody>\n",
       "</table>\n",
       "<p>443 rows × 7 columns</p>\n",
       "</div>"
      ],
      "text/plain": [
       "                            ConnectionID                Date  GlucoseValue  \\\n",
       "RegistrationCode day                                                         \n",
       "113175           2016-03-07         1322 2016-03-07 23:56:05          77.0   \n",
       "126092           2018-12-28         4711 2018-12-28 23:50:00          77.0   \n",
       "132095           2018-05-20         2994 2018-05-20 23:54:00          95.0   \n",
       "                 2018-06-16         3161 2018-06-16 23:49:00          73.0   \n",
       "                 2018-07-12         3345 2018-07-12 23:50:00          81.0   \n",
       "...                                  ...                 ...           ...   \n",
       "972181           2019-06-11         5737 2019-06-11 23:51:00          87.0   \n",
       "992638           2017-07-11         1591 2017-07-11 23:45:00          74.0   \n",
       "997427           2019-05-08         5629 2019-05-08 23:56:00         130.0   \n",
       "997735           2019-06-18         5829 2019-06-18 23:48:00          98.0   \n",
       "999443           2017-11-10         1944 2017-11-10 23:51:00         103.0   \n",
       "\n",
       "                               PPGR          sleep_time         wakeup_time  \\\n",
       "RegistrationCode day                                                          \n",
       "113175           2016-03-07   0.000 2016-03-07 23:55:00 2016-03-08 07:13:00   \n",
       "126092           2018-12-28     NaN 2018-12-28 23:00:00 2018-12-29 08:45:54   \n",
       "132095           2018-05-20   0.000 2018-05-20 23:39:14 2018-05-21 06:45:07   \n",
       "                 2018-06-16   4.625 2018-06-16 23:44:05 2018-06-17 07:06:59   \n",
       "                 2018-07-12   0.000 2018-07-12 23:23:40 2018-07-13 07:48:46   \n",
       "...                             ...                 ...                 ...   \n",
       "972181           2019-06-11   6.000 2019-06-11 23:45:00 2019-06-12 06:10:06   \n",
       "992638           2017-07-11  17.250 2017-07-11 23:40:00 2017-07-12 05:45:04   \n",
       "997427           2019-05-08   0.000 2019-05-08 23:51:00 2019-05-09 06:08:51   \n",
       "997735           2019-06-18   3.750 2019-06-18 23:47:16 2019-06-19 06:30:29   \n",
       "999443           2017-11-10   0.000 2017-11-10 23:47:43 2017-11-11 07:29:37   \n",
       "\n",
       "                            Duration  \n",
       "RegistrationCode day                  \n",
       "113175           2016-03-07 07:18:00  \n",
       "126092           2018-12-28 09:45:54  \n",
       "132095           2018-05-20 07:05:53  \n",
       "                 2018-06-16 07:22:54  \n",
       "                 2018-07-12 08:25:06  \n",
       "...                              ...  \n",
       "972181           2019-06-11 06:25:06  \n",
       "992638           2017-07-11 06:05:04  \n",
       "997427           2019-05-08 06:17:51  \n",
       "997735           2019-06-18 06:43:13  \n",
       "999443           2017-11-10 07:41:54  \n",
       "\n",
       "[443 rows x 7 columns]"
      ]
     },
     "execution_count": 333,
     "metadata": {},
     "output_type": "execute_result"
    }
   ],
   "source": [
    "cgm_night[cgm_night.index.value_counts() == 1]"
   ]
  },
  {
   "cell_type": "code",
   "execution_count": 335,
   "metadata": {
    "scrolled": true
   },
   "outputs": [
    {
     "data": {
      "text/html": [
       "<div>\n",
       "<style scoped>\n",
       "    .dataframe tbody tr th:only-of-type {\n",
       "        vertical-align: middle;\n",
       "    }\n",
       "\n",
       "    .dataframe tbody tr th {\n",
       "        vertical-align: top;\n",
       "    }\n",
       "\n",
       "    .dataframe thead th {\n",
       "        text-align: right;\n",
       "    }\n",
       "</style>\n",
       "<table border=\"1\" class=\"dataframe\">\n",
       "  <thead>\n",
       "    <tr style=\"text-align: right;\">\n",
       "      <th></th>\n",
       "      <th></th>\n",
       "      <th>ConnectionID</th>\n",
       "      <th>Date</th>\n",
       "      <th>GlucoseValue</th>\n",
       "      <th>PPGR</th>\n",
       "      <th>sleep_time</th>\n",
       "      <th>wakeup_time</th>\n",
       "      <th>Duration</th>\n",
       "    </tr>\n",
       "    <tr>\n",
       "      <th>RegistrationCode</th>\n",
       "      <th>day</th>\n",
       "      <th></th>\n",
       "      <th></th>\n",
       "      <th></th>\n",
       "      <th></th>\n",
       "      <th></th>\n",
       "      <th></th>\n",
       "      <th></th>\n",
       "    </tr>\n",
       "  </thead>\n",
       "  <tbody>\n",
       "    <tr>\n",
       "      <th rowspan=\"11\" valign=\"top\">113175</th>\n",
       "      <th>2016-03-08</th>\n",
       "      <td>1322</td>\n",
       "      <td>2016-03-08 00:01:05</td>\n",
       "      <td>76.0</td>\n",
       "      <td>0.000000</td>\n",
       "      <td>2016-03-08</td>\n",
       "      <td>2016-03-08 07:13:00</td>\n",
       "      <td>07:13:00</td>\n",
       "    </tr>\n",
       "    <tr>\n",
       "      <th>2016-03-08</th>\n",
       "      <td>1322</td>\n",
       "      <td>2016-03-08 00:06:05</td>\n",
       "      <td>75.0</td>\n",
       "      <td>0.000000</td>\n",
       "      <td>2016-03-08</td>\n",
       "      <td>2016-03-08 07:13:00</td>\n",
       "      <td>07:13:00</td>\n",
       "    </tr>\n",
       "    <tr>\n",
       "      <th>2016-03-08</th>\n",
       "      <td>1322</td>\n",
       "      <td>2016-03-08 00:11:05</td>\n",
       "      <td>74.0</td>\n",
       "      <td>0.000000</td>\n",
       "      <td>2016-03-08</td>\n",
       "      <td>2016-03-08 07:13:00</td>\n",
       "      <td>07:13:00</td>\n",
       "    </tr>\n",
       "    <tr>\n",
       "      <th>2016-03-08</th>\n",
       "      <td>1322</td>\n",
       "      <td>2016-03-08 00:16:05</td>\n",
       "      <td>73.0</td>\n",
       "      <td>0.000000</td>\n",
       "      <td>2016-03-08</td>\n",
       "      <td>2016-03-08 07:13:00</td>\n",
       "      <td>07:13:00</td>\n",
       "    </tr>\n",
       "    <tr>\n",
       "      <th>2016-03-08</th>\n",
       "      <td>1322</td>\n",
       "      <td>2016-03-08 00:21:05</td>\n",
       "      <td>72.0</td>\n",
       "      <td>2.583333</td>\n",
       "      <td>2016-03-08</td>\n",
       "      <td>2016-03-08 07:13:00</td>\n",
       "      <td>07:13:00</td>\n",
       "    </tr>\n",
       "    <tr>\n",
       "      <th>...</th>\n",
       "      <td>...</td>\n",
       "      <td>...</td>\n",
       "      <td>...</td>\n",
       "      <td>...</td>\n",
       "      <td>...</td>\n",
       "      <td>...</td>\n",
       "      <td>...</td>\n",
       "    </tr>\n",
       "    <tr>\n",
       "      <th>2016-03-08</th>\n",
       "      <td>1322</td>\n",
       "      <td>2016-03-08 06:51:05</td>\n",
       "      <td>68.0</td>\n",
       "      <td>25.166667</td>\n",
       "      <td>2016-03-08</td>\n",
       "      <td>2016-03-08 07:13:00</td>\n",
       "      <td>07:13:00</td>\n",
       "    </tr>\n",
       "    <tr>\n",
       "      <th>2016-03-08</th>\n",
       "      <td>1322</td>\n",
       "      <td>2016-03-08 06:56:05</td>\n",
       "      <td>70.0</td>\n",
       "      <td>22.583333</td>\n",
       "      <td>2016-03-08</td>\n",
       "      <td>2016-03-08 07:13:00</td>\n",
       "      <td>07:13:00</td>\n",
       "    </tr>\n",
       "    <tr>\n",
       "      <th>2016-03-08</th>\n",
       "      <td>1322</td>\n",
       "      <td>2016-03-08 07:01:05</td>\n",
       "      <td>71.0</td>\n",
       "      <td>21.916667</td>\n",
       "      <td>2016-03-08</td>\n",
       "      <td>2016-03-08 07:13:00</td>\n",
       "      <td>07:13:00</td>\n",
       "    </tr>\n",
       "    <tr>\n",
       "      <th>2016-03-08</th>\n",
       "      <td>1322</td>\n",
       "      <td>2016-03-08 07:06:05</td>\n",
       "      <td>72.0</td>\n",
       "      <td>21.291667</td>\n",
       "      <td>2016-03-08</td>\n",
       "      <td>2016-03-08 07:13:00</td>\n",
       "      <td>07:13:00</td>\n",
       "    </tr>\n",
       "    <tr>\n",
       "      <th>2016-03-08</th>\n",
       "      <td>1322</td>\n",
       "      <td>2016-03-08 07:11:05</td>\n",
       "      <td>72.0</td>\n",
       "      <td>22.791667</td>\n",
       "      <td>2016-03-08</td>\n",
       "      <td>2016-03-08 07:13:00</td>\n",
       "      <td>07:13:00</td>\n",
       "    </tr>\n",
       "  </tbody>\n",
       "</table>\n",
       "<p>87 rows × 7 columns</p>\n",
       "</div>"
      ],
      "text/plain": [
       "                            ConnectionID                Date  GlucoseValue  \\\n",
       "RegistrationCode day                                                         \n",
       "113175           2016-03-08         1322 2016-03-08 00:01:05          76.0   \n",
       "                 2016-03-08         1322 2016-03-08 00:06:05          75.0   \n",
       "                 2016-03-08         1322 2016-03-08 00:11:05          74.0   \n",
       "                 2016-03-08         1322 2016-03-08 00:16:05          73.0   \n",
       "                 2016-03-08         1322 2016-03-08 00:21:05          72.0   \n",
       "...                                  ...                 ...           ...   \n",
       "                 2016-03-08         1322 2016-03-08 06:51:05          68.0   \n",
       "                 2016-03-08         1322 2016-03-08 06:56:05          70.0   \n",
       "                 2016-03-08         1322 2016-03-08 07:01:05          71.0   \n",
       "                 2016-03-08         1322 2016-03-08 07:06:05          72.0   \n",
       "                 2016-03-08         1322 2016-03-08 07:11:05          72.0   \n",
       "\n",
       "                                  PPGR sleep_time         wakeup_time Duration  \n",
       "RegistrationCode day                                                            \n",
       "113175           2016-03-08   0.000000 2016-03-08 2016-03-08 07:13:00 07:13:00  \n",
       "                 2016-03-08   0.000000 2016-03-08 2016-03-08 07:13:00 07:13:00  \n",
       "                 2016-03-08   0.000000 2016-03-08 2016-03-08 07:13:00 07:13:00  \n",
       "                 2016-03-08   0.000000 2016-03-08 2016-03-08 07:13:00 07:13:00  \n",
       "                 2016-03-08   2.583333 2016-03-08 2016-03-08 07:13:00 07:13:00  \n",
       "...                                ...        ...                 ...      ...  \n",
       "                 2016-03-08  25.166667 2016-03-08 2016-03-08 07:13:00 07:13:00  \n",
       "                 2016-03-08  22.583333 2016-03-08 2016-03-08 07:13:00 07:13:00  \n",
       "                 2016-03-08  21.916667 2016-03-08 2016-03-08 07:13:00 07:13:00  \n",
       "                 2016-03-08  21.291667 2016-03-08 2016-03-08 07:13:00 07:13:00  \n",
       "                 2016-03-08  22.791667 2016-03-08 2016-03-08 07:13:00 07:13:00  \n",
       "\n",
       "[87 rows x 7 columns]"
      ]
     },
     "execution_count": 335,
     "metadata": {},
     "output_type": "execute_result"
    }
   ],
   "source": [
    "cgm_night.loc[('113175', pd.to_datetime('2016-03-08')), :]"
   ]
  },
  {
   "cell_type": "code",
   "execution_count": 336,
   "metadata": {
    "scrolled": true
   },
   "outputs": [
    {
     "data": {
      "text/html": [
       "<div>\n",
       "<style scoped>\n",
       "    .dataframe tbody tr th:only-of-type {\n",
       "        vertical-align: middle;\n",
       "    }\n",
       "\n",
       "    .dataframe tbody tr th {\n",
       "        vertical-align: top;\n",
       "    }\n",
       "\n",
       "    .dataframe thead th {\n",
       "        text-align: right;\n",
       "    }\n",
       "</style>\n",
       "<table border=\"1\" class=\"dataframe\">\n",
       "  <thead>\n",
       "    <tr style=\"text-align: right;\">\n",
       "      <th></th>\n",
       "      <th></th>\n",
       "      <th>ConnectionID</th>\n",
       "      <th>Date</th>\n",
       "      <th>GlucoseValue</th>\n",
       "      <th>PPGR</th>\n",
       "      <th>sleep_time</th>\n",
       "      <th>wakeup_time</th>\n",
       "      <th>Duration</th>\n",
       "    </tr>\n",
       "    <tr>\n",
       "      <th>RegistrationCode</th>\n",
       "      <th>day</th>\n",
       "      <th></th>\n",
       "      <th></th>\n",
       "      <th></th>\n",
       "      <th></th>\n",
       "      <th></th>\n",
       "      <th></th>\n",
       "      <th></th>\n",
       "    </tr>\n",
       "  </thead>\n",
       "  <tbody>\n",
       "    <tr>\n",
       "      <th rowspan=\"5\" valign=\"top\">1</th>\n",
       "      <th>2016-02-22</th>\n",
       "      <td>1319</td>\n",
       "      <td>2016-02-22 23:15:31</td>\n",
       "      <td>106.0</td>\n",
       "      <td>0.0</td>\n",
       "      <td>2016-02-22 23:15:00</td>\n",
       "      <td>2016-02-23 07:20:00</td>\n",
       "      <td>08:05:00</td>\n",
       "    </tr>\n",
       "    <tr>\n",
       "      <th>2016-02-22</th>\n",
       "      <td>1319</td>\n",
       "      <td>2016-02-22 23:20:31</td>\n",
       "      <td>106.0</td>\n",
       "      <td>0.0</td>\n",
       "      <td>2016-02-22 23:15:00</td>\n",
       "      <td>2016-02-23 07:20:00</td>\n",
       "      <td>08:05:00</td>\n",
       "    </tr>\n",
       "    <tr>\n",
       "      <th>2016-02-22</th>\n",
       "      <td>1319</td>\n",
       "      <td>2016-02-22 23:25:31</td>\n",
       "      <td>105.0</td>\n",
       "      <td>0.0</td>\n",
       "      <td>2016-02-22 23:15:00</td>\n",
       "      <td>2016-02-23 07:20:00</td>\n",
       "      <td>08:05:00</td>\n",
       "    </tr>\n",
       "    <tr>\n",
       "      <th>2016-02-22</th>\n",
       "      <td>1319</td>\n",
       "      <td>2016-02-22 23:30:31</td>\n",
       "      <td>105.0</td>\n",
       "      <td>0.0</td>\n",
       "      <td>2016-02-22 23:15:00</td>\n",
       "      <td>2016-02-23 07:20:00</td>\n",
       "      <td>08:05:00</td>\n",
       "    </tr>\n",
       "    <tr>\n",
       "      <th>2016-02-22</th>\n",
       "      <td>1319</td>\n",
       "      <td>2016-02-22 23:35:31</td>\n",
       "      <td>104.0</td>\n",
       "      <td>0.0</td>\n",
       "      <td>2016-02-22 23:15:00</td>\n",
       "      <td>2016-02-23 07:20:00</td>\n",
       "      <td>08:05:00</td>\n",
       "    </tr>\n",
       "    <tr>\n",
       "      <th>...</th>\n",
       "      <th>...</th>\n",
       "      <td>...</td>\n",
       "      <td>...</td>\n",
       "      <td>...</td>\n",
       "      <td>...</td>\n",
       "      <td>...</td>\n",
       "      <td>...</td>\n",
       "      <td>...</td>\n",
       "    </tr>\n",
       "    <tr>\n",
       "      <th rowspan=\"5\" valign=\"top\">999443</th>\n",
       "      <th>2017-12-06</th>\n",
       "      <td>2157</td>\n",
       "      <td>2017-12-06 05:52:00</td>\n",
       "      <td>68.0</td>\n",
       "      <td>NaN</td>\n",
       "      <td>2017-12-06 00:37:27</td>\n",
       "      <td>2017-12-06 07:10:48</td>\n",
       "      <td>06:33:21</td>\n",
       "    </tr>\n",
       "    <tr>\n",
       "      <th>2017-12-06</th>\n",
       "      <td>2157</td>\n",
       "      <td>2017-12-06 06:07:00</td>\n",
       "      <td>65.0</td>\n",
       "      <td>NaN</td>\n",
       "      <td>2017-12-06 00:37:27</td>\n",
       "      <td>2017-12-06 07:10:48</td>\n",
       "      <td>06:33:21</td>\n",
       "    </tr>\n",
       "    <tr>\n",
       "      <th>2017-12-06</th>\n",
       "      <td>2157</td>\n",
       "      <td>2017-12-06 06:22:00</td>\n",
       "      <td>64.0</td>\n",
       "      <td>NaN</td>\n",
       "      <td>2017-12-06 00:37:27</td>\n",
       "      <td>2017-12-06 07:10:48</td>\n",
       "      <td>06:33:21</td>\n",
       "    </tr>\n",
       "    <tr>\n",
       "      <th>2017-12-06</th>\n",
       "      <td>2157</td>\n",
       "      <td>2017-12-06 06:37:00</td>\n",
       "      <td>65.0</td>\n",
       "      <td>NaN</td>\n",
       "      <td>2017-12-06 00:37:27</td>\n",
       "      <td>2017-12-06 07:10:48</td>\n",
       "      <td>06:33:21</td>\n",
       "    </tr>\n",
       "    <tr>\n",
       "      <th>2017-12-06</th>\n",
       "      <td>2157</td>\n",
       "      <td>2017-12-06 06:52:00</td>\n",
       "      <td>64.0</td>\n",
       "      <td>NaN</td>\n",
       "      <td>2017-12-06 00:37:27</td>\n",
       "      <td>2017-12-06 07:10:48</td>\n",
       "      <td>06:33:21</td>\n",
       "    </tr>\n",
       "  </tbody>\n",
       "</table>\n",
       "<p>1194981 rows × 7 columns</p>\n",
       "</div>"
      ],
      "text/plain": [
       "                            ConnectionID                Date  GlucoseValue  \\\n",
       "RegistrationCode day                                                         \n",
       "1                2016-02-22         1319 2016-02-22 23:15:31         106.0   \n",
       "                 2016-02-22         1319 2016-02-22 23:20:31         106.0   \n",
       "                 2016-02-22         1319 2016-02-22 23:25:31         105.0   \n",
       "                 2016-02-22         1319 2016-02-22 23:30:31         105.0   \n",
       "                 2016-02-22         1319 2016-02-22 23:35:31         104.0   \n",
       "...                                  ...                 ...           ...   \n",
       "999443           2017-12-06         2157 2017-12-06 05:52:00          68.0   \n",
       "                 2017-12-06         2157 2017-12-06 06:07:00          65.0   \n",
       "                 2017-12-06         2157 2017-12-06 06:22:00          64.0   \n",
       "                 2017-12-06         2157 2017-12-06 06:37:00          65.0   \n",
       "                 2017-12-06         2157 2017-12-06 06:52:00          64.0   \n",
       "\n",
       "                             PPGR          sleep_time         wakeup_time  \\\n",
       "RegistrationCode day                                                        \n",
       "1                2016-02-22   0.0 2016-02-22 23:15:00 2016-02-23 07:20:00   \n",
       "                 2016-02-22   0.0 2016-02-22 23:15:00 2016-02-23 07:20:00   \n",
       "                 2016-02-22   0.0 2016-02-22 23:15:00 2016-02-23 07:20:00   \n",
       "                 2016-02-22   0.0 2016-02-22 23:15:00 2016-02-23 07:20:00   \n",
       "                 2016-02-22   0.0 2016-02-22 23:15:00 2016-02-23 07:20:00   \n",
       "...                           ...                 ...                 ...   \n",
       "999443           2017-12-06   NaN 2017-12-06 00:37:27 2017-12-06 07:10:48   \n",
       "                 2017-12-06   NaN 2017-12-06 00:37:27 2017-12-06 07:10:48   \n",
       "                 2017-12-06   NaN 2017-12-06 00:37:27 2017-12-06 07:10:48   \n",
       "                 2017-12-06   NaN 2017-12-06 00:37:27 2017-12-06 07:10:48   \n",
       "                 2017-12-06   NaN 2017-12-06 00:37:27 2017-12-06 07:10:48   \n",
       "\n",
       "                            Duration  \n",
       "RegistrationCode day                  \n",
       "1                2016-02-22 08:05:00  \n",
       "                 2016-02-22 08:05:00  \n",
       "                 2016-02-22 08:05:00  \n",
       "                 2016-02-22 08:05:00  \n",
       "                 2016-02-22 08:05:00  \n",
       "...                              ...  \n",
       "999443           2017-12-06 06:33:21  \n",
       "                 2017-12-06 06:33:21  \n",
       "                 2017-12-06 06:33:21  \n",
       "                 2017-12-06 06:33:21  \n",
       "                 2017-12-06 06:33:21  \n",
       "\n",
       "[1194981 rows x 7 columns]"
      ]
     },
     "execution_count": 336,
     "metadata": {},
     "output_type": "execute_result"
    }
   ],
   "source": [
    "cgm_night"
   ]
  },
  {
   "cell_type": "code",
   "execution_count": 337,
   "metadata": {},
   "outputs": [],
   "source": [
    "import plotly.express as px"
   ]
  },
  {
   "cell_type": "code",
   "execution_count": 340,
   "metadata": {},
   "outputs": [],
   "source": [
    "def plotly_cgm(cgm_df):\n",
    "    # cgm_df = cgm_df.reset_index('Date')\n",
    "    fig = px.line(cgm_df, x=\"Date\", y=\"GlucoseValue\", title='CGM')\n",
    "    fig.show()"
   ]
  },
  {
   "cell_type": "code",
   "execution_count": 339,
   "metadata": {},
   "outputs": [
    {
     "data": {
      "text/html": [
       "<div>\n",
       "<style scoped>\n",
       "    .dataframe tbody tr th:only-of-type {\n",
       "        vertical-align: middle;\n",
       "    }\n",
       "\n",
       "    .dataframe tbody tr th {\n",
       "        vertical-align: top;\n",
       "    }\n",
       "\n",
       "    .dataframe thead th {\n",
       "        text-align: right;\n",
       "    }\n",
       "</style>\n",
       "<table border=\"1\" class=\"dataframe\">\n",
       "  <thead>\n",
       "    <tr style=\"text-align: right;\">\n",
       "      <th></th>\n",
       "      <th></th>\n",
       "      <th>ConnectionID</th>\n",
       "      <th>Date</th>\n",
       "      <th>GlucoseValue</th>\n",
       "      <th>PPGR</th>\n",
       "      <th>sleep_time</th>\n",
       "      <th>wakeup_time</th>\n",
       "      <th>Duration</th>\n",
       "    </tr>\n",
       "    <tr>\n",
       "      <th>RegistrationCode</th>\n",
       "      <th>day</th>\n",
       "      <th></th>\n",
       "      <th></th>\n",
       "      <th></th>\n",
       "      <th></th>\n",
       "      <th></th>\n",
       "      <th></th>\n",
       "      <th></th>\n",
       "    </tr>\n",
       "  </thead>\n",
       "  <tbody>\n",
       "    <tr>\n",
       "      <th rowspan=\"11\" valign=\"top\">113175</th>\n",
       "      <th>2016-03-07</th>\n",
       "      <td>1322</td>\n",
       "      <td>2016-03-07 23:56:05</td>\n",
       "      <td>77.0</td>\n",
       "      <td>0.0</td>\n",
       "      <td>2016-03-07 23:55:00</td>\n",
       "      <td>2016-03-08 07:13:00</td>\n",
       "      <td>07:18:00</td>\n",
       "    </tr>\n",
       "    <tr>\n",
       "      <th>2016-03-08</th>\n",
       "      <td>1322</td>\n",
       "      <td>2016-03-08 00:01:05</td>\n",
       "      <td>76.0</td>\n",
       "      <td>0.0</td>\n",
       "      <td>2016-03-08 00:00:00</td>\n",
       "      <td>2016-03-08 07:13:00</td>\n",
       "      <td>07:13:00</td>\n",
       "    </tr>\n",
       "    <tr>\n",
       "      <th>2016-03-08</th>\n",
       "      <td>1322</td>\n",
       "      <td>2016-03-08 00:06:05</td>\n",
       "      <td>75.0</td>\n",
       "      <td>0.0</td>\n",
       "      <td>2016-03-08 00:00:00</td>\n",
       "      <td>2016-03-08 07:13:00</td>\n",
       "      <td>07:13:00</td>\n",
       "    </tr>\n",
       "    <tr>\n",
       "      <th>2016-03-08</th>\n",
       "      <td>1322</td>\n",
       "      <td>2016-03-08 00:11:05</td>\n",
       "      <td>74.0</td>\n",
       "      <td>0.0</td>\n",
       "      <td>2016-03-08 00:00:00</td>\n",
       "      <td>2016-03-08 07:13:00</td>\n",
       "      <td>07:13:00</td>\n",
       "    </tr>\n",
       "    <tr>\n",
       "      <th>2016-03-08</th>\n",
       "      <td>1322</td>\n",
       "      <td>2016-03-08 00:16:05</td>\n",
       "      <td>73.0</td>\n",
       "      <td>0.0</td>\n",
       "      <td>2016-03-08 00:00:00</td>\n",
       "      <td>2016-03-08 07:13:00</td>\n",
       "      <td>07:13:00</td>\n",
       "    </tr>\n",
       "    <tr>\n",
       "      <th>...</th>\n",
       "      <td>...</td>\n",
       "      <td>...</td>\n",
       "      <td>...</td>\n",
       "      <td>...</td>\n",
       "      <td>...</td>\n",
       "      <td>...</td>\n",
       "      <td>...</td>\n",
       "    </tr>\n",
       "    <tr>\n",
       "      <th>2016-03-13</th>\n",
       "      <td>1322</td>\n",
       "      <td>2016-03-13 06:31:08</td>\n",
       "      <td>82.0</td>\n",
       "      <td>NaN</td>\n",
       "      <td>2016-03-13 00:00:00</td>\n",
       "      <td>2016-03-13 06:53:00</td>\n",
       "      <td>06:53:00</td>\n",
       "    </tr>\n",
       "    <tr>\n",
       "      <th>2016-03-13</th>\n",
       "      <td>1322</td>\n",
       "      <td>2016-03-13 06:36:08</td>\n",
       "      <td>82.0</td>\n",
       "      <td>NaN</td>\n",
       "      <td>2016-03-13 00:00:00</td>\n",
       "      <td>2016-03-13 06:53:00</td>\n",
       "      <td>06:53:00</td>\n",
       "    </tr>\n",
       "    <tr>\n",
       "      <th>2016-03-13</th>\n",
       "      <td>1322</td>\n",
       "      <td>2016-03-13 06:41:08</td>\n",
       "      <td>82.0</td>\n",
       "      <td>NaN</td>\n",
       "      <td>2016-03-13 00:00:00</td>\n",
       "      <td>2016-03-13 06:53:00</td>\n",
       "      <td>06:53:00</td>\n",
       "    </tr>\n",
       "    <tr>\n",
       "      <th>2016-03-13</th>\n",
       "      <td>1322</td>\n",
       "      <td>2016-03-13 06:46:08</td>\n",
       "      <td>81.0</td>\n",
       "      <td>NaN</td>\n",
       "      <td>2016-03-13 00:00:00</td>\n",
       "      <td>2016-03-13 06:53:00</td>\n",
       "      <td>06:53:00</td>\n",
       "    </tr>\n",
       "    <tr>\n",
       "      <th>2016-03-13</th>\n",
       "      <td>1322</td>\n",
       "      <td>2016-03-13 06:51:08</td>\n",
       "      <td>81.0</td>\n",
       "      <td>NaN</td>\n",
       "      <td>2016-03-13 00:00:00</td>\n",
       "      <td>2016-03-13 06:53:00</td>\n",
       "      <td>06:53:00</td>\n",
       "    </tr>\n",
       "  </tbody>\n",
       "</table>\n",
       "<p>603 rows × 7 columns</p>\n",
       "</div>"
      ],
      "text/plain": [
       "                            ConnectionID                Date  GlucoseValue  \\\n",
       "RegistrationCode day                                                         \n",
       "113175           2016-03-07         1322 2016-03-07 23:56:05          77.0   \n",
       "                 2016-03-08         1322 2016-03-08 00:01:05          76.0   \n",
       "                 2016-03-08         1322 2016-03-08 00:06:05          75.0   \n",
       "                 2016-03-08         1322 2016-03-08 00:11:05          74.0   \n",
       "                 2016-03-08         1322 2016-03-08 00:16:05          73.0   \n",
       "...                                  ...                 ...           ...   \n",
       "                 2016-03-13         1322 2016-03-13 06:31:08          82.0   \n",
       "                 2016-03-13         1322 2016-03-13 06:36:08          82.0   \n",
       "                 2016-03-13         1322 2016-03-13 06:41:08          82.0   \n",
       "                 2016-03-13         1322 2016-03-13 06:46:08          81.0   \n",
       "                 2016-03-13         1322 2016-03-13 06:51:08          81.0   \n",
       "\n",
       "                             PPGR          sleep_time         wakeup_time  \\\n",
       "RegistrationCode day                                                        \n",
       "113175           2016-03-07   0.0 2016-03-07 23:55:00 2016-03-08 07:13:00   \n",
       "                 2016-03-08   0.0 2016-03-08 00:00:00 2016-03-08 07:13:00   \n",
       "                 2016-03-08   0.0 2016-03-08 00:00:00 2016-03-08 07:13:00   \n",
       "                 2016-03-08   0.0 2016-03-08 00:00:00 2016-03-08 07:13:00   \n",
       "                 2016-03-08   0.0 2016-03-08 00:00:00 2016-03-08 07:13:00   \n",
       "...                           ...                 ...                 ...   \n",
       "                 2016-03-13   NaN 2016-03-13 00:00:00 2016-03-13 06:53:00   \n",
       "                 2016-03-13   NaN 2016-03-13 00:00:00 2016-03-13 06:53:00   \n",
       "                 2016-03-13   NaN 2016-03-13 00:00:00 2016-03-13 06:53:00   \n",
       "                 2016-03-13   NaN 2016-03-13 00:00:00 2016-03-13 06:53:00   \n",
       "                 2016-03-13   NaN 2016-03-13 00:00:00 2016-03-13 06:53:00   \n",
       "\n",
       "                            Duration  \n",
       "RegistrationCode day                  \n",
       "113175           2016-03-07 07:18:00  \n",
       "                 2016-03-08 07:13:00  \n",
       "                 2016-03-08 07:13:00  \n",
       "                 2016-03-08 07:13:00  \n",
       "                 2016-03-08 07:13:00  \n",
       "...                              ...  \n",
       "                 2016-03-13 06:53:00  \n",
       "                 2016-03-13 06:53:00  \n",
       "                 2016-03-13 06:53:00  \n",
       "                 2016-03-13 06:53:00  \n",
       "                 2016-03-13 06:53:00  \n",
       "\n",
       "[603 rows x 7 columns]"
      ]
     },
     "execution_count": 339,
     "metadata": {},
     "output_type": "execute_result"
    }
   ],
   "source": [
    "cgm_night.query(\"RegistrationCode == '113175' and ConnectionID == '1322'\")"
   ]
  },
  {
   "cell_type": "code",
   "execution_count": 345,
   "metadata": {},
   "outputs": [
    {
     "data": {
      "application/vnd.plotly.v1+json": {
       "config": {
        "plotlyServerURL": "https://plot.ly"
       },
       "data": [
        {
         "hoverlabel": {
          "namelength": 0
         },
         "hovertemplate": "Date=%{x}<br>GlucoseValue=%{y}",
         "legendgroup": "",
         "line": {
          "color": "#636efa",
          "dash": "solid"
         },
         "mode": "lines",
         "name": "",
         "showlegend": false,
         "type": "scatter",
         "x": [
          "2017-12-03T22:34:00",
          "2017-12-03T22:49:00",
          "2017-12-03T23:04:00",
          "2017-12-03T23:19:00",
          "2017-12-03T23:34:00",
          "2017-12-03T23:49:00",
          "2017-12-04T00:04:00",
          "2017-12-04T00:19:00",
          "2017-12-04T00:34:00",
          "2017-12-04T00:49:00",
          "2017-12-04T01:04:00",
          "2017-12-04T01:19:00",
          "2017-12-04T01:34:00",
          "2017-12-04T01:49:00",
          "2017-12-04T02:04:00",
          "2017-12-04T02:19:00",
          "2017-12-04T02:34:00",
          "2017-12-04T02:49:00",
          "2017-12-04T03:04:00",
          "2017-12-04T03:19:00",
          "2017-12-04T03:34:00",
          "2017-12-04T03:49:00",
          "2017-12-04T04:04:00",
          "2017-12-04T04:19:00",
          "2017-12-04T04:34:00",
          "2017-12-04T04:49:00",
          "2017-12-04T05:04:00",
          "2017-12-04T23:34:00",
          "2017-12-04T23:49:00",
          "2017-12-05T00:04:00",
          "2017-12-05T00:19:00",
          "2017-12-05T00:34:00",
          "2017-12-05T00:49:00",
          "2017-12-05T01:04:00",
          "2017-12-05T01:19:00",
          "2017-12-05T01:34:00",
          "2017-12-05T01:49:00",
          "2017-12-05T02:04:00",
          "2017-12-05T02:19:00",
          "2017-12-05T02:34:00",
          "2017-12-05T02:49:00",
          "2017-12-05T03:04:00",
          "2017-12-05T03:19:00",
          "2017-12-05T03:34:00",
          "2017-12-05T03:49:00",
          "2017-12-05T04:04:00",
          "2017-12-05T04:19:00",
          "2017-12-05T04:34:00",
          "2017-12-05T04:49:00",
          "2017-12-05T05:04:00",
          "2017-12-05T05:20:00",
          "2017-12-05T23:35:00",
          "2017-12-05T23:50:00",
          "2017-12-06T00:05:00",
          "2017-12-06T00:20:00",
          "2017-12-06T00:35:00",
          "2017-12-06T00:50:00",
          "2017-12-06T01:05:00",
          "2017-12-06T01:20:00",
          "2017-12-06T01:35:00",
          "2017-12-06T01:50:00",
          "2017-12-06T02:05:00",
          "2017-12-06T02:20:00",
          "2017-12-06T02:35:00",
          "2017-12-06T02:50:00",
          "2017-12-06T03:05:00",
          "2017-12-06T03:20:00",
          "2017-12-06T03:35:00",
          "2017-12-06T03:50:00",
          "2017-12-06T04:05:00",
          "2017-12-06T04:20:00",
          "2017-12-06T04:35:00",
          "2017-12-06T04:50:00",
          "2017-12-06T05:04:00",
          "2017-12-06T21:34:00",
          "2017-12-06T21:49:00",
          "2017-12-06T22:04:00",
          "2017-12-06T22:19:00",
          "2017-12-06T22:34:00",
          "2017-12-06T22:49:00",
          "2017-12-06T23:04:00",
          "2017-12-06T23:19:00",
          "2017-12-06T23:34:00",
          "2017-12-06T23:49:00",
          "2017-12-07T00:04:00",
          "2017-12-07T00:19:00",
          "2017-12-07T00:34:00",
          "2017-12-07T00:49:00",
          "2017-12-07T01:04:00",
          "2017-12-07T01:19:00",
          "2017-12-07T01:34:00",
          "2017-12-07T01:49:00",
          "2017-12-07T02:04:00",
          "2017-12-07T02:19:00",
          "2017-12-07T02:34:00",
          "2017-12-07T02:49:00",
          "2017-12-07T03:04:00",
          "2017-12-07T03:19:00",
          "2017-12-07T03:34:00",
          "2017-12-07T03:49:00",
          "2017-12-07T04:04:00",
          "2017-12-07T04:19:00",
          "2017-12-07T04:34:00",
          "2017-12-07T04:49:00",
          "2017-12-07T05:04:00",
          "2017-12-07T22:33:00",
          "2017-12-07T22:48:00",
          "2017-12-07T23:03:00",
          "2017-12-07T23:18:00",
          "2017-12-07T23:33:00",
          "2017-12-07T23:48:00",
          "2017-12-08T00:03:00",
          "2017-12-08T00:18:00",
          "2017-12-08T00:33:00",
          "2017-12-08T00:48:00",
          "2017-12-08T01:03:00",
          "2017-12-08T01:18:00",
          "2017-12-08T01:33:00",
          "2017-12-08T01:48:00",
          "2017-12-08T02:03:00",
          "2017-12-08T02:18:00",
          "2017-12-08T02:33:00",
          "2017-12-08T02:48:00",
          "2017-12-08T03:03:00",
          "2017-12-08T03:18:00",
          "2017-12-08T03:33:00",
          "2017-12-08T03:48:00",
          "2017-12-08T04:03:00",
          "2017-12-08T04:18:00",
          "2017-12-08T04:33:00",
          "2017-12-08T04:48:00",
          "2017-12-08T05:03:00",
          "2017-12-08T05:18:00",
          "2017-12-08T05:33:00",
          "2017-12-08T05:48:00",
          "2017-12-08T06:03:00",
          "2017-12-08T06:19:00",
          "2017-12-08T06:34:00",
          "2017-12-09T00:03:00",
          "2017-12-09T00:18:00",
          "2017-12-09T00:33:00",
          "2017-12-09T00:48:00",
          "2017-12-09T01:03:00",
          "2017-12-09T01:18:00",
          "2017-12-09T01:33:00",
          "2017-12-09T01:48:00",
          "2017-12-09T02:03:00",
          "2017-12-09T02:18:00",
          "2017-12-09T02:33:00",
          "2017-12-09T02:48:00",
          "2017-12-09T03:03:00",
          "2017-12-09T03:18:00",
          "2017-12-09T03:33:00",
          "2017-12-09T03:48:00",
          "2017-12-09T04:03:00",
          "2017-12-09T04:18:00",
          "2017-12-09T04:33:00",
          "2017-12-09T04:48:00",
          "2017-12-09T05:03:00",
          "2017-12-09T05:18:00",
          "2017-12-09T05:33:00",
          "2017-12-09T05:48:00",
          "2017-12-09T06:03:00",
          "2017-12-09T06:18:00",
          "2017-12-09T06:33:00",
          "2017-12-09T06:48:00",
          "2017-12-09T07:03:00",
          "2017-12-09T07:19:00",
          "2017-12-09T07:34:00",
          "2017-12-09T07:49:00",
          "2017-12-09T23:34:00",
          "2017-12-09T23:49:00",
          "2017-12-10T00:04:00",
          "2017-12-10T00:19:00",
          "2017-12-10T00:34:00",
          "2017-12-10T00:49:00",
          "2017-12-10T01:04:00",
          "2017-12-10T01:19:00",
          "2017-12-10T01:34:00",
          "2017-12-10T01:49:00",
          "2017-12-10T02:04:00",
          "2017-12-10T02:19:00",
          "2017-12-10T02:34:00",
          "2017-12-10T02:49:00",
          "2017-12-10T03:04:00",
          "2017-12-10T03:19:00",
          "2017-12-10T03:34:00",
          "2017-12-10T03:49:00",
          "2017-12-10T04:04:00",
          "2017-12-10T04:19:00",
          "2017-12-10T04:34:00",
          "2017-12-10T04:49:00",
          "2017-12-10T05:03:00",
          "2017-12-10T23:04:00",
          "2017-12-10T23:19:00",
          "2017-12-10T23:34:00",
          "2017-12-10T23:49:00",
          "2017-12-11T00:04:00",
          "2017-12-11T00:19:00",
          "2017-12-11T00:34:00",
          "2017-12-11T00:49:00",
          "2017-12-11T01:04:00",
          "2017-12-11T01:19:00",
          "2017-12-11T01:34:00",
          "2017-12-11T01:49:00",
          "2017-12-11T02:04:00",
          "2017-12-11T02:19:00",
          "2017-12-11T02:34:00",
          "2017-12-11T02:49:00",
          "2017-12-11T03:04:00",
          "2017-12-11T03:19:00",
          "2017-12-11T03:34:00",
          "2017-12-11T03:49:00",
          "2017-12-11T04:04:00",
          "2017-12-11T04:19:00",
          "2017-12-11T04:34:00",
          "2017-12-11T04:49:00",
          "2017-12-11T05:04:00",
          "2017-12-11T05:19:00",
          "2017-12-11T05:34:00",
          "2017-12-11T05:49:00",
          "2017-12-11T06:03:00",
          "2017-12-11T06:18:00",
          "2017-12-11T06:33:00"
         ],
         "xaxis": "x",
         "y": [
          221,
          184,
          151,
          151,
          157,
          153,
          172,
          206,
          203,
          189,
          199,
          194,
          163,
          119,
          99,
          120,
          132,
          140,
          130,
          107,
          115,
          133,
          130,
          124,
          151,
          185,
          189,
          136,
          156,
          180,
          194,
          192,
          185,
          191,
          198,
          200,
          196,
          191,
          184,
          172,
          163,
          168,
          179,
          182,
          180,
          175,
          167,
          160,
          155,
          158,
          176,
          150,
          149,
          149,
          147,
          141,
          136,
          136,
          134,
          133,
          138,
          140,
          147,
          160,
          162,
          162,
          161,
          161,
          157,
          156,
          161,
          165,
          167,
          169,
          147,
          149,
          152,
          150,
          143,
          138,
          136,
          139,
          143,
          148,
          148,
          151,
          150,
          145,
          138,
          132,
          128,
          129,
          133,
          139,
          149,
          158,
          158,
          159,
          160,
          153,
          150,
          151,
          147,
          150,
          156,
          159,
          169,
          172,
          173,
          173,
          170,
          163,
          154,
          154,
          156,
          154,
          153,
          151,
          148,
          145,
          139,
          133,
          129,
          131,
          141,
          150,
          151,
          150,
          146,
          144,
          142,
          136,
          145,
          158,
          154,
          146,
          151,
          162,
          209,
          178,
          163,
          164,
          178,
          200,
          204,
          197,
          198,
          205,
          209,
          208,
          205,
          197,
          186,
          188,
          199,
          202,
          196,
          194,
          191,
          184,
          175,
          167,
          166,
          172,
          173,
          169,
          166,
          167,
          165,
          160,
          184,
          179,
          174,
          174,
          177,
          177,
          172,
          163,
          156,
          148,
          147,
          153,
          154,
          151,
          159,
          164,
          162,
          158,
          155,
          150,
          144,
          142,
          160,
          172,
          170,
          164,
          161,
          159,
          156,
          152,
          150,
          150,
          149,
          145,
          140,
          135,
          136,
          143,
          148,
          150,
          147,
          145,
          148,
          147,
          145,
          144,
          139,
          139,
          146,
          153,
          153,
          165,
          178,
          184
         ],
         "yaxis": "y"
        }
       ],
       "layout": {
        "legend": {
         "tracegroupgap": 0
        },
        "template": {
         "data": {
          "bar": [
           {
            "error_x": {
             "color": "#2a3f5f"
            },
            "error_y": {
             "color": "#2a3f5f"
            },
            "marker": {
             "line": {
              "color": "#E5ECF6",
              "width": 0.5
             }
            },
            "type": "bar"
           }
          ],
          "barpolar": [
           {
            "marker": {
             "line": {
              "color": "#E5ECF6",
              "width": 0.5
             }
            },
            "type": "barpolar"
           }
          ],
          "carpet": [
           {
            "aaxis": {
             "endlinecolor": "#2a3f5f",
             "gridcolor": "white",
             "linecolor": "white",
             "minorgridcolor": "white",
             "startlinecolor": "#2a3f5f"
            },
            "baxis": {
             "endlinecolor": "#2a3f5f",
             "gridcolor": "white",
             "linecolor": "white",
             "minorgridcolor": "white",
             "startlinecolor": "#2a3f5f"
            },
            "type": "carpet"
           }
          ],
          "choropleth": [
           {
            "colorbar": {
             "outlinewidth": 0,
             "ticks": ""
            },
            "type": "choropleth"
           }
          ],
          "contour": [
           {
            "colorbar": {
             "outlinewidth": 0,
             "ticks": ""
            },
            "colorscale": [
             [
              0,
              "#0d0887"
             ],
             [
              0.1111111111111111,
              "#46039f"
             ],
             [
              0.2222222222222222,
              "#7201a8"
             ],
             [
              0.3333333333333333,
              "#9c179e"
             ],
             [
              0.4444444444444444,
              "#bd3786"
             ],
             [
              0.5555555555555556,
              "#d8576b"
             ],
             [
              0.6666666666666666,
              "#ed7953"
             ],
             [
              0.7777777777777778,
              "#fb9f3a"
             ],
             [
              0.8888888888888888,
              "#fdca26"
             ],
             [
              1,
              "#f0f921"
             ]
            ],
            "type": "contour"
           }
          ],
          "contourcarpet": [
           {
            "colorbar": {
             "outlinewidth": 0,
             "ticks": ""
            },
            "type": "contourcarpet"
           }
          ],
          "heatmap": [
           {
            "colorbar": {
             "outlinewidth": 0,
             "ticks": ""
            },
            "colorscale": [
             [
              0,
              "#0d0887"
             ],
             [
              0.1111111111111111,
              "#46039f"
             ],
             [
              0.2222222222222222,
              "#7201a8"
             ],
             [
              0.3333333333333333,
              "#9c179e"
             ],
             [
              0.4444444444444444,
              "#bd3786"
             ],
             [
              0.5555555555555556,
              "#d8576b"
             ],
             [
              0.6666666666666666,
              "#ed7953"
             ],
             [
              0.7777777777777778,
              "#fb9f3a"
             ],
             [
              0.8888888888888888,
              "#fdca26"
             ],
             [
              1,
              "#f0f921"
             ]
            ],
            "type": "heatmap"
           }
          ],
          "heatmapgl": [
           {
            "colorbar": {
             "outlinewidth": 0,
             "ticks": ""
            },
            "colorscale": [
             [
              0,
              "#0d0887"
             ],
             [
              0.1111111111111111,
              "#46039f"
             ],
             [
              0.2222222222222222,
              "#7201a8"
             ],
             [
              0.3333333333333333,
              "#9c179e"
             ],
             [
              0.4444444444444444,
              "#bd3786"
             ],
             [
              0.5555555555555556,
              "#d8576b"
             ],
             [
              0.6666666666666666,
              "#ed7953"
             ],
             [
              0.7777777777777778,
              "#fb9f3a"
             ],
             [
              0.8888888888888888,
              "#fdca26"
             ],
             [
              1,
              "#f0f921"
             ]
            ],
            "type": "heatmapgl"
           }
          ],
          "histogram": [
           {
            "marker": {
             "colorbar": {
              "outlinewidth": 0,
              "ticks": ""
             }
            },
            "type": "histogram"
           }
          ],
          "histogram2d": [
           {
            "colorbar": {
             "outlinewidth": 0,
             "ticks": ""
            },
            "colorscale": [
             [
              0,
              "#0d0887"
             ],
             [
              0.1111111111111111,
              "#46039f"
             ],
             [
              0.2222222222222222,
              "#7201a8"
             ],
             [
              0.3333333333333333,
              "#9c179e"
             ],
             [
              0.4444444444444444,
              "#bd3786"
             ],
             [
              0.5555555555555556,
              "#d8576b"
             ],
             [
              0.6666666666666666,
              "#ed7953"
             ],
             [
              0.7777777777777778,
              "#fb9f3a"
             ],
             [
              0.8888888888888888,
              "#fdca26"
             ],
             [
              1,
              "#f0f921"
             ]
            ],
            "type": "histogram2d"
           }
          ],
          "histogram2dcontour": [
           {
            "colorbar": {
             "outlinewidth": 0,
             "ticks": ""
            },
            "colorscale": [
             [
              0,
              "#0d0887"
             ],
             [
              0.1111111111111111,
              "#46039f"
             ],
             [
              0.2222222222222222,
              "#7201a8"
             ],
             [
              0.3333333333333333,
              "#9c179e"
             ],
             [
              0.4444444444444444,
              "#bd3786"
             ],
             [
              0.5555555555555556,
              "#d8576b"
             ],
             [
              0.6666666666666666,
              "#ed7953"
             ],
             [
              0.7777777777777778,
              "#fb9f3a"
             ],
             [
              0.8888888888888888,
              "#fdca26"
             ],
             [
              1,
              "#f0f921"
             ]
            ],
            "type": "histogram2dcontour"
           }
          ],
          "mesh3d": [
           {
            "colorbar": {
             "outlinewidth": 0,
             "ticks": ""
            },
            "type": "mesh3d"
           }
          ],
          "parcoords": [
           {
            "line": {
             "colorbar": {
              "outlinewidth": 0,
              "ticks": ""
             }
            },
            "type": "parcoords"
           }
          ],
          "pie": [
           {
            "automargin": true,
            "type": "pie"
           }
          ],
          "scatter": [
           {
            "marker": {
             "colorbar": {
              "outlinewidth": 0,
              "ticks": ""
             }
            },
            "type": "scatter"
           }
          ],
          "scatter3d": [
           {
            "line": {
             "colorbar": {
              "outlinewidth": 0,
              "ticks": ""
             }
            },
            "marker": {
             "colorbar": {
              "outlinewidth": 0,
              "ticks": ""
             }
            },
            "type": "scatter3d"
           }
          ],
          "scattercarpet": [
           {
            "marker": {
             "colorbar": {
              "outlinewidth": 0,
              "ticks": ""
             }
            },
            "type": "scattercarpet"
           }
          ],
          "scattergeo": [
           {
            "marker": {
             "colorbar": {
              "outlinewidth": 0,
              "ticks": ""
             }
            },
            "type": "scattergeo"
           }
          ],
          "scattergl": [
           {
            "marker": {
             "colorbar": {
              "outlinewidth": 0,
              "ticks": ""
             }
            },
            "type": "scattergl"
           }
          ],
          "scattermapbox": [
           {
            "marker": {
             "colorbar": {
              "outlinewidth": 0,
              "ticks": ""
             }
            },
            "type": "scattermapbox"
           }
          ],
          "scatterpolar": [
           {
            "marker": {
             "colorbar": {
              "outlinewidth": 0,
              "ticks": ""
             }
            },
            "type": "scatterpolar"
           }
          ],
          "scatterpolargl": [
           {
            "marker": {
             "colorbar": {
              "outlinewidth": 0,
              "ticks": ""
             }
            },
            "type": "scatterpolargl"
           }
          ],
          "scatterternary": [
           {
            "marker": {
             "colorbar": {
              "outlinewidth": 0,
              "ticks": ""
             }
            },
            "type": "scatterternary"
           }
          ],
          "surface": [
           {
            "colorbar": {
             "outlinewidth": 0,
             "ticks": ""
            },
            "colorscale": [
             [
              0,
              "#0d0887"
             ],
             [
              0.1111111111111111,
              "#46039f"
             ],
             [
              0.2222222222222222,
              "#7201a8"
             ],
             [
              0.3333333333333333,
              "#9c179e"
             ],
             [
              0.4444444444444444,
              "#bd3786"
             ],
             [
              0.5555555555555556,
              "#d8576b"
             ],
             [
              0.6666666666666666,
              "#ed7953"
             ],
             [
              0.7777777777777778,
              "#fb9f3a"
             ],
             [
              0.8888888888888888,
              "#fdca26"
             ],
             [
              1,
              "#f0f921"
             ]
            ],
            "type": "surface"
           }
          ],
          "table": [
           {
            "cells": {
             "fill": {
              "color": "#EBF0F8"
             },
             "line": {
              "color": "white"
             }
            },
            "header": {
             "fill": {
              "color": "#C8D4E3"
             },
             "line": {
              "color": "white"
             }
            },
            "type": "table"
           }
          ]
         },
         "layout": {
          "annotationdefaults": {
           "arrowcolor": "#2a3f5f",
           "arrowhead": 0,
           "arrowwidth": 1
          },
          "coloraxis": {
           "colorbar": {
            "outlinewidth": 0,
            "ticks": ""
           }
          },
          "colorscale": {
           "diverging": [
            [
             0,
             "#8e0152"
            ],
            [
             0.1,
             "#c51b7d"
            ],
            [
             0.2,
             "#de77ae"
            ],
            [
             0.3,
             "#f1b6da"
            ],
            [
             0.4,
             "#fde0ef"
            ],
            [
             0.5,
             "#f7f7f7"
            ],
            [
             0.6,
             "#e6f5d0"
            ],
            [
             0.7,
             "#b8e186"
            ],
            [
             0.8,
             "#7fbc41"
            ],
            [
             0.9,
             "#4d9221"
            ],
            [
             1,
             "#276419"
            ]
           ],
           "sequential": [
            [
             0,
             "#0d0887"
            ],
            [
             0.1111111111111111,
             "#46039f"
            ],
            [
             0.2222222222222222,
             "#7201a8"
            ],
            [
             0.3333333333333333,
             "#9c179e"
            ],
            [
             0.4444444444444444,
             "#bd3786"
            ],
            [
             0.5555555555555556,
             "#d8576b"
            ],
            [
             0.6666666666666666,
             "#ed7953"
            ],
            [
             0.7777777777777778,
             "#fb9f3a"
            ],
            [
             0.8888888888888888,
             "#fdca26"
            ],
            [
             1,
             "#f0f921"
            ]
           ],
           "sequentialminus": [
            [
             0,
             "#0d0887"
            ],
            [
             0.1111111111111111,
             "#46039f"
            ],
            [
             0.2222222222222222,
             "#7201a8"
            ],
            [
             0.3333333333333333,
             "#9c179e"
            ],
            [
             0.4444444444444444,
             "#bd3786"
            ],
            [
             0.5555555555555556,
             "#d8576b"
            ],
            [
             0.6666666666666666,
             "#ed7953"
            ],
            [
             0.7777777777777778,
             "#fb9f3a"
            ],
            [
             0.8888888888888888,
             "#fdca26"
            ],
            [
             1,
             "#f0f921"
            ]
           ]
          },
          "colorway": [
           "#636efa",
           "#EF553B",
           "#00cc96",
           "#ab63fa",
           "#FFA15A",
           "#19d3f3",
           "#FF6692",
           "#B6E880",
           "#FF97FF",
           "#FECB52"
          ],
          "font": {
           "color": "#2a3f5f"
          },
          "geo": {
           "bgcolor": "white",
           "lakecolor": "white",
           "landcolor": "#E5ECF6",
           "showlakes": true,
           "showland": true,
           "subunitcolor": "white"
          },
          "hoverlabel": {
           "align": "left"
          },
          "hovermode": "closest",
          "mapbox": {
           "style": "light"
          },
          "paper_bgcolor": "white",
          "plot_bgcolor": "#E5ECF6",
          "polar": {
           "angularaxis": {
            "gridcolor": "white",
            "linecolor": "white",
            "ticks": ""
           },
           "bgcolor": "#E5ECF6",
           "radialaxis": {
            "gridcolor": "white",
            "linecolor": "white",
            "ticks": ""
           }
          },
          "scene": {
           "xaxis": {
            "backgroundcolor": "#E5ECF6",
            "gridcolor": "white",
            "gridwidth": 2,
            "linecolor": "white",
            "showbackground": true,
            "ticks": "",
            "zerolinecolor": "white"
           },
           "yaxis": {
            "backgroundcolor": "#E5ECF6",
            "gridcolor": "white",
            "gridwidth": 2,
            "linecolor": "white",
            "showbackground": true,
            "ticks": "",
            "zerolinecolor": "white"
           },
           "zaxis": {
            "backgroundcolor": "#E5ECF6",
            "gridcolor": "white",
            "gridwidth": 2,
            "linecolor": "white",
            "showbackground": true,
            "ticks": "",
            "zerolinecolor": "white"
           }
          },
          "shapedefaults": {
           "line": {
            "color": "#2a3f5f"
           }
          },
          "ternary": {
           "aaxis": {
            "gridcolor": "white",
            "linecolor": "white",
            "ticks": ""
           },
           "baxis": {
            "gridcolor": "white",
            "linecolor": "white",
            "ticks": ""
           },
           "bgcolor": "#E5ECF6",
           "caxis": {
            "gridcolor": "white",
            "linecolor": "white",
            "ticks": ""
           }
          },
          "title": {
           "x": 0.05
          },
          "xaxis": {
           "automargin": true,
           "gridcolor": "white",
           "linecolor": "white",
           "ticks": "",
           "title": {
            "standoff": 15
           },
           "zerolinecolor": "white",
           "zerolinewidth": 2
          },
          "yaxis": {
           "automargin": true,
           "gridcolor": "white",
           "linecolor": "white",
           "ticks": "",
           "title": {
            "standoff": 15
           },
           "zerolinecolor": "white",
           "zerolinewidth": 2
          }
         }
        },
        "title": {
         "text": "CGM"
        },
        "xaxis": {
         "anchor": "y",
         "domain": [
          0,
          1
         ],
         "title": {
          "text": "Date"
         }
        },
        "yaxis": {
         "anchor": "x",
         "domain": [
          0,
          1
         ],
         "title": {
          "text": "GlucoseValue"
         }
        }
       }
      },
      "text/html": [
       "<div>\n",
       "        \n",
       "        \n",
       "            <div id=\"0f9ccfe3-6363-4ff9-956e-87bbffc4c2a6\" class=\"plotly-graph-div\" style=\"height:525px; width:100%;\"></div>\n",
       "            <script type=\"text/javascript\">\n",
       "                require([\"plotly\"], function(Plotly) {\n",
       "                    window.PLOTLYENV=window.PLOTLYENV || {};\n",
       "                    \n",
       "                if (document.getElementById(\"0f9ccfe3-6363-4ff9-956e-87bbffc4c2a6\")) {\n",
       "                    Plotly.newPlot(\n",
       "                        '0f9ccfe3-6363-4ff9-956e-87bbffc4c2a6',\n",
       "                        [{\"hoverlabel\": {\"namelength\": 0}, \"hovertemplate\": \"Date=%{x}<br>GlucoseValue=%{y}\", \"legendgroup\": \"\", \"line\": {\"color\": \"#636efa\", \"dash\": \"solid\"}, \"mode\": \"lines\", \"name\": \"\", \"showlegend\": false, \"type\": \"scatter\", \"x\": [\"2017-12-03T22:34:00\", \"2017-12-03T22:49:00\", \"2017-12-03T23:04:00\", \"2017-12-03T23:19:00\", \"2017-12-03T23:34:00\", \"2017-12-03T23:49:00\", \"2017-12-04T00:04:00\", \"2017-12-04T00:19:00\", \"2017-12-04T00:34:00\", \"2017-12-04T00:49:00\", \"2017-12-04T01:04:00\", \"2017-12-04T01:19:00\", \"2017-12-04T01:34:00\", \"2017-12-04T01:49:00\", \"2017-12-04T02:04:00\", \"2017-12-04T02:19:00\", \"2017-12-04T02:34:00\", \"2017-12-04T02:49:00\", \"2017-12-04T03:04:00\", \"2017-12-04T03:19:00\", \"2017-12-04T03:34:00\", \"2017-12-04T03:49:00\", \"2017-12-04T04:04:00\", \"2017-12-04T04:19:00\", \"2017-12-04T04:34:00\", \"2017-12-04T04:49:00\", \"2017-12-04T05:04:00\", \"2017-12-04T23:34:00\", \"2017-12-04T23:49:00\", \"2017-12-05T00:04:00\", \"2017-12-05T00:19:00\", \"2017-12-05T00:34:00\", \"2017-12-05T00:49:00\", \"2017-12-05T01:04:00\", \"2017-12-05T01:19:00\", \"2017-12-05T01:34:00\", \"2017-12-05T01:49:00\", \"2017-12-05T02:04:00\", \"2017-12-05T02:19:00\", \"2017-12-05T02:34:00\", \"2017-12-05T02:49:00\", \"2017-12-05T03:04:00\", \"2017-12-05T03:19:00\", \"2017-12-05T03:34:00\", \"2017-12-05T03:49:00\", \"2017-12-05T04:04:00\", \"2017-12-05T04:19:00\", \"2017-12-05T04:34:00\", \"2017-12-05T04:49:00\", \"2017-12-05T05:04:00\", \"2017-12-05T05:20:00\", \"2017-12-05T23:35:00\", \"2017-12-05T23:50:00\", \"2017-12-06T00:05:00\", \"2017-12-06T00:20:00\", \"2017-12-06T00:35:00\", \"2017-12-06T00:50:00\", \"2017-12-06T01:05:00\", \"2017-12-06T01:20:00\", \"2017-12-06T01:35:00\", \"2017-12-06T01:50:00\", \"2017-12-06T02:05:00\", \"2017-12-06T02:20:00\", \"2017-12-06T02:35:00\", \"2017-12-06T02:50:00\", \"2017-12-06T03:05:00\", \"2017-12-06T03:20:00\", \"2017-12-06T03:35:00\", \"2017-12-06T03:50:00\", \"2017-12-06T04:05:00\", \"2017-12-06T04:20:00\", \"2017-12-06T04:35:00\", \"2017-12-06T04:50:00\", \"2017-12-06T05:04:00\", \"2017-12-06T21:34:00\", \"2017-12-06T21:49:00\", \"2017-12-06T22:04:00\", \"2017-12-06T22:19:00\", \"2017-12-06T22:34:00\", \"2017-12-06T22:49:00\", \"2017-12-06T23:04:00\", \"2017-12-06T23:19:00\", \"2017-12-06T23:34:00\", \"2017-12-06T23:49:00\", \"2017-12-07T00:04:00\", \"2017-12-07T00:19:00\", \"2017-12-07T00:34:00\", \"2017-12-07T00:49:00\", \"2017-12-07T01:04:00\", \"2017-12-07T01:19:00\", \"2017-12-07T01:34:00\", \"2017-12-07T01:49:00\", \"2017-12-07T02:04:00\", \"2017-12-07T02:19:00\", \"2017-12-07T02:34:00\", \"2017-12-07T02:49:00\", \"2017-12-07T03:04:00\", \"2017-12-07T03:19:00\", \"2017-12-07T03:34:00\", \"2017-12-07T03:49:00\", \"2017-12-07T04:04:00\", \"2017-12-07T04:19:00\", \"2017-12-07T04:34:00\", \"2017-12-07T04:49:00\", \"2017-12-07T05:04:00\", \"2017-12-07T22:33:00\", \"2017-12-07T22:48:00\", \"2017-12-07T23:03:00\", \"2017-12-07T23:18:00\", \"2017-12-07T23:33:00\", \"2017-12-07T23:48:00\", \"2017-12-08T00:03:00\", \"2017-12-08T00:18:00\", \"2017-12-08T00:33:00\", \"2017-12-08T00:48:00\", \"2017-12-08T01:03:00\", \"2017-12-08T01:18:00\", \"2017-12-08T01:33:00\", \"2017-12-08T01:48:00\", \"2017-12-08T02:03:00\", \"2017-12-08T02:18:00\", \"2017-12-08T02:33:00\", \"2017-12-08T02:48:00\", \"2017-12-08T03:03:00\", \"2017-12-08T03:18:00\", \"2017-12-08T03:33:00\", \"2017-12-08T03:48:00\", \"2017-12-08T04:03:00\", \"2017-12-08T04:18:00\", \"2017-12-08T04:33:00\", \"2017-12-08T04:48:00\", \"2017-12-08T05:03:00\", \"2017-12-08T05:18:00\", \"2017-12-08T05:33:00\", \"2017-12-08T05:48:00\", \"2017-12-08T06:03:00\", \"2017-12-08T06:19:00\", \"2017-12-08T06:34:00\", \"2017-12-09T00:03:00\", \"2017-12-09T00:18:00\", \"2017-12-09T00:33:00\", \"2017-12-09T00:48:00\", \"2017-12-09T01:03:00\", \"2017-12-09T01:18:00\", \"2017-12-09T01:33:00\", \"2017-12-09T01:48:00\", \"2017-12-09T02:03:00\", \"2017-12-09T02:18:00\", \"2017-12-09T02:33:00\", \"2017-12-09T02:48:00\", \"2017-12-09T03:03:00\", \"2017-12-09T03:18:00\", \"2017-12-09T03:33:00\", \"2017-12-09T03:48:00\", \"2017-12-09T04:03:00\", \"2017-12-09T04:18:00\", \"2017-12-09T04:33:00\", \"2017-12-09T04:48:00\", \"2017-12-09T05:03:00\", \"2017-12-09T05:18:00\", \"2017-12-09T05:33:00\", \"2017-12-09T05:48:00\", \"2017-12-09T06:03:00\", \"2017-12-09T06:18:00\", \"2017-12-09T06:33:00\", \"2017-12-09T06:48:00\", \"2017-12-09T07:03:00\", \"2017-12-09T07:19:00\", \"2017-12-09T07:34:00\", \"2017-12-09T07:49:00\", \"2017-12-09T23:34:00\", \"2017-12-09T23:49:00\", \"2017-12-10T00:04:00\", \"2017-12-10T00:19:00\", \"2017-12-10T00:34:00\", \"2017-12-10T00:49:00\", \"2017-12-10T01:04:00\", \"2017-12-10T01:19:00\", \"2017-12-10T01:34:00\", \"2017-12-10T01:49:00\", \"2017-12-10T02:04:00\", \"2017-12-10T02:19:00\", \"2017-12-10T02:34:00\", \"2017-12-10T02:49:00\", \"2017-12-10T03:04:00\", \"2017-12-10T03:19:00\", \"2017-12-10T03:34:00\", \"2017-12-10T03:49:00\", \"2017-12-10T04:04:00\", \"2017-12-10T04:19:00\", \"2017-12-10T04:34:00\", \"2017-12-10T04:49:00\", \"2017-12-10T05:03:00\", \"2017-12-10T23:04:00\", \"2017-12-10T23:19:00\", \"2017-12-10T23:34:00\", \"2017-12-10T23:49:00\", \"2017-12-11T00:04:00\", \"2017-12-11T00:19:00\", \"2017-12-11T00:34:00\", \"2017-12-11T00:49:00\", \"2017-12-11T01:04:00\", \"2017-12-11T01:19:00\", \"2017-12-11T01:34:00\", \"2017-12-11T01:49:00\", \"2017-12-11T02:04:00\", \"2017-12-11T02:19:00\", \"2017-12-11T02:34:00\", \"2017-12-11T02:49:00\", \"2017-12-11T03:04:00\", \"2017-12-11T03:19:00\", \"2017-12-11T03:34:00\", \"2017-12-11T03:49:00\", \"2017-12-11T04:04:00\", \"2017-12-11T04:19:00\", \"2017-12-11T04:34:00\", \"2017-12-11T04:49:00\", \"2017-12-11T05:04:00\", \"2017-12-11T05:19:00\", \"2017-12-11T05:34:00\", \"2017-12-11T05:49:00\", \"2017-12-11T06:03:00\", \"2017-12-11T06:18:00\", \"2017-12-11T06:33:00\"], \"xaxis\": \"x\", \"y\": [221.0, 184.0, 151.0, 151.0, 157.0, 153.0, 172.0, 206.0, 203.0, 189.0, 199.0, 194.0, 163.0, 119.0, 99.0, 120.0, 132.0, 140.0, 130.0, 107.0, 115.0, 133.0, 130.0, 124.0, 151.0, 185.0, 189.0, 136.0, 156.0, 180.0, 194.0, 192.0, 185.0, 191.0, 198.0, 200.0, 196.0, 191.0, 184.0, 172.0, 163.0, 168.0, 179.0, 182.0, 180.0, 175.0, 167.0, 160.0, 155.0, 158.0, 176.0, 150.0, 149.0, 149.0, 147.0, 141.0, 136.0, 136.0, 134.0, 133.0, 138.0, 140.0, 147.0, 160.0, 162.0, 162.0, 161.0, 161.0, 157.0, 156.0, 161.0, 165.0, 167.0, 169.0, 147.0, 149.0, 152.0, 150.0, 143.0, 138.0, 136.0, 139.0, 143.0, 148.0, 148.0, 151.0, 150.0, 145.0, 138.0, 132.0, 128.0, 129.0, 133.0, 139.0, 149.0, 158.0, 158.0, 159.0, 160.0, 153.0, 150.0, 151.0, 147.0, 150.0, 156.0, 159.0, 169.0, 172.0, 173.0, 173.0, 170.0, 163.0, 154.0, 154.0, 156.0, 154.0, 153.0, 151.0, 148.0, 145.0, 139.0, 133.0, 129.0, 131.0, 141.0, 150.0, 151.0, 150.0, 146.0, 144.0, 142.0, 136.0, 145.0, 158.0, 154.0, 146.0, 151.0, 162.0, 209.0, 178.0, 163.0, 164.0, 178.0, 200.0, 204.0, 197.0, 198.0, 205.0, 209.0, 208.0, 205.0, 197.0, 186.0, 188.0, 199.0, 202.0, 196.0, 194.0, 191.0, 184.0, 175.0, 167.0, 166.0, 172.0, 173.0, 169.0, 166.0, 167.0, 165.0, 160.0, 184.0, 179.0, 174.0, 174.0, 177.0, 177.0, 172.0, 163.0, 156.0, 148.0, 147.0, 153.0, 154.0, 151.0, 159.0, 164.0, 162.0, 158.0, 155.0, 150.0, 144.0, 142.0, 160.0, 172.0, 170.0, 164.0, 161.0, 159.0, 156.0, 152.0, 150.0, 150.0, 149.0, 145.0, 140.0, 135.0, 136.0, 143.0, 148.0, 150.0, 147.0, 145.0, 148.0, 147.0, 145.0, 144.0, 139.0, 139.0, 146.0, 153.0, 153.0, 165.0, 178.0, 184.0], \"yaxis\": \"y\"}],\n",
       "                        {\"legend\": {\"tracegroupgap\": 0}, \"template\": {\"data\": {\"bar\": [{\"error_x\": {\"color\": \"#2a3f5f\"}, \"error_y\": {\"color\": \"#2a3f5f\"}, \"marker\": {\"line\": {\"color\": \"#E5ECF6\", \"width\": 0.5}}, \"type\": \"bar\"}], \"barpolar\": [{\"marker\": {\"line\": {\"color\": \"#E5ECF6\", \"width\": 0.5}}, \"type\": \"barpolar\"}], \"carpet\": [{\"aaxis\": {\"endlinecolor\": \"#2a3f5f\", \"gridcolor\": \"white\", \"linecolor\": \"white\", \"minorgridcolor\": \"white\", \"startlinecolor\": \"#2a3f5f\"}, \"baxis\": {\"endlinecolor\": \"#2a3f5f\", \"gridcolor\": \"white\", \"linecolor\": \"white\", \"minorgridcolor\": \"white\", \"startlinecolor\": \"#2a3f5f\"}, \"type\": \"carpet\"}], \"choropleth\": [{\"colorbar\": {\"outlinewidth\": 0, \"ticks\": \"\"}, \"type\": \"choropleth\"}], \"contour\": [{\"colorbar\": {\"outlinewidth\": 0, \"ticks\": \"\"}, \"colorscale\": [[0.0, \"#0d0887\"], [0.1111111111111111, \"#46039f\"], [0.2222222222222222, \"#7201a8\"], [0.3333333333333333, \"#9c179e\"], [0.4444444444444444, \"#bd3786\"], [0.5555555555555556, \"#d8576b\"], [0.6666666666666666, \"#ed7953\"], [0.7777777777777778, \"#fb9f3a\"], [0.8888888888888888, \"#fdca26\"], [1.0, \"#f0f921\"]], \"type\": \"contour\"}], \"contourcarpet\": [{\"colorbar\": {\"outlinewidth\": 0, \"ticks\": \"\"}, \"type\": \"contourcarpet\"}], \"heatmap\": [{\"colorbar\": {\"outlinewidth\": 0, \"ticks\": \"\"}, \"colorscale\": [[0.0, \"#0d0887\"], [0.1111111111111111, \"#46039f\"], [0.2222222222222222, \"#7201a8\"], [0.3333333333333333, \"#9c179e\"], [0.4444444444444444, \"#bd3786\"], [0.5555555555555556, \"#d8576b\"], [0.6666666666666666, \"#ed7953\"], [0.7777777777777778, \"#fb9f3a\"], [0.8888888888888888, \"#fdca26\"], [1.0, \"#f0f921\"]], \"type\": \"heatmap\"}], \"heatmapgl\": [{\"colorbar\": {\"outlinewidth\": 0, \"ticks\": \"\"}, \"colorscale\": [[0.0, \"#0d0887\"], [0.1111111111111111, \"#46039f\"], [0.2222222222222222, \"#7201a8\"], [0.3333333333333333, \"#9c179e\"], [0.4444444444444444, \"#bd3786\"], [0.5555555555555556, \"#d8576b\"], [0.6666666666666666, \"#ed7953\"], [0.7777777777777778, \"#fb9f3a\"], [0.8888888888888888, \"#fdca26\"], [1.0, \"#f0f921\"]], \"type\": \"heatmapgl\"}], \"histogram\": [{\"marker\": {\"colorbar\": {\"outlinewidth\": 0, \"ticks\": \"\"}}, \"type\": \"histogram\"}], \"histogram2d\": [{\"colorbar\": {\"outlinewidth\": 0, \"ticks\": \"\"}, \"colorscale\": [[0.0, \"#0d0887\"], [0.1111111111111111, \"#46039f\"], [0.2222222222222222, \"#7201a8\"], [0.3333333333333333, \"#9c179e\"], [0.4444444444444444, \"#bd3786\"], [0.5555555555555556, \"#d8576b\"], [0.6666666666666666, \"#ed7953\"], [0.7777777777777778, \"#fb9f3a\"], [0.8888888888888888, \"#fdca26\"], [1.0, \"#f0f921\"]], \"type\": \"histogram2d\"}], \"histogram2dcontour\": [{\"colorbar\": {\"outlinewidth\": 0, \"ticks\": \"\"}, \"colorscale\": [[0.0, \"#0d0887\"], [0.1111111111111111, \"#46039f\"], [0.2222222222222222, \"#7201a8\"], [0.3333333333333333, \"#9c179e\"], [0.4444444444444444, \"#bd3786\"], [0.5555555555555556, \"#d8576b\"], [0.6666666666666666, \"#ed7953\"], [0.7777777777777778, \"#fb9f3a\"], [0.8888888888888888, \"#fdca26\"], [1.0, \"#f0f921\"]], \"type\": \"histogram2dcontour\"}], \"mesh3d\": [{\"colorbar\": {\"outlinewidth\": 0, \"ticks\": \"\"}, \"type\": \"mesh3d\"}], \"parcoords\": [{\"line\": {\"colorbar\": {\"outlinewidth\": 0, \"ticks\": \"\"}}, \"type\": \"parcoords\"}], \"pie\": [{\"automargin\": true, \"type\": \"pie\"}], \"scatter\": [{\"marker\": {\"colorbar\": {\"outlinewidth\": 0, \"ticks\": \"\"}}, \"type\": \"scatter\"}], \"scatter3d\": [{\"line\": {\"colorbar\": {\"outlinewidth\": 0, \"ticks\": \"\"}}, \"marker\": {\"colorbar\": {\"outlinewidth\": 0, \"ticks\": \"\"}}, \"type\": \"scatter3d\"}], \"scattercarpet\": [{\"marker\": {\"colorbar\": {\"outlinewidth\": 0, \"ticks\": \"\"}}, \"type\": \"scattercarpet\"}], \"scattergeo\": [{\"marker\": {\"colorbar\": {\"outlinewidth\": 0, \"ticks\": \"\"}}, \"type\": \"scattergeo\"}], \"scattergl\": [{\"marker\": {\"colorbar\": {\"outlinewidth\": 0, \"ticks\": \"\"}}, \"type\": \"scattergl\"}], \"scattermapbox\": [{\"marker\": {\"colorbar\": {\"outlinewidth\": 0, \"ticks\": \"\"}}, \"type\": \"scattermapbox\"}], \"scatterpolar\": [{\"marker\": {\"colorbar\": {\"outlinewidth\": 0, \"ticks\": \"\"}}, \"type\": \"scatterpolar\"}], \"scatterpolargl\": [{\"marker\": {\"colorbar\": {\"outlinewidth\": 0, \"ticks\": \"\"}}, \"type\": \"scatterpolargl\"}], \"scatterternary\": [{\"marker\": {\"colorbar\": {\"outlinewidth\": 0, \"ticks\": \"\"}}, \"type\": \"scatterternary\"}], \"surface\": [{\"colorbar\": {\"outlinewidth\": 0, \"ticks\": \"\"}, \"colorscale\": [[0.0, \"#0d0887\"], [0.1111111111111111, \"#46039f\"], [0.2222222222222222, \"#7201a8\"], [0.3333333333333333, \"#9c179e\"], [0.4444444444444444, \"#bd3786\"], [0.5555555555555556, \"#d8576b\"], [0.6666666666666666, \"#ed7953\"], [0.7777777777777778, \"#fb9f3a\"], [0.8888888888888888, \"#fdca26\"], [1.0, \"#f0f921\"]], \"type\": \"surface\"}], \"table\": [{\"cells\": {\"fill\": {\"color\": \"#EBF0F8\"}, \"line\": {\"color\": \"white\"}}, \"header\": {\"fill\": {\"color\": \"#C8D4E3\"}, \"line\": {\"color\": \"white\"}}, \"type\": \"table\"}]}, \"layout\": {\"annotationdefaults\": {\"arrowcolor\": \"#2a3f5f\", \"arrowhead\": 0, \"arrowwidth\": 1}, \"coloraxis\": {\"colorbar\": {\"outlinewidth\": 0, \"ticks\": \"\"}}, \"colorscale\": {\"diverging\": [[0, \"#8e0152\"], [0.1, \"#c51b7d\"], [0.2, \"#de77ae\"], [0.3, \"#f1b6da\"], [0.4, \"#fde0ef\"], [0.5, \"#f7f7f7\"], [0.6, \"#e6f5d0\"], [0.7, \"#b8e186\"], [0.8, \"#7fbc41\"], [0.9, \"#4d9221\"], [1, \"#276419\"]], \"sequential\": [[0.0, \"#0d0887\"], [0.1111111111111111, \"#46039f\"], [0.2222222222222222, \"#7201a8\"], [0.3333333333333333, \"#9c179e\"], [0.4444444444444444, \"#bd3786\"], [0.5555555555555556, \"#d8576b\"], [0.6666666666666666, \"#ed7953\"], [0.7777777777777778, \"#fb9f3a\"], [0.8888888888888888, \"#fdca26\"], [1.0, \"#f0f921\"]], \"sequentialminus\": [[0.0, \"#0d0887\"], [0.1111111111111111, \"#46039f\"], [0.2222222222222222, \"#7201a8\"], [0.3333333333333333, \"#9c179e\"], [0.4444444444444444, \"#bd3786\"], [0.5555555555555556, \"#d8576b\"], [0.6666666666666666, \"#ed7953\"], [0.7777777777777778, \"#fb9f3a\"], [0.8888888888888888, \"#fdca26\"], [1.0, \"#f0f921\"]]}, \"colorway\": [\"#636efa\", \"#EF553B\", \"#00cc96\", \"#ab63fa\", \"#FFA15A\", \"#19d3f3\", \"#FF6692\", \"#B6E880\", \"#FF97FF\", \"#FECB52\"], \"font\": {\"color\": \"#2a3f5f\"}, \"geo\": {\"bgcolor\": \"white\", \"lakecolor\": \"white\", \"landcolor\": \"#E5ECF6\", \"showlakes\": true, \"showland\": true, \"subunitcolor\": \"white\"}, \"hoverlabel\": {\"align\": \"left\"}, \"hovermode\": \"closest\", \"mapbox\": {\"style\": \"light\"}, \"paper_bgcolor\": \"white\", \"plot_bgcolor\": \"#E5ECF6\", \"polar\": {\"angularaxis\": {\"gridcolor\": \"white\", \"linecolor\": \"white\", \"ticks\": \"\"}, \"bgcolor\": \"#E5ECF6\", \"radialaxis\": {\"gridcolor\": \"white\", \"linecolor\": \"white\", \"ticks\": \"\"}}, \"scene\": {\"xaxis\": {\"backgroundcolor\": \"#E5ECF6\", \"gridcolor\": \"white\", \"gridwidth\": 2, \"linecolor\": \"white\", \"showbackground\": true, \"ticks\": \"\", \"zerolinecolor\": \"white\"}, \"yaxis\": {\"backgroundcolor\": \"#E5ECF6\", \"gridcolor\": \"white\", \"gridwidth\": 2, \"linecolor\": \"white\", \"showbackground\": true, \"ticks\": \"\", \"zerolinecolor\": \"white\"}, \"zaxis\": {\"backgroundcolor\": \"#E5ECF6\", \"gridcolor\": \"white\", \"gridwidth\": 2, \"linecolor\": \"white\", \"showbackground\": true, \"ticks\": \"\", \"zerolinecolor\": \"white\"}}, \"shapedefaults\": {\"line\": {\"color\": \"#2a3f5f\"}}, \"ternary\": {\"aaxis\": {\"gridcolor\": \"white\", \"linecolor\": \"white\", \"ticks\": \"\"}, \"baxis\": {\"gridcolor\": \"white\", \"linecolor\": \"white\", \"ticks\": \"\"}, \"bgcolor\": \"#E5ECF6\", \"caxis\": {\"gridcolor\": \"white\", \"linecolor\": \"white\", \"ticks\": \"\"}}, \"title\": {\"x\": 0.05}, \"xaxis\": {\"automargin\": true, \"gridcolor\": \"white\", \"linecolor\": \"white\", \"ticks\": \"\", \"title\": {\"standoff\": 15}, \"zerolinecolor\": \"white\", \"zerolinewidth\": 2}, \"yaxis\": {\"automargin\": true, \"gridcolor\": \"white\", \"linecolor\": \"white\", \"ticks\": \"\", \"title\": {\"standoff\": 15}, \"zerolinecolor\": \"white\", \"zerolinewidth\": 2}}}, \"title\": {\"text\": \"CGM\"}, \"xaxis\": {\"anchor\": \"y\", \"domain\": [0.0, 1.0], \"title\": {\"text\": \"Date\"}}, \"yaxis\": {\"anchor\": \"x\", \"domain\": [0.0, 1.0], \"title\": {\"text\": \"GlucoseValue\"}}},\n",
       "                        {\"responsive\": true}\n",
       "                    ).then(function(){\n",
       "                            \n",
       "var gd = document.getElementById('0f9ccfe3-6363-4ff9-956e-87bbffc4c2a6');\n",
       "var x = new MutationObserver(function (mutations, observer) {{\n",
       "        var display = window.getComputedStyle(gd).display;\n",
       "        if (!display || display === 'none') {{\n",
       "            console.log([gd, 'removed!']);\n",
       "            Plotly.purge(gd);\n",
       "            observer.disconnect();\n",
       "        }}\n",
       "}});\n",
       "\n",
       "// Listen for the removal of the full notebook cells\n",
       "var notebookContainer = gd.closest('#notebook-container');\n",
       "if (notebookContainer) {{\n",
       "    x.observe(notebookContainer, {childList: true});\n",
       "}}\n",
       "\n",
       "// Listen for the clearing of the current output cell\n",
       "var outputEl = gd.closest('.output');\n",
       "if (outputEl) {{\n",
       "    x.observe(outputEl, {childList: true});\n",
       "}}\n",
       "\n",
       "                        })\n",
       "                };\n",
       "                });\n",
       "            </script>\n",
       "        </div>"
      ]
     },
     "metadata": {},
     "output_type": "display_data"
    }
   ],
   "source": [
    "plotly_cgm(cgm_df=cgm_night.query(\"RegistrationCode == '579543' and ConnectionID == '2228'\"))"
   ]
  },
  {
   "cell_type": "code",
   "execution_count": 347,
   "metadata": {
    "scrolled": true
   },
   "outputs": [
    {
     "data": {
      "application/vnd.plotly.v1+json": {
       "config": {
        "plotlyServerURL": "https://plot.ly"
       },
       "data": [
        {
         "hoverlabel": {
          "namelength": 0
         },
         "hovertemplate": "Date=%{x}<br>GlucoseValue=%{y}",
         "legendgroup": "",
         "line": {
          "color": "#636efa",
          "dash": "solid"
         },
         "mode": "lines",
         "name": "",
         "showlegend": false,
         "type": "scatter",
         "x": [
          "2017-12-27T00:14:00",
          "2017-12-27T00:29:00",
          "2017-12-27T00:44:00",
          "2017-12-27T00:59:00",
          "2017-12-27T01:14:00",
          "2017-12-27T01:29:00",
          "2017-12-27T01:44:00",
          "2017-12-27T01:59:00",
          "2017-12-27T02:14:00",
          "2017-12-27T02:29:00",
          "2017-12-27T02:44:00",
          "2017-12-27T02:59:00",
          "2017-12-27T03:14:00",
          "2017-12-27T03:29:00",
          "2017-12-27T03:44:00",
          "2017-12-27T03:59:00",
          "2017-12-27T04:14:00",
          "2017-12-27T04:29:00",
          "2017-12-27T04:44:00",
          "2017-12-27T04:59:00",
          "2017-12-27T23:17:00",
          "2017-12-27T23:32:00",
          "2017-12-27T23:47:00",
          "2017-12-28T00:02:00",
          "2017-12-28T00:17:00",
          "2017-12-28T00:32:00",
          "2017-12-28T00:47:00",
          "2017-12-28T01:02:00",
          "2017-12-28T01:17:00",
          "2017-12-28T01:32:00",
          "2017-12-28T01:47:00",
          "2017-12-28T02:02:00",
          "2017-12-28T02:17:00",
          "2017-12-28T02:33:00",
          "2017-12-28T02:48:00",
          "2017-12-28T03:03:00",
          "2017-12-28T03:18:00",
          "2017-12-28T03:33:00",
          "2017-12-28T03:48:00",
          "2017-12-28T04:03:00",
          "2017-12-28T04:18:00",
          "2017-12-28T04:33:00",
          "2017-12-28T04:48:00",
          "2017-12-28T05:03:00",
          "2017-12-28T23:06:00",
          "2017-12-28T23:21:00",
          "2017-12-28T23:36:00",
          "2017-12-28T23:51:00",
          "2017-12-29T00:06:00",
          "2017-12-29T00:21:00",
          "2017-12-29T00:36:00",
          "2017-12-29T00:51:00",
          "2017-12-29T01:06:00",
          "2017-12-29T01:21:00",
          "2017-12-29T01:36:00",
          "2017-12-29T01:51:00",
          "2017-12-29T02:06:00",
          "2017-12-29T02:21:00",
          "2017-12-29T02:36:00",
          "2017-12-29T02:51:00",
          "2017-12-29T03:06:00",
          "2017-12-29T03:21:00",
          "2017-12-29T03:36:00",
          "2017-12-29T03:51:00",
          "2017-12-29T04:06:00",
          "2017-12-29T04:21:00",
          "2017-12-29T04:36:00",
          "2017-12-29T04:51:00",
          "2017-12-29T05:06:00",
          "2017-12-29T05:21:00",
          "2017-12-29T05:36:00",
          "2017-12-29T05:51:00",
          "2017-12-29T06:06:00",
          "2017-12-29T06:22:00",
          "2017-12-29T06:37:00",
          "2017-12-29T06:52:00",
          "2017-12-29T07:07:00",
          "2017-12-29T07:21:00",
          "2017-12-30T03:25:00",
          "2017-12-30T03:40:00",
          "2017-12-30T03:55:00",
          "2017-12-30T04:10:00",
          "2017-12-30T04:25:00",
          "2017-12-30T04:40:00",
          "2017-12-30T04:55:00",
          "2017-12-30T05:10:00",
          "2017-12-30T05:25:00",
          "2017-12-30T05:40:00",
          "2017-12-30T05:55:00",
          "2017-12-30T06:10:00",
          "2017-12-30T06:25:00",
          "2017-12-30T06:40:00",
          "2017-12-30T06:55:00",
          "2017-12-30T07:10:00",
          "2017-12-30T07:25:00",
          "2017-12-30T07:40:00",
          "2017-12-30T07:55:00",
          "2017-12-30T08:10:00",
          "2017-12-30T08:25:00",
          "2017-12-30T08:40:00",
          "2017-12-30T08:55:00",
          "2017-12-30T09:10:00",
          "2017-12-30T09:25:00",
          "2017-12-30T09:40:00",
          "2017-12-31T00:13:00",
          "2017-12-31T00:28:00",
          "2017-12-31T00:43:00",
          "2017-12-31T00:58:00",
          "2017-12-31T01:13:00",
          "2017-12-31T01:28:00",
          "2017-12-31T01:43:00",
          "2017-12-31T01:58:00",
          "2017-12-31T02:13:00",
          "2017-12-31T02:28:00",
          "2017-12-31T02:43:00",
          "2017-12-31T02:58:00",
          "2017-12-31T03:13:00",
          "2017-12-31T03:28:00",
          "2017-12-31T03:43:00",
          "2017-12-31T03:58:00",
          "2017-12-31T04:13:00",
          "2017-12-31T04:28:00",
          "2017-12-31T04:43:00",
          "2017-12-31T04:58:00",
          "2018-01-01T00:01:00",
          "2018-01-01T00:16:00",
          "2018-01-01T00:31:00",
          "2018-01-01T00:46:00",
          "2018-01-01T01:01:00",
          "2018-01-01T01:16:00",
          "2018-01-01T01:31:00",
          "2018-01-01T01:46:00",
          "2018-01-01T02:01:00",
          "2018-01-01T02:17:00",
          "2018-01-01T02:32:00",
          "2018-01-01T02:47:00",
          "2018-01-01T03:02:00",
          "2018-01-01T03:17:00",
          "2018-01-01T03:32:00",
          "2018-01-01T03:47:00",
          "2018-01-01T04:02:00",
          "2018-01-01T04:17:00",
          "2018-01-01T04:32:00",
          "2018-01-01T04:47:00",
          "2018-01-01T05:02:00",
          "2018-01-01T21:49:00",
          "2018-01-01T22:04:00",
          "2018-01-01T22:19:00",
          "2018-01-01T22:34:00",
          "2018-01-01T22:49:00",
          "2018-01-01T23:05:00",
          "2018-01-01T23:20:00",
          "2018-01-01T23:35:00",
          "2018-01-01T23:50:00",
          "2018-01-02T00:05:00",
          "2018-01-02T00:20:00",
          "2018-01-02T00:35:00",
          "2018-01-02T00:50:00",
          "2018-01-02T01:05:00",
          "2018-01-02T01:20:00",
          "2018-01-02T01:35:00",
          "2018-01-02T01:50:00",
          "2018-01-02T02:05:00",
          "2018-01-02T02:20:00",
          "2018-01-02T02:35:00",
          "2018-01-02T02:50:00",
          "2018-01-02T03:05:00",
          "2018-01-02T03:20:00",
          "2018-01-02T03:35:00",
          "2018-01-02T03:50:00",
          "2018-01-02T04:05:00",
          "2018-01-02T04:20:00",
          "2018-01-02T04:35:00",
          "2018-01-02T04:50:00",
          "2018-01-02T05:05:00",
          "2018-01-02T23:07:00",
          "2018-01-02T23:22:00",
          "2018-01-02T23:39:00",
          "2018-01-02T23:54:00",
          "2018-01-03T00:09:00",
          "2018-01-03T00:24:00",
          "2018-01-03T00:39:00",
          "2018-01-03T00:54:00",
          "2018-01-03T01:09:00",
          "2018-01-03T01:24:00",
          "2018-01-03T01:39:00",
          "2018-01-03T01:54:00",
          "2018-01-03T02:09:00",
          "2018-01-03T02:24:00",
          "2018-01-03T02:39:00",
          "2018-01-03T02:54:00",
          "2018-01-03T03:09:00",
          "2018-01-03T03:24:00",
          "2018-01-03T03:39:00",
          "2018-01-03T03:54:00",
          "2018-01-03T04:09:00",
          "2018-01-03T04:24:00",
          "2018-01-03T04:39:00",
          "2018-01-03T04:54:00",
          "2018-01-03T23:12:00",
          "2018-01-03T23:27:00",
          "2018-01-03T23:42:00",
          "2018-01-03T23:57:00",
          "2018-01-04T00:12:00",
          "2018-01-04T00:27:00",
          "2018-01-04T00:42:00",
          "2018-01-04T00:57:00",
          "2018-01-04T01:12:00",
          "2018-01-04T01:27:00",
          "2018-01-04T01:42:00",
          "2018-01-04T01:57:00",
          "2018-01-04T02:12:00",
          "2018-01-04T02:27:00",
          "2018-01-04T02:42:00",
          "2018-01-04T02:57:00",
          "2018-01-04T03:12:00",
          "2018-01-04T03:27:00",
          "2018-01-04T03:42:00",
          "2018-01-04T03:57:00",
          "2018-01-04T04:12:00",
          "2018-01-04T04:27:00",
          "2018-01-04T04:42:00",
          "2018-01-04T04:57:00",
          "2018-01-04T23:45:00",
          "2018-01-05T00:01:00",
          "2018-01-05T00:16:00",
          "2018-01-05T00:31:00",
          "2018-01-05T00:46:00",
          "2018-01-05T01:01:00",
          "2018-01-05T01:16:00",
          "2018-01-05T01:31:00",
          "2018-01-05T01:46:00",
          "2018-01-05T02:01:00",
          "2018-01-05T02:16:00",
          "2018-01-05T02:31:00",
          "2018-01-05T02:46:00",
          "2018-01-05T03:01:00",
          "2018-01-05T03:16:00",
          "2018-01-05T03:31:00",
          "2018-01-05T03:46:00",
          "2018-01-05T04:01:00",
          "2018-01-05T04:16:00",
          "2018-01-05T04:31:00",
          "2018-01-05T04:46:00",
          "2018-01-05T05:01:00",
          "2018-01-05T05:16:00",
          "2018-01-05T05:31:00",
          "2018-01-05T05:46:00",
          "2018-01-05T06:01:00",
          "2018-01-05T06:16:00",
          "2018-01-05T06:31:00",
          "2018-01-05T06:46:00",
          "2018-01-05T07:01:00",
          "2018-01-05T07:16:00",
          "2018-01-05T07:31:00",
          "2018-01-05T23:34:00",
          "2018-01-05T23:48:00",
          "2018-01-06T00:04:00",
          "2018-01-06T00:19:00",
          "2018-01-06T00:34:00",
          "2018-01-06T00:49:00",
          "2018-01-06T01:04:00",
          "2018-01-06T01:19:00",
          "2018-01-06T01:34:00",
          "2018-01-06T01:49:00",
          "2018-01-06T02:04:00",
          "2018-01-06T02:19:00",
          "2018-01-06T02:34:00",
          "2018-01-06T02:49:00",
          "2018-01-06T03:04:00",
          "2018-01-06T03:19:00",
          "2018-01-06T03:34:00",
          "2018-01-06T03:50:00",
          "2018-01-06T04:05:00",
          "2018-01-06T04:20:00",
          "2018-01-06T04:35:00",
          "2018-01-06T04:50:00",
          "2018-01-06T05:05:00",
          "2018-01-06T05:20:00",
          "2018-01-06T05:35:00",
          "2018-01-06T05:50:00",
          "2018-01-06T06:05:00",
          "2018-01-06T06:20:00",
          "2018-01-06T06:35:00",
          "2018-01-06T06:50:00",
          "2018-01-06T07:05:00",
          "2018-01-06T07:20:00",
          "2018-01-06T07:35:00",
          "2018-01-06T07:50:00",
          "2018-01-06T08:05:00",
          "2018-01-06T08:19:00",
          "2018-01-06T23:37:00",
          "2018-01-06T23:53:00",
          "2018-01-07T00:08:00",
          "2018-01-07T00:23:00",
          "2018-01-07T00:38:00",
          "2018-01-07T00:53:00",
          "2018-01-07T01:08:00",
          "2018-01-07T01:23:00",
          "2018-01-07T01:38:00",
          "2018-01-07T01:53:00",
          "2018-01-07T02:08:00",
          "2018-01-07T02:23:00",
          "2018-01-07T02:38:00",
          "2018-01-07T02:53:00",
          "2018-01-07T03:08:00",
          "2018-01-07T03:23:00",
          "2018-01-07T03:38:00",
          "2018-01-07T03:53:00",
          "2018-01-07T04:08:00",
          "2018-01-07T04:23:00",
          "2018-01-07T04:38:00",
          "2018-01-07T04:53:00",
          "2018-01-07T05:08:00",
          "2018-01-07T23:42:00",
          "2018-01-07T23:57:00",
          "2018-01-08T00:12:00",
          "2018-01-08T00:27:00",
          "2018-01-08T00:42:00",
          "2018-01-08T00:57:00",
          "2018-01-08T01:12:00",
          "2018-01-08T01:27:00",
          "2018-01-08T01:42:00",
          "2018-01-08T01:57:00",
          "2018-01-08T02:12:00",
          "2018-01-08T02:27:00",
          "2018-01-08T02:42:00",
          "2018-01-08T02:57:00",
          "2018-01-08T03:12:00",
          "2018-01-08T03:26:00",
          "2018-01-08T03:41:00",
          "2018-01-08T03:56:00",
          "2018-01-08T04:11:00",
          "2018-01-08T04:26:00",
          "2018-01-08T04:41:00",
          "2018-01-08T04:56:00",
          "2018-01-08T05:12:00",
          "2018-01-08T05:27:00",
          "2018-01-08T23:59:00",
          "2018-01-09T00:15:00",
          "2018-01-09T00:30:00",
          "2018-01-09T00:45:00",
          "2018-01-09T01:00:00",
          "2018-01-09T01:15:00",
          "2018-01-09T01:30:00",
          "2018-01-09T01:45:00",
          "2018-01-09T02:00:00",
          "2018-01-09T02:15:00",
          "2018-01-09T02:30:00",
          "2018-01-09T02:45:00",
          "2018-01-09T03:00:00",
          "2018-01-09T03:15:00",
          "2018-01-09T03:30:00",
          "2018-01-09T03:45:00",
          "2018-01-09T04:00:00",
          "2018-01-09T04:15:00",
          "2018-01-09T04:30:00",
          "2018-01-09T04:45:00",
          "2018-01-09T05:00:00",
          "2018-01-09T05:16:00",
          "2018-01-09T05:31:00",
          "2018-01-09T05:46:00"
         ],
         "xaxis": "x",
         "y": [
          186,
          176,
          164,
          159,
          161,
          146,
          119,
          98,
          104,
          122,
          127,
          136,
          145,
          136,
          133,
          137,
          135,
          132,
          146,
          180,
          143,
          142,
          142,
          146,
          148,
          149,
          152,
          162,
          173,
          175,
          174,
          164,
          150,
          153,
          150,
          145,
          149,
          157,
          163,
          161,
          156,
          160,
          164,
          182,
          205,
          203,
          196,
          188,
          182,
          177,
          174,
          166,
          156,
          154,
          158,
          165,
          174,
          176,
          170,
          166,
          162,
          152,
          146,
          152,
          148,
          137,
          138,
          148,
          146,
          141,
          136,
          131,
          133,
          146,
          147,
          153,
          156,
          161,
          133,
          132,
          135,
          140,
          140,
          135,
          127,
          121,
          120,
          124,
          129,
          142,
          150,
          155,
          156,
          152,
          137,
          137,
          143,
          159,
          165,
          169,
          169,
          165,
          154,
          155,
          144,
          137,
          131,
          129,
          131,
          134,
          135,
          141,
          148,
          148,
          144,
          143,
          140,
          134,
          133,
          130,
          123,
          123,
          126,
          145,
          191,
          178,
          177,
          180,
          195,
          199,
          204,
          209,
          211,
          197,
          186,
          179,
          189,
          199,
          196,
          197,
          197,
          194,
          192,
          190,
          186,
          179,
          177,
          169,
          164,
          159,
          159,
          160,
          157,
          149,
          138,
          128,
          125,
          125,
          122,
          120,
          122,
          130,
          136,
          136,
          137,
          136,
          136,
          138,
          143,
          143,
          144,
          151,
          147,
          145,
          152,
          169,
          161,
          164,
          165,
          158,
          147,
          137,
          124,
          121,
          122,
          120,
          121,
          129,
          133,
          129,
          126,
          128,
          130,
          125,
          124,
          131,
          140,
          147,
          160,
          143,
          147,
          153,
          140,
          138,
          138,
          131,
          125,
          118,
          118,
          119,
          118,
          118,
          116,
          116,
          124,
          135,
          138,
          141,
          142,
          141,
          137,
          132,
          143,
          169,
          182,
          189,
          189,
          195,
          205,
          205,
          206,
          211,
          215,
          210,
          206,
          208,
          201,
          188,
          180,
          165,
          155,
          164,
          177,
          178,
          175,
          170,
          166,
          159,
          157,
          159,
          169,
          160,
          148,
          144,
          144,
          188,
          190,
          183,
          178,
          172,
          175,
          178,
          170,
          158,
          151,
          148,
          149,
          151,
          147,
          143,
          139,
          137,
          129,
          125,
          123,
          122,
          127,
          134,
          134,
          128,
          126,
          127,
          131,
          131,
          132,
          138,
          143,
          146,
          150,
          157,
          150,
          170,
          156,
          157,
          169,
          162,
          150,
          153,
          156,
          154,
          152,
          147,
          142,
          138,
          137,
          135,
          137,
          143,
          145,
          141,
          132,
          129,
          136,
          145,
          134,
          134,
          131,
          138,
          146,
          147,
          145,
          142,
          139,
          137,
          128,
          124,
          121,
          121,
          122,
          132,
          137,
          139,
          135,
          131,
          132,
          139,
          138,
          134,
          122,
          115,
          116,
          110,
          107,
          108,
          114,
          119,
          119,
          119,
          116,
          107,
          105,
          109,
          107,
          108,
          116,
          125,
          128,
          127,
          127,
          132,
          138,
          136
         ],
         "yaxis": "y"
        }
       ],
       "layout": {
        "legend": {
         "tracegroupgap": 0
        },
        "template": {
         "data": {
          "bar": [
           {
            "error_x": {
             "color": "#2a3f5f"
            },
            "error_y": {
             "color": "#2a3f5f"
            },
            "marker": {
             "line": {
              "color": "#E5ECF6",
              "width": 0.5
             }
            },
            "type": "bar"
           }
          ],
          "barpolar": [
           {
            "marker": {
             "line": {
              "color": "#E5ECF6",
              "width": 0.5
             }
            },
            "type": "barpolar"
           }
          ],
          "carpet": [
           {
            "aaxis": {
             "endlinecolor": "#2a3f5f",
             "gridcolor": "white",
             "linecolor": "white",
             "minorgridcolor": "white",
             "startlinecolor": "#2a3f5f"
            },
            "baxis": {
             "endlinecolor": "#2a3f5f",
             "gridcolor": "white",
             "linecolor": "white",
             "minorgridcolor": "white",
             "startlinecolor": "#2a3f5f"
            },
            "type": "carpet"
           }
          ],
          "choropleth": [
           {
            "colorbar": {
             "outlinewidth": 0,
             "ticks": ""
            },
            "type": "choropleth"
           }
          ],
          "contour": [
           {
            "colorbar": {
             "outlinewidth": 0,
             "ticks": ""
            },
            "colorscale": [
             [
              0,
              "#0d0887"
             ],
             [
              0.1111111111111111,
              "#46039f"
             ],
             [
              0.2222222222222222,
              "#7201a8"
             ],
             [
              0.3333333333333333,
              "#9c179e"
             ],
             [
              0.4444444444444444,
              "#bd3786"
             ],
             [
              0.5555555555555556,
              "#d8576b"
             ],
             [
              0.6666666666666666,
              "#ed7953"
             ],
             [
              0.7777777777777778,
              "#fb9f3a"
             ],
             [
              0.8888888888888888,
              "#fdca26"
             ],
             [
              1,
              "#f0f921"
             ]
            ],
            "type": "contour"
           }
          ],
          "contourcarpet": [
           {
            "colorbar": {
             "outlinewidth": 0,
             "ticks": ""
            },
            "type": "contourcarpet"
           }
          ],
          "heatmap": [
           {
            "colorbar": {
             "outlinewidth": 0,
             "ticks": ""
            },
            "colorscale": [
             [
              0,
              "#0d0887"
             ],
             [
              0.1111111111111111,
              "#46039f"
             ],
             [
              0.2222222222222222,
              "#7201a8"
             ],
             [
              0.3333333333333333,
              "#9c179e"
             ],
             [
              0.4444444444444444,
              "#bd3786"
             ],
             [
              0.5555555555555556,
              "#d8576b"
             ],
             [
              0.6666666666666666,
              "#ed7953"
             ],
             [
              0.7777777777777778,
              "#fb9f3a"
             ],
             [
              0.8888888888888888,
              "#fdca26"
             ],
             [
              1,
              "#f0f921"
             ]
            ],
            "type": "heatmap"
           }
          ],
          "heatmapgl": [
           {
            "colorbar": {
             "outlinewidth": 0,
             "ticks": ""
            },
            "colorscale": [
             [
              0,
              "#0d0887"
             ],
             [
              0.1111111111111111,
              "#46039f"
             ],
             [
              0.2222222222222222,
              "#7201a8"
             ],
             [
              0.3333333333333333,
              "#9c179e"
             ],
             [
              0.4444444444444444,
              "#bd3786"
             ],
             [
              0.5555555555555556,
              "#d8576b"
             ],
             [
              0.6666666666666666,
              "#ed7953"
             ],
             [
              0.7777777777777778,
              "#fb9f3a"
             ],
             [
              0.8888888888888888,
              "#fdca26"
             ],
             [
              1,
              "#f0f921"
             ]
            ],
            "type": "heatmapgl"
           }
          ],
          "histogram": [
           {
            "marker": {
             "colorbar": {
              "outlinewidth": 0,
              "ticks": ""
             }
            },
            "type": "histogram"
           }
          ],
          "histogram2d": [
           {
            "colorbar": {
             "outlinewidth": 0,
             "ticks": ""
            },
            "colorscale": [
             [
              0,
              "#0d0887"
             ],
             [
              0.1111111111111111,
              "#46039f"
             ],
             [
              0.2222222222222222,
              "#7201a8"
             ],
             [
              0.3333333333333333,
              "#9c179e"
             ],
             [
              0.4444444444444444,
              "#bd3786"
             ],
             [
              0.5555555555555556,
              "#d8576b"
             ],
             [
              0.6666666666666666,
              "#ed7953"
             ],
             [
              0.7777777777777778,
              "#fb9f3a"
             ],
             [
              0.8888888888888888,
              "#fdca26"
             ],
             [
              1,
              "#f0f921"
             ]
            ],
            "type": "histogram2d"
           }
          ],
          "histogram2dcontour": [
           {
            "colorbar": {
             "outlinewidth": 0,
             "ticks": ""
            },
            "colorscale": [
             [
              0,
              "#0d0887"
             ],
             [
              0.1111111111111111,
              "#46039f"
             ],
             [
              0.2222222222222222,
              "#7201a8"
             ],
             [
              0.3333333333333333,
              "#9c179e"
             ],
             [
              0.4444444444444444,
              "#bd3786"
             ],
             [
              0.5555555555555556,
              "#d8576b"
             ],
             [
              0.6666666666666666,
              "#ed7953"
             ],
             [
              0.7777777777777778,
              "#fb9f3a"
             ],
             [
              0.8888888888888888,
              "#fdca26"
             ],
             [
              1,
              "#f0f921"
             ]
            ],
            "type": "histogram2dcontour"
           }
          ],
          "mesh3d": [
           {
            "colorbar": {
             "outlinewidth": 0,
             "ticks": ""
            },
            "type": "mesh3d"
           }
          ],
          "parcoords": [
           {
            "line": {
             "colorbar": {
              "outlinewidth": 0,
              "ticks": ""
             }
            },
            "type": "parcoords"
           }
          ],
          "pie": [
           {
            "automargin": true,
            "type": "pie"
           }
          ],
          "scatter": [
           {
            "marker": {
             "colorbar": {
              "outlinewidth": 0,
              "ticks": ""
             }
            },
            "type": "scatter"
           }
          ],
          "scatter3d": [
           {
            "line": {
             "colorbar": {
              "outlinewidth": 0,
              "ticks": ""
             }
            },
            "marker": {
             "colorbar": {
              "outlinewidth": 0,
              "ticks": ""
             }
            },
            "type": "scatter3d"
           }
          ],
          "scattercarpet": [
           {
            "marker": {
             "colorbar": {
              "outlinewidth": 0,
              "ticks": ""
             }
            },
            "type": "scattercarpet"
           }
          ],
          "scattergeo": [
           {
            "marker": {
             "colorbar": {
              "outlinewidth": 0,
              "ticks": ""
             }
            },
            "type": "scattergeo"
           }
          ],
          "scattergl": [
           {
            "marker": {
             "colorbar": {
              "outlinewidth": 0,
              "ticks": ""
             }
            },
            "type": "scattergl"
           }
          ],
          "scattermapbox": [
           {
            "marker": {
             "colorbar": {
              "outlinewidth": 0,
              "ticks": ""
             }
            },
            "type": "scattermapbox"
           }
          ],
          "scatterpolar": [
           {
            "marker": {
             "colorbar": {
              "outlinewidth": 0,
              "ticks": ""
             }
            },
            "type": "scatterpolar"
           }
          ],
          "scatterpolargl": [
           {
            "marker": {
             "colorbar": {
              "outlinewidth": 0,
              "ticks": ""
             }
            },
            "type": "scatterpolargl"
           }
          ],
          "scatterternary": [
           {
            "marker": {
             "colorbar": {
              "outlinewidth": 0,
              "ticks": ""
             }
            },
            "type": "scatterternary"
           }
          ],
          "surface": [
           {
            "colorbar": {
             "outlinewidth": 0,
             "ticks": ""
            },
            "colorscale": [
             [
              0,
              "#0d0887"
             ],
             [
              0.1111111111111111,
              "#46039f"
             ],
             [
              0.2222222222222222,
              "#7201a8"
             ],
             [
              0.3333333333333333,
              "#9c179e"
             ],
             [
              0.4444444444444444,
              "#bd3786"
             ],
             [
              0.5555555555555556,
              "#d8576b"
             ],
             [
              0.6666666666666666,
              "#ed7953"
             ],
             [
              0.7777777777777778,
              "#fb9f3a"
             ],
             [
              0.8888888888888888,
              "#fdca26"
             ],
             [
              1,
              "#f0f921"
             ]
            ],
            "type": "surface"
           }
          ],
          "table": [
           {
            "cells": {
             "fill": {
              "color": "#EBF0F8"
             },
             "line": {
              "color": "white"
             }
            },
            "header": {
             "fill": {
              "color": "#C8D4E3"
             },
             "line": {
              "color": "white"
             }
            },
            "type": "table"
           }
          ]
         },
         "layout": {
          "annotationdefaults": {
           "arrowcolor": "#2a3f5f",
           "arrowhead": 0,
           "arrowwidth": 1
          },
          "coloraxis": {
           "colorbar": {
            "outlinewidth": 0,
            "ticks": ""
           }
          },
          "colorscale": {
           "diverging": [
            [
             0,
             "#8e0152"
            ],
            [
             0.1,
             "#c51b7d"
            ],
            [
             0.2,
             "#de77ae"
            ],
            [
             0.3,
             "#f1b6da"
            ],
            [
             0.4,
             "#fde0ef"
            ],
            [
             0.5,
             "#f7f7f7"
            ],
            [
             0.6,
             "#e6f5d0"
            ],
            [
             0.7,
             "#b8e186"
            ],
            [
             0.8,
             "#7fbc41"
            ],
            [
             0.9,
             "#4d9221"
            ],
            [
             1,
             "#276419"
            ]
           ],
           "sequential": [
            [
             0,
             "#0d0887"
            ],
            [
             0.1111111111111111,
             "#46039f"
            ],
            [
             0.2222222222222222,
             "#7201a8"
            ],
            [
             0.3333333333333333,
             "#9c179e"
            ],
            [
             0.4444444444444444,
             "#bd3786"
            ],
            [
             0.5555555555555556,
             "#d8576b"
            ],
            [
             0.6666666666666666,
             "#ed7953"
            ],
            [
             0.7777777777777778,
             "#fb9f3a"
            ],
            [
             0.8888888888888888,
             "#fdca26"
            ],
            [
             1,
             "#f0f921"
            ]
           ],
           "sequentialminus": [
            [
             0,
             "#0d0887"
            ],
            [
             0.1111111111111111,
             "#46039f"
            ],
            [
             0.2222222222222222,
             "#7201a8"
            ],
            [
             0.3333333333333333,
             "#9c179e"
            ],
            [
             0.4444444444444444,
             "#bd3786"
            ],
            [
             0.5555555555555556,
             "#d8576b"
            ],
            [
             0.6666666666666666,
             "#ed7953"
            ],
            [
             0.7777777777777778,
             "#fb9f3a"
            ],
            [
             0.8888888888888888,
             "#fdca26"
            ],
            [
             1,
             "#f0f921"
            ]
           ]
          },
          "colorway": [
           "#636efa",
           "#EF553B",
           "#00cc96",
           "#ab63fa",
           "#FFA15A",
           "#19d3f3",
           "#FF6692",
           "#B6E880",
           "#FF97FF",
           "#FECB52"
          ],
          "font": {
           "color": "#2a3f5f"
          },
          "geo": {
           "bgcolor": "white",
           "lakecolor": "white",
           "landcolor": "#E5ECF6",
           "showlakes": true,
           "showland": true,
           "subunitcolor": "white"
          },
          "hoverlabel": {
           "align": "left"
          },
          "hovermode": "closest",
          "mapbox": {
           "style": "light"
          },
          "paper_bgcolor": "white",
          "plot_bgcolor": "#E5ECF6",
          "polar": {
           "angularaxis": {
            "gridcolor": "white",
            "linecolor": "white",
            "ticks": ""
           },
           "bgcolor": "#E5ECF6",
           "radialaxis": {
            "gridcolor": "white",
            "linecolor": "white",
            "ticks": ""
           }
          },
          "scene": {
           "xaxis": {
            "backgroundcolor": "#E5ECF6",
            "gridcolor": "white",
            "gridwidth": 2,
            "linecolor": "white",
            "showbackground": true,
            "ticks": "",
            "zerolinecolor": "white"
           },
           "yaxis": {
            "backgroundcolor": "#E5ECF6",
            "gridcolor": "white",
            "gridwidth": 2,
            "linecolor": "white",
            "showbackground": true,
            "ticks": "",
            "zerolinecolor": "white"
           },
           "zaxis": {
            "backgroundcolor": "#E5ECF6",
            "gridcolor": "white",
            "gridwidth": 2,
            "linecolor": "white",
            "showbackground": true,
            "ticks": "",
            "zerolinecolor": "white"
           }
          },
          "shapedefaults": {
           "line": {
            "color": "#2a3f5f"
           }
          },
          "ternary": {
           "aaxis": {
            "gridcolor": "white",
            "linecolor": "white",
            "ticks": ""
           },
           "baxis": {
            "gridcolor": "white",
            "linecolor": "white",
            "ticks": ""
           },
           "bgcolor": "#E5ECF6",
           "caxis": {
            "gridcolor": "white",
            "linecolor": "white",
            "ticks": ""
           }
          },
          "title": {
           "x": 0.05
          },
          "xaxis": {
           "automargin": true,
           "gridcolor": "white",
           "linecolor": "white",
           "ticks": "",
           "title": {
            "standoff": 15
           },
           "zerolinecolor": "white",
           "zerolinewidth": 2
          },
          "yaxis": {
           "automargin": true,
           "gridcolor": "white",
           "linecolor": "white",
           "ticks": "",
           "title": {
            "standoff": 15
           },
           "zerolinecolor": "white",
           "zerolinewidth": 2
          }
         }
        },
        "title": {
         "text": "CGM"
        },
        "xaxis": {
         "anchor": "y",
         "domain": [
          0,
          1
         ],
         "title": {
          "text": "Date"
         }
        },
        "yaxis": {
         "anchor": "x",
         "domain": [
          0,
          1
         ],
         "title": {
          "text": "GlucoseValue"
         }
        }
       }
      },
      "text/html": [
       "<div>\n",
       "        \n",
       "        \n",
       "            <div id=\"39a6589e-1559-453c-82e6-656c2c38f384\" class=\"plotly-graph-div\" style=\"height:525px; width:100%;\"></div>\n",
       "            <script type=\"text/javascript\">\n",
       "                require([\"plotly\"], function(Plotly) {\n",
       "                    window.PLOTLYENV=window.PLOTLYENV || {};\n",
       "                    \n",
       "                if (document.getElementById(\"39a6589e-1559-453c-82e6-656c2c38f384\")) {\n",
       "                    Plotly.newPlot(\n",
       "                        '39a6589e-1559-453c-82e6-656c2c38f384',\n",
       "                        [{\"hoverlabel\": {\"namelength\": 0}, \"hovertemplate\": \"Date=%{x}<br>GlucoseValue=%{y}\", \"legendgroup\": \"\", \"line\": {\"color\": \"#636efa\", \"dash\": \"solid\"}, \"mode\": \"lines\", \"name\": \"\", \"showlegend\": false, \"type\": \"scatter\", \"x\": [\"2017-12-27T00:14:00\", \"2017-12-27T00:29:00\", \"2017-12-27T00:44:00\", \"2017-12-27T00:59:00\", \"2017-12-27T01:14:00\", \"2017-12-27T01:29:00\", \"2017-12-27T01:44:00\", \"2017-12-27T01:59:00\", \"2017-12-27T02:14:00\", \"2017-12-27T02:29:00\", \"2017-12-27T02:44:00\", \"2017-12-27T02:59:00\", \"2017-12-27T03:14:00\", \"2017-12-27T03:29:00\", \"2017-12-27T03:44:00\", \"2017-12-27T03:59:00\", \"2017-12-27T04:14:00\", \"2017-12-27T04:29:00\", \"2017-12-27T04:44:00\", \"2017-12-27T04:59:00\", \"2017-12-27T23:17:00\", \"2017-12-27T23:32:00\", \"2017-12-27T23:47:00\", \"2017-12-28T00:02:00\", \"2017-12-28T00:17:00\", \"2017-12-28T00:32:00\", \"2017-12-28T00:47:00\", \"2017-12-28T01:02:00\", \"2017-12-28T01:17:00\", \"2017-12-28T01:32:00\", \"2017-12-28T01:47:00\", \"2017-12-28T02:02:00\", \"2017-12-28T02:17:00\", \"2017-12-28T02:33:00\", \"2017-12-28T02:48:00\", \"2017-12-28T03:03:00\", \"2017-12-28T03:18:00\", \"2017-12-28T03:33:00\", \"2017-12-28T03:48:00\", \"2017-12-28T04:03:00\", \"2017-12-28T04:18:00\", \"2017-12-28T04:33:00\", \"2017-12-28T04:48:00\", \"2017-12-28T05:03:00\", \"2017-12-28T23:06:00\", \"2017-12-28T23:21:00\", \"2017-12-28T23:36:00\", \"2017-12-28T23:51:00\", \"2017-12-29T00:06:00\", \"2017-12-29T00:21:00\", \"2017-12-29T00:36:00\", \"2017-12-29T00:51:00\", \"2017-12-29T01:06:00\", \"2017-12-29T01:21:00\", \"2017-12-29T01:36:00\", \"2017-12-29T01:51:00\", \"2017-12-29T02:06:00\", \"2017-12-29T02:21:00\", \"2017-12-29T02:36:00\", \"2017-12-29T02:51:00\", \"2017-12-29T03:06:00\", \"2017-12-29T03:21:00\", \"2017-12-29T03:36:00\", \"2017-12-29T03:51:00\", \"2017-12-29T04:06:00\", \"2017-12-29T04:21:00\", \"2017-12-29T04:36:00\", \"2017-12-29T04:51:00\", \"2017-12-29T05:06:00\", \"2017-12-29T05:21:00\", \"2017-12-29T05:36:00\", \"2017-12-29T05:51:00\", \"2017-12-29T06:06:00\", \"2017-12-29T06:22:00\", \"2017-12-29T06:37:00\", \"2017-12-29T06:52:00\", \"2017-12-29T07:07:00\", \"2017-12-29T07:21:00\", \"2017-12-30T03:25:00\", \"2017-12-30T03:40:00\", \"2017-12-30T03:55:00\", \"2017-12-30T04:10:00\", \"2017-12-30T04:25:00\", \"2017-12-30T04:40:00\", \"2017-12-30T04:55:00\", \"2017-12-30T05:10:00\", \"2017-12-30T05:25:00\", \"2017-12-30T05:40:00\", \"2017-12-30T05:55:00\", \"2017-12-30T06:10:00\", \"2017-12-30T06:25:00\", \"2017-12-30T06:40:00\", \"2017-12-30T06:55:00\", \"2017-12-30T07:10:00\", \"2017-12-30T07:25:00\", \"2017-12-30T07:40:00\", \"2017-12-30T07:55:00\", \"2017-12-30T08:10:00\", \"2017-12-30T08:25:00\", \"2017-12-30T08:40:00\", \"2017-12-30T08:55:00\", \"2017-12-30T09:10:00\", \"2017-12-30T09:25:00\", \"2017-12-30T09:40:00\", \"2017-12-31T00:13:00\", \"2017-12-31T00:28:00\", \"2017-12-31T00:43:00\", \"2017-12-31T00:58:00\", \"2017-12-31T01:13:00\", \"2017-12-31T01:28:00\", \"2017-12-31T01:43:00\", \"2017-12-31T01:58:00\", \"2017-12-31T02:13:00\", \"2017-12-31T02:28:00\", \"2017-12-31T02:43:00\", \"2017-12-31T02:58:00\", \"2017-12-31T03:13:00\", \"2017-12-31T03:28:00\", \"2017-12-31T03:43:00\", \"2017-12-31T03:58:00\", \"2017-12-31T04:13:00\", \"2017-12-31T04:28:00\", \"2017-12-31T04:43:00\", \"2017-12-31T04:58:00\", \"2018-01-01T00:01:00\", \"2018-01-01T00:16:00\", \"2018-01-01T00:31:00\", \"2018-01-01T00:46:00\", \"2018-01-01T01:01:00\", \"2018-01-01T01:16:00\", \"2018-01-01T01:31:00\", \"2018-01-01T01:46:00\", \"2018-01-01T02:01:00\", \"2018-01-01T02:17:00\", \"2018-01-01T02:32:00\", \"2018-01-01T02:47:00\", \"2018-01-01T03:02:00\", \"2018-01-01T03:17:00\", \"2018-01-01T03:32:00\", \"2018-01-01T03:47:00\", \"2018-01-01T04:02:00\", \"2018-01-01T04:17:00\", \"2018-01-01T04:32:00\", \"2018-01-01T04:47:00\", \"2018-01-01T05:02:00\", \"2018-01-01T21:49:00\", \"2018-01-01T22:04:00\", \"2018-01-01T22:19:00\", \"2018-01-01T22:34:00\", \"2018-01-01T22:49:00\", \"2018-01-01T23:05:00\", \"2018-01-01T23:20:00\", \"2018-01-01T23:35:00\", \"2018-01-01T23:50:00\", \"2018-01-02T00:05:00\", \"2018-01-02T00:20:00\", \"2018-01-02T00:35:00\", \"2018-01-02T00:50:00\", \"2018-01-02T01:05:00\", \"2018-01-02T01:20:00\", \"2018-01-02T01:35:00\", \"2018-01-02T01:50:00\", \"2018-01-02T02:05:00\", \"2018-01-02T02:20:00\", \"2018-01-02T02:35:00\", \"2018-01-02T02:50:00\", \"2018-01-02T03:05:00\", \"2018-01-02T03:20:00\", \"2018-01-02T03:35:00\", \"2018-01-02T03:50:00\", \"2018-01-02T04:05:00\", \"2018-01-02T04:20:00\", \"2018-01-02T04:35:00\", \"2018-01-02T04:50:00\", \"2018-01-02T05:05:00\", \"2018-01-02T23:07:00\", \"2018-01-02T23:22:00\", \"2018-01-02T23:39:00\", \"2018-01-02T23:54:00\", \"2018-01-03T00:09:00\", \"2018-01-03T00:24:00\", \"2018-01-03T00:39:00\", \"2018-01-03T00:54:00\", \"2018-01-03T01:09:00\", \"2018-01-03T01:24:00\", \"2018-01-03T01:39:00\", \"2018-01-03T01:54:00\", \"2018-01-03T02:09:00\", \"2018-01-03T02:24:00\", \"2018-01-03T02:39:00\", \"2018-01-03T02:54:00\", \"2018-01-03T03:09:00\", \"2018-01-03T03:24:00\", \"2018-01-03T03:39:00\", \"2018-01-03T03:54:00\", \"2018-01-03T04:09:00\", \"2018-01-03T04:24:00\", \"2018-01-03T04:39:00\", \"2018-01-03T04:54:00\", \"2018-01-03T23:12:00\", \"2018-01-03T23:27:00\", \"2018-01-03T23:42:00\", \"2018-01-03T23:57:00\", \"2018-01-04T00:12:00\", \"2018-01-04T00:27:00\", \"2018-01-04T00:42:00\", \"2018-01-04T00:57:00\", \"2018-01-04T01:12:00\", \"2018-01-04T01:27:00\", \"2018-01-04T01:42:00\", \"2018-01-04T01:57:00\", \"2018-01-04T02:12:00\", \"2018-01-04T02:27:00\", \"2018-01-04T02:42:00\", \"2018-01-04T02:57:00\", \"2018-01-04T03:12:00\", \"2018-01-04T03:27:00\", \"2018-01-04T03:42:00\", \"2018-01-04T03:57:00\", \"2018-01-04T04:12:00\", \"2018-01-04T04:27:00\", \"2018-01-04T04:42:00\", \"2018-01-04T04:57:00\", \"2018-01-04T23:45:00\", \"2018-01-05T00:01:00\", \"2018-01-05T00:16:00\", \"2018-01-05T00:31:00\", \"2018-01-05T00:46:00\", \"2018-01-05T01:01:00\", \"2018-01-05T01:16:00\", \"2018-01-05T01:31:00\", \"2018-01-05T01:46:00\", \"2018-01-05T02:01:00\", \"2018-01-05T02:16:00\", \"2018-01-05T02:31:00\", \"2018-01-05T02:46:00\", \"2018-01-05T03:01:00\", \"2018-01-05T03:16:00\", \"2018-01-05T03:31:00\", \"2018-01-05T03:46:00\", \"2018-01-05T04:01:00\", \"2018-01-05T04:16:00\", \"2018-01-05T04:31:00\", \"2018-01-05T04:46:00\", \"2018-01-05T05:01:00\", \"2018-01-05T05:16:00\", \"2018-01-05T05:31:00\", \"2018-01-05T05:46:00\", \"2018-01-05T06:01:00\", \"2018-01-05T06:16:00\", \"2018-01-05T06:31:00\", \"2018-01-05T06:46:00\", \"2018-01-05T07:01:00\", \"2018-01-05T07:16:00\", \"2018-01-05T07:31:00\", \"2018-01-05T23:34:00\", \"2018-01-05T23:48:00\", \"2018-01-06T00:04:00\", \"2018-01-06T00:19:00\", \"2018-01-06T00:34:00\", \"2018-01-06T00:49:00\", \"2018-01-06T01:04:00\", \"2018-01-06T01:19:00\", \"2018-01-06T01:34:00\", \"2018-01-06T01:49:00\", \"2018-01-06T02:04:00\", \"2018-01-06T02:19:00\", \"2018-01-06T02:34:00\", \"2018-01-06T02:49:00\", \"2018-01-06T03:04:00\", \"2018-01-06T03:19:00\", \"2018-01-06T03:34:00\", \"2018-01-06T03:50:00\", \"2018-01-06T04:05:00\", \"2018-01-06T04:20:00\", \"2018-01-06T04:35:00\", \"2018-01-06T04:50:00\", \"2018-01-06T05:05:00\", \"2018-01-06T05:20:00\", \"2018-01-06T05:35:00\", \"2018-01-06T05:50:00\", \"2018-01-06T06:05:00\", \"2018-01-06T06:20:00\", \"2018-01-06T06:35:00\", \"2018-01-06T06:50:00\", \"2018-01-06T07:05:00\", \"2018-01-06T07:20:00\", \"2018-01-06T07:35:00\", \"2018-01-06T07:50:00\", \"2018-01-06T08:05:00\", \"2018-01-06T08:19:00\", \"2018-01-06T23:37:00\", \"2018-01-06T23:53:00\", \"2018-01-07T00:08:00\", \"2018-01-07T00:23:00\", \"2018-01-07T00:38:00\", \"2018-01-07T00:53:00\", \"2018-01-07T01:08:00\", \"2018-01-07T01:23:00\", \"2018-01-07T01:38:00\", \"2018-01-07T01:53:00\", \"2018-01-07T02:08:00\", \"2018-01-07T02:23:00\", \"2018-01-07T02:38:00\", \"2018-01-07T02:53:00\", \"2018-01-07T03:08:00\", \"2018-01-07T03:23:00\", \"2018-01-07T03:38:00\", \"2018-01-07T03:53:00\", \"2018-01-07T04:08:00\", \"2018-01-07T04:23:00\", \"2018-01-07T04:38:00\", \"2018-01-07T04:53:00\", \"2018-01-07T05:08:00\", \"2018-01-07T23:42:00\", \"2018-01-07T23:57:00\", \"2018-01-08T00:12:00\", \"2018-01-08T00:27:00\", \"2018-01-08T00:42:00\", \"2018-01-08T00:57:00\", \"2018-01-08T01:12:00\", \"2018-01-08T01:27:00\", \"2018-01-08T01:42:00\", \"2018-01-08T01:57:00\", \"2018-01-08T02:12:00\", \"2018-01-08T02:27:00\", \"2018-01-08T02:42:00\", \"2018-01-08T02:57:00\", \"2018-01-08T03:12:00\", \"2018-01-08T03:26:00\", \"2018-01-08T03:41:00\", \"2018-01-08T03:56:00\", \"2018-01-08T04:11:00\", \"2018-01-08T04:26:00\", \"2018-01-08T04:41:00\", \"2018-01-08T04:56:00\", \"2018-01-08T05:12:00\", \"2018-01-08T05:27:00\", \"2018-01-08T23:59:00\", \"2018-01-09T00:15:00\", \"2018-01-09T00:30:00\", \"2018-01-09T00:45:00\", \"2018-01-09T01:00:00\", \"2018-01-09T01:15:00\", \"2018-01-09T01:30:00\", \"2018-01-09T01:45:00\", \"2018-01-09T02:00:00\", \"2018-01-09T02:15:00\", \"2018-01-09T02:30:00\", \"2018-01-09T02:45:00\", \"2018-01-09T03:00:00\", \"2018-01-09T03:15:00\", \"2018-01-09T03:30:00\", \"2018-01-09T03:45:00\", \"2018-01-09T04:00:00\", \"2018-01-09T04:15:00\", \"2018-01-09T04:30:00\", \"2018-01-09T04:45:00\", \"2018-01-09T05:00:00\", \"2018-01-09T05:16:00\", \"2018-01-09T05:31:00\", \"2018-01-09T05:46:00\"], \"xaxis\": \"x\", \"y\": [186.0, 176.0, 164.0, 159.0, 161.0, 146.0, 119.0, 98.0, 104.0, 122.0, 127.0, 136.0, 145.0, 136.0, 133.0, 137.0, 135.0, 132.0, 146.0, 180.0, 143.0, 142.0, 142.0, 146.0, 148.0, 149.0, 152.0, 162.0, 173.0, 175.0, 174.0, 164.0, 150.0, 153.0, 150.0, 145.0, 149.0, 157.0, 163.0, 161.0, 156.0, 160.0, 164.0, 182.0, 205.0, 203.0, 196.0, 188.0, 182.0, 177.0, 174.0, 166.0, 156.0, 154.0, 158.0, 165.0, 174.0, 176.0, 170.0, 166.0, 162.0, 152.0, 146.0, 152.0, 148.0, 137.0, 138.0, 148.0, 146.0, 141.0, 136.0, 131.0, 133.0, 146.0, 147.0, 153.0, 156.0, 161.0, 133.0, 132.0, 135.0, 140.0, 140.0, 135.0, 127.0, 121.0, 120.0, 124.0, 129.0, 142.0, 150.0, 155.0, 156.0, 152.0, 137.0, 137.0, 143.0, 159.0, 165.0, 169.0, 169.0, 165.0, 154.0, 155.0, 144.0, 137.0, 131.0, 129.0, 131.0, 134.0, 135.0, 141.0, 148.0, 148.0, 144.0, 143.0, 140.0, 134.0, 133.0, 130.0, 123.0, 123.0, 126.0, 145.0, 191.0, 178.0, 177.0, 180.0, 195.0, 199.0, 204.0, 209.0, 211.0, 197.0, 186.0, 179.0, 189.0, 199.0, 196.0, 197.0, 197.0, 194.0, 192.0, 190.0, 186.0, 179.0, 177.0, 169.0, 164.0, 159.0, 159.0, 160.0, 157.0, 149.0, 138.0, 128.0, 125.0, 125.0, 122.0, 120.0, 122.0, 130.0, 136.0, 136.0, 137.0, 136.0, 136.0, 138.0, 143.0, 143.0, 144.0, 151.0, 147.0, 145.0, 152.0, 169.0, 161.0, 164.0, 165.0, 158.0, 147.0, 137.0, 124.0, 121.0, 122.0, 120.0, 121.0, 129.0, 133.0, 129.0, 126.0, 128.0, 130.0, 125.0, 124.0, 131.0, 140.0, 147.0, 160.0, 143.0, 147.0, 153.0, 140.0, 138.0, 138.0, 131.0, 125.0, 118.0, 118.0, 119.0, 118.0, 118.0, 116.0, 116.0, 124.0, 135.0, 138.0, 141.0, 142.0, 141.0, 137.0, 132.0, 143.0, 169.0, 182.0, 189.0, 189.0, 195.0, 205.0, 205.0, 206.0, 211.0, 215.0, 210.0, 206.0, 208.0, 201.0, 188.0, 180.0, 165.0, 155.0, 164.0, 177.0, 178.0, 175.0, 170.0, 166.0, 159.0, 157.0, 159.0, 169.0, 160.0, 148.0, 144.0, 144.0, 188.0, 190.0, 183.0, 178.0, 172.0, 175.0, 178.0, 170.0, 158.0, 151.0, 148.0, 149.0, 151.0, 147.0, 143.0, 139.0, 137.0, 129.0, 125.0, 123.0, 122.0, 127.0, 134.0, 134.0, 128.0, 126.0, 127.0, 131.0, 131.0, 132.0, 138.0, 143.0, 146.0, 150.0, 157.0, 150.0, 170.0, 156.0, 157.0, 169.0, 162.0, 150.0, 153.0, 156.0, 154.0, 152.0, 147.0, 142.0, 138.0, 137.0, 135.0, 137.0, 143.0, 145.0, 141.0, 132.0, 129.0, 136.0, 145.0, 134.0, 134.0, 131.0, 138.0, 146.0, 147.0, 145.0, 142.0, 139.0, 137.0, 128.0, 124.0, 121.0, 121.0, 122.0, 132.0, 137.0, 139.0, 135.0, 131.0, 132.0, 139.0, 138.0, 134.0, 122.0, 115.0, 116.0, 110.0, 107.0, 108.0, 114.0, 119.0, 119.0, 119.0, 116.0, 107.0, 105.0, 109.0, 107.0, 108.0, 116.0, 125.0, 128.0, 127.0, 127.0, 132.0, 138.0, 136.0], \"yaxis\": \"y\"}],\n",
       "                        {\"legend\": {\"tracegroupgap\": 0}, \"template\": {\"data\": {\"bar\": [{\"error_x\": {\"color\": \"#2a3f5f\"}, \"error_y\": {\"color\": \"#2a3f5f\"}, \"marker\": {\"line\": {\"color\": \"#E5ECF6\", \"width\": 0.5}}, \"type\": \"bar\"}], \"barpolar\": [{\"marker\": {\"line\": {\"color\": \"#E5ECF6\", \"width\": 0.5}}, \"type\": \"barpolar\"}], \"carpet\": [{\"aaxis\": {\"endlinecolor\": \"#2a3f5f\", \"gridcolor\": \"white\", \"linecolor\": \"white\", \"minorgridcolor\": \"white\", \"startlinecolor\": \"#2a3f5f\"}, \"baxis\": {\"endlinecolor\": \"#2a3f5f\", \"gridcolor\": \"white\", \"linecolor\": \"white\", \"minorgridcolor\": \"white\", \"startlinecolor\": \"#2a3f5f\"}, \"type\": \"carpet\"}], \"choropleth\": [{\"colorbar\": {\"outlinewidth\": 0, \"ticks\": \"\"}, \"type\": \"choropleth\"}], \"contour\": [{\"colorbar\": {\"outlinewidth\": 0, \"ticks\": \"\"}, \"colorscale\": [[0.0, \"#0d0887\"], [0.1111111111111111, \"#46039f\"], [0.2222222222222222, \"#7201a8\"], [0.3333333333333333, \"#9c179e\"], [0.4444444444444444, \"#bd3786\"], [0.5555555555555556, \"#d8576b\"], [0.6666666666666666, \"#ed7953\"], [0.7777777777777778, \"#fb9f3a\"], [0.8888888888888888, \"#fdca26\"], [1.0, \"#f0f921\"]], \"type\": \"contour\"}], \"contourcarpet\": [{\"colorbar\": {\"outlinewidth\": 0, \"ticks\": \"\"}, \"type\": \"contourcarpet\"}], \"heatmap\": [{\"colorbar\": {\"outlinewidth\": 0, \"ticks\": \"\"}, \"colorscale\": [[0.0, \"#0d0887\"], [0.1111111111111111, \"#46039f\"], [0.2222222222222222, \"#7201a8\"], [0.3333333333333333, \"#9c179e\"], [0.4444444444444444, \"#bd3786\"], [0.5555555555555556, \"#d8576b\"], [0.6666666666666666, \"#ed7953\"], [0.7777777777777778, \"#fb9f3a\"], [0.8888888888888888, \"#fdca26\"], [1.0, \"#f0f921\"]], \"type\": \"heatmap\"}], \"heatmapgl\": [{\"colorbar\": {\"outlinewidth\": 0, \"ticks\": \"\"}, \"colorscale\": [[0.0, \"#0d0887\"], [0.1111111111111111, \"#46039f\"], [0.2222222222222222, \"#7201a8\"], [0.3333333333333333, \"#9c179e\"], [0.4444444444444444, \"#bd3786\"], [0.5555555555555556, \"#d8576b\"], [0.6666666666666666, \"#ed7953\"], [0.7777777777777778, \"#fb9f3a\"], [0.8888888888888888, \"#fdca26\"], [1.0, \"#f0f921\"]], \"type\": \"heatmapgl\"}], \"histogram\": [{\"marker\": {\"colorbar\": {\"outlinewidth\": 0, \"ticks\": \"\"}}, \"type\": \"histogram\"}], \"histogram2d\": [{\"colorbar\": {\"outlinewidth\": 0, \"ticks\": \"\"}, \"colorscale\": [[0.0, \"#0d0887\"], [0.1111111111111111, \"#46039f\"], [0.2222222222222222, \"#7201a8\"], [0.3333333333333333, \"#9c179e\"], [0.4444444444444444, \"#bd3786\"], [0.5555555555555556, \"#d8576b\"], [0.6666666666666666, \"#ed7953\"], [0.7777777777777778, \"#fb9f3a\"], [0.8888888888888888, \"#fdca26\"], [1.0, \"#f0f921\"]], \"type\": \"histogram2d\"}], \"histogram2dcontour\": [{\"colorbar\": {\"outlinewidth\": 0, \"ticks\": \"\"}, \"colorscale\": [[0.0, \"#0d0887\"], [0.1111111111111111, \"#46039f\"], [0.2222222222222222, \"#7201a8\"], [0.3333333333333333, \"#9c179e\"], [0.4444444444444444, \"#bd3786\"], [0.5555555555555556, \"#d8576b\"], [0.6666666666666666, \"#ed7953\"], [0.7777777777777778, \"#fb9f3a\"], [0.8888888888888888, \"#fdca26\"], [1.0, \"#f0f921\"]], \"type\": \"histogram2dcontour\"}], \"mesh3d\": [{\"colorbar\": {\"outlinewidth\": 0, \"ticks\": \"\"}, \"type\": \"mesh3d\"}], \"parcoords\": [{\"line\": {\"colorbar\": {\"outlinewidth\": 0, \"ticks\": \"\"}}, \"type\": \"parcoords\"}], \"pie\": [{\"automargin\": true, \"type\": \"pie\"}], \"scatter\": [{\"marker\": {\"colorbar\": {\"outlinewidth\": 0, \"ticks\": \"\"}}, \"type\": \"scatter\"}], \"scatter3d\": [{\"line\": {\"colorbar\": {\"outlinewidth\": 0, \"ticks\": \"\"}}, \"marker\": {\"colorbar\": {\"outlinewidth\": 0, \"ticks\": \"\"}}, \"type\": \"scatter3d\"}], \"scattercarpet\": [{\"marker\": {\"colorbar\": {\"outlinewidth\": 0, \"ticks\": \"\"}}, \"type\": \"scattercarpet\"}], \"scattergeo\": [{\"marker\": {\"colorbar\": {\"outlinewidth\": 0, \"ticks\": \"\"}}, \"type\": \"scattergeo\"}], \"scattergl\": [{\"marker\": {\"colorbar\": {\"outlinewidth\": 0, \"ticks\": \"\"}}, \"type\": \"scattergl\"}], \"scattermapbox\": [{\"marker\": {\"colorbar\": {\"outlinewidth\": 0, \"ticks\": \"\"}}, \"type\": \"scattermapbox\"}], \"scatterpolar\": [{\"marker\": {\"colorbar\": {\"outlinewidth\": 0, \"ticks\": \"\"}}, \"type\": \"scatterpolar\"}], \"scatterpolargl\": [{\"marker\": {\"colorbar\": {\"outlinewidth\": 0, \"ticks\": \"\"}}, \"type\": \"scatterpolargl\"}], \"scatterternary\": [{\"marker\": {\"colorbar\": {\"outlinewidth\": 0, \"ticks\": \"\"}}, \"type\": \"scatterternary\"}], \"surface\": [{\"colorbar\": {\"outlinewidth\": 0, \"ticks\": \"\"}, \"colorscale\": [[0.0, \"#0d0887\"], [0.1111111111111111, \"#46039f\"], [0.2222222222222222, \"#7201a8\"], [0.3333333333333333, \"#9c179e\"], [0.4444444444444444, \"#bd3786\"], [0.5555555555555556, \"#d8576b\"], [0.6666666666666666, \"#ed7953\"], [0.7777777777777778, \"#fb9f3a\"], [0.8888888888888888, \"#fdca26\"], [1.0, \"#f0f921\"]], \"type\": \"surface\"}], \"table\": [{\"cells\": {\"fill\": {\"color\": \"#EBF0F8\"}, \"line\": {\"color\": \"white\"}}, \"header\": {\"fill\": {\"color\": \"#C8D4E3\"}, \"line\": {\"color\": \"white\"}}, \"type\": \"table\"}]}, \"layout\": {\"annotationdefaults\": {\"arrowcolor\": \"#2a3f5f\", \"arrowhead\": 0, \"arrowwidth\": 1}, \"coloraxis\": {\"colorbar\": {\"outlinewidth\": 0, \"ticks\": \"\"}}, \"colorscale\": {\"diverging\": [[0, \"#8e0152\"], [0.1, \"#c51b7d\"], [0.2, \"#de77ae\"], [0.3, \"#f1b6da\"], [0.4, \"#fde0ef\"], [0.5, \"#f7f7f7\"], [0.6, \"#e6f5d0\"], [0.7, \"#b8e186\"], [0.8, \"#7fbc41\"], [0.9, \"#4d9221\"], [1, \"#276419\"]], \"sequential\": [[0.0, \"#0d0887\"], [0.1111111111111111, \"#46039f\"], [0.2222222222222222, \"#7201a8\"], [0.3333333333333333, \"#9c179e\"], [0.4444444444444444, \"#bd3786\"], [0.5555555555555556, \"#d8576b\"], [0.6666666666666666, \"#ed7953\"], [0.7777777777777778, \"#fb9f3a\"], [0.8888888888888888, \"#fdca26\"], [1.0, \"#f0f921\"]], \"sequentialminus\": [[0.0, \"#0d0887\"], [0.1111111111111111, \"#46039f\"], [0.2222222222222222, \"#7201a8\"], [0.3333333333333333, \"#9c179e\"], [0.4444444444444444, \"#bd3786\"], [0.5555555555555556, \"#d8576b\"], [0.6666666666666666, \"#ed7953\"], [0.7777777777777778, \"#fb9f3a\"], [0.8888888888888888, \"#fdca26\"], [1.0, \"#f0f921\"]]}, \"colorway\": [\"#636efa\", \"#EF553B\", \"#00cc96\", \"#ab63fa\", \"#FFA15A\", \"#19d3f3\", \"#FF6692\", \"#B6E880\", \"#FF97FF\", \"#FECB52\"], \"font\": {\"color\": \"#2a3f5f\"}, \"geo\": {\"bgcolor\": \"white\", \"lakecolor\": \"white\", \"landcolor\": \"#E5ECF6\", \"showlakes\": true, \"showland\": true, \"subunitcolor\": \"white\"}, \"hoverlabel\": {\"align\": \"left\"}, \"hovermode\": \"closest\", \"mapbox\": {\"style\": \"light\"}, \"paper_bgcolor\": \"white\", \"plot_bgcolor\": \"#E5ECF6\", \"polar\": {\"angularaxis\": {\"gridcolor\": \"white\", \"linecolor\": \"white\", \"ticks\": \"\"}, \"bgcolor\": \"#E5ECF6\", \"radialaxis\": {\"gridcolor\": \"white\", \"linecolor\": \"white\", \"ticks\": \"\"}}, \"scene\": {\"xaxis\": {\"backgroundcolor\": \"#E5ECF6\", \"gridcolor\": \"white\", \"gridwidth\": 2, \"linecolor\": \"white\", \"showbackground\": true, \"ticks\": \"\", \"zerolinecolor\": \"white\"}, \"yaxis\": {\"backgroundcolor\": \"#E5ECF6\", \"gridcolor\": \"white\", \"gridwidth\": 2, \"linecolor\": \"white\", \"showbackground\": true, \"ticks\": \"\", \"zerolinecolor\": \"white\"}, \"zaxis\": {\"backgroundcolor\": \"#E5ECF6\", \"gridcolor\": \"white\", \"gridwidth\": 2, \"linecolor\": \"white\", \"showbackground\": true, \"ticks\": \"\", \"zerolinecolor\": \"white\"}}, \"shapedefaults\": {\"line\": {\"color\": \"#2a3f5f\"}}, \"ternary\": {\"aaxis\": {\"gridcolor\": \"white\", \"linecolor\": \"white\", \"ticks\": \"\"}, \"baxis\": {\"gridcolor\": \"white\", \"linecolor\": \"white\", \"ticks\": \"\"}, \"bgcolor\": \"#E5ECF6\", \"caxis\": {\"gridcolor\": \"white\", \"linecolor\": \"white\", \"ticks\": \"\"}}, \"title\": {\"x\": 0.05}, \"xaxis\": {\"automargin\": true, \"gridcolor\": \"white\", \"linecolor\": \"white\", \"ticks\": \"\", \"title\": {\"standoff\": 15}, \"zerolinecolor\": \"white\", \"zerolinewidth\": 2}, \"yaxis\": {\"automargin\": true, \"gridcolor\": \"white\", \"linecolor\": \"white\", \"ticks\": \"\", \"title\": {\"standoff\": 15}, \"zerolinecolor\": \"white\", \"zerolinewidth\": 2}}}, \"title\": {\"text\": \"CGM\"}, \"xaxis\": {\"anchor\": \"y\", \"domain\": [0.0, 1.0], \"title\": {\"text\": \"Date\"}}, \"yaxis\": {\"anchor\": \"x\", \"domain\": [0.0, 1.0], \"title\": {\"text\": \"GlucoseValue\"}}},\n",
       "                        {\"responsive\": true}\n",
       "                    ).then(function(){\n",
       "                            \n",
       "var gd = document.getElementById('39a6589e-1559-453c-82e6-656c2c38f384');\n",
       "var x = new MutationObserver(function (mutations, observer) {{\n",
       "        var display = window.getComputedStyle(gd).display;\n",
       "        if (!display || display === 'none') {{\n",
       "            console.log([gd, 'removed!']);\n",
       "            Plotly.purge(gd);\n",
       "            observer.disconnect();\n",
       "        }}\n",
       "}});\n",
       "\n",
       "// Listen for the removal of the full notebook cells\n",
       "var notebookContainer = gd.closest('#notebook-container');\n",
       "if (notebookContainer) {{\n",
       "    x.observe(notebookContainer, {childList: true});\n",
       "}}\n",
       "\n",
       "// Listen for the clearing of the current output cell\n",
       "var outputEl = gd.closest('.output');\n",
       "if (outputEl) {{\n",
       "    x.observe(outputEl, {childList: true});\n",
       "}}\n",
       "\n",
       "                        })\n",
       "                };\n",
       "                });\n",
       "            </script>\n",
       "        </div>"
      ]
     },
     "metadata": {},
     "output_type": "display_data"
    }
   ],
   "source": [
    "plotly_cgm(cgm_df=cgm_night.query(\"RegistrationCode == '579543' and ConnectionID == '2229'\"))"
   ]
  },
  {
   "cell_type": "markdown",
   "metadata": {},
   "source": [
    "Some examples from GDM"
   ]
  },
  {
   "cell_type": "code",
   "execution_count": 350,
   "metadata": {
    "scrolled": true
   },
   "outputs": [
    {
     "data": {
      "application/vnd.plotly.v1+json": {
       "config": {
        "plotlyServerURL": "https://plot.ly"
       },
       "data": [
        {
         "hoverlabel": {
          "namelength": 0
         },
         "hovertemplate": "Date=%{x}<br>GlucoseValue=%{y}",
         "legendgroup": "",
         "line": {
          "color": "#636efa",
          "dash": "solid"
         },
         "mode": "lines",
         "name": "",
         "showlegend": false,
         "type": "scatter",
         "x": [
          "2018-01-25T00:04:00",
          "2018-01-25T00:19:00",
          "2018-01-25T00:34:00",
          "2018-01-25T00:49:00",
          "2018-01-25T01:04:00",
          "2018-01-25T01:19:00",
          "2018-01-25T01:34:00",
          "2018-01-25T01:49:00",
          "2018-01-25T02:04:00",
          "2018-01-25T02:19:00",
          "2018-01-25T02:34:00",
          "2018-01-25T02:49:00",
          "2018-01-25T03:04:00",
          "2018-01-25T03:19:00",
          "2018-01-25T03:34:00",
          "2018-01-25T03:49:00",
          "2018-01-25T04:04:00",
          "2018-01-25T04:19:00",
          "2018-01-25T04:34:00",
          "2018-01-25T04:49:00",
          "2018-01-25T05:04:00",
          "2018-01-25T05:19:00",
          "2018-01-25T05:34:00",
          "2018-01-25T05:49:00",
          "2018-01-25T06:04:00",
          "2018-01-25T06:19:00",
          "2018-01-25T06:34:00",
          "2018-01-25T06:49:00",
          "2018-01-27T01:10:00",
          "2018-01-27T01:25:00",
          "2018-01-27T01:40:00",
          "2018-01-27T01:55:00",
          "2018-01-27T02:10:00",
          "2018-01-27T02:25:00",
          "2018-01-27T02:40:00",
          "2018-01-27T02:55:00",
          "2018-01-27T03:10:00",
          "2018-01-27T03:25:00",
          "2018-01-27T03:40:00",
          "2018-01-27T03:55:00",
          "2018-01-27T04:10:00",
          "2018-01-27T04:25:00",
          "2018-01-27T04:40:00",
          "2018-01-27T04:55:00",
          "2018-01-27T05:10:00",
          "2018-01-27T05:25:00",
          "2018-01-27T05:40:00",
          "2018-01-27T05:55:00",
          "2018-01-27T06:10:00",
          "2018-01-27T06:25:00",
          "2018-01-27T06:40:00",
          "2018-01-27T06:55:00",
          "2018-01-27T07:10:00",
          "2018-01-27T07:25:00",
          "2018-01-27T07:40:00",
          "2018-01-27T07:55:00",
          "2018-01-27T08:10:00",
          "2018-01-27T08:26:00",
          "2018-01-27T08:41:00",
          "2018-01-27T08:56:00",
          "2018-01-28T01:04:00",
          "2018-01-28T01:19:00",
          "2018-01-28T01:34:00",
          "2018-01-28T01:49:00",
          "2018-01-28T02:04:00",
          "2018-01-28T02:19:00",
          "2018-01-28T02:34:00",
          "2018-01-28T02:49:00",
          "2018-01-28T03:04:00",
          "2018-01-28T03:19:00",
          "2018-01-28T03:34:00",
          "2018-01-28T03:49:00",
          "2018-01-28T04:04:00",
          "2018-01-28T04:19:00",
          "2018-01-28T04:34:00",
          "2018-01-28T04:49:00",
          "2018-01-28T05:04:00",
          "2018-01-28T05:19:00",
          "2018-01-28T05:34:00",
          "2018-01-28T05:49:00",
          "2018-01-28T06:04:00",
          "2018-01-28T06:19:00",
          "2018-01-28T06:34:00",
          "2018-01-28T06:49:00",
          "2018-01-28T07:07:00",
          "2018-01-29T00:15:00",
          "2018-01-29T00:30:00",
          "2018-01-29T00:45:00",
          "2018-01-29T01:00:00",
          "2018-01-29T01:15:00",
          "2018-01-29T01:30:00",
          "2018-01-29T01:45:00",
          "2018-01-29T02:00:00",
          "2018-01-29T02:15:00",
          "2018-01-29T02:30:00",
          "2018-01-29T02:45:00",
          "2018-01-29T03:00:00",
          "2018-01-29T03:15:00",
          "2018-01-29T03:30:00",
          "2018-01-29T03:45:00",
          "2018-01-29T04:00:00",
          "2018-01-29T04:15:00",
          "2018-01-29T04:30:00",
          "2018-01-29T04:45:00",
          "2018-01-29T05:00:00",
          "2018-01-29T05:15:00",
          "2018-01-29T05:30:00",
          "2018-01-29T05:45:00",
          "2018-01-29T06:00:00",
          "2018-01-29T06:15:00",
          "2018-01-29T06:30:00",
          "2018-01-29T06:45:00",
          "2018-01-29T07:00:00",
          "2018-01-30T00:11:00",
          "2018-01-30T00:26:00",
          "2018-01-30T00:41:00",
          "2018-01-30T00:56:00",
          "2018-01-30T01:11:00",
          "2018-01-30T01:26:00",
          "2018-01-30T01:41:00",
          "2018-01-30T01:56:00",
          "2018-01-30T02:11:00",
          "2018-01-30T02:26:00",
          "2018-01-30T02:41:00",
          "2018-01-30T02:56:00",
          "2018-01-30T03:11:00",
          "2018-01-30T03:26:00",
          "2018-01-30T03:41:00",
          "2018-01-30T03:56:00",
          "2018-01-30T04:11:00",
          "2018-01-30T04:26:00",
          "2018-01-30T04:41:00",
          "2018-01-30T04:56:00",
          "2018-01-30T05:11:00",
          "2018-01-30T05:26:00",
          "2018-01-30T05:41:00",
          "2018-01-30T05:56:00",
          "2018-01-30T06:11:00",
          "2018-01-30T06:26:00",
          "2018-01-30T06:41:00",
          "2018-01-30T06:56:00"
         ],
         "xaxis": "x",
         "y": [
          61,
          61,
          51,
          40,
          40,
          40,
          40,
          40,
          40,
          40,
          40,
          40,
          40,
          40,
          40,
          40,
          40,
          40,
          40,
          40,
          40,
          40,
          40,
          40,
          40,
          40,
          40,
          40,
          42,
          40,
          40,
          40,
          40,
          40,
          40,
          40,
          40,
          40,
          40,
          40,
          40,
          40,
          40,
          40,
          40,
          40,
          40,
          40,
          40,
          40,
          40,
          40,
          40,
          40,
          40,
          40,
          40,
          40,
          40,
          40,
          68,
          65,
          59,
          54,
          50,
          47,
          46,
          48,
          49,
          45,
          40,
          40,
          40,
          43,
          45,
          44,
          40,
          40,
          40,
          40,
          40,
          40,
          40,
          40,
          40,
          67,
          62,
          58,
          54,
          51,
          50,
          49,
          47,
          46,
          45,
          46,
          47,
          49,
          52,
          55,
          51,
          45,
          49,
          57,
          59,
          61,
          63,
          60,
          57,
          56,
          55,
          53,
          51,
          70,
          65,
          63,
          60,
          57,
          56,
          55,
          55,
          54,
          50,
          49,
          48,
          48,
          48,
          49,
          51,
          50,
          47,
          44,
          45,
          48,
          50,
          50,
          48,
          49,
          53,
          55,
          52
         ],
         "yaxis": "y"
        }
       ],
       "layout": {
        "legend": {
         "tracegroupgap": 0
        },
        "template": {
         "data": {
          "bar": [
           {
            "error_x": {
             "color": "#2a3f5f"
            },
            "error_y": {
             "color": "#2a3f5f"
            },
            "marker": {
             "line": {
              "color": "#E5ECF6",
              "width": 0.5
             }
            },
            "type": "bar"
           }
          ],
          "barpolar": [
           {
            "marker": {
             "line": {
              "color": "#E5ECF6",
              "width": 0.5
             }
            },
            "type": "barpolar"
           }
          ],
          "carpet": [
           {
            "aaxis": {
             "endlinecolor": "#2a3f5f",
             "gridcolor": "white",
             "linecolor": "white",
             "minorgridcolor": "white",
             "startlinecolor": "#2a3f5f"
            },
            "baxis": {
             "endlinecolor": "#2a3f5f",
             "gridcolor": "white",
             "linecolor": "white",
             "minorgridcolor": "white",
             "startlinecolor": "#2a3f5f"
            },
            "type": "carpet"
           }
          ],
          "choropleth": [
           {
            "colorbar": {
             "outlinewidth": 0,
             "ticks": ""
            },
            "type": "choropleth"
           }
          ],
          "contour": [
           {
            "colorbar": {
             "outlinewidth": 0,
             "ticks": ""
            },
            "colorscale": [
             [
              0,
              "#0d0887"
             ],
             [
              0.1111111111111111,
              "#46039f"
             ],
             [
              0.2222222222222222,
              "#7201a8"
             ],
             [
              0.3333333333333333,
              "#9c179e"
             ],
             [
              0.4444444444444444,
              "#bd3786"
             ],
             [
              0.5555555555555556,
              "#d8576b"
             ],
             [
              0.6666666666666666,
              "#ed7953"
             ],
             [
              0.7777777777777778,
              "#fb9f3a"
             ],
             [
              0.8888888888888888,
              "#fdca26"
             ],
             [
              1,
              "#f0f921"
             ]
            ],
            "type": "contour"
           }
          ],
          "contourcarpet": [
           {
            "colorbar": {
             "outlinewidth": 0,
             "ticks": ""
            },
            "type": "contourcarpet"
           }
          ],
          "heatmap": [
           {
            "colorbar": {
             "outlinewidth": 0,
             "ticks": ""
            },
            "colorscale": [
             [
              0,
              "#0d0887"
             ],
             [
              0.1111111111111111,
              "#46039f"
             ],
             [
              0.2222222222222222,
              "#7201a8"
             ],
             [
              0.3333333333333333,
              "#9c179e"
             ],
             [
              0.4444444444444444,
              "#bd3786"
             ],
             [
              0.5555555555555556,
              "#d8576b"
             ],
             [
              0.6666666666666666,
              "#ed7953"
             ],
             [
              0.7777777777777778,
              "#fb9f3a"
             ],
             [
              0.8888888888888888,
              "#fdca26"
             ],
             [
              1,
              "#f0f921"
             ]
            ],
            "type": "heatmap"
           }
          ],
          "heatmapgl": [
           {
            "colorbar": {
             "outlinewidth": 0,
             "ticks": ""
            },
            "colorscale": [
             [
              0,
              "#0d0887"
             ],
             [
              0.1111111111111111,
              "#46039f"
             ],
             [
              0.2222222222222222,
              "#7201a8"
             ],
             [
              0.3333333333333333,
              "#9c179e"
             ],
             [
              0.4444444444444444,
              "#bd3786"
             ],
             [
              0.5555555555555556,
              "#d8576b"
             ],
             [
              0.6666666666666666,
              "#ed7953"
             ],
             [
              0.7777777777777778,
              "#fb9f3a"
             ],
             [
              0.8888888888888888,
              "#fdca26"
             ],
             [
              1,
              "#f0f921"
             ]
            ],
            "type": "heatmapgl"
           }
          ],
          "histogram": [
           {
            "marker": {
             "colorbar": {
              "outlinewidth": 0,
              "ticks": ""
             }
            },
            "type": "histogram"
           }
          ],
          "histogram2d": [
           {
            "colorbar": {
             "outlinewidth": 0,
             "ticks": ""
            },
            "colorscale": [
             [
              0,
              "#0d0887"
             ],
             [
              0.1111111111111111,
              "#46039f"
             ],
             [
              0.2222222222222222,
              "#7201a8"
             ],
             [
              0.3333333333333333,
              "#9c179e"
             ],
             [
              0.4444444444444444,
              "#bd3786"
             ],
             [
              0.5555555555555556,
              "#d8576b"
             ],
             [
              0.6666666666666666,
              "#ed7953"
             ],
             [
              0.7777777777777778,
              "#fb9f3a"
             ],
             [
              0.8888888888888888,
              "#fdca26"
             ],
             [
              1,
              "#f0f921"
             ]
            ],
            "type": "histogram2d"
           }
          ],
          "histogram2dcontour": [
           {
            "colorbar": {
             "outlinewidth": 0,
             "ticks": ""
            },
            "colorscale": [
             [
              0,
              "#0d0887"
             ],
             [
              0.1111111111111111,
              "#46039f"
             ],
             [
              0.2222222222222222,
              "#7201a8"
             ],
             [
              0.3333333333333333,
              "#9c179e"
             ],
             [
              0.4444444444444444,
              "#bd3786"
             ],
             [
              0.5555555555555556,
              "#d8576b"
             ],
             [
              0.6666666666666666,
              "#ed7953"
             ],
             [
              0.7777777777777778,
              "#fb9f3a"
             ],
             [
              0.8888888888888888,
              "#fdca26"
             ],
             [
              1,
              "#f0f921"
             ]
            ],
            "type": "histogram2dcontour"
           }
          ],
          "mesh3d": [
           {
            "colorbar": {
             "outlinewidth": 0,
             "ticks": ""
            },
            "type": "mesh3d"
           }
          ],
          "parcoords": [
           {
            "line": {
             "colorbar": {
              "outlinewidth": 0,
              "ticks": ""
             }
            },
            "type": "parcoords"
           }
          ],
          "pie": [
           {
            "automargin": true,
            "type": "pie"
           }
          ],
          "scatter": [
           {
            "marker": {
             "colorbar": {
              "outlinewidth": 0,
              "ticks": ""
             }
            },
            "type": "scatter"
           }
          ],
          "scatter3d": [
           {
            "line": {
             "colorbar": {
              "outlinewidth": 0,
              "ticks": ""
             }
            },
            "marker": {
             "colorbar": {
              "outlinewidth": 0,
              "ticks": ""
             }
            },
            "type": "scatter3d"
           }
          ],
          "scattercarpet": [
           {
            "marker": {
             "colorbar": {
              "outlinewidth": 0,
              "ticks": ""
             }
            },
            "type": "scattercarpet"
           }
          ],
          "scattergeo": [
           {
            "marker": {
             "colorbar": {
              "outlinewidth": 0,
              "ticks": ""
             }
            },
            "type": "scattergeo"
           }
          ],
          "scattergl": [
           {
            "marker": {
             "colorbar": {
              "outlinewidth": 0,
              "ticks": ""
             }
            },
            "type": "scattergl"
           }
          ],
          "scattermapbox": [
           {
            "marker": {
             "colorbar": {
              "outlinewidth": 0,
              "ticks": ""
             }
            },
            "type": "scattermapbox"
           }
          ],
          "scatterpolar": [
           {
            "marker": {
             "colorbar": {
              "outlinewidth": 0,
              "ticks": ""
             }
            },
            "type": "scatterpolar"
           }
          ],
          "scatterpolargl": [
           {
            "marker": {
             "colorbar": {
              "outlinewidth": 0,
              "ticks": ""
             }
            },
            "type": "scatterpolargl"
           }
          ],
          "scatterternary": [
           {
            "marker": {
             "colorbar": {
              "outlinewidth": 0,
              "ticks": ""
             }
            },
            "type": "scatterternary"
           }
          ],
          "surface": [
           {
            "colorbar": {
             "outlinewidth": 0,
             "ticks": ""
            },
            "colorscale": [
             [
              0,
              "#0d0887"
             ],
             [
              0.1111111111111111,
              "#46039f"
             ],
             [
              0.2222222222222222,
              "#7201a8"
             ],
             [
              0.3333333333333333,
              "#9c179e"
             ],
             [
              0.4444444444444444,
              "#bd3786"
             ],
             [
              0.5555555555555556,
              "#d8576b"
             ],
             [
              0.6666666666666666,
              "#ed7953"
             ],
             [
              0.7777777777777778,
              "#fb9f3a"
             ],
             [
              0.8888888888888888,
              "#fdca26"
             ],
             [
              1,
              "#f0f921"
             ]
            ],
            "type": "surface"
           }
          ],
          "table": [
           {
            "cells": {
             "fill": {
              "color": "#EBF0F8"
             },
             "line": {
              "color": "white"
             }
            },
            "header": {
             "fill": {
              "color": "#C8D4E3"
             },
             "line": {
              "color": "white"
             }
            },
            "type": "table"
           }
          ]
         },
         "layout": {
          "annotationdefaults": {
           "arrowcolor": "#2a3f5f",
           "arrowhead": 0,
           "arrowwidth": 1
          },
          "coloraxis": {
           "colorbar": {
            "outlinewidth": 0,
            "ticks": ""
           }
          },
          "colorscale": {
           "diverging": [
            [
             0,
             "#8e0152"
            ],
            [
             0.1,
             "#c51b7d"
            ],
            [
             0.2,
             "#de77ae"
            ],
            [
             0.3,
             "#f1b6da"
            ],
            [
             0.4,
             "#fde0ef"
            ],
            [
             0.5,
             "#f7f7f7"
            ],
            [
             0.6,
             "#e6f5d0"
            ],
            [
             0.7,
             "#b8e186"
            ],
            [
             0.8,
             "#7fbc41"
            ],
            [
             0.9,
             "#4d9221"
            ],
            [
             1,
             "#276419"
            ]
           ],
           "sequential": [
            [
             0,
             "#0d0887"
            ],
            [
             0.1111111111111111,
             "#46039f"
            ],
            [
             0.2222222222222222,
             "#7201a8"
            ],
            [
             0.3333333333333333,
             "#9c179e"
            ],
            [
             0.4444444444444444,
             "#bd3786"
            ],
            [
             0.5555555555555556,
             "#d8576b"
            ],
            [
             0.6666666666666666,
             "#ed7953"
            ],
            [
             0.7777777777777778,
             "#fb9f3a"
            ],
            [
             0.8888888888888888,
             "#fdca26"
            ],
            [
             1,
             "#f0f921"
            ]
           ],
           "sequentialminus": [
            [
             0,
             "#0d0887"
            ],
            [
             0.1111111111111111,
             "#46039f"
            ],
            [
             0.2222222222222222,
             "#7201a8"
            ],
            [
             0.3333333333333333,
             "#9c179e"
            ],
            [
             0.4444444444444444,
             "#bd3786"
            ],
            [
             0.5555555555555556,
             "#d8576b"
            ],
            [
             0.6666666666666666,
             "#ed7953"
            ],
            [
             0.7777777777777778,
             "#fb9f3a"
            ],
            [
             0.8888888888888888,
             "#fdca26"
            ],
            [
             1,
             "#f0f921"
            ]
           ]
          },
          "colorway": [
           "#636efa",
           "#EF553B",
           "#00cc96",
           "#ab63fa",
           "#FFA15A",
           "#19d3f3",
           "#FF6692",
           "#B6E880",
           "#FF97FF",
           "#FECB52"
          ],
          "font": {
           "color": "#2a3f5f"
          },
          "geo": {
           "bgcolor": "white",
           "lakecolor": "white",
           "landcolor": "#E5ECF6",
           "showlakes": true,
           "showland": true,
           "subunitcolor": "white"
          },
          "hoverlabel": {
           "align": "left"
          },
          "hovermode": "closest",
          "mapbox": {
           "style": "light"
          },
          "paper_bgcolor": "white",
          "plot_bgcolor": "#E5ECF6",
          "polar": {
           "angularaxis": {
            "gridcolor": "white",
            "linecolor": "white",
            "ticks": ""
           },
           "bgcolor": "#E5ECF6",
           "radialaxis": {
            "gridcolor": "white",
            "linecolor": "white",
            "ticks": ""
           }
          },
          "scene": {
           "xaxis": {
            "backgroundcolor": "#E5ECF6",
            "gridcolor": "white",
            "gridwidth": 2,
            "linecolor": "white",
            "showbackground": true,
            "ticks": "",
            "zerolinecolor": "white"
           },
           "yaxis": {
            "backgroundcolor": "#E5ECF6",
            "gridcolor": "white",
            "gridwidth": 2,
            "linecolor": "white",
            "showbackground": true,
            "ticks": "",
            "zerolinecolor": "white"
           },
           "zaxis": {
            "backgroundcolor": "#E5ECF6",
            "gridcolor": "white",
            "gridwidth": 2,
            "linecolor": "white",
            "showbackground": true,
            "ticks": "",
            "zerolinecolor": "white"
           }
          },
          "shapedefaults": {
           "line": {
            "color": "#2a3f5f"
           }
          },
          "ternary": {
           "aaxis": {
            "gridcolor": "white",
            "linecolor": "white",
            "ticks": ""
           },
           "baxis": {
            "gridcolor": "white",
            "linecolor": "white",
            "ticks": ""
           },
           "bgcolor": "#E5ECF6",
           "caxis": {
            "gridcolor": "white",
            "linecolor": "white",
            "ticks": ""
           }
          },
          "title": {
           "x": 0.05
          },
          "xaxis": {
           "automargin": true,
           "gridcolor": "white",
           "linecolor": "white",
           "ticks": "",
           "title": {
            "standoff": 15
           },
           "zerolinecolor": "white",
           "zerolinewidth": 2
          },
          "yaxis": {
           "automargin": true,
           "gridcolor": "white",
           "linecolor": "white",
           "ticks": "",
           "title": {
            "standoff": 15
           },
           "zerolinecolor": "white",
           "zerolinewidth": 2
          }
         }
        },
        "title": {
         "text": "CGM"
        },
        "xaxis": {
         "anchor": "y",
         "domain": [
          0,
          1
         ],
         "title": {
          "text": "Date"
         }
        },
        "yaxis": {
         "anchor": "x",
         "domain": [
          0,
          1
         ],
         "title": {
          "text": "GlucoseValue"
         }
        }
       }
      },
      "text/html": [
       "<div>\n",
       "        \n",
       "        \n",
       "            <div id=\"ec66820b-f0ff-41d9-9ab3-21fed8375a13\" class=\"plotly-graph-div\" style=\"height:525px; width:100%;\"></div>\n",
       "            <script type=\"text/javascript\">\n",
       "                require([\"plotly\"], function(Plotly) {\n",
       "                    window.PLOTLYENV=window.PLOTLYENV || {};\n",
       "                    \n",
       "                if (document.getElementById(\"ec66820b-f0ff-41d9-9ab3-21fed8375a13\")) {\n",
       "                    Plotly.newPlot(\n",
       "                        'ec66820b-f0ff-41d9-9ab3-21fed8375a13',\n",
       "                        [{\"hoverlabel\": {\"namelength\": 0}, \"hovertemplate\": \"Date=%{x}<br>GlucoseValue=%{y}\", \"legendgroup\": \"\", \"line\": {\"color\": \"#636efa\", \"dash\": \"solid\"}, \"mode\": \"lines\", \"name\": \"\", \"showlegend\": false, \"type\": \"scatter\", \"x\": [\"2018-01-25T00:04:00\", \"2018-01-25T00:19:00\", \"2018-01-25T00:34:00\", \"2018-01-25T00:49:00\", \"2018-01-25T01:04:00\", \"2018-01-25T01:19:00\", \"2018-01-25T01:34:00\", \"2018-01-25T01:49:00\", \"2018-01-25T02:04:00\", \"2018-01-25T02:19:00\", \"2018-01-25T02:34:00\", \"2018-01-25T02:49:00\", \"2018-01-25T03:04:00\", \"2018-01-25T03:19:00\", \"2018-01-25T03:34:00\", \"2018-01-25T03:49:00\", \"2018-01-25T04:04:00\", \"2018-01-25T04:19:00\", \"2018-01-25T04:34:00\", \"2018-01-25T04:49:00\", \"2018-01-25T05:04:00\", \"2018-01-25T05:19:00\", \"2018-01-25T05:34:00\", \"2018-01-25T05:49:00\", \"2018-01-25T06:04:00\", \"2018-01-25T06:19:00\", \"2018-01-25T06:34:00\", \"2018-01-25T06:49:00\", \"2018-01-27T01:10:00\", \"2018-01-27T01:25:00\", \"2018-01-27T01:40:00\", \"2018-01-27T01:55:00\", \"2018-01-27T02:10:00\", \"2018-01-27T02:25:00\", \"2018-01-27T02:40:00\", \"2018-01-27T02:55:00\", \"2018-01-27T03:10:00\", \"2018-01-27T03:25:00\", \"2018-01-27T03:40:00\", \"2018-01-27T03:55:00\", \"2018-01-27T04:10:00\", \"2018-01-27T04:25:00\", \"2018-01-27T04:40:00\", \"2018-01-27T04:55:00\", \"2018-01-27T05:10:00\", \"2018-01-27T05:25:00\", \"2018-01-27T05:40:00\", \"2018-01-27T05:55:00\", \"2018-01-27T06:10:00\", \"2018-01-27T06:25:00\", \"2018-01-27T06:40:00\", \"2018-01-27T06:55:00\", \"2018-01-27T07:10:00\", \"2018-01-27T07:25:00\", \"2018-01-27T07:40:00\", \"2018-01-27T07:55:00\", \"2018-01-27T08:10:00\", \"2018-01-27T08:26:00\", \"2018-01-27T08:41:00\", \"2018-01-27T08:56:00\", \"2018-01-28T01:04:00\", \"2018-01-28T01:19:00\", \"2018-01-28T01:34:00\", \"2018-01-28T01:49:00\", \"2018-01-28T02:04:00\", \"2018-01-28T02:19:00\", \"2018-01-28T02:34:00\", \"2018-01-28T02:49:00\", \"2018-01-28T03:04:00\", \"2018-01-28T03:19:00\", \"2018-01-28T03:34:00\", \"2018-01-28T03:49:00\", \"2018-01-28T04:04:00\", \"2018-01-28T04:19:00\", \"2018-01-28T04:34:00\", \"2018-01-28T04:49:00\", \"2018-01-28T05:04:00\", \"2018-01-28T05:19:00\", \"2018-01-28T05:34:00\", \"2018-01-28T05:49:00\", \"2018-01-28T06:04:00\", \"2018-01-28T06:19:00\", \"2018-01-28T06:34:00\", \"2018-01-28T06:49:00\", \"2018-01-28T07:07:00\", \"2018-01-29T00:15:00\", \"2018-01-29T00:30:00\", \"2018-01-29T00:45:00\", \"2018-01-29T01:00:00\", \"2018-01-29T01:15:00\", \"2018-01-29T01:30:00\", \"2018-01-29T01:45:00\", \"2018-01-29T02:00:00\", \"2018-01-29T02:15:00\", \"2018-01-29T02:30:00\", \"2018-01-29T02:45:00\", \"2018-01-29T03:00:00\", \"2018-01-29T03:15:00\", \"2018-01-29T03:30:00\", \"2018-01-29T03:45:00\", \"2018-01-29T04:00:00\", \"2018-01-29T04:15:00\", \"2018-01-29T04:30:00\", \"2018-01-29T04:45:00\", \"2018-01-29T05:00:00\", \"2018-01-29T05:15:00\", \"2018-01-29T05:30:00\", \"2018-01-29T05:45:00\", \"2018-01-29T06:00:00\", \"2018-01-29T06:15:00\", \"2018-01-29T06:30:00\", \"2018-01-29T06:45:00\", \"2018-01-29T07:00:00\", \"2018-01-30T00:11:00\", \"2018-01-30T00:26:00\", \"2018-01-30T00:41:00\", \"2018-01-30T00:56:00\", \"2018-01-30T01:11:00\", \"2018-01-30T01:26:00\", \"2018-01-30T01:41:00\", \"2018-01-30T01:56:00\", \"2018-01-30T02:11:00\", \"2018-01-30T02:26:00\", \"2018-01-30T02:41:00\", \"2018-01-30T02:56:00\", \"2018-01-30T03:11:00\", \"2018-01-30T03:26:00\", \"2018-01-30T03:41:00\", \"2018-01-30T03:56:00\", \"2018-01-30T04:11:00\", \"2018-01-30T04:26:00\", \"2018-01-30T04:41:00\", \"2018-01-30T04:56:00\", \"2018-01-30T05:11:00\", \"2018-01-30T05:26:00\", \"2018-01-30T05:41:00\", \"2018-01-30T05:56:00\", \"2018-01-30T06:11:00\", \"2018-01-30T06:26:00\", \"2018-01-30T06:41:00\", \"2018-01-30T06:56:00\"], \"xaxis\": \"x\", \"y\": [61.0, 61.0, 51.0, 40.0, 40.0, 40.0, 40.0, 40.0, 40.0, 40.0, 40.0, 40.0, 40.0, 40.0, 40.0, 40.0, 40.0, 40.0, 40.0, 40.0, 40.0, 40.0, 40.0, 40.0, 40.0, 40.0, 40.0, 40.0, 42.0, 40.0, 40.0, 40.0, 40.0, 40.0, 40.0, 40.0, 40.0, 40.0, 40.0, 40.0, 40.0, 40.0, 40.0, 40.0, 40.0, 40.0, 40.0, 40.0, 40.0, 40.0, 40.0, 40.0, 40.0, 40.0, 40.0, 40.0, 40.0, 40.0, 40.0, 40.0, 68.0, 65.0, 59.0, 54.0, 50.0, 47.0, 46.0, 48.0, 49.0, 45.0, 40.0, 40.0, 40.0, 43.0, 45.0, 44.0, 40.0, 40.0, 40.0, 40.0, 40.0, 40.0, 40.0, 40.0, 40.0, 67.0, 62.0, 58.0, 54.0, 51.0, 50.0, 49.0, 47.0, 46.0, 45.0, 46.0, 47.0, 49.0, 52.0, 55.0, 51.0, 45.0, 49.0, 57.0, 59.0, 61.0, 63.0, 60.0, 57.0, 56.0, 55.0, 53.0, 51.0, 70.0, 65.0, 63.0, 60.0, 57.0, 56.0, 55.0, 55.0, 54.0, 50.0, 49.0, 48.0, 48.0, 48.0, 49.0, 51.0, 50.0, 47.0, 44.0, 45.0, 48.0, 50.0, 50.0, 48.0, 49.0, 53.0, 55.0, 52.0], \"yaxis\": \"y\"}],\n",
       "                        {\"legend\": {\"tracegroupgap\": 0}, \"template\": {\"data\": {\"bar\": [{\"error_x\": {\"color\": \"#2a3f5f\"}, \"error_y\": {\"color\": \"#2a3f5f\"}, \"marker\": {\"line\": {\"color\": \"#E5ECF6\", \"width\": 0.5}}, \"type\": \"bar\"}], \"barpolar\": [{\"marker\": {\"line\": {\"color\": \"#E5ECF6\", \"width\": 0.5}}, \"type\": \"barpolar\"}], \"carpet\": [{\"aaxis\": {\"endlinecolor\": \"#2a3f5f\", \"gridcolor\": \"white\", \"linecolor\": \"white\", \"minorgridcolor\": \"white\", \"startlinecolor\": \"#2a3f5f\"}, \"baxis\": {\"endlinecolor\": \"#2a3f5f\", \"gridcolor\": \"white\", \"linecolor\": \"white\", \"minorgridcolor\": \"white\", \"startlinecolor\": \"#2a3f5f\"}, \"type\": \"carpet\"}], \"choropleth\": [{\"colorbar\": {\"outlinewidth\": 0, \"ticks\": \"\"}, \"type\": \"choropleth\"}], \"contour\": [{\"colorbar\": {\"outlinewidth\": 0, \"ticks\": \"\"}, \"colorscale\": [[0.0, \"#0d0887\"], [0.1111111111111111, \"#46039f\"], [0.2222222222222222, \"#7201a8\"], [0.3333333333333333, \"#9c179e\"], [0.4444444444444444, \"#bd3786\"], [0.5555555555555556, \"#d8576b\"], [0.6666666666666666, \"#ed7953\"], [0.7777777777777778, \"#fb9f3a\"], [0.8888888888888888, \"#fdca26\"], [1.0, \"#f0f921\"]], \"type\": \"contour\"}], \"contourcarpet\": [{\"colorbar\": {\"outlinewidth\": 0, \"ticks\": \"\"}, \"type\": \"contourcarpet\"}], \"heatmap\": [{\"colorbar\": {\"outlinewidth\": 0, \"ticks\": \"\"}, \"colorscale\": [[0.0, \"#0d0887\"], [0.1111111111111111, \"#46039f\"], [0.2222222222222222, \"#7201a8\"], [0.3333333333333333, \"#9c179e\"], [0.4444444444444444, \"#bd3786\"], [0.5555555555555556, \"#d8576b\"], [0.6666666666666666, \"#ed7953\"], [0.7777777777777778, \"#fb9f3a\"], [0.8888888888888888, \"#fdca26\"], [1.0, \"#f0f921\"]], \"type\": \"heatmap\"}], \"heatmapgl\": [{\"colorbar\": {\"outlinewidth\": 0, \"ticks\": \"\"}, \"colorscale\": [[0.0, \"#0d0887\"], [0.1111111111111111, \"#46039f\"], [0.2222222222222222, \"#7201a8\"], [0.3333333333333333, \"#9c179e\"], [0.4444444444444444, \"#bd3786\"], [0.5555555555555556, \"#d8576b\"], [0.6666666666666666, \"#ed7953\"], [0.7777777777777778, \"#fb9f3a\"], [0.8888888888888888, \"#fdca26\"], [1.0, \"#f0f921\"]], \"type\": \"heatmapgl\"}], \"histogram\": [{\"marker\": {\"colorbar\": {\"outlinewidth\": 0, \"ticks\": \"\"}}, \"type\": \"histogram\"}], \"histogram2d\": [{\"colorbar\": {\"outlinewidth\": 0, \"ticks\": \"\"}, \"colorscale\": [[0.0, \"#0d0887\"], [0.1111111111111111, \"#46039f\"], [0.2222222222222222, \"#7201a8\"], [0.3333333333333333, \"#9c179e\"], [0.4444444444444444, \"#bd3786\"], [0.5555555555555556, \"#d8576b\"], [0.6666666666666666, \"#ed7953\"], [0.7777777777777778, \"#fb9f3a\"], [0.8888888888888888, \"#fdca26\"], [1.0, \"#f0f921\"]], \"type\": \"histogram2d\"}], \"histogram2dcontour\": [{\"colorbar\": {\"outlinewidth\": 0, \"ticks\": \"\"}, \"colorscale\": [[0.0, \"#0d0887\"], [0.1111111111111111, \"#46039f\"], [0.2222222222222222, \"#7201a8\"], [0.3333333333333333, \"#9c179e\"], [0.4444444444444444, \"#bd3786\"], [0.5555555555555556, \"#d8576b\"], [0.6666666666666666, \"#ed7953\"], [0.7777777777777778, \"#fb9f3a\"], [0.8888888888888888, \"#fdca26\"], [1.0, \"#f0f921\"]], \"type\": \"histogram2dcontour\"}], \"mesh3d\": [{\"colorbar\": {\"outlinewidth\": 0, \"ticks\": \"\"}, \"type\": \"mesh3d\"}], \"parcoords\": [{\"line\": {\"colorbar\": {\"outlinewidth\": 0, \"ticks\": \"\"}}, \"type\": \"parcoords\"}], \"pie\": [{\"automargin\": true, \"type\": \"pie\"}], \"scatter\": [{\"marker\": {\"colorbar\": {\"outlinewidth\": 0, \"ticks\": \"\"}}, \"type\": \"scatter\"}], \"scatter3d\": [{\"line\": {\"colorbar\": {\"outlinewidth\": 0, \"ticks\": \"\"}}, \"marker\": {\"colorbar\": {\"outlinewidth\": 0, \"ticks\": \"\"}}, \"type\": \"scatter3d\"}], \"scattercarpet\": [{\"marker\": {\"colorbar\": {\"outlinewidth\": 0, \"ticks\": \"\"}}, \"type\": \"scattercarpet\"}], \"scattergeo\": [{\"marker\": {\"colorbar\": {\"outlinewidth\": 0, \"ticks\": \"\"}}, \"type\": \"scattergeo\"}], \"scattergl\": [{\"marker\": {\"colorbar\": {\"outlinewidth\": 0, \"ticks\": \"\"}}, \"type\": \"scattergl\"}], \"scattermapbox\": [{\"marker\": {\"colorbar\": {\"outlinewidth\": 0, \"ticks\": \"\"}}, \"type\": \"scattermapbox\"}], \"scatterpolar\": [{\"marker\": {\"colorbar\": {\"outlinewidth\": 0, \"ticks\": \"\"}}, \"type\": \"scatterpolar\"}], \"scatterpolargl\": [{\"marker\": {\"colorbar\": {\"outlinewidth\": 0, \"ticks\": \"\"}}, \"type\": \"scatterpolargl\"}], \"scatterternary\": [{\"marker\": {\"colorbar\": {\"outlinewidth\": 0, \"ticks\": \"\"}}, \"type\": \"scatterternary\"}], \"surface\": [{\"colorbar\": {\"outlinewidth\": 0, \"ticks\": \"\"}, \"colorscale\": [[0.0, \"#0d0887\"], [0.1111111111111111, \"#46039f\"], [0.2222222222222222, \"#7201a8\"], [0.3333333333333333, \"#9c179e\"], [0.4444444444444444, \"#bd3786\"], [0.5555555555555556, \"#d8576b\"], [0.6666666666666666, \"#ed7953\"], [0.7777777777777778, \"#fb9f3a\"], [0.8888888888888888, \"#fdca26\"], [1.0, \"#f0f921\"]], \"type\": \"surface\"}], \"table\": [{\"cells\": {\"fill\": {\"color\": \"#EBF0F8\"}, \"line\": {\"color\": \"white\"}}, \"header\": {\"fill\": {\"color\": \"#C8D4E3\"}, \"line\": {\"color\": \"white\"}}, \"type\": \"table\"}]}, \"layout\": {\"annotationdefaults\": {\"arrowcolor\": \"#2a3f5f\", \"arrowhead\": 0, \"arrowwidth\": 1}, \"coloraxis\": {\"colorbar\": {\"outlinewidth\": 0, \"ticks\": \"\"}}, \"colorscale\": {\"diverging\": [[0, \"#8e0152\"], [0.1, \"#c51b7d\"], [0.2, \"#de77ae\"], [0.3, \"#f1b6da\"], [0.4, \"#fde0ef\"], [0.5, \"#f7f7f7\"], [0.6, \"#e6f5d0\"], [0.7, \"#b8e186\"], [0.8, \"#7fbc41\"], [0.9, \"#4d9221\"], [1, \"#276419\"]], \"sequential\": [[0.0, \"#0d0887\"], [0.1111111111111111, \"#46039f\"], [0.2222222222222222, \"#7201a8\"], [0.3333333333333333, \"#9c179e\"], [0.4444444444444444, \"#bd3786\"], [0.5555555555555556, \"#d8576b\"], [0.6666666666666666, \"#ed7953\"], [0.7777777777777778, \"#fb9f3a\"], [0.8888888888888888, \"#fdca26\"], [1.0, \"#f0f921\"]], \"sequentialminus\": [[0.0, \"#0d0887\"], [0.1111111111111111, \"#46039f\"], [0.2222222222222222, \"#7201a8\"], [0.3333333333333333, \"#9c179e\"], [0.4444444444444444, \"#bd3786\"], [0.5555555555555556, \"#d8576b\"], [0.6666666666666666, \"#ed7953\"], [0.7777777777777778, \"#fb9f3a\"], [0.8888888888888888, \"#fdca26\"], [1.0, \"#f0f921\"]]}, \"colorway\": [\"#636efa\", \"#EF553B\", \"#00cc96\", \"#ab63fa\", \"#FFA15A\", \"#19d3f3\", \"#FF6692\", \"#B6E880\", \"#FF97FF\", \"#FECB52\"], \"font\": {\"color\": \"#2a3f5f\"}, \"geo\": {\"bgcolor\": \"white\", \"lakecolor\": \"white\", \"landcolor\": \"#E5ECF6\", \"showlakes\": true, \"showland\": true, \"subunitcolor\": \"white\"}, \"hoverlabel\": {\"align\": \"left\"}, \"hovermode\": \"closest\", \"mapbox\": {\"style\": \"light\"}, \"paper_bgcolor\": \"white\", \"plot_bgcolor\": \"#E5ECF6\", \"polar\": {\"angularaxis\": {\"gridcolor\": \"white\", \"linecolor\": \"white\", \"ticks\": \"\"}, \"bgcolor\": \"#E5ECF6\", \"radialaxis\": {\"gridcolor\": \"white\", \"linecolor\": \"white\", \"ticks\": \"\"}}, \"scene\": {\"xaxis\": {\"backgroundcolor\": \"#E5ECF6\", \"gridcolor\": \"white\", \"gridwidth\": 2, \"linecolor\": \"white\", \"showbackground\": true, \"ticks\": \"\", \"zerolinecolor\": \"white\"}, \"yaxis\": {\"backgroundcolor\": \"#E5ECF6\", \"gridcolor\": \"white\", \"gridwidth\": 2, \"linecolor\": \"white\", \"showbackground\": true, \"ticks\": \"\", \"zerolinecolor\": \"white\"}, \"zaxis\": {\"backgroundcolor\": \"#E5ECF6\", \"gridcolor\": \"white\", \"gridwidth\": 2, \"linecolor\": \"white\", \"showbackground\": true, \"ticks\": \"\", \"zerolinecolor\": \"white\"}}, \"shapedefaults\": {\"line\": {\"color\": \"#2a3f5f\"}}, \"ternary\": {\"aaxis\": {\"gridcolor\": \"white\", \"linecolor\": \"white\", \"ticks\": \"\"}, \"baxis\": {\"gridcolor\": \"white\", \"linecolor\": \"white\", \"ticks\": \"\"}, \"bgcolor\": \"#E5ECF6\", \"caxis\": {\"gridcolor\": \"white\", \"linecolor\": \"white\", \"ticks\": \"\"}}, \"title\": {\"x\": 0.05}, \"xaxis\": {\"automargin\": true, \"gridcolor\": \"white\", \"linecolor\": \"white\", \"ticks\": \"\", \"title\": {\"standoff\": 15}, \"zerolinecolor\": \"white\", \"zerolinewidth\": 2}, \"yaxis\": {\"automargin\": true, \"gridcolor\": \"white\", \"linecolor\": \"white\", \"ticks\": \"\", \"title\": {\"standoff\": 15}, \"zerolinecolor\": \"white\", \"zerolinewidth\": 2}}}, \"title\": {\"text\": \"CGM\"}, \"xaxis\": {\"anchor\": \"y\", \"domain\": [0.0, 1.0], \"title\": {\"text\": \"Date\"}}, \"yaxis\": {\"anchor\": \"x\", \"domain\": [0.0, 1.0], \"title\": {\"text\": \"GlucoseValue\"}}},\n",
       "                        {\"responsive\": true}\n",
       "                    ).then(function(){\n",
       "                            \n",
       "var gd = document.getElementById('ec66820b-f0ff-41d9-9ab3-21fed8375a13');\n",
       "var x = new MutationObserver(function (mutations, observer) {{\n",
       "        var display = window.getComputedStyle(gd).display;\n",
       "        if (!display || display === 'none') {{\n",
       "            console.log([gd, 'removed!']);\n",
       "            Plotly.purge(gd);\n",
       "            observer.disconnect();\n",
       "        }}\n",
       "}});\n",
       "\n",
       "// Listen for the removal of the full notebook cells\n",
       "var notebookContainer = gd.closest('#notebook-container');\n",
       "if (notebookContainer) {{\n",
       "    x.observe(notebookContainer, {childList: true});\n",
       "}}\n",
       "\n",
       "// Listen for the clearing of the current output cell\n",
       "var outputEl = gd.closest('.output');\n",
       "if (outputEl) {{\n",
       "    x.observe(outputEl, {childList: true});\n",
       "}}\n",
       "\n",
       "                        })\n",
       "                };\n",
       "                });\n",
       "            </script>\n",
       "        </div>"
      ]
     },
     "metadata": {},
     "output_type": "display_data"
    }
   ],
   "source": [
    "plotly_cgm(cgm_night.query(\"RegistrationCode == '262895'\"))"
   ]
  },
  {
   "cell_type": "code",
   "execution_count": 351,
   "metadata": {},
   "outputs": [
    {
     "data": {
      "application/vnd.plotly.v1+json": {
       "config": {
        "plotlyServerURL": "https://plot.ly"
       },
       "data": [
        {
         "hoverlabel": {
          "namelength": 0
         },
         "hovertemplate": "Date=%{x}<br>GlucoseValue=%{y}",
         "legendgroup": "",
         "line": {
          "color": "#636efa",
          "dash": "solid"
         },
         "mode": "lines",
         "name": "",
         "showlegend": false,
         "type": "scatter",
         "x": [
          "2018-02-16T00:43:00",
          "2018-02-16T00:58:00",
          "2018-02-16T01:13:00",
          "2018-02-16T01:28:00",
          "2018-02-16T01:43:00",
          "2018-02-16T01:58:00",
          "2018-02-16T02:13:00",
          "2018-02-16T02:28:00",
          "2018-02-16T02:43:00",
          "2018-02-16T02:58:00",
          "2018-02-16T03:13:00",
          "2018-02-16T03:28:00",
          "2018-02-16T03:43:00",
          "2018-02-16T03:58:00",
          "2018-02-16T04:13:00",
          "2018-02-16T04:28:00",
          "2018-02-16T04:43:00",
          "2018-02-16T04:58:00",
          "2018-02-16T05:13:00",
          "2018-02-16T05:28:00",
          "2018-02-16T05:43:00",
          "2018-02-16T05:58:00",
          "2018-02-16T06:13:00",
          "2018-02-16T06:28:00",
          "2018-02-16T06:43:00",
          "2018-02-16T06:58:00",
          "2018-02-16T07:13:00",
          "2018-02-16T07:28:00",
          "2018-02-17T00:53:00",
          "2018-02-17T01:08:00",
          "2018-02-17T01:23:00",
          "2018-02-17T01:38:00",
          "2018-02-17T01:53:00",
          "2018-02-17T02:08:00",
          "2018-02-17T02:23:00",
          "2018-02-17T02:38:00",
          "2018-02-17T02:53:00",
          "2018-02-17T03:08:00",
          "2018-02-17T03:23:00",
          "2018-02-17T03:38:00",
          "2018-02-17T03:53:00",
          "2018-02-17T04:08:00",
          "2018-02-17T04:23:00",
          "2018-02-17T04:38:00",
          "2018-02-17T04:53:00",
          "2018-02-17T05:08:00",
          "2018-02-17T05:23:00",
          "2018-02-17T05:38:00",
          "2018-02-17T05:53:00",
          "2018-02-17T06:08:00",
          "2018-02-17T06:23:00",
          "2018-02-17T06:38:00",
          "2018-02-17T06:53:00",
          "2018-02-17T07:09:00",
          "2018-02-17T23:48:00",
          "2018-02-18T00:03:00",
          "2018-02-18T00:18:00",
          "2018-02-18T00:33:00",
          "2018-02-18T00:48:00",
          "2018-02-18T01:03:00",
          "2018-02-18T01:18:00",
          "2018-02-18T01:33:00",
          "2018-02-18T01:48:00",
          "2018-02-18T02:03:00",
          "2018-02-18T02:18:00",
          "2018-02-18T02:33:00",
          "2018-02-18T02:48:00",
          "2018-02-18T03:03:00",
          "2018-02-18T03:18:00",
          "2018-02-18T03:33:00",
          "2018-02-18T03:48:00",
          "2018-02-18T04:03:00",
          "2018-02-18T04:18:00",
          "2018-02-18T04:33:00",
          "2018-02-18T04:48:00",
          "2018-02-18T05:03:00",
          "2018-02-18T05:18:00",
          "2018-02-18T05:33:00",
          "2018-02-18T05:48:00",
          "2018-02-18T06:03:00",
          "2018-02-18T06:18:00",
          "2018-02-18T06:33:00",
          "2018-02-18T06:48:00",
          "2018-02-18T07:03:00",
          "2018-02-18T07:18:00",
          "2018-02-19T00:43:00",
          "2018-02-19T00:58:00",
          "2018-02-19T01:13:00",
          "2018-02-19T01:28:00",
          "2018-02-19T01:43:00",
          "2018-02-19T01:58:00",
          "2018-02-19T02:13:00",
          "2018-02-19T02:28:00",
          "2018-02-19T02:43:00",
          "2018-02-19T02:58:00",
          "2018-02-19T03:13:00",
          "2018-02-19T03:28:00",
          "2018-02-19T03:43:00",
          "2018-02-19T03:58:00",
          "2018-02-19T04:13:00",
          "2018-02-19T04:28:00",
          "2018-02-19T04:43:00",
          "2018-02-19T04:58:00",
          "2018-02-19T05:13:00",
          "2018-02-19T05:28:00",
          "2018-02-19T05:43:00",
          "2018-02-19T05:58:00",
          "2018-02-19T06:13:00",
          "2018-02-19T06:28:00",
          "2018-02-19T06:43:00",
          "2018-02-19T06:58:00",
          "2018-02-19T07:15:00",
          "2018-02-20T00:23:00",
          "2018-02-20T00:38:00",
          "2018-02-20T00:53:00",
          "2018-02-20T01:08:00",
          "2018-02-20T01:23:00",
          "2018-02-20T01:38:00",
          "2018-02-20T01:53:00",
          "2018-02-20T02:08:00",
          "2018-02-20T02:23:00",
          "2018-02-20T02:38:00",
          "2018-02-20T02:53:00",
          "2018-02-20T03:08:00",
          "2018-02-20T03:23:00",
          "2018-02-20T03:38:00",
          "2018-02-20T03:53:00",
          "2018-02-20T04:08:00",
          "2018-02-20T04:23:00",
          "2018-02-20T04:38:00",
          "2018-02-20T04:53:00",
          "2018-02-20T05:08:00",
          "2018-02-20T05:23:00",
          "2018-02-20T05:38:00",
          "2018-02-20T05:53:00",
          "2018-02-20T06:08:00",
          "2018-02-20T06:23:00",
          "2018-02-20T06:38:00",
          "2018-02-20T06:53:00",
          "2018-02-20T07:08:00",
          "2018-02-20T07:23:00",
          "2018-02-20T07:41:00",
          "2018-02-21T01:18:00",
          "2018-02-21T01:33:00",
          "2018-02-21T01:48:00",
          "2018-02-21T02:03:00",
          "2018-02-21T02:18:00",
          "2018-02-21T02:33:00",
          "2018-02-21T02:48:00",
          "2018-02-21T03:03:00",
          "2018-02-21T03:18:00",
          "2018-02-21T03:33:00",
          "2018-02-21T03:48:00",
          "2018-02-21T04:03:00",
          "2018-02-21T04:18:00",
          "2018-02-21T04:33:00",
          "2018-02-21T04:48:00",
          "2018-02-21T05:03:00",
          "2018-02-21T05:18:00",
          "2018-02-21T05:33:00",
          "2018-02-21T05:48:00",
          "2018-02-21T06:03:00",
          "2018-02-21T06:18:00",
          "2018-02-21T06:33:00",
          "2018-02-21T06:48:00",
          "2018-02-21T07:03:00",
          "2018-02-21T07:18:00",
          "2018-02-21T23:44:00",
          "2018-02-21T23:59:00",
          "2018-02-22T00:14:00",
          "2018-02-22T00:29:00",
          "2018-02-22T00:44:00",
          "2018-02-22T00:59:00",
          "2018-02-22T01:14:00",
          "2018-02-22T01:29:00",
          "2018-02-22T01:44:00",
          "2018-02-22T01:59:00",
          "2018-02-22T02:14:00",
          "2018-02-22T02:29:00",
          "2018-02-22T02:44:00",
          "2018-02-22T02:59:00",
          "2018-02-22T03:14:00",
          "2018-02-22T03:29:00",
          "2018-02-22T03:44:00",
          "2018-02-22T03:59:00",
          "2018-02-22T04:14:00",
          "2018-02-22T04:29:00",
          "2018-02-22T04:44:00",
          "2018-02-22T04:59:00",
          "2018-02-22T05:14:00",
          "2018-02-22T05:29:00",
          "2018-02-22T05:44:00",
          "2018-02-22T05:59:00",
          "2018-02-22T06:14:00",
          "2018-02-22T06:29:00",
          "2018-02-22T06:46:00",
          "2018-02-22T23:54:00",
          "2018-02-23T00:09:00",
          "2018-02-23T00:24:00",
          "2018-02-23T00:39:00",
          "2018-02-23T00:54:00",
          "2018-02-23T01:09:00",
          "2018-02-23T01:24:00",
          "2018-02-23T01:39:00",
          "2018-02-23T01:54:00",
          "2018-02-23T02:09:00",
          "2018-02-23T02:24:00",
          "2018-02-23T02:39:00",
          "2018-02-23T02:54:00",
          "2018-02-23T03:09:00",
          "2018-02-23T03:24:00",
          "2018-02-23T03:39:00",
          "2018-02-23T03:54:00",
          "2018-02-23T04:09:00",
          "2018-02-23T04:24:00",
          "2018-02-23T04:39:00",
          "2018-02-23T04:54:00",
          "2018-02-23T05:09:00",
          "2018-02-23T05:24:00",
          "2018-02-23T05:39:00",
          "2018-02-23T05:54:00",
          "2018-02-23T06:09:00",
          "2018-02-23T06:24:00",
          "2018-02-23T06:39:00",
          "2018-02-23T06:56:00",
          "2018-02-25T04:16:00",
          "2018-02-25T04:31:00",
          "2018-02-25T05:16:00",
          "2018-02-25T05:31:00",
          "2018-02-25T05:46:00",
          "2018-02-25T06:01:00",
          "2018-02-25T06:16:00",
          "2018-02-25T06:31:00",
          "2018-02-25T06:46:00",
          "2018-02-25T07:01:00",
          "2018-02-25T07:16:00",
          "2018-02-25T07:31:00",
          "2018-02-25T07:46:00",
          "2018-02-25T08:01:00",
          "2018-02-25T08:16:00",
          "2018-02-25T08:31:00",
          "2018-02-25T08:46:00",
          "2018-02-25T09:01:00",
          "2018-02-25T09:16:00",
          "2018-02-25T09:31:00",
          "2018-02-25T09:46:00",
          "2018-02-25T10:01:00",
          "2018-02-25T10:16:00",
          "2018-02-25T10:31:00",
          "2018-02-25T10:46:00",
          "2018-02-25T11:01:00",
          "2018-02-25T11:16:00",
          "2018-02-25T11:31:00",
          "2018-02-25T11:46:00",
          "2018-02-25T12:02:00",
          "2018-02-25T12:17:00",
          "2018-02-26T00:55:00",
          "2018-02-26T01:10:00",
          "2018-02-26T01:25:00",
          "2018-02-26T01:40:00",
          "2018-02-26T01:55:00",
          "2018-02-26T02:10:00",
          "2018-02-26T02:25:00",
          "2018-02-26T02:40:00",
          "2018-02-26T02:55:00",
          "2018-02-26T03:10:00",
          "2018-02-26T03:25:00",
          "2018-02-26T03:40:00",
          "2018-02-26T03:55:00",
          "2018-02-26T04:10:00",
          "2018-02-26T04:25:00",
          "2018-02-26T04:40:00",
          "2018-02-26T04:55:00",
          "2018-02-26T05:10:00",
          "2018-02-26T05:25:00",
          "2018-02-26T05:40:00",
          "2018-02-26T05:55:00",
          "2018-02-26T06:10:00",
          "2018-02-26T06:25:00",
          "2018-02-26T06:40:00",
          "2018-02-26T06:55:00",
          "2018-02-26T07:10:00",
          "2018-02-26T07:25:00",
          "2018-02-27T04:52:00",
          "2018-02-27T05:07:00",
          "2018-02-27T05:22:00",
          "2018-02-27T05:37:00",
          "2018-02-27T05:52:00",
          "2018-02-27T06:07:00",
          "2018-02-27T06:22:00",
          "2018-02-28T01:15:00",
          "2018-02-28T01:30:00",
          "2018-02-28T01:45:00",
          "2018-02-28T02:00:00",
          "2018-02-28T02:15:00",
          "2018-02-28T02:30:00",
          "2018-02-28T02:45:00",
          "2018-02-28T03:00:00",
          "2018-02-28T03:15:00",
          "2018-02-28T03:30:00",
          "2018-02-28T03:45:00",
          "2018-02-28T04:00:00",
          "2018-02-28T04:15:00",
          "2018-02-28T04:30:00",
          "2018-02-28T04:45:00",
          "2018-02-28T05:00:00",
          "2018-02-28T05:15:00",
          "2018-02-28T05:30:00",
          "2018-02-28T05:45:00",
          "2018-02-28T06:00:00",
          "2018-02-28T06:15:00",
          "2018-02-28T06:30:00",
          "2018-02-28T06:45:00",
          "2018-02-28T07:00:00",
          "2018-02-28T07:15:00",
          "2018-02-28T07:30:00",
          "2018-02-28T07:45:00",
          "2018-02-28T08:00:00",
          "2018-02-28T08:15:00",
          "2018-03-08T23:30:00",
          "2018-03-08T23:45:00",
          "2018-03-09T00:00:00",
          "2018-03-09T00:15:00",
          "2018-03-09T00:30:00",
          "2018-03-09T00:45:00",
          "2018-03-09T01:00:00",
          "2018-03-09T01:15:00",
          "2018-03-09T01:30:00",
          "2018-03-09T01:45:00",
          "2018-03-09T02:00:00",
          "2018-03-09T02:15:00",
          "2018-03-09T02:30:00",
          "2018-03-09T02:45:00",
          "2018-03-09T03:00:00",
          "2018-03-09T03:15:00",
          "2018-03-09T03:30:00",
          "2018-03-09T03:45:00",
          "2018-03-09T04:00:00",
          "2018-03-09T04:15:00",
          "2018-03-09T04:30:00",
          "2018-03-09T04:45:00",
          "2018-03-09T05:00:00",
          "2018-03-09T05:15:00",
          "2018-03-09T05:30:00",
          "2018-03-09T05:45:00",
          "2018-03-09T06:00:00",
          "2018-03-09T06:15:00",
          "2018-03-09T06:30:00",
          "2018-03-09T06:45:00",
          "2018-03-09T07:00:00"
         ],
         "xaxis": "x",
         "y": [
          98,
          100,
          105,
          101,
          96,
          99,
          111,
          116,
          116,
          114,
          107,
          97,
          95,
          89,
          70,
          67,
          83,
          87,
          77,
          70,
          66,
          64,
          63,
          62,
          63,
          61,
          58,
          61,
          82,
          83,
          87,
          88,
          87,
          85,
          81,
          75,
          71,
          66,
          62,
          58,
          53,
          46,
          49,
          53,
          58,
          63,
          60,
          53,
          54,
          61,
          59,
          60,
          62,
          64,
          90,
          88,
          90,
          92,
          90,
          88,
          86,
          84,
          83,
          80,
          73,
          65,
          63,
          67,
          69,
          70,
          69,
          66,
          65,
          66,
          68,
          68,
          69,
          70,
          68,
          65,
          64,
          63,
          63,
          62,
          60,
          66,
          71,
          72,
          68,
          66,
          67,
          67,
          65,
          63,
          61,
          62,
          65,
          67,
          65,
          65,
          64,
          61,
          61,
          62,
          64,
          63,
          61,
          61,
          63,
          65,
          65,
          66,
          70,
          70,
          74,
          77,
          80,
          86,
          82,
          71,
          73,
          77,
          76,
          76,
          75,
          71,
          63,
          59,
          58,
          58,
          59,
          60,
          59,
          56,
          56,
          58,
          59,
          60,
          61,
          61,
          63,
          67,
          82,
          85,
          87,
          85,
          80,
          78,
          82,
          79,
          71,
          67,
          65,
          65,
          63,
          60,
          56,
          54,
          57,
          59,
          60,
          60,
          61,
          62,
          60,
          59,
          60,
          87,
          90,
          91,
          86,
          81,
          76,
          72,
          66,
          61,
          57,
          56,
          55,
          55,
          54,
          54,
          54,
          56,
          57,
          56,
          55,
          55,
          55,
          55,
          55,
          57,
          56,
          55,
          55,
          57,
          90,
          81,
          69,
          62,
          60,
          64,
          73,
          79,
          81,
          76,
          68,
          64,
          61,
          58,
          57,
          56,
          55,
          54,
          56,
          56,
          57,
          57,
          56,
          57,
          59,
          57,
          57,
          59,
          62,
          47,
          50,
          51,
          50,
          51,
          53,
          54,
          54,
          53,
          53,
          58,
          58,
          55,
          53,
          53,
          55,
          58,
          58,
          60,
          67,
          71,
          67,
          62,
          58,
          56,
          56,
          58,
          60,
          62,
          61,
          58,
          90,
          85,
          78,
          73,
          69,
          62,
          59,
          57,
          55,
          50,
          47,
          48,
          52,
          54,
          54,
          55,
          55,
          53,
          54,
          58,
          56,
          56,
          57,
          54,
          52,
          52,
          53,
          51,
          49,
          50,
          49,
          47,
          47,
          49,
          66,
          59,
          58,
          68,
          76,
          76,
          76,
          76,
          74,
          71,
          63,
          58,
          55,
          51,
          50,
          51,
          53,
          55,
          57,
          57,
          55,
          54,
          54,
          54,
          53,
          53,
          55,
          55,
          53,
          79,
          80,
          86,
          88,
          84,
          81,
          79,
          74,
          70,
          65,
          61,
          58,
          54,
          48,
          48,
          53,
          60,
          64,
          65,
          65,
          63,
          62,
          63,
          63,
          64,
          66,
          65,
          62,
          59,
          60,
          62
         ],
         "yaxis": "y"
        }
       ],
       "layout": {
        "legend": {
         "tracegroupgap": 0
        },
        "template": {
         "data": {
          "bar": [
           {
            "error_x": {
             "color": "#2a3f5f"
            },
            "error_y": {
             "color": "#2a3f5f"
            },
            "marker": {
             "line": {
              "color": "#E5ECF6",
              "width": 0.5
             }
            },
            "type": "bar"
           }
          ],
          "barpolar": [
           {
            "marker": {
             "line": {
              "color": "#E5ECF6",
              "width": 0.5
             }
            },
            "type": "barpolar"
           }
          ],
          "carpet": [
           {
            "aaxis": {
             "endlinecolor": "#2a3f5f",
             "gridcolor": "white",
             "linecolor": "white",
             "minorgridcolor": "white",
             "startlinecolor": "#2a3f5f"
            },
            "baxis": {
             "endlinecolor": "#2a3f5f",
             "gridcolor": "white",
             "linecolor": "white",
             "minorgridcolor": "white",
             "startlinecolor": "#2a3f5f"
            },
            "type": "carpet"
           }
          ],
          "choropleth": [
           {
            "colorbar": {
             "outlinewidth": 0,
             "ticks": ""
            },
            "type": "choropleth"
           }
          ],
          "contour": [
           {
            "colorbar": {
             "outlinewidth": 0,
             "ticks": ""
            },
            "colorscale": [
             [
              0,
              "#0d0887"
             ],
             [
              0.1111111111111111,
              "#46039f"
             ],
             [
              0.2222222222222222,
              "#7201a8"
             ],
             [
              0.3333333333333333,
              "#9c179e"
             ],
             [
              0.4444444444444444,
              "#bd3786"
             ],
             [
              0.5555555555555556,
              "#d8576b"
             ],
             [
              0.6666666666666666,
              "#ed7953"
             ],
             [
              0.7777777777777778,
              "#fb9f3a"
             ],
             [
              0.8888888888888888,
              "#fdca26"
             ],
             [
              1,
              "#f0f921"
             ]
            ],
            "type": "contour"
           }
          ],
          "contourcarpet": [
           {
            "colorbar": {
             "outlinewidth": 0,
             "ticks": ""
            },
            "type": "contourcarpet"
           }
          ],
          "heatmap": [
           {
            "colorbar": {
             "outlinewidth": 0,
             "ticks": ""
            },
            "colorscale": [
             [
              0,
              "#0d0887"
             ],
             [
              0.1111111111111111,
              "#46039f"
             ],
             [
              0.2222222222222222,
              "#7201a8"
             ],
             [
              0.3333333333333333,
              "#9c179e"
             ],
             [
              0.4444444444444444,
              "#bd3786"
             ],
             [
              0.5555555555555556,
              "#d8576b"
             ],
             [
              0.6666666666666666,
              "#ed7953"
             ],
             [
              0.7777777777777778,
              "#fb9f3a"
             ],
             [
              0.8888888888888888,
              "#fdca26"
             ],
             [
              1,
              "#f0f921"
             ]
            ],
            "type": "heatmap"
           }
          ],
          "heatmapgl": [
           {
            "colorbar": {
             "outlinewidth": 0,
             "ticks": ""
            },
            "colorscale": [
             [
              0,
              "#0d0887"
             ],
             [
              0.1111111111111111,
              "#46039f"
             ],
             [
              0.2222222222222222,
              "#7201a8"
             ],
             [
              0.3333333333333333,
              "#9c179e"
             ],
             [
              0.4444444444444444,
              "#bd3786"
             ],
             [
              0.5555555555555556,
              "#d8576b"
             ],
             [
              0.6666666666666666,
              "#ed7953"
             ],
             [
              0.7777777777777778,
              "#fb9f3a"
             ],
             [
              0.8888888888888888,
              "#fdca26"
             ],
             [
              1,
              "#f0f921"
             ]
            ],
            "type": "heatmapgl"
           }
          ],
          "histogram": [
           {
            "marker": {
             "colorbar": {
              "outlinewidth": 0,
              "ticks": ""
             }
            },
            "type": "histogram"
           }
          ],
          "histogram2d": [
           {
            "colorbar": {
             "outlinewidth": 0,
             "ticks": ""
            },
            "colorscale": [
             [
              0,
              "#0d0887"
             ],
             [
              0.1111111111111111,
              "#46039f"
             ],
             [
              0.2222222222222222,
              "#7201a8"
             ],
             [
              0.3333333333333333,
              "#9c179e"
             ],
             [
              0.4444444444444444,
              "#bd3786"
             ],
             [
              0.5555555555555556,
              "#d8576b"
             ],
             [
              0.6666666666666666,
              "#ed7953"
             ],
             [
              0.7777777777777778,
              "#fb9f3a"
             ],
             [
              0.8888888888888888,
              "#fdca26"
             ],
             [
              1,
              "#f0f921"
             ]
            ],
            "type": "histogram2d"
           }
          ],
          "histogram2dcontour": [
           {
            "colorbar": {
             "outlinewidth": 0,
             "ticks": ""
            },
            "colorscale": [
             [
              0,
              "#0d0887"
             ],
             [
              0.1111111111111111,
              "#46039f"
             ],
             [
              0.2222222222222222,
              "#7201a8"
             ],
             [
              0.3333333333333333,
              "#9c179e"
             ],
             [
              0.4444444444444444,
              "#bd3786"
             ],
             [
              0.5555555555555556,
              "#d8576b"
             ],
             [
              0.6666666666666666,
              "#ed7953"
             ],
             [
              0.7777777777777778,
              "#fb9f3a"
             ],
             [
              0.8888888888888888,
              "#fdca26"
             ],
             [
              1,
              "#f0f921"
             ]
            ],
            "type": "histogram2dcontour"
           }
          ],
          "mesh3d": [
           {
            "colorbar": {
             "outlinewidth": 0,
             "ticks": ""
            },
            "type": "mesh3d"
           }
          ],
          "parcoords": [
           {
            "line": {
             "colorbar": {
              "outlinewidth": 0,
              "ticks": ""
             }
            },
            "type": "parcoords"
           }
          ],
          "pie": [
           {
            "automargin": true,
            "type": "pie"
           }
          ],
          "scatter": [
           {
            "marker": {
             "colorbar": {
              "outlinewidth": 0,
              "ticks": ""
             }
            },
            "type": "scatter"
           }
          ],
          "scatter3d": [
           {
            "line": {
             "colorbar": {
              "outlinewidth": 0,
              "ticks": ""
             }
            },
            "marker": {
             "colorbar": {
              "outlinewidth": 0,
              "ticks": ""
             }
            },
            "type": "scatter3d"
           }
          ],
          "scattercarpet": [
           {
            "marker": {
             "colorbar": {
              "outlinewidth": 0,
              "ticks": ""
             }
            },
            "type": "scattercarpet"
           }
          ],
          "scattergeo": [
           {
            "marker": {
             "colorbar": {
              "outlinewidth": 0,
              "ticks": ""
             }
            },
            "type": "scattergeo"
           }
          ],
          "scattergl": [
           {
            "marker": {
             "colorbar": {
              "outlinewidth": 0,
              "ticks": ""
             }
            },
            "type": "scattergl"
           }
          ],
          "scattermapbox": [
           {
            "marker": {
             "colorbar": {
              "outlinewidth": 0,
              "ticks": ""
             }
            },
            "type": "scattermapbox"
           }
          ],
          "scatterpolar": [
           {
            "marker": {
             "colorbar": {
              "outlinewidth": 0,
              "ticks": ""
             }
            },
            "type": "scatterpolar"
           }
          ],
          "scatterpolargl": [
           {
            "marker": {
             "colorbar": {
              "outlinewidth": 0,
              "ticks": ""
             }
            },
            "type": "scatterpolargl"
           }
          ],
          "scatterternary": [
           {
            "marker": {
             "colorbar": {
              "outlinewidth": 0,
              "ticks": ""
             }
            },
            "type": "scatterternary"
           }
          ],
          "surface": [
           {
            "colorbar": {
             "outlinewidth": 0,
             "ticks": ""
            },
            "colorscale": [
             [
              0,
              "#0d0887"
             ],
             [
              0.1111111111111111,
              "#46039f"
             ],
             [
              0.2222222222222222,
              "#7201a8"
             ],
             [
              0.3333333333333333,
              "#9c179e"
             ],
             [
              0.4444444444444444,
              "#bd3786"
             ],
             [
              0.5555555555555556,
              "#d8576b"
             ],
             [
              0.6666666666666666,
              "#ed7953"
             ],
             [
              0.7777777777777778,
              "#fb9f3a"
             ],
             [
              0.8888888888888888,
              "#fdca26"
             ],
             [
              1,
              "#f0f921"
             ]
            ],
            "type": "surface"
           }
          ],
          "table": [
           {
            "cells": {
             "fill": {
              "color": "#EBF0F8"
             },
             "line": {
              "color": "white"
             }
            },
            "header": {
             "fill": {
              "color": "#C8D4E3"
             },
             "line": {
              "color": "white"
             }
            },
            "type": "table"
           }
          ]
         },
         "layout": {
          "annotationdefaults": {
           "arrowcolor": "#2a3f5f",
           "arrowhead": 0,
           "arrowwidth": 1
          },
          "coloraxis": {
           "colorbar": {
            "outlinewidth": 0,
            "ticks": ""
           }
          },
          "colorscale": {
           "diverging": [
            [
             0,
             "#8e0152"
            ],
            [
             0.1,
             "#c51b7d"
            ],
            [
             0.2,
             "#de77ae"
            ],
            [
             0.3,
             "#f1b6da"
            ],
            [
             0.4,
             "#fde0ef"
            ],
            [
             0.5,
             "#f7f7f7"
            ],
            [
             0.6,
             "#e6f5d0"
            ],
            [
             0.7,
             "#b8e186"
            ],
            [
             0.8,
             "#7fbc41"
            ],
            [
             0.9,
             "#4d9221"
            ],
            [
             1,
             "#276419"
            ]
           ],
           "sequential": [
            [
             0,
             "#0d0887"
            ],
            [
             0.1111111111111111,
             "#46039f"
            ],
            [
             0.2222222222222222,
             "#7201a8"
            ],
            [
             0.3333333333333333,
             "#9c179e"
            ],
            [
             0.4444444444444444,
             "#bd3786"
            ],
            [
             0.5555555555555556,
             "#d8576b"
            ],
            [
             0.6666666666666666,
             "#ed7953"
            ],
            [
             0.7777777777777778,
             "#fb9f3a"
            ],
            [
             0.8888888888888888,
             "#fdca26"
            ],
            [
             1,
             "#f0f921"
            ]
           ],
           "sequentialminus": [
            [
             0,
             "#0d0887"
            ],
            [
             0.1111111111111111,
             "#46039f"
            ],
            [
             0.2222222222222222,
             "#7201a8"
            ],
            [
             0.3333333333333333,
             "#9c179e"
            ],
            [
             0.4444444444444444,
             "#bd3786"
            ],
            [
             0.5555555555555556,
             "#d8576b"
            ],
            [
             0.6666666666666666,
             "#ed7953"
            ],
            [
             0.7777777777777778,
             "#fb9f3a"
            ],
            [
             0.8888888888888888,
             "#fdca26"
            ],
            [
             1,
             "#f0f921"
            ]
           ]
          },
          "colorway": [
           "#636efa",
           "#EF553B",
           "#00cc96",
           "#ab63fa",
           "#FFA15A",
           "#19d3f3",
           "#FF6692",
           "#B6E880",
           "#FF97FF",
           "#FECB52"
          ],
          "font": {
           "color": "#2a3f5f"
          },
          "geo": {
           "bgcolor": "white",
           "lakecolor": "white",
           "landcolor": "#E5ECF6",
           "showlakes": true,
           "showland": true,
           "subunitcolor": "white"
          },
          "hoverlabel": {
           "align": "left"
          },
          "hovermode": "closest",
          "mapbox": {
           "style": "light"
          },
          "paper_bgcolor": "white",
          "plot_bgcolor": "#E5ECF6",
          "polar": {
           "angularaxis": {
            "gridcolor": "white",
            "linecolor": "white",
            "ticks": ""
           },
           "bgcolor": "#E5ECF6",
           "radialaxis": {
            "gridcolor": "white",
            "linecolor": "white",
            "ticks": ""
           }
          },
          "scene": {
           "xaxis": {
            "backgroundcolor": "#E5ECF6",
            "gridcolor": "white",
            "gridwidth": 2,
            "linecolor": "white",
            "showbackground": true,
            "ticks": "",
            "zerolinecolor": "white"
           },
           "yaxis": {
            "backgroundcolor": "#E5ECF6",
            "gridcolor": "white",
            "gridwidth": 2,
            "linecolor": "white",
            "showbackground": true,
            "ticks": "",
            "zerolinecolor": "white"
           },
           "zaxis": {
            "backgroundcolor": "#E5ECF6",
            "gridcolor": "white",
            "gridwidth": 2,
            "linecolor": "white",
            "showbackground": true,
            "ticks": "",
            "zerolinecolor": "white"
           }
          },
          "shapedefaults": {
           "line": {
            "color": "#2a3f5f"
           }
          },
          "ternary": {
           "aaxis": {
            "gridcolor": "white",
            "linecolor": "white",
            "ticks": ""
           },
           "baxis": {
            "gridcolor": "white",
            "linecolor": "white",
            "ticks": ""
           },
           "bgcolor": "#E5ECF6",
           "caxis": {
            "gridcolor": "white",
            "linecolor": "white",
            "ticks": ""
           }
          },
          "title": {
           "x": 0.05
          },
          "xaxis": {
           "automargin": true,
           "gridcolor": "white",
           "linecolor": "white",
           "ticks": "",
           "title": {
            "standoff": 15
           },
           "zerolinecolor": "white",
           "zerolinewidth": 2
          },
          "yaxis": {
           "automargin": true,
           "gridcolor": "white",
           "linecolor": "white",
           "ticks": "",
           "title": {
            "standoff": 15
           },
           "zerolinecolor": "white",
           "zerolinewidth": 2
          }
         }
        },
        "title": {
         "text": "CGM"
        },
        "xaxis": {
         "anchor": "y",
         "domain": [
          0,
          1
         ],
         "title": {
          "text": "Date"
         }
        },
        "yaxis": {
         "anchor": "x",
         "domain": [
          0,
          1
         ],
         "title": {
          "text": "GlucoseValue"
         }
        }
       }
      },
      "text/html": [
       "<div>\n",
       "        \n",
       "        \n",
       "            <div id=\"1616dd54-f576-4435-995f-54728eac113b\" class=\"plotly-graph-div\" style=\"height:525px; width:100%;\"></div>\n",
       "            <script type=\"text/javascript\">\n",
       "                require([\"plotly\"], function(Plotly) {\n",
       "                    window.PLOTLYENV=window.PLOTLYENV || {};\n",
       "                    \n",
       "                if (document.getElementById(\"1616dd54-f576-4435-995f-54728eac113b\")) {\n",
       "                    Plotly.newPlot(\n",
       "                        '1616dd54-f576-4435-995f-54728eac113b',\n",
       "                        [{\"hoverlabel\": {\"namelength\": 0}, \"hovertemplate\": \"Date=%{x}<br>GlucoseValue=%{y}\", \"legendgroup\": \"\", \"line\": {\"color\": \"#636efa\", \"dash\": \"solid\"}, \"mode\": \"lines\", \"name\": \"\", \"showlegend\": false, \"type\": \"scatter\", \"x\": [\"2018-02-16T00:43:00\", \"2018-02-16T00:58:00\", \"2018-02-16T01:13:00\", \"2018-02-16T01:28:00\", \"2018-02-16T01:43:00\", \"2018-02-16T01:58:00\", \"2018-02-16T02:13:00\", \"2018-02-16T02:28:00\", \"2018-02-16T02:43:00\", \"2018-02-16T02:58:00\", \"2018-02-16T03:13:00\", \"2018-02-16T03:28:00\", \"2018-02-16T03:43:00\", \"2018-02-16T03:58:00\", \"2018-02-16T04:13:00\", \"2018-02-16T04:28:00\", \"2018-02-16T04:43:00\", \"2018-02-16T04:58:00\", \"2018-02-16T05:13:00\", \"2018-02-16T05:28:00\", \"2018-02-16T05:43:00\", \"2018-02-16T05:58:00\", \"2018-02-16T06:13:00\", \"2018-02-16T06:28:00\", \"2018-02-16T06:43:00\", \"2018-02-16T06:58:00\", \"2018-02-16T07:13:00\", \"2018-02-16T07:28:00\", \"2018-02-17T00:53:00\", \"2018-02-17T01:08:00\", \"2018-02-17T01:23:00\", \"2018-02-17T01:38:00\", \"2018-02-17T01:53:00\", \"2018-02-17T02:08:00\", \"2018-02-17T02:23:00\", \"2018-02-17T02:38:00\", \"2018-02-17T02:53:00\", \"2018-02-17T03:08:00\", \"2018-02-17T03:23:00\", \"2018-02-17T03:38:00\", \"2018-02-17T03:53:00\", \"2018-02-17T04:08:00\", \"2018-02-17T04:23:00\", \"2018-02-17T04:38:00\", \"2018-02-17T04:53:00\", \"2018-02-17T05:08:00\", \"2018-02-17T05:23:00\", \"2018-02-17T05:38:00\", \"2018-02-17T05:53:00\", \"2018-02-17T06:08:00\", \"2018-02-17T06:23:00\", \"2018-02-17T06:38:00\", \"2018-02-17T06:53:00\", \"2018-02-17T07:09:00\", \"2018-02-17T23:48:00\", \"2018-02-18T00:03:00\", \"2018-02-18T00:18:00\", \"2018-02-18T00:33:00\", \"2018-02-18T00:48:00\", \"2018-02-18T01:03:00\", \"2018-02-18T01:18:00\", \"2018-02-18T01:33:00\", \"2018-02-18T01:48:00\", \"2018-02-18T02:03:00\", \"2018-02-18T02:18:00\", \"2018-02-18T02:33:00\", \"2018-02-18T02:48:00\", \"2018-02-18T03:03:00\", \"2018-02-18T03:18:00\", \"2018-02-18T03:33:00\", \"2018-02-18T03:48:00\", \"2018-02-18T04:03:00\", \"2018-02-18T04:18:00\", \"2018-02-18T04:33:00\", \"2018-02-18T04:48:00\", \"2018-02-18T05:03:00\", \"2018-02-18T05:18:00\", \"2018-02-18T05:33:00\", \"2018-02-18T05:48:00\", \"2018-02-18T06:03:00\", \"2018-02-18T06:18:00\", \"2018-02-18T06:33:00\", \"2018-02-18T06:48:00\", \"2018-02-18T07:03:00\", \"2018-02-18T07:18:00\", \"2018-02-19T00:43:00\", \"2018-02-19T00:58:00\", \"2018-02-19T01:13:00\", \"2018-02-19T01:28:00\", \"2018-02-19T01:43:00\", \"2018-02-19T01:58:00\", \"2018-02-19T02:13:00\", \"2018-02-19T02:28:00\", \"2018-02-19T02:43:00\", \"2018-02-19T02:58:00\", \"2018-02-19T03:13:00\", \"2018-02-19T03:28:00\", \"2018-02-19T03:43:00\", \"2018-02-19T03:58:00\", \"2018-02-19T04:13:00\", \"2018-02-19T04:28:00\", \"2018-02-19T04:43:00\", \"2018-02-19T04:58:00\", \"2018-02-19T05:13:00\", \"2018-02-19T05:28:00\", \"2018-02-19T05:43:00\", \"2018-02-19T05:58:00\", \"2018-02-19T06:13:00\", \"2018-02-19T06:28:00\", \"2018-02-19T06:43:00\", \"2018-02-19T06:58:00\", \"2018-02-19T07:15:00\", \"2018-02-20T00:23:00\", \"2018-02-20T00:38:00\", \"2018-02-20T00:53:00\", \"2018-02-20T01:08:00\", \"2018-02-20T01:23:00\", \"2018-02-20T01:38:00\", \"2018-02-20T01:53:00\", \"2018-02-20T02:08:00\", \"2018-02-20T02:23:00\", \"2018-02-20T02:38:00\", \"2018-02-20T02:53:00\", \"2018-02-20T03:08:00\", \"2018-02-20T03:23:00\", \"2018-02-20T03:38:00\", \"2018-02-20T03:53:00\", \"2018-02-20T04:08:00\", \"2018-02-20T04:23:00\", \"2018-02-20T04:38:00\", \"2018-02-20T04:53:00\", \"2018-02-20T05:08:00\", \"2018-02-20T05:23:00\", \"2018-02-20T05:38:00\", \"2018-02-20T05:53:00\", \"2018-02-20T06:08:00\", \"2018-02-20T06:23:00\", \"2018-02-20T06:38:00\", \"2018-02-20T06:53:00\", \"2018-02-20T07:08:00\", \"2018-02-20T07:23:00\", \"2018-02-20T07:41:00\", \"2018-02-21T01:18:00\", \"2018-02-21T01:33:00\", \"2018-02-21T01:48:00\", \"2018-02-21T02:03:00\", \"2018-02-21T02:18:00\", \"2018-02-21T02:33:00\", \"2018-02-21T02:48:00\", \"2018-02-21T03:03:00\", \"2018-02-21T03:18:00\", \"2018-02-21T03:33:00\", \"2018-02-21T03:48:00\", \"2018-02-21T04:03:00\", \"2018-02-21T04:18:00\", \"2018-02-21T04:33:00\", \"2018-02-21T04:48:00\", \"2018-02-21T05:03:00\", \"2018-02-21T05:18:00\", \"2018-02-21T05:33:00\", \"2018-02-21T05:48:00\", \"2018-02-21T06:03:00\", \"2018-02-21T06:18:00\", \"2018-02-21T06:33:00\", \"2018-02-21T06:48:00\", \"2018-02-21T07:03:00\", \"2018-02-21T07:18:00\", \"2018-02-21T23:44:00\", \"2018-02-21T23:59:00\", \"2018-02-22T00:14:00\", \"2018-02-22T00:29:00\", \"2018-02-22T00:44:00\", \"2018-02-22T00:59:00\", \"2018-02-22T01:14:00\", \"2018-02-22T01:29:00\", \"2018-02-22T01:44:00\", \"2018-02-22T01:59:00\", \"2018-02-22T02:14:00\", \"2018-02-22T02:29:00\", \"2018-02-22T02:44:00\", \"2018-02-22T02:59:00\", \"2018-02-22T03:14:00\", \"2018-02-22T03:29:00\", \"2018-02-22T03:44:00\", \"2018-02-22T03:59:00\", \"2018-02-22T04:14:00\", \"2018-02-22T04:29:00\", \"2018-02-22T04:44:00\", \"2018-02-22T04:59:00\", \"2018-02-22T05:14:00\", \"2018-02-22T05:29:00\", \"2018-02-22T05:44:00\", \"2018-02-22T05:59:00\", \"2018-02-22T06:14:00\", \"2018-02-22T06:29:00\", \"2018-02-22T06:46:00\", \"2018-02-22T23:54:00\", \"2018-02-23T00:09:00\", \"2018-02-23T00:24:00\", \"2018-02-23T00:39:00\", \"2018-02-23T00:54:00\", \"2018-02-23T01:09:00\", \"2018-02-23T01:24:00\", \"2018-02-23T01:39:00\", \"2018-02-23T01:54:00\", \"2018-02-23T02:09:00\", \"2018-02-23T02:24:00\", \"2018-02-23T02:39:00\", \"2018-02-23T02:54:00\", \"2018-02-23T03:09:00\", \"2018-02-23T03:24:00\", \"2018-02-23T03:39:00\", \"2018-02-23T03:54:00\", \"2018-02-23T04:09:00\", \"2018-02-23T04:24:00\", \"2018-02-23T04:39:00\", \"2018-02-23T04:54:00\", \"2018-02-23T05:09:00\", \"2018-02-23T05:24:00\", \"2018-02-23T05:39:00\", \"2018-02-23T05:54:00\", \"2018-02-23T06:09:00\", \"2018-02-23T06:24:00\", \"2018-02-23T06:39:00\", \"2018-02-23T06:56:00\", \"2018-02-25T04:16:00\", \"2018-02-25T04:31:00\", \"2018-02-25T05:16:00\", \"2018-02-25T05:31:00\", \"2018-02-25T05:46:00\", \"2018-02-25T06:01:00\", \"2018-02-25T06:16:00\", \"2018-02-25T06:31:00\", \"2018-02-25T06:46:00\", \"2018-02-25T07:01:00\", \"2018-02-25T07:16:00\", \"2018-02-25T07:31:00\", \"2018-02-25T07:46:00\", \"2018-02-25T08:01:00\", \"2018-02-25T08:16:00\", \"2018-02-25T08:31:00\", \"2018-02-25T08:46:00\", \"2018-02-25T09:01:00\", \"2018-02-25T09:16:00\", \"2018-02-25T09:31:00\", \"2018-02-25T09:46:00\", \"2018-02-25T10:01:00\", \"2018-02-25T10:16:00\", \"2018-02-25T10:31:00\", \"2018-02-25T10:46:00\", \"2018-02-25T11:01:00\", \"2018-02-25T11:16:00\", \"2018-02-25T11:31:00\", \"2018-02-25T11:46:00\", \"2018-02-25T12:02:00\", \"2018-02-25T12:17:00\", \"2018-02-26T00:55:00\", \"2018-02-26T01:10:00\", \"2018-02-26T01:25:00\", \"2018-02-26T01:40:00\", \"2018-02-26T01:55:00\", \"2018-02-26T02:10:00\", \"2018-02-26T02:25:00\", \"2018-02-26T02:40:00\", \"2018-02-26T02:55:00\", \"2018-02-26T03:10:00\", \"2018-02-26T03:25:00\", \"2018-02-26T03:40:00\", \"2018-02-26T03:55:00\", \"2018-02-26T04:10:00\", \"2018-02-26T04:25:00\", \"2018-02-26T04:40:00\", \"2018-02-26T04:55:00\", \"2018-02-26T05:10:00\", \"2018-02-26T05:25:00\", \"2018-02-26T05:40:00\", \"2018-02-26T05:55:00\", \"2018-02-26T06:10:00\", \"2018-02-26T06:25:00\", \"2018-02-26T06:40:00\", \"2018-02-26T06:55:00\", \"2018-02-26T07:10:00\", \"2018-02-26T07:25:00\", \"2018-02-27T04:52:00\", \"2018-02-27T05:07:00\", \"2018-02-27T05:22:00\", \"2018-02-27T05:37:00\", \"2018-02-27T05:52:00\", \"2018-02-27T06:07:00\", \"2018-02-27T06:22:00\", \"2018-02-28T01:15:00\", \"2018-02-28T01:30:00\", \"2018-02-28T01:45:00\", \"2018-02-28T02:00:00\", \"2018-02-28T02:15:00\", \"2018-02-28T02:30:00\", \"2018-02-28T02:45:00\", \"2018-02-28T03:00:00\", \"2018-02-28T03:15:00\", \"2018-02-28T03:30:00\", \"2018-02-28T03:45:00\", \"2018-02-28T04:00:00\", \"2018-02-28T04:15:00\", \"2018-02-28T04:30:00\", \"2018-02-28T04:45:00\", \"2018-02-28T05:00:00\", \"2018-02-28T05:15:00\", \"2018-02-28T05:30:00\", \"2018-02-28T05:45:00\", \"2018-02-28T06:00:00\", \"2018-02-28T06:15:00\", \"2018-02-28T06:30:00\", \"2018-02-28T06:45:00\", \"2018-02-28T07:00:00\", \"2018-02-28T07:15:00\", \"2018-02-28T07:30:00\", \"2018-02-28T07:45:00\", \"2018-02-28T08:00:00\", \"2018-02-28T08:15:00\", \"2018-03-08T23:30:00\", \"2018-03-08T23:45:00\", \"2018-03-09T00:00:00\", \"2018-03-09T00:15:00\", \"2018-03-09T00:30:00\", \"2018-03-09T00:45:00\", \"2018-03-09T01:00:00\", \"2018-03-09T01:15:00\", \"2018-03-09T01:30:00\", \"2018-03-09T01:45:00\", \"2018-03-09T02:00:00\", \"2018-03-09T02:15:00\", \"2018-03-09T02:30:00\", \"2018-03-09T02:45:00\", \"2018-03-09T03:00:00\", \"2018-03-09T03:15:00\", \"2018-03-09T03:30:00\", \"2018-03-09T03:45:00\", \"2018-03-09T04:00:00\", \"2018-03-09T04:15:00\", \"2018-03-09T04:30:00\", \"2018-03-09T04:45:00\", \"2018-03-09T05:00:00\", \"2018-03-09T05:15:00\", \"2018-03-09T05:30:00\", \"2018-03-09T05:45:00\", \"2018-03-09T06:00:00\", \"2018-03-09T06:15:00\", \"2018-03-09T06:30:00\", \"2018-03-09T06:45:00\", \"2018-03-09T07:00:00\"], \"xaxis\": \"x\", \"y\": [98.0, 100.0, 105.0, 101.0, 96.0, 99.0, 111.0, 116.0, 116.0, 114.0, 107.0, 97.0, 95.0, 89.0, 70.0, 67.0, 83.0, 87.0, 77.0, 70.0, 66.0, 64.0, 63.0, 62.0, 63.0, 61.0, 58.0, 61.0, 82.0, 83.0, 87.0, 88.0, 87.0, 85.0, 81.0, 75.0, 71.0, 66.0, 62.0, 58.0, 53.0, 46.0, 49.0, 53.0, 58.0, 63.0, 60.0, 53.0, 54.0, 61.0, 59.0, 60.0, 62.0, 64.0, 90.0, 88.0, 90.0, 92.0, 90.0, 88.0, 86.0, 84.0, 83.0, 80.0, 73.0, 65.0, 63.0, 67.0, 69.0, 70.0, 69.0, 66.0, 65.0, 66.0, 68.0, 68.0, 69.0, 70.0, 68.0, 65.0, 64.0, 63.0, 63.0, 62.0, 60.0, 66.0, 71.0, 72.0, 68.0, 66.0, 67.0, 67.0, 65.0, 63.0, 61.0, 62.0, 65.0, 67.0, 65.0, 65.0, 64.0, 61.0, 61.0, 62.0, 64.0, 63.0, 61.0, 61.0, 63.0, 65.0, 65.0, 66.0, 70.0, 70.0, 74.0, 77.0, 80.0, 86.0, 82.0, 71.0, 73.0, 77.0, 76.0, 76.0, 75.0, 71.0, 63.0, 59.0, 58.0, 58.0, 59.0, 60.0, 59.0, 56.0, 56.0, 58.0, 59.0, 60.0, 61.0, 61.0, 63.0, 67.0, 82.0, 85.0, 87.0, 85.0, 80.0, 78.0, 82.0, 79.0, 71.0, 67.0, 65.0, 65.0, 63.0, 60.0, 56.0, 54.0, 57.0, 59.0, 60.0, 60.0, 61.0, 62.0, 60.0, 59.0, 60.0, 87.0, 90.0, 91.0, 86.0, 81.0, 76.0, 72.0, 66.0, 61.0, 57.0, 56.0, 55.0, 55.0, 54.0, 54.0, 54.0, 56.0, 57.0, 56.0, 55.0, 55.0, 55.0, 55.0, 55.0, 57.0, 56.0, 55.0, 55.0, 57.0, 90.0, 81.0, 69.0, 62.0, 60.0, 64.0, 73.0, 79.0, 81.0, 76.0, 68.0, 64.0, 61.0, 58.0, 57.0, 56.0, 55.0, 54.0, 56.0, 56.0, 57.0, 57.0, 56.0, 57.0, 59.0, 57.0, 57.0, 59.0, 62.0, 47.0, 50.0, 51.0, 50.0, 51.0, 53.0, 54.0, 54.0, 53.0, 53.0, 58.0, 58.0, 55.0, 53.0, 53.0, 55.0, 58.0, 58.0, 60.0, 67.0, 71.0, 67.0, 62.0, 58.0, 56.0, 56.0, 58.0, 60.0, 62.0, 61.0, 58.0, 90.0, 85.0, 78.0, 73.0, 69.0, 62.0, 59.0, 57.0, 55.0, 50.0, 47.0, 48.0, 52.0, 54.0, 54.0, 55.0, 55.0, 53.0, 54.0, 58.0, 56.0, 56.0, 57.0, 54.0, 52.0, 52.0, 53.0, 51.0, 49.0, 50.0, 49.0, 47.0, 47.0, 49.0, 66.0, 59.0, 58.0, 68.0, 76.0, 76.0, 76.0, 76.0, 74.0, 71.0, 63.0, 58.0, 55.0, 51.0, 50.0, 51.0, 53.0, 55.0, 57.0, 57.0, 55.0, 54.0, 54.0, 54.0, 53.0, 53.0, 55.0, 55.0, 53.0, 79.0, 80.0, 86.0, 88.0, 84.0, 81.0, 79.0, 74.0, 70.0, 65.0, 61.0, 58.0, 54.0, 48.0, 48.0, 53.0, 60.0, 64.0, 65.0, 65.0, 63.0, 62.0, 63.0, 63.0, 64.0, 66.0, 65.0, 62.0, 59.0, 60.0, 62.0], \"yaxis\": \"y\"}],\n",
       "                        {\"legend\": {\"tracegroupgap\": 0}, \"template\": {\"data\": {\"bar\": [{\"error_x\": {\"color\": \"#2a3f5f\"}, \"error_y\": {\"color\": \"#2a3f5f\"}, \"marker\": {\"line\": {\"color\": \"#E5ECF6\", \"width\": 0.5}}, \"type\": \"bar\"}], \"barpolar\": [{\"marker\": {\"line\": {\"color\": \"#E5ECF6\", \"width\": 0.5}}, \"type\": \"barpolar\"}], \"carpet\": [{\"aaxis\": {\"endlinecolor\": \"#2a3f5f\", \"gridcolor\": \"white\", \"linecolor\": \"white\", \"minorgridcolor\": \"white\", \"startlinecolor\": \"#2a3f5f\"}, \"baxis\": {\"endlinecolor\": \"#2a3f5f\", \"gridcolor\": \"white\", \"linecolor\": \"white\", \"minorgridcolor\": \"white\", \"startlinecolor\": \"#2a3f5f\"}, \"type\": \"carpet\"}], \"choropleth\": [{\"colorbar\": {\"outlinewidth\": 0, \"ticks\": \"\"}, \"type\": \"choropleth\"}], \"contour\": [{\"colorbar\": {\"outlinewidth\": 0, \"ticks\": \"\"}, \"colorscale\": [[0.0, \"#0d0887\"], [0.1111111111111111, \"#46039f\"], [0.2222222222222222, \"#7201a8\"], [0.3333333333333333, \"#9c179e\"], [0.4444444444444444, \"#bd3786\"], [0.5555555555555556, \"#d8576b\"], [0.6666666666666666, \"#ed7953\"], [0.7777777777777778, \"#fb9f3a\"], [0.8888888888888888, \"#fdca26\"], [1.0, \"#f0f921\"]], \"type\": \"contour\"}], \"contourcarpet\": [{\"colorbar\": {\"outlinewidth\": 0, \"ticks\": \"\"}, \"type\": \"contourcarpet\"}], \"heatmap\": [{\"colorbar\": {\"outlinewidth\": 0, \"ticks\": \"\"}, \"colorscale\": [[0.0, \"#0d0887\"], [0.1111111111111111, \"#46039f\"], [0.2222222222222222, \"#7201a8\"], [0.3333333333333333, \"#9c179e\"], [0.4444444444444444, \"#bd3786\"], [0.5555555555555556, \"#d8576b\"], [0.6666666666666666, \"#ed7953\"], [0.7777777777777778, \"#fb9f3a\"], [0.8888888888888888, \"#fdca26\"], [1.0, \"#f0f921\"]], \"type\": \"heatmap\"}], \"heatmapgl\": [{\"colorbar\": {\"outlinewidth\": 0, \"ticks\": \"\"}, \"colorscale\": [[0.0, \"#0d0887\"], [0.1111111111111111, \"#46039f\"], [0.2222222222222222, \"#7201a8\"], [0.3333333333333333, \"#9c179e\"], [0.4444444444444444, \"#bd3786\"], [0.5555555555555556, \"#d8576b\"], [0.6666666666666666, \"#ed7953\"], [0.7777777777777778, \"#fb9f3a\"], [0.8888888888888888, \"#fdca26\"], [1.0, \"#f0f921\"]], \"type\": \"heatmapgl\"}], \"histogram\": [{\"marker\": {\"colorbar\": {\"outlinewidth\": 0, \"ticks\": \"\"}}, \"type\": \"histogram\"}], \"histogram2d\": [{\"colorbar\": {\"outlinewidth\": 0, \"ticks\": \"\"}, \"colorscale\": [[0.0, \"#0d0887\"], [0.1111111111111111, \"#46039f\"], [0.2222222222222222, \"#7201a8\"], [0.3333333333333333, \"#9c179e\"], [0.4444444444444444, \"#bd3786\"], [0.5555555555555556, \"#d8576b\"], [0.6666666666666666, \"#ed7953\"], [0.7777777777777778, \"#fb9f3a\"], [0.8888888888888888, \"#fdca26\"], [1.0, \"#f0f921\"]], \"type\": \"histogram2d\"}], \"histogram2dcontour\": [{\"colorbar\": {\"outlinewidth\": 0, \"ticks\": \"\"}, \"colorscale\": [[0.0, \"#0d0887\"], [0.1111111111111111, \"#46039f\"], [0.2222222222222222, \"#7201a8\"], [0.3333333333333333, \"#9c179e\"], [0.4444444444444444, \"#bd3786\"], [0.5555555555555556, \"#d8576b\"], [0.6666666666666666, \"#ed7953\"], [0.7777777777777778, \"#fb9f3a\"], [0.8888888888888888, \"#fdca26\"], [1.0, \"#f0f921\"]], \"type\": \"histogram2dcontour\"}], \"mesh3d\": [{\"colorbar\": {\"outlinewidth\": 0, \"ticks\": \"\"}, \"type\": \"mesh3d\"}], \"parcoords\": [{\"line\": {\"colorbar\": {\"outlinewidth\": 0, \"ticks\": \"\"}}, \"type\": \"parcoords\"}], \"pie\": [{\"automargin\": true, \"type\": \"pie\"}], \"scatter\": [{\"marker\": {\"colorbar\": {\"outlinewidth\": 0, \"ticks\": \"\"}}, \"type\": \"scatter\"}], \"scatter3d\": [{\"line\": {\"colorbar\": {\"outlinewidth\": 0, \"ticks\": \"\"}}, \"marker\": {\"colorbar\": {\"outlinewidth\": 0, \"ticks\": \"\"}}, \"type\": \"scatter3d\"}], \"scattercarpet\": [{\"marker\": {\"colorbar\": {\"outlinewidth\": 0, \"ticks\": \"\"}}, \"type\": \"scattercarpet\"}], \"scattergeo\": [{\"marker\": {\"colorbar\": {\"outlinewidth\": 0, \"ticks\": \"\"}}, \"type\": \"scattergeo\"}], \"scattergl\": [{\"marker\": {\"colorbar\": {\"outlinewidth\": 0, \"ticks\": \"\"}}, \"type\": \"scattergl\"}], \"scattermapbox\": [{\"marker\": {\"colorbar\": {\"outlinewidth\": 0, \"ticks\": \"\"}}, \"type\": \"scattermapbox\"}], \"scatterpolar\": [{\"marker\": {\"colorbar\": {\"outlinewidth\": 0, \"ticks\": \"\"}}, \"type\": \"scatterpolar\"}], \"scatterpolargl\": [{\"marker\": {\"colorbar\": {\"outlinewidth\": 0, \"ticks\": \"\"}}, \"type\": \"scatterpolargl\"}], \"scatterternary\": [{\"marker\": {\"colorbar\": {\"outlinewidth\": 0, \"ticks\": \"\"}}, \"type\": \"scatterternary\"}], \"surface\": [{\"colorbar\": {\"outlinewidth\": 0, \"ticks\": \"\"}, \"colorscale\": [[0.0, \"#0d0887\"], [0.1111111111111111, \"#46039f\"], [0.2222222222222222, \"#7201a8\"], [0.3333333333333333, \"#9c179e\"], [0.4444444444444444, \"#bd3786\"], [0.5555555555555556, \"#d8576b\"], [0.6666666666666666, \"#ed7953\"], [0.7777777777777778, \"#fb9f3a\"], [0.8888888888888888, \"#fdca26\"], [1.0, \"#f0f921\"]], \"type\": \"surface\"}], \"table\": [{\"cells\": {\"fill\": {\"color\": \"#EBF0F8\"}, \"line\": {\"color\": \"white\"}}, \"header\": {\"fill\": {\"color\": \"#C8D4E3\"}, \"line\": {\"color\": \"white\"}}, \"type\": \"table\"}]}, \"layout\": {\"annotationdefaults\": {\"arrowcolor\": \"#2a3f5f\", \"arrowhead\": 0, \"arrowwidth\": 1}, \"coloraxis\": {\"colorbar\": {\"outlinewidth\": 0, \"ticks\": \"\"}}, \"colorscale\": {\"diverging\": [[0, \"#8e0152\"], [0.1, \"#c51b7d\"], [0.2, \"#de77ae\"], [0.3, \"#f1b6da\"], [0.4, \"#fde0ef\"], [0.5, \"#f7f7f7\"], [0.6, \"#e6f5d0\"], [0.7, \"#b8e186\"], [0.8, \"#7fbc41\"], [0.9, \"#4d9221\"], [1, \"#276419\"]], \"sequential\": [[0.0, \"#0d0887\"], [0.1111111111111111, \"#46039f\"], [0.2222222222222222, \"#7201a8\"], [0.3333333333333333, \"#9c179e\"], [0.4444444444444444, \"#bd3786\"], [0.5555555555555556, \"#d8576b\"], [0.6666666666666666, \"#ed7953\"], [0.7777777777777778, \"#fb9f3a\"], [0.8888888888888888, \"#fdca26\"], [1.0, \"#f0f921\"]], \"sequentialminus\": [[0.0, \"#0d0887\"], [0.1111111111111111, \"#46039f\"], [0.2222222222222222, \"#7201a8\"], [0.3333333333333333, \"#9c179e\"], [0.4444444444444444, \"#bd3786\"], [0.5555555555555556, \"#d8576b\"], [0.6666666666666666, \"#ed7953\"], [0.7777777777777778, \"#fb9f3a\"], [0.8888888888888888, \"#fdca26\"], [1.0, \"#f0f921\"]]}, \"colorway\": [\"#636efa\", \"#EF553B\", \"#00cc96\", \"#ab63fa\", \"#FFA15A\", \"#19d3f3\", \"#FF6692\", \"#B6E880\", \"#FF97FF\", \"#FECB52\"], \"font\": {\"color\": \"#2a3f5f\"}, \"geo\": {\"bgcolor\": \"white\", \"lakecolor\": \"white\", \"landcolor\": \"#E5ECF6\", \"showlakes\": true, \"showland\": true, \"subunitcolor\": \"white\"}, \"hoverlabel\": {\"align\": \"left\"}, \"hovermode\": \"closest\", \"mapbox\": {\"style\": \"light\"}, \"paper_bgcolor\": \"white\", \"plot_bgcolor\": \"#E5ECF6\", \"polar\": {\"angularaxis\": {\"gridcolor\": \"white\", \"linecolor\": \"white\", \"ticks\": \"\"}, \"bgcolor\": \"#E5ECF6\", \"radialaxis\": {\"gridcolor\": \"white\", \"linecolor\": \"white\", \"ticks\": \"\"}}, \"scene\": {\"xaxis\": {\"backgroundcolor\": \"#E5ECF6\", \"gridcolor\": \"white\", \"gridwidth\": 2, \"linecolor\": \"white\", \"showbackground\": true, \"ticks\": \"\", \"zerolinecolor\": \"white\"}, \"yaxis\": {\"backgroundcolor\": \"#E5ECF6\", \"gridcolor\": \"white\", \"gridwidth\": 2, \"linecolor\": \"white\", \"showbackground\": true, \"ticks\": \"\", \"zerolinecolor\": \"white\"}, \"zaxis\": {\"backgroundcolor\": \"#E5ECF6\", \"gridcolor\": \"white\", \"gridwidth\": 2, \"linecolor\": \"white\", \"showbackground\": true, \"ticks\": \"\", \"zerolinecolor\": \"white\"}}, \"shapedefaults\": {\"line\": {\"color\": \"#2a3f5f\"}}, \"ternary\": {\"aaxis\": {\"gridcolor\": \"white\", \"linecolor\": \"white\", \"ticks\": \"\"}, \"baxis\": {\"gridcolor\": \"white\", \"linecolor\": \"white\", \"ticks\": \"\"}, \"bgcolor\": \"#E5ECF6\", \"caxis\": {\"gridcolor\": \"white\", \"linecolor\": \"white\", \"ticks\": \"\"}}, \"title\": {\"x\": 0.05}, \"xaxis\": {\"automargin\": true, \"gridcolor\": \"white\", \"linecolor\": \"white\", \"ticks\": \"\", \"title\": {\"standoff\": 15}, \"zerolinecolor\": \"white\", \"zerolinewidth\": 2}, \"yaxis\": {\"automargin\": true, \"gridcolor\": \"white\", \"linecolor\": \"white\", \"ticks\": \"\", \"title\": {\"standoff\": 15}, \"zerolinecolor\": \"white\", \"zerolinewidth\": 2}}}, \"title\": {\"text\": \"CGM\"}, \"xaxis\": {\"anchor\": \"y\", \"domain\": [0.0, 1.0], \"title\": {\"text\": \"Date\"}}, \"yaxis\": {\"anchor\": \"x\", \"domain\": [0.0, 1.0], \"title\": {\"text\": \"GlucoseValue\"}}},\n",
       "                        {\"responsive\": true}\n",
       "                    ).then(function(){\n",
       "                            \n",
       "var gd = document.getElementById('1616dd54-f576-4435-995f-54728eac113b');\n",
       "var x = new MutationObserver(function (mutations, observer) {{\n",
       "        var display = window.getComputedStyle(gd).display;\n",
       "        if (!display || display === 'none') {{\n",
       "            console.log([gd, 'removed!']);\n",
       "            Plotly.purge(gd);\n",
       "            observer.disconnect();\n",
       "        }}\n",
       "}});\n",
       "\n",
       "// Listen for the removal of the full notebook cells\n",
       "var notebookContainer = gd.closest('#notebook-container');\n",
       "if (notebookContainer) {{\n",
       "    x.observe(notebookContainer, {childList: true});\n",
       "}}\n",
       "\n",
       "// Listen for the clearing of the current output cell\n",
       "var outputEl = gd.closest('.output');\n",
       "if (outputEl) {{\n",
       "    x.observe(outputEl, {childList: true});\n",
       "}}\n",
       "\n",
       "                        })\n",
       "                };\n",
       "                });\n",
       "            </script>\n",
       "        </div>"
      ]
     },
     "metadata": {},
     "output_type": "display_data"
    }
   ],
   "source": [
    "plotly_cgm(cgm_night.query(\"RegistrationCode == '30398'\"))"
   ]
  },
  {
   "cell_type": "markdown",
   "metadata": {},
   "source": [
    "## Test night cgm mage calculation"
   ]
  },
  {
   "cell_type": "code",
   "execution_count": 352,
   "metadata": {},
   "outputs": [],
   "source": [
    "test = cgm_night.query(\"RegistrationCode == '579543' and ConnectionID == '2228'\")"
   ]
  },
  {
   "cell_type": "code",
   "execution_count": 356,
   "metadata": {},
   "outputs": [],
   "source": [
    "test = test.reset_index('day').set_index(['ConnectionID', 'Date'], append=True).drop(columns=['day', 'sleep_time', 'wakeup_time', 'Duration'])"
   ]
  },
  {
   "cell_type": "code",
   "execution_count": 357,
   "metadata": {},
   "outputs": [
    {
     "data": {
      "text/html": [
       "<div>\n",
       "<style scoped>\n",
       "    .dataframe tbody tr th:only-of-type {\n",
       "        vertical-align: middle;\n",
       "    }\n",
       "\n",
       "    .dataframe tbody tr th {\n",
       "        vertical-align: top;\n",
       "    }\n",
       "\n",
       "    .dataframe thead th {\n",
       "        text-align: right;\n",
       "    }\n",
       "</style>\n",
       "<table border=\"1\" class=\"dataframe\">\n",
       "  <thead>\n",
       "    <tr style=\"text-align: right;\">\n",
       "      <th></th>\n",
       "      <th></th>\n",
       "      <th></th>\n",
       "      <th>GlucoseValue</th>\n",
       "      <th>PPGR</th>\n",
       "    </tr>\n",
       "    <tr>\n",
       "      <th>RegistrationCode</th>\n",
       "      <th>ConnectionID</th>\n",
       "      <th>Date</th>\n",
       "      <th></th>\n",
       "      <th></th>\n",
       "    </tr>\n",
       "  </thead>\n",
       "  <tbody>\n",
       "    <tr>\n",
       "      <th rowspan=\"11\" valign=\"top\">579543</th>\n",
       "      <th rowspan=\"11\" valign=\"top\">2228</th>\n",
       "      <th>2017-12-03 22:34:00</th>\n",
       "      <td>221.0</td>\n",
       "      <td>0.000</td>\n",
       "    </tr>\n",
       "    <tr>\n",
       "      <th>2017-12-03 22:49:00</th>\n",
       "      <td>184.0</td>\n",
       "      <td>0.000</td>\n",
       "    </tr>\n",
       "    <tr>\n",
       "      <th>2017-12-03 23:04:00</th>\n",
       "      <td>151.0</td>\n",
       "      <td>49.500</td>\n",
       "    </tr>\n",
       "    <tr>\n",
       "      <th>2017-12-03 23:19:00</th>\n",
       "      <td>151.0</td>\n",
       "      <td>60.875</td>\n",
       "    </tr>\n",
       "    <tr>\n",
       "      <th>2017-12-03 23:34:00</th>\n",
       "      <td>157.0</td>\n",
       "      <td>55.000</td>\n",
       "    </tr>\n",
       "    <tr>\n",
       "      <th>...</th>\n",
       "      <td>...</td>\n",
       "      <td>...</td>\n",
       "    </tr>\n",
       "    <tr>\n",
       "      <th>2017-12-11 05:34:00</th>\n",
       "      <td>153.0</td>\n",
       "      <td>42.125</td>\n",
       "    </tr>\n",
       "    <tr>\n",
       "      <th>2017-12-11 05:49:00</th>\n",
       "      <td>153.0</td>\n",
       "      <td>48.125</td>\n",
       "    </tr>\n",
       "    <tr>\n",
       "      <th>2017-12-11 06:03:00</th>\n",
       "      <td>165.0</td>\n",
       "      <td>28.125</td>\n",
       "    </tr>\n",
       "    <tr>\n",
       "      <th>2017-12-11 06:18:00</th>\n",
       "      <td>178.0</td>\n",
       "      <td>3.750</td>\n",
       "    </tr>\n",
       "    <tr>\n",
       "      <th>2017-12-11 06:33:00</th>\n",
       "      <td>184.0</td>\n",
       "      <td>NaN</td>\n",
       "    </tr>\n",
       "  </tbody>\n",
       "</table>\n",
       "<p>224 rows × 2 columns</p>\n",
       "</div>"
      ],
      "text/plain": [
       "                                                   GlucoseValue    PPGR\n",
       "RegistrationCode ConnectionID Date                                     \n",
       "579543           2228         2017-12-03 22:34:00         221.0   0.000\n",
       "                              2017-12-03 22:49:00         184.0   0.000\n",
       "                              2017-12-03 23:04:00         151.0  49.500\n",
       "                              2017-12-03 23:19:00         151.0  60.875\n",
       "                              2017-12-03 23:34:00         157.0  55.000\n",
       "...                                                         ...     ...\n",
       "                              2017-12-11 05:34:00         153.0  42.125\n",
       "                              2017-12-11 05:49:00         153.0  48.125\n",
       "                              2017-12-11 06:03:00         165.0  28.125\n",
       "                              2017-12-11 06:18:00         178.0   3.750\n",
       "                              2017-12-11 06:33:00         184.0     NaN\n",
       "\n",
       "[224 rows x 2 columns]"
      ]
     },
     "execution_count": 357,
     "metadata": {},
     "output_type": "execute_result"
    }
   ],
   "source": [
    "test"
   ]
  },
  {
   "cell_type": "code",
   "execution_count": 370,
   "metadata": {},
   "outputs": [
    {
     "ename": "AttributeError",
     "evalue": "'CGMLoader' object has no attribute 'calculate_mage'",
     "output_type": "error",
     "traceback": [
      "\u001b[0;31m---------------------------------------------------------------------------\u001b[0m",
      "\u001b[0;31mAttributeError\u001b[0m                            Traceback (most recent call last)",
      "\u001b[0;32m<ipython-input-370-2851484f89ca>\u001b[0m in \u001b[0;36m<module>\u001b[0;34m\u001b[0m\n\u001b[0;32m----> 1\u001b[0;31m \u001b[0mcgml\u001b[0m\u001b[0;34m.\u001b[0m\u001b[0mcalculate_mage\u001b[0m\u001b[0;34m(\u001b[0m\u001b[0mtest\u001b[0m\u001b[0;34m)\u001b[0m\u001b[0;34m\u001b[0m\u001b[0;34m\u001b[0m\u001b[0m\n\u001b[0m",
      "\u001b[0;31mAttributeError\u001b[0m: 'CGMLoader' object has no attribute 'calculate_mage'"
     ]
    }
   ],
   "source": [
    "cgml.calculate_mage(test)"
   ]
  },
  {
   "cell_type": "code",
   "execution_count": null,
   "metadata": {},
   "outputs": [],
   "source": []
  }
 ],
 "metadata": {
  "kernelspec": {
   "display_name": "Python 3",
   "language": "python",
   "name": "python3"
  },
  "language_info": {
   "codemirror_mode": {
    "name": "ipython",
    "version": 3
   },
   "file_extension": ".py",
   "mimetype": "text/x-python",
   "name": "python",
   "nbconvert_exporter": "python",
   "pygments_lexer": "ipython3",
   "version": "3.7.5"
  },
  "toc": {
   "base_numbering": 1,
   "nav_menu": {},
   "number_sections": true,
   "sideBar": true,
   "skip_h1_title": false,
   "title_cell": "Table of Contents",
   "title_sidebar": "Contents",
   "toc_cell": false,
   "toc_position": {},
   "toc_section_display": true,
   "toc_window_display": true
  },
  "varInspector": {
   "cols": {
    "lenName": 16,
    "lenType": 16,
    "lenVar": 40
   },
   "kernels_config": {
    "python": {
     "delete_cmd_postfix": "",
     "delete_cmd_prefix": "del ",
     "library": "var_list.py",
     "varRefreshCmd": "print(var_dic_list())"
    },
    "r": {
     "delete_cmd_postfix": ") ",
     "delete_cmd_prefix": "rm(",
     "library": "var_list.r",
     "varRefreshCmd": "cat(var_dic_list()) "
    }
   },
   "types_to_exclude": [
    "module",
    "function",
    "builtin_function_or_method",
    "instance",
    "_Feature"
   ],
   "window_display": false
  }
 },
 "nbformat": 4,
 "nbformat_minor": 2
}
