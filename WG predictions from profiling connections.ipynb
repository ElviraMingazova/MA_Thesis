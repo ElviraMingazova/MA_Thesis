{
 "cells": [
  {
   "cell_type": "markdown",
   "metadata": {},
   "source": [
    "# CV, min, max and WG predictions from profiling connections"
   ]
  },
  {
   "cell_type": "markdown",
   "metadata": {},
   "source": [
    "## Import"
   ]
  },
  {
   "cell_type": "code",
   "execution_count": 32,
   "metadata": {
    "ExecuteTime": {
     "end_time": "2020-05-06T20:08:37.453231Z",
     "start_time": "2020-05-06T20:08:37.236955Z"
    }
   },
   "outputs": [],
   "source": [
    "import pandas as pd\n",
    "from LabData.DataLoaders.CGMLoader import CGMLoader\n",
    "from LabData.DataLoaders.DietLoggingLoader import DietLoggingLoader\n",
    "from LabData.DataLoaders.SubjectLoader import SubjectLoader\n",
    "from LabData.DataLoaders.BodyMeasuresLoader import BodyMeasuresLoader\n",
    "from LabData.DataLoaders.BloodTestsLoader import BloodTestsLoader\n",
    "import datetime\n",
    "%matplotlib inline\n",
    "cgml = CGMLoader()\n",
    "dll = DietLoggingLoader()\n",
    "\n",
    "import matplotlib.pyplot as plt\n",
    "import matplotlib\n",
    "matplotlib.style.use('ggplot')\n",
    "\n",
    "import seaborn as sns\n",
    "\n",
    "import xgboost as xgb\n",
    "from sklearn.model_selection import train_test_split\n",
    "from sklearn.model_selection import cross_val_score, KFold\n",
    "from sklearn.metrics import mean_squared_error, r2_score\n",
    "import graphviz\n"
   ]
  },
  {
   "cell_type": "code",
   "execution_count": 179,
   "metadata": {
    "ExecuteTime": {
     "end_time": "2020-05-07T15:50:01.260145Z",
     "start_time": "2020-05-07T15:50:01.254270Z"
    }
   },
   "outputs": [],
   "source": [
    "import plotly.express as px\n",
    "import shap"
   ]
  },
  {
   "cell_type": "markdown",
   "metadata": {},
   "source": [
    "## CGM profiling connections"
   ]
  },
  {
   "cell_type": "markdown",
   "metadata": {},
   "source": [
    "### PNP3"
   ]
  },
  {
   "cell_type": "code",
   "execution_count": 34,
   "metadata": {
    "ExecuteTime": {
     "end_time": "2020-05-06T20:08:59.315063Z",
     "start_time": "2020-05-06T20:08:41.612476Z"
    }
   },
   "outputs": [],
   "source": [
    "cgmdf = cgml.get_data(study_ids=3).df\n",
    "cgmdf = cgml._remove_first_day_of_connections(cgmdf)"
   ]
  },
  {
   "cell_type": "code",
   "execution_count": 118,
   "metadata": {
    "ExecuteTime": {
     "end_time": "2020-05-06T20:26:25.917724Z",
     "start_time": "2020-05-06T20:26:25.565431Z"
    }
   },
   "outputs": [],
   "source": [
    "prof_cgm_pnp3 = pd.read_csv('/home/elming/Cache/profling_cgm_pnp3.csv')"
   ]
  },
  {
   "cell_type": "code",
   "execution_count": 119,
   "metadata": {
    "ExecuteTime": {
     "end_time": "2020-05-06T20:26:26.702960Z",
     "start_time": "2020-05-06T20:26:26.696086Z"
    }
   },
   "outputs": [
    {
     "data": {
      "text/plain": [
       "(374836, 5)"
      ]
     },
     "execution_count": 119,
     "metadata": {},
     "output_type": "execute_result"
    }
   ],
   "source": [
    "prof_cgm_pnp3.shape"
   ]
  },
  {
   "cell_type": "code",
   "execution_count": 120,
   "metadata": {
    "ExecuteTime": {
     "end_time": "2020-05-06T20:26:27.586334Z",
     "start_time": "2020-05-06T20:26:27.583801Z"
    }
   },
   "outputs": [],
   "source": [
    "# for i in prof_cgm_pnp3.set_index(['UserID', 'ConnectionID']).index.unique():\n",
    "#     print(i)"
   ]
  },
  {
   "cell_type": "code",
   "execution_count": 121,
   "metadata": {
    "ExecuteTime": {
     "end_time": "2020-05-06T20:26:28.149363Z",
     "start_time": "2020-05-06T20:26:28.142885Z"
    }
   },
   "outputs": [],
   "source": [
    "prof_cid = prof_cgm_pnp3['ConnectionID'].unique()\n",
    "\n",
    "prof_cid = [str(i) for i in prof_cid]"
   ]
  },
  {
   "cell_type": "code",
   "execution_count": 122,
   "metadata": {
    "ExecuteTime": {
     "end_time": "2020-05-06T20:26:29.776439Z",
     "start_time": "2020-05-06T20:26:28.942580Z"
    }
   },
   "outputs": [],
   "source": [
    "profling_cgm = cgmdf.reset_index()[cgmdf.reset_index()['ConnectionID'].isin(prof_cid)]"
   ]
  },
  {
   "cell_type": "code",
   "execution_count": 123,
   "metadata": {
    "ExecuteTime": {
     "end_time": "2020-05-06T20:26:30.311935Z",
     "start_time": "2020-05-06T20:26:30.300765Z"
    },
    "scrolled": true
   },
   "outputs": [],
   "source": [
    "profling_cgm = profling_cgm.set_index(['Date'])"
   ]
  },
  {
   "cell_type": "code",
   "execution_count": 124,
   "metadata": {
    "ExecuteTime": {
     "end_time": "2020-05-06T20:26:30.950766Z",
     "start_time": "2020-05-06T20:26:30.818475Z"
    },
    "scrolled": true
   },
   "outputs": [],
   "source": [
    "profling_cgm = profling_cgm.reset_index()\n",
    "profling_cgm['Day'] = profling_cgm['Date'].dt.date\n"
   ]
  },
  {
   "cell_type": "code",
   "execution_count": 125,
   "metadata": {
    "ExecuteTime": {
     "end_time": "2020-05-06T20:26:33.970782Z",
     "start_time": "2020-05-06T20:26:31.449972Z"
    }
   },
   "outputs": [],
   "source": [
    "prof_index_pnp3 = profling_cgm.set_index(['RegistrationCode', 'Day']).index.unique()"
   ]
  },
  {
   "cell_type": "code",
   "execution_count": 126,
   "metadata": {
    "ExecuteTime": {
     "end_time": "2020-05-06T20:26:34.526466Z",
     "start_time": "2020-05-06T20:26:34.514594Z"
    }
   },
   "outputs": [
    {
     "data": {
      "text/html": [
       "<div>\n",
       "<style scoped>\n",
       "    .dataframe tbody tr th:only-of-type {\n",
       "        vertical-align: middle;\n",
       "    }\n",
       "\n",
       "    .dataframe tbody tr th {\n",
       "        vertical-align: top;\n",
       "    }\n",
       "\n",
       "    .dataframe thead th {\n",
       "        text-align: right;\n",
       "    }\n",
       "</style>\n",
       "<table border=\"1\" class=\"dataframe\">\n",
       "  <thead>\n",
       "    <tr style=\"text-align: right;\">\n",
       "      <th></th>\n",
       "      <th>Date</th>\n",
       "      <th>RegistrationCode</th>\n",
       "      <th>ConnectionID</th>\n",
       "      <th>GlucoseValue</th>\n",
       "      <th>PPGR</th>\n",
       "      <th>Day</th>\n",
       "    </tr>\n",
       "  </thead>\n",
       "  <tbody>\n",
       "    <tr>\n",
       "      <th>0</th>\n",
       "      <td>2017-11-07 14:28:00</td>\n",
       "      <td>111527</td>\n",
       "      <td>1926</td>\n",
       "      <td>108.0</td>\n",
       "      <td>16.75</td>\n",
       "      <td>2017-11-07</td>\n",
       "    </tr>\n",
       "    <tr>\n",
       "      <th>1</th>\n",
       "      <td>2017-11-07 14:43:00</td>\n",
       "      <td>111527</td>\n",
       "      <td>1926</td>\n",
       "      <td>118.0</td>\n",
       "      <td>1.25</td>\n",
       "      <td>2017-11-07</td>\n",
       "    </tr>\n",
       "    <tr>\n",
       "      <th>2</th>\n",
       "      <td>2017-11-07 14:58:00</td>\n",
       "      <td>111527</td>\n",
       "      <td>1926</td>\n",
       "      <td>119.0</td>\n",
       "      <td>2.75</td>\n",
       "      <td>2017-11-07</td>\n",
       "    </tr>\n",
       "    <tr>\n",
       "      <th>3</th>\n",
       "      <td>2017-11-07 15:13:00</td>\n",
       "      <td>111527</td>\n",
       "      <td>1926</td>\n",
       "      <td>119.0</td>\n",
       "      <td>5.50</td>\n",
       "      <td>2017-11-07</td>\n",
       "    </tr>\n",
       "    <tr>\n",
       "      <th>4</th>\n",
       "      <td>2017-11-07 15:28:00</td>\n",
       "      <td>111527</td>\n",
       "      <td>1926</td>\n",
       "      <td>121.0</td>\n",
       "      <td>3.25</td>\n",
       "      <td>2017-11-07</td>\n",
       "    </tr>\n",
       "  </tbody>\n",
       "</table>\n",
       "</div>"
      ],
      "text/plain": [
       "                 Date RegistrationCode ConnectionID  GlucoseValue   PPGR  \\\n",
       "0 2017-11-07 14:28:00           111527         1926         108.0  16.75   \n",
       "1 2017-11-07 14:43:00           111527         1926         118.0   1.25   \n",
       "2 2017-11-07 14:58:00           111527         1926         119.0   2.75   \n",
       "3 2017-11-07 15:13:00           111527         1926         119.0   5.50   \n",
       "4 2017-11-07 15:28:00           111527         1926         121.0   3.25   \n",
       "\n",
       "          Day  \n",
       "0  2017-11-07  \n",
       "1  2017-11-07  \n",
       "2  2017-11-07  \n",
       "3  2017-11-07  \n",
       "4  2017-11-07  "
      ]
     },
     "execution_count": 126,
     "metadata": {},
     "output_type": "execute_result"
    }
   ],
   "source": [
    "profling_cgm.head()"
   ]
  },
  {
   "cell_type": "code",
   "execution_count": 127,
   "metadata": {
    "ExecuteTime": {
     "end_time": "2020-05-06T20:26:35.052931Z",
     "start_time": "2020-05-06T20:26:35.050214Z"
    }
   },
   "outputs": [],
   "source": [
    "cgm_pnp3 = profling_cgm"
   ]
  },
  {
   "cell_type": "markdown",
   "metadata": {},
   "source": [
    "### PNP1"
   ]
  },
  {
   "cell_type": "markdown",
   "metadata": {},
   "source": [
    "Below _f stands for filtered"
   ]
  },
  {
   "cell_type": "code",
   "execution_count": 45,
   "metadata": {
    "ExecuteTime": {
     "end_time": "2020-05-06T20:10:10.438594Z",
     "start_time": "2020-05-06T20:10:01.468488Z"
    }
   },
   "outputs": [],
   "source": [
    "cgm_pnp1 = cgml.get_data(study_ids=1).df"
   ]
  },
  {
   "cell_type": "code",
   "execution_count": 46,
   "metadata": {
    "ExecuteTime": {
     "end_time": "2020-05-06T20:10:13.974135Z",
     "start_time": "2020-05-06T20:10:10.636083Z"
    }
   },
   "outputs": [],
   "source": [
    "cgm_pnp1 = cgml._remove_first_day_of_connections(cgm_pnp1)"
   ]
  },
  {
   "cell_type": "code",
   "execution_count": 54,
   "metadata": {
    "ExecuteTime": {
     "end_time": "2020-05-06T20:12:42.486285Z",
     "start_time": "2020-05-06T20:12:42.467681Z"
    }
   },
   "outputs": [
    {
     "data": {
      "text/html": [
       "<div>\n",
       "<style scoped>\n",
       "    .dataframe tbody tr th:only-of-type {\n",
       "        vertical-align: middle;\n",
       "    }\n",
       "\n",
       "    .dataframe tbody tr th {\n",
       "        vertical-align: top;\n",
       "    }\n",
       "\n",
       "    .dataframe thead th {\n",
       "        text-align: right;\n",
       "    }\n",
       "</style>\n",
       "<table border=\"1\" class=\"dataframe\">\n",
       "  <thead>\n",
       "    <tr style=\"text-align: right;\">\n",
       "      <th></th>\n",
       "      <th></th>\n",
       "      <th></th>\n",
       "      <th>GlucoseValue</th>\n",
       "      <th>PPGR</th>\n",
       "    </tr>\n",
       "    <tr>\n",
       "      <th>RegistrationCode</th>\n",
       "      <th>ConnectionID</th>\n",
       "      <th>Date</th>\n",
       "      <th></th>\n",
       "      <th></th>\n",
       "    </tr>\n",
       "  </thead>\n",
       "  <tbody>\n",
       "    <tr>\n",
       "      <th rowspan=\"5\" valign=\"top\">-1</th>\n",
       "      <th rowspan=\"5\" valign=\"top\">1</th>\n",
       "      <th>2013-01-22 14:25:44</th>\n",
       "      <td>98.0</td>\n",
       "      <td>0.0</td>\n",
       "    </tr>\n",
       "    <tr>\n",
       "      <th>2013-01-22 14:30:44</th>\n",
       "      <td>99.0</td>\n",
       "      <td>0.0</td>\n",
       "    </tr>\n",
       "    <tr>\n",
       "      <th>2013-01-22 14:35:44</th>\n",
       "      <td>99.0</td>\n",
       "      <td>0.0</td>\n",
       "    </tr>\n",
       "    <tr>\n",
       "      <th>2013-01-22 14:40:44</th>\n",
       "      <td>99.0</td>\n",
       "      <td>0.0</td>\n",
       "    </tr>\n",
       "    <tr>\n",
       "      <th>2013-01-22 14:45:44</th>\n",
       "      <td>98.0</td>\n",
       "      <td>0.0</td>\n",
       "    </tr>\n",
       "  </tbody>\n",
       "</table>\n",
       "</div>"
      ],
      "text/plain": [
       "                                                   GlucoseValue  PPGR\n",
       "RegistrationCode ConnectionID Date                                   \n",
       "-1               1            2013-01-22 14:25:44          98.0   0.0\n",
       "                              2013-01-22 14:30:44          99.0   0.0\n",
       "                              2013-01-22 14:35:44          99.0   0.0\n",
       "                              2013-01-22 14:40:44          99.0   0.0\n",
       "                              2013-01-22 14:45:44          98.0   0.0"
      ]
     },
     "execution_count": 54,
     "metadata": {},
     "output_type": "execute_result"
    }
   ],
   "source": [
    "cgm_pnp1.head()"
   ]
  },
  {
   "cell_type": "markdown",
   "metadata": {},
   "source": [
    "I need to filter for people with A1C >= 5.7. So, I need to load the blood tests"
   ]
  },
  {
   "cell_type": "code",
   "execution_count": 48,
   "metadata": {
    "ExecuteTime": {
     "end_time": "2020-05-06T20:11:56.676602Z",
     "start_time": "2020-05-06T20:11:55.275791Z"
    }
   },
   "outputs": [],
   "source": [
    "btl = BloodTestsLoader()\n",
    "blood_tests_pnp1 = btl.get_data(study_ids=1).df"
   ]
  },
  {
   "cell_type": "code",
   "execution_count": 49,
   "metadata": {
    "ExecuteTime": {
     "end_time": "2020-05-06T20:11:56.817532Z",
     "start_time": "2020-05-06T20:11:56.814852Z"
    }
   },
   "outputs": [],
   "source": [
    "# for col in blood_tests.columns:\n",
    "#     print(col)"
   ]
  },
  {
   "cell_type": "code",
   "execution_count": 50,
   "metadata": {
    "ExecuteTime": {
     "end_time": "2020-05-06T20:11:57.427677Z",
     "start_time": "2020-05-06T20:11:57.417158Z"
    }
   },
   "outputs": [],
   "source": [
    "blood_tests_pnp1_f = blood_tests_pnp1[blood_tests_pnp1['bt__hba1c'] >= 5.7]"
   ]
  },
  {
   "cell_type": "code",
   "execution_count": 51,
   "metadata": {
    "ExecuteTime": {
     "end_time": "2020-05-06T20:11:58.306997Z",
     "start_time": "2020-05-06T20:11:58.296899Z"
    }
   },
   "outputs": [],
   "source": [
    "prediabetic_pnp1_index = blood_tests_pnp1[blood_tests_pnp1['bt__hba1c'] >= 5.7].index.get_level_values('RegistrationCode')"
   ]
  },
  {
   "cell_type": "code",
   "execution_count": 52,
   "metadata": {
    "ExecuteTime": {
     "end_time": "2020-05-06T20:12:15.565715Z",
     "start_time": "2020-05-06T20:12:15.445367Z"
    }
   },
   "outputs": [],
   "source": [
    "cgm_pnp1_f = cgm_pnp1[cgm_pnp1.index.get_level_values('RegistrationCode').isin(prediabetic_pnp1_index)]"
   ]
  },
  {
   "cell_type": "code",
   "execution_count": 23,
   "metadata": {
    "ExecuteTime": {
     "end_time": "2020-04-15T12:46:20.363834Z",
     "start_time": "2020-04-15T12:46:20.347586Z"
    }
   },
   "outputs": [
    {
     "data": {
      "text/html": [
       "<div>\n",
       "<style scoped>\n",
       "    .dataframe tbody tr th:only-of-type {\n",
       "        vertical-align: middle;\n",
       "    }\n",
       "\n",
       "    .dataframe tbody tr th {\n",
       "        vertical-align: top;\n",
       "    }\n",
       "\n",
       "    .dataframe thead th {\n",
       "        text-align: right;\n",
       "    }\n",
       "</style>\n",
       "<table border=\"1\" class=\"dataframe\">\n",
       "  <thead>\n",
       "    <tr style=\"text-align: right;\">\n",
       "      <th></th>\n",
       "      <th>RegistrationCode</th>\n",
       "      <th>ConnectionID</th>\n",
       "      <th>GlucoseValue</th>\n",
       "      <th>PPGR</th>\n",
       "    </tr>\n",
       "    <tr>\n",
       "      <th>Date</th>\n",
       "      <th></th>\n",
       "      <th></th>\n",
       "      <th></th>\n",
       "      <th></th>\n",
       "    </tr>\n",
       "  </thead>\n",
       "  <tbody>\n",
       "    <tr>\n",
       "      <th>2017-11-07 14:28:00</th>\n",
       "      <td>111527</td>\n",
       "      <td>1926</td>\n",
       "      <td>108.0</td>\n",
       "      <td>16.75</td>\n",
       "    </tr>\n",
       "    <tr>\n",
       "      <th>2017-11-07 14:43:00</th>\n",
       "      <td>111527</td>\n",
       "      <td>1926</td>\n",
       "      <td>118.0</td>\n",
       "      <td>1.25</td>\n",
       "    </tr>\n",
       "    <tr>\n",
       "      <th>2017-11-07 14:58:00</th>\n",
       "      <td>111527</td>\n",
       "      <td>1926</td>\n",
       "      <td>119.0</td>\n",
       "      <td>2.75</td>\n",
       "    </tr>\n",
       "    <tr>\n",
       "      <th>2017-11-07 15:13:00</th>\n",
       "      <td>111527</td>\n",
       "      <td>1926</td>\n",
       "      <td>119.0</td>\n",
       "      <td>5.50</td>\n",
       "    </tr>\n",
       "    <tr>\n",
       "      <th>2017-11-07 15:28:00</th>\n",
       "      <td>111527</td>\n",
       "      <td>1926</td>\n",
       "      <td>121.0</td>\n",
       "      <td>3.25</td>\n",
       "    </tr>\n",
       "  </tbody>\n",
       "</table>\n",
       "</div>"
      ],
      "text/plain": [
       "                    RegistrationCode ConnectionID  GlucoseValue   PPGR\n",
       "Date                                                                  \n",
       "2017-11-07 14:28:00           111527         1926         108.0  16.75\n",
       "2017-11-07 14:43:00           111527         1926         118.0   1.25\n",
       "2017-11-07 14:58:00           111527         1926         119.0   2.75\n",
       "2017-11-07 15:13:00           111527         1926         119.0   5.50\n",
       "2017-11-07 15:28:00           111527         1926         121.0   3.25"
      ]
     },
     "execution_count": 23,
     "metadata": {},
     "output_type": "execute_result"
    }
   ],
   "source": [
    "profling_cgm.head()"
   ]
  },
  {
   "cell_type": "code",
   "execution_count": 55,
   "metadata": {
    "ExecuteTime": {
     "end_time": "2020-05-06T20:12:57.385874Z",
     "start_time": "2020-05-06T20:12:57.173686Z"
    }
   },
   "outputs": [],
   "source": [
    "cgm_pnp1_f = cgm_pnp1_f.reset_index()\n",
    "cgm_pnp1_f['Day'] = cgm_pnp1_f['Date'].dt.date\n",
    "\n",
    "prof_index_pnp1 = cgm_pnp1_f.set_index(['RegistrationCode', 'Day']).index.unique()"
   ]
  },
  {
   "cell_type": "markdown",
   "metadata": {},
   "source": [
    "## Wake up glucose on profiling"
   ]
  },
  {
   "cell_type": "markdown",
   "metadata": {},
   "source": [
    "### PNP3"
   ]
  },
  {
   "cell_type": "code",
   "execution_count": 57,
   "metadata": {
    "ExecuteTime": {
     "end_time": "2020-05-06T20:13:51.657674Z",
     "start_time": "2020-05-06T20:13:51.631964Z"
    }
   },
   "outputs": [],
   "source": [
    "def calculate_wakeup_glucose(cgmdf, time_between = [5,7], study_ids=3):    \n",
    "\n",
    "    \"\"\"Calculates wakeup glucose in the interval given in time_between \n",
    "    depending on the breakfast time\"\"\"\n",
    "    \n",
    "\n",
    "    #  Get the log df \n",
    "    log = dll.get_data(study_ids=study_ids).df\n",
    "    logdf = dll.add_nutrients(log, ['energy_kcal'])\n",
    "    logdf = dll.squeeze_log(logdf)\n",
    "    logdf = logdf.reset_index()\n",
    "    logdf['Day'] = logdf['Date'].dt.date\n",
    "    \n",
    "    # Filter out beverages with 0 kcal\n",
    "    logdf = logdf[logdf['energy_kcal'] != 0]\n",
    "    \n",
    "    # Filter out days with first meals earlier than 6 am. Sorting is required because otherwise early testmeals appear at the end of the daily meals list\n",
    "    firstmeals = pd.DataFrame(logdf.sort_values(['RegistrationCode', 'Day', 'Date']).\n",
    "                              groupby(['RegistrationCode', 'Day'])['Date'].first().rename('breakfast_ts'))\n",
    "    firstmeals = firstmeals[(firstmeals['breakfast_ts'].dt.time > datetime.time(6, 0, 0))]\n",
    "    \n",
    "    # Dtype handling. After groupby 'Day' is an object, but I need it to be datetime\n",
    "    firstmeals = firstmeals.reset_index('Day')\n",
    "    firstmeals['Day'] = pd.to_datetime(firstmeals['Day'])\n",
    "    firstmeals = firstmeals.set_index('Day', append=True)\n",
    "    cgmdf['Day'] = cgmdf.index.date\n",
    "    cgmdf['hour'] = cgmdf.index.hour\n",
    "    cgmdf = cgmdf.set_index(['RegistrationCode', 'Day'])\n",
    "    \n",
    "    # Get cgm and firstmeals ts in one df\n",
    "    cgm_fm = pd.merge(cgmdf, firstmeals, on=['RegistrationCode', 'Day'])\n",
    "    \n",
    "    # Leave cgm timestamps between 5 and 7 only\n",
    "    cgm_fm = cgm_fm[(cgm_fm['hour'] >= time_between[0]) & (cgm_fm['hour'] < time_between[1])]\n",
    "    \n",
    "    # If breakfast was between 6 and 7 then wakeup glucose is a mean value between 5 and 6, otherwise between 6 and 7\n",
    "    cgm_fm = cgm_fm[((cgm_fm['hour'] == time_between[0]) & (cgm_fm['breakfast_ts'].dt.hour == time_between[0] + 1)) | \n",
    "                    ((cgm_fm['hour'] == time_between[0] + 1) & (cgm_fm['breakfast_ts'].dt.hour >= time_between[1]))]\n",
    "    wakeup_glucose = pd.DataFrame(cgm_fm.reset_index().groupby(['RegistrationCode', 'Day', 'hour'])['GlucoseValue'].mean().rename(\n",
    "                                'wakeup_glucose'))\n",
    "    wakeup_glucose = wakeup_glucose.reset_index('hour').drop(columns='hour')\n",
    "    \n",
    "    return wakeup_glucose"
   ]
  },
  {
   "cell_type": "code",
   "execution_count": 73,
   "metadata": {
    "ExecuteTime": {
     "end_time": "2020-05-06T20:22:15.989122Z",
     "start_time": "2020-05-06T20:22:13.360191Z"
    }
   },
   "outputs": [],
   "source": [
    "wg_pnp3 = calculate_wakeup_glucose(cgm_pnp3.set_index(['Date']), time_between = [5,7], study_ids=3)"
   ]
  },
  {
   "cell_type": "code",
   "execution_count": 74,
   "metadata": {
    "ExecuteTime": {
     "end_time": "2020-05-06T20:22:17.021529Z",
     "start_time": "2020-05-06T20:22:17.013830Z"
    },
    "scrolled": true
   },
   "outputs": [
    {
     "data": {
      "text/plain": [
       "(2211, 1)"
      ]
     },
     "execution_count": 74,
     "metadata": {},
     "output_type": "execute_result"
    }
   ],
   "source": [
    "wg_pnp3.shape"
   ]
  },
  {
   "cell_type": "markdown",
   "metadata": {},
   "source": [
    "### PNP1 "
   ]
  },
  {
   "cell_type": "code",
   "execution_count": 62,
   "metadata": {
    "ExecuteTime": {
     "end_time": "2020-05-06T20:15:12.142697Z",
     "start_time": "2020-05-06T20:15:10.579663Z"
    }
   },
   "outputs": [],
   "source": [
    "wg_pnp1 = calculate_wakeup_glucose(cgm_pnp1_f.set_index(['Date']), time_between = [5,7], study_ids=1)"
   ]
  },
  {
   "cell_type": "code",
   "execution_count": 63,
   "metadata": {
    "ExecuteTime": {
     "end_time": "2020-05-06T20:15:12.387987Z",
     "start_time": "2020-05-06T20:15:12.383488Z"
    }
   },
   "outputs": [
    {
     "data": {
      "text/plain": [
       "(1101, 1)"
      ]
     },
     "execution_count": 63,
     "metadata": {},
     "output_type": "execute_result"
    }
   ],
   "source": [
    "wg_pnp1.shape"
   ]
  },
  {
   "cell_type": "code",
   "execution_count": 64,
   "metadata": {
    "ExecuteTime": {
     "end_time": "2020-05-06T20:15:14.207986Z",
     "start_time": "2020-05-06T20:15:14.195211Z"
    }
   },
   "outputs": [],
   "source": [
    "wg_both = pd.concat([wg_pnp3, wg_pnp1])"
   ]
  },
  {
   "cell_type": "markdown",
   "metadata": {},
   "source": [
    "## Hourly Food log on profiling"
   ]
  },
  {
   "cell_type": "markdown",
   "metadata": {},
   "source": [
    "### PNP3"
   ]
  },
  {
   "cell_type": "code",
   "execution_count": 65,
   "metadata": {
    "ExecuteTime": {
     "end_time": "2020-05-06T20:15:22.862490Z",
     "start_time": "2020-05-06T20:15:22.836067Z"
    }
   },
   "outputs": [],
   "source": [
    "def make_hourly_log(nutrient_list, study_ids, prof_index, min_cal_per_day=1000):\n",
    "    \n",
    "    \"\"\"From the raw logdf I get a DataFrame with RC and Date as index and nutritional data aggregated on hourly bases.\n",
    "    Resulting DataFrame has a column multiindex structure (hour_of_the_day, nutrient)\n",
    "    \"\"\" \n",
    "    carbs_cal_per_gram = 4\n",
    "    fat_cal_per_gram = 9\n",
    "    prot_cal_per_gram = 4\n",
    "    \n",
    "    log = dll.get_data(study_ids=study_ids).df\n",
    "    log = log.reset_index()\n",
    "    log['Day'] = log['Date'].dt.date\n",
    "    log = log.set_index(['RegistrationCode', 'Day'])\n",
    "    log = log.loc[prof_index].reset_index().drop(columns='Day').set_index(['RegistrationCode', 'Date', 'food_id'])\n",
    "    logdf = dll.add_nutrients(log, nutrient_list)\n",
    "    logdf = dll.squeeze_log(logdf)\n",
    "    logdf = logdf.reset_index()\n",
    "    logdf['Day'] = logdf['Date'].dt.date\n",
    "    # Add 1 day to the day column for later correct merge with the features to predict (CV and WG)\n",
    "    logdf['Day'] = logdf['Day'] + datetime.timedelta(days=1)\n",
    "    #Identify days with good log more than min_cal_per_day\n",
    "    totaldaylog = logdf.drop(columns=['meal_type']).groupby(['RegistrationCode', 'Day']).sum()\n",
    "    totaldaylog = totaldaylog[totaldaylog['energy_kcal'] >= min_cal_per_day]\n",
    "    days_to_keep = totaldaylog.index\n",
    "    logdf = logdf.set_index(['RegistrationCode', 'Day'])\n",
    "    logdf = logdf.loc[days_to_keep]\n",
    "    logdf['hour'] = logdf['Date'].dt.hour\n",
    "    # Adding Date to index for correct dropping of the 0 kcal rows\n",
    "    logdf = logdf.set_index('Date', append=True)\n",
    "    # Drop rows rows with 0 energy (should be water or tea)\n",
    "    logdf = logdf.drop(logdf[logdf['energy_kcal'] == 0].index)\n",
    "    logdf = logdf.reset_index().groupby(['RegistrationCode', 'Day', 'hour']).sum()\n",
    "    # Add additional features\n",
    "#     logdf['carbs/lipids'] = logdf['carbohydrate_g'] / logdf['totallipid_g']\n",
    "    logdf['caloric%carbs'] = logdf['carbohydrate_g'] * carbs_cal_per_gram / logdf['energy_kcal']\n",
    "    logdf['caloric%fat'] = logdf['totallipid_g'] * fat_cal_per_gram / logdf['energy_kcal']\n",
    "\n",
    "    # Arrange a data frame in a column multiindex format\n",
    "    hourly_log = logdf.drop(columns='score').stack().unstack(level=2).unstack(level=-1)\n",
    "    hourly_log = hourly_log.replace(np.NaN, 0)\n",
    "    hourly_log.columns.names = (None, None)    \n",
    "    \n",
    "    return hourly_log"
   ]
  },
  {
   "cell_type": "code",
   "execution_count": 66,
   "metadata": {
    "ExecuteTime": {
     "end_time": "2020-05-06T20:15:24.779685Z",
     "start_time": "2020-05-06T20:15:24.774144Z"
    }
   },
   "outputs": [],
   "source": [
    "nutrient_list = ['caffeine_mg', 'carbohydrate_g', 'energy_kcal', 'protein_g', 'sodium_mg', 'sugarstotal_g', 'totaldietaryfiber_g', 'totallipid_g']"
   ]
  },
  {
   "cell_type": "code",
   "execution_count": 75,
   "metadata": {
    "ExecuteTime": {
     "end_time": "2020-05-06T20:22:30.354289Z",
     "start_time": "2020-05-06T20:22:27.578494Z"
    }
   },
   "outputs": [
    {
     "name": "stderr",
     "output_type": "stream",
     "text": [
      "/home/elming/anaconda3/envs/mylabdata/lib/python3.7/site-packages/ipykernel_launcher.py:14: FutureWarning:\n",
      "\n",
      "\n",
      "Passing list-likes to .loc or [] with any missing label will raise\n",
      "KeyError in the future, you can use .reindex() as an alternative.\n",
      "\n",
      "See the documentation here:\n",
      "https://pandas.pydata.org/pandas-docs/stable/user_guide/indexing.html#deprecate-loc-reindex-listlike\n",
      "\n"
     ]
    }
   ],
   "source": [
    "hourly_log_pnp3 = make_hourly_log(nutrient_list, study_ids=3, prof_index=prof_index_pnp3)"
   ]
  },
  {
   "cell_type": "code",
   "execution_count": 76,
   "metadata": {
    "ExecuteTime": {
     "end_time": "2020-05-06T20:22:31.739003Z",
     "start_time": "2020-05-06T20:22:31.732558Z"
    }
   },
   "outputs": [
    {
     "data": {
      "text/plain": [
       "(2597, 264)"
      ]
     },
     "execution_count": 76,
     "metadata": {},
     "output_type": "execute_result"
    }
   ],
   "source": [
    "hourly_log_pnp3.shape"
   ]
  },
  {
   "cell_type": "code",
   "execution_count": 77,
   "metadata": {
    "ExecuteTime": {
     "end_time": "2020-05-06T20:22:34.346076Z",
     "start_time": "2020-05-06T20:22:34.289360Z"
    },
    "scrolled": true
   },
   "outputs": [
    {
     "data": {
      "text/html": [
       "<div>\n",
       "<style scoped>\n",
       "    .dataframe tbody tr th:only-of-type {\n",
       "        vertical-align: middle;\n",
       "    }\n",
       "\n",
       "    .dataframe tbody tr th {\n",
       "        vertical-align: top;\n",
       "    }\n",
       "\n",
       "    .dataframe thead tr th {\n",
       "        text-align: left;\n",
       "    }\n",
       "\n",
       "    .dataframe thead tr:last-of-type th {\n",
       "        text-align: right;\n",
       "    }\n",
       "</style>\n",
       "<table border=\"1\" class=\"dataframe\">\n",
       "  <thead>\n",
       "    <tr>\n",
       "      <th></th>\n",
       "      <th></th>\n",
       "      <th colspan=\"10\" halign=\"left\">0</th>\n",
       "      <th>...</th>\n",
       "      <th colspan=\"10\" halign=\"left\">23</th>\n",
       "    </tr>\n",
       "    <tr>\n",
       "      <th></th>\n",
       "      <th></th>\n",
       "      <th>caffeine_mg</th>\n",
       "      <th>sugarstotal_g</th>\n",
       "      <th>weight</th>\n",
       "      <th>energy_kcal</th>\n",
       "      <th>protein_g</th>\n",
       "      <th>sodium_mg</th>\n",
       "      <th>totallipid_g</th>\n",
       "      <th>totaldietaryfiber_g</th>\n",
       "      <th>carbohydrate_g</th>\n",
       "      <th>caloric%carbs</th>\n",
       "      <th>...</th>\n",
       "      <th>sugarstotal_g</th>\n",
       "      <th>weight</th>\n",
       "      <th>energy_kcal</th>\n",
       "      <th>protein_g</th>\n",
       "      <th>sodium_mg</th>\n",
       "      <th>totallipid_g</th>\n",
       "      <th>totaldietaryfiber_g</th>\n",
       "      <th>carbohydrate_g</th>\n",
       "      <th>caloric%carbs</th>\n",
       "      <th>caloric%fat</th>\n",
       "    </tr>\n",
       "    <tr>\n",
       "      <th>RegistrationCode</th>\n",
       "      <th>Day</th>\n",
       "      <th></th>\n",
       "      <th></th>\n",
       "      <th></th>\n",
       "      <th></th>\n",
       "      <th></th>\n",
       "      <th></th>\n",
       "      <th></th>\n",
       "      <th></th>\n",
       "      <th></th>\n",
       "      <th></th>\n",
       "      <th></th>\n",
       "      <th></th>\n",
       "      <th></th>\n",
       "      <th></th>\n",
       "      <th></th>\n",
       "      <th></th>\n",
       "      <th></th>\n",
       "      <th></th>\n",
       "      <th></th>\n",
       "      <th></th>\n",
       "      <th></th>\n",
       "    </tr>\n",
       "  </thead>\n",
       "  <tbody>\n",
       "    <tr>\n",
       "      <th rowspan=\"5\" valign=\"top\">111527</th>\n",
       "      <th>2017-11-08</th>\n",
       "      <td>0.0</td>\n",
       "      <td>0.0</td>\n",
       "      <td>0.0</td>\n",
       "      <td>0.0</td>\n",
       "      <td>0.0</td>\n",
       "      <td>0.0</td>\n",
       "      <td>0.0</td>\n",
       "      <td>0.0</td>\n",
       "      <td>0.0</td>\n",
       "      <td>0.0</td>\n",
       "      <td>...</td>\n",
       "      <td>0.0</td>\n",
       "      <td>0.0</td>\n",
       "      <td>0.0</td>\n",
       "      <td>0.0</td>\n",
       "      <td>0.0</td>\n",
       "      <td>0.0</td>\n",
       "      <td>0.0</td>\n",
       "      <td>0.0</td>\n",
       "      <td>0.0</td>\n",
       "      <td>0.0</td>\n",
       "    </tr>\n",
       "    <tr>\n",
       "      <th>2017-11-09</th>\n",
       "      <td>0.0</td>\n",
       "      <td>0.0</td>\n",
       "      <td>0.0</td>\n",
       "      <td>0.0</td>\n",
       "      <td>0.0</td>\n",
       "      <td>0.0</td>\n",
       "      <td>0.0</td>\n",
       "      <td>0.0</td>\n",
       "      <td>0.0</td>\n",
       "      <td>0.0</td>\n",
       "      <td>...</td>\n",
       "      <td>0.0</td>\n",
       "      <td>0.0</td>\n",
       "      <td>0.0</td>\n",
       "      <td>0.0</td>\n",
       "      <td>0.0</td>\n",
       "      <td>0.0</td>\n",
       "      <td>0.0</td>\n",
       "      <td>0.0</td>\n",
       "      <td>0.0</td>\n",
       "      <td>0.0</td>\n",
       "    </tr>\n",
       "    <tr>\n",
       "      <th>2017-11-10</th>\n",
       "      <td>0.0</td>\n",
       "      <td>0.0</td>\n",
       "      <td>0.0</td>\n",
       "      <td>0.0</td>\n",
       "      <td>0.0</td>\n",
       "      <td>0.0</td>\n",
       "      <td>0.0</td>\n",
       "      <td>0.0</td>\n",
       "      <td>0.0</td>\n",
       "      <td>0.0</td>\n",
       "      <td>...</td>\n",
       "      <td>0.0</td>\n",
       "      <td>0.0</td>\n",
       "      <td>0.0</td>\n",
       "      <td>0.0</td>\n",
       "      <td>0.0</td>\n",
       "      <td>0.0</td>\n",
       "      <td>0.0</td>\n",
       "      <td>0.0</td>\n",
       "      <td>0.0</td>\n",
       "      <td>0.0</td>\n",
       "    </tr>\n",
       "    <tr>\n",
       "      <th>2017-11-11</th>\n",
       "      <td>0.0</td>\n",
       "      <td>0.0</td>\n",
       "      <td>0.0</td>\n",
       "      <td>0.0</td>\n",
       "      <td>0.0</td>\n",
       "      <td>0.0</td>\n",
       "      <td>0.0</td>\n",
       "      <td>0.0</td>\n",
       "      <td>0.0</td>\n",
       "      <td>0.0</td>\n",
       "      <td>...</td>\n",
       "      <td>0.0</td>\n",
       "      <td>0.0</td>\n",
       "      <td>0.0</td>\n",
       "      <td>0.0</td>\n",
       "      <td>0.0</td>\n",
       "      <td>0.0</td>\n",
       "      <td>0.0</td>\n",
       "      <td>0.0</td>\n",
       "      <td>0.0</td>\n",
       "      <td>0.0</td>\n",
       "    </tr>\n",
       "    <tr>\n",
       "      <th>2017-11-12</th>\n",
       "      <td>0.0</td>\n",
       "      <td>0.0</td>\n",
       "      <td>0.0</td>\n",
       "      <td>0.0</td>\n",
       "      <td>0.0</td>\n",
       "      <td>0.0</td>\n",
       "      <td>0.0</td>\n",
       "      <td>0.0</td>\n",
       "      <td>0.0</td>\n",
       "      <td>0.0</td>\n",
       "      <td>...</td>\n",
       "      <td>0.0</td>\n",
       "      <td>0.0</td>\n",
       "      <td>0.0</td>\n",
       "      <td>0.0</td>\n",
       "      <td>0.0</td>\n",
       "      <td>0.0</td>\n",
       "      <td>0.0</td>\n",
       "      <td>0.0</td>\n",
       "      <td>0.0</td>\n",
       "      <td>0.0</td>\n",
       "    </tr>\n",
       "  </tbody>\n",
       "</table>\n",
       "<p>5 rows × 264 columns</p>\n",
       "</div>"
      ],
      "text/plain": [
       "                                     0                                    \\\n",
       "                            caffeine_mg sugarstotal_g weight energy_kcal   \n",
       "RegistrationCode Day                                                       \n",
       "111527           2017-11-08         0.0           0.0    0.0         0.0   \n",
       "                 2017-11-09         0.0           0.0    0.0         0.0   \n",
       "                 2017-11-10         0.0           0.0    0.0         0.0   \n",
       "                 2017-11-11         0.0           0.0    0.0         0.0   \n",
       "                 2017-11-12         0.0           0.0    0.0         0.0   \n",
       "\n",
       "                                                              \\\n",
       "                            protein_g sodium_mg totallipid_g   \n",
       "RegistrationCode Day                                           \n",
       "111527           2017-11-08       0.0       0.0          0.0   \n",
       "                 2017-11-09       0.0       0.0          0.0   \n",
       "                 2017-11-10       0.0       0.0          0.0   \n",
       "                 2017-11-11       0.0       0.0          0.0   \n",
       "                 2017-11-12       0.0       0.0          0.0   \n",
       "\n",
       "                                                                              \\\n",
       "                            totaldietaryfiber_g carbohydrate_g caloric%carbs   \n",
       "RegistrationCode Day                                                           \n",
       "111527           2017-11-08                 0.0            0.0           0.0   \n",
       "                 2017-11-09                 0.0            0.0           0.0   \n",
       "                 2017-11-10                 0.0            0.0           0.0   \n",
       "                 2017-11-11                 0.0            0.0           0.0   \n",
       "                 2017-11-12                 0.0            0.0           0.0   \n",
       "\n",
       "                             ...            23                               \\\n",
       "                             ... sugarstotal_g weight energy_kcal protein_g   \n",
       "RegistrationCode Day         ...                                              \n",
       "111527           2017-11-08  ...           0.0    0.0         0.0       0.0   \n",
       "                 2017-11-09  ...           0.0    0.0         0.0       0.0   \n",
       "                 2017-11-10  ...           0.0    0.0         0.0       0.0   \n",
       "                 2017-11-11  ...           0.0    0.0         0.0       0.0   \n",
       "                 2017-11-12  ...           0.0    0.0         0.0       0.0   \n",
       "\n",
       "                                                                        \\\n",
       "                            sodium_mg totallipid_g totaldietaryfiber_g   \n",
       "RegistrationCode Day                                                     \n",
       "111527           2017-11-08       0.0          0.0                 0.0   \n",
       "                 2017-11-09       0.0          0.0                 0.0   \n",
       "                 2017-11-10       0.0          0.0                 0.0   \n",
       "                 2017-11-11       0.0          0.0                 0.0   \n",
       "                 2017-11-12       0.0          0.0                 0.0   \n",
       "\n",
       "                                                                      \n",
       "                            carbohydrate_g caloric%carbs caloric%fat  \n",
       "RegistrationCode Day                                                  \n",
       "111527           2017-11-08            0.0           0.0         0.0  \n",
       "                 2017-11-09            0.0           0.0         0.0  \n",
       "                 2017-11-10            0.0           0.0         0.0  \n",
       "                 2017-11-11            0.0           0.0         0.0  \n",
       "                 2017-11-12            0.0           0.0         0.0  \n",
       "\n",
       "[5 rows x 264 columns]"
      ]
     },
     "execution_count": 77,
     "metadata": {},
     "output_type": "execute_result"
    }
   ],
   "source": [
    "hourly_log_pnp3.head()"
   ]
  },
  {
   "cell_type": "markdown",
   "metadata": {},
   "source": [
    "### PNP1"
   ]
  },
  {
   "cell_type": "code",
   "execution_count": 78,
   "metadata": {
    "ExecuteTime": {
     "end_time": "2020-05-06T20:22:41.401347Z",
     "start_time": "2020-05-06T20:22:39.388125Z"
    }
   },
   "outputs": [
    {
     "name": "stderr",
     "output_type": "stream",
     "text": [
      "/home/elming/anaconda3/envs/mylabdata/lib/python3.7/site-packages/ipykernel_launcher.py:14: FutureWarning:\n",
      "\n",
      "\n",
      "Passing list-likes to .loc or [] with any missing label will raise\n",
      "KeyError in the future, you can use .reindex() as an alternative.\n",
      "\n",
      "See the documentation here:\n",
      "https://pandas.pydata.org/pandas-docs/stable/user_guide/indexing.html#deprecate-loc-reindex-listlike\n",
      "\n"
     ]
    }
   ],
   "source": [
    "hourly_log_pnp1 = make_hourly_log(nutrient_list, study_ids=1, prof_index=prof_index_pnp1)"
   ]
  },
  {
   "cell_type": "code",
   "execution_count": 79,
   "metadata": {
    "ExecuteTime": {
     "end_time": "2020-05-06T20:22:41.411175Z",
     "start_time": "2020-05-06T20:22:41.404897Z"
    }
   },
   "outputs": [
    {
     "data": {
      "text/plain": [
       "(1351, 264)"
      ]
     },
     "execution_count": 79,
     "metadata": {},
     "output_type": "execute_result"
    }
   ],
   "source": [
    "hourly_log_pnp1.shape"
   ]
  },
  {
   "cell_type": "code",
   "execution_count": 80,
   "metadata": {
    "ExecuteTime": {
     "end_time": "2020-05-06T20:22:41.898281Z",
     "start_time": "2020-05-06T20:22:41.887698Z"
    }
   },
   "outputs": [],
   "source": [
    "hourly_log_both = pd.concat([hourly_log_pnp3, hourly_log_pnp1])"
   ]
  },
  {
   "cell_type": "code",
   "execution_count": 81,
   "metadata": {
    "ExecuteTime": {
     "end_time": "2020-05-06T20:22:42.459973Z",
     "start_time": "2020-05-06T20:22:42.451618Z"
    },
    "scrolled": true
   },
   "outputs": [
    {
     "data": {
      "text/plain": [
       "(3948, 264)"
      ]
     },
     "execution_count": 81,
     "metadata": {},
     "output_type": "execute_result"
    }
   ],
   "source": [
    "hourly_log_both.shape"
   ]
  },
  {
   "cell_type": "markdown",
   "metadata": {},
   "source": [
    "Rename 2-leveled columns into 1-leveled columns"
   ]
  },
  {
   "cell_type": "code",
   "execution_count": 82,
   "metadata": {
    "ExecuteTime": {
     "end_time": "2020-05-06T20:22:48.900363Z",
     "start_time": "2020-05-06T20:22:48.890167Z"
    }
   },
   "outputs": [],
   "source": [
    "def rename(col):\n",
    "    if isinstance(col, tuple):\n",
    "        col = '_'.join(str(c) for c in col)\n",
    "    return col\n",
    "hourly_log_both.columns = map(rename, hourly_log_both.columns)"
   ]
  },
  {
   "cell_type": "code",
   "execution_count": 83,
   "metadata": {
    "ExecuteTime": {
     "end_time": "2020-05-06T20:22:53.866651Z",
     "start_time": "2020-05-06T20:22:53.816538Z"
    }
   },
   "outputs": [
    {
     "data": {
      "text/html": [
       "<div>\n",
       "<style scoped>\n",
       "    .dataframe tbody tr th:only-of-type {\n",
       "        vertical-align: middle;\n",
       "    }\n",
       "\n",
       "    .dataframe tbody tr th {\n",
       "        vertical-align: top;\n",
       "    }\n",
       "\n",
       "    .dataframe thead th {\n",
       "        text-align: right;\n",
       "    }\n",
       "</style>\n",
       "<table border=\"1\" class=\"dataframe\">\n",
       "  <thead>\n",
       "    <tr style=\"text-align: right;\">\n",
       "      <th></th>\n",
       "      <th></th>\n",
       "      <th>0_caffeine_mg</th>\n",
       "      <th>0_sugarstotal_g</th>\n",
       "      <th>0_weight</th>\n",
       "      <th>0_energy_kcal</th>\n",
       "      <th>0_protein_g</th>\n",
       "      <th>0_sodium_mg</th>\n",
       "      <th>0_totallipid_g</th>\n",
       "      <th>0_totaldietaryfiber_g</th>\n",
       "      <th>0_carbohydrate_g</th>\n",
       "      <th>0_caloric%carbs</th>\n",
       "      <th>...</th>\n",
       "      <th>23_sugarstotal_g</th>\n",
       "      <th>23_weight</th>\n",
       "      <th>23_energy_kcal</th>\n",
       "      <th>23_protein_g</th>\n",
       "      <th>23_sodium_mg</th>\n",
       "      <th>23_totallipid_g</th>\n",
       "      <th>23_totaldietaryfiber_g</th>\n",
       "      <th>23_carbohydrate_g</th>\n",
       "      <th>23_caloric%carbs</th>\n",
       "      <th>23_caloric%fat</th>\n",
       "    </tr>\n",
       "    <tr>\n",
       "      <th>RegistrationCode</th>\n",
       "      <th>Day</th>\n",
       "      <th></th>\n",
       "      <th></th>\n",
       "      <th></th>\n",
       "      <th></th>\n",
       "      <th></th>\n",
       "      <th></th>\n",
       "      <th></th>\n",
       "      <th></th>\n",
       "      <th></th>\n",
       "      <th></th>\n",
       "      <th></th>\n",
       "      <th></th>\n",
       "      <th></th>\n",
       "      <th></th>\n",
       "      <th></th>\n",
       "      <th></th>\n",
       "      <th></th>\n",
       "      <th></th>\n",
       "      <th></th>\n",
       "      <th></th>\n",
       "      <th></th>\n",
       "    </tr>\n",
       "  </thead>\n",
       "  <tbody>\n",
       "    <tr>\n",
       "      <th rowspan=\"5\" valign=\"top\">111527</th>\n",
       "      <th>2017-11-08</th>\n",
       "      <td>0.0</td>\n",
       "      <td>0.0</td>\n",
       "      <td>0.0</td>\n",
       "      <td>0.0</td>\n",
       "      <td>0.0</td>\n",
       "      <td>0.0</td>\n",
       "      <td>0.0</td>\n",
       "      <td>0.0</td>\n",
       "      <td>0.0</td>\n",
       "      <td>0.0</td>\n",
       "      <td>...</td>\n",
       "      <td>0.0</td>\n",
       "      <td>0.0</td>\n",
       "      <td>0.0</td>\n",
       "      <td>0.0</td>\n",
       "      <td>0.0</td>\n",
       "      <td>0.0</td>\n",
       "      <td>0.0</td>\n",
       "      <td>0.0</td>\n",
       "      <td>0.0</td>\n",
       "      <td>0.0</td>\n",
       "    </tr>\n",
       "    <tr>\n",
       "      <th>2017-11-09</th>\n",
       "      <td>0.0</td>\n",
       "      <td>0.0</td>\n",
       "      <td>0.0</td>\n",
       "      <td>0.0</td>\n",
       "      <td>0.0</td>\n",
       "      <td>0.0</td>\n",
       "      <td>0.0</td>\n",
       "      <td>0.0</td>\n",
       "      <td>0.0</td>\n",
       "      <td>0.0</td>\n",
       "      <td>...</td>\n",
       "      <td>0.0</td>\n",
       "      <td>0.0</td>\n",
       "      <td>0.0</td>\n",
       "      <td>0.0</td>\n",
       "      <td>0.0</td>\n",
       "      <td>0.0</td>\n",
       "      <td>0.0</td>\n",
       "      <td>0.0</td>\n",
       "      <td>0.0</td>\n",
       "      <td>0.0</td>\n",
       "    </tr>\n",
       "    <tr>\n",
       "      <th>2017-11-10</th>\n",
       "      <td>0.0</td>\n",
       "      <td>0.0</td>\n",
       "      <td>0.0</td>\n",
       "      <td>0.0</td>\n",
       "      <td>0.0</td>\n",
       "      <td>0.0</td>\n",
       "      <td>0.0</td>\n",
       "      <td>0.0</td>\n",
       "      <td>0.0</td>\n",
       "      <td>0.0</td>\n",
       "      <td>...</td>\n",
       "      <td>0.0</td>\n",
       "      <td>0.0</td>\n",
       "      <td>0.0</td>\n",
       "      <td>0.0</td>\n",
       "      <td>0.0</td>\n",
       "      <td>0.0</td>\n",
       "      <td>0.0</td>\n",
       "      <td>0.0</td>\n",
       "      <td>0.0</td>\n",
       "      <td>0.0</td>\n",
       "    </tr>\n",
       "    <tr>\n",
       "      <th>2017-11-11</th>\n",
       "      <td>0.0</td>\n",
       "      <td>0.0</td>\n",
       "      <td>0.0</td>\n",
       "      <td>0.0</td>\n",
       "      <td>0.0</td>\n",
       "      <td>0.0</td>\n",
       "      <td>0.0</td>\n",
       "      <td>0.0</td>\n",
       "      <td>0.0</td>\n",
       "      <td>0.0</td>\n",
       "      <td>...</td>\n",
       "      <td>0.0</td>\n",
       "      <td>0.0</td>\n",
       "      <td>0.0</td>\n",
       "      <td>0.0</td>\n",
       "      <td>0.0</td>\n",
       "      <td>0.0</td>\n",
       "      <td>0.0</td>\n",
       "      <td>0.0</td>\n",
       "      <td>0.0</td>\n",
       "      <td>0.0</td>\n",
       "    </tr>\n",
       "    <tr>\n",
       "      <th>2017-11-12</th>\n",
       "      <td>0.0</td>\n",
       "      <td>0.0</td>\n",
       "      <td>0.0</td>\n",
       "      <td>0.0</td>\n",
       "      <td>0.0</td>\n",
       "      <td>0.0</td>\n",
       "      <td>0.0</td>\n",
       "      <td>0.0</td>\n",
       "      <td>0.0</td>\n",
       "      <td>0.0</td>\n",
       "      <td>...</td>\n",
       "      <td>0.0</td>\n",
       "      <td>0.0</td>\n",
       "      <td>0.0</td>\n",
       "      <td>0.0</td>\n",
       "      <td>0.0</td>\n",
       "      <td>0.0</td>\n",
       "      <td>0.0</td>\n",
       "      <td>0.0</td>\n",
       "      <td>0.0</td>\n",
       "      <td>0.0</td>\n",
       "    </tr>\n",
       "  </tbody>\n",
       "</table>\n",
       "<p>5 rows × 264 columns</p>\n",
       "</div>"
      ],
      "text/plain": [
       "                             0_caffeine_mg  0_sugarstotal_g  0_weight  \\\n",
       "RegistrationCode Day                                                    \n",
       "111527           2017-11-08            0.0              0.0       0.0   \n",
       "                 2017-11-09            0.0              0.0       0.0   \n",
       "                 2017-11-10            0.0              0.0       0.0   \n",
       "                 2017-11-11            0.0              0.0       0.0   \n",
       "                 2017-11-12            0.0              0.0       0.0   \n",
       "\n",
       "                             0_energy_kcal  0_protein_g  0_sodium_mg  \\\n",
       "RegistrationCode Day                                                   \n",
       "111527           2017-11-08            0.0          0.0          0.0   \n",
       "                 2017-11-09            0.0          0.0          0.0   \n",
       "                 2017-11-10            0.0          0.0          0.0   \n",
       "                 2017-11-11            0.0          0.0          0.0   \n",
       "                 2017-11-12            0.0          0.0          0.0   \n",
       "\n",
       "                             0_totallipid_g  0_totaldietaryfiber_g  \\\n",
       "RegistrationCode Day                                                 \n",
       "111527           2017-11-08             0.0                    0.0   \n",
       "                 2017-11-09             0.0                    0.0   \n",
       "                 2017-11-10             0.0                    0.0   \n",
       "                 2017-11-11             0.0                    0.0   \n",
       "                 2017-11-12             0.0                    0.0   \n",
       "\n",
       "                             0_carbohydrate_g  0_caloric%carbs  ...  \\\n",
       "RegistrationCode Day                                            ...   \n",
       "111527           2017-11-08               0.0              0.0  ...   \n",
       "                 2017-11-09               0.0              0.0  ...   \n",
       "                 2017-11-10               0.0              0.0  ...   \n",
       "                 2017-11-11               0.0              0.0  ...   \n",
       "                 2017-11-12               0.0              0.0  ...   \n",
       "\n",
       "                             23_sugarstotal_g  23_weight  23_energy_kcal  \\\n",
       "RegistrationCode Day                                                       \n",
       "111527           2017-11-08               0.0        0.0             0.0   \n",
       "                 2017-11-09               0.0        0.0             0.0   \n",
       "                 2017-11-10               0.0        0.0             0.0   \n",
       "                 2017-11-11               0.0        0.0             0.0   \n",
       "                 2017-11-12               0.0        0.0             0.0   \n",
       "\n",
       "                             23_protein_g  23_sodium_mg  23_totallipid_g  \\\n",
       "RegistrationCode Day                                                       \n",
       "111527           2017-11-08           0.0           0.0              0.0   \n",
       "                 2017-11-09           0.0           0.0              0.0   \n",
       "                 2017-11-10           0.0           0.0              0.0   \n",
       "                 2017-11-11           0.0           0.0              0.0   \n",
       "                 2017-11-12           0.0           0.0              0.0   \n",
       "\n",
       "                             23_totaldietaryfiber_g  23_carbohydrate_g  \\\n",
       "RegistrationCode Day                                                     \n",
       "111527           2017-11-08                     0.0                0.0   \n",
       "                 2017-11-09                     0.0                0.0   \n",
       "                 2017-11-10                     0.0                0.0   \n",
       "                 2017-11-11                     0.0                0.0   \n",
       "                 2017-11-12                     0.0                0.0   \n",
       "\n",
       "                             23_caloric%carbs  23_caloric%fat  \n",
       "RegistrationCode Day                                           \n",
       "111527           2017-11-08               0.0             0.0  \n",
       "                 2017-11-09               0.0             0.0  \n",
       "                 2017-11-10               0.0             0.0  \n",
       "                 2017-11-11               0.0             0.0  \n",
       "                 2017-11-12               0.0             0.0  \n",
       "\n",
       "[5 rows x 264 columns]"
      ]
     },
     "execution_count": 83,
     "metadata": {},
     "output_type": "execute_result"
    }
   ],
   "source": [
    "hourly_log_both.head()"
   ]
  },
  {
   "cell_type": "code",
   "execution_count": 84,
   "metadata": {
    "ExecuteTime": {
     "end_time": "2020-05-06T20:22:55.534815Z",
     "start_time": "2020-05-06T20:22:55.529249Z"
    }
   },
   "outputs": [],
   "source": [
    "prof_index_both = hourly_log_both.index"
   ]
  },
  {
   "cell_type": "code",
   "execution_count": 85,
   "metadata": {
    "ExecuteTime": {
     "end_time": "2020-05-06T20:23:13.195310Z",
     "start_time": "2020-05-06T20:23:13.179040Z"
    }
   },
   "outputs": [],
   "source": [
    "hourly_log_both_plus = pd.concat([hourly_log_pnp3, hourly_log_pnp1])"
   ]
  },
  {
   "cell_type": "code",
   "execution_count": 86,
   "metadata": {
    "ExecuteTime": {
     "end_time": "2020-05-06T20:23:14.052223Z",
     "start_time": "2020-05-06T20:23:14.043608Z"
    }
   },
   "outputs": [],
   "source": [
    "hourly_log_both_plus.columns = map(rename, hourly_log_both_plus.columns)"
   ]
  },
  {
   "cell_type": "code",
   "execution_count": 87,
   "metadata": {
    "ExecuteTime": {
     "end_time": "2020-05-06T20:23:17.357713Z",
     "start_time": "2020-05-06T20:23:17.348513Z"
    }
   },
   "outputs": [
    {
     "data": {
      "text/plain": [
       "(3948, 264)"
      ]
     },
     "execution_count": 87,
     "metadata": {},
     "output_type": "execute_result"
    }
   ],
   "source": [
    "hourly_log_both_plus.shape"
   ]
  },
  {
   "cell_type": "code",
   "execution_count": 88,
   "metadata": {
    "ExecuteTime": {
     "end_time": "2020-05-06T20:23:19.942149Z",
     "start_time": "2020-05-06T20:23:19.929939Z"
    }
   },
   "outputs": [
    {
     "data": {
      "text/plain": [
       "(3948, 264)"
      ]
     },
     "execution_count": 88,
     "metadata": {},
     "output_type": "execute_result"
    }
   ],
   "source": [
    "hourly_log_both.shape"
   ]
  },
  {
   "cell_type": "markdown",
   "metadata": {},
   "source": [
    "## Total day and timedelta split food tables"
   ]
  },
  {
   "cell_type": "markdown",
   "metadata": {
    "ExecuteTime": {
     "end_time": "2020-04-15T15:02:49.331309Z",
     "start_time": "2020-04-15T15:02:49.321681Z"
    }
   },
   "source": [
    "To filter for the relevant profiling days I will use prof_index_both with almost 4000 entries."
   ]
  },
  {
   "cell_type": "code",
   "execution_count": 89,
   "metadata": {
    "ExecuteTime": {
     "end_time": "2020-05-06T20:23:36.406708Z",
     "start_time": "2020-05-06T20:23:36.361775Z"
    }
   },
   "outputs": [],
   "source": [
    "def prepare_diet_data(nutrient_list, study_ids, prof_index, min_cal_per_day=1000, how='total_diet', daysplithours=[6,12,17,21]):\n",
    "    \n",
    "    \"\"\"Prepare joint df with wg and dietary features from the day before.\n",
    "    One can choose to correlate with total diet from the perevious day or with diet split into breakfast, lunch and dinner.\n",
    "    \n",
    "    :param nutrient_list: list of nutrients to select (for the full list see LabData/DataLoaders/Lists/meal_features.txt)\n",
    "                                e.g. ['energy_kcal', 'carbohydrate_g', 'protein_g', 'totallipid_g']\n",
    "                                if None, all nutrients are selected\n",
    "    :param min_cal_per_day:\n",
    "    :param how: string, can be 'total_diet' or 'split_diet'. If split_diet is passed, then the day will be split into breakfast,\n",
    "                        lunch and dinner and the nutrients will be calculated accordingly.\n",
    "    :param daysplithours: list telling how to split the day \n",
    "        \n",
    "    :return data_df with wg and dietary features to perform the correlations with\n",
    "    \"\"\" \n",
    "    carbs_cal_per_gram = 4\n",
    "    fat_cal_per_gram = 9\n",
    "    prot_cal_per_gram = 4\n",
    "    \n",
    "    log = dll.get_data(study_ids=study_ids).df\n",
    "    \n",
    "    logdf = dll.add_nutrients(log, nutrient_list)\n",
    "    logdf = dll.squeeze_log(logdf)\n",
    "    logdf = logdf.reset_index()\n",
    "    logdf['Day'] = logdf['Date'].dt.date\n",
    "    logdf = logdf.set_index(['RegistrationCode', 'Day'])\n",
    "    logdf = logdf.loc[prof_index]\n",
    "    logdf = logdf.reset_index()\n",
    "    #Identify days with good log more than min_cal_per_day\n",
    "    totaldaylog = logdf.drop(columns=['meal_type','score']).groupby(['RegistrationCode', 'Day']).sum()\n",
    "    totaldaylog = totaldaylog[totaldaylog['energy_kcal'] >= min_cal_per_day]\n",
    "    days_to_keep = totaldaylog.index\n",
    "    logdf = logdf.set_index(['RegistrationCode', 'Day'])\n",
    "    logdf = logdf.loc[days_to_keep]\n",
    "    \n",
    "    if how == 'total_diet':\n",
    "        # Add derived  features\n",
    "        totaldaylog['carbs/lipids'] = totaldaylog['carbohydrate_g'] / totaldaylog['totallipid_g']\n",
    "        totaldaylog['caloric%carbs'] = totaldaylog['carbohydrate_g'] * carbs_cal_per_gram / totaldaylog['energy_kcal']\n",
    "        totaldaylog['caloric%fat'] = totaldaylog['totallipid_g'] * fat_cal_per_gram / totaldaylog['energy_kcal']\n",
    "        # Change dtype to datetime for merge with wg_df\n",
    "        totaldaylog = totaldaylog.reset_index('Day')\n",
    "        totaldaylog['Day'] = pd.to_datetime(totaldaylog['Day'])\n",
    "        # Add day to the current day for merge with correct wg\n",
    "        totaldaylog['Day'] = totaldaylog['Day'] + datetime.timedelta(days=1)\n",
    "        diet_data = totaldaylog.set_index('Day', append=True)\n",
    "        \n",
    "    elif how == 'split_diet':\n",
    "        logdf['alloc'] = ''\n",
    "        # Breakfast\n",
    "        logdf.loc[(logdf['Date'].dt.time >= datetime.time(daysplithours[0], 0, 0)) & \n",
    "              (logdf['Date'].dt.time < datetime.time(daysplithours[1], 0, 0)),'alloc'] = 'b'\n",
    "        # Lunch\n",
    "        logdf.loc[(logdf['Date'].dt.time >= datetime.time(daysplithours[1], 0, 0)) & \n",
    "              (logdf['Date'].dt.time < datetime.time(daysplithours[2], 0, 0)),'alloc'] = 'l'\n",
    "        # Dinner\n",
    "        logdf.loc[(logdf['Date'].dt.time >= datetime.time(daysplithours[2], 0, 0)) & \n",
    "              (logdf['Date'].dt.time < datetime.time(daysplithours[3], 0, 0)),'alloc'] = 'd'\n",
    "        # Late dinner \n",
    "        logdf.loc[(logdf['Date'].dt.time > datetime.time(daysplithours[3], 0, 0)),'alloc'] = 'ld'\n",
    "        \n",
    "        # We are only interested in  food between 6 and 24. Days where people logged food during the night will be out after merge with wg_df\n",
    "        logdf = logdf[logdf['alloc'] != '']\n",
    "        splitlog = logdf.reset_index().groupby(['RegistrationCode', 'Day', 'alloc']).sum()\n",
    "        splitlog = splitlog.unstack(level=-1)\n",
    "        splitlog.columns = ['_'.join(splitlog.columns[i]) for i in range(len(splitlog.columns))]\n",
    "        # Add carbs/lipids ration\n",
    "        splitlog['carbs/lipids_b'] = splitlog['carbohydrate_g_b'] / splitlog['totallipid_g_b']\n",
    "        splitlog['carbs/lipids_d'] = splitlog['carbohydrate_g_d'] / splitlog['totallipid_g_d']\n",
    "        splitlog['carbs/lipids_l'] = splitlog['carbohydrate_g_l'] / splitlog['totallipid_g_l']\n",
    "           \n",
    "        splitlog = splitlog.reset_index('Day')\n",
    "        splitlog['Day'] = pd.to_datetime(splitlog['Day'])\n",
    "        # Add day to the current day for merge with correct wg\n",
    "        splitlog['Day'] = splitlog['Day'] + datetime.timedelta(days=1)\n",
    "        diet_data = splitlog.fillna(0).set_index('Day', append=True)\n",
    "        \n",
    "    \n",
    "    return diet_data"
   ]
  },
  {
   "cell_type": "code",
   "execution_count": 90,
   "metadata": {
    "ExecuteTime": {
     "end_time": "2020-05-06T20:23:46.670602Z",
     "start_time": "2020-05-06T20:23:42.702448Z"
    }
   },
   "outputs": [
    {
     "name": "stderr",
     "output_type": "stream",
     "text": [
      "/home/elming/anaconda3/envs/mylabdata/lib/python3.7/site-packages/ipykernel_launcher.py:27: FutureWarning:\n",
      "\n",
      "\n",
      "Passing list-likes to .loc or [] with any missing label will raise\n",
      "KeyError in the future, you can use .reindex() as an alternative.\n",
      "\n",
      "See the documentation here:\n",
      "https://pandas.pydata.org/pandas-docs/stable/user_guide/indexing.html#deprecate-loc-reindex-listlike\n",
      "\n"
     ]
    }
   ],
   "source": [
    "totaldiet_both = prepare_diet_data(nutrient_list, study_ids=[1,3], prof_index=prof_index_both, min_cal_per_day=1000, \n",
    "                  how='total_diet')"
   ]
  },
  {
   "cell_type": "markdown",
   "metadata": {},
   "source": [
    "### Total diet from both studies"
   ]
  },
  {
   "cell_type": "code",
   "execution_count": 91,
   "metadata": {
    "ExecuteTime": {
     "end_time": "2020-05-06T20:23:48.870142Z",
     "start_time": "2020-05-06T20:23:48.861500Z"
    }
   },
   "outputs": [
    {
     "data": {
      "text/plain": [
       "(3342, 12)"
      ]
     },
     "execution_count": 91,
     "metadata": {},
     "output_type": "execute_result"
    }
   ],
   "source": [
    "totaldiet_both.shape"
   ]
  },
  {
   "cell_type": "code",
   "execution_count": 92,
   "metadata": {
    "ExecuteTime": {
     "end_time": "2020-05-06T20:23:54.998865Z",
     "start_time": "2020-05-06T20:23:50.800034Z"
    }
   },
   "outputs": [
    {
     "name": "stderr",
     "output_type": "stream",
     "text": [
      "/home/elming/anaconda3/envs/mylabdata/lib/python3.7/site-packages/ipykernel_launcher.py:27: FutureWarning:\n",
      "\n",
      "\n",
      "Passing list-likes to .loc or [] with any missing label will raise\n",
      "KeyError in the future, you can use .reindex() as an alternative.\n",
      "\n",
      "See the documentation here:\n",
      "https://pandas.pydata.org/pandas-docs/stable/user_guide/indexing.html#deprecate-loc-reindex-listlike\n",
      "\n"
     ]
    }
   ],
   "source": [
    "totaldiet_pnp3 = prepare_diet_data(nutrient_list, study_ids=3, prof_index=prof_index_pnp3, min_cal_per_day=1000, \n",
    "                  how='total_diet')\n",
    "\n",
    "totaldiet_pnp1 =  prepare_diet_data(nutrient_list, study_ids=1, prof_index=prof_index_pnp1, min_cal_per_day=1000, \n",
    "                  how='total_diet')"
   ]
  },
  {
   "cell_type": "code",
   "execution_count": 93,
   "metadata": {
    "ExecuteTime": {
     "end_time": "2020-05-06T20:23:57.458240Z",
     "start_time": "2020-05-06T20:23:57.449012Z"
    }
   },
   "outputs": [
    {
     "data": {
      "text/plain": [
       "(2597, 12)"
      ]
     },
     "execution_count": 93,
     "metadata": {},
     "output_type": "execute_result"
    }
   ],
   "source": [
    "totaldiet_pnp3.shape"
   ]
  },
  {
   "cell_type": "code",
   "execution_count": 94,
   "metadata": {
    "ExecuteTime": {
     "end_time": "2020-05-06T20:23:59.284405Z",
     "start_time": "2020-05-06T20:23:59.275533Z"
    }
   },
   "outputs": [
    {
     "data": {
      "text/plain": [
       "(1351, 12)"
      ]
     },
     "execution_count": 94,
     "metadata": {},
     "output_type": "execute_result"
    }
   ],
   "source": [
    "totaldiet_pnp1.shape"
   ]
  },
  {
   "cell_type": "code",
   "execution_count": 95,
   "metadata": {
    "ExecuteTime": {
     "end_time": "2020-05-06T20:24:00.718197Z",
     "start_time": "2020-05-06T20:24:00.701963Z"
    }
   },
   "outputs": [],
   "source": [
    "totaldiet_both_plus = pd.concat([totaldiet_pnp3, totaldiet_pnp1])"
   ]
  },
  {
   "cell_type": "code",
   "execution_count": 96,
   "metadata": {
    "ExecuteTime": {
     "end_time": "2020-05-06T20:24:04.805754Z",
     "start_time": "2020-05-06T20:24:04.794191Z"
    }
   },
   "outputs": [
    {
     "data": {
      "text/plain": [
       "(3948, 12)"
      ]
     },
     "execution_count": 96,
     "metadata": {},
     "output_type": "execute_result"
    }
   ],
   "source": [
    "totaldiet_both_plus.shape"
   ]
  },
  {
   "cell_type": "markdown",
   "metadata": {},
   "source": [
    "### Split diet from both studies"
   ]
  },
  {
   "cell_type": "code",
   "execution_count": 97,
   "metadata": {
    "ExecuteTime": {
     "end_time": "2020-05-06T20:24:13.124150Z",
     "start_time": "2020-05-06T20:24:09.391017Z"
    }
   },
   "outputs": [
    {
     "name": "stderr",
     "output_type": "stream",
     "text": [
      "/home/elming/anaconda3/envs/mylabdata/lib/python3.7/site-packages/ipykernel_launcher.py:27: FutureWarning:\n",
      "\n",
      "\n",
      "Passing list-likes to .loc or [] with any missing label will raise\n",
      "KeyError in the future, you can use .reindex() as an alternative.\n",
      "\n",
      "See the documentation here:\n",
      "https://pandas.pydata.org/pandas-docs/stable/user_guide/indexing.html#deprecate-loc-reindex-listlike\n",
      "\n"
     ]
    }
   ],
   "source": [
    "splitdiet_both =  prepare_diet_data(nutrient_list, study_ids=[1,3], prof_index=prof_index_both, min_cal_per_day=1000, \n",
    "                  how='split_diet')"
   ]
  },
  {
   "cell_type": "code",
   "execution_count": 98,
   "metadata": {
    "ExecuteTime": {
     "end_time": "2020-05-06T20:24:13.458922Z",
     "start_time": "2020-05-06T20:24:13.454888Z"
    }
   },
   "outputs": [
    {
     "data": {
      "text/plain": [
       "(3342, 43)"
      ]
     },
     "execution_count": 98,
     "metadata": {},
     "output_type": "execute_result"
    }
   ],
   "source": [
    "splitdiet_both.shape"
   ]
  },
  {
   "cell_type": "code",
   "execution_count": 99,
   "metadata": {
    "ExecuteTime": {
     "end_time": "2020-05-06T20:24:18.954688Z",
     "start_time": "2020-05-06T20:24:14.952144Z"
    }
   },
   "outputs": [
    {
     "name": "stderr",
     "output_type": "stream",
     "text": [
      "/home/elming/anaconda3/envs/mylabdata/lib/python3.7/site-packages/ipykernel_launcher.py:27: FutureWarning:\n",
      "\n",
      "\n",
      "Passing list-likes to .loc or [] with any missing label will raise\n",
      "KeyError in the future, you can use .reindex() as an alternative.\n",
      "\n",
      "See the documentation here:\n",
      "https://pandas.pydata.org/pandas-docs/stable/user_guide/indexing.html#deprecate-loc-reindex-listlike\n",
      "\n"
     ]
    }
   ],
   "source": [
    "splitdiet_pnp3 = prepare_diet_data(nutrient_list, study_ids=3, prof_index=prof_index_pnp3, min_cal_per_day=1000, \n",
    "                  how='split_diet')\n",
    "\n",
    "splitdiet_pnp1 =  prepare_diet_data(nutrient_list, study_ids=1, prof_index=prof_index_pnp1, min_cal_per_day=1000, \n",
    "                  how='split_diet')"
   ]
  },
  {
   "cell_type": "code",
   "execution_count": 100,
   "metadata": {
    "ExecuteTime": {
     "end_time": "2020-05-06T20:24:19.337344Z",
     "start_time": "2020-05-06T20:24:19.329139Z"
    }
   },
   "outputs": [],
   "source": [
    "splitdiet_both_plus = pd.concat([splitdiet_pnp3, splitdiet_pnp1])"
   ]
  },
  {
   "cell_type": "code",
   "execution_count": 101,
   "metadata": {
    "ExecuteTime": {
     "end_time": "2020-05-06T20:24:25.592953Z",
     "start_time": "2020-05-06T20:24:25.585804Z"
    }
   },
   "outputs": [
    {
     "data": {
      "text/plain": [
       "(3948, 43)"
      ]
     },
     "execution_count": 101,
     "metadata": {},
     "output_type": "execute_result"
    }
   ],
   "source": [
    "splitdiet_both_plus.shape"
   ]
  },
  {
   "cell_type": "code",
   "execution_count": 102,
   "metadata": {
    "ExecuteTime": {
     "end_time": "2020-05-06T20:24:26.702385Z",
     "start_time": "2020-05-06T20:24:26.693690Z"
    }
   },
   "outputs": [
    {
     "data": {
      "text/plain": [
       "Index(['caffeine_mg_b', 'caffeine_mg_d', 'caffeine_mg_l', 'caffeine_mg_ld',\n",
       "       'score_b', 'score_d', 'score_l', 'score_ld', 'sugarstotal_g_b',\n",
       "       'sugarstotal_g_d', 'sugarstotal_g_l', 'sugarstotal_g_ld', 'weight_b',\n",
       "       'weight_d', 'weight_l', 'weight_ld', 'energy_kcal_b', 'energy_kcal_d',\n",
       "       'energy_kcal_l', 'energy_kcal_ld', 'protein_g_b', 'protein_g_d',\n",
       "       'protein_g_l', 'protein_g_ld', 'sodium_mg_b', 'sodium_mg_d',\n",
       "       'sodium_mg_l', 'sodium_mg_ld', 'totallipid_g_b', 'totallipid_g_d',\n",
       "       'totallipid_g_l', 'totallipid_g_ld', 'totaldietaryfiber_g_b',\n",
       "       'totaldietaryfiber_g_d', 'totaldietaryfiber_g_l',\n",
       "       'totaldietaryfiber_g_ld', 'carbohydrate_g_b', 'carbohydrate_g_d',\n",
       "       'carbohydrate_g_l', 'carbohydrate_g_ld', 'carbs/lipids_b',\n",
       "       'carbs/lipids_d', 'carbs/lipids_l'],\n",
       "      dtype='object')"
      ]
     },
     "execution_count": 102,
     "metadata": {},
     "output_type": "execute_result"
    }
   ],
   "source": [
    "splitdiet_both_plus.columns"
   ]
  },
  {
   "cell_type": "code",
   "execution_count": 103,
   "metadata": {
    "ExecuteTime": {
     "end_time": "2020-05-06T20:24:28.025763Z",
     "start_time": "2020-05-06T20:24:28.017862Z"
    }
   },
   "outputs": [],
   "source": [
    "splitdiet_both_plus = splitdiet_both_plus.drop(columns=['score_b', 'score_d',\n",
    "       'score_l', 'score_ld'])"
   ]
  },
  {
   "cell_type": "markdown",
   "metadata": {},
   "source": [
    "## Body measurments and blood tests"
   ]
  },
  {
   "cell_type": "code",
   "execution_count": 104,
   "metadata": {
    "ExecuteTime": {
     "end_time": "2020-05-06T20:24:34.615824Z",
     "start_time": "2020-05-06T20:24:31.515372Z"
    }
   },
   "outputs": [],
   "source": [
    "sl = SubjectLoader()\n",
    "participants = sl.get_data(study_ids=[1,3]).df\n",
    "\n",
    "bml = BodyMeasuresLoader()\n",
    "body_meas = bml.get_data(study_ids=[1,3]).df\n",
    "\n",
    "btl = BloodTestsLoader()\n",
    "blood_tests = btl.get_data(study_ids=[1,3]).df"
   ]
  },
  {
   "cell_type": "code",
   "execution_count": 105,
   "metadata": {
    "ExecuteTime": {
     "end_time": "2020-05-06T20:24:35.162320Z",
     "start_time": "2020-05-06T20:24:35.154357Z"
    }
   },
   "outputs": [],
   "source": [
    "def calc_mean_per_person(df, nans_limit=30):\n",
    "    \n",
    "    \"\"\"This function correctly filters for the columns with enough measurments in them and calculates means per person\"\"\"\n",
    "    \n",
    "    # df = df.dropna(axis=1, how='all')\n",
    "    # Zeros disturb the correct calculation of the mean, NaNs do not\n",
    "    df = df.replace(0, np.NaN)\n",
    "    df = df.reset_index()\n",
    "    df_means = df.drop(columns=['Date']).groupby('RegistrationCode').mean()\n",
    "    # Some columns include too many NaN values, nans_limit was determined manually\n",
    "    sum_nans = df_means.isnull().sum().rename('sum').to_frame()\n",
    "    too_many_nans = sum_nans[sum_nans['sum'] > nans_limit].index\n",
    "    df_means = df_means.drop(columns=too_many_nans)\n",
    "    df_means = df_means.dropna(axis=0, how='any')\n",
    "    \n",
    "    return df_means"
   ]
  },
  {
   "cell_type": "code",
   "execution_count": 106,
   "metadata": {
    "ExecuteTime": {
     "end_time": "2020-05-06T20:24:36.521339Z",
     "start_time": "2020-05-06T20:24:36.455980Z"
    }
   },
   "outputs": [],
   "source": [
    "body_meas_means = calc_mean_per_person(body_meas)\n",
    "\n",
    "blood_tests_means = calc_mean_per_person(blood_tests)"
   ]
  },
  {
   "cell_type": "code",
   "execution_count": 107,
   "metadata": {
    "ExecuteTime": {
     "end_time": "2020-05-06T20:24:50.471568Z",
     "start_time": "2020-05-06T20:24:50.462076Z"
    }
   },
   "outputs": [],
   "source": [
    "def merge_all_personal_data(bt_means, bm_means, participants):\n",
    "    bm_bt = pd.merge(bm_means, bt_means, on='RegistrationCode')\n",
    "    participants = participants.reset_index('Date')\n",
    "    pers_data = pd.merge(bm_bt, participants[['age', 'gender']], on='RegistrationCode')\n",
    "    return pers_data"
   ]
  },
  {
   "cell_type": "code",
   "execution_count": 108,
   "metadata": {
    "ExecuteTime": {
     "end_time": "2020-05-06T20:24:51.688839Z",
     "start_time": "2020-05-06T20:24:51.657051Z"
    }
   },
   "outputs": [],
   "source": [
    "pers_data = merge_all_personal_data(blood_tests_means, body_meas_means, participants)"
   ]
  },
  {
   "cell_type": "code",
   "execution_count": 109,
   "metadata": {
    "ExecuteTime": {
     "end_time": "2020-05-06T20:24:54.960579Z",
     "start_time": "2020-05-06T20:24:54.907572Z"
    },
    "scrolled": true
   },
   "outputs": [
    {
     "data": {
      "text/html": [
       "<div>\n",
       "<style scoped>\n",
       "    .dataframe tbody tr th:only-of-type {\n",
       "        vertical-align: middle;\n",
       "    }\n",
       "\n",
       "    .dataframe tbody tr th {\n",
       "        vertical-align: top;\n",
       "    }\n",
       "\n",
       "    .dataframe thead th {\n",
       "        text-align: right;\n",
       "    }\n",
       "</style>\n",
       "<table border=\"1\" class=\"dataframe\">\n",
       "  <thead>\n",
       "    <tr style=\"text-align: right;\">\n",
       "      <th></th>\n",
       "      <th>sitting_blood_pressure_diastolic</th>\n",
       "      <th>sitting_blood_pressure_systolic</th>\n",
       "      <th>hips</th>\n",
       "      <th>weight</th>\n",
       "      <th>waist</th>\n",
       "      <th>sitting_blood_pressure_pulse_rate</th>\n",
       "      <th>height</th>\n",
       "      <th>bmi</th>\n",
       "      <th>bt__lymphocytes_%</th>\n",
       "      <th>bt__mcv</th>\n",
       "      <th>...</th>\n",
       "      <th>bt__alt_gpt</th>\n",
       "      <th>bt__hdl_cholesterol</th>\n",
       "      <th>bt__crp_synthetic</th>\n",
       "      <th>bt__monocytes_%</th>\n",
       "      <th>bt__mchc</th>\n",
       "      <th>bt__platelets</th>\n",
       "      <th>bt__neutrophils_%</th>\n",
       "      <th>bt__albumin</th>\n",
       "      <th>age</th>\n",
       "      <th>gender</th>\n",
       "    </tr>\n",
       "    <tr>\n",
       "      <th>RegistrationCode</th>\n",
       "      <th></th>\n",
       "      <th></th>\n",
       "      <th></th>\n",
       "      <th></th>\n",
       "      <th></th>\n",
       "      <th></th>\n",
       "      <th></th>\n",
       "      <th></th>\n",
       "      <th></th>\n",
       "      <th></th>\n",
       "      <th></th>\n",
       "      <th></th>\n",
       "      <th></th>\n",
       "      <th></th>\n",
       "      <th></th>\n",
       "      <th></th>\n",
       "      <th></th>\n",
       "      <th></th>\n",
       "      <th></th>\n",
       "      <th></th>\n",
       "      <th></th>\n",
       "    </tr>\n",
       "  </thead>\n",
       "  <tbody>\n",
       "    <tr>\n",
       "      <th>10260</th>\n",
       "      <td>101.0</td>\n",
       "      <td>153.0</td>\n",
       "      <td>106.0</td>\n",
       "      <td>68.0</td>\n",
       "      <td>82.0</td>\n",
       "      <td>68.0</td>\n",
       "      <td>163.0</td>\n",
       "      <td>25.593737</td>\n",
       "      <td>21.5</td>\n",
       "      <td>89.7</td>\n",
       "      <td>...</td>\n",
       "      <td>31.0</td>\n",
       "      <td>48.2</td>\n",
       "      <td>0.236016</td>\n",
       "      <td>6.9</td>\n",
       "      <td>33.1</td>\n",
       "      <td>227.0</td>\n",
       "      <td>69.5</td>\n",
       "      <td>4.6</td>\n",
       "      <td>50.0</td>\n",
       "      <td>0.0</td>\n",
       "    </tr>\n",
       "    <tr>\n",
       "      <th>102813</th>\n",
       "      <td>69.0</td>\n",
       "      <td>122.0</td>\n",
       "      <td>100.0</td>\n",
       "      <td>82.0</td>\n",
       "      <td>85.0</td>\n",
       "      <td>58.0</td>\n",
       "      <td>186.0</td>\n",
       "      <td>23.702162</td>\n",
       "      <td>28.2</td>\n",
       "      <td>96.0</td>\n",
       "      <td>...</td>\n",
       "      <td>18.0</td>\n",
       "      <td>46.7</td>\n",
       "      <td>-0.497890</td>\n",
       "      <td>8.2</td>\n",
       "      <td>33.0</td>\n",
       "      <td>241.0</td>\n",
       "      <td>61.7</td>\n",
       "      <td>5.0</td>\n",
       "      <td>43.0</td>\n",
       "      <td>1.0</td>\n",
       "    </tr>\n",
       "    <tr>\n",
       "      <th>102855</th>\n",
       "      <td>69.0</td>\n",
       "      <td>108.0</td>\n",
       "      <td>92.0</td>\n",
       "      <td>57.0</td>\n",
       "      <td>80.0</td>\n",
       "      <td>68.0</td>\n",
       "      <td>160.0</td>\n",
       "      <td>22.265625</td>\n",
       "      <td>29.8</td>\n",
       "      <td>90.1</td>\n",
       "      <td>...</td>\n",
       "      <td>11.0</td>\n",
       "      <td>43.6</td>\n",
       "      <td>0.775252</td>\n",
       "      <td>6.7</td>\n",
       "      <td>32.2</td>\n",
       "      <td>309.0</td>\n",
       "      <td>60.3</td>\n",
       "      <td>4.5</td>\n",
       "      <td>43.0</td>\n",
       "      <td>0.0</td>\n",
       "    </tr>\n",
       "    <tr>\n",
       "      <th>103543</th>\n",
       "      <td>67.0</td>\n",
       "      <td>127.0</td>\n",
       "      <td>101.0</td>\n",
       "      <td>55.0</td>\n",
       "      <td>73.0</td>\n",
       "      <td>44.0</td>\n",
       "      <td>152.0</td>\n",
       "      <td>23.805401</td>\n",
       "      <td>23.5</td>\n",
       "      <td>89.9</td>\n",
       "      <td>...</td>\n",
       "      <td>19.0</td>\n",
       "      <td>65.6</td>\n",
       "      <td>-0.194567</td>\n",
       "      <td>4.7</td>\n",
       "      <td>34.4</td>\n",
       "      <td>243.0</td>\n",
       "      <td>70.9</td>\n",
       "      <td>4.4</td>\n",
       "      <td>66.0</td>\n",
       "      <td>0.0</td>\n",
       "    </tr>\n",
       "    <tr>\n",
       "      <th>105043</th>\n",
       "      <td>86.0</td>\n",
       "      <td>153.0</td>\n",
       "      <td>106.0</td>\n",
       "      <td>109.0</td>\n",
       "      <td>114.0</td>\n",
       "      <td>56.0</td>\n",
       "      <td>179.0</td>\n",
       "      <td>34.018913</td>\n",
       "      <td>45.0</td>\n",
       "      <td>80.3</td>\n",
       "      <td>...</td>\n",
       "      <td>28.0</td>\n",
       "      <td>48.6</td>\n",
       "      <td>0.165594</td>\n",
       "      <td>7.7</td>\n",
       "      <td>32.5</td>\n",
       "      <td>251.0</td>\n",
       "      <td>44.4</td>\n",
       "      <td>4.7</td>\n",
       "      <td>64.0</td>\n",
       "      <td>1.0</td>\n",
       "    </tr>\n",
       "  </tbody>\n",
       "</table>\n",
       "<p>5 rows × 33 columns</p>\n",
       "</div>"
      ],
      "text/plain": [
       "                  sitting_blood_pressure_diastolic  \\\n",
       "RegistrationCode                                     \n",
       "10260                                        101.0   \n",
       "102813                                        69.0   \n",
       "102855                                        69.0   \n",
       "103543                                        67.0   \n",
       "105043                                        86.0   \n",
       "\n",
       "                  sitting_blood_pressure_systolic   hips  weight  waist  \\\n",
       "RegistrationCode                                                          \n",
       "10260                                       153.0  106.0    68.0   82.0   \n",
       "102813                                      122.0  100.0    82.0   85.0   \n",
       "102855                                      108.0   92.0    57.0   80.0   \n",
       "103543                                      127.0  101.0    55.0   73.0   \n",
       "105043                                      153.0  106.0   109.0  114.0   \n",
       "\n",
       "                  sitting_blood_pressure_pulse_rate  height        bmi  \\\n",
       "RegistrationCode                                                         \n",
       "10260                                          68.0   163.0  25.593737   \n",
       "102813                                         58.0   186.0  23.702162   \n",
       "102855                                         68.0   160.0  22.265625   \n",
       "103543                                         44.0   152.0  23.805401   \n",
       "105043                                         56.0   179.0  34.018913   \n",
       "\n",
       "                  bt__lymphocytes_%  bt__mcv  ...  bt__alt_gpt  \\\n",
       "RegistrationCode                              ...                \n",
       "10260                          21.5     89.7  ...         31.0   \n",
       "102813                         28.2     96.0  ...         18.0   \n",
       "102855                         29.8     90.1  ...         11.0   \n",
       "103543                         23.5     89.9  ...         19.0   \n",
       "105043                         45.0     80.3  ...         28.0   \n",
       "\n",
       "                  bt__hdl_cholesterol  bt__crp_synthetic  bt__monocytes_%  \\\n",
       "RegistrationCode                                                            \n",
       "10260                            48.2           0.236016              6.9   \n",
       "102813                           46.7          -0.497890              8.2   \n",
       "102855                           43.6           0.775252              6.7   \n",
       "103543                           65.6          -0.194567              4.7   \n",
       "105043                           48.6           0.165594              7.7   \n",
       "\n",
       "                  bt__mchc  bt__platelets  bt__neutrophils_%  bt__albumin  \\\n",
       "RegistrationCode                                                            \n",
       "10260                 33.1          227.0               69.5          4.6   \n",
       "102813                33.0          241.0               61.7          5.0   \n",
       "102855                32.2          309.0               60.3          4.5   \n",
       "103543                34.4          243.0               70.9          4.4   \n",
       "105043                32.5          251.0               44.4          4.7   \n",
       "\n",
       "                   age  gender  \n",
       "RegistrationCode                \n",
       "10260             50.0     0.0  \n",
       "102813            43.0     1.0  \n",
       "102855            43.0     0.0  \n",
       "103543            66.0     0.0  \n",
       "105043            64.0     1.0  \n",
       "\n",
       "[5 rows x 33 columns]"
      ]
     },
     "execution_count": 109,
     "metadata": {},
     "output_type": "execute_result"
    }
   ],
   "source": [
    "pers_data.head()"
   ]
  },
  {
   "cell_type": "code",
   "execution_count": 110,
   "metadata": {
    "ExecuteTime": {
     "end_time": "2020-05-06T20:24:57.815927Z",
     "start_time": "2020-05-06T20:24:57.753894Z"
    },
    "scrolled": true
   },
   "outputs": [
    {
     "data": {
      "text/html": [
       "<div>\n",
       "<style scoped>\n",
       "    .dataframe tbody tr th:only-of-type {\n",
       "        vertical-align: middle;\n",
       "    }\n",
       "\n",
       "    .dataframe tbody tr th {\n",
       "        vertical-align: top;\n",
       "    }\n",
       "\n",
       "    .dataframe thead th {\n",
       "        text-align: right;\n",
       "    }\n",
       "</style>\n",
       "<table border=\"1\" class=\"dataframe\">\n",
       "  <thead>\n",
       "    <tr style=\"text-align: right;\">\n",
       "      <th></th>\n",
       "      <th>sitting_blood_pressure_diastolic</th>\n",
       "      <th>sitting_blood_pressure_systolic</th>\n",
       "      <th>hips</th>\n",
       "      <th>weight</th>\n",
       "      <th>waist</th>\n",
       "      <th>sitting_blood_pressure_pulse_rate</th>\n",
       "      <th>height</th>\n",
       "      <th>bmi</th>\n",
       "      <th>bt__lymphocytes_%</th>\n",
       "      <th>bt__mcv</th>\n",
       "      <th>...</th>\n",
       "      <th>bt__alt_gpt</th>\n",
       "      <th>bt__hdl_cholesterol</th>\n",
       "      <th>bt__crp_synthetic</th>\n",
       "      <th>bt__monocytes_%</th>\n",
       "      <th>bt__mchc</th>\n",
       "      <th>bt__platelets</th>\n",
       "      <th>bt__neutrophils_%</th>\n",
       "      <th>bt__albumin</th>\n",
       "      <th>age</th>\n",
       "      <th>gender</th>\n",
       "    </tr>\n",
       "    <tr>\n",
       "      <th>RegistrationCode</th>\n",
       "      <th></th>\n",
       "      <th></th>\n",
       "      <th></th>\n",
       "      <th></th>\n",
       "      <th></th>\n",
       "      <th></th>\n",
       "      <th></th>\n",
       "      <th></th>\n",
       "      <th></th>\n",
       "      <th></th>\n",
       "      <th></th>\n",
       "      <th></th>\n",
       "      <th></th>\n",
       "      <th></th>\n",
       "      <th></th>\n",
       "      <th></th>\n",
       "      <th></th>\n",
       "      <th></th>\n",
       "      <th></th>\n",
       "      <th></th>\n",
       "      <th></th>\n",
       "    </tr>\n",
       "  </thead>\n",
       "  <tbody>\n",
       "    <tr>\n",
       "      <th>17</th>\n",
       "      <td>70.0</td>\n",
       "      <td>114.0</td>\n",
       "      <td>94.0</td>\n",
       "      <td>63.00</td>\n",
       "      <td>74.0</td>\n",
       "      <td>64.0</td>\n",
       "      <td>176.0</td>\n",
       "      <td>20.338326</td>\n",
       "      <td>31.0</td>\n",
       "      <td>90.0</td>\n",
       "      <td>...</td>\n",
       "      <td>8.0</td>\n",
       "      <td>47.5</td>\n",
       "      <td>-0.518987</td>\n",
       "      <td>6.9</td>\n",
       "      <td>34.3</td>\n",
       "      <td>224.0</td>\n",
       "      <td>51.4</td>\n",
       "      <td>4.5</td>\n",
       "      <td>NaN</td>\n",
       "      <td>NaN</td>\n",
       "    </tr>\n",
       "    <tr>\n",
       "      <th>190765</th>\n",
       "      <td>92.0</td>\n",
       "      <td>134.0</td>\n",
       "      <td>101.0</td>\n",
       "      <td>58.00</td>\n",
       "      <td>75.0</td>\n",
       "      <td>79.0</td>\n",
       "      <td>158.0</td>\n",
       "      <td>23.233456</td>\n",
       "      <td>34.5</td>\n",
       "      <td>89.4</td>\n",
       "      <td>...</td>\n",
       "      <td>33.0</td>\n",
       "      <td>55.6</td>\n",
       "      <td>-0.325352</td>\n",
       "      <td>7.5</td>\n",
       "      <td>32.7</td>\n",
       "      <td>329.0</td>\n",
       "      <td>55.3</td>\n",
       "      <td>4.5</td>\n",
       "      <td>NaN</td>\n",
       "      <td>0.0</td>\n",
       "    </tr>\n",
       "    <tr>\n",
       "      <th>213134</th>\n",
       "      <td>69.0</td>\n",
       "      <td>118.0</td>\n",
       "      <td>114.0</td>\n",
       "      <td>91.00</td>\n",
       "      <td>102.0</td>\n",
       "      <td>86.0</td>\n",
       "      <td>154.0</td>\n",
       "      <td>38.370720</td>\n",
       "      <td>22.5</td>\n",
       "      <td>86.7</td>\n",
       "      <td>...</td>\n",
       "      <td>11.0</td>\n",
       "      <td>53.6</td>\n",
       "      <td>0.525755</td>\n",
       "      <td>7.9</td>\n",
       "      <td>33.8</td>\n",
       "      <td>284.0</td>\n",
       "      <td>67.9</td>\n",
       "      <td>4.5</td>\n",
       "      <td>NaN</td>\n",
       "      <td>0.0</td>\n",
       "    </tr>\n",
       "    <tr>\n",
       "      <th>215547</th>\n",
       "      <td>73.5</td>\n",
       "      <td>108.0</td>\n",
       "      <td>95.5</td>\n",
       "      <td>58.15</td>\n",
       "      <td>69.5</td>\n",
       "      <td>62.0</td>\n",
       "      <td>164.0</td>\n",
       "      <td>21.631115</td>\n",
       "      <td>28.9</td>\n",
       "      <td>98.5</td>\n",
       "      <td>...</td>\n",
       "      <td>9.0</td>\n",
       "      <td>80.4</td>\n",
       "      <td>-0.586922</td>\n",
       "      <td>6.4</td>\n",
       "      <td>32.8</td>\n",
       "      <td>286.0</td>\n",
       "      <td>63.3</td>\n",
       "      <td>4.6</td>\n",
       "      <td>NaN</td>\n",
       "      <td>0.0</td>\n",
       "    </tr>\n",
       "    <tr>\n",
       "      <th>215547</th>\n",
       "      <td>73.5</td>\n",
       "      <td>108.0</td>\n",
       "      <td>95.5</td>\n",
       "      <td>58.15</td>\n",
       "      <td>69.5</td>\n",
       "      <td>62.0</td>\n",
       "      <td>164.0</td>\n",
       "      <td>21.631115</td>\n",
       "      <td>28.9</td>\n",
       "      <td>98.5</td>\n",
       "      <td>...</td>\n",
       "      <td>9.0</td>\n",
       "      <td>80.4</td>\n",
       "      <td>-0.586922</td>\n",
       "      <td>6.4</td>\n",
       "      <td>32.8</td>\n",
       "      <td>286.0</td>\n",
       "      <td>63.3</td>\n",
       "      <td>4.6</td>\n",
       "      <td>NaN</td>\n",
       "      <td>0.0</td>\n",
       "    </tr>\n",
       "    <tr>\n",
       "      <th>241938</th>\n",
       "      <td>80.0</td>\n",
       "      <td>138.0</td>\n",
       "      <td>107.0</td>\n",
       "      <td>84.00</td>\n",
       "      <td>99.0</td>\n",
       "      <td>72.0</td>\n",
       "      <td>178.0</td>\n",
       "      <td>26.511805</td>\n",
       "      <td>24.2</td>\n",
       "      <td>90.7</td>\n",
       "      <td>...</td>\n",
       "      <td>40.0</td>\n",
       "      <td>46.3</td>\n",
       "      <td>-0.540644</td>\n",
       "      <td>9.6</td>\n",
       "      <td>32.7</td>\n",
       "      <td>268.0</td>\n",
       "      <td>62.3</td>\n",
       "      <td>4.4</td>\n",
       "      <td>NaN</td>\n",
       "      <td>1.0</td>\n",
       "    </tr>\n",
       "    <tr>\n",
       "      <th>548421</th>\n",
       "      <td>79.0</td>\n",
       "      <td>107.0</td>\n",
       "      <td>116.0</td>\n",
       "      <td>93.00</td>\n",
       "      <td>95.0</td>\n",
       "      <td>80.0</td>\n",
       "      <td>169.0</td>\n",
       "      <td>32.561886</td>\n",
       "      <td>23.9</td>\n",
       "      <td>92.0</td>\n",
       "      <td>...</td>\n",
       "      <td>16.0</td>\n",
       "      <td>64.9</td>\n",
       "      <td>0.240506</td>\n",
       "      <td>4.4</td>\n",
       "      <td>33.0</td>\n",
       "      <td>421.0</td>\n",
       "      <td>68.3</td>\n",
       "      <td>4.4</td>\n",
       "      <td>NaN</td>\n",
       "      <td>0.0</td>\n",
       "    </tr>\n",
       "    <tr>\n",
       "      <th>657716</th>\n",
       "      <td>82.0</td>\n",
       "      <td>113.0</td>\n",
       "      <td>104.0</td>\n",
       "      <td>66.00</td>\n",
       "      <td>83.0</td>\n",
       "      <td>76.0</td>\n",
       "      <td>155.0</td>\n",
       "      <td>27.471384</td>\n",
       "      <td>28.5</td>\n",
       "      <td>93.0</td>\n",
       "      <td>...</td>\n",
       "      <td>14.0</td>\n",
       "      <td>39.4</td>\n",
       "      <td>-0.603376</td>\n",
       "      <td>4.9</td>\n",
       "      <td>32.9</td>\n",
       "      <td>169.0</td>\n",
       "      <td>62.7</td>\n",
       "      <td>4.8</td>\n",
       "      <td>NaN</td>\n",
       "      <td>0.0</td>\n",
       "    </tr>\n",
       "    <tr>\n",
       "      <th>738601</th>\n",
       "      <td>83.0</td>\n",
       "      <td>115.0</td>\n",
       "      <td>100.0</td>\n",
       "      <td>60.00</td>\n",
       "      <td>85.0</td>\n",
       "      <td>79.0</td>\n",
       "      <td>160.0</td>\n",
       "      <td>23.437500</td>\n",
       "      <td>29.4</td>\n",
       "      <td>89.0</td>\n",
       "      <td>...</td>\n",
       "      <td>12.0</td>\n",
       "      <td>54.0</td>\n",
       "      <td>-0.560765</td>\n",
       "      <td>5.4</td>\n",
       "      <td>32.8</td>\n",
       "      <td>306.0</td>\n",
       "      <td>63.1</td>\n",
       "      <td>4.2</td>\n",
       "      <td>NaN</td>\n",
       "      <td>0.0</td>\n",
       "    </tr>\n",
       "    <tr>\n",
       "      <th>744401</th>\n",
       "      <td>68.0</td>\n",
       "      <td>107.0</td>\n",
       "      <td>98.0</td>\n",
       "      <td>75.00</td>\n",
       "      <td>97.0</td>\n",
       "      <td>62.0</td>\n",
       "      <td>176.0</td>\n",
       "      <td>24.212294</td>\n",
       "      <td>29.1</td>\n",
       "      <td>89.6</td>\n",
       "      <td>...</td>\n",
       "      <td>13.0</td>\n",
       "      <td>53.9</td>\n",
       "      <td>-0.512475</td>\n",
       "      <td>8.6</td>\n",
       "      <td>34.0</td>\n",
       "      <td>181.0</td>\n",
       "      <td>61.0</td>\n",
       "      <td>4.4</td>\n",
       "      <td>NaN</td>\n",
       "      <td>1.0</td>\n",
       "    </tr>\n",
       "    <tr>\n",
       "      <th>784215</th>\n",
       "      <td>67.0</td>\n",
       "      <td>114.0</td>\n",
       "      <td>102.0</td>\n",
       "      <td>58.00</td>\n",
       "      <td>76.0</td>\n",
       "      <td>54.0</td>\n",
       "      <td>156.0</td>\n",
       "      <td>23.833004</td>\n",
       "      <td>45.2</td>\n",
       "      <td>91.2</td>\n",
       "      <td>...</td>\n",
       "      <td>15.0</td>\n",
       "      <td>71.9</td>\n",
       "      <td>-0.607042</td>\n",
       "      <td>6.9</td>\n",
       "      <td>33.4</td>\n",
       "      <td>230.0</td>\n",
       "      <td>45.3</td>\n",
       "      <td>4.5</td>\n",
       "      <td>NaN</td>\n",
       "      <td>0.0</td>\n",
       "    </tr>\n",
       "    <tr>\n",
       "      <th>86356</th>\n",
       "      <td>76.0</td>\n",
       "      <td>107.0</td>\n",
       "      <td>115.0</td>\n",
       "      <td>81.00</td>\n",
       "      <td>105.0</td>\n",
       "      <td>84.0</td>\n",
       "      <td>160.0</td>\n",
       "      <td>31.640625</td>\n",
       "      <td>42.2</td>\n",
       "      <td>82.0</td>\n",
       "      <td>...</td>\n",
       "      <td>12.0</td>\n",
       "      <td>45.1</td>\n",
       "      <td>-0.392405</td>\n",
       "      <td>7.8</td>\n",
       "      <td>33.6</td>\n",
       "      <td>278.0</td>\n",
       "      <td>41.1</td>\n",
       "      <td>4.7</td>\n",
       "      <td>NaN</td>\n",
       "      <td>NaN</td>\n",
       "    </tr>\n",
       "  </tbody>\n",
       "</table>\n",
       "<p>12 rows × 33 columns</p>\n",
       "</div>"
      ],
      "text/plain": [
       "                  sitting_blood_pressure_diastolic  \\\n",
       "RegistrationCode                                     \n",
       "17                                            70.0   \n",
       "190765                                        92.0   \n",
       "213134                                        69.0   \n",
       "215547                                        73.5   \n",
       "215547                                        73.5   \n",
       "241938                                        80.0   \n",
       "548421                                        79.0   \n",
       "657716                                        82.0   \n",
       "738601                                        83.0   \n",
       "744401                                        68.0   \n",
       "784215                                        67.0   \n",
       "86356                                         76.0   \n",
       "\n",
       "                  sitting_blood_pressure_systolic   hips  weight  waist  \\\n",
       "RegistrationCode                                                          \n",
       "17                                          114.0   94.0   63.00   74.0   \n",
       "190765                                      134.0  101.0   58.00   75.0   \n",
       "213134                                      118.0  114.0   91.00  102.0   \n",
       "215547                                      108.0   95.5   58.15   69.5   \n",
       "215547                                      108.0   95.5   58.15   69.5   \n",
       "241938                                      138.0  107.0   84.00   99.0   \n",
       "548421                                      107.0  116.0   93.00   95.0   \n",
       "657716                                      113.0  104.0   66.00   83.0   \n",
       "738601                                      115.0  100.0   60.00   85.0   \n",
       "744401                                      107.0   98.0   75.00   97.0   \n",
       "784215                                      114.0  102.0   58.00   76.0   \n",
       "86356                                       107.0  115.0   81.00  105.0   \n",
       "\n",
       "                  sitting_blood_pressure_pulse_rate  height        bmi  \\\n",
       "RegistrationCode                                                         \n",
       "17                                             64.0   176.0  20.338326   \n",
       "190765                                         79.0   158.0  23.233456   \n",
       "213134                                         86.0   154.0  38.370720   \n",
       "215547                                         62.0   164.0  21.631115   \n",
       "215547                                         62.0   164.0  21.631115   \n",
       "241938                                         72.0   178.0  26.511805   \n",
       "548421                                         80.0   169.0  32.561886   \n",
       "657716                                         76.0   155.0  27.471384   \n",
       "738601                                         79.0   160.0  23.437500   \n",
       "744401                                         62.0   176.0  24.212294   \n",
       "784215                                         54.0   156.0  23.833004   \n",
       "86356                                          84.0   160.0  31.640625   \n",
       "\n",
       "                  bt__lymphocytes_%  bt__mcv  ...  bt__alt_gpt  \\\n",
       "RegistrationCode                              ...                \n",
       "17                             31.0     90.0  ...          8.0   \n",
       "190765                         34.5     89.4  ...         33.0   \n",
       "213134                         22.5     86.7  ...         11.0   \n",
       "215547                         28.9     98.5  ...          9.0   \n",
       "215547                         28.9     98.5  ...          9.0   \n",
       "241938                         24.2     90.7  ...         40.0   \n",
       "548421                         23.9     92.0  ...         16.0   \n",
       "657716                         28.5     93.0  ...         14.0   \n",
       "738601                         29.4     89.0  ...         12.0   \n",
       "744401                         29.1     89.6  ...         13.0   \n",
       "784215                         45.2     91.2  ...         15.0   \n",
       "86356                          42.2     82.0  ...         12.0   \n",
       "\n",
       "                  bt__hdl_cholesterol  bt__crp_synthetic  bt__monocytes_%  \\\n",
       "RegistrationCode                                                            \n",
       "17                               47.5          -0.518987              6.9   \n",
       "190765                           55.6          -0.325352              7.5   \n",
       "213134                           53.6           0.525755              7.9   \n",
       "215547                           80.4          -0.586922              6.4   \n",
       "215547                           80.4          -0.586922              6.4   \n",
       "241938                           46.3          -0.540644              9.6   \n",
       "548421                           64.9           0.240506              4.4   \n",
       "657716                           39.4          -0.603376              4.9   \n",
       "738601                           54.0          -0.560765              5.4   \n",
       "744401                           53.9          -0.512475              8.6   \n",
       "784215                           71.9          -0.607042              6.9   \n",
       "86356                            45.1          -0.392405              7.8   \n",
       "\n",
       "                  bt__mchc  bt__platelets  bt__neutrophils_%  bt__albumin  \\\n",
       "RegistrationCode                                                            \n",
       "17                    34.3          224.0               51.4          4.5   \n",
       "190765                32.7          329.0               55.3          4.5   \n",
       "213134                33.8          284.0               67.9          4.5   \n",
       "215547                32.8          286.0               63.3          4.6   \n",
       "215547                32.8          286.0               63.3          4.6   \n",
       "241938                32.7          268.0               62.3          4.4   \n",
       "548421                33.0          421.0               68.3          4.4   \n",
       "657716                32.9          169.0               62.7          4.8   \n",
       "738601                32.8          306.0               63.1          4.2   \n",
       "744401                34.0          181.0               61.0          4.4   \n",
       "784215                33.4          230.0               45.3          4.5   \n",
       "86356                 33.6          278.0               41.1          4.7   \n",
       "\n",
       "                  age  gender  \n",
       "RegistrationCode               \n",
       "17                NaN     NaN  \n",
       "190765            NaN     0.0  \n",
       "213134            NaN     0.0  \n",
       "215547            NaN     0.0  \n",
       "215547            NaN     0.0  \n",
       "241938            NaN     1.0  \n",
       "548421            NaN     0.0  \n",
       "657716            NaN     0.0  \n",
       "738601            NaN     0.0  \n",
       "744401            NaN     1.0  \n",
       "784215            NaN     0.0  \n",
       "86356             NaN     NaN  \n",
       "\n",
       "[12 rows x 33 columns]"
      ]
     },
     "execution_count": 110,
     "metadata": {},
     "output_type": "execute_result"
    }
   ],
   "source": [
    "pers_data[pers_data.isnull().any(axis=1)]"
   ]
  },
  {
   "cell_type": "code",
   "execution_count": 111,
   "metadata": {
    "ExecuteTime": {
     "end_time": "2020-05-06T20:24:59.735071Z",
     "start_time": "2020-05-06T20:24:59.726533Z"
    }
   },
   "outputs": [
    {
     "data": {
      "text/plain": [
       "(1213, 33)"
      ]
     },
     "execution_count": 111,
     "metadata": {},
     "output_type": "execute_result"
    }
   ],
   "source": [
    "pers_data.shape"
   ]
  },
  {
   "cell_type": "code",
   "execution_count": 112,
   "metadata": {
    "ExecuteTime": {
     "end_time": "2020-05-06T20:25:09.793733Z",
     "start_time": "2020-05-06T20:25:09.781353Z"
    }
   },
   "outputs": [],
   "source": [
    "pers_data_both = pers_data.dropna(axis=0, how='any')"
   ]
  },
  {
   "cell_type": "markdown",
   "metadata": {},
   "source": [
    "## Night stats"
   ]
  },
  {
   "cell_type": "markdown",
   "metadata": {},
   "source": [
    "Here I need to specifically choose nights where participants didn't eat. From the food log I need to identify rc-day pairs with food logging during the night and exclude them from the night stats table."
   ]
  },
  {
   "cell_type": "code",
   "execution_count": 113,
   "metadata": {
    "ExecuteTime": {
     "end_time": "2020-05-06T20:25:14.337789Z",
     "start_time": "2020-05-06T20:25:14.312415Z"
    },
    "scrolled": false
   },
   "outputs": [
    {
     "data": {
      "text/html": [
       "<div>\n",
       "<style scoped>\n",
       "    .dataframe tbody tr th:only-of-type {\n",
       "        vertical-align: middle;\n",
       "    }\n",
       "\n",
       "    .dataframe tbody tr th {\n",
       "        vertical-align: top;\n",
       "    }\n",
       "\n",
       "    .dataframe thead th {\n",
       "        text-align: right;\n",
       "    }\n",
       "</style>\n",
       "<table border=\"1\" class=\"dataframe\">\n",
       "  <thead>\n",
       "    <tr style=\"text-align: right;\">\n",
       "      <th></th>\n",
       "      <th>Date</th>\n",
       "      <th>RegistrationCode</th>\n",
       "      <th>ConnectionID</th>\n",
       "      <th>GlucoseValue</th>\n",
       "      <th>PPGR</th>\n",
       "      <th>Day</th>\n",
       "      <th>hour</th>\n",
       "    </tr>\n",
       "  </thead>\n",
       "  <tbody>\n",
       "    <tr>\n",
       "      <th>0</th>\n",
       "      <td>2017-11-07 14:28:00</td>\n",
       "      <td>111527</td>\n",
       "      <td>1926</td>\n",
       "      <td>108.0</td>\n",
       "      <td>16.75</td>\n",
       "      <td>2017-11-07</td>\n",
       "      <td>14</td>\n",
       "    </tr>\n",
       "    <tr>\n",
       "      <th>1</th>\n",
       "      <td>2017-11-07 14:43:00</td>\n",
       "      <td>111527</td>\n",
       "      <td>1926</td>\n",
       "      <td>118.0</td>\n",
       "      <td>1.25</td>\n",
       "      <td>2017-11-07</td>\n",
       "      <td>14</td>\n",
       "    </tr>\n",
       "    <tr>\n",
       "      <th>2</th>\n",
       "      <td>2017-11-07 14:58:00</td>\n",
       "      <td>111527</td>\n",
       "      <td>1926</td>\n",
       "      <td>119.0</td>\n",
       "      <td>2.75</td>\n",
       "      <td>2017-11-07</td>\n",
       "      <td>14</td>\n",
       "    </tr>\n",
       "    <tr>\n",
       "      <th>3</th>\n",
       "      <td>2017-11-07 15:13:00</td>\n",
       "      <td>111527</td>\n",
       "      <td>1926</td>\n",
       "      <td>119.0</td>\n",
       "      <td>5.50</td>\n",
       "      <td>2017-11-07</td>\n",
       "      <td>15</td>\n",
       "    </tr>\n",
       "    <tr>\n",
       "      <th>4</th>\n",
       "      <td>2017-11-07 15:28:00</td>\n",
       "      <td>111527</td>\n",
       "      <td>1926</td>\n",
       "      <td>121.0</td>\n",
       "      <td>3.25</td>\n",
       "      <td>2017-11-07</td>\n",
       "      <td>15</td>\n",
       "    </tr>\n",
       "  </tbody>\n",
       "</table>\n",
       "</div>"
      ],
      "text/plain": [
       "                 Date RegistrationCode ConnectionID  GlucoseValue   PPGR  \\\n",
       "0 2017-11-07 14:28:00           111527         1926         108.0  16.75   \n",
       "1 2017-11-07 14:43:00           111527         1926         118.0   1.25   \n",
       "2 2017-11-07 14:58:00           111527         1926         119.0   2.75   \n",
       "3 2017-11-07 15:13:00           111527         1926         119.0   5.50   \n",
       "4 2017-11-07 15:28:00           111527         1926         121.0   3.25   \n",
       "\n",
       "          Day  hour  \n",
       "0  2017-11-07    14  \n",
       "1  2017-11-07    14  \n",
       "2  2017-11-07    14  \n",
       "3  2017-11-07    15  \n",
       "4  2017-11-07    15  "
      ]
     },
     "execution_count": 113,
     "metadata": {},
     "output_type": "execute_result"
    }
   ],
   "source": [
    "cgm_pnp3.head()"
   ]
  },
  {
   "cell_type": "code",
   "execution_count": 114,
   "metadata": {
    "ExecuteTime": {
     "end_time": "2020-05-06T20:25:16.322828Z",
     "start_time": "2020-05-06T20:25:16.092116Z"
    }
   },
   "outputs": [],
   "source": [
    "cgm_pnp1_f = cgm_pnp1_f.drop(columns=['Day']). set_index(['RegistrationCode', 'ConnectionID', 'Date'])"
   ]
  },
  {
   "cell_type": "code",
   "execution_count": 129,
   "metadata": {
    "ExecuteTime": {
     "end_time": "2020-05-06T20:27:07.857220Z",
     "start_time": "2020-05-06T20:27:07.688824Z"
    }
   },
   "outputs": [],
   "source": [
    "cgm_pnp3 = cgm_pnp3.drop(columns=['Day']).set_index(['RegistrationCode', 'ConnectionID', 'Date'])"
   ]
  },
  {
   "cell_type": "code",
   "execution_count": 132,
   "metadata": {
    "ExecuteTime": {
     "end_time": "2020-05-06T20:27:56.592942Z",
     "start_time": "2020-05-06T20:27:56.571737Z"
    }
   },
   "outputs": [
    {
     "data": {
      "text/html": [
       "<div>\n",
       "<style scoped>\n",
       "    .dataframe tbody tr th:only-of-type {\n",
       "        vertical-align: middle;\n",
       "    }\n",
       "\n",
       "    .dataframe tbody tr th {\n",
       "        vertical-align: top;\n",
       "    }\n",
       "\n",
       "    .dataframe thead th {\n",
       "        text-align: right;\n",
       "    }\n",
       "</style>\n",
       "<table border=\"1\" class=\"dataframe\">\n",
       "  <thead>\n",
       "    <tr style=\"text-align: right;\">\n",
       "      <th></th>\n",
       "      <th></th>\n",
       "      <th></th>\n",
       "      <th>GlucoseValue</th>\n",
       "      <th>PPGR</th>\n",
       "    </tr>\n",
       "    <tr>\n",
       "      <th>RegistrationCode</th>\n",
       "      <th>ConnectionID</th>\n",
       "      <th>Date</th>\n",
       "      <th></th>\n",
       "      <th></th>\n",
       "    </tr>\n",
       "  </thead>\n",
       "  <tbody>\n",
       "    <tr>\n",
       "      <th rowspan=\"5\" valign=\"top\">111527</th>\n",
       "      <th rowspan=\"5\" valign=\"top\">1926</th>\n",
       "      <th>2017-11-07 14:28:00</th>\n",
       "      <td>108.0</td>\n",
       "      <td>16.75</td>\n",
       "    </tr>\n",
       "    <tr>\n",
       "      <th>2017-11-07 14:43:00</th>\n",
       "      <td>118.0</td>\n",
       "      <td>1.25</td>\n",
       "    </tr>\n",
       "    <tr>\n",
       "      <th>2017-11-07 14:58:00</th>\n",
       "      <td>119.0</td>\n",
       "      <td>2.75</td>\n",
       "    </tr>\n",
       "    <tr>\n",
       "      <th>2017-11-07 15:13:00</th>\n",
       "      <td>119.0</td>\n",
       "      <td>5.50</td>\n",
       "    </tr>\n",
       "    <tr>\n",
       "      <th>2017-11-07 15:28:00</th>\n",
       "      <td>121.0</td>\n",
       "      <td>3.25</td>\n",
       "    </tr>\n",
       "  </tbody>\n",
       "</table>\n",
       "</div>"
      ],
      "text/plain": [
       "                                                   GlucoseValue   PPGR\n",
       "RegistrationCode ConnectionID Date                                    \n",
       "111527           1926         2017-11-07 14:28:00         108.0  16.75\n",
       "                              2017-11-07 14:43:00         118.0   1.25\n",
       "                              2017-11-07 14:58:00         119.0   2.75\n",
       "                              2017-11-07 15:13:00         119.0   5.50\n",
       "                              2017-11-07 15:28:00         121.0   3.25"
      ]
     },
     "execution_count": 132,
     "metadata": {},
     "output_type": "execute_result"
    }
   ],
   "source": [
    "cgm_pnp3.head()"
   ]
  },
  {
   "cell_type": "code",
   "execution_count": 133,
   "metadata": {
    "ExecuteTime": {
     "end_time": "2020-05-06T20:28:07.362699Z",
     "start_time": "2020-05-06T20:28:06.938341Z"
    }
   },
   "outputs": [],
   "source": [
    "cgm_pnp3 = cgm_pnp3.sort_index()"
   ]
  },
  {
   "cell_type": "code",
   "execution_count": 134,
   "metadata": {
    "ExecuteTime": {
     "end_time": "2020-05-06T20:28:08.342104Z",
     "start_time": "2020-05-06T20:28:07.932625Z"
    }
   },
   "outputs": [],
   "source": [
    "cgm_both = pd.concat([cgm_pnp3, cgm_pnp1_f]).reset_index()"
   ]
  },
  {
   "cell_type": "code",
   "execution_count": 135,
   "metadata": {
    "ExecuteTime": {
     "end_time": "2020-05-06T20:28:09.325087Z",
     "start_time": "2020-05-06T20:28:09.312430Z"
    }
   },
   "outputs": [],
   "source": [
    "def filter_by_time(df, start, end):\n",
    "    \n",
    "    \"\"\"\n",
    "    The function filters the cgm entries between certain hours of the day. \n",
    "    The output is a dataframe containing the entries between start and end hour of each day.\n",
    "    :param df: CGM DataFrame\n",
    "    :param start: string of a type 'hh:mm'\n",
    "    :param end: string of a type 'hh:mm'\n",
    "    :return: filtered DataFrame with an index set to 'RegistrationCode', 'Day' and 'Time'\n",
    "    \"\"\"\n",
    "\n",
    "    df = df.set_index('Date')\n",
    "    filtered_df = df.between_time(start, end)\n",
    "    pd.options.mode.chained_assignment = None  # to avoid the warning message about chained assignments\n",
    "    filtered_df['Day'] = filtered_df.index.date\n",
    "\n",
    "#   From the night cgm adjusted I need to remove nights with less than 16 observations\n",
    "    count = filtered_df.groupby(['RegistrationCode', 'Day'])['GlucoseValue'].count()\n",
    "    rc_days_to_keep = count[count >= 20].index\n",
    "    filtered_df = filtered_df.set_index(['RegistrationCode', 'Day'])\n",
    "    filtered_df = filtered_df.loc[rc_days_to_keep]\n",
    "    \n",
    "    return filtered_df"
   ]
  },
  {
   "cell_type": "code",
   "execution_count": 136,
   "metadata": {
    "ExecuteTime": {
     "end_time": "2020-05-06T20:28:12.677013Z",
     "start_time": "2020-05-06T20:28:11.027935Z"
    }
   },
   "outputs": [],
   "source": [
    "cgm_night = filter_by_time(cgm_both, '00:00', '06:00')"
   ]
  },
  {
   "cell_type": "code",
   "execution_count": 137,
   "metadata": {
    "ExecuteTime": {
     "end_time": "2020-05-06T20:28:13.208344Z",
     "start_time": "2020-05-06T20:28:13.199851Z"
    }
   },
   "outputs": [],
   "source": [
    "def count_stats(cgm_df):\n",
    "    \n",
    "    def calc_mean_night_ppgr(night_cgm, min_timepoints=12):\n",
    "    \n",
    "        \"\"\"Calculates mean PPGR for the nights with more than min_timepoints available (non-NaNs)\"\"\"\n",
    "\n",
    "        ppgr_count = pd.DataFrame(night_cgm.reset_index().groupby(['RegistrationCode', 'Day'])['PPGR'].count())\n",
    "        index_to_keep = ppgr_count[ppgr_count['PPGR'] >= min_timepoints].index\n",
    "        night_cgm = night_cgm.loc[index_to_keep]\n",
    "        ppgr = night_cgm.reset_index().groupby(['RegistrationCode', 'Day'])['PPGR'].mean()\n",
    "\n",
    "        return ppgr\n",
    "\n",
    "    f = {'GlucoseValue': ['min', 'max', 'mean', 'std']}\n",
    "    \n",
    "    stats = cgm_df.groupby(['RegistrationCode', 'Day'])['GlucoseValue'].agg(f)\n",
    "    stats.columns = stats.columns.droplevel()\n",
    "    stats['CV'] = stats['std'] / stats['mean']\n",
    "    \n",
    "    stats['PPGR'] = calc_mean_night_ppgr(cgm_df)\n",
    "    \n",
    "    return stats"
   ]
  },
  {
   "cell_type": "code",
   "execution_count": 138,
   "metadata": {
    "ExecuteTime": {
     "end_time": "2020-05-06T20:28:17.998820Z",
     "start_time": "2020-05-06T20:28:16.440289Z"
    },
    "scrolled": false
   },
   "outputs": [
    {
     "name": "stderr",
     "output_type": "stream",
     "text": [
      "/home/elming/anaconda3/envs/mylabdata/lib/python3.7/site-packages/ipykernel_launcher.py:16: FutureWarning:\n",
      "\n",
      "using a dict on a Series for aggregation\n",
      "is deprecated and will be removed in a future version. Use                 named aggregation instead.\n",
      "\n",
      "    >>> grouper.agg(name_1=func_1, name_2=func_2)\n",
      "\n",
      "\n"
     ]
    }
   ],
   "source": [
    "night_stats = count_stats(cgm_night).drop(columns=['mean', 'std'])"
   ]
  },
  {
   "cell_type": "code",
   "execution_count": 139,
   "metadata": {
    "ExecuteTime": {
     "end_time": "2020-05-06T20:28:18.506686Z",
     "start_time": "2020-05-06T20:28:18.502726Z"
    }
   },
   "outputs": [
    {
     "data": {
      "text/plain": [
       "(4680, 4)"
      ]
     },
     "execution_count": 139,
     "metadata": {},
     "output_type": "execute_result"
    }
   ],
   "source": [
    "night_stats.shape"
   ]
  },
  {
   "cell_type": "code",
   "execution_count": 140,
   "metadata": {
    "ExecuteTime": {
     "end_time": "2020-05-06T20:28:21.494063Z",
     "start_time": "2020-05-06T20:28:21.481339Z"
    },
    "scrolled": true
   },
   "outputs": [],
   "source": [
    "night_stats = night_stats.dropna(axis=0, how='any')"
   ]
  },
  {
   "cell_type": "code",
   "execution_count": 141,
   "metadata": {
    "ExecuteTime": {
     "end_time": "2020-05-06T20:28:22.991779Z",
     "start_time": "2020-05-06T20:28:22.983137Z"
    },
    "scrolled": true
   },
   "outputs": [
    {
     "data": {
      "text/plain": [
       "(4582, 4)"
      ]
     },
     "execution_count": 141,
     "metadata": {},
     "output_type": "execute_result"
    }
   ],
   "source": [
    "night_stats.shape"
   ]
  },
  {
   "cell_type": "code",
   "execution_count": 142,
   "metadata": {
    "ExecuteTime": {
     "end_time": "2020-05-06T20:28:30.675872Z",
     "start_time": "2020-05-06T20:28:30.669161Z"
    },
    "scrolled": true
   },
   "outputs": [
    {
     "data": {
      "text/plain": [
       "(3312, 1)"
      ]
     },
     "execution_count": 142,
     "metadata": {},
     "output_type": "execute_result"
    }
   ],
   "source": [
    "wg_both.shape"
   ]
  },
  {
   "cell_type": "markdown",
   "metadata": {},
   "source": [
    "I filter out nights where participants ate something between 00 and 6 am"
   ]
  },
  {
   "cell_type": "code",
   "execution_count": 143,
   "metadata": {
    "ExecuteTime": {
     "end_time": "2020-05-06T20:28:43.303893Z",
     "start_time": "2020-05-06T20:28:40.786873Z"
    }
   },
   "outputs": [],
   "source": [
    "log = dll.get_data(study_ids=[1,3]).df\n",
    "logdf = dll.add_nutrients(log, ['energy_kcal'])\n",
    "logdf = dll.squeeze_log(logdf)\n",
    "logdf = logdf.reset_index()\n",
    "logdf['Day'] = logdf['Date'].dt.date\n",
    "logdf['hour'] = logdf['Date'].dt.hour\n",
    "logdf = logdf.set_index(['RegistrationCode', 'Day'])\n",
    "nightfood_index = logdf[(logdf['hour'] < 6) & (logdf['energy_kcal'] > 0)].index"
   ]
  },
  {
   "cell_type": "code",
   "execution_count": 144,
   "metadata": {
    "ExecuteTime": {
     "end_time": "2020-05-06T20:28:43.976033Z",
     "start_time": "2020-05-06T20:28:43.864032Z"
    }
   },
   "outputs": [],
   "source": [
    "night_stats = night_stats[~night_stats.index.isin(nightfood_index)]"
   ]
  },
  {
   "cell_type": "code",
   "execution_count": 145,
   "metadata": {
    "ExecuteTime": {
     "end_time": "2020-05-06T20:28:44.529079Z",
     "start_time": "2020-05-06T20:28:44.524530Z"
    }
   },
   "outputs": [
    {
     "data": {
      "text/plain": [
       "(4148, 4)"
      ]
     },
     "execution_count": 145,
     "metadata": {},
     "output_type": "execute_result"
    }
   ],
   "source": [
    "night_stats.shape"
   ]
  },
  {
   "cell_type": "markdown",
   "metadata": {},
   "source": [
    "## Predictions"
   ]
  },
  {
   "cell_type": "markdown",
   "metadata": {},
   "source": [
    "### Merge personal data with food and night stats"
   ]
  },
  {
   "cell_type": "code",
   "execution_count": 146,
   "metadata": {
    "ExecuteTime": {
     "end_time": "2020-05-06T20:28:55.699838Z",
     "start_time": "2020-05-06T20:28:55.694110Z"
    }
   },
   "outputs": [
    {
     "data": {
      "text/plain": [
       "(3342, 12)"
      ]
     },
     "execution_count": 146,
     "metadata": {},
     "output_type": "execute_result"
    }
   ],
   "source": [
    "totaldiet_both.shape"
   ]
  },
  {
   "cell_type": "code",
   "execution_count": 147,
   "metadata": {
    "ExecuteTime": {
     "end_time": "2020-05-06T20:28:57.527510Z",
     "start_time": "2020-05-06T20:28:57.481630Z"
    },
    "scrolled": true
   },
   "outputs": [],
   "source": [
    "X1 = pd.merge(totaldiet_both_plus.reset_index('Day'), pers_data_both, on='RegistrationCode')\n",
    "X2 = pd.merge(splitdiet_both_plus.reset_index('Day'), pers_data_both, on='RegistrationCode')\n",
    "X3 = pd.merge(hourly_log_both_plus.reset_index('Day'), pers_data_both, on='RegistrationCode')"
   ]
  },
  {
   "cell_type": "code",
   "execution_count": 148,
   "metadata": {
    "ExecuteTime": {
     "end_time": "2020-05-06T20:28:59.170560Z",
     "start_time": "2020-05-06T20:28:59.089735Z"
    }
   },
   "outputs": [],
   "source": [
    "X1_night = pd.merge(X1, night_stats, on=['RegistrationCode', 'Day']).set_index('Day', append=True)\n",
    "X2_night = pd.merge(X2, night_stats, on=['RegistrationCode', 'Day']).set_index('Day', append=True)\n",
    "X3_night = pd.merge(X3, night_stats, on=['RegistrationCode', 'Day']).set_index('Day', append=True)"
   ]
  },
  {
   "cell_type": "code",
   "execution_count": 149,
   "metadata": {
    "ExecuteTime": {
     "end_time": "2020-05-06T20:29:01.134265Z",
     "start_time": "2020-05-06T20:29:01.127934Z"
    }
   },
   "outputs": [
    {
     "name": "stdout",
     "output_type": "stream",
     "text": [
      "(3009, 49) (3009, 76) (3009, 301)\n"
     ]
    }
   ],
   "source": [
    "print(X1_night.shape, X2_night.shape, X3_night.shape)"
   ]
  },
  {
   "cell_type": "markdown",
   "metadata": {},
   "source": [
    "### Merge personal data with food and wg"
   ]
  },
  {
   "cell_type": "code",
   "execution_count": 150,
   "metadata": {
    "ExecuteTime": {
     "end_time": "2020-05-06T20:29:12.051506Z",
     "start_time": "2020-05-06T20:29:11.987666Z"
    }
   },
   "outputs": [],
   "source": [
    "X1_wg = pd.merge(X1, wg_both, on=['RegistrationCode', 'Day']).set_index('Day', append=True)\n",
    "X2_wg = pd.merge(X2, wg_both, on=['RegistrationCode', 'Day']).set_index('Day', append=True)\n",
    "X3_wg = pd.merge(X3, wg_both, on=['RegistrationCode', 'Day']).set_index('Day', append=True)"
   ]
  },
  {
   "cell_type": "code",
   "execution_count": 151,
   "metadata": {
    "ExecuteTime": {
     "end_time": "2020-05-06T20:30:04.663671Z",
     "start_time": "2020-05-06T20:30:04.656736Z"
    }
   },
   "outputs": [
    {
     "name": "stdout",
     "output_type": "stream",
     "text": [
      "(2988, 46) (2988, 73) (2988, 298)\n"
     ]
    }
   ],
   "source": [
    "print(X1_wg.shape, X2_wg.shape, X3_wg.shape)"
   ]
  },
  {
   "cell_type": "markdown",
   "metadata": {},
   "source": [
    "### Predict night stats"
   ]
  },
  {
   "cell_type": "code",
   "execution_count": 494,
   "metadata": {
    "ExecuteTime": {
     "end_time": "2020-04-19T15:11:27.167612Z",
     "start_time": "2020-04-19T15:11:27.160475Z"
    },
    "scrolled": true
   },
   "outputs": [],
   "source": [
    "X,y = X1_night.iloc[:,0:-4], pd.DataFrame(X1_night.iloc[:,-3])"
   ]
  },
  {
   "cell_type": "code",
   "execution_count": 496,
   "metadata": {
    "ExecuteTime": {
     "end_time": "2020-04-19T15:12:40.669766Z",
     "start_time": "2020-04-19T15:12:40.663589Z"
    }
   },
   "outputs": [],
   "source": [
    "X,y = X2_night.iloc[:,0:-4], pd.DataFrame(X2_night.iloc[:,-3])"
   ]
  },
  {
   "cell_type": "code",
   "execution_count": 674,
   "metadata": {
    "ExecuteTime": {
     "end_time": "2020-04-21T14:39:15.883345Z",
     "start_time": "2020-04-21T14:39:15.875889Z"
    }
   },
   "outputs": [],
   "source": [
    "X,y = X3_night.iloc[:,0:-4], pd.DataFrame(X3_night.iloc[:,-2])"
   ]
  },
  {
   "cell_type": "code",
   "execution_count": 675,
   "metadata": {
    "ExecuteTime": {
     "end_time": "2020-04-21T14:39:26.060140Z",
     "start_time": "2020-04-21T14:39:18.651599Z"
    }
   },
   "outputs": [
    {
     "name": "stdout",
     "output_type": "stream",
     "text": [
      "K-fold CV average score: 0.09\n"
     ]
    },
    {
     "data": {
      "text/plain": [
       "0.15577506118796336"
      ]
     },
     "execution_count": 675,
     "metadata": {},
     "output_type": "execute_result"
    }
   ],
   "source": [
    "X_train, X_test, y_train, y_test=train_test_split(X, y, test_size=0.25, random_state=383)\n",
    "\n",
    "xgbr = xgb.XGBRegressor(objective ='reg:squarederror', learning_rate = 0.1,\n",
    "                max_depth = 5, n_estimators = 59) \n",
    "\n",
    "xgbr.fit(X_train, y_train)\n",
    "\n",
    "kfold = KFold(n_splits=3, shuffle=True)\n",
    "kf_cv_scores = cross_val_score(xgbr, X_train, y_train, cv=kfold )\n",
    "print(\"K-fold CV average score: %.2f\" % ( kf_cv_scores.mean()))\n",
    "\n",
    "y_pred = xgbr.predict(X_test)\n",
    "r2_score(y_test, y_pred)"
   ]
  },
  {
   "cell_type": "code",
   "execution_count": 526,
   "metadata": {
    "ExecuteTime": {
     "end_time": "2020-04-21T11:45:01.709135Z",
     "start_time": "2020-04-21T11:44:58.621365Z"
    }
   },
   "outputs": [
    {
     "name": "stdout",
     "output_type": "stream",
     "text": [
      "RMSE: 20.13\n"
     ]
    },
    {
     "data": {
      "text/plain": [
       "Text(0.5,1,'XGBoost RMSE')"
      ]
     },
     "execution_count": 526,
     "metadata": {},
     "output_type": "execute_result"
    },
    {
     "data": {
      "image/png": "[encoded data removed]",
      "text/plain": [
       "<Figure size 432x288 with 1 Axes>"
      ]
     },
     "metadata": {
      "needs_background": "light"
     },
     "output_type": "display_data"
    }
   ],
   "source": [
    "eval_set = [(X_train, y_train), (X_test, y_test)]\n",
    "xgbr.fit(X_train, y_train, eval_metric=[\"rmse\"], eval_set=eval_set, verbose=False)\n",
    "# make predictions for test data\n",
    "y_pred = xgbr.predict(X_test)\n",
    "\n",
    "# evaluate predictions\n",
    "mse = mean_squared_error(y_test, y_pred)\n",
    "print(\"RMSE: %.2f\" % (np.sqrt(mse)))\n",
    "# retrieve performance metrics\n",
    "results = xgbr.evals_result()\n",
    "epochs = len(results['validation_0']['rmse'])\n",
    "x_axis = range(0, epochs)\n",
    "# plot log loss\n",
    "fig, ax = plt.subplots()\n",
    "ax.plot(x_axis, results['validation_0']['rmse'], label='Train')\n",
    "ax.plot(x_axis, results['validation_1']['rmse'], label='Test')\n",
    "ax.legend()\n",
    "plt.ylabel('RMSE')\n",
    "plt.title('XGBoost RMSE')"
   ]
  },
  {
   "cell_type": "markdown",
   "metadata": {},
   "source": [
    "Write a function that goes through all the X tables and all the y. Baseline predictions parameters: learning_rate = 0.1,\n",
    "                max_depth = 5, n_estimators = 60, others - default."
   ]
  },
  {
   "cell_type": "code",
   "execution_count": 162,
   "metadata": {
    "ExecuteTime": {
     "end_time": "2020-05-07T14:54:00.360679Z",
     "start_time": "2020-05-07T14:54:00.340441Z"
    }
   },
   "outputs": [],
   "source": [
    "def predict(df_list, columns_list, X_end_loc, cv_n_splits, lr, n_estimators, max_depth, min_child_weight=1, colsample_bytree=1, \n",
    "                    alpha=0, reg_lambda=1):\n",
    "    \n",
    "    for i, df in enumerate(df_list):\n",
    "        for column in columns_list:\n",
    "            X,y = df.iloc[:,0:X_end_loc], pd.DataFrame(df[column])\n",
    "            X_train, X_test, y_train, y_test=train_test_split(X, y, test_size=0.2, random_state=383)\n",
    "            xgbr = xgb.XGBRegressor(objective ='reg:squarederror', learning_rate = lr,\n",
    "                    max_depth = max_depth, n_estimators = n_estimators, min_child_weight=min_child_weight, \n",
    "                    colsample_bytree=colsample_bytree, alpha=alpha, reg_lambda=reg_lambda) \n",
    "\n",
    "            xgbr.fit(X_train, y_train)\n",
    "\n",
    "            kfold = KFold(n_splits=cv_n_splits, shuffle=True, random_state=11)\n",
    "            kf_cv_scores = cross_val_score(xgbr, X_train, y_train, cv=kfold )\n",
    "            print('Food table number {}, y = {}:'.format(i+1, column), \"\\nK-fold CV average score: %.2f\" % ( kf_cv_scores.mean()))\n",
    "\n",
    "            y_pred = xgbr.predict(X_test)\n",
    "            print(r2_score(y_test, y_pred))\n",
    "            \n",
    "\n",
    "    return xgbr"
   ]
  },
  {
   "cell_type": "markdown",
   "metadata": {},
   "source": [
    "### CV predictions"
   ]
  },
  {
   "cell_type": "code",
   "execution_count": 163,
   "metadata": {
    "ExecuteTime": {
     "end_time": "2020-05-07T14:54:05.115049Z",
     "start_time": "2020-05-07T14:54:03.595599Z"
    },
    "scrolled": true
   },
   "outputs": [
    {
     "name": "stdout",
     "output_type": "stream",
     "text": [
      "Food table number 1, y = CV: \n",
      "K-fold CV average score: 0.13\n",
      "0.18115914828646618\n"
     ]
    }
   ],
   "source": [
    "xgbr = predict([X1_night], ['CV'], X_end_loc=-4, cv_n_splits=3, lr=0.1, n_estimators=60, max_depth=5, min_child_weight=20, colsample_bytree=0.8)"
   ]
  },
  {
   "cell_type": "markdown",
   "metadata": {},
   "source": [
    "Best score reached 0.13"
   ]
  },
  {
   "cell_type": "code",
   "execution_count": 164,
   "metadata": {
    "ExecuteTime": {
     "end_time": "2020-05-07T14:54:20.052320Z",
     "start_time": "2020-05-07T14:54:19.194095Z"
    },
    "scrolled": true
   },
   "outputs": [
    {
     "data": {
      "image/png": "[encoded data removed]",
      "text/plain": [
       "<Figure size 432x288 with 1 Axes>"
      ]
     },
     "metadata": {},
     "output_type": "display_data"
    }
   ],
   "source": [
    "xgb.plot_importance(xgbr)\n",
    "plt.rcParams['figure.figsize'] = [10, 20]"
   ]
  },
  {
   "cell_type": "code",
   "execution_count": 205,
   "metadata": {
    "ExecuteTime": {
     "end_time": "2020-05-07T21:51:28.079233Z",
     "start_time": "2020-05-07T21:51:28.046071Z"
    }
   },
   "outputs": [],
   "source": [
    "X,y = X2_night.iloc[:,0:-4], pd.DataFrame(X2_night['CV'])\n",
    "X_train, X_test, y_train, y_test=train_test_split(X, y, test_size=0.2, random_state=383)"
   ]
  },
  {
   "cell_type": "code",
   "execution_count": 203,
   "metadata": {
    "ExecuteTime": {
     "end_time": "2020-05-07T15:55:14.426721Z",
     "start_time": "2020-05-07T15:55:12.470073Z"
    },
    "scrolled": true
   },
   "outputs": [
    {
     "name": "stdout",
     "output_type": "stream",
     "text": [
      "Food table number 1, y = CV: \n",
      "K-fold CV average score: 0.17\n",
      "0.21192824973842217\n"
     ]
    }
   ],
   "source": [
    "xgbr = predict([X2_night], ['CV'], X_end_loc=-4, cv_n_splits=3, lr=0.1, n_estimators=60, max_depth=5, min_child_weight=20, colsample_bytree=0.8, reg_lambda=18)"
   ]
  },
  {
   "cell_type": "code",
   "execution_count": 204,
   "metadata": {
    "ExecuteTime": {
     "end_time": "2020-05-07T15:55:25.738346Z",
     "start_time": "2020-05-07T15:55:24.365213Z"
    }
   },
   "outputs": [
    {
     "data": {
      "text/plain": [
       "<matplotlib.axes._subplots.AxesSubplot at 0x2ad377838150>"
      ]
     },
     "execution_count": 204,
     "metadata": {},
     "output_type": "execute_result"
    },
    {
     "data": {
      "image/png": "[encoded data removed]",
      "text/plain": [
       "<Figure size 720x1440 with 1 Axes>"
      ]
     },
     "metadata": {},
     "output_type": "display_data"
    }
   ],
   "source": [
    "xgb.plot_importance(xgbr)"
   ]
  },
  {
   "cell_type": "code",
   "execution_count": 206,
   "metadata": {
    "ExecuteTime": {
     "end_time": "2020-05-07T21:52:02.461338Z",
     "start_time": "2020-05-07T21:52:00.951228Z"
    },
    "scrolled": true
   },
   "outputs": [
    {
     "name": "stderr",
     "output_type": "stream",
     "text": [
      "Setting feature_perturbation = \"tree_path_dependent\" because no background data was given.\n"
     ]
    },
    {
     "data": {
      "image/png": "[encoded data removed]",
      "text/plain": [
       "<Figure size 576x684 with 1 Axes>"
      ]
     },
     "metadata": {},
     "output_type": "display_data"
    }
   ],
   "source": [
    "shap_values = shap.TreeExplainer(xgbr).shap_values(X_train)\n",
    "shap.summary_plot(shap_values, X_train, plot_type=\"bar\")\n",
    "\n",
    "shap.summary_plot(shap_values, X_train)"
   ]
  },
  {
   "cell_type": "code",
   "execution_count": 681,
   "metadata": {
    "ExecuteTime": {
     "end_time": "2020-04-21T21:40:38.759853Z",
     "start_time": "2020-04-21T21:40:38.707007Z"
    }
   },
   "outputs": [
    {
     "data": {
      "text/html": [
       "<div>\n",
       "<style scoped>\n",
       "    .dataframe tbody tr th:only-of-type {\n",
       "        vertical-align: middle;\n",
       "    }\n",
       "\n",
       "    .dataframe tbody tr th {\n",
       "        vertical-align: top;\n",
       "    }\n",
       "\n",
       "    .dataframe thead th {\n",
       "        text-align: right;\n",
       "    }\n",
       "</style>\n",
       "<table border=\"1\" class=\"dataframe\">\n",
       "  <thead>\n",
       "    <tr style=\"text-align: right;\">\n",
       "      <th></th>\n",
       "      <th></th>\n",
       "      <th>bmi</th>\n",
       "      <th>sitting_blood_pressure_systolic</th>\n",
       "      <th>sitting_blood_pressure_diastolic</th>\n",
       "      <th>hips</th>\n",
       "      <th>sitting_blood_pressure_pulse_rate</th>\n",
       "      <th>waist</th>\n",
       "      <th>height</th>\n",
       "      <th>weight</th>\n",
       "      <th>bt__rdw</th>\n",
       "      <th>bt__hemoglobin</th>\n",
       "      <th>...</th>\n",
       "      <th>bt__albumin</th>\n",
       "      <th>bt__hba1c</th>\n",
       "      <th>bt__neutrophils_%</th>\n",
       "      <th>bt__mean_platelet_volume</th>\n",
       "      <th>age</th>\n",
       "      <th>gender</th>\n",
       "      <th>min</th>\n",
       "      <th>max</th>\n",
       "      <th>CV</th>\n",
       "      <th>PPGR</th>\n",
       "    </tr>\n",
       "    <tr>\n",
       "      <th>RegistrationCode</th>\n",
       "      <th>Day</th>\n",
       "      <th></th>\n",
       "      <th></th>\n",
       "      <th></th>\n",
       "      <th></th>\n",
       "      <th></th>\n",
       "      <th></th>\n",
       "      <th></th>\n",
       "      <th></th>\n",
       "      <th></th>\n",
       "      <th></th>\n",
       "      <th></th>\n",
       "      <th></th>\n",
       "      <th></th>\n",
       "      <th></th>\n",
       "      <th></th>\n",
       "      <th></th>\n",
       "      <th></th>\n",
       "      <th></th>\n",
       "      <th></th>\n",
       "      <th></th>\n",
       "      <th></th>\n",
       "    </tr>\n",
       "  </thead>\n",
       "  <tbody>\n",
       "    <tr>\n",
       "      <th rowspan=\"5\" valign=\"top\">111527</th>\n",
       "      <th>2017-11-08</th>\n",
       "      <td>31.204312</td>\n",
       "      <td>118.2</td>\n",
       "      <td>88.6</td>\n",
       "      <td>111.0</td>\n",
       "      <td>66.2</td>\n",
       "      <td>90.5</td>\n",
       "      <td>152.444444</td>\n",
       "      <td>72.5</td>\n",
       "      <td>14.033333</td>\n",
       "      <td>12.583333</td>\n",
       "      <td>...</td>\n",
       "      <td>4.766667</td>\n",
       "      <td>5.69</td>\n",
       "      <td>60.333333</td>\n",
       "      <td>8.0</td>\n",
       "      <td>49.0</td>\n",
       "      <td>0.0</td>\n",
       "      <td>87.0</td>\n",
       "      <td>115.0</td>\n",
       "      <td>0.063179</td>\n",
       "      <td>9.416667</td>\n",
       "    </tr>\n",
       "    <tr>\n",
       "      <th>2017-11-10</th>\n",
       "      <td>31.204312</td>\n",
       "      <td>118.2</td>\n",
       "      <td>88.6</td>\n",
       "      <td>111.0</td>\n",
       "      <td>66.2</td>\n",
       "      <td>90.5</td>\n",
       "      <td>152.444444</td>\n",
       "      <td>72.5</td>\n",
       "      <td>14.033333</td>\n",
       "      <td>12.583333</td>\n",
       "      <td>...</td>\n",
       "      <td>4.766667</td>\n",
       "      <td>5.69</td>\n",
       "      <td>60.333333</td>\n",
       "      <td>8.0</td>\n",
       "      <td>49.0</td>\n",
       "      <td>0.0</td>\n",
       "      <td>85.0</td>\n",
       "      <td>101.0</td>\n",
       "      <td>0.057075</td>\n",
       "      <td>9.114583</td>\n",
       "    </tr>\n",
       "    <tr>\n",
       "      <th>2017-11-11</th>\n",
       "      <td>31.204312</td>\n",
       "      <td>118.2</td>\n",
       "      <td>88.6</td>\n",
       "      <td>111.0</td>\n",
       "      <td>66.2</td>\n",
       "      <td>90.5</td>\n",
       "      <td>152.444444</td>\n",
       "      <td>72.5</td>\n",
       "      <td>14.033333</td>\n",
       "      <td>12.583333</td>\n",
       "      <td>...</td>\n",
       "      <td>4.766667</td>\n",
       "      <td>5.69</td>\n",
       "      <td>60.333333</td>\n",
       "      <td>8.0</td>\n",
       "      <td>49.0</td>\n",
       "      <td>0.0</td>\n",
       "      <td>100.0</td>\n",
       "      <td>138.0</td>\n",
       "      <td>0.100278</td>\n",
       "      <td>6.250000</td>\n",
       "    </tr>\n",
       "    <tr>\n",
       "      <th>2017-11-12</th>\n",
       "      <td>31.204312</td>\n",
       "      <td>118.2</td>\n",
       "      <td>88.6</td>\n",
       "      <td>111.0</td>\n",
       "      <td>66.2</td>\n",
       "      <td>90.5</td>\n",
       "      <td>152.444444</td>\n",
       "      <td>72.5</td>\n",
       "      <td>14.033333</td>\n",
       "      <td>12.583333</td>\n",
       "      <td>...</td>\n",
       "      <td>4.766667</td>\n",
       "      <td>5.69</td>\n",
       "      <td>60.333333</td>\n",
       "      <td>8.0</td>\n",
       "      <td>49.0</td>\n",
       "      <td>0.0</td>\n",
       "      <td>90.0</td>\n",
       "      <td>101.0</td>\n",
       "      <td>0.027204</td>\n",
       "      <td>5.479167</td>\n",
       "    </tr>\n",
       "    <tr>\n",
       "      <th>2017-11-13</th>\n",
       "      <td>31.204312</td>\n",
       "      <td>118.2</td>\n",
       "      <td>88.6</td>\n",
       "      <td>111.0</td>\n",
       "      <td>66.2</td>\n",
       "      <td>90.5</td>\n",
       "      <td>152.444444</td>\n",
       "      <td>72.5</td>\n",
       "      <td>14.033333</td>\n",
       "      <td>12.583333</td>\n",
       "      <td>...</td>\n",
       "      <td>4.766667</td>\n",
       "      <td>5.69</td>\n",
       "      <td>60.333333</td>\n",
       "      <td>8.0</td>\n",
       "      <td>49.0</td>\n",
       "      <td>0.0</td>\n",
       "      <td>87.0</td>\n",
       "      <td>99.0</td>\n",
       "      <td>0.027896</td>\n",
       "      <td>5.937500</td>\n",
       "    </tr>\n",
       "    <tr>\n",
       "      <th>...</th>\n",
       "      <th>...</th>\n",
       "      <td>...</td>\n",
       "      <td>...</td>\n",
       "      <td>...</td>\n",
       "      <td>...</td>\n",
       "      <td>...</td>\n",
       "      <td>...</td>\n",
       "      <td>...</td>\n",
       "      <td>...</td>\n",
       "      <td>...</td>\n",
       "      <td>...</td>\n",
       "      <td>...</td>\n",
       "      <td>...</td>\n",
       "      <td>...</td>\n",
       "      <td>...</td>\n",
       "      <td>...</td>\n",
       "      <td>...</td>\n",
       "      <td>...</td>\n",
       "      <td>...</td>\n",
       "      <td>...</td>\n",
       "      <td>...</td>\n",
       "      <td>...</td>\n",
       "    </tr>\n",
       "    <tr>\n",
       "      <th rowspan=\"5\" valign=\"top\">984879</th>\n",
       "      <th>2013-12-02</th>\n",
       "      <td>24.740938</td>\n",
       "      <td>122.0</td>\n",
       "      <td>86.0</td>\n",
       "      <td>96.0</td>\n",
       "      <td>69.0</td>\n",
       "      <td>83.0</td>\n",
       "      <td>167.000000</td>\n",
       "      <td>69.0</td>\n",
       "      <td>12.700000</td>\n",
       "      <td>14.500000</td>\n",
       "      <td>...</td>\n",
       "      <td>4.400000</td>\n",
       "      <td>5.70</td>\n",
       "      <td>45.700000</td>\n",
       "      <td>9.3</td>\n",
       "      <td>36.0</td>\n",
       "      <td>1.0</td>\n",
       "      <td>69.0</td>\n",
       "      <td>97.0</td>\n",
       "      <td>0.092353</td>\n",
       "      <td>6.429398</td>\n",
       "    </tr>\n",
       "    <tr>\n",
       "      <th>2013-12-03</th>\n",
       "      <td>24.740938</td>\n",
       "      <td>122.0</td>\n",
       "      <td>86.0</td>\n",
       "      <td>96.0</td>\n",
       "      <td>69.0</td>\n",
       "      <td>83.0</td>\n",
       "      <td>167.000000</td>\n",
       "      <td>69.0</td>\n",
       "      <td>12.700000</td>\n",
       "      <td>14.500000</td>\n",
       "      <td>...</td>\n",
       "      <td>4.400000</td>\n",
       "      <td>5.70</td>\n",
       "      <td>45.700000</td>\n",
       "      <td>9.3</td>\n",
       "      <td>36.0</td>\n",
       "      <td>1.0</td>\n",
       "      <td>80.0</td>\n",
       "      <td>101.0</td>\n",
       "      <td>0.068714</td>\n",
       "      <td>6.035301</td>\n",
       "    </tr>\n",
       "    <tr>\n",
       "      <th>2013-12-04</th>\n",
       "      <td>24.740938</td>\n",
       "      <td>122.0</td>\n",
       "      <td>86.0</td>\n",
       "      <td>96.0</td>\n",
       "      <td>69.0</td>\n",
       "      <td>83.0</td>\n",
       "      <td>167.000000</td>\n",
       "      <td>69.0</td>\n",
       "      <td>12.700000</td>\n",
       "      <td>14.500000</td>\n",
       "      <td>...</td>\n",
       "      <td>4.400000</td>\n",
       "      <td>5.70</td>\n",
       "      <td>45.700000</td>\n",
       "      <td>9.3</td>\n",
       "      <td>36.0</td>\n",
       "      <td>1.0</td>\n",
       "      <td>89.0</td>\n",
       "      <td>120.0</td>\n",
       "      <td>0.088848</td>\n",
       "      <td>2.634838</td>\n",
       "    </tr>\n",
       "    <tr>\n",
       "      <th>2013-12-05</th>\n",
       "      <td>24.740938</td>\n",
       "      <td>122.0</td>\n",
       "      <td>86.0</td>\n",
       "      <td>96.0</td>\n",
       "      <td>69.0</td>\n",
       "      <td>83.0</td>\n",
       "      <td>167.000000</td>\n",
       "      <td>69.0</td>\n",
       "      <td>12.700000</td>\n",
       "      <td>14.500000</td>\n",
       "      <td>...</td>\n",
       "      <td>4.400000</td>\n",
       "      <td>5.70</td>\n",
       "      <td>45.700000</td>\n",
       "      <td>9.3</td>\n",
       "      <td>36.0</td>\n",
       "      <td>1.0</td>\n",
       "      <td>76.0</td>\n",
       "      <td>109.0</td>\n",
       "      <td>0.111412</td>\n",
       "      <td>9.747106</td>\n",
       "    </tr>\n",
       "    <tr>\n",
       "      <th>2013-12-06</th>\n",
       "      <td>24.740938</td>\n",
       "      <td>122.0</td>\n",
       "      <td>86.0</td>\n",
       "      <td>96.0</td>\n",
       "      <td>69.0</td>\n",
       "      <td>83.0</td>\n",
       "      <td>167.000000</td>\n",
       "      <td>69.0</td>\n",
       "      <td>12.700000</td>\n",
       "      <td>14.500000</td>\n",
       "      <td>...</td>\n",
       "      <td>4.400000</td>\n",
       "      <td>5.70</td>\n",
       "      <td>45.700000</td>\n",
       "      <td>9.3</td>\n",
       "      <td>36.0</td>\n",
       "      <td>1.0</td>\n",
       "      <td>65.0</td>\n",
       "      <td>105.0</td>\n",
       "      <td>0.147745</td>\n",
       "      <td>1.129630</td>\n",
       "    </tr>\n",
       "  </tbody>\n",
       "</table>\n",
       "<p>3064 rows × 37 columns</p>\n",
       "</div>"
      ],
      "text/plain": [
       "                                   bmi  sitting_blood_pressure_systolic  \\\n",
       "RegistrationCode Day                                                      \n",
       "111527           2017-11-08  31.204312                            118.2   \n",
       "                 2017-11-10  31.204312                            118.2   \n",
       "                 2017-11-11  31.204312                            118.2   \n",
       "                 2017-11-12  31.204312                            118.2   \n",
       "                 2017-11-13  31.204312                            118.2   \n",
       "...                                ...                              ...   \n",
       "984879           2013-12-02  24.740938                            122.0   \n",
       "                 2013-12-03  24.740938                            122.0   \n",
       "                 2013-12-04  24.740938                            122.0   \n",
       "                 2013-12-05  24.740938                            122.0   \n",
       "                 2013-12-06  24.740938                            122.0   \n",
       "\n",
       "                             sitting_blood_pressure_diastolic   hips  \\\n",
       "RegistrationCode Day                                                   \n",
       "111527           2017-11-08                              88.6  111.0   \n",
       "                 2017-11-10                              88.6  111.0   \n",
       "                 2017-11-11                              88.6  111.0   \n",
       "                 2017-11-12                              88.6  111.0   \n",
       "                 2017-11-13                              88.6  111.0   \n",
       "...                                                       ...    ...   \n",
       "984879           2013-12-02                              86.0   96.0   \n",
       "                 2013-12-03                              86.0   96.0   \n",
       "                 2013-12-04                              86.0   96.0   \n",
       "                 2013-12-05                              86.0   96.0   \n",
       "                 2013-12-06                              86.0   96.0   \n",
       "\n",
       "                             sitting_blood_pressure_pulse_rate  waist  \\\n",
       "RegistrationCode Day                                                    \n",
       "111527           2017-11-08                               66.2   90.5   \n",
       "                 2017-11-10                               66.2   90.5   \n",
       "                 2017-11-11                               66.2   90.5   \n",
       "                 2017-11-12                               66.2   90.5   \n",
       "                 2017-11-13                               66.2   90.5   \n",
       "...                                                        ...    ...   \n",
       "984879           2013-12-02                               69.0   83.0   \n",
       "                 2013-12-03                               69.0   83.0   \n",
       "                 2013-12-04                               69.0   83.0   \n",
       "                 2013-12-05                               69.0   83.0   \n",
       "                 2013-12-06                               69.0   83.0   \n",
       "\n",
       "                                 height  weight    bt__rdw  bt__hemoglobin  \\\n",
       "RegistrationCode Day                                                         \n",
       "111527           2017-11-08  152.444444    72.5  14.033333       12.583333   \n",
       "                 2017-11-10  152.444444    72.5  14.033333       12.583333   \n",
       "                 2017-11-11  152.444444    72.5  14.033333       12.583333   \n",
       "                 2017-11-12  152.444444    72.5  14.033333       12.583333   \n",
       "                 2017-11-13  152.444444    72.5  14.033333       12.583333   \n",
       "...                                 ...     ...        ...             ...   \n",
       "984879           2013-12-02  167.000000    69.0  12.700000       14.500000   \n",
       "                 2013-12-03  167.000000    69.0  12.700000       14.500000   \n",
       "                 2013-12-04  167.000000    69.0  12.700000       14.500000   \n",
       "                 2013-12-05  167.000000    69.0  12.700000       14.500000   \n",
       "                 2013-12-06  167.000000    69.0  12.700000       14.500000   \n",
       "\n",
       "                             ...  bt__albumin  bt__hba1c  bt__neutrophils_%  \\\n",
       "RegistrationCode Day         ...                                              \n",
       "111527           2017-11-08  ...     4.766667       5.69          60.333333   \n",
       "                 2017-11-10  ...     4.766667       5.69          60.333333   \n",
       "                 2017-11-11  ...     4.766667       5.69          60.333333   \n",
       "                 2017-11-12  ...     4.766667       5.69          60.333333   \n",
       "                 2017-11-13  ...     4.766667       5.69          60.333333   \n",
       "...                          ...          ...        ...                ...   \n",
       "984879           2013-12-02  ...     4.400000       5.70          45.700000   \n",
       "                 2013-12-03  ...     4.400000       5.70          45.700000   \n",
       "                 2013-12-04  ...     4.400000       5.70          45.700000   \n",
       "                 2013-12-05  ...     4.400000       5.70          45.700000   \n",
       "                 2013-12-06  ...     4.400000       5.70          45.700000   \n",
       "\n",
       "                             bt__mean_platelet_volume   age  gender    min  \\\n",
       "RegistrationCode Day                                                         \n",
       "111527           2017-11-08                       8.0  49.0     0.0   87.0   \n",
       "                 2017-11-10                       8.0  49.0     0.0   85.0   \n",
       "                 2017-11-11                       8.0  49.0     0.0  100.0   \n",
       "                 2017-11-12                       8.0  49.0     0.0   90.0   \n",
       "                 2017-11-13                       8.0  49.0     0.0   87.0   \n",
       "...                                               ...   ...     ...    ...   \n",
       "984879           2013-12-02                       9.3  36.0     1.0   69.0   \n",
       "                 2013-12-03                       9.3  36.0     1.0   80.0   \n",
       "                 2013-12-04                       9.3  36.0     1.0   89.0   \n",
       "                 2013-12-05                       9.3  36.0     1.0   76.0   \n",
       "                 2013-12-06                       9.3  36.0     1.0   65.0   \n",
       "\n",
       "                               max        CV      PPGR  \n",
       "RegistrationCode Day                                    \n",
       "111527           2017-11-08  115.0  0.063179  9.416667  \n",
       "                 2017-11-10  101.0  0.057075  9.114583  \n",
       "                 2017-11-11  138.0  0.100278  6.250000  \n",
       "                 2017-11-12  101.0  0.027204  5.479167  \n",
       "                 2017-11-13   99.0  0.027896  5.937500  \n",
       "...                            ...       ...       ...  \n",
       "984879           2013-12-02   97.0  0.092353  6.429398  \n",
       "                 2013-12-03  101.0  0.068714  6.035301  \n",
       "                 2013-12-04  120.0  0.088848  2.634838  \n",
       "                 2013-12-05  109.0  0.111412  9.747106  \n",
       "                 2013-12-06  105.0  0.147745  1.129630  \n",
       "\n",
       "[3064 rows x 37 columns]"
      ]
     },
     "execution_count": 681,
     "metadata": {},
     "output_type": "execute_result"
    }
   ],
   "source": [
    "X3_night.iloc[:,264:]"
   ]
  },
  {
   "cell_type": "code",
   "execution_count": 809,
   "metadata": {
    "ExecuteTime": {
     "end_time": "2020-04-24T08:44:32.538980Z",
     "start_time": "2020-04-24T08:44:29.543009Z"
    },
    "scrolled": true
   },
   "outputs": [
    {
     "name": "stdout",
     "output_type": "stream",
     "text": [
      "Food table number 1, y = CV: \n",
      "K-fold CV average score: 0.19\n",
      "0.2559449258700425\n"
     ]
    }
   ],
   "source": [
    "xgbr, y_test, y_pred = predict([X3_night.iloc[:,220:].drop(columns=[\n",
    "       'sitting_blood_pressure_pulse_rate',\n",
    "       'bt__lymphocytes_%', 'bt__monocytes_%',\n",
    "       'bt__neutrophils_%', 'gender'\n",
    "       ])], ['CV'], lr=0.1, n_estimators=80, max_depth=5, min_child_weight=20, colsample_bytree=0.8)"
   ]
  },
  {
   "cell_type": "code",
   "execution_count": 812,
   "metadata": {
    "ExecuteTime": {
     "end_time": "2020-04-24T08:46:27.703781Z",
     "start_time": "2020-04-24T08:46:27.700250Z"
    }
   },
   "outputs": [],
   "source": [
    "plt.rcParams['figure.figsize'] = [7,7]"
   ]
  },
  {
   "cell_type": "code",
   "execution_count": 813,
   "metadata": {
    "ExecuteTime": {
     "end_time": "2020-04-24T08:46:30.545272Z",
     "start_time": "2020-04-24T08:46:30.357485Z"
    }
   },
   "outputs": [
    {
     "data": {
      "text/plain": [
       "Text(0.5,1,'Prediction of the CV of the night from the diet')"
      ]
     },
     "execution_count": 813,
     "metadata": {},
     "output_type": "execute_result"
    },
    {
     "data": {
      "image/png": "[encoded data removed]",
      "text/plain": [
       "<Figure size 504x504 with 1 Axes>"
      ]
     },
     "metadata": {
      "needs_background": "light"
     },
     "output_type": "display_data"
    }
   ],
   "source": [
    "plt.scatter(y_test, y_pred)\n",
    "plt.xlabel('True Values')\n",
    "plt.ylabel('Predictions')\n",
    "plt.title('Prediction of the CV of the night from the diet')\n"
   ]
  },
  {
   "cell_type": "markdown",
   "metadata": {},
   "source": [
    "### PPGR predictions"
   ]
  },
  {
   "cell_type": "code",
   "execution_count": 769,
   "metadata": {
    "ExecuteTime": {
     "end_time": "2020-04-22T20:51:09.448390Z",
     "start_time": "2020-04-22T20:51:08.140230Z"
    }
   },
   "outputs": [
    {
     "name": "stdout",
     "output_type": "stream",
     "text": [
      "Food table number 1, y = PPGR: \n",
      "K-fold CV average score: 0.07\n",
      "0.11886285302937172\n"
     ]
    }
   ],
   "source": [
    "xgbr = predict([X1_night.iloc[:,12:]], ['PPGR'], lr=0.1, n_estimators=60, max_depth=4, min_child_weight=20)"
   ]
  },
  {
   "cell_type": "code",
   "execution_count": 731,
   "metadata": {
    "ExecuteTime": {
     "end_time": "2020-04-22T20:36:46.956413Z",
     "start_time": "2020-04-22T20:36:44.382279Z"
    }
   },
   "outputs": [
    {
     "name": "stdout",
     "output_type": "stream",
     "text": [
      "Food table number 1, y = PPGR: \n",
      "K-fold CV average score: 0.03\n",
      "0.07796872016650147\n"
     ]
    }
   ],
   "source": [
    "xgbr = predict([X2_night.drop(columns=['sodium_mg_b', 'sodium_mg_d', 'sodium_mg_l',\n",
    "       'sodium_mg_ld', 'sugarstotal_g_b','sugarstotal_g_l',  'carbohydrate_g_b', 'carbohydrate_g_l',\n",
    "        'energy_kcal_b', 'energy_kcal_l', 'protein_g_b', 'protein_g_l','carbs/lipids_b', 'carbs/lipids_l'\n",
    "        ])], ['PPGR'], lr=0.1, n_estimators=60, max_depth=5, min_child_weight=20, colsample_bytree=0.8)"
   ]
  },
  {
   "cell_type": "code",
   "execution_count": 770,
   "metadata": {
    "ExecuteTime": {
     "end_time": "2020-04-22T20:51:14.801560Z",
     "start_time": "2020-04-22T20:51:13.216369Z"
    }
   },
   "outputs": [
    {
     "name": "stdout",
     "output_type": "stream",
     "text": [
      "Food table number 1, y = PPGR: \n",
      "K-fold CV average score: 0.07\n",
      "0.14209037521035595\n"
     ]
    }
   ],
   "source": [
    "xgbr = predict([X3_night.iloc[:,264:].drop(columns=[\n",
    "       'sitting_blood_pressure_pulse_rate',\n",
    "       'bt__lymphocytes_%', 'bt__monocytes_%',\n",
    "       'bt__neutrophils_%', 'gender'\n",
    "       ])], ['PPGR'], lr=0.08, n_estimators=80, max_depth=5, min_child_weight=20, colsample_bytree=0.8)"
   ]
  },
  {
   "cell_type": "code",
   "execution_count": null,
   "metadata": {},
   "outputs": [],
   "source": []
  },
  {
   "cell_type": "code",
   "execution_count": null,
   "metadata": {},
   "outputs": [],
   "source": []
  },
  {
   "cell_type": "markdown",
   "metadata": {},
   "source": [
    "### Min/max predictions"
   ]
  },
  {
   "cell_type": "code",
   "execution_count": 661,
   "metadata": {
    "ExecuteTime": {
     "end_time": "2020-04-21T14:25:54.950299Z",
     "start_time": "2020-04-21T14:25:49.151917Z"
    },
    "scrolled": true
   },
   "outputs": [
    {
     "name": "stdout",
     "output_type": "stream",
     "text": [
      "Food table number 1, y = min: \n",
      "K-fold CV average score: 0.42\n",
      "0.4268327726494171\n",
      "Food table number 1, y = max: \n",
      "K-fold CV average score: 0.36\n",
      "0.29393150088941955\n"
     ]
    }
   ],
   "source": [
    "xgbr = predict([X1_night], ['min', 'max'], lr=0.1, n_estimators=60, max_depth=6, min_child_weight=20)"
   ]
  },
  {
   "cell_type": "code",
   "execution_count": 655,
   "metadata": {
    "ExecuteTime": {
     "end_time": "2020-04-21T14:23:43.831894Z",
     "start_time": "2020-04-21T14:23:42.973488Z"
    },
    "collapsed": true
   },
   "outputs": [
    {
     "data": {
      "text/plain": [
       "<matplotlib.axes._subplots.AxesSubplot at 0x2b7337fe20d0>"
      ]
     },
     "execution_count": 655,
     "metadata": {},
     "output_type": "execute_result"
    },
    {
     "data": {
      "image/png": "[encoded data removed]",
      "text/plain": [
       "<Figure size 720x1440 with 1 Axes>"
      ]
     },
     "metadata": {
      "needs_background": "light"
     },
     "output_type": "display_data"
    }
   ],
   "source": [
    "xgb.plot_importance(xgbr)"
   ]
  },
  {
   "cell_type": "code",
   "execution_count": 687,
   "metadata": {
    "ExecuteTime": {
     "end_time": "2020-04-21T21:45:52.721714Z",
     "start_time": "2020-04-21T21:45:52.713181Z"
    }
   },
   "outputs": [
    {
     "data": {
      "text/plain": [
       "Index(['bmi', 'sitting_blood_pressure_systolic',\n",
       "       'sitting_blood_pressure_diastolic', 'hips',\n",
       "       'sitting_blood_pressure_pulse_rate', 'waist', 'height', 'weight',\n",
       "       'bt__rdw', 'bt__hemoglobin', 'bt__hdl_cholesterol', 'bt__lymphocytes_%',\n",
       "       'bt__wbc', 'bt__mcv', 'bt__crp_synthetic', 'bt__mchc', 'bt__alt_gpt',\n",
       "       'bt__tsh', 'bt__platelets', 'bt__creatinine', 'bt__hct',\n",
       "       'bt__monocytes_%', 'bt__rbc', 'bt__eosinophils_%', 'bt__ast_got',\n",
       "       'bt__total_cholesterol', 'bt__mch', 'bt__albumin', 'bt__hba1c',\n",
       "       'bt__neutrophils_%', 'bt__mean_platelet_volume', 'age', 'gender', 'min',\n",
       "       'max', 'CV', 'PPGR'],\n",
       "      dtype='object')"
      ]
     },
     "execution_count": 687,
     "metadata": {},
     "output_type": "execute_result"
    }
   ],
   "source": [
    "X2_night.iloc[:,39:].columns"
   ]
  },
  {
   "cell_type": "code",
   "execution_count": 689,
   "metadata": {
    "ExecuteTime": {
     "end_time": "2020-04-21T21:46:53.207381Z",
     "start_time": "2020-04-21T21:46:49.951543Z"
    },
    "scrolled": true
   },
   "outputs": [
    {
     "name": "stdout",
     "output_type": "stream",
     "text": [
      "Food table number 1, y = min: \n",
      "K-fold CV average score: 0.46\n",
      "0.4380561338801403\n",
      "Food table number 1, y = max: \n",
      "K-fold CV average score: 0.37\n",
      "0.30520553151988394\n"
     ]
    }
   ],
   "source": [
    "xgbr = predict([X2_night.drop(columns=['sodium_mg_b', 'sodium_mg_d', 'sodium_mg_l',\n",
    "       'sodium_mg_ld', 'sugarstotal_g_b','sugarstotal_g_l',  'carbohydrate_g_b', 'carbohydrate_g_l',\n",
    "        'energy_kcal_b', 'energy_kcal_l', 'protein_g_b', 'protein_g_l','carbs/lipids_b', 'carbs/lipids_l'\n",
    "        ])], ['min', 'max'], lr=0.1, n_estimators=60, max_depth=5, min_child_weight=20, colsample_bytree=0.8)"
   ]
  },
  {
   "cell_type": "code",
   "execution_count": 684,
   "metadata": {
    "ExecuteTime": {
     "end_time": "2020-04-21T21:42:04.947140Z",
     "start_time": "2020-04-21T21:42:01.847267Z"
    }
   },
   "outputs": [
    {
     "name": "stdout",
     "output_type": "stream",
     "text": [
      "Food table number 1, y = min: \n",
      "K-fold CV average score: 0.46\n",
      "0.43311683313640714\n",
      "Food table number 1, y = max: \n",
      "K-fold CV average score: 0.37\n",
      "0.30690243305201115\n"
     ]
    }
   ],
   "source": [
    "xgbr = predict([X3_night.iloc[:,264:].drop(columns=[\n",
    "       'sitting_blood_pressure_pulse_rate',\n",
    "       'bt__lymphocytes_%', 'bt__monocytes_%',\n",
    "       'bt__neutrophils_%', 'gender'\n",
    "       ])], ['min', 'max'], lr=0.1, n_estimators=80, max_depth=5, min_child_weight=20, colsample_bytree=0.8)"
   ]
  },
  {
   "cell_type": "code",
   "execution_count": null,
   "metadata": {},
   "outputs": [],
   "source": []
  },
  {
   "cell_type": "code",
   "execution_count": null,
   "metadata": {},
   "outputs": [],
   "source": []
  },
  {
   "cell_type": "code",
   "execution_count": null,
   "metadata": {},
   "outputs": [],
   "source": []
  },
  {
   "cell_type": "code",
   "execution_count": null,
   "metadata": {},
   "outputs": [],
   "source": []
  },
  {
   "cell_type": "code",
   "execution_count": null,
   "metadata": {},
   "outputs": [],
   "source": []
  },
  {
   "cell_type": "code",
   "execution_count": null,
   "metadata": {},
   "outputs": [],
   "source": []
  },
  {
   "cell_type": "markdown",
   "metadata": {},
   "source": [
    "### WG predictions"
   ]
  },
  {
   "cell_type": "code",
   "execution_count": 208,
   "metadata": {
    "ExecuteTime": {
     "end_time": "2020-05-20T13:30:24.870540Z",
     "start_time": "2020-05-20T13:30:24.842579Z"
    }
   },
   "outputs": [
    {
     "data": {
      "text/plain": [
       "Index(['caffeine_mg', 'sugarstotal_g', 'weight_x', 'energy_kcal', 'protein_g',\n",
       "       'sodium_mg', 'totallipid_g', 'totaldietaryfiber_g', 'carbohydrate_g',\n",
       "       'carbs/lipids', 'caloric%carbs', 'caloric%fat',\n",
       "       'sitting_blood_pressure_diastolic', 'sitting_blood_pressure_systolic',\n",
       "       'hips', 'weight_y', 'waist', 'sitting_blood_pressure_pulse_rate',\n",
       "       'height', 'bmi', 'bt__lymphocytes_%', 'bt__mcv', 'bt__mch', 'bt__rbc',\n",
       "       'bt__rdw', 'bt__hba1c', 'bt__ast_got', 'bt__hemoglobin', 'bt__tsh',\n",
       "       'bt__mean_platelet_volume', 'bt__total_cholesterol', 'bt__hct',\n",
       "       'bt__eosinophils_%', 'bt__creatinine', 'bt__wbc', 'bt__alt_gpt',\n",
       "       'bt__hdl_cholesterol', 'bt__crp_synthetic', 'bt__monocytes_%',\n",
       "       'bt__mchc', 'bt__platelets', 'bt__neutrophils_%', 'bt__albumin', 'age',\n",
       "       'gender', 'wakeup_glucose'],\n",
       "      dtype='object')"
      ]
     },
     "execution_count": 208,
     "metadata": {},
     "output_type": "execute_result"
    }
   ],
   "source": [
    "X1_wg.columns"
   ]
  },
  {
   "cell_type": "code",
   "execution_count": 798,
   "metadata": {
    "ExecuteTime": {
     "end_time": "2020-04-22T21:30:14.678254Z",
     "start_time": "2020-04-22T21:30:13.119731Z"
    },
    "scrolled": true
   },
   "outputs": [
    {
     "name": "stdout",
     "output_type": "stream",
     "text": [
      "Food table number 1, y = wakeup_glucose: \n",
      "K-fold CV average score: 0.53\n",
      "0.5494210669503738\n"
     ]
    }
   ],
   "source": [
    "xgbr = predict([X1_wg[['bmi',\n",
    "       'sitting_blood_pressure_systolic', 'sitting_blood_pressure_diastolic',\n",
    "       'hips', 'sitting_blood_pressure_pulse_rate', 'waist', 'height',\n",
    "       'weight_y', 'bt__rdw', 'bt__hemoglobin', 'bt__hdl_cholesterol',\n",
    "       'bt__lymphocytes_%', 'bt__wbc', 'bt__mcv', 'bt__crp_synthetic',\n",
    "       'bt__mchc', 'bt__alt_gpt', 'bt__tsh', 'bt__platelets', 'bt__creatinine',\n",
    "       'bt__hct', 'bt__monocytes_%', 'bt__rbc', 'bt__eosinophils_%',\n",
    "       'bt__ast_got', 'bt__total_cholesterol', 'bt__mch', 'bt__albumin',\n",
    "       'bt__hba1c', 'bt__neutrophils_%', 'bt__mean_platelet_volume', 'age',\n",
    "       'gender', 'wakeup_glucose']]], ['wakeup_glucose'], lr=0.1, n_estimators=60, max_depth=5, min_child_weight=20)"
   ]
  },
  {
   "cell_type": "code",
   "execution_count": 781,
   "metadata": {
    "ExecuteTime": {
     "end_time": "2020-04-22T21:13:51.576327Z",
     "start_time": "2020-04-22T21:13:51.551870Z"
    }
   },
   "outputs": [],
   "source": [
    "X1_cv_wg = pd.merge(X1_night[['min', 'max','CV','PPGR']], X1_wg, on=['RegistrationCode', 'Day'])"
   ]
  },
  {
   "cell_type": "code",
   "execution_count": 802,
   "metadata": {
    "ExecuteTime": {
     "end_time": "2020-04-23T20:59:17.386108Z",
     "start_time": "2020-04-23T20:59:14.691379Z"
    },
    "scrolled": true
   },
   "outputs": [
    {
     "name": "stdout",
     "output_type": "stream",
     "text": [
      "Food table number 1, y = wakeup_glucose: \n",
      "K-fold CV average score: 0.57\n",
      "0.6183419449803099\n"
     ]
    }
   ],
   "source": [
    "xgbr = predict([X1_cv_wg[['PPGR','bmi',\n",
    "       'sitting_blood_pressure_systolic', 'sitting_blood_pressure_diastolic',\n",
    "       'hips', 'sitting_blood_pressure_pulse_rate', 'waist', 'height',\n",
    "       'weight_y', 'bt__rdw', 'bt__hemoglobin', 'bt__hdl_cholesterol',\n",
    "       'bt__lymphocytes_%', 'bt__wbc', 'bt__mcv', 'bt__crp_synthetic',\n",
    "       'bt__mchc', 'bt__alt_gpt', 'bt__tsh', 'bt__platelets', 'bt__creatinine',\n",
    "       'bt__hct', 'bt__monocytes_%', 'bt__rbc', 'bt__eosinophils_%',\n",
    "       'bt__ast_got', 'bt__total_cholesterol', 'bt__mch', 'bt__albumin',\n",
    "       'bt__hba1c', 'bt__neutrophils_%', 'bt__mean_platelet_volume', 'age',\n",
    "       'gender', 'wakeup_glucose']]], ['wakeup_glucose'], lr=0.1, n_estimators=100, max_depth=5, min_child_weight=20, \n",
    "        colsample_bytree=1)"
   ]
  },
  {
   "cell_type": "code",
   "execution_count": 803,
   "metadata": {
    "ExecuteTime": {
     "end_time": "2020-04-23T20:59:20.289184Z",
     "start_time": "2020-04-23T20:59:19.621228Z"
    },
    "scrolled": true
   },
   "outputs": [
    {
     "data": {
      "text/plain": [
       "<matplotlib.axes._subplots.AxesSubplot at 0x2b7345b98c90>"
      ]
     },
     "execution_count": 803,
     "metadata": {},
     "output_type": "execute_result"
    },
    {
     "data": {
      "image/png": "[encoded data removed]",
      "text/plain": [
       "<Figure size 720x1440 with 1 Axes>"
      ]
     },
     "metadata": {
      "needs_background": "light"
     },
     "output_type": "display_data"
    }
   ],
   "source": [
    "xgb.plot_importance(xgbr)"
   ]
  },
  {
   "cell_type": "code",
   "execution_count": 695,
   "metadata": {
    "ExecuteTime": {
     "end_time": "2020-04-21T22:01:24.371983Z",
     "start_time": "2020-04-21T22:01:24.364232Z"
    }
   },
   "outputs": [
    {
     "data": {
      "text/plain": [
       "Index(['sugarstotal_g_b', 'sugarstotal_g_d', 'sugarstotal_g_l',\n",
       "       'sugarstotal_g_ld', 'sodium_mg_b', 'sodium_mg_d', 'sodium_mg_l',\n",
       "       'sodium_mg_ld', 'carbohydrate_g_b', 'carbohydrate_g_d',\n",
       "       'carbohydrate_g_l', 'carbohydrate_g_ld', 'energy_kcal_b',\n",
       "       'energy_kcal_d', 'energy_kcal_l', 'energy_kcal_ld', 'protein_g_b',\n",
       "       'protein_g_d', 'protein_g_l', 'protein_g_ld', 'caffeine_mg_b',\n",
       "       'caffeine_mg_d', 'caffeine_mg_l', 'caffeine_mg_ld',\n",
       "       'totaldietaryfiber_g_b', 'totaldietaryfiber_g_d',\n",
       "       'totaldietaryfiber_g_l', 'totaldietaryfiber_g_ld', 'totallipid_g_b',\n",
       "       'totallipid_g_d', 'totallipid_g_l', 'totallipid_g_ld', 'weight_b',\n",
       "       'weight_d', 'weight_l', 'weight_ld', 'carbs/lipids_b', 'carbs/lipids_d',\n",
       "       'carbs/lipids_l', 'bmi', 'sitting_blood_pressure_systolic',\n",
       "       'sitting_blood_pressure_diastolic', 'hips',\n",
       "       'sitting_blood_pressure_pulse_rate', 'waist', 'height', 'weight',\n",
       "       'bt__rdw', 'bt__hemoglobin', 'bt__hdl_cholesterol', 'bt__lymphocytes_%',\n",
       "       'bt__wbc', 'bt__mcv', 'bt__crp_synthetic', 'bt__mchc', 'bt__alt_gpt',\n",
       "       'bt__tsh', 'bt__platelets', 'bt__creatinine', 'bt__hct',\n",
       "       'bt__monocytes_%', 'bt__rbc', 'bt__eosinophils_%', 'bt__ast_got',\n",
       "       'bt__total_cholesterol', 'bt__mch', 'bt__albumin', 'bt__hba1c',\n",
       "       'bt__neutrophils_%', 'bt__mean_platelet_volume', 'age', 'gender',\n",
       "       'wakeup_glucose'],\n",
       "      dtype='object')"
      ]
     },
     "execution_count": 695,
     "metadata": {},
     "output_type": "execute_result"
    }
   ],
   "source": [
    "X2_wg.columns"
   ]
  },
  {
   "cell_type": "code",
   "execution_count": 210,
   "metadata": {
    "ExecuteTime": {
     "end_time": "2020-05-20T13:32:51.928482Z",
     "start_time": "2020-05-20T13:32:50.319796Z"
    },
    "scrolled": true
   },
   "outputs": [
    {
     "name": "stdout",
     "output_type": "stream",
     "text": [
      "Food table number 1, y = wakeup_glucose: \n",
      "K-fold CV average score: -0.03\n",
      "0.0005270145460437581\n"
     ]
    }
   ],
   "source": [
    "xgbr = predict([X2_wg.drop(columns=['bmi', 'sitting_blood_pressure_systolic',\n",
    "       'sitting_blood_pressure_diastolic', 'hips',\n",
    "       'sitting_blood_pressure_pulse_rate', 'waist', 'height', 'weight',\n",
    "       'bt__rdw', 'bt__hemoglobin', 'bt__hdl_cholesterol', 'bt__lymphocytes_%',\n",
    "       'bt__wbc', 'bt__mcv', 'bt__crp_synthetic', 'bt__mchc', 'bt__alt_gpt',\n",
    "       'bt__tsh', 'bt__platelets', 'bt__creatinine', 'bt__hct',\n",
    "       'bt__monocytes_%', 'bt__rbc', 'bt__eosinophils_%', 'bt__ast_got',\n",
    "       'bt__total_cholesterol', 'bt__mch', 'bt__albumin', 'bt__hba1c',\n",
    "       'bt__neutrophils_%', 'bt__mean_platelet_volume', 'age', 'gender'])], ['wakeup_glucose'], X_end_loc=-1, cv_n_splits=3, lr=0.1, n_estimators=60, max_depth=5, min_child_weight=20, colsample_bytree=0.8)"
   ]
  },
  {
   "cell_type": "code",
   "execution_count": null,
   "metadata": {},
   "outputs": [],
   "source": []
  },
  {
   "cell_type": "code",
   "execution_count": 514,
   "metadata": {
    "ExecuteTime": {
     "end_time": "2020-04-20T22:01:59.079333Z",
     "start_time": "2020-04-20T22:01:59.070765Z"
    }
   },
   "outputs": [],
   "source": [
    "X,y = X2_wg.iloc[:,0:-1], pd.DataFrame(X2_wg.iloc[:,-1])"
   ]
  },
  {
   "cell_type": "code",
   "execution_count": 515,
   "metadata": {
    "ExecuteTime": {
     "end_time": "2020-04-20T22:02:06.633854Z",
     "start_time": "2020-04-20T22:02:01.593449Z"
    }
   },
   "outputs": [
    {
     "name": "stdout",
     "output_type": "stream",
     "text": [
      "K-fold CV average score: 0.46\n"
     ]
    },
    {
     "data": {
      "text/plain": [
       "0.4998264316061545"
      ]
     },
     "execution_count": 515,
     "metadata": {},
     "output_type": "execute_result"
    }
   ],
   "source": [
    "X_train, X_test, y_train, y_test=train_test_split(X, y, test_size=0.2, random_state=383)\n",
    "\n",
    "xgbr = xgb.XGBRegressor(objective ='reg:squarederror', learning_rate = 0.1,\n",
    "                max_depth = 5, n_estimators = 100) \n",
    "\n",
    "xgbr.fit(X_train, y_train)\n",
    "\n",
    "kfold = KFold(n_splits=3, shuffle=True)\n",
    "kf_cv_scores = cross_val_score(xgbr, X_train, y_train, cv=kfold )\n",
    "print(\"K-fold CV average score: %.2f\" % ( kf_cv_scores.mean()))\n",
    "\n",
    "y_pred = xgbr.predict(X_test)\n",
    "r2_score(y_test, y_pred)"
   ]
  },
  {
   "cell_type": "code",
   "execution_count": null,
   "metadata": {},
   "outputs": [],
   "source": []
  },
  {
   "cell_type": "markdown",
   "metadata": {},
   "source": [
    "## Data transformation"
   ]
  },
  {
   "cell_type": "code",
   "execution_count": 456,
   "metadata": {
    "ExecuteTime": {
     "end_time": "2020-04-19T13:12:13.800636Z",
     "start_time": "2020-04-19T13:12:13.783485Z"
    },
    "collapsed": true
   },
   "outputs": [
    {
     "data": {
      "text/html": [
       "<div>\n",
       "<style scoped>\n",
       "    .dataframe tbody tr th:only-of-type {\n",
       "        vertical-align: middle;\n",
       "    }\n",
       "\n",
       "    .dataframe tbody tr th {\n",
       "        vertical-align: top;\n",
       "    }\n",
       "\n",
       "    .dataframe thead th {\n",
       "        text-align: right;\n",
       "    }\n",
       "</style>\n",
       "<table border=\"1\" class=\"dataframe\">\n",
       "  <thead>\n",
       "    <tr style=\"text-align: right;\">\n",
       "      <th></th>\n",
       "      <th>Day</th>\n",
       "    </tr>\n",
       "    <tr>\n",
       "      <th>RegistrationCode</th>\n",
       "      <th></th>\n",
       "    </tr>\n",
       "  </thead>\n",
       "  <tbody>\n",
       "    <tr>\n",
       "      <th>10260</th>\n",
       "      <td>2</td>\n",
       "    </tr>\n",
       "    <tr>\n",
       "      <th>105043</th>\n",
       "      <td>5</td>\n",
       "    </tr>\n",
       "    <tr>\n",
       "      <th>111527</th>\n",
       "      <td>9</td>\n",
       "    </tr>\n",
       "    <tr>\n",
       "      <th>113719</th>\n",
       "      <td>5</td>\n",
       "    </tr>\n",
       "    <tr>\n",
       "      <th>115217</th>\n",
       "      <td>4</td>\n",
       "    </tr>\n",
       "    <tr>\n",
       "      <th>...</th>\n",
       "      <td>...</td>\n",
       "    </tr>\n",
       "    <tr>\n",
       "      <th>984879</th>\n",
       "      <td>4</td>\n",
       "    </tr>\n",
       "    <tr>\n",
       "      <th>988899</th>\n",
       "      <td>4</td>\n",
       "    </tr>\n",
       "    <tr>\n",
       "      <th>992638</th>\n",
       "      <td>12</td>\n",
       "    </tr>\n",
       "    <tr>\n",
       "      <th>997427</th>\n",
       "      <td>6</td>\n",
       "    </tr>\n",
       "    <tr>\n",
       "      <th>997735</th>\n",
       "      <td>11</td>\n",
       "    </tr>\n",
       "  </tbody>\n",
       "</table>\n",
       "<p>452 rows × 1 columns</p>\n",
       "</div>"
      ],
      "text/plain": [
       "                  Day\n",
       "RegistrationCode     \n",
       "10260               2\n",
       "105043              5\n",
       "111527              9\n",
       "113719              5\n",
       "115217              4\n",
       "...               ...\n",
       "984879              4\n",
       "988899              4\n",
       "992638             12\n",
       "997427              6\n",
       "997735             11\n",
       "\n",
       "[452 rows x 1 columns]"
      ]
     },
     "execution_count": 456,
     "metadata": {},
     "output_type": "execute_result"
    }
   ],
   "source": [
    "count"
   ]
  },
  {
   "cell_type": "markdown",
   "metadata": {},
   "source": [
    "Ok, I have approximately 2000 days with estimated wg values and food log for the previous day. I could now look by eye and per person on the days with specifically high wg and low and look at the food on the day befor, whether it was more than usual of something or less, earlier dinners or later dinners. "
   ]
  },
  {
   "cell_type": "code",
   "execution_count": 60,
   "metadata": {
    "ExecuteTime": {
     "end_time": "2020-04-13T11:28:29.657915Z",
     "start_time": "2020-04-13T11:28:29.649590Z"
    }
   },
   "outputs": [],
   "source": [
    "def z_transform(df, column_to_transform):\n",
    "    \n",
    "    \"\"\"Z score for the group (based on RC) from each value\"\"\"\n",
    "    \n",
    "    df_means = df.reset_index().groupby('RegistrationCode').mean()\n",
    "    df_std =  df.reset_index().groupby('RegistrationCode').std()\n",
    "\n",
    "    df = df.reset_index('Day')\n",
    "\n",
    "    for rc in df_means.index.unique():\n",
    "        df.loc[rc][column_to_transform] = df.loc[rc][column_to_transform].apply(lambda x: (x - df_means.loc[rc])/df_std.loc[rc])\n",
    "        \n",
    "    return df"
   ]
  },
  {
   "cell_type": "code",
   "execution_count": 144,
   "metadata": {
    "ExecuteTime": {
     "end_time": "2020-04-13T20:02:25.821469Z",
     "start_time": "2020-04-13T20:02:23.241990Z"
    }
   },
   "outputs": [
    {
     "name": "stderr",
     "output_type": "stream",
     "text": [
      "/home/elming/anaconda3/envs/mylabdata/lib/python3.7/site-packages/ipykernel_launcher.py:11: SettingWithCopyWarning:\n",
      "\n",
      "\n",
      "A value is trying to be set on a copy of a slice from a DataFrame.\n",
      "Try using .loc[row_indexer,col_indexer] = value instead\n",
      "\n",
      "See the caveats in the documentation: http://pandas.pydata.org/pandas-docs/stable/user_guide/indexing.html#returning-a-view-versus-a-copy\n",
      "\n"
     ]
    }
   ],
   "source": [
    "wg_df_z = z_transform(wg_df, 'wakeup_glucose')"
   ]
  },
  {
   "cell_type": "markdown",
   "metadata": {},
   "source": [
    "## Study the data"
   ]
  },
  {
   "cell_type": "code",
   "execution_count": 805,
   "metadata": {
    "ExecuteTime": {
     "end_time": "2020-04-23T21:56:59.823760Z",
     "start_time": "2020-04-23T21:56:59.780089Z"
    }
   },
   "outputs": [
    {
     "data": {
      "text/html": [
       "<div>\n",
       "<style scoped>\n",
       "    .dataframe tbody tr th:only-of-type {\n",
       "        vertical-align: middle;\n",
       "    }\n",
       "\n",
       "    .dataframe tbody tr th {\n",
       "        vertical-align: top;\n",
       "    }\n",
       "\n",
       "    .dataframe thead th {\n",
       "        text-align: right;\n",
       "    }\n",
       "</style>\n",
       "<table border=\"1\" class=\"dataframe\">\n",
       "  <thead>\n",
       "    <tr style=\"text-align: right;\">\n",
       "      <th></th>\n",
       "      <th></th>\n",
       "      <th>sugarstotal_g</th>\n",
       "      <th>sodium_mg</th>\n",
       "      <th>carbohydrate_g</th>\n",
       "      <th>energy_kcal</th>\n",
       "      <th>protein_g</th>\n",
       "      <th>caffeine_mg</th>\n",
       "      <th>totaldietaryfiber_g</th>\n",
       "      <th>totallipid_g</th>\n",
       "      <th>weight_x</th>\n",
       "      <th>carbs/lipids</th>\n",
       "      <th>...</th>\n",
       "      <th>bt__albumin</th>\n",
       "      <th>bt__hba1c</th>\n",
       "      <th>bt__neutrophils_%</th>\n",
       "      <th>bt__mean_platelet_volume</th>\n",
       "      <th>age</th>\n",
       "      <th>gender</th>\n",
       "      <th>min</th>\n",
       "      <th>max</th>\n",
       "      <th>CV</th>\n",
       "      <th>PPGR</th>\n",
       "    </tr>\n",
       "    <tr>\n",
       "      <th>RegistrationCode</th>\n",
       "      <th>Day</th>\n",
       "      <th></th>\n",
       "      <th></th>\n",
       "      <th></th>\n",
       "      <th></th>\n",
       "      <th></th>\n",
       "      <th></th>\n",
       "      <th></th>\n",
       "      <th></th>\n",
       "      <th></th>\n",
       "      <th></th>\n",
       "      <th></th>\n",
       "      <th></th>\n",
       "      <th></th>\n",
       "      <th></th>\n",
       "      <th></th>\n",
       "      <th></th>\n",
       "      <th></th>\n",
       "      <th></th>\n",
       "      <th></th>\n",
       "      <th></th>\n",
       "      <th></th>\n",
       "    </tr>\n",
       "  </thead>\n",
       "  <tbody>\n",
       "    <tr>\n",
       "      <th>445179</th>\n",
       "      <th>2017-06-17</th>\n",
       "      <td>15.065810</td>\n",
       "      <td>4674.376354</td>\n",
       "      <td>76.205742</td>\n",
       "      <td>1826.235870</td>\n",
       "      <td>135.958493</td>\n",
       "      <td>0.00</td>\n",
       "      <td>8.093116</td>\n",
       "      <td>107.233947</td>\n",
       "      <td>1299.000000</td>\n",
       "      <td>0.710649</td>\n",
       "      <td>...</td>\n",
       "      <td>5.000000</td>\n",
       "      <td>5.635714</td>\n",
       "      <td>56.450000</td>\n",
       "      <td>9.116667</td>\n",
       "      <td>54.0</td>\n",
       "      <td>0.0</td>\n",
       "      <td>100.0</td>\n",
       "      <td>116.0</td>\n",
       "      <td>0.040013</td>\n",
       "      <td>3.912500</td>\n",
       "    </tr>\n",
       "    <tr>\n",
       "      <th>132095</th>\n",
       "      <th>2018-05-06</th>\n",
       "      <td>27.738704</td>\n",
       "      <td>6148.465958</td>\n",
       "      <td>265.054311</td>\n",
       "      <td>2586.396497</td>\n",
       "      <td>105.966375</td>\n",
       "      <td>142.50</td>\n",
       "      <td>21.379584</td>\n",
       "      <td>125.310226</td>\n",
       "      <td>2163.879999</td>\n",
       "      <td>2.115185</td>\n",
       "      <td>...</td>\n",
       "      <td>4.533333</td>\n",
       "      <td>5.951667</td>\n",
       "      <td>69.150000</td>\n",
       "      <td>9.900000</td>\n",
       "      <td>49.0</td>\n",
       "      <td>0.0</td>\n",
       "      <td>49.0</td>\n",
       "      <td>116.0</td>\n",
       "      <td>0.189298</td>\n",
       "      <td>1.788462</td>\n",
       "    </tr>\n",
       "    <tr>\n",
       "      <th>185604</th>\n",
       "      <th>2014-12-03</th>\n",
       "      <td>24.095400</td>\n",
       "      <td>3078.864740</td>\n",
       "      <td>137.982770</td>\n",
       "      <td>2032.332920</td>\n",
       "      <td>121.905872</td>\n",
       "      <td>213.35</td>\n",
       "      <td>25.626712</td>\n",
       "      <td>110.050672</td>\n",
       "      <td>2466.000000</td>\n",
       "      <td>1.253811</td>\n",
       "      <td>...</td>\n",
       "      <td>4.600000</td>\n",
       "      <td>5.890000</td>\n",
       "      <td>62.500000</td>\n",
       "      <td>8.400000</td>\n",
       "      <td>51.0</td>\n",
       "      <td>0.0</td>\n",
       "      <td>108.0</td>\n",
       "      <td>128.0</td>\n",
       "      <td>0.043405</td>\n",
       "      <td>4.140046</td>\n",
       "    </tr>\n",
       "    <tr>\n",
       "      <th>831208</th>\n",
       "      <th>2018-10-13</th>\n",
       "      <td>12.839800</td>\n",
       "      <td>3617.774600</td>\n",
       "      <td>187.463605</td>\n",
       "      <td>2128.314210</td>\n",
       "      <td>142.478988</td>\n",
       "      <td>225.00</td>\n",
       "      <td>30.881035</td>\n",
       "      <td>92.005907</td>\n",
       "      <td>2398.000000</td>\n",
       "      <td>2.037517</td>\n",
       "      <td>...</td>\n",
       "      <td>4.875000</td>\n",
       "      <td>5.885000</td>\n",
       "      <td>48.000000</td>\n",
       "      <td>9.700000</td>\n",
       "      <td>64.0</td>\n",
       "      <td>1.0</td>\n",
       "      <td>97.0</td>\n",
       "      <td>107.0</td>\n",
       "      <td>0.028296</td>\n",
       "      <td>2.187500</td>\n",
       "    </tr>\n",
       "    <tr>\n",
       "      <th>394693</th>\n",
       "      <th>2018-10-22</th>\n",
       "      <td>48.393163</td>\n",
       "      <td>3063.312320</td>\n",
       "      <td>139.365899</td>\n",
       "      <td>1780.201400</td>\n",
       "      <td>133.674555</td>\n",
       "      <td>171.50</td>\n",
       "      <td>16.420172</td>\n",
       "      <td>70.949350</td>\n",
       "      <td>3524.000000</td>\n",
       "      <td>1.964301</td>\n",
       "      <td>...</td>\n",
       "      <td>4.666667</td>\n",
       "      <td>5.885000</td>\n",
       "      <td>53.900000</td>\n",
       "      <td>9.550000</td>\n",
       "      <td>61.0</td>\n",
       "      <td>1.0</td>\n",
       "      <td>66.0</td>\n",
       "      <td>80.0</td>\n",
       "      <td>0.045120</td>\n",
       "      <td>5.833333</td>\n",
       "    </tr>\n",
       "    <tr>\n",
       "      <th>456910</th>\n",
       "      <th>2018-09-01</th>\n",
       "      <td>19.609300</td>\n",
       "      <td>7630.717861</td>\n",
       "      <td>329.074965</td>\n",
       "      <td>2803.707710</td>\n",
       "      <td>131.646096</td>\n",
       "      <td>28.80</td>\n",
       "      <td>22.035902</td>\n",
       "      <td>98.824060</td>\n",
       "      <td>3936.900000</td>\n",
       "      <td>3.329907</td>\n",
       "      <td>...</td>\n",
       "      <td>4.966667</td>\n",
       "      <td>5.738333</td>\n",
       "      <td>65.066667</td>\n",
       "      <td>8.216667</td>\n",
       "      <td>63.0</td>\n",
       "      <td>1.0</td>\n",
       "      <td>86.0</td>\n",
       "      <td>119.0</td>\n",
       "      <td>0.102726</td>\n",
       "      <td>0.236111</td>\n",
       "    </tr>\n",
       "    <tr>\n",
       "      <th>859286</th>\n",
       "      <th>2018-08-27</th>\n",
       "      <td>77.404500</td>\n",
       "      <td>7090.735000</td>\n",
       "      <td>226.497800</td>\n",
       "      <td>2103.060000</td>\n",
       "      <td>107.591450</td>\n",
       "      <td>113.43</td>\n",
       "      <td>66.972340</td>\n",
       "      <td>72.462150</td>\n",
       "      <td>2535.000000</td>\n",
       "      <td>3.125739</td>\n",
       "      <td>...</td>\n",
       "      <td>5.000000</td>\n",
       "      <td>5.846667</td>\n",
       "      <td>61.133333</td>\n",
       "      <td>8.116667</td>\n",
       "      <td>60.0</td>\n",
       "      <td>1.0</td>\n",
       "      <td>78.0</td>\n",
       "      <td>126.0</td>\n",
       "      <td>0.136621</td>\n",
       "      <td>7.100000</td>\n",
       "    </tr>\n",
       "    <tr>\n",
       "      <th>632605</th>\n",
       "      <th>2014-12-16</th>\n",
       "      <td>35.130500</td>\n",
       "      <td>1624.458903</td>\n",
       "      <td>216.449273</td>\n",
       "      <td>1746.298987</td>\n",
       "      <td>90.311080</td>\n",
       "      <td>220.50</td>\n",
       "      <td>36.595978</td>\n",
       "      <td>50.119380</td>\n",
       "      <td>5147.000000</td>\n",
       "      <td>4.318674</td>\n",
       "      <td>...</td>\n",
       "      <td>4.300000</td>\n",
       "      <td>5.700000</td>\n",
       "      <td>53.700000</td>\n",
       "      <td>10.900000</td>\n",
       "      <td>67.0</td>\n",
       "      <td>0.0</td>\n",
       "      <td>111.0</td>\n",
       "      <td>137.0</td>\n",
       "      <td>0.058891</td>\n",
       "      <td>2.507523</td>\n",
       "    </tr>\n",
       "    <tr>\n",
       "      <th>495288</th>\n",
       "      <th>2017-09-29</th>\n",
       "      <td>20.505200</td>\n",
       "      <td>2175.258760</td>\n",
       "      <td>170.780770</td>\n",
       "      <td>1424.432120</td>\n",
       "      <td>52.999475</td>\n",
       "      <td>115.20</td>\n",
       "      <td>12.012470</td>\n",
       "      <td>58.346388</td>\n",
       "      <td>1242.000000</td>\n",
       "      <td>2.927015</td>\n",
       "      <td>...</td>\n",
       "      <td>4.766667</td>\n",
       "      <td>6.122143</td>\n",
       "      <td>52.216667</td>\n",
       "      <td>9.700000</td>\n",
       "      <td>46.0</td>\n",
       "      <td>0.0</td>\n",
       "      <td>112.0</td>\n",
       "      <td>182.0</td>\n",
       "      <td>0.170765</td>\n",
       "      <td>2.364583</td>\n",
       "    </tr>\n",
       "    <tr>\n",
       "      <th>200731</th>\n",
       "      <th>2015-07-14</th>\n",
       "      <td>37.995500</td>\n",
       "      <td>2816.895750</td>\n",
       "      <td>195.801375</td>\n",
       "      <td>2149.411250</td>\n",
       "      <td>84.838975</td>\n",
       "      <td>232.10</td>\n",
       "      <td>30.948412</td>\n",
       "      <td>109.581700</td>\n",
       "      <td>3697.000000</td>\n",
       "      <td>1.786807</td>\n",
       "      <td>...</td>\n",
       "      <td>4.600000</td>\n",
       "      <td>5.800000</td>\n",
       "      <td>55.200000</td>\n",
       "      <td>8.800000</td>\n",
       "      <td>45.0</td>\n",
       "      <td>0.0</td>\n",
       "      <td>56.0</td>\n",
       "      <td>97.0</td>\n",
       "      <td>0.160762</td>\n",
       "      <td>0.000000</td>\n",
       "    </tr>\n",
       "  </tbody>\n",
       "</table>\n",
       "<p>10 rows × 49 columns</p>\n",
       "</div>"
      ],
      "text/plain": [
       "                             sugarstotal_g    sodium_mg  carbohydrate_g  \\\n",
       "RegistrationCode Day                                                      \n",
       "445179           2017-06-17      15.065810  4674.376354       76.205742   \n",
       "132095           2018-05-06      27.738704  6148.465958      265.054311   \n",
       "185604           2014-12-03      24.095400  3078.864740      137.982770   \n",
       "831208           2018-10-13      12.839800  3617.774600      187.463605   \n",
       "394693           2018-10-22      48.393163  3063.312320      139.365899   \n",
       "456910           2018-09-01      19.609300  7630.717861      329.074965   \n",
       "859286           2018-08-27      77.404500  7090.735000      226.497800   \n",
       "632605           2014-12-16      35.130500  1624.458903      216.449273   \n",
       "495288           2017-09-29      20.505200  2175.258760      170.780770   \n",
       "200731           2015-07-14      37.995500  2816.895750      195.801375   \n",
       "\n",
       "                             energy_kcal   protein_g  caffeine_mg  \\\n",
       "RegistrationCode Day                                                \n",
       "445179           2017-06-17  1826.235870  135.958493         0.00   \n",
       "132095           2018-05-06  2586.396497  105.966375       142.50   \n",
       "185604           2014-12-03  2032.332920  121.905872       213.35   \n",
       "831208           2018-10-13  2128.314210  142.478988       225.00   \n",
       "394693           2018-10-22  1780.201400  133.674555       171.50   \n",
       "456910           2018-09-01  2803.707710  131.646096        28.80   \n",
       "859286           2018-08-27  2103.060000  107.591450       113.43   \n",
       "632605           2014-12-16  1746.298987   90.311080       220.50   \n",
       "495288           2017-09-29  1424.432120   52.999475       115.20   \n",
       "200731           2015-07-14  2149.411250   84.838975       232.10   \n",
       "\n",
       "                             totaldietaryfiber_g  totallipid_g     weight_x  \\\n",
       "RegistrationCode Day                                                          \n",
       "445179           2017-06-17             8.093116    107.233947  1299.000000   \n",
       "132095           2018-05-06            21.379584    125.310226  2163.879999   \n",
       "185604           2014-12-03            25.626712    110.050672  2466.000000   \n",
       "831208           2018-10-13            30.881035     92.005907  2398.000000   \n",
       "394693           2018-10-22            16.420172     70.949350  3524.000000   \n",
       "456910           2018-09-01            22.035902     98.824060  3936.900000   \n",
       "859286           2018-08-27            66.972340     72.462150  2535.000000   \n",
       "632605           2014-12-16            36.595978     50.119380  5147.000000   \n",
       "495288           2017-09-29            12.012470     58.346388  1242.000000   \n",
       "200731           2015-07-14            30.948412    109.581700  3697.000000   \n",
       "\n",
       "                             carbs/lipids  ...  bt__albumin  bt__hba1c  \\\n",
       "RegistrationCode Day                       ...                           \n",
       "445179           2017-06-17      0.710649  ...     5.000000   5.635714   \n",
       "132095           2018-05-06      2.115185  ...     4.533333   5.951667   \n",
       "185604           2014-12-03      1.253811  ...     4.600000   5.890000   \n",
       "831208           2018-10-13      2.037517  ...     4.875000   5.885000   \n",
       "394693           2018-10-22      1.964301  ...     4.666667   5.885000   \n",
       "456910           2018-09-01      3.329907  ...     4.966667   5.738333   \n",
       "859286           2018-08-27      3.125739  ...     5.000000   5.846667   \n",
       "632605           2014-12-16      4.318674  ...     4.300000   5.700000   \n",
       "495288           2017-09-29      2.927015  ...     4.766667   6.122143   \n",
       "200731           2015-07-14      1.786807  ...     4.600000   5.800000   \n",
       "\n",
       "                             bt__neutrophils_%  bt__mean_platelet_volume  \\\n",
       "RegistrationCode Day                                                       \n",
       "445179           2017-06-17          56.450000                  9.116667   \n",
       "132095           2018-05-06          69.150000                  9.900000   \n",
       "185604           2014-12-03          62.500000                  8.400000   \n",
       "831208           2018-10-13          48.000000                  9.700000   \n",
       "394693           2018-10-22          53.900000                  9.550000   \n",
       "456910           2018-09-01          65.066667                  8.216667   \n",
       "859286           2018-08-27          61.133333                  8.116667   \n",
       "632605           2014-12-16          53.700000                 10.900000   \n",
       "495288           2017-09-29          52.216667                  9.700000   \n",
       "200731           2015-07-14          55.200000                  8.800000   \n",
       "\n",
       "                              age  gender    min    max        CV      PPGR  \n",
       "RegistrationCode Day                                                         \n",
       "445179           2017-06-17  54.0     0.0  100.0  116.0  0.040013  3.912500  \n",
       "132095           2018-05-06  49.0     0.0   49.0  116.0  0.189298  1.788462  \n",
       "185604           2014-12-03  51.0     0.0  108.0  128.0  0.043405  4.140046  \n",
       "831208           2018-10-13  64.0     1.0   97.0  107.0  0.028296  2.187500  \n",
       "394693           2018-10-22  61.0     1.0   66.0   80.0  0.045120  5.833333  \n",
       "456910           2018-09-01  63.0     1.0   86.0  119.0  0.102726  0.236111  \n",
       "859286           2018-08-27  60.0     1.0   78.0  126.0  0.136621  7.100000  \n",
       "632605           2014-12-16  67.0     0.0  111.0  137.0  0.058891  2.507523  \n",
       "495288           2017-09-29  46.0     0.0  112.0  182.0  0.170765  2.364583  \n",
       "200731           2015-07-14  45.0     0.0   56.0   97.0  0.160762  0.000000  \n",
       "\n",
       "[10 rows x 49 columns]"
      ]
     },
     "execution_count": 805,
     "metadata": {},
     "output_type": "execute_result"
    }
   ],
   "source": [
    "X1_night.sample(10)"
   ]
  },
  {
   "cell_type": "code",
   "execution_count": 806,
   "metadata": {
    "ExecuteTime": {
     "end_time": "2020-04-23T22:01:49.915924Z",
     "start_time": "2020-04-23T22:01:49.891969Z"
    },
    "scrolled": false
   },
   "outputs": [
    {
     "data": {
      "text/html": [
       "<div>\n",
       "<style scoped>\n",
       "    .dataframe tbody tr th:only-of-type {\n",
       "        vertical-align: middle;\n",
       "    }\n",
       "\n",
       "    .dataframe tbody tr th {\n",
       "        vertical-align: top;\n",
       "    }\n",
       "\n",
       "    .dataframe thead th {\n",
       "        text-align: right;\n",
       "    }\n",
       "</style>\n",
       "<table border=\"1\" class=\"dataframe\">\n",
       "  <thead>\n",
       "    <tr style=\"text-align: right;\">\n",
       "      <th></th>\n",
       "      <th></th>\n",
       "      <th>min</th>\n",
       "      <th>max</th>\n",
       "      <th>CV</th>\n",
       "      <th>PPGR</th>\n",
       "    </tr>\n",
       "    <tr>\n",
       "      <th>RegistrationCode</th>\n",
       "      <th>Day</th>\n",
       "      <th></th>\n",
       "      <th></th>\n",
       "      <th></th>\n",
       "      <th></th>\n",
       "    </tr>\n",
       "  </thead>\n",
       "  <tbody>\n",
       "    <tr>\n",
       "      <th>745073</th>\n",
       "      <th>2018-05-06</th>\n",
       "      <td>78.0</td>\n",
       "      <td>123.0</td>\n",
       "      <td>0.150902</td>\n",
       "      <td>3.547619</td>\n",
       "    </tr>\n",
       "    <tr>\n",
       "      <th>607468</th>\n",
       "      <th>2014-05-17</th>\n",
       "      <td>108.0</td>\n",
       "      <td>172.0</td>\n",
       "      <td>0.123011</td>\n",
       "      <td>16.401042</td>\n",
       "    </tr>\n",
       "    <tr>\n",
       "      <th>697184</th>\n",
       "      <th>2014-07-26</th>\n",
       "      <td>90.0</td>\n",
       "      <td>108.0</td>\n",
       "      <td>0.041201</td>\n",
       "      <td>5.247685</td>\n",
       "    </tr>\n",
       "    <tr>\n",
       "      <th>132178</th>\n",
       "      <th>2018-02-06</th>\n",
       "      <td>100.0</td>\n",
       "      <td>127.0</td>\n",
       "      <td>0.068781</td>\n",
       "      <td>8.630000</td>\n",
       "    </tr>\n",
       "    <tr>\n",
       "      <th>494090</th>\n",
       "      <th>2017-08-17</th>\n",
       "      <td>87.0</td>\n",
       "      <td>130.0</td>\n",
       "      <td>0.089121</td>\n",
       "      <td>8.039062</td>\n",
       "    </tr>\n",
       "    <tr>\n",
       "      <th>723796</th>\n",
       "      <th>2018-03-18</th>\n",
       "      <td>90.0</td>\n",
       "      <td>126.0</td>\n",
       "      <td>0.103528</td>\n",
       "      <td>0.903409</td>\n",
       "    </tr>\n",
       "    <tr>\n",
       "      <th>122175</th>\n",
       "      <th>2014-11-23</th>\n",
       "      <td>108.0</td>\n",
       "      <td>140.0</td>\n",
       "      <td>0.097345</td>\n",
       "      <td>3.038095</td>\n",
       "    </tr>\n",
       "    <tr>\n",
       "      <th>304470</th>\n",
       "      <th>2014-08-18</th>\n",
       "      <td>132.0</td>\n",
       "      <td>156.0</td>\n",
       "      <td>0.055742</td>\n",
       "      <td>0.442130</td>\n",
       "    </tr>\n",
       "    <tr>\n",
       "      <th>347434</th>\n",
       "      <th>2018-10-16</th>\n",
       "      <td>73.0</td>\n",
       "      <td>140.0</td>\n",
       "      <td>0.202545</td>\n",
       "      <td>5.732955</td>\n",
       "    </tr>\n",
       "    <tr>\n",
       "      <th>124968</th>\n",
       "      <th>2017-09-24</th>\n",
       "      <td>103.0</td>\n",
       "      <td>114.0</td>\n",
       "      <td>0.026176</td>\n",
       "      <td>0.773438</td>\n",
       "    </tr>\n",
       "  </tbody>\n",
       "</table>\n",
       "</div>"
      ],
      "text/plain": [
       "                               min    max        CV       PPGR\n",
       "RegistrationCode Day                                          \n",
       "745073           2018-05-06   78.0  123.0  0.150902   3.547619\n",
       "607468           2014-05-17  108.0  172.0  0.123011  16.401042\n",
       "697184           2014-07-26   90.0  108.0  0.041201   5.247685\n",
       "132178           2018-02-06  100.0  127.0  0.068781   8.630000\n",
       "494090           2017-08-17   87.0  130.0  0.089121   8.039062\n",
       "723796           2018-03-18   90.0  126.0  0.103528   0.903409\n",
       "122175           2014-11-23  108.0  140.0  0.097345   3.038095\n",
       "304470           2014-08-18  132.0  156.0  0.055742   0.442130\n",
       "347434           2018-10-16   73.0  140.0  0.202545   5.732955\n",
       "124968           2017-09-24  103.0  114.0  0.026176   0.773438"
      ]
     },
     "execution_count": 806,
     "metadata": {},
     "output_type": "execute_result"
    }
   ],
   "source": [
    "night_stats.sample(10)"
   ]
  },
  {
   "cell_type": "code",
   "execution_count": 85,
   "metadata": {
    "ExecuteTime": {
     "end_time": "2020-04-13T12:05:06.780943Z",
     "start_time": "2020-04-13T12:05:04.199867Z"
    }
   },
   "outputs": [
    {
     "name": "stderr",
     "output_type": "stream",
     "text": [
      "/home/elming/anaconda3/envs/mylabdata/lib/python3.7/site-packages/ipykernel_launcher.py:5: FutureWarning: \n",
      "Passing list-likes to .loc or [] with any missing label will raise\n",
      "KeyError in the future, you can use .reindex() as an alternative.\n",
      "\n",
      "See the documentation here:\n",
      "https://pandas.pydata.org/pandas-docs/stable/user_guide/indexing.html#deprecate-loc-reindex-listlike\n",
      "  \"\"\"\n"
     ]
    }
   ],
   "source": [
    "log = dll.get_data(study_ids=3).df\n",
    "log = log.reset_index()\n",
    "log['Day'] = log['Date'].dt.date\n",
    "log = log.set_index(['RegistrationCode', 'Day'])\n",
    "log = log.loc[prof_index].reset_index().drop(columns='Day').set_index(['RegistrationCode', 'Date', 'food_id'])"
   ]
  },
  {
   "cell_type": "code",
   "execution_count": null,
   "metadata": {},
   "outputs": [],
   "source": []
  },
  {
   "cell_type": "code",
   "execution_count": 86,
   "metadata": {
    "ExecuteTime": {
     "end_time": "2020-04-13T12:05:11.170766Z",
     "start_time": "2020-04-13T12:05:11.035711Z"
    }
   },
   "outputs": [],
   "source": [
    "logdf = dll.add_nutrients(log, nutrient_list)\n",
    "logdf = dll.squeeze_log(logdf)\n",
    "logdf = logdf.reset_index()\n",
    "logdf['Day'] = logdf['Date'].dt.date"
   ]
  },
  {
   "cell_type": "code",
   "execution_count": 94,
   "metadata": {
    "ExecuteTime": {
     "end_time": "2020-04-13T18:14:05.297677Z",
     "start_time": "2020-04-13T18:14:05.290128Z"
    }
   },
   "outputs": [],
   "source": [
    "def vis_cgm(rc, date):\n",
    "    \n",
    "    cgm_slice = profling_cgm[(profling_cgm['RegistrationCode'] == rc) & (profling_cgm['Day'] == date)]\n",
    "    return px.line(cgm_slice.reset_index(), x=\"Date\", y=\"GlucoseValue\", title='day CGM')"
   ]
  },
  {
   "cell_type": "code",
   "execution_count": 148,
   "metadata": {
    "ExecuteTime": {
     "end_time": "2020-04-13T20:11:24.588356Z",
     "start_time": "2020-04-13T20:11:23.310018Z"
    }
   },
   "outputs": [
    {
     "data": {
      "application/vnd.plotly.v1+json": {
       "config": {
        "plotlyServerURL": "https://plot.ly"
       },
       "data": [
        {
         "hoverlabel": {
          "namelength": 0
         },
         "hovertemplate": "Date=%{x}<br>GlucoseValue=%{y}",
         "legendgroup": "",
         "line": {
          "color": "#636efa",
          "dash": "solid"
         },
         "mode": "lines",
         "name": "",
         "showlegend": false,
         "type": "scatter",
         "x": [
          "2017-11-14T00:08:00",
          "2017-11-14T00:23:00",
          "2017-11-14T00:38:00",
          "2017-11-14T00:53:00",
          "2017-11-14T01:08:00",
          "2017-11-14T01:23:00",
          "2017-11-14T01:38:00",
          "2017-11-14T01:53:00",
          "2017-11-14T02:08:00",
          "2017-11-14T02:23:00",
          "2017-11-14T02:38:00",
          "2017-11-14T02:53:00",
          "2017-11-14T03:08:00",
          "2017-11-14T03:23:00",
          "2017-11-14T03:38:00",
          "2017-11-14T03:53:00",
          "2017-11-14T04:08:00",
          "2017-11-14T04:23:00",
          "2017-11-14T04:38:00",
          "2017-11-14T04:53:00",
          "2017-11-14T05:08:00",
          "2017-11-14T05:23:00",
          "2017-11-14T05:38:00",
          "2017-11-14T05:53:00",
          "2017-11-14T06:08:00",
          "2017-11-14T06:23:00",
          "2017-11-14T06:38:00",
          "2017-11-14T06:51:00",
          "2017-11-14T07:06:00",
          "2017-11-14T07:21:00",
          "2017-11-14T07:36:00",
          "2017-11-14T07:51:00",
          "2017-11-14T08:06:00",
          "2017-11-14T08:21:00",
          "2017-11-14T08:36:00",
          "2017-11-14T08:51:00",
          "2017-11-14T09:06:00",
          "2017-11-14T09:21:00",
          "2017-11-14T09:36:00",
          "2017-11-14T09:51:00",
          "2017-11-14T10:06:00",
          "2017-11-14T10:21:00",
          "2017-11-14T10:36:00",
          "2017-11-14T10:51:00",
          "2017-11-14T11:06:00",
          "2017-11-14T11:21:00",
          "2017-11-14T11:36:00",
          "2017-11-14T11:51:00",
          "2017-11-14T12:06:00",
          "2017-11-14T12:21:00",
          "2017-11-14T12:36:00",
          "2017-11-14T12:51:00",
          "2017-11-14T13:06:00",
          "2017-11-14T13:21:00",
          "2017-11-14T13:36:00",
          "2017-11-14T13:51:00",
          "2017-11-14T14:06:00",
          "2017-11-14T14:21:00",
          "2017-11-14T14:36:00",
          "2017-11-14T14:51:00",
          "2017-11-14T15:06:00",
          "2017-11-14T15:21:00",
          "2017-11-14T15:35:00",
          "2017-11-14T15:50:00",
          "2017-11-14T16:05:00",
          "2017-11-14T16:20:00",
          "2017-11-14T16:35:00",
          "2017-11-14T16:50:00",
          "2017-11-14T17:05:00",
          "2017-11-14T17:20:00",
          "2017-11-14T17:35:00",
          "2017-11-14T17:50:00",
          "2017-11-14T18:05:00",
          "2017-11-14T18:20:00",
          "2017-11-14T18:35:00",
          "2017-11-14T18:50:00",
          "2017-11-14T19:05:00",
          "2017-11-14T19:20:00",
          "2017-11-14T19:35:00",
          "2017-11-14T19:50:00",
          "2017-11-14T20:05:00",
          "2017-11-14T20:20:00",
          "2017-11-14T20:35:00",
          "2017-11-14T20:50:00",
          "2017-11-14T21:05:00",
          "2017-11-14T21:20:00",
          "2017-11-14T21:35:00",
          "2017-11-14T21:50:00",
          "2017-11-14T22:05:00",
          "2017-11-14T22:20:00",
          "2017-11-14T22:35:00",
          "2017-11-14T22:50:00",
          "2017-11-14T23:05:00",
          "2017-11-14T23:20:00",
          "2017-11-14T23:35:00",
          "2017-11-14T23:50:00"
         ],
         "xaxis": "x",
         "y": [
          90,
          86,
          92,
          96,
          83,
          81,
          84,
          83,
          83,
          83,
          83,
          84,
          86,
          86,
          82,
          81,
          83,
          86,
          89,
          89,
          89,
          90,
          89,
          90,
          98,
          104,
          104,
          107,
          109,
          116,
          133,
          144,
          138,
          119,
          100,
          93,
          94,
          95,
          94,
          91,
          88,
          95,
          120,
          148,
          160,
          159,
          152,
          135,
          119,
          105,
          98,
          99,
          105,
          107,
          100,
          98,
          110,
          122,
          125,
          121,
          119,
          121,
          121,
          123,
          129,
          124,
          105,
          95,
          97,
          99,
          100,
          103,
          101,
          98,
          96,
          96,
          99,
          104,
          111,
          112,
          110,
          113,
          119,
          120,
          115,
          111,
          112,
          116,
          109,
          107,
          106,
          105,
          102,
          98,
          98,
          99
         ],
         "yaxis": "y"
        }
       ],
       "layout": {
        "legend": {
         "tracegroupgap": 0
        },
        "template": {
         "data": {
          "bar": [
           {
            "error_x": {
             "color": "#2a3f5f"
            },
            "error_y": {
             "color": "#2a3f5f"
            },
            "marker": {
             "line": {
              "color": "#E5ECF6",
              "width": 0.5
             }
            },
            "type": "bar"
           }
          ],
          "barpolar": [
           {
            "marker": {
             "line": {
              "color": "#E5ECF6",
              "width": 0.5
             }
            },
            "type": "barpolar"
           }
          ],
          "carpet": [
           {
            "aaxis": {
             "endlinecolor": "#2a3f5f",
             "gridcolor": "white",
             "linecolor": "white",
             "minorgridcolor": "white",
             "startlinecolor": "#2a3f5f"
            },
            "baxis": {
             "endlinecolor": "#2a3f5f",
             "gridcolor": "white",
             "linecolor": "white",
             "minorgridcolor": "white",
             "startlinecolor": "#2a3f5f"
            },
            "type": "carpet"
           }
          ],
          "choropleth": [
           {
            "colorbar": {
             "outlinewidth": 0,
             "ticks": ""
            },
            "type": "choropleth"
           }
          ],
          "contour": [
           {
            "colorbar": {
             "outlinewidth": 0,
             "ticks": ""
            },
            "colorscale": [
             [
              0,
              "#0d0887"
             ],
             [
              0.1111111111111111,
              "#46039f"
             ],
             [
              0.2222222222222222,
              "#7201a8"
             ],
             [
              0.3333333333333333,
              "#9c179e"
             ],
             [
              0.4444444444444444,
              "#bd3786"
             ],
             [
              0.5555555555555556,
              "#d8576b"
             ],
             [
              0.6666666666666666,
              "#ed7953"
             ],
             [
              0.7777777777777778,
              "#fb9f3a"
             ],
             [
              0.8888888888888888,
              "#fdca26"
             ],
             [
              1,
              "#f0f921"
             ]
            ],
            "type": "contour"
           }
          ],
          "contourcarpet": [
           {
            "colorbar": {
             "outlinewidth": 0,
             "ticks": ""
            },
            "type": "contourcarpet"
           }
          ],
          "heatmap": [
           {
            "colorbar": {
             "outlinewidth": 0,
             "ticks": ""
            },
            "colorscale": [
             [
              0,
              "#0d0887"
             ],
             [
              0.1111111111111111,
              "#46039f"
             ],
             [
              0.2222222222222222,
              "#7201a8"
             ],
             [
              0.3333333333333333,
              "#9c179e"
             ],
             [
              0.4444444444444444,
              "#bd3786"
             ],
             [
              0.5555555555555556,
              "#d8576b"
             ],
             [
              0.6666666666666666,
              "#ed7953"
             ],
             [
              0.7777777777777778,
              "#fb9f3a"
             ],
             [
              0.8888888888888888,
              "#fdca26"
             ],
             [
              1,
              "#f0f921"
             ]
            ],
            "type": "heatmap"
           }
          ],
          "heatmapgl": [
           {
            "colorbar": {
             "outlinewidth": 0,
             "ticks": ""
            },
            "colorscale": [
             [
              0,
              "#0d0887"
             ],
             [
              0.1111111111111111,
              "#46039f"
             ],
             [
              0.2222222222222222,
              "#7201a8"
             ],
             [
              0.3333333333333333,
              "#9c179e"
             ],
             [
              0.4444444444444444,
              "#bd3786"
             ],
             [
              0.5555555555555556,
              "#d8576b"
             ],
             [
              0.6666666666666666,
              "#ed7953"
             ],
             [
              0.7777777777777778,
              "#fb9f3a"
             ],
             [
              0.8888888888888888,
              "#fdca26"
             ],
             [
              1,
              "#f0f921"
             ]
            ],
            "type": "heatmapgl"
           }
          ],
          "histogram": [
           {
            "marker": {
             "colorbar": {
              "outlinewidth": 0,
              "ticks": ""
             }
            },
            "type": "histogram"
           }
          ],
          "histogram2d": [
           {
            "colorbar": {
             "outlinewidth": 0,
             "ticks": ""
            },
            "colorscale": [
             [
              0,
              "#0d0887"
             ],
             [
              0.1111111111111111,
              "#46039f"
             ],
             [
              0.2222222222222222,
              "#7201a8"
             ],
             [
              0.3333333333333333,
              "#9c179e"
             ],
             [
              0.4444444444444444,
              "#bd3786"
             ],
             [
              0.5555555555555556,
              "#d8576b"
             ],
             [
              0.6666666666666666,
              "#ed7953"
             ],
             [
              0.7777777777777778,
              "#fb9f3a"
             ],
             [
              0.8888888888888888,
              "#fdca26"
             ],
             [
              1,
              "#f0f921"
             ]
            ],
            "type": "histogram2d"
           }
          ],
          "histogram2dcontour": [
           {
            "colorbar": {
             "outlinewidth": 0,
             "ticks": ""
            },
            "colorscale": [
             [
              0,
              "#0d0887"
             ],
             [
              0.1111111111111111,
              "#46039f"
             ],
             [
              0.2222222222222222,
              "#7201a8"
             ],
             [
              0.3333333333333333,
              "#9c179e"
             ],
             [
              0.4444444444444444,
              "#bd3786"
             ],
             [
              0.5555555555555556,
              "#d8576b"
             ],
             [
              0.6666666666666666,
              "#ed7953"
             ],
             [
              0.7777777777777778,
              "#fb9f3a"
             ],
             [
              0.8888888888888888,
              "#fdca26"
             ],
             [
              1,
              "#f0f921"
             ]
            ],
            "type": "histogram2dcontour"
           }
          ],
          "mesh3d": [
           {
            "colorbar": {
             "outlinewidth": 0,
             "ticks": ""
            },
            "type": "mesh3d"
           }
          ],
          "parcoords": [
           {
            "line": {
             "colorbar": {
              "outlinewidth": 0,
              "ticks": ""
             }
            },
            "type": "parcoords"
           }
          ],
          "pie": [
           {
            "automargin": true,
            "type": "pie"
           }
          ],
          "scatter": [
           {
            "marker": {
             "colorbar": {
              "outlinewidth": 0,
              "ticks": ""
             }
            },
            "type": "scatter"
           }
          ],
          "scatter3d": [
           {
            "line": {
             "colorbar": {
              "outlinewidth": 0,
              "ticks": ""
             }
            },
            "marker": {
             "colorbar": {
              "outlinewidth": 0,
              "ticks": ""
             }
            },
            "type": "scatter3d"
           }
          ],
          "scattercarpet": [
           {
            "marker": {
             "colorbar": {
              "outlinewidth": 0,
              "ticks": ""
             }
            },
            "type": "scattercarpet"
           }
          ],
          "scattergeo": [
           {
            "marker": {
             "colorbar": {
              "outlinewidth": 0,
              "ticks": ""
             }
            },
            "type": "scattergeo"
           }
          ],
          "scattergl": [
           {
            "marker": {
             "colorbar": {
              "outlinewidth": 0,
              "ticks": ""
             }
            },
            "type": "scattergl"
           }
          ],
          "scattermapbox": [
           {
            "marker": {
             "colorbar": {
              "outlinewidth": 0,
              "ticks": ""
             }
            },
            "type": "scattermapbox"
           }
          ],
          "scatterpolar": [
           {
            "marker": {
             "colorbar": {
              "outlinewidth": 0,
              "ticks": ""
             }
            },
            "type": "scatterpolar"
           }
          ],
          "scatterpolargl": [
           {
            "marker": {
             "colorbar": {
              "outlinewidth": 0,
              "ticks": ""
             }
            },
            "type": "scatterpolargl"
           }
          ],
          "scatterternary": [
           {
            "marker": {
             "colorbar": {
              "outlinewidth": 0,
              "ticks": ""
             }
            },
            "type": "scatterternary"
           }
          ],
          "surface": [
           {
            "colorbar": {
             "outlinewidth": 0,
             "ticks": ""
            },
            "colorscale": [
             [
              0,
              "#0d0887"
             ],
             [
              0.1111111111111111,
              "#46039f"
             ],
             [
              0.2222222222222222,
              "#7201a8"
             ],
             [
              0.3333333333333333,
              "#9c179e"
             ],
             [
              0.4444444444444444,
              "#bd3786"
             ],
             [
              0.5555555555555556,
              "#d8576b"
             ],
             [
              0.6666666666666666,
              "#ed7953"
             ],
             [
              0.7777777777777778,
              "#fb9f3a"
             ],
             [
              0.8888888888888888,
              "#fdca26"
             ],
             [
              1,
              "#f0f921"
             ]
            ],
            "type": "surface"
           }
          ],
          "table": [
           {
            "cells": {
             "fill": {
              "color": "#EBF0F8"
             },
             "line": {
              "color": "white"
             }
            },
            "header": {
             "fill": {
              "color": "#C8D4E3"
             },
             "line": {
              "color": "white"
             }
            },
            "type": "table"
           }
          ]
         },
         "layout": {
          "annotationdefaults": {
           "arrowcolor": "#2a3f5f",
           "arrowhead": 0,
           "arrowwidth": 1
          },
          "coloraxis": {
           "colorbar": {
            "outlinewidth": 0,
            "ticks": ""
           }
          },
          "colorscale": {
           "diverging": [
            [
             0,
             "#8e0152"
            ],
            [
             0.1,
             "#c51b7d"
            ],
            [
             0.2,
             "#de77ae"
            ],
            [
             0.3,
             "#f1b6da"
            ],
            [
             0.4,
             "#fde0ef"
            ],
            [
             0.5,
             "#f7f7f7"
            ],
            [
             0.6,
             "#e6f5d0"
            ],
            [
             0.7,
             "#b8e186"
            ],
            [
             0.8,
             "#7fbc41"
            ],
            [
             0.9,
             "#4d9221"
            ],
            [
             1,
             "#276419"
            ]
           ],
           "sequential": [
            [
             0,
             "#0d0887"
            ],
            [
             0.1111111111111111,
             "#46039f"
            ],
            [
             0.2222222222222222,
             "#7201a8"
            ],
            [
             0.3333333333333333,
             "#9c179e"
            ],
            [
             0.4444444444444444,
             "#bd3786"
            ],
            [
             0.5555555555555556,
             "#d8576b"
            ],
            [
             0.6666666666666666,
             "#ed7953"
            ],
            [
             0.7777777777777778,
             "#fb9f3a"
            ],
            [
             0.8888888888888888,
             "#fdca26"
            ],
            [
             1,
             "#f0f921"
            ]
           ],
           "sequentialminus": [
            [
             0,
             "#0d0887"
            ],
            [
             0.1111111111111111,
             "#46039f"
            ],
            [
             0.2222222222222222,
             "#7201a8"
            ],
            [
             0.3333333333333333,
             "#9c179e"
            ],
            [
             0.4444444444444444,
             "#bd3786"
            ],
            [
             0.5555555555555556,
             "#d8576b"
            ],
            [
             0.6666666666666666,
             "#ed7953"
            ],
            [
             0.7777777777777778,
             "#fb9f3a"
            ],
            [
             0.8888888888888888,
             "#fdca26"
            ],
            [
             1,
             "#f0f921"
            ]
           ]
          },
          "colorway": [
           "#636efa",
           "#EF553B",
           "#00cc96",
           "#ab63fa",
           "#FFA15A",
           "#19d3f3",
           "#FF6692",
           "#B6E880",
           "#FF97FF",
           "#FECB52"
          ],
          "font": {
           "color": "#2a3f5f"
          },
          "geo": {
           "bgcolor": "white",
           "lakecolor": "white",
           "landcolor": "#E5ECF6",
           "showlakes": true,
           "showland": true,
           "subunitcolor": "white"
          },
          "hoverlabel": {
           "align": "left"
          },
          "hovermode": "closest",
          "mapbox": {
           "style": "light"
          },
          "paper_bgcolor": "white",
          "plot_bgcolor": "#E5ECF6",
          "polar": {
           "angularaxis": {
            "gridcolor": "white",
            "linecolor": "white",
            "ticks": ""
           },
           "bgcolor": "#E5ECF6",
           "radialaxis": {
            "gridcolor": "white",
            "linecolor": "white",
            "ticks": ""
           }
          },
          "scene": {
           "xaxis": {
            "backgroundcolor": "#E5ECF6",
            "gridcolor": "white",
            "gridwidth": 2,
            "linecolor": "white",
            "showbackground": true,
            "ticks": "",
            "zerolinecolor": "white"
           },
           "yaxis": {
            "backgroundcolor": "#E5ECF6",
            "gridcolor": "white",
            "gridwidth": 2,
            "linecolor": "white",
            "showbackground": true,
            "ticks": "",
            "zerolinecolor": "white"
           },
           "zaxis": {
            "backgroundcolor": "#E5ECF6",
            "gridcolor": "white",
            "gridwidth": 2,
            "linecolor": "white",
            "showbackground": true,
            "ticks": "",
            "zerolinecolor": "white"
           }
          },
          "shapedefaults": {
           "line": {
            "color": "#2a3f5f"
           }
          },
          "ternary": {
           "aaxis": {
            "gridcolor": "white",
            "linecolor": "white",
            "ticks": ""
           },
           "baxis": {
            "gridcolor": "white",
            "linecolor": "white",
            "ticks": ""
           },
           "bgcolor": "#E5ECF6",
           "caxis": {
            "gridcolor": "white",
            "linecolor": "white",
            "ticks": ""
           }
          },
          "title": {
           "x": 0.05
          },
          "xaxis": {
           "automargin": true,
           "gridcolor": "white",
           "linecolor": "white",
           "ticks": "",
           "title": {
            "standoff": 15
           },
           "zerolinecolor": "white",
           "zerolinewidth": 2
          },
          "yaxis": {
           "automargin": true,
           "gridcolor": "white",
           "linecolor": "white",
           "ticks": "",
           "title": {
            "standoff": 15
           },
           "zerolinecolor": "white",
           "zerolinewidth": 2
          }
         }
        },
        "title": {
         "text": "day CGM"
        },
        "xaxis": {
         "anchor": "y",
         "domain": [
          0,
          1
         ],
         "title": {
          "text": "Date"
         }
        },
        "yaxis": {
         "anchor": "x",
         "domain": [
          0,
          1
         ],
         "title": {
          "text": "GlucoseValue"
         }
        }
       }
      },
      "text/html": [
       "<div>\n",
       "        \n",
       "        \n",
       "            <div id=\"baa9acac-cd9e-4966-ab6b-a6fe9486e66b\" class=\"plotly-graph-div\" style=\"height:525px; width:100%;\"></div>\n",
       "            <script type=\"text/javascript\">\n",
       "                require([\"plotly\"], function(Plotly) {\n",
       "                    window.PLOTLYENV=window.PLOTLYENV || {};\n",
       "                    \n",
       "                if (document.getElementById(\"baa9acac-cd9e-4966-ab6b-a6fe9486e66b\")) {\n",
       "                    Plotly.newPlot(\n",
       "                        'baa9acac-cd9e-4966-ab6b-a6fe9486e66b',\n",
       "                        [{\"hoverlabel\": {\"namelength\": 0}, \"hovertemplate\": \"Date=%{x}<br>GlucoseValue=%{y}\", \"legendgroup\": \"\", \"line\": {\"color\": \"#636efa\", \"dash\": \"solid\"}, \"mode\": \"lines\", \"name\": \"\", \"showlegend\": false, \"type\": \"scatter\", \"x\": [\"2017-11-14T00:08:00\", \"2017-11-14T00:23:00\", \"2017-11-14T00:38:00\", \"2017-11-14T00:53:00\", \"2017-11-14T01:08:00\", \"2017-11-14T01:23:00\", \"2017-11-14T01:38:00\", \"2017-11-14T01:53:00\", \"2017-11-14T02:08:00\", \"2017-11-14T02:23:00\", \"2017-11-14T02:38:00\", \"2017-11-14T02:53:00\", \"2017-11-14T03:08:00\", \"2017-11-14T03:23:00\", \"2017-11-14T03:38:00\", \"2017-11-14T03:53:00\", \"2017-11-14T04:08:00\", \"2017-11-14T04:23:00\", \"2017-11-14T04:38:00\", \"2017-11-14T04:53:00\", \"2017-11-14T05:08:00\", \"2017-11-14T05:23:00\", \"2017-11-14T05:38:00\", \"2017-11-14T05:53:00\", \"2017-11-14T06:08:00\", \"2017-11-14T06:23:00\", \"2017-11-14T06:38:00\", \"2017-11-14T06:51:00\", \"2017-11-14T07:06:00\", \"2017-11-14T07:21:00\", \"2017-11-14T07:36:00\", \"2017-11-14T07:51:00\", \"2017-11-14T08:06:00\", \"2017-11-14T08:21:00\", \"2017-11-14T08:36:00\", \"2017-11-14T08:51:00\", \"2017-11-14T09:06:00\", \"2017-11-14T09:21:00\", \"2017-11-14T09:36:00\", \"2017-11-14T09:51:00\", \"2017-11-14T10:06:00\", \"2017-11-14T10:21:00\", \"2017-11-14T10:36:00\", \"2017-11-14T10:51:00\", \"2017-11-14T11:06:00\", \"2017-11-14T11:21:00\", \"2017-11-14T11:36:00\", \"2017-11-14T11:51:00\", \"2017-11-14T12:06:00\", \"2017-11-14T12:21:00\", \"2017-11-14T12:36:00\", \"2017-11-14T12:51:00\", \"2017-11-14T13:06:00\", \"2017-11-14T13:21:00\", \"2017-11-14T13:36:00\", \"2017-11-14T13:51:00\", \"2017-11-14T14:06:00\", \"2017-11-14T14:21:00\", \"2017-11-14T14:36:00\", \"2017-11-14T14:51:00\", \"2017-11-14T15:06:00\", \"2017-11-14T15:21:00\", \"2017-11-14T15:35:00\", \"2017-11-14T15:50:00\", \"2017-11-14T16:05:00\", \"2017-11-14T16:20:00\", \"2017-11-14T16:35:00\", \"2017-11-14T16:50:00\", \"2017-11-14T17:05:00\", \"2017-11-14T17:20:00\", \"2017-11-14T17:35:00\", \"2017-11-14T17:50:00\", \"2017-11-14T18:05:00\", \"2017-11-14T18:20:00\", \"2017-11-14T18:35:00\", \"2017-11-14T18:50:00\", \"2017-11-14T19:05:00\", \"2017-11-14T19:20:00\", \"2017-11-14T19:35:00\", \"2017-11-14T19:50:00\", \"2017-11-14T20:05:00\", \"2017-11-14T20:20:00\", \"2017-11-14T20:35:00\", \"2017-11-14T20:50:00\", \"2017-11-14T21:05:00\", \"2017-11-14T21:20:00\", \"2017-11-14T21:35:00\", \"2017-11-14T21:50:00\", \"2017-11-14T22:05:00\", \"2017-11-14T22:20:00\", \"2017-11-14T22:35:00\", \"2017-11-14T22:50:00\", \"2017-11-14T23:05:00\", \"2017-11-14T23:20:00\", \"2017-11-14T23:35:00\", \"2017-11-14T23:50:00\"], \"xaxis\": \"x\", \"y\": [90.0, 86.0, 92.0, 96.0, 83.0, 81.0, 84.0, 83.0, 83.0, 83.0, 83.0, 84.0, 86.0, 86.0, 82.0, 81.0, 83.0, 86.0, 89.0, 89.0, 89.0, 90.0, 89.0, 90.0, 98.0, 104.0, 104.0, 107.0, 109.0, 116.0, 133.0, 144.0, 138.0, 119.0, 100.0, 93.0, 94.0, 95.0, 94.0, 91.0, 88.0, 95.0, 120.0, 148.0, 160.0, 159.0, 152.0, 135.0, 119.0, 105.0, 98.0, 99.0, 105.0, 107.0, 100.0, 98.0, 110.0, 122.0, 125.0, 121.0, 119.0, 121.0, 121.0, 123.0, 129.0, 124.0, 105.0, 95.0, 97.0, 99.0, 100.0, 103.0, 101.0, 98.0, 96.0, 96.0, 99.0, 104.0, 111.0, 112.0, 110.0, 113.0, 119.0, 120.0, 115.0, 111.0, 112.0, 116.0, 109.0, 107.0, 106.0, 105.0, 102.0, 98.0, 98.0, 99.0], \"yaxis\": \"y\"}],\n",
       "                        {\"legend\": {\"tracegroupgap\": 0}, \"template\": {\"data\": {\"bar\": [{\"error_x\": {\"color\": \"#2a3f5f\"}, \"error_y\": {\"color\": \"#2a3f5f\"}, \"marker\": {\"line\": {\"color\": \"#E5ECF6\", \"width\": 0.5}}, \"type\": \"bar\"}], \"barpolar\": [{\"marker\": {\"line\": {\"color\": \"#E5ECF6\", \"width\": 0.5}}, \"type\": \"barpolar\"}], \"carpet\": [{\"aaxis\": {\"endlinecolor\": \"#2a3f5f\", \"gridcolor\": \"white\", \"linecolor\": \"white\", \"minorgridcolor\": \"white\", \"startlinecolor\": \"#2a3f5f\"}, \"baxis\": {\"endlinecolor\": \"#2a3f5f\", \"gridcolor\": \"white\", \"linecolor\": \"white\", \"minorgridcolor\": \"white\", \"startlinecolor\": \"#2a3f5f\"}, \"type\": \"carpet\"}], \"choropleth\": [{\"colorbar\": {\"outlinewidth\": 0, \"ticks\": \"\"}, \"type\": \"choropleth\"}], \"contour\": [{\"colorbar\": {\"outlinewidth\": 0, \"ticks\": \"\"}, \"colorscale\": [[0.0, \"#0d0887\"], [0.1111111111111111, \"#46039f\"], [0.2222222222222222, \"#7201a8\"], [0.3333333333333333, \"#9c179e\"], [0.4444444444444444, \"#bd3786\"], [0.5555555555555556, \"#d8576b\"], [0.6666666666666666, \"#ed7953\"], [0.7777777777777778, \"#fb9f3a\"], [0.8888888888888888, \"#fdca26\"], [1.0, \"#f0f921\"]], \"type\": \"contour\"}], \"contourcarpet\": [{\"colorbar\": {\"outlinewidth\": 0, \"ticks\": \"\"}, \"type\": \"contourcarpet\"}], \"heatmap\": [{\"colorbar\": {\"outlinewidth\": 0, \"ticks\": \"\"}, \"colorscale\": [[0.0, \"#0d0887\"], [0.1111111111111111, \"#46039f\"], [0.2222222222222222, \"#7201a8\"], [0.3333333333333333, \"#9c179e\"], [0.4444444444444444, \"#bd3786\"], [0.5555555555555556, \"#d8576b\"], [0.6666666666666666, \"#ed7953\"], [0.7777777777777778, \"#fb9f3a\"], [0.8888888888888888, \"#fdca26\"], [1.0, \"#f0f921\"]], \"type\": \"heatmap\"}], \"heatmapgl\": [{\"colorbar\": {\"outlinewidth\": 0, \"ticks\": \"\"}, \"colorscale\": [[0.0, \"#0d0887\"], [0.1111111111111111, \"#46039f\"], [0.2222222222222222, \"#7201a8\"], [0.3333333333333333, \"#9c179e\"], [0.4444444444444444, \"#bd3786\"], [0.5555555555555556, \"#d8576b\"], [0.6666666666666666, \"#ed7953\"], [0.7777777777777778, \"#fb9f3a\"], [0.8888888888888888, \"#fdca26\"], [1.0, \"#f0f921\"]], \"type\": \"heatmapgl\"}], \"histogram\": [{\"marker\": {\"colorbar\": {\"outlinewidth\": 0, \"ticks\": \"\"}}, \"type\": \"histogram\"}], \"histogram2d\": [{\"colorbar\": {\"outlinewidth\": 0, \"ticks\": \"\"}, \"colorscale\": [[0.0, \"#0d0887\"], [0.1111111111111111, \"#46039f\"], [0.2222222222222222, \"#7201a8\"], [0.3333333333333333, \"#9c179e\"], [0.4444444444444444, \"#bd3786\"], [0.5555555555555556, \"#d8576b\"], [0.6666666666666666, \"#ed7953\"], [0.7777777777777778, \"#fb9f3a\"], [0.8888888888888888, \"#fdca26\"], [1.0, \"#f0f921\"]], \"type\": \"histogram2d\"}], \"histogram2dcontour\": [{\"colorbar\": {\"outlinewidth\": 0, \"ticks\": \"\"}, \"colorscale\": [[0.0, \"#0d0887\"], [0.1111111111111111, \"#46039f\"], [0.2222222222222222, \"#7201a8\"], [0.3333333333333333, \"#9c179e\"], [0.4444444444444444, \"#bd3786\"], [0.5555555555555556, \"#d8576b\"], [0.6666666666666666, \"#ed7953\"], [0.7777777777777778, \"#fb9f3a\"], [0.8888888888888888, \"#fdca26\"], [1.0, \"#f0f921\"]], \"type\": \"histogram2dcontour\"}], \"mesh3d\": [{\"colorbar\": {\"outlinewidth\": 0, \"ticks\": \"\"}, \"type\": \"mesh3d\"}], \"parcoords\": [{\"line\": {\"colorbar\": {\"outlinewidth\": 0, \"ticks\": \"\"}}, \"type\": \"parcoords\"}], \"pie\": [{\"automargin\": true, \"type\": \"pie\"}], \"scatter\": [{\"marker\": {\"colorbar\": {\"outlinewidth\": 0, \"ticks\": \"\"}}, \"type\": \"scatter\"}], \"scatter3d\": [{\"line\": {\"colorbar\": {\"outlinewidth\": 0, \"ticks\": \"\"}}, \"marker\": {\"colorbar\": {\"outlinewidth\": 0, \"ticks\": \"\"}}, \"type\": \"scatter3d\"}], \"scattercarpet\": [{\"marker\": {\"colorbar\": {\"outlinewidth\": 0, \"ticks\": \"\"}}, \"type\": \"scattercarpet\"}], \"scattergeo\": [{\"marker\": {\"colorbar\": {\"outlinewidth\": 0, \"ticks\": \"\"}}, \"type\": \"scattergeo\"}], \"scattergl\": [{\"marker\": {\"colorbar\": {\"outlinewidth\": 0, \"ticks\": \"\"}}, \"type\": \"scattergl\"}], \"scattermapbox\": [{\"marker\": {\"colorbar\": {\"outlinewidth\": 0, \"ticks\": \"\"}}, \"type\": \"scattermapbox\"}], \"scatterpolar\": [{\"marker\": {\"colorbar\": {\"outlinewidth\": 0, \"ticks\": \"\"}}, \"type\": \"scatterpolar\"}], \"scatterpolargl\": [{\"marker\": {\"colorbar\": {\"outlinewidth\": 0, \"ticks\": \"\"}}, \"type\": \"scatterpolargl\"}], \"scatterternary\": [{\"marker\": {\"colorbar\": {\"outlinewidth\": 0, \"ticks\": \"\"}}, \"type\": \"scatterternary\"}], \"surface\": [{\"colorbar\": {\"outlinewidth\": 0, \"ticks\": \"\"}, \"colorscale\": [[0.0, \"#0d0887\"], [0.1111111111111111, \"#46039f\"], [0.2222222222222222, \"#7201a8\"], [0.3333333333333333, \"#9c179e\"], [0.4444444444444444, \"#bd3786\"], [0.5555555555555556, \"#d8576b\"], [0.6666666666666666, \"#ed7953\"], [0.7777777777777778, \"#fb9f3a\"], [0.8888888888888888, \"#fdca26\"], [1.0, \"#f0f921\"]], \"type\": \"surface\"}], \"table\": [{\"cells\": {\"fill\": {\"color\": \"#EBF0F8\"}, \"line\": {\"color\": \"white\"}}, \"header\": {\"fill\": {\"color\": \"#C8D4E3\"}, \"line\": {\"color\": \"white\"}}, \"type\": \"table\"}]}, \"layout\": {\"annotationdefaults\": {\"arrowcolor\": \"#2a3f5f\", \"arrowhead\": 0, \"arrowwidth\": 1}, \"coloraxis\": {\"colorbar\": {\"outlinewidth\": 0, \"ticks\": \"\"}}, \"colorscale\": {\"diverging\": [[0, \"#8e0152\"], [0.1, \"#c51b7d\"], [0.2, \"#de77ae\"], [0.3, \"#f1b6da\"], [0.4, \"#fde0ef\"], [0.5, \"#f7f7f7\"], [0.6, \"#e6f5d0\"], [0.7, \"#b8e186\"], [0.8, \"#7fbc41\"], [0.9, \"#4d9221\"], [1, \"#276419\"]], \"sequential\": [[0.0, \"#0d0887\"], [0.1111111111111111, \"#46039f\"], [0.2222222222222222, \"#7201a8\"], [0.3333333333333333, \"#9c179e\"], [0.4444444444444444, \"#bd3786\"], [0.5555555555555556, \"#d8576b\"], [0.6666666666666666, \"#ed7953\"], [0.7777777777777778, \"#fb9f3a\"], [0.8888888888888888, \"#fdca26\"], [1.0, \"#f0f921\"]], \"sequentialminus\": [[0.0, \"#0d0887\"], [0.1111111111111111, \"#46039f\"], [0.2222222222222222, \"#7201a8\"], [0.3333333333333333, \"#9c179e\"], [0.4444444444444444, \"#bd3786\"], [0.5555555555555556, \"#d8576b\"], [0.6666666666666666, \"#ed7953\"], [0.7777777777777778, \"#fb9f3a\"], [0.8888888888888888, \"#fdca26\"], [1.0, \"#f0f921\"]]}, \"colorway\": [\"#636efa\", \"#EF553B\", \"#00cc96\", \"#ab63fa\", \"#FFA15A\", \"#19d3f3\", \"#FF6692\", \"#B6E880\", \"#FF97FF\", \"#FECB52\"], \"font\": {\"color\": \"#2a3f5f\"}, \"geo\": {\"bgcolor\": \"white\", \"lakecolor\": \"white\", \"landcolor\": \"#E5ECF6\", \"showlakes\": true, \"showland\": true, \"subunitcolor\": \"white\"}, \"hoverlabel\": {\"align\": \"left\"}, \"hovermode\": \"closest\", \"mapbox\": {\"style\": \"light\"}, \"paper_bgcolor\": \"white\", \"plot_bgcolor\": \"#E5ECF6\", \"polar\": {\"angularaxis\": {\"gridcolor\": \"white\", \"linecolor\": \"white\", \"ticks\": \"\"}, \"bgcolor\": \"#E5ECF6\", \"radialaxis\": {\"gridcolor\": \"white\", \"linecolor\": \"white\", \"ticks\": \"\"}}, \"scene\": {\"xaxis\": {\"backgroundcolor\": \"#E5ECF6\", \"gridcolor\": \"white\", \"gridwidth\": 2, \"linecolor\": \"white\", \"showbackground\": true, \"ticks\": \"\", \"zerolinecolor\": \"white\"}, \"yaxis\": {\"backgroundcolor\": \"#E5ECF6\", \"gridcolor\": \"white\", \"gridwidth\": 2, \"linecolor\": \"white\", \"showbackground\": true, \"ticks\": \"\", \"zerolinecolor\": \"white\"}, \"zaxis\": {\"backgroundcolor\": \"#E5ECF6\", \"gridcolor\": \"white\", \"gridwidth\": 2, \"linecolor\": \"white\", \"showbackground\": true, \"ticks\": \"\", \"zerolinecolor\": \"white\"}}, \"shapedefaults\": {\"line\": {\"color\": \"#2a3f5f\"}}, \"ternary\": {\"aaxis\": {\"gridcolor\": \"white\", \"linecolor\": \"white\", \"ticks\": \"\"}, \"baxis\": {\"gridcolor\": \"white\", \"linecolor\": \"white\", \"ticks\": \"\"}, \"bgcolor\": \"#E5ECF6\", \"caxis\": {\"gridcolor\": \"white\", \"linecolor\": \"white\", \"ticks\": \"\"}}, \"title\": {\"x\": 0.05}, \"xaxis\": {\"automargin\": true, \"gridcolor\": \"white\", \"linecolor\": \"white\", \"ticks\": \"\", \"title\": {\"standoff\": 15}, \"zerolinecolor\": \"white\", \"zerolinewidth\": 2}, \"yaxis\": {\"automargin\": true, \"gridcolor\": \"white\", \"linecolor\": \"white\", \"ticks\": \"\", \"title\": {\"standoff\": 15}, \"zerolinecolor\": \"white\", \"zerolinewidth\": 2}}}, \"title\": {\"text\": \"day CGM\"}, \"xaxis\": {\"anchor\": \"y\", \"domain\": [0.0, 1.0], \"title\": {\"text\": \"Date\"}}, \"yaxis\": {\"anchor\": \"x\", \"domain\": [0.0, 1.0], \"title\": {\"text\": \"GlucoseValue\"}}},\n",
       "                        {\"responsive\": true}\n",
       "                    ).then(function(){\n",
       "                            \n",
       "var gd = document.getElementById('baa9acac-cd9e-4966-ab6b-a6fe9486e66b');\n",
       "var x = new MutationObserver(function (mutations, observer) {{\n",
       "        var display = window.getComputedStyle(gd).display;\n",
       "        if (!display || display === 'none') {{\n",
       "            console.log([gd, 'removed!']);\n",
       "            Plotly.purge(gd);\n",
       "            observer.disconnect();\n",
       "        }}\n",
       "}});\n",
       "\n",
       "// Listen for the removal of the full notebook cells\n",
       "var notebookContainer = gd.closest('#notebook-container');\n",
       "if (notebookContainer) {{\n",
       "    x.observe(notebookContainer, {childList: true});\n",
       "}}\n",
       "\n",
       "// Listen for the clearing of the current output cell\n",
       "var outputEl = gd.closest('.output');\n",
       "if (outputEl) {{\n",
       "    x.observe(outputEl, {childList: true});\n",
       "}}\n",
       "\n",
       "                        })\n",
       "                };\n",
       "                });\n",
       "            </script>\n",
       "        </div>"
      ]
     },
     "metadata": {},
     "output_type": "display_data"
    }
   ],
   "source": [
    "vis_cgm('111527', datetime.date(2017,11,14))"
   ]
  },
  {
   "cell_type": "code",
   "execution_count": 100,
   "metadata": {
    "ExecuteTime": {
     "end_time": "2020-04-13T18:23:00.377592Z",
     "start_time": "2020-04-13T18:23:00.358197Z"
    }
   },
   "outputs": [],
   "source": [
    "logdf = logdf.set_index(['RegistrationCode', 'Day'])"
   ]
  },
  {
   "cell_type": "code",
   "execution_count": 147,
   "metadata": {
    "ExecuteTime": {
     "end_time": "2020-04-13T20:10:46.947691Z",
     "start_time": "2020-04-13T20:10:46.915251Z"
    },
    "scrolled": true
   },
   "outputs": [
    {
     "name": "stderr",
     "output_type": "stream",
     "text": [
      "/home/elming/anaconda3/envs/mylabdata/lib/python3.7/site-packages/ipykernel_launcher.py:1: PerformanceWarning:\n",
      "\n",
      "indexing past lexsort depth may impact performance.\n",
      "\n"
     ]
    },
    {
     "data": {
      "text/html": [
       "<div>\n",
       "<style scoped>\n",
       "    .dataframe tbody tr th:only-of-type {\n",
       "        vertical-align: middle;\n",
       "    }\n",
       "\n",
       "    .dataframe tbody tr th {\n",
       "        vertical-align: top;\n",
       "    }\n",
       "\n",
       "    .dataframe thead th {\n",
       "        text-align: right;\n",
       "    }\n",
       "</style>\n",
       "<table border=\"1\" class=\"dataframe\">\n",
       "  <thead>\n",
       "    <tr style=\"text-align: right;\">\n",
       "      <th></th>\n",
       "      <th></th>\n",
       "      <th>Date</th>\n",
       "      <th>sugarstotal_g</th>\n",
       "      <th>sodium_mg</th>\n",
       "      <th>carbohydrate_g</th>\n",
       "      <th>score</th>\n",
       "      <th>energy_kcal</th>\n",
       "      <th>protein_g</th>\n",
       "      <th>caffeine_mg</th>\n",
       "      <th>totaldietaryfiber_g</th>\n",
       "      <th>totallipid_g</th>\n",
       "      <th>weight</th>\n",
       "      <th>meal_type</th>\n",
       "    </tr>\n",
       "    <tr>\n",
       "      <th>RegistrationCode</th>\n",
       "      <th>Day</th>\n",
       "      <th></th>\n",
       "      <th></th>\n",
       "      <th></th>\n",
       "      <th></th>\n",
       "      <th></th>\n",
       "      <th></th>\n",
       "      <th></th>\n",
       "      <th></th>\n",
       "      <th></th>\n",
       "      <th></th>\n",
       "      <th></th>\n",
       "      <th></th>\n",
       "    </tr>\n",
       "  </thead>\n",
       "  <tbody>\n",
       "    <tr>\n",
       "      <th rowspan=\"3\" valign=\"top\">111527</th>\n",
       "      <th>2017-11-14</th>\n",
       "      <td>2017-11-14 07:07:01</td>\n",
       "      <td>4.2300</td>\n",
       "      <td>4.800</td>\n",
       "      <td>12.0060</td>\n",
       "      <td>0.0</td>\n",
       "      <td>71.880</td>\n",
       "      <td>1.38600</td>\n",
       "      <td>108.0</td>\n",
       "      <td>0.99000</td>\n",
       "      <td>1.65000</td>\n",
       "      <td>258.01</td>\n",
       "      <td>Snack</td>\n",
       "    </tr>\n",
       "    <tr>\n",
       "      <th>2017-11-14</th>\n",
       "      <td>2017-11-14 10:00:53</td>\n",
       "      <td>1.2170</td>\n",
       "      <td>396.540</td>\n",
       "      <td>32.2870</td>\n",
       "      <td>0.0</td>\n",
       "      <td>237.780</td>\n",
       "      <td>18.21530</td>\n",
       "      <td>216.0</td>\n",
       "      <td>2.90000</td>\n",
       "      <td>4.43010</td>\n",
       "      <td>621.02</td>\n",
       "      <td>Meal</td>\n",
       "    </tr>\n",
       "    <tr>\n",
       "      <th>2017-11-14</th>\n",
       "      <td>2017-11-14 18:45:34</td>\n",
       "      <td>0.7364</td>\n",
       "      <td>388.279</td>\n",
       "      <td>23.3277</td>\n",
       "      <td>0.0</td>\n",
       "      <td>258.595</td>\n",
       "      <td>9.79103</td>\n",
       "      <td>0.0</td>\n",
       "      <td>2.95748</td>\n",
       "      <td>12.88667</td>\n",
       "      <td>404.00</td>\n",
       "      <td>Meal</td>\n",
       "    </tr>\n",
       "  </tbody>\n",
       "</table>\n",
       "</div>"
      ],
      "text/plain": [
       "                                           Date  sugarstotal_g  sodium_mg  \\\n",
       "RegistrationCode Day                                                        \n",
       "111527           2017-11-14 2017-11-14 07:07:01         4.2300      4.800   \n",
       "                 2017-11-14 2017-11-14 10:00:53         1.2170    396.540   \n",
       "                 2017-11-14 2017-11-14 18:45:34         0.7364    388.279   \n",
       "\n",
       "                             carbohydrate_g  score  energy_kcal  protein_g  \\\n",
       "RegistrationCode Day                                                         \n",
       "111527           2017-11-14         12.0060    0.0       71.880    1.38600   \n",
       "                 2017-11-14         32.2870    0.0      237.780   18.21530   \n",
       "                 2017-11-14         23.3277    0.0      258.595    9.79103   \n",
       "\n",
       "                             caffeine_mg  totaldietaryfiber_g  totallipid_g  \\\n",
       "RegistrationCode Day                                                          \n",
       "111527           2017-11-14        108.0              0.99000       1.65000   \n",
       "                 2017-11-14        216.0              2.90000       4.43010   \n",
       "                 2017-11-14          0.0              2.95748      12.88667   \n",
       "\n",
       "                             weight meal_type  \n",
       "RegistrationCode Day                           \n",
       "111527           2017-11-14  258.01     Snack  \n",
       "                 2017-11-14  621.02      Meal  \n",
       "                 2017-11-14  404.00      Meal  "
      ]
     },
     "execution_count": 147,
     "metadata": {},
     "output_type": "execute_result"
    }
   ],
   "source": [
    "logdf.loc[('111527', '2017-11-14')]"
   ]
  },
  {
   "cell_type": "code",
   "execution_count": 153,
   "metadata": {
    "ExecuteTime": {
     "end_time": "2020-04-13T21:24:53.162832Z",
     "start_time": "2020-04-13T21:24:53.145192Z"
    },
    "scrolled": false
   },
   "outputs": [
    {
     "data": {
      "text/html": [
       "<div>\n",
       "<style scoped>\n",
       "    .dataframe tbody tr th:only-of-type {\n",
       "        vertical-align: middle;\n",
       "    }\n",
       "\n",
       "    .dataframe tbody tr th {\n",
       "        vertical-align: top;\n",
       "    }\n",
       "\n",
       "    .dataframe thead th {\n",
       "        text-align: right;\n",
       "    }\n",
       "</style>\n",
       "<table border=\"1\" class=\"dataframe\">\n",
       "  <thead>\n",
       "    <tr style=\"text-align: right;\">\n",
       "      <th></th>\n",
       "      <th></th>\n",
       "      <th>wakeup_glucose</th>\n",
       "    </tr>\n",
       "    <tr>\n",
       "      <th>RegistrationCode</th>\n",
       "      <th>Day</th>\n",
       "      <th></th>\n",
       "    </tr>\n",
       "  </thead>\n",
       "  <tbody>\n",
       "    <tr>\n",
       "      <th>69618</th>\n",
       "      <th>2017-05-08</th>\n",
       "      <td>93.000000</td>\n",
       "    </tr>\n",
       "    <tr>\n",
       "      <th>376789</th>\n",
       "      <th>2017-04-29</th>\n",
       "      <td>92.750000</td>\n",
       "    </tr>\n",
       "    <tr>\n",
       "      <th>831208</th>\n",
       "      <th>2018-10-23</th>\n",
       "      <td>95.000000</td>\n",
       "    </tr>\n",
       "    <tr>\n",
       "      <th>64952</th>\n",
       "      <th>2018-04-23</th>\n",
       "      <td>93.000000</td>\n",
       "    </tr>\n",
       "    <tr>\n",
       "      <th>818980</th>\n",
       "      <th>2019-02-06</th>\n",
       "      <td>102.250000</td>\n",
       "    </tr>\n",
       "    <tr>\n",
       "      <th>805227</th>\n",
       "      <th>2018-09-01</th>\n",
       "      <td>82.000000</td>\n",
       "    </tr>\n",
       "    <tr>\n",
       "      <th>246043</th>\n",
       "      <th>2018-11-25</th>\n",
       "      <td>89.500000</td>\n",
       "    </tr>\n",
       "    <tr>\n",
       "      <th>492806</th>\n",
       "      <th>2017-05-03</th>\n",
       "      <td>101.500000</td>\n",
       "    </tr>\n",
       "    <tr>\n",
       "      <th>867514</th>\n",
       "      <th>2018-10-23</th>\n",
       "      <td>82.333333</td>\n",
       "    </tr>\n",
       "    <tr>\n",
       "      <th>356171</th>\n",
       "      <th>2018-08-27</th>\n",
       "      <td>75.750000</td>\n",
       "    </tr>\n",
       "  </tbody>\n",
       "</table>\n",
       "</div>"
      ],
      "text/plain": [
       "                             wakeup_glucose\n",
       "RegistrationCode Day                       \n",
       "69618            2017-05-08       93.000000\n",
       "376789           2017-04-29       92.750000\n",
       "831208           2018-10-23       95.000000\n",
       "64952            2018-04-23       93.000000\n",
       "818980           2019-02-06      102.250000\n",
       "805227           2018-09-01       82.000000\n",
       "246043           2018-11-25       89.500000\n",
       "492806           2017-05-03      101.500000\n",
       "867514           2018-10-23       82.333333\n",
       "356171           2018-08-27       75.750000"
      ]
     },
     "execution_count": 153,
     "metadata": {},
     "output_type": "execute_result"
    }
   ],
   "source": [
    "wg_df.sample(10)"
   ]
  },
  {
   "cell_type": "code",
   "execution_count": 159,
   "metadata": {
    "ExecuteTime": {
     "end_time": "2020-04-13T21:45:04.885674Z",
     "start_time": "2020-04-13T21:45:04.866384Z"
    },
    "scrolled": true
   },
   "outputs": [
    {
     "data": {
      "text/html": [
       "<div>\n",
       "<style scoped>\n",
       "    .dataframe tbody tr th:only-of-type {\n",
       "        vertical-align: middle;\n",
       "    }\n",
       "\n",
       "    .dataframe tbody tr th {\n",
       "        vertical-align: top;\n",
       "    }\n",
       "\n",
       "    .dataframe thead th {\n",
       "        text-align: right;\n",
       "    }\n",
       "</style>\n",
       "<table border=\"1\" class=\"dataframe\">\n",
       "  <thead>\n",
       "    <tr style=\"text-align: right;\">\n",
       "      <th></th>\n",
       "      <th>wakeup_glucose</th>\n",
       "    </tr>\n",
       "    <tr>\n",
       "      <th>Day</th>\n",
       "      <th></th>\n",
       "    </tr>\n",
       "  </thead>\n",
       "  <tbody>\n",
       "    <tr>\n",
       "      <th>2017-04-28</th>\n",
       "      <td>96.00</td>\n",
       "    </tr>\n",
       "    <tr>\n",
       "      <th>2017-04-30</th>\n",
       "      <td>101.00</td>\n",
       "    </tr>\n",
       "    <tr>\n",
       "      <th>2017-05-01</th>\n",
       "      <td>93.75</td>\n",
       "    </tr>\n",
       "    <tr>\n",
       "      <th>2017-05-02</th>\n",
       "      <td>92.00</td>\n",
       "    </tr>\n",
       "    <tr>\n",
       "      <th>2017-05-03</th>\n",
       "      <td>101.50</td>\n",
       "    </tr>\n",
       "    <tr>\n",
       "      <th>2017-05-04</th>\n",
       "      <td>105.00</td>\n",
       "    </tr>\n",
       "    <tr>\n",
       "      <th>2017-05-05</th>\n",
       "      <td>97.00</td>\n",
       "    </tr>\n",
       "    <tr>\n",
       "      <th>2017-05-06</th>\n",
       "      <td>81.00</td>\n",
       "    </tr>\n",
       "    <tr>\n",
       "      <th>2017-05-07</th>\n",
       "      <td>101.00</td>\n",
       "    </tr>\n",
       "  </tbody>\n",
       "</table>\n",
       "</div>"
      ],
      "text/plain": [
       "            wakeup_glucose\n",
       "Day                       \n",
       "2017-04-28           96.00\n",
       "2017-04-30          101.00\n",
       "2017-05-01           93.75\n",
       "2017-05-02           92.00\n",
       "2017-05-03          101.50\n",
       "2017-05-04          105.00\n",
       "2017-05-05           97.00\n",
       "2017-05-06           81.00\n",
       "2017-05-07          101.00"
      ]
     },
     "execution_count": 159,
     "metadata": {},
     "output_type": "execute_result"
    }
   ],
   "source": [
    "wg_df.loc[('492806', slice(None))]"
   ]
  },
  {
   "cell_type": "code",
   "execution_count": 170,
   "metadata": {
    "ExecuteTime": {
     "end_time": "2020-04-13T22:04:31.028361Z",
     "start_time": "2020-04-13T22:04:30.482010Z"
    }
   },
   "outputs": [
    {
     "data": {
      "application/vnd.plotly.v1+json": {
       "config": {
        "plotlyServerURL": "https://plot.ly"
       },
       "data": [
        {
         "hoverlabel": {
          "namelength": 0
         },
         "hovertemplate": "Date=%{x}<br>GlucoseValue=%{y}",
         "legendgroup": "",
         "line": {
          "color": "#636efa",
          "dash": "solid"
         },
         "mode": "lines",
         "name": "",
         "showlegend": false,
         "type": "scatter",
         "x": [
          "2017-05-04T00:12:00",
          "2017-05-04T00:27:00",
          "2017-05-04T00:42:00",
          "2017-05-04T00:57:00",
          "2017-05-04T01:12:00",
          "2017-05-04T01:27:00",
          "2017-05-04T01:42:00",
          "2017-05-04T01:57:00",
          "2017-05-04T02:12:00",
          "2017-05-04T02:27:00",
          "2017-05-04T02:42:00",
          "2017-05-04T02:57:00",
          "2017-05-04T03:12:00",
          "2017-05-04T03:27:00",
          "2017-05-04T03:42:00",
          "2017-05-04T03:57:00",
          "2017-05-04T04:12:00",
          "2017-05-04T04:27:00",
          "2017-05-04T04:42:00",
          "2017-05-04T04:57:00",
          "2017-05-04T05:14:00",
          "2017-05-04T05:29:00",
          "2017-05-04T05:44:00",
          "2017-05-04T05:59:00",
          "2017-05-04T06:14:00",
          "2017-05-04T06:29:00",
          "2017-05-04T06:44:00",
          "2017-05-04T06:59:00",
          "2017-05-04T07:14:00",
          "2017-05-04T07:29:00",
          "2017-05-04T07:44:00",
          "2017-05-04T07:59:00",
          "2017-05-04T08:14:00",
          "2017-05-04T08:29:00",
          "2017-05-04T08:44:00",
          "2017-05-04T08:59:00",
          "2017-05-04T09:14:00",
          "2017-05-04T09:29:00",
          "2017-05-04T09:44:00",
          "2017-05-04T09:59:00",
          "2017-05-04T10:16:00",
          "2017-05-04T10:31:00",
          "2017-05-04T10:46:00",
          "2017-05-04T11:01:00",
          "2017-05-04T11:16:00",
          "2017-05-04T11:31:00",
          "2017-05-04T11:46:00",
          "2017-05-04T12:01:00",
          "2017-05-04T12:16:00",
          "2017-05-04T12:31:00",
          "2017-05-04T12:46:00",
          "2017-05-04T13:01:00",
          "2017-05-04T13:16:00",
          "2017-05-04T13:31:00",
          "2017-05-04T13:46:00",
          "2017-05-04T14:01:00",
          "2017-05-04T14:16:00",
          "2017-05-04T14:31:00",
          "2017-05-04T14:46:00",
          "2017-05-04T15:01:00",
          "2017-05-04T15:16:00",
          "2017-05-04T15:31:00",
          "2017-05-04T15:46:00",
          "2017-05-04T16:01:00",
          "2017-05-04T16:16:00",
          "2017-05-04T16:31:00",
          "2017-05-04T16:46:00",
          "2017-05-04T17:01:00",
          "2017-05-04T17:16:00",
          "2017-05-04T17:31:00",
          "2017-05-04T17:48:00",
          "2017-05-04T18:03:00",
          "2017-05-04T18:18:00",
          "2017-05-04T18:33:00",
          "2017-05-04T18:48:00",
          "2017-05-04T19:03:00",
          "2017-05-04T19:18:00",
          "2017-05-04T19:33:00",
          "2017-05-04T19:48:00",
          "2017-05-04T20:03:00",
          "2017-05-04T20:18:00",
          "2017-05-04T20:33:00",
          "2017-05-04T20:48:00",
          "2017-05-04T21:03:00",
          "2017-05-04T21:18:00",
          "2017-05-04T21:33:00",
          "2017-05-04T21:48:00",
          "2017-05-04T22:03:00",
          "2017-05-04T22:18:00",
          "2017-05-04T22:33:00",
          "2017-05-04T22:48:00",
          "2017-05-04T23:03:00",
          "2017-05-04T23:18:00",
          "2017-05-04T23:33:00",
          "2017-05-04T23:50:00"
         ],
         "xaxis": "x",
         "y": [
          87,
          88,
          87,
          87,
          91,
          95,
          97,
          101,
          102,
          99,
          93,
          92,
          92,
          91,
          91,
          94,
          97,
          99,
          98,
          95,
          98,
          106,
          112,
          104,
          94,
          97,
          105,
          110,
          108,
          104,
          104,
          103,
          101,
          99,
          100,
          107,
          131,
          150,
          141,
          126,
          121,
          117,
          111,
          100,
          92,
          88,
          86,
          83,
          84,
          87,
          96,
          103,
          103,
          99,
          98,
          99,
          98,
          99,
          100,
          100,
          101,
          101,
          102,
          102,
          100,
          99,
          99,
          99,
          101,
          105,
          101,
          100,
          101,
          102,
          101,
          97,
          98,
          101,
          100,
          98,
          100,
          111,
          128,
          134,
          128,
          120,
          116,
          115,
          116,
          116,
          114,
          114,
          116,
          117,
          117
         ],
         "yaxis": "y"
        }
       ],
       "layout": {
        "legend": {
         "tracegroupgap": 0
        },
        "template": {
         "data": {
          "bar": [
           {
            "error_x": {
             "color": "#2a3f5f"
            },
            "error_y": {
             "color": "#2a3f5f"
            },
            "marker": {
             "line": {
              "color": "#E5ECF6",
              "width": 0.5
             }
            },
            "type": "bar"
           }
          ],
          "barpolar": [
           {
            "marker": {
             "line": {
              "color": "#E5ECF6",
              "width": 0.5
             }
            },
            "type": "barpolar"
           }
          ],
          "carpet": [
           {
            "aaxis": {
             "endlinecolor": "#2a3f5f",
             "gridcolor": "white",
             "linecolor": "white",
             "minorgridcolor": "white",
             "startlinecolor": "#2a3f5f"
            },
            "baxis": {
             "endlinecolor": "#2a3f5f",
             "gridcolor": "white",
             "linecolor": "white",
             "minorgridcolor": "white",
             "startlinecolor": "#2a3f5f"
            },
            "type": "carpet"
           }
          ],
          "choropleth": [
           {
            "colorbar": {
             "outlinewidth": 0,
             "ticks": ""
            },
            "type": "choropleth"
           }
          ],
          "contour": [
           {
            "colorbar": {
             "outlinewidth": 0,
             "ticks": ""
            },
            "colorscale": [
             [
              0,
              "#0d0887"
             ],
             [
              0.1111111111111111,
              "#46039f"
             ],
             [
              0.2222222222222222,
              "#7201a8"
             ],
             [
              0.3333333333333333,
              "#9c179e"
             ],
             [
              0.4444444444444444,
              "#bd3786"
             ],
             [
              0.5555555555555556,
              "#d8576b"
             ],
             [
              0.6666666666666666,
              "#ed7953"
             ],
             [
              0.7777777777777778,
              "#fb9f3a"
             ],
             [
              0.8888888888888888,
              "#fdca26"
             ],
             [
              1,
              "#f0f921"
             ]
            ],
            "type": "contour"
           }
          ],
          "contourcarpet": [
           {
            "colorbar": {
             "outlinewidth": 0,
             "ticks": ""
            },
            "type": "contourcarpet"
           }
          ],
          "heatmap": [
           {
            "colorbar": {
             "outlinewidth": 0,
             "ticks": ""
            },
            "colorscale": [
             [
              0,
              "#0d0887"
             ],
             [
              0.1111111111111111,
              "#46039f"
             ],
             [
              0.2222222222222222,
              "#7201a8"
             ],
             [
              0.3333333333333333,
              "#9c179e"
             ],
             [
              0.4444444444444444,
              "#bd3786"
             ],
             [
              0.5555555555555556,
              "#d8576b"
             ],
             [
              0.6666666666666666,
              "#ed7953"
             ],
             [
              0.7777777777777778,
              "#fb9f3a"
             ],
             [
              0.8888888888888888,
              "#fdca26"
             ],
             [
              1,
              "#f0f921"
             ]
            ],
            "type": "heatmap"
           }
          ],
          "heatmapgl": [
           {
            "colorbar": {
             "outlinewidth": 0,
             "ticks": ""
            },
            "colorscale": [
             [
              0,
              "#0d0887"
             ],
             [
              0.1111111111111111,
              "#46039f"
             ],
             [
              0.2222222222222222,
              "#7201a8"
             ],
             [
              0.3333333333333333,
              "#9c179e"
             ],
             [
              0.4444444444444444,
              "#bd3786"
             ],
             [
              0.5555555555555556,
              "#d8576b"
             ],
             [
              0.6666666666666666,
              "#ed7953"
             ],
             [
              0.7777777777777778,
              "#fb9f3a"
             ],
             [
              0.8888888888888888,
              "#fdca26"
             ],
             [
              1,
              "#f0f921"
             ]
            ],
            "type": "heatmapgl"
           }
          ],
          "histogram": [
           {
            "marker": {
             "colorbar": {
              "outlinewidth": 0,
              "ticks": ""
             }
            },
            "type": "histogram"
           }
          ],
          "histogram2d": [
           {
            "colorbar": {
             "outlinewidth": 0,
             "ticks": ""
            },
            "colorscale": [
             [
              0,
              "#0d0887"
             ],
             [
              0.1111111111111111,
              "#46039f"
             ],
             [
              0.2222222222222222,
              "#7201a8"
             ],
             [
              0.3333333333333333,
              "#9c179e"
             ],
             [
              0.4444444444444444,
              "#bd3786"
             ],
             [
              0.5555555555555556,
              "#d8576b"
             ],
             [
              0.6666666666666666,
              "#ed7953"
             ],
             [
              0.7777777777777778,
              "#fb9f3a"
             ],
             [
              0.8888888888888888,
              "#fdca26"
             ],
             [
              1,
              "#f0f921"
             ]
            ],
            "type": "histogram2d"
           }
          ],
          "histogram2dcontour": [
           {
            "colorbar": {
             "outlinewidth": 0,
             "ticks": ""
            },
            "colorscale": [
             [
              0,
              "#0d0887"
             ],
             [
              0.1111111111111111,
              "#46039f"
             ],
             [
              0.2222222222222222,
              "#7201a8"
             ],
             [
              0.3333333333333333,
              "#9c179e"
             ],
             [
              0.4444444444444444,
              "#bd3786"
             ],
             [
              0.5555555555555556,
              "#d8576b"
             ],
             [
              0.6666666666666666,
              "#ed7953"
             ],
             [
              0.7777777777777778,
              "#fb9f3a"
             ],
             [
              0.8888888888888888,
              "#fdca26"
             ],
             [
              1,
              "#f0f921"
             ]
            ],
            "type": "histogram2dcontour"
           }
          ],
          "mesh3d": [
           {
            "colorbar": {
             "outlinewidth": 0,
             "ticks": ""
            },
            "type": "mesh3d"
           }
          ],
          "parcoords": [
           {
            "line": {
             "colorbar": {
              "outlinewidth": 0,
              "ticks": ""
             }
            },
            "type": "parcoords"
           }
          ],
          "pie": [
           {
            "automargin": true,
            "type": "pie"
           }
          ],
          "scatter": [
           {
            "marker": {
             "colorbar": {
              "outlinewidth": 0,
              "ticks": ""
             }
            },
            "type": "scatter"
           }
          ],
          "scatter3d": [
           {
            "line": {
             "colorbar": {
              "outlinewidth": 0,
              "ticks": ""
             }
            },
            "marker": {
             "colorbar": {
              "outlinewidth": 0,
              "ticks": ""
             }
            },
            "type": "scatter3d"
           }
          ],
          "scattercarpet": [
           {
            "marker": {
             "colorbar": {
              "outlinewidth": 0,
              "ticks": ""
             }
            },
            "type": "scattercarpet"
           }
          ],
          "scattergeo": [
           {
            "marker": {
             "colorbar": {
              "outlinewidth": 0,
              "ticks": ""
             }
            },
            "type": "scattergeo"
           }
          ],
          "scattergl": [
           {
            "marker": {
             "colorbar": {
              "outlinewidth": 0,
              "ticks": ""
             }
            },
            "type": "scattergl"
           }
          ],
          "scattermapbox": [
           {
            "marker": {
             "colorbar": {
              "outlinewidth": 0,
              "ticks": ""
             }
            },
            "type": "scattermapbox"
           }
          ],
          "scatterpolar": [
           {
            "marker": {
             "colorbar": {
              "outlinewidth": 0,
              "ticks": ""
             }
            },
            "type": "scatterpolar"
           }
          ],
          "scatterpolargl": [
           {
            "marker": {
             "colorbar": {
              "outlinewidth": 0,
              "ticks": ""
             }
            },
            "type": "scatterpolargl"
           }
          ],
          "scatterternary": [
           {
            "marker": {
             "colorbar": {
              "outlinewidth": 0,
              "ticks": ""
             }
            },
            "type": "scatterternary"
           }
          ],
          "surface": [
           {
            "colorbar": {
             "outlinewidth": 0,
             "ticks": ""
            },
            "colorscale": [
             [
              0,
              "#0d0887"
             ],
             [
              0.1111111111111111,
              "#46039f"
             ],
             [
              0.2222222222222222,
              "#7201a8"
             ],
             [
              0.3333333333333333,
              "#9c179e"
             ],
             [
              0.4444444444444444,
              "#bd3786"
             ],
             [
              0.5555555555555556,
              "#d8576b"
             ],
             [
              0.6666666666666666,
              "#ed7953"
             ],
             [
              0.7777777777777778,
              "#fb9f3a"
             ],
             [
              0.8888888888888888,
              "#fdca26"
             ],
             [
              1,
              "#f0f921"
             ]
            ],
            "type": "surface"
           }
          ],
          "table": [
           {
            "cells": {
             "fill": {
              "color": "#EBF0F8"
             },
             "line": {
              "color": "white"
             }
            },
            "header": {
             "fill": {
              "color": "#C8D4E3"
             },
             "line": {
              "color": "white"
             }
            },
            "type": "table"
           }
          ]
         },
         "layout": {
          "annotationdefaults": {
           "arrowcolor": "#2a3f5f",
           "arrowhead": 0,
           "arrowwidth": 1
          },
          "coloraxis": {
           "colorbar": {
            "outlinewidth": 0,
            "ticks": ""
           }
          },
          "colorscale": {
           "diverging": [
            [
             0,
             "#8e0152"
            ],
            [
             0.1,
             "#c51b7d"
            ],
            [
             0.2,
             "#de77ae"
            ],
            [
             0.3,
             "#f1b6da"
            ],
            [
             0.4,
             "#fde0ef"
            ],
            [
             0.5,
             "#f7f7f7"
            ],
            [
             0.6,
             "#e6f5d0"
            ],
            [
             0.7,
             "#b8e186"
            ],
            [
             0.8,
             "#7fbc41"
            ],
            [
             0.9,
             "#4d9221"
            ],
            [
             1,
             "#276419"
            ]
           ],
           "sequential": [
            [
             0,
             "#0d0887"
            ],
            [
             0.1111111111111111,
             "#46039f"
            ],
            [
             0.2222222222222222,
             "#7201a8"
            ],
            [
             0.3333333333333333,
             "#9c179e"
            ],
            [
             0.4444444444444444,
             "#bd3786"
            ],
            [
             0.5555555555555556,
             "#d8576b"
            ],
            [
             0.6666666666666666,
             "#ed7953"
            ],
            [
             0.7777777777777778,
             "#fb9f3a"
            ],
            [
             0.8888888888888888,
             "#fdca26"
            ],
            [
             1,
             "#f0f921"
            ]
           ],
           "sequentialminus": [
            [
             0,
             "#0d0887"
            ],
            [
             0.1111111111111111,
             "#46039f"
            ],
            [
             0.2222222222222222,
             "#7201a8"
            ],
            [
             0.3333333333333333,
             "#9c179e"
            ],
            [
             0.4444444444444444,
             "#bd3786"
            ],
            [
             0.5555555555555556,
             "#d8576b"
            ],
            [
             0.6666666666666666,
             "#ed7953"
            ],
            [
             0.7777777777777778,
             "#fb9f3a"
            ],
            [
             0.8888888888888888,
             "#fdca26"
            ],
            [
             1,
             "#f0f921"
            ]
           ]
          },
          "colorway": [
           "#636efa",
           "#EF553B",
           "#00cc96",
           "#ab63fa",
           "#FFA15A",
           "#19d3f3",
           "#FF6692",
           "#B6E880",
           "#FF97FF",
           "#FECB52"
          ],
          "font": {
           "color": "#2a3f5f"
          },
          "geo": {
           "bgcolor": "white",
           "lakecolor": "white",
           "landcolor": "#E5ECF6",
           "showlakes": true,
           "showland": true,
           "subunitcolor": "white"
          },
          "hoverlabel": {
           "align": "left"
          },
          "hovermode": "closest",
          "mapbox": {
           "style": "light"
          },
          "paper_bgcolor": "white",
          "plot_bgcolor": "#E5ECF6",
          "polar": {
           "angularaxis": {
            "gridcolor": "white",
            "linecolor": "white",
            "ticks": ""
           },
           "bgcolor": "#E5ECF6",
           "radialaxis": {
            "gridcolor": "white",
            "linecolor": "white",
            "ticks": ""
           }
          },
          "scene": {
           "xaxis": {
            "backgroundcolor": "#E5ECF6",
            "gridcolor": "white",
            "gridwidth": 2,
            "linecolor": "white",
            "showbackground": true,
            "ticks": "",
            "zerolinecolor": "white"
           },
           "yaxis": {
            "backgroundcolor": "#E5ECF6",
            "gridcolor": "white",
            "gridwidth": 2,
            "linecolor": "white",
            "showbackground": true,
            "ticks": "",
            "zerolinecolor": "white"
           },
           "zaxis": {
            "backgroundcolor": "#E5ECF6",
            "gridcolor": "white",
            "gridwidth": 2,
            "linecolor": "white",
            "showbackground": true,
            "ticks": "",
            "zerolinecolor": "white"
           }
          },
          "shapedefaults": {
           "line": {
            "color": "#2a3f5f"
           }
          },
          "ternary": {
           "aaxis": {
            "gridcolor": "white",
            "linecolor": "white",
            "ticks": ""
           },
           "baxis": {
            "gridcolor": "white",
            "linecolor": "white",
            "ticks": ""
           },
           "bgcolor": "#E5ECF6",
           "caxis": {
            "gridcolor": "white",
            "linecolor": "white",
            "ticks": ""
           }
          },
          "title": {
           "x": 0.05
          },
          "xaxis": {
           "automargin": true,
           "gridcolor": "white",
           "linecolor": "white",
           "ticks": "",
           "title": {
            "standoff": 15
           },
           "zerolinecolor": "white",
           "zerolinewidth": 2
          },
          "yaxis": {
           "automargin": true,
           "gridcolor": "white",
           "linecolor": "white",
           "ticks": "",
           "title": {
            "standoff": 15
           },
           "zerolinecolor": "white",
           "zerolinewidth": 2
          }
         }
        },
        "title": {
         "text": "day CGM"
        },
        "xaxis": {
         "anchor": "y",
         "domain": [
          0,
          1
         ],
         "title": {
          "text": "Date"
         }
        },
        "yaxis": {
         "anchor": "x",
         "domain": [
          0,
          1
         ],
         "title": {
          "text": "GlucoseValue"
         }
        }
       }
      },
      "text/html": [
       "<div>\n",
       "        \n",
       "        \n",
       "            <div id=\"d8ac87c8-7aa2-42ac-a841-d61e0cbba450\" class=\"plotly-graph-div\" style=\"height:525px; width:100%;\"></div>\n",
       "            <script type=\"text/javascript\">\n",
       "                require([\"plotly\"], function(Plotly) {\n",
       "                    window.PLOTLYENV=window.PLOTLYENV || {};\n",
       "                    \n",
       "                if (document.getElementById(\"d8ac87c8-7aa2-42ac-a841-d61e0cbba450\")) {\n",
       "                    Plotly.newPlot(\n",
       "                        'd8ac87c8-7aa2-42ac-a841-d61e0cbba450',\n",
       "                        [{\"hoverlabel\": {\"namelength\": 0}, \"hovertemplate\": \"Date=%{x}<br>GlucoseValue=%{y}\", \"legendgroup\": \"\", \"line\": {\"color\": \"#636efa\", \"dash\": \"solid\"}, \"mode\": \"lines\", \"name\": \"\", \"showlegend\": false, \"type\": \"scatter\", \"x\": [\"2017-05-04T00:12:00\", \"2017-05-04T00:27:00\", \"2017-05-04T00:42:00\", \"2017-05-04T00:57:00\", \"2017-05-04T01:12:00\", \"2017-05-04T01:27:00\", \"2017-05-04T01:42:00\", \"2017-05-04T01:57:00\", \"2017-05-04T02:12:00\", \"2017-05-04T02:27:00\", \"2017-05-04T02:42:00\", \"2017-05-04T02:57:00\", \"2017-05-04T03:12:00\", \"2017-05-04T03:27:00\", \"2017-05-04T03:42:00\", \"2017-05-04T03:57:00\", \"2017-05-04T04:12:00\", \"2017-05-04T04:27:00\", \"2017-05-04T04:42:00\", \"2017-05-04T04:57:00\", \"2017-05-04T05:14:00\", \"2017-05-04T05:29:00\", \"2017-05-04T05:44:00\", \"2017-05-04T05:59:00\", \"2017-05-04T06:14:00\", \"2017-05-04T06:29:00\", \"2017-05-04T06:44:00\", \"2017-05-04T06:59:00\", \"2017-05-04T07:14:00\", \"2017-05-04T07:29:00\", \"2017-05-04T07:44:00\", \"2017-05-04T07:59:00\", \"2017-05-04T08:14:00\", \"2017-05-04T08:29:00\", \"2017-05-04T08:44:00\", \"2017-05-04T08:59:00\", \"2017-05-04T09:14:00\", \"2017-05-04T09:29:00\", \"2017-05-04T09:44:00\", \"2017-05-04T09:59:00\", \"2017-05-04T10:16:00\", \"2017-05-04T10:31:00\", \"2017-05-04T10:46:00\", \"2017-05-04T11:01:00\", \"2017-05-04T11:16:00\", \"2017-05-04T11:31:00\", \"2017-05-04T11:46:00\", \"2017-05-04T12:01:00\", \"2017-05-04T12:16:00\", \"2017-05-04T12:31:00\", \"2017-05-04T12:46:00\", \"2017-05-04T13:01:00\", \"2017-05-04T13:16:00\", \"2017-05-04T13:31:00\", \"2017-05-04T13:46:00\", \"2017-05-04T14:01:00\", \"2017-05-04T14:16:00\", \"2017-05-04T14:31:00\", \"2017-05-04T14:46:00\", \"2017-05-04T15:01:00\", \"2017-05-04T15:16:00\", \"2017-05-04T15:31:00\", \"2017-05-04T15:46:00\", \"2017-05-04T16:01:00\", \"2017-05-04T16:16:00\", \"2017-05-04T16:31:00\", \"2017-05-04T16:46:00\", \"2017-05-04T17:01:00\", \"2017-05-04T17:16:00\", \"2017-05-04T17:31:00\", \"2017-05-04T17:48:00\", \"2017-05-04T18:03:00\", \"2017-05-04T18:18:00\", \"2017-05-04T18:33:00\", \"2017-05-04T18:48:00\", \"2017-05-04T19:03:00\", \"2017-05-04T19:18:00\", \"2017-05-04T19:33:00\", \"2017-05-04T19:48:00\", \"2017-05-04T20:03:00\", \"2017-05-04T20:18:00\", \"2017-05-04T20:33:00\", \"2017-05-04T20:48:00\", \"2017-05-04T21:03:00\", \"2017-05-04T21:18:00\", \"2017-05-04T21:33:00\", \"2017-05-04T21:48:00\", \"2017-05-04T22:03:00\", \"2017-05-04T22:18:00\", \"2017-05-04T22:33:00\", \"2017-05-04T22:48:00\", \"2017-05-04T23:03:00\", \"2017-05-04T23:18:00\", \"2017-05-04T23:33:00\", \"2017-05-04T23:50:00\"], \"xaxis\": \"x\", \"y\": [87.0, 88.0, 87.0, 87.0, 91.0, 95.0, 97.0, 101.0, 102.0, 99.0, 93.0, 92.0, 92.0, 91.0, 91.0, 94.0, 97.0, 99.0, 98.0, 95.0, 98.0, 106.0, 112.0, 104.0, 94.0, 97.0, 105.0, 110.0, 108.0, 104.0, 104.0, 103.0, 101.0, 99.0, 100.0, 107.0, 131.0, 150.0, 141.0, 126.0, 121.0, 117.0, 111.0, 100.0, 92.0, 88.0, 86.0, 83.0, 84.0, 87.0, 96.0, 103.0, 103.0, 99.0, 98.0, 99.0, 98.0, 99.0, 100.0, 100.0, 101.0, 101.0, 102.0, 102.0, 100.0, 99.0, 99.0, 99.0, 101.0, 105.0, 101.0, 100.0, 101.0, 102.0, 101.0, 97.0, 98.0, 101.0, 100.0, 98.0, 100.0, 111.0, 128.0, 134.0, 128.0, 120.0, 116.0, 115.0, 116.0, 116.0, 114.0, 114.0, 116.0, 117.0, 117.0], \"yaxis\": \"y\"}],\n",
       "                        {\"legend\": {\"tracegroupgap\": 0}, \"template\": {\"data\": {\"bar\": [{\"error_x\": {\"color\": \"#2a3f5f\"}, \"error_y\": {\"color\": \"#2a3f5f\"}, \"marker\": {\"line\": {\"color\": \"#E5ECF6\", \"width\": 0.5}}, \"type\": \"bar\"}], \"barpolar\": [{\"marker\": {\"line\": {\"color\": \"#E5ECF6\", \"width\": 0.5}}, \"type\": \"barpolar\"}], \"carpet\": [{\"aaxis\": {\"endlinecolor\": \"#2a3f5f\", \"gridcolor\": \"white\", \"linecolor\": \"white\", \"minorgridcolor\": \"white\", \"startlinecolor\": \"#2a3f5f\"}, \"baxis\": {\"endlinecolor\": \"#2a3f5f\", \"gridcolor\": \"white\", \"linecolor\": \"white\", \"minorgridcolor\": \"white\", \"startlinecolor\": \"#2a3f5f\"}, \"type\": \"carpet\"}], \"choropleth\": [{\"colorbar\": {\"outlinewidth\": 0, \"ticks\": \"\"}, \"type\": \"choropleth\"}], \"contour\": [{\"colorbar\": {\"outlinewidth\": 0, \"ticks\": \"\"}, \"colorscale\": [[0.0, \"#0d0887\"], [0.1111111111111111, \"#46039f\"], [0.2222222222222222, \"#7201a8\"], [0.3333333333333333, \"#9c179e\"], [0.4444444444444444, \"#bd3786\"], [0.5555555555555556, \"#d8576b\"], [0.6666666666666666, \"#ed7953\"], [0.7777777777777778, \"#fb9f3a\"], [0.8888888888888888, \"#fdca26\"], [1.0, \"#f0f921\"]], \"type\": \"contour\"}], \"contourcarpet\": [{\"colorbar\": {\"outlinewidth\": 0, \"ticks\": \"\"}, \"type\": \"contourcarpet\"}], \"heatmap\": [{\"colorbar\": {\"outlinewidth\": 0, \"ticks\": \"\"}, \"colorscale\": [[0.0, \"#0d0887\"], [0.1111111111111111, \"#46039f\"], [0.2222222222222222, \"#7201a8\"], [0.3333333333333333, \"#9c179e\"], [0.4444444444444444, \"#bd3786\"], [0.5555555555555556, \"#d8576b\"], [0.6666666666666666, \"#ed7953\"], [0.7777777777777778, \"#fb9f3a\"], [0.8888888888888888, \"#fdca26\"], [1.0, \"#f0f921\"]], \"type\": \"heatmap\"}], \"heatmapgl\": [{\"colorbar\": {\"outlinewidth\": 0, \"ticks\": \"\"}, \"colorscale\": [[0.0, \"#0d0887\"], [0.1111111111111111, \"#46039f\"], [0.2222222222222222, \"#7201a8\"], [0.3333333333333333, \"#9c179e\"], [0.4444444444444444, \"#bd3786\"], [0.5555555555555556, \"#d8576b\"], [0.6666666666666666, \"#ed7953\"], [0.7777777777777778, \"#fb9f3a\"], [0.8888888888888888, \"#fdca26\"], [1.0, \"#f0f921\"]], \"type\": \"heatmapgl\"}], \"histogram\": [{\"marker\": {\"colorbar\": {\"outlinewidth\": 0, \"ticks\": \"\"}}, \"type\": \"histogram\"}], \"histogram2d\": [{\"colorbar\": {\"outlinewidth\": 0, \"ticks\": \"\"}, \"colorscale\": [[0.0, \"#0d0887\"], [0.1111111111111111, \"#46039f\"], [0.2222222222222222, \"#7201a8\"], [0.3333333333333333, \"#9c179e\"], [0.4444444444444444, \"#bd3786\"], [0.5555555555555556, \"#d8576b\"], [0.6666666666666666, \"#ed7953\"], [0.7777777777777778, \"#fb9f3a\"], [0.8888888888888888, \"#fdca26\"], [1.0, \"#f0f921\"]], \"type\": \"histogram2d\"}], \"histogram2dcontour\": [{\"colorbar\": {\"outlinewidth\": 0, \"ticks\": \"\"}, \"colorscale\": [[0.0, \"#0d0887\"], [0.1111111111111111, \"#46039f\"], [0.2222222222222222, \"#7201a8\"], [0.3333333333333333, \"#9c179e\"], [0.4444444444444444, \"#bd3786\"], [0.5555555555555556, \"#d8576b\"], [0.6666666666666666, \"#ed7953\"], [0.7777777777777778, \"#fb9f3a\"], [0.8888888888888888, \"#fdca26\"], [1.0, \"#f0f921\"]], \"type\": \"histogram2dcontour\"}], \"mesh3d\": [{\"colorbar\": {\"outlinewidth\": 0, \"ticks\": \"\"}, \"type\": \"mesh3d\"}], \"parcoords\": [{\"line\": {\"colorbar\": {\"outlinewidth\": 0, \"ticks\": \"\"}}, \"type\": \"parcoords\"}], \"pie\": [{\"automargin\": true, \"type\": \"pie\"}], \"scatter\": [{\"marker\": {\"colorbar\": {\"outlinewidth\": 0, \"ticks\": \"\"}}, \"type\": \"scatter\"}], \"scatter3d\": [{\"line\": {\"colorbar\": {\"outlinewidth\": 0, \"ticks\": \"\"}}, \"marker\": {\"colorbar\": {\"outlinewidth\": 0, \"ticks\": \"\"}}, \"type\": \"scatter3d\"}], \"scattercarpet\": [{\"marker\": {\"colorbar\": {\"outlinewidth\": 0, \"ticks\": \"\"}}, \"type\": \"scattercarpet\"}], \"scattergeo\": [{\"marker\": {\"colorbar\": {\"outlinewidth\": 0, \"ticks\": \"\"}}, \"type\": \"scattergeo\"}], \"scattergl\": [{\"marker\": {\"colorbar\": {\"outlinewidth\": 0, \"ticks\": \"\"}}, \"type\": \"scattergl\"}], \"scattermapbox\": [{\"marker\": {\"colorbar\": {\"outlinewidth\": 0, \"ticks\": \"\"}}, \"type\": \"scattermapbox\"}], \"scatterpolar\": [{\"marker\": {\"colorbar\": {\"outlinewidth\": 0, \"ticks\": \"\"}}, \"type\": \"scatterpolar\"}], \"scatterpolargl\": [{\"marker\": {\"colorbar\": {\"outlinewidth\": 0, \"ticks\": \"\"}}, \"type\": \"scatterpolargl\"}], \"scatterternary\": [{\"marker\": {\"colorbar\": {\"outlinewidth\": 0, \"ticks\": \"\"}}, \"type\": \"scatterternary\"}], \"surface\": [{\"colorbar\": {\"outlinewidth\": 0, \"ticks\": \"\"}, \"colorscale\": [[0.0, \"#0d0887\"], [0.1111111111111111, \"#46039f\"], [0.2222222222222222, \"#7201a8\"], [0.3333333333333333, \"#9c179e\"], [0.4444444444444444, \"#bd3786\"], [0.5555555555555556, \"#d8576b\"], [0.6666666666666666, \"#ed7953\"], [0.7777777777777778, \"#fb9f3a\"], [0.8888888888888888, \"#fdca26\"], [1.0, \"#f0f921\"]], \"type\": \"surface\"}], \"table\": [{\"cells\": {\"fill\": {\"color\": \"#EBF0F8\"}, \"line\": {\"color\": \"white\"}}, \"header\": {\"fill\": {\"color\": \"#C8D4E3\"}, \"line\": {\"color\": \"white\"}}, \"type\": \"table\"}]}, \"layout\": {\"annotationdefaults\": {\"arrowcolor\": \"#2a3f5f\", \"arrowhead\": 0, \"arrowwidth\": 1}, \"coloraxis\": {\"colorbar\": {\"outlinewidth\": 0, \"ticks\": \"\"}}, \"colorscale\": {\"diverging\": [[0, \"#8e0152\"], [0.1, \"#c51b7d\"], [0.2, \"#de77ae\"], [0.3, \"#f1b6da\"], [0.4, \"#fde0ef\"], [0.5, \"#f7f7f7\"], [0.6, \"#e6f5d0\"], [0.7, \"#b8e186\"], [0.8, \"#7fbc41\"], [0.9, \"#4d9221\"], [1, \"#276419\"]], \"sequential\": [[0.0, \"#0d0887\"], [0.1111111111111111, \"#46039f\"], [0.2222222222222222, \"#7201a8\"], [0.3333333333333333, \"#9c179e\"], [0.4444444444444444, \"#bd3786\"], [0.5555555555555556, \"#d8576b\"], [0.6666666666666666, \"#ed7953\"], [0.7777777777777778, \"#fb9f3a\"], [0.8888888888888888, \"#fdca26\"], [1.0, \"#f0f921\"]], \"sequentialminus\": [[0.0, \"#0d0887\"], [0.1111111111111111, \"#46039f\"], [0.2222222222222222, \"#7201a8\"], [0.3333333333333333, \"#9c179e\"], [0.4444444444444444, \"#bd3786\"], [0.5555555555555556, \"#d8576b\"], [0.6666666666666666, \"#ed7953\"], [0.7777777777777778, \"#fb9f3a\"], [0.8888888888888888, \"#fdca26\"], [1.0, \"#f0f921\"]]}, \"colorway\": [\"#636efa\", \"#EF553B\", \"#00cc96\", \"#ab63fa\", \"#FFA15A\", \"#19d3f3\", \"#FF6692\", \"#B6E880\", \"#FF97FF\", \"#FECB52\"], \"font\": {\"color\": \"#2a3f5f\"}, \"geo\": {\"bgcolor\": \"white\", \"lakecolor\": \"white\", \"landcolor\": \"#E5ECF6\", \"showlakes\": true, \"showland\": true, \"subunitcolor\": \"white\"}, \"hoverlabel\": {\"align\": \"left\"}, \"hovermode\": \"closest\", \"mapbox\": {\"style\": \"light\"}, \"paper_bgcolor\": \"white\", \"plot_bgcolor\": \"#E5ECF6\", \"polar\": {\"angularaxis\": {\"gridcolor\": \"white\", \"linecolor\": \"white\", \"ticks\": \"\"}, \"bgcolor\": \"#E5ECF6\", \"radialaxis\": {\"gridcolor\": \"white\", \"linecolor\": \"white\", \"ticks\": \"\"}}, \"scene\": {\"xaxis\": {\"backgroundcolor\": \"#E5ECF6\", \"gridcolor\": \"white\", \"gridwidth\": 2, \"linecolor\": \"white\", \"showbackground\": true, \"ticks\": \"\", \"zerolinecolor\": \"white\"}, \"yaxis\": {\"backgroundcolor\": \"#E5ECF6\", \"gridcolor\": \"white\", \"gridwidth\": 2, \"linecolor\": \"white\", \"showbackground\": true, \"ticks\": \"\", \"zerolinecolor\": \"white\"}, \"zaxis\": {\"backgroundcolor\": \"#E5ECF6\", \"gridcolor\": \"white\", \"gridwidth\": 2, \"linecolor\": \"white\", \"showbackground\": true, \"ticks\": \"\", \"zerolinecolor\": \"white\"}}, \"shapedefaults\": {\"line\": {\"color\": \"#2a3f5f\"}}, \"ternary\": {\"aaxis\": {\"gridcolor\": \"white\", \"linecolor\": \"white\", \"ticks\": \"\"}, \"baxis\": {\"gridcolor\": \"white\", \"linecolor\": \"white\", \"ticks\": \"\"}, \"bgcolor\": \"#E5ECF6\", \"caxis\": {\"gridcolor\": \"white\", \"linecolor\": \"white\", \"ticks\": \"\"}}, \"title\": {\"x\": 0.05}, \"xaxis\": {\"automargin\": true, \"gridcolor\": \"white\", \"linecolor\": \"white\", \"ticks\": \"\", \"title\": {\"standoff\": 15}, \"zerolinecolor\": \"white\", \"zerolinewidth\": 2}, \"yaxis\": {\"automargin\": true, \"gridcolor\": \"white\", \"linecolor\": \"white\", \"ticks\": \"\", \"title\": {\"standoff\": 15}, \"zerolinecolor\": \"white\", \"zerolinewidth\": 2}}}, \"title\": {\"text\": \"day CGM\"}, \"xaxis\": {\"anchor\": \"y\", \"domain\": [0.0, 1.0], \"title\": {\"text\": \"Date\"}}, \"yaxis\": {\"anchor\": \"x\", \"domain\": [0.0, 1.0], \"title\": {\"text\": \"GlucoseValue\"}}},\n",
       "                        {\"responsive\": true}\n",
       "                    ).then(function(){\n",
       "                            \n",
       "var gd = document.getElementById('d8ac87c8-7aa2-42ac-a841-d61e0cbba450');\n",
       "var x = new MutationObserver(function (mutations, observer) {{\n",
       "        var display = window.getComputedStyle(gd).display;\n",
       "        if (!display || display === 'none') {{\n",
       "            console.log([gd, 'removed!']);\n",
       "            Plotly.purge(gd);\n",
       "            observer.disconnect();\n",
       "        }}\n",
       "}});\n",
       "\n",
       "// Listen for the removal of the full notebook cells\n",
       "var notebookContainer = gd.closest('#notebook-container');\n",
       "if (notebookContainer) {{\n",
       "    x.observe(notebookContainer, {childList: true});\n",
       "}}\n",
       "\n",
       "// Listen for the clearing of the current output cell\n",
       "var outputEl = gd.closest('.output');\n",
       "if (outputEl) {{\n",
       "    x.observe(outputEl, {childList: true});\n",
       "}}\n",
       "\n",
       "                        })\n",
       "                };\n",
       "                });\n",
       "            </script>\n",
       "        </div>"
      ]
     },
     "metadata": {},
     "output_type": "display_data"
    }
   ],
   "source": [
    "vis_cgm('492806', datetime.date(2017,5,4))"
   ]
  },
  {
   "cell_type": "code",
   "execution_count": 171,
   "metadata": {
    "ExecuteTime": {
     "end_time": "2020-04-13T22:05:29.274762Z",
     "start_time": "2020-04-13T22:05:29.245254Z"
    }
   },
   "outputs": [
    {
     "name": "stderr",
     "output_type": "stream",
     "text": [
      "/home/elming/anaconda3/envs/mylabdata/lib/python3.7/site-packages/ipykernel_launcher.py:1: PerformanceWarning:\n",
      "\n",
      "indexing past lexsort depth may impact performance.\n",
      "\n"
     ]
    },
    {
     "data": {
      "text/html": [
       "<div>\n",
       "<style scoped>\n",
       "    .dataframe tbody tr th:only-of-type {\n",
       "        vertical-align: middle;\n",
       "    }\n",
       "\n",
       "    .dataframe tbody tr th {\n",
       "        vertical-align: top;\n",
       "    }\n",
       "\n",
       "    .dataframe thead th {\n",
       "        text-align: right;\n",
       "    }\n",
       "</style>\n",
       "<table border=\"1\" class=\"dataframe\">\n",
       "  <thead>\n",
       "    <tr style=\"text-align: right;\">\n",
       "      <th></th>\n",
       "      <th></th>\n",
       "      <th>Date</th>\n",
       "      <th>sugarstotal_g</th>\n",
       "      <th>sodium_mg</th>\n",
       "      <th>carbohydrate_g</th>\n",
       "      <th>score</th>\n",
       "      <th>energy_kcal</th>\n",
       "      <th>protein_g</th>\n",
       "      <th>caffeine_mg</th>\n",
       "      <th>totaldietaryfiber_g</th>\n",
       "      <th>totallipid_g</th>\n",
       "      <th>weight</th>\n",
       "      <th>meal_type</th>\n",
       "    </tr>\n",
       "    <tr>\n",
       "      <th>RegistrationCode</th>\n",
       "      <th>Day</th>\n",
       "      <th></th>\n",
       "      <th></th>\n",
       "      <th></th>\n",
       "      <th></th>\n",
       "      <th></th>\n",
       "      <th></th>\n",
       "      <th></th>\n",
       "      <th></th>\n",
       "      <th></th>\n",
       "      <th></th>\n",
       "      <th></th>\n",
       "      <th></th>\n",
       "    </tr>\n",
       "  </thead>\n",
       "  <tbody>\n",
       "    <tr>\n",
       "      <th rowspan=\"5\" valign=\"top\">492806</th>\n",
       "      <th>2017-05-01</th>\n",
       "      <td>2017-05-01 07:13:55</td>\n",
       "      <td>0.682275</td>\n",
       "      <td>812.27500</td>\n",
       "      <td>41.726250</td>\n",
       "      <td>0.0</td>\n",
       "      <td>303.900000</td>\n",
       "      <td>17.607000</td>\n",
       "      <td>108.0</td>\n",
       "      <td>1.733820</td>\n",
       "      <td>7.423000</td>\n",
       "      <td>421.01</td>\n",
       "      <td>Meal</td>\n",
       "    </tr>\n",
       "    <tr>\n",
       "      <th>2017-05-01</th>\n",
       "      <td>2017-05-01 10:30:15</td>\n",
       "      <td>5.340000</td>\n",
       "      <td>42.00000</td>\n",
       "      <td>4.640000</td>\n",
       "      <td>0.0</td>\n",
       "      <td>62.000000</td>\n",
       "      <td>3.400000</td>\n",
       "      <td>48.0</td>\n",
       "      <td>0.200000</td>\n",
       "      <td>3.320000</td>\n",
       "      <td>200.00</td>\n",
       "      <td>Beverage</td>\n",
       "    </tr>\n",
       "    <tr>\n",
       "      <th>2017-05-01</th>\n",
       "      <td>2017-05-01 13:00:09</td>\n",
       "      <td>1.960000</td>\n",
       "      <td>3146.71752</td>\n",
       "      <td>46.934294</td>\n",
       "      <td>0.0</td>\n",
       "      <td>675.733016</td>\n",
       "      <td>39.404682</td>\n",
       "      <td>0.0</td>\n",
       "      <td>25.508253</td>\n",
       "      <td>30.504348</td>\n",
       "      <td>852.00</td>\n",
       "      <td>Meal</td>\n",
       "    </tr>\n",
       "    <tr>\n",
       "      <th>2017-05-01</th>\n",
       "      <td>2017-05-01 18:30:29</td>\n",
       "      <td>0.000000</td>\n",
       "      <td>923.74650</td>\n",
       "      <td>31.718324</td>\n",
       "      <td>0.0</td>\n",
       "      <td>507.800340</td>\n",
       "      <td>6.674913</td>\n",
       "      <td>42.6</td>\n",
       "      <td>6.505838</td>\n",
       "      <td>37.592490</td>\n",
       "      <td>281.01</td>\n",
       "      <td>Meal</td>\n",
       "    </tr>\n",
       "    <tr>\n",
       "      <th>2017-05-01</th>\n",
       "      <td>2017-05-01 23:02:32</td>\n",
       "      <td>0.384000</td>\n",
       "      <td>920.61160</td>\n",
       "      <td>15.041168</td>\n",
       "      <td>0.0</td>\n",
       "      <td>431.798620</td>\n",
       "      <td>4.390252</td>\n",
       "      <td>108.0</td>\n",
       "      <td>1.994230</td>\n",
       "      <td>39.312998</td>\n",
       "      <td>508.01</td>\n",
       "      <td>Meal</td>\n",
       "    </tr>\n",
       "  </tbody>\n",
       "</table>\n",
       "</div>"
      ],
      "text/plain": [
       "                                           Date  sugarstotal_g   sodium_mg  \\\n",
       "RegistrationCode Day                                                         \n",
       "492806           2017-05-01 2017-05-01 07:13:55       0.682275   812.27500   \n",
       "                 2017-05-01 2017-05-01 10:30:15       5.340000    42.00000   \n",
       "                 2017-05-01 2017-05-01 13:00:09       1.960000  3146.71752   \n",
       "                 2017-05-01 2017-05-01 18:30:29       0.000000   923.74650   \n",
       "                 2017-05-01 2017-05-01 23:02:32       0.384000   920.61160   \n",
       "\n",
       "                             carbohydrate_g  score  energy_kcal  protein_g  \\\n",
       "RegistrationCode Day                                                         \n",
       "492806           2017-05-01       41.726250    0.0   303.900000  17.607000   \n",
       "                 2017-05-01        4.640000    0.0    62.000000   3.400000   \n",
       "                 2017-05-01       46.934294    0.0   675.733016  39.404682   \n",
       "                 2017-05-01       31.718324    0.0   507.800340   6.674913   \n",
       "                 2017-05-01       15.041168    0.0   431.798620   4.390252   \n",
       "\n",
       "                             caffeine_mg  totaldietaryfiber_g  totallipid_g  \\\n",
       "RegistrationCode Day                                                          \n",
       "492806           2017-05-01        108.0             1.733820      7.423000   \n",
       "                 2017-05-01         48.0             0.200000      3.320000   \n",
       "                 2017-05-01          0.0            25.508253     30.504348   \n",
       "                 2017-05-01         42.6             6.505838     37.592490   \n",
       "                 2017-05-01        108.0             1.994230     39.312998   \n",
       "\n",
       "                             weight meal_type  \n",
       "RegistrationCode Day                           \n",
       "492806           2017-05-01  421.01      Meal  \n",
       "                 2017-05-01  200.00  Beverage  \n",
       "                 2017-05-01  852.00      Meal  \n",
       "                 2017-05-01  281.01      Meal  \n",
       "                 2017-05-01  508.01      Meal  "
      ]
     },
     "execution_count": 171,
     "metadata": {},
     "output_type": "execute_result"
    }
   ],
   "source": [
    "logdf.loc[('492806', '2017-05-01')]"
   ]
  },
  {
   "cell_type": "markdown",
   "metadata": {},
   "source": [
    "## Predict wg from the diet"
   ]
  },
  {
   "cell_type": "code",
   "execution_count": 150,
   "metadata": {
    "ExecuteTime": {
     "end_time": "2020-04-13T20:18:00.791775Z",
     "start_time": "2020-04-13T20:18:00.720978Z"
    },
    "scrolled": true
   },
   "outputs": [
    {
     "data": {
      "text/html": [
       "<div>\n",
       "<style scoped>\n",
       "    .dataframe tbody tr th:only-of-type {\n",
       "        vertical-align: middle;\n",
       "    }\n",
       "\n",
       "    .dataframe tbody tr th {\n",
       "        vertical-align: top;\n",
       "    }\n",
       "\n",
       "    .dataframe thead th {\n",
       "        text-align: right;\n",
       "    }\n",
       "</style>\n",
       "<table border=\"1\" class=\"dataframe\">\n",
       "  <thead>\n",
       "    <tr style=\"text-align: right;\">\n",
       "      <th></th>\n",
       "      <th></th>\n",
       "      <th>(0, sugarstotal_g)</th>\n",
       "      <th>(0, sodium_mg)</th>\n",
       "      <th>(0, carbohydrate_g)</th>\n",
       "      <th>(0, energy_kcal)</th>\n",
       "      <th>(0, protein_g)</th>\n",
       "      <th>(0, caffeine_mg)</th>\n",
       "      <th>(0, totaldietaryfiber_g)</th>\n",
       "      <th>(0, totallipid_g)</th>\n",
       "      <th>(0, weight)</th>\n",
       "      <th>(0, caloric%carbs)</th>\n",
       "      <th>...</th>\n",
       "      <th>(23, carbohydrate_g)</th>\n",
       "      <th>(23, energy_kcal)</th>\n",
       "      <th>(23, protein_g)</th>\n",
       "      <th>(23, caffeine_mg)</th>\n",
       "      <th>(23, totaldietaryfiber_g)</th>\n",
       "      <th>(23, totallipid_g)</th>\n",
       "      <th>(23, weight)</th>\n",
       "      <th>(23, caloric%carbs)</th>\n",
       "      <th>(23, caloric%fat)</th>\n",
       "      <th>wakeup_glucose</th>\n",
       "    </tr>\n",
       "    <tr>\n",
       "      <th>RegistrationCode</th>\n",
       "      <th>Day</th>\n",
       "      <th></th>\n",
       "      <th></th>\n",
       "      <th></th>\n",
       "      <th></th>\n",
       "      <th></th>\n",
       "      <th></th>\n",
       "      <th></th>\n",
       "      <th></th>\n",
       "      <th></th>\n",
       "      <th></th>\n",
       "      <th></th>\n",
       "      <th></th>\n",
       "      <th></th>\n",
       "      <th></th>\n",
       "      <th></th>\n",
       "      <th></th>\n",
       "      <th></th>\n",
       "      <th></th>\n",
       "      <th></th>\n",
       "      <th></th>\n",
       "      <th></th>\n",
       "    </tr>\n",
       "  </thead>\n",
       "  <tbody>\n",
       "    <tr>\n",
       "      <th rowspan=\"5\" valign=\"top\">111527</th>\n",
       "      <th>2017-11-11</th>\n",
       "      <td>0.0</td>\n",
       "      <td>0.0</td>\n",
       "      <td>0.0</td>\n",
       "      <td>0.0</td>\n",
       "      <td>0.0</td>\n",
       "      <td>0.0</td>\n",
       "      <td>0.0</td>\n",
       "      <td>0.0</td>\n",
       "      <td>0.0</td>\n",
       "      <td>0.0</td>\n",
       "      <td>...</td>\n",
       "      <td>0.0</td>\n",
       "      <td>0.0</td>\n",
       "      <td>0.0</td>\n",
       "      <td>0.0</td>\n",
       "      <td>0.0</td>\n",
       "      <td>0.0</td>\n",
       "      <td>0.0</td>\n",
       "      <td>0.0</td>\n",
       "      <td>0.0</td>\n",
       "      <td>0.258042</td>\n",
       "    </tr>\n",
       "    <tr>\n",
       "      <th>2017-11-12</th>\n",
       "      <td>0.0</td>\n",
       "      <td>0.0</td>\n",
       "      <td>0.0</td>\n",
       "      <td>0.0</td>\n",
       "      <td>0.0</td>\n",
       "      <td>0.0</td>\n",
       "      <td>0.0</td>\n",
       "      <td>0.0</td>\n",
       "      <td>0.0</td>\n",
       "      <td>0.0</td>\n",
       "      <td>...</td>\n",
       "      <td>0.0</td>\n",
       "      <td>0.0</td>\n",
       "      <td>0.0</td>\n",
       "      <td>0.0</td>\n",
       "      <td>0.0</td>\n",
       "      <td>0.0</td>\n",
       "      <td>0.0</td>\n",
       "      <td>0.0</td>\n",
       "      <td>0.0</td>\n",
       "      <td>1.326333</td>\n",
       "    </tr>\n",
       "    <tr>\n",
       "      <th>2017-11-13</th>\n",
       "      <td>0.0</td>\n",
       "      <td>0.0</td>\n",
       "      <td>0.0</td>\n",
       "      <td>0.0</td>\n",
       "      <td>0.0</td>\n",
       "      <td>0.0</td>\n",
       "      <td>0.0</td>\n",
       "      <td>0.0</td>\n",
       "      <td>0.0</td>\n",
       "      <td>0.0</td>\n",
       "      <td>...</td>\n",
       "      <td>0.0</td>\n",
       "      <td>0.0</td>\n",
       "      <td>0.0</td>\n",
       "      <td>0.0</td>\n",
       "      <td>0.0</td>\n",
       "      <td>0.0</td>\n",
       "      <td>0.0</td>\n",
       "      <td>0.0</td>\n",
       "      <td>0.0</td>\n",
       "      <td>1.140544</td>\n",
       "    </tr>\n",
       "    <tr>\n",
       "      <th>2017-11-14</th>\n",
       "      <td>0.0</td>\n",
       "      <td>0.0</td>\n",
       "      <td>0.0</td>\n",
       "      <td>0.0</td>\n",
       "      <td>0.0</td>\n",
       "      <td>0.0</td>\n",
       "      <td>0.0</td>\n",
       "      <td>0.0</td>\n",
       "      <td>0.0</td>\n",
       "      <td>0.0</td>\n",
       "      <td>...</td>\n",
       "      <td>0.0</td>\n",
       "      <td>0.0</td>\n",
       "      <td>0.0</td>\n",
       "      <td>0.0</td>\n",
       "      <td>0.0</td>\n",
       "      <td>0.0</td>\n",
       "      <td>0.0</td>\n",
       "      <td>0.0</td>\n",
       "      <td>0.0</td>\n",
       "      <td>0.350936</td>\n",
       "    </tr>\n",
       "    <tr>\n",
       "      <th>2017-11-16</th>\n",
       "      <td>0.0</td>\n",
       "      <td>0.0</td>\n",
       "      <td>0.0</td>\n",
       "      <td>0.0</td>\n",
       "      <td>0.0</td>\n",
       "      <td>0.0</td>\n",
       "      <td>0.0</td>\n",
       "      <td>0.0</td>\n",
       "      <td>0.0</td>\n",
       "      <td>0.0</td>\n",
       "      <td>...</td>\n",
       "      <td>0.0</td>\n",
       "      <td>0.0</td>\n",
       "      <td>0.0</td>\n",
       "      <td>0.0</td>\n",
       "      <td>0.0</td>\n",
       "      <td>0.0</td>\n",
       "      <td>0.0</td>\n",
       "      <td>0.0</td>\n",
       "      <td>0.0</td>\n",
       "      <td>-0.670908</td>\n",
       "    </tr>\n",
       "  </tbody>\n",
       "</table>\n",
       "<p>5 rows × 254 columns</p>\n",
       "</div>"
      ],
      "text/plain": [
       "                             (0, sugarstotal_g)  (0, sodium_mg)  \\\n",
       "RegistrationCode Day                                              \n",
       "111527           2017-11-11                 0.0             0.0   \n",
       "                 2017-11-12                 0.0             0.0   \n",
       "                 2017-11-13                 0.0             0.0   \n",
       "                 2017-11-14                 0.0             0.0   \n",
       "                 2017-11-16                 0.0             0.0   \n",
       "\n",
       "                             (0, carbohydrate_g)  (0, energy_kcal)  \\\n",
       "RegistrationCode Day                                                 \n",
       "111527           2017-11-11                  0.0               0.0   \n",
       "                 2017-11-12                  0.0               0.0   \n",
       "                 2017-11-13                  0.0               0.0   \n",
       "                 2017-11-14                  0.0               0.0   \n",
       "                 2017-11-16                  0.0               0.0   \n",
       "\n",
       "                             (0, protein_g)  (0, caffeine_mg)  \\\n",
       "RegistrationCode Day                                            \n",
       "111527           2017-11-11             0.0               0.0   \n",
       "                 2017-11-12             0.0               0.0   \n",
       "                 2017-11-13             0.0               0.0   \n",
       "                 2017-11-14             0.0               0.0   \n",
       "                 2017-11-16             0.0               0.0   \n",
       "\n",
       "                             (0, totaldietaryfiber_g)  (0, totallipid_g)  \\\n",
       "RegistrationCode Day                                                       \n",
       "111527           2017-11-11                       0.0                0.0   \n",
       "                 2017-11-12                       0.0                0.0   \n",
       "                 2017-11-13                       0.0                0.0   \n",
       "                 2017-11-14                       0.0                0.0   \n",
       "                 2017-11-16                       0.0                0.0   \n",
       "\n",
       "                             (0, weight)  (0, caloric%carbs)  ...  \\\n",
       "RegistrationCode Day                                          ...   \n",
       "111527           2017-11-11          0.0                 0.0  ...   \n",
       "                 2017-11-12          0.0                 0.0  ...   \n",
       "                 2017-11-13          0.0                 0.0  ...   \n",
       "                 2017-11-14          0.0                 0.0  ...   \n",
       "                 2017-11-16          0.0                 0.0  ...   \n",
       "\n",
       "                             (23, carbohydrate_g)  (23, energy_kcal)  \\\n",
       "RegistrationCode Day                                                   \n",
       "111527           2017-11-11                   0.0                0.0   \n",
       "                 2017-11-12                   0.0                0.0   \n",
       "                 2017-11-13                   0.0                0.0   \n",
       "                 2017-11-14                   0.0                0.0   \n",
       "                 2017-11-16                   0.0                0.0   \n",
       "\n",
       "                             (23, protein_g)  (23, caffeine_mg)  \\\n",
       "RegistrationCode Day                                              \n",
       "111527           2017-11-11              0.0                0.0   \n",
       "                 2017-11-12              0.0                0.0   \n",
       "                 2017-11-13              0.0                0.0   \n",
       "                 2017-11-14              0.0                0.0   \n",
       "                 2017-11-16              0.0                0.0   \n",
       "\n",
       "                             (23, totaldietaryfiber_g)  (23, totallipid_g)  \\\n",
       "RegistrationCode Day                                                         \n",
       "111527           2017-11-11                        0.0                 0.0   \n",
       "                 2017-11-12                        0.0                 0.0   \n",
       "                 2017-11-13                        0.0                 0.0   \n",
       "                 2017-11-14                        0.0                 0.0   \n",
       "                 2017-11-16                        0.0                 0.0   \n",
       "\n",
       "                             (23, weight)  (23, caloric%carbs)  \\\n",
       "RegistrationCode Day                                             \n",
       "111527           2017-11-11           0.0                  0.0   \n",
       "                 2017-11-12           0.0                  0.0   \n",
       "                 2017-11-13           0.0                  0.0   \n",
       "                 2017-11-14           0.0                  0.0   \n",
       "                 2017-11-16           0.0                  0.0   \n",
       "\n",
       "                             (23, caloric%fat)  wakeup_glucose  \n",
       "RegistrationCode Day                                            \n",
       "111527           2017-11-11                0.0        0.258042  \n",
       "                 2017-11-12                0.0        1.326333  \n",
       "                 2017-11-13                0.0        1.140544  \n",
       "                 2017-11-14                0.0        0.350936  \n",
       "                 2017-11-16                0.0       -0.670908  \n",
       "\n",
       "[5 rows x 254 columns]"
      ]
     },
     "execution_count": 150,
     "metadata": {},
     "output_type": "execute_result"
    }
   ],
   "source": [
    "data_df = pd.merge(hourly_log, wg_df_z, on = ['RegistrationCode', 'Day']).set_index('Day', append=True)\n",
    "data_df.head()"
   ]
  },
  {
   "cell_type": "markdown",
   "metadata": {},
   "source": [
    "1632 rows left in total only, bcs many days get filtered out having less than 1000 kcal per day."
   ]
  },
  {
   "cell_type": "code",
   "execution_count": 152,
   "metadata": {
    "ExecuteTime": {
     "end_time": "2020-04-13T20:21:32.006942Z",
     "start_time": "2020-04-13T20:21:25.522688Z"
    }
   },
   "outputs": [
    {
     "name": "stdout",
     "output_type": "stream",
     "text": [
      "K-fold CV average score: -0.09\n"
     ]
    },
    {
     "data": {
      "text/plain": [
       "-0.055193711132924594"
      ]
     },
     "execution_count": 152,
     "metadata": {},
     "output_type": "execute_result"
    }
   ],
   "source": [
    "X,y = data_df.iloc[:,0:-1], pd.DataFrame(data_df.iloc[:,-1])\n",
    "X_train, X_test, y_train, y_test=train_test_split(X, y, test_size=0.2, random_state=383)\n",
    "\n",
    "xgbr = xgb.XGBRegressor(objective ='reg:squarederror', learning_rate = 0.1,\n",
    "                max_depth = 5, n_estimators = 100) \n",
    "\n",
    "xgbr.fit(X_train, y_train)\n",
    "\n",
    "kfold = KFold(n_splits=3, shuffle=True)\n",
    "kf_cv_scores = cross_val_score(xgbr, X_train, y_train, cv=kfold )\n",
    "print(\"K-fold CV average score: %.2f\" % ( kf_cv_scores.mean()))\n",
    "\n",
    "y_pred = xgbr.predict(X_test)\n",
    "r2_score(y_test, y_pred)"
   ]
  },
  {
   "cell_type": "markdown",
   "metadata": {},
   "source": [
    "Why could the prediction not work?\n",
    "- I think mostly because of the wrong way of looking at the wake up glucose.\n",
    "    - 5-6 am is lower than 6-7. For example a person experiences rise in blood glucose around 6 am. On a particular day this person ate earlier than usual (6:40), so I will shift my estimation to 5-6 and it will capture too low values even though wg just before breakfast was around his usual levels. \n",
    "    - if I do the estimation just before the breakfast, then it is also biased. Maybe on some day a person just didn't have any food for several hours after wake up, so his glucose went down a lot before the first meal. The diet in the day before will not explain this extremely low value."
   ]
  },
  {
   "cell_type": "code",
   "execution_count": null,
   "metadata": {},
   "outputs": [],
   "source": []
  }
 ],
 "metadata": {
  "kernelspec": {
   "display_name": "Python 3",
   "language": "python",
   "name": "python3"
  },
  "language_info": {
   "codemirror_mode": {
    "name": "ipython",
    "version": 3
   },
   "file_extension": ".py",
   "mimetype": "text/x-python",
   "name": "python",
   "nbconvert_exporter": "python",
   "pygments_lexer": "ipython3",
   "version": "3.7.5"
  },
  "toc": {
   "base_numbering": 1,
   "nav_menu": {},
   "number_sections": true,
   "sideBar": true,
   "skip_h1_title": false,
   "title_cell": "Table of Contents",
   "title_sidebar": "Contents",
   "toc_cell": false,
   "toc_position": {
    "height": "calc(100% - 180px)",
    "left": "10px",
    "top": "150px",
    "width": "349.091px"
   },
   "toc_section_display": true,
   "toc_window_display": true
  },
  "varInspector": {
   "cols": {
    "lenName": 16,
    "lenType": 16,
    "lenVar": 40
   },
   "kernels_config": {
    "python": {
     "delete_cmd_postfix": "",
     "delete_cmd_prefix": "del ",
     "library": "var_list.py",
     "varRefreshCmd": "print(var_dic_list())"
    },
    "r": {
     "delete_cmd_postfix": ") ",
     "delete_cmd_prefix": "rm(",
     "library": "var_list.r",
     "varRefreshCmd": "cat(var_dic_list()) "
    }
   },
   "types_to_exclude": [
    "module",
    "function",
    "builtin_function_or_method",
    "instance",
    "_Feature"
   ],
   "window_display": false
  }
 },
 "nbformat": 4,
 "nbformat_minor": 2
}
